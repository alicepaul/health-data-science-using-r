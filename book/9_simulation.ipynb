{
 "cells": [
  {
   "cell_type": "markdown",
   "id": "decec34a",
   "metadata": {},
   "source": [
    "# 9. Simulation and Replicating Code"
   ]
  },
  {
   "cell_type": "markdown",
   "id": "e215aae8",
   "metadata": {},
   "source": [
    "## Writing a Loop\n",
    "\n",
    "For loops, store results\n",
    "\n",
    "Example: y and x unrelated find p-value for correlation"
   ]
  },
  {
   "cell_type": "markdown",
   "id": "034b6a34",
   "metadata": {},
   "source": [
    "## Creating a Function\n",
    "\n",
    "Code in function\n",
    "\n",
    "Example above\n",
    "\n",
    "Example: Find top five most correlated variables "
   ]
  },
  {
   "cell_type": "markdown",
   "id": "027125aa",
   "metadata": {},
   "source": [
    "## Avoiding Loops\n",
    "\n",
    "replicate, lapply/sapply\n",
    "\n",
    "Repeat examples"
   ]
  },
  {
   "cell_type": "markdown",
   "id": "62dd77c5",
   "metadata": {},
   "source": [
    "## SIR Model Example"
   ]
  },
  {
   "cell_type": "markdown",
   "id": "7af8567b",
   "metadata": {},
   "source": [
    "VIDEO: Markov chain example"
   ]
  },
  {
   "cell_type": "code",
   "execution_count": null,
   "id": "c99a61e5",
   "metadata": {},
   "outputs": [],
   "source": []
  }
 ],
 "metadata": {
  "kernelspec": {
   "display_name": "R",
   "language": "R",
   "name": "ir"
  },
  "language_info": {
   "codemirror_mode": "r",
   "file_extension": ".r",
   "mimetype": "text/x-r-source",
   "name": "R",
   "pygments_lexer": "r",
   "version": "4.3.1"
  }
 },
 "nbformat": 4,
 "nbformat_minor": 5
}
