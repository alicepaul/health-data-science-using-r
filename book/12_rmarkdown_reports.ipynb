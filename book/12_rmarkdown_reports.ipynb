{
 "cells": [
  {
   "cell_type": "markdown",
   "id": "decec34a",
   "metadata": {},
   "source": [
    "# 12. Writing Reports with R Markdown\n",
    "\n",
    "This chapter will introduce you to R Markdown as a method of making polished reports describing your analyses.\n",
    "\n",
    "## Creating an R Markdown file\n",
    "\n",
    "To create an R Markdown file, you will need to have RStudio installed as an application. First, you'll want to install the **rmarkdown** package in addition to the **knitr** package by entering the following code into the RStudio console: `install.packages(\"rmarkdown\", \"knitr\")`"
   ]
  },
  {
   "cell_type": "markdown",
   "id": "23e87768",
   "metadata": {},
   "source": [
    "Now that you have these packages downloaded, opening a new R Markdown file is very similar to opening a new R file, which was covered in Chapter 1. Just like opening a new R file, you'll want to go to File -> New File, but instead of selecting 'R Script', you'll now select 'R Markdown...'. This should bring up a window that looks like the following:\n",
    "\n",
    "<img src=\"images/12-new-r-markdown-window.png\" alt= “” width=\"400pt\" align=\"center\">"
   ]
  },
  {
   "cell_type": "markdown",
   "id": "fa84ff66",
   "metadata": {},
   "source": [
    "First, enter a title of your choosing for your report and type your name in the Author field - note that you can always change these later - and then click on OK. This will open an R Markdown file that has the extension .Rmd. Make sure to save this file with a suitable name in your desired location on your computer by selecting File -> Save, and then you're ready to start writing your report!"
   ]
  },
  {
   "cell_type": "markdown",
   "id": "b836db3e",
   "metadata": {},
   "source": [
    "Your file should look like this:\n",
    "\n",
    "<img src=\"images/12-r-markdown-file.png\" alt= “” width=\"1000pt\" align=\"center\">"
   ]
  },
  {
   "cell_type": "markdown",
   "id": "d5a15aac",
   "metadata": {},
   "source": [
    "## Creating Code Chunks\n",
    "\n",
    "Each of the darker gray rectangles is called a code chunk - all of the code used to generate your report will go in these chunks, and all of your writing will go between them. Each code chunk starts with ` ```{r} ` and ends with ` ``` `. To create a chunk, you can either \n",
    "\n",
    "* click on this green \"add chunk\" symbol <img src=\"images/12-add-chunk.png\" alt= “” width=\"30pt\" align=\"left\"> in the toolbar at the top of the page\n",
    "* type ` ```{r} ` and ` ``` `\n",
    "* use the keyboard shortcut **Ctrl + Alt + I** (**Cmd + Option + I** on Macs)\n",
    "\n",
    "To run the code in a chunk, you can either use the keyboard shortcut **Ctrl + Enter** (**Cmd + Return** on Macs), or you can use one of the following buttons at the top right of the chunks:\n",
    "* <img src=\"images/12-run-all-chunks-above.png\" alt= “” width=\"20pt\" align=\"left\"> runs all chunks above the current chunk\n",
    "* <img src=\"images/12-run-current-chunk.png\" alt= “” width=\"20pt\" align=\"left\"> runs the current chunk"
   ]
  },
  {
   "cell_type": "markdown",
   "id": "09437316",
   "metadata": {},
   "source": [
    "## Customizing Chunks\n",
    "\n",
    "You can specify whether you want to include the code and/or its various output in your final report by adding the following commands, separated by commas, to the right of the `{r}` at the top of the code chunk:\n",
    "\n",
    "* `include = FALSE` makes it so that neither code nor its output will appear in your report\n",
    "* `echo = FALSE` makes it so that the output of the code but not the code itself will appear in your report\n",
    "* `message = FALSE`, `warning = FALSE`, and `error = FALSE` makes it so that messages, warnings, and errors (respectively) that are generated from the code in the chunk won't appear in your report \n",
    "\n",
    "To customize a single code chunk, you can either type one of the above commands next to the `{r}` at the top of the code chunk by yourself or you can click on the settings symbol at the top right of the code chunk and toggle your desired settings there. To apply the same customizations to all chunks in the document at once, you can add them to the chunk at the very top of your R Markdown that starts with ` ```{r setup, include=FALSE} ` using the `knitr::opts_chunk$set` function. For example, the following code will make it so that none of the errors, warnings, or messages from any of the code chunks will appear in your final report.\n",
    "\n",
    "<img src=\"images/12-global-chunk-settings.png\" alt= “” width=\"800pt\" align=\"center\">"
   ]
  },
  {
   "cell_type": "markdown",
   "id": "017926cf",
   "metadata": {},
   "source": [
    "## Loading Packages\n",
    "It's good practice to load all of the packages that you are using for your report at the top of your .Rmd file - you can put them in a chunk right below the global settings chunk that we described above and include the option `include = FALSE`. "
   ]
  },
  {
   "cell_type": "markdown",
   "id": "f078f9cf",
   "metadata": {},
   "source": [
    "## Adding in Text and Headers\n",
    "To add text to your report, you can simply type directly into the R Markdown file, between the code chunks. To make headers, you can add the `#` symbol in front of your text. Adding more of these symbols makes the headers smaller.\n",
    "For example, `# Header ` , `## Smaller Header `, `### Even Smaller Header ` makes \n",
    "\n",
    "# <center>Header</center>\n",
    "## <center>Smaller Header</center>\n",
    "### <center>Even Smaller Header</center>"
   ]
  },
  {
   "cell_type": "markdown",
   "id": "5d8431e0",
   "metadata": {},
   "source": [
    "## Creating a Code Appendix\n",
    "If you want to add a code appendix to your report, you can easily do this by creating an empty chunk at the end of your .Rmd file with the chunk options ` ```{r ref.label=knitr::all_labels(), echo=TRUE, eval=FALSE} ``` `."
   ]
  },
  {
   "cell_type": "markdown",
   "id": "8ed26304",
   "metadata": {},
   "source": [
    "## Formatting Figures\n",
    "\n",
    "Add in description of adding `fig.pos = \"H\", out.extra = ''` in global options, customizing chunks by changing size and captions with `out.width=\"50%\", fig.cap=\"A nice image.\"`"
   ]
  },
  {
   "cell_type": "markdown",
   "id": "19de44fb",
   "metadata": {},
   "source": [
    "## Formatting Tables\n",
    "\n",
    "Add in description of `kbl(caption, col.names) %>% kable_styling(latex_options = c(\"scale_down\", \"HOLD_position\"))`"
   ]
  },
  {
   "cell_type": "markdown",
   "id": "e8509932",
   "metadata": {},
   "source": [
    "## Adding in Equations \n",
    "\n",
    "Describe how to put math equations inline "
   ]
  },
  {
   "cell_type": "code",
   "execution_count": null,
   "id": "8ee7caba",
   "metadata": {},
   "outputs": [],
   "source": []
  }
 ],
 "metadata": {
  "kernelspec": {
   "display_name": "R",
   "language": "R",
   "name": "ir"
  },
  "language_info": {
   "codemirror_mode": "r",
   "file_extension": ".r",
   "mimetype": "text/x-r-source",
   "name": "R",
   "pygments_lexer": "r",
   "version": "4.3.1"
  }
 },
 "nbformat": 4,
 "nbformat_minor": 5
}
