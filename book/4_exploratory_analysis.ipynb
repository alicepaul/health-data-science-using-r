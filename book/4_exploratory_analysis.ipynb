{
 "cells": [
  {
   "cell_type": "markdown",
   "id": "decec34a",
   "metadata": {},
   "source": [
    "# Exploring Data "
   ]
  },
  {
   "cell_type": "markdown",
   "id": "57501f9a",
   "metadata": {},
   "source": [
    "## Exercises"
   ]
  },
  {
   "cell_type": "markdown",
   "id": "de6378a3",
   "metadata": {},
   "source": [
    "For these exercises, we will be using the **NHANES** data."
   ]
  },
  {
   "cell_type": "markdown",
   "id": "f456cd4f",
   "metadata": {},
   "source": [
    "1. Using the numerical and graphical summaries, describe the distribution of diastolic blood pressure `dbp` and `age` among study participants, respectively. \n"
   ]
  },
  {
   "cell_type": "code",
   "execution_count": null,
   "id": "5b05d3b0",
   "metadata": {},
   "outputs": [],
   "source": [
    "## solutions:\n",
    "library(RforHDSdata)\n",
    "data(NHANESsample)\n",
    "\n",
    "# bbp\n",
    "summary(NHANESsample$dbp)\n",
    "hist(NHANESsample$dbp)\n",
    "\n",
    "# age\n",
    "summary(NHANESsample$age)\n",
    "hist(NHANESsample$age)"
   ]
  },
  {
   "cell_type": "markdown",
   "id": "689db6f5",
   "metadata": {},
   "source": [
    "2. Subset 20-to-55-year-old females and randomly select 1000 participants from the entire dataset. Using the random sample, `nhanes.samp`, explore how does blood pressure vary by age? Is there a remarkable trend in blood pressure between those females? \n"
   ]
  },
  {
   "cell_type": "code",
   "execution_count": null,
   "id": "79730aad",
   "metadata": {},
   "outputs": [],
   "source": [
    "NHANESsample.subset <- subset(NHANESsample, \n",
    "                              NHANESsample$sex==\"Female\" & NHANESsample$age>=20 & NHANESsample$age<=55)\n",
    "nhanes.samp <- sample_n(NHANESsample.subset, size=1000, replace = FALSE)\n",
    "plot(nhanes.samp$age, nhanes.samp$dbp)"
   ]
  },
  {
   "cell_type": "markdown",
   "id": "5dd4feee",
   "metadata": {},
   "source": [
    "3. Repeat exercise 2 for males."
   ]
  },
  {
   "cell_type": "code",
   "execution_count": null,
   "id": "7ffd254c",
   "metadata": {},
   "outputs": [],
   "source": [
    "subset.males <- subset(NHANESsample, \n",
    "                              NHANESsample$sex==\"Male\" & NHANESsample$age>=20 & NHANESsample$age<=55)\n",
    "nhanes.samp.males <- sample_n(subset.males, size=1000, replace = FALSE)\n",
    "plot(nhanes.samp.males$age, nhanes.samp.males$dbp)"
   ]
  },
  {
   "cell_type": "markdown",
   "id": "2aaf4f82",
   "metadata": {},
   "source": [
    "4. For males between the ages of 50-59, compare blood pressure across race as reported in the race variable. Order resulting tables from lowest to highest average blood pressure."
   ]
  },
  {
   "cell_type": "code",
   "execution_count": null,
   "id": "ec05bea2",
   "metadata": {},
   "outputs": [],
   "source": [
    "subset.males.1 <- subset(NHANESsample, \n",
    "                         NHANESsample$sex==\"Male\" & NHANESsample$age>=50 & NHANESsample$age<=59)\n",
    "subset.males.1$race <- as.factor(subset.males.1$race)\n",
    "boxplot(subset.males.1$dbp ~ subset.males.1$race)\n",
    "\n",
    "levels(subset.males.1$race)\n",
    "summary(subset.males.1$dbp[subset.males.1$race==\"Non-Hispanic White\"])[4]\n",
    "summary(subset.males.1$dbp[subset.males.1$race==\"Mexican American\"])[4]\n",
    "summary(subset.males.1$dbp[subset.males.1$race==\"Other Race\" ])[4]\n",
    "summary(subset.males.1$dbp[subset.males.1$race==\"Other Hispanic\"])[4]\n",
    "summary(subset.males.1$dbp[subset.males.1$race==\"Non-Hispanic Black\"])[4]"
   ]
  },
  {
   "cell_type": "markdown",
   "id": "0ee433db",
   "metadata": {},
   "source": [
    "5. Examine the relationship between BMI levels with blood pressure, age, and income using appropriate correlation matrices and probability.\n"
   ]
  },
  {
   "cell_type": "code",
   "execution_count": null,
   "id": "8e9f6fbc",
   "metadata": {},
   "outputs": [],
   "source": [
    "library(ggcorrplot)\n",
    "corr <- round(cor(NHANESsample[,c(2,6,11)]), 1)\n",
    "ggcorrplot(corr, method = \"square\")"
   ]
  }
 ],
 "metadata": {
  "kernelspec": {
   "display_name": "R",
   "language": "R",
   "name": "ir"
  },
  "language_info": {
   "codemirror_mode": "r",
   "file_extension": ".r",
   "mimetype": "text/x-r-source",
   "name": "R",
   "pygments_lexer": "r",
   "version": "4.1.1"
  }
 },
 "nbformat": 4,
 "nbformat_minor": 5
}
