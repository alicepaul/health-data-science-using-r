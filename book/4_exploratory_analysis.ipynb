{
 "cells": [
  {
   "cell_type": "markdown",
   "id": "decec34a",
   "metadata": {},
   "source": [
    "# 4. Intro to Exploratory Data Analysis\n",
    "\n",
    "In the last chapter, we learned about loading data into R and practiced selecting and summarizing columns and rows of the data. In this chapter, we will learn how to conduct more exploratory analysis focusing on the univariate and bivariate sample distributions. The first half focuses on using base R to create basic plots and summaries. In the second half, we show how to utilize create summary plots using the `GGally` package and tables using the `gt` and `gtsummary` packages."
   ]
  },
  {
   "cell_type": "code",
   "execution_count": 1,
   "id": "a038dd41",
   "metadata": {},
   "outputs": [
    {
     "ename": "ERROR",
     "evalue": "Error in library(gt): there is no package called ‘gt’\n",
     "output_type": "error",
     "traceback": [
      "Error in library(gt): there is no package called ‘gt’\nTraceback:\n",
      "1. library(gt)"
     ]
    }
   ],
   "source": [
    "library(RforHDSdata) \n",
    "suppressPackageStartupMessages(library(GGally)) \n",
    "library(gt) \n",
    "library(gtsummary)"
   ]
  },
  {
   "cell_type": "markdown",
   "id": "1cc966b1",
   "metadata": {},
   "source": [
    "## Univariate Distributions\n",
    "\n",
    "We will use a samples of the National Health and Nutrition Examination Survey ([NHANES](https://www.cdc.gov/nchs/nhanes/index.htm)). The sample contains lead, blood pressure, BMI, smoking status, alcohol use, and demographic variables from NHANES 1999-2018. There are 31,625 observations in this sample. Use the help operator `?NHANESsample` to read the variable descriptions."
   ]
  },
  {
   "cell_type": "code",
   "execution_count": null,
   "id": "611c420f",
   "metadata": {},
   "outputs": [],
   "source": [
    "data(NHANESsample)\n",
    "dim(NHANESsample)\n",
    "names(NHANESsample)"
   ]
  },
  {
   "cell_type": "markdown",
   "id": "17eb60aa",
   "metadata": {},
   "source": [
    "To start our exploration, we will look at whether there are any missing values. We use the `complete.cases()` function to observe that there are no complete cases. We also see that the subsequent blood pressure measurements and alcohol use have the highest percentage of missing values. For demonstration, we chose to only keep the first systolic an diastolic blood pressure measurement and do a complete case analysis using the `na.omit()` function to define our complete data frame `nhanes_df`. "
   ]
  },
  {
   "cell_type": "code",
   "execution_count": null,
   "id": "ec595f4f",
   "metadata": {},
   "outputs": [],
   "source": [
    "sum(complete.cases(NHANESsample))\n",
    "apply(NHANESsample, 2, function(x) sum(is.na(x)))/nrow(NHANESsample)"
   ]
  },
  {
   "cell_type": "code",
   "execution_count": null,
   "id": "ea9104e7",
   "metadata": {},
   "outputs": [],
   "source": [
    "nhanes_df <- na.omit(subset(NHANESsample, select= -c(SBP2, SBP3, SBP4, DBP2, DBP3, DBP4)))"
   ]
  },
  {
   "cell_type": "markdown",
   "id": "1a8561b7",
   "metadata": {},
   "source": [
    "In the last chapter, we introduced the `table()` and `summary()` functions to quickly summarize categorical and quantitative vectors. "
   ]
  },
  {
   "cell_type": "code",
   "execution_count": null,
   "id": "5740f719",
   "metadata": {},
   "outputs": [],
   "source": [
    "table(nhanes_df$SMOKE)\n",
    "summary(nhanes_df$YEAR)"
   ]
  },
  {
   "cell_type": "markdown",
   "id": "cd82334a",
   "metadata": {},
   "source": [
    "We decide to select the most recent observations from NHANES 2017-2018 for our analysis in this chapter. We use the `subset()` function to select these rows. "
   ]
  },
  {
   "cell_type": "code",
   "execution_count": null,
   "id": "22f676f4",
   "metadata": {},
   "outputs": [],
   "source": [
    "nhanes_df <- subset(nhanes_df, nhanes_df$YEAR==2017)"
   ]
  },
  {
   "cell_type": "markdown",
   "id": "12a43dd5",
   "metadata": {},
   "source": [
    "As shown above, smoking status has been coded into three categories. We want to create a new variable to represent whether someone has ever smoked. To do so, we use the `ifelse()` function. This function allows us to create a new vector using some logic. The logic captured by this function is that we will take one value if we meet some condition(s) and we will use a second value otherwise. The first argument is a vector of TRUE/FALSE values representing the conditions, the next argument is the value to use if we meet the condition(s), and the last argument is the value to use otherwise. We use this function to create a new vector `EVER_SMOKE` that equals \"Yes\" for those who are either still smoking or quit smoking and \"No\" otherwise. "
   ]
  },
  {
   "cell_type": "code",
   "execution_count": null,
   "id": "744fba67",
   "metadata": {},
   "outputs": [],
   "source": [
    "nhanes_df$EVER_SMOKE <- ifelse(nhanes_df$SMOKE %in% c(\"QuitSmoke\", \"StillSmoke\"), \"Yes\", \"No\")\n",
    "table(nhanes_df$EVER_SMOKE)"
   ]
  },
  {
   "cell_type": "markdown",
   "id": "5cae55f1",
   "metadata": {},
   "source": [
    "The `summary()` and `table()` functions allow us to summarize the univariate sample distributions of columns. We may also want to plot these distributions. We saw in the last chapter that the `hist()` function creates a histogram plot. Below we use this to plot a histogram of the log transformation of the lead column."
   ]
  },
  {
   "cell_type": "code",
   "execution_count": null,
   "id": "facb9e4f",
   "metadata": {},
   "outputs": [],
   "source": [
    "hist(log(nhanes_df$LEAD))"
   ]
  },
  {
   "cell_type": "markdown",
   "id": "0ecc5466",
   "metadata": {},
   "source": [
    "If we want to polish this figure, we can use some of the other optional arguments to the function.  For example, we may want to update the text `log(nhanes_df$lead)` in the title and x-axis. Below we update the [color](http://www.stat.columbia.edu/~tzheng/files/Rcolor.pdf), labels, and number of bins for the plot. The argument `breaks` specifies the number of bins to use to create the histogram, `col` specifies the color, `main` specified the title of the plot, and `xlab` specifies the x-axis label (using `ylab` would specify the y-axis label). Read the documentation `?hist` for the full list of arguments available."
   ]
  },
  {
   "cell_type": "code",
   "execution_count": null,
   "id": "3b7a4320",
   "metadata": {},
   "outputs": [],
   "source": [
    "hist(log(nhanes_df$LEAD), breaks = 30, col=\"blue\", main=\"Histogram of Log Blood Lead Level\",\n",
    "    xlab=\"Log Blood Lead Level\")"
   ]
  },
  {
   "cell_type": "markdown",
   "id": "e51e68c4",
   "metadata": {},
   "source": [
    "For categorical variables, we may want to plot the counts in each category using a bar plot. The function `barplot()` asks us to specify the `names` and `heights` of the bars. To do so, we will need to store the counts for each category. Again, we update the color and labels."
   ]
  },
  {
   "cell_type": "code",
   "execution_count": null,
   "id": "b71b0b5c",
   "metadata": {},
   "outputs": [],
   "source": [
    "smoke_counts <- table(nhanes_df$SMOKE)\n",
    "barplot(height=smoke_counts, names=names(smoke_counts), col=\"violetred\",\n",
    "       xlab=\"Smoking Status\", ylab=\"Frequency\")"
   ]
  },
  {
   "cell_type": "markdown",
   "id": "eeec6b46",
   "metadata": {},
   "source": [
    "With a bar plot, we can even specify a different color for each bar. To do so, `col` must be a vector of specified colors with the same length as the number of categories."
   ]
  },
  {
   "cell_type": "code",
   "execution_count": null,
   "id": "a1843bc7",
   "metadata": {},
   "outputs": [],
   "source": [
    "barplot(height=smoke_counts, names=names(smoke_counts), col=c(\"orange\",\"violetred\",\"blue\"),\n",
    "       xlab=\"Smoking Status\", ylab=\"Frequency\")"
   ]
  },
  {
   "cell_type": "markdown",
   "id": "863e8a38",
   "metadata": {},
   "source": [
    "### Practice Question\n",
    "\n",
    "Create a barplot of the percentage of values in each `LEAD_QUANTILE` category."
   ]
  },
  {
   "cell_type": "code",
   "execution_count": null,
   "id": "9e4ee625",
   "metadata": {},
   "outputs": [],
   "source": [
    "# Solution:"
   ]
  },
  {
   "cell_type": "markdown",
   "id": "0d283be8",
   "metadata": {},
   "source": [
    "## Bivariate Distributions\n",
    "\n",
    "We now turn our attention to the relationship between multiple columns. When we have two categorical variables, we can use the `table()` function to find the counts across all combinations. Below, we look at the distribution in smoking status by sex. We observe that a higer percentage of female participants have never smoked."
   ]
  },
  {
   "cell_type": "code",
   "execution_count": null,
   "id": "aaed4e12",
   "metadata": {},
   "outputs": [],
   "source": [
    "table(nhanes_df$SMOKE, nhanes_df$SEX)"
   ]
  },
  {
   "cell_type": "markdown",
   "id": "44683d86",
   "metadata": {},
   "source": [
    "To look at the sample distribution of a continuous variable stratified by a cateogrical variable, we could call the `summary()` function for each subset of the data. Below we look at the distribution of blood lead level by sex. "
   ]
  },
  {
   "cell_type": "code",
   "execution_count": null,
   "id": "c97c701d",
   "metadata": {},
   "outputs": [],
   "source": [
    "summary(nhanes_df$LEAD[nhanes_df$SEX==\"Female\"])\n",
    "summary(nhanes_df$LEAD[nhanes_df$SEX==\"Male\"])"
   ]
  },
  {
   "cell_type": "markdown",
   "id": "d1a7b9b1",
   "metadata": {},
   "source": [
    "We could also observe this visually through a box plot. When given one categorical variable and one continuous variable, the `plot()` function creates a box plot. By default, the first argument is the x-axis variable and second argument is the y-axis variable. "
   ]
  },
  {
   "cell_type": "code",
   "execution_count": null,
   "id": "0b21302a",
   "metadata": {},
   "outputs": [],
   "source": [
    "plot(nhanes_df$SEX, log(nhanes_df$LEAD), ylab=\"Log Blood Lead Level\", xlab=\"Sex\")"
   ]
  },
  {
   "cell_type": "markdown",
   "id": "4008c4fc",
   "metadata": {},
   "source": [
    "Alternatively, we could use the `boxplot()` which can be passed a formula. A formula is a string representation of how to group the data where the left hand side is the continuous variable and the right hand side is one or more categorical variables to group by. In the case below, we group by multiple columns, `SEX` and `EVER_SMOKE`, so our formula is `log(LEAD)~SEX+EVER_SMOKE`. The second argument to the function specifies the data.  We specify the column colors to show the link between the box plots shown. "
   ]
  },
  {
   "cell_type": "code",
   "execution_count": null,
   "id": "2fb1d1ad",
   "metadata": {},
   "outputs": [],
   "source": [
    "boxplot(log(LEAD)~SEX+EVER_SMOKE, data=nhanes_df, col=c(\"orange\", \"blue\", \"orange\", \"blue\"),\n",
    "       xlab=\"Sex : Ever Smoked\", ylab = \"Log Blood Lead Level\")"
   ]
  },
  {
   "cell_type": "markdown",
   "id": "7e67de4f",
   "metadata": {},
   "source": [
    "To visualize the bivariate distribution between two continuous variables, we can use a scatter plot. To create a scatter plot, we use the `plot()` function again. We use this function to show the relationship between systolic and diastolic blood pressure. "
   ]
  },
  {
   "cell_type": "code",
   "execution_count": null,
   "id": "bc26c461",
   "metadata": {},
   "outputs": [],
   "source": [
    "plot(nhanes_df$SBP1, nhanes_df$DBP1, col=\"blue\", xlab=\"Systolic Blood Pressure\",\n",
    "    ylab=\"Diastolic Blood Pressure\")"
   ]
  },
  {
   "cell_type": "markdown",
   "id": "278fc31f",
   "metadata": {},
   "source": [
    "The two measures of blood pressure look highly correlated. We can calculate their Pearson and Spearman correlation using the `cor()` function. The default method is the Pearson correlation, but we can also specify to calculate the Kendall or Spearman correlation by specifying the method. "
   ]
  },
  {
   "cell_type": "code",
   "execution_count": null,
   "id": "3006d996",
   "metadata": {},
   "outputs": [],
   "source": [
    "cor(nhanes_df$SBP1, nhanes_df$DBP1)\n",
    "cor(nhanes_df$SBP1, nhanes_df$DBP1, method=\"spearman\")"
   ]
  },
  {
   "cell_type": "markdown",
   "id": "28d4be2b",
   "metadata": {},
   "source": [
    "We may also want to add some extra information to our plot above. This time instead of specifying the color manually, we use the column `hyp`, an indicator for hypertension, to specify the color. We have to make sure this vector is a factor for R to color by group. Additionally, we add a blue vertical and horizontal line using the `abline()` function to mark cutoffs for hypertension. Even though this function is called after `plot()`, the lines are automatically added to the current plot."
   ]
  },
  {
   "cell_type": "code",
   "execution_count": null,
   "id": "ab453756",
   "metadata": {},
   "outputs": [],
   "source": [
    "plot(nhanes_df$SBP1, nhanes_df$DBP1, col=as.factor(nhanes_df$HYP), \n",
    "     xlab=\"Systolic Blood Pressure\",\n",
    "     ylab=\"Diastolic Blood Pressure\")\n",
    "abline(v=130, col=\"blue\")\n",
    "abline(h=80, col=\"blue\")"
   ]
  },
  {
   "cell_type": "markdown",
   "id": "307e4e91",
   "metadata": {},
   "source": [
    "The plots above are all displayed as a single figure. If we want to combine plots, we can specify the graphical parameters using the `par()` function where we update the argument `mfrow=c(nrow, ncol)` with the number of columns and rows we would like to use for our figures. We use this to the distribution of log blood lead level between those with and without hypertension next to the plot above. "
   ]
  },
  {
   "cell_type": "code",
   "execution_count": null,
   "id": "60863c77",
   "metadata": {},
   "outputs": [],
   "source": [
    "par(mfrow=c(1,2))\n",
    "\n",
    "# boxplot\n",
    "boxplot(log(LEAD)~HYP, data=nhanes_df, xlab=\"Hypertension\", ylab=\"Log Blood Lead Level\")\n",
    "\n",
    "# scatterplot\n",
    "plot(nhanes_df$SBP1, nhanes_df$DBP1, col=as.factor(nhanes_df$HYP), \n",
    "     xlab=\"Systolic Blood Pressure\",\n",
    "     ylab=\"Diastolic Blood Pressure\")\n",
    "abline(v=130, col=\"blue\")\n",
    "abline(h=80, col=\"blue\")"
   ]
  },
  {
   "cell_type": "markdown",
   "id": "c2468a0a",
   "metadata": {},
   "source": [
    "We then reset to only display a single plot for future images using the `par()` function again."
   ]
  },
  {
   "cell_type": "code",
   "execution_count": null,
   "id": "7a5736f5",
   "metadata": {},
   "outputs": [],
   "source": [
    "par(mfrow=c(1,1))"
   ]
  },
  {
   "cell_type": "markdown",
   "id": "32c9d597",
   "metadata": {},
   "source": [
    "### Practice Question\n",
    "\n",
    "Create three boxplots (one for each education level) of income by BMI category and arrange them next to each other using the par() function."
   ]
  },
  {
   "cell_type": "code",
   "execution_count": null,
   "id": "251ee8fb",
   "metadata": {},
   "outputs": [],
   "source": [
    "# Solution:"
   ]
  },
  {
   "cell_type": "markdown",
   "id": "224a2267",
   "metadata": {},
   "source": [
    "## Autogenerated Plots\n",
    "\n",
    "Above, we learned some new functions for visualizing the relationship between variables. The `GGally` package contains some useful functions for looking at multiple univariate and bivariate relationships at the same time. The `ggpairs()` function takes the data as its first argument. By default, it will plot the pairwise distributions for all columns, but we can also specify to only select a subset of columns using the `columns` argument. You can see below that it plots the box plots and density plots for each univariate sample distribution. It then plots the bivariate distributions and calculates the Pearson correlation for all pairs of continuous variables. That's a lot of information!"
   ]
  },
  {
   "cell_type": "code",
   "execution_count": null,
   "id": "cf08fed6",
   "metadata": {
    "scrolled": true
   },
   "outputs": [],
   "source": [
    "ggpairs(nhanes_df, columns = c(\"SEX\", \"AGE\", \"LEAD\", \"SBP1\", \"DBP1\"))"
   ]
  },
  {
   "cell_type": "markdown",
   "id": "51beb824",
   "metadata": {},
   "source": [
    "Another useful function in this package is the `ggcorr()` function. In this function, it expects us to pass in a data frame with only numeric columns and it displays the correlation between all pairs where the color of each grid cell indicates the strength of the correlation. The additional argument `label=TRUE` specifies to put the correlation value on each grid cell. This is a useful way to identify pairs of strongly correlated variables. "
   ]
  },
  {
   "cell_type": "code",
   "execution_count": null,
   "id": "aff54101",
   "metadata": {},
   "outputs": [],
   "source": [
    "nhanes_cont <- nhanes_df[,c(\"AGE\", \"LEAD\", \"SBP1\", \"DBP1\")]\n",
    "ggcorr(nhanes_cont, label=TRUE)"
   ]
  },
  {
   "cell_type": "markdown",
   "id": "5ffa0296",
   "metadata": {},
   "source": [
    "## Tables\n",
    "\n",
    "Another useful way to display information about your data is through tables. For example, it is standard practice in articles to have the first table in the paper give information about the study sample such as the mean and standard deviation for all continuous variables and the proportions for categorical variables. The `gt` package is designed to create beautiful tables that can include footnotes, titles, column labels, etc. The `gtsummary` package is an extension of this package that can create summary tables. We will focus on the latter but come back to creating nice tables in Chapter 12.\n",
    "\n",
    "To start, we create a gt object using the first six rows of our data using the `gt()` function. A gt object is a special type of table and in R Markdown this would be be displayed that way. Since we are using this within a Jupyter notebook, we need to pass this to another function to make sure it displays correctly as HTML. The pipe operator `%>%` passes the result on the left hand side as the first argument to the function on the right hand side. You can see the difference in the formatting as opposed to printing the data."
   ]
  },
  {
   "cell_type": "code",
   "execution_count": null,
   "id": "4c779a27",
   "metadata": {},
   "outputs": [],
   "source": [
    "gt(head(nhanes_df)) %>% gt:::as.tags.gt_tbl()"
   ]
  },
  {
   "cell_type": "markdown",
   "id": "f21ddbcd",
   "metadata": {},
   "source": [
    "We now show how to use the `tbl_summary()` function in the `gtsummary` package. The first argument to this function is the data frame again. By default, this function will summarize all the variables in the data. Instead, we use the `include` argument to specify a list of variables to include. We then pipe this result to `as_gt()` which creates a gt table from the summary output before passing to the last function again to display the HTML table. Note that the table computes the total number of observations and computes the proportions for categorical variables and the interquartile range for continuous variables."
   ]
  },
  {
   "cell_type": "code",
   "execution_count": null,
   "id": "0c55d754",
   "metadata": {},
   "outputs": [],
   "source": [
    "tbl_summary(nhanes_df, include= c(\"SEX\", \"RACE\", \"AGE\", \"EDUCATION\", \"SMOKE\",\n",
    "                                  \"BMI_CAT\", \"LEAD\", \"SBP1\", \"DBP1\", \"HYP\")) %>% \n",
    "  as_gt() %>% \n",
    "  gt:::as.tags.gt_tbl()"
   ]
  },
  {
   "cell_type": "markdown",
   "id": "342c6264",
   "metadata": {},
   "source": [
    "We can update some of the arguments to update our table. This time we specify that we want to stratify our table by the hypertension status, which summarizes the data by this grouping. Additionally, we change how continuous variables are summarized by specifying that we want to report the mean and standard deviation. We do this using the `statistic` argument. The documentation has help for formatting this argument depending on which statistics you would like to display."
   ]
  },
  {
   "cell_type": "code",
   "execution_count": null,
   "id": "8fba055f",
   "metadata": {},
   "outputs": [],
   "source": [
    "tbl_summary(nhanes_df, include= c(\"SEX\", \"RACE\", \"AGE\", \"EDUCATION\", \"SMOKE\",\n",
    "                                  \"BMI_CAT\", \"LEAD\", \"SBP1\", \"DBP1\", \"HYP\"),\n",
    "           by = \"HYP\", statistic = list(all_continuous() ~ \"{mean} ({sd})\")) %>% \n",
    "  as_gt() %>% \n",
    "  gt:::as.tags.gt_tbl()"
   ]
  },
  {
   "cell_type": "markdown",
   "id": "c726cf57",
   "metadata": {},
   "source": [
    "## Recap Video"
   ]
  },
  {
   "cell_type": "markdown",
   "id": "57501f9a",
   "metadata": {},
   "source": [
    "## Exercises"
   ]
  },
  {
   "cell_type": "markdown",
   "id": "de6378a3",
   "metadata": {},
   "source": [
    "For these exercises, we will be using the **NHANES** data."
   ]
  },
  {
   "cell_type": "markdown",
   "id": "f456cd4f",
   "metadata": {},
   "source": [
    "1. Using both numerical and graphical summaries, describe the distribution of the first diastolic blood pressure reading `DBP1` and the age `AGE` among study participants, respectively. Then, create a column called `INCOME_CAT` with two categories: low income for those whose income is at most 2 and normal otherwise."
   ]
  },
  {
   "cell_type": "code",
   "execution_count": null,
   "id": "5b05d3b0",
   "metadata": {},
   "outputs": [],
   "source": [
    "## solutions:\n",
    "# dbp\n",
    "summary(nhanes_df$DBP1)\n",
    "hist(nhanes_df$DBP1,breaks = 30, col=\"pink\", main=\"Histogram of Diastolic Blood Pressure\",\n",
    "    xlab=\"Diastolic Blood Pressure\")\n",
    "\n",
    "# age\n",
    "summary(nhanes_df$AGE)\n",
    "hist(nhanes_df$AGE, breaks = 30, col=\"yellow\", main=\"Histogram of Age\",\n",
    "    xlab=\"Age\")\n",
    "\n",
    "# income\n",
    "nhanes_df$INCOME_CAT <- ifelse(nhanes_df$INCOME<=2,\"Low\",\"Normal\")"
   ]
  },
  {
   "cell_type": "markdown",
   "id": "689db6f5",
   "metadata": {},
   "source": [
    "2. Subset the data to adults between the ages of 20 and 55. Then, explore how blood pressure varies by age and gender among this age group. Is there a visible trend in blood pressure with increasing age among either sex? "
   ]
  },
  {
   "cell_type": "code",
   "execution_count": null,
   "id": "79730aad",
   "metadata": {},
   "outputs": [],
   "source": [
    "nhanes_df.subset.female <- subset(nhanes_df, \n",
    "                              nhanes_df$AGE>=20 & nhanes_df$AGE<=55 & SEX == \"Female\")\n",
    "nhanes_df.subset.male <- subset(nhanes_df, \n",
    "                              nhanes_df$AGE>=20 & nhanes_df$AGE<=55 & SEX == \"Male\")\n",
    "plot(nhanes_df.subset.female$AGE, nhanes_df.subset.female$DBP1, xlab = \"age\", ylab = \"Diastolic Blood Pressure\", col = \"red\")\n",
    "plot(nhanes_df.subset.male$AGE, nhanes_df.subset.male$DBP1, xlab = \"age\", ylab = \"Diastolic Blood Pressure\", col = \"blue\")"
   ]
  },
  {
   "cell_type": "markdown",
   "id": "2aaf4f82",
   "metadata": {},
   "source": [
    "4. For males between the ages of 50-59, compare blood pressure across race as reported in the race variable. Then, create a summary table stratified by the `RACE` categories and report the mean, standard deviation, minimum and maximum values for all continuous variables."
   ]
  },
  {
   "cell_type": "code",
   "execution_count": null,
   "id": "ec05bea2",
   "metadata": {},
   "outputs": [],
   "source": [
    "subset.males <- subset(nhanes_df, \n",
    "                       nhanes_df$SEX==\"Male\" & nhanes_df$AGE>=50 & nhanes_df$AGE<=59)\n",
    "subset.males$RACE <- as.factor(subset.males$RACE)\n",
    "boxplot(subset.males$DBP1 ~ subset.males$RACE, \n",
    "        xlab = \"Race\", ylab = \"Diastolic Blood Pressure\", col = \"pink\")\n",
    "\n",
    "tbl_summary(subset.males, include= c(\"SEX\", \"RACE\", \"AGE\", \"EDUCATION\", \"SMOKE\",\n",
    "                                  \"BMI_CAT\", \"LEAD\", \"SBP1\", \"DBP1\", \"HYP\"),\n",
    "           by = \"RACE\", statistic = list(all_continuous() ~ \"{mean} ({sd}, {min}, {max})\")) %>% \n",
    "  as_gt() %>% \n",
    "  gt:::as.tags.gt_tbl()"
   ]
  },
  {
   "cell_type": "code",
   "execution_count": null,
   "id": "03ee9f37",
   "metadata": {},
   "outputs": [],
   "source": []
  }
 ],
 "metadata": {
  "kernelspec": {
   "display_name": "R",
   "language": "R",
   "name": "ir"
  },
  "language_info": {
   "codemirror_mode": "r",
   "file_extension": ".r",
   "mimetype": "text/x-r-source",
   "name": "R",
   "pygments_lexer": "r",
   "version": "4.3.1"
  }
 },
 "nbformat": 4,
 "nbformat_minor": 5
}
