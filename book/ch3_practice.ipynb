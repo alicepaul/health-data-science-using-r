{
 "cells": [
  {
   "cell_type": "code",
   "execution_count": 1,
   "id": "4d0737c4",
   "metadata": {},
   "outputs": [],
   "source": [
    "library(RforHDSdata)\n",
    "data(pain)"
   ]
  },
  {
   "cell_type": "code",
   "execution_count": 2,
   "id": "3c712ab8",
   "metadata": {},
   "outputs": [
    {
     "data": {
      "text/html": [
       "<style>\n",
       ".list-inline {list-style: none; margin:0; padding: 0}\n",
       ".list-inline>li {display: inline-block}\n",
       ".list-inline>li:not(:last-child)::after {content: \"\\00b7\"; padding: 0 .5ex}\n",
       "</style>\n",
       "<ol class=list-inline><li>'PATIENT_NUM'</li><li>'X101'</li><li>'X102'</li><li>'X103'</li><li>'X104'</li><li>'X105'</li><li>'X106'</li><li>'X107'</li><li>'X108'</li><li>'X109'</li><li>'X110'</li><li>'X111'</li><li>'X112'</li><li>'X113'</li><li>'X114'</li><li>'X115'</li><li>'X116'</li><li>'X117'</li><li>'X118'</li><li>'X119'</li><li>'X120'</li><li>'X121'</li><li>'X122'</li><li>'X123'</li><li>'X124'</li><li>'X125'</li><li>'X126'</li><li>'X127'</li><li>'X128'</li><li>'X129'</li><li>'X130'</li><li>'X131'</li><li>'X132'</li><li>'X133'</li><li>'X134'</li><li>'X135'</li><li>'X136'</li><li>'X201'</li><li>'X202'</li><li>'X203'</li><li>'X204'</li><li>'X205'</li><li>'X206'</li><li>'X207'</li><li>'X208'</li><li>'X209'</li><li>'X210'</li><li>'X211'</li><li>'X212'</li><li>'X213'</li><li>'X214'</li><li>'X215'</li><li>'X216'</li><li>'X217'</li><li>'X218'</li><li>'X219'</li><li>'X220'</li><li>'X221'</li><li>'X222'</li><li>'X223'</li><li>'X224'</li><li>'X225'</li><li>'X226'</li><li>'X227'</li><li>'X228'</li><li>'X229'</li><li>'X230'</li><li>'X231'</li><li>'X232'</li><li>'X233'</li><li>'X234'</li><li>'X235'</li><li>'X236'</li><li>'X237'</li><li>'X238'</li><li>'PAIN_INTENSITY_AVERAGE'</li><li>'PROMIS_PHYSICAL_FUNCTION'</li><li>'PROMIS_PAIN_BEHAVIOR'</li><li>'PROMIS_DEPRESSION'</li><li>'PROMIS_ANXIETY'</li><li>'PROMIS_SLEEP_DISTURB_V1_0'</li><li>'PROMIS_PAIN_INTERFERENCE'</li><li>'GH_MENTAL_SCORE'</li><li>'GH_PHYSICAL_SCORE'</li><li>'AGE_AT_CONTACT'</li><li>'BMI'</li><li>'CCI_TOTAL_SCORE'</li><li>'PAIN_INTENSITY_AVERAGE.FOLLOW_UP'</li><li>'PAT_SEX'</li><li>'PAT_RACE'</li><li>'CCI_BIN'</li><li>'MEDICAID_BIN'</li></ol>\n"
      ],
      "text/latex": [
       "\\begin{enumerate*}\n",
       "\\item 'PATIENT\\_NUM'\n",
       "\\item 'X101'\n",
       "\\item 'X102'\n",
       "\\item 'X103'\n",
       "\\item 'X104'\n",
       "\\item 'X105'\n",
       "\\item 'X106'\n",
       "\\item 'X107'\n",
       "\\item 'X108'\n",
       "\\item 'X109'\n",
       "\\item 'X110'\n",
       "\\item 'X111'\n",
       "\\item 'X112'\n",
       "\\item 'X113'\n",
       "\\item 'X114'\n",
       "\\item 'X115'\n",
       "\\item 'X116'\n",
       "\\item 'X117'\n",
       "\\item 'X118'\n",
       "\\item 'X119'\n",
       "\\item 'X120'\n",
       "\\item 'X121'\n",
       "\\item 'X122'\n",
       "\\item 'X123'\n",
       "\\item 'X124'\n",
       "\\item 'X125'\n",
       "\\item 'X126'\n",
       "\\item 'X127'\n",
       "\\item 'X128'\n",
       "\\item 'X129'\n",
       "\\item 'X130'\n",
       "\\item 'X131'\n",
       "\\item 'X132'\n",
       "\\item 'X133'\n",
       "\\item 'X134'\n",
       "\\item 'X135'\n",
       "\\item 'X136'\n",
       "\\item 'X201'\n",
       "\\item 'X202'\n",
       "\\item 'X203'\n",
       "\\item 'X204'\n",
       "\\item 'X205'\n",
       "\\item 'X206'\n",
       "\\item 'X207'\n",
       "\\item 'X208'\n",
       "\\item 'X209'\n",
       "\\item 'X210'\n",
       "\\item 'X211'\n",
       "\\item 'X212'\n",
       "\\item 'X213'\n",
       "\\item 'X214'\n",
       "\\item 'X215'\n",
       "\\item 'X216'\n",
       "\\item 'X217'\n",
       "\\item 'X218'\n",
       "\\item 'X219'\n",
       "\\item 'X220'\n",
       "\\item 'X221'\n",
       "\\item 'X222'\n",
       "\\item 'X223'\n",
       "\\item 'X224'\n",
       "\\item 'X225'\n",
       "\\item 'X226'\n",
       "\\item 'X227'\n",
       "\\item 'X228'\n",
       "\\item 'X229'\n",
       "\\item 'X230'\n",
       "\\item 'X231'\n",
       "\\item 'X232'\n",
       "\\item 'X233'\n",
       "\\item 'X234'\n",
       "\\item 'X235'\n",
       "\\item 'X236'\n",
       "\\item 'X237'\n",
       "\\item 'X238'\n",
       "\\item 'PAIN\\_INTENSITY\\_AVERAGE'\n",
       "\\item 'PROMIS\\_PHYSICAL\\_FUNCTION'\n",
       "\\item 'PROMIS\\_PAIN\\_BEHAVIOR'\n",
       "\\item 'PROMIS\\_DEPRESSION'\n",
       "\\item 'PROMIS\\_ANXIETY'\n",
       "\\item 'PROMIS\\_SLEEP\\_DISTURB\\_V1\\_0'\n",
       "\\item 'PROMIS\\_PAIN\\_INTERFERENCE'\n",
       "\\item 'GH\\_MENTAL\\_SCORE'\n",
       "\\item 'GH\\_PHYSICAL\\_SCORE'\n",
       "\\item 'AGE\\_AT\\_CONTACT'\n",
       "\\item 'BMI'\n",
       "\\item 'CCI\\_TOTAL\\_SCORE'\n",
       "\\item 'PAIN\\_INTENSITY\\_AVERAGE.FOLLOW\\_UP'\n",
       "\\item 'PAT\\_SEX'\n",
       "\\item 'PAT\\_RACE'\n",
       "\\item 'CCI\\_BIN'\n",
       "\\item 'MEDICAID\\_BIN'\n",
       "\\end{enumerate*}\n"
      ],
      "text/markdown": [
       "1. 'PATIENT_NUM'\n",
       "2. 'X101'\n",
       "3. 'X102'\n",
       "4. 'X103'\n",
       "5. 'X104'\n",
       "6. 'X105'\n",
       "7. 'X106'\n",
       "8. 'X107'\n",
       "9. 'X108'\n",
       "10. 'X109'\n",
       "11. 'X110'\n",
       "12. 'X111'\n",
       "13. 'X112'\n",
       "14. 'X113'\n",
       "15. 'X114'\n",
       "16. 'X115'\n",
       "17. 'X116'\n",
       "18. 'X117'\n",
       "19. 'X118'\n",
       "20. 'X119'\n",
       "21. 'X120'\n",
       "22. 'X121'\n",
       "23. 'X122'\n",
       "24. 'X123'\n",
       "25. 'X124'\n",
       "26. 'X125'\n",
       "27. 'X126'\n",
       "28. 'X127'\n",
       "29. 'X128'\n",
       "30. 'X129'\n",
       "31. 'X130'\n",
       "32. 'X131'\n",
       "33. 'X132'\n",
       "34. 'X133'\n",
       "35. 'X134'\n",
       "36. 'X135'\n",
       "37. 'X136'\n",
       "38. 'X201'\n",
       "39. 'X202'\n",
       "40. 'X203'\n",
       "41. 'X204'\n",
       "42. 'X205'\n",
       "43. 'X206'\n",
       "44. 'X207'\n",
       "45. 'X208'\n",
       "46. 'X209'\n",
       "47. 'X210'\n",
       "48. 'X211'\n",
       "49. 'X212'\n",
       "50. 'X213'\n",
       "51. 'X214'\n",
       "52. 'X215'\n",
       "53. 'X216'\n",
       "54. 'X217'\n",
       "55. 'X218'\n",
       "56. 'X219'\n",
       "57. 'X220'\n",
       "58. 'X221'\n",
       "59. 'X222'\n",
       "60. 'X223'\n",
       "61. 'X224'\n",
       "62. 'X225'\n",
       "63. 'X226'\n",
       "64. 'X227'\n",
       "65. 'X228'\n",
       "66. 'X229'\n",
       "67. 'X230'\n",
       "68. 'X231'\n",
       "69. 'X232'\n",
       "70. 'X233'\n",
       "71. 'X234'\n",
       "72. 'X235'\n",
       "73. 'X236'\n",
       "74. 'X237'\n",
       "75. 'X238'\n",
       "76. 'PAIN_INTENSITY_AVERAGE'\n",
       "77. 'PROMIS_PHYSICAL_FUNCTION'\n",
       "78. 'PROMIS_PAIN_BEHAVIOR'\n",
       "79. 'PROMIS_DEPRESSION'\n",
       "80. 'PROMIS_ANXIETY'\n",
       "81. 'PROMIS_SLEEP_DISTURB_V1_0'\n",
       "82. 'PROMIS_PAIN_INTERFERENCE'\n",
       "83. 'GH_MENTAL_SCORE'\n",
       "84. 'GH_PHYSICAL_SCORE'\n",
       "85. 'AGE_AT_CONTACT'\n",
       "86. 'BMI'\n",
       "87. 'CCI_TOTAL_SCORE'\n",
       "88. 'PAIN_INTENSITY_AVERAGE.FOLLOW_UP'\n",
       "89. 'PAT_SEX'\n",
       "90. 'PAT_RACE'\n",
       "91. 'CCI_BIN'\n",
       "92. 'MEDICAID_BIN'\n",
       "\n",
       "\n"
      ],
      "text/plain": [
       " [1] \"PATIENT_NUM\"                      \"X101\"                            \n",
       " [3] \"X102\"                             \"X103\"                            \n",
       " [5] \"X104\"                             \"X105\"                            \n",
       " [7] \"X106\"                             \"X107\"                            \n",
       " [9] \"X108\"                             \"X109\"                            \n",
       "[11] \"X110\"                             \"X111\"                            \n",
       "[13] \"X112\"                             \"X113\"                            \n",
       "[15] \"X114\"                             \"X115\"                            \n",
       "[17] \"X116\"                             \"X117\"                            \n",
       "[19] \"X118\"                             \"X119\"                            \n",
       "[21] \"X120\"                             \"X121\"                            \n",
       "[23] \"X122\"                             \"X123\"                            \n",
       "[25] \"X124\"                             \"X125\"                            \n",
       "[27] \"X126\"                             \"X127\"                            \n",
       "[29] \"X128\"                             \"X129\"                            \n",
       "[31] \"X130\"                             \"X131\"                            \n",
       "[33] \"X132\"                             \"X133\"                            \n",
       "[35] \"X134\"                             \"X135\"                            \n",
       "[37] \"X136\"                             \"X201\"                            \n",
       "[39] \"X202\"                             \"X203\"                            \n",
       "[41] \"X204\"                             \"X205\"                            \n",
       "[43] \"X206\"                             \"X207\"                            \n",
       "[45] \"X208\"                             \"X209\"                            \n",
       "[47] \"X210\"                             \"X211\"                            \n",
       "[49] \"X212\"                             \"X213\"                            \n",
       "[51] \"X214\"                             \"X215\"                            \n",
       "[53] \"X216\"                             \"X217\"                            \n",
       "[55] \"X218\"                             \"X219\"                            \n",
       "[57] \"X220\"                             \"X221\"                            \n",
       "[59] \"X222\"                             \"X223\"                            \n",
       "[61] \"X224\"                             \"X225\"                            \n",
       "[63] \"X226\"                             \"X227\"                            \n",
       "[65] \"X228\"                             \"X229\"                            \n",
       "[67] \"X230\"                             \"X231\"                            \n",
       "[69] \"X232\"                             \"X233\"                            \n",
       "[71] \"X234\"                             \"X235\"                            \n",
       "[73] \"X236\"                             \"X237\"                            \n",
       "[75] \"X238\"                             \"PAIN_INTENSITY_AVERAGE\"          \n",
       "[77] \"PROMIS_PHYSICAL_FUNCTION\"         \"PROMIS_PAIN_BEHAVIOR\"            \n",
       "[79] \"PROMIS_DEPRESSION\"                \"PROMIS_ANXIETY\"                  \n",
       "[81] \"PROMIS_SLEEP_DISTURB_V1_0\"        \"PROMIS_PAIN_INTERFERENCE\"        \n",
       "[83] \"GH_MENTAL_SCORE\"                  \"GH_PHYSICAL_SCORE\"               \n",
       "[85] \"AGE_AT_CONTACT\"                   \"BMI\"                             \n",
       "[87] \"CCI_TOTAL_SCORE\"                  \"PAIN_INTENSITY_AVERAGE.FOLLOW_UP\"\n",
       "[89] \"PAT_SEX\"                          \"PAT_RACE\"                        \n",
       "[91] \"CCI_BIN\"                          \"MEDICAID_BIN\"                    "
      ]
     },
     "metadata": {},
     "output_type": "display_data"
    }
   ],
   "source": [
    "names(pain)"
   ]
  },
  {
   "cell_type": "code",
   "execution_count": 3,
   "id": "d873ee6b",
   "metadata": {},
   "outputs": [
    {
     "data": {
      "text/html": [
       "<style>\n",
       ".list-inline {list-style: none; margin:0; padding: 0}\n",
       ".list-inline>li {display: inline-block}\n",
       ".list-inline>li:not(:last-child)::after {content: \"\\00b7\"; padding: 0 .5ex}\n",
       "</style>\n",
       "<ol class=list-inline><li>21659</li><li>4</li></ol>\n"
      ],
      "text/latex": [
       "\\begin{enumerate*}\n",
       "\\item 21659\n",
       "\\item 4\n",
       "\\end{enumerate*}\n"
      ],
      "text/markdown": [
       "1. 21659\n",
       "2. 4\n",
       "\n",
       "\n"
      ],
      "text/plain": [
       "[1] 21659     4"
      ]
     },
     "metadata": {},
     "output_type": "display_data"
    }
   ],
   "source": [
    "pain_sub <- pain[, c(\"PAT_RACE\", \"PROMIS_PHYSICAL_FUNCTION\", \"PROMIS_ANXIETY\", \"PROMIS_DEPRESSION\")]\n",
    "dim(pain_sub)"
   ]
  },
  {
   "cell_type": "code",
   "execution_count": 7,
   "id": "fafaa13a",
   "metadata": {},
   "outputs": [
    {
     "data": {
      "text/plain": [
       "\n",
       "         ALASKA NATIVE        AMERICAN INDIAN                  BLACK \n",
       "                     2                     58                   3229 \n",
       "               CHINESE               DECLINED               FILIPINO \n",
       "                    21                    121                      6 \n",
       "         GUAM/CHAMORRO               HAWAIIAN         INDIAN (ASIAN) \n",
       "                     1                      1                     49 \n",
       "              JAPANESE                 KOREAN          NOT SPECIFIED \n",
       "                     9                     10                      4 \n",
       "                 OTHER            OTHER ASIAN OTHER PACIFIC ISLANDER \n",
       "                     1                     47                     12 \n",
       "            VIETNAMESE                  WHITE \n",
       "                     6                  17940 "
      ]
     },
     "metadata": {},
     "output_type": "display_data"
    }
   ],
   "source": [
    "table(pain_sub$PAT_RACE)"
   ]
  },
  {
   "cell_type": "code",
   "execution_count": 9,
   "id": "abbacda9",
   "metadata": {},
   "outputs": [
    {
     "data": {
      "text/plain": [
       "\n",
       "         ALASKA NATIVE        AMERICAN INDIAN                  BLACK \n",
       "                 0.000                  0.003                  0.150 \n",
       "               CHINESE               DECLINED               FILIPINO \n",
       "                 0.001                  0.006                  0.000 \n",
       "         GUAM/CHAMORRO               HAWAIIAN         INDIAN (ASIAN) \n",
       "                 0.000                  0.000                  0.002 \n",
       "              JAPANESE                 KOREAN          NOT SPECIFIED \n",
       "                 0.000                  0.000                  0.000 \n",
       "                 OTHER            OTHER ASIAN OTHER PACIFIC ISLANDER \n",
       "                 0.000                  0.002                  0.001 \n",
       "            VIETNAMESE                  WHITE \n",
       "                 0.000                  0.834 "
      ]
     },
     "metadata": {},
     "output_type": "display_data"
    }
   ],
   "source": [
    "round(prop.table(table(pain_sub$PAT_RACE)), 3)"
   ]
  },
  {
   "cell_type": "code",
   "execution_count": 23,
   "id": "b0190b1b",
   "metadata": {},
   "outputs": [],
   "source": [
    "pain_sub <- pain_sub[(pain_sub$PAT_RACE %in% c(\"WHITE\",\"BLACK\")) & !is.na(pain_sub$PAT_RACE), ]"
   ]
  },
  {
   "cell_type": "code",
   "execution_count": 24,
   "id": "29b04cc5",
   "metadata": {},
   "outputs": [
    {
     "data": {
      "text/html": [
       "<style>\n",
       ".list-inline {list-style: none; margin:0; padding: 0}\n",
       ".list-inline>li {display: inline-block}\n",
       ".list-inline>li:not(:last-child)::after {content: \"\\00b7\"; padding: 0 .5ex}\n",
       "</style>\n",
       "<ol class=list-inline><li>21169</li><li>4</li></ol>\n"
      ],
      "text/latex": [
       "\\begin{enumerate*}\n",
       "\\item 21169\n",
       "\\item 4\n",
       "\\end{enumerate*}\n"
      ],
      "text/markdown": [
       "1. 21169\n",
       "2. 4\n",
       "\n",
       "\n"
      ],
      "text/plain": [
       "[1] 21169     4"
      ]
     },
     "metadata": {},
     "output_type": "display_data"
    }
   ],
   "source": [
    "dim(pain_sub)"
   ]
  },
  {
   "cell_type": "code",
   "execution_count": 25,
   "id": "72f8a70e",
   "metadata": {},
   "outputs": [],
   "source": [
    "pain_sub <- na.omit(pain_sub)"
   ]
  },
  {
   "cell_type": "code",
   "execution_count": 30,
   "id": "edfbdc43",
   "metadata": {},
   "outputs": [
    {
     "data": {
      "text/html": [
       "<style>\n",
       ".dl-inline {width: auto; margin:0; padding: 0}\n",
       ".dl-inline>dt, .dl-inline>dd {float: none; width: auto; display: inline-block}\n",
       ".dl-inline>dt::after {content: \":\\0020\"; padding-right: .5ex}\n",
       ".dl-inline>dt:not(:first-of-type) {padding-left: .5ex}\n",
       "</style><dl class=dl-inline><dt>PROMIS_PHYSICAL_FUNCTION</dt><dd>35.2512356512665</dd><dt>PROMIS_ANXIETY</dt><dd>56.251887392088</dd><dt>PROMIS_DEPRESSION</dt><dd>55.2250943933213</dd></dl>\n"
      ],
      "text/latex": [
       "\\begin{description*}\n",
       "\\item[PROMIS\\textbackslash{}\\_PHYSICAL\\textbackslash{}\\_FUNCTION] 35.2512356512665\n",
       "\\item[PROMIS\\textbackslash{}\\_ANXIETY] 56.251887392088\n",
       "\\item[PROMIS\\textbackslash{}\\_DEPRESSION] 55.2250943933213\n",
       "\\end{description*}\n"
      ],
      "text/markdown": [
       "PROMIS_PHYSICAL_FUNCTION\n",
       ":   35.2512356512665PROMIS_ANXIETY\n",
       ":   56.251887392088PROMIS_DEPRESSION\n",
       ":   55.2250943933213\n",
       "\n"
      ],
      "text/plain": [
       "PROMIS_PHYSICAL_FUNCTION           PROMIS_ANXIETY        PROMIS_DEPRESSION \n",
       "                35.25124                 56.25189                 55.22509 "
      ]
     },
     "metadata": {},
     "output_type": "display_data"
    }
   ],
   "source": [
    "colMeans(pain_sub[,2:4])"
   ]
  },
  {
   "cell_type": "code",
   "execution_count": 35,
   "id": "ca4b14eb",
   "metadata": {},
   "outputs": [
    {
     "data": {
      "text/html": [
       "0.293235935869462"
      ],
      "text/latex": [
       "0.293235935869462"
      ],
      "text/markdown": [
       "0.293235935869462"
      ],
      "text/plain": [
       "[1] 0.2932359"
      ]
     },
     "metadata": {},
     "output_type": "display_data"
    }
   ],
   "source": [
    "row_2sd <- apply(pain_sub[,2:4], 1, function(x) any(abs(x-50)>20))\n",
    "sum(row_2sd)/length(row_2sd)               "
   ]
  },
  {
   "cell_type": "code",
   "execution_count": 36,
   "id": "771334b3",
   "metadata": {},
   "outputs": [
    {
     "data": {
      "text/html": [
       "0.283100167879127"
      ],
      "text/latex": [
       "0.283100167879127"
      ],
      "text/markdown": [
       "0.283100167879127"
      ],
      "text/plain": [
       "[1] 0.2831002"
      ]
     },
     "metadata": {},
     "output_type": "display_data"
    }
   ],
   "source": [
    "row_2sd_white <- apply(pain_sub[pain_sub$PAT_RACE == \"WHITE\",2:4], 1, function(x) any(abs(x-50)>20))\n",
    "sum(row_2sd_white)/length(row_2sd_white) "
   ]
  },
  {
   "cell_type": "code",
   "execution_count": 38,
   "id": "79578d8e",
   "metadata": {},
   "outputs": [
    {
     "data": {
      "text/html": [
       "0.349626400996264"
      ],
      "text/latex": [
       "0.349626400996264"
      ],
      "text/markdown": [
       "0.349626400996264"
      ],
      "text/plain": [
       "[1] 0.3496264"
      ]
     },
     "metadata": {},
     "output_type": "display_data"
    }
   ],
   "source": [
    "row_2sd_black <- apply(pain_sub[pain_sub$PAT_RACE == \"BLACK\",2:4], 1, function(x) any(abs(x-50)>20))\n",
    "sum(row_2sd_black)/length(row_2sd_black) "
   ]
  },
  {
   "cell_type": "code",
   "execution_count": null,
   "id": "c00b2d3d",
   "metadata": {},
   "outputs": [],
   "source": []
  }
 ],
 "metadata": {
  "kernelspec": {
   "display_name": "R",
   "language": "R",
   "name": "ir"
  },
  "language_info": {
   "codemirror_mode": "r",
   "file_extension": ".r",
   "mimetype": "text/x-r-source",
   "name": "R",
   "pygments_lexer": "r",
   "version": "4.3.1"
  }
 },
 "nbformat": 4,
 "nbformat_minor": 5
}
