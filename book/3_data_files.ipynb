{
 "cells": [
  {
   "cell_type": "markdown",
   "id": "decec34a",
   "metadata": {},
   "source": [
    "# Working with Data Files in R"
   ]
  },
  {
   "cell_type": "markdown",
   "id": "310692ba",
   "metadata": {},
   "source": [
    "## Exercises"
   ]
  },
  {
   "cell_type": "markdown",
   "id": "c4e8e36f",
   "metadata": {},
   "source": [
    "For these exercises, we will be using the **pain** data."
   ]
  },
  {
   "cell_type": "markdown",
   "id": "1fbdb0e3",
   "metadata": {},
   "source": [
    "1. Find summary statistics for `PROMIS_PHYSICAL_FUNTION` and `PROMIS_ANXIETY` variables and observe the distribution of those patient-reported pain experiences. What striking feature do you notice in the summary? "
   ]
  },
  {
   "cell_type": "code",
   "execution_count": null,
   "id": "a54a7c3c",
   "metadata": {},
   "outputs": [],
   "source": [
    "## solutions:\n",
    "library(RforHDSdata)\n",
    "data(pain)\n",
    "\n",
    "summary(pain$PROMIS_PHYSICAL_FUNCTION)\n",
    "summary(pain$PROMIS_ANXIETY)"
   ]
  },
  {
   "cell_type": "markdown",
   "id": "b7712e0e",
   "metadata": {},
   "source": [
    "2. Create frequency tables about `PAT_SEX` and `PAT_RACE` and tell more information about distributions of demographic characteristics.\n"
   ]
  },
  {
   "cell_type": "code",
   "execution_count": null,
   "id": "58f5824e",
   "metadata": {},
   "outputs": [],
   "source": [
    "table(pain$PAT_SEX)\n",
    "table(pain$PAT_RACE)"
   ]
  },
  {
   "cell_type": "markdown",
   "id": "6898a85e",
   "metadata": {},
   "source": [
    "3. Create a data frame to describe the total number of patients reported pain for each of bodily pain regions. Then, create another data frame for summary statistics."
   ]
  },
  {
   "cell_type": "code",
   "execution_count": null,
   "id": "9bbd067c",
   "metadata": {},
   "outputs": [],
   "source": [
    "colsum <- as.data.frame(colSums(pain[,c(2:75)], na.rm = TRUE))\n",
    "colsum$colSumValue <- colsum$`colSums(pain[, c(2:75)], na.rm = TRUE)`\n",
    "\n",
    "colsum_summary <- data.frame(Variable = c(\"Sum of Columns\"),\n",
    "                             Min =  min(colsum$colSumValue),\n",
    "                             Median = median(colsum$colSumValue),\n",
    "                             Mean  = mean(colsum$colSumValue),\n",
    "                             Max = max(colsum$colSumValue),\n",
    "                             SD = sd(colsum$colSumValue),\n",
    "                             Var = var(colsum$colSumValue))"
   ]
  },
  {
   "cell_type": "markdown",
   "id": "118f86fc",
   "metadata": {},
   "source": [
    "4. Calculate the median and interquartile range of the distribution of the total number of painful regions selected for each patient. Write a sentence to explain any interesting observations in the context of this dataset. "
   ]
  },
  {
   "cell_type": "code",
   "execution_count": null,
   "id": "d5234466",
   "metadata": {},
   "outputs": [],
   "source": [
    "rowsum <- as.data.frame(rowSums(pain[,2:75], na.rm = TRUE))\n",
    "rowsum$RowSumValue <- rowsum$`rowSums(pain[, 2:75], na.rm = TRUE)`\n",
    "\n",
    "median(rowsum$RowSumValue)\n",
    "IQR(rowsum$RowSumValue)"
   ]
  },
  {
   "cell_type": "markdown",
   "id": "46506f34",
   "metadata": {},
   "source": [
    "5. Assume a reasonable number of painful regions for patients to be 15 and use a `subset()` command to create a trimmed version of the pain dataset called **pain.subset** that only contains data for patients with the total number of painful regions less than 15."
   ]
  },
  {
   "cell_type": "code",
   "execution_count": null,
   "id": "f5c28986",
   "metadata": {},
   "outputs": [],
   "source": [
    "pain$rowsum <- rowsum$RowSumValue\n",
    "pain.subset <- subset(pain, rowsum <=15)"
   ]
  },
  {
   "cell_type": "markdown",
   "id": "5762de01",
   "metadata": {},
   "source": [
    "6. Find the distribution of `PAIN_INTENSITY_AVERAGE.follow_up`. And create a column of missing data at this follow up variable."
   ]
  },
  {
   "cell_type": "code",
   "execution_count": null,
   "id": "61c027ef",
   "metadata": {},
   "outputs": [],
   "source": [
    "summary(pain$PAIN_INTENSITY_AVERAGE.follow_up)\n",
    "hist(pain$PAIN_INTENSITY_AVERAGE.follow_up)\n",
    "\n",
    "which(is.na(pain$PAIN_INTENSITY_AVERAGE)==TRUE)\n",
    "is.na(pain$PAIN_INTENSITY_AVERAGE.follow_up[11749])\n",
    "pain$missing_follow_up <- if_else(is.na(pain$PAIN_INTENSITY_AVERAGE.follow_up)==TRUE,1,0)"
   ]
  }
 ],
 "metadata": {
  "kernelspec": {
   "display_name": "R",
   "language": "R",
   "name": "ir"
  },
  "language_info": {
   "codemirror_mode": "r",
   "file_extension": ".r",
   "mimetype": "text/x-r-source",
   "name": "R",
   "pygments_lexer": "r",
   "version": "4.1.1"
  }
 },
 "nbformat": 4,
 "nbformat_minor": 5
}
