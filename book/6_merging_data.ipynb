{
 "cells": [
  {
   "cell_type": "markdown",
   "id": "03718942",
   "metadata": {},
   "source": [
    "# 6. Merging and Reshaping Data"
   ]
  },
  {
   "cell_type": "markdown",
   "id": "0703eee2",
   "metadata": {},
   "source": [
    "In this chapter, we continue with some of the ways to manipulate data using the tidyverse packages. In particular, we will look at reshaping and merging data frames in order to get the data in the format we want. When reshaping data, we can convert our data between wide form (more columns, fewer rows) and long form (fewer columns, more rows). For example, we can use these data pivots to put our data into a tidy form. When merging data, we are combining information from multiple data frames into a single data frame. The key idea when merging data is to think about what the common information is between the data frames and which values we want to keep. \n",
    "\n",
    "For this chapter, we will use three data sets. The first data set is `covidcases`, which contains the daily case and death counts by county in the United States for 2020, the second data set is `mobility`, which contains daily mobility estimates by state in 2020, and lastly we have `lockdowndates`, which contains the start and end dates for statewide stay at home orders. Take a look at the first few rows of each data frame below and read the documentation for the column descriptions."
   ]
  },
  {
   "cell_type": "code",
   "execution_count": 80,
   "id": "2f2f6187",
   "metadata": {},
   "outputs": [],
   "source": [
    "library(tidyverse)\n",
    "library(RforHDSdata)\n",
    "library(lubridate)\n",
    "data(covidcases)\n",
    "data(lockdowndates)\n",
    "data(mobility)"
   ]
  },
  {
   "cell_type": "code",
   "execution_count": 81,
   "id": "70d4aeca",
   "metadata": {},
   "outputs": [
    {
     "data": {
      "text/html": [
       "<table class=\"dataframe\">\n",
       "<caption>A data.frame: 6 × 5</caption>\n",
       "<thead>\n",
       "\t<tr><th></th><th scope=col>date</th><th scope=col>state</th><th scope=col>county</th><th scope=col>daily_deaths</th><th scope=col>daily_cases</th></tr>\n",
       "\t<tr><th></th><th scope=col>&lt;chr&gt;</th><th scope=col>&lt;chr&gt;</th><th scope=col>&lt;chr&gt;</th><th scope=col>&lt;int&gt;</th><th scope=col>&lt;int&gt;</th></tr>\n",
       "</thead>\n",
       "<tbody>\n",
       "\t<tr><th scope=row>1</th><td>2020-03-01</td><td>California</td><td>Marin        </td><td>0</td><td>1</td></tr>\n",
       "\t<tr><th scope=row>2</th><td>2020-03-01</td><td>California</td><td>Orange       </td><td>0</td><td>1</td></tr>\n",
       "\t<tr><th scope=row>3</th><td>2020-03-01</td><td>Florida   </td><td>Manatee      </td><td>0</td><td>1</td></tr>\n",
       "\t<tr><th scope=row>4</th><td>2020-03-01</td><td>California</td><td>Napa         </td><td>0</td><td>1</td></tr>\n",
       "\t<tr><th scope=row>5</th><td>2020-03-01</td><td>Washington</td><td>Spokane      </td><td>0</td><td>4</td></tr>\n",
       "\t<tr><th scope=row>6</th><td>2020-03-01</td><td>California</td><td>San Francisco</td><td>0</td><td>3</td></tr>\n",
       "</tbody>\n",
       "</table>\n"
      ],
      "text/latex": [
       "A data.frame: 6 × 5\n",
       "\\begin{tabular}{r|lllll}\n",
       "  & date & state & county & daily\\_deaths & daily\\_cases\\\\\n",
       "  & <chr> & <chr> & <chr> & <int> & <int>\\\\\n",
       "\\hline\n",
       "\t1 & 2020-03-01 & California & Marin         & 0 & 1\\\\\n",
       "\t2 & 2020-03-01 & California & Orange        & 0 & 1\\\\\n",
       "\t3 & 2020-03-01 & Florida    & Manatee       & 0 & 1\\\\\n",
       "\t4 & 2020-03-01 & California & Napa          & 0 & 1\\\\\n",
       "\t5 & 2020-03-01 & Washington & Spokane       & 0 & 4\\\\\n",
       "\t6 & 2020-03-01 & California & San Francisco & 0 & 3\\\\\n",
       "\\end{tabular}\n"
      ],
      "text/markdown": [
       "\n",
       "A data.frame: 6 × 5\n",
       "\n",
       "| <!--/--> | date &lt;chr&gt; | state &lt;chr&gt; | county &lt;chr&gt; | daily_deaths &lt;int&gt; | daily_cases &lt;int&gt; |\n",
       "|---|---|---|---|---|---|\n",
       "| 1 | 2020-03-01 | California | Marin         | 0 | 1 |\n",
       "| 2 | 2020-03-01 | California | Orange        | 0 | 1 |\n",
       "| 3 | 2020-03-01 | Florida    | Manatee       | 0 | 1 |\n",
       "| 4 | 2020-03-01 | California | Napa          | 0 | 1 |\n",
       "| 5 | 2020-03-01 | Washington | Spokane       | 0 | 4 |\n",
       "| 6 | 2020-03-01 | California | San Francisco | 0 | 3 |\n",
       "\n"
      ],
      "text/plain": [
       "  date       state      county        daily_deaths daily_cases\n",
       "1 2020-03-01 California Marin         0            1          \n",
       "2 2020-03-01 California Orange        0            1          \n",
       "3 2020-03-01 Florida    Manatee       0            1          \n",
       "4 2020-03-01 California Napa          0            1          \n",
       "5 2020-03-01 Washington Spokane       0            4          \n",
       "6 2020-03-01 California San Francisco 0            3          "
      ]
     },
     "metadata": {},
     "output_type": "display_data"
    }
   ],
   "source": [
    "covidcases <- read.csv(\"data/covidcases.csv\")\n",
    "head(covidcases)"
   ]
  },
  {
   "cell_type": "code",
   "execution_count": 82,
   "id": "e7b5e897",
   "metadata": {},
   "outputs": [
    {
     "data": {
      "text/html": [
       "<table class=\"dataframe\">\n",
       "<caption>A grouped_df: 6 × 5</caption>\n",
       "<thead>\n",
       "\t<tr><th scope=col>state</th><th scope=col>date</th><th scope=col>samples</th><th scope=col>m50</th><th scope=col>m50_index</th></tr>\n",
       "\t<tr><th scope=col>&lt;chr&gt;</th><th scope=col>&lt;chr&gt;</th><th scope=col>&lt;int&gt;</th><th scope=col>&lt;dbl&gt;</th><th scope=col>&lt;dbl&gt;</th></tr>\n",
       "</thead>\n",
       "<tbody>\n",
       "\t<tr><td>Alabama</td><td>2020-03-01</td><td>267652</td><td>10.87194</td><td> 76.92647</td></tr>\n",
       "\t<tr><td>Alabama</td><td>2020-03-02</td><td>287264</td><td>14.34513</td><td> 98.57353</td></tr>\n",
       "\t<tr><td>Alabama</td><td>2020-03-03</td><td>292018</td><td>14.24460</td><td> 98.25000</td></tr>\n",
       "\t<tr><td>Alabama</td><td>2020-03-04</td><td>298704</td><td>13.08301</td><td> 89.69118</td></tr>\n",
       "\t<tr><td>Alabama</td><td>2020-03-05</td><td>288218</td><td>14.81503</td><td>102.38235</td></tr>\n",
       "\t<tr><td>Alabama</td><td>2020-03-06</td><td>282982</td><td>17.94399</td><td>126.22059</td></tr>\n",
       "</tbody>\n",
       "</table>\n"
      ],
      "text/latex": [
       "A grouped\\_df: 6 × 5\n",
       "\\begin{tabular}{lllll}\n",
       " state & date & samples & m50 & m50\\_index\\\\\n",
       " <chr> & <chr> & <int> & <dbl> & <dbl>\\\\\n",
       "\\hline\n",
       "\t Alabama & 2020-03-01 & 267652 & 10.87194 &  76.92647\\\\\n",
       "\t Alabama & 2020-03-02 & 287264 & 14.34513 &  98.57353\\\\\n",
       "\t Alabama & 2020-03-03 & 292018 & 14.24460 &  98.25000\\\\\n",
       "\t Alabama & 2020-03-04 & 298704 & 13.08301 &  89.69118\\\\\n",
       "\t Alabama & 2020-03-05 & 288218 & 14.81503 & 102.38235\\\\\n",
       "\t Alabama & 2020-03-06 & 282982 & 17.94399 & 126.22059\\\\\n",
       "\\end{tabular}\n"
      ],
      "text/markdown": [
       "\n",
       "A grouped_df: 6 × 5\n",
       "\n",
       "| state &lt;chr&gt; | date &lt;chr&gt; | samples &lt;int&gt; | m50 &lt;dbl&gt; | m50_index &lt;dbl&gt; |\n",
       "|---|---|---|---|---|\n",
       "| Alabama | 2020-03-01 | 267652 | 10.87194 |  76.92647 |\n",
       "| Alabama | 2020-03-02 | 287264 | 14.34513 |  98.57353 |\n",
       "| Alabama | 2020-03-03 | 292018 | 14.24460 |  98.25000 |\n",
       "| Alabama | 2020-03-04 | 298704 | 13.08301 |  89.69118 |\n",
       "| Alabama | 2020-03-05 | 288218 | 14.81503 | 102.38235 |\n",
       "| Alabama | 2020-03-06 | 282982 | 17.94399 | 126.22059 |\n",
       "\n"
      ],
      "text/plain": [
       "  state   date       samples m50      m50_index\n",
       "1 Alabama 2020-03-01 267652  10.87194  76.92647\n",
       "2 Alabama 2020-03-02 287264  14.34513  98.57353\n",
       "3 Alabama 2020-03-03 292018  14.24460  98.25000\n",
       "4 Alabama 2020-03-04 298704  13.08301  89.69118\n",
       "5 Alabama 2020-03-05 288218  14.81503 102.38235\n",
       "6 Alabama 2020-03-06 282982  17.94399 126.22059"
      ]
     },
     "metadata": {},
     "output_type": "display_data"
    }
   ],
   "source": [
    "head(mobility)"
   ]
  },
  {
   "cell_type": "code",
   "execution_count": 83,
   "id": "750a8217",
   "metadata": {},
   "outputs": [
    {
     "data": {
      "text/html": [
       "<table class=\"dataframe\">\n",
       "<caption>A tibble: 6 × 3</caption>\n",
       "<thead>\n",
       "\t<tr><th scope=col>State</th><th scope=col>Lockdown_Start</th><th scope=col>Lockdown_End</th></tr>\n",
       "\t<tr><th scope=col>&lt;chr&gt;</th><th scope=col>&lt;chr&gt;</th><th scope=col>&lt;chr&gt;</th></tr>\n",
       "</thead>\n",
       "<tbody>\n",
       "\t<tr><td>Alabama   </td><td>2020-04-04</td><td>2020-04-30</td></tr>\n",
       "\t<tr><td>Alaska    </td><td>2020-03-28</td><td>2020-04-24</td></tr>\n",
       "\t<tr><td>Arizona   </td><td>2020-03-31</td><td>2020-05-15</td></tr>\n",
       "\t<tr><td>Arkansas  </td><td>None      </td><td>None      </td></tr>\n",
       "\t<tr><td>California</td><td>2020-03-19</td><td>2020-08-28</td></tr>\n",
       "\t<tr><td>Colorado  </td><td>2020-03-26</td><td>2020-04-26</td></tr>\n",
       "</tbody>\n",
       "</table>\n"
      ],
      "text/latex": [
       "A tibble: 6 × 3\n",
       "\\begin{tabular}{lll}\n",
       " State & Lockdown\\_Start & Lockdown\\_End\\\\\n",
       " <chr> & <chr> & <chr>\\\\\n",
       "\\hline\n",
       "\t Alabama    & 2020-04-04 & 2020-04-30\\\\\n",
       "\t Alaska     & 2020-03-28 & 2020-04-24\\\\\n",
       "\t Arizona    & 2020-03-31 & 2020-05-15\\\\\n",
       "\t Arkansas   & None       & None      \\\\\n",
       "\t California & 2020-03-19 & 2020-08-28\\\\\n",
       "\t Colorado   & 2020-03-26 & 2020-04-26\\\\\n",
       "\\end{tabular}\n"
      ],
      "text/markdown": [
       "\n",
       "A tibble: 6 × 3\n",
       "\n",
       "| State &lt;chr&gt; | Lockdown_Start &lt;chr&gt; | Lockdown_End &lt;chr&gt; |\n",
       "|---|---|---|\n",
       "| Alabama    | 2020-04-04 | 2020-04-30 |\n",
       "| Alaska     | 2020-03-28 | 2020-04-24 |\n",
       "| Arizona    | 2020-03-31 | 2020-05-15 |\n",
       "| Arkansas   | None       | None       |\n",
       "| California | 2020-03-19 | 2020-08-28 |\n",
       "| Colorado   | 2020-03-26 | 2020-04-26 |\n",
       "\n"
      ],
      "text/plain": [
       "  State      Lockdown_Start Lockdown_End\n",
       "1 Alabama    2020-04-04     2020-04-30  \n",
       "2 Alaska     2020-03-28     2020-04-24  \n",
       "3 Arizona    2020-03-31     2020-05-15  \n",
       "4 Arkansas   None           None        \n",
       "5 California 2020-03-19     2020-08-28  \n",
       "6 Colorado   2020-03-26     2020-04-26  "
      ]
     },
     "metadata": {},
     "output_type": "display_data"
    }
   ],
   "source": [
    "head(lockdowndates)"
   ]
  },
  {
   "cell_type": "markdown",
   "id": "6e1de264",
   "metadata": {},
   "source": [
    "For each of these data frames, there is a date column. Write now the class of these columns is a character value. We can use the `as.Date()` function to tell R to treat these as dates. We need to specify the date format as an argument to this function. In our format `%Y-%M-%D` the `%Y` stands for the full four-digit year, `%M` is a two-digit month (e.g. January is coded \"01\" vs \"1\"), and `%D` stands for the two-digit day (e.g. the third day is coded \"03\" vs \"3\")."
   ]
  },
  {
   "cell_type": "code",
   "execution_count": 84,
   "id": "d3b9336c",
   "metadata": {},
   "outputs": [],
   "source": [
    "mobility$date <- as.Date(mobility$date, formula=\"%Y-%M-%D\")\n",
    "covidcases$date <- as.Date(covidcases$date, formula=\"%Y-%M-%D\")\n",
    "lockdowndates$Lockdown_Start <- as.Date(lockdowndates$Lockdown_Start, formula=\"%Y-%M-%D\")\n",
    "lockdowndates$Lockdown_End <- as.Date(lockdowndates$Lockdown_End, formula=\"%Y-%M-%D\")"
   ]
  },
  {
   "cell_type": "markdown",
   "id": "62121799",
   "metadata": {},
   "source": [
    "By coding these columns as dates, we can access information such as the day, month, year, or week. These functions are all available in base R. The `lubridate` package, which is not used in this book, has more capabilities for working with date times. "
   ]
  },
  {
   "cell_type": "code",
   "execution_count": 85,
   "id": "0267137e",
   "metadata": {},
   "outputs": [
    {
     "data": {
      "text/html": [
       "3"
      ],
      "text/latex": [
       "3"
      ],
      "text/markdown": [
       "3"
      ],
      "text/plain": [
       "[1] 3"
      ]
     },
     "metadata": {},
     "output_type": "display_data"
    },
    {
     "data": {
      "text/html": [
       "9"
      ],
      "text/latex": [
       "9"
      ],
      "text/markdown": [
       "9"
      ],
      "text/plain": [
       "[1] 9"
      ]
     },
     "metadata": {},
     "output_type": "display_data"
    }
   ],
   "source": [
    "month(mobility$date[1])\n",
    "week(mobility$date[1])"
   ]
  },
  {
   "cell_type": "markdown",
   "id": "512bec4b",
   "metadata": {},
   "source": [
    "## Reshaping Data\n",
    "\n",
    "The mobility and covid case data are in tidy form - each observation corresponds to a single row and every column is a single variable. We might consider the lockdown dates to not be in the same form. Another way to represent this data would be to have each observation be the start or end of a stay at home order. \n",
    "\n",
    "To reshape our data, we use the `pivot_longer()` function to change the data from what is called **wide form** to **long form**. This kind of pivot involves taking a subset of columns that we will *gather* into a single column while increasing the number of rows in the data set. Before pivoting, we have to think about which columns we are transforming. In our case, we want to take the lockdown start and end columns and create two columns: one column will be whether this is the start or end of a lockdown and the other will be the date. These are called the key and value columns, respectively. The key column will get its values from the names of the columns we are transforming (or the keys) whereas the value column will get its values from the entries in those columns (or the values). \n",
    "\n",
    "TODO: image\n",
    "\n",
    "The `pivot_longer()` function takes in a data table, the columns `cols` that we are pivoting to longer form, the column name `names_to` that will store the data from the previous column names, and the column name `values_to` for the column that will store the information from the columns gathered. In our case, the first column we will name `Lockdown_Event` since it will contain whether each date is the start or end of a lockdown and the second column we will name `Date`. Take a look at the result below."
   ]
  },
  {
   "cell_type": "code",
   "execution_count": 86,
   "id": "56dc4943",
   "metadata": {},
   "outputs": [
    {
     "data": {
      "text/html": [
       "<table class=\"dataframe\">\n",
       "<caption>A tibble: 6 × 3</caption>\n",
       "<thead>\n",
       "\t<tr><th scope=col>State</th><th scope=col>Lockdown_Event</th><th scope=col>Date</th></tr>\n",
       "\t<tr><th scope=col>&lt;chr&gt;</th><th scope=col>&lt;chr&gt;</th><th scope=col>&lt;date&gt;</th></tr>\n",
       "</thead>\n",
       "<tbody>\n",
       "\t<tr><td>Alabama</td><td>Start</td><td>2020-04-04</td></tr>\n",
       "\t<tr><td>Alabama</td><td>End  </td><td>2020-04-30</td></tr>\n",
       "\t<tr><td>Alaska </td><td>Start</td><td>2020-03-28</td></tr>\n",
       "\t<tr><td>Alaska </td><td>End  </td><td>2020-04-24</td></tr>\n",
       "\t<tr><td>Arizona</td><td>Start</td><td>2020-03-31</td></tr>\n",
       "\t<tr><td>Arizona</td><td>End  </td><td>2020-05-15</td></tr>\n",
       "</tbody>\n",
       "</table>\n"
      ],
      "text/latex": [
       "A tibble: 6 × 3\n",
       "\\begin{tabular}{lll}\n",
       " State & Lockdown\\_Event & Date\\\\\n",
       " <chr> & <chr> & <date>\\\\\n",
       "\\hline\n",
       "\t Alabama & Start & 2020-04-04\\\\\n",
       "\t Alabama & End   & 2020-04-30\\\\\n",
       "\t Alaska  & Start & 2020-03-28\\\\\n",
       "\t Alaska  & End   & 2020-04-24\\\\\n",
       "\t Arizona & Start & 2020-03-31\\\\\n",
       "\t Arizona & End   & 2020-05-15\\\\\n",
       "\\end{tabular}\n"
      ],
      "text/markdown": [
       "\n",
       "A tibble: 6 × 3\n",
       "\n",
       "| State &lt;chr&gt; | Lockdown_Event &lt;chr&gt; | Date &lt;date&gt; |\n",
       "|---|---|---|\n",
       "| Alabama | Start | 2020-04-04 |\n",
       "| Alabama | End   | 2020-04-30 |\n",
       "| Alaska  | Start | 2020-03-28 |\n",
       "| Alaska  | End   | 2020-04-24 |\n",
       "| Arizona | Start | 2020-03-31 |\n",
       "| Arizona | End   | 2020-05-15 |\n",
       "\n"
      ],
      "text/plain": [
       "  State   Lockdown_Event Date      \n",
       "1 Alabama Start          2020-04-04\n",
       "2 Alabama End            2020-04-30\n",
       "3 Alaska  Start          2020-03-28\n",
       "4 Alaska  End            2020-04-24\n",
       "5 Arizona Start          2020-03-31\n",
       "6 Arizona End            2020-05-15"
      ]
     },
     "metadata": {},
     "output_type": "display_data"
    }
   ],
   "source": [
    "lockdown_long <- lockdowndates %>%\n",
    "  pivot_longer(cols=c(\"Lockdown_Start\", \"Lockdown_End\"), names_to=\"Lockdown_Event\", values_to=\"Date\") %>%\n",
    "  mutate(Date = as.Date(Date, formula =\"%Y-%M-%D\"), \n",
    "         Lockdown_Event = ifelse(Lockdown_Event==\"Lockdown_Start\", \"Start\", \"End\")) %>%\n",
    "  na.omit()\n",
    "head(lockdown_long)"
   ]
  },
  {
   "cell_type": "markdown",
   "id": "3936051b",
   "metadata": {},
   "source": [
    "We can also transform our data in the opposite direction. The function `pivot_wider()` converts data in long form to wide form. This function again takes in the the data frame but now we specify the arguments `names_from` and `values_from`. The former is the column to get the new column names from and the latter is where the row values will be taken from. To pivot our lockdown data back to wider form, we specify that `names_from` is the lockdown event and `values_from` is the date itself. Now we are back to the same form as before!"
   ]
  },
  {
   "cell_type": "code",
   "execution_count": 87,
   "id": "1c66cbfe",
   "metadata": {},
   "outputs": [
    {
     "data": {
      "text/html": [
       "<table class=\"dataframe\">\n",
       "<caption>A tibble: 6 × 3</caption>\n",
       "<thead>\n",
       "\t<tr><th scope=col>State</th><th scope=col>Start</th><th scope=col>End</th></tr>\n",
       "\t<tr><th scope=col>&lt;chr&gt;</th><th scope=col>&lt;date&gt;</th><th scope=col>&lt;date&gt;</th></tr>\n",
       "</thead>\n",
       "<tbody>\n",
       "\t<tr><td>Alabama    </td><td>2020-04-04</td><td>2020-04-30</td></tr>\n",
       "\t<tr><td>Alaska     </td><td>2020-03-28</td><td>2020-04-24</td></tr>\n",
       "\t<tr><td>Arizona    </td><td>2020-03-31</td><td>2020-05-15</td></tr>\n",
       "\t<tr><td>California </td><td>2020-03-19</td><td>2020-08-28</td></tr>\n",
       "\t<tr><td>Colorado   </td><td>2020-03-26</td><td>2020-04-26</td></tr>\n",
       "\t<tr><td>Connecticut</td><td>2020-03-23</td><td>2020-05-20</td></tr>\n",
       "</tbody>\n",
       "</table>\n"
      ],
      "text/latex": [
       "A tibble: 6 × 3\n",
       "\\begin{tabular}{lll}\n",
       " State & Start & End\\\\\n",
       " <chr> & <date> & <date>\\\\\n",
       "\\hline\n",
       "\t Alabama     & 2020-04-04 & 2020-04-30\\\\\n",
       "\t Alaska      & 2020-03-28 & 2020-04-24\\\\\n",
       "\t Arizona     & 2020-03-31 & 2020-05-15\\\\\n",
       "\t California  & 2020-03-19 & 2020-08-28\\\\\n",
       "\t Colorado    & 2020-03-26 & 2020-04-26\\\\\n",
       "\t Connecticut & 2020-03-23 & 2020-05-20\\\\\n",
       "\\end{tabular}\n"
      ],
      "text/markdown": [
       "\n",
       "A tibble: 6 × 3\n",
       "\n",
       "| State &lt;chr&gt; | Start &lt;date&gt; | End &lt;date&gt; |\n",
       "|---|---|---|\n",
       "| Alabama     | 2020-04-04 | 2020-04-30 |\n",
       "| Alaska      | 2020-03-28 | 2020-04-24 |\n",
       "| Arizona     | 2020-03-31 | 2020-05-15 |\n",
       "| California  | 2020-03-19 | 2020-08-28 |\n",
       "| Colorado    | 2020-03-26 | 2020-04-26 |\n",
       "| Connecticut | 2020-03-23 | 2020-05-20 |\n",
       "\n"
      ],
      "text/plain": [
       "  State       Start      End       \n",
       "1 Alabama     2020-04-04 2020-04-30\n",
       "2 Alaska      2020-03-28 2020-04-24\n",
       "3 Arizona     2020-03-31 2020-05-15\n",
       "4 California  2020-03-19 2020-08-28\n",
       "5 Colorado    2020-03-26 2020-04-26\n",
       "6 Connecticut 2020-03-23 2020-05-20"
      ]
     },
     "metadata": {},
     "output_type": "display_data"
    }
   ],
   "source": [
    "lockdown_wide <- pivot_wider(lockdown_long, names_from=Lockdown_Event, values_from=Date)\n",
    "head(lockdown_wide)"
   ]
  },
  {
   "cell_type": "markdown",
   "id": "798ba521",
   "metadata": {},
   "source": [
    "Let's show another example. Suppose that I wanted to create a data frame where the columns corresponded to the number of cases for each state in New England and the rows corresponded to the months. First, I need to filter my data to New England and then summarize my data to find the number of cases per month. I use the `month()` function to be able to group by month and state. Additionally, you can see that I add an `ungroup()` at the end since the summarized output will still be grouped by state (as shown in the warning message). "
   ]
  },
  {
   "cell_type": "code",
   "execution_count": 88,
   "id": "75260d16",
   "metadata": {},
   "outputs": [
    {
     "name": "stderr",
     "output_type": "stream",
     "text": [
      "\u001b[1m\u001b[22m`summarise()` has grouped output by 'state'. You can override using the\n",
      "`.groups` argument.\n"
     ]
    },
    {
     "data": {
      "text/html": [
       "<table class=\"dataframe\">\n",
       "<caption>A tibble: 6 × 3</caption>\n",
       "<thead>\n",
       "\t<tr><th scope=col>state</th><th scope=col>month</th><th scope=col>total_cases</th></tr>\n",
       "\t<tr><th scope=col>&lt;chr&gt;</th><th scope=col>&lt;dbl&gt;</th><th scope=col>&lt;int&gt;</th></tr>\n",
       "</thead>\n",
       "<tbody>\n",
       "\t<tr><td>Connecticut</td><td>3</td><td> 3051</td></tr>\n",
       "\t<tr><td>Connecticut</td><td>4</td><td>24187</td></tr>\n",
       "\t<tr><td>Connecticut</td><td>5</td><td>14729</td></tr>\n",
       "\t<tr><td>Connecticut</td><td>6</td><td> 4343</td></tr>\n",
       "\t<tr><td>Connecticut</td><td>7</td><td> 3257</td></tr>\n",
       "\t<tr><td>Connecticut</td><td>8</td><td> 3202</td></tr>\n",
       "</tbody>\n",
       "</table>\n"
      ],
      "text/latex": [
       "A tibble: 6 × 3\n",
       "\\begin{tabular}{lll}\n",
       " state & month & total\\_cases\\\\\n",
       " <chr> & <dbl> & <int>\\\\\n",
       "\\hline\n",
       "\t Connecticut & 3 &  3051\\\\\n",
       "\t Connecticut & 4 & 24187\\\\\n",
       "\t Connecticut & 5 & 14729\\\\\n",
       "\t Connecticut & 6 &  4343\\\\\n",
       "\t Connecticut & 7 &  3257\\\\\n",
       "\t Connecticut & 8 &  3202\\\\\n",
       "\\end{tabular}\n"
      ],
      "text/markdown": [
       "\n",
       "A tibble: 6 × 3\n",
       "\n",
       "| state &lt;chr&gt; | month &lt;dbl&gt; | total_cases &lt;int&gt; |\n",
       "|---|---|---|\n",
       "| Connecticut | 3 |  3051 |\n",
       "| Connecticut | 4 | 24187 |\n",
       "| Connecticut | 5 | 14729 |\n",
       "| Connecticut | 6 |  4343 |\n",
       "| Connecticut | 7 |  3257 |\n",
       "| Connecticut | 8 |  3202 |\n",
       "\n"
      ],
      "text/plain": [
       "  state       month total_cases\n",
       "1 Connecticut 3      3051      \n",
       "2 Connecticut 4     24187      \n",
       "3 Connecticut 5     14729      \n",
       "4 Connecticut 6      4343      \n",
       "5 Connecticut 7      3257      \n",
       "6 Connecticut 8      3202      "
      ]
     },
     "metadata": {},
     "output_type": "display_data"
    }
   ],
   "source": [
    "ne_cases <- covidcases %>% \n",
    "  filter(state %in% c(\"Maine\", \"Vermont\", \"New Hampshire\", \"Connecticut\", \"Rhode Island\",\n",
    "                                  \"Massachusetts\")) %>%\n",
    "  mutate(month = month(date)) %>%\n",
    "  group_by(state, month) %>%\n",
    "  summarize(total_cases = sum(daily_cases)) %>%\n",
    "  ungroup()\n",
    "head(ne_cases)"
   ]
  },
  {
   "cell_type": "markdown",
   "id": "bb4e38ba",
   "metadata": {},
   "source": [
    "Now, I need to focus on converting this data to wide format. I want a column for each state. This tells me that my `names_from` argument will be `state`. Next, I want each row to have the case values for each state. This tells me that my `values_from` argument will be total_cases. The format of this data may not be tidy but it allows me to quickly compare cases across states."
   ]
  },
  {
   "cell_type": "code",
   "execution_count": 89,
   "id": "854d1083",
   "metadata": {},
   "outputs": [
    {
     "data": {
      "text/html": [
       "<table class=\"dataframe\">\n",
       "<caption>A tibble: 6 × 7</caption>\n",
       "<thead>\n",
       "\t<tr><th scope=col>month</th><th scope=col>Connecticut</th><th scope=col>Maine</th><th scope=col>Massachusetts</th><th scope=col>New Hampshire</th><th scope=col>Rhode Island</th><th scope=col>Vermont</th></tr>\n",
       "\t<tr><th scope=col>&lt;dbl&gt;</th><th scope=col>&lt;int&gt;</th><th scope=col>&lt;int&gt;</th><th scope=col>&lt;int&gt;</th><th scope=col>&lt;int&gt;</th><th scope=col>&lt;int&gt;</th><th scope=col>&lt;int&gt;</th></tr>\n",
       "</thead>\n",
       "<tbody>\n",
       "\t<tr><td>3</td><td> 3051</td><td> 297</td><td> 6285</td><td> 367</td><td> 416</td><td>282</td></tr>\n",
       "\t<tr><td>4</td><td>24187</td><td> 797</td><td>55505</td><td>1776</td><td>7118</td><td>581</td></tr>\n",
       "\t<tr><td>5</td><td>14729</td><td>1229</td><td>34878</td><td>2502</td><td>5537</td><td>113</td></tr>\n",
       "\t<tr><td>6</td><td> 4343</td><td> 928</td><td>11926</td><td>1136</td><td>2158</td><td>226</td></tr>\n",
       "\t<tr><td>7</td><td> 3257</td><td> 659</td><td> 8711</td><td> 801</td><td>2015</td><td>205</td></tr>\n",
       "\t<tr><td>8</td><td> 3202</td><td> 616</td><td> 9642</td><td> 691</td><td>2565</td><td>209</td></tr>\n",
       "</tbody>\n",
       "</table>\n"
      ],
      "text/latex": [
       "A tibble: 6 × 7\n",
       "\\begin{tabular}{lllllll}\n",
       " month & Connecticut & Maine & Massachusetts & New Hampshire & Rhode Island & Vermont\\\\\n",
       " <dbl> & <int> & <int> & <int> & <int> & <int> & <int>\\\\\n",
       "\\hline\n",
       "\t 3 &  3051 &  297 &  6285 &  367 &  416 & 282\\\\\n",
       "\t 4 & 24187 &  797 & 55505 & 1776 & 7118 & 581\\\\\n",
       "\t 5 & 14729 & 1229 & 34878 & 2502 & 5537 & 113\\\\\n",
       "\t 6 &  4343 &  928 & 11926 & 1136 & 2158 & 226\\\\\n",
       "\t 7 &  3257 &  659 &  8711 &  801 & 2015 & 205\\\\\n",
       "\t 8 &  3202 &  616 &  9642 &  691 & 2565 & 209\\\\\n",
       "\\end{tabular}\n"
      ],
      "text/markdown": [
       "\n",
       "A tibble: 6 × 7\n",
       "\n",
       "| month &lt;dbl&gt; | Connecticut &lt;int&gt; | Maine &lt;int&gt; | Massachusetts &lt;int&gt; | New Hampshire &lt;int&gt; | Rhode Island &lt;int&gt; | Vermont &lt;int&gt; |\n",
       "|---|---|---|---|---|---|---|\n",
       "| 3 |  3051 |  297 |  6285 |  367 |  416 | 282 |\n",
       "| 4 | 24187 |  797 | 55505 | 1776 | 7118 | 581 |\n",
       "| 5 | 14729 | 1229 | 34878 | 2502 | 5537 | 113 |\n",
       "| 6 |  4343 |  928 | 11926 | 1136 | 2158 | 226 |\n",
       "| 7 |  3257 |  659 |  8711 |  801 | 2015 | 205 |\n",
       "| 8 |  3202 |  616 |  9642 |  691 | 2565 | 209 |\n",
       "\n"
      ],
      "text/plain": [
       "  month Connecticut Maine Massachusetts New Hampshire Rhode Island Vermont\n",
       "1 3      3051        297   6285          367           416         282    \n",
       "2 4     24187        797  55505         1776          7118         581    \n",
       "3 5     14729       1229  34878         2502          5537         113    \n",
       "4 6      4343        928  11926         1136          2158         226    \n",
       "5 7      3257        659   8711          801          2015         205    \n",
       "6 8      3202        616   9642          691          2565         209    "
      ]
     },
     "metadata": {},
     "output_type": "display_data"
    }
   ],
   "source": [
    "pivot_wider(ne_cases, names_from=state, values_from=total_cases)"
   ]
  },
  {
   "cell_type": "markdown",
   "id": "49f61194",
   "metadata": {},
   "source": [
    "## Merging Data with Joins\n",
    "\n",
    "Above, we saw how to manipulate our current data into a new format. Now, we will see how we can combine our multiple data sources. Merging two data frames is called joining and the function we will use depends on how we want to match between the data frames. The image below shows an overview of the different joins and the video talks through each join type.\n",
    "\n",
    "**Types of Joins**:\n",
    "* `left_join(table1,table2,by)`: Joins each row of table1 with all matches in table2 \n",
    "*  `right_join(table1,table2,by)`: Joins each row of table2 with all matches in table1 (the opposite of a left join) \n",
    "* `inner_join(table1,table2,by)`: Looks for all matches between rows in table1 and table2. Rows that do not find a match are dropped.  \n",
    "* `full_join(table1,table2,by)`: Keeps all rows from both tables and joins those that match. Rows that do not find a match will have NA values filled in.   \n",
    "* `semi_join(table1,table2,by)`: Keeps all rows in table1 that have a match in table2 but does not join to any information from table2.  \n",
    "* `anti_join(table1,table2,by)`: Keeps all rows in table1 that *do not* have a match in table 2 but does not join to any information from table2. The opposite of a semi join.  \n",
    "\n",
    "TODO: image and video"
   ]
  },
  {
   "cell_type": "markdown",
   "id": "6e6483e8",
   "metadata": {},
   "source": [
    "We will first demonstate a left join using the `left_join()` function. This function takes in two data tables (table1 and table 2) and the columns to match rows by. In a left join, for every row of table1, we look for all matching rows in table2 and add any columns not used to do the matching. Thus, every row in table1 corresponds to at least one entry in the resulting table but possibly more if there are multiple matches. We will use a left join to add the lockdown information to our case data. In this case, the first table will be `covidcases` and we will match by `state`. Since the state column is slightly different between the two data frames we specify that `state` is equivalent to `State` in the `by` argument."
   ]
  },
  {
   "cell_type": "code",
   "execution_count": 90,
   "id": "99844170",
   "metadata": {},
   "outputs": [
    {
     "data": {
      "text/html": [
       "<table class=\"dataframe\">\n",
       "<caption>A data.frame: 6 × 7</caption>\n",
       "<thead>\n",
       "\t<tr><th></th><th scope=col>date</th><th scope=col>state</th><th scope=col>county</th><th scope=col>daily_deaths</th><th scope=col>daily_cases</th><th scope=col>Lockdown_Start</th><th scope=col>Lockdown_End</th></tr>\n",
       "\t<tr><th></th><th scope=col>&lt;date&gt;</th><th scope=col>&lt;chr&gt;</th><th scope=col>&lt;chr&gt;</th><th scope=col>&lt;int&gt;</th><th scope=col>&lt;int&gt;</th><th scope=col>&lt;date&gt;</th><th scope=col>&lt;date&gt;</th></tr>\n",
       "</thead>\n",
       "<tbody>\n",
       "\t<tr><th scope=row>1</th><td>2020-03-01</td><td>California</td><td>Marin        </td><td>0</td><td>1</td><td>2020-03-19</td><td>2020-08-28</td></tr>\n",
       "\t<tr><th scope=row>2</th><td>2020-03-01</td><td>California</td><td>Orange       </td><td>0</td><td>1</td><td>2020-03-19</td><td>2020-08-28</td></tr>\n",
       "\t<tr><th scope=row>3</th><td>2020-03-01</td><td>Florida   </td><td>Manatee      </td><td>0</td><td>1</td><td>2020-04-02</td><td>2020-05-04</td></tr>\n",
       "\t<tr><th scope=row>4</th><td>2020-03-01</td><td>California</td><td>Napa         </td><td>0</td><td>1</td><td>2020-03-19</td><td>2020-08-28</td></tr>\n",
       "\t<tr><th scope=row>5</th><td>2020-03-01</td><td>Washington</td><td>Spokane      </td><td>0</td><td>4</td><td>2020-03-24</td><td>2020-05-04</td></tr>\n",
       "\t<tr><th scope=row>6</th><td>2020-03-01</td><td>California</td><td>San Francisco</td><td>0</td><td>3</td><td>2020-03-19</td><td>2020-08-28</td></tr>\n",
       "</tbody>\n",
       "</table>\n"
      ],
      "text/latex": [
       "A data.frame: 6 × 7\n",
       "\\begin{tabular}{r|lllllll}\n",
       "  & date & state & county & daily\\_deaths & daily\\_cases & Lockdown\\_Start & Lockdown\\_End\\\\\n",
       "  & <date> & <chr> & <chr> & <int> & <int> & <date> & <date>\\\\\n",
       "\\hline\n",
       "\t1 & 2020-03-01 & California & Marin         & 0 & 1 & 2020-03-19 & 2020-08-28\\\\\n",
       "\t2 & 2020-03-01 & California & Orange        & 0 & 1 & 2020-03-19 & 2020-08-28\\\\\n",
       "\t3 & 2020-03-01 & Florida    & Manatee       & 0 & 1 & 2020-04-02 & 2020-05-04\\\\\n",
       "\t4 & 2020-03-01 & California & Napa          & 0 & 1 & 2020-03-19 & 2020-08-28\\\\\n",
       "\t5 & 2020-03-01 & Washington & Spokane       & 0 & 4 & 2020-03-24 & 2020-05-04\\\\\n",
       "\t6 & 2020-03-01 & California & San Francisco & 0 & 3 & 2020-03-19 & 2020-08-28\\\\\n",
       "\\end{tabular}\n"
      ],
      "text/markdown": [
       "\n",
       "A data.frame: 6 × 7\n",
       "\n",
       "| <!--/--> | date &lt;date&gt; | state &lt;chr&gt; | county &lt;chr&gt; | daily_deaths &lt;int&gt; | daily_cases &lt;int&gt; | Lockdown_Start &lt;date&gt; | Lockdown_End &lt;date&gt; |\n",
       "|---|---|---|---|---|---|---|---|\n",
       "| 1 | 2020-03-01 | California | Marin         | 0 | 1 | 2020-03-19 | 2020-08-28 |\n",
       "| 2 | 2020-03-01 | California | Orange        | 0 | 1 | 2020-03-19 | 2020-08-28 |\n",
       "| 3 | 2020-03-01 | Florida    | Manatee       | 0 | 1 | 2020-04-02 | 2020-05-04 |\n",
       "| 4 | 2020-03-01 | California | Napa          | 0 | 1 | 2020-03-19 | 2020-08-28 |\n",
       "| 5 | 2020-03-01 | Washington | Spokane       | 0 | 4 | 2020-03-24 | 2020-05-04 |\n",
       "| 6 | 2020-03-01 | California | San Francisco | 0 | 3 | 2020-03-19 | 2020-08-28 |\n",
       "\n"
      ],
      "text/plain": [
       "  date       state      county        daily_deaths daily_cases Lockdown_Start\n",
       "1 2020-03-01 California Marin         0            1           2020-03-19    \n",
       "2 2020-03-01 California Orange        0            1           2020-03-19    \n",
       "3 2020-03-01 Florida    Manatee       0            1           2020-04-02    \n",
       "4 2020-03-01 California Napa          0            1           2020-03-19    \n",
       "5 2020-03-01 Washington Spokane       0            4           2020-03-24    \n",
       "6 2020-03-01 California San Francisco 0            3           2020-03-19    \n",
       "  Lockdown_End\n",
       "1 2020-08-28  \n",
       "2 2020-08-28  \n",
       "3 2020-05-04  \n",
       "4 2020-08-28  \n",
       "5 2020-05-04  \n",
       "6 2020-08-28  "
      ]
     },
     "metadata": {},
     "output_type": "display_data"
    }
   ],
   "source": [
    "covidcases_full <- left_join(covidcases, lockdowndates, by=c(\"state\"=\"State\"))\n",
    "head(covidcases_full)"
   ]
  },
  {
   "cell_type": "markdown",
   "id": "848f8790",
   "metadata": {},
   "source": [
    "These two new columns will allow us to determine whether a given day was during a lockdown. We use the `between` function to create a new column `lockdown` before dropping the two date columns. We can check that this column worked as expected by choosing a single county to look at. "
   ]
  },
  {
   "cell_type": "code",
   "execution_count": 91,
   "id": "dbf8d999",
   "metadata": {},
   "outputs": [
    {
     "data": {
      "text/html": [
       "<table class=\"dataframe\">\n",
       "<caption>A data.frame: 59 × 6</caption>\n",
       "<thead>\n",
       "\t<tr><th scope=col>date</th><th scope=col>state</th><th scope=col>county</th><th scope=col>daily_deaths</th><th scope=col>daily_cases</th><th scope=col>lockdown</th></tr>\n",
       "\t<tr><th scope=col>&lt;date&gt;</th><th scope=col>&lt;chr&gt;</th><th scope=col>&lt;chr&gt;</th><th scope=col>&lt;int&gt;</th><th scope=col>&lt;int&gt;</th><th scope=col>&lt;lgl&gt;</th></tr>\n",
       "</thead>\n",
       "<tbody>\n",
       "\t<tr><td>2020-03-13</td><td>Alabama</td><td>Jefferson</td><td>0</td><td> 2</td><td>FALSE</td></tr>\n",
       "\t<tr><td>2020-03-14</td><td>Alabama</td><td>Jefferson</td><td>0</td><td> 4</td><td>FALSE</td></tr>\n",
       "\t<tr><td>2020-03-15</td><td>Alabama</td><td>Jefferson</td><td>0</td><td> 7</td><td>FALSE</td></tr>\n",
       "\t<tr><td>2020-03-16</td><td>Alabama</td><td>Jefferson</td><td>0</td><td> 4</td><td>FALSE</td></tr>\n",
       "\t<tr><td>2020-03-17</td><td>Alabama</td><td>Jefferson</td><td>0</td><td> 4</td><td>FALSE</td></tr>\n",
       "\t<tr><td>2020-03-18</td><td>Alabama</td><td>Jefferson</td><td>0</td><td> 4</td><td>FALSE</td></tr>\n",
       "\t<tr><td>2020-03-19</td><td>Alabama</td><td>Jefferson</td><td>0</td><td> 9</td><td>FALSE</td></tr>\n",
       "\t<tr><td>2020-03-20</td><td>Alabama</td><td>Jefferson</td><td>0</td><td>16</td><td>FALSE</td></tr>\n",
       "\t<tr><td>2020-03-21</td><td>Alabama</td><td>Jefferson</td><td>0</td><td>11</td><td>FALSE</td></tr>\n",
       "\t<tr><td>2020-03-22</td><td>Alabama</td><td>Jefferson</td><td>0</td><td>10</td><td>FALSE</td></tr>\n",
       "\t<tr><td>2020-03-23</td><td>Alabama</td><td>Jefferson</td><td>0</td><td>15</td><td>FALSE</td></tr>\n",
       "\t<tr><td>2020-03-24</td><td>Alabama</td><td>Jefferson</td><td>0</td><td> 5</td><td>FALSE</td></tr>\n",
       "\t<tr><td>2020-03-25</td><td>Alabama</td><td>Jefferson</td><td>0</td><td>38</td><td>FALSE</td></tr>\n",
       "\t<tr><td>2020-03-26</td><td>Alabama</td><td>Jefferson</td><td>0</td><td>44</td><td>FALSE</td></tr>\n",
       "\t<tr><td>2020-03-27</td><td>Alabama</td><td>Jefferson</td><td>0</td><td> 6</td><td>FALSE</td></tr>\n",
       "\t<tr><td>2020-03-28</td><td>Alabama</td><td>Jefferson</td><td>0</td><td>35</td><td>FALSE</td></tr>\n",
       "\t<tr><td>2020-03-29</td><td>Alabama</td><td>Jefferson</td><td>0</td><td>32</td><td>FALSE</td></tr>\n",
       "\t<tr><td>2020-03-30</td><td>Alabama</td><td>Jefferson</td><td>0</td><td>11</td><td>FALSE</td></tr>\n",
       "\t<tr><td>2020-03-31</td><td>Alabama</td><td>Jefferson</td><td>0</td><td>25</td><td>FALSE</td></tr>\n",
       "\t<tr><td>2020-04-01</td><td>Alabama</td><td>Jefferson</td><td>4</td><td>23</td><td>FALSE</td></tr>\n",
       "\t<tr><td>2020-04-02</td><td>Alabama</td><td>Jefferson</td><td>1</td><td>27</td><td>FALSE</td></tr>\n",
       "\t<tr><td>2020-04-03</td><td>Alabama</td><td>Jefferson</td><td>1</td><td>37</td><td>FALSE</td></tr>\n",
       "\t<tr><td>2020-04-04</td><td>Alabama</td><td>Jefferson</td><td>3</td><td> 7</td><td> TRUE</td></tr>\n",
       "\t<tr><td>2020-04-05</td><td>Alabama</td><td>Jefferson</td><td>0</td><td>42</td><td> TRUE</td></tr>\n",
       "\t<tr><td>2020-04-06</td><td>Alabama</td><td>Jefferson</td><td>2</td><td>20</td><td> TRUE</td></tr>\n",
       "\t<tr><td>2020-04-07</td><td>Alabama</td><td>Jefferson</td><td>1</td><td>23</td><td> TRUE</td></tr>\n",
       "\t<tr><td>2020-04-08</td><td>Alabama</td><td>Jefferson</td><td>2</td><td>31</td><td> TRUE</td></tr>\n",
       "\t<tr><td>2020-04-09</td><td>Alabama</td><td>Jefferson</td><td>0</td><td>31</td><td> TRUE</td></tr>\n",
       "\t<tr><td>2020-04-10</td><td>Alabama</td><td>Jefferson</td><td>0</td><td>32</td><td> TRUE</td></tr>\n",
       "\t<tr><td>2020-04-11</td><td>Alabama</td><td>Jefferson</td><td>1</td><td>24</td><td> TRUE</td></tr>\n",
       "\t<tr><td>2020-04-12</td><td>Alabama</td><td>Jefferson</td><td>0</td><td>18</td><td> TRUE</td></tr>\n",
       "\t<tr><td>2020-04-13</td><td>Alabama</td><td>Jefferson</td><td>0</td><td>20</td><td> TRUE</td></tr>\n",
       "\t<tr><td>2020-04-14</td><td>Alabama</td><td>Jefferson</td><td>1</td><td> 3</td><td> TRUE</td></tr>\n",
       "\t<tr><td>2020-04-15</td><td>Alabama</td><td>Jefferson</td><td>1</td><td> 8</td><td> TRUE</td></tr>\n",
       "\t<tr><td>2020-04-16</td><td>Alabama</td><td>Jefferson</td><td>5</td><td> 6</td><td> TRUE</td></tr>\n",
       "\t<tr><td>2020-04-17</td><td>Alabama</td><td>Jefferson</td><td>2</td><td>11</td><td> TRUE</td></tr>\n",
       "\t<tr><td>2020-04-18</td><td>Alabama</td><td>Jefferson</td><td>1</td><td>28</td><td> TRUE</td></tr>\n",
       "\t<tr><td>2020-04-19</td><td>Alabama</td><td>Jefferson</td><td>0</td><td> 9</td><td> TRUE</td></tr>\n",
       "\t<tr><td>2020-04-20</td><td>Alabama</td><td>Jefferson</td><td>1</td><td> 6</td><td> TRUE</td></tr>\n",
       "\t<tr><td>2020-04-21</td><td>Alabama</td><td>Jefferson</td><td>0</td><td>12</td><td> TRUE</td></tr>\n",
       "\t<tr><td>2020-04-22</td><td>Alabama</td><td>Jefferson</td><td>5</td><td>44</td><td> TRUE</td></tr>\n",
       "\t<tr><td>2020-04-23</td><td>Alabama</td><td>Jefferson</td><td>0</td><td>34</td><td> TRUE</td></tr>\n",
       "\t<tr><td>2020-04-24</td><td>Alabama</td><td>Jefferson</td><td>2</td><td>19</td><td> TRUE</td></tr>\n",
       "\t<tr><td>2020-04-25</td><td>Alabama</td><td>Jefferson</td><td>0</td><td>31</td><td> TRUE</td></tr>\n",
       "\t<tr><td>2020-04-26</td><td>Alabama</td><td>Jefferson</td><td>0</td><td>11</td><td> TRUE</td></tr>\n",
       "\t<tr><td>2020-04-27</td><td>Alabama</td><td>Jefferson</td><td>3</td><td> 0</td><td> TRUE</td></tr>\n",
       "\t<tr><td>2020-04-28</td><td>Alabama</td><td>Jefferson</td><td>5</td><td>22</td><td> TRUE</td></tr>\n",
       "\t<tr><td>2020-04-29</td><td>Alabama</td><td>Jefferson</td><td>3</td><td>20</td><td> TRUE</td></tr>\n",
       "\t<tr><td>2020-04-30</td><td>Alabama</td><td>Jefferson</td><td>2</td><td> 5</td><td> TRUE</td></tr>\n",
       "\t<tr><td>2020-05-01</td><td>Alabama</td><td>Jefferson</td><td>2</td><td>43</td><td>FALSE</td></tr>\n",
       "\t<tr><td>2020-05-02</td><td>Alabama</td><td>Jefferson</td><td>0</td><td>17</td><td>FALSE</td></tr>\n",
       "\t<tr><td>2020-05-03</td><td>Alabama</td><td>Jefferson</td><td>0</td><td>23</td><td>FALSE</td></tr>\n",
       "\t<tr><td>2020-05-04</td><td>Alabama</td><td>Jefferson</td><td>0</td><td>23</td><td>FALSE</td></tr>\n",
       "\t<tr><td>2020-05-05</td><td>Alabama</td><td>Jefferson</td><td>1</td><td>28</td><td>FALSE</td></tr>\n",
       "\t<tr><td>2020-05-06</td><td>Alabama</td><td>Jefferson</td><td>4</td><td>28</td><td>FALSE</td></tr>\n",
       "\t<tr><td>2020-05-07</td><td>Alabama</td><td>Jefferson</td><td>4</td><td>17</td><td>FALSE</td></tr>\n",
       "\t<tr><td>2020-05-08</td><td>Alabama</td><td>Jefferson</td><td>2</td><td>29</td><td>FALSE</td></tr>\n",
       "\t<tr><td>2020-05-09</td><td>Alabama</td><td>Jefferson</td><td>1</td><td>15</td><td>FALSE</td></tr>\n",
       "\t<tr><td>2020-05-10</td><td>Alabama</td><td>Jefferson</td><td>0</td><td>12</td><td>FALSE</td></tr>\n",
       "</tbody>\n",
       "</table>\n"
      ],
      "text/latex": [
       "A data.frame: 59 × 6\n",
       "\\begin{tabular}{llllll}\n",
       " date & state & county & daily\\_deaths & daily\\_cases & lockdown\\\\\n",
       " <date> & <chr> & <chr> & <int> & <int> & <lgl>\\\\\n",
       "\\hline\n",
       "\t 2020-03-13 & Alabama & Jefferson & 0 &  2 & FALSE\\\\\n",
       "\t 2020-03-14 & Alabama & Jefferson & 0 &  4 & FALSE\\\\\n",
       "\t 2020-03-15 & Alabama & Jefferson & 0 &  7 & FALSE\\\\\n",
       "\t 2020-03-16 & Alabama & Jefferson & 0 &  4 & FALSE\\\\\n",
       "\t 2020-03-17 & Alabama & Jefferson & 0 &  4 & FALSE\\\\\n",
       "\t 2020-03-18 & Alabama & Jefferson & 0 &  4 & FALSE\\\\\n",
       "\t 2020-03-19 & Alabama & Jefferson & 0 &  9 & FALSE\\\\\n",
       "\t 2020-03-20 & Alabama & Jefferson & 0 & 16 & FALSE\\\\\n",
       "\t 2020-03-21 & Alabama & Jefferson & 0 & 11 & FALSE\\\\\n",
       "\t 2020-03-22 & Alabama & Jefferson & 0 & 10 & FALSE\\\\\n",
       "\t 2020-03-23 & Alabama & Jefferson & 0 & 15 & FALSE\\\\\n",
       "\t 2020-03-24 & Alabama & Jefferson & 0 &  5 & FALSE\\\\\n",
       "\t 2020-03-25 & Alabama & Jefferson & 0 & 38 & FALSE\\\\\n",
       "\t 2020-03-26 & Alabama & Jefferson & 0 & 44 & FALSE\\\\\n",
       "\t 2020-03-27 & Alabama & Jefferson & 0 &  6 & FALSE\\\\\n",
       "\t 2020-03-28 & Alabama & Jefferson & 0 & 35 & FALSE\\\\\n",
       "\t 2020-03-29 & Alabama & Jefferson & 0 & 32 & FALSE\\\\\n",
       "\t 2020-03-30 & Alabama & Jefferson & 0 & 11 & FALSE\\\\\n",
       "\t 2020-03-31 & Alabama & Jefferson & 0 & 25 & FALSE\\\\\n",
       "\t 2020-04-01 & Alabama & Jefferson & 4 & 23 & FALSE\\\\\n",
       "\t 2020-04-02 & Alabama & Jefferson & 1 & 27 & FALSE\\\\\n",
       "\t 2020-04-03 & Alabama & Jefferson & 1 & 37 & FALSE\\\\\n",
       "\t 2020-04-04 & Alabama & Jefferson & 3 &  7 &  TRUE\\\\\n",
       "\t 2020-04-05 & Alabama & Jefferson & 0 & 42 &  TRUE\\\\\n",
       "\t 2020-04-06 & Alabama & Jefferson & 2 & 20 &  TRUE\\\\\n",
       "\t 2020-04-07 & Alabama & Jefferson & 1 & 23 &  TRUE\\\\\n",
       "\t 2020-04-08 & Alabama & Jefferson & 2 & 31 &  TRUE\\\\\n",
       "\t 2020-04-09 & Alabama & Jefferson & 0 & 31 &  TRUE\\\\\n",
       "\t 2020-04-10 & Alabama & Jefferson & 0 & 32 &  TRUE\\\\\n",
       "\t 2020-04-11 & Alabama & Jefferson & 1 & 24 &  TRUE\\\\\n",
       "\t 2020-04-12 & Alabama & Jefferson & 0 & 18 &  TRUE\\\\\n",
       "\t 2020-04-13 & Alabama & Jefferson & 0 & 20 &  TRUE\\\\\n",
       "\t 2020-04-14 & Alabama & Jefferson & 1 &  3 &  TRUE\\\\\n",
       "\t 2020-04-15 & Alabama & Jefferson & 1 &  8 &  TRUE\\\\\n",
       "\t 2020-04-16 & Alabama & Jefferson & 5 &  6 &  TRUE\\\\\n",
       "\t 2020-04-17 & Alabama & Jefferson & 2 & 11 &  TRUE\\\\\n",
       "\t 2020-04-18 & Alabama & Jefferson & 1 & 28 &  TRUE\\\\\n",
       "\t 2020-04-19 & Alabama & Jefferson & 0 &  9 &  TRUE\\\\\n",
       "\t 2020-04-20 & Alabama & Jefferson & 1 &  6 &  TRUE\\\\\n",
       "\t 2020-04-21 & Alabama & Jefferson & 0 & 12 &  TRUE\\\\\n",
       "\t 2020-04-22 & Alabama & Jefferson & 5 & 44 &  TRUE\\\\\n",
       "\t 2020-04-23 & Alabama & Jefferson & 0 & 34 &  TRUE\\\\\n",
       "\t 2020-04-24 & Alabama & Jefferson & 2 & 19 &  TRUE\\\\\n",
       "\t 2020-04-25 & Alabama & Jefferson & 0 & 31 &  TRUE\\\\\n",
       "\t 2020-04-26 & Alabama & Jefferson & 0 & 11 &  TRUE\\\\\n",
       "\t 2020-04-27 & Alabama & Jefferson & 3 &  0 &  TRUE\\\\\n",
       "\t 2020-04-28 & Alabama & Jefferson & 5 & 22 &  TRUE\\\\\n",
       "\t 2020-04-29 & Alabama & Jefferson & 3 & 20 &  TRUE\\\\\n",
       "\t 2020-04-30 & Alabama & Jefferson & 2 &  5 &  TRUE\\\\\n",
       "\t 2020-05-01 & Alabama & Jefferson & 2 & 43 & FALSE\\\\\n",
       "\t 2020-05-02 & Alabama & Jefferson & 0 & 17 & FALSE\\\\\n",
       "\t 2020-05-03 & Alabama & Jefferson & 0 & 23 & FALSE\\\\\n",
       "\t 2020-05-04 & Alabama & Jefferson & 0 & 23 & FALSE\\\\\n",
       "\t 2020-05-05 & Alabama & Jefferson & 1 & 28 & FALSE\\\\\n",
       "\t 2020-05-06 & Alabama & Jefferson & 4 & 28 & FALSE\\\\\n",
       "\t 2020-05-07 & Alabama & Jefferson & 4 & 17 & FALSE\\\\\n",
       "\t 2020-05-08 & Alabama & Jefferson & 2 & 29 & FALSE\\\\\n",
       "\t 2020-05-09 & Alabama & Jefferson & 1 & 15 & FALSE\\\\\n",
       "\t 2020-05-10 & Alabama & Jefferson & 0 & 12 & FALSE\\\\\n",
       "\\end{tabular}\n"
      ],
      "text/markdown": [
       "\n",
       "A data.frame: 59 × 6\n",
       "\n",
       "| date &lt;date&gt; | state &lt;chr&gt; | county &lt;chr&gt; | daily_deaths &lt;int&gt; | daily_cases &lt;int&gt; | lockdown &lt;lgl&gt; |\n",
       "|---|---|---|---|---|---|\n",
       "| 2020-03-13 | Alabama | Jefferson | 0 |  2 | FALSE |\n",
       "| 2020-03-14 | Alabama | Jefferson | 0 |  4 | FALSE |\n",
       "| 2020-03-15 | Alabama | Jefferson | 0 |  7 | FALSE |\n",
       "| 2020-03-16 | Alabama | Jefferson | 0 |  4 | FALSE |\n",
       "| 2020-03-17 | Alabama | Jefferson | 0 |  4 | FALSE |\n",
       "| 2020-03-18 | Alabama | Jefferson | 0 |  4 | FALSE |\n",
       "| 2020-03-19 | Alabama | Jefferson | 0 |  9 | FALSE |\n",
       "| 2020-03-20 | Alabama | Jefferson | 0 | 16 | FALSE |\n",
       "| 2020-03-21 | Alabama | Jefferson | 0 | 11 | FALSE |\n",
       "| 2020-03-22 | Alabama | Jefferson | 0 | 10 | FALSE |\n",
       "| 2020-03-23 | Alabama | Jefferson | 0 | 15 | FALSE |\n",
       "| 2020-03-24 | Alabama | Jefferson | 0 |  5 | FALSE |\n",
       "| 2020-03-25 | Alabama | Jefferson | 0 | 38 | FALSE |\n",
       "| 2020-03-26 | Alabama | Jefferson | 0 | 44 | FALSE |\n",
       "| 2020-03-27 | Alabama | Jefferson | 0 |  6 | FALSE |\n",
       "| 2020-03-28 | Alabama | Jefferson | 0 | 35 | FALSE |\n",
       "| 2020-03-29 | Alabama | Jefferson | 0 | 32 | FALSE |\n",
       "| 2020-03-30 | Alabama | Jefferson | 0 | 11 | FALSE |\n",
       "| 2020-03-31 | Alabama | Jefferson | 0 | 25 | FALSE |\n",
       "| 2020-04-01 | Alabama | Jefferson | 4 | 23 | FALSE |\n",
       "| 2020-04-02 | Alabama | Jefferson | 1 | 27 | FALSE |\n",
       "| 2020-04-03 | Alabama | Jefferson | 1 | 37 | FALSE |\n",
       "| 2020-04-04 | Alabama | Jefferson | 3 |  7 |  TRUE |\n",
       "| 2020-04-05 | Alabama | Jefferson | 0 | 42 |  TRUE |\n",
       "| 2020-04-06 | Alabama | Jefferson | 2 | 20 |  TRUE |\n",
       "| 2020-04-07 | Alabama | Jefferson | 1 | 23 |  TRUE |\n",
       "| 2020-04-08 | Alabama | Jefferson | 2 | 31 |  TRUE |\n",
       "| 2020-04-09 | Alabama | Jefferson | 0 | 31 |  TRUE |\n",
       "| 2020-04-10 | Alabama | Jefferson | 0 | 32 |  TRUE |\n",
       "| 2020-04-11 | Alabama | Jefferson | 1 | 24 |  TRUE |\n",
       "| 2020-04-12 | Alabama | Jefferson | 0 | 18 |  TRUE |\n",
       "| 2020-04-13 | Alabama | Jefferson | 0 | 20 |  TRUE |\n",
       "| 2020-04-14 | Alabama | Jefferson | 1 |  3 |  TRUE |\n",
       "| 2020-04-15 | Alabama | Jefferson | 1 |  8 |  TRUE |\n",
       "| 2020-04-16 | Alabama | Jefferson | 5 |  6 |  TRUE |\n",
       "| 2020-04-17 | Alabama | Jefferson | 2 | 11 |  TRUE |\n",
       "| 2020-04-18 | Alabama | Jefferson | 1 | 28 |  TRUE |\n",
       "| 2020-04-19 | Alabama | Jefferson | 0 |  9 |  TRUE |\n",
       "| 2020-04-20 | Alabama | Jefferson | 1 |  6 |  TRUE |\n",
       "| 2020-04-21 | Alabama | Jefferson | 0 | 12 |  TRUE |\n",
       "| 2020-04-22 | Alabama | Jefferson | 5 | 44 |  TRUE |\n",
       "| 2020-04-23 | Alabama | Jefferson | 0 | 34 |  TRUE |\n",
       "| 2020-04-24 | Alabama | Jefferson | 2 | 19 |  TRUE |\n",
       "| 2020-04-25 | Alabama | Jefferson | 0 | 31 |  TRUE |\n",
       "| 2020-04-26 | Alabama | Jefferson | 0 | 11 |  TRUE |\n",
       "| 2020-04-27 | Alabama | Jefferson | 3 |  0 |  TRUE |\n",
       "| 2020-04-28 | Alabama | Jefferson | 5 | 22 |  TRUE |\n",
       "| 2020-04-29 | Alabama | Jefferson | 3 | 20 |  TRUE |\n",
       "| 2020-04-30 | Alabama | Jefferson | 2 |  5 |  TRUE |\n",
       "| 2020-05-01 | Alabama | Jefferson | 2 | 43 | FALSE |\n",
       "| 2020-05-02 | Alabama | Jefferson | 0 | 17 | FALSE |\n",
       "| 2020-05-03 | Alabama | Jefferson | 0 | 23 | FALSE |\n",
       "| 2020-05-04 | Alabama | Jefferson | 0 | 23 | FALSE |\n",
       "| 2020-05-05 | Alabama | Jefferson | 1 | 28 | FALSE |\n",
       "| 2020-05-06 | Alabama | Jefferson | 4 | 28 | FALSE |\n",
       "| 2020-05-07 | Alabama | Jefferson | 4 | 17 | FALSE |\n",
       "| 2020-05-08 | Alabama | Jefferson | 2 | 29 | FALSE |\n",
       "| 2020-05-09 | Alabama | Jefferson | 1 | 15 | FALSE |\n",
       "| 2020-05-10 | Alabama | Jefferson | 0 | 12 | FALSE |\n",
       "\n"
      ],
      "text/plain": [
       "   date       state   county    daily_deaths daily_cases lockdown\n",
       "1  2020-03-13 Alabama Jefferson 0             2          FALSE   \n",
       "2  2020-03-14 Alabama Jefferson 0             4          FALSE   \n",
       "3  2020-03-15 Alabama Jefferson 0             7          FALSE   \n",
       "4  2020-03-16 Alabama Jefferson 0             4          FALSE   \n",
       "5  2020-03-17 Alabama Jefferson 0             4          FALSE   \n",
       "6  2020-03-18 Alabama Jefferson 0             4          FALSE   \n",
       "7  2020-03-19 Alabama Jefferson 0             9          FALSE   \n",
       "8  2020-03-20 Alabama Jefferson 0            16          FALSE   \n",
       "9  2020-03-21 Alabama Jefferson 0            11          FALSE   \n",
       "10 2020-03-22 Alabama Jefferson 0            10          FALSE   \n",
       "11 2020-03-23 Alabama Jefferson 0            15          FALSE   \n",
       "12 2020-03-24 Alabama Jefferson 0             5          FALSE   \n",
       "13 2020-03-25 Alabama Jefferson 0            38          FALSE   \n",
       "14 2020-03-26 Alabama Jefferson 0            44          FALSE   \n",
       "15 2020-03-27 Alabama Jefferson 0             6          FALSE   \n",
       "16 2020-03-28 Alabama Jefferson 0            35          FALSE   \n",
       "17 2020-03-29 Alabama Jefferson 0            32          FALSE   \n",
       "18 2020-03-30 Alabama Jefferson 0            11          FALSE   \n",
       "19 2020-03-31 Alabama Jefferson 0            25          FALSE   \n",
       "20 2020-04-01 Alabama Jefferson 4            23          FALSE   \n",
       "21 2020-04-02 Alabama Jefferson 1            27          FALSE   \n",
       "22 2020-04-03 Alabama Jefferson 1            37          FALSE   \n",
       "23 2020-04-04 Alabama Jefferson 3             7           TRUE   \n",
       "24 2020-04-05 Alabama Jefferson 0            42           TRUE   \n",
       "25 2020-04-06 Alabama Jefferson 2            20           TRUE   \n",
       "26 2020-04-07 Alabama Jefferson 1            23           TRUE   \n",
       "27 2020-04-08 Alabama Jefferson 2            31           TRUE   \n",
       "28 2020-04-09 Alabama Jefferson 0            31           TRUE   \n",
       "29 2020-04-10 Alabama Jefferson 0            32           TRUE   \n",
       "30 2020-04-11 Alabama Jefferson 1            24           TRUE   \n",
       "31 2020-04-12 Alabama Jefferson 0            18           TRUE   \n",
       "32 2020-04-13 Alabama Jefferson 0            20           TRUE   \n",
       "33 2020-04-14 Alabama Jefferson 1             3           TRUE   \n",
       "34 2020-04-15 Alabama Jefferson 1             8           TRUE   \n",
       "35 2020-04-16 Alabama Jefferson 5             6           TRUE   \n",
       "36 2020-04-17 Alabama Jefferson 2            11           TRUE   \n",
       "37 2020-04-18 Alabama Jefferson 1            28           TRUE   \n",
       "38 2020-04-19 Alabama Jefferson 0             9           TRUE   \n",
       "39 2020-04-20 Alabama Jefferson 1             6           TRUE   \n",
       "40 2020-04-21 Alabama Jefferson 0            12           TRUE   \n",
       "41 2020-04-22 Alabama Jefferson 5            44           TRUE   \n",
       "42 2020-04-23 Alabama Jefferson 0            34           TRUE   \n",
       "43 2020-04-24 Alabama Jefferson 2            19           TRUE   \n",
       "44 2020-04-25 Alabama Jefferson 0            31           TRUE   \n",
       "45 2020-04-26 Alabama Jefferson 0            11           TRUE   \n",
       "46 2020-04-27 Alabama Jefferson 3             0           TRUE   \n",
       "47 2020-04-28 Alabama Jefferson 5            22           TRUE   \n",
       "48 2020-04-29 Alabama Jefferson 3            20           TRUE   \n",
       "49 2020-04-30 Alabama Jefferson 2             5           TRUE   \n",
       "50 2020-05-01 Alabama Jefferson 2            43          FALSE   \n",
       "51 2020-05-02 Alabama Jefferson 0            17          FALSE   \n",
       "52 2020-05-03 Alabama Jefferson 0            23          FALSE   \n",
       "53 2020-05-04 Alabama Jefferson 0            23          FALSE   \n",
       "54 2020-05-05 Alabama Jefferson 1            28          FALSE   \n",
       "55 2020-05-06 Alabama Jefferson 4            28          FALSE   \n",
       "56 2020-05-07 Alabama Jefferson 4            17          FALSE   \n",
       "57 2020-05-08 Alabama Jefferson 2            29          FALSE   \n",
       "58 2020-05-09 Alabama Jefferson 1            15          FALSE   \n",
       "59 2020-05-10 Alabama Jefferson 0            12          FALSE   "
      ]
     },
     "metadata": {},
     "output_type": "display_data"
    }
   ],
   "source": [
    "covidcases_full <- covidcases_full %>%\n",
    "  mutate(lockdown = between(date, Lockdown_Start, Lockdown_End)) %>%\n",
    "  select(-c(Lockdown_Start, Lockdown_End)) \n",
    "covidcases_full %>%\n",
    "  filter(state == \"Alabama\", county == \"Jefferson\", date <= as.Date(\"2020-05-10\"))"
   ]
  },
  {
   "cell_type": "markdown",
   "id": "6d4bd657",
   "metadata": {},
   "source": [
    "We now want to add in the mobility data. In the last case, we wanted to keep any observation in `covidcases` regardless if it was in the `lockdowndates` data frame. Therefore, we used a left join. In this case, we will only want to keep observations that have mobility date for that state on each date. This indicates that we want to use an *inner join*. The function `inner_join()` takes in two data tables (table1 and table2) and the columns to match rows by. The function only keeps rows in table1 that match to a row in table2. Again, those columns in table2 not used to match with table1 are added to the resulting outcome. In this case, we match by state and date."
   ]
  },
  {
   "cell_type": "code",
   "execution_count": 92,
   "id": "e043999d",
   "metadata": {},
   "outputs": [
    {
     "data": {
      "text/html": [
       "<table class=\"dataframe\">\n",
       "<caption>A data.frame: 6 × 7</caption>\n",
       "<thead>\n",
       "\t<tr><th></th><th scope=col>date</th><th scope=col>state</th><th scope=col>county</th><th scope=col>daily_deaths</th><th scope=col>daily_cases</th><th scope=col>lockdown</th><th scope=col>m50</th></tr>\n",
       "\t<tr><th></th><th scope=col>&lt;date&gt;</th><th scope=col>&lt;chr&gt;</th><th scope=col>&lt;chr&gt;</th><th scope=col>&lt;int&gt;</th><th scope=col>&lt;int&gt;</th><th scope=col>&lt;lgl&gt;</th><th scope=col>&lt;dbl&gt;</th></tr>\n",
       "</thead>\n",
       "<tbody>\n",
       "\t<tr><th scope=row>1</th><td>2020-03-01</td><td>California</td><td>Marin        </td><td>0</td><td>1</td><td>FALSE</td><td>9.722800</td></tr>\n",
       "\t<tr><th scope=row>2</th><td>2020-03-01</td><td>California</td><td>Orange       </td><td>0</td><td>1</td><td>FALSE</td><td>9.722800</td></tr>\n",
       "\t<tr><th scope=row>3</th><td>2020-03-01</td><td>Florida   </td><td>Manatee      </td><td>0</td><td>1</td><td>FALSE</td><td>7.386687</td></tr>\n",
       "\t<tr><th scope=row>4</th><td>2020-03-01</td><td>California</td><td>Napa         </td><td>0</td><td>1</td><td>FALSE</td><td>9.722800</td></tr>\n",
       "\t<tr><th scope=row>5</th><td>2020-03-01</td><td>Washington</td><td>Spokane      </td><td>0</td><td>4</td><td>FALSE</td><td>2.503500</td></tr>\n",
       "\t<tr><th scope=row>6</th><td>2020-03-01</td><td>California</td><td>San Francisco</td><td>0</td><td>3</td><td>FALSE</td><td>9.722800</td></tr>\n",
       "</tbody>\n",
       "</table>\n"
      ],
      "text/latex": [
       "A data.frame: 6 × 7\n",
       "\\begin{tabular}{r|lllllll}\n",
       "  & date & state & county & daily\\_deaths & daily\\_cases & lockdown & m50\\\\\n",
       "  & <date> & <chr> & <chr> & <int> & <int> & <lgl> & <dbl>\\\\\n",
       "\\hline\n",
       "\t1 & 2020-03-01 & California & Marin         & 0 & 1 & FALSE & 9.722800\\\\\n",
       "\t2 & 2020-03-01 & California & Orange        & 0 & 1 & FALSE & 9.722800\\\\\n",
       "\t3 & 2020-03-01 & Florida    & Manatee       & 0 & 1 & FALSE & 7.386687\\\\\n",
       "\t4 & 2020-03-01 & California & Napa          & 0 & 1 & FALSE & 9.722800\\\\\n",
       "\t5 & 2020-03-01 & Washington & Spokane       & 0 & 4 & FALSE & 2.503500\\\\\n",
       "\t6 & 2020-03-01 & California & San Francisco & 0 & 3 & FALSE & 9.722800\\\\\n",
       "\\end{tabular}\n"
      ],
      "text/markdown": [
       "\n",
       "A data.frame: 6 × 7\n",
       "\n",
       "| <!--/--> | date &lt;date&gt; | state &lt;chr&gt; | county &lt;chr&gt; | daily_deaths &lt;int&gt; | daily_cases &lt;int&gt; | lockdown &lt;lgl&gt; | m50 &lt;dbl&gt; |\n",
       "|---|---|---|---|---|---|---|---|\n",
       "| 1 | 2020-03-01 | California | Marin         | 0 | 1 | FALSE | 9.722800 |\n",
       "| 2 | 2020-03-01 | California | Orange        | 0 | 1 | FALSE | 9.722800 |\n",
       "| 3 | 2020-03-01 | Florida    | Manatee       | 0 | 1 | FALSE | 7.386687 |\n",
       "| 4 | 2020-03-01 | California | Napa          | 0 | 1 | FALSE | 9.722800 |\n",
       "| 5 | 2020-03-01 | Washington | Spokane       | 0 | 4 | FALSE | 2.503500 |\n",
       "| 6 | 2020-03-01 | California | San Francisco | 0 | 3 | FALSE | 9.722800 |\n",
       "\n"
      ],
      "text/plain": [
       "  date       state      county        daily_deaths daily_cases lockdown\n",
       "1 2020-03-01 California Marin         0            1           FALSE   \n",
       "2 2020-03-01 California Orange        0            1           FALSE   \n",
       "3 2020-03-01 Florida    Manatee       0            1           FALSE   \n",
       "4 2020-03-01 California Napa          0            1           FALSE   \n",
       "5 2020-03-01 Washington Spokane       0            4           FALSE   \n",
       "6 2020-03-01 California San Francisco 0            3           FALSE   \n",
       "  m50     \n",
       "1 9.722800\n",
       "2 9.722800\n",
       "3 7.386687\n",
       "4 9.722800\n",
       "5 2.503500\n",
       "6 9.722800"
      ]
     },
     "metadata": {},
     "output_type": "display_data"
    }
   ],
   "source": [
    "covidcases_full <- inner_join(covidcases_full, mobility, by = c(\"state\", \"date\")) %>%\n",
    "  select(-c(samples, m50_index))\n",
    "head(covidcases_full)"
   ]
  },
  {
   "cell_type": "markdown",
   "id": "edb218d2",
   "metadata": {},
   "source": [
    "## Recap Video\n",
    "\n",
    "TODO: might skip since we have a video up above"
   ]
  },
  {
   "cell_type": "markdown",
   "id": "76ae25fb",
   "metadata": {},
   "source": [
    "## Exercises"
   ]
  },
  {
   "cell_type": "markdown",
   "id": "39916f47",
   "metadata": {},
   "source": [
    "1. First, create a data frame `sub_cases` where the columns corresponded to the number of cases for CA, Michigan, Connecticut, RI, Ohio, NY, and MA states and the rows corresponded to the months. Then, manipulate the mobility data to calculate total number of `m50` for each month and merge it with the `sub_cases` using `right_join()` function."
   ]
  },
  {
   "cell_type": "code",
   "execution_count": 93,
   "id": "81251932",
   "metadata": {},
   "outputs": [
    {
     "name": "stderr",
     "output_type": "stream",
     "text": [
      "\u001b[1m\u001b[22m`summarise()` has grouped output by 'state'. You can override using the\n",
      "`.groups` argument.\n"
     ]
    },
    {
     "data": {
      "text/html": [
       "<table class=\"dataframe\">\n",
       "<caption>A tibble: 6 × 3</caption>\n",
       "<thead>\n",
       "\t<tr><th scope=col>state</th><th scope=col>month</th><th scope=col>total_cases</th></tr>\n",
       "\t<tr><th scope=col>&lt;chr&gt;</th><th scope=col>&lt;dbl&gt;</th><th scope=col>&lt;int&gt;</th></tr>\n",
       "</thead>\n",
       "<tbody>\n",
       "\t<tr><td>California</td><td>3</td><td>  8583</td></tr>\n",
       "\t<tr><td>California</td><td>4</td><td> 41887</td></tr>\n",
       "\t<tr><td>California</td><td>5</td><td> 62644</td></tr>\n",
       "\t<tr><td>California</td><td>6</td><td>119039</td></tr>\n",
       "\t<tr><td>California</td><td>7</td><td>270120</td></tr>\n",
       "\t<tr><td>California</td><td>8</td><td>210270</td></tr>\n",
       "</tbody>\n",
       "</table>\n"
      ],
      "text/latex": [
       "A tibble: 6 × 3\n",
       "\\begin{tabular}{lll}\n",
       " state & month & total\\_cases\\\\\n",
       " <chr> & <dbl> & <int>\\\\\n",
       "\\hline\n",
       "\t California & 3 &   8583\\\\\n",
       "\t California & 4 &  41887\\\\\n",
       "\t California & 5 &  62644\\\\\n",
       "\t California & 6 & 119039\\\\\n",
       "\t California & 7 & 270120\\\\\n",
       "\t California & 8 & 210270\\\\\n",
       "\\end{tabular}\n"
      ],
      "text/markdown": [
       "\n",
       "A tibble: 6 × 3\n",
       "\n",
       "| state &lt;chr&gt; | month &lt;dbl&gt; | total_cases &lt;int&gt; |\n",
       "|---|---|---|\n",
       "| California | 3 |   8583 |\n",
       "| California | 4 |  41887 |\n",
       "| California | 5 |  62644 |\n",
       "| California | 6 | 119039 |\n",
       "| California | 7 | 270120 |\n",
       "| California | 8 | 210270 |\n",
       "\n"
      ],
      "text/plain": [
       "  state      month total_cases\n",
       "1 California 3       8583     \n",
       "2 California 4      41887     \n",
       "3 California 5      62644     \n",
       "4 California 6     119039     \n",
       "5 California 7     270120     \n",
       "6 California 8     210270     "
      ]
     },
     "metadata": {},
     "output_type": "display_data"
    }
   ],
   "source": [
    "sub_cases <- covidcases %>% \n",
    "  filter(state %in% c(\"California\", \"Michigan\", \"Connecticut\", \"Rhode Island\",\n",
    "                      \"Ohio\", \"New York\", \"Massachusetts\")) %>%\n",
    "  mutate(month = month(date)) %>%\n",
    "  group_by(state, month) %>%\n",
    "  summarize(total_cases = sum(daily_cases)) %>%\n",
    "  ungroup()\n",
    "head(sub_cases)"
   ]
  },
  {
   "cell_type": "code",
   "execution_count": 101,
   "id": "124f445c",
   "metadata": {},
   "outputs": [
    {
     "data": {
      "text/html": [
       "<table class=\"dataframe\">\n",
       "<caption>A grouped_df: 7 × 7</caption>\n",
       "<thead>\n",
       "\t<tr><th scope=col>state</th><th scope=col>date</th><th scope=col>samples</th><th scope=col>m50</th><th scope=col>m50_index</th><th scope=col>month</th><th scope=col>total_m50</th></tr>\n",
       "\t<tr><th scope=col>&lt;chr&gt;</th><th scope=col>&lt;date&gt;</th><th scope=col>&lt;int&gt;</th><th scope=col>&lt;dbl&gt;</th><th scope=col>&lt;dbl&gt;</th><th scope=col>&lt;dbl&gt;</th><th scope=col>&lt;dbl&gt;</th></tr>\n",
       "</thead>\n",
       "<tbody>\n",
       "\t<tr><td>California   </td><td>2020-03-01</td><td>902406</td><td>9.722800</td><td>312.14545</td><td>3</td><td> 556.0362</td></tr>\n",
       "\t<tr><td>Connecticut  </td><td>2020-03-01</td><td> 97328</td><td>5.006111</td><td> 59.88889</td><td>3</td><td> 697.8056</td></tr>\n",
       "\t<tr><td>Massachusetts</td><td>2020-03-01</td><td>169972</td><td>3.455786</td><td> 55.92857</td><td>3</td><td> 463.2189</td></tr>\n",
       "\t<tr><td>Michigan     </td><td>2020-03-01</td><td>329371</td><td>5.409658</td><td> 71.65789</td><td>3</td><td>1025.6544</td></tr>\n",
       "\t<tr><td>New York     </td><td>2020-03-01</td><td>518922</td><td>3.435403</td><td> 52.14516</td><td>3</td><td> 610.4611</td></tr>\n",
       "\t<tr><td>Ohio         </td><td>2020-03-01</td><td>422079</td><td>6.322170</td><td> 62.14773</td><td>3</td><td>1244.3168</td></tr>\n",
       "\t<tr><td>Rhode Island </td><td>2020-03-01</td><td> 28916</td><td>4.795833</td><td> 73.83333</td><td>3</td><td> 579.0770</td></tr>\n",
       "</tbody>\n",
       "</table>\n"
      ],
      "text/latex": [
       "A grouped\\_df: 7 × 7\n",
       "\\begin{tabular}{lllllll}\n",
       " state & date & samples & m50 & m50\\_index & month & total\\_m50\\\\\n",
       " <chr> & <date> & <int> & <dbl> & <dbl> & <dbl> & <dbl>\\\\\n",
       "\\hline\n",
       "\t California    & 2020-03-01 & 902406 & 9.722800 & 312.14545 & 3 &  556.0362\\\\\n",
       "\t Connecticut   & 2020-03-01 &  97328 & 5.006111 &  59.88889 & 3 &  697.8056\\\\\n",
       "\t Massachusetts & 2020-03-01 & 169972 & 3.455786 &  55.92857 & 3 &  463.2189\\\\\n",
       "\t Michigan      & 2020-03-01 & 329371 & 5.409658 &  71.65789 & 3 & 1025.6544\\\\\n",
       "\t New York      & 2020-03-01 & 518922 & 3.435403 &  52.14516 & 3 &  610.4611\\\\\n",
       "\t Ohio          & 2020-03-01 & 422079 & 6.322170 &  62.14773 & 3 & 1244.3168\\\\\n",
       "\t Rhode Island  & 2020-03-01 &  28916 & 4.795833 &  73.83333 & 3 &  579.0770\\\\\n",
       "\\end{tabular}\n"
      ],
      "text/markdown": [
       "\n",
       "A grouped_df: 7 × 7\n",
       "\n",
       "| state &lt;chr&gt; | date &lt;date&gt; | samples &lt;int&gt; | m50 &lt;dbl&gt; | m50_index &lt;dbl&gt; | month &lt;dbl&gt; | total_m50 &lt;dbl&gt; |\n",
       "|---|---|---|---|---|---|---|\n",
       "| California    | 2020-03-01 | 902406 | 9.722800 | 312.14545 | 3 |  556.0362 |\n",
       "| Connecticut   | 2020-03-01 |  97328 | 5.006111 |  59.88889 | 3 |  697.8056 |\n",
       "| Massachusetts | 2020-03-01 | 169972 | 3.455786 |  55.92857 | 3 |  463.2189 |\n",
       "| Michigan      | 2020-03-01 | 329371 | 5.409658 |  71.65789 | 3 | 1025.6544 |\n",
       "| New York      | 2020-03-01 | 518922 | 3.435403 |  52.14516 | 3 |  610.4611 |\n",
       "| Ohio          | 2020-03-01 | 422079 | 6.322170 |  62.14773 | 3 | 1244.3168 |\n",
       "| Rhode Island  | 2020-03-01 |  28916 | 4.795833 |  73.83333 | 3 |  579.0770 |\n",
       "\n"
      ],
      "text/plain": [
       "  state         date       samples m50      m50_index month total_m50\n",
       "1 California    2020-03-01 902406  9.722800 312.14545 3      556.0362\n",
       "2 Connecticut   2020-03-01  97328  5.006111  59.88889 3      697.8056\n",
       "3 Massachusetts 2020-03-01 169972  3.455786  55.92857 3      463.2189\n",
       "4 Michigan      2020-03-01 329371  5.409658  71.65789 3     1025.6544\n",
       "5 New York      2020-03-01 518922  3.435403  52.14516 3      610.4611\n",
       "6 Ohio          2020-03-01 422079  6.322170  62.14773 3     1244.3168\n",
       "7 Rhode Island  2020-03-01  28916  4.795833  73.83333 3      579.0770"
      ]
     },
     "metadata": {},
     "output_type": "display_data"
    }
   ],
   "source": [
    "mob_reshape <- mobility %>% \n",
    "                 group_by(state) %>%\n",
    "                 mutate(month = month(date), total_m50 = sum(m50)) %>%\n",
    "                 slice(1) %>%\n",
    "                 filter(state %in% c(\"California\", \"Michigan\", \"Connecticut\", \"Rhode Island\",\n",
    "                      \"Ohio\", \"New York\", \"Massachusetts\"))\n",
    "\n",
    "mob_reshape"
   ]
  },
  {
   "cell_type": "code",
   "execution_count": 95,
   "id": "c067dba5",
   "metadata": {},
   "outputs": [
    {
     "data": {
      "text/html": [
       "<table class=\"dataframe\">\n",
       "<caption>A tibble: 6 × 8</caption>\n",
       "<thead>\n",
       "\t<tr><th scope=col>state</th><th scope=col>month</th><th scope=col>total_cases</th><th scope=col>date</th><th scope=col>samples</th><th scope=col>m50</th><th scope=col>m50_index</th><th scope=col>total_m50</th></tr>\n",
       "\t<tr><th scope=col>&lt;chr&gt;</th><th scope=col>&lt;dbl&gt;</th><th scope=col>&lt;int&gt;</th><th scope=col>&lt;date&gt;</th><th scope=col>&lt;int&gt;</th><th scope=col>&lt;dbl&gt;</th><th scope=col>&lt;dbl&gt;</th><th scope=col>&lt;dbl&gt;</th></tr>\n",
       "</thead>\n",
       "<tbody>\n",
       "\t<tr><td>California   </td><td>3</td><td> 8583</td><td>2020-03-01</td><td>902406</td><td>9.722800</td><td>312.14545</td><td> 556.0362</td></tr>\n",
       "\t<tr><td>Connecticut  </td><td>3</td><td> 3051</td><td>2020-03-01</td><td> 97328</td><td>5.006111</td><td> 59.88889</td><td> 697.8056</td></tr>\n",
       "\t<tr><td>Massachusetts</td><td>3</td><td> 6285</td><td>2020-03-01</td><td>169972</td><td>3.455786</td><td> 55.92857</td><td> 463.2189</td></tr>\n",
       "\t<tr><td>Michigan     </td><td>3</td><td> 7536</td><td>2020-03-01</td><td>329371</td><td>5.409658</td><td> 71.65789</td><td>1025.6544</td></tr>\n",
       "\t<tr><td>New York     </td><td>3</td><td>76211</td><td>2020-03-01</td><td>518922</td><td>3.435403</td><td> 52.14516</td><td> 610.4611</td></tr>\n",
       "\t<tr><td>Ohio         </td><td>3</td><td> 2199</td><td>2020-03-01</td><td>422079</td><td>6.322170</td><td> 62.14773</td><td>1244.3168</td></tr>\n",
       "</tbody>\n",
       "</table>\n"
      ],
      "text/latex": [
       "A tibble: 6 × 8\n",
       "\\begin{tabular}{llllllll}\n",
       " state & month & total\\_cases & date & samples & m50 & m50\\_index & total\\_m50\\\\\n",
       " <chr> & <dbl> & <int> & <date> & <int> & <dbl> & <dbl> & <dbl>\\\\\n",
       "\\hline\n",
       "\t California    & 3 &  8583 & 2020-03-01 & 902406 & 9.722800 & 312.14545 &  556.0362\\\\\n",
       "\t Connecticut   & 3 &  3051 & 2020-03-01 &  97328 & 5.006111 &  59.88889 &  697.8056\\\\\n",
       "\t Massachusetts & 3 &  6285 & 2020-03-01 & 169972 & 3.455786 &  55.92857 &  463.2189\\\\\n",
       "\t Michigan      & 3 &  7536 & 2020-03-01 & 329371 & 5.409658 &  71.65789 & 1025.6544\\\\\n",
       "\t New York      & 3 & 76211 & 2020-03-01 & 518922 & 3.435403 &  52.14516 &  610.4611\\\\\n",
       "\t Ohio          & 3 &  2199 & 2020-03-01 & 422079 & 6.322170 &  62.14773 & 1244.3168\\\\\n",
       "\\end{tabular}\n"
      ],
      "text/markdown": [
       "\n",
       "A tibble: 6 × 8\n",
       "\n",
       "| state &lt;chr&gt; | month &lt;dbl&gt; | total_cases &lt;int&gt; | date &lt;date&gt; | samples &lt;int&gt; | m50 &lt;dbl&gt; | m50_index &lt;dbl&gt; | total_m50 &lt;dbl&gt; |\n",
       "|---|---|---|---|---|---|---|---|\n",
       "| California    | 3 |  8583 | 2020-03-01 | 902406 | 9.722800 | 312.14545 |  556.0362 |\n",
       "| Connecticut   | 3 |  3051 | 2020-03-01 |  97328 | 5.006111 |  59.88889 |  697.8056 |\n",
       "| Massachusetts | 3 |  6285 | 2020-03-01 | 169972 | 3.455786 |  55.92857 |  463.2189 |\n",
       "| Michigan      | 3 |  7536 | 2020-03-01 | 329371 | 5.409658 |  71.65789 | 1025.6544 |\n",
       "| New York      | 3 | 76211 | 2020-03-01 | 518922 | 3.435403 |  52.14516 |  610.4611 |\n",
       "| Ohio          | 3 |  2199 | 2020-03-01 | 422079 | 6.322170 |  62.14773 | 1244.3168 |\n",
       "\n"
      ],
      "text/plain": [
       "  state         month total_cases date       samples m50      m50_index\n",
       "1 California    3      8583       2020-03-01 902406  9.722800 312.14545\n",
       "2 Connecticut   3      3051       2020-03-01  97328  5.006111  59.88889\n",
       "3 Massachusetts 3      6285       2020-03-01 169972  3.455786  55.92857\n",
       "4 Michigan      3      7536       2020-03-01 329371  5.409658  71.65789\n",
       "5 New York      3     76211       2020-03-01 518922  3.435403  52.14516\n",
       "6 Ohio          3      2199       2020-03-01 422079  6.322170  62.14773\n",
       "  total_m50\n",
       "1  556.0362\n",
       "2  697.8056\n",
       "3  463.2189\n",
       "4 1025.6544\n",
       "5  610.4611\n",
       "6 1244.3168"
      ]
     },
     "metadata": {},
     "output_type": "display_data"
    }
   ],
   "source": [
    "covid_mob_sub <- right_join(sub_cases, mob_reshape, by = c(\"month\", \"state\"))\n",
    "head(covid_mob_sub)"
   ]
  },
  {
   "cell_type": "markdown",
   "id": "6d915e0a",
   "metadata": {},
   "source": [
    "2. Convert the `sub_cases` and `mob_reshape` data frames to wide format and create columns of total cases for each state and total `m50` for those selected states in the `mob_reshape` data frames. Using the `left_join()` function to merge them together. "
   ]
  },
  {
   "cell_type": "code",
   "execution_count": 96,
   "id": "b01fd556",
   "metadata": {},
   "outputs": [
    {
     "data": {
      "text/html": [
       "<table class=\"dataframe\">\n",
       "<caption>A tibble: 6 × 8</caption>\n",
       "<thead>\n",
       "\t<tr><th scope=col>month</th><th scope=col>California</th><th scope=col>Connecticut</th><th scope=col>Massachusetts</th><th scope=col>Michigan</th><th scope=col>New York</th><th scope=col>Ohio</th><th scope=col>Rhode Island</th></tr>\n",
       "\t<tr><th scope=col>&lt;dbl&gt;</th><th scope=col>&lt;int&gt;</th><th scope=col>&lt;int&gt;</th><th scope=col>&lt;int&gt;</th><th scope=col>&lt;int&gt;</th><th scope=col>&lt;int&gt;</th><th scope=col>&lt;int&gt;</th><th scope=col>&lt;int&gt;</th></tr>\n",
       "</thead>\n",
       "<tbody>\n",
       "\t<tr><td>3</td><td>  8583</td><td> 3051</td><td> 6285</td><td> 7536</td><td> 76211</td><td> 2199</td><td> 416</td></tr>\n",
       "\t<tr><td>4</td><td> 41887</td><td>24187</td><td>55505</td><td>33724</td><td>233485</td><td>15828</td><td>7118</td></tr>\n",
       "\t<tr><td>5</td><td> 62644</td><td>14729</td><td>34878</td><td>15776</td><td> 65879</td><td>17486</td><td>5537</td></tr>\n",
       "\t<tr><td>6</td><td>119039</td><td> 4343</td><td>11926</td><td>13650</td><td> 22567</td><td>16276</td><td>2158</td></tr>\n",
       "\t<tr><td>7</td><td>270120</td><td> 3257</td><td> 8711</td><td>20036</td><td> 21581</td><td>39370</td><td>2015</td></tr>\n",
       "\t<tr><td>8</td><td>210270</td><td> 3202</td><td> 9642</td><td>21999</td><td> 19757</td><td>31998</td><td>2565</td></tr>\n",
       "</tbody>\n",
       "</table>\n"
      ],
      "text/latex": [
       "A tibble: 6 × 8\n",
       "\\begin{tabular}{llllllll}\n",
       " month & California & Connecticut & Massachusetts & Michigan & New York & Ohio & Rhode Island\\\\\n",
       " <dbl> & <int> & <int> & <int> & <int> & <int> & <int> & <int>\\\\\n",
       "\\hline\n",
       "\t 3 &   8583 &  3051 &  6285 &  7536 &  76211 &  2199 &  416\\\\\n",
       "\t 4 &  41887 & 24187 & 55505 & 33724 & 233485 & 15828 & 7118\\\\\n",
       "\t 5 &  62644 & 14729 & 34878 & 15776 &  65879 & 17486 & 5537\\\\\n",
       "\t 6 & 119039 &  4343 & 11926 & 13650 &  22567 & 16276 & 2158\\\\\n",
       "\t 7 & 270120 &  3257 &  8711 & 20036 &  21581 & 39370 & 2015\\\\\n",
       "\t 8 & 210270 &  3202 &  9642 & 21999 &  19757 & 31998 & 2565\\\\\n",
       "\\end{tabular}\n"
      ],
      "text/markdown": [
       "\n",
       "A tibble: 6 × 8\n",
       "\n",
       "| month &lt;dbl&gt; | California &lt;int&gt; | Connecticut &lt;int&gt; | Massachusetts &lt;int&gt; | Michigan &lt;int&gt; | New York &lt;int&gt; | Ohio &lt;int&gt; | Rhode Island &lt;int&gt; |\n",
       "|---|---|---|---|---|---|---|---|\n",
       "| 3 |   8583 |  3051 |  6285 |  7536 |  76211 |  2199 |  416 |\n",
       "| 4 |  41887 | 24187 | 55505 | 33724 | 233485 | 15828 | 7118 |\n",
       "| 5 |  62644 | 14729 | 34878 | 15776 |  65879 | 17486 | 5537 |\n",
       "| 6 | 119039 |  4343 | 11926 | 13650 |  22567 | 16276 | 2158 |\n",
       "| 7 | 270120 |  3257 |  8711 | 20036 |  21581 | 39370 | 2015 |\n",
       "| 8 | 210270 |  3202 |  9642 | 21999 |  19757 | 31998 | 2565 |\n",
       "\n"
      ],
      "text/plain": [
       "  month California Connecticut Massachusetts Michigan New York Ohio \n",
       "1 3       8583      3051        6285          7536     76211    2199\n",
       "2 4      41887     24187       55505         33724    233485   15828\n",
       "3 5      62644     14729       34878         15776     65879   17486\n",
       "4 6     119039      4343       11926         13650     22567   16276\n",
       "5 7     270120      3257        8711         20036     21581   39370\n",
       "6 8     210270      3202        9642         21999     19757   31998\n",
       "  Rhode Island\n",
       "1  416        \n",
       "2 7118        \n",
       "3 5537        \n",
       "4 2158        \n",
       "5 2015        \n",
       "6 2565        "
      ]
     },
     "metadata": {},
     "output_type": "display_data"
    }
   ],
   "source": [
    "pivot_wider(sub_cases, names_from=state, values_from=total_cases)"
   ]
  },
  {
   "cell_type": "code",
   "execution_count": 98,
   "id": "2ae4b77a",
   "metadata": {},
   "outputs": [
    {
     "data": {
      "text/html": [
       "<table class=\"dataframe\">\n",
       "<caption>A tibble: 1 × 2</caption>\n",
       "<thead>\n",
       "\t<tr><th scope=col>month</th><th scope=col>tot</th></tr>\n",
       "\t<tr><th scope=col>&lt;dbl&gt;</th><th scope=col>&lt;dbl&gt;</th></tr>\n",
       "</thead>\n",
       "<tbody>\n",
       "\t<tr><td>3</td><td>5176.57</td></tr>\n",
       "</tbody>\n",
       "</table>\n"
      ],
      "text/latex": [
       "A tibble: 1 × 2\n",
       "\\begin{tabular}{ll}\n",
       " month & tot\\\\\n",
       " <dbl> & <dbl>\\\\\n",
       "\\hline\n",
       "\t 3 & 5176.57\\\\\n",
       "\\end{tabular}\n"
      ],
      "text/markdown": [
       "\n",
       "A tibble: 1 × 2\n",
       "\n",
       "| month &lt;dbl&gt; | tot &lt;dbl&gt; |\n",
       "|---|---|\n",
       "| 3 | 5176.57 |\n",
       "\n"
      ],
      "text/plain": [
       "  month tot    \n",
       "1 3     5176.57"
      ]
     },
     "metadata": {},
     "output_type": "display_data"
    },
    {
     "data": {
      "text/html": [
       "<table class=\"dataframe\">\n",
       "<caption>A tibble: 7 × 12</caption>\n",
       "<thead>\n",
       "\t<tr><th scope=col>date</th><th scope=col>samples</th><th scope=col>m50</th><th scope=col>m50_index</th><th scope=col>month</th><th scope=col>California</th><th scope=col>Connecticut</th><th scope=col>Massachusetts</th><th scope=col>Michigan</th><th scope=col>New York</th><th scope=col>Ohio</th><th scope=col>Rhode Island</th></tr>\n",
       "\t<tr><th scope=col>&lt;date&gt;</th><th scope=col>&lt;int&gt;</th><th scope=col>&lt;dbl&gt;</th><th scope=col>&lt;dbl&gt;</th><th scope=col>&lt;dbl&gt;</th><th scope=col>&lt;dbl&gt;</th><th scope=col>&lt;dbl&gt;</th><th scope=col>&lt;dbl&gt;</th><th scope=col>&lt;dbl&gt;</th><th scope=col>&lt;dbl&gt;</th><th scope=col>&lt;dbl&gt;</th><th scope=col>&lt;dbl&gt;</th></tr>\n",
       "</thead>\n",
       "<tbody>\n",
       "\t<tr><td>2020-03-01</td><td>902406</td><td>9.722800</td><td>312.14545</td><td>3</td><td>556.0362</td><td>      NA</td><td>      NA</td><td>      NA</td><td>      NA</td><td>      NA</td><td>     NA</td></tr>\n",
       "\t<tr><td>2020-03-01</td><td> 97328</td><td>5.006111</td><td> 59.88889</td><td>3</td><td>      NA</td><td>697.8056</td><td>      NA</td><td>      NA</td><td>      NA</td><td>      NA</td><td>     NA</td></tr>\n",
       "\t<tr><td>2020-03-01</td><td>169972</td><td>3.455786</td><td> 55.92857</td><td>3</td><td>      NA</td><td>      NA</td><td>463.2189</td><td>      NA</td><td>      NA</td><td>      NA</td><td>     NA</td></tr>\n",
       "\t<tr><td>2020-03-01</td><td>329371</td><td>5.409658</td><td> 71.65789</td><td>3</td><td>      NA</td><td>      NA</td><td>      NA</td><td>1025.654</td><td>      NA</td><td>      NA</td><td>     NA</td></tr>\n",
       "\t<tr><td>2020-03-01</td><td>518922</td><td>3.435403</td><td> 52.14516</td><td>3</td><td>      NA</td><td>      NA</td><td>      NA</td><td>      NA</td><td>610.4611</td><td>      NA</td><td>     NA</td></tr>\n",
       "\t<tr><td>2020-03-01</td><td>422079</td><td>6.322170</td><td> 62.14773</td><td>3</td><td>      NA</td><td>      NA</td><td>      NA</td><td>      NA</td><td>      NA</td><td>1244.317</td><td>     NA</td></tr>\n",
       "\t<tr><td>2020-03-01</td><td> 28916</td><td>4.795833</td><td> 73.83333</td><td>3</td><td>      NA</td><td>      NA</td><td>      NA</td><td>      NA</td><td>      NA</td><td>      NA</td><td>579.077</td></tr>\n",
       "</tbody>\n",
       "</table>\n"
      ],
      "text/latex": [
       "A tibble: 7 × 12\n",
       "\\begin{tabular}{llllllllllll}\n",
       " date & samples & m50 & m50\\_index & month & California & Connecticut & Massachusetts & Michigan & New York & Ohio & Rhode Island\\\\\n",
       " <date> & <int> & <dbl> & <dbl> & <dbl> & <dbl> & <dbl> & <dbl> & <dbl> & <dbl> & <dbl> & <dbl>\\\\\n",
       "\\hline\n",
       "\t 2020-03-01 & 902406 & 9.722800 & 312.14545 & 3 & 556.0362 &       NA &       NA &       NA &       NA &       NA &      NA\\\\\n",
       "\t 2020-03-01 &  97328 & 5.006111 &  59.88889 & 3 &       NA & 697.8056 &       NA &       NA &       NA &       NA &      NA\\\\\n",
       "\t 2020-03-01 & 169972 & 3.455786 &  55.92857 & 3 &       NA &       NA & 463.2189 &       NA &       NA &       NA &      NA\\\\\n",
       "\t 2020-03-01 & 329371 & 5.409658 &  71.65789 & 3 &       NA &       NA &       NA & 1025.654 &       NA &       NA &      NA\\\\\n",
       "\t 2020-03-01 & 518922 & 3.435403 &  52.14516 & 3 &       NA &       NA &       NA &       NA & 610.4611 &       NA &      NA\\\\\n",
       "\t 2020-03-01 & 422079 & 6.322170 &  62.14773 & 3 &       NA &       NA &       NA &       NA &       NA & 1244.317 &      NA\\\\\n",
       "\t 2020-03-01 &  28916 & 4.795833 &  73.83333 & 3 &       NA &       NA &       NA &       NA &       NA &       NA & 579.077\\\\\n",
       "\\end{tabular}\n"
      ],
      "text/markdown": [
       "\n",
       "A tibble: 7 × 12\n",
       "\n",
       "| date &lt;date&gt; | samples &lt;int&gt; | m50 &lt;dbl&gt; | m50_index &lt;dbl&gt; | month &lt;dbl&gt; | California &lt;dbl&gt; | Connecticut &lt;dbl&gt; | Massachusetts &lt;dbl&gt; | Michigan &lt;dbl&gt; | New York &lt;dbl&gt; | Ohio &lt;dbl&gt; | Rhode Island &lt;dbl&gt; |\n",
       "|---|---|---|---|---|---|---|---|---|---|---|---|\n",
       "| 2020-03-01 | 902406 | 9.722800 | 312.14545 | 3 | 556.0362 |       NA |       NA |       NA |       NA |       NA |      NA |\n",
       "| 2020-03-01 |  97328 | 5.006111 |  59.88889 | 3 |       NA | 697.8056 |       NA |       NA |       NA |       NA |      NA |\n",
       "| 2020-03-01 | 169972 | 3.455786 |  55.92857 | 3 |       NA |       NA | 463.2189 |       NA |       NA |       NA |      NA |\n",
       "| 2020-03-01 | 329371 | 5.409658 |  71.65789 | 3 |       NA |       NA |       NA | 1025.654 |       NA |       NA |      NA |\n",
       "| 2020-03-01 | 518922 | 3.435403 |  52.14516 | 3 |       NA |       NA |       NA |       NA | 610.4611 |       NA |      NA |\n",
       "| 2020-03-01 | 422079 | 6.322170 |  62.14773 | 3 |       NA |       NA |       NA |       NA |       NA | 1244.317 |      NA |\n",
       "| 2020-03-01 |  28916 | 4.795833 |  73.83333 | 3 |       NA |       NA |       NA |       NA |       NA |       NA | 579.077 |\n",
       "\n"
      ],
      "text/plain": [
       "  date       samples m50      m50_index month California Connecticut\n",
       "1 2020-03-01 902406  9.722800 312.14545 3     556.0362         NA   \n",
       "2 2020-03-01  97328  5.006111  59.88889 3           NA   697.8056   \n",
       "3 2020-03-01 169972  3.455786  55.92857 3           NA         NA   \n",
       "4 2020-03-01 329371  5.409658  71.65789 3           NA         NA   \n",
       "5 2020-03-01 518922  3.435403  52.14516 3           NA         NA   \n",
       "6 2020-03-01 422079  6.322170  62.14773 3           NA         NA   \n",
       "7 2020-03-01  28916  4.795833  73.83333 3           NA         NA   \n",
       "  Massachusetts Michigan New York Ohio     Rhode Island\n",
       "1       NA            NA       NA       NA      NA     \n",
       "2       NA            NA       NA       NA      NA     \n",
       "3 463.2189            NA       NA       NA      NA     \n",
       "4       NA      1025.654       NA       NA      NA     \n",
       "5       NA            NA 610.4611       NA      NA     \n",
       "6       NA            NA       NA 1244.317      NA     \n",
       "7       NA            NA       NA       NA 579.077     "
      ]
     },
     "metadata": {},
     "output_type": "display_data"
    }
   ],
   "source": [
    "mob_reshape %>%\n",
    "  group_by(month) %>%\n",
    "  summarize(tot = sum(total_m50))\n",
    "pivot_wider(mob_reshape, names_from=state, values_from=total_m50)"
   ]
  }
 ],
 "metadata": {
  "kernelspec": {
   "display_name": "R",
   "language": "R",
   "name": "ir"
  },
  "language_info": {
   "codemirror_mode": "r",
   "file_extension": ".r",
   "mimetype": "text/x-r-source",
   "name": "R",
   "pygments_lexer": "r",
   "version": "4.2.1"
  }
 },
 "nbformat": 4,
 "nbformat_minor": 5
}
