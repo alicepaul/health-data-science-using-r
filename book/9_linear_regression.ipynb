{
 "cells": [
  {
   "cell_type": "markdown",
   "id": "decec34a",
   "metadata": {},
   "source": [
    "# Linear Regression"
   ]
  },
  {
   "cell_type": "markdown",
   "id": "6b6847c7",
   "metadata": {},
   "source": [
    "This chapter will introduce you to **linear regression** analysis using R."
   ]
  },
  {
   "cell_type": "code",
   "execution_count": 3,
   "id": "1253a8b1",
   "metadata": {},
   "outputs": [],
   "source": [
    "library(nhanesA)"
   ]
  },
  {
   "cell_type": "code",
   "execution_count": 5,
   "id": "e9a0a6c4",
   "metadata": {},
   "outputs": [],
   "source": [
    "library('RforHDSdata')"
   ]
  },
  {
   "cell_type": "code",
   "execution_count": null,
   "id": "ea0a227a",
   "metadata": {},
   "outputs": [],
   "source": [
    "gh_list_packages(username = \"hadley\")"
   ]
  },
  {
   "cell_type": "markdown",
   "id": "ecb24951",
   "metadata": {},
   "source": [
    "### Linear Regression Basics"
   ]
  },
  {
   "cell_type": "markdown",
   "id": "3a1458cf",
   "metadata": {},
   "source": [
    "#### Linear Regression Equation"
   ]
  },
  {
   "cell_type": "markdown",
   "id": "2c6e140a",
   "metadata": {},
   "source": [
    "#### Model Assumption"
   ]
  },
  {
   "cell_type": "markdown",
   "id": "26535f0f",
   "metadata": {},
   "source": [
    "### Linear Regression in R"
   ]
  },
  {
   "cell_type": "code",
   "execution_count": null,
   "id": "f50ff456",
   "metadata": {},
   "outputs": [],
   "source": []
  },
  {
   "cell_type": "markdown",
   "id": "1c6cfc2b",
   "metadata": {},
   "source": [
    "### Intepretating Linear Regression Result"
   ]
  },
  {
   "cell_type": "code",
   "execution_count": null,
   "id": "100a42b7",
   "metadata": {},
   "outputs": [],
   "source": []
  },
  {
   "cell_type": "markdown",
   "id": "60f3fa9b",
   "metadata": {},
   "source": [
    "### Feature Selection "
   ]
  },
  {
   "cell_type": "code",
   "execution_count": null,
   "id": "090e08ff",
   "metadata": {},
   "outputs": [],
   "source": []
  }
 ],
 "metadata": {
  "kernelspec": {
   "display_name": "R",
   "language": "R",
   "name": "ir"
  },
  "language_info": {
   "codemirror_mode": "r",
   "file_extension": ".r",
   "mimetype": "text/x-r-source",
   "name": "R",
   "pygments_lexer": "r",
   "version": "4.1.1"
  }
 },
 "nbformat": 4,
 "nbformat_minor": 5
}
