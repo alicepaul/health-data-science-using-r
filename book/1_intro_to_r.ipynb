{
 "cells": [
  {
   "cell_type": "markdown",
   "metadata": {
    "nbgrader": {
     "grade": false,
     "grade_id": "d1b406",
     "locked": true,
     "schema_version": 3,
     "solution": false,
     "task": false
    }
   },
   "source": [
    "# 1. Intro to R, RStudio, and Jupyter Notebooks\n",
    "\n",
    "This chapter will introduce you to R as a programming language and show you how we can use this language in different ways: directly through the [R console](https://cran.rstudio.com/), using [RStudio](https://posit.co/download/rstudio-desktop/), and using [Jupyter Notebooks](https://jupyter.org/). \n",
    "\n",
    "\n",
    "## Why R?\n",
    "\n",
    "What are some of the benefits of using R? \n",
    "* R is built for statisticians and data analysts.  \n",
    "* R is open source.  \n",
    "* R has most of the latest statistical methods available.  \n",
    "* R is flexible. \n",
    "\n",
    "Since R is built for statisticians, it is built with data in mind. This comes in handy when we want to streamline how we process and analyze data. It also means that many statisticians working on new methods are publishing user-created packages in R, so R users have access to most methods of interest. R is also an interpreted language, which means that we do not have to compile our code into machine language first: this allows for simpler syntax and more flexibility when writing our code, which also makes it a great first programming language to learn.  \n",
    "\n",
    "Python is another interpreted language often used for data analysis. Both languages feature simple and flexible syntax, but while python is more broadly developed for usage outside of data science and statistical analyses, R is a great programming language for those in health data science. I use both langauges and find switching between them to be straightforward, but I do prefer R for anything related to data or statistical analysis. \n",
    "\n",
    "### Installation of R and RStudio\n",
    "\n",
    "To run R on your computer, you will need to [download and install R](https://cran.rstudio.com/). This will allow you to open the R application and run R code interactively. However, to get the most out of programming with R, you will want to install RStudio, which is an integrated development environment (IDE) for R and python. RStudio offers a nice environment for writing, editing, running, and debugging R code. We will talk through more of the benefits of using RStudio below. \n",
    "\n",
    "Each chapter in this book is written as a Jupyter notebook but can also be downloaded as an R markdown file. You can open R Markdown files in RStudio to run the code as you read and complete the practice questions and exercises. Alternatively, at the top of these pages, you can open each of these chapters as a Jupyter notebook through Binder. This will open an interactive, online session for you to run the R code. We recommend this option for the best viewing and learning experience, though if you would like to run the Jupyter notebooks on your own machine, you will need to install [Jupyter](https://www.anaconda.com/download) and the associated [R kernel](https://github.com/IRkernel/IRkernel)."
   ]
  },
  {
   "cell_type": "markdown",
   "metadata": {},
   "source": [
    "## The R Console\n",
    "\n",
    "The R console provides our first intro to code in R. The image below shows what the console will look like when you open it. You should see a blinking cursor - this where we can write our first line of code!\n",
    "\n",
    "<img src=\"images/1-r-console.png\" alt= “” width=\"400pt\" align=\"center\">"
   ]
  },
  {
   "cell_type": "markdown",
   "metadata": {},
   "source": [
    "To start, type `2+3` and press ENTER. You should see that `5` is printed below that code and that your cursor is moved to the next line. "
   ]
  },
  {
   "cell_type": "markdown",
   "metadata": {
    "nbgrader": {
     "grade": false,
     "grade_id": "d45a2c",
     "locked": true,
     "schema_version": 3,
     "solution": false,
     "task": false
    }
   },
   "source": [
    "### Basic Computations and Objects\n",
    "\n",
    "In the example above, we coded a simple addition. Try out some other basic calculations using the operators below:\n",
    "\n",
    "* Addition: `5+6`  \n",
    "* Subtraction: `7-2`  \n",
    "* Multiplication: `2*3`  \n",
    "* Division: `6/3`  \n",
    "* Exponentiation: `4^2`  \n",
    "* Modulo: `100 %% 4`\n",
    "\n",
    "For example, use the modulo operator to find what 100 mod 4 is. It should return 0 since 100 is divisible by 4."
   ]
  },
  {
   "cell_type": "markdown",
   "metadata": {},
   "source": [
    "If we want to save the result of any computation, we need to create an object to store our value of interest. An **object** is simply a named data structure that allows us to reference that data structure. Objects are also commonly called **variables**. In the code below, we create an object `x` which stores the value `5` using the assignment operator `<-`. The assignment operator assigns whatever is on the right hand side of the operator to the name on the left hand side. We can now reference `x` by calling its name. Additionally, we can update its value by adding 1. In the second line of code, the computer first finds the value of the right hand side by finding the current value of `x` before adding 1 and assigning it back to `x`."
   ]
  },
  {
   "cell_type": "code",
   "execution_count": 2,
   "metadata": {},
   "outputs": [
    {
     "data": {
      "text/html": [
       "6"
      ],
      "text/latex": [
       "6"
      ],
      "text/markdown": [
       "6"
      ],
      "text/plain": [
       "[1] 6"
      ]
     },
     "metadata": {},
     "output_type": "display_data"
    }
   ],
   "source": [
    "x <- 2+3\n",
    "x <- x+1\n",
    "x"
   ]
  },
  {
   "cell_type": "markdown",
   "metadata": {},
   "source": [
    "We can create and store multiple objects by using different names. The code below creates a new object `y` that is one more than the value of `x`. We can see that the value of `x` is still `5` after running this code."
   ]
  },
  {
   "cell_type": "code",
   "execution_count": 3,
   "metadata": {},
   "outputs": [
    {
     "data": {
      "text/html": [
       "5"
      ],
      "text/latex": [
       "5"
      ],
      "text/markdown": [
       "5"
      ],
      "text/plain": [
       "[1] 5"
      ]
     },
     "metadata": {},
     "output_type": "display_data"
    }
   ],
   "source": [
    "x <- 2+3\n",
    "y <- x\n",
    "y <- y + 1\n",
    "x"
   ]
  },
  {
   "cell_type": "markdown",
   "metadata": {},
   "source": [
    "### Naming Conventions\n",
    "\n",
    "As we start creating objects, we want to make sure we use good object names. Here are a few tips for naming objects effectively:\n",
    "\n",
    "*  Stick to a single format. We will use **snake_case**, which uses underscores between words (e.g. `my_var`, `class_year`).\n",
    "*  Make your names useful. Try to avoid using names that are too long (e.g. `which_day_of_the_week`) or do not contain enough information (e.g., `x1`, `x2`, `x3`). \n",
    "*  Replace unexplained values with an object. For example, if you need to do some calculations using 100 as the number of participants, create an object `n_part` with value 100 rather than repeatedly using the number. This makes the code easy to update and helps the user avoid possible errors. "
   ]
  },
  {
   "cell_type": "markdown",
   "metadata": {},
   "source": [
    "## RStudio and R Markdown \n",
    "\n",
    "If we made a mistake in the code above, we would have to retype everything from the beginning. However, when we write code, we often want to be able to run it multiple times and develop it in stages. R scripts and R markdown files allow us to save all of our R code in files that we can update and re-run, which allows us to create reproducible and shareable analyses. We will now move to RStudio as our development environment to demonstrate creating an R script. When you open RStudio, you will see multiple windows. Start by opening a new R file by going to File -> New File -> R Script. You should now see several windows. \n",
    "\n",
    "<img src=\"images/1-rstudio.png\" alt= “” width=\"600pt\" align=\"center\">\n",
    "\n",
    "In the code editor window in the top left, add the following code to your .R file and save the file. Note that here we used snake_case to name our objects! "
   ]
  },
  {
   "cell_type": "code",
   "execution_count": 4,
   "metadata": {},
   "outputs": [],
   "source": [
    "# Calculate student to faculty ratio, 2023 enrollment\n",
    "num_students <- 132\n",
    "num_faculty <- 23\n",
    "student_fac_ratio <- num_students/num_faculty"
   ]
  },
  {
   "cell_type": "markdown",
   "metadata": {},
   "source": [
    "The first line starts with `#` and does not contain any code. This is a comment line, which allows us to add context, intent, or extra information to help the reader understand our code. A good rule of thumb is that we want to write enough comments so that we could open our code in six months and be able to understand what we were doing. As we develop longer chunks of code, this will become more important. "
   ]
  },
  {
   "cell_type": "markdown",
   "metadata": {},
   "source": [
    "### Video Tour of RStudio and R Markdown\n",
    "\n",
    "In order to run the code in the script, we need to tell RStudio we are ready to run it. The video below shows you how to run a script and gives a tour of the other windows you see in RStudio. It will also introduce you to R Markdown files, which integrate text and code together. As we described above, each chapter in this book can be downloaded as a corresponding R Markdown file.\n",
    "\n",
    "<div class=\"video-container\">\n",
    "    <iframe width=\"700\" height=\"500\" src=\"https://www.youtube.com/embed/WoGbZnkiQEM\" title=\"YouTube video player\" frameborder=\"0\" allow=\"accelerometer; autoplay; clipboard-write; encrypted-media; gyroscope; picture-in-picture; web-share\" allowfullscreen></iframe>\n",
    "</div>\n"
   ]
  },
  {
   "cell_type": "markdown",
   "metadata": {},
   "source": [
    "### Calling Functions\n",
    "\n",
    "When we use R, we have access to all the functions available in base R. A **function** takes in one or more inputs and returns a single output object. Let's first use the simple function `exp()`. This exponential function takes in one (or more) numeric values and exponentiates them. The code below computes $e^3$."
   ]
  },
  {
   "cell_type": "code",
   "execution_count": 5,
   "metadata": {},
   "outputs": [
    {
     "data": {
      "text/html": [
       "20.0855369231877"
      ],
      "text/latex": [
       "20.0855369231877"
      ],
      "text/markdown": [
       "20.0855369231877"
      ],
      "text/plain": [
       "[1] 20.08554"
      ]
     },
     "metadata": {},
     "output_type": "display_data"
    }
   ],
   "source": [
    "exp(3)"
   ]
  },
  {
   "cell_type": "markdown",
   "metadata": {},
   "source": [
    "Some other simple functions are shown below that all convert a numeric input to an integer value. The `ceiling()` and `floor()` functions returns the ceiling and floor of your input, and the `round()` function will round your input to the closest integer. Note that the `round()` function will round a 5 to the closest even integer. "
   ]
  },
  {
   "cell_type": "code",
   "execution_count": 6,
   "metadata": {},
   "outputs": [
    {
     "data": {
      "text/html": [
       "4"
      ],
      "text/latex": [
       "4"
      ],
      "text/markdown": [
       "4"
      ],
      "text/plain": [
       "[1] 4"
      ]
     },
     "metadata": {},
     "output_type": "display_data"
    }
   ],
   "source": [
    "ceiling(3.7)"
   ]
  },
  {
   "cell_type": "code",
   "execution_count": 7,
   "metadata": {},
   "outputs": [
    {
     "data": {
      "text/html": [
       "3"
      ],
      "text/latex": [
       "3"
      ],
      "text/markdown": [
       "3"
      ],
      "text/plain": [
       "[1] 3"
      ]
     },
     "metadata": {},
     "output_type": "display_data"
    }
   ],
   "source": [
    "floor(3.7)"
   ]
  },
  {
   "cell_type": "code",
   "execution_count": 8,
   "metadata": {},
   "outputs": [
    {
     "data": {
      "text/html": [
       "2"
      ],
      "text/latex": [
       "2"
      ],
      "text/markdown": [
       "2"
      ],
      "text/plain": [
       "[1] 2"
      ]
     },
     "metadata": {},
     "output_type": "display_data"
    },
    {
     "data": {
      "text/html": [
       "4"
      ],
      "text/latex": [
       "4"
      ],
      "text/markdown": [
       "4"
      ],
      "text/plain": [
       "[1] 4"
      ]
     },
     "metadata": {},
     "output_type": "display_data"
    }
   ],
   "source": [
    "round(2.5)\n",
    "round(3.5)"
   ]
  },
  {
   "cell_type": "markdown",
   "metadata": {},
   "source": [
    "If we want to learn about a function, we can use the help operator `?` by typing it in front of the function you are interested in: this will bring up the documentation for that particular function. This documentation will often tell you the usage of the function, the **arguments** (the object inputs), the **value** (information about the returned object), and will give some examples of how to use the function. For example, if we want to understand the difference between `floor()` and `ceiling()`, we can call `?floor` and `?ceiling`. This should bring up the documentation in your help window. We can then read that the floor function rounds a numeric input down to the nearest integer whereas the ceiling function rounds a numeric input up to the nearest integer."
   ]
  },
  {
   "cell_type": "markdown",
   "metadata": {},
   "source": [
    "### Working Directories and Paths\n",
    "\n",
    "Let's try using another example function: `read.csv()`. This function reads in a comma-delimited file and returns the information as a data frame (try typing `?read.csv` in the console to read more about this function). We will learn more about data frames in [Chapter 2](https://alicepaul.github.io/r-for-health-data-science/book/2_data_structures.html). The first argument to this function is a file, which can be expressed as either a filename or a path to a file. First, download the file `fake_names.csv` from this book's [github repository](https://github.com/alicepaul/r-for-health-data-science/tree/main/book/data). By default, R will look for the file in your current working directory. To find the working directory, you can run `getwd()`. You can see below that my current working directory is where the book content is on my computer. "
   ]
  },
  {
   "cell_type": "code",
   "execution_count": 9,
   "metadata": {},
   "outputs": [
    {
     "data": {
      "text/html": [
       "'/Users/jialinliu/Documents/GitHub/r-for-health-data-science/book'"
      ],
      "text/latex": [
       "'/Users/jialinliu/Documents/GitHub/r-for-health-data-science/book'"
      ],
      "text/markdown": [
       "'/Users/jialinliu/Documents/GitHub/r-for-health-data-science/book'"
      ],
      "text/plain": [
       "[1] \"/Users/jialinliu/Documents/GitHub/r-for-health-data-science/book\""
      ]
     },
     "metadata": {},
     "output_type": "display_data"
    }
   ],
   "source": [
    "getwd()"
   ]
  },
  {
   "cell_type": "markdown",
   "metadata": {},
   "source": [
    "You can either move the .csv file to your current working directory and load it in, or you can specify the path to the .csv file. Another option is to update your working directory by using the `setwd()` function (e.g. `setwd('/Users/Alice/Dropbox/r-for-health-data-science/book/data')`). If you receive an error that a file cannot be found, you most likely have the wrong path to the file or the wrong file name. Below, I chose to specify the path to the downloaded .csv file, saved this file to an object called `df`, and then printed that `df` object."
   ]
  },
  {
   "cell_type": "code",
   "execution_count": 10,
   "metadata": {},
   "outputs": [
    {
     "data": {
      "text/html": [
       "<table class=\"dataframe\">\n",
       "<caption>A data.frame: 6 × 5</caption>\n",
       "<thead>\n",
       "\t<tr><th scope=col>Name</th><th scope=col>Age</th><th scope=col>DOB</th><th scope=col>City</th><th scope=col>State</th></tr>\n",
       "\t<tr><th scope=col>&lt;chr&gt;</th><th scope=col>&lt;int&gt;</th><th scope=col>&lt;chr&gt;</th><th scope=col>&lt;chr&gt;</th><th scope=col>&lt;chr&gt;</th></tr>\n",
       "</thead>\n",
       "<tbody>\n",
       "\t<tr><td>Ken Irwin          </td><td>37</td><td>6/28/85</td><td>Providence     </td><td>RI</td></tr>\n",
       "\t<tr><td>Delores Whittington</td><td>56</td><td>4/28/67</td><td>Smithfield     </td><td>RI</td></tr>\n",
       "\t<tr><td>Daniel Hughes      </td><td>41</td><td>5/22/82</td><td>Providence     </td><td>RI</td></tr>\n",
       "\t<tr><td>Carlos Fain        </td><td>83</td><td>2/2/40 </td><td>Warren         </td><td>RI</td></tr>\n",
       "\t<tr><td>James Alford       </td><td>67</td><td>2/23/56</td><td>East Providence</td><td>RI</td></tr>\n",
       "\t<tr><td>Ruth Alvarez       </td><td>34</td><td>9/22/88</td><td>Providence     </td><td>RI</td></tr>\n",
       "</tbody>\n",
       "</table>\n"
      ],
      "text/latex": [
       "A data.frame: 6 × 5\n",
       "\\begin{tabular}{lllll}\n",
       " Name & Age & DOB & City & State\\\\\n",
       " <chr> & <int> & <chr> & <chr> & <chr>\\\\\n",
       "\\hline\n",
       "\t Ken Irwin           & 37 & 6/28/85 & Providence      & RI\\\\\n",
       "\t Delores Whittington & 56 & 4/28/67 & Smithfield      & RI\\\\\n",
       "\t Daniel Hughes       & 41 & 5/22/82 & Providence      & RI\\\\\n",
       "\t Carlos Fain         & 83 & 2/2/40  & Warren          & RI\\\\\n",
       "\t James Alford        & 67 & 2/23/56 & East Providence & RI\\\\\n",
       "\t Ruth Alvarez        & 34 & 9/22/88 & Providence      & RI\\\\\n",
       "\\end{tabular}\n"
      ],
      "text/markdown": [
       "\n",
       "A data.frame: 6 × 5\n",
       "\n",
       "| Name &lt;chr&gt; | Age &lt;int&gt; | DOB &lt;chr&gt; | City &lt;chr&gt; | State &lt;chr&gt; |\n",
       "|---|---|---|---|---|\n",
       "| Ken Irwin           | 37 | 6/28/85 | Providence      | RI |\n",
       "| Delores Whittington | 56 | 4/28/67 | Smithfield      | RI |\n",
       "| Daniel Hughes       | 41 | 5/22/82 | Providence      | RI |\n",
       "| Carlos Fain         | 83 | 2/2/40  | Warren          | RI |\n",
       "| James Alford        | 67 | 2/23/56 | East Providence | RI |\n",
       "| Ruth Alvarez        | 34 | 9/22/88 | Providence      | RI |\n",
       "\n"
      ],
      "text/plain": [
       "  Name                Age DOB     City            State\n",
       "1 Ken Irwin           37  6/28/85 Providence      RI   \n",
       "2 Delores Whittington 56  4/28/67 Smithfield      RI   \n",
       "3 Daniel Hughes       41  5/22/82 Providence      RI   \n",
       "4 Carlos Fain         83  2/2/40  Warren          RI   \n",
       "5 James Alford        67  2/23/56 East Providence RI   \n",
       "6 Ruth Alvarez        34  9/22/88 Providence      RI   "
      ]
     },
     "metadata": {},
     "output_type": "display_data"
    }
   ],
   "source": [
    "df <- read.csv(\"data/fake_names.csv\") # you will need to update this with the path to your file\n",
    "df"
   ]
  },
  {
   "cell_type": "markdown",
   "metadata": {},
   "source": [
    "We can see that `df` contains the information from the .csv file and that R has printed the first few observations of the data. "
   ]
  },
  {
   "cell_type": "markdown",
   "metadata": {},
   "source": [
    "### Installing and Loading Packages\n",
    "\n",
    "When working with data frames, we will often use the `tidyverse` package (https://www.tidyverse.org/), which is actually a collection of R packages for data science applications. An R package is a collection of functions and/or sample data that allow us to expand on the functionality of R beyond the base functions. You can check whether you have the `tidyverse` package installed by going to the package pane in RStudio or by running the command below, which will display all your installed packages. \n",
    "\n",
    "`installed.packages()`"
   ]
  },
  {
   "cell_type": "markdown",
   "metadata": {},
   "source": [
    "If you don't already have a package installed, you can install it using the `install.packages()` function. Note that you have to include single or double quotes around the package name when using this function. You only have to install a package one time.\n",
    "\n",
    "`install.packages('tidyverse')`"
   ]
  },
  {
   "cell_type": "markdown",
   "metadata": {},
   "source": [
    "The function `read_csv()` is another function to read in comma-delimited files that is part of the `readr` package in the tidyverse. However, if we tried to use this function to load in our data, we would get an error that the function cannot be found. That is because we haven't loaded in this package. To do so, we use the `library()` function. Unlike the `install.packages()` function, we do not have to use quotes around the package name when calling this `library()` function. When we load in a package, we will see some messages. For example, below we see that this package contains the functions `filter()` and `lag()` that are also functions in base R. In future chapters, we will suppress these messages to make the chapter presentation nicer. After loading the tidyverse package, we can now use the `read_csv()` function as shown below."
   ]
  },
  {
   "cell_type": "code",
   "execution_count": 11,
   "metadata": {},
   "outputs": [
    {
     "name": "stderr",
     "output_type": "stream",
     "text": [
      "── \u001b[1mAttaching packages\u001b[22m ─────────────────────────────────────── tidyverse 1.3.2 ──\n",
      "\u001b[32m✔\u001b[39m \u001b[34mggplot2\u001b[39m 3.4.2     \u001b[32m✔\u001b[39m \u001b[34mpurrr  \u001b[39m 0.3.4\n",
      "\u001b[32m✔\u001b[39m \u001b[34mtibble \u001b[39m 3.2.1     \u001b[32m✔\u001b[39m \u001b[34mdplyr  \u001b[39m 1.1.1\n",
      "\u001b[32m✔\u001b[39m \u001b[34mtidyr  \u001b[39m 1.2.1     \u001b[32m✔\u001b[39m \u001b[34mstringr\u001b[39m 1.4.1\n",
      "\u001b[32m✔\u001b[39m \u001b[34mreadr  \u001b[39m 2.1.3     \u001b[32m✔\u001b[39m \u001b[34mforcats\u001b[39m 0.5.2\n",
      "── \u001b[1mConflicts\u001b[22m ────────────────────────────────────────── tidyverse_conflicts() ──\n",
      "\u001b[31m✖\u001b[39m \u001b[34mdplyr\u001b[39m::\u001b[32mfilter()\u001b[39m masks \u001b[34mstats\u001b[39m::filter()\n",
      "\u001b[31m✖\u001b[39m \u001b[34mdplyr\u001b[39m::\u001b[32mlag()\u001b[39m    masks \u001b[34mstats\u001b[39m::lag()\n"
     ]
    }
   ],
   "source": [
    "library(tidyverse)"
   ]
  },
  {
   "cell_type": "code",
   "execution_count": 12,
   "metadata": {},
   "outputs": [
    {
     "data": {
      "text/html": [
       "<table class=\"dataframe\">\n",
       "<caption>A spec_tbl_df: 6 × 5</caption>\n",
       "<thead>\n",
       "\t<tr><th scope=col>Name</th><th scope=col>Age</th><th scope=col>DOB</th><th scope=col>City</th><th scope=col>State</th></tr>\n",
       "\t<tr><th scope=col>&lt;chr&gt;</th><th scope=col>&lt;dbl&gt;</th><th scope=col>&lt;chr&gt;</th><th scope=col>&lt;chr&gt;</th><th scope=col>&lt;chr&gt;</th></tr>\n",
       "</thead>\n",
       "<tbody>\n",
       "\t<tr><td>Ken Irwin          </td><td>37</td><td>6/28/85</td><td>Providence     </td><td>RI</td></tr>\n",
       "\t<tr><td>Delores Whittington</td><td>56</td><td>4/28/67</td><td>Smithfield     </td><td>RI</td></tr>\n",
       "\t<tr><td>Daniel Hughes      </td><td>41</td><td>5/22/82</td><td>Providence     </td><td>RI</td></tr>\n",
       "\t<tr><td>Carlos Fain        </td><td>83</td><td>2/2/40 </td><td>Warren         </td><td>RI</td></tr>\n",
       "\t<tr><td>James Alford       </td><td>67</td><td>2/23/56</td><td>East Providence</td><td>RI</td></tr>\n",
       "\t<tr><td>Ruth Alvarez       </td><td>34</td><td>9/22/88</td><td>Providence     </td><td>RI</td></tr>\n",
       "</tbody>\n",
       "</table>\n"
      ],
      "text/latex": [
       "A spec\\_tbl\\_df: 6 × 5\n",
       "\\begin{tabular}{lllll}\n",
       " Name & Age & DOB & City & State\\\\\n",
       " <chr> & <dbl> & <chr> & <chr> & <chr>\\\\\n",
       "\\hline\n",
       "\t Ken Irwin           & 37 & 6/28/85 & Providence      & RI\\\\\n",
       "\t Delores Whittington & 56 & 4/28/67 & Smithfield      & RI\\\\\n",
       "\t Daniel Hughes       & 41 & 5/22/82 & Providence      & RI\\\\\n",
       "\t Carlos Fain         & 83 & 2/2/40  & Warren          & RI\\\\\n",
       "\t James Alford        & 67 & 2/23/56 & East Providence & RI\\\\\n",
       "\t Ruth Alvarez        & 34 & 9/22/88 & Providence      & RI\\\\\n",
       "\\end{tabular}\n"
      ],
      "text/markdown": [
       "\n",
       "A spec_tbl_df: 6 × 5\n",
       "\n",
       "| Name &lt;chr&gt; | Age &lt;dbl&gt; | DOB &lt;chr&gt; | City &lt;chr&gt; | State &lt;chr&gt; |\n",
       "|---|---|---|---|---|\n",
       "| Ken Irwin           | 37 | 6/28/85 | Providence      | RI |\n",
       "| Delores Whittington | 56 | 4/28/67 | Smithfield      | RI |\n",
       "| Daniel Hughes       | 41 | 5/22/82 | Providence      | RI |\n",
       "| Carlos Fain         | 83 | 2/2/40  | Warren          | RI |\n",
       "| James Alford        | 67 | 2/23/56 | East Providence | RI |\n",
       "| Ruth Alvarez        | 34 | 9/22/88 | Providence      | RI |\n",
       "\n"
      ],
      "text/plain": [
       "  Name                Age DOB     City            State\n",
       "1 Ken Irwin           37  6/28/85 Providence      RI   \n",
       "2 Delores Whittington 56  4/28/67 Smithfield      RI   \n",
       "3 Daniel Hughes       41  5/22/82 Providence      RI   \n",
       "4 Carlos Fain         83  2/2/40  Warren          RI   \n",
       "5 James Alford        67  2/23/56 East Providence RI   \n",
       "6 Ruth Alvarez        34  9/22/88 Providence      RI   "
      ]
     },
     "metadata": {},
     "output_type": "display_data"
    }
   ],
   "source": [
    "df <- read_csv(\"data/fake_names.csv\", show_col_types=FALSE)\n",
    "df"
   ]
  },
  {
   "cell_type": "markdown",
   "metadata": {},
   "source": [
    "Alternatively, we could have told R where to locate the function by adding `readr::` before the function. This tells it to find `read_csv` function in the `readr` package. This can be helpful even if we have already loaded in the package, since sometimes multiple packages have functions with the same name. "
   ]
  },
  {
   "cell_type": "code",
   "execution_count": 13,
   "metadata": {},
   "outputs": [],
   "source": [
    "df <- readr::read_csv(\"data/fake_names.csv\", show_col_types = FALSE)"
   ]
  },
  {
   "cell_type": "markdown",
   "metadata": {},
   "source": [
    "### RStudio Global Options\n",
    "\n",
    "You have now had a basic tour of RStudio. Before we transition to introducing Jupyter Notebooks, take a look at your Global Options (under Tools). We highly recommend that you update your RStudio options to not save your workspace on exiting or load it on starting. This will ensure that you create fully reproducible code and avoid possible errors or confusion. \n",
    "\n",
    "<img src=\"images/1-rstudio-global-opts.png\" alt= “” width=\"400pt\" align=\"center\">"
   ]
  },
  {
   "cell_type": "markdown",
   "metadata": {},
   "source": [
    "## Jupyter Notebooks\n",
    "\n",
    "Jupyter notebooks are an alternative way to to edit and share code. Each chapter of this book was created using a Jupyter notebook, and these notebooks are the best way to interact with the content. Similar to R Markdown, a Jupyter notebook allows us to intersperse code and text. However, this is done using individual cells that are either markdown (text) or code. Each of these cells can be run alone without us having to compile the full notebook. Jupyter notebooks can also be created using julia, python, or R (hence the name ju-pyt-er)."
   ]
  },
  {
   "cell_type": "code",
   "execution_count": null,
   "metadata": {},
   "outputs": [],
   "source": [
    "#nb_rmd = rmarkdown:::convert_ipynb(nb_file)\n",
    "#xfun::file_string(nb_rmd)"
   ]
  },
  {
   "cell_type": "code",
   "execution_count": 16,
   "metadata": {},
   "outputs": [
    {
     "data": {
      "text/html": [
       "<span style=white-space:pre-wrap>'---\\ntitle: An R Markdown document converted from \"/Users/jialinliu/Documents/GitHub/r-for-health-data-science/book/1_intro_to_r.ipynb\"\\noutput: html_document\\n---\\n\\n# 1. Intro to R, RStudio, and Jupyter Notebooks\\n\\nThis chapter will introduce you to R as a programming language and show you how we can use this language in different ways: directly through the [R console](https://cran.rstudio.com/), using [RStudio](https://posit.co/download/rstudio-desktop/), and using [Jupyter Notebooks](https://jupyter.org/). \\n\\n\\n## Why R?\\n\\nWhat are some of the benefits of using R? \\n* R is built for statisticians and data analysts.  \\n* R is open source.  \\n* R has most of the latest statistical methods available.  \\n* R is flexible. \\n\\nSince R is built for statisticians, it is built with data in mind. This comes in handy when we want to streamline how we process and analyze data. It also means that many statisticians working on new methods are publishing user-created packages in R, so R users have access to most methods of interest. R is also an interpreted language, which means that we do not have to compile our code into machine language first: this allows for simpler syntax and more flexibility when writing our code, which also makes it a great first programming language to learn.  \\n\\nPython is another interpreted language often used for data analysis. Both languages feature simple and flexible syntax, but while python is more broadly developed for usage outside of data science and statistical analyses, R is a great programming language for those in health data science. I use both langauges and find switching between them to be straightforward, but I do prefer R for anything related to data or statistical analysis. \\n\\n### Installation of R and RStudio\\n\\nTo run R on your computer, you will need to [download and install R](https://cran.rstudio.com/). This will allow you to open the R application and run R code interactively. However, to get the most out of programming with R, you will want to install RStudio, which is an integrated development environment (IDE) for R and python. RStudio offers a nice environment for writing, editing, running, and debugging R code. We will talk through more of the benefits of using RStudio below. \\n\\nEach chapter in this book is written as a Jupyter notebook but can also be downloaded as an R markdown file. You can open R Markdown files in RStudio to run the code as you read and complete the practice questions and exercises. Alternatively, at the top of these pages, you can open each of these chapters as a Jupyter notebook through Binder. This will open an interactive, online session for you to run the R code. We recommend this option for the best viewing and learning experience, though if you would like to run the Jupyter notebooks on your own machine, you will need to install [Jupyter](https://www.anaconda.com/download) and the associated [R kernel](https://github.com/IRkernel/IRkernel).\\n\\n## The R Console\\n\\nThe R console provides our first intro to code in R. The image below shows what the console will look like when you open it. You should see a blinking cursor - this where we can write our first line of code!\\n\\n&lt;img src=\"images/1-r-console.png\" alt= “” width=\"400pt\" align=\"center\"&gt;\\n\\nTo start, type `2+3` and press ENTER. You should see that `5` is printed below that code and that your cursor is moved to the next line. \\n\\n### Basic Computations and Objects\\n\\nIn the example above, we coded a simple addition. Try out some other basic calculations using the operators below:\\n\\n* Addition: `5+6`  \\n* Subtraction: `7-2`  \\n* Multiplication: `2*3`  \\n* Division: `6/3`  \\n* Exponentiation: `4^2`  \\n* Modulo: `100 %% 4`\\n\\nFor example, use the modulo operator to find what 100 mod 4 is. It should return 0 since 100 is divisible by 4.\\n\\nIf we want to save the result of any computation, we need to create an object to store our value of interest. An **object** is simply a named data structure that allows us to reference that data structure. Objects are also commonly called **variables**. In the code below, we create an object `x` which stores the value `5` using the assignment operator `&lt;-`. The assignment operator assigns whatever is on the right hand side of the operator to the name on the left hand side. We can now reference `x` by calling its name. Additionally, we can update its value by adding 1. In the second line of code, the computer first finds the value of the right hand side by finding the current value of `x` before adding 1 and assigning it back to `x`.\\n\\n```{r}\\nx &lt;- 2+3\\nx &lt;- x+1\\nx\\n```\\n\\nWe can create and store multiple objects by using different names. The code below creates a new object `y` that is one more than the value of `x`. We can see that the value of `x` is still `5` after running this code.\\n\\n```{r}\\nx &lt;- 2+3\\ny &lt;- x\\ny &lt;- y + 1\\nx\\n```\\n\\n### Naming Conventions\\n\\nAs we start creating objects, we want to make sure we use good object names. Here are a few tips for naming objects effectively:\\n\\n*  Stick to a single format. We will use **snake_case**, which uses underscores between words (e.g. `my_var`, `class_year`).\\n*  Make your names useful. Try to avoid using names that are too long (e.g. `which_day_of_the_week`) or do not contain enough information (e.g., `x1`, `x2`, `x3`). \\n*  Replace unexplained values with an object. For example, if you need to do some calculations using 100 as the number of participants, create an object `n_part` with value 100 rather than repeatedly using the number. This makes the code easy to update and helps the user avoid possible errors. \\n\\n## RStudio and R Markdown \\n\\nIf we made a mistake in the code above, we would have to retype everything from the beginning. However, when we write code, we often want to be able to run it multiple times and develop it in stages. R scripts and R markdown files allow us to save all of our R code in files that we can update and re-run, which allows us to create reproducible and shareable analyses. We will now move to RStudio as our development environment to demonstrate creating an R script. When you open RStudio, you will see multiple windows. Start by opening a new R file by going to File -&gt; New File -&gt; R Script. You should now see several windows. \\n\\n&lt;img src=\"images/1-rstudio.png\" alt= “” width=\"600pt\" align=\"center\"&gt;\\n\\nIn the code editor window in the top left, add the following code to your .R file and save the file. Note that here we used snake_case to name our objects! \\n\\n```{r}\\n# Calculate student to faculty ratio, 2023 enrollment\\nnum_students &lt;- 132\\nnum_faculty &lt;- 23\\nstudent_fac_ratio &lt;- num_students/num_faculty\\n```\\n\\nThe first line starts with `#` and does not contain any code. This is a comment line, which allows us to add context, intent, or extra information to help the reader understand our code. A good rule of thumb is that we want to write enough comments so that we could open our code in six months and be able to understand what we were doing. As we develop longer chunks of code, this will become more important. \\n\\n### Video Tour of RStudio and R Markdown\\n\\nIn order to run the code in the script, we need to tell RStudio we are ready to run it. The video below shows you how to run a script and gives a tour of the other windows you see in RStudio. It will also introduce you to R Markdown files, which integrate text and code together. As we described above, each chapter in this book can be downloaded as a corresponding R Markdown file.\\n\\n&lt;div class=\"video-container\"&gt;\\n    &lt;iframe width=\"700\" height=\"500\" src=\"https://www.youtube.com/embed/WoGbZnkiQEM\" title=\"YouTube video player\" frameborder=\"0\" allow=\"accelerometer; autoplay; clipboard-write; encrypted-media; gyroscope; picture-in-picture; web-share\" allowfullscreen&gt;&lt;/iframe&gt;\\n&lt;/div&gt;\\n\\n### Calling Functions\\n\\nWhen we use R, we have access to all the functions available in base R. A **function** takes in one or more inputs and returns a single output object. Let\\'s first use the simple function `exp()`. This exponential function takes in one (or more) numeric values and exponentiates them. The code below computes $e^3$.\\n\\n```{r}\\nexp(3)\\n```\\n\\nSome other simple functions are shown below that all convert a numeric input to an integer value. The `ceiling()` and `floor()` functions returns the ceiling and floor of your input, and the `round()` function will round your input to the closest integer. Note that the `round()` function will round a 5 to the closest even integer. \\n\\n```{r}\\nceiling(3.7)\\n```\\n\\n```{r}\\nfloor(3.7)\\n```\\n\\n```{r}\\nround(2.5)\\nround(3.5)\\n```\\n\\nIf we want to learn about a function, we can use the help operator `?` by typing it in front of the function you are interested in: this will bring up the documentation for that particular function. This documentation will often tell you the usage of the function, the **arguments** (the object inputs), the **value** (information about the returned object), and will give some examples of how to use the function. For example, if we want to understand the difference between `floor()` and `ceiling()`, we can call `?floor` and `?ceiling`. This should bring up the documentation in your help window. We can then read that the floor function rounds a numeric input down to the nearest integer whereas the ceiling function rounds a numeric input up to the nearest integer.\\n\\n### Working Directories and Paths\\n\\nLet\\'s try using another example function: `read.csv()`. This function reads in a comma-delimited file and returns the information as a data frame (try typing `?read.csv` in the console to read more about this function). We will learn more about data frames in [Chapter 2](https://alicepaul.github.io/r-for-health-data-science/book/2_data_structures.html). The first argument to this function is a file, which can be expressed as either a filename or a path to a file. First, download the file `fake_names.csv` from this book\\'s [github repository](https://github.com/alicepaul/r-for-health-data-science/tree/main/book/data). By default, R will look for the file in your current working directory. To find the working directory, you can run `getwd()`. You can see below that my current working directory is where the book content is on my computer. \\n\\n```{r}\\ngetwd()\\n```\\n\\nYou can either move the .csv file to your current working directory and load it in, or you can specify the path to the .csv file. Another option is to update your working directory by using the `setwd()` function (e.g. `setwd(\\'/Users/Alice/Dropbox/r-for-health-data-science/book/data\\')`). If you receive an error that a file cannot be found, you most likely have the wrong path to the file or the wrong file name. Below, I chose to specify the path to the downloaded .csv file, saved this file to an object called `df`, and then printed that `df` object.\\n\\n```{r}\\ndf &lt;- read.csv(\"data/fake_names.csv\") # you will need to update this with the path to your file\\ndf\\n```\\n\\nWe can see that `df` contains the information from the .csv file and that R has printed the first few observations of the data. \\n\\n### Installing and Loading Packages\\n\\nWhen working with data frames, we will often use the `tidyverse` package (https://www.tidyverse.org/), which is actually a collection of R packages for data science applications. An R package is a collection of functions and/or sample data that allow us to expand on the functionality of R beyond the base functions. You can check whether you have the `tidyverse` package installed by going to the package pane in RStudio or by running the command below, which will display all your installed packages. \\n\\n`installed.packages()`\\n\\nIf you don\\'t already have a package installed, you can install it using the `install.packages()` function. Note that you have to include single or double quotes around the package name when using this function. You only have to install a package one time.\\n\\n`install.packages(\\'tidyverse\\')`\\n\\nThe function `read_csv()` is another function to read in comma-delimited files that is part of the `readr` package in the tidyverse. However, if we tried to use this function to load in our data, we would get an error that the function cannot be found. That is because we haven\\'t loaded in this package. To do so, we use the `library()` function. Unlike the `install.packages()` function, we do not have to use quotes around the package name when calling this `library()` function. When we load in a package, we will see some messages. For example, below we see that this package contains the functions `filter()` and `lag()` that are also functions in base R. In future chapters, we will suppress these messages to make the chapter presentation nicer. After loading the tidyverse package, we can now use the `read_csv()` function as shown below.\\n\\n```{r}\\nlibrary(tidyverse)\\n```\\n\\n```{r}\\ndf &lt;- read_csv(\"data/fake_names.csv\", show_col_types=FALSE)\\ndf\\n```\\n\\nAlternatively, we could have told R where to locate the function by adding `readr::` before the function. This tells it to find `read_csv` function in the `readr` package. This can be helpful even if we have already loaded in the package, since sometimes multiple packages have functions with the same name. \\n\\n```{r}\\ndf &lt;- readr::read_csv(\"data/fake_names.csv\", show_col_types = FALSE)\\n```\\n\\n### RStudio Global Options\\n\\nYou have now had a basic tour of RStudio. Before we transition to introducing Jupyter Notebooks, take a look at your Global Options (under Tools). We highly recommend that you update your RStudio options to not save your workspace on exiting or load it on starting. This will ensure that you create fully reproducible code and avoid possible errors or confusion. \\n\\n&lt;img src=\"images/1-rstudio-global-opts.png\" alt= “” width=\"400pt\" align=\"center\"&gt;\\n\\n## Jupyter Notebooks\\n\\nJupyter notebooks are an alternative way to to edit and share code. Each chapter of this book was created using a Jupyter notebook, and these notebooks are the best way to interact with the content. Similar to R Markdown, a Jupyter notebook allows us to intersperse code and text. However, this is done using individual cells that are either markdown (text) or code. Each of these cells can be run alone without us having to compile the full notebook. Jupyter notebooks can also be created using julia, python, or R (hence the name ju-pyt-er).\\n\\n```{r}\\n#nb_rmd = rmarkdown:::convert_ipynb(nb_file)\\n#xfun::file_string(nb_rmd)\\n```\\n\\n```{r}\\ninput_1 &lt;- \"/Users/jialinliu/Documents/GitHub/r-for-health-data-science/book/1_intro_to_r.ipynb\"\\noutput_1_rmd &lt;- rmarkdown:::convert_ipynb(input_1)\\nxfun::file_string(output_1_rmd)\\n```\\n\\n### Video Tour of Jupyter Notebooks and Binder\\n\\nAt the top of this chapter is a rocket button to open this Notebook using Binder. Binder creates an online computational environment to host your notebooks that already has all the R packages you\\'ll need for this book installed, which is the easiest way to interact with the content in this book. Click that link to open this chapter and then view the video below to see how to use this feature when reading this book. \\n\\n&lt;div class=\"video-container\"&gt;\\n    &lt;iframe width=\"700\" height=\"500\" src=\"https://www.youtube.com/embed/aZbvJc5w5Og\" title=\"YouTube video player\" frameborder=\"0\" allow=\"accelerometer; autoplay; clipboard-write; encrypted-media; gyroscope; picture-in-picture; web-share\" allowfullscreen&gt;&lt;/iframe&gt;\\n&lt;/div&gt;\\n\\n## Tips and Reminders\\n\\nWe end this chapter with some final tips and reminders. \\n\\n* **Keyboard Shortcuts**: Both RStudio and Jupyter notebooks have useful keyboard shortcuts that will make your programming experience more streamlined. It is worth getting familiar with some of the most common keyboard shortcuts - here are some helpful cheatsheets for keyboard shortcuts in [Jupyter Notebooks](https://github.com/alicepaul/r-for-health-data-science/blob/main/book/docs/jupyter_notebook_keyboard_shortcuts.pdf) and in [RStudio](https://github.com/alicepaul/r-for-health-data-science/blob/main/book/docs/r_studio_keyboard_shortcuts.pdf). \\n\\n* **Asking for help**: Within R, you can use the `?` operator or the `help()` function to pull up documentation on a given function. This documentation is also available [online](https://rdocumentation.org/).\\n\\n* **Finding all objects**: You can use the Environment panel or `ls()` function to find all current objects. If you have an error that an object you are calling does not exist, take a look to find where you defined it. \\n\\n* **Checking packages**: If you get an error that a function does not exist, check to make sure you have loaded that package using the `library` function. The list of packages used in this book is given on the [github repository homepage](https://github.com/alicepaul/r-for-health-data-science). \\n'</span>"
      ],
      "text/latex": [
       "'---\\textbackslash{}ntitle: An R Markdown document converted from \"/Users/jialinliu/Documents/GitHub/r-for-health-data-science/book/1\\_intro\\_to\\_r.ipynb\"\\textbackslash{}noutput: html\\_document\\textbackslash{}n---\\textbackslash{}n\\textbackslash{}n\\# 1. Intro to R, RStudio, and Jupyter Notebooks\\textbackslash{}n\\textbackslash{}nThis chapter will introduce you to R as a programming language and show you how we can use this language in different ways: directly through the {[}R console{]}(https://cran.rstudio.com/), using {[}RStudio{]}(https://posit.co/download/rstudio-desktop/), and using {[}Jupyter Notebooks{]}(https://jupyter.org/). \\textbackslash{}n\\textbackslash{}n\\textbackslash{}n\\#\\# Why R?\\textbackslash{}n\\textbackslash{}nWhat are some of the benefits of using R? \\textbackslash{}n* R is built for statisticians and data analysts.  \\textbackslash{}n* R is open source.  \\textbackslash{}n* R has most of the latest statistical methods available.  \\textbackslash{}n* R is flexible. \\textbackslash{}n\\textbackslash{}nSince R is built for statisticians, it is built with data in mind. This comes in handy when we want to streamline how we process and analyze data. It also means that many statisticians working on new methods are publishing user-created packages in R, so R users have access to most methods of interest. R is also an interpreted language, which means that we do not have to compile our code into machine language first: this allows for simpler syntax and more flexibility when writing our code, which also makes it a great first programming language to learn.  \\textbackslash{}n\\textbackslash{}nPython is another interpreted language often used for data analysis. Both languages feature simple and flexible syntax, but while python is more broadly developed for usage outside of data science and statistical analyses, R is a great programming language for those in health data science. I use both langauges and find switching between them to be straightforward, but I do prefer R for anything related to data or statistical analysis. \\textbackslash{}n\\textbackslash{}n\\#\\#\\# Installation of R and RStudio\\textbackslash{}n\\textbackslash{}nTo run R on your computer, you will need to {[}download and install R{]}(https://cran.rstudio.com/). This will allow you to open the R application and run R code interactively. However, to get the most out of programming with R, you will want to install RStudio, which is an integrated development environment (IDE) for R and python. RStudio offers a nice environment for writing, editing, running, and debugging R code. We will talk through more of the benefits of using RStudio below. \\textbackslash{}n\\textbackslash{}nEach chapter in this book is written as a Jupyter notebook but can also be downloaded as an R markdown file. You can open R Markdown files in RStudio to run the code as you read and complete the practice questions and exercises. Alternatively, at the top of these pages, you can open each of these chapters as a Jupyter notebook through Binder. This will open an interactive, online session for you to run the R code. We recommend this option for the best viewing and learning experience, though if you would like to run the Jupyter notebooks on your own machine, you will need to install {[}Jupyter{]}(https://www.anaconda.com/download) and the associated {[}R kernel{]}(https://github.com/IRkernel/IRkernel).\\textbackslash{}n\\textbackslash{}n\\#\\# The R Console\\textbackslash{}n\\textbackslash{}nThe R console provides our first intro to code in R. The image below shows what the console will look like when you open it. You should see a blinking cursor - this where we can write our first line of code!\\textbackslash{}n\\textbackslash{}n<img src=\"images/1-r-console.png\" alt= “” width=\"400pt\" align=\"center\">\\textbackslash{}n\\textbackslash{}nTo start, type `2+3` and press ENTER. You should see that `5` is printed below that code and that your cursor is moved to the next line. \\textbackslash{}n\\textbackslash{}n\\#\\#\\# Basic Computations and Objects\\textbackslash{}n\\textbackslash{}nIn the example above, we coded a simple addition. Try out some other basic calculations using the operators below:\\textbackslash{}n\\textbackslash{}n* Addition: `5+6`  \\textbackslash{}n* Subtraction: `7-2`  \\textbackslash{}n* Multiplication: `2*3`  \\textbackslash{}n* Division: `6/3`  \\textbackslash{}n* Exponentiation: `4\\textasciicircum{}2`  \\textbackslash{}n* Modulo: `100 \\%\\% 4`\\textbackslash{}n\\textbackslash{}nFor example, use the modulo operator to find what 100 mod 4 is. It should return 0 since 100 is divisible by 4.\\textbackslash{}n\\textbackslash{}nIf we want to save the result of any computation, we need to create an object to store our value of interest. An **object** is simply a named data structure that allows us to reference that data structure. Objects are also commonly called **variables**. In the code below, we create an object `x` which stores the value `5` using the assignment operator `<-`. The assignment operator assigns whatever is on the right hand side of the operator to the name on the left hand side. We can now reference `x` by calling its name. Additionally, we can update its value by adding 1. In the second line of code, the computer first finds the value of the right hand side by finding the current value of `x` before adding 1 and assigning it back to `x`.\\textbackslash{}n\\textbackslash{}n```\\{r\\}\\textbackslash{}nx <- 2+3\\textbackslash{}nx <- x+1\\textbackslash{}nx\\textbackslash{}n```\\textbackslash{}n\\textbackslash{}nWe can create and store multiple objects by using different names. The code below creates a new object `y` that is one more than the value of `x`. We can see that the value of `x` is still `5` after running this code.\\textbackslash{}n\\textbackslash{}n```\\{r\\}\\textbackslash{}nx <- 2+3\\textbackslash{}ny <- x\\textbackslash{}ny <- y + 1\\textbackslash{}nx\\textbackslash{}n```\\textbackslash{}n\\textbackslash{}n\\#\\#\\# Naming Conventions\\textbackslash{}n\\textbackslash{}nAs we start creating objects, we want to make sure we use good object names. Here are a few tips for naming objects effectively:\\textbackslash{}n\\textbackslash{}n*  Stick to a single format. We will use **snake\\_case**, which uses underscores between words (e.g. `my\\_var`, `class\\_year`).\\textbackslash{}n*  Make your names useful. Try to avoid using names that are too long (e.g. `which\\_day\\_of\\_the\\_week`) or do not contain enough information (e.g., `x1`, `x2`, `x3`). \\textbackslash{}n*  Replace unexplained values with an object. For example, if you need to do some calculations using 100 as the number of participants, create an object `n\\_part` with value 100 rather than repeatedly using the number. This makes the code easy to update and helps the user avoid possible errors. \\textbackslash{}n\\textbackslash{}n\\#\\# RStudio and R Markdown \\textbackslash{}n\\textbackslash{}nIf we made a mistake in the code above, we would have to retype everything from the beginning. However, when we write code, we often want to be able to run it multiple times and develop it in stages. R scripts and R markdown files allow us to save all of our R code in files that we can update and re-run, which allows us to create reproducible and shareable analyses. We will now move to RStudio as our development environment to demonstrate creating an R script. When you open RStudio, you will see multiple windows. Start by opening a new R file by going to File -> New File -> R Script. You should now see several windows. \\textbackslash{}n\\textbackslash{}n<img src=\"images/1-rstudio.png\" alt= “” width=\"600pt\" align=\"center\">\\textbackslash{}n\\textbackslash{}nIn the code editor window in the top left, add the following code to your .R file and save the file. Note that here we used snake\\_case to name our objects! \\textbackslash{}n\\textbackslash{}n```\\{r\\}\\textbackslash{}n\\# Calculate student to faculty ratio, 2023 enrollment\\textbackslash{}nnum\\_students <- 132\\textbackslash{}nnum\\_faculty <- 23\\textbackslash{}nstudent\\_fac\\_ratio <- num\\_students/num\\_faculty\\textbackslash{}n```\\textbackslash{}n\\textbackslash{}nThe first line starts with `\\#` and does not contain any code. This is a comment line, which allows us to add context, intent, or extra information to help the reader understand our code. A good rule of thumb is that we want to write enough comments so that we could open our code in six months and be able to understand what we were doing. As we develop longer chunks of code, this will become more important. \\textbackslash{}n\\textbackslash{}n\\#\\#\\# Video Tour of RStudio and R Markdown\\textbackslash{}n\\textbackslash{}nIn order to run the code in the script, we need to tell RStudio we are ready to run it. The video below shows you how to run a script and gives a tour of the other windows you see in RStudio. It will also introduce you to R Markdown files, which integrate text and code together. As we described above, each chapter in this book can be downloaded as a corresponding R Markdown file.\\textbackslash{}n\\textbackslash{}n<div class=\"video-container\">\\textbackslash{}n    <iframe width=\"700\" height=\"500\" src=\"https://www.youtube.com/embed/WoGbZnkiQEM\" title=\"YouTube video player\" frameborder=\"0\" allow=\"accelerometer; autoplay; clipboard-write; encrypted-media; gyroscope; picture-in-picture; web-share\" allowfullscreen></iframe>\\textbackslash{}n</div>\\textbackslash{}n\\textbackslash{}n\\#\\#\\# Calling Functions\\textbackslash{}n\\textbackslash{}nWhen we use R, we have access to all the functions available in base R. A **function** takes in one or more inputs and returns a single output object. Let\\textbackslash{}'s first use the simple function `exp()`. This exponential function takes in one (or more) numeric values and exponentiates them. The code below computes \\$e\\textasciicircum{}3\\$.\\textbackslash{}n\\textbackslash{}n```\\{r\\}\\textbackslash{}nexp(3)\\textbackslash{}n```\\textbackslash{}n\\textbackslash{}nSome other simple functions are shown below that all convert a numeric input to an integer value. The `ceiling()` and `floor()` functions returns the ceiling and floor of your input, and the `round()` function will round your input to the closest integer. Note that the `round()` function will round a 5 to the closest even integer. \\textbackslash{}n\\textbackslash{}n```\\{r\\}\\textbackslash{}nceiling(3.7)\\textbackslash{}n```\\textbackslash{}n\\textbackslash{}n```\\{r\\}\\textbackslash{}nfloor(3.7)\\textbackslash{}n```\\textbackslash{}n\\textbackslash{}n```\\{r\\}\\textbackslash{}nround(2.5)\\textbackslash{}nround(3.5)\\textbackslash{}n```\\textbackslash{}n\\textbackslash{}nIf we want to learn about a function, we can use the help operator `?` by typing it in front of the function you are interested in: this will bring up the documentation for that particular function. This documentation will often tell you the usage of the function, the **arguments** (the object inputs), the **value** (information about the returned object), and will give some examples of how to use the function. For example, if we want to understand the difference between `floor()` and `ceiling()`, we can call `?floor` and `?ceiling`. This should bring up the documentation in your help window. We can then read that the floor function rounds a numeric input down to the nearest integer whereas the ceiling function rounds a numeric input up to the nearest integer.\\textbackslash{}n\\textbackslash{}n\\#\\#\\# Working Directories and Paths\\textbackslash{}n\\textbackslash{}nLet\\textbackslash{}'s try using another example function: `read.csv()`. This function reads in a comma-delimited file and returns the information as a data frame (try typing `?read.csv` in the console to read more about this function). We will learn more about data frames in {[}Chapter 2{]}(https://alicepaul.github.io/r-for-health-data-science/book/2\\_data\\_structures.html). The first argument to this function is a file, which can be expressed as either a filename or a path to a file. First, download the file `fake\\_names.csv` from this book\\textbackslash{}'s {[}github repository{]}(https://github.com/alicepaul/r-for-health-data-science/tree/main/book/data). By default, R will look for the file in your current working directory. To find the working directory, you can run `getwd()`. You can see below that my current working directory is where the book content is on my computer. \\textbackslash{}n\\textbackslash{}n```\\{r\\}\\textbackslash{}ngetwd()\\textbackslash{}n```\\textbackslash{}n\\textbackslash{}nYou can either move the .csv file to your current working directory and load it in, or you can specify the path to the .csv file. Another option is to update your working directory by using the `setwd()` function (e.g. `setwd(\\textbackslash{}'/Users/Alice/Dropbox/r-for-health-data-science/book/data\\textbackslash{}')`). If you receive an error that a file cannot be found, you most likely have the wrong path to the file or the wrong file name. Below, I chose to specify the path to the downloaded .csv file, saved this file to an object called `df`, and then printed that `df` object.\\textbackslash{}n\\textbackslash{}n```\\{r\\}\\textbackslash{}ndf <- read.csv(\"data/fake\\_names.csv\") \\# you will need to update this with the path to your file\\textbackslash{}ndf\\textbackslash{}n```\\textbackslash{}n\\textbackslash{}nWe can see that `df` contains the information from the .csv file and that R has printed the first few observations of the data. \\textbackslash{}n\\textbackslash{}n\\#\\#\\# Installing and Loading Packages\\textbackslash{}n\\textbackslash{}nWhen working with data frames, we will often use the `tidyverse` package (https://www.tidyverse.org/), which is actually a collection of R packages for data science applications. An R package is a collection of functions and/or sample data that allow us to expand on the functionality of R beyond the base functions. You can check whether you have the `tidyverse` package installed by going to the package pane in RStudio or by running the command below, which will display all your installed packages. \\textbackslash{}n\\textbackslash{}n`installed.packages()`\\textbackslash{}n\\textbackslash{}nIf you don\\textbackslash{}'t already have a package installed, you can install it using the `install.packages()` function. Note that you have to include single or double quotes around the package name when using this function. You only have to install a package one time.\\textbackslash{}n\\textbackslash{}n`install.packages(\\textbackslash{}'tidyverse\\textbackslash{}')`\\textbackslash{}n\\textbackslash{}nThe function `read\\_csv()` is another function to read in comma-delimited files that is part of the `readr` package in the tidyverse. However, if we tried to use this function to load in our data, we would get an error that the function cannot be found. That is because we haven\\textbackslash{}'t loaded in this package. To do so, we use the `library()` function. Unlike the `install.packages()` function, we do not have to use quotes around the package name when calling this `library()` function. When we load in a package, we will see some messages. For example, below we see that this package contains the functions `filter()` and `lag()` that are also functions in base R. In future chapters, we will suppress these messages to make the chapter presentation nicer. After loading the tidyverse package, we can now use the `read\\_csv()` function as shown below.\\textbackslash{}n\\textbackslash{}n```\\{r\\}\\textbackslash{}nlibrary(tidyverse)\\textbackslash{}n```\\textbackslash{}n\\textbackslash{}n```\\{r\\}\\textbackslash{}ndf <- read\\_csv(\"data/fake\\_names.csv\", show\\_col\\_types=FALSE)\\textbackslash{}ndf\\textbackslash{}n```\\textbackslash{}n\\textbackslash{}nAlternatively, we could have told R where to locate the function by adding `readr::` before the function. This tells it to find `read\\_csv` function in the `readr` package. This can be helpful even if we have already loaded in the package, since sometimes multiple packages have functions with the same name. \\textbackslash{}n\\textbackslash{}n```\\{r\\}\\textbackslash{}ndf <- readr::read\\_csv(\"data/fake\\_names.csv\", show\\_col\\_types = FALSE)\\textbackslash{}n```\\textbackslash{}n\\textbackslash{}n\\#\\#\\# RStudio Global Options\\textbackslash{}n\\textbackslash{}nYou have now had a basic tour of RStudio. Before we transition to introducing Jupyter Notebooks, take a look at your Global Options (under Tools). We highly recommend that you update your RStudio options to not save your workspace on exiting or load it on starting. This will ensure that you create fully reproducible code and avoid possible errors or confusion. \\textbackslash{}n\\textbackslash{}n<img src=\"images/1-rstudio-global-opts.png\" alt= “” width=\"400pt\" align=\"center\">\\textbackslash{}n\\textbackslash{}n\\#\\# Jupyter Notebooks\\textbackslash{}n\\textbackslash{}nJupyter notebooks are an alternative way to to edit and share code. Each chapter of this book was created using a Jupyter notebook, and these notebooks are the best way to interact with the content. Similar to R Markdown, a Jupyter notebook allows us to intersperse code and text. However, this is done using individual cells that are either markdown (text) or code. Each of these cells can be run alone without us having to compile the full notebook. Jupyter notebooks can also be created using julia, python, or R (hence the name ju-pyt-er).\\textbackslash{}n\\textbackslash{}n```\\{r\\}\\textbackslash{}n\\#nb\\_rmd = rmarkdown:::convert\\_ipynb(nb\\_file)\\textbackslash{}n\\#xfun::file\\_string(nb\\_rmd)\\textbackslash{}n```\\textbackslash{}n\\textbackslash{}n```\\{r\\}\\textbackslash{}ninput\\_1 <- \"/Users/jialinliu/Documents/GitHub/r-for-health-data-science/book/1\\_intro\\_to\\_r.ipynb\"\\textbackslash{}noutput\\_1\\_rmd <- rmarkdown:::convert\\_ipynb(input\\_1)\\textbackslash{}nxfun::file\\_string(output\\_1\\_rmd)\\textbackslash{}n```\\textbackslash{}n\\textbackslash{}n\\#\\#\\# Video Tour of Jupyter Notebooks and Binder\\textbackslash{}n\\textbackslash{}nAt the top of this chapter is a rocket button to open this Notebook using Binder. Binder creates an online computational environment to host your notebooks that already has all the R packages you\\textbackslash{}'ll need for this book installed, which is the easiest way to interact with the content in this book. Click that link to open this chapter and then view the video below to see how to use this feature when reading this book. \\textbackslash{}n\\textbackslash{}n<div class=\"video-container\">\\textbackslash{}n    <iframe width=\"700\" height=\"500\" src=\"https://www.youtube.com/embed/aZbvJc5w5Og\" title=\"YouTube video player\" frameborder=\"0\" allow=\"accelerometer; autoplay; clipboard-write; encrypted-media; gyroscope; picture-in-picture; web-share\" allowfullscreen></iframe>\\textbackslash{}n</div>\\textbackslash{}n\\textbackslash{}n\\#\\# Tips and Reminders\\textbackslash{}n\\textbackslash{}nWe end this chapter with some final tips and reminders. \\textbackslash{}n\\textbackslash{}n* **Keyboard Shortcuts**: Both RStudio and Jupyter notebooks have useful keyboard shortcuts that will make your programming experience more streamlined. It is worth getting familiar with some of the most common keyboard shortcuts - here are some helpful cheatsheets for keyboard shortcuts in {[}Jupyter Notebooks{]}(https://github.com/alicepaul/r-for-health-data-science/blob/main/book/docs/jupyter\\_notebook\\_keyboard\\_shortcuts.pdf) and in {[}RStudio{]}(https://github.com/alicepaul/r-for-health-data-science/blob/main/book/docs/r\\_studio\\_keyboard\\_shortcuts.pdf). \\textbackslash{}n\\textbackslash{}n* **Asking for help**: Within R, you can use the `?` operator or the `help()` function to pull up documentation on a given function. This documentation is also available {[}online{]}(https://rdocumentation.org/).\\textbackslash{}n\\textbackslash{}n* **Finding all objects**: You can use the Environment panel or `ls()` function to find all current objects. If you have an error that an object you are calling does not exist, take a look to find where you defined it. \\textbackslash{}n\\textbackslash{}n* **Checking packages**: If you get an error that a function does not exist, check to make sure you have loaded that package using the `library` function. The list of packages used in this book is given on the {[}github repository homepage{]}(https://github.com/alicepaul/r-for-health-data-science). \\textbackslash{}n'"
      ],
      "text/markdown": [
       "<span style=white-space:pre-wrap>'---\\ntitle: An R Markdown document converted from \"/Users/jialinliu/Documents/GitHub/r-for-health-data-science/book/1_intro_to_r.ipynb\"\\noutput: html_document\\n---\\n\\n# 1. Intro to R, RStudio, and Jupyter Notebooks\\n\\nThis chapter will introduce you to R as a programming language and show you how we can use this language in different ways: directly through the [R console](https://cran.rstudio.com/), using [RStudio](https://posit.co/download/rstudio-desktop/), and using [Jupyter Notebooks](https://jupyter.org/). \\n\\n\\n## Why R?\\n\\nWhat are some of the benefits of using R? \\n* R is built for statisticians and data analysts.  \\n* R is open source.  \\n* R has most of the latest statistical methods available.  \\n* R is flexible. \\n\\nSince R is built for statisticians, it is built with data in mind. This comes in handy when we want to streamline how we process and analyze data. It also means that many statisticians working on new methods are publishing user-created packages in R, so R users have access to most methods of interest. R is also an interpreted language, which means that we do not have to compile our code into machine language first: this allows for simpler syntax and more flexibility when writing our code, which also makes it a great first programming language to learn.  \\n\\nPython is another interpreted language often used for data analysis. Both languages feature simple and flexible syntax, but while python is more broadly developed for usage outside of data science and statistical analyses, R is a great programming language for those in health data science. I use both langauges and find switching between them to be straightforward, but I do prefer R for anything related to data or statistical analysis. \\n\\n### Installation of R and RStudio\\n\\nTo run R on your computer, you will need to [download and install R](https://cran.rstudio.com/). This will allow you to open the R application and run R code interactively. However, to get the most out of programming with R, you will want to install RStudio, which is an integrated development environment (IDE) for R and python. RStudio offers a nice environment for writing, editing, running, and debugging R code. We will talk through more of the benefits of using RStudio below. \\n\\nEach chapter in this book is written as a Jupyter notebook but can also be downloaded as an R markdown file. You can open R Markdown files in RStudio to run the code as you read and complete the practice questions and exercises. Alternatively, at the top of these pages, you can open each of these chapters as a Jupyter notebook through Binder. This will open an interactive, online session for you to run the R code. We recommend this option for the best viewing and learning experience, though if you would like to run the Jupyter notebooks on your own machine, you will need to install [Jupyter](https://www.anaconda.com/download) and the associated [R kernel](https://github.com/IRkernel/IRkernel).\\n\\n## The R Console\\n\\nThe R console provides our first intro to code in R. The image below shows what the console will look like when you open it. You should see a blinking cursor - this where we can write our first line of code!\\n\\n&lt;img src=\"images/1-r-console.png\" alt= “” width=\"400pt\" align=\"center\"&gt;\\n\\nTo start, type `2+3` and press ENTER. You should see that `5` is printed below that code and that your cursor is moved to the next line. \\n\\n### Basic Computations and Objects\\n\\nIn the example above, we coded a simple addition. Try out some other basic calculations using the operators below:\\n\\n* Addition: `5+6`  \\n* Subtraction: `7-2`  \\n* Multiplication: `2*3`  \\n* Division: `6/3`  \\n* Exponentiation: `4^2`  \\n* Modulo: `100 %% 4`\\n\\nFor example, use the modulo operator to find what 100 mod 4 is. It should return 0 since 100 is divisible by 4.\\n\\nIf we want to save the result of any computation, we need to create an object to store our value of interest. An **object** is simply a named data structure that allows us to reference that data structure. Objects are also commonly called **variables**. In the code below, we create an object `x` which stores the value `5` using the assignment operator `&lt;-`. The assignment operator assigns whatever is on the right hand side of the operator to the name on the left hand side. We can now reference `x` by calling its name. Additionally, we can update its value by adding 1. In the second line of code, the computer first finds the value of the right hand side by finding the current value of `x` before adding 1 and assigning it back to `x`.\\n\\n```{r}\\nx &lt;- 2+3\\nx &lt;- x+1\\nx\\n```\\n\\nWe can create and store multiple objects by using different names. The code below creates a new object `y` that is one more than the value of `x`. We can see that the value of `x` is still `5` after running this code.\\n\\n```{r}\\nx &lt;- 2+3\\ny &lt;- x\\ny &lt;- y + 1\\nx\\n```\\n\\n### Naming Conventions\\n\\nAs we start creating objects, we want to make sure we use good object names. Here are a few tips for naming objects effectively:\\n\\n*  Stick to a single format. We will use **snake_case**, which uses underscores between words (e.g. `my_var`, `class_year`).\\n*  Make your names useful. Try to avoid using names that are too long (e.g. `which_day_of_the_week`) or do not contain enough information (e.g., `x1`, `x2`, `x3`). \\n*  Replace unexplained values with an object. For example, if you need to do some calculations using 100 as the number of participants, create an object `n_part` with value 100 rather than repeatedly using the number. This makes the code easy to update and helps the user avoid possible errors. \\n\\n## RStudio and R Markdown \\n\\nIf we made a mistake in the code above, we would have to retype everything from the beginning. However, when we write code, we often want to be able to run it multiple times and develop it in stages. R scripts and R markdown files allow us to save all of our R code in files that we can update and re-run, which allows us to create reproducible and shareable analyses. We will now move to RStudio as our development environment to demonstrate creating an R script. When you open RStudio, you will see multiple windows. Start by opening a new R file by going to File -&gt; New File -&gt; R Script. You should now see several windows. \\n\\n&lt;img src=\"images/1-rstudio.png\" alt= “” width=\"600pt\" align=\"center\"&gt;\\n\\nIn the code editor window in the top left, add the following code to your .R file and save the file. Note that here we used snake_case to name our objects! \\n\\n```{r}\\n# Calculate student to faculty ratio, 2023 enrollment\\nnum_students &lt;- 132\\nnum_faculty &lt;- 23\\nstudent_fac_ratio &lt;- num_students/num_faculty\\n```\\n\\nThe first line starts with `#` and does not contain any code. This is a comment line, which allows us to add context, intent, or extra information to help the reader understand our code. A good rule of thumb is that we want to write enough comments so that we could open our code in six months and be able to understand what we were doing. As we develop longer chunks of code, this will become more important. \\n\\n### Video Tour of RStudio and R Markdown\\n\\nIn order to run the code in the script, we need to tell RStudio we are ready to run it. The video below shows you how to run a script and gives a tour of the other windows you see in RStudio. It will also introduce you to R Markdown files, which integrate text and code together. As we described above, each chapter in this book can be downloaded as a corresponding R Markdown file.\\n\\n&lt;div class=\"video-container\"&gt;\\n    &lt;iframe width=\"700\" height=\"500\" src=\"https://www.youtube.com/embed/WoGbZnkiQEM\" title=\"YouTube video player\" frameborder=\"0\" allow=\"accelerometer; autoplay; clipboard-write; encrypted-media; gyroscope; picture-in-picture; web-share\" allowfullscreen&gt;&lt;/iframe&gt;\\n&lt;/div&gt;\\n\\n### Calling Functions\\n\\nWhen we use R, we have access to all the functions available in base R. A **function** takes in one or more inputs and returns a single output object. Let\\'s first use the simple function `exp()`. This exponential function takes in one (or more) numeric values and exponentiates them. The code below computes $e^3$.\\n\\n```{r}\\nexp(3)\\n```\\n\\nSome other simple functions are shown below that all convert a numeric input to an integer value. The `ceiling()` and `floor()` functions returns the ceiling and floor of your input, and the `round()` function will round your input to the closest integer. Note that the `round()` function will round a 5 to the closest even integer. \\n\\n```{r}\\nceiling(3.7)\\n```\\n\\n```{r}\\nfloor(3.7)\\n```\\n\\n```{r}\\nround(2.5)\\nround(3.5)\\n```\\n\\nIf we want to learn about a function, we can use the help operator `?` by typing it in front of the function you are interested in: this will bring up the documentation for that particular function. This documentation will often tell you the usage of the function, the **arguments** (the object inputs), the **value** (information about the returned object), and will give some examples of how to use the function. For example, if we want to understand the difference between `floor()` and `ceiling()`, we can call `?floor` and `?ceiling`. This should bring up the documentation in your help window. We can then read that the floor function rounds a numeric input down to the nearest integer whereas the ceiling function rounds a numeric input up to the nearest integer.\\n\\n### Working Directories and Paths\\n\\nLet\\'s try using another example function: `read.csv()`. This function reads in a comma-delimited file and returns the information as a data frame (try typing `?read.csv` in the console to read more about this function). We will learn more about data frames in [Chapter 2](https://alicepaul.github.io/r-for-health-data-science/book/2_data_structures.html). The first argument to this function is a file, which can be expressed as either a filename or a path to a file. First, download the file `fake_names.csv` from this book\\'s [github repository](https://github.com/alicepaul/r-for-health-data-science/tree/main/book/data). By default, R will look for the file in your current working directory. To find the working directory, you can run `getwd()`. You can see below that my current working directory is where the book content is on my computer. \\n\\n```{r}\\ngetwd()\\n```\\n\\nYou can either move the .csv file to your current working directory and load it in, or you can specify the path to the .csv file. Another option is to update your working directory by using the `setwd()` function (e.g. `setwd(\\'/Users/Alice/Dropbox/r-for-health-data-science/book/data\\')`). If you receive an error that a file cannot be found, you most likely have the wrong path to the file or the wrong file name. Below, I chose to specify the path to the downloaded .csv file, saved this file to an object called `df`, and then printed that `df` object.\\n\\n```{r}\\ndf &lt;- read.csv(\"data/fake_names.csv\") # you will need to update this with the path to your file\\ndf\\n```\\n\\nWe can see that `df` contains the information from the .csv file and that R has printed the first few observations of the data. \\n\\n### Installing and Loading Packages\\n\\nWhen working with data frames, we will often use the `tidyverse` package (https://www.tidyverse.org/), which is actually a collection of R packages for data science applications. An R package is a collection of functions and/or sample data that allow us to expand on the functionality of R beyond the base functions. You can check whether you have the `tidyverse` package installed by going to the package pane in RStudio or by running the command below, which will display all your installed packages. \\n\\n`installed.packages()`\\n\\nIf you don\\'t already have a package installed, you can install it using the `install.packages()` function. Note that you have to include single or double quotes around the package name when using this function. You only have to install a package one time.\\n\\n`install.packages(\\'tidyverse\\')`\\n\\nThe function `read_csv()` is another function to read in comma-delimited files that is part of the `readr` package in the tidyverse. However, if we tried to use this function to load in our data, we would get an error that the function cannot be found. That is because we haven\\'t loaded in this package. To do so, we use the `library()` function. Unlike the `install.packages()` function, we do not have to use quotes around the package name when calling this `library()` function. When we load in a package, we will see some messages. For example, below we see that this package contains the functions `filter()` and `lag()` that are also functions in base R. In future chapters, we will suppress these messages to make the chapter presentation nicer. After loading the tidyverse package, we can now use the `read_csv()` function as shown below.\\n\\n```{r}\\nlibrary(tidyverse)\\n```\\n\\n```{r}\\ndf &lt;- read_csv(\"data/fake_names.csv\", show_col_types=FALSE)\\ndf\\n```\\n\\nAlternatively, we could have told R where to locate the function by adding `readr::` before the function. This tells it to find `read_csv` function in the `readr` package. This can be helpful even if we have already loaded in the package, since sometimes multiple packages have functions with the same name. \\n\\n```{r}\\ndf &lt;- readr::read_csv(\"data/fake_names.csv\", show_col_types = FALSE)\\n```\\n\\n### RStudio Global Options\\n\\nYou have now had a basic tour of RStudio. Before we transition to introducing Jupyter Notebooks, take a look at your Global Options (under Tools). We highly recommend that you update your RStudio options to not save your workspace on exiting or load it on starting. This will ensure that you create fully reproducible code and avoid possible errors or confusion. \\n\\n&lt;img src=\"images/1-rstudio-global-opts.png\" alt= “” width=\"400pt\" align=\"center\"&gt;\\n\\n## Jupyter Notebooks\\n\\nJupyter notebooks are an alternative way to to edit and share code. Each chapter of this book was created using a Jupyter notebook, and these notebooks are the best way to interact with the content. Similar to R Markdown, a Jupyter notebook allows us to intersperse code and text. However, this is done using individual cells that are either markdown (text) or code. Each of these cells can be run alone without us having to compile the full notebook. Jupyter notebooks can also be created using julia, python, or R (hence the name ju-pyt-er).\\n\\n```{r}\\n#nb_rmd = rmarkdown:::convert_ipynb(nb_file)\\n#xfun::file_string(nb_rmd)\\n```\\n\\n```{r}\\ninput_1 &lt;- \"/Users/jialinliu/Documents/GitHub/r-for-health-data-science/book/1_intro_to_r.ipynb\"\\noutput_1_rmd &lt;- rmarkdown:::convert_ipynb(input_1)\\nxfun::file_string(output_1_rmd)\\n```\\n\\n### Video Tour of Jupyter Notebooks and Binder\\n\\nAt the top of this chapter is a rocket button to open this Notebook using Binder. Binder creates an online computational environment to host your notebooks that already has all the R packages you\\'ll need for this book installed, which is the easiest way to interact with the content in this book. Click that link to open this chapter and then view the video below to see how to use this feature when reading this book. \\n\\n&lt;div class=\"video-container\"&gt;\\n    &lt;iframe width=\"700\" height=\"500\" src=\"https://www.youtube.com/embed/aZbvJc5w5Og\" title=\"YouTube video player\" frameborder=\"0\" allow=\"accelerometer; autoplay; clipboard-write; encrypted-media; gyroscope; picture-in-picture; web-share\" allowfullscreen&gt;&lt;/iframe&gt;\\n&lt;/div&gt;\\n\\n## Tips and Reminders\\n\\nWe end this chapter with some final tips and reminders. \\n\\n* **Keyboard Shortcuts**: Both RStudio and Jupyter notebooks have useful keyboard shortcuts that will make your programming experience more streamlined. It is worth getting familiar with some of the most common keyboard shortcuts - here are some helpful cheatsheets for keyboard shortcuts in [Jupyter Notebooks](https://github.com/alicepaul/r-for-health-data-science/blob/main/book/docs/jupyter_notebook_keyboard_shortcuts.pdf) and in [RStudio](https://github.com/alicepaul/r-for-health-data-science/blob/main/book/docs/r_studio_keyboard_shortcuts.pdf). \\n\\n* **Asking for help**: Within R, you can use the `?` operator or the `help()` function to pull up documentation on a given function. This documentation is also available [online](https://rdocumentation.org/).\\n\\n* **Finding all objects**: You can use the Environment panel or `ls()` function to find all current objects. If you have an error that an object you are calling does not exist, take a look to find where you defined it. \\n\\n* **Checking packages**: If you get an error that a function does not exist, check to make sure you have loaded that package using the `library` function. The list of packages used in this book is given on the [github repository homepage](https://github.com/alicepaul/r-for-health-data-science). \\n'</span>"
      ],
      "text/plain": [
       "---\n",
       "title: An R Markdown document converted from \"/Users/jialinliu/Documents/GitHub/r-for-health-data-science/book/1_intro_to_r.ipynb\"\n",
       "output: html_document\n",
       "---\n",
       "\n",
       "# 1. Intro to R, RStudio, and Jupyter Notebooks\n",
       "\n",
       "This chapter will introduce you to R as a programming language and show you how we can use this language in different ways: directly through the [R console](https://cran.rstudio.com/), using [RStudio](https://posit.co/download/rstudio-desktop/), and using [Jupyter Notebooks](https://jupyter.org/). \n",
       "\n",
       "\n",
       "## Why R?\n",
       "\n",
       "What are some of the benefits of using R? \n",
       "* R is built for statisticians and data analysts.  \n",
       "* R is open source.  \n",
       "* R has most of the latest statistical methods available.  \n",
       "* R is flexible. \n",
       "\n",
       "Since R is built for statisticians, it is built with data in mind. This comes in handy when we want to streamline how we process and analyze data. It also means that many statisticians working on new methods are publishing user-created packages in R, so R users have access to most methods of interest. R is also an interpreted language, which means that we do not have to compile our code into machine language first: this allows for simpler syntax and more flexibility when writing our code, which also makes it a great first programming language to learn.  \n",
       "\n",
       "Python is another interpreted language often used for data analysis. Both languages feature simple and flexible syntax, but while python is more broadly developed for usage outside of data science and statistical analyses, R is a great programming language for those in health data science. I use both langauges and find switching between them to be straightforward, but I do prefer R for anything related to data or statistical analysis. \n",
       "\n",
       "### Installation of R and RStudio\n",
       "\n",
       "To run R on your computer, you will need to [download and install R](https://cran.rstudio.com/). This will allow you to open the R application and run R code interactively. However, to get the most out of programming with R, you will want to install RStudio, which is an integrated development environment (IDE) for R and python. RStudio offers a nice environment for writing, editing, running, and debugging R code. We will talk through more of the benefits of using RStudio below. \n",
       "\n",
       "Each chapter in this book is written as a Jupyter notebook but can also be downloaded as an R markdown file. You can open R Markdown files in RStudio to run the code as you read and complete the practice questions and exercises. Alternatively, at the top of these pages, you can open each of these chapters as a Jupyter notebook through Binder. This will open an interactive, online session for you to run the R code. We recommend this option for the best viewing and learning experience, though if you would like to run the Jupyter notebooks on your own machine, you will need to install [Jupyter](https://www.anaconda.com/download) and the associated [R kernel](https://github.com/IRkernel/IRkernel).\n",
       "\n",
       "## The R Console\n",
       "\n",
       "The R console provides our first intro to code in R. The image below shows what the console will look like when you open it. You should see a blinking cursor - this where we can write our first line of code!\n",
       "\n",
       "<img src=\"images/1-r-console.png\" alt= “” width=\"400pt\" align=\"center\">\n",
       "\n",
       "To start, type `2+3` and press ENTER. You should see that `5` is printed below that code and that your cursor is moved to the next line. \n",
       "\n",
       "### Basic Computations and Objects\n",
       "\n",
       "In the example above, we coded a simple addition. Try out some other basic calculations using the operators below:\n",
       "\n",
       "* Addition: `5+6`  \n",
       "* Subtraction: `7-2`  \n",
       "* Multiplication: `2*3`  \n",
       "* Division: `6/3`  \n",
       "* Exponentiation: `4^2`  \n",
       "* Modulo: `100 %% 4`\n",
       "\n",
       "For example, use the modulo operator to find what 100 mod 4 is. It should return 0 since 100 is divisible by 4.\n",
       "\n",
       "If we want to save the result of any computation, we need to create an object to store our value of interest. An **object** is simply a named data structure that allows us to reference that data structure. Objects are also commonly called **variables**. In the code below, we create an object `x` which stores the value `5` using the assignment operator `<-`. The assignment operator assigns whatever is on the right hand side of the operator to the name on the left hand side. We can now reference `x` by calling its name. Additionally, we can update its value by adding 1. In the second line of code, the computer first finds the value of the right hand side by finding the current value of `x` before adding 1 and assigning it back to `x`.\n",
       "\n",
       "```{r}\n",
       "x <- 2+3\n",
       "x <- x+1\n",
       "x\n",
       "```\n",
       "\n",
       "We can create and store multiple objects by using different names. The code below creates a new object `y` that is one more than the value of `x`. We can see that the value of `x` is still `5` after running this code.\n",
       "\n",
       "```{r}\n",
       "x <- 2+3\n",
       "y <- x\n",
       "y <- y + 1\n",
       "x\n",
       "```\n",
       "\n",
       "### Naming Conventions\n",
       "\n",
       "As we start creating objects, we want to make sure we use good object names. Here are a few tips for naming objects effectively:\n",
       "\n",
       "*  Stick to a single format. We will use **snake_case**, which uses underscores between words (e.g. `my_var`, `class_year`).\n",
       "*  Make your names useful. Try to avoid using names that are too long (e.g. `which_day_of_the_week`) or do not contain enough information (e.g., `x1`, `x2`, `x3`). \n",
       "*  Replace unexplained values with an object. For example, if you need to do some calculations using 100 as the number of participants, create an object `n_part` with value 100 rather than repeatedly using the number. This makes the code easy to update and helps the user avoid possible errors. \n",
       "\n",
       "## RStudio and R Markdown \n",
       "\n",
       "If we made a mistake in the code above, we would have to retype everything from the beginning. However, when we write code, we often want to be able to run it multiple times and develop it in stages. R scripts and R markdown files allow us to save all of our R code in files that we can update and re-run, which allows us to create reproducible and shareable analyses. We will now move to RStudio as our development environment to demonstrate creating an R script. When you open RStudio, you will see multiple windows. Start by opening a new R file by going to File -> New File -> R Script. You should now see several windows. \n",
       "\n",
       "<img src=\"images/1-rstudio.png\" alt= “” width=\"600pt\" align=\"center\">\n",
       "\n",
       "In the code editor window in the top left, add the following code to your .R file and save the file. Note that here we used snake_case to name our objects! \n",
       "\n",
       "```{r}\n",
       "# Calculate student to faculty ratio, 2023 enrollment\n",
       "num_students <- 132\n",
       "num_faculty <- 23\n",
       "student_fac_ratio <- num_students/num_faculty\n",
       "```\n",
       "\n",
       "The first line starts with `#` and does not contain any code. This is a comment line, which allows us to add context, intent, or extra information to help the reader understand our code. A good rule of thumb is that we want to write enough comments so that we could open our code in six months and be able to understand what we were doing. As we develop longer chunks of code, this will become more important. \n",
       "\n",
       "### Video Tour of RStudio and R Markdown\n",
       "\n",
       "In order to run the code in the script, we need to tell RStudio we are ready to run it. The video below shows you how to run a script and gives a tour of the other windows you see in RStudio. It will also introduce you to R Markdown files, which integrate text and code together. As we described above, each chapter in this book can be downloaded as a corresponding R Markdown file.\n",
       "\n",
       "<div class=\"video-container\">\n",
       "    <iframe width=\"700\" height=\"500\" src=\"https://www.youtube.com/embed/WoGbZnkiQEM\" title=\"YouTube video player\" frameborder=\"0\" allow=\"accelerometer; autoplay; clipboard-write; encrypted-media; gyroscope; picture-in-picture; web-share\" allowfullscreen></iframe>\n",
       "</div>\n",
       "\n",
       "### Calling Functions\n",
       "\n",
       "When we use R, we have access to all the functions available in base R. A **function** takes in one or more inputs and returns a single output object. Let's first use the simple function `exp()`. This exponential function takes in one (or more) numeric values and exponentiates them. The code below computes $e^3$.\n",
       "\n",
       "```{r}\n",
       "exp(3)\n",
       "```\n",
       "\n",
       "Some other simple functions are shown below that all convert a numeric input to an integer value. The `ceiling()` and `floor()` functions returns the ceiling and floor of your input, and the `round()` function will round your input to the closest integer. Note that the `round()` function will round a 5 to the closest even integer. \n",
       "\n",
       "```{r}\n",
       "ceiling(3.7)\n",
       "```\n",
       "\n",
       "```{r}\n",
       "floor(3.7)\n",
       "```\n",
       "\n",
       "```{r}\n",
       "round(2.5)\n",
       "round(3.5)\n",
       "```\n",
       "\n",
       "If we want to learn about a function, we can use the help operator `?` by typing it in front of the function you are interested in: this will bring up the documentation for that particular function. This documentation will often tell you the usage of the function, the **arguments** (the object inputs), the **value** (information about the returned object), and will give some examples of how to use the function. For example, if we want to understand the difference between `floor()` and `ceiling()`, we can call `?floor` and `?ceiling`. This should bring up the documentation in your help window. We can then read that the floor function rounds a numeric input down to the nearest integer whereas the ceiling function rounds a numeric input up to the nearest integer.\n",
       "\n",
       "### Working Directories and Paths\n",
       "\n",
       "Let's try using another example function: `read.csv()`. This function reads in a comma-delimited file and returns the information as a data frame (try typing `?read.csv` in the console to read more about this function). We will learn more about data frames in [Chapter 2](https://alicepaul.github.io/r-for-health-data-science/book/2_data_structures.html). The first argument to this function is a file, which can be expressed as either a filename or a path to a file. First, download the file `fake_names.csv` from this book's [github repository](https://github.com/alicepaul/r-for-health-data-science/tree/main/book/data). By default, R will look for the file in your current working directory. To find the working directory, you can run `getwd()`. You can see below that my current working directory is where the book content is on my computer. \n",
       "\n",
       "```{r}\n",
       "getwd()\n",
       "```\n",
       "\n",
       "You can either move the .csv file to your current working directory and load it in, or you can specify the path to the .csv file. Another option is to update your working directory by using the `setwd()` function (e.g. `setwd('/Users/Alice/Dropbox/r-for-health-data-science/book/data')`). If you receive an error that a file cannot be found, you most likely have the wrong path to the file or the wrong file name. Below, I chose to specify the path to the downloaded .csv file, saved this file to an object called `df`, and then printed that `df` object.\n",
       "\n",
       "```{r}\n",
       "df <- read.csv(\"data/fake_names.csv\") # you will need to update this with the path to your file\n",
       "df\n",
       "```\n",
       "\n",
       "We can see that `df` contains the information from the .csv file and that R has printed the first few observations of the data. \n",
       "\n",
       "### Installing and Loading Packages\n",
       "\n",
       "When working with data frames, we will often use the `tidyverse` package (https://www.tidyverse.org/), which is actually a collection of R packages for data science applications. An R package is a collection of functions and/or sample data that allow us to expand on the functionality of R beyond the base functions. You can check whether you have the `tidyverse` package installed by going to the package pane in RStudio or by running the command below, which will display all your installed packages. \n",
       "\n",
       "`installed.packages()`\n",
       "\n",
       "If you don't already have a package installed, you can install it using the `install.packages()` function. Note that you have to include single or double quotes around the package name when using this function. You only have to install a package one time.\n",
       "\n",
       "`install.packages('tidyverse')`\n",
       "\n",
       "The function `read_csv()` is another function to read in comma-delimited files that is part of the `readr` package in the tidyverse. However, if we tried to use this function to load in our data, we would get an error that the function cannot be found. That is because we haven't loaded in this package. To do so, we use the `library()` function. Unlike the `install.packages()` function, we do not have to use quotes around the package name when calling this `library()` function. When we load in a package, we will see some messages. For example, below we see that this package contains the functions `filter()` and `lag()` that are also functions in base R. In future chapters, we will suppress these messages to make the chapter presentation nicer. After loading the tidyverse package, we can now use the `read_csv()` function as shown below.\n",
       "\n",
       "```{r}\n",
       "library(tidyverse)\n",
       "```\n",
       "\n",
       "```{r}\n",
       "df <- read_csv(\"data/fake_names.csv\", show_col_types=FALSE)\n",
       "df\n",
       "```\n",
       "\n",
       "Alternatively, we could have told R where to locate the function by adding `readr::` before the function. This tells it to find `read_csv` function in the `readr` package. This can be helpful even if we have already loaded in the package, since sometimes multiple packages have functions with the same name. \n",
       "\n",
       "```{r}\n",
       "df <- readr::read_csv(\"data/fake_names.csv\", show_col_types = FALSE)\n",
       "```\n",
       "\n",
       "### RStudio Global Options\n",
       "\n",
       "You have now had a basic tour of RStudio. Before we transition to introducing Jupyter Notebooks, take a look at your Global Options (under Tools). We highly recommend that you update your RStudio options to not save your workspace on exiting or load it on starting. This will ensure that you create fully reproducible code and avoid possible errors or confusion. \n",
       "\n",
       "<img src=\"images/1-rstudio-global-opts.png\" alt= “” width=\"400pt\" align=\"center\">\n",
       "\n",
       "## Jupyter Notebooks\n",
       "\n",
       "Jupyter notebooks are an alternative way to to edit and share code. Each chapter of this book was created using a Jupyter notebook, and these notebooks are the best way to interact with the content. Similar to R Markdown, a Jupyter notebook allows us to intersperse code and text. However, this is done using individual cells that are either markdown (text) or code. Each of these cells can be run alone without us having to compile the full notebook. Jupyter notebooks can also be created using julia, python, or R (hence the name ju-pyt-er).\n",
       "\n",
       "```{r}\n",
       "#nb_rmd = rmarkdown:::convert_ipynb(nb_file)\n",
       "#xfun::file_string(nb_rmd)\n",
       "```\n",
       "\n",
       "```{r}\n",
       "input_1 <- \"/Users/jialinliu/Documents/GitHub/r-for-health-data-science/book/1_intro_to_r.ipynb\"\n",
       "output_1_rmd <- rmarkdown:::convert_ipynb(input_1)\n",
       "xfun::file_string(output_1_rmd)\n",
       "```\n",
       "\n",
       "### Video Tour of Jupyter Notebooks and Binder\n",
       "\n",
       "At the top of this chapter is a rocket button to open this Notebook using Binder. Binder creates an online computational environment to host your notebooks that already has all the R packages you'll need for this book installed, which is the easiest way to interact with the content in this book. Click that link to open this chapter and then view the video below to see how to use this feature when reading this book. \n",
       "\n",
       "<div class=\"video-container\">\n",
       "    <iframe width=\"700\" height=\"500\" src=\"https://www.youtube.com/embed/aZbvJc5w5Og\" title=\"YouTube video player\" frameborder=\"0\" allow=\"accelerometer; autoplay; clipboard-write; encrypted-media; gyroscope; picture-in-picture; web-share\" allowfullscreen></iframe>\n",
       "</div>\n",
       "\n",
       "## Tips and Reminders\n",
       "\n",
       "We end this chapter with some final tips and reminders. \n",
       "\n",
       "* **Keyboard Shortcuts**: Both RStudio and Jupyter notebooks have useful keyboard shortcuts that will make your programming experience more streamlined. It is worth getting familiar with some of the most common keyboard shortcuts - here are some helpful cheatsheets for keyboard shortcuts in [Jupyter Notebooks](https://github.com/alicepaul/r-for-health-data-science/blob/main/book/docs/jupyter_notebook_keyboard_shortcuts.pdf) and in [RStudio](https://github.com/alicepaul/r-for-health-data-science/blob/main/book/docs/r_studio_keyboard_shortcuts.pdf). \n",
       "\n",
       "* **Asking for help**: Within R, you can use the `?` operator or the `help()` function to pull up documentation on a given function. This documentation is also available [online](https://rdocumentation.org/).\n",
       "\n",
       "* **Finding all objects**: You can use the Environment panel or `ls()` function to find all current objects. If you have an error that an object you are calling does not exist, take a look to find where you defined it. \n",
       "\n",
       "* **Checking packages**: If you get an error that a function does not exist, check to make sure you have loaded that package using the `library` function. The list of packages used in this book is given on the [github repository homepage](https://github.com/alicepaul/r-for-health-data-science). \n"
      ]
     },
     "metadata": {},
     "output_type": "display_data"
    },
    {
     "data": {
      "text/html": [
       "<span style=white-space:pre-wrap>'---\\ntitle: An R Markdown document converted from \"/Users/jialinliu/Documents/GitHub/r-for-health-data-science/book/2_data_structures.ipynb\"\\noutput: html_document\\n---\\n\\n# 2. Data Structures in R\\n\\nIn this chapter, we will demonstrate the key **data structures** in R. Data structures are how information is stored in R, and the data structures that we use inform R how to interpret our code. Any **object** is a named instance of a data structure. For example, the object `ex_num` below is a vector of numeric type. \\n\\n```{r}\\nex_num &lt;- 4\\n```\\n\\nThe main data structures in R are **vectors**, **factors**, **matrices**, **arrays**, **lists**, and **data frames**. These structures are distinguished by their dimensions and by the type of data they store. For example, we might have a 1-dimensional vector that contains all numeric values, or we could have a 2-dimensional data frame with rows and columns where we might have one numeric column and one character column. In this chapter, we will cover each data structure except for arrays. Arrays are an extension of matrices that allow for data that is more than 2-dimensional and are not needed for the applications covered in this book.\\n\\n&lt;img src=\"images/2-data-structures.png\" alt= “” width=\"500pt\" align=\"center\"&gt;\\n\\n## Data Types\\n\\nEach individual value in R has a type: logical, integer, double, or character. We can think of these as the building blocks of all data structures. Below, we can use the `typeof` function to find the type of our vector from above, which shows that the value of `ex_num` is a **double**. A double is a numeric value with a stored decimal.\\n\\n```{r}\\ntypeof(ex_num)\\n```\\n\\nOn the other hand, an integer is a whole number that does not contain a decimal. We now create an integer object `ex_int`. To indicate to R that we want to restrict our values to integer values, we use an `L` after the number. \\n\\n```{r}\\nex_int &lt;- 4L\\ntypeof(ex_int)\\n```\\n\\nBoth `ex_num` and `ex_int` are numeric objects, but we can also work with two other types of objects: characters (e.g. \"php\", \"stats\") and booleans (e.g. TRUE, FALSE), also known as logicals. \\n\\n```{r}\\nex_bool &lt;- TRUE\\nex_char &lt;- \"Alice\"\\n\\ntypeof(ex_bool)\\ntypeof(ex_char)\\n```\\n\\nOne important characteristic of logical objects is that R will also interpret them as 0/1. This means they can be added as in the example below: each `TRUE` has a value of 1 and each `FALSE` has a value of 0.\\n\\n```{r}\\nTRUE+FALSE+TRUE\\n```\\n\\nTo create all of the above objects, we used the assignment operator `&lt;-`, which we discussed in [Chapter 1](https://alicepaul.github.io/r-for-health-data-science/book/1_intro_to_r.html). You may see code elsewhere that uses an `=` instead. While `=` can also be used for assignment, it is more standard practice to use `&lt;-`. \\n\\n## Vectors\\n\\nIn the examples above, we created objects with a single value. R actually uses a vector of length 1 to store this information. **Vectors** are 1-dimensional data structures that can store multiple data values of the same type (e.g. character, boolean, or numeric). \\n\\n\\n&lt;img src=\"images/2-vectors.png\" alt= “” width=\"500pt\" align=\"center\"&gt;\\n\\nWe can confirm this by using the `is.vector()` function, which returns whether or not the inputted argument is a vector.\\n\\n```{r}\\nis.vector(ex_bool)\\n```\\n\\nOne way to create a vector with multiple values is to use the combine function `c()`. Below we create two vectors: one with the days of the week and one with the amount of rain on each day. The first vector has all character values, and the second one has all numeric values.\\n\\n```{r}\\ndays &lt;- c(\"Monday\", \"Tuesday\", \"Wednesday\", \"Thursday\", \"Friday\")\\nrain &lt;- c(5, 0.1, 0, 0, 0.4)\\n```\\n\\nRemember, vectors cannot store objects of different types. Because of this, in the code below, R automatically converts the numeric value to be a character in order to store these values in a vector together.\\n\\n```{r}\\nc(\"Monday\", 5)\\n```\\n\\nIf we check the classes of these two objects using the `class()` function, we will see that R tells us the type of the data (character and numeric). \\n\\n```{r}\\nclass(days)\\nclass(rain)\\n```\\n\\nWhat happens when we create an empty vector? What is the class?\\n\\n```{r}\\nex_empty &lt;- c()\\nclass(ex_empty)\\n```\\n\\nIn this case, there is no specified type yet. If we wanted to specify the type, we could make an empty vector using the `vector()` function.\\n\\n```{r}\\nex_empty &lt;- vector(mode = \"numeric\")\\nclass(ex_empty)\\n```\\n\\nAnother way to create a vector is with the `rep()` or `seq()` functions. The first function `rep(x, times)` takes in a vector `x` and a number of times `times` and outputs `x` repeated that many times. Let\\'s try this with a single value below. The second function `seq(from, to, step)` takes in a numeric starting value `from`, end value `to`, and step size `step` and returns a sequence from `from` in increments of `step` until a maximum value of `to` is reached. \\n\\n```{r}\\nrep(0, 5)\\nrep(\"Monday\", 4)\\nseq(1, 5, 1)\\nseq(0, -10, -2)\\n```\\n\\n### Indexing a Vector\\n\\nOnce we have a vector, we may want to access certain values stored in that vector. To do so, we index the vector using the position of each value: the first value in the vector has index 1, the second value has index 2, etc. When we say a vector is 1-dimensional, we mean that we can define the position of each value by a single index. To index the vector, we then use square brackets `[]` after the vector name and provide the position. Below, we use these indices to find the value at index 1 and the value at index 4.\\n\\n```{r}\\ndays[1]\\ndays[4]\\n```\\n\\nWe can either access a single value or a subset of values using a vector of indices. Let\\'s see what happens when we use a vector of indices `c(1,4)` and then try using `-c(1,4)` and see what happens then. In the first case, we get the values at index 1 *and* at index 4. In the second case, we get all values *except* at those indices. The `-` indicates that we want to remove rather than select these indices.\\n\\n```{r}\\ndays[c(1,4)]\\ndays[-c(1,4)]\\n```\\n\\nHowever, always indexing by the index value can sometimes be difficult or inefficient. One extra feature of vectors is that we can associate a name with each value. Below, we update the names of the vector `rain` to be the days of the week and then find Friday\\'s rain count by indexing with the name.\\n\\n```{r}\\nnames(rain) &lt;- days\\nprint(rain)\\nrain[\"Friday\"]\\n```\\n\\nThe last way to index a vector is to use TRUE and FALSE values. If we have a vector of booleans that is the same length as our original vector, then this will return all the values that correspond to a TRUE value. For example, indexing the `days` vector by the logical vector `ind_bools` below will return its first and fourth values. We will see more about using logic to access certain values later on. \\n\\n```{r}\\nind_bools &lt;- c(TRUE, FALSE, FALSE, TRUE, FALSE)\\ndays[ind_bools]\\n```\\n\\n### Editing a Vector and Calculations\\n\\nThe mathematical operators we saw in the last chapter (`+`, `-`, `*`, `/`, `^`, `%%`) can all be applied to numeric vectors and will be applied element-wise. That is, in the code below, the two vectors are added together by index. This holds true for some of the built-in math functions as well:\\n\\n* `exp()` - expoential\\n* `log()` - log\\n* `sqrt()` - square root\\n* `abs()` - absolute value \\n* `round()` - round to nearest integer value\\n* `ceiling()` - round up to the nearest integer value \\n* `floor()` - round down to the nearest integer value\\n\\n```{r}\\nc(1,2,3) + c(1,1,1)\\nc(1,2,3) + 1 # equivalent to the code above\\nsqrt(c(1,4,16))\\n```\\n\\nAfter we create a vector, we may need to update its values. For example, we may want to change a specific value. We can do so using indexing. Below, we update the rain value for Friday using the assignment operator. \\n\\n```{r}\\nrain[\"Friday\"] &lt;- 0.5\\nrain\\n```\\n\\nFurther, we may need to add extra entries. We can do so using the `c()` function again but this time passing in the vector we want to add to as our first argument. This will create a single vector with all previous and new values. Below, we add two days to both vectors and then check the length of the updated vector `rain`. The `length()` function returns the length of a vector.\\n\\n```{r}\\nlength(rain)\\ndays &lt;- c(days,\"Saturday\",\"Sunday\") # add the weekend with no rain\\nrain &lt;- c(rain,0,0)\\nlength(rain)\\n```\\n\\nWe can also call some useful functions on vectors. For example, the `sum()`, `max()`, and `min()` functions will return the sum, maximum value, and minimum value of a vector, respectively. \\n\\n### Practice Question\\n\\nCreate a vector of the odd numbers from 1 to 11 using the `seq()` function. Then, find the third value in the vector using indexing. \\n\\n```{r}\\n# Insert your solution here:\\n```\\n\\n### Common Vector Functions\\n\\nBelow we list some of the most common vector functions that are available in base R. All of these functions assume that the vector is numeric. If we pass the function a logical vector, R will convert the vector to 0/1 first, and if we pass the function a character vector, R will give us an error message. \\n\\n* `sum()` -  summation\\n* `median()` - median value\\n* `mean()` - mean\\n* `sd()` - standard deviation \\n* `var()` - variance\\n* `max()` - maximum value\\n* `which.max()` - index of the first element with the maximum value\\n* `min()` - minimum value\\n* `which.min()` - index of the first element with the minimum value\\n\\nTry these out using the vector `rain`. Note that R is case sensitive - `Mean()` is considered different from `mean()`, so if we type `Mean(rain)` R will tell us that it cannot find this function. \\n\\n```{r}\\nmean(rain)  \\nmin(rain) \\nwhich.min(rain) \\n```\\n\\nWe may also be interested in the order of the values. The `sort()` function sorts the values of a vector, whereas the `order()` function returns the permutation of the elements to be in sorted order. The last line of code below sorts the days of the week from smallest to largest rain value. \\n\\n```{r}\\nrain\\norder(rain)\\ndays[order(rain)]\\n```\\n\\nBoth of these functions have an extra possible argument `decreasing`, which has a default value of FALSE. We can specify this to be TRUE to find the days of the week sorted from largest to smallest rainfall.\\n\\n```{r}\\ndays[order(rain, decreasing=TRUE)]\\n```\\n\\n## Factors\\n\\nA **factor** is a special kind of vector that behaves exactly like a regular vector except that it represents values from a category. In particular, a factor keeps track of all possible values of that category, which are called the **levels** of the factor. Factors will be especially helpful when we start getting into data analysis and have categorical variables. The `as.factor()` function will convert a vector to a factor. \\n\\n```{r}\\ndays &lt;- c(\"Monday\", \"Tuesday\", \"Wednesday\", \"Monday\", \"Thursday\", \"Wednesday\")\\ndays_fct &lt;- as.factor(days)\\n\\nclass(days_fct)\\nlevels(days_fct)\\n```\\n\\nAbove, we did not specify the possible levels for our variable. Instead, R found all values in the vector `days` and set these equal to the levels of the factor. Because of this, if we try to change one of the levels to \\'Friday\\', we will get an error. Uncomment the line below to see the error message.\\n\\n```{r}\\n#days_fct[2] &lt;- \"Friday\"   \\n```\\n\\nWe can avoid this error by specifying the levels using the `factor()` function instead of the `as.factor()` function. \\n\\n```{r}\\ndays &lt;- c(\"Monday\", \"Tuesday\", \"Wednesday\", \"Monday\", \"Thursday\", \"Wednesday\")\\ndays_fct &lt;- factor(days, \\n               levels = c(\"Monday\", \"Tuesday\", \"Wednesday\", \"Thursday\", \\n                          \"Friday\", \"Saturday\", \"Sunday\"))\\n\\nclass(days_fct)\\nlevels(days_fct)\\ndays_fct[2] &lt;- \"Friday\"\\n```\\n\\n## Matrices\\n\\nMatrices are similar to vectors in that they store data of the same type, but matrices are two-dimensional (as opposed to one-dimensional vectors), and consist of both rows and columns. \\n\\n&lt;img src=\"images/2-matrix.png\" alt= “” width=\"300pt\" align=\"center\"&gt;\\n\\n Below, we create a matrix reporting the daily rainfall over multiple weeks. We can create a matrix using the `matrix(data, nrow, ncol, byrow)` function. This creates a `nrow` by `ncol` matrix from the vector `data` values filling in by row if `byrow` is TRUE and by column otherwise. Run the code below. Then, change the last argument to `byrow=FALSE` and see what happens to the values.\\n\\n```{r}\\nrainfall &lt;- matrix(c(5,6,0.1,3,0,1,0,1,0.4,0.2,0.5,0.3,0,0), ncol=7, nrow=2, byrow=TRUE)\\nrainfall\\n```\\n\\nWe can find the dimensions of a matrix using the `nrow()`, `ncol()`, or `dim()` functions, which return the number of rows, the number of columns, and both the number of rows and columns, respectively.\\n\\n```{r}\\nnrow(rainfall)\\nncol(rainfall)\\ndim(rainfall)\\n```\\n\\n### Indexing a Matrix\\n\\nSince matrices are two-dimensaional, a single value is indexed by both its row number and its column number. This means that to access a subset of values in a matrix, we need to provide row and column indices. Below, we access a single value in the 1st row and the 4th column. The first value is always the row index and the second value is always the column index.\\n\\n```{r}\\nrainfall[1,4]\\n```\\n\\nAs before, we can also provide multiple indices to get multiple values. Below, we choose multiple columns but we can also choose multiple rows (or multiple rows and multiple columns!).\\n\\n```{r}\\nrainfall[1,c(4,5,7)]\\n```\\n\\nAs with vectors, we can also use booleans to index a matrix by providing boolean values for the rows and/or columns. Note that below we give a vector for the row indices and no values for the columns. Since we did not specify any column indices, this will select all of them.\\n\\n```{r}\\nrainfall[c(FALSE, TRUE), ]\\n```\\n\\nLet\\'s do the opposite and select some columns and all rows.\\n\\n```{r}\\nrainfall[ ,c(TRUE, TRUE, FALSE, FALSE, FALSE, FALSE, FALSE)]\\n```\\n\\nAs with vectors, we can specify row names and column names to access entries instead of using indices. The `colnames()` and `rownames()` functions allow us to specify the column and row names, respectively.\\n\\n```{r}\\ncolnames(rainfall) &lt;- c(\"Monday\", \"Tuesday\", \"Wednesday\", \"Thursday\", \\n                        \"Friday\", \"Saturday\", \"Sunday\")\\nrownames(rainfall) &lt;- c(\"Week1\", \"Week2\")\\nrainfall[\"Week1\",c(\"Friday\",\"Saturday\")]\\n```\\n\\n### Editing a Matrix\\n\\nIf we want to change the values in a matrix, we need to first index those values and then assign them the new value(s). Below, we change a single entry to be 3 and then update several values to all be 0. Note that we do not provide multiple 0\\'s on the right-hand side, as R will infer that all values should be set to 0.\\n\\n```{r}\\nrainfall[\"Week1\", \"Friday\"] &lt;- 3\\n```\\n\\n```{r}\\nrainfall[\"Week1\", c(\"Monday\", \"Tuesday\")] &lt;- 0\\nprint(rainfall)\\n```\\n\\nFurther, we can append values to our matrix by adding rows or columns through the `rbind()` and `cbind()` functions. The first function appends a row (or multiple rows) to a matrix and the second appends a column (or multiple columns). Note that below I provide a row and column name when passing in the additional data. If I hadn\\'t specified these names, then those rows and columns would not be named. \\n\\n```{r}\\nrainfall &lt;- rbind(rainfall, \"Week3\" = c(0.4, 0.0, 0.0, 0.0, 1.2, 2.2, 0.0))\\nrainfall &lt;- cbind(rainfall, \"Total\" = c(7.1, 2.4, 3.8))\\nprint(rainfall)\\n```\\n\\nHere is an example where we bind two matrices by column. Note that whenever we bind two matrices together, we have to be sure that their dimensions are compatible and that they are of the same type.\\n\\n```{r}\\nA &lt;- matrix(c(1,2,3,4), nrow=2)\\nB &lt;- matrix(c(5,6,7,8), nrow=2)\\nC &lt;- cbind(A, B)\\nC\\n```\\n\\nAs with vectors, most mathematical operators (`+`, `-`, `*`, `/` etc.) are applied element-wise in R.\\n\\n```{r}\\nA+B\\n```\\n\\n```{r}\\nexp(C)\\n```\\n\\n### Practice Question\\nCreate a 3x4 matrix of all 1\\'s using the `rep()` and `matrix()` functions. Then select the first and third columns using indexing.\\n\\n```{r}\\n# Insert your solution here:\\n```\\n\\n## Data Frames\\nMatrices can store data like the rainfall data, where everything is of the same type. However, if we want to capture more complex data records, we also want to allow for different measurement types: this is where data frames come in. A data frame is like a matrix in that data frames are two-dimensional, but unlike matrices, data frames allow for each column to be a different type. In this case, each row corresponds to a single data entry (or observation) and each column corresponds to a different variable. \\n\\n\\n&lt;img src=\"images/2-dataframe.png\" alt= “” width=\"250pt\" align=\"center\"&gt;\\n    \\nFor example, suppose that, for every day in a study, we want to record the temperature, rainfall, and day of the week. Temperature and rainfall can be numeric values, but day of the week will be character type. We create a data frame using the `data.frame()` function. Note that I am providing column names for each vector (column).\\n\\nThe `head()` function prints the first six rows of a data frame (to avoid printing very large datasets). In our case, all the data is shown because we only created four rows. The column names are displayed as well as their type. By contrast, the `tail()` function prints the last six rows of a data frame.\\n   \\n\\n```{r}\\nweather_data &lt;- data.frame(day_of_week = c(\"Monday\",\"Tuesday\",\"Wednesday\",\"Monday\"), \\n                           temp = c(70,62,75,50), rain = c(5,0.1,0.0,0.5))\\nhead(weather_data)\\n```\\n\\nThe `dim()`, `nrow()`, and `ncol()` functions return the dimensions, number of rows, and number of columns of a data frame, respectively. \\n\\n```{r}\\ndim(weather_data)\\nnrow(weather_data)\\nncol(weather_data)\\n```\\n\\nThe column names can be found (or assigned) using the `colnames()` or `names()` function. These were specified when I created the data. On the other hand, the row names are currently the indices. \\n\\n```{r}\\ncolnames(weather_data)\\nrownames(weather_data)\\nnames(weather_data)\\n```\\n\\nWe update the row names to be more informative as with a matrix using the `rownames()` function.\\n\\n```{r}\\nrownames(weather_data) &lt;- c(\"6/1\", \"6/2\", \"6/3\", \"6/8\")\\nhead(weather_data)\\n```\\n\\n### Indexing a Data Frame\\n\\nWe can select elements of the data frame using its indices in the same way as we did with matrices. Below, we access a single value and then a subset of our data frame. The subset returned is itself a data frame. Note that the second line below returns a data frame. \\n\\n```{r}\\nweather_data[1,2]\\nweather_data[1,c(\"day_of_week\",\"temp\")]\\n```\\n\\nAnother useful way to access the columns of a data frame is by using the $ accessor and the column name. \\n\\n```{r}\\nweather_data$day_of_week\\nweather_data$temp\\n```\\n\\nThe column `day_of_week` is a categorical variable, but it can only take on a limited number of values. For this kind of variable, it is often useful to convert that column to a factor as we did before. \\n\\n```{r}\\nweather_data$day_of_week &lt;- factor(weather_data$day_of_week)\\nlevels(weather_data$day_of_week)\\n```\\n\\n### Editing a Data Frame\\n\\nAs with matrices, we can change values in a data frame by indexing those entries. \\n\\n```{r}\\nweather_data[1, \"rain\"] &lt;- 2.2\\nweather_data\\n```\\n\\nThe `rbind()` functions and `cbind()` functions also work for data frames in the same way as for matrices. However, another way to add a column is to directly use the $ accessor. Below, we add a categorical column called `aq_warning`, indicating whether there was an air quality warning that day.\\n\\n```{r}\\nweather_data$aq_warning &lt;- as.factor(c(1, 0, 0, 0))\\nweather_data\\n```\\n\\n### Practice Question\\nAdd a column to `weather_data` called `air_quality_index` using the `rep()` function so that all values are `NA` (the missing value in R). Then, index the second value of this column and set the value to be 57.\\n\\n```{r}\\n# Solution:\\n```\\n\\n## Lists\\n\\nA data frame is actually a special kind of another data structure called a **list**, which is a collection of objects under the same name. These objects can be vectors, matrices, data frames, or even other lists! There does not have to be any relation in size, type, or other attribute between different members of the list. Below, we create an example list using the `list()` function, which takes in a series of objects. What are the types of each element of the list? We can access each element using the index, but here we need to use double brackets. \\n\\n```{r}\\nex_list &lt;- list(\"John\", c(\"ibuprofen\", \"metformin\"), c(136, 142, 159))\\nprint(ex_list)\\nex_list[[2]]\\n```\\n\\nMore often, however, it is useful to name the elements of the list for easier access. Let\\'s create this list again but this time give names to each object.\\n\\n```{r}\\nex_list &lt;- list(name=\"John\", medications = c(\"ibuprofen\", \"metformin\"), \\n                past_weights = c(136, 142, 159))\\nprint(ex_list)\\nex_list$medications\\n```\\n\\nTo edit a list, we can use indexing to access different objects in the list and then assign them to new values. Additionally, we can add objects to the list using the $ accessor.\\n\\n```{r}\\nex_list$supplements &lt;- c(\"vitamin D\", \"biotin\")\\nex_list$supplements[2] &lt;- \"collagen\"\\nex_list\\n```\\n\\n## Data Structures Review\\n\\n\\n&lt;div class=\"video-container\"&gt;\\n    &lt;iframe width=\"700\" height=\"500\" src=\"https://www.youtube.com/embed/YKCQ6uhg0fM\" title=\"YouTube video player\" frameborder=\"0\" allow=\"accelerometer; autoplay; clipboard-write; encrypted-media; gyroscope; picture-in-picture; web-share\" allowfullscreen&gt;&lt;/iframe&gt;\\n&lt;/div&gt;\\n\\n\\n## Exercises\\n\\n1. Create and print a new data frame named `city_air_quality` containing variables named `city`, `country`, `temperature`, and `co2` using the following fake information: the average high temperatures in January 2008 were 35, 88, 42, 84, 81, 55, and 30 degrees Fahrenheit for Beijing, Shanghai, Paris, Rome, London, San Francisco, and Toronto, respectively. The average $CO_2$ concentrations for these cities were 2.6, 2.2, 1.6, 1.2, 0.9, 0.7 and 1.7 $mg/m^3$. \\n\\n```{r}\\ncity_air_quality &lt;- data.frame(city = c(\"Beijing\", \"Shanghai\", \"Paris\", \"Rome\", \\n          \"London\", \"San Francisco\", \"Toronto\"), \\n                               country = c(\"China\", \"China\", \"France\", \"Italy\", \\n          \"United Kingdom\", \"United States\", \"Canada\"), \\n                               temperature = c(35, 88, 42, 84, 81, 55, 30), \\n                               co2 = c(2.6, 2.2, 1.6, 1.2, 0.9, 0.7, 1.7))\\ncity_air_quality \\n```\\n\\n2. Create a character vector named `rain` with entries `Yes` or `No` indicating whether or not it rained more than average in January 2008 in these cities (you can make this information up yourself). Then, append this vector to the `city_air_quality` data frame as a new column.\\n\\n```{r}\\nrain &lt;- c(\\'Yes\\', \\'No\\', \\'No\\', \\'Yes\\', \\'Yes\\', \\'Yes\\', \\'No\\')\\ncity_air_quality$rain &lt;- rain \\n```\\n\\n3. Use single square brackets to access the rain and $\\\\text{CO}_2$ concentration entries for San Francisco in your data frame.\\n\\n```{r}\\ncity_air_quality$rain[city_air_quality$city==\"San Francisco\"]\\ncity_air_quality$CO2[city_air_quality$city==\"San Francisco\"]\\n```\\n\\n4. Convert the categorical variable `rain` to a factor. \\n\\n```{r}\\ncity_air_quality$rain &lt;- as.factor(city_air_quality$rain)\\ntable(city_air_quality$rain)\\n```\\n\\nTODO: where to put cheat sheet link?\\n'</span>"
      ],
      "text/latex": [
       "'---\\textbackslash{}ntitle: An R Markdown document converted from \"/Users/jialinliu/Documents/GitHub/r-for-health-data-science/book/2\\_data\\_structures.ipynb\"\\textbackslash{}noutput: html\\_document\\textbackslash{}n---\\textbackslash{}n\\textbackslash{}n\\# 2. Data Structures in R\\textbackslash{}n\\textbackslash{}nIn this chapter, we will demonstrate the key **data structures** in R. Data structures are how information is stored in R, and the data structures that we use inform R how to interpret our code. Any **object** is a named instance of a data structure. For example, the object `ex\\_num` below is a vector of numeric type. \\textbackslash{}n\\textbackslash{}n```\\{r\\}\\textbackslash{}nex\\_num <- 4\\textbackslash{}n```\\textbackslash{}n\\textbackslash{}nThe main data structures in R are **vectors**, **factors**, **matrices**, **arrays**, **lists**, and **data frames**. These structures are distinguished by their dimensions and by the type of data they store. For example, we might have a 1-dimensional vector that contains all numeric values, or we could have a 2-dimensional data frame with rows and columns where we might have one numeric column and one character column. In this chapter, we will cover each data structure except for arrays. Arrays are an extension of matrices that allow for data that is more than 2-dimensional and are not needed for the applications covered in this book.\\textbackslash{}n\\textbackslash{}n<img src=\"images/2-data-structures.png\" alt= “” width=\"500pt\" align=\"center\">\\textbackslash{}n\\textbackslash{}n\\#\\# Data Types\\textbackslash{}n\\textbackslash{}nEach individual value in R has a type: logical, integer, double, or character. We can think of these as the building blocks of all data structures. Below, we can use the `typeof` function to find the type of our vector from above, which shows that the value of `ex\\_num` is a **double**. A double is a numeric value with a stored decimal.\\textbackslash{}n\\textbackslash{}n```\\{r\\}\\textbackslash{}ntypeof(ex\\_num)\\textbackslash{}n```\\textbackslash{}n\\textbackslash{}nOn the other hand, an integer is a whole number that does not contain a decimal. We now create an integer object `ex\\_int`. To indicate to R that we want to restrict our values to integer values, we use an `L` after the number. \\textbackslash{}n\\textbackslash{}n```\\{r\\}\\textbackslash{}nex\\_int <- 4L\\textbackslash{}ntypeof(ex\\_int)\\textbackslash{}n```\\textbackslash{}n\\textbackslash{}nBoth `ex\\_num` and `ex\\_int` are numeric objects, but we can also work with two other types of objects: characters (e.g. \"php\", \"stats\") and booleans (e.g. TRUE, FALSE), also known as logicals. \\textbackslash{}n\\textbackslash{}n```\\{r\\}\\textbackslash{}nex\\_bool <- TRUE\\textbackslash{}nex\\_char <- \"Alice\"\\textbackslash{}n\\textbackslash{}ntypeof(ex\\_bool)\\textbackslash{}ntypeof(ex\\_char)\\textbackslash{}n```\\textbackslash{}n\\textbackslash{}nOne important characteristic of logical objects is that R will also interpret them as 0/1. This means they can be added as in the example below: each `TRUE` has a value of 1 and each `FALSE` has a value of 0.\\textbackslash{}n\\textbackslash{}n```\\{r\\}\\textbackslash{}nTRUE+FALSE+TRUE\\textbackslash{}n```\\textbackslash{}n\\textbackslash{}nTo create all of the above objects, we used the assignment operator `<-`, which we discussed in {[}Chapter 1{]}(https://alicepaul.github.io/r-for-health-data-science/book/1\\_intro\\_to\\_r.html). You may see code elsewhere that uses an `=` instead. While `=` can also be used for assignment, it is more standard practice to use `<-`. \\textbackslash{}n\\textbackslash{}n\\#\\# Vectors\\textbackslash{}n\\textbackslash{}nIn the examples above, we created objects with a single value. R actually uses a vector of length 1 to store this information. **Vectors** are 1-dimensional data structures that can store multiple data values of the same type (e.g. character, boolean, or numeric). \\textbackslash{}n\\textbackslash{}n\\textbackslash{}n<img src=\"images/2-vectors.png\" alt= “” width=\"500pt\" align=\"center\">\\textbackslash{}n\\textbackslash{}nWe can confirm this by using the `is.vector()` function, which returns whether or not the inputted argument is a vector.\\textbackslash{}n\\textbackslash{}n```\\{r\\}\\textbackslash{}nis.vector(ex\\_bool)\\textbackslash{}n```\\textbackslash{}n\\textbackslash{}nOne way to create a vector with multiple values is to use the combine function `c()`. Below we create two vectors: one with the days of the week and one with the amount of rain on each day. The first vector has all character values, and the second one has all numeric values.\\textbackslash{}n\\textbackslash{}n```\\{r\\}\\textbackslash{}ndays <- c(\"Monday\", \"Tuesday\", \"Wednesday\", \"Thursday\", \"Friday\")\\textbackslash{}nrain <- c(5, 0.1, 0, 0, 0.4)\\textbackslash{}n```\\textbackslash{}n\\textbackslash{}nRemember, vectors cannot store objects of different types. Because of this, in the code below, R automatically converts the numeric value to be a character in order to store these values in a vector together.\\textbackslash{}n\\textbackslash{}n```\\{r\\}\\textbackslash{}nc(\"Monday\", 5)\\textbackslash{}n```\\textbackslash{}n\\textbackslash{}nIf we check the classes of these two objects using the `class()` function, we will see that R tells us the type of the data (character and numeric). \\textbackslash{}n\\textbackslash{}n```\\{r\\}\\textbackslash{}nclass(days)\\textbackslash{}nclass(rain)\\textbackslash{}n```\\textbackslash{}n\\textbackslash{}nWhat happens when we create an empty vector? What is the class?\\textbackslash{}n\\textbackslash{}n```\\{r\\}\\textbackslash{}nex\\_empty <- c()\\textbackslash{}nclass(ex\\_empty)\\textbackslash{}n```\\textbackslash{}n\\textbackslash{}nIn this case, there is no specified type yet. If we wanted to specify the type, we could make an empty vector using the `vector()` function.\\textbackslash{}n\\textbackslash{}n```\\{r\\}\\textbackslash{}nex\\_empty <- vector(mode = \"numeric\")\\textbackslash{}nclass(ex\\_empty)\\textbackslash{}n```\\textbackslash{}n\\textbackslash{}nAnother way to create a vector is with the `rep()` or `seq()` functions. The first function `rep(x, times)` takes in a vector `x` and a number of times `times` and outputs `x` repeated that many times. Let\\textbackslash{}'s try this with a single value below. The second function `seq(from, to, step)` takes in a numeric starting value `from`, end value `to`, and step size `step` and returns a sequence from `from` in increments of `step` until a maximum value of `to` is reached. \\textbackslash{}n\\textbackslash{}n```\\{r\\}\\textbackslash{}nrep(0, 5)\\textbackslash{}nrep(\"Monday\", 4)\\textbackslash{}nseq(1, 5, 1)\\textbackslash{}nseq(0, -10, -2)\\textbackslash{}n```\\textbackslash{}n\\textbackslash{}n\\#\\#\\# Indexing a Vector\\textbackslash{}n\\textbackslash{}nOnce we have a vector, we may want to access certain values stored in that vector. To do so, we index the vector using the position of each value: the first value in the vector has index 1, the second value has index 2, etc. When we say a vector is 1-dimensional, we mean that we can define the position of each value by a single index. To index the vector, we then use square brackets `{[}{]}` after the vector name and provide the position. Below, we use these indices to find the value at index 1 and the value at index 4.\\textbackslash{}n\\textbackslash{}n```\\{r\\}\\textbackslash{}ndays{[}1{]}\\textbackslash{}ndays{[}4{]}\\textbackslash{}n```\\textbackslash{}n\\textbackslash{}nWe can either access a single value or a subset of values using a vector of indices. Let\\textbackslash{}'s see what happens when we use a vector of indices `c(1,4)` and then try using `-c(1,4)` and see what happens then. In the first case, we get the values at index 1 *and* at index 4. In the second case, we get all values *except* at those indices. The `-` indicates that we want to remove rather than select these indices.\\textbackslash{}n\\textbackslash{}n```\\{r\\}\\textbackslash{}ndays{[}c(1,4){]}\\textbackslash{}ndays{[}-c(1,4){]}\\textbackslash{}n```\\textbackslash{}n\\textbackslash{}nHowever, always indexing by the index value can sometimes be difficult or inefficient. One extra feature of vectors is that we can associate a name with each value. Below, we update the names of the vector `rain` to be the days of the week and then find Friday\\textbackslash{}'s rain count by indexing with the name.\\textbackslash{}n\\textbackslash{}n```\\{r\\}\\textbackslash{}nnames(rain) <- days\\textbackslash{}nprint(rain)\\textbackslash{}nrain{[}\"Friday\"{]}\\textbackslash{}n```\\textbackslash{}n\\textbackslash{}nThe last way to index a vector is to use TRUE and FALSE values. If we have a vector of booleans that is the same length as our original vector, then this will return all the values that correspond to a TRUE value. For example, indexing the `days` vector by the logical vector `ind\\_bools` below will return its first and fourth values. We will see more about using logic to access certain values later on. \\textbackslash{}n\\textbackslash{}n```\\{r\\}\\textbackslash{}nind\\_bools <- c(TRUE, FALSE, FALSE, TRUE, FALSE)\\textbackslash{}ndays{[}ind\\_bools{]}\\textbackslash{}n```\\textbackslash{}n\\textbackslash{}n\\#\\#\\# Editing a Vector and Calculations\\textbackslash{}n\\textbackslash{}nThe mathematical operators we saw in the last chapter (`+`, `-`, `*`, `/`, `\\textasciicircum{}`, `\\%\\%`) can all be applied to numeric vectors and will be applied element-wise. That is, in the code below, the two vectors are added together by index. This holds true for some of the built-in math functions as well:\\textbackslash{}n\\textbackslash{}n* `exp()` - expoential\\textbackslash{}n* `log()` - log\\textbackslash{}n* `sqrt()` - square root\\textbackslash{}n* `abs()` - absolute value \\textbackslash{}n* `round()` - round to nearest integer value\\textbackslash{}n* `ceiling()` - round up to the nearest integer value \\textbackslash{}n* `floor()` - round down to the nearest integer value\\textbackslash{}n\\textbackslash{}n```\\{r\\}\\textbackslash{}nc(1,2,3) + c(1,1,1)\\textbackslash{}nc(1,2,3) + 1 \\# equivalent to the code above\\textbackslash{}nsqrt(c(1,4,16))\\textbackslash{}n```\\textbackslash{}n\\textbackslash{}nAfter we create a vector, we may need to update its values. For example, we may want to change a specific value. We can do so using indexing. Below, we update the rain value for Friday using the assignment operator. \\textbackslash{}n\\textbackslash{}n```\\{r\\}\\textbackslash{}nrain{[}\"Friday\"{]} <- 0.5\\textbackslash{}nrain\\textbackslash{}n```\\textbackslash{}n\\textbackslash{}nFurther, we may need to add extra entries. We can do so using the `c()` function again but this time passing in the vector we want to add to as our first argument. This will create a single vector with all previous and new values. Below, we add two days to both vectors and then check the length of the updated vector `rain`. The `length()` function returns the length of a vector.\\textbackslash{}n\\textbackslash{}n```\\{r\\}\\textbackslash{}nlength(rain)\\textbackslash{}ndays <- c(days,\"Saturday\",\"Sunday\") \\# add the weekend with no rain\\textbackslash{}nrain <- c(rain,0,0)\\textbackslash{}nlength(rain)\\textbackslash{}n```\\textbackslash{}n\\textbackslash{}nWe can also call some useful functions on vectors. For example, the `sum()`, `max()`, and `min()` functions will return the sum, maximum value, and minimum value of a vector, respectively. \\textbackslash{}n\\textbackslash{}n\\#\\#\\# Practice Question\\textbackslash{}n\\textbackslash{}nCreate a vector of the odd numbers from 1 to 11 using the `seq()` function. Then, find the third value in the vector using indexing. \\textbackslash{}n\\textbackslash{}n```\\{r\\}\\textbackslash{}n\\# Insert your solution here:\\textbackslash{}n```\\textbackslash{}n\\textbackslash{}n\\#\\#\\# Common Vector Functions\\textbackslash{}n\\textbackslash{}nBelow we list some of the most common vector functions that are available in base R. All of these functions assume that the vector is numeric. If we pass the function a logical vector, R will convert the vector to 0/1 first, and if we pass the function a character vector, R will give us an error message. \\textbackslash{}n\\textbackslash{}n* `sum()` -  summation\\textbackslash{}n* `median()` - median value\\textbackslash{}n* `mean()` - mean\\textbackslash{}n* `sd()` - standard deviation \\textbackslash{}n* `var()` - variance\\textbackslash{}n* `max()` - maximum value\\textbackslash{}n* `which.max()` - index of the first element with the maximum value\\textbackslash{}n* `min()` - minimum value\\textbackslash{}n* `which.min()` - index of the first element with the minimum value\\textbackslash{}n\\textbackslash{}nTry these out using the vector `rain`. Note that R is case sensitive - `Mean()` is considered different from `mean()`, so if we type `Mean(rain)` R will tell us that it cannot find this function. \\textbackslash{}n\\textbackslash{}n```\\{r\\}\\textbackslash{}nmean(rain)  \\textbackslash{}nmin(rain) \\textbackslash{}nwhich.min(rain) \\textbackslash{}n```\\textbackslash{}n\\textbackslash{}nWe may also be interested in the order of the values. The `sort()` function sorts the values of a vector, whereas the `order()` function returns the permutation of the elements to be in sorted order. The last line of code below sorts the days of the week from smallest to largest rain value. \\textbackslash{}n\\textbackslash{}n```\\{r\\}\\textbackslash{}nrain\\textbackslash{}norder(rain)\\textbackslash{}ndays{[}order(rain){]}\\textbackslash{}n```\\textbackslash{}n\\textbackslash{}nBoth of these functions have an extra possible argument `decreasing`, which has a default value of FALSE. We can specify this to be TRUE to find the days of the week sorted from largest to smallest rainfall.\\textbackslash{}n\\textbackslash{}n```\\{r\\}\\textbackslash{}ndays{[}order(rain, decreasing=TRUE){]}\\textbackslash{}n```\\textbackslash{}n\\textbackslash{}n\\#\\# Factors\\textbackslash{}n\\textbackslash{}nA **factor** is a special kind of vector that behaves exactly like a regular vector except that it represents values from a category. In particular, a factor keeps track of all possible values of that category, which are called the **levels** of the factor. Factors will be especially helpful when we start getting into data analysis and have categorical variables. The `as.factor()` function will convert a vector to a factor. \\textbackslash{}n\\textbackslash{}n```\\{r\\}\\textbackslash{}ndays <- c(\"Monday\", \"Tuesday\", \"Wednesday\", \"Monday\", \"Thursday\", \"Wednesday\")\\textbackslash{}ndays\\_fct <- as.factor(days)\\textbackslash{}n\\textbackslash{}nclass(days\\_fct)\\textbackslash{}nlevels(days\\_fct)\\textbackslash{}n```\\textbackslash{}n\\textbackslash{}nAbove, we did not specify the possible levels for our variable. Instead, R found all values in the vector `days` and set these equal to the levels of the factor. Because of this, if we try to change one of the levels to \\textbackslash{}'Friday\\textbackslash{}', we will get an error. Uncomment the line below to see the error message.\\textbackslash{}n\\textbackslash{}n```\\{r\\}\\textbackslash{}n\\#days\\_fct{[}2{]} <- \"Friday\"   \\textbackslash{}n```\\textbackslash{}n\\textbackslash{}nWe can avoid this error by specifying the levels using the `factor()` function instead of the `as.factor()` function. \\textbackslash{}n\\textbackslash{}n```\\{r\\}\\textbackslash{}ndays <- c(\"Monday\", \"Tuesday\", \"Wednesday\", \"Monday\", \"Thursday\", \"Wednesday\")\\textbackslash{}ndays\\_fct <- factor(days, \\textbackslash{}n               levels = c(\"Monday\", \"Tuesday\", \"Wednesday\", \"Thursday\", \\textbackslash{}n                          \"Friday\", \"Saturday\", \"Sunday\"))\\textbackslash{}n\\textbackslash{}nclass(days\\_fct)\\textbackslash{}nlevels(days\\_fct)\\textbackslash{}ndays\\_fct{[}2{]} <- \"Friday\"\\textbackslash{}n```\\textbackslash{}n\\textbackslash{}n\\#\\# Matrices\\textbackslash{}n\\textbackslash{}nMatrices are similar to vectors in that they store data of the same type, but matrices are two-dimensional (as opposed to one-dimensional vectors), and consist of both rows and columns. \\textbackslash{}n\\textbackslash{}n<img src=\"images/2-matrix.png\" alt= “” width=\"300pt\" align=\"center\">\\textbackslash{}n\\textbackslash{}n Below, we create a matrix reporting the daily rainfall over multiple weeks. We can create a matrix using the `matrix(data, nrow, ncol, byrow)` function. This creates a `nrow` by `ncol` matrix from the vector `data` values filling in by row if `byrow` is TRUE and by column otherwise. Run the code below. Then, change the last argument to `byrow=FALSE` and see what happens to the values.\\textbackslash{}n\\textbackslash{}n```\\{r\\}\\textbackslash{}nrainfall <- matrix(c(5,6,0.1,3,0,1,0,1,0.4,0.2,0.5,0.3,0,0), ncol=7, nrow=2, byrow=TRUE)\\textbackslash{}nrainfall\\textbackslash{}n```\\textbackslash{}n\\textbackslash{}nWe can find the dimensions of a matrix using the `nrow()`, `ncol()`, or `dim()` functions, which return the number of rows, the number of columns, and both the number of rows and columns, respectively.\\textbackslash{}n\\textbackslash{}n```\\{r\\}\\textbackslash{}nnrow(rainfall)\\textbackslash{}nncol(rainfall)\\textbackslash{}ndim(rainfall)\\textbackslash{}n```\\textbackslash{}n\\textbackslash{}n\\#\\#\\# Indexing a Matrix\\textbackslash{}n\\textbackslash{}nSince matrices are two-dimensaional, a single value is indexed by both its row number and its column number. This means that to access a subset of values in a matrix, we need to provide row and column indices. Below, we access a single value in the 1st row and the 4th column. The first value is always the row index and the second value is always the column index.\\textbackslash{}n\\textbackslash{}n```\\{r\\}\\textbackslash{}nrainfall{[}1,4{]}\\textbackslash{}n```\\textbackslash{}n\\textbackslash{}nAs before, we can also provide multiple indices to get multiple values. Below, we choose multiple columns but we can also choose multiple rows (or multiple rows and multiple columns!).\\textbackslash{}n\\textbackslash{}n```\\{r\\}\\textbackslash{}nrainfall{[}1,c(4,5,7){]}\\textbackslash{}n```\\textbackslash{}n\\textbackslash{}nAs with vectors, we can also use booleans to index a matrix by providing boolean values for the rows and/or columns. Note that below we give a vector for the row indices and no values for the columns. Since we did not specify any column indices, this will select all of them.\\textbackslash{}n\\textbackslash{}n```\\{r\\}\\textbackslash{}nrainfall{[}c(FALSE, TRUE), {]}\\textbackslash{}n```\\textbackslash{}n\\textbackslash{}nLet\\textbackslash{}'s do the opposite and select some columns and all rows.\\textbackslash{}n\\textbackslash{}n```\\{r\\}\\textbackslash{}nrainfall{[} ,c(TRUE, TRUE, FALSE, FALSE, FALSE, FALSE, FALSE){]}\\textbackslash{}n```\\textbackslash{}n\\textbackslash{}nAs with vectors, we can specify row names and column names to access entries instead of using indices. The `colnames()` and `rownames()` functions allow us to specify the column and row names, respectively.\\textbackslash{}n\\textbackslash{}n```\\{r\\}\\textbackslash{}ncolnames(rainfall) <- c(\"Monday\", \"Tuesday\", \"Wednesday\", \"Thursday\", \\textbackslash{}n                        \"Friday\", \"Saturday\", \"Sunday\")\\textbackslash{}nrownames(rainfall) <- c(\"Week1\", \"Week2\")\\textbackslash{}nrainfall{[}\"Week1\",c(\"Friday\",\"Saturday\"){]}\\textbackslash{}n```\\textbackslash{}n\\textbackslash{}n\\#\\#\\# Editing a Matrix\\textbackslash{}n\\textbackslash{}nIf we want to change the values in a matrix, we need to first index those values and then assign them the new value(s). Below, we change a single entry to be 3 and then update several values to all be 0. Note that we do not provide multiple 0\\textbackslash{}'s on the right-hand side, as R will infer that all values should be set to 0.\\textbackslash{}n\\textbackslash{}n```\\{r\\}\\textbackslash{}nrainfall{[}\"Week1\", \"Friday\"{]} <- 3\\textbackslash{}n```\\textbackslash{}n\\textbackslash{}n```\\{r\\}\\textbackslash{}nrainfall{[}\"Week1\", c(\"Monday\", \"Tuesday\"){]} <- 0\\textbackslash{}nprint(rainfall)\\textbackslash{}n```\\textbackslash{}n\\textbackslash{}nFurther, we can append values to our matrix by adding rows or columns through the `rbind()` and `cbind()` functions. The first function appends a row (or multiple rows) to a matrix and the second appends a column (or multiple columns). Note that below I provide a row and column name when passing in the additional data. If I hadn\\textbackslash{}'t specified these names, then those rows and columns would not be named. \\textbackslash{}n\\textbackslash{}n```\\{r\\}\\textbackslash{}nrainfall <- rbind(rainfall, \"Week3\" = c(0.4, 0.0, 0.0, 0.0, 1.2, 2.2, 0.0))\\textbackslash{}nrainfall <- cbind(rainfall, \"Total\" = c(7.1, 2.4, 3.8))\\textbackslash{}nprint(rainfall)\\textbackslash{}n```\\textbackslash{}n\\textbackslash{}nHere is an example where we bind two matrices by column. Note that whenever we bind two matrices together, we have to be sure that their dimensions are compatible and that they are of the same type.\\textbackslash{}n\\textbackslash{}n```\\{r\\}\\textbackslash{}nA <- matrix(c(1,2,3,4), nrow=2)\\textbackslash{}nB <- matrix(c(5,6,7,8), nrow=2)\\textbackslash{}nC <- cbind(A, B)\\textbackslash{}nC\\textbackslash{}n```\\textbackslash{}n\\textbackslash{}nAs with vectors, most mathematical operators (`+`, `-`, `*`, `/` etc.) are applied element-wise in R.\\textbackslash{}n\\textbackslash{}n```\\{r\\}\\textbackslash{}nA+B\\textbackslash{}n```\\textbackslash{}n\\textbackslash{}n```\\{r\\}\\textbackslash{}nexp(C)\\textbackslash{}n```\\textbackslash{}n\\textbackslash{}n\\#\\#\\# Practice Question\\textbackslash{}nCreate a 3x4 matrix of all 1\\textbackslash{}'s using the `rep()` and `matrix()` functions. Then select the first and third columns using indexing.\\textbackslash{}n\\textbackslash{}n```\\{r\\}\\textbackslash{}n\\# Insert your solution here:\\textbackslash{}n```\\textbackslash{}n\\textbackslash{}n\\#\\# Data Frames\\textbackslash{}nMatrices can store data like the rainfall data, where everything is of the same type. However, if we want to capture more complex data records, we also want to allow for different measurement types: this is where data frames come in. A data frame is like a matrix in that data frames are two-dimensional, but unlike matrices, data frames allow for each column to be a different type. In this case, each row corresponds to a single data entry (or observation) and each column corresponds to a different variable. \\textbackslash{}n\\textbackslash{}n\\textbackslash{}n<img src=\"images/2-dataframe.png\" alt= “” width=\"250pt\" align=\"center\">\\textbackslash{}n    \\textbackslash{}nFor example, suppose that, for every day in a study, we want to record the temperature, rainfall, and day of the week. Temperature and rainfall can be numeric values, but day of the week will be character type. We create a data frame using the `data.frame()` function. Note that I am providing column names for each vector (column).\\textbackslash{}n\\textbackslash{}nThe `head()` function prints the first six rows of a data frame (to avoid printing very large datasets). In our case, all the data is shown because we only created four rows. The column names are displayed as well as their type. By contrast, the `tail()` function prints the last six rows of a data frame.\\textbackslash{}n   \\textbackslash{}n\\textbackslash{}n```\\{r\\}\\textbackslash{}nweather\\_data <- data.frame(day\\_of\\_week = c(\"Monday\",\"Tuesday\",\"Wednesday\",\"Monday\"), \\textbackslash{}n                           temp = c(70,62,75,50), rain = c(5,0.1,0.0,0.5))\\textbackslash{}nhead(weather\\_data)\\textbackslash{}n```\\textbackslash{}n\\textbackslash{}nThe `dim()`, `nrow()`, and `ncol()` functions return the dimensions, number of rows, and number of columns of a data frame, respectively. \\textbackslash{}n\\textbackslash{}n```\\{r\\}\\textbackslash{}ndim(weather\\_data)\\textbackslash{}nnrow(weather\\_data)\\textbackslash{}nncol(weather\\_data)\\textbackslash{}n```\\textbackslash{}n\\textbackslash{}nThe column names can be found (or assigned) using the `colnames()` or `names()` function. These were specified when I created the data. On the other hand, the row names are currently the indices. \\textbackslash{}n\\textbackslash{}n```\\{r\\}\\textbackslash{}ncolnames(weather\\_data)\\textbackslash{}nrownames(weather\\_data)\\textbackslash{}nnames(weather\\_data)\\textbackslash{}n```\\textbackslash{}n\\textbackslash{}nWe update the row names to be more informative as with a matrix using the `rownames()` function.\\textbackslash{}n\\textbackslash{}n```\\{r\\}\\textbackslash{}nrownames(weather\\_data) <- c(\"6/1\", \"6/2\", \"6/3\", \"6/8\")\\textbackslash{}nhead(weather\\_data)\\textbackslash{}n```\\textbackslash{}n\\textbackslash{}n\\#\\#\\# Indexing a Data Frame\\textbackslash{}n\\textbackslash{}nWe can select elements of the data frame using its indices in the same way as we did with matrices. Below, we access a single value and then a subset of our data frame. The subset returned is itself a data frame. Note that the second line below returns a data frame. \\textbackslash{}n\\textbackslash{}n```\\{r\\}\\textbackslash{}nweather\\_data{[}1,2{]}\\textbackslash{}nweather\\_data{[}1,c(\"day\\_of\\_week\",\"temp\"){]}\\textbackslash{}n```\\textbackslash{}n\\textbackslash{}nAnother useful way to access the columns of a data frame is by using the \\$ accessor and the column name. \\textbackslash{}n\\textbackslash{}n```\\{r\\}\\textbackslash{}nweather\\_data\\$day\\_of\\_week\\textbackslash{}nweather\\_data\\$temp\\textbackslash{}n```\\textbackslash{}n\\textbackslash{}nThe column `day\\_of\\_week` is a categorical variable, but it can only take on a limited number of values. For this kind of variable, it is often useful to convert that column to a factor as we did before. \\textbackslash{}n\\textbackslash{}n```\\{r\\}\\textbackslash{}nweather\\_data\\$day\\_of\\_week <- factor(weather\\_data\\$day\\_of\\_week)\\textbackslash{}nlevels(weather\\_data\\$day\\_of\\_week)\\textbackslash{}n```\\textbackslash{}n\\textbackslash{}n\\#\\#\\# Editing a Data Frame\\textbackslash{}n\\textbackslash{}nAs with matrices, we can change values in a data frame by indexing those entries. \\textbackslash{}n\\textbackslash{}n```\\{r\\}\\textbackslash{}nweather\\_data{[}1, \"rain\"{]} <- 2.2\\textbackslash{}nweather\\_data\\textbackslash{}n```\\textbackslash{}n\\textbackslash{}nThe `rbind()` functions and `cbind()` functions also work for data frames in the same way as for matrices. However, another way to add a column is to directly use the \\$ accessor. Below, we add a categorical column called `aq\\_warning`, indicating whether there was an air quality warning that day.\\textbackslash{}n\\textbackslash{}n```\\{r\\}\\textbackslash{}nweather\\_data\\$aq\\_warning <- as.factor(c(1, 0, 0, 0))\\textbackslash{}nweather\\_data\\textbackslash{}n```\\textbackslash{}n\\textbackslash{}n\\#\\#\\# Practice Question\\textbackslash{}nAdd a column to `weather\\_data` called `air\\_quality\\_index` using the `rep()` function so that all values are `NA` (the missing value in R). Then, index the second value of this column and set the value to be 57.\\textbackslash{}n\\textbackslash{}n```\\{r\\}\\textbackslash{}n\\# Solution:\\textbackslash{}n```\\textbackslash{}n\\textbackslash{}n\\#\\# Lists\\textbackslash{}n\\textbackslash{}nA data frame is actually a special kind of another data structure called a **list**, which is a collection of objects under the same name. These objects can be vectors, matrices, data frames, or even other lists! There does not have to be any relation in size, type, or other attribute between different members of the list. Below, we create an example list using the `list()` function, which takes in a series of objects. What are the types of each element of the list? We can access each element using the index, but here we need to use double brackets. \\textbackslash{}n\\textbackslash{}n```\\{r\\}\\textbackslash{}nex\\_list <- list(\"John\", c(\"ibuprofen\", \"metformin\"), c(136, 142, 159))\\textbackslash{}nprint(ex\\_list)\\textbackslash{}nex\\_list{[}{[}2{]}{]}\\textbackslash{}n```\\textbackslash{}n\\textbackslash{}nMore often, however, it is useful to name the elements of the list for easier access. Let\\textbackslash{}'s create this list again but this time give names to each object.\\textbackslash{}n\\textbackslash{}n```\\{r\\}\\textbackslash{}nex\\_list <- list(name=\"John\", medications = c(\"ibuprofen\", \"metformin\"), \\textbackslash{}n                past\\_weights = c(136, 142, 159))\\textbackslash{}nprint(ex\\_list)\\textbackslash{}nex\\_list\\$medications\\textbackslash{}n```\\textbackslash{}n\\textbackslash{}nTo edit a list, we can use indexing to access different objects in the list and then assign them to new values. Additionally, we can add objects to the list using the \\$ accessor.\\textbackslash{}n\\textbackslash{}n```\\{r\\}\\textbackslash{}nex\\_list\\$supplements <- c(\"vitamin D\", \"biotin\")\\textbackslash{}nex\\_list\\$supplements{[}2{]} <- \"collagen\"\\textbackslash{}nex\\_list\\textbackslash{}n```\\textbackslash{}n\\textbackslash{}n\\#\\# Data Structures Review\\textbackslash{}n\\textbackslash{}n\\textbackslash{}n<div class=\"video-container\">\\textbackslash{}n    <iframe width=\"700\" height=\"500\" src=\"https://www.youtube.com/embed/YKCQ6uhg0fM\" title=\"YouTube video player\" frameborder=\"0\" allow=\"accelerometer; autoplay; clipboard-write; encrypted-media; gyroscope; picture-in-picture; web-share\" allowfullscreen></iframe>\\textbackslash{}n</div>\\textbackslash{}n\\textbackslash{}n\\textbackslash{}n\\#\\# Exercises\\textbackslash{}n\\textbackslash{}n1. Create and print a new data frame named `city\\_air\\_quality` containing variables named `city`, `country`, `temperature`, and `co2` using the following fake information: the average high temperatures in January 2008 were 35, 88, 42, 84, 81, 55, and 30 degrees Fahrenheit for Beijing, Shanghai, Paris, Rome, London, San Francisco, and Toronto, respectively. The average \\$CO\\_2\\$ concentrations for these cities were 2.6, 2.2, 1.6, 1.2, 0.9, 0.7 and 1.7 \\$mg/m\\textasciicircum{}3\\$. \\textbackslash{}n\\textbackslash{}n```\\{r\\}\\textbackslash{}ncity\\_air\\_quality <- data.frame(city = c(\"Beijing\", \"Shanghai\", \"Paris\", \"Rome\", \\textbackslash{}n          \"London\", \"San Francisco\", \"Toronto\"), \\textbackslash{}n                               country = c(\"China\", \"China\", \"France\", \"Italy\", \\textbackslash{}n          \"United Kingdom\", \"United States\", \"Canada\"), \\textbackslash{}n                               temperature = c(35, 88, 42, 84, 81, 55, 30), \\textbackslash{}n                               co2 = c(2.6, 2.2, 1.6, 1.2, 0.9, 0.7, 1.7))\\textbackslash{}ncity\\_air\\_quality \\textbackslash{}n```\\textbackslash{}n\\textbackslash{}n2. Create a character vector named `rain` with entries `Yes` or `No` indicating whether or not it rained more than average in January 2008 in these cities (you can make this information up yourself). Then, append this vector to the `city\\_air\\_quality` data frame as a new column.\\textbackslash{}n\\textbackslash{}n```\\{r\\}\\textbackslash{}nrain <- c(\\textbackslash{}'Yes\\textbackslash{}', \\textbackslash{}'No\\textbackslash{}', \\textbackslash{}'No\\textbackslash{}', \\textbackslash{}'Yes\\textbackslash{}', \\textbackslash{}'Yes\\textbackslash{}', \\textbackslash{}'Yes\\textbackslash{}', \\textbackslash{}'No\\textbackslash{}')\\textbackslash{}ncity\\_air\\_quality\\$rain <- rain \\textbackslash{}n```\\textbackslash{}n\\textbackslash{}n3. Use single square brackets to access the rain and \\$\\textbackslash{}\\textbackslash{}text\\{CO\\}\\_2\\$ concentration entries for San Francisco in your data frame.\\textbackslash{}n\\textbackslash{}n```\\{r\\}\\textbackslash{}ncity\\_air\\_quality\\$rain{[}city\\_air\\_quality\\$city==\"San Francisco\"{]}\\textbackslash{}ncity\\_air\\_quality\\$CO2{[}city\\_air\\_quality\\$city==\"San Francisco\"{]}\\textbackslash{}n```\\textbackslash{}n\\textbackslash{}n4. Convert the categorical variable `rain` to a factor. \\textbackslash{}n\\textbackslash{}n```\\{r\\}\\textbackslash{}ncity\\_air\\_quality\\$rain <- as.factor(city\\_air\\_quality\\$rain)\\textbackslash{}ntable(city\\_air\\_quality\\$rain)\\textbackslash{}n```\\textbackslash{}n\\textbackslash{}nTODO: where to put cheat sheet link?\\textbackslash{}n'"
      ],
      "text/markdown": [
       "<span style=white-space:pre-wrap>'---\\ntitle: An R Markdown document converted from \"/Users/jialinliu/Documents/GitHub/r-for-health-data-science/book/2_data_structures.ipynb\"\\noutput: html_document\\n---\\n\\n# 2. Data Structures in R\\n\\nIn this chapter, we will demonstrate the key **data structures** in R. Data structures are how information is stored in R, and the data structures that we use inform R how to interpret our code. Any **object** is a named instance of a data structure. For example, the object `ex_num` below is a vector of numeric type. \\n\\n```{r}\\nex_num &lt;- 4\\n```\\n\\nThe main data structures in R are **vectors**, **factors**, **matrices**, **arrays**, **lists**, and **data frames**. These structures are distinguished by their dimensions and by the type of data they store. For example, we might have a 1-dimensional vector that contains all numeric values, or we could have a 2-dimensional data frame with rows and columns where we might have one numeric column and one character column. In this chapter, we will cover each data structure except for arrays. Arrays are an extension of matrices that allow for data that is more than 2-dimensional and are not needed for the applications covered in this book.\\n\\n&lt;img src=\"images/2-data-structures.png\" alt= “” width=\"500pt\" align=\"center\"&gt;\\n\\n## Data Types\\n\\nEach individual value in R has a type: logical, integer, double, or character. We can think of these as the building blocks of all data structures. Below, we can use the `typeof` function to find the type of our vector from above, which shows that the value of `ex_num` is a **double**. A double is a numeric value with a stored decimal.\\n\\n```{r}\\ntypeof(ex_num)\\n```\\n\\nOn the other hand, an integer is a whole number that does not contain a decimal. We now create an integer object `ex_int`. To indicate to R that we want to restrict our values to integer values, we use an `L` after the number. \\n\\n```{r}\\nex_int &lt;- 4L\\ntypeof(ex_int)\\n```\\n\\nBoth `ex_num` and `ex_int` are numeric objects, but we can also work with two other types of objects: characters (e.g. \"php\", \"stats\") and booleans (e.g. TRUE, FALSE), also known as logicals. \\n\\n```{r}\\nex_bool &lt;- TRUE\\nex_char &lt;- \"Alice\"\\n\\ntypeof(ex_bool)\\ntypeof(ex_char)\\n```\\n\\nOne important characteristic of logical objects is that R will also interpret them as 0/1. This means they can be added as in the example below: each `TRUE` has a value of 1 and each `FALSE` has a value of 0.\\n\\n```{r}\\nTRUE+FALSE+TRUE\\n```\\n\\nTo create all of the above objects, we used the assignment operator `&lt;-`, which we discussed in [Chapter 1](https://alicepaul.github.io/r-for-health-data-science/book/1_intro_to_r.html). You may see code elsewhere that uses an `=` instead. While `=` can also be used for assignment, it is more standard practice to use `&lt;-`. \\n\\n## Vectors\\n\\nIn the examples above, we created objects with a single value. R actually uses a vector of length 1 to store this information. **Vectors** are 1-dimensional data structures that can store multiple data values of the same type (e.g. character, boolean, or numeric). \\n\\n\\n&lt;img src=\"images/2-vectors.png\" alt= “” width=\"500pt\" align=\"center\"&gt;\\n\\nWe can confirm this by using the `is.vector()` function, which returns whether or not the inputted argument is a vector.\\n\\n```{r}\\nis.vector(ex_bool)\\n```\\n\\nOne way to create a vector with multiple values is to use the combine function `c()`. Below we create two vectors: one with the days of the week and one with the amount of rain on each day. The first vector has all character values, and the second one has all numeric values.\\n\\n```{r}\\ndays &lt;- c(\"Monday\", \"Tuesday\", \"Wednesday\", \"Thursday\", \"Friday\")\\nrain &lt;- c(5, 0.1, 0, 0, 0.4)\\n```\\n\\nRemember, vectors cannot store objects of different types. Because of this, in the code below, R automatically converts the numeric value to be a character in order to store these values in a vector together.\\n\\n```{r}\\nc(\"Monday\", 5)\\n```\\n\\nIf we check the classes of these two objects using the `class()` function, we will see that R tells us the type of the data (character and numeric). \\n\\n```{r}\\nclass(days)\\nclass(rain)\\n```\\n\\nWhat happens when we create an empty vector? What is the class?\\n\\n```{r}\\nex_empty &lt;- c()\\nclass(ex_empty)\\n```\\n\\nIn this case, there is no specified type yet. If we wanted to specify the type, we could make an empty vector using the `vector()` function.\\n\\n```{r}\\nex_empty &lt;- vector(mode = \"numeric\")\\nclass(ex_empty)\\n```\\n\\nAnother way to create a vector is with the `rep()` or `seq()` functions. The first function `rep(x, times)` takes in a vector `x` and a number of times `times` and outputs `x` repeated that many times. Let\\'s try this with a single value below. The second function `seq(from, to, step)` takes in a numeric starting value `from`, end value `to`, and step size `step` and returns a sequence from `from` in increments of `step` until a maximum value of `to` is reached. \\n\\n```{r}\\nrep(0, 5)\\nrep(\"Monday\", 4)\\nseq(1, 5, 1)\\nseq(0, -10, -2)\\n```\\n\\n### Indexing a Vector\\n\\nOnce we have a vector, we may want to access certain values stored in that vector. To do so, we index the vector using the position of each value: the first value in the vector has index 1, the second value has index 2, etc. When we say a vector is 1-dimensional, we mean that we can define the position of each value by a single index. To index the vector, we then use square brackets `[]` after the vector name and provide the position. Below, we use these indices to find the value at index 1 and the value at index 4.\\n\\n```{r}\\ndays[1]\\ndays[4]\\n```\\n\\nWe can either access a single value or a subset of values using a vector of indices. Let\\'s see what happens when we use a vector of indices `c(1,4)` and then try using `-c(1,4)` and see what happens then. In the first case, we get the values at index 1 *and* at index 4. In the second case, we get all values *except* at those indices. The `-` indicates that we want to remove rather than select these indices.\\n\\n```{r}\\ndays[c(1,4)]\\ndays[-c(1,4)]\\n```\\n\\nHowever, always indexing by the index value can sometimes be difficult or inefficient. One extra feature of vectors is that we can associate a name with each value. Below, we update the names of the vector `rain` to be the days of the week and then find Friday\\'s rain count by indexing with the name.\\n\\n```{r}\\nnames(rain) &lt;- days\\nprint(rain)\\nrain[\"Friday\"]\\n```\\n\\nThe last way to index a vector is to use TRUE and FALSE values. If we have a vector of booleans that is the same length as our original vector, then this will return all the values that correspond to a TRUE value. For example, indexing the `days` vector by the logical vector `ind_bools` below will return its first and fourth values. We will see more about using logic to access certain values later on. \\n\\n```{r}\\nind_bools &lt;- c(TRUE, FALSE, FALSE, TRUE, FALSE)\\ndays[ind_bools]\\n```\\n\\n### Editing a Vector and Calculations\\n\\nThe mathematical operators we saw in the last chapter (`+`, `-`, `*`, `/`, `^`, `%%`) can all be applied to numeric vectors and will be applied element-wise. That is, in the code below, the two vectors are added together by index. This holds true for some of the built-in math functions as well:\\n\\n* `exp()` - expoential\\n* `log()` - log\\n* `sqrt()` - square root\\n* `abs()` - absolute value \\n* `round()` - round to nearest integer value\\n* `ceiling()` - round up to the nearest integer value \\n* `floor()` - round down to the nearest integer value\\n\\n```{r}\\nc(1,2,3) + c(1,1,1)\\nc(1,2,3) + 1 # equivalent to the code above\\nsqrt(c(1,4,16))\\n```\\n\\nAfter we create a vector, we may need to update its values. For example, we may want to change a specific value. We can do so using indexing. Below, we update the rain value for Friday using the assignment operator. \\n\\n```{r}\\nrain[\"Friday\"] &lt;- 0.5\\nrain\\n```\\n\\nFurther, we may need to add extra entries. We can do so using the `c()` function again but this time passing in the vector we want to add to as our first argument. This will create a single vector with all previous and new values. Below, we add two days to both vectors and then check the length of the updated vector `rain`. The `length()` function returns the length of a vector.\\n\\n```{r}\\nlength(rain)\\ndays &lt;- c(days,\"Saturday\",\"Sunday\") # add the weekend with no rain\\nrain &lt;- c(rain,0,0)\\nlength(rain)\\n```\\n\\nWe can also call some useful functions on vectors. For example, the `sum()`, `max()`, and `min()` functions will return the sum, maximum value, and minimum value of a vector, respectively. \\n\\n### Practice Question\\n\\nCreate a vector of the odd numbers from 1 to 11 using the `seq()` function. Then, find the third value in the vector using indexing. \\n\\n```{r}\\n# Insert your solution here:\\n```\\n\\n### Common Vector Functions\\n\\nBelow we list some of the most common vector functions that are available in base R. All of these functions assume that the vector is numeric. If we pass the function a logical vector, R will convert the vector to 0/1 first, and if we pass the function a character vector, R will give us an error message. \\n\\n* `sum()` -  summation\\n* `median()` - median value\\n* `mean()` - mean\\n* `sd()` - standard deviation \\n* `var()` - variance\\n* `max()` - maximum value\\n* `which.max()` - index of the first element with the maximum value\\n* `min()` - minimum value\\n* `which.min()` - index of the first element with the minimum value\\n\\nTry these out using the vector `rain`. Note that R is case sensitive - `Mean()` is considered different from `mean()`, so if we type `Mean(rain)` R will tell us that it cannot find this function. \\n\\n```{r}\\nmean(rain)  \\nmin(rain) \\nwhich.min(rain) \\n```\\n\\nWe may also be interested in the order of the values. The `sort()` function sorts the values of a vector, whereas the `order()` function returns the permutation of the elements to be in sorted order. The last line of code below sorts the days of the week from smallest to largest rain value. \\n\\n```{r}\\nrain\\norder(rain)\\ndays[order(rain)]\\n```\\n\\nBoth of these functions have an extra possible argument `decreasing`, which has a default value of FALSE. We can specify this to be TRUE to find the days of the week sorted from largest to smallest rainfall.\\n\\n```{r}\\ndays[order(rain, decreasing=TRUE)]\\n```\\n\\n## Factors\\n\\nA **factor** is a special kind of vector that behaves exactly like a regular vector except that it represents values from a category. In particular, a factor keeps track of all possible values of that category, which are called the **levels** of the factor. Factors will be especially helpful when we start getting into data analysis and have categorical variables. The `as.factor()` function will convert a vector to a factor. \\n\\n```{r}\\ndays &lt;- c(\"Monday\", \"Tuesday\", \"Wednesday\", \"Monday\", \"Thursday\", \"Wednesday\")\\ndays_fct &lt;- as.factor(days)\\n\\nclass(days_fct)\\nlevels(days_fct)\\n```\\n\\nAbove, we did not specify the possible levels for our variable. Instead, R found all values in the vector `days` and set these equal to the levels of the factor. Because of this, if we try to change one of the levels to \\'Friday\\', we will get an error. Uncomment the line below to see the error message.\\n\\n```{r}\\n#days_fct[2] &lt;- \"Friday\"   \\n```\\n\\nWe can avoid this error by specifying the levels using the `factor()` function instead of the `as.factor()` function. \\n\\n```{r}\\ndays &lt;- c(\"Monday\", \"Tuesday\", \"Wednesday\", \"Monday\", \"Thursday\", \"Wednesday\")\\ndays_fct &lt;- factor(days, \\n               levels = c(\"Monday\", \"Tuesday\", \"Wednesday\", \"Thursday\", \\n                          \"Friday\", \"Saturday\", \"Sunday\"))\\n\\nclass(days_fct)\\nlevels(days_fct)\\ndays_fct[2] &lt;- \"Friday\"\\n```\\n\\n## Matrices\\n\\nMatrices are similar to vectors in that they store data of the same type, but matrices are two-dimensional (as opposed to one-dimensional vectors), and consist of both rows and columns. \\n\\n&lt;img src=\"images/2-matrix.png\" alt= “” width=\"300pt\" align=\"center\"&gt;\\n\\n Below, we create a matrix reporting the daily rainfall over multiple weeks. We can create a matrix using the `matrix(data, nrow, ncol, byrow)` function. This creates a `nrow` by `ncol` matrix from the vector `data` values filling in by row if `byrow` is TRUE and by column otherwise. Run the code below. Then, change the last argument to `byrow=FALSE` and see what happens to the values.\\n\\n```{r}\\nrainfall &lt;- matrix(c(5,6,0.1,3,0,1,0,1,0.4,0.2,0.5,0.3,0,0), ncol=7, nrow=2, byrow=TRUE)\\nrainfall\\n```\\n\\nWe can find the dimensions of a matrix using the `nrow()`, `ncol()`, or `dim()` functions, which return the number of rows, the number of columns, and both the number of rows and columns, respectively.\\n\\n```{r}\\nnrow(rainfall)\\nncol(rainfall)\\ndim(rainfall)\\n```\\n\\n### Indexing a Matrix\\n\\nSince matrices are two-dimensaional, a single value is indexed by both its row number and its column number. This means that to access a subset of values in a matrix, we need to provide row and column indices. Below, we access a single value in the 1st row and the 4th column. The first value is always the row index and the second value is always the column index.\\n\\n```{r}\\nrainfall[1,4]\\n```\\n\\nAs before, we can also provide multiple indices to get multiple values. Below, we choose multiple columns but we can also choose multiple rows (or multiple rows and multiple columns!).\\n\\n```{r}\\nrainfall[1,c(4,5,7)]\\n```\\n\\nAs with vectors, we can also use booleans to index a matrix by providing boolean values for the rows and/or columns. Note that below we give a vector for the row indices and no values for the columns. Since we did not specify any column indices, this will select all of them.\\n\\n```{r}\\nrainfall[c(FALSE, TRUE), ]\\n```\\n\\nLet\\'s do the opposite and select some columns and all rows.\\n\\n```{r}\\nrainfall[ ,c(TRUE, TRUE, FALSE, FALSE, FALSE, FALSE, FALSE)]\\n```\\n\\nAs with vectors, we can specify row names and column names to access entries instead of using indices. The `colnames()` and `rownames()` functions allow us to specify the column and row names, respectively.\\n\\n```{r}\\ncolnames(rainfall) &lt;- c(\"Monday\", \"Tuesday\", \"Wednesday\", \"Thursday\", \\n                        \"Friday\", \"Saturday\", \"Sunday\")\\nrownames(rainfall) &lt;- c(\"Week1\", \"Week2\")\\nrainfall[\"Week1\",c(\"Friday\",\"Saturday\")]\\n```\\n\\n### Editing a Matrix\\n\\nIf we want to change the values in a matrix, we need to first index those values and then assign them the new value(s). Below, we change a single entry to be 3 and then update several values to all be 0. Note that we do not provide multiple 0\\'s on the right-hand side, as R will infer that all values should be set to 0.\\n\\n```{r}\\nrainfall[\"Week1\", \"Friday\"] &lt;- 3\\n```\\n\\n```{r}\\nrainfall[\"Week1\", c(\"Monday\", \"Tuesday\")] &lt;- 0\\nprint(rainfall)\\n```\\n\\nFurther, we can append values to our matrix by adding rows or columns through the `rbind()` and `cbind()` functions. The first function appends a row (or multiple rows) to a matrix and the second appends a column (or multiple columns). Note that below I provide a row and column name when passing in the additional data. If I hadn\\'t specified these names, then those rows and columns would not be named. \\n\\n```{r}\\nrainfall &lt;- rbind(rainfall, \"Week3\" = c(0.4, 0.0, 0.0, 0.0, 1.2, 2.2, 0.0))\\nrainfall &lt;- cbind(rainfall, \"Total\" = c(7.1, 2.4, 3.8))\\nprint(rainfall)\\n```\\n\\nHere is an example where we bind two matrices by column. Note that whenever we bind two matrices together, we have to be sure that their dimensions are compatible and that they are of the same type.\\n\\n```{r}\\nA &lt;- matrix(c(1,2,3,4), nrow=2)\\nB &lt;- matrix(c(5,6,7,8), nrow=2)\\nC &lt;- cbind(A, B)\\nC\\n```\\n\\nAs with vectors, most mathematical operators (`+`, `-`, `*`, `/` etc.) are applied element-wise in R.\\n\\n```{r}\\nA+B\\n```\\n\\n```{r}\\nexp(C)\\n```\\n\\n### Practice Question\\nCreate a 3x4 matrix of all 1\\'s using the `rep()` and `matrix()` functions. Then select the first and third columns using indexing.\\n\\n```{r}\\n# Insert your solution here:\\n```\\n\\n## Data Frames\\nMatrices can store data like the rainfall data, where everything is of the same type. However, if we want to capture more complex data records, we also want to allow for different measurement types: this is where data frames come in. A data frame is like a matrix in that data frames are two-dimensional, but unlike matrices, data frames allow for each column to be a different type. In this case, each row corresponds to a single data entry (or observation) and each column corresponds to a different variable. \\n\\n\\n&lt;img src=\"images/2-dataframe.png\" alt= “” width=\"250pt\" align=\"center\"&gt;\\n    \\nFor example, suppose that, for every day in a study, we want to record the temperature, rainfall, and day of the week. Temperature and rainfall can be numeric values, but day of the week will be character type. We create a data frame using the `data.frame()` function. Note that I am providing column names for each vector (column).\\n\\nThe `head()` function prints the first six rows of a data frame (to avoid printing very large datasets). In our case, all the data is shown because we only created four rows. The column names are displayed as well as their type. By contrast, the `tail()` function prints the last six rows of a data frame.\\n   \\n\\n```{r}\\nweather_data &lt;- data.frame(day_of_week = c(\"Monday\",\"Tuesday\",\"Wednesday\",\"Monday\"), \\n                           temp = c(70,62,75,50), rain = c(5,0.1,0.0,0.5))\\nhead(weather_data)\\n```\\n\\nThe `dim()`, `nrow()`, and `ncol()` functions return the dimensions, number of rows, and number of columns of a data frame, respectively. \\n\\n```{r}\\ndim(weather_data)\\nnrow(weather_data)\\nncol(weather_data)\\n```\\n\\nThe column names can be found (or assigned) using the `colnames()` or `names()` function. These were specified when I created the data. On the other hand, the row names are currently the indices. \\n\\n```{r}\\ncolnames(weather_data)\\nrownames(weather_data)\\nnames(weather_data)\\n```\\n\\nWe update the row names to be more informative as with a matrix using the `rownames()` function.\\n\\n```{r}\\nrownames(weather_data) &lt;- c(\"6/1\", \"6/2\", \"6/3\", \"6/8\")\\nhead(weather_data)\\n```\\n\\n### Indexing a Data Frame\\n\\nWe can select elements of the data frame using its indices in the same way as we did with matrices. Below, we access a single value and then a subset of our data frame. The subset returned is itself a data frame. Note that the second line below returns a data frame. \\n\\n```{r}\\nweather_data[1,2]\\nweather_data[1,c(\"day_of_week\",\"temp\")]\\n```\\n\\nAnother useful way to access the columns of a data frame is by using the $ accessor and the column name. \\n\\n```{r}\\nweather_data$day_of_week\\nweather_data$temp\\n```\\n\\nThe column `day_of_week` is a categorical variable, but it can only take on a limited number of values. For this kind of variable, it is often useful to convert that column to a factor as we did before. \\n\\n```{r}\\nweather_data$day_of_week &lt;- factor(weather_data$day_of_week)\\nlevels(weather_data$day_of_week)\\n```\\n\\n### Editing a Data Frame\\n\\nAs with matrices, we can change values in a data frame by indexing those entries. \\n\\n```{r}\\nweather_data[1, \"rain\"] &lt;- 2.2\\nweather_data\\n```\\n\\nThe `rbind()` functions and `cbind()` functions also work for data frames in the same way as for matrices. However, another way to add a column is to directly use the $ accessor. Below, we add a categorical column called `aq_warning`, indicating whether there was an air quality warning that day.\\n\\n```{r}\\nweather_data$aq_warning &lt;- as.factor(c(1, 0, 0, 0))\\nweather_data\\n```\\n\\n### Practice Question\\nAdd a column to `weather_data` called `air_quality_index` using the `rep()` function so that all values are `NA` (the missing value in R). Then, index the second value of this column and set the value to be 57.\\n\\n```{r}\\n# Solution:\\n```\\n\\n## Lists\\n\\nA data frame is actually a special kind of another data structure called a **list**, which is a collection of objects under the same name. These objects can be vectors, matrices, data frames, or even other lists! There does not have to be any relation in size, type, or other attribute between different members of the list. Below, we create an example list using the `list()` function, which takes in a series of objects. What are the types of each element of the list? We can access each element using the index, but here we need to use double brackets. \\n\\n```{r}\\nex_list &lt;- list(\"John\", c(\"ibuprofen\", \"metformin\"), c(136, 142, 159))\\nprint(ex_list)\\nex_list[[2]]\\n```\\n\\nMore often, however, it is useful to name the elements of the list for easier access. Let\\'s create this list again but this time give names to each object.\\n\\n```{r}\\nex_list &lt;- list(name=\"John\", medications = c(\"ibuprofen\", \"metformin\"), \\n                past_weights = c(136, 142, 159))\\nprint(ex_list)\\nex_list$medications\\n```\\n\\nTo edit a list, we can use indexing to access different objects in the list and then assign them to new values. Additionally, we can add objects to the list using the $ accessor.\\n\\n```{r}\\nex_list$supplements &lt;- c(\"vitamin D\", \"biotin\")\\nex_list$supplements[2] &lt;- \"collagen\"\\nex_list\\n```\\n\\n## Data Structures Review\\n\\n\\n&lt;div class=\"video-container\"&gt;\\n    &lt;iframe width=\"700\" height=\"500\" src=\"https://www.youtube.com/embed/YKCQ6uhg0fM\" title=\"YouTube video player\" frameborder=\"0\" allow=\"accelerometer; autoplay; clipboard-write; encrypted-media; gyroscope; picture-in-picture; web-share\" allowfullscreen&gt;&lt;/iframe&gt;\\n&lt;/div&gt;\\n\\n\\n## Exercises\\n\\n1. Create and print a new data frame named `city_air_quality` containing variables named `city`, `country`, `temperature`, and `co2` using the following fake information: the average high temperatures in January 2008 were 35, 88, 42, 84, 81, 55, and 30 degrees Fahrenheit for Beijing, Shanghai, Paris, Rome, London, San Francisco, and Toronto, respectively. The average $CO_2$ concentrations for these cities were 2.6, 2.2, 1.6, 1.2, 0.9, 0.7 and 1.7 $mg/m^3$. \\n\\n```{r}\\ncity_air_quality &lt;- data.frame(city = c(\"Beijing\", \"Shanghai\", \"Paris\", \"Rome\", \\n          \"London\", \"San Francisco\", \"Toronto\"), \\n                               country = c(\"China\", \"China\", \"France\", \"Italy\", \\n          \"United Kingdom\", \"United States\", \"Canada\"), \\n                               temperature = c(35, 88, 42, 84, 81, 55, 30), \\n                               co2 = c(2.6, 2.2, 1.6, 1.2, 0.9, 0.7, 1.7))\\ncity_air_quality \\n```\\n\\n2. Create a character vector named `rain` with entries `Yes` or `No` indicating whether or not it rained more than average in January 2008 in these cities (you can make this information up yourself). Then, append this vector to the `city_air_quality` data frame as a new column.\\n\\n```{r}\\nrain &lt;- c(\\'Yes\\', \\'No\\', \\'No\\', \\'Yes\\', \\'Yes\\', \\'Yes\\', \\'No\\')\\ncity_air_quality$rain &lt;- rain \\n```\\n\\n3. Use single square brackets to access the rain and $\\\\text{CO}_2$ concentration entries for San Francisco in your data frame.\\n\\n```{r}\\ncity_air_quality$rain[city_air_quality$city==\"San Francisco\"]\\ncity_air_quality$CO2[city_air_quality$city==\"San Francisco\"]\\n```\\n\\n4. Convert the categorical variable `rain` to a factor. \\n\\n```{r}\\ncity_air_quality$rain &lt;- as.factor(city_air_quality$rain)\\ntable(city_air_quality$rain)\\n```\\n\\nTODO: where to put cheat sheet link?\\n'</span>"
      ],
      "text/plain": [
       "---\n",
       "title: An R Markdown document converted from \"/Users/jialinliu/Documents/GitHub/r-for-health-data-science/book/2_data_structures.ipynb\"\n",
       "output: html_document\n",
       "---\n",
       "\n",
       "# 2. Data Structures in R\n",
       "\n",
       "In this chapter, we will demonstrate the key **data structures** in R. Data structures are how information is stored in R, and the data structures that we use inform R how to interpret our code. Any **object** is a named instance of a data structure. For example, the object `ex_num` below is a vector of numeric type. \n",
       "\n",
       "```{r}\n",
       "ex_num <- 4\n",
       "```\n",
       "\n",
       "The main data structures in R are **vectors**, **factors**, **matrices**, **arrays**, **lists**, and **data frames**. These structures are distinguished by their dimensions and by the type of data they store. For example, we might have a 1-dimensional vector that contains all numeric values, or we could have a 2-dimensional data frame with rows and columns where we might have one numeric column and one character column. In this chapter, we will cover each data structure except for arrays. Arrays are an extension of matrices that allow for data that is more than 2-dimensional and are not needed for the applications covered in this book.\n",
       "\n",
       "<img src=\"images/2-data-structures.png\" alt= “” width=\"500pt\" align=\"center\">\n",
       "\n",
       "## Data Types\n",
       "\n",
       "Each individual value in R has a type: logical, integer, double, or character. We can think of these as the building blocks of all data structures. Below, we can use the `typeof` function to find the type of our vector from above, which shows that the value of `ex_num` is a **double**. A double is a numeric value with a stored decimal.\n",
       "\n",
       "```{r}\n",
       "typeof(ex_num)\n",
       "```\n",
       "\n",
       "On the other hand, an integer is a whole number that does not contain a decimal. We now create an integer object `ex_int`. To indicate to R that we want to restrict our values to integer values, we use an `L` after the number. \n",
       "\n",
       "```{r}\n",
       "ex_int <- 4L\n",
       "typeof(ex_int)\n",
       "```\n",
       "\n",
       "Both `ex_num` and `ex_int` are numeric objects, but we can also work with two other types of objects: characters (e.g. \"php\", \"stats\") and booleans (e.g. TRUE, FALSE), also known as logicals. \n",
       "\n",
       "```{r}\n",
       "ex_bool <- TRUE\n",
       "ex_char <- \"Alice\"\n",
       "\n",
       "typeof(ex_bool)\n",
       "typeof(ex_char)\n",
       "```\n",
       "\n",
       "One important characteristic of logical objects is that R will also interpret them as 0/1. This means they can be added as in the example below: each `TRUE` has a value of 1 and each `FALSE` has a value of 0.\n",
       "\n",
       "```{r}\n",
       "TRUE+FALSE+TRUE\n",
       "```\n",
       "\n",
       "To create all of the above objects, we used the assignment operator `<-`, which we discussed in [Chapter 1](https://alicepaul.github.io/r-for-health-data-science/book/1_intro_to_r.html). You may see code elsewhere that uses an `=` instead. While `=` can also be used for assignment, it is more standard practice to use `<-`. \n",
       "\n",
       "## Vectors\n",
       "\n",
       "In the examples above, we created objects with a single value. R actually uses a vector of length 1 to store this information. **Vectors** are 1-dimensional data structures that can store multiple data values of the same type (e.g. character, boolean, or numeric). \n",
       "\n",
       "\n",
       "<img src=\"images/2-vectors.png\" alt= “” width=\"500pt\" align=\"center\">\n",
       "\n",
       "We can confirm this by using the `is.vector()` function, which returns whether or not the inputted argument is a vector.\n",
       "\n",
       "```{r}\n",
       "is.vector(ex_bool)\n",
       "```\n",
       "\n",
       "One way to create a vector with multiple values is to use the combine function `c()`. Below we create two vectors: one with the days of the week and one with the amount of rain on each day. The first vector has all character values, and the second one has all numeric values.\n",
       "\n",
       "```{r}\n",
       "days <- c(\"Monday\", \"Tuesday\", \"Wednesday\", \"Thursday\", \"Friday\")\n",
       "rain <- c(5, 0.1, 0, 0, 0.4)\n",
       "```\n",
       "\n",
       "Remember, vectors cannot store objects of different types. Because of this, in the code below, R automatically converts the numeric value to be a character in order to store these values in a vector together.\n",
       "\n",
       "```{r}\n",
       "c(\"Monday\", 5)\n",
       "```\n",
       "\n",
       "If we check the classes of these two objects using the `class()` function, we will see that R tells us the type of the data (character and numeric). \n",
       "\n",
       "```{r}\n",
       "class(days)\n",
       "class(rain)\n",
       "```\n",
       "\n",
       "What happens when we create an empty vector? What is the class?\n",
       "\n",
       "```{r}\n",
       "ex_empty <- c()\n",
       "class(ex_empty)\n",
       "```\n",
       "\n",
       "In this case, there is no specified type yet. If we wanted to specify the type, we could make an empty vector using the `vector()` function.\n",
       "\n",
       "```{r}\n",
       "ex_empty <- vector(mode = \"numeric\")\n",
       "class(ex_empty)\n",
       "```\n",
       "\n",
       "Another way to create a vector is with the `rep()` or `seq()` functions. The first function `rep(x, times)` takes in a vector `x` and a number of times `times` and outputs `x` repeated that many times. Let's try this with a single value below. The second function `seq(from, to, step)` takes in a numeric starting value `from`, end value `to`, and step size `step` and returns a sequence from `from` in increments of `step` until a maximum value of `to` is reached. \n",
       "\n",
       "```{r}\n",
       "rep(0, 5)\n",
       "rep(\"Monday\", 4)\n",
       "seq(1, 5, 1)\n",
       "seq(0, -10, -2)\n",
       "```\n",
       "\n",
       "### Indexing a Vector\n",
       "\n",
       "Once we have a vector, we may want to access certain values stored in that vector. To do so, we index the vector using the position of each value: the first value in the vector has index 1, the second value has index 2, etc. When we say a vector is 1-dimensional, we mean that we can define the position of each value by a single index. To index the vector, we then use square brackets `[]` after the vector name and provide the position. Below, we use these indices to find the value at index 1 and the value at index 4.\n",
       "\n",
       "```{r}\n",
       "days[1]\n",
       "days[4]\n",
       "```\n",
       "\n",
       "We can either access a single value or a subset of values using a vector of indices. Let's see what happens when we use a vector of indices `c(1,4)` and then try using `-c(1,4)` and see what happens then. In the first case, we get the values at index 1 *and* at index 4. In the second case, we get all values *except* at those indices. The `-` indicates that we want to remove rather than select these indices.\n",
       "\n",
       "```{r}\n",
       "days[c(1,4)]\n",
       "days[-c(1,4)]\n",
       "```\n",
       "\n",
       "However, always indexing by the index value can sometimes be difficult or inefficient. One extra feature of vectors is that we can associate a name with each value. Below, we update the names of the vector `rain` to be the days of the week and then find Friday's rain count by indexing with the name.\n",
       "\n",
       "```{r}\n",
       "names(rain) <- days\n",
       "print(rain)\n",
       "rain[\"Friday\"]\n",
       "```\n",
       "\n",
       "The last way to index a vector is to use TRUE and FALSE values. If we have a vector of booleans that is the same length as our original vector, then this will return all the values that correspond to a TRUE value. For example, indexing the `days` vector by the logical vector `ind_bools` below will return its first and fourth values. We will see more about using logic to access certain values later on. \n",
       "\n",
       "```{r}\n",
       "ind_bools <- c(TRUE, FALSE, FALSE, TRUE, FALSE)\n",
       "days[ind_bools]\n",
       "```\n",
       "\n",
       "### Editing a Vector and Calculations\n",
       "\n",
       "The mathematical operators we saw in the last chapter (`+`, `-`, `*`, `/`, `^`, `%%`) can all be applied to numeric vectors and will be applied element-wise. That is, in the code below, the two vectors are added together by index. This holds true for some of the built-in math functions as well:\n",
       "\n",
       "* `exp()` - expoential\n",
       "* `log()` - log\n",
       "* `sqrt()` - square root\n",
       "* `abs()` - absolute value \n",
       "* `round()` - round to nearest integer value\n",
       "* `ceiling()` - round up to the nearest integer value \n",
       "* `floor()` - round down to the nearest integer value\n",
       "\n",
       "```{r}\n",
       "c(1,2,3) + c(1,1,1)\n",
       "c(1,2,3) + 1 # equivalent to the code above\n",
       "sqrt(c(1,4,16))\n",
       "```\n",
       "\n",
       "After we create a vector, we may need to update its values. For example, we may want to change a specific value. We can do so using indexing. Below, we update the rain value for Friday using the assignment operator. \n",
       "\n",
       "```{r}\n",
       "rain[\"Friday\"] <- 0.5\n",
       "rain\n",
       "```\n",
       "\n",
       "Further, we may need to add extra entries. We can do so using the `c()` function again but this time passing in the vector we want to add to as our first argument. This will create a single vector with all previous and new values. Below, we add two days to both vectors and then check the length of the updated vector `rain`. The `length()` function returns the length of a vector.\n",
       "\n",
       "```{r}\n",
       "length(rain)\n",
       "days <- c(days,\"Saturday\",\"Sunday\") # add the weekend with no rain\n",
       "rain <- c(rain,0,0)\n",
       "length(rain)\n",
       "```\n",
       "\n",
       "We can also call some useful functions on vectors. For example, the `sum()`, `max()`, and `min()` functions will return the sum, maximum value, and minimum value of a vector, respectively. \n",
       "\n",
       "### Practice Question\n",
       "\n",
       "Create a vector of the odd numbers from 1 to 11 using the `seq()` function. Then, find the third value in the vector using indexing. \n",
       "\n",
       "```{r}\n",
       "# Insert your solution here:\n",
       "```\n",
       "\n",
       "### Common Vector Functions\n",
       "\n",
       "Below we list some of the most common vector functions that are available in base R. All of these functions assume that the vector is numeric. If we pass the function a logical vector, R will convert the vector to 0/1 first, and if we pass the function a character vector, R will give us an error message. \n",
       "\n",
       "* `sum()` -  summation\n",
       "* `median()` - median value\n",
       "* `mean()` - mean\n",
       "* `sd()` - standard deviation \n",
       "* `var()` - variance\n",
       "* `max()` - maximum value\n",
       "* `which.max()` - index of the first element with the maximum value\n",
       "* `min()` - minimum value\n",
       "* `which.min()` - index of the first element with the minimum value\n",
       "\n",
       "Try these out using the vector `rain`. Note that R is case sensitive - `Mean()` is considered different from `mean()`, so if we type `Mean(rain)` R will tell us that it cannot find this function. \n",
       "\n",
       "```{r}\n",
       "mean(rain)  \n",
       "min(rain) \n",
       "which.min(rain) \n",
       "```\n",
       "\n",
       "We may also be interested in the order of the values. The `sort()` function sorts the values of a vector, whereas the `order()` function returns the permutation of the elements to be in sorted order. The last line of code below sorts the days of the week from smallest to largest rain value. \n",
       "\n",
       "```{r}\n",
       "rain\n",
       "order(rain)\n",
       "days[order(rain)]\n",
       "```\n",
       "\n",
       "Both of these functions have an extra possible argument `decreasing`, which has a default value of FALSE. We can specify this to be TRUE to find the days of the week sorted from largest to smallest rainfall.\n",
       "\n",
       "```{r}\n",
       "days[order(rain, decreasing=TRUE)]\n",
       "```\n",
       "\n",
       "## Factors\n",
       "\n",
       "A **factor** is a special kind of vector that behaves exactly like a regular vector except that it represents values from a category. In particular, a factor keeps track of all possible values of that category, which are called the **levels** of the factor. Factors will be especially helpful when we start getting into data analysis and have categorical variables. The `as.factor()` function will convert a vector to a factor. \n",
       "\n",
       "```{r}\n",
       "days <- c(\"Monday\", \"Tuesday\", \"Wednesday\", \"Monday\", \"Thursday\", \"Wednesday\")\n",
       "days_fct <- as.factor(days)\n",
       "\n",
       "class(days_fct)\n",
       "levels(days_fct)\n",
       "```\n",
       "\n",
       "Above, we did not specify the possible levels for our variable. Instead, R found all values in the vector `days` and set these equal to the levels of the factor. Because of this, if we try to change one of the levels to 'Friday', we will get an error. Uncomment the line below to see the error message.\n",
       "\n",
       "```{r}\n",
       "#days_fct[2] <- \"Friday\"   \n",
       "```\n",
       "\n",
       "We can avoid this error by specifying the levels using the `factor()` function instead of the `as.factor()` function. \n",
       "\n",
       "```{r}\n",
       "days <- c(\"Monday\", \"Tuesday\", \"Wednesday\", \"Monday\", \"Thursday\", \"Wednesday\")\n",
       "days_fct <- factor(days, \n",
       "               levels = c(\"Monday\", \"Tuesday\", \"Wednesday\", \"Thursday\", \n",
       "                          \"Friday\", \"Saturday\", \"Sunday\"))\n",
       "\n",
       "class(days_fct)\n",
       "levels(days_fct)\n",
       "days_fct[2] <- \"Friday\"\n",
       "```\n",
       "\n",
       "## Matrices\n",
       "\n",
       "Matrices are similar to vectors in that they store data of the same type, but matrices are two-dimensional (as opposed to one-dimensional vectors), and consist of both rows and columns. \n",
       "\n",
       "<img src=\"images/2-matrix.png\" alt= “” width=\"300pt\" align=\"center\">\n",
       "\n",
       " Below, we create a matrix reporting the daily rainfall over multiple weeks. We can create a matrix using the `matrix(data, nrow, ncol, byrow)` function. This creates a `nrow` by `ncol` matrix from the vector `data` values filling in by row if `byrow` is TRUE and by column otherwise. Run the code below. Then, change the last argument to `byrow=FALSE` and see what happens to the values.\n",
       "\n",
       "```{r}\n",
       "rainfall <- matrix(c(5,6,0.1,3,0,1,0,1,0.4,0.2,0.5,0.3,0,0), ncol=7, nrow=2, byrow=TRUE)\n",
       "rainfall\n",
       "```\n",
       "\n",
       "We can find the dimensions of a matrix using the `nrow()`, `ncol()`, or `dim()` functions, which return the number of rows, the number of columns, and both the number of rows and columns, respectively.\n",
       "\n",
       "```{r}\n",
       "nrow(rainfall)\n",
       "ncol(rainfall)\n",
       "dim(rainfall)\n",
       "```\n",
       "\n",
       "### Indexing a Matrix\n",
       "\n",
       "Since matrices are two-dimensaional, a single value is indexed by both its row number and its column number. This means that to access a subset of values in a matrix, we need to provide row and column indices. Below, we access a single value in the 1st row and the 4th column. The first value is always the row index and the second value is always the column index.\n",
       "\n",
       "```{r}\n",
       "rainfall[1,4]\n",
       "```\n",
       "\n",
       "As before, we can also provide multiple indices to get multiple values. Below, we choose multiple columns but we can also choose multiple rows (or multiple rows and multiple columns!).\n",
       "\n",
       "```{r}\n",
       "rainfall[1,c(4,5,7)]\n",
       "```\n",
       "\n",
       "As with vectors, we can also use booleans to index a matrix by providing boolean values for the rows and/or columns. Note that below we give a vector for the row indices and no values for the columns. Since we did not specify any column indices, this will select all of them.\n",
       "\n",
       "```{r}\n",
       "rainfall[c(FALSE, TRUE), ]\n",
       "```\n",
       "\n",
       "Let's do the opposite and select some columns and all rows.\n",
       "\n",
       "```{r}\n",
       "rainfall[ ,c(TRUE, TRUE, FALSE, FALSE, FALSE, FALSE, FALSE)]\n",
       "```\n",
       "\n",
       "As with vectors, we can specify row names and column names to access entries instead of using indices. The `colnames()` and `rownames()` functions allow us to specify the column and row names, respectively.\n",
       "\n",
       "```{r}\n",
       "colnames(rainfall) <- c(\"Monday\", \"Tuesday\", \"Wednesday\", \"Thursday\", \n",
       "                        \"Friday\", \"Saturday\", \"Sunday\")\n",
       "rownames(rainfall) <- c(\"Week1\", \"Week2\")\n",
       "rainfall[\"Week1\",c(\"Friday\",\"Saturday\")]\n",
       "```\n",
       "\n",
       "### Editing a Matrix\n",
       "\n",
       "If we want to change the values in a matrix, we need to first index those values and then assign them the new value(s). Below, we change a single entry to be 3 and then update several values to all be 0. Note that we do not provide multiple 0's on the right-hand side, as R will infer that all values should be set to 0.\n",
       "\n",
       "```{r}\n",
       "rainfall[\"Week1\", \"Friday\"] <- 3\n",
       "```\n",
       "\n",
       "```{r}\n",
       "rainfall[\"Week1\", c(\"Monday\", \"Tuesday\")] <- 0\n",
       "print(rainfall)\n",
       "```\n",
       "\n",
       "Further, we can append values to our matrix by adding rows or columns through the `rbind()` and `cbind()` functions. The first function appends a row (or multiple rows) to a matrix and the second appends a column (or multiple columns). Note that below I provide a row and column name when passing in the additional data. If I hadn't specified these names, then those rows and columns would not be named. \n",
       "\n",
       "```{r}\n",
       "rainfall <- rbind(rainfall, \"Week3\" = c(0.4, 0.0, 0.0, 0.0, 1.2, 2.2, 0.0))\n",
       "rainfall <- cbind(rainfall, \"Total\" = c(7.1, 2.4, 3.8))\n",
       "print(rainfall)\n",
       "```\n",
       "\n",
       "Here is an example where we bind two matrices by column. Note that whenever we bind two matrices together, we have to be sure that their dimensions are compatible and that they are of the same type.\n",
       "\n",
       "```{r}\n",
       "A <- matrix(c(1,2,3,4), nrow=2)\n",
       "B <- matrix(c(5,6,7,8), nrow=2)\n",
       "C <- cbind(A, B)\n",
       "C\n",
       "```\n",
       "\n",
       "As with vectors, most mathematical operators (`+`, `-`, `*`, `/` etc.) are applied element-wise in R.\n",
       "\n",
       "```{r}\n",
       "A+B\n",
       "```\n",
       "\n",
       "```{r}\n",
       "exp(C)\n",
       "```\n",
       "\n",
       "### Practice Question\n",
       "Create a 3x4 matrix of all 1's using the `rep()` and `matrix()` functions. Then select the first and third columns using indexing.\n",
       "\n",
       "```{r}\n",
       "# Insert your solution here:\n",
       "```\n",
       "\n",
       "## Data Frames\n",
       "Matrices can store data like the rainfall data, where everything is of the same type. However, if we want to capture more complex data records, we also want to allow for different measurement types: this is where data frames come in. A data frame is like a matrix in that data frames are two-dimensional, but unlike matrices, data frames allow for each column to be a different type. In this case, each row corresponds to a single data entry (or observation) and each column corresponds to a different variable. \n",
       "\n",
       "\n",
       "<img src=\"images/2-dataframe.png\" alt= “” width=\"250pt\" align=\"center\">\n",
       "    \n",
       "For example, suppose that, for every day in a study, we want to record the temperature, rainfall, and day of the week. Temperature and rainfall can be numeric values, but day of the week will be character type. We create a data frame using the `data.frame()` function. Note that I am providing column names for each vector (column).\n",
       "\n",
       "The `head()` function prints the first six rows of a data frame (to avoid printing very large datasets). In our case, all the data is shown because we only created four rows. The column names are displayed as well as their type. By contrast, the `tail()` function prints the last six rows of a data frame.\n",
       "   \n",
       "\n",
       "```{r}\n",
       "weather_data <- data.frame(day_of_week = c(\"Monday\",\"Tuesday\",\"Wednesday\",\"Monday\"), \n",
       "                           temp = c(70,62,75,50), rain = c(5,0.1,0.0,0.5))\n",
       "head(weather_data)\n",
       "```\n",
       "\n",
       "The `dim()`, `nrow()`, and `ncol()` functions return the dimensions, number of rows, and number of columns of a data frame, respectively. \n",
       "\n",
       "```{r}\n",
       "dim(weather_data)\n",
       "nrow(weather_data)\n",
       "ncol(weather_data)\n",
       "```\n",
       "\n",
       "The column names can be found (or assigned) using the `colnames()` or `names()` function. These were specified when I created the data. On the other hand, the row names are currently the indices. \n",
       "\n",
       "```{r}\n",
       "colnames(weather_data)\n",
       "rownames(weather_data)\n",
       "names(weather_data)\n",
       "```\n",
       "\n",
       "We update the row names to be more informative as with a matrix using the `rownames()` function.\n",
       "\n",
       "```{r}\n",
       "rownames(weather_data) <- c(\"6/1\", \"6/2\", \"6/3\", \"6/8\")\n",
       "head(weather_data)\n",
       "```\n",
       "\n",
       "### Indexing a Data Frame\n",
       "\n",
       "We can select elements of the data frame using its indices in the same way as we did with matrices. Below, we access a single value and then a subset of our data frame. The subset returned is itself a data frame. Note that the second line below returns a data frame. \n",
       "\n",
       "```{r}\n",
       "weather_data[1,2]\n",
       "weather_data[1,c(\"day_of_week\",\"temp\")]\n",
       "```\n",
       "\n",
       "Another useful way to access the columns of a data frame is by using the $ accessor and the column name. \n",
       "\n",
       "```{r}\n",
       "weather_data$day_of_week\n",
       "weather_data$temp\n",
       "```\n",
       "\n",
       "The column `day_of_week` is a categorical variable, but it can only take on a limited number of values. For this kind of variable, it is often useful to convert that column to a factor as we did before. \n",
       "\n",
       "```{r}\n",
       "weather_data$day_of_week <- factor(weather_data$day_of_week)\n",
       "levels(weather_data$day_of_week)\n",
       "```\n",
       "\n",
       "### Editing a Data Frame\n",
       "\n",
       "As with matrices, we can change values in a data frame by indexing those entries. \n",
       "\n",
       "```{r}\n",
       "weather_data[1, \"rain\"] <- 2.2\n",
       "weather_data\n",
       "```\n",
       "\n",
       "The `rbind()` functions and `cbind()` functions also work for data frames in the same way as for matrices. However, another way to add a column is to directly use the $ accessor. Below, we add a categorical column called `aq_warning`, indicating whether there was an air quality warning that day.\n",
       "\n",
       "```{r}\n",
       "weather_data$aq_warning <- as.factor(c(1, 0, 0, 0))\n",
       "weather_data\n",
       "```\n",
       "\n",
       "### Practice Question\n",
       "Add a column to `weather_data` called `air_quality_index` using the `rep()` function so that all values are `NA` (the missing value in R). Then, index the second value of this column and set the value to be 57.\n",
       "\n",
       "```{r}\n",
       "# Solution:\n",
       "```\n",
       "\n",
       "## Lists\n",
       "\n",
       "A data frame is actually a special kind of another data structure called a **list**, which is a collection of objects under the same name. These objects can be vectors, matrices, data frames, or even other lists! There does not have to be any relation in size, type, or other attribute between different members of the list. Below, we create an example list using the `list()` function, which takes in a series of objects. What are the types of each element of the list? We can access each element using the index, but here we need to use double brackets. \n",
       "\n",
       "```{r}\n",
       "ex_list <- list(\"John\", c(\"ibuprofen\", \"metformin\"), c(136, 142, 159))\n",
       "print(ex_list)\n",
       "ex_list[[2]]\n",
       "```\n",
       "\n",
       "More often, however, it is useful to name the elements of the list for easier access. Let's create this list again but this time give names to each object.\n",
       "\n",
       "```{r}\n",
       "ex_list <- list(name=\"John\", medications = c(\"ibuprofen\", \"metformin\"), \n",
       "                past_weights = c(136, 142, 159))\n",
       "print(ex_list)\n",
       "ex_list$medications\n",
       "```\n",
       "\n",
       "To edit a list, we can use indexing to access different objects in the list and then assign them to new values. Additionally, we can add objects to the list using the $ accessor.\n",
       "\n",
       "```{r}\n",
       "ex_list$supplements <- c(\"vitamin D\", \"biotin\")\n",
       "ex_list$supplements[2] <- \"collagen\"\n",
       "ex_list\n",
       "```\n",
       "\n",
       "## Data Structures Review\n",
       "\n",
       "\n",
       "<div class=\"video-container\">\n",
       "    <iframe width=\"700\" height=\"500\" src=\"https://www.youtube.com/embed/YKCQ6uhg0fM\" title=\"YouTube video player\" frameborder=\"0\" allow=\"accelerometer; autoplay; clipboard-write; encrypted-media; gyroscope; picture-in-picture; web-share\" allowfullscreen></iframe>\n",
       "</div>\n",
       "\n",
       "\n",
       "## Exercises\n",
       "\n",
       "1. Create and print a new data frame named `city_air_quality` containing variables named `city`, `country`, `temperature`, and `co2` using the following fake information: the average high temperatures in January 2008 were 35, 88, 42, 84, 81, 55, and 30 degrees Fahrenheit for Beijing, Shanghai, Paris, Rome, London, San Francisco, and Toronto, respectively. The average $CO_2$ concentrations for these cities were 2.6, 2.2, 1.6, 1.2, 0.9, 0.7 and 1.7 $mg/m^3$. \n",
       "\n",
       "```{r}\n",
       "city_air_quality <- data.frame(city = c(\"Beijing\", \"Shanghai\", \"Paris\", \"Rome\", \n",
       "          \"London\", \"San Francisco\", \"Toronto\"), \n",
       "                               country = c(\"China\", \"China\", \"France\", \"Italy\", \n",
       "          \"United Kingdom\", \"United States\", \"Canada\"), \n",
       "                               temperature = c(35, 88, 42, 84, 81, 55, 30), \n",
       "                               co2 = c(2.6, 2.2, 1.6, 1.2, 0.9, 0.7, 1.7))\n",
       "city_air_quality \n",
       "```\n",
       "\n",
       "2. Create a character vector named `rain` with entries `Yes` or `No` indicating whether or not it rained more than average in January 2008 in these cities (you can make this information up yourself). Then, append this vector to the `city_air_quality` data frame as a new column.\n",
       "\n",
       "```{r}\n",
       "rain <- c('Yes', 'No', 'No', 'Yes', 'Yes', 'Yes', 'No')\n",
       "city_air_quality$rain <- rain \n",
       "```\n",
       "\n",
       "3. Use single square brackets to access the rain and $\\text{CO}_2$ concentration entries for San Francisco in your data frame.\n",
       "\n",
       "```{r}\n",
       "city_air_quality$rain[city_air_quality$city==\"San Francisco\"]\n",
       "city_air_quality$CO2[city_air_quality$city==\"San Francisco\"]\n",
       "```\n",
       "\n",
       "4. Convert the categorical variable `rain` to a factor. \n",
       "\n",
       "```{r}\n",
       "city_air_quality$rain <- as.factor(city_air_quality$rain)\n",
       "table(city_air_quality$rain)\n",
       "```\n",
       "\n",
       "TODO: where to put cheat sheet link?\n"
      ]
     },
     "metadata": {},
     "output_type": "display_data"
    }
   ],
   "source": [
    "input_1 <- \"/Users/jialinliu/Documents/GitHub/r-for-health-data-science/book/1_intro_to_r.ipynb\"\n",
    "output_1_rmd <- rmarkdown:::convert_ipynb(input_1)\n",
    "xfun::file_string(output_1_rmd)\n",
    "\n",
    "input_2 <- \"/Users/jialinliu/Documents/GitHub/r-for-health-data-science/book/2_data_structures.ipynb\"\n",
    "output_2_rmd <- rmarkdown:::convert_ipynb(input_2)\n",
    "xfun::file_string(output_2_rmd)\n",
    "\n"
   ]
  },
  {
   "cell_type": "markdown",
   "metadata": {},
   "source": [
    "### Video Tour of Jupyter Notebooks and Binder\n",
    "\n",
    "At the top of this chapter is a rocket button to open this Notebook using Binder. Binder creates an online computational environment to host your notebooks that already has all the R packages you'll need for this book installed, which is the easiest way to interact with the content in this book. Click that link to open this chapter and then view the video below to see how to use this feature when reading this book. \n",
    "\n",
    "<div class=\"video-container\">\n",
    "    <iframe width=\"700\" height=\"500\" src=\"https://www.youtube.com/embed/aZbvJc5w5Og\" title=\"YouTube video player\" frameborder=\"0\" allow=\"accelerometer; autoplay; clipboard-write; encrypted-media; gyroscope; picture-in-picture; web-share\" allowfullscreen></iframe>\n",
    "</div>\n"
   ]
  },
  {
   "cell_type": "markdown",
   "metadata": {},
   "source": [
    "## Tips and Reminders\n",
    "\n",
    "We end this chapter with some final tips and reminders. \n",
    "\n",
    "* **Keyboard Shortcuts**: Both RStudio and Jupyter notebooks have useful keyboard shortcuts that will make your programming experience more streamlined. It is worth getting familiar with some of the most common keyboard shortcuts - here are some helpful cheatsheets for keyboard shortcuts in [Jupyter Notebooks](https://github.com/alicepaul/r-for-health-data-science/blob/main/book/docs/jupyter_notebook_keyboard_shortcuts.pdf) and in [RStudio](https://github.com/alicepaul/r-for-health-data-science/blob/main/book/docs/r_studio_keyboard_shortcuts.pdf). \n",
    "\n",
    "* **Asking for help**: Within R, you can use the `?` operator or the `help()` function to pull up documentation on a given function. This documentation is also available [online](https://rdocumentation.org/).\n",
    "\n",
    "* **Finding all objects**: You can use the Environment panel or `ls()` function to find all current objects. If you have an error that an object you are calling does not exist, take a look to find where you defined it. \n",
    "\n",
    "* **Checking packages**: If you get an error that a function does not exist, check to make sure you have loaded that package using the `library` function. The list of packages used in this book is given on the [github repository homepage](https://github.com/alicepaul/r-for-health-data-science). \n"
   ]
  }
 ],
 "metadata": {
  "kernelspec": {
   "display_name": "R",
   "language": "R",
   "name": "ir"
  },
  "language_info": {
   "codemirror_mode": "r",
   "file_extension": ".r",
   "mimetype": "text/x-r-source",
   "name": "R",
   "pygments_lexer": "r",
   "version": "4.2.1"
  }
 },
 "nbformat": 4,
 "nbformat_minor": 4
}
