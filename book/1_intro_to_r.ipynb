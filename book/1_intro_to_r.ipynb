{
 "cells": [
  {
   "cell_type": "markdown",
   "metadata": {
    "nbgrader": {
     "grade": false,
     "grade_id": "d1b406",
     "locked": true,
     "schema_version": 3,
     "solution": false,
     "task": false
    }
   },
   "source": [
    "# Intro to R, RStudio, and Jupyter Notebooks\n",
    "\n",
    "This chapter will introduce you to R as a programming language and how we can use this language in different ways: directly through the [R console](https://cran.rstudio.com/), using [RStudio](https://posit.co/download/rstudio-desktop/), and using [Jupyter Notebooks](https://jupyter.org/). \n",
    "\n",
    "\n",
    "## Why R?\n",
    "\n",
    "What are some of the benefits to using R? \n",
    "* R is built for statisticians and data analysis.  \n",
    "* R is open source.  \n",
    "* R has most of the latest statistical methods available.  \n",
    "* R is flexible. \n",
    "\n",
    "Since R is built for statisticians, it is built with data in mind. That comes in handy when we want to streamline how we process and analyze data. It also means that many statisticians working on new methods are publishing user-created packages in R so we have access to most methods of interest. R is also an interpreted language, which means that we do not have to compile our code into machine language first. What this means for you is that this allows for simpler syntax and more flexibility when writing our code, which also makes it a great first language to learn.  \n",
    "\n",
    "Python is another interpreted language often used for data analysis. Both languages feature simple and flexible syntax. While python is more broadly developed for usage outside data science and statistical analysis, R is a great programming language for those in health data science. I use both langauges and find switching between them to be straightforward, but I do prefer R for anything related to data or statistical analyis. \n",
    "\n",
    "### Installation of R and RStudio\n",
    "\n",
    "To run R on your computer, you will need to [download and install R](https://cran.rstudio.com/). This will allow you to open the R application or run R code interactively. However, to get the most of out programming with R, you will want to install RStudio, which is an integrated development environment (IDE) for R and python. RStudio offers a nice environment for writing, editing, running, and debugging R code. We will talk through more of the benefits of using RStudio below. ( TODO: add section links and refs)\n",
    "\n",
    "Each chapter in this book can be downloaded as an R markdown file. You can open this file in RStudio to run the presented code as you read. Alternatively, at the top of you can open each of these chapters as a Jupyter notebook through Binder. This will open an interactive, online session for you to run the R code. We recommend this option for the best viewing and learning experience. If you would like to run the Jupyter notebooks on your own machine, you will need to install [Jupyter](https://www.anaconda.com/download) and the associated [R kernel](https://github.com/IRkernel/IRkernel).\n",
    "(TODO: add link to github folder with Rmd files, see about adding Rmd download button)"
   ]
  },
  {
   "cell_type": "markdown",
   "metadata": {},
   "source": [
    "## The R Console\n",
    "\n",
    "The R console provides our first intro to code in R. The image below shows what the console will look like when you open it. You should see a blinking cursor. This where we can write our first line of code!\n",
    "\n",
    "TODO: IMAGE"
   ]
  },
  {
   "cell_type": "markdown",
   "metadata": {},
   "source": [
    "To start, type \"2+3\" and press ENTER. You should see that 5 is printed below that code and your cursor is moved to the next line. "
   ]
  },
  {
   "cell_type": "markdown",
   "metadata": {
    "nbgrader": {
     "grade": false,
     "grade_id": "d45a2c",
     "locked": true,
     "schema_version": 3,
     "solution": false,
     "task": false
    }
   },
   "source": [
    "### Basic Computations and Objects\n",
    "\n",
    "The example above did a simple addition. Try out some other basic calculations using the operators below:\n",
    "\n",
    "* Addition: 5+6  \n",
    "* Subtraction: 7-2  \n",
    "* Multiplication: 2*3  \n",
    "* Division: 6/3  \n",
    "* Exponentiation: 4^2  \n",
    "* Modulo: 100 %% 4  \n",
    "\n",
    "For example, use the modulo operator to find what 100 mod 4 is. It should return 0 since 100 is divisible by 4."
   ]
  },
  {
   "cell_type": "markdown",
   "metadata": {},
   "source": [
    "If we want to save our computation, we need to create an object to store that value. An **object** is simply a named data structure (another common name for an object is a variable). In the code below, we create an object `x` which stores the value 5 using the assignment operator `<-`. The assignment operator assigns whatever is on the right hand side of the operator to the name of the left hand side. We can now reference `x` by calling its name. Additionally, we can update its value by adding 1. In the second line of code, the computer first finds the value of the right hand side by finding the current value of `x` before adding 1 and assigning it back to `x`."
   ]
  },
  {
   "cell_type": "code",
   "execution_count": 20,
   "metadata": {},
   "outputs": [
    {
     "data": {
      "text/html": [
       "6"
      ],
      "text/latex": [
       "6"
      ],
      "text/markdown": [
       "6"
      ],
      "text/plain": [
       "[1] 6"
      ]
     },
     "metadata": {},
     "output_type": "display_data"
    }
   ],
   "source": [
    "x <- 2+3\n",
    "x <- x+1\n",
    "x"
   ]
  },
  {
   "cell_type": "markdown",
   "metadata": {},
   "source": [
    "We can create multiple objects by using different names. The code below creates a new variable `y` that is one more than the value of `x`. We can see that the value of `x` is still 5 after running this code."
   ]
  },
  {
   "cell_type": "code",
   "execution_count": 1,
   "metadata": {},
   "outputs": [
    {
     "data": {
      "text/html": [
       "5"
      ],
      "text/latex": [
       "5"
      ],
      "text/markdown": [
       "5"
      ],
      "text/plain": [
       "[1] 5"
      ]
     },
     "metadata": {},
     "output_type": "display_data"
    }
   ],
   "source": [
    "x <- 2+3\n",
    "y <- x\n",
    "y <- y + 1\n",
    "x"
   ]
  },
  {
   "cell_type": "markdown",
   "metadata": {},
   "source": [
    "### Naming Conventions\n",
    "\n",
    "As we start creating objects, we want to make sure we use good object names. A few tips for effective names:\n",
    "\n",
    "*  Stick to a single format. We will use snake_case, which uses underscores between words (e.g. `my_var`, `class_year`).\n",
    "*  Make your names useful. Try to avoid using names that are too long (e.g. `which_day_of_the_week`) or do not contain enough information (e.g., `x1`, `x2`, `x3`). \n",
    "*  Replace unexplained values with an object. For example, if you need to do some calculations using 100 as the number of participants create an object `n_part` with value 100 rather than repeatedly using the number. This makes the code easy to update and avoids possible errors. \n",
    "\n",
    "TODO: use object instead of variable everywhere!"
   ]
  },
  {
   "cell_type": "markdown",
   "metadata": {},
   "source": [
    "### Recap Video\n",
    "\n",
    "TODO: add video"
   ]
  },
  {
   "cell_type": "markdown",
   "metadata": {},
   "source": [
    "## RStudio and R Markdown \n",
    "\n",
    "If we made a mistake in the code above, we would have to retype everything from the beginning. However, when we write code we often want to be able to run it multiple times and develop it in stages. R scripts and R markdown files allow us to save all of our R code in a file that we can update and re-run. This allows us to create reproducible and shareable analysis. We will move to RStudio as our development environment to demonstrate creating an R script. When you open RStudio, you will see multiple windows. Start by opening a new R file by going to File -> New File -> R Script. You should now see several windows. \n",
    "\n",
    "TODO: image\n",
    "\n",
    "In the code editor window, add the following code to your .R file and save the file. Note that here we used snake case to name our objects! "
   ]
  },
  {
   "cell_type": "code",
   "execution_count": 2,
   "metadata": {},
   "outputs": [],
   "source": [
    "# Calculate student to faculty ratio, 2023 enrollment\n",
    "num_students <- 132\n",
    "num_faculty <- 23\n",
    "student_fac_ratio <- num_students/num_faculty"
   ]
  },
  {
   "cell_type": "markdown",
   "metadata": {},
   "source": [
    "The first line starts with `#` and does not contain any code. This is a comment line which allows us to add context, intent, or extra information to help the reader understand our code. A good rule of thumb is that we want to write enough comments so that we could open our code in six months and be able to understand what we were doing. As we develop longer chunks of code, this will become more important. "
   ]
  },
  {
   "cell_type": "markdown",
   "metadata": {},
   "source": [
    "### Video Tour of RStudio and R Markdown\n",
    "\n",
    "In order to run the code in the script, we need to tell RStudio we are ready to run it. The video below shows how to run a script and gives a tour of the other windows you see in RStudio. It will also introduce you to R Markdown files, which integrates text and code together. Each chapter in this book can be downloaded as a corresponding R Markdown file. \n",
    "\n",
    "TODO: video\n",
    "TODO: add link to downloads"
   ]
  },
  {
   "cell_type": "markdown",
   "metadata": {},
   "source": [
    "### Calling Functions\n",
    "\n",
    "When we use R, we have access to all the functions available in base R. A function takes in one or more inputs and returns a single output object. Let's use a simple function `exp()`. The exponential function takes in one (or more) numeric values and exponentiates them. "
   ]
  },
  {
   "cell_type": "code",
   "execution_count": 1,
   "metadata": {},
   "outputs": [
    {
     "data": {
      "text/html": [
       "20.0855369231877"
      ],
      "text/latex": [
       "20.0855369231877"
      ],
      "text/markdown": [
       "20.0855369231877"
      ],
      "text/plain": [
       "[1] 20.08554"
      ]
     },
     "metadata": {},
     "output_type": "display_data"
    }
   ],
   "source": [
    "exp(3)"
   ]
  },
  {
   "cell_type": "markdown",
   "metadata": {},
   "source": [
    "Some other simple functions are shown below that all convert a numeric input to an integer value. "
   ]
  },
  {
   "cell_type": "code",
   "execution_count": 2,
   "metadata": {},
   "outputs": [
    {
     "data": {
      "text/html": [
       "3"
      ],
      "text/latex": [
       "3"
      ],
      "text/markdown": [
       "3"
      ],
      "text/plain": [
       "[1] 3"
      ]
     },
     "metadata": {},
     "output_type": "display_data"
    }
   ],
   "source": [
    "ceiling(3.7)"
   ]
  },
  {
   "cell_type": "code",
   "execution_count": 3,
   "metadata": {},
   "outputs": [
    {
     "data": {
      "text/html": [
       "3"
      ],
      "text/latex": [
       "3"
      ],
      "text/markdown": [
       "3"
      ],
      "text/plain": [
       "[1] 3"
      ]
     },
     "metadata": {},
     "output_type": "display_data"
    }
   ],
   "source": [
    "floor(3.7)"
   ]
  },
  {
   "cell_type": "code",
   "execution_count": 4,
   "metadata": {},
   "outputs": [
    {
     "data": {
      "text/html": [
       "4"
      ],
      "text/latex": [
       "4"
      ],
      "text/markdown": [
       "4"
      ],
      "text/plain": [
       "[1] 4"
      ]
     },
     "metadata": {},
     "output_type": "display_data"
    }
   ],
   "source": [
    "round(3.7)"
   ]
  },
  {
   "cell_type": "markdown",
   "metadata": {},
   "source": [
    "If we want to learn about a function, we can use the help operator `?`. This will bring up the documentation for that particular function. The documentation will often tell you the usage of the function, the **arguments** (the object inputs), the **value** (information about the returned object), and will give some examples. For example, if we want to understand the difference between `floor` and `ceiling` we can call `?floor` and `?ceiling`. This should bring up the following documentation in which we can read that floor rounds down to the nearest intetger and ceiling rounds up to the nearest integer.\n",
    "\n",
    "TODO: IMAGE since this doesn't convert to pdf nicely"
   ]
  },
  {
   "cell_type": "markdown",
   "metadata": {},
   "source": [
    "### Working Directories and Paths\n",
    "\n",
    "Let's try another example function: `read.csv`. This function reads in a comma-delimited file and returns the information as a data frame (try `?read.csv` to read more about this function). We will learn more about data frames in the next chapter. The first agrument to this function is a file as either a filename or a path to the file. Download the file `fake_names.csv` from this book's github repository. By default, R will look for the file in your current working directory. To find the working directory, you can run `getwd()`. \n",
    "\n",
    "TODO: add link to csv\n",
    "TODO: add link to chapter 2"
   ]
  },
  {
   "cell_type": "code",
   "execution_count": 12,
   "metadata": {},
   "outputs": [
    {
     "data": {
      "text/html": [
       "'/Users/Alice/Dropbox/r-for-health-data-science/book'"
      ],
      "text/latex": [
       "'/Users/Alice/Dropbox/r-for-health-data-science/book'"
      ],
      "text/markdown": [
       "'/Users/Alice/Dropbox/r-for-health-data-science/book'"
      ],
      "text/plain": [
       "[1] \"/Users/Alice/Dropbox/r-for-health-data-science/book\""
      ]
     },
     "metadata": {},
     "output_type": "display_data"
    }
   ],
   "source": [
    "getwd()"
   ]
  },
  {
   "cell_type": "markdown",
   "metadata": {},
   "source": [
    "You can either move the csv file to this directory and load it in or specify the path to the csv file. Another option is to update your working directory by using the `setwd` function (e.g. `setwd('/Users/Alice/Project'`). If you receive an error that a file cannot be found, you most likely have the wrong path to the file or the wrong file name. "
   ]
  },
  {
   "cell_type": "code",
   "execution_count": 22,
   "metadata": {},
   "outputs": [
    {
     "data": {
      "text/html": [
       "<table class=\"dataframe\">\n",
       "<caption>A data.frame: 6 × 5</caption>\n",
       "<thead>\n",
       "\t<tr><th scope=col>Name</th><th scope=col>Age</th><th scope=col>DOB</th><th scope=col>City</th><th scope=col>State</th></tr>\n",
       "\t<tr><th scope=col>&lt;chr&gt;</th><th scope=col>&lt;int&gt;</th><th scope=col>&lt;chr&gt;</th><th scope=col>&lt;chr&gt;</th><th scope=col>&lt;chr&gt;</th></tr>\n",
       "</thead>\n",
       "<tbody>\n",
       "\t<tr><td>Ken Irwin          </td><td>37</td><td>6/28/85</td><td>Providence     </td><td>RI</td></tr>\n",
       "\t<tr><td>Delores Whittington</td><td>56</td><td>4/28/67</td><td>Smithfield     </td><td>RI</td></tr>\n",
       "\t<tr><td>Daniel Hughes      </td><td>41</td><td>5/22/82</td><td>Providence     </td><td>RI</td></tr>\n",
       "\t<tr><td>Carlos Fain        </td><td>83</td><td>2/2/40 </td><td>Warren         </td><td>RI</td></tr>\n",
       "\t<tr><td>James Alford       </td><td>67</td><td>2/23/56</td><td>East Providence</td><td>RI</td></tr>\n",
       "\t<tr><td>Ruth Alvarez       </td><td>34</td><td>9/22/88</td><td>Providence     </td><td>RI</td></tr>\n",
       "</tbody>\n",
       "</table>\n"
      ],
      "text/latex": [
       "A data.frame: 6 × 5\n",
       "\\begin{tabular}{lllll}\n",
       " Name & Age & DOB & City & State\\\\\n",
       " <chr> & <int> & <chr> & <chr> & <chr>\\\\\n",
       "\\hline\n",
       "\t Ken Irwin           & 37 & 6/28/85 & Providence      & RI\\\\\n",
       "\t Delores Whittington & 56 & 4/28/67 & Smithfield      & RI\\\\\n",
       "\t Daniel Hughes       & 41 & 5/22/82 & Providence      & RI\\\\\n",
       "\t Carlos Fain         & 83 & 2/2/40  & Warren          & RI\\\\\n",
       "\t James Alford        & 67 & 2/23/56 & East Providence & RI\\\\\n",
       "\t Ruth Alvarez        & 34 & 9/22/88 & Providence      & RI\\\\\n",
       "\\end{tabular}\n"
      ],
      "text/markdown": [
       "\n",
       "A data.frame: 6 × 5\n",
       "\n",
       "| Name &lt;chr&gt; | Age &lt;int&gt; | DOB &lt;chr&gt; | City &lt;chr&gt; | State &lt;chr&gt; |\n",
       "|---|---|---|---|---|\n",
       "| Ken Irwin           | 37 | 6/28/85 | Providence      | RI |\n",
       "| Delores Whittington | 56 | 4/28/67 | Smithfield      | RI |\n",
       "| Daniel Hughes       | 41 | 5/22/82 | Providence      | RI |\n",
       "| Carlos Fain         | 83 | 2/2/40  | Warren          | RI |\n",
       "| James Alford        | 67 | 2/23/56 | East Providence | RI |\n",
       "| Ruth Alvarez        | 34 | 9/22/88 | Providence      | RI |\n",
       "\n"
      ],
      "text/plain": [
       "  Name                Age DOB     City            State\n",
       "1 Ken Irwin           37  6/28/85 Providence      RI   \n",
       "2 Delores Whittington 56  4/28/67 Smithfield      RI   \n",
       "3 Daniel Hughes       41  5/22/82 Providence      RI   \n",
       "4 Carlos Fain         83  2/2/40  Warren          RI   \n",
       "5 James Alford        67  2/23/56 East Providence RI   \n",
       "6 Ruth Alvarez        34  9/22/88 Providence      RI   "
      ]
     },
     "metadata": {},
     "output_type": "display_data"
    }
   ],
   "source": [
    "df <- read.csv(\"data/fake_names.csv\") # you will need to update this with the path to your file\n",
    "df"
   ]
  },
  {
   "cell_type": "markdown",
   "metadata": {},
   "source": [
    "We can see that `df` contains the information from the csv file and R has printed the first few observations of the data. "
   ]
  },
  {
   "cell_type": "markdown",
   "metadata": {},
   "source": [
    "### Installing and Loading Packages\n",
    "\n",
    "When working with data frames, we will often use the `tidyverse` package (https://www.tidyverse.org/). This is actually a collection of R packages for data science applications. An R package is a collection of functions (with documentation) and sometimes sample data. These packages allow us to expand on the functionality of R beyond the base functions. You can check whether you have the `tidyverse` package by going to the package pane in RStudio or running the command below, which will display all your installed packages. \n",
    "\n",
    "`installed.packages()`"
   ]
  },
  {
   "cell_type": "markdown",
   "metadata": {},
   "source": [
    "If you don't already have a package installed, you can install it using the `install.packages` command. Note that you have to have single or double quotes around the package name. You only have to install a package one time.\n",
    "\n",
    "`install.packages('tidyverse')`"
   ]
  },
  {
   "cell_type": "markdown",
   "metadata": {},
   "source": [
    "The function `read_csv` is another function to read in comma-delimited files that is part of the `readr` package in the tidyverse. However, if we tried to use this function to load in our data, we would get an error that the function cannot be found. That is because we haven't loaded in our package. To do so, we use the `library` function. "
   ]
  },
  {
   "cell_type": "code",
   "execution_count": 24,
   "metadata": {},
   "outputs": [
    {
     "ename": "ERROR",
     "evalue": "Error in library(tidyverse): there is no package called ‘tidyverse’\n",
     "output_type": "error",
     "traceback": [
      "Error in library(tidyverse): there is no package called ‘tidyverse’\nTraceback:\n",
      "1. library(tidyverse)"
     ]
    }
   ],
   "source": [
    "library(tidyverse)"
   ]
  },
  {
   "cell_type": "code",
   "execution_count": 19,
   "metadata": {},
   "outputs": [
    {
     "ename": "ERROR",
     "evalue": "Error in read_csv(\"fake_names.csv\"): could not find function \"read_csv\"\n",
     "output_type": "error",
     "traceback": [
      "Error in read_csv(\"fake_names.csv\"): could not find function \"read_csv\"\nTraceback:\n"
     ]
    }
   ],
   "source": [
    "df <- read_csv(\"fake_names.csv\")\n",
    "df"
   ]
  },
  {
   "cell_type": "markdown",
   "metadata": {},
   "source": [
    "Alternatively, we could have told R where to locate the function by adding `readr::` before the function. This tells it to find `read_csv` function in the readr package. This can be helpful even if we have loaded in the package since sometimes multiple packages have functions with the same name. "
   ]
  },
  {
   "cell_type": "code",
   "execution_count": null,
   "metadata": {},
   "outputs": [],
   "source": [
    "df <- readr::read_csv(\"\")\n",
    "df"
   ]
  },
  {
   "cell_type": "markdown",
   "metadata": {},
   "source": [
    "### RStudio Global Options\n",
    "\n",
    "You have now had a basic tour of RStudio. Before we transition to introduce Jupyter Notebooks, take a look at your Global Options (under Tools). We highly recommend that you update your RStudio options to not save your workspace on exiting or load it on starting. This will ensure you create fully reproducible code and avoid possible errors or confusion. \n",
    "\n",
    "TODO: IMAGE"
   ]
  },
  {
   "cell_type": "markdown",
   "metadata": {},
   "source": [
    "## Jupyter Notebooks\n",
    "\n",
    "Jupyter notebooks are an alternative way to to edit and share code. Each chapter of this book was created using a Jupyter notebook and the notebook is the best way to interact with the content. Similar to R Markdown, a Jupyter notebook allows us to intersperse code and text. However, this is done using individual cells that are either markdown (text) or code. These can each run without having to compile the full notebook. Jupyter notebooks can also be created using julia, python, or R (hence the name ju-pyt-er)."
   ]
  },
  {
   "cell_type": "markdown",
   "metadata": {},
   "source": [
    "### Video Tour of Jupyter Notebooks and Binder\n",
    "\n",
    "At the top of this chapter is a button to open this Notebook using Binder. Binder creates an online computational environment to host your notebooks that already has all the R packages you'll need for this book installed. This is the easiest way to interact with the content in this book. Click that link to open this chapter and then view the video below to see how to use this feature when reading this book. \n",
    "\n",
    "TODO: button image"
   ]
  },
  {
   "cell_type": "markdown",
   "metadata": {},
   "source": [
    "## Tips and Reminders\n",
    "\n",
    "We end this chapter with some final tips and reminders. \n",
    "\n",
    "* **Keyboard Shortcuts**: Both RStudio and Jupyter notebooks have useful keyboard shortcuts that will make your programming experience more streamlined. It is worth getting familiar with some of the most common keyboard shortcuts. \n",
    "\n",
    "* **Asking for help**: Within R, you can use the `?` operator or `help()` function to pull up documentation on a given function. This is also available [online](https://rdocumentation.org/).\n",
    "\n",
    "* **Finding all objects**: You can use the Environment panel or `ls()` function to find all current objects. If you have an error that an object you are calling does not exist, look to find where you defined it. \n",
    "\n",
    "* **Checking packages**: If you get an error that a function does not exist, check to make sure you have loaded that package using the `library` function. The list of all packages needed for this book is available here. \n",
    "\n",
    "\n",
    "TODO: create cheatsheets for shortcuts.\n",
    "\n",
    "TODO: creat and link to package list"
   ]
  }
 ],
 "metadata": {
  "kernelspec": {
   "display_name": "R",
   "language": "R",
   "name": "ir"
  },
  "language_info": {
   "codemirror_mode": "r",
   "file_extension": ".r",
   "mimetype": "text/x-r-source",
   "name": "R",
   "pygments_lexer": "r",
   "version": "4.2.0"
  }
 },
 "nbformat": 4,
 "nbformat_minor": 4
}
