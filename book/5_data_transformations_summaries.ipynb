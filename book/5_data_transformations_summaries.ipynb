{
 "cells": [
  {
   "cell_type": "markdown",
   "id": "decec34a",
   "metadata": {},
   "source": [
    "# 5. Data Transformations and Summaries\n",
    "\n",
    "In this chapter, we will introduce the `dyplr` package, which is part of the `tidyverse` group of packages, to expand our tools in exploring and transforming our data. We will learn how to do some basic manipulations of data (e.g. adding or removing columns, filtering data, arranging by one or multiple columns) as well as how to summarize data (e.g. grouping by values, calculating summary statistics). We will also practice combining these operations using the pipe operator `%>%`. We will use the same sample of the National Health and Nutrition Examination Survey ([NHANES](https://www.cdc.gov/nchs/nhanes/index.htm)) as in Chapter 4."
   ]
  },
  {
   "cell_type": "code",
   "execution_count": 1,
   "id": "498f0ef8",
   "metadata": {},
   "outputs": [],
   "source": [
    "library(RforHDSdata)\n",
    "suppressPackageStartupMessages(library(tidyverse))\n",
    "data(NHANESsample)"
   ]
  },
  {
   "cell_type": "markdown",
   "id": "249c783d",
   "metadata": {},
   "source": [
    "## Tibbles and Data Frames\n",
    "\n",
    "Take a look at the class of `NHANESsample`. As we might expect, the data is stored as a data frame.  "
   ]
  },
  {
   "cell_type": "code",
   "execution_count": 2,
   "id": "3767e4cd",
   "metadata": {},
   "outputs": [
    {
     "data": {
      "text/html": [
       "'data.frame'"
      ],
      "text/latex": [
       "'data.frame'"
      ],
      "text/markdown": [
       "'data.frame'"
      ],
      "text/plain": [
       "[1] \"data.frame\""
      ]
     },
     "metadata": {},
     "output_type": "display_data"
    }
   ],
   "source": [
    "class(NHANESsample)"
   ]
  },
  {
   "cell_type": "markdown",
   "id": "d31edaf4",
   "metadata": {},
   "source": [
    "However, the tidyverse also works with another data structure called a **tibble**. A **tibble** has all the properties of data frames that we have learned so far but they are a more modern version of a data frame. To convert our data to this data structure we use the `as_tibble()` function. In practice, there are only very slight difference between the two data structures and you do not need to convert to a tibble. Below we convert our data from a data frame and print the head of the data before converting back to a data frame and repeating. You can see the two structures have a slightly different print statement."
   ]
  },
  {
   "cell_type": "code",
   "execution_count": 3,
   "id": "502fb434",
   "metadata": {},
   "outputs": [
    {
     "name": "stdout",
     "output_type": "stream",
     "text": [
      "\u001b[90m# A tibble: 6 × 21\u001b[39m\n",
      "     ID   AGE SEX    RACE             EDUCATION INCOME SMOKE  YEAR  LEAD BMI_CAT\n",
      "  \u001b[3m\u001b[90m<dbl>\u001b[39m\u001b[23m \u001b[3m\u001b[90m<dbl>\u001b[39m\u001b[23m \u001b[3m\u001b[90m<fct>\u001b[39m\u001b[23m  \u001b[3m\u001b[90m<fct>\u001b[39m\u001b[23m            \u001b[3m\u001b[90m<fct>\u001b[39m\u001b[23m      \u001b[3m\u001b[90m<dbl>\u001b[39m\u001b[23m \u001b[3m\u001b[90m<fct>\u001b[39m\u001b[23m \u001b[3m\u001b[90m<dbl>\u001b[39m\u001b[23m \u001b[3m\u001b[90m<dbl>\u001b[39m\u001b[23m \u001b[3m\u001b[90m<fct>\u001b[39m\u001b[23m  \n",
      "\u001b[90m1\u001b[39m     2    77 Male   Non-Hispanic Wh… MoreThan…   5    Neve…  \u001b[4m1\u001b[24m999   5   BMI<=25\n",
      "\u001b[90m2\u001b[39m     5    49 Male   Non-Hispanic Wh… MoreThan…   5    Quit…  \u001b[4m1\u001b[24m999   1.6 25<BMI…\n",
      "\u001b[90m3\u001b[39m    12    37 Male   Non-Hispanic Wh… MoreThan…   4.93 Neve…  \u001b[4m1\u001b[24m999   2.4 BMI>=30\n",
      "\u001b[90m4\u001b[39m    13    70 Male   Mexican American LessThan…   1.07 Quit…  \u001b[4m1\u001b[24m999   1.6 25<BMI…\n",
      "\u001b[90m5\u001b[39m    14    81 Male   Non-Hispanic Wh… LessThan…   2.67 Stil…  \u001b[4m1\u001b[24m999   5.5 25<BMI…\n",
      "\u001b[90m6\u001b[39m    15    38 Female Non-Hispanic Wh… MoreThan…   4.52 Stil…  \u001b[4m1\u001b[24m999   1.5 25<BMI…\n",
      "\u001b[90m# ℹ 11 more variables: LEAD_QUANTILE <fct>, HYP <dbl>, ALC <chr>, DBP1 <dbl>,\u001b[39m\n",
      "\u001b[90m#   DBP2 <dbl>, DBP3 <dbl>, DBP4 <dbl>, SBP1 <dbl>, SBP2 <dbl>, SBP3 <dbl>,\u001b[39m\n",
      "\u001b[90m#   SBP4 <dbl>\u001b[39m\n"
     ]
    }
   ],
   "source": [
    "nhanes_df <- as_tibble(NHANESsample)\n",
    "print(head(nhanes_df))"
   ]
  },
  {
   "cell_type": "code",
   "execution_count": 4,
   "id": "f36bb902",
   "metadata": {},
   "outputs": [
    {
     "name": "stdout",
     "output_type": "stream",
     "text": [
      "  ID AGE    SEX               RACE  EDUCATION INCOME      SMOKE YEAR LEAD\n",
      "1  2  77   Male Non-Hispanic White MoreThanHS   5.00 NeverSmoke 1999  5.0\n",
      "2  5  49   Male Non-Hispanic White MoreThanHS   5.00  QuitSmoke 1999  1.6\n",
      "3 12  37   Male Non-Hispanic White MoreThanHS   4.93 NeverSmoke 1999  2.4\n",
      "4 13  70   Male   Mexican American LessThanHS   1.07  QuitSmoke 1999  1.6\n",
      "5 14  81   Male Non-Hispanic White LessThanHS   2.67 StillSmoke 1999  5.5\n",
      "6 15  38 Female Non-Hispanic White MoreThanHS   4.52 StillSmoke 1999  1.5\n",
      "    BMI_CAT LEAD_QUANTILE HYP ALC DBP1 DBP2 DBP3 DBP4 SBP1 SBP2 SBP3 SBP4\n",
      "1   BMI<=25            Q4   0 Yes   58   56   56   NA  106   98   98   NA\n",
      "2 25<BMI<30            Q3   1 Yes   82   84   82   NA  122  122  122   NA\n",
      "3   BMI>=30            Q4   1 Yes  108   98  100   NA  182  172  176   NA\n",
      "4 25<BMI<30            Q3   1 Yes   78   62   70   NA  140  130  130   NA\n",
      "5 25<BMI<30            Q4   1 Yes   56   NA   58   64  142   NA  134  138\n",
      "6 25<BMI<30            Q3   0 Yes   68   68   70   NA  106  112  106   NA\n"
     ]
    }
   ],
   "source": [
    "nhanes_df <- as.data.frame(nhanes_df)\n",
    "print(head(nhanes_df))"
   ]
  },
  {
   "cell_type": "markdown",
   "id": "bf28572c",
   "metadata": {},
   "source": [
    "We mention tibbles since some functions in the tidyverse package convert the data to a tibble. In particular, when we summarize over groups below we can expect a tibble to be returned. It is useful to be aware that our data may change data structure and to know that we can always convert back if needed. "
   ]
  },
  {
   "cell_type": "markdown",
   "id": "e5f1274e",
   "metadata": {},
   "source": [
    "## Subsetting Data using `select`, `filter`, and `slice`\n",
    "\n",
    "In earlier chapters, we have seen how to select and filter data by using row and column indices as well as the `subset()` function. The `dplyr` package has its own functions that are useful to subset the data. The `select()` function allows us to select a subset of columns. The function takes in the data frame (or tibble) and the names or indices of the columns we want to select. For example, if we only wanted to select the variables for race and blood lead level we could specify these two columns. To display the result of this selection we use the pipe operator `%>%`. Recall that this takes the result on the left hand side and passes it as the first argument to the function on the right hand side. This shows that there are only two columns in the filtered data.  "
   ]
  },
  {
   "cell_type": "code",
   "execution_count": 5,
   "id": "497567c5",
   "metadata": {},
   "outputs": [
    {
     "data": {
      "text/html": [
       "<table class=\"dataframe\">\n",
       "<caption>A data.frame: 6 × 2</caption>\n",
       "<thead>\n",
       "\t<tr><th></th><th scope=col>RACE</th><th scope=col>LEAD</th></tr>\n",
       "\t<tr><th></th><th scope=col>&lt;fct&gt;</th><th scope=col>&lt;dbl&gt;</th></tr>\n",
       "</thead>\n",
       "<tbody>\n",
       "\t<tr><th scope=row>1</th><td>Non-Hispanic White</td><td>5.0</td></tr>\n",
       "\t<tr><th scope=row>2</th><td>Non-Hispanic White</td><td>1.6</td></tr>\n",
       "\t<tr><th scope=row>3</th><td>Non-Hispanic White</td><td>2.4</td></tr>\n",
       "\t<tr><th scope=row>4</th><td>Mexican American  </td><td>1.6</td></tr>\n",
       "\t<tr><th scope=row>5</th><td>Non-Hispanic White</td><td>5.5</td></tr>\n",
       "\t<tr><th scope=row>6</th><td>Non-Hispanic White</td><td>1.5</td></tr>\n",
       "</tbody>\n",
       "</table>\n"
      ],
      "text/latex": [
       "A data.frame: 6 × 2\n",
       "\\begin{tabular}{r|ll}\n",
       "  & RACE & LEAD\\\\\n",
       "  & <fct> & <dbl>\\\\\n",
       "\\hline\n",
       "\t1 & Non-Hispanic White & 5.0\\\\\n",
       "\t2 & Non-Hispanic White & 1.6\\\\\n",
       "\t3 & Non-Hispanic White & 2.4\\\\\n",
       "\t4 & Mexican American   & 1.6\\\\\n",
       "\t5 & Non-Hispanic White & 5.5\\\\\n",
       "\t6 & Non-Hispanic White & 1.5\\\\\n",
       "\\end{tabular}\n"
      ],
      "text/markdown": [
       "\n",
       "A data.frame: 6 × 2\n",
       "\n",
       "| <!--/--> | RACE &lt;fct&gt; | LEAD &lt;dbl&gt; |\n",
       "|---|---|---|\n",
       "| 1 | Non-Hispanic White | 5.0 |\n",
       "| 2 | Non-Hispanic White | 1.6 |\n",
       "| 3 | Non-Hispanic White | 2.4 |\n",
       "| 4 | Mexican American   | 1.6 |\n",
       "| 5 | Non-Hispanic White | 5.5 |\n",
       "| 6 | Non-Hispanic White | 1.5 |\n",
       "\n"
      ],
      "text/plain": [
       "  RACE               LEAD\n",
       "1 Non-Hispanic White 5.0 \n",
       "2 Non-Hispanic White 1.6 \n",
       "3 Non-Hispanic White 2.4 \n",
       "4 Mexican American   1.6 \n",
       "5 Non-Hispanic White 5.5 \n",
       "6 Non-Hispanic White 1.5 "
      ]
     },
     "metadata": {},
     "output_type": "display_data"
    }
   ],
   "source": [
    "select(nhanes_df, c(RACE, LEAD)) %>% head()"
   ]
  },
  {
   "cell_type": "markdown",
   "id": "b2b48975",
   "metadata": {},
   "source": [
    "The `select()` function can also be used to *remove* columns by using a vector of column names with a negative sign. For example, below we keep all columns except `ID` and `LEAD_QUANTILE`. Note that in this case we have saved the selected data back to our data frame `nhanes_df`. Additionally, this time I used a pipe operator to pipe the data to the select function itself."
   ]
  },
  {
   "cell_type": "code",
   "execution_count": 6,
   "id": "65a8a764",
   "metadata": {},
   "outputs": [
    {
     "data": {
      "text/html": [
       "<style>\n",
       ".list-inline {list-style: none; margin:0; padding: 0}\n",
       ".list-inline>li {display: inline-block}\n",
       ".list-inline>li:not(:last-child)::after {content: \"\\00b7\"; padding: 0 .5ex}\n",
       "</style>\n",
       "<ol class=list-inline><li>'AGE'</li><li>'SEX'</li><li>'RACE'</li><li>'EDUCATION'</li><li>'INCOME'</li><li>'SMOKE'</li><li>'YEAR'</li><li>'LEAD'</li><li>'BMI_CAT'</li><li>'HYP'</li><li>'ALC'</li><li>'DBP1'</li><li>'DBP2'</li><li>'DBP3'</li><li>'DBP4'</li><li>'SBP1'</li><li>'SBP2'</li><li>'SBP3'</li><li>'SBP4'</li></ol>\n"
      ],
      "text/latex": [
       "\\begin{enumerate*}\n",
       "\\item 'AGE'\n",
       "\\item 'SEX'\n",
       "\\item 'RACE'\n",
       "\\item 'EDUCATION'\n",
       "\\item 'INCOME'\n",
       "\\item 'SMOKE'\n",
       "\\item 'YEAR'\n",
       "\\item 'LEAD'\n",
       "\\item 'BMI\\_CAT'\n",
       "\\item 'HYP'\n",
       "\\item 'ALC'\n",
       "\\item 'DBP1'\n",
       "\\item 'DBP2'\n",
       "\\item 'DBP3'\n",
       "\\item 'DBP4'\n",
       "\\item 'SBP1'\n",
       "\\item 'SBP2'\n",
       "\\item 'SBP3'\n",
       "\\item 'SBP4'\n",
       "\\end{enumerate*}\n"
      ],
      "text/markdown": [
       "1. 'AGE'\n",
       "2. 'SEX'\n",
       "3. 'RACE'\n",
       "4. 'EDUCATION'\n",
       "5. 'INCOME'\n",
       "6. 'SMOKE'\n",
       "7. 'YEAR'\n",
       "8. 'LEAD'\n",
       "9. 'BMI_CAT'\n",
       "10. 'HYP'\n",
       "11. 'ALC'\n",
       "12. 'DBP1'\n",
       "13. 'DBP2'\n",
       "14. 'DBP3'\n",
       "15. 'DBP4'\n",
       "16. 'SBP1'\n",
       "17. 'SBP2'\n",
       "18. 'SBP3'\n",
       "19. 'SBP4'\n",
       "\n",
       "\n"
      ],
      "text/plain": [
       " [1] \"AGE\"       \"SEX\"       \"RACE\"      \"EDUCATION\" \"INCOME\"    \"SMOKE\"    \n",
       " [7] \"YEAR\"      \"LEAD\"      \"BMI_CAT\"   \"HYP\"       \"ALC\"       \"DBP1\"     \n",
       "[13] \"DBP2\"      \"DBP3\"      \"DBP4\"      \"SBP1\"      \"SBP2\"      \"SBP3\"     \n",
       "[19] \"SBP4\"     "
      ]
     },
     "metadata": {},
     "output_type": "display_data"
    }
   ],
   "source": [
    "nhanes_df <- nhanes_df %>% select(-c(ID, LEAD_QUANTILE))\n",
    "names(nhanes_df)"
   ]
  },
  {
   "cell_type": "markdown",
   "id": "a2bf5135",
   "metadata": {},
   "source": [
    "While `select()` allows us to choose a subset of columns, the `filter()` function allows us to choose a subset of rows.  The `filter()` function takes a data frame as the first argument and a vector of booleans as the second argument. This vector of booleans can be generated using conditional statements as we used in Chapter 4. Below, we choose the data after 2008."
   ]
  },
  {
   "cell_type": "code",
   "execution_count": 7,
   "id": "8142ac81",
   "metadata": {},
   "outputs": [],
   "source": [
    "nhanes_df_recent <- nhanes_df %>% filter(YEAR >= 2008)"
   ]
  },
  {
   "cell_type": "markdown",
   "id": "141e5e66",
   "metadata": {},
   "source": [
    "We can combine conditions by using multiple `filter` calls, creating a more complicated conditional statement by using the `&` (and), `|` (or), and `%in%` (in) operators, or by separating the conditions with commas within filter. Below, we show three ways to find all the data for males between 2008 and 2012. Note that the `between()` function allows us to capture the logic `YEAR >= 2008 & YEAR <= 2012`. The parentheses here are important to capture the logic we want. In all these examples, we broke our code up into multiple lines. This makes it easier to read. A good rule of thumb is to not go more than 80 characters in a line and R Studio conveinently has a vertical gray line at this limit. To create a new line you can hit enter after an operator (e.g. `%>%`, `+`, `|`) or within a set of unfinished brackets or parentheses. Either of these breaks lets R know that your code is not finished yet. "
   ]
  },
  {
   "cell_type": "code",
   "execution_count": 8,
   "id": "5138416b",
   "metadata": {},
   "outputs": [],
   "source": [
    "# Example 1: multiple filter calls\n",
    "nhanes_df_males1 <- nhanes_df %>%\n",
    "  filter(YEAR <= 2012) %>%\n",
    "  filter(YEAR >= 2008) %>%\n",
    "  filter(SEX == \"Male\")\n",
    "\n",
    "# Example 2: combine with & operator\n",
    "nhanes_df_males2 <- nhanes_df %>%\n",
    "  filter((YEAR <= 2012) & (YEAR >= 2008) & (SEX == \"Male\"))\n",
    "\n",
    "# Example 3: combine into one filter call with commas\n",
    "nhanes_df_males3 <- nhanes_df %>%\n",
    "  filter(between(YEAR, 2008, 2012), SEX == \"Male\")"
   ]
  },
  {
   "cell_type": "markdown",
   "id": "7df9af60",
   "metadata": {},
   "source": [
    "Last, we can subset the data using the `slice()` function to select a slice of rows by their index. The function takes the data set and a vector of indices. Below, we find the first and last rows of the data. "
   ]
  },
  {
   "cell_type": "code",
   "execution_count": 9,
   "id": "60f742ec",
   "metadata": {},
   "outputs": [
    {
     "data": {
      "text/html": [
       "<table class=\"dataframe\">\n",
       "<caption>A data.frame: 2 × 19</caption>\n",
       "<thead>\n",
       "\t<tr><th scope=col>AGE</th><th scope=col>SEX</th><th scope=col>RACE</th><th scope=col>EDUCATION</th><th scope=col>INCOME</th><th scope=col>SMOKE</th><th scope=col>YEAR</th><th scope=col>LEAD</th><th scope=col>BMI_CAT</th><th scope=col>HYP</th><th scope=col>ALC</th><th scope=col>DBP1</th><th scope=col>DBP2</th><th scope=col>DBP3</th><th scope=col>DBP4</th><th scope=col>SBP1</th><th scope=col>SBP2</th><th scope=col>SBP3</th><th scope=col>SBP4</th></tr>\n",
       "\t<tr><th scope=col>&lt;dbl&gt;</th><th scope=col>&lt;fct&gt;</th><th scope=col>&lt;fct&gt;</th><th scope=col>&lt;fct&gt;</th><th scope=col>&lt;dbl&gt;</th><th scope=col>&lt;fct&gt;</th><th scope=col>&lt;dbl&gt;</th><th scope=col>&lt;dbl&gt;</th><th scope=col>&lt;fct&gt;</th><th scope=col>&lt;dbl&gt;</th><th scope=col>&lt;chr&gt;</th><th scope=col>&lt;dbl&gt;</th><th scope=col>&lt;dbl&gt;</th><th scope=col>&lt;dbl&gt;</th><th scope=col>&lt;dbl&gt;</th><th scope=col>&lt;dbl&gt;</th><th scope=col>&lt;dbl&gt;</th><th scope=col>&lt;dbl&gt;</th><th scope=col>&lt;dbl&gt;</th></tr>\n",
       "</thead>\n",
       "<tbody>\n",
       "\t<tr><td>77</td><td>Male</td><td>Non-Hispanic White</td><td>MoreThanHS</td><td>5.00</td><td>NeverSmoke</td><td>1999</td><td>5.0</td><td>BMI&lt;=25</td><td>0</td><td>Yes</td><td>58</td><td>56</td><td>56</td><td>NA</td><td>106</td><td> 98</td><td> 98</td><td>NA</td></tr>\n",
       "\t<tr><td>38</td><td>Male</td><td>Non-Hispanic White</td><td>MoreThanHS</td><td>1.56</td><td>StillSmoke</td><td>2017</td><td>0.9</td><td>BMI&gt;=30</td><td>1</td><td>Yes</td><td>98</td><td>92</td><td>98</td><td>NA</td><td>150</td><td>146</td><td>148</td><td>NA</td></tr>\n",
       "</tbody>\n",
       "</table>\n"
      ],
      "text/latex": [
       "A data.frame: 2 × 19\n",
       "\\begin{tabular}{lllllllllllllllllll}\n",
       " AGE & SEX & RACE & EDUCATION & INCOME & SMOKE & YEAR & LEAD & BMI\\_CAT & HYP & ALC & DBP1 & DBP2 & DBP3 & DBP4 & SBP1 & SBP2 & SBP3 & SBP4\\\\\n",
       " <dbl> & <fct> & <fct> & <fct> & <dbl> & <fct> & <dbl> & <dbl> & <fct> & <dbl> & <chr> & <dbl> & <dbl> & <dbl> & <dbl> & <dbl> & <dbl> & <dbl> & <dbl>\\\\\n",
       "\\hline\n",
       "\t 77 & Male & Non-Hispanic White & MoreThanHS & 5.00 & NeverSmoke & 1999 & 5.0 & BMI<=25 & 0 & Yes & 58 & 56 & 56 & NA & 106 &  98 &  98 & NA\\\\\n",
       "\t 38 & Male & Non-Hispanic White & MoreThanHS & 1.56 & StillSmoke & 2017 & 0.9 & BMI>=30 & 1 & Yes & 98 & 92 & 98 & NA & 150 & 146 & 148 & NA\\\\\n",
       "\\end{tabular}\n"
      ],
      "text/markdown": [
       "\n",
       "A data.frame: 2 × 19\n",
       "\n",
       "| AGE &lt;dbl&gt; | SEX &lt;fct&gt; | RACE &lt;fct&gt; | EDUCATION &lt;fct&gt; | INCOME &lt;dbl&gt; | SMOKE &lt;fct&gt; | YEAR &lt;dbl&gt; | LEAD &lt;dbl&gt; | BMI_CAT &lt;fct&gt; | HYP &lt;dbl&gt; | ALC &lt;chr&gt; | DBP1 &lt;dbl&gt; | DBP2 &lt;dbl&gt; | DBP3 &lt;dbl&gt; | DBP4 &lt;dbl&gt; | SBP1 &lt;dbl&gt; | SBP2 &lt;dbl&gt; | SBP3 &lt;dbl&gt; | SBP4 &lt;dbl&gt; |\n",
       "|---|---|---|---|---|---|---|---|---|---|---|---|---|---|---|---|---|---|---|\n",
       "| 77 | Male | Non-Hispanic White | MoreThanHS | 5.00 | NeverSmoke | 1999 | 5.0 | BMI&lt;=25 | 0 | Yes | 58 | 56 | 56 | NA | 106 |  98 |  98 | NA |\n",
       "| 38 | Male | Non-Hispanic White | MoreThanHS | 1.56 | StillSmoke | 2017 | 0.9 | BMI&gt;=30 | 1 | Yes | 98 | 92 | 98 | NA | 150 | 146 | 148 | NA |\n",
       "\n"
      ],
      "text/plain": [
       "  AGE SEX  RACE               EDUCATION  INCOME SMOKE      YEAR LEAD BMI_CAT\n",
       "1 77  Male Non-Hispanic White MoreThanHS 5.00   NeverSmoke 1999 5.0  BMI<=25\n",
       "2 38  Male Non-Hispanic White MoreThanHS 1.56   StillSmoke 2017 0.9  BMI>=30\n",
       "  HYP ALC DBP1 DBP2 DBP3 DBP4 SBP1 SBP2 SBP3 SBP4\n",
       "1 0   Yes 58   56   56   NA   106   98   98  NA  \n",
       "2 1   Yes 98   92   98   NA   150  146  148  NA  "
      ]
     },
     "metadata": {},
     "output_type": "display_data"
    }
   ],
   "source": [
    "slice(nhanes_df, c(1, nrow(nhanes_df)))"
   ]
  },
  {
   "cell_type": "markdown",
   "id": "288be66b",
   "metadata": {},
   "source": [
    "A few other useful slice functions are `slice_sample()`, `slice_max()`, and `slice_min()`. The first takes in an argument `n` which specifies the number of *random* rows to sample from the data. For example, we could randomly sample 100 rows from our data. The latter two allow us to specify a column through the argument `order_by` and returns the `n` rows with either the highest or lowest values. Below we find the three male observations from 2007 with the highest and lowest blood lead levels and select a subset of columns to display."
   ]
  },
  {
   "cell_type": "code",
   "execution_count": 10,
   "id": "5005b634",
   "metadata": {},
   "outputs": [
    {
     "data": {
      "text/html": [
       "<table class=\"dataframe\">\n",
       "<caption>A data.frame: 3 × 6</caption>\n",
       "<thead>\n",
       "\t<tr><th scope=col>RACE</th><th scope=col>EDUCATION</th><th scope=col>SMOKE</th><th scope=col>LEAD</th><th scope=col>SBP1</th><th scope=col>DBP1</th></tr>\n",
       "\t<tr><th scope=col>&lt;fct&gt;</th><th scope=col>&lt;fct&gt;</th><th scope=col>&lt;fct&gt;</th><th scope=col>&lt;dbl&gt;</th><th scope=col>&lt;dbl&gt;</th><th scope=col>&lt;dbl&gt;</th></tr>\n",
       "</thead>\n",
       "<tbody>\n",
       "\t<tr><td>Non-Hispanic Black</td><td>LessThanHS</td><td>NeverSmoke</td><td>33.1</td><td>106</td><td>66</td></tr>\n",
       "\t<tr><td>Other Hispanic    </td><td>LessThanHS</td><td>StillSmoke</td><td>26.8</td><td>106</td><td>72</td></tr>\n",
       "\t<tr><td>Other Hispanic    </td><td>LessThanHS</td><td>StillSmoke</td><td>25.7</td><td>112</td><td>60</td></tr>\n",
       "</tbody>\n",
       "</table>\n"
      ],
      "text/latex": [
       "A data.frame: 3 × 6\n",
       "\\begin{tabular}{llllll}\n",
       " RACE & EDUCATION & SMOKE & LEAD & SBP1 & DBP1\\\\\n",
       " <fct> & <fct> & <fct> & <dbl> & <dbl> & <dbl>\\\\\n",
       "\\hline\n",
       "\t Non-Hispanic Black & LessThanHS & NeverSmoke & 33.1 & 106 & 66\\\\\n",
       "\t Other Hispanic     & LessThanHS & StillSmoke & 26.8 & 106 & 72\\\\\n",
       "\t Other Hispanic     & LessThanHS & StillSmoke & 25.7 & 112 & 60\\\\\n",
       "\\end{tabular}\n"
      ],
      "text/markdown": [
       "\n",
       "A data.frame: 3 × 6\n",
       "\n",
       "| RACE &lt;fct&gt; | EDUCATION &lt;fct&gt; | SMOKE &lt;fct&gt; | LEAD &lt;dbl&gt; | SBP1 &lt;dbl&gt; | DBP1 &lt;dbl&gt; |\n",
       "|---|---|---|---|---|---|\n",
       "| Non-Hispanic Black | LessThanHS | NeverSmoke | 33.1 | 106 | 66 |\n",
       "| Other Hispanic     | LessThanHS | StillSmoke | 26.8 | 106 | 72 |\n",
       "| Other Hispanic     | LessThanHS | StillSmoke | 25.7 | 112 | 60 |\n",
       "\n"
      ],
      "text/plain": [
       "  RACE               EDUCATION  SMOKE      LEAD SBP1 DBP1\n",
       "1 Non-Hispanic Black LessThanHS NeverSmoke 33.1 106  66  \n",
       "2 Other Hispanic     LessThanHS StillSmoke 26.8 106  72  \n",
       "3 Other Hispanic     LessThanHS StillSmoke 25.7 112  60  "
      ]
     },
     "metadata": {},
     "output_type": "display_data"
    },
    {
     "data": {
      "text/html": [
       "<table class=\"dataframe\">\n",
       "<caption>A data.frame: 3 × 6</caption>\n",
       "<thead>\n",
       "\t<tr><th scope=col>RACE</th><th scope=col>EDUCATION</th><th scope=col>SMOKE</th><th scope=col>LEAD</th><th scope=col>SBP1</th><th scope=col>DBP1</th></tr>\n",
       "\t<tr><th scope=col>&lt;fct&gt;</th><th scope=col>&lt;fct&gt;</th><th scope=col>&lt;fct&gt;</th><th scope=col>&lt;dbl&gt;</th><th scope=col>&lt;dbl&gt;</th><th scope=col>&lt;dbl&gt;</th></tr>\n",
       "</thead>\n",
       "<tbody>\n",
       "\t<tr><td>Non-Hispanic White</td><td>LessThanHS</td><td>NeverSmoke</td><td>0.1767767</td><td>114</td><td>80</td></tr>\n",
       "\t<tr><td>Other Hispanic    </td><td>LessThanHS</td><td>QuitSmoke </td><td>0.2800000</td><td>122</td><td>62</td></tr>\n",
       "\t<tr><td>Mexican American  </td><td>MoreThanHS</td><td>QuitSmoke </td><td>0.3200000</td><td>112</td><td>66</td></tr>\n",
       "</tbody>\n",
       "</table>\n"
      ],
      "text/latex": [
       "A data.frame: 3 × 6\n",
       "\\begin{tabular}{llllll}\n",
       " RACE & EDUCATION & SMOKE & LEAD & SBP1 & DBP1\\\\\n",
       " <fct> & <fct> & <fct> & <dbl> & <dbl> & <dbl>\\\\\n",
       "\\hline\n",
       "\t Non-Hispanic White & LessThanHS & NeverSmoke & 0.1767767 & 114 & 80\\\\\n",
       "\t Other Hispanic     & LessThanHS & QuitSmoke  & 0.2800000 & 122 & 62\\\\\n",
       "\t Mexican American   & MoreThanHS & QuitSmoke  & 0.3200000 & 112 & 66\\\\\n",
       "\\end{tabular}\n"
      ],
      "text/markdown": [
       "\n",
       "A data.frame: 3 × 6\n",
       "\n",
       "| RACE &lt;fct&gt; | EDUCATION &lt;fct&gt; | SMOKE &lt;fct&gt; | LEAD &lt;dbl&gt; | SBP1 &lt;dbl&gt; | DBP1 &lt;dbl&gt; |\n",
       "|---|---|---|---|---|---|\n",
       "| Non-Hispanic White | LessThanHS | NeverSmoke | 0.1767767 | 114 | 80 |\n",
       "| Other Hispanic     | LessThanHS | QuitSmoke  | 0.2800000 | 122 | 62 |\n",
       "| Mexican American   | MoreThanHS | QuitSmoke  | 0.3200000 | 112 | 66 |\n",
       "\n"
      ],
      "text/plain": [
       "  RACE               EDUCATION  SMOKE      LEAD      SBP1 DBP1\n",
       "1 Non-Hispanic White LessThanHS NeverSmoke 0.1767767 114  80  \n",
       "2 Other Hispanic     LessThanHS QuitSmoke  0.2800000 122  62  \n",
       "3 Mexican American   MoreThanHS QuitSmoke  0.3200000 112  66  "
      ]
     },
     "metadata": {},
     "output_type": "display_data"
    }
   ],
   "source": [
    "# three male observations with highest blood lead level in 2007\n",
    "nhanes_df %>%\n",
    "  filter(YEAR == 2007, SEX == \"Male\") %>%\n",
    "  select(c(RACE, EDUCATION, SMOKE, LEAD, SBP1, DBP1)) %>%\n",
    "  slice_max(order_by = LEAD, n=3)\n",
    "\n",
    "# three male observations with lowest blood lead level in 2007\n",
    "nhanes_df %>%\n",
    "  filter(YEAR == 2007, SEX == \"Male\") %>%\n",
    "  select(c(RACE, EDUCATION, SMOKE, LEAD, SBP1, DBP1)) %>%\n",
    "  slice_min(order_by = LEAD, n=3)"
   ]
  },
  {
   "cell_type": "markdown",
   "id": "f9093796",
   "metadata": {},
   "source": [
    "### Practice Question"
   ]
  },
  {
   "cell_type": "markdown",
   "id": "133507a8",
   "metadata": {},
   "source": [
    "## Updating Rows and Columns using `rename`, `mutate`, and `arrange`\n",
    "\n",
    "The next few functions we will look at will allow us to update the rows and columns in our data. For example, the `rename()` function allows us to change the names of columns. Below, we change the name of `INCOME` to `PIR` since this variable is the poverty income ratio and also update the name of `SMOKE` to be `SMOKE_STATUS`. In specifying these names, the new name is on the left and the old name on the right."
   ]
  },
  {
   "cell_type": "code",
   "execution_count": 11,
   "id": "6bcf43ea",
   "metadata": {},
   "outputs": [
    {
     "data": {
      "text/html": [
       "<style>\n",
       ".list-inline {list-style: none; margin:0; padding: 0}\n",
       ".list-inline>li {display: inline-block}\n",
       ".list-inline>li:not(:last-child)::after {content: \"\\00b7\"; padding: 0 .5ex}\n",
       "</style>\n",
       "<ol class=list-inline><li>'AGE'</li><li>'SEX'</li><li>'RACE'</li><li>'EDUCATION'</li><li>'PIR'</li><li>'SMOKE_STATUS'</li><li>'YEAR'</li><li>'LEAD'</li><li>'BMI_CAT'</li><li>'HYP'</li><li>'ALC'</li><li>'DBP1'</li><li>'DBP2'</li><li>'DBP3'</li><li>'DBP4'</li><li>'SBP1'</li><li>'SBP2'</li><li>'SBP3'</li><li>'SBP4'</li></ol>\n"
      ],
      "text/latex": [
       "\\begin{enumerate*}\n",
       "\\item 'AGE'\n",
       "\\item 'SEX'\n",
       "\\item 'RACE'\n",
       "\\item 'EDUCATION'\n",
       "\\item 'PIR'\n",
       "\\item 'SMOKE\\_STATUS'\n",
       "\\item 'YEAR'\n",
       "\\item 'LEAD'\n",
       "\\item 'BMI\\_CAT'\n",
       "\\item 'HYP'\n",
       "\\item 'ALC'\n",
       "\\item 'DBP1'\n",
       "\\item 'DBP2'\n",
       "\\item 'DBP3'\n",
       "\\item 'DBP4'\n",
       "\\item 'SBP1'\n",
       "\\item 'SBP2'\n",
       "\\item 'SBP3'\n",
       "\\item 'SBP4'\n",
       "\\end{enumerate*}\n"
      ],
      "text/markdown": [
       "1. 'AGE'\n",
       "2. 'SEX'\n",
       "3. 'RACE'\n",
       "4. 'EDUCATION'\n",
       "5. 'PIR'\n",
       "6. 'SMOKE_STATUS'\n",
       "7. 'YEAR'\n",
       "8. 'LEAD'\n",
       "9. 'BMI_CAT'\n",
       "10. 'HYP'\n",
       "11. 'ALC'\n",
       "12. 'DBP1'\n",
       "13. 'DBP2'\n",
       "14. 'DBP3'\n",
       "15. 'DBP4'\n",
       "16. 'SBP1'\n",
       "17. 'SBP2'\n",
       "18. 'SBP3'\n",
       "19. 'SBP4'\n",
       "\n",
       "\n"
      ],
      "text/plain": [
       " [1] \"AGE\"          \"SEX\"          \"RACE\"         \"EDUCATION\"    \"PIR\"         \n",
       " [6] \"SMOKE_STATUS\" \"YEAR\"         \"LEAD\"         \"BMI_CAT\"      \"HYP\"         \n",
       "[11] \"ALC\"          \"DBP1\"         \"DBP2\"         \"DBP3\"         \"DBP4\"        \n",
       "[16] \"SBP1\"         \"SBP2\"         \"SBP3\"         \"SBP4\"        "
      ]
     },
     "metadata": {},
     "output_type": "display_data"
    }
   ],
   "source": [
    "nhanes_df <- nhanes_df %>% rename(PIR = INCOME, SMOKE_STATUS = SMOKE)\n",
    "names(nhanes_df)"
   ]
  },
  {
   "cell_type": "markdown",
   "id": "6bcf04da",
   "metadata": {},
   "source": [
    "In the last chapter, we created a new variable called `EVER_SMOKE` based on the smoking status variable. We use the `ifelse()` function to create this variable. Recall that this function allows us to specify a condition and then two alternative values based on whether we meet or do not meet this condition. We see that there are about 15,000 observations that never smoked. "
   ]
  },
  {
   "cell_type": "code",
   "execution_count": 12,
   "id": "a5638519",
   "metadata": {},
   "outputs": [
    {
     "data": {
      "text/plain": [
       ".\n",
       "   No   Yes \n",
       "15087 16178 "
      ]
     },
     "metadata": {},
     "output_type": "display_data"
    }
   ],
   "source": [
    "ifelse(nhanes_df$SMOKE_STATUS == \"NeverSmoke\", \"No\", \"Yes\") %>% table()"
   ]
  },
  {
   "cell_type": "markdown",
   "id": "47578153",
   "metadata": {},
   "source": [
    "Another useful function is the `case_when()` function from the tidyverse. This function is an extension of the `ifelse()` function but allows to specify more than two cases. We demonstrate this function below to show how we could relabel these entries. For each condition, we use the right side of the `~` to specify the value associated with a TRUE for that condition. "
   ]
  },
  {
   "cell_type": "code",
   "execution_count": 13,
   "id": "bbbd6147",
   "metadata": {},
   "outputs": [
    {
     "data": {
      "text/plain": [
       ".\n",
       "Current Smoker   Never Smoked   Quit Smoking \n",
       "          7317          15087           8861 "
      ]
     },
     "metadata": {},
     "output_type": "display_data"
    }
   ],
   "source": [
    "case_when(nhanes_df$SMOKE_STATUS == \"NeverSmoke\" ~ \"Never Smoked\",\n",
    "          nhanes_df$SMOKE_STATUS == \"QuitSmoke\" ~ \"Quit Smoking\",\n",
    "          nhanes_df$SMOKE_STATUS == \"StillSmoke\" ~ \"Current Smoker\") %>% table()"
   ]
  },
  {
   "cell_type": "markdown",
   "id": "1f3f0ca8",
   "metadata": {},
   "source": [
    "Above we did not store the columns we created. To do so, we could use the `$` operator or the  `cbind()` function. The tidyverse also includes an alternative function to add columns called `mutate()`. This function takes in a data frame and a set of columns with associated names to add to the data or update. In the example below, we create the column `EVER_SMOKE` and update the column `SMOKE_STATUS`. Within the `mutate()` function we do not have to use the `$` operator to reference the column `SMOKE_STATUS`. Instead, we can specify just the column name and it will interpret it as that column."
   ]
  },
  {
   "cell_type": "code",
   "execution_count": 14,
   "id": "1398d739",
   "metadata": {},
   "outputs": [],
   "source": [
    "nhanes_df <- nhanes_df %>% \n",
    "  mutate(EVER_SMOKE = ifelse(SMOKE_STATUS == \"NeverSmoke\", \"No\", \"Yes\"), \n",
    "         SMOKE_STATUS = case_when(SMOKE_STATUS == \"NeverSmoke\" ~ \"Never Smoked\",\n",
    "                                  SMOKE_STATUS == \"QuitSmoke\" ~ \"Quit Smoking\",\n",
    "                                  SMOKE_STATUS == \"StillSmoke\" ~ \"Current Smoker\")) "
   ]
  },
  {
   "cell_type": "markdown",
   "id": "84cf2a3b",
   "metadata": {},
   "source": [
    "The last function we will demonstrate in this section is the `arrange()` function. This function takes in a data frame and a vector of columns used to sort the data (data is sorted by the first column with ties being sorted by the second column, etc.). By default, the `arrange()` function sorts in increasing order. We can use the `desc()` function to instead use a descending order. The code below filters to male smokers before sorting by decreasing systolic and diastolic blood pressure. "
   ]
  },
  {
   "cell_type": "code",
   "execution_count": 15,
   "id": "2dd90ad2",
   "metadata": {},
   "outputs": [
    {
     "data": {
      "text/html": [
       "<table class=\"dataframe\">\n",
       "<caption>A data.frame: 10 × 6</caption>\n",
       "<thead>\n",
       "\t<tr><th></th><th scope=col>YEAR</th><th scope=col>SEX</th><th scope=col>SMOKE_STATUS</th><th scope=col>SBP1</th><th scope=col>DBP1</th><th scope=col>LEAD</th></tr>\n",
       "\t<tr><th></th><th scope=col>&lt;dbl&gt;</th><th scope=col>&lt;fct&gt;</th><th scope=col>&lt;chr&gt;</th><th scope=col>&lt;dbl&gt;</th><th scope=col>&lt;dbl&gt;</th><th scope=col>&lt;dbl&gt;</th></tr>\n",
       "</thead>\n",
       "<tbody>\n",
       "\t<tr><th scope=row>1</th><td>2011</td><td>Male</td><td>Current Smoker</td><td>230</td><td>120</td><td>5.84</td></tr>\n",
       "\t<tr><th scope=row>2</th><td>2015</td><td>Male</td><td>Current Smoker</td><td>230</td><td> 98</td><td>1.56</td></tr>\n",
       "\t<tr><th scope=row>3</th><td>2009</td><td>Male</td><td>Current Smoker</td><td>220</td><td> 80</td><td>4.84</td></tr>\n",
       "\t<tr><th scope=row>4</th><td>2001</td><td>Male</td><td>Current Smoker</td><td>218</td><td>118</td><td>3.70</td></tr>\n",
       "\t<tr><th scope=row>5</th><td>2017</td><td>Male</td><td>Current Smoker</td><td>212</td><td>122</td><td>2.20</td></tr>\n",
       "\t<tr><th scope=row>6</th><td>2003</td><td>Male</td><td>Current Smoker</td><td>212</td><td> 54</td><td>4.00</td></tr>\n",
       "\t<tr><th scope=row>7</th><td>2011</td><td>Male</td><td>Current Smoker</td><td>210</td><td> 92</td><td>5.37</td></tr>\n",
       "\t<tr><th scope=row>8</th><td>2007</td><td>Male</td><td>Current Smoker</td><td>210</td><td> 80</td><td>2.18</td></tr>\n",
       "\t<tr><th scope=row>9</th><td>2015</td><td>Male</td><td>Current Smoker</td><td>206</td><td>108</td><td>1.44</td></tr>\n",
       "\t<tr><th scope=row>10</th><td>2003</td><td>Male</td><td>Current Smoker</td><td>206</td><td> 68</td><td>1.80</td></tr>\n",
       "</tbody>\n",
       "</table>\n"
      ],
      "text/latex": [
       "A data.frame: 10 × 6\n",
       "\\begin{tabular}{r|llllll}\n",
       "  & YEAR & SEX & SMOKE\\_STATUS & SBP1 & DBP1 & LEAD\\\\\n",
       "  & <dbl> & <fct> & <chr> & <dbl> & <dbl> & <dbl>\\\\\n",
       "\\hline\n",
       "\t1 & 2011 & Male & Current Smoker & 230 & 120 & 5.84\\\\\n",
       "\t2 & 2015 & Male & Current Smoker & 230 &  98 & 1.56\\\\\n",
       "\t3 & 2009 & Male & Current Smoker & 220 &  80 & 4.84\\\\\n",
       "\t4 & 2001 & Male & Current Smoker & 218 & 118 & 3.70\\\\\n",
       "\t5 & 2017 & Male & Current Smoker & 212 & 122 & 2.20\\\\\n",
       "\t6 & 2003 & Male & Current Smoker & 212 &  54 & 4.00\\\\\n",
       "\t7 & 2011 & Male & Current Smoker & 210 &  92 & 5.37\\\\\n",
       "\t8 & 2007 & Male & Current Smoker & 210 &  80 & 2.18\\\\\n",
       "\t9 & 2015 & Male & Current Smoker & 206 & 108 & 1.44\\\\\n",
       "\t10 & 2003 & Male & Current Smoker & 206 &  68 & 1.80\\\\\n",
       "\\end{tabular}\n"
      ],
      "text/markdown": [
       "\n",
       "A data.frame: 10 × 6\n",
       "\n",
       "| <!--/--> | YEAR &lt;dbl&gt; | SEX &lt;fct&gt; | SMOKE_STATUS &lt;chr&gt; | SBP1 &lt;dbl&gt; | DBP1 &lt;dbl&gt; | LEAD &lt;dbl&gt; |\n",
       "|---|---|---|---|---|---|---|\n",
       "| 1 | 2011 | Male | Current Smoker | 230 | 120 | 5.84 |\n",
       "| 2 | 2015 | Male | Current Smoker | 230 |  98 | 1.56 |\n",
       "| 3 | 2009 | Male | Current Smoker | 220 |  80 | 4.84 |\n",
       "| 4 | 2001 | Male | Current Smoker | 218 | 118 | 3.70 |\n",
       "| 5 | 2017 | Male | Current Smoker | 212 | 122 | 2.20 |\n",
       "| 6 | 2003 | Male | Current Smoker | 212 |  54 | 4.00 |\n",
       "| 7 | 2011 | Male | Current Smoker | 210 |  92 | 5.37 |\n",
       "| 8 | 2007 | Male | Current Smoker | 210 |  80 | 2.18 |\n",
       "| 9 | 2015 | Male | Current Smoker | 206 | 108 | 1.44 |\n",
       "| 10 | 2003 | Male | Current Smoker | 206 |  68 | 1.80 |\n",
       "\n"
      ],
      "text/plain": [
       "   YEAR SEX  SMOKE_STATUS   SBP1 DBP1 LEAD\n",
       "1  2011 Male Current Smoker 230  120  5.84\n",
       "2  2015 Male Current Smoker 230   98  1.56\n",
       "3  2009 Male Current Smoker 220   80  4.84\n",
       "4  2001 Male Current Smoker 218  118  3.70\n",
       "5  2017 Male Current Smoker 212  122  2.20\n",
       "6  2003 Male Current Smoker 212   54  4.00\n",
       "7  2011 Male Current Smoker 210   92  5.37\n",
       "8  2007 Male Current Smoker 210   80  2.18\n",
       "9  2015 Male Current Smoker 206  108  1.44\n",
       "10 2003 Male Current Smoker 206   68  1.80"
      ]
     },
     "metadata": {},
     "output_type": "display_data"
    }
   ],
   "source": [
    "nhanes_df %>% \n",
    "  select(c(YEAR, SEX, SMOKE_STATUS, SBP1, DBP1, LEAD)) %>%\n",
    "  filter(SEX == \"Male\", SMOKE_STATUS == \"Current Smoker\") %>%\n",
    "  arrange(desc(SBP1), desc(DBP1)) %>%\n",
    "  head(10)"
   ]
  },
  {
   "cell_type": "markdown",
   "id": "e505c491",
   "metadata": {},
   "source": [
    "### Practice Question\n",
    "\n",
    "TODO\n"
   ]
  },
  {
   "cell_type": "markdown",
   "id": "e3a8ac7d",
   "metadata": {},
   "source": [
    "## Summarizing using `summarize` and `group_by`"
   ]
  },
  {
   "cell_type": "markdown",
   "id": "86b5c27d",
   "metadata": {},
   "source": [
    "If we wanted to understand how many observations there are for each given race category, we could use the `table()` function. Another similar function is the `count()` function. This function takes in a data frame and one or more variables and counts the number of rows for each combination of unique value. If no columns are specified, it counts the total number of rows. Below, we find the total number of rows (31,265) and the number of observations by race and year. We can see that the number in each group fluctuates quite a bit!"
   ]
  },
  {
   "cell_type": "code",
   "execution_count": 16,
   "id": "114f3722",
   "metadata": {},
   "outputs": [
    {
     "data": {
      "text/html": [
       "<table class=\"dataframe\">\n",
       "<caption>A data.frame: 1 × 1</caption>\n",
       "<thead>\n",
       "\t<tr><th scope=col>n</th></tr>\n",
       "\t<tr><th scope=col>&lt;int&gt;</th></tr>\n",
       "</thead>\n",
       "<tbody>\n",
       "\t<tr><td>31265</td></tr>\n",
       "</tbody>\n",
       "</table>\n"
      ],
      "text/latex": [
       "A data.frame: 1 × 1\n",
       "\\begin{tabular}{l}\n",
       " n\\\\\n",
       " <int>\\\\\n",
       "\\hline\n",
       "\t 31265\\\\\n",
       "\\end{tabular}\n"
      ],
      "text/markdown": [
       "\n",
       "A data.frame: 1 × 1\n",
       "\n",
       "| n &lt;int&gt; |\n",
       "|---|\n",
       "| 31265 |\n",
       "\n"
      ],
      "text/plain": [
       "  n    \n",
       "1 31265"
      ]
     },
     "metadata": {},
     "output_type": "display_data"
    },
    {
     "data": {
      "text/html": [
       "<table class=\"dataframe\">\n",
       "<caption>A data.frame: 50 × 3</caption>\n",
       "<thead>\n",
       "\t<tr><th scope=col>RACE</th><th scope=col>YEAR</th><th scope=col>n</th></tr>\n",
       "\t<tr><th scope=col>&lt;fct&gt;</th><th scope=col>&lt;dbl&gt;</th><th scope=col>&lt;int&gt;</th></tr>\n",
       "</thead>\n",
       "<tbody>\n",
       "\t<tr><td>Mexican American  </td><td>1999</td><td> 713</td></tr>\n",
       "\t<tr><td>Mexican American  </td><td>2001</td><td> 674</td></tr>\n",
       "\t<tr><td>Mexican American  </td><td>2003</td><td> 627</td></tr>\n",
       "\t<tr><td>Mexican American  </td><td>2005</td><td> 634</td></tr>\n",
       "\t<tr><td>Mexican American  </td><td>2007</td><td> 639</td></tr>\n",
       "\t<tr><td>Mexican American  </td><td>2009</td><td> 672</td></tr>\n",
       "\t<tr><td>Mexican American  </td><td>2011</td><td> 322</td></tr>\n",
       "\t<tr><td>Mexican American  </td><td>2013</td><td> 234</td></tr>\n",
       "\t<tr><td>Mexican American  </td><td>2015</td><td> 287</td></tr>\n",
       "\t<tr><td>Mexican American  </td><td>2017</td><td> 475</td></tr>\n",
       "\t<tr><td>Other Hispanic    </td><td>1999</td><td> 181</td></tr>\n",
       "\t<tr><td>Other Hispanic    </td><td>2001</td><td> 129</td></tr>\n",
       "\t<tr><td>Other Hispanic    </td><td>2003</td><td>  80</td></tr>\n",
       "\t<tr><td>Other Hispanic    </td><td>2005</td><td>  96</td></tr>\n",
       "\t<tr><td>Other Hispanic    </td><td>2007</td><td> 395</td></tr>\n",
       "\t<tr><td>Other Hispanic    </td><td>2009</td><td> 367</td></tr>\n",
       "\t<tr><td>Other Hispanic    </td><td>2011</td><td> 337</td></tr>\n",
       "\t<tr><td>Other Hispanic    </td><td>2013</td><td> 167</td></tr>\n",
       "\t<tr><td>Other Hispanic    </td><td>2015</td><td> 214</td></tr>\n",
       "\t<tr><td>Other Hispanic    </td><td>2017</td><td> 313</td></tr>\n",
       "\t<tr><td>Non-Hispanic White</td><td>1999</td><td>1401</td></tr>\n",
       "\t<tr><td>Non-Hispanic White</td><td>2001</td><td>1882</td></tr>\n",
       "\t<tr><td>Non-Hispanic White</td><td>2003</td><td>1785</td></tr>\n",
       "\t<tr><td>Non-Hispanic White</td><td>2005</td><td>1818</td></tr>\n",
       "\t<tr><td>Non-Hispanic White</td><td>2007</td><td>1940</td></tr>\n",
       "\t<tr><td>Non-Hispanic White</td><td>2009</td><td>2169</td></tr>\n",
       "\t<tr><td>Non-Hispanic White</td><td>2011</td><td>1463</td></tr>\n",
       "\t<tr><td>Non-Hispanic White</td><td>2013</td><td> 917</td></tr>\n",
       "\t<tr><td>Non-Hispanic White</td><td>2015</td><td> 685</td></tr>\n",
       "\t<tr><td>Non-Hispanic White</td><td>2017</td><td>1413</td></tr>\n",
       "\t<tr><td>Non-Hispanic Black</td><td>1999</td><td> 463</td></tr>\n",
       "\t<tr><td>Non-Hispanic Black</td><td>2001</td><td> 542</td></tr>\n",
       "\t<tr><td>Non-Hispanic Black</td><td>2003</td><td> 576</td></tr>\n",
       "\t<tr><td>Non-Hispanic Black</td><td>2005</td><td> 679</td></tr>\n",
       "\t<tr><td>Non-Hispanic Black</td><td>2007</td><td> 728</td></tr>\n",
       "\t<tr><td>Non-Hispanic Black</td><td>2009</td><td> 661</td></tr>\n",
       "\t<tr><td>Non-Hispanic Black</td><td>2011</td><td> 876</td></tr>\n",
       "\t<tr><td>Non-Hispanic Black</td><td>2013</td><td> 357</td></tr>\n",
       "\t<tr><td>Non-Hispanic Black</td><td>2015</td><td> 351</td></tr>\n",
       "\t<tr><td>Non-Hispanic Black</td><td>2017</td><td> 808</td></tr>\n",
       "\t<tr><td>Other Race        </td><td>1999</td><td>  76</td></tr>\n",
       "\t<tr><td>Other Race        </td><td>2001</td><td>  88</td></tr>\n",
       "\t<tr><td>Other Race        </td><td>2003</td><td> 109</td></tr>\n",
       "\t<tr><td>Other Race        </td><td>2005</td><td> 122</td></tr>\n",
       "\t<tr><td>Other Race        </td><td>2007</td><td> 123</td></tr>\n",
       "\t<tr><td>Other Race        </td><td>2009</td><td> 175</td></tr>\n",
       "\t<tr><td>Other Race        </td><td>2011</td><td> 475</td></tr>\n",
       "\t<tr><td>Other Race        </td><td>2013</td><td> 223</td></tr>\n",
       "\t<tr><td>Other Race        </td><td>2015</td><td> 209</td></tr>\n",
       "\t<tr><td>Other Race        </td><td>2017</td><td> 595</td></tr>\n",
       "</tbody>\n",
       "</table>\n"
      ],
      "text/latex": [
       "A data.frame: 50 × 3\n",
       "\\begin{tabular}{lll}\n",
       " RACE & YEAR & n\\\\\n",
       " <fct> & <dbl> & <int>\\\\\n",
       "\\hline\n",
       "\t Mexican American   & 1999 &  713\\\\\n",
       "\t Mexican American   & 2001 &  674\\\\\n",
       "\t Mexican American   & 2003 &  627\\\\\n",
       "\t Mexican American   & 2005 &  634\\\\\n",
       "\t Mexican American   & 2007 &  639\\\\\n",
       "\t Mexican American   & 2009 &  672\\\\\n",
       "\t Mexican American   & 2011 &  322\\\\\n",
       "\t Mexican American   & 2013 &  234\\\\\n",
       "\t Mexican American   & 2015 &  287\\\\\n",
       "\t Mexican American   & 2017 &  475\\\\\n",
       "\t Other Hispanic     & 1999 &  181\\\\\n",
       "\t Other Hispanic     & 2001 &  129\\\\\n",
       "\t Other Hispanic     & 2003 &   80\\\\\n",
       "\t Other Hispanic     & 2005 &   96\\\\\n",
       "\t Other Hispanic     & 2007 &  395\\\\\n",
       "\t Other Hispanic     & 2009 &  367\\\\\n",
       "\t Other Hispanic     & 2011 &  337\\\\\n",
       "\t Other Hispanic     & 2013 &  167\\\\\n",
       "\t Other Hispanic     & 2015 &  214\\\\\n",
       "\t Other Hispanic     & 2017 &  313\\\\\n",
       "\t Non-Hispanic White & 1999 & 1401\\\\\n",
       "\t Non-Hispanic White & 2001 & 1882\\\\\n",
       "\t Non-Hispanic White & 2003 & 1785\\\\\n",
       "\t Non-Hispanic White & 2005 & 1818\\\\\n",
       "\t Non-Hispanic White & 2007 & 1940\\\\\n",
       "\t Non-Hispanic White & 2009 & 2169\\\\\n",
       "\t Non-Hispanic White & 2011 & 1463\\\\\n",
       "\t Non-Hispanic White & 2013 &  917\\\\\n",
       "\t Non-Hispanic White & 2015 &  685\\\\\n",
       "\t Non-Hispanic White & 2017 & 1413\\\\\n",
       "\t Non-Hispanic Black & 1999 &  463\\\\\n",
       "\t Non-Hispanic Black & 2001 &  542\\\\\n",
       "\t Non-Hispanic Black & 2003 &  576\\\\\n",
       "\t Non-Hispanic Black & 2005 &  679\\\\\n",
       "\t Non-Hispanic Black & 2007 &  728\\\\\n",
       "\t Non-Hispanic Black & 2009 &  661\\\\\n",
       "\t Non-Hispanic Black & 2011 &  876\\\\\n",
       "\t Non-Hispanic Black & 2013 &  357\\\\\n",
       "\t Non-Hispanic Black & 2015 &  351\\\\\n",
       "\t Non-Hispanic Black & 2017 &  808\\\\\n",
       "\t Other Race         & 1999 &   76\\\\\n",
       "\t Other Race         & 2001 &   88\\\\\n",
       "\t Other Race         & 2003 &  109\\\\\n",
       "\t Other Race         & 2005 &  122\\\\\n",
       "\t Other Race         & 2007 &  123\\\\\n",
       "\t Other Race         & 2009 &  175\\\\\n",
       "\t Other Race         & 2011 &  475\\\\\n",
       "\t Other Race         & 2013 &  223\\\\\n",
       "\t Other Race         & 2015 &  209\\\\\n",
       "\t Other Race         & 2017 &  595\\\\\n",
       "\\end{tabular}\n"
      ],
      "text/markdown": [
       "\n",
       "A data.frame: 50 × 3\n",
       "\n",
       "| RACE &lt;fct&gt; | YEAR &lt;dbl&gt; | n &lt;int&gt; |\n",
       "|---|---|---|\n",
       "| Mexican American   | 1999 |  713 |\n",
       "| Mexican American   | 2001 |  674 |\n",
       "| Mexican American   | 2003 |  627 |\n",
       "| Mexican American   | 2005 |  634 |\n",
       "| Mexican American   | 2007 |  639 |\n",
       "| Mexican American   | 2009 |  672 |\n",
       "| Mexican American   | 2011 |  322 |\n",
       "| Mexican American   | 2013 |  234 |\n",
       "| Mexican American   | 2015 |  287 |\n",
       "| Mexican American   | 2017 |  475 |\n",
       "| Other Hispanic     | 1999 |  181 |\n",
       "| Other Hispanic     | 2001 |  129 |\n",
       "| Other Hispanic     | 2003 |   80 |\n",
       "| Other Hispanic     | 2005 |   96 |\n",
       "| Other Hispanic     | 2007 |  395 |\n",
       "| Other Hispanic     | 2009 |  367 |\n",
       "| Other Hispanic     | 2011 |  337 |\n",
       "| Other Hispanic     | 2013 |  167 |\n",
       "| Other Hispanic     | 2015 |  214 |\n",
       "| Other Hispanic     | 2017 |  313 |\n",
       "| Non-Hispanic White | 1999 | 1401 |\n",
       "| Non-Hispanic White | 2001 | 1882 |\n",
       "| Non-Hispanic White | 2003 | 1785 |\n",
       "| Non-Hispanic White | 2005 | 1818 |\n",
       "| Non-Hispanic White | 2007 | 1940 |\n",
       "| Non-Hispanic White | 2009 | 2169 |\n",
       "| Non-Hispanic White | 2011 | 1463 |\n",
       "| Non-Hispanic White | 2013 |  917 |\n",
       "| Non-Hispanic White | 2015 |  685 |\n",
       "| Non-Hispanic White | 2017 | 1413 |\n",
       "| Non-Hispanic Black | 1999 |  463 |\n",
       "| Non-Hispanic Black | 2001 |  542 |\n",
       "| Non-Hispanic Black | 2003 |  576 |\n",
       "| Non-Hispanic Black | 2005 |  679 |\n",
       "| Non-Hispanic Black | 2007 |  728 |\n",
       "| Non-Hispanic Black | 2009 |  661 |\n",
       "| Non-Hispanic Black | 2011 |  876 |\n",
       "| Non-Hispanic Black | 2013 |  357 |\n",
       "| Non-Hispanic Black | 2015 |  351 |\n",
       "| Non-Hispanic Black | 2017 |  808 |\n",
       "| Other Race         | 1999 |   76 |\n",
       "| Other Race         | 2001 |   88 |\n",
       "| Other Race         | 2003 |  109 |\n",
       "| Other Race         | 2005 |  122 |\n",
       "| Other Race         | 2007 |  123 |\n",
       "| Other Race         | 2009 |  175 |\n",
       "| Other Race         | 2011 |  475 |\n",
       "| Other Race         | 2013 |  223 |\n",
       "| Other Race         | 2015 |  209 |\n",
       "| Other Race         | 2017 |  595 |\n",
       "\n"
      ],
      "text/plain": [
       "   RACE               YEAR n   \n",
       "1  Mexican American   1999  713\n",
       "2  Mexican American   2001  674\n",
       "3  Mexican American   2003  627\n",
       "4  Mexican American   2005  634\n",
       "5  Mexican American   2007  639\n",
       "6  Mexican American   2009  672\n",
       "7  Mexican American   2011  322\n",
       "8  Mexican American   2013  234\n",
       "9  Mexican American   2015  287\n",
       "10 Mexican American   2017  475\n",
       "11 Other Hispanic     1999  181\n",
       "12 Other Hispanic     2001  129\n",
       "13 Other Hispanic     2003   80\n",
       "14 Other Hispanic     2005   96\n",
       "15 Other Hispanic     2007  395\n",
       "16 Other Hispanic     2009  367\n",
       "17 Other Hispanic     2011  337\n",
       "18 Other Hispanic     2013  167\n",
       "19 Other Hispanic     2015  214\n",
       "20 Other Hispanic     2017  313\n",
       "21 Non-Hispanic White 1999 1401\n",
       "22 Non-Hispanic White 2001 1882\n",
       "23 Non-Hispanic White 2003 1785\n",
       "24 Non-Hispanic White 2005 1818\n",
       "25 Non-Hispanic White 2007 1940\n",
       "26 Non-Hispanic White 2009 2169\n",
       "27 Non-Hispanic White 2011 1463\n",
       "28 Non-Hispanic White 2013  917\n",
       "29 Non-Hispanic White 2015  685\n",
       "30 Non-Hispanic White 2017 1413\n",
       "31 Non-Hispanic Black 1999  463\n",
       "32 Non-Hispanic Black 2001  542\n",
       "33 Non-Hispanic Black 2003  576\n",
       "34 Non-Hispanic Black 2005  679\n",
       "35 Non-Hispanic Black 2007  728\n",
       "36 Non-Hispanic Black 2009  661\n",
       "37 Non-Hispanic Black 2011  876\n",
       "38 Non-Hispanic Black 2013  357\n",
       "39 Non-Hispanic Black 2015  351\n",
       "40 Non-Hispanic Black 2017  808\n",
       "41 Other Race         1999   76\n",
       "42 Other Race         2001   88\n",
       "43 Other Race         2003  109\n",
       "44 Other Race         2005  122\n",
       "45 Other Race         2007  123\n",
       "46 Other Race         2009  175\n",
       "47 Other Race         2011  475\n",
       "48 Other Race         2013  223\n",
       "49 Other Race         2015  209\n",
       "50 Other Race         2017  595"
      ]
     },
     "metadata": {},
     "output_type": "display_data"
    }
   ],
   "source": [
    "count(nhanes_df)\n",
    "count(nhanes_df, RACE, YEAR)"
   ]
  },
  {
   "cell_type": "markdown",
   "id": "1f2b0e9d",
   "metadata": {},
   "source": [
    "Finding the count is a form of a summary statistic for our data. The `summarize()` function is used to compute summary statistics of the data and allows us to compute multiple statistics. The `summarize()` function takes in a data frame and one or more summary functions based on the given column variables. In the example below, we find the total number of observations and the mean and median systolic blood pressure for Non-Hispanic Blacks. Note that the `n()` function is the function within `summarize()` that finds the number of observations. In the `mean()` and `median()` functions we set `na.rm=TRUE` to remove NAs before computing the value (otherwise we could get NA as our output)."
   ]
  },
  {
   "cell_type": "code",
   "execution_count": 17,
   "id": "ea3f5111",
   "metadata": {},
   "outputs": [
    {
     "data": {
      "text/html": [
       "<table class=\"dataframe\">\n",
       "<caption>A data.frame: 1 × 3</caption>\n",
       "<thead>\n",
       "\t<tr><th scope=col>TOT</th><th scope=col>MEAN_SBP</th><th scope=col>MEAN_DBP</th></tr>\n",
       "\t<tr><th scope=col>&lt;int&gt;</th><th scope=col>&lt;dbl&gt;</th><th scope=col>&lt;dbl&gt;</th></tr>\n",
       "</thead>\n",
       "<tbody>\n",
       "\t<tr><td>6041</td><td>128.7584</td><td>72.59694</td></tr>\n",
       "</tbody>\n",
       "</table>\n"
      ],
      "text/latex": [
       "A data.frame: 1 × 3\n",
       "\\begin{tabular}{lll}\n",
       " TOT & MEAN\\_SBP & MEAN\\_DBP\\\\\n",
       " <int> & <dbl> & <dbl>\\\\\n",
       "\\hline\n",
       "\t 6041 & 128.7584 & 72.59694\\\\\n",
       "\\end{tabular}\n"
      ],
      "text/markdown": [
       "\n",
       "A data.frame: 1 × 3\n",
       "\n",
       "| TOT &lt;int&gt; | MEAN_SBP &lt;dbl&gt; | MEAN_DBP &lt;dbl&gt; |\n",
       "|---|---|---|\n",
       "| 6041 | 128.7584 | 72.59694 |\n",
       "\n"
      ],
      "text/plain": [
       "  TOT  MEAN_SBP MEAN_DBP\n",
       "1 6041 128.7584 72.59694"
      ]
     },
     "metadata": {},
     "output_type": "display_data"
    }
   ],
   "source": [
    "nhanes_df %>%\n",
    "  filter(RACE == \"Non-Hispanic Black\") %>%\n",
    "  summarize(TOT = n(), MEAN_SBP = mean(SBP1, na.rm=TRUE), MEAN_DBP = mean(DBP1, na.rm=TRUE))"
   ]
  },
  {
   "cell_type": "markdown",
   "id": "8b427b50",
   "metadata": {},
   "source": [
    "If we wanted to repeat this for the other race groups, we would have to change our filter each time. To avoid doing so, the `group_by()` function which takes a data frame and one or more columns with which to group data with the same values by. Below we group using the `RACE` variable. When we look at printed output it looks like before but we see that it is a grouped data frame as the class printed at the top. In fact, a grouped data frame (or grouped tibble) acts like a set of data frames: one for each group. If we use the `slice()` function with index 1 it will return the first row for each group."
   ]
  },
  {
   "cell_type": "code",
   "execution_count": 18,
   "id": "2fba95eb",
   "metadata": {},
   "outputs": [
    {
     "data": {
      "text/html": [
       "<table class=\"dataframe\">\n",
       "<caption>A grouped_df: 5 × 20</caption>\n",
       "<thead>\n",
       "\t<tr><th scope=col>AGE</th><th scope=col>SEX</th><th scope=col>RACE</th><th scope=col>EDUCATION</th><th scope=col>PIR</th><th scope=col>SMOKE_STATUS</th><th scope=col>YEAR</th><th scope=col>LEAD</th><th scope=col>BMI_CAT</th><th scope=col>HYP</th><th scope=col>ALC</th><th scope=col>DBP1</th><th scope=col>DBP2</th><th scope=col>DBP3</th><th scope=col>DBP4</th><th scope=col>SBP1</th><th scope=col>SBP2</th><th scope=col>SBP3</th><th scope=col>SBP4</th><th scope=col>EVER_SMOKE</th></tr>\n",
       "\t<tr><th scope=col>&lt;dbl&gt;</th><th scope=col>&lt;fct&gt;</th><th scope=col>&lt;fct&gt;</th><th scope=col>&lt;fct&gt;</th><th scope=col>&lt;dbl&gt;</th><th scope=col>&lt;chr&gt;</th><th scope=col>&lt;dbl&gt;</th><th scope=col>&lt;dbl&gt;</th><th scope=col>&lt;fct&gt;</th><th scope=col>&lt;dbl&gt;</th><th scope=col>&lt;chr&gt;</th><th scope=col>&lt;dbl&gt;</th><th scope=col>&lt;dbl&gt;</th><th scope=col>&lt;dbl&gt;</th><th scope=col>&lt;dbl&gt;</th><th scope=col>&lt;dbl&gt;</th><th scope=col>&lt;dbl&gt;</th><th scope=col>&lt;dbl&gt;</th><th scope=col>&lt;dbl&gt;</th><th scope=col>&lt;chr&gt;</th></tr>\n",
       "</thead>\n",
       "<tbody>\n",
       "\t<tr><td>70</td><td><span style=white-space:pre-wrap>Male  </span></td><td><span style=white-space:pre-wrap>Mexican American  </span></td><td>LessThanHS</td><td>1.07</td><td><span style=white-space:pre-wrap>Quit Smoking  </span></td><td>1999</td><td>1.6</td><td>25&lt;BMI&lt;30</td><td>1</td><td>Yes</td><td>78</td><td>62</td><td>70</td><td>NA</td><td>140</td><td>130</td><td>130</td><td>NA</td><td>Yes</td></tr>\n",
       "\t<tr><td>61</td><td>Female</td><td><span style=white-space:pre-wrap>Other Hispanic    </span></td><td>MoreThanHS</td><td>3.33</td><td>Current Smoker</td><td>1999</td><td>2.2</td><td><span style=white-space:pre-wrap>BMI&lt;=25  </span></td><td>0</td><td>Yes</td><td>70</td><td>60</td><td>74</td><td>NA</td><td>106</td><td>110</td><td>116</td><td>NA</td><td>Yes</td></tr>\n",
       "\t<tr><td>77</td><td><span style=white-space:pre-wrap>Male  </span></td><td>Non-Hispanic White</td><td>MoreThanHS</td><td>5.00</td><td><span style=white-space:pre-wrap>Never Smoked  </span></td><td>1999</td><td>5.0</td><td><span style=white-space:pre-wrap>BMI&lt;=25  </span></td><td>0</td><td>Yes</td><td>58</td><td>56</td><td>56</td><td>NA</td><td>106</td><td> 98</td><td> 98</td><td>NA</td><td>No </td></tr>\n",
       "\t<tr><td>38</td><td>Female</td><td>Non-Hispanic Black</td><td><span style=white-space:pre-wrap>HS        </span></td><td>0.92</td><td>Current Smoker</td><td>1999</td><td>1.8</td><td>25&lt;BMI&lt;30</td><td>0</td><td>Yes</td><td>76</td><td>80</td><td>74</td><td>NA</td><td>116</td><td>116</td><td>114</td><td>NA</td><td>Yes</td></tr>\n",
       "\t<tr><td>63</td><td>Female</td><td><span style=white-space:pre-wrap>Other Race        </span></td><td>MoreThanHS</td><td>5.00</td><td><span style=white-space:pre-wrap>Never Smoked  </span></td><td>1999</td><td>1.2</td><td><span style=white-space:pre-wrap>BMI&lt;=25  </span></td><td>1</td><td>Yes</td><td>66</td><td>78</td><td>82</td><td>NA</td><td>120</td><td>118</td><td>118</td><td>NA</td><td>No </td></tr>\n",
       "</tbody>\n",
       "</table>\n"
      ],
      "text/latex": [
       "A grouped\\_df: 5 × 20\n",
       "\\begin{tabular}{llllllllllllllllllll}\n",
       " AGE & SEX & RACE & EDUCATION & PIR & SMOKE\\_STATUS & YEAR & LEAD & BMI\\_CAT & HYP & ALC & DBP1 & DBP2 & DBP3 & DBP4 & SBP1 & SBP2 & SBP3 & SBP4 & EVER\\_SMOKE\\\\\n",
       " <dbl> & <fct> & <fct> & <fct> & <dbl> & <chr> & <dbl> & <dbl> & <fct> & <dbl> & <chr> & <dbl> & <dbl> & <dbl> & <dbl> & <dbl> & <dbl> & <dbl> & <dbl> & <chr>\\\\\n",
       "\\hline\n",
       "\t 70 & Male   & Mexican American   & LessThanHS & 1.07 & Quit Smoking   & 1999 & 1.6 & 25<BMI<30 & 1 & Yes & 78 & 62 & 70 & NA & 140 & 130 & 130 & NA & Yes\\\\\n",
       "\t 61 & Female & Other Hispanic     & MoreThanHS & 3.33 & Current Smoker & 1999 & 2.2 & BMI<=25   & 0 & Yes & 70 & 60 & 74 & NA & 106 & 110 & 116 & NA & Yes\\\\\n",
       "\t 77 & Male   & Non-Hispanic White & MoreThanHS & 5.00 & Never Smoked   & 1999 & 5.0 & BMI<=25   & 0 & Yes & 58 & 56 & 56 & NA & 106 &  98 &  98 & NA & No \\\\\n",
       "\t 38 & Female & Non-Hispanic Black & HS         & 0.92 & Current Smoker & 1999 & 1.8 & 25<BMI<30 & 0 & Yes & 76 & 80 & 74 & NA & 116 & 116 & 114 & NA & Yes\\\\\n",
       "\t 63 & Female & Other Race         & MoreThanHS & 5.00 & Never Smoked   & 1999 & 1.2 & BMI<=25   & 1 & Yes & 66 & 78 & 82 & NA & 120 & 118 & 118 & NA & No \\\\\n",
       "\\end{tabular}\n"
      ],
      "text/markdown": [
       "\n",
       "A grouped_df: 5 × 20\n",
       "\n",
       "| AGE &lt;dbl&gt; | SEX &lt;fct&gt; | RACE &lt;fct&gt; | EDUCATION &lt;fct&gt; | PIR &lt;dbl&gt; | SMOKE_STATUS &lt;chr&gt; | YEAR &lt;dbl&gt; | LEAD &lt;dbl&gt; | BMI_CAT &lt;fct&gt; | HYP &lt;dbl&gt; | ALC &lt;chr&gt; | DBP1 &lt;dbl&gt; | DBP2 &lt;dbl&gt; | DBP3 &lt;dbl&gt; | DBP4 &lt;dbl&gt; | SBP1 &lt;dbl&gt; | SBP2 &lt;dbl&gt; | SBP3 &lt;dbl&gt; | SBP4 &lt;dbl&gt; | EVER_SMOKE &lt;chr&gt; |\n",
       "|---|---|---|---|---|---|---|---|---|---|---|---|---|---|---|---|---|---|---|---|\n",
       "| 70 | Male   | Mexican American   | LessThanHS | 1.07 | Quit Smoking   | 1999 | 1.6 | 25&lt;BMI&lt;30 | 1 | Yes | 78 | 62 | 70 | NA | 140 | 130 | 130 | NA | Yes |\n",
       "| 61 | Female | Other Hispanic     | MoreThanHS | 3.33 | Current Smoker | 1999 | 2.2 | BMI&lt;=25   | 0 | Yes | 70 | 60 | 74 | NA | 106 | 110 | 116 | NA | Yes |\n",
       "| 77 | Male   | Non-Hispanic White | MoreThanHS | 5.00 | Never Smoked   | 1999 | 5.0 | BMI&lt;=25   | 0 | Yes | 58 | 56 | 56 | NA | 106 |  98 |  98 | NA | No  |\n",
       "| 38 | Female | Non-Hispanic Black | HS         | 0.92 | Current Smoker | 1999 | 1.8 | 25&lt;BMI&lt;30 | 0 | Yes | 76 | 80 | 74 | NA | 116 | 116 | 114 | NA | Yes |\n",
       "| 63 | Female | Other Race         | MoreThanHS | 5.00 | Never Smoked   | 1999 | 1.2 | BMI&lt;=25   | 1 | Yes | 66 | 78 | 82 | NA | 120 | 118 | 118 | NA | No  |\n",
       "\n"
      ],
      "text/plain": [
       "  AGE SEX    RACE               EDUCATION  PIR  SMOKE_STATUS   YEAR LEAD\n",
       "1 70  Male   Mexican American   LessThanHS 1.07 Quit Smoking   1999 1.6 \n",
       "2 61  Female Other Hispanic     MoreThanHS 3.33 Current Smoker 1999 2.2 \n",
       "3 77  Male   Non-Hispanic White MoreThanHS 5.00 Never Smoked   1999 5.0 \n",
       "4 38  Female Non-Hispanic Black HS         0.92 Current Smoker 1999 1.8 \n",
       "5 63  Female Other Race         MoreThanHS 5.00 Never Smoked   1999 1.2 \n",
       "  BMI_CAT   HYP ALC DBP1 DBP2 DBP3 DBP4 SBP1 SBP2 SBP3 SBP4 EVER_SMOKE\n",
       "1 25<BMI<30 1   Yes 78   62   70   NA   140  130  130  NA   Yes       \n",
       "2 BMI<=25   0   Yes 70   60   74   NA   106  110  116  NA   Yes       \n",
       "3 BMI<=25   0   Yes 58   56   56   NA   106   98   98  NA   No        \n",
       "4 25<BMI<30 0   Yes 76   80   74   NA   116  116  114  NA   Yes       \n",
       "5 BMI<=25   1   Yes 66   78   82   NA   120  118  118  NA   No        "
      ]
     },
     "metadata": {},
     "output_type": "display_data"
    }
   ],
   "source": [
    "nhanes_df %>% \n",
    "  group_by(RACE) %>%\n",
    "  slice(1)"
   ]
  },
  {
   "cell_type": "markdown",
   "id": "e0f3652b",
   "metadata": {},
   "source": [
    "Grouping data is very helpful in combination with the summarize function. Like with the `slice()` function, `summarize()` will calculate the summary values for each group. We can now find the total number of observations as well as the mean systolic and diastolic blood pressure values for each group. Note that the returned summarized data is in a tibble. "
   ]
  },
  {
   "cell_type": "code",
   "execution_count": 19,
   "id": "043cdedf",
   "metadata": {},
   "outputs": [
    {
     "data": {
      "text/html": [
       "<table class=\"dataframe\">\n",
       "<caption>A tibble: 5 × 4</caption>\n",
       "<thead>\n",
       "\t<tr><th scope=col>RACE</th><th scope=col>TOT</th><th scope=col>MEAN_SBP</th><th scope=col>MEAN_DBP</th></tr>\n",
       "\t<tr><th scope=col>&lt;fct&gt;</th><th scope=col>&lt;int&gt;</th><th scope=col>&lt;dbl&gt;</th><th scope=col>&lt;dbl&gt;</th></tr>\n",
       "</thead>\n",
       "<tbody>\n",
       "\t<tr><td>Mexican American  </td><td> 5277</td><td>124.1754</td><td>70.40122</td></tr>\n",
       "\t<tr><td>Other Hispanic    </td><td> 2279</td><td>123.2342</td><td>70.11270</td></tr>\n",
       "\t<tr><td>Non-Hispanic White</td><td>15473</td><td>124.6984</td><td>70.35830</td></tr>\n",
       "\t<tr><td>Non-Hispanic Black</td><td> 6041</td><td>128.7584</td><td>72.59694</td></tr>\n",
       "\t<tr><td>Other Race        </td><td> 2195</td><td>122.0406</td><td>72.60445</td></tr>\n",
       "</tbody>\n",
       "</table>\n"
      ],
      "text/latex": [
       "A tibble: 5 × 4\n",
       "\\begin{tabular}{llll}\n",
       " RACE & TOT & MEAN\\_SBP & MEAN\\_DBP\\\\\n",
       " <fct> & <int> & <dbl> & <dbl>\\\\\n",
       "\\hline\n",
       "\t Mexican American   &  5277 & 124.1754 & 70.40122\\\\\n",
       "\t Other Hispanic     &  2279 & 123.2342 & 70.11270\\\\\n",
       "\t Non-Hispanic White & 15473 & 124.6984 & 70.35830\\\\\n",
       "\t Non-Hispanic Black &  6041 & 128.7584 & 72.59694\\\\\n",
       "\t Other Race         &  2195 & 122.0406 & 72.60445\\\\\n",
       "\\end{tabular}\n"
      ],
      "text/markdown": [
       "\n",
       "A tibble: 5 × 4\n",
       "\n",
       "| RACE &lt;fct&gt; | TOT &lt;int&gt; | MEAN_SBP &lt;dbl&gt; | MEAN_DBP &lt;dbl&gt; |\n",
       "|---|---|---|---|\n",
       "| Mexican American   |  5277 | 124.1754 | 70.40122 |\n",
       "| Other Hispanic     |  2279 | 123.2342 | 70.11270 |\n",
       "| Non-Hispanic White | 15473 | 124.6984 | 70.35830 |\n",
       "| Non-Hispanic Black |  6041 | 128.7584 | 72.59694 |\n",
       "| Other Race         |  2195 | 122.0406 | 72.60445 |\n",
       "\n"
      ],
      "text/plain": [
       "  RACE               TOT   MEAN_SBP MEAN_DBP\n",
       "1 Mexican American    5277 124.1754 70.40122\n",
       "2 Other Hispanic      2279 123.2342 70.11270\n",
       "3 Non-Hispanic White 15473 124.6984 70.35830\n",
       "4 Non-Hispanic Black  6041 128.7584 72.59694\n",
       "5 Other Race          2195 122.0406 72.60445"
      ]
     },
     "metadata": {},
     "output_type": "display_data"
    }
   ],
   "source": [
    "nhanes_df %>% \n",
    "  group_by(RACE) %>%\n",
    "  summarize(TOT = n(), MEAN_SBP = mean(SBP1, na.rm=TRUE), MEAN_DBP = mean(DBP1, na.rm=TRUE))"
   ]
  },
  {
   "cell_type": "markdown",
   "id": "4527c7a1",
   "metadata": {},
   "source": [
    "After summarizing, the data is no longer grouped by race. If we ever want to remove the group structure from our data, we can use the `ungroup()` function. This restores it to a single data frame. After ungrouping by race below, we get a single observation returned by the `slice()` function."
   ]
  },
  {
   "cell_type": "code",
   "execution_count": 20,
   "id": "8fb068be",
   "metadata": {},
   "outputs": [
    {
     "data": {
      "text/html": [
       "<table class=\"dataframe\">\n",
       "<caption>A tibble: 1 × 4</caption>\n",
       "<thead>\n",
       "\t<tr><th scope=col>SEX</th><th scope=col>RACE</th><th scope=col>SBP1</th><th scope=col>DBP1</th></tr>\n",
       "\t<tr><th scope=col>&lt;fct&gt;</th><th scope=col>&lt;fct&gt;</th><th scope=col>&lt;dbl&gt;</th><th scope=col>&lt;dbl&gt;</th></tr>\n",
       "</thead>\n",
       "<tbody>\n",
       "\t<tr><td>Female</td><td>Non-Hispanic White</td><td>270</td><td>124</td></tr>\n",
       "</tbody>\n",
       "</table>\n"
      ],
      "text/latex": [
       "A tibble: 1 × 4\n",
       "\\begin{tabular}{llll}\n",
       " SEX & RACE & SBP1 & DBP1\\\\\n",
       " <fct> & <fct> & <dbl> & <dbl>\\\\\n",
       "\\hline\n",
       "\t Female & Non-Hispanic White & 270 & 124\\\\\n",
       "\\end{tabular}\n"
      ],
      "text/markdown": [
       "\n",
       "A tibble: 1 × 4\n",
       "\n",
       "| SEX &lt;fct&gt; | RACE &lt;fct&gt; | SBP1 &lt;dbl&gt; | DBP1 &lt;dbl&gt; |\n",
       "|---|---|---|---|\n",
       "| Female | Non-Hispanic White | 270 | 124 |\n",
       "\n"
      ],
      "text/plain": [
       "  SEX    RACE               SBP1 DBP1\n",
       "1 Female Non-Hispanic White 270  124 "
      ]
     },
     "metadata": {},
     "output_type": "display_data"
    }
   ],
   "source": [
    "nhanes_df %>% \n",
    "  select(SEX, RACE, SBP1, DBP1) %>%\n",
    "  group_by(RACE) %>%\n",
    "  ungroup() %>%\n",
    "  arrange(desc(SBP1)) %>%\n",
    "  slice(1)"
   ]
  },
  {
   "cell_type": "markdown",
   "id": "e9d3cb13",
   "metadata": {},
   "source": [
    "## Review Video\n",
    "\n",
    "Show creating the blood pressure variables! Then find mean by race and sex\n",
    "\n",
    "Resummarize by year and show how blood pressure has changed using lag/lead\n",
    "\n",
    "Grouped data and ungroup (slice by group!)\n",
    "\n",
    "Documentation .by .preserve .drop or .add\n",
    "\n",
    "distinct from cheat sheet"
   ]
  },
  {
   "cell_type": "markdown",
   "id": "29c91608",
   "metadata": {},
   "source": [
    "## Exercises"
   ]
  },
  {
   "cell_type": "markdown",
   "id": "50ca85a6",
   "metadata": {},
   "source": [
    "1. Suppose we are interested in the distribution of blood pressure by age among females. First, create a new column in `nhanes_df` called `AGE_CAT` containing the age categories \"20-29\" through \"80-89\". Then, use the `filter()` and `summarize()` functions to create a data frame summarizing the average and standard deviation of the first systolic blood pressure reading among females between the ages of 20 and 29. "
   ]
  },
  {
   "cell_type": "code",
   "execution_count": 1,
   "id": "43e51359",
   "metadata": {},
   "outputs": [
    {
     "ename": "ERROR",
     "evalue": "Error in nhanes_df %>% mutate(AGE_CAT = ifelse(AGE < 29, \"20-29\", ifelse(AGE < : could not find function \"%>%\"\n",
     "output_type": "error",
     "traceback": [
      "Error in nhanes_df %>% mutate(AGE_CAT = ifelse(AGE < 29, \"20-29\", ifelse(AGE < : could not find function \"%>%\"\nTraceback:\n"
     ]
    }
   ],
   "source": [
    "df_1 <- nhanes_df %>%\n",
    "          mutate(AGE_CAT = ifelse(AGE < 29, \"20-29\", \n",
    "                                  ifelse(AGE < 39, \"30-39\",\n",
    "                                  ifelse(AGE < 49, \"40-49\",\n",
    "                                  ifelse(AGE < 59, \"50-59\",\n",
    "                                  ifelse(AGE < 69, \"60-69\",\n",
    "                                  ifelse(AGE < 79, \"70-79\",\n",
    "                                  ifelse(AGE < 89, \"80-89\"))))))))\n",
    "df_1 %>%\n",
    "  filter(AGE_CAT == \"20-29\" & SEX == \"Female\") %>%\n",
    "  summarize(NUM_OBS = n(), AVG_SBP = mean(SBP1, na.rm=TRUE), SD_SBP = sd(SBP1, na.rm=TRUE))"
   ]
  },
  {
   "cell_type": "markdown",
   "id": "95e4cc44",
   "metadata": {},
   "source": [
    "2. Now, create two data frames - one for each sex - with the average and standard deviation summarized separately for each age group rather than for just one selected age group as in question 1. "
   ]
  },
  {
   "cell_type": "code",
   "execution_count": 22,
   "id": "682396bf",
   "metadata": {},
   "outputs": [
    {
     "data": {
      "text/html": [
       "<table class=\"dataframe\">\n",
       "<caption>A tibble: 7 × 4</caption>\n",
       "<thead>\n",
       "\t<tr><th scope=col>AGE_CAT</th><th scope=col>NUM_OBS</th><th scope=col>AVE_SBP</th><th scope=col>SD_SBP</th></tr>\n",
       "\t<tr><th scope=col>&lt;chr&gt;</th><th scope=col>&lt;int&gt;</th><th scope=col>&lt;dbl&gt;</th><th scope=col>&lt;dbl&gt;</th></tr>\n",
       "</thead>\n",
       "<tbody>\n",
       "\t<tr><td>20-29</td><td>2475</td><td>109.5777</td><td>10.07101</td></tr>\n",
       "\t<tr><td>30-39</td><td>2701</td><td>111.7855</td><td>12.15760</td></tr>\n",
       "\t<tr><td>40-49</td><td>2651</td><td>118.3425</td><td>15.87204</td></tr>\n",
       "\t<tr><td>50-59</td><td>2304</td><td>125.5809</td><td>18.96571</td></tr>\n",
       "\t<tr><td>60-69</td><td>2325</td><td>133.8368</td><td>20.43897</td></tr>\n",
       "\t<tr><td>70-79</td><td>1445</td><td>139.1925</td><td>22.15939</td></tr>\n",
       "\t<tr><td>80-89</td><td> 896</td><td>147.3547</td><td>23.36094</td></tr>\n",
       "</tbody>\n",
       "</table>\n"
      ],
      "text/latex": [
       "A tibble: 7 × 4\n",
       "\\begin{tabular}{llll}\n",
       " AGE\\_CAT & NUM\\_OBS & AVE\\_SBP & SD\\_SBP\\\\\n",
       " <chr> & <int> & <dbl> & <dbl>\\\\\n",
       "\\hline\n",
       "\t 20-29 & 2475 & 109.5777 & 10.07101\\\\\n",
       "\t 30-39 & 2701 & 111.7855 & 12.15760\\\\\n",
       "\t 40-49 & 2651 & 118.3425 & 15.87204\\\\\n",
       "\t 50-59 & 2304 & 125.5809 & 18.96571\\\\\n",
       "\t 60-69 & 2325 & 133.8368 & 20.43897\\\\\n",
       "\t 70-79 & 1445 & 139.1925 & 22.15939\\\\\n",
       "\t 80-89 &  896 & 147.3547 & 23.36094\\\\\n",
       "\\end{tabular}\n"
      ],
      "text/markdown": [
       "\n",
       "A tibble: 7 × 4\n",
       "\n",
       "| AGE_CAT &lt;chr&gt; | NUM_OBS &lt;int&gt; | AVE_SBP &lt;dbl&gt; | SD_SBP &lt;dbl&gt; |\n",
       "|---|---|---|---|\n",
       "| 20-29 | 2475 | 109.5777 | 10.07101 |\n",
       "| 30-39 | 2701 | 111.7855 | 12.15760 |\n",
       "| 40-49 | 2651 | 118.3425 | 15.87204 |\n",
       "| 50-59 | 2304 | 125.5809 | 18.96571 |\n",
       "| 60-69 | 2325 | 133.8368 | 20.43897 |\n",
       "| 70-79 | 1445 | 139.1925 | 22.15939 |\n",
       "| 80-89 |  896 | 147.3547 | 23.36094 |\n",
       "\n"
      ],
      "text/plain": [
       "  AGE_CAT NUM_OBS AVE_SBP  SD_SBP  \n",
       "1 20-29   2475    109.5777 10.07101\n",
       "2 30-39   2701    111.7855 12.15760\n",
       "3 40-49   2651    118.3425 15.87204\n",
       "4 50-59   2304    125.5809 18.96571\n",
       "5 60-69   2325    133.8368 20.43897\n",
       "6 70-79   1445    139.1925 22.15939\n",
       "7 80-89    896    147.3547 23.36094"
      ]
     },
     "metadata": {},
     "output_type": "display_data"
    },
    {
     "data": {
      "text/html": [
       "<table class=\"dataframe\">\n",
       "<caption>A tibble: 7 × 4</caption>\n",
       "<thead>\n",
       "\t<tr><th scope=col>AGE_CAT</th><th scope=col>NUM_OBS</th><th scope=col>AVE_SBP</th><th scope=col>SD_SBP</th></tr>\n",
       "\t<tr><th scope=col>&lt;chr&gt;</th><th scope=col>&lt;int&gt;</th><th scope=col>&lt;dbl&gt;</th><th scope=col>&lt;dbl&gt;</th></tr>\n",
       "</thead>\n",
       "<tbody>\n",
       "\t<tr><td>20-29</td><td>2336</td><td>118.6879</td><td>10.90715</td></tr>\n",
       "\t<tr><td>30-39</td><td>2726</td><td>120.5680</td><td>12.59130</td></tr>\n",
       "\t<tr><td>40-49</td><td>2831</td><td>122.9359</td><td>14.35871</td></tr>\n",
       "\t<tr><td>50-59</td><td>2633</td><td>127.0484</td><td>16.63128</td></tr>\n",
       "\t<tr><td>60-69</td><td>2863</td><td>133.1562</td><td>19.43038</td></tr>\n",
       "\t<tr><td>70-79</td><td>1964</td><td>136.1728</td><td>20.27739</td></tr>\n",
       "\t<tr><td>80-89</td><td>1115</td><td>139.9807</td><td>22.21069</td></tr>\n",
       "</tbody>\n",
       "</table>\n"
      ],
      "text/latex": [
       "A tibble: 7 × 4\n",
       "\\begin{tabular}{llll}\n",
       " AGE\\_CAT & NUM\\_OBS & AVE\\_SBP & SD\\_SBP\\\\\n",
       " <chr> & <int> & <dbl> & <dbl>\\\\\n",
       "\\hline\n",
       "\t 20-29 & 2336 & 118.6879 & 10.90715\\\\\n",
       "\t 30-39 & 2726 & 120.5680 & 12.59130\\\\\n",
       "\t 40-49 & 2831 & 122.9359 & 14.35871\\\\\n",
       "\t 50-59 & 2633 & 127.0484 & 16.63128\\\\\n",
       "\t 60-69 & 2863 & 133.1562 & 19.43038\\\\\n",
       "\t 70-79 & 1964 & 136.1728 & 20.27739\\\\\n",
       "\t 80-89 & 1115 & 139.9807 & 22.21069\\\\\n",
       "\\end{tabular}\n"
      ],
      "text/markdown": [
       "\n",
       "A tibble: 7 × 4\n",
       "\n",
       "| AGE_CAT &lt;chr&gt; | NUM_OBS &lt;int&gt; | AVE_SBP &lt;dbl&gt; | SD_SBP &lt;dbl&gt; |\n",
       "|---|---|---|---|\n",
       "| 20-29 | 2336 | 118.6879 | 10.90715 |\n",
       "| 30-39 | 2726 | 120.5680 | 12.59130 |\n",
       "| 40-49 | 2831 | 122.9359 | 14.35871 |\n",
       "| 50-59 | 2633 | 127.0484 | 16.63128 |\n",
       "| 60-69 | 2863 | 133.1562 | 19.43038 |\n",
       "| 70-79 | 1964 | 136.1728 | 20.27739 |\n",
       "| 80-89 | 1115 | 139.9807 | 22.21069 |\n",
       "\n"
      ],
      "text/plain": [
       "  AGE_CAT NUM_OBS AVE_SBP  SD_SBP  \n",
       "1 20-29   2336    118.6879 10.90715\n",
       "2 30-39   2726    120.5680 12.59130\n",
       "3 40-49   2831    122.9359 14.35871\n",
       "4 50-59   2633    127.0484 16.63128\n",
       "5 60-69   2863    133.1562 19.43038\n",
       "6 70-79   1964    136.1728 20.27739\n",
       "7 80-89   1115    139.9807 22.21069"
      ]
     },
     "metadata": {},
     "output_type": "display_data"
    }
   ],
   "source": [
    "df_1 %>%\n",
    "  group_by(AGE_CAT) %>%\n",
    "  filter(SEX == \"Female\") %>% \n",
    "  summarize(NUM_OBS = n(), AVG_SBP = mean(SBP1, na.rm=TRUE), SD_SBP = sd(SBP1, na.rm=TRUE))\n",
    "\n",
    "df_1 %>%\n",
    "  group_by(AGE_CAT) %>%\n",
    "  filter(SEX == \"Male\") %>% \n",
    "  summarize(NUM_OBS = n(), AVG_SBP = mean(SBP1, na.rm=TRUE), SD_SBP = sd(SBP1, na.rm=TRUE))"
   ]
  },
  {
   "cell_type": "markdown",
   "id": "c7973d3f",
   "metadata": {},
   "source": [
    "3. Try to combine the creation of the two summary tables in exercises 2 into just one line of code. This is possible because `group_by` permits us to group by more than one variable, yielding one big summary table."
   ]
  },
  {
   "cell_type": "code",
   "execution_count": 23,
   "id": "02fd4e9f",
   "metadata": {},
   "outputs": [
    {
     "name": "stderr",
     "output_type": "stream",
     "text": [
      "\u001b[1m\u001b[22m`summarise()` has grouped output by 'AGE_CAT'. You can override using the\n",
      "`.groups` argument.\n"
     ]
    },
    {
     "data": {
      "text/html": [
       "<table class=\"dataframe\">\n",
       "<caption>A grouped_df: 14 × 5</caption>\n",
       "<thead>\n",
       "\t<tr><th scope=col>AGE_CAT</th><th scope=col>SEX</th><th scope=col>NUM_OBS</th><th scope=col>AVE_SBP</th><th scope=col>SD_SBP</th></tr>\n",
       "\t<tr><th scope=col>&lt;chr&gt;</th><th scope=col>&lt;fct&gt;</th><th scope=col>&lt;int&gt;</th><th scope=col>&lt;dbl&gt;</th><th scope=col>&lt;dbl&gt;</th></tr>\n",
       "</thead>\n",
       "<tbody>\n",
       "\t<tr><td>20-29</td><td>Male  </td><td>2336</td><td>118.6879</td><td>10.90715</td></tr>\n",
       "\t<tr><td>20-29</td><td>Female</td><td>2475</td><td>109.5777</td><td>10.07101</td></tr>\n",
       "\t<tr><td>30-39</td><td>Male  </td><td>2726</td><td>120.5680</td><td>12.59130</td></tr>\n",
       "\t<tr><td>30-39</td><td>Female</td><td>2701</td><td>111.7855</td><td>12.15760</td></tr>\n",
       "\t<tr><td>40-49</td><td>Male  </td><td>2831</td><td>122.9359</td><td>14.35871</td></tr>\n",
       "\t<tr><td>40-49</td><td>Female</td><td>2651</td><td>118.3425</td><td>15.87204</td></tr>\n",
       "\t<tr><td>50-59</td><td>Male  </td><td>2633</td><td>127.0484</td><td>16.63128</td></tr>\n",
       "\t<tr><td>50-59</td><td>Female</td><td>2304</td><td>125.5809</td><td>18.96571</td></tr>\n",
       "\t<tr><td>60-69</td><td>Male  </td><td>2863</td><td>133.1562</td><td>19.43038</td></tr>\n",
       "\t<tr><td>60-69</td><td>Female</td><td>2325</td><td>133.8368</td><td>20.43897</td></tr>\n",
       "\t<tr><td>70-79</td><td>Male  </td><td>1964</td><td>136.1728</td><td>20.27739</td></tr>\n",
       "\t<tr><td>70-79</td><td>Female</td><td>1445</td><td>139.1925</td><td>22.15939</td></tr>\n",
       "\t<tr><td>80-89</td><td>Male  </td><td>1115</td><td>139.9807</td><td>22.21069</td></tr>\n",
       "\t<tr><td>80-89</td><td>Female</td><td> 896</td><td>147.3547</td><td>23.36094</td></tr>\n",
       "</tbody>\n",
       "</table>\n"
      ],
      "text/latex": [
       "A grouped\\_df: 14 × 5\n",
       "\\begin{tabular}{lllll}\n",
       " AGE\\_CAT & SEX & NUM\\_OBS & AVE\\_SBP & SD\\_SBP\\\\\n",
       " <chr> & <fct> & <int> & <dbl> & <dbl>\\\\\n",
       "\\hline\n",
       "\t 20-29 & Male   & 2336 & 118.6879 & 10.90715\\\\\n",
       "\t 20-29 & Female & 2475 & 109.5777 & 10.07101\\\\\n",
       "\t 30-39 & Male   & 2726 & 120.5680 & 12.59130\\\\\n",
       "\t 30-39 & Female & 2701 & 111.7855 & 12.15760\\\\\n",
       "\t 40-49 & Male   & 2831 & 122.9359 & 14.35871\\\\\n",
       "\t 40-49 & Female & 2651 & 118.3425 & 15.87204\\\\\n",
       "\t 50-59 & Male   & 2633 & 127.0484 & 16.63128\\\\\n",
       "\t 50-59 & Female & 2304 & 125.5809 & 18.96571\\\\\n",
       "\t 60-69 & Male   & 2863 & 133.1562 & 19.43038\\\\\n",
       "\t 60-69 & Female & 2325 & 133.8368 & 20.43897\\\\\n",
       "\t 70-79 & Male   & 1964 & 136.1728 & 20.27739\\\\\n",
       "\t 70-79 & Female & 1445 & 139.1925 & 22.15939\\\\\n",
       "\t 80-89 & Male   & 1115 & 139.9807 & 22.21069\\\\\n",
       "\t 80-89 & Female &  896 & 147.3547 & 23.36094\\\\\n",
       "\\end{tabular}\n"
      ],
      "text/markdown": [
       "\n",
       "A grouped_df: 14 × 5\n",
       "\n",
       "| AGE_CAT &lt;chr&gt; | SEX &lt;fct&gt; | NUM_OBS &lt;int&gt; | AVE_SBP &lt;dbl&gt; | SD_SBP &lt;dbl&gt; |\n",
       "|---|---|---|---|---|\n",
       "| 20-29 | Male   | 2336 | 118.6879 | 10.90715 |\n",
       "| 20-29 | Female | 2475 | 109.5777 | 10.07101 |\n",
       "| 30-39 | Male   | 2726 | 120.5680 | 12.59130 |\n",
       "| 30-39 | Female | 2701 | 111.7855 | 12.15760 |\n",
       "| 40-49 | Male   | 2831 | 122.9359 | 14.35871 |\n",
       "| 40-49 | Female | 2651 | 118.3425 | 15.87204 |\n",
       "| 50-59 | Male   | 2633 | 127.0484 | 16.63128 |\n",
       "| 50-59 | Female | 2304 | 125.5809 | 18.96571 |\n",
       "| 60-69 | Male   | 2863 | 133.1562 | 19.43038 |\n",
       "| 60-69 | Female | 2325 | 133.8368 | 20.43897 |\n",
       "| 70-79 | Male   | 1964 | 136.1728 | 20.27739 |\n",
       "| 70-79 | Female | 1445 | 139.1925 | 22.15939 |\n",
       "| 80-89 | Male   | 1115 | 139.9807 | 22.21069 |\n",
       "| 80-89 | Female |  896 | 147.3547 | 23.36094 |\n",
       "\n"
      ],
      "text/plain": [
       "   AGE_CAT SEX    NUM_OBS AVE_SBP  SD_SBP  \n",
       "1  20-29   Male   2336    118.6879 10.90715\n",
       "2  20-29   Female 2475    109.5777 10.07101\n",
       "3  30-39   Male   2726    120.5680 12.59130\n",
       "4  30-39   Female 2701    111.7855 12.15760\n",
       "5  40-49   Male   2831    122.9359 14.35871\n",
       "6  40-49   Female 2651    118.3425 15.87204\n",
       "7  50-59   Male   2633    127.0484 16.63128\n",
       "8  50-59   Female 2304    125.5809 18.96571\n",
       "9  60-69   Male   2863    133.1562 19.43038\n",
       "10 60-69   Female 2325    133.8368 20.43897\n",
       "11 70-79   Male   1964    136.1728 20.27739\n",
       "12 70-79   Female 1445    139.1925 22.15939\n",
       "13 80-89   Male   1115    139.9807 22.21069\n",
       "14 80-89   Female  896    147.3547 23.36094"
      ]
     },
     "metadata": {},
     "output_type": "display_data"
    }
   ],
   "source": [
    "df_1 %>%\n",
    "  group_by(AGE_CAT, SEX) %>%\n",
    "  summarize(NUM_OBS = n(), AVG_SBP = mean(SBP1, na.rm=TRUE), SD_SBP = sd(SBP1, na.rm=TRUE))"
   ]
  },
  {
   "cell_type": "markdown",
   "id": "2921fffa",
   "metadata": {},
   "source": [
    "4. For males between the ages of 40 and 49, compare systolic blood pressure across race as reported in the `RACE` variable. Order the resulting table from lowest to highest average systolic blood pressure."
   ]
  },
  {
   "cell_type": "code",
   "execution_count": 24,
   "id": "151894f9",
   "metadata": {},
   "outputs": [
    {
     "data": {
      "text/html": [
       "<table class=\"dataframe\">\n",
       "<caption>A tibble: 5 × 4</caption>\n",
       "<thead>\n",
       "\t<tr><th scope=col>RACE</th><th scope=col>NUM_OBS</th><th scope=col>AVE_SBP</th><th scope=col>SD_SBP</th></tr>\n",
       "\t<tr><th scope=col>&lt;fct&gt;</th><th scope=col>&lt;int&gt;</th><th scope=col>&lt;dbl&gt;</th><th scope=col>&lt;dbl&gt;</th></tr>\n",
       "</thead>\n",
       "<tbody>\n",
       "\t<tr><td>Other Race        </td><td> 227</td><td>119.2420</td><td>13.84683</td></tr>\n",
       "\t<tr><td>Non-Hispanic White</td><td>1296</td><td>121.6624</td><td>13.18456</td></tr>\n",
       "\t<tr><td>Mexican American  </td><td> 579</td><td>122.5474</td><td>13.61925</td></tr>\n",
       "\t<tr><td>Other Hispanic    </td><td> 188</td><td>124.3068</td><td>15.22168</td></tr>\n",
       "\t<tr><td>Non-Hispanic Black</td><td> 541</td><td>127.6223</td><td>16.57220</td></tr>\n",
       "</tbody>\n",
       "</table>\n"
      ],
      "text/latex": [
       "A tibble: 5 × 4\n",
       "\\begin{tabular}{llll}\n",
       " RACE & NUM\\_OBS & AVE\\_SBP & SD\\_SBP\\\\\n",
       " <fct> & <int> & <dbl> & <dbl>\\\\\n",
       "\\hline\n",
       "\t Other Race         &  227 & 119.2420 & 13.84683\\\\\n",
       "\t Non-Hispanic White & 1296 & 121.6624 & 13.18456\\\\\n",
       "\t Mexican American   &  579 & 122.5474 & 13.61925\\\\\n",
       "\t Other Hispanic     &  188 & 124.3068 & 15.22168\\\\\n",
       "\t Non-Hispanic Black &  541 & 127.6223 & 16.57220\\\\\n",
       "\\end{tabular}\n"
      ],
      "text/markdown": [
       "\n",
       "A tibble: 5 × 4\n",
       "\n",
       "| RACE &lt;fct&gt; | NUM_OBS &lt;int&gt; | AVE_SBP &lt;dbl&gt; | SD_SBP &lt;dbl&gt; |\n",
       "|---|---|---|---|\n",
       "| Other Race         |  227 | 119.2420 | 13.84683 |\n",
       "| Non-Hispanic White | 1296 | 121.6624 | 13.18456 |\n",
       "| Mexican American   |  579 | 122.5474 | 13.61925 |\n",
       "| Other Hispanic     |  188 | 124.3068 | 15.22168 |\n",
       "| Non-Hispanic Black |  541 | 127.6223 | 16.57220 |\n",
       "\n"
      ],
      "text/plain": [
       "  RACE               NUM_OBS AVE_SBP  SD_SBP  \n",
       "1 Other Race          227    119.2420 13.84683\n",
       "2 Non-Hispanic White 1296    121.6624 13.18456\n",
       "3 Mexican American    579    122.5474 13.61925\n",
       "4 Other Hispanic      188    124.3068 15.22168\n",
       "5 Non-Hispanic Black  541    127.6223 16.57220"
      ]
     },
     "metadata": {},
     "output_type": "display_data"
    }
   ],
   "source": [
    "df_1 %>%\n",
    "  filter(SEX == \"Male\", AGE_CAT == \"40-49\") %>%\n",
    "  group_by(RACE) %>%\n",
    "  summarize(NUM_OBS = n(), AVE_SBP = mean(SBP1, na.rm=TRUE), SD_SBP = sd(SBP1, na.rm=TRUE)) %>%\n",
    "  arrange(AVE_SBP)"
   ]
  },
  {
   "cell_type": "markdown",
   "id": "1c22ae17",
   "metadata": {},
   "source": [
    "5. We will use `covidcases` dataset for exercises. Construct a new data frame `covid_sub` that calculates the total number of cases confirmed in each county of state and filter the top 10 counties with their both cases and deaths. "
   ]
  },
  {
   "cell_type": "code",
   "execution_count": 25,
   "id": "c2d3410a",
   "metadata": {},
   "outputs": [
    {
     "data": {
      "text/html": [
       "<table class=\"dataframe\">\n",
       "<caption>A tibble: 10 × 3</caption>\n",
       "<thead>\n",
       "\t<tr><th scope=col>county</th><th scope=col>totalcases</th><th scope=col>totaldeaths</th></tr>\n",
       "\t<tr><th scope=col>&lt;chr&gt;</th><th scope=col>&lt;int&gt;</th><th scope=col>&lt;int&gt;</th></tr>\n",
       "</thead>\n",
       "<tbody>\n",
       "\t<tr><td>New York City</td><td>201698</td><td>20226</td></tr>\n",
       "\t<tr><td>Providence   </td><td>139025</td><td>10276</td></tr>\n",
       "\t<tr><td>Bergen       </td><td> 19220</td><td> 7799</td></tr>\n",
       "\t<tr><td>Middlesex    </td><td> 67845</td><td> 7200</td></tr>\n",
       "\t<tr><td>Nassau       </td><td> 39435</td><td> 6766</td></tr>\n",
       "\t<tr><td>Los Angeles  </td><td>204839</td><td> 4720</td></tr>\n",
       "\t<tr><td>Orange       </td><td> 87576</td><td> 4284</td></tr>\n",
       "\t<tr><td>Rockland     </td><td> 12258</td><td> 4275</td></tr>\n",
       "\t<tr><td>Cook         </td><td>110237</td><td> 4141</td></tr>\n",
       "\t<tr><td>Essex        </td><td> 52243</td><td> 4010</td></tr>\n",
       "</tbody>\n",
       "</table>\n"
      ],
      "text/latex": [
       "A tibble: 10 × 3\n",
       "\\begin{tabular}{lll}\n",
       " county & totalcases & totaldeaths\\\\\n",
       " <chr> & <int> & <int>\\\\\n",
       "\\hline\n",
       "\t New York City & 201698 & 20226\\\\\n",
       "\t Providence    & 139025 & 10276\\\\\n",
       "\t Bergen        &  19220 &  7799\\\\\n",
       "\t Middlesex     &  67845 &  7200\\\\\n",
       "\t Nassau        &  39435 &  6766\\\\\n",
       "\t Los Angeles   & 204839 &  4720\\\\\n",
       "\t Orange        &  87576 &  4284\\\\\n",
       "\t Rockland      &  12258 &  4275\\\\\n",
       "\t Cook          & 110237 &  4141\\\\\n",
       "\t Essex         &  52243 &  4010\\\\\n",
       "\\end{tabular}\n"
      ],
      "text/markdown": [
       "\n",
       "A tibble: 10 × 3\n",
       "\n",
       "| county &lt;chr&gt; | totalcases &lt;int&gt; | totaldeaths &lt;int&gt; |\n",
       "|---|---|---|\n",
       "| New York City | 201698 | 20226 |\n",
       "| Providence    | 139025 | 10276 |\n",
       "| Bergen        |  19220 |  7799 |\n",
       "| Middlesex     |  67845 |  7200 |\n",
       "| Nassau        |  39435 |  6766 |\n",
       "| Los Angeles   | 204839 |  4720 |\n",
       "| Orange        |  87576 |  4284 |\n",
       "| Rockland      |  12258 |  4275 |\n",
       "| Cook          | 110237 |  4141 |\n",
       "| Essex         |  52243 |  4010 |\n",
       "\n"
      ],
      "text/plain": [
       "   county        totalcases totaldeaths\n",
       "1  New York City 201698     20226      \n",
       "2  Providence    139025     10276      \n",
       "3  Bergen         19220      7799      \n",
       "4  Middlesex      67845      7200      \n",
       "5  Nassau         39435      6766      \n",
       "6  Los Angeles   204839      4720      \n",
       "7  Orange         87576      4284      \n",
       "8  Rockland       12258      4275      \n",
       "9  Cook          110237      4141      \n",
       "10 Essex          52243      4010      "
      ]
     },
     "metadata": {},
     "output_type": "display_data"
    }
   ],
   "source": [
    "data(covidcases)\n",
    "covid_sub <- covidcases %>%\n",
    "  group_by(county) %>%\n",
    "  summarize(totalcases  = sum(weekly_cases),\n",
    "            totaldeaths = sum(weekly_deaths)) %>%\n",
    "  arrange(desc(totaldeaths)) %>%\n",
    "  slice(1:10)\n",
    "covid_sub"
   ]
  }
 ],
 "metadata": {
  "kernelspec": {
   "display_name": "R",
   "language": "R",
   "name": "ir"
  },
  "language_info": {
   "codemirror_mode": "r",
   "file_extension": ".r",
   "mimetype": "text/x-r-source",
   "name": "R",
   "pygments_lexer": "r",
   "version": "4.3.1"
  }
 },
 "nbformat": 4,
 "nbformat_minor": 5
}
