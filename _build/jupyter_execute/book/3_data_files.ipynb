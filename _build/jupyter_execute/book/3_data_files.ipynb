{
 "cells": [
  {
   "cell_type": "markdown",
   "id": "decec34a",
   "metadata": {},
   "source": [
    "# 3. Working with Data Files in R\n",
    "\n",
    "In this chapter, we will be working with data in R. To start, we need to load our data into R: this requires identifying the type of data file we have (e.g. .csv, .xlsx, .dta) and finding the appropriate function to load in the data. This will create a data frame object containing the information from the file. After demonstrating how to load in such data, this chapter will show you how to find information about data columns, including finding missing values, summarizing columns, and subsetting the data. Additionally, we look at how to create new columns through some simple transformations.  \n",
    "\n",
    "In this chapter and all future chapters, we will load in the required libraries at the start of the chapter - for example, in this particular chapter, we need a single library `RforHDSdata` that contains the sample data sets used in this book."
   ]
  },
  {
   "cell_type": "code",
   "execution_count": 1,
   "id": "e77fb3ae",
   "metadata": {},
   "outputs": [],
   "source": [
    "suppressPackageStartupMessages(library(RforHDSdata))"
   ]
  },
  {
   "cell_type": "markdown",
   "id": "4c570944",
   "metadata": {},
   "source": [
    "## Importing and Exporting Data\n",
    "\n",
    "The data we will use in this chapter contains information about patients who visited one of the University of Pittsburgh’s seven pain management clinics. This includes patient-reported pain assessments using the Collaborative Health Outcomes Information Registry (CHOIR) at baseline and at a 3-month follow-up. You can use the help operator `?pain` to learn more about the source of this data and to read its column descriptions. Since this data is available in our R package, we can use the `data` function to load this data into our environment. Note that this data has 21,659 rows and 92 columns."
   ]
  },
  {
   "cell_type": "code",
   "execution_count": 2,
   "id": "2f79ad56",
   "metadata": {},
   "outputs": [
    {
     "data": {
      "text/html": [
       "<style>\n",
       ".list-inline {list-style: none; margin:0; padding: 0}\n",
       ".list-inline>li {display: inline-block}\n",
       ".list-inline>li:not(:last-child)::after {content: \"\\00b7\"; padding: 0 .5ex}\n",
       "</style>\n",
       "<ol class=list-inline><li>21659</li><li>92</li></ol>\n"
      ],
      "text/latex": [
       "\\begin{enumerate*}\n",
       "\\item 21659\n",
       "\\item 92\n",
       "\\end{enumerate*}\n"
      ],
      "text/markdown": [
       "1. 21659\n",
       "2. 92\n",
       "\n",
       "\n"
      ],
      "text/plain": [
       "[1] 21659    92"
      ]
     },
     "metadata": {},
     "output_type": "display_data"
    }
   ],
   "source": [
    "data(pain)\n",
    "dim(pain)"
   ]
  },
  {
   "cell_type": "markdown",
   "id": "bd124a40",
   "metadata": {},
   "source": [
    "In general, the data you will be using will not be available in R packages and will instead exist in one or more data files on your personal computer. In order to load in this data to R, you need to use the function that corresponds to the file type you have. For example, you can load a .csv file using the `read.csv()` function in base R or using the `read_csv()` function from the `readr` package, both of which were shown in [Chapter 1](https://alicepaul.github.io/r-for-health-data-science/book/1_intro_to_r.html). As an example, we load the `fake_names.csv` dataset belwo using both of these functions: looking at the print output below, we can see that there is slight difference in the data structure and data types storing the data between these two functions. The function `read.csv()` loads the data as a data frame, whereas the function `read_csv()` loads the data as a `spec_tbl_df`, a special type of data frame called a **tibble** that is used by the `tidyverse` packages. We will cover this data structure in more detail in [Chapter 5](https://alicepaul.github.io/r-for-health-data-science/book/5_data_transformations_summaries.html). For now, note that you can use either function to read in a .csv file."
   ]
  },
  {
   "cell_type": "code",
   "execution_count": 3,
   "id": "d2abccfe",
   "metadata": {},
   "outputs": [
    {
     "data": {
      "text/html": [
       "<table class=\"dataframe\">\n",
       "<caption>A data.frame: 6 × 5</caption>\n",
       "<thead>\n",
       "\t<tr><th scope=col>Name</th><th scope=col>Age</th><th scope=col>DOB</th><th scope=col>City</th><th scope=col>State</th></tr>\n",
       "\t<tr><th scope=col>&lt;chr&gt;</th><th scope=col>&lt;int&gt;</th><th scope=col>&lt;chr&gt;</th><th scope=col>&lt;chr&gt;</th><th scope=col>&lt;chr&gt;</th></tr>\n",
       "</thead>\n",
       "<tbody>\n",
       "\t<tr><td>Ken Irwin          </td><td>37</td><td>6/28/85</td><td>Providence     </td><td>RI</td></tr>\n",
       "\t<tr><td>Delores Whittington</td><td>56</td><td>4/28/67</td><td>Smithfield     </td><td>RI</td></tr>\n",
       "\t<tr><td>Daniel Hughes      </td><td>41</td><td>5/22/82</td><td>Providence     </td><td>RI</td></tr>\n",
       "\t<tr><td>Carlos Fain        </td><td>83</td><td>2/2/40 </td><td>Warren         </td><td>RI</td></tr>\n",
       "\t<tr><td>James Alford       </td><td>67</td><td>2/23/56</td><td>East Providence</td><td>RI</td></tr>\n",
       "\t<tr><td>Ruth Alvarez       </td><td>34</td><td>9/22/88</td><td>Providence     </td><td>RI</td></tr>\n",
       "</tbody>\n",
       "</table>\n"
      ],
      "text/latex": [
       "A data.frame: 6 × 5\n",
       "\\begin{tabular}{lllll}\n",
       " Name & Age & DOB & City & State\\\\\n",
       " <chr> & <int> & <chr> & <chr> & <chr>\\\\\n",
       "\\hline\n",
       "\t Ken Irwin           & 37 & 6/28/85 & Providence      & RI\\\\\n",
       "\t Delores Whittington & 56 & 4/28/67 & Smithfield      & RI\\\\\n",
       "\t Daniel Hughes       & 41 & 5/22/82 & Providence      & RI\\\\\n",
       "\t Carlos Fain         & 83 & 2/2/40  & Warren          & RI\\\\\n",
       "\t James Alford        & 67 & 2/23/56 & East Providence & RI\\\\\n",
       "\t Ruth Alvarez        & 34 & 9/22/88 & Providence      & RI\\\\\n",
       "\\end{tabular}\n"
      ],
      "text/markdown": [
       "\n",
       "A data.frame: 6 × 5\n",
       "\n",
       "| Name &lt;chr&gt; | Age &lt;int&gt; | DOB &lt;chr&gt; | City &lt;chr&gt; | State &lt;chr&gt; |\n",
       "|---|---|---|---|---|\n",
       "| Ken Irwin           | 37 | 6/28/85 | Providence      | RI |\n",
       "| Delores Whittington | 56 | 4/28/67 | Smithfield      | RI |\n",
       "| Daniel Hughes       | 41 | 5/22/82 | Providence      | RI |\n",
       "| Carlos Fain         | 83 | 2/2/40  | Warren          | RI |\n",
       "| James Alford        | 67 | 2/23/56 | East Providence | RI |\n",
       "| Ruth Alvarez        | 34 | 9/22/88 | Providence      | RI |\n",
       "\n"
      ],
      "text/plain": [
       "  Name                Age DOB     City            State\n",
       "1 Ken Irwin           37  6/28/85 Providence      RI   \n",
       "2 Delores Whittington 56  4/28/67 Smithfield      RI   \n",
       "3 Daniel Hughes       41  5/22/82 Providence      RI   \n",
       "4 Carlos Fain         83  2/2/40  Warren          RI   \n",
       "5 James Alford        67  2/23/56 East Providence RI   \n",
       "6 Ruth Alvarez        34  9/22/88 Providence      RI   "
      ]
     },
     "metadata": {},
     "output_type": "display_data"
    }
   ],
   "source": [
    "read.csv(\"data/fake_names.csv\")"
   ]
  },
  {
   "cell_type": "code",
   "execution_count": 4,
   "id": "f8ee517e",
   "metadata": {},
   "outputs": [
    {
     "data": {
      "text/html": [
       "<table class=\"dataframe\">\n",
       "<caption>A spec_tbl_df: 6 × 5</caption>\n",
       "<thead>\n",
       "\t<tr><th scope=col>Name</th><th scope=col>Age</th><th scope=col>DOB</th><th scope=col>City</th><th scope=col>State</th></tr>\n",
       "\t<tr><th scope=col>&lt;chr&gt;</th><th scope=col>&lt;dbl&gt;</th><th scope=col>&lt;chr&gt;</th><th scope=col>&lt;chr&gt;</th><th scope=col>&lt;chr&gt;</th></tr>\n",
       "</thead>\n",
       "<tbody>\n",
       "\t<tr><td>Ken Irwin          </td><td>37</td><td>6/28/85</td><td>Providence     </td><td>RI</td></tr>\n",
       "\t<tr><td>Delores Whittington</td><td>56</td><td>4/28/67</td><td>Smithfield     </td><td>RI</td></tr>\n",
       "\t<tr><td>Daniel Hughes      </td><td>41</td><td>5/22/82</td><td>Providence     </td><td>RI</td></tr>\n",
       "\t<tr><td>Carlos Fain        </td><td>83</td><td>2/2/40 </td><td>Warren         </td><td>RI</td></tr>\n",
       "\t<tr><td>James Alford       </td><td>67</td><td>2/23/56</td><td>East Providence</td><td>RI</td></tr>\n",
       "\t<tr><td>Ruth Alvarez       </td><td>34</td><td>9/22/88</td><td>Providence     </td><td>RI</td></tr>\n",
       "</tbody>\n",
       "</table>\n"
      ],
      "text/latex": [
       "A spec\\_tbl\\_df: 6 × 5\n",
       "\\begin{tabular}{lllll}\n",
       " Name & Age & DOB & City & State\\\\\n",
       " <chr> & <dbl> & <chr> & <chr> & <chr>\\\\\n",
       "\\hline\n",
       "\t Ken Irwin           & 37 & 6/28/85 & Providence      & RI\\\\\n",
       "\t Delores Whittington & 56 & 4/28/67 & Smithfield      & RI\\\\\n",
       "\t Daniel Hughes       & 41 & 5/22/82 & Providence      & RI\\\\\n",
       "\t Carlos Fain         & 83 & 2/2/40  & Warren          & RI\\\\\n",
       "\t James Alford        & 67 & 2/23/56 & East Providence & RI\\\\\n",
       "\t Ruth Alvarez        & 34 & 9/22/88 & Providence      & RI\\\\\n",
       "\\end{tabular}\n"
      ],
      "text/markdown": [
       "\n",
       "A spec_tbl_df: 6 × 5\n",
       "\n",
       "| Name &lt;chr&gt; | Age &lt;dbl&gt; | DOB &lt;chr&gt; | City &lt;chr&gt; | State &lt;chr&gt; |\n",
       "|---|---|---|---|---|\n",
       "| Ken Irwin           | 37 | 6/28/85 | Providence      | RI |\n",
       "| Delores Whittington | 56 | 4/28/67 | Smithfield      | RI |\n",
       "| Daniel Hughes       | 41 | 5/22/82 | Providence      | RI |\n",
       "| Carlos Fain         | 83 | 2/2/40  | Warren          | RI |\n",
       "| James Alford        | 67 | 2/23/56 | East Providence | RI |\n",
       "| Ruth Alvarez        | 34 | 9/22/88 | Providence      | RI |\n",
       "\n"
      ],
      "text/plain": [
       "  Name                Age DOB     City            State\n",
       "1 Ken Irwin           37  6/28/85 Providence      RI   \n",
       "2 Delores Whittington 56  4/28/67 Smithfield      RI   \n",
       "3 Daniel Hughes       41  5/22/82 Providence      RI   \n",
       "4 Carlos Fain         83  2/2/40  Warren          RI   \n",
       "5 James Alford        67  2/23/56 East Providence RI   \n",
       "6 Ruth Alvarez        34  9/22/88 Providence      RI   "
      ]
     },
     "metadata": {},
     "output_type": "display_data"
    }
   ],
   "source": [
    "readr::read_csv(\"data/fake_names.csv\", show_col_types=FALSE)"
   ]
  },
  {
   "cell_type": "markdown",
   "id": "51646a96",
   "metadata": {},
   "source": [
    "In addition to loading data into R, you may also want to save data from R into a data file you can access later or share with others. To write a data frame from R to a .csv file, you can use the `write.csv()` function. This function has three key arguments: the first agrument is the data frame in R that you want to write to a file, the second argument is the file name or the full file path where you want to write the data, and the third argument is whether or not you want to include the row names as an extra column. In this case, we will not include row names. If you do not specify a file path, R will save the file in our current working directory."
   ]
  },
  {
   "cell_type": "code",
   "execution_count": 5,
   "id": "cca8df83",
   "metadata": {},
   "outputs": [],
   "source": [
    "df <- data.frame(x=c(1,0,1), y=c(\"A\", \"B\", \"C\"))\n",
    "write.csv(df, \"data/test.csv\", row.names=FALSE)"
   ]
  },
  {
   "cell_type": "markdown",
   "id": "f6b2f9af",
   "metadata": {},
   "source": [
    "If your data is not in a .csv file, you may need to use another package to read in the file. The two most common packages are the `readxl` package, which makes it easy to read in Excel files, and the `haven` package, which can import SAS, SPSS, and Stata files. For each function, you need to specify the file path to the data file. \n",
    "\n",
    "* **Excel Files**: You can read in a .xls or .xlsx file using `readxl::read_excel()`, which allows you to specify a sheet and/or cell range within a file. (e.g. `read_excel('test.xlsx', sheet=\"Sheet1\")`)\n",
    "\n",
    "* **SAS**: `haven::read_sas()` reads in .sas7bdat or .sas7bcat files, `haven::read_xpt()` reads in SAS transport files\n",
    "\n",
    "* **Stata**: `haven::read_dta()` reads in .dta files\n",
    "\n",
    "* **SPSS**: `haven::read_spss()` reads in .spss files"
   ]
  },
  {
   "cell_type": "markdown",
   "id": "a351d711",
   "metadata": {},
   "source": [
    "## Summarizing and Creating Data Columns"
   ]
  },
  {
   "cell_type": "markdown",
   "id": "39acf175",
   "metadata": {},
   "source": [
    "We will now look at the data we have loaded into the data frame called `pain`. We use the `head()` function to print the first six rows. However, note that we have so many columns that all not of the columns are displayed! For those that are displayed, we can see the data type for each column under the column name. For example, we can see that the column `PATIENT_NUM` is a numeric column of type `dbl`. Because patients identification numbers are technically nominal in nature, we might consider whether we should make convert this column to a factor or a character representation later on. We can use the `names()` function to print all the column names. Note that columns `X101` to `X238` correspond to numbers on a body pain map (see the data documentation for the image of this map). Each of these columns has a 1 if the patient indicated that they have pain in that corresponding body part and a 0 otherwise."
   ]
  },
  {
   "cell_type": "code",
   "execution_count": 6,
   "id": "75135589",
   "metadata": {},
   "outputs": [
    {
     "data": {
      "text/html": [
       "<table class=\"dataframe\">\n",
       "<caption>A tibble: 6 × 92</caption>\n",
       "<thead>\n",
       "\t<tr><th scope=col>PATIENT_NUM</th><th scope=col>X101</th><th scope=col>X102</th><th scope=col>X103</th><th scope=col>X104</th><th scope=col>X105</th><th scope=col>X106</th><th scope=col>X107</th><th scope=col>X108</th><th scope=col>X109</th><th scope=col>⋯</th><th scope=col>GH_MENTAL_SCORE</th><th scope=col>GH_PHYSICAL_SCORE</th><th scope=col>AGE_AT_CONTACT</th><th scope=col>BMI</th><th scope=col>CCI_TOTAL_SCORE</th><th scope=col>PAIN_INTENSITY_AVERAGE.FOLLOW_UP</th><th scope=col>PAT_SEX</th><th scope=col>PAT_RACE</th><th scope=col>CCI_BIN</th><th scope=col>MEDICAID_BIN</th></tr>\n",
       "\t<tr><th scope=col>&lt;dbl&gt;</th><th scope=col>&lt;dbl&gt;</th><th scope=col>&lt;dbl&gt;</th><th scope=col>&lt;dbl&gt;</th><th scope=col>&lt;dbl&gt;</th><th scope=col>&lt;dbl&gt;</th><th scope=col>&lt;dbl&gt;</th><th scope=col>&lt;dbl&gt;</th><th scope=col>&lt;dbl&gt;</th><th scope=col>&lt;dbl&gt;</th><th scope=col>⋯</th><th scope=col>&lt;dbl&gt;</th><th scope=col>&lt;dbl&gt;</th><th scope=col>&lt;dbl&gt;</th><th scope=col>&lt;dbl&gt;</th><th scope=col>&lt;dbl&gt;</th><th scope=col>&lt;dbl&gt;</th><th scope=col>&lt;chr&gt;</th><th scope=col>&lt;chr&gt;</th><th scope=col>&lt;chr&gt;</th><th scope=col>&lt;chr&gt;</th></tr>\n",
       "</thead>\n",
       "<tbody>\n",
       "\t<tr><td>13118</td><td>0</td><td>0</td><td>0</td><td>0</td><td>0</td><td>0</td><td>0</td><td>0</td><td>0</td><td>⋯</td><td>43.5</td><td>29.6</td><td>78</td><td>33.67</td><td>0</td><td>2</td><td>male  </td><td>WHITE</td><td>No comorbidity</td><td>no</td></tr>\n",
       "\t<tr><td>21384</td><td>0</td><td>0</td><td>0</td><td>0</td><td>0</td><td>0</td><td>0</td><td>0</td><td>0</td><td>⋯</td><td>53.3</td><td>37.4</td><td>70</td><td>36.26</td><td>0</td><td>5</td><td>female</td><td>WHITE</td><td>No comorbidity</td><td>no</td></tr>\n",
       "\t<tr><td> 6240</td><td>0</td><td>0</td><td>0</td><td>0</td><td>0</td><td>0</td><td>0</td><td>0</td><td>0</td><td>⋯</td><td>48.3</td><td>37.4</td><td>75</td><td>27.25</td><td>0</td><td>6</td><td>male  </td><td>WHITE</td><td>No comorbidity</td><td>no</td></tr>\n",
       "\t<tr><td> 1827</td><td>0</td><td>0</td><td>0</td><td>0</td><td>0</td><td>0</td><td>0</td><td>0</td><td>0</td><td>⋯</td><td>  NA</td><td>  NA</td><td>61</td><td>   NA</td><td>0</td><td>7</td><td>male  </td><td>WHITE</td><td>No comorbidity</td><td>no</td></tr>\n",
       "\t<tr><td>11309</td><td>0</td><td>0</td><td>0</td><td>0</td><td>0</td><td>0</td><td>0</td><td>0</td><td>0</td><td>⋯</td><td>45.8</td><td>34.9</td><td>63</td><td>28.89</td><td>0</td><td>6</td><td>male  </td><td>WHITE</td><td>No comorbidity</td><td>no</td></tr>\n",
       "\t<tr><td>11093</td><td>0</td><td>0</td><td>0</td><td>0</td><td>0</td><td>0</td><td>0</td><td>0</td><td>0</td><td>⋯</td><td>31.3</td><td>26.7</td><td>54</td><td>27.32</td><td>0</td><td>0</td><td>male  </td><td>WHITE</td><td>No comorbidity</td><td>NA</td></tr>\n",
       "</tbody>\n",
       "</table>\n"
      ],
      "text/latex": [
       "A tibble: 6 × 92\n",
       "\\begin{tabular}{lllllllllllllllllllll}\n",
       " PATIENT\\_NUM & X101 & X102 & X103 & X104 & X105 & X106 & X107 & X108 & X109 & ⋯ & GH\\_MENTAL\\_SCORE & GH\\_PHYSICAL\\_SCORE & AGE\\_AT\\_CONTACT & BMI & CCI\\_TOTAL\\_SCORE & PAIN\\_INTENSITY\\_AVERAGE.FOLLOW\\_UP & PAT\\_SEX & PAT\\_RACE & CCI\\_BIN & MEDICAID\\_BIN\\\\\n",
       " <dbl> & <dbl> & <dbl> & <dbl> & <dbl> & <dbl> & <dbl> & <dbl> & <dbl> & <dbl> & ⋯ & <dbl> & <dbl> & <dbl> & <dbl> & <dbl> & <dbl> & <chr> & <chr> & <chr> & <chr>\\\\\n",
       "\\hline\n",
       "\t 13118 & 0 & 0 & 0 & 0 & 0 & 0 & 0 & 0 & 0 & ⋯ & 43.5 & 29.6 & 78 & 33.67 & 0 & 2 & male   & WHITE & No comorbidity & no\\\\\n",
       "\t 21384 & 0 & 0 & 0 & 0 & 0 & 0 & 0 & 0 & 0 & ⋯ & 53.3 & 37.4 & 70 & 36.26 & 0 & 5 & female & WHITE & No comorbidity & no\\\\\n",
       "\t  6240 & 0 & 0 & 0 & 0 & 0 & 0 & 0 & 0 & 0 & ⋯ & 48.3 & 37.4 & 75 & 27.25 & 0 & 6 & male   & WHITE & No comorbidity & no\\\\\n",
       "\t  1827 & 0 & 0 & 0 & 0 & 0 & 0 & 0 & 0 & 0 & ⋯ &   NA &   NA & 61 &    NA & 0 & 7 & male   & WHITE & No comorbidity & no\\\\\n",
       "\t 11309 & 0 & 0 & 0 & 0 & 0 & 0 & 0 & 0 & 0 & ⋯ & 45.8 & 34.9 & 63 & 28.89 & 0 & 6 & male   & WHITE & No comorbidity & no\\\\\n",
       "\t 11093 & 0 & 0 & 0 & 0 & 0 & 0 & 0 & 0 & 0 & ⋯ & 31.3 & 26.7 & 54 & 27.32 & 0 & 0 & male   & WHITE & No comorbidity & NA\\\\\n",
       "\\end{tabular}\n"
      ],
      "text/markdown": [
       "\n",
       "A tibble: 6 × 92\n",
       "\n",
       "| PATIENT_NUM &lt;dbl&gt; | X101 &lt;dbl&gt; | X102 &lt;dbl&gt; | X103 &lt;dbl&gt; | X104 &lt;dbl&gt; | X105 &lt;dbl&gt; | X106 &lt;dbl&gt; | X107 &lt;dbl&gt; | X108 &lt;dbl&gt; | X109 &lt;dbl&gt; | ⋯ ⋯ | GH_MENTAL_SCORE &lt;dbl&gt; | GH_PHYSICAL_SCORE &lt;dbl&gt; | AGE_AT_CONTACT &lt;dbl&gt; | BMI &lt;dbl&gt; | CCI_TOTAL_SCORE &lt;dbl&gt; | PAIN_INTENSITY_AVERAGE.FOLLOW_UP &lt;dbl&gt; | PAT_SEX &lt;chr&gt; | PAT_RACE &lt;chr&gt; | CCI_BIN &lt;chr&gt; | MEDICAID_BIN &lt;chr&gt; |\n",
       "|---|---|---|---|---|---|---|---|---|---|---|---|---|---|---|---|---|---|---|---|---|\n",
       "| 13118 | 0 | 0 | 0 | 0 | 0 | 0 | 0 | 0 | 0 | ⋯ | 43.5 | 29.6 | 78 | 33.67 | 0 | 2 | male   | WHITE | No comorbidity | no |\n",
       "| 21384 | 0 | 0 | 0 | 0 | 0 | 0 | 0 | 0 | 0 | ⋯ | 53.3 | 37.4 | 70 | 36.26 | 0 | 5 | female | WHITE | No comorbidity | no |\n",
       "|  6240 | 0 | 0 | 0 | 0 | 0 | 0 | 0 | 0 | 0 | ⋯ | 48.3 | 37.4 | 75 | 27.25 | 0 | 6 | male   | WHITE | No comorbidity | no |\n",
       "|  1827 | 0 | 0 | 0 | 0 | 0 | 0 | 0 | 0 | 0 | ⋯ |   NA |   NA | 61 |    NA | 0 | 7 | male   | WHITE | No comorbidity | no |\n",
       "| 11309 | 0 | 0 | 0 | 0 | 0 | 0 | 0 | 0 | 0 | ⋯ | 45.8 | 34.9 | 63 | 28.89 | 0 | 6 | male   | WHITE | No comorbidity | no |\n",
       "| 11093 | 0 | 0 | 0 | 0 | 0 | 0 | 0 | 0 | 0 | ⋯ | 31.3 | 26.7 | 54 | 27.32 | 0 | 0 | male   | WHITE | No comorbidity | NA |\n",
       "\n"
      ],
      "text/plain": [
       "  PATIENT_NUM X101 X102 X103 X104 X105 X106 X107 X108 X109 ⋯ GH_MENTAL_SCORE\n",
       "1 13118       0    0    0    0    0    0    0    0    0    ⋯ 43.5           \n",
       "2 21384       0    0    0    0    0    0    0    0    0    ⋯ 53.3           \n",
       "3  6240       0    0    0    0    0    0    0    0    0    ⋯ 48.3           \n",
       "4  1827       0    0    0    0    0    0    0    0    0    ⋯   NA           \n",
       "5 11309       0    0    0    0    0    0    0    0    0    ⋯ 45.8           \n",
       "6 11093       0    0    0    0    0    0    0    0    0    ⋯ 31.3           \n",
       "  GH_PHYSICAL_SCORE AGE_AT_CONTACT BMI   CCI_TOTAL_SCORE\n",
       "1 29.6              78             33.67 0              \n",
       "2 37.4              70             36.26 0              \n",
       "3 37.4              75             27.25 0              \n",
       "4   NA              61                NA 0              \n",
       "5 34.9              63             28.89 0              \n",
       "6 26.7              54             27.32 0              \n",
       "  PAIN_INTENSITY_AVERAGE.FOLLOW_UP PAT_SEX PAT_RACE CCI_BIN        MEDICAID_BIN\n",
       "1 2                                male    WHITE    No comorbidity no          \n",
       "2 5                                female  WHITE    No comorbidity no          \n",
       "3 6                                male    WHITE    No comorbidity no          \n",
       "4 7                                male    WHITE    No comorbidity no          \n",
       "5 6                                male    WHITE    No comorbidity no          \n",
       "6 0                                male    WHITE    No comorbidity NA          "
      ]
     },
     "metadata": {},
     "output_type": "display_data"
    },
    {
     "data": {
      "text/html": [
       "<style>\n",
       ".list-inline {list-style: none; margin:0; padding: 0}\n",
       ".list-inline>li {display: inline-block}\n",
       ".list-inline>li:not(:last-child)::after {content: \"\\00b7\"; padding: 0 .5ex}\n",
       "</style>\n",
       "<ol class=list-inline><li>'PATIENT_NUM'</li><li>'X101'</li><li>'X102'</li><li>'X103'</li><li>'X104'</li><li>'X105'</li><li>'X106'</li><li>'X107'</li><li>'X108'</li><li>'X109'</li><li>'X110'</li><li>'X111'</li><li>'X112'</li><li>'X113'</li><li>'X114'</li><li>'X115'</li><li>'X116'</li><li>'X117'</li><li>'X118'</li><li>'X119'</li><li>'X120'</li><li>'X121'</li><li>'X122'</li><li>'X123'</li><li>'X124'</li><li>'X125'</li><li>'X126'</li><li>'X127'</li><li>'X128'</li><li>'X129'</li><li>'X130'</li><li>'X131'</li><li>'X132'</li><li>'X133'</li><li>'X134'</li><li>'X135'</li><li>'X136'</li><li>'X201'</li><li>'X202'</li><li>'X203'</li><li>'X204'</li><li>'X205'</li><li>'X206'</li><li>'X207'</li><li>'X208'</li><li>'X209'</li><li>'X210'</li><li>'X211'</li><li>'X212'</li><li>'X213'</li><li>'X214'</li><li>'X215'</li><li>'X216'</li><li>'X217'</li><li>'X218'</li><li>'X219'</li><li>'X220'</li><li>'X221'</li><li>'X222'</li><li>'X223'</li><li>'X224'</li><li>'X225'</li><li>'X226'</li><li>'X227'</li><li>'X228'</li><li>'X229'</li><li>'X230'</li><li>'X231'</li><li>'X232'</li><li>'X233'</li><li>'X234'</li><li>'X235'</li><li>'X236'</li><li>'X237'</li><li>'X238'</li><li>'PAIN_INTENSITY_AVERAGE'</li><li>'PROMIS_PHYSICAL_FUNCTION'</li><li>'PROMIS_PAIN_BEHAVIOR'</li><li>'PROMIS_DEPRESSION'</li><li>'PROMIS_ANXIETY'</li><li>'PROMIS_SLEEP_DISTURB_V1_0'</li><li>'PROMIS_PAIN_INTERFERENCE'</li><li>'GH_MENTAL_SCORE'</li><li>'GH_PHYSICAL_SCORE'</li><li>'AGE_AT_CONTACT'</li><li>'BMI'</li><li>'CCI_TOTAL_SCORE'</li><li>'PAIN_INTENSITY_AVERAGE.FOLLOW_UP'</li><li>'PAT_SEX'</li><li>'PAT_RACE'</li><li>'CCI_BIN'</li><li>'MEDICAID_BIN'</li></ol>\n"
      ],
      "text/latex": [
       "\\begin{enumerate*}\n",
       "\\item 'PATIENT\\_NUM'\n",
       "\\item 'X101'\n",
       "\\item 'X102'\n",
       "\\item 'X103'\n",
       "\\item 'X104'\n",
       "\\item 'X105'\n",
       "\\item 'X106'\n",
       "\\item 'X107'\n",
       "\\item 'X108'\n",
       "\\item 'X109'\n",
       "\\item 'X110'\n",
       "\\item 'X111'\n",
       "\\item 'X112'\n",
       "\\item 'X113'\n",
       "\\item 'X114'\n",
       "\\item 'X115'\n",
       "\\item 'X116'\n",
       "\\item 'X117'\n",
       "\\item 'X118'\n",
       "\\item 'X119'\n",
       "\\item 'X120'\n",
       "\\item 'X121'\n",
       "\\item 'X122'\n",
       "\\item 'X123'\n",
       "\\item 'X124'\n",
       "\\item 'X125'\n",
       "\\item 'X126'\n",
       "\\item 'X127'\n",
       "\\item 'X128'\n",
       "\\item 'X129'\n",
       "\\item 'X130'\n",
       "\\item 'X131'\n",
       "\\item 'X132'\n",
       "\\item 'X133'\n",
       "\\item 'X134'\n",
       "\\item 'X135'\n",
       "\\item 'X136'\n",
       "\\item 'X201'\n",
       "\\item 'X202'\n",
       "\\item 'X203'\n",
       "\\item 'X204'\n",
       "\\item 'X205'\n",
       "\\item 'X206'\n",
       "\\item 'X207'\n",
       "\\item 'X208'\n",
       "\\item 'X209'\n",
       "\\item 'X210'\n",
       "\\item 'X211'\n",
       "\\item 'X212'\n",
       "\\item 'X213'\n",
       "\\item 'X214'\n",
       "\\item 'X215'\n",
       "\\item 'X216'\n",
       "\\item 'X217'\n",
       "\\item 'X218'\n",
       "\\item 'X219'\n",
       "\\item 'X220'\n",
       "\\item 'X221'\n",
       "\\item 'X222'\n",
       "\\item 'X223'\n",
       "\\item 'X224'\n",
       "\\item 'X225'\n",
       "\\item 'X226'\n",
       "\\item 'X227'\n",
       "\\item 'X228'\n",
       "\\item 'X229'\n",
       "\\item 'X230'\n",
       "\\item 'X231'\n",
       "\\item 'X232'\n",
       "\\item 'X233'\n",
       "\\item 'X234'\n",
       "\\item 'X235'\n",
       "\\item 'X236'\n",
       "\\item 'X237'\n",
       "\\item 'X238'\n",
       "\\item 'PAIN\\_INTENSITY\\_AVERAGE'\n",
       "\\item 'PROMIS\\_PHYSICAL\\_FUNCTION'\n",
       "\\item 'PROMIS\\_PAIN\\_BEHAVIOR'\n",
       "\\item 'PROMIS\\_DEPRESSION'\n",
       "\\item 'PROMIS\\_ANXIETY'\n",
       "\\item 'PROMIS\\_SLEEP\\_DISTURB\\_V1\\_0'\n",
       "\\item 'PROMIS\\_PAIN\\_INTERFERENCE'\n",
       "\\item 'GH\\_MENTAL\\_SCORE'\n",
       "\\item 'GH\\_PHYSICAL\\_SCORE'\n",
       "\\item 'AGE\\_AT\\_CONTACT'\n",
       "\\item 'BMI'\n",
       "\\item 'CCI\\_TOTAL\\_SCORE'\n",
       "\\item 'PAIN\\_INTENSITY\\_AVERAGE.FOLLOW\\_UP'\n",
       "\\item 'PAT\\_SEX'\n",
       "\\item 'PAT\\_RACE'\n",
       "\\item 'CCI\\_BIN'\n",
       "\\item 'MEDICAID\\_BIN'\n",
       "\\end{enumerate*}\n"
      ],
      "text/markdown": [
       "1. 'PATIENT_NUM'\n",
       "2. 'X101'\n",
       "3. 'X102'\n",
       "4. 'X103'\n",
       "5. 'X104'\n",
       "6. 'X105'\n",
       "7. 'X106'\n",
       "8. 'X107'\n",
       "9. 'X108'\n",
       "10. 'X109'\n",
       "11. 'X110'\n",
       "12. 'X111'\n",
       "13. 'X112'\n",
       "14. 'X113'\n",
       "15. 'X114'\n",
       "16. 'X115'\n",
       "17. 'X116'\n",
       "18. 'X117'\n",
       "19. 'X118'\n",
       "20. 'X119'\n",
       "21. 'X120'\n",
       "22. 'X121'\n",
       "23. 'X122'\n",
       "24. 'X123'\n",
       "25. 'X124'\n",
       "26. 'X125'\n",
       "27. 'X126'\n",
       "28. 'X127'\n",
       "29. 'X128'\n",
       "30. 'X129'\n",
       "31. 'X130'\n",
       "32. 'X131'\n",
       "33. 'X132'\n",
       "34. 'X133'\n",
       "35. 'X134'\n",
       "36. 'X135'\n",
       "37. 'X136'\n",
       "38. 'X201'\n",
       "39. 'X202'\n",
       "40. 'X203'\n",
       "41. 'X204'\n",
       "42. 'X205'\n",
       "43. 'X206'\n",
       "44. 'X207'\n",
       "45. 'X208'\n",
       "46. 'X209'\n",
       "47. 'X210'\n",
       "48. 'X211'\n",
       "49. 'X212'\n",
       "50. 'X213'\n",
       "51. 'X214'\n",
       "52. 'X215'\n",
       "53. 'X216'\n",
       "54. 'X217'\n",
       "55. 'X218'\n",
       "56. 'X219'\n",
       "57. 'X220'\n",
       "58. 'X221'\n",
       "59. 'X222'\n",
       "60. 'X223'\n",
       "61. 'X224'\n",
       "62. 'X225'\n",
       "63. 'X226'\n",
       "64. 'X227'\n",
       "65. 'X228'\n",
       "66. 'X229'\n",
       "67. 'X230'\n",
       "68. 'X231'\n",
       "69. 'X232'\n",
       "70. 'X233'\n",
       "71. 'X234'\n",
       "72. 'X235'\n",
       "73. 'X236'\n",
       "74. 'X237'\n",
       "75. 'X238'\n",
       "76. 'PAIN_INTENSITY_AVERAGE'\n",
       "77. 'PROMIS_PHYSICAL_FUNCTION'\n",
       "78. 'PROMIS_PAIN_BEHAVIOR'\n",
       "79. 'PROMIS_DEPRESSION'\n",
       "80. 'PROMIS_ANXIETY'\n",
       "81. 'PROMIS_SLEEP_DISTURB_V1_0'\n",
       "82. 'PROMIS_PAIN_INTERFERENCE'\n",
       "83. 'GH_MENTAL_SCORE'\n",
       "84. 'GH_PHYSICAL_SCORE'\n",
       "85. 'AGE_AT_CONTACT'\n",
       "86. 'BMI'\n",
       "87. 'CCI_TOTAL_SCORE'\n",
       "88. 'PAIN_INTENSITY_AVERAGE.FOLLOW_UP'\n",
       "89. 'PAT_SEX'\n",
       "90. 'PAT_RACE'\n",
       "91. 'CCI_BIN'\n",
       "92. 'MEDICAID_BIN'\n",
       "\n",
       "\n"
      ],
      "text/plain": [
       " [1] \"PATIENT_NUM\"                      \"X101\"                            \n",
       " [3] \"X102\"                             \"X103\"                            \n",
       " [5] \"X104\"                             \"X105\"                            \n",
       " [7] \"X106\"                             \"X107\"                            \n",
       " [9] \"X108\"                             \"X109\"                            \n",
       "[11] \"X110\"                             \"X111\"                            \n",
       "[13] \"X112\"                             \"X113\"                            \n",
       "[15] \"X114\"                             \"X115\"                            \n",
       "[17] \"X116\"                             \"X117\"                            \n",
       "[19] \"X118\"                             \"X119\"                            \n",
       "[21] \"X120\"                             \"X121\"                            \n",
       "[23] \"X122\"                             \"X123\"                            \n",
       "[25] \"X124\"                             \"X125\"                            \n",
       "[27] \"X126\"                             \"X127\"                            \n",
       "[29] \"X128\"                             \"X129\"                            \n",
       "[31] \"X130\"                             \"X131\"                            \n",
       "[33] \"X132\"                             \"X133\"                            \n",
       "[35] \"X134\"                             \"X135\"                            \n",
       "[37] \"X136\"                             \"X201\"                            \n",
       "[39] \"X202\"                             \"X203\"                            \n",
       "[41] \"X204\"                             \"X205\"                            \n",
       "[43] \"X206\"                             \"X207\"                            \n",
       "[45] \"X208\"                             \"X209\"                            \n",
       "[47] \"X210\"                             \"X211\"                            \n",
       "[49] \"X212\"                             \"X213\"                            \n",
       "[51] \"X214\"                             \"X215\"                            \n",
       "[53] \"X216\"                             \"X217\"                            \n",
       "[55] \"X218\"                             \"X219\"                            \n",
       "[57] \"X220\"                             \"X221\"                            \n",
       "[59] \"X222\"                             \"X223\"                            \n",
       "[61] \"X224\"                             \"X225\"                            \n",
       "[63] \"X226\"                             \"X227\"                            \n",
       "[65] \"X228\"                             \"X229\"                            \n",
       "[67] \"X230\"                             \"X231\"                            \n",
       "[69] \"X232\"                             \"X233\"                            \n",
       "[71] \"X234\"                             \"X235\"                            \n",
       "[73] \"X236\"                             \"X237\"                            \n",
       "[75] \"X238\"                             \"PAIN_INTENSITY_AVERAGE\"          \n",
       "[77] \"PROMIS_PHYSICAL_FUNCTION\"         \"PROMIS_PAIN_BEHAVIOR\"            \n",
       "[79] \"PROMIS_DEPRESSION\"                \"PROMIS_ANXIETY\"                  \n",
       "[81] \"PROMIS_SLEEP_DISTURB_V1_0\"        \"PROMIS_PAIN_INTERFERENCE\"        \n",
       "[83] \"GH_MENTAL_SCORE\"                  \"GH_PHYSICAL_SCORE\"               \n",
       "[85] \"AGE_AT_CONTACT\"                   \"BMI\"                             \n",
       "[87] \"CCI_TOTAL_SCORE\"                  \"PAIN_INTENSITY_AVERAGE.FOLLOW_UP\"\n",
       "[89] \"PAT_SEX\"                          \"PAT_RACE\"                        \n",
       "[91] \"CCI_BIN\"                          \"MEDICAID_BIN\"                    "
      ]
     },
     "metadata": {},
     "output_type": "display_data"
    }
   ],
   "source": [
    "head(pain)\n",
    "names(pain)"
   ]
  },
  {
   "cell_type": "markdown",
   "id": "cae695c6",
   "metadata": {},
   "source": [
    "Recall that the `$` operator can be used to access a single column. Alternatively, we can use double brackets `[[]]` to select a column. Below, we demonstrate both ways to print the first five values in the column with the patient's average pain intensity."
   ]
  },
  {
   "cell_type": "code",
   "execution_count": 7,
   "id": "3540d830",
   "metadata": {},
   "outputs": [
    {
     "data": {
      "text/html": [
       "<style>\n",
       ".list-inline {list-style: none; margin:0; padding: 0}\n",
       ".list-inline>li {display: inline-block}\n",
       ".list-inline>li:not(:last-child)::after {content: \"\\00b7\"; padding: 0 .5ex}\n",
       "</style>\n",
       "<ol class=list-inline><li>7</li><li>5</li><li>4</li><li>7</li><li>8</li></ol>\n"
      ],
      "text/latex": [
       "\\begin{enumerate*}\n",
       "\\item 7\n",
       "\\item 5\n",
       "\\item 4\n",
       "\\item 7\n",
       "\\item 8\n",
       "\\end{enumerate*}\n"
      ],
      "text/markdown": [
       "1. 7\n",
       "2. 5\n",
       "3. 4\n",
       "4. 7\n",
       "5. 8\n",
       "\n",
       "\n"
      ],
      "text/plain": [
       "[1] 7 5 4 7 8"
      ]
     },
     "metadata": {},
     "output_type": "display_data"
    },
    {
     "data": {
      "text/html": [
       "<style>\n",
       ".list-inline {list-style: none; margin:0; padding: 0}\n",
       ".list-inline>li {display: inline-block}\n",
       ".list-inline>li:not(:last-child)::after {content: \"\\00b7\"; padding: 0 .5ex}\n",
       "</style>\n",
       "<ol class=list-inline><li>7</li><li>5</li><li>4</li><li>7</li><li>8</li></ol>\n"
      ],
      "text/latex": [
       "\\begin{enumerate*}\n",
       "\\item 7\n",
       "\\item 5\n",
       "\\item 4\n",
       "\\item 7\n",
       "\\item 8\n",
       "\\end{enumerate*}\n"
      ],
      "text/markdown": [
       "1. 7\n",
       "2. 5\n",
       "3. 4\n",
       "4. 7\n",
       "5. 8\n",
       "\n",
       "\n"
      ],
      "text/plain": [
       "[1] 7 5 4 7 8"
      ]
     },
     "metadata": {},
     "output_type": "display_data"
    }
   ],
   "source": [
    "pain$PAIN_INTENSITY_AVERAGE[1:5]\n",
    "pain[[\"PAIN_INTENSITY_AVERAGE\"]][1:5]"
   ]
  },
  {
   "cell_type": "markdown",
   "id": "5a5b6143",
   "metadata": {},
   "source": [
    "### Column Summaries\n",
    "\n",
    "To explore the range and distribution of a column's values, we can use some of the base R functions. For example, the `summary()` function is a useful way to summarize a numeric column's values. Below, we can see that the pain intensity values range from 0 to 10 with a median value of 7 and that there is 1 NA value."
   ]
  },
  {
   "cell_type": "code",
   "execution_count": 8,
   "id": "b607603f",
   "metadata": {},
   "outputs": [
    {
     "data": {
      "text/plain": [
       "   Min. 1st Qu.  Median    Mean 3rd Qu.    Max.    NA's \n",
       "  0.000   5.000   7.000   6.485   8.000  10.000       1 "
      ]
     },
     "metadata": {},
     "output_type": "display_data"
    }
   ],
   "source": [
    "summary(pain$PAIN_INTENSITY_AVERAGE)"
   ]
  },
  {
   "cell_type": "markdown",
   "id": "75f699e4",
   "metadata": {},
   "source": [
    "We have already seen the `max()`, `min()`, `mean()`, and `median()` functions that could have computed some of these values for us separately. Since we do have an NA value, we add the `na.rm=TRUE` argument to these functions. Without this argument, the returned value for all of the functions will be NA. "
   ]
  },
  {
   "cell_type": "code",
   "execution_count": 9,
   "id": "8e32dd2f",
   "metadata": {},
   "outputs": [
    {
     "data": {
      "text/html": [
       "0"
      ],
      "text/latex": [
       "0"
      ],
      "text/markdown": [
       "0"
      ],
      "text/plain": [
       "[1] 0"
      ]
     },
     "metadata": {},
     "output_type": "display_data"
    },
    {
     "data": {
      "text/html": [
       "10"
      ],
      "text/latex": [
       "10"
      ],
      "text/markdown": [
       "10"
      ],
      "text/plain": [
       "[1] 10"
      ]
     },
     "metadata": {},
     "output_type": "display_data"
    },
    {
     "data": {
      "text/html": [
       "6.48527103148952"
      ],
      "text/latex": [
       "6.48527103148952"
      ],
      "text/markdown": [
       "6.48527103148952"
      ],
      "text/plain": [
       "[1] 6.485271"
      ]
     },
     "metadata": {},
     "output_type": "display_data"
    },
    {
     "data": {
      "text/html": [
       "7"
      ],
      "text/latex": [
       "7"
      ],
      "text/markdown": [
       "7"
      ],
      "text/plain": [
       "[1] 7"
      ]
     },
     "metadata": {},
     "output_type": "display_data"
    }
   ],
   "source": [
    "min(pain$PAIN_INTENSITY_AVERAGE, na.rm=TRUE)\n",
    "max(pain$PAIN_INTENSITY_AVERAGE, na.rm=TRUE)\n",
    "mean(pain$PAIN_INTENSITY_AVERAGE, na.rm=TRUE)\n",
    "median(pain$PAIN_INTENSITY_AVERAGE, na.rm=TRUE)"
   ]
  },
  {
   "cell_type": "markdown",
   "id": "72418ea7",
   "metadata": {},
   "source": [
    "Additionally, the functions below are helpful for summarizing quantitative columns.\n",
    "\n",
    "* `range()` - returns the minimum and maximum values for a numeric vector x\n",
    "* `quantile()` - returns the sample quantiles for a numeric vector\n",
    "* `IQR()` - returns the interquartile range for a numeric vector\n",
    "\n",
    "By default, the `quantile()` function returns the sample quartiles. "
   ]
  },
  {
   "cell_type": "code",
   "execution_count": 10,
   "id": "e11c6a4c",
   "metadata": {},
   "outputs": [
    {
     "data": {
      "text/html": [
       "<style>\n",
       ".dl-inline {width: auto; margin:0; padding: 0}\n",
       ".dl-inline>dt, .dl-inline>dd {float: none; width: auto; display: inline-block}\n",
       ".dl-inline>dt::after {content: \":\\0020\"; padding-right: .5ex}\n",
       ".dl-inline>dt:not(:first-of-type) {padding-left: .5ex}\n",
       "</style><dl class=dl-inline><dt>0%</dt><dd>0</dd><dt>25%</dt><dd>5</dd><dt>50%</dt><dd>7</dd><dt>75%</dt><dd>8</dd><dt>100%</dt><dd>10</dd></dl>\n"
      ],
      "text/latex": [
       "\\begin{description*}\n",
       "\\item[0\\textbackslash{}\\%] 0\n",
       "\\item[25\\textbackslash{}\\%] 5\n",
       "\\item[50\\textbackslash{}\\%] 7\n",
       "\\item[75\\textbackslash{}\\%] 8\n",
       "\\item[100\\textbackslash{}\\%] 10\n",
       "\\end{description*}\n"
      ],
      "text/markdown": [
       "0%\n",
       ":   025%\n",
       ":   550%\n",
       ":   775%\n",
       ":   8100%\n",
       ":   10\n",
       "\n"
      ],
      "text/plain": [
       "  0%  25%  50%  75% 100% \n",
       "   0    5    7    8   10 "
      ]
     },
     "metadata": {},
     "output_type": "display_data"
    }
   ],
   "source": [
    "quantile(pain$PAIN_INTENSITY_AVERAGE, na.rm = TRUE)"
   ]
  },
  {
   "cell_type": "markdown",
   "id": "b8e5462c",
   "metadata": {},
   "source": [
    "However, we can pass in a list of probabilities to use instead. For example, below we find the 0.1 and 0.9 quantiles. Again, we add the `na.rm=TRUE` argument. "
   ]
  },
  {
   "cell_type": "code",
   "execution_count": 11,
   "id": "854d7e62",
   "metadata": {},
   "outputs": [
    {
     "data": {
      "text/html": [
       "<style>\n",
       ".dl-inline {width: auto; margin:0; padding: 0}\n",
       ".dl-inline>dt, .dl-inline>dd {float: none; width: auto; display: inline-block}\n",
       ".dl-inline>dt::after {content: \":\\0020\"; padding-right: .5ex}\n",
       ".dl-inline>dt:not(:first-of-type) {padding-left: .5ex}\n",
       "</style><dl class=dl-inline><dt>10%</dt><dd>4</dd><dt>90%</dt><dd>9</dd></dl>\n"
      ],
      "text/latex": [
       "\\begin{description*}\n",
       "\\item[10\\textbackslash{}\\%] 4\n",
       "\\item[90\\textbackslash{}\\%] 9\n",
       "\\end{description*}\n"
      ],
      "text/markdown": [
       "10%\n",
       ":   490%\n",
       ":   9\n",
       "\n"
      ],
      "text/plain": [
       "10% 90% \n",
       "  4   9 "
      ]
     },
     "metadata": {},
     "output_type": "display_data"
    }
   ],
   "source": [
    "quantile(pain$PAIN_INTENSITY_AVERAGE, probs = c(0.1, 0.9), na.rm=TRUE)"
   ]
  },
  {
   "cell_type": "markdown",
   "id": "963e8f64",
   "metadata": {},
   "source": [
    "We can also plot a histogram of the sample distribution using the `hist()` function. We will look more in depth at how to change aspects of this histogram in [Chapter 4](https://alicepaul.github.io/r-for-health-data-science/book/4_exploratory_analysis.html)."
   ]
  },
  {
   "cell_type": "code",
   "execution_count": 12,
   "id": "eb2aed50",
   "metadata": {},
   "outputs": [
    {
     "data": {
      "image/png": "[encoded data removed]",
      "text/plain": [
       "Plot with title “Histogram of pain$PAIN_INTENSITY_AVERAGE”"
      ]
     },
     "metadata": {
      "image/png": {
       "height": 420,
       "width": 420
      }
     },
     "output_type": "display_data"
    }
   ],
   "source": [
    "hist(pain$PAIN_INTENSITY_AVERAGE)"
   ]
  },
  {
   "cell_type": "markdown",
   "id": "b3b63d30",
   "metadata": {},
   "source": [
    "### Practice Question\n",
    "\n",
    "Summarize the `PROMIS_SLEEP_DISTURB_V1_0` column both numerically and visually. Your results should look like this:\n",
    "\n",
    "<img src=\"images/3-practicequestion1answer.png\" alt= “” width=\"300pt\" align=\"center\">"
   ]
  },
  {
   "cell_type": "code",
   "execution_count": 13,
   "id": "af1fcfcb",
   "metadata": {},
   "outputs": [],
   "source": [
    "# Insert your solution here:"
   ]
  },
  {
   "cell_type": "markdown",
   "id": "99afac0a",
   "metadata": {},
   "source": [
    "We can also use the `summary()` function for categorical variables. In this case, R will find the counts for each level. "
   ]
  },
  {
   "cell_type": "code",
   "execution_count": 14,
   "id": "7e414403",
   "metadata": {},
   "outputs": [
    {
     "data": {
      "text/plain": [
       "   Length     Class      Mode \n",
       "    21659 character character "
      ]
     },
     "metadata": {},
     "output_type": "display_data"
    }
   ],
   "source": [
    "summary(pain$PAT_SEX)"
   ]
  },
  {
   "cell_type": "markdown",
   "id": "e0ddab56",
   "metadata": {},
   "source": [
    "For categorical columns, it is also useful to use the `table()` function, which returns the counts for each possible value, instead of the `summary()` function. By default, `table()` ignores NA values. However, we can set `useNA=\"always\"` if we also want to display the number of NA values in the table output. Additionally, we can use the `prop.table()` function to convert the counts to proportions. Below, we can see that the column `PAT_SEX` column, which corresponds to the reported patient sex, has a single missing value, and we can also see that around 60% of patients are female."
   ]
  },
  {
   "cell_type": "code",
   "execution_count": 15,
   "id": "19197d96",
   "metadata": {},
   "outputs": [
    {
     "data": {
      "text/plain": [
       "\n",
       "female   male   <NA> \n",
       " 13102   8556      1 "
      ]
     },
     "metadata": {},
     "output_type": "display_data"
    }
   ],
   "source": [
    "table(pain$PAT_SEX, useNA=\"always\")"
   ]
  },
  {
   "cell_type": "code",
   "execution_count": 16,
   "id": "8450e24e",
   "metadata": {},
   "outputs": [
    {
     "data": {
      "text/plain": [
       "\n",
       "   female      male \n",
       "0.6049497 0.3950503 "
      ]
     },
     "metadata": {},
     "output_type": "display_data"
    }
   ],
   "source": [
    "prop.table(table(pain$PAT_SEX))"
   ]
  },
  {
   "cell_type": "markdown",
   "id": "84b9dae0",
   "metadata": {},
   "source": [
    "Note that this column is not actually a factor column yet, which we can check using the `is.factor()` function. We can convert it to one using `as.factor()`. "
   ]
  },
  {
   "cell_type": "code",
   "execution_count": 17,
   "id": "44456d91",
   "metadata": {},
   "outputs": [
    {
     "data": {
      "text/html": [
       "FALSE"
      ],
      "text/latex": [
       "FALSE"
      ],
      "text/markdown": [
       "FALSE"
      ],
      "text/plain": [
       "[1] FALSE"
      ]
     },
     "metadata": {},
     "output_type": "display_data"
    }
   ],
   "source": [
    "is.factor(pain$PAT_SEX)"
   ]
  },
  {
   "cell_type": "code",
   "execution_count": 18,
   "id": "8ab3e27e",
   "metadata": {},
   "outputs": [
    {
     "data": {
      "text/html": [
       "TRUE"
      ],
      "text/latex": [
       "TRUE"
      ],
      "text/markdown": [
       "TRUE"
      ],
      "text/plain": [
       "[1] TRUE"
      ]
     },
     "metadata": {},
     "output_type": "display_data"
    }
   ],
   "source": [
    "pain$PAT_SEX <- as.factor(pain$PAT_SEX)\n",
    "is.factor(pain$PAT_SEX)"
   ]
  },
  {
   "cell_type": "markdown",
   "id": "4e338613",
   "metadata": {},
   "source": [
    "### Other Summary Functions\n",
    "\n",
    "Sometimes we want to summarize information across multiple columns or rows. We can use the `rowSums()` and `colSums()` functions to sum over the rows or columns of a matrix or data frame. We first subset the data to the body pain map regions. In the first line of code, I select the column names pertaining to these columns. This allows me to select those columns in the second line of code and store this subset of the data as a new data frame called `pain_body_map`. "
   ]
  },
  {
   "cell_type": "code",
   "execution_count": 19,
   "id": "2e262694",
   "metadata": {},
   "outputs": [
    {
     "data": {
      "text/html": [
       "<table class=\"dataframe\">\n",
       "<caption>A tibble: 6 × 74</caption>\n",
       "<thead>\n",
       "\t<tr><th scope=col>X101</th><th scope=col>X102</th><th scope=col>X103</th><th scope=col>X104</th><th scope=col>X105</th><th scope=col>X106</th><th scope=col>X107</th><th scope=col>X108</th><th scope=col>X109</th><th scope=col>X110</th><th scope=col>⋯</th><th scope=col>X229</th><th scope=col>X230</th><th scope=col>X231</th><th scope=col>X232</th><th scope=col>X233</th><th scope=col>X234</th><th scope=col>X235</th><th scope=col>X236</th><th scope=col>X237</th><th scope=col>X238</th></tr>\n",
       "\t<tr><th scope=col>&lt;dbl&gt;</th><th scope=col>&lt;dbl&gt;</th><th scope=col>&lt;dbl&gt;</th><th scope=col>&lt;dbl&gt;</th><th scope=col>&lt;dbl&gt;</th><th scope=col>&lt;dbl&gt;</th><th scope=col>&lt;dbl&gt;</th><th scope=col>&lt;dbl&gt;</th><th scope=col>&lt;dbl&gt;</th><th scope=col>&lt;dbl&gt;</th><th scope=col>⋯</th><th scope=col>&lt;dbl&gt;</th><th scope=col>&lt;dbl&gt;</th><th scope=col>&lt;dbl&gt;</th><th scope=col>&lt;dbl&gt;</th><th scope=col>&lt;dbl&gt;</th><th scope=col>&lt;dbl&gt;</th><th scope=col>&lt;dbl&gt;</th><th scope=col>&lt;dbl&gt;</th><th scope=col>&lt;dbl&gt;</th><th scope=col>&lt;dbl&gt;</th></tr>\n",
       "</thead>\n",
       "<tbody>\n",
       "\t<tr><td>0</td><td>0</td><td>0</td><td>0</td><td>0</td><td>0</td><td>0</td><td>0</td><td>0</td><td>0</td><td>⋯</td><td>0</td><td>0</td><td>1</td><td>1</td><td>0</td><td>0</td><td>0</td><td>0</td><td>0</td><td>0</td></tr>\n",
       "\t<tr><td>0</td><td>0</td><td>0</td><td>0</td><td>0</td><td>0</td><td>0</td><td>0</td><td>0</td><td>0</td><td>⋯</td><td>0</td><td>0</td><td>0</td><td>0</td><td>0</td><td>0</td><td>0</td><td>0</td><td>0</td><td>0</td></tr>\n",
       "\t<tr><td>0</td><td>0</td><td>0</td><td>0</td><td>0</td><td>0</td><td>0</td><td>0</td><td>0</td><td>0</td><td>⋯</td><td>0</td><td>0</td><td>0</td><td>0</td><td>1</td><td>0</td><td>0</td><td>0</td><td>0</td><td>0</td></tr>\n",
       "\t<tr><td>0</td><td>0</td><td>0</td><td>0</td><td>0</td><td>0</td><td>0</td><td>0</td><td>0</td><td>0</td><td>⋯</td><td>0</td><td>0</td><td>0</td><td>0</td><td>0</td><td>0</td><td>0</td><td>0</td><td>0</td><td>0</td></tr>\n",
       "\t<tr><td>0</td><td>0</td><td>0</td><td>0</td><td>0</td><td>0</td><td>0</td><td>0</td><td>0</td><td>0</td><td>⋯</td><td>1</td><td>0</td><td>0</td><td>0</td><td>0</td><td>1</td><td>0</td><td>0</td><td>0</td><td>1</td></tr>\n",
       "\t<tr><td>0</td><td>0</td><td>0</td><td>0</td><td>0</td><td>0</td><td>0</td><td>0</td><td>0</td><td>1</td><td>⋯</td><td>0</td><td>0</td><td>1</td><td>0</td><td>1</td><td>0</td><td>1</td><td>0</td><td>1</td><td>0</td></tr>\n",
       "</tbody>\n",
       "</table>\n"
      ],
      "text/latex": [
       "A tibble: 6 × 74\n",
       "\\begin{tabular}{lllllllllllllllllllll}\n",
       " X101 & X102 & X103 & X104 & X105 & X106 & X107 & X108 & X109 & X110 & ⋯ & X229 & X230 & X231 & X232 & X233 & X234 & X235 & X236 & X237 & X238\\\\\n",
       " <dbl> & <dbl> & <dbl> & <dbl> & <dbl> & <dbl> & <dbl> & <dbl> & <dbl> & <dbl> & ⋯ & <dbl> & <dbl> & <dbl> & <dbl> & <dbl> & <dbl> & <dbl> & <dbl> & <dbl> & <dbl>\\\\\n",
       "\\hline\n",
       "\t 0 & 0 & 0 & 0 & 0 & 0 & 0 & 0 & 0 & 0 & ⋯ & 0 & 0 & 1 & 1 & 0 & 0 & 0 & 0 & 0 & 0\\\\\n",
       "\t 0 & 0 & 0 & 0 & 0 & 0 & 0 & 0 & 0 & 0 & ⋯ & 0 & 0 & 0 & 0 & 0 & 0 & 0 & 0 & 0 & 0\\\\\n",
       "\t 0 & 0 & 0 & 0 & 0 & 0 & 0 & 0 & 0 & 0 & ⋯ & 0 & 0 & 0 & 0 & 1 & 0 & 0 & 0 & 0 & 0\\\\\n",
       "\t 0 & 0 & 0 & 0 & 0 & 0 & 0 & 0 & 0 & 0 & ⋯ & 0 & 0 & 0 & 0 & 0 & 0 & 0 & 0 & 0 & 0\\\\\n",
       "\t 0 & 0 & 0 & 0 & 0 & 0 & 0 & 0 & 0 & 0 & ⋯ & 1 & 0 & 0 & 0 & 0 & 1 & 0 & 0 & 0 & 1\\\\\n",
       "\t 0 & 0 & 0 & 0 & 0 & 0 & 0 & 0 & 0 & 1 & ⋯ & 0 & 0 & 1 & 0 & 1 & 0 & 1 & 0 & 1 & 0\\\\\n",
       "\\end{tabular}\n"
      ],
      "text/markdown": [
       "\n",
       "A tibble: 6 × 74\n",
       "\n",
       "| X101 &lt;dbl&gt; | X102 &lt;dbl&gt; | X103 &lt;dbl&gt; | X104 &lt;dbl&gt; | X105 &lt;dbl&gt; | X106 &lt;dbl&gt; | X107 &lt;dbl&gt; | X108 &lt;dbl&gt; | X109 &lt;dbl&gt; | X110 &lt;dbl&gt; | ⋯ ⋯ | X229 &lt;dbl&gt; | X230 &lt;dbl&gt; | X231 &lt;dbl&gt; | X232 &lt;dbl&gt; | X233 &lt;dbl&gt; | X234 &lt;dbl&gt; | X235 &lt;dbl&gt; | X236 &lt;dbl&gt; | X237 &lt;dbl&gt; | X238 &lt;dbl&gt; |\n",
       "|---|---|---|---|---|---|---|---|---|---|---|---|---|---|---|---|---|---|---|---|---|\n",
       "| 0 | 0 | 0 | 0 | 0 | 0 | 0 | 0 | 0 | 0 | ⋯ | 0 | 0 | 1 | 1 | 0 | 0 | 0 | 0 | 0 | 0 |\n",
       "| 0 | 0 | 0 | 0 | 0 | 0 | 0 | 0 | 0 | 0 | ⋯ | 0 | 0 | 0 | 0 | 0 | 0 | 0 | 0 | 0 | 0 |\n",
       "| 0 | 0 | 0 | 0 | 0 | 0 | 0 | 0 | 0 | 0 | ⋯ | 0 | 0 | 0 | 0 | 1 | 0 | 0 | 0 | 0 | 0 |\n",
       "| 0 | 0 | 0 | 0 | 0 | 0 | 0 | 0 | 0 | 0 | ⋯ | 0 | 0 | 0 | 0 | 0 | 0 | 0 | 0 | 0 | 0 |\n",
       "| 0 | 0 | 0 | 0 | 0 | 0 | 0 | 0 | 0 | 0 | ⋯ | 1 | 0 | 0 | 0 | 0 | 1 | 0 | 0 | 0 | 1 |\n",
       "| 0 | 0 | 0 | 0 | 0 | 0 | 0 | 0 | 0 | 1 | ⋯ | 0 | 0 | 1 | 0 | 1 | 0 | 1 | 0 | 1 | 0 |\n",
       "\n"
      ],
      "text/plain": [
       "  X101 X102 X103 X104 X105 X106 X107 X108 X109 X110 ⋯ X229 X230 X231 X232 X233\n",
       "1 0    0    0    0    0    0    0    0    0    0    ⋯ 0    0    1    1    0   \n",
       "2 0    0    0    0    0    0    0    0    0    0    ⋯ 0    0    0    0    0   \n",
       "3 0    0    0    0    0    0    0    0    0    0    ⋯ 0    0    0    0    1   \n",
       "4 0    0    0    0    0    0    0    0    0    0    ⋯ 0    0    0    0    0   \n",
       "5 0    0    0    0    0    0    0    0    0    0    ⋯ 1    0    0    0    0   \n",
       "6 0    0    0    0    0    0    0    0    0    1    ⋯ 0    0    1    0    1   \n",
       "  X234 X235 X236 X237 X238\n",
       "1 0    0    0    0    0   \n",
       "2 0    0    0    0    0   \n",
       "3 0    0    0    0    0   \n",
       "4 0    0    0    0    0   \n",
       "5 1    0    0    0    1   \n",
       "6 0    1    0    1    0   "
      ]
     },
     "metadata": {},
     "output_type": "display_data"
    }
   ],
   "source": [
    "body_map_cols <- names(pain)[2:75]\n",
    "pain_body_map <- pain[, body_map_cols]\n",
    "head(pain_body_map)"
   ]
  },
  {
   "cell_type": "markdown",
   "id": "c2f0c8ac",
   "metadata": {},
   "source": [
    "I now compute the row sums and column sums on this subset of data. The row sum for each patient is the total number of body parts in which they experience pain, whereas the column sum for each pain region is the total number of patients who experience pain in that area. The histogram below shows that most people select a low number of total regions."
   ]
  },
  {
   "cell_type": "code",
   "execution_count": 20,
   "id": "7b7923b3",
   "metadata": {},
   "outputs": [
    {
     "data": {
      "image/png": "[encoded data removed]",
      "text/plain": [
       "Plot with title “Histogram of rowSums(pain_body_map)”"
      ]
     },
     "metadata": {
      "image/png": {
       "height": 420,
       "width": 420
      }
     },
     "output_type": "display_data"
    }
   ],
   "source": [
    "hist(rowSums(pain_body_map))"
   ]
  },
  {
   "cell_type": "markdown",
   "id": "27a8d384",
   "metadata": {},
   "source": [
    "We can also see that some body parts are more often selected than others. We create a vector called `perc_patients` below by finding the number of patients who selected each region divided by the total number of patients. The histogram shows that some body regions are selected by over 50% of patients!"
   ]
  },
  {
   "cell_type": "code",
   "execution_count": 21,
   "id": "6eb4b517",
   "metadata": {},
   "outputs": [
    {
     "data": {
      "image/png": "[encoded data removed]",
      "text/plain": [
       "Plot with title “Histogram of perc_patients”"
      ]
     },
     "metadata": {
      "image/png": {
       "height": 420,
       "width": 420
      }
     },
     "output_type": "display_data"
    }
   ],
   "source": [
    "perc_patients <- colSums(pain_body_map, na.rm=TRUE)/nrow(pain_body_map)\n",
    "hist(perc_patients)"
   ]
  },
  {
   "cell_type": "markdown",
   "id": "c82c31ec",
   "metadata": {},
   "source": [
    "We use the `which.max()` function to see that the 55th region `X219` is selected the most number of times. This corresponds to lower back pain."
   ]
  },
  {
   "cell_type": "code",
   "execution_count": 22,
   "id": "bd336bb2",
   "metadata": {},
   "outputs": [
    {
     "data": {
      "text/html": [
       "<strong>X219:</strong> 55"
      ],
      "text/latex": [
       "\\textbf{X219:} 55"
      ],
      "text/markdown": [
       "**X219:** 55"
      ],
      "text/plain": [
       "X219 \n",
       "  55 "
      ]
     },
     "metadata": {},
     "output_type": "display_data"
    }
   ],
   "source": [
    "which.max(perc_patients)"
   ]
  },
  {
   "cell_type": "markdown",
   "id": "918893e1",
   "metadata": {},
   "source": [
    "Another pair of useful functions are `pmin()` and `pmax()`. These functions take at least two vectors and find the pairwise minimum of maximum across those vectors, as shown below. For example, suppose you had two vectors, "
   ]
  },
  {
   "cell_type": "code",
   "execution_count": 23,
   "id": "2c01cb59",
   "metadata": {},
   "outputs": [
    {
     "data": {
      "text/html": [
       "<style>\n",
       ".list-inline {list-style: none; margin:0; padding: 0}\n",
       ".list-inline>li {display: inline-block}\n",
       ".list-inline>li:not(:last-child)::after {content: \"\\00b7\"; padding: 0 .5ex}\n",
       "</style>\n",
       "<ol class=list-inline><li>5</li><li>18</li><li>12</li></ol>\n"
      ],
      "text/latex": [
       "\\begin{enumerate*}\n",
       "\\item 5\n",
       "\\item 18\n",
       "\\item 12\n",
       "\\end{enumerate*}\n"
      ],
      "text/markdown": [
       "1. 5\n",
       "2. 18\n",
       "3. 12\n",
       "\n",
       "\n"
      ],
      "text/plain": [
       "[1]  5 18 12"
      ]
     },
     "metadata": {},
     "output_type": "display_data"
    }
   ],
   "source": [
    "v1 = c(5, 9, 12)\n",
    "v2 = c(2, 18, 4)\n",
    "pmax(v1, v2)  "
   ]
  },
  {
   "cell_type": "markdown",
   "id": "c4d7f24c",
   "metadata": {},
   "source": [
    "Looking back at the `pain` data, if we want to create a new column `lower_back_pain` that corresponds to whether someone selects *either* X218 or X219 we can use the `pmax()` function to find the maximum value between columns `X218` and `X219`. We can see that almost 60% of patients select at least one of these regions."
   ]
  },
  {
   "cell_type": "code",
   "execution_count": 24,
   "id": "c69de4e6",
   "metadata": {},
   "outputs": [
    {
     "data": {
      "text/plain": [
       "lower_back\n",
       "        0         1 \n",
       "0.4053929 0.5946071 "
      ]
     },
     "metadata": {},
     "output_type": "display_data"
    }
   ],
   "source": [
    "lower_back <- pmax(pain_body_map$X218, pain_body_map$X219)\n",
    "prop.table(table(lower_back))"
   ]
  },
  {
   "cell_type": "markdown",
   "id": "8bdc092e",
   "metadata": {},
   "source": [
    "We might want to store the total number of pain regions and our indicator of whether or not a patient has lower back pain as new columns. We use our code above to create new columns in the pain data using the `$` operator. To be consistent with the column naming in the data, we use all upper case for our column names. The `dim()` function shows that our data has grown by two columns, as expected. "
   ]
  },
  {
   "cell_type": "code",
   "execution_count": 25,
   "id": "09f130e8",
   "metadata": {},
   "outputs": [
    {
     "data": {
      "text/html": [
       "<style>\n",
       ".list-inline {list-style: none; margin:0; padding: 0}\n",
       ".list-inline>li {display: inline-block}\n",
       ".list-inline>li:not(:last-child)::after {content: \"\\00b7\"; padding: 0 .5ex}\n",
       "</style>\n",
       "<ol class=list-inline><li>21659</li><li>94</li></ol>\n"
      ],
      "text/latex": [
       "\\begin{enumerate*}\n",
       "\\item 21659\n",
       "\\item 94\n",
       "\\end{enumerate*}\n"
      ],
      "text/markdown": [
       "1. 21659\n",
       "2. 94\n",
       "\n",
       "\n"
      ],
      "text/plain": [
       "[1] 21659    94"
      ]
     },
     "metadata": {},
     "output_type": "display_data"
    }
   ],
   "source": [
    "pain$NUM_REGIONS <- rowSums(pain_body_map)\n",
    "pain$LOWER_BACK <- lower_back\n",
    "dim(pain)"
   ]
  },
  {
   "cell_type": "markdown",
   "id": "2f5d8ade",
   "metadata": {},
   "source": [
    "Another useful function that allows us to perform computations over the rows or columns of a matrix or data frame is the `apply(X, MARGIN, FUN)` function, which takes in three arguments. The first agrument is a data frame or matrix `X`, the second argument `MARGIN` indicates whether to compute over the rows (`1`) or columns (`2`), and the last argument is the function `FUN` to apply across that margin. The first example below finds the maximum value for each row in the data frame `pain_body_map`. Taking the minimum value of the row maximum values shows that every patient selected at least one body map region. In the second example, we find the sum of the body pain regions over the columns, which is equivalent to the example using `colSums()` above. In this case, we added the `na.rm=TRUE` argument. The `apply()` function will pass additional arguments to the function `FUN`. "
   ]
  },
  {
   "cell_type": "code",
   "execution_count": 26,
   "id": "0ac50811",
   "metadata": {},
   "outputs": [
    {
     "data": {
      "text/html": [
       "1"
      ],
      "text/latex": [
       "1"
      ],
      "text/markdown": [
       "1"
      ],
      "text/plain": [
       "[1] 1"
      ]
     },
     "metadata": {},
     "output_type": "display_data"
    }
   ],
   "source": [
    "any_selected <- apply(pain_body_map, 1, max)\n",
    "min(any_selected, na.rm=TRUE)"
   ]
  },
  {
   "cell_type": "code",
   "execution_count": 27,
   "id": "335928d6",
   "metadata": {},
   "outputs": [
    {
     "data": {
      "text/plain": [
       "   Min. 1st Qu.  Median    Mean 3rd Qu.    Max. \n",
       "0.03227 0.06966 0.13620 0.14375 0.18125 0.54190 "
      ]
     },
     "metadata": {},
     "output_type": "display_data"
    }
   ],
   "source": [
    "perc_patients <- apply(pain_body_map, 2, sum, na.rm=TRUE)/nrow(pain_body_map)\n",
    "summary(perc_patients)"
   ]
  },
  {
   "cell_type": "markdown",
   "id": "de3422f3",
   "metadata": {},
   "source": [
    "### Practice Question\n",
    "\n",
    "Find the sum of each of the PROMIS measures across all patients using `apply()` and then using `colSums()`. Verify that these two methods return the same result, which is given below:\n",
    "\n",
    "<img src=\"images/3-practicequestion2answer.png\" alt= “” width=\"600pt\" align=\"center\">"
   ]
  },
  {
   "cell_type": "code",
   "execution_count": 28,
   "id": "fc6c6bd9",
   "metadata": {},
   "outputs": [],
   "source": [
    "# Insert your solution here:"
   ]
  },
  {
   "cell_type": "markdown",
   "id": "9482686e",
   "metadata": {},
   "source": [
    "### Missing, Infinite, and NaN Values\n",
    "\n",
    "As we saw above, this data contains some missing values, which are represented as `NA` in R. R treats these values as if they were unknown, which is why we have to add the `na.rm=TRUE` argument to functions like `sum()` and `max()`. In the example below, we can see that R figures out that 1 plus an unknown number is also unknown!"
   ]
  },
  {
   "cell_type": "code",
   "execution_count": 29,
   "id": "804da968",
   "metadata": {},
   "outputs": [
    {
     "data": {
      "text/html": [
       "&lt;NA&gt;"
      ],
      "text/latex": [
       "<NA>"
      ],
      "text/markdown": [
       "&lt;NA&gt;"
      ],
      "text/plain": [
       "[1] NA"
      ]
     },
     "metadata": {},
     "output_type": "display_data"
    }
   ],
   "source": [
    "NA+1"
   ]
  },
  {
   "cell_type": "markdown",
   "id": "1fd5d120",
   "metadata": {},
   "source": [
    "We can determine whether a value is missing using the function `is.na()`. This function returns `TRUE` if the value is NA and `FALSE` otherwise. We can then sum up these values for a single column, since each `TRUE` value corresponds to a value of 1 and each `FALSE` corresponds to a value of 0. Below we can see that there is a single NA value for the column `PATIENT_NUM`, which is the patient ID number."
   ]
  },
  {
   "cell_type": "code",
   "execution_count": 30,
   "id": "d01b9f60",
   "metadata": {},
   "outputs": [
    {
     "data": {
      "text/html": [
       "1"
      ],
      "text/latex": [
       "1"
      ],
      "text/markdown": [
       "1"
      ],
      "text/plain": [
       "[1] 1"
      ]
     },
     "metadata": {},
     "output_type": "display_data"
    }
   ],
   "source": [
    "sum(is.na(pain$PATIENT_NUM))"
   ]
  },
  {
   "cell_type": "markdown",
   "id": "884a60ac",
   "metadata": {},
   "source": [
    "If we want to calculate the sum of NA values for each column instead of just a single column, we can use the `apply` function. Since we want to apply this computation over the columns, the second argument has value 2. Recall that the last argument is the function we want to call for each column. In this case, we want to apply the combination of the `sum()` and `is.na()` function. To do so, we have to specify this function ourselves. This is called an **anonymous function** since it doesn't have a name. "
   ]
  },
  {
   "cell_type": "code",
   "execution_count": 31,
   "id": "53ad1177",
   "metadata": {},
   "outputs": [
    {
     "data": {
      "text/html": [
       "1"
      ],
      "text/latex": [
       "1"
      ],
      "text/markdown": [
       "1"
      ],
      "text/plain": [
       "[1] 1"
      ]
     },
     "metadata": {},
     "output_type": "display_data"
    }
   ],
   "source": [
    "num_missing_col <- apply(pain, 2, function(x) sum(is.na(x)))\n",
    "min(num_missing_col)"
   ]
  },
  {
   "cell_type": "markdown",
   "id": "6f340811",
   "metadata": {},
   "source": [
    "Interestingly, we can see that there is at least one missing value in each column. It might be the case that there is a row with all NA values. Let's apply the same function by row. Taking the maximum, we can see that row 11749 has all NA values."
   ]
  },
  {
   "cell_type": "code",
   "execution_count": 32,
   "id": "5fe05250",
   "metadata": {},
   "outputs": [
    {
     "data": {
      "text/html": [
       "94"
      ],
      "text/latex": [
       "94"
      ],
      "text/markdown": [
       "94"
      ],
      "text/plain": [
       "[1] 94"
      ]
     },
     "metadata": {},
     "output_type": "display_data"
    },
    {
     "data": {
      "text/html": [
       "11749"
      ],
      "text/latex": [
       "11749"
      ],
      "text/markdown": [
       "11749"
      ],
      "text/plain": [
       "[1] 11749"
      ]
     },
     "metadata": {},
     "output_type": "display_data"
    }
   ],
   "source": [
    "num_missing_row <- apply(pain, 1, function(x) sum(is.na(x)))\n",
    "max(num_missing_row)\n",
    "which.max(num_missing_row)"
   ]
  },
  {
   "cell_type": "markdown",
   "id": "01738253",
   "metadata": {},
   "source": [
    "We remove that row and then find the percentage of missing values by column. We can see that the column with the highest percentage of missing values is the pain intensity at follow-up. In fact, only 33% of patients have a recorded follow-up visit. "
   ]
  },
  {
   "cell_type": "code",
   "execution_count": 33,
   "id": "2fd0b57f",
   "metadata": {},
   "outputs": [
    {
     "data": {
      "text/html": [
       "<style>\n",
       ".dl-inline {width: auto; margin:0; padding: 0}\n",
       ".dl-inline>dt, .dl-inline>dd {float: none; width: auto; display: inline-block}\n",
       ".dl-inline>dt::after {content: \":\\0020\"; padding-right: .5ex}\n",
       ".dl-inline>dt:not(:first-of-type) {padding-left: .5ex}\n",
       "</style><dl class=dl-inline><dt>PATIENT_NUM</dt><dd>0</dd><dt>X101</dt><dd>0</dd><dt>X102</dt><dd>0</dd><dt>X103</dt><dd>0</dd><dt>X104</dt><dd>0</dd><dt>X105</dt><dd>0</dd><dt>X106</dt><dd>0</dd><dt>X107</dt><dd>0</dd><dt>X108</dt><dd>0</dd><dt>X109</dt><dd>0</dd><dt>X110</dt><dd>0</dd><dt>X111</dt><dd>0</dd><dt>X112</dt><dd>0</dd><dt>X113</dt><dd>0</dd><dt>X114</dt><dd>0</dd><dt>X115</dt><dd>0</dd><dt>X116</dt><dd>0</dd><dt>X117</dt><dd>0</dd><dt>X118</dt><dd>0</dd><dt>X119</dt><dd>0</dd><dt>X120</dt><dd>0</dd><dt>X121</dt><dd>0</dd><dt>X122</dt><dd>0</dd><dt>X123</dt><dd>0</dd><dt>X124</dt><dd>0</dd><dt>X125</dt><dd>0</dd><dt>X126</dt><dd>0</dd><dt>X127</dt><dd>0</dd><dt>X128</dt><dd>0</dd><dt>X129</dt><dd>0</dd><dt>X130</dt><dd>0</dd><dt>X131</dt><dd>0</dd><dt>X132</dt><dd>0</dd><dt>X133</dt><dd>0</dd><dt>X134</dt><dd>0</dd><dt>X135</dt><dd>0</dd><dt>X136</dt><dd>0</dd><dt>X201</dt><dd>0</dd><dt>X202</dt><dd>0</dd><dt>X203</dt><dd>0</dd><dt>X204</dt><dd>0</dd><dt>X205</dt><dd>0</dd><dt>X206</dt><dd>0</dd><dt>X207</dt><dd>0</dd><dt>X208</dt><dd>0</dd><dt>X209</dt><dd>0</dd><dt>X210</dt><dd>0</dd><dt>X211</dt><dd>0</dd><dt>X212</dt><dd>0</dd><dt>X213</dt><dd>0</dd><dt>X214</dt><dd>0</dd><dt>X215</dt><dd>0</dd><dt>X216</dt><dd>0</dd><dt>X217</dt><dd>0</dd><dt>X218</dt><dd>0</dd><dt>X219</dt><dd>0</dd><dt>X220</dt><dd>0</dd><dt>X221</dt><dd>0</dd><dt>X222</dt><dd>0</dd><dt>X223</dt><dd>0</dd><dt>X224</dt><dd>0</dd><dt>X225</dt><dd>0</dd><dt>X226</dt><dd>0</dd><dt>X227</dt><dd>0</dd><dt>X228</dt><dd>0</dd><dt>X229</dt><dd>0</dd><dt>X230</dt><dd>0</dd><dt>X231</dt><dd>0</dd><dt>X232</dt><dd>0</dd><dt>X233</dt><dd>0</dd><dt>X234</dt><dd>0</dd><dt>X235</dt><dd>0</dd><dt>X236</dt><dd>0</dd><dt>X237</dt><dd>0</dd><dt>X238</dt><dd>0</dd><dt>PAIN_INTENSITY_AVERAGE</dt><dd>0</dd><dt>PROMIS_PHYSICAL_FUNCTION</dt><dd>0</dd><dt>PROMIS_PAIN_BEHAVIOR</dt><dd>0.294117647058824</dd><dt>PROMIS_DEPRESSION</dt><dd>0.00401699141194939</dd><dt>PROMIS_ANXIETY</dt><dd>0.00401699141194939</dd><dt>PROMIS_SLEEP_DISTURB_V1_0</dt><dd>0.00401699141194939</dd><dt>PROMIS_PAIN_INTERFERENCE</dt><dd>0.00697201957706159</dd><dt>GH_MENTAL_SCORE</dt><dd>0.136023640225321</dd><dt>GH_PHYSICAL_SCORE</dt><dd>0.136023640225321</dd><dt>AGE_AT_CONTACT</dt><dd>0</dd><dt>BMI</dt><dd>0.260042478529873</dd><dt>CCI_TOTAL_SCORE</dt><dd>0</dd><dt>PAIN_INTENSITY_AVERAGE.FOLLOW_UP</dt><dd>0.67042201495983</dd><dt>PAT_SEX</dt><dd>0</dd><dt>PAT_RACE</dt><dd>0.00651029642626281</dd><dt>CCI_BIN</dt><dd>0</dd><dt>MEDICAID_BIN</dt><dd>0.0138516945239634</dd><dt>NUM_REGIONS</dt><dd>0</dd><dt>LOWER_BACK</dt><dd>0</dd></dl>\n"
      ],
      "text/latex": [
       "\\begin{description*}\n",
       "\\item[PATIENT\\textbackslash{}\\_NUM] 0\n",
       "\\item[X101] 0\n",
       "\\item[X102] 0\n",
       "\\item[X103] 0\n",
       "\\item[X104] 0\n",
       "\\item[X105] 0\n",
       "\\item[X106] 0\n",
       "\\item[X107] 0\n",
       "\\item[X108] 0\n",
       "\\item[X109] 0\n",
       "\\item[X110] 0\n",
       "\\item[X111] 0\n",
       "\\item[X112] 0\n",
       "\\item[X113] 0\n",
       "\\item[X114] 0\n",
       "\\item[X115] 0\n",
       "\\item[X116] 0\n",
       "\\item[X117] 0\n",
       "\\item[X118] 0\n",
       "\\item[X119] 0\n",
       "\\item[X120] 0\n",
       "\\item[X121] 0\n",
       "\\item[X122] 0\n",
       "\\item[X123] 0\n",
       "\\item[X124] 0\n",
       "\\item[X125] 0\n",
       "\\item[X126] 0\n",
       "\\item[X127] 0\n",
       "\\item[X128] 0\n",
       "\\item[X129] 0\n",
       "\\item[X130] 0\n",
       "\\item[X131] 0\n",
       "\\item[X132] 0\n",
       "\\item[X133] 0\n",
       "\\item[X134] 0\n",
       "\\item[X135] 0\n",
       "\\item[X136] 0\n",
       "\\item[X201] 0\n",
       "\\item[X202] 0\n",
       "\\item[X203] 0\n",
       "\\item[X204] 0\n",
       "\\item[X205] 0\n",
       "\\item[X206] 0\n",
       "\\item[X207] 0\n",
       "\\item[X208] 0\n",
       "\\item[X209] 0\n",
       "\\item[X210] 0\n",
       "\\item[X211] 0\n",
       "\\item[X212] 0\n",
       "\\item[X213] 0\n",
       "\\item[X214] 0\n",
       "\\item[X215] 0\n",
       "\\item[X216] 0\n",
       "\\item[X217] 0\n",
       "\\item[X218] 0\n",
       "\\item[X219] 0\n",
       "\\item[X220] 0\n",
       "\\item[X221] 0\n",
       "\\item[X222] 0\n",
       "\\item[X223] 0\n",
       "\\item[X224] 0\n",
       "\\item[X225] 0\n",
       "\\item[X226] 0\n",
       "\\item[X227] 0\n",
       "\\item[X228] 0\n",
       "\\item[X229] 0\n",
       "\\item[X230] 0\n",
       "\\item[X231] 0\n",
       "\\item[X232] 0\n",
       "\\item[X233] 0\n",
       "\\item[X234] 0\n",
       "\\item[X235] 0\n",
       "\\item[X236] 0\n",
       "\\item[X237] 0\n",
       "\\item[X238] 0\n",
       "\\item[PAIN\\textbackslash{}\\_INTENSITY\\textbackslash{}\\_AVERAGE] 0\n",
       "\\item[PROMIS\\textbackslash{}\\_PHYSICAL\\textbackslash{}\\_FUNCTION] 0\n",
       "\\item[PROMIS\\textbackslash{}\\_PAIN\\textbackslash{}\\_BEHAVIOR] 0.294117647058824\n",
       "\\item[PROMIS\\textbackslash{}\\_DEPRESSION] 0.00401699141194939\n",
       "\\item[PROMIS\\textbackslash{}\\_ANXIETY] 0.00401699141194939\n",
       "\\item[PROMIS\\textbackslash{}\\_SLEEP\\textbackslash{}\\_DISTURB\\textbackslash{}\\_V1\\textbackslash{}\\_0] 0.00401699141194939\n",
       "\\item[PROMIS\\textbackslash{}\\_PAIN\\textbackslash{}\\_INTERFERENCE] 0.00697201957706159\n",
       "\\item[GH\\textbackslash{}\\_MENTAL\\textbackslash{}\\_SCORE] 0.136023640225321\n",
       "\\item[GH\\textbackslash{}\\_PHYSICAL\\textbackslash{}\\_SCORE] 0.136023640225321\n",
       "\\item[AGE\\textbackslash{}\\_AT\\textbackslash{}\\_CONTACT] 0\n",
       "\\item[BMI] 0.260042478529873\n",
       "\\item[CCI\\textbackslash{}\\_TOTAL\\textbackslash{}\\_SCORE] 0\n",
       "\\item[PAIN\\textbackslash{}\\_INTENSITY\\textbackslash{}\\_AVERAGE.FOLLOW\\textbackslash{}\\_UP] 0.67042201495983\n",
       "\\item[PAT\\textbackslash{}\\_SEX] 0\n",
       "\\item[PAT\\textbackslash{}\\_RACE] 0.00651029642626281\n",
       "\\item[CCI\\textbackslash{}\\_BIN] 0\n",
       "\\item[MEDICAID\\textbackslash{}\\_BIN] 0.0138516945239634\n",
       "\\item[NUM\\textbackslash{}\\_REGIONS] 0\n",
       "\\item[LOWER\\textbackslash{}\\_BACK] 0\n",
       "\\end{description*}\n"
      ],
      "text/markdown": [
       "PATIENT_NUM\n",
       ":   0X101\n",
       ":   0X102\n",
       ":   0X103\n",
       ":   0X104\n",
       ":   0X105\n",
       ":   0X106\n",
       ":   0X107\n",
       ":   0X108\n",
       ":   0X109\n",
       ":   0X110\n",
       ":   0X111\n",
       ":   0X112\n",
       ":   0X113\n",
       ":   0X114\n",
       ":   0X115\n",
       ":   0X116\n",
       ":   0X117\n",
       ":   0X118\n",
       ":   0X119\n",
       ":   0X120\n",
       ":   0X121\n",
       ":   0X122\n",
       ":   0X123\n",
       ":   0X124\n",
       ":   0X125\n",
       ":   0X126\n",
       ":   0X127\n",
       ":   0X128\n",
       ":   0X129\n",
       ":   0X130\n",
       ":   0X131\n",
       ":   0X132\n",
       ":   0X133\n",
       ":   0X134\n",
       ":   0X135\n",
       ":   0X136\n",
       ":   0X201\n",
       ":   0X202\n",
       ":   0X203\n",
       ":   0X204\n",
       ":   0X205\n",
       ":   0X206\n",
       ":   0X207\n",
       ":   0X208\n",
       ":   0X209\n",
       ":   0X210\n",
       ":   0X211\n",
       ":   0X212\n",
       ":   0X213\n",
       ":   0X214\n",
       ":   0X215\n",
       ":   0X216\n",
       ":   0X217\n",
       ":   0X218\n",
       ":   0X219\n",
       ":   0X220\n",
       ":   0X221\n",
       ":   0X222\n",
       ":   0X223\n",
       ":   0X224\n",
       ":   0X225\n",
       ":   0X226\n",
       ":   0X227\n",
       ":   0X228\n",
       ":   0X229\n",
       ":   0X230\n",
       ":   0X231\n",
       ":   0X232\n",
       ":   0X233\n",
       ":   0X234\n",
       ":   0X235\n",
       ":   0X236\n",
       ":   0X237\n",
       ":   0X238\n",
       ":   0PAIN_INTENSITY_AVERAGE\n",
       ":   0PROMIS_PHYSICAL_FUNCTION\n",
       ":   0PROMIS_PAIN_BEHAVIOR\n",
       ":   0.294117647058824PROMIS_DEPRESSION\n",
       ":   0.00401699141194939PROMIS_ANXIETY\n",
       ":   0.00401699141194939PROMIS_SLEEP_DISTURB_V1_0\n",
       ":   0.00401699141194939PROMIS_PAIN_INTERFERENCE\n",
       ":   0.00697201957706159GH_MENTAL_SCORE\n",
       ":   0.136023640225321GH_PHYSICAL_SCORE\n",
       ":   0.136023640225321AGE_AT_CONTACT\n",
       ":   0BMI\n",
       ":   0.260042478529873CCI_TOTAL_SCORE\n",
       ":   0PAIN_INTENSITY_AVERAGE.FOLLOW_UP\n",
       ":   0.67042201495983PAT_SEX\n",
       ":   0PAT_RACE\n",
       ":   0.00651029642626281CCI_BIN\n",
       ":   0MEDICAID_BIN\n",
       ":   0.0138516945239634NUM_REGIONS\n",
       ":   0LOWER_BACK\n",
       ":   0\n",
       "\n"
      ],
      "text/plain": [
       "                     PATIENT_NUM                             X101 \n",
       "                     0.000000000                      0.000000000 \n",
       "                            X102                             X103 \n",
       "                     0.000000000                      0.000000000 \n",
       "                            X104                             X105 \n",
       "                     0.000000000                      0.000000000 \n",
       "                            X106                             X107 \n",
       "                     0.000000000                      0.000000000 \n",
       "                            X108                             X109 \n",
       "                     0.000000000                      0.000000000 \n",
       "                            X110                             X111 \n",
       "                     0.000000000                      0.000000000 \n",
       "                            X112                             X113 \n",
       "                     0.000000000                      0.000000000 \n",
       "                            X114                             X115 \n",
       "                     0.000000000                      0.000000000 \n",
       "                            X116                             X117 \n",
       "                     0.000000000                      0.000000000 \n",
       "                            X118                             X119 \n",
       "                     0.000000000                      0.000000000 \n",
       "                            X120                             X121 \n",
       "                     0.000000000                      0.000000000 \n",
       "                            X122                             X123 \n",
       "                     0.000000000                      0.000000000 \n",
       "                            X124                             X125 \n",
       "                     0.000000000                      0.000000000 \n",
       "                            X126                             X127 \n",
       "                     0.000000000                      0.000000000 \n",
       "                            X128                             X129 \n",
       "                     0.000000000                      0.000000000 \n",
       "                            X130                             X131 \n",
       "                     0.000000000                      0.000000000 \n",
       "                            X132                             X133 \n",
       "                     0.000000000                      0.000000000 \n",
       "                            X134                             X135 \n",
       "                     0.000000000                      0.000000000 \n",
       "                            X136                             X201 \n",
       "                     0.000000000                      0.000000000 \n",
       "                            X202                             X203 \n",
       "                     0.000000000                      0.000000000 \n",
       "                            X204                             X205 \n",
       "                     0.000000000                      0.000000000 \n",
       "                            X206                             X207 \n",
       "                     0.000000000                      0.000000000 \n",
       "                            X208                             X209 \n",
       "                     0.000000000                      0.000000000 \n",
       "                            X210                             X211 \n",
       "                     0.000000000                      0.000000000 \n",
       "                            X212                             X213 \n",
       "                     0.000000000                      0.000000000 \n",
       "                            X214                             X215 \n",
       "                     0.000000000                      0.000000000 \n",
       "                            X216                             X217 \n",
       "                     0.000000000                      0.000000000 \n",
       "                            X218                             X219 \n",
       "                     0.000000000                      0.000000000 \n",
       "                            X220                             X221 \n",
       "                     0.000000000                      0.000000000 \n",
       "                            X222                             X223 \n",
       "                     0.000000000                      0.000000000 \n",
       "                            X224                             X225 \n",
       "                     0.000000000                      0.000000000 \n",
       "                            X226                             X227 \n",
       "                     0.000000000                      0.000000000 \n",
       "                            X228                             X229 \n",
       "                     0.000000000                      0.000000000 \n",
       "                            X230                             X231 \n",
       "                     0.000000000                      0.000000000 \n",
       "                            X232                             X233 \n",
       "                     0.000000000                      0.000000000 \n",
       "                            X234                             X235 \n",
       "                     0.000000000                      0.000000000 \n",
       "                            X236                             X237 \n",
       "                     0.000000000                      0.000000000 \n",
       "                            X238           PAIN_INTENSITY_AVERAGE \n",
       "                     0.000000000                      0.000000000 \n",
       "        PROMIS_PHYSICAL_FUNCTION             PROMIS_PAIN_BEHAVIOR \n",
       "                     0.000000000                      0.294117647 \n",
       "               PROMIS_DEPRESSION                   PROMIS_ANXIETY \n",
       "                     0.004016991                      0.004016991 \n",
       "       PROMIS_SLEEP_DISTURB_V1_0         PROMIS_PAIN_INTERFERENCE \n",
       "                     0.004016991                      0.006972020 \n",
       "                 GH_MENTAL_SCORE                GH_PHYSICAL_SCORE \n",
       "                     0.136023640                      0.136023640 \n",
       "                  AGE_AT_CONTACT                              BMI \n",
       "                     0.000000000                      0.260042479 \n",
       "                 CCI_TOTAL_SCORE PAIN_INTENSITY_AVERAGE.FOLLOW_UP \n",
       "                     0.000000000                      0.670422015 \n",
       "                         PAT_SEX                         PAT_RACE \n",
       "                     0.000000000                      0.006510296 \n",
       "                         CCI_BIN                     MEDICAID_BIN \n",
       "                     0.000000000                      0.013851695 \n",
       "                     NUM_REGIONS                       LOWER_BACK \n",
       "                     0.000000000                      0.000000000 "
      ]
     },
     "metadata": {},
     "output_type": "display_data"
    }
   ],
   "source": [
    "pain <- pain[-11749,]\n",
    "num_missing_col <- apply(pain, 2, function(x) sum(is.na(x))/nrow(pain))\n",
    "num_missing_col"
   ]
  },
  {
   "cell_type": "markdown",
   "id": "ff151954",
   "metadata": {},
   "source": [
    "We will create two new columns: first, we create a column for the change in pain at follow-up, and second, we create a column which is the percent change in pain at follow-up. "
   ]
  },
  {
   "cell_type": "code",
   "execution_count": 34,
   "id": "ff67823a",
   "metadata": {},
   "outputs": [
    {
     "data": {
      "image/png": "[encoded data removed]",
      "text/plain": [
       "Plot with title “Histogram of pain$PAIN_CHANGE”"
      ]
     },
     "metadata": {
      "image/png": {
       "height": 420,
       "width": 420
      }
     },
     "output_type": "display_data"
    }
   ],
   "source": [
    "pain$PAIN_CHANGE <- pain$PAIN_INTENSITY_AVERAGE.FOLLOW_UP - pain$PAIN_INTENSITY_AVERAGE\n",
    "hist(pain$PAIN_CHANGE)"
   ]
  },
  {
   "cell_type": "code",
   "execution_count": 35,
   "id": "ffbd4bb7",
   "metadata": {},
   "outputs": [
    {
     "data": {
      "text/plain": [
       "   Min. 1st Qu.  Median    Mean 3rd Qu.    Max.    NA's \n",
       " -1.000  -0.200   0.000     Inf   0.143     Inf   14520 "
      ]
     },
     "metadata": {},
     "output_type": "display_data"
    }
   ],
   "source": [
    "pain$PERC_PAIN_CHANGE <- pain$PAIN_CHANGE/pain$PAIN_INTENSITY_AVERAGE\n",
    "summary(pain$PERC_PAIN_CHANGE)"
   ]
  },
  {
   "cell_type": "markdown",
   "id": "b4d55bb3",
   "metadata": {},
   "source": [
    "In the summary of the percent change, we can see that the maximum value is `Inf`. This is R's representation of infinity. This occurred because some patients have an intial pain score of 0, which creates infinite values when we divide through by this value to find the percent change. We can test whether something is infinite using the `is.infinite()` or `is.finite()` functions. This shows that there were three patients with infinite values. The value `-Inf` is used to represent negative infinity."
   ]
  },
  {
   "cell_type": "code",
   "execution_count": 36,
   "id": "7c2f5618",
   "metadata": {},
   "outputs": [
    {
     "data": {
      "text/html": [
       "3"
      ],
      "text/latex": [
       "3"
      ],
      "text/markdown": [
       "3"
      ],
      "text/plain": [
       "[1] 3"
      ]
     },
     "metadata": {},
     "output_type": "display_data"
    }
   ],
   "source": [
    "sum(is.infinite(pain$PERC_PAIN_CHANGE))"
   ]
  },
  {
   "cell_type": "markdown",
   "id": "bc7fbd95",
   "metadata": {},
   "source": [
    "Another special value in R is `NaN`, which stands for \"Not a Number\". For example, `0/0` will result in a NaN value. We can test for `NaN` values using the `is.nan()` function."
   ]
  },
  {
   "cell_type": "code",
   "execution_count": 37,
   "id": "15df73f4",
   "metadata": {},
   "outputs": [
    {
     "data": {
      "text/html": [
       "NaN"
      ],
      "text/latex": [
       "NaN"
      ],
      "text/markdown": [
       "NaN"
      ],
      "text/plain": [
       "[1] NaN"
      ]
     },
     "metadata": {},
     "output_type": "display_data"
    }
   ],
   "source": [
    "0/0"
   ]
  },
  {
   "cell_type": "markdown",
   "id": "6f5a541a",
   "metadata": {},
   "source": [
    "Looking back at the missing values, there are two useful functions for selecting the complete cases in a data frame. The `na.omit()` function returns the data frame with incomplete cases removed, whereas `complete.cases()` returns TRUE/FALSE values for each row indicating whether each row is complete, which we can then use to select the rows with TRUE values. Below, we see both approaches select the same number of rows."
   ]
  },
  {
   "cell_type": "code",
   "execution_count": 38,
   "id": "5479ec52",
   "metadata": {},
   "outputs": [
    {
     "data": {
      "text/html": [
       "<style>\n",
       ".list-inline {list-style: none; margin:0; padding: 0}\n",
       ".list-inline>li {display: inline-block}\n",
       ".list-inline>li:not(:last-child)::after {content: \"\\00b7\"; padding: 0 .5ex}\n",
       "</style>\n",
       "<ol class=list-inline><li>2413</li><li>96</li></ol>\n"
      ],
      "text/latex": [
       "\\begin{enumerate*}\n",
       "\\item 2413\n",
       "\\item 96\n",
       "\\end{enumerate*}\n"
      ],
      "text/markdown": [
       "1. 2413\n",
       "2. 96\n",
       "\n",
       "\n"
      ],
      "text/plain": [
       "[1] 2413   96"
      ]
     },
     "metadata": {},
     "output_type": "display_data"
    },
    {
     "data": {
      "text/html": [
       "<style>\n",
       ".list-inline {list-style: none; margin:0; padding: 0}\n",
       ".list-inline>li {display: inline-block}\n",
       ".list-inline>li:not(:last-child)::after {content: \"\\00b7\"; padding: 0 .5ex}\n",
       "</style>\n",
       "<ol class=list-inline><li>2413</li><li>96</li></ol>\n"
      ],
      "text/latex": [
       "\\begin{enumerate*}\n",
       "\\item 2413\n",
       "\\item 96\n",
       "\\end{enumerate*}\n"
      ],
      "text/markdown": [
       "1. 2413\n",
       "2. 96\n",
       "\n",
       "\n"
      ],
      "text/plain": [
       "[1] 2413   96"
      ]
     },
     "metadata": {},
     "output_type": "display_data"
    }
   ],
   "source": [
    "pain_sub1 <- na.omit(pain)\n",
    "pain_sub2 <- pain[complete.cases(pain),]\n",
    "dim(pain_sub1)\n",
    "dim(pain_sub2)"
   ]
  },
  {
   "cell_type": "markdown",
   "id": "a695a758",
   "metadata": {},
   "source": [
    "## Using Logic to Subset, Summarize, and Transform"
   ]
  },
  {
   "cell_type": "markdown",
   "id": "9118d97e",
   "metadata": {},
   "source": [
    "Above, we used TRUE/FALSE values to select rows in a data frame. The logic operators in R allow us to expand on this capability to write more complex logic. The operators are given below. \n",
    "\n",
    "* `<` less than\n",
    "* `<=` less than or equal to \n",
    "* `>` greater than\n",
    "*  `>=` greater than or equal to \n",
    "* `==` equal to\n",
    "* `!=` not equal to \n",
    "* `a %in% b` a's value is in a vector of values b\n",
    "\n",
    "The first six operators are a direct comparison between two values and are demonstrated below. "
   ]
  },
  {
   "cell_type": "code",
   "execution_count": 39,
   "id": "e06f918b",
   "metadata": {},
   "outputs": [
    {
     "data": {
      "text/html": [
       "FALSE"
      ],
      "text/latex": [
       "FALSE"
      ],
      "text/markdown": [
       "FALSE"
      ],
      "text/plain": [
       "[1] FALSE"
      ]
     },
     "metadata": {},
     "output_type": "display_data"
    },
    {
     "data": {
      "text/html": [
       "TRUE"
      ],
      "text/latex": [
       "TRUE"
      ],
      "text/markdown": [
       "TRUE"
      ],
      "text/plain": [
       "[1] TRUE"
      ]
     },
     "metadata": {},
     "output_type": "display_data"
    },
    {
     "data": {
      "text/html": [
       "TRUE"
      ],
      "text/latex": [
       "TRUE"
      ],
      "text/markdown": [
       "TRUE"
      ],
      "text/plain": [
       "[1] TRUE"
      ]
     },
     "metadata": {},
     "output_type": "display_data"
    },
    {
     "data": {
      "text/html": [
       "TRUE"
      ],
      "text/latex": [
       "TRUE"
      ],
      "text/markdown": [
       "TRUE"
      ],
      "text/plain": [
       "[1] TRUE"
      ]
     },
     "metadata": {},
     "output_type": "display_data"
    },
    {
     "data": {
      "text/html": [
       "FALSE"
      ],
      "text/latex": [
       "FALSE"
      ],
      "text/markdown": [
       "FALSE"
      ],
      "text/plain": [
       "[1] FALSE"
      ]
     },
     "metadata": {},
     "output_type": "display_data"
    },
    {
     "data": {
      "text/html": [
       "TRUE"
      ],
      "text/latex": [
       "TRUE"
      ],
      "text/markdown": [
       "TRUE"
      ],
      "text/plain": [
       "[1] TRUE"
      ]
     },
     "metadata": {},
     "output_type": "display_data"
    }
   ],
   "source": [
    "2 < 2\n",
    "2 <= 2\n",
    "3 > 2\n",
    "3 >= 2\n",
    "\"A\" == \"B\"\n",
    "\"A\" != \"B\""
   ]
  },
  {
   "cell_type": "markdown",
   "id": "66ce18a1",
   "metadata": {},
   "source": [
    "The operators assume there is a natural ordering or comparison between values. For example, for strings the ordering is alphabetical and for logical operators we use their numeric interpretation (TRUE = 1, FALSE = 0)."
   ]
  },
  {
   "cell_type": "code",
   "execution_count": 40,
   "id": "719bf59e",
   "metadata": {},
   "outputs": [
    {
     "data": {
      "text/html": [
       "TRUE"
      ],
      "text/latex": [
       "TRUE"
      ],
      "text/markdown": [
       "TRUE"
      ],
      "text/plain": [
       "[1] TRUE"
      ]
     },
     "metadata": {},
     "output_type": "display_data"
    },
    {
     "data": {
      "text/html": [
       "FALSE"
      ],
      "text/latex": [
       "FALSE"
      ],
      "text/markdown": [
       "FALSE"
      ],
      "text/plain": [
       "[1] FALSE"
      ]
     },
     "metadata": {},
     "output_type": "display_data"
    }
   ],
   "source": [
    "\"A\" < \"B\"\n",
    "TRUE < FALSE"
   ]
  },
  {
   "cell_type": "markdown",
   "id": "74c60aab",
   "metadata": {},
   "source": [
    "The `%in%` operator is slightly different. This operator checks whether a value is in a set of possible values. Below, we can check whether values are in the set `c(4,1,2)`."
   ]
  },
  {
   "cell_type": "code",
   "execution_count": 41,
   "id": "c8c594ff",
   "metadata": {},
   "outputs": [
    {
     "data": {
      "text/html": [
       "TRUE"
      ],
      "text/latex": [
       "TRUE"
      ],
      "text/markdown": [
       "TRUE"
      ],
      "text/plain": [
       "[1] TRUE"
      ]
     },
     "metadata": {},
     "output_type": "display_data"
    },
    {
     "data": {
      "text/html": [
       "<style>\n",
       ".list-inline {list-style: none; margin:0; padding: 0}\n",
       ".list-inline>li {display: inline-block}\n",
       ".list-inline>li:not(:last-child)::after {content: \"\\00b7\"; padding: 0 .5ex}\n",
       "</style>\n",
       "<ol class=list-inline><li>FALSE</li><li>TRUE</li><li>FALSE</li></ol>\n"
      ],
      "text/latex": [
       "\\begin{enumerate*}\n",
       "\\item FALSE\n",
       "\\item TRUE\n",
       "\\item FALSE\n",
       "\\end{enumerate*}\n"
      ],
      "text/markdown": [
       "1. FALSE\n",
       "2. TRUE\n",
       "3. FALSE\n",
       "\n",
       "\n"
      ],
      "text/plain": [
       "[1] FALSE  TRUE FALSE"
      ]
     },
     "metadata": {},
     "output_type": "display_data"
    }
   ],
   "source": [
    "1 %in% c(4,1,2)\n",
    "c(0,1,5) %in% c(4,1,2)"
   ]
  },
  {
   "cell_type": "markdown",
   "id": "2f6b609e",
   "metadata": {},
   "source": [
    "Additionally, we can use the following operators, which allow us to negate or combine logical operators. \n",
    "\n",
    "* `!x` - the **NOT** operator `!` reverses TRUE/FALSE values \n",
    "* `x | y` - the **OR** operator `|` checks whether *either* x or y is equal to TRUE\n",
    "* `x & y` - the **AND** operator `&` checks whether *both* x and y are equal to TRUE\n",
    "* `xor(x,y)` - the **xor** function checks whether exactly one of x or y is equal to TRUE (called exclusive or)\n",
    "* `any(x)` - the **any** function checks whether any value in x is TRUE (equivalent to using an OR operator `|` between all values)\n",
    "* `all(x)` - the **all** function checks whether all values in x are TRUE (equivalent to using an AND operator `&` between all values)\n",
    "\n",
    "Some simple examples for each are given below. "
   ]
  },
  {
   "cell_type": "code",
   "execution_count": 42,
   "id": "4590a075",
   "metadata": {},
   "outputs": [
    {
     "data": {
      "text/html": [
       "FALSE"
      ],
      "text/latex": [
       "FALSE"
      ],
      "text/markdown": [
       "FALSE"
      ],
      "text/plain": [
       "[1] FALSE"
      ]
     },
     "metadata": {},
     "output_type": "display_data"
    },
    {
     "data": {
      "text/html": [
       "TRUE"
      ],
      "text/latex": [
       "TRUE"
      ],
      "text/markdown": [
       "TRUE"
      ],
      "text/plain": [
       "[1] TRUE"
      ]
     },
     "metadata": {},
     "output_type": "display_data"
    },
    {
     "data": {
      "text/html": [
       "FALSE"
      ],
      "text/latex": [
       "FALSE"
      ],
      "text/markdown": [
       "FALSE"
      ],
      "text/plain": [
       "[1] FALSE"
      ]
     },
     "metadata": {},
     "output_type": "display_data"
    },
    {
     "data": {
      "text/html": [
       "TRUE"
      ],
      "text/latex": [
       "TRUE"
      ],
      "text/markdown": [
       "TRUE"
      ],
      "text/plain": [
       "[1] TRUE"
      ]
     },
     "metadata": {},
     "output_type": "display_data"
    },
    {
     "data": {
      "text/html": [
       "TRUE"
      ],
      "text/latex": [
       "TRUE"
      ],
      "text/markdown": [
       "TRUE"
      ],
      "text/plain": [
       "[1] TRUE"
      ]
     },
     "metadata": {},
     "output_type": "display_data"
    },
    {
     "data": {
      "text/html": [
       "FALSE"
      ],
      "text/latex": [
       "FALSE"
      ],
      "text/markdown": [
       "FALSE"
      ],
      "text/plain": [
       "[1] FALSE"
      ]
     },
     "metadata": {},
     "output_type": "display_data"
    }
   ],
   "source": [
    "!(2 < 3)\n",
    "(\"Alice\" < \"Bob\") | (\"Alice\" < \"Aaron\")\n",
    "(\"Alice\" < \"Bob\") & (\"Alice\" < \"Aaron\")\n",
    "xor(TRUE, FALSE)\n",
    "any(c(FALSE, TRUE, TRUE))\n",
    "all(c(FALSE, TRUE, TRUE))"
   ]
  },
  {
   "cell_type": "markdown",
   "id": "6e561de0",
   "metadata": {},
   "source": [
    "Let's demonstrate these operators on the pain data. We first update the Medicaid column by making the character values more informative. The logic on the left hand side selects those that do or do not have Medicaid and then assigns those values to the new ones. "
   ]
  },
  {
   "cell_type": "code",
   "execution_count": 43,
   "id": "2773c2a8",
   "metadata": {},
   "outputs": [
    {
     "data": {
      "text/plain": [
       "\n",
       "   Medicaid No Medicaid \n",
       "       4601       16757 "
      ]
     },
     "metadata": {},
     "output_type": "display_data"
    }
   ],
   "source": [
    "pain$MEDICAID_BIN[pain$MEDICAID_BIN == \"no\"] <- \"No Medicaid\"\n",
    "pain$MEDICAID_BIN[pain$MEDICAID_BIN == \"yes\"] <- \"Medicaid\"\n",
    "table(pain$MEDICAID_BIN)"
   ]
  },
  {
   "cell_type": "markdown",
   "id": "f7d7c981",
   "metadata": {},
   "source": [
    "Additionally, we could subset the data to only those who have follow-up. The not operator `!` will reverse the TRUE/FALSE values returned from the `is.na()` function. Therefore, the new value will be TRUE if the follow-up value is *not* NA."
   ]
  },
  {
   "cell_type": "code",
   "execution_count": 44,
   "id": "fe0cc0be",
   "metadata": {},
   "outputs": [],
   "source": [
    "pain_follow_up <- pain[!is.na(pain$PAIN_INTENSITY_AVERAGE.FOLLOW_UP),]"
   ]
  },
  {
   "cell_type": "markdown",
   "id": "3526e265",
   "metadata": {},
   "source": [
    "Earlier, we created a column indicating whether or not a patient has lower back pain. We now use the `any()` function to check whether a patient has general back pain. If at least one of these values is equal to 1, then the function will return TRUE. If we had used the `all()` function instead, this would check whether all values are equal to 1, indicating that a patient has pain on their whole back. "
   ]
  },
  {
   "cell_type": "code",
   "execution_count": 45,
   "id": "b8f95fe8",
   "metadata": {},
   "outputs": [],
   "source": [
    "pain$BACK <- any(pain$X208==1, pain$X209==1, pain$X212==1, pain$X213==1, \n",
    "                 pain$X218==1, pain$X219==1)"
   ]
  },
  {
   "cell_type": "markdown",
   "id": "50317b9a",
   "metadata": {},
   "source": [
    "### Practice Question\n",
    "\n",
    "Subset the `pain` data to those who have follow-up and have an initial average pain intensity of 5 or above. Name this subset of the data `pain_subset`. Print the head of this data. The first 6 patient IDs in this new dataset should be 13118, 21384, 1827, 11309, 11093, and 14667."
   ]
  },
  {
   "cell_type": "code",
   "execution_count": 46,
   "id": "f917768f",
   "metadata": {},
   "outputs": [],
   "source": [
    "# Insert your solution here:"
   ]
  },
  {
   "cell_type": "markdown",
   "id": "1b779697",
   "metadata": {},
   "source": [
    "Lastly, we look at the column for patient race `PAT_RACE`. The `table()` function shows that most patients are `WHITE` or `BLACK`. Given how few observations are in the other categories, we may want to combine some of these levels into one. "
   ]
  },
  {
   "cell_type": "code",
   "execution_count": 47,
   "id": "5dc8cb76",
   "metadata": {},
   "outputs": [
    {
     "data": {
      "text/plain": [
       "\n",
       "         ALASKA NATIVE        AMERICAN INDIAN                  BLACK \n",
       "                     2                     58                   3229 \n",
       "               CHINESE               DECLINED               FILIPINO \n",
       "                    21                    121                      6 \n",
       "         GUAM/CHAMORRO               HAWAIIAN         INDIAN (ASIAN) \n",
       "                     1                      1                     49 \n",
       "              JAPANESE                 KOREAN          NOT SPECIFIED \n",
       "                     9                     10                      4 \n",
       "                 OTHER            OTHER ASIAN OTHER PACIFIC ISLANDER \n",
       "                     1                     47                     12 \n",
       "            VIETNAMESE                  WHITE \n",
       "                     6                  17940 "
      ]
     },
     "metadata": {},
     "output_type": "display_data"
    }
   ],
   "source": [
    "table(pain$PAT_RACE)"
   ]
  },
  {
   "cell_type": "markdown",
   "id": "e70572a0",
   "metadata": {},
   "source": [
    "Another way we could have found all possible values for this column is to use the `unique()` function. This function takes in a data frame or vector `x` and returns `x` with all duplicate rows or values removed. "
   ]
  },
  {
   "cell_type": "code",
   "execution_count": 48,
   "id": "35348075",
   "metadata": {},
   "outputs": [
    {
     "data": {
      "text/html": [
       "<style>\n",
       ".list-inline {list-style: none; margin:0; padding: 0}\n",
       ".list-inline>li {display: inline-block}\n",
       ".list-inline>li:not(:last-child)::after {content: \"\\00b7\"; padding: 0 .5ex}\n",
       "</style>\n",
       "<ol class=list-inline><li>'WHITE'</li><li>'BLACK'</li><li>'DECLINED'</li><li>'AMERICAN INDIAN'</li><li>'INDIAN (ASIAN)'</li><li>'ALASKA NATIVE'</li><li>NA</li><li>'FILIPINO'</li><li>'JAPANESE'</li><li>'VIETNAMESE'</li><li>'KOREAN'</li><li>'CHINESE'</li><li>'OTHER ASIAN'</li><li>'NOT SPECIFIED'</li><li>'HAWAIIAN'</li><li>'OTHER PACIFIC ISLANDER'</li><li>'OTHER'</li><li>'GUAM/CHAMORRO'</li></ol>\n"
      ],
      "text/latex": [
       "\\begin{enumerate*}\n",
       "\\item 'WHITE'\n",
       "\\item 'BLACK'\n",
       "\\item 'DECLINED'\n",
       "\\item 'AMERICAN INDIAN'\n",
       "\\item 'INDIAN (ASIAN)'\n",
       "\\item 'ALASKA NATIVE'\n",
       "\\item NA\n",
       "\\item 'FILIPINO'\n",
       "\\item 'JAPANESE'\n",
       "\\item 'VIETNAMESE'\n",
       "\\item 'KOREAN'\n",
       "\\item 'CHINESE'\n",
       "\\item 'OTHER ASIAN'\n",
       "\\item 'NOT SPECIFIED'\n",
       "\\item 'HAWAIIAN'\n",
       "\\item 'OTHER PACIFIC ISLANDER'\n",
       "\\item 'OTHER'\n",
       "\\item 'GUAM/CHAMORRO'\n",
       "\\end{enumerate*}\n"
      ],
      "text/markdown": [
       "1. 'WHITE'\n",
       "2. 'BLACK'\n",
       "3. 'DECLINED'\n",
       "4. 'AMERICAN INDIAN'\n",
       "5. 'INDIAN (ASIAN)'\n",
       "6. 'ALASKA NATIVE'\n",
       "7. NA\n",
       "8. 'FILIPINO'\n",
       "9. 'JAPANESE'\n",
       "10. 'VIETNAMESE'\n",
       "11. 'KOREAN'\n",
       "12. 'CHINESE'\n",
       "13. 'OTHER ASIAN'\n",
       "14. 'NOT SPECIFIED'\n",
       "15. 'HAWAIIAN'\n",
       "16. 'OTHER PACIFIC ISLANDER'\n",
       "17. 'OTHER'\n",
       "18. 'GUAM/CHAMORRO'\n",
       "\n",
       "\n"
      ],
      "text/plain": [
       " [1] \"WHITE\"                  \"BLACK\"                  \"DECLINED\"              \n",
       " [4] \"AMERICAN INDIAN\"        \"INDIAN (ASIAN)\"         \"ALASKA NATIVE\"         \n",
       " [7] NA                       \"FILIPINO\"               \"JAPANESE\"              \n",
       "[10] \"VIETNAMESE\"             \"KOREAN\"                 \"CHINESE\"               \n",
       "[13] \"OTHER ASIAN\"            \"NOT SPECIFIED\"          \"HAWAIIAN\"              \n",
       "[16] \"OTHER PACIFIC ISLANDER\" \"OTHER\"                  \"GUAM/CHAMORRO\"         "
      ]
     },
     "metadata": {},
     "output_type": "display_data"
    }
   ],
   "source": [
    "unique(pain$PAT_RACE)"
   ]
  },
  {
   "cell_type": "markdown",
   "id": "5cd1663e",
   "metadata": {},
   "source": [
    "To combine some of these levels, we can use the `%in%` operator. We first create an Asian, Asian American, or Pacific Islander race category and then create an American Indian or Alaska Native category."
   ]
  },
  {
   "cell_type": "code",
   "execution_count": 49,
   "id": "eb3164df",
   "metadata": {},
   "outputs": [
    {
     "data": {
      "text/plain": [
       "\n",
       "         AAPI         AI/AN         BLACK      DECLINED NOT SPECIFIED \n",
       "          162            60          3229           121             4 \n",
       "        OTHER         WHITE \n",
       "            1         17940 "
      ]
     },
     "metadata": {},
     "output_type": "display_data"
    }
   ],
   "source": [
    "aapi_values <- c(\"CHINESE\", \"HAWAIIAN\", \"INDIAN (ASIAN)\", \"FILIPINO\", \"VIETNAMESE\", \n",
    "                 \"JAPANESE\", \"KOREAN\", \"GUAM/CHAMORRO\", \"OTHER ASIAN\", \n",
    "                 \"OTHER PACIFIC ISLANDER\")\n",
    "pain$PAT_RACE[pain$PAT_RACE %in% aapi_values] <- \"AAPI\"\n",
    "pain$PAT_RACE[pain$PAT_RACE %in% c(\"ALASKA NATIVE\", \"AMERICAN INDIAN\")] <- \"AI/AN\"\n",
    "table(pain$PAT_RACE)"
   ]
  },
  {
   "cell_type": "markdown",
   "id": "9e8d8769",
   "metadata": {},
   "source": [
    "### Other Selection Functions\n",
    "\n",
    "Above, we selected rows using TRUE/FALSE boolean values. Instead, we could have also used the `which()` function. This function takes TRUE/FALSE values and returns the index values for all the TRUE values. We use this to treat those with race given as `DECLINED` as not specified."
   ]
  },
  {
   "cell_type": "code",
   "execution_count": 50,
   "id": "ded344d5",
   "metadata": {},
   "outputs": [],
   "source": [
    "pain$PAT_RACE[which(pain$PAT_RACE == \"DECLINED\")] <- \"NOT SPECIFIED\""
   ]
  },
  {
   "cell_type": "markdown",
   "id": "0c527c67",
   "metadata": {},
   "source": [
    "Another selection function is the `subset()` function. This function takes in two arguments. The first is the vector, matrix, or data frame to select from and the second is a vector of TRUE/FALSE values to use for row selection. We use this to find the observation with race marked as `OTHER`. We then update this race to also be marked as not specified."
   ]
  },
  {
   "cell_type": "code",
   "execution_count": 51,
   "id": "1bbdcb99",
   "metadata": {},
   "outputs": [
    {
     "data": {
      "text/html": [
       "<table class=\"dataframe\">\n",
       "<caption>A tibble: 1 × 97</caption>\n",
       "<thead>\n",
       "\t<tr><th scope=col>PATIENT_NUM</th><th scope=col>X101</th><th scope=col>X102</th><th scope=col>X103</th><th scope=col>X104</th><th scope=col>X105</th><th scope=col>X106</th><th scope=col>X107</th><th scope=col>X108</th><th scope=col>X109</th><th scope=col>⋯</th><th scope=col>PAIN_INTENSITY_AVERAGE.FOLLOW_UP</th><th scope=col>PAT_SEX</th><th scope=col>PAT_RACE</th><th scope=col>CCI_BIN</th><th scope=col>MEDICAID_BIN</th><th scope=col>NUM_REGIONS</th><th scope=col>LOWER_BACK</th><th scope=col>PAIN_CHANGE</th><th scope=col>PERC_PAIN_CHANGE</th><th scope=col>BACK</th></tr>\n",
       "\t<tr><th scope=col>&lt;dbl&gt;</th><th scope=col>&lt;dbl&gt;</th><th scope=col>&lt;dbl&gt;</th><th scope=col>&lt;dbl&gt;</th><th scope=col>&lt;dbl&gt;</th><th scope=col>&lt;dbl&gt;</th><th scope=col>&lt;dbl&gt;</th><th scope=col>&lt;dbl&gt;</th><th scope=col>&lt;dbl&gt;</th><th scope=col>&lt;dbl&gt;</th><th scope=col>⋯</th><th scope=col>&lt;dbl&gt;</th><th scope=col>&lt;fct&gt;</th><th scope=col>&lt;chr&gt;</th><th scope=col>&lt;chr&gt;</th><th scope=col>&lt;chr&gt;</th><th scope=col>&lt;dbl&gt;</th><th scope=col>&lt;dbl&gt;</th><th scope=col>&lt;dbl&gt;</th><th scope=col>&lt;dbl&gt;</th><th scope=col>&lt;lgl&gt;</th></tr>\n",
       "</thead>\n",
       "<tbody>\n",
       "\t<tr><td>3588</td><td>1</td><td>1</td><td>1</td><td>0</td><td>1</td><td>1</td><td>1</td><td>0</td><td>0</td><td>⋯</td><td>NA</td><td>female</td><td>OTHER</td><td>No comorbidity</td><td>Medicaid</td><td>34</td><td>1</td><td>NA</td><td>NA</td><td>TRUE</td></tr>\n",
       "</tbody>\n",
       "</table>\n"
      ],
      "text/latex": [
       "A tibble: 1 × 97\n",
       "\\begin{tabular}{lllllllllllllllllllll}\n",
       " PATIENT\\_NUM & X101 & X102 & X103 & X104 & X105 & X106 & X107 & X108 & X109 & ⋯ & PAIN\\_INTENSITY\\_AVERAGE.FOLLOW\\_UP & PAT\\_SEX & PAT\\_RACE & CCI\\_BIN & MEDICAID\\_BIN & NUM\\_REGIONS & LOWER\\_BACK & PAIN\\_CHANGE & PERC\\_PAIN\\_CHANGE & BACK\\\\\n",
       " <dbl> & <dbl> & <dbl> & <dbl> & <dbl> & <dbl> & <dbl> & <dbl> & <dbl> & <dbl> & ⋯ & <dbl> & <fct> & <chr> & <chr> & <chr> & <dbl> & <dbl> & <dbl> & <dbl> & <lgl>\\\\\n",
       "\\hline\n",
       "\t 3588 & 1 & 1 & 1 & 0 & 1 & 1 & 1 & 0 & 0 & ⋯ & NA & female & OTHER & No comorbidity & Medicaid & 34 & 1 & NA & NA & TRUE\\\\\n",
       "\\end{tabular}\n"
      ],
      "text/markdown": [
       "\n",
       "A tibble: 1 × 97\n",
       "\n",
       "| PATIENT_NUM &lt;dbl&gt; | X101 &lt;dbl&gt; | X102 &lt;dbl&gt; | X103 &lt;dbl&gt; | X104 &lt;dbl&gt; | X105 &lt;dbl&gt; | X106 &lt;dbl&gt; | X107 &lt;dbl&gt; | X108 &lt;dbl&gt; | X109 &lt;dbl&gt; | ⋯ ⋯ | PAIN_INTENSITY_AVERAGE.FOLLOW_UP &lt;dbl&gt; | PAT_SEX &lt;fct&gt; | PAT_RACE &lt;chr&gt; | CCI_BIN &lt;chr&gt; | MEDICAID_BIN &lt;chr&gt; | NUM_REGIONS &lt;dbl&gt; | LOWER_BACK &lt;dbl&gt; | PAIN_CHANGE &lt;dbl&gt; | PERC_PAIN_CHANGE &lt;dbl&gt; | BACK &lt;lgl&gt; |\n",
       "|---|---|---|---|---|---|---|---|---|---|---|---|---|---|---|---|---|---|---|---|---|\n",
       "| 3588 | 1 | 1 | 1 | 0 | 1 | 1 | 1 | 0 | 0 | ⋯ | NA | female | OTHER | No comorbidity | Medicaid | 34 | 1 | NA | NA | TRUE |\n",
       "\n"
      ],
      "text/plain": [
       "  PATIENT_NUM X101 X102 X103 X104 X105 X106 X107 X108 X109 ⋯\n",
       "1 3588        1    1    1    0    1    1    1    0    0    ⋯\n",
       "  PAIN_INTENSITY_AVERAGE.FOLLOW_UP PAT_SEX PAT_RACE CCI_BIN        MEDICAID_BIN\n",
       "1 NA                               female  OTHER    No comorbidity Medicaid    \n",
       "  NUM_REGIONS LOWER_BACK PAIN_CHANGE PERC_PAIN_CHANGE BACK\n",
       "1 34          1          NA          NA               TRUE"
      ]
     },
     "metadata": {},
     "output_type": "display_data"
    }
   ],
   "source": [
    "subset(pain, pain$PAT_RACE == \"OTHER\")"
   ]
  },
  {
   "cell_type": "code",
   "execution_count": 52,
   "id": "95dd6426",
   "metadata": {},
   "outputs": [
    {
     "data": {
      "text/plain": [
       "\n",
       "         AAPI         AI/AN         BLACK NOT SPECIFIED         WHITE \n",
       "          162            60          3229           126         17940 "
      ]
     },
     "metadata": {},
     "output_type": "display_data"
    }
   ],
   "source": [
    "pain$PAT_RACE[pain$PATIENT_NUM==3588] <- \"NOT SPECIFIED\"\n",
    "table(pain$PAT_RACE)"
   ]
  },
  {
   "cell_type": "markdown",
   "id": "f7f8cf80",
   "metadata": {},
   "source": [
    "## Recap Video\n",
    "\n",
    "In the video below, we reference the population mean and standard deviations for the instrument variables in the data. Use the help operator (`?pain`) to refresh your memory about these variables. \n",
    "\n",
    "<div class=\"video-container\">\n",
    "    <iframe width=\"700\" height=\"500\" src=\"https://www.youtube.com/embed/EU0UJN68OWQ\" title=\"YouTube video player\" frameborder=\"0\" allow=\"accelerometer; autoplay; clipboard-write; encrypted-media; gyroscope; picture-in-picture; web-share\" allowfullscreen></iframe>\n",
    "</div>\n"
   ]
  },
  {
   "cell_type": "markdown",
   "id": "310692ba",
   "metadata": {},
   "source": [
    "## Exercises"
   ]
  },
  {
   "cell_type": "markdown",
   "id": "c4e8e36f",
   "metadata": {},
   "source": [
    "For these exercises, we will again be using the `pain` data from the `RforHDSdata` package.\n"
   ]
  },
  {
   "cell_type": "markdown",
   "id": "1fbdb0e3",
   "metadata": {},
   "source": [
    "1. Print summary statistics for the `PROMIS_PHYSICAL_FUNTION` and `PROMIS_ANXIETY` columns in this dataset. Read the data documentation for these two columns, which both have range 0 to 100, and then comment on the distributions of these columns. "
   ]
  },
  {
   "cell_type": "code",
   "execution_count": 53,
   "id": "a54a7c3c",
   "metadata": {},
   "outputs": [
    {
     "data": {
      "text/plain": [
       "   Min. 1st Qu.  Median    Mean 3rd Qu.    Max. \n",
       "  15.40   30.60   35.39   35.27   39.37   73.33 "
      ]
     },
     "metadata": {},
     "output_type": "display_data"
    },
    {
     "data": {
      "text/plain": [
       "   Min. 1st Qu.  Median    Mean 3rd Qu.    Max.    NA's \n",
       "  32.87   49.27   56.49   56.28   63.35   84.90      87 "
      ]
     },
     "metadata": {},
     "output_type": "display_data"
    }
   ],
   "source": [
    "summary(pain$PROMIS_PHYSICAL_FUNCTION)\n",
    "summary(pain$PROMIS_ANXIETY)"
   ]
  },
  {
   "cell_type": "markdown",
   "id": "b7712e0e",
   "metadata": {},
   "source": [
    "2. Create frequency tables for the values of `PAT_SEX` and `PAT_RACE` and summarize what these tables tell you about the distributions of these demographic characteristics."
   ]
  },
  {
   "cell_type": "code",
   "execution_count": 54,
   "id": "58f5824e",
   "metadata": {},
   "outputs": [
    {
     "data": {
      "text/plain": [
       "\n",
       "female   male \n",
       " 13102   8556 "
      ]
     },
     "metadata": {},
     "output_type": "display_data"
    },
    {
     "data": {
      "text/plain": [
       "\n",
       "         AAPI         AI/AN         BLACK NOT SPECIFIED         WHITE \n",
       "          162            60          3229           126         17940 "
      ]
     },
     "metadata": {},
     "output_type": "display_data"
    }
   ],
   "source": [
    "table(pain$PAT_SEX)\n",
    "table(pain$PAT_RACE)"
   ]
  },
  {
   "cell_type": "markdown",
   "id": "5b302aaf",
   "metadata": {},
   "source": [
    "3. Create a new data frame called `pain.new` that doesn't contain patients with NA values for both `GH_MENTAL_SCORE` and `GH_PHYSICAL_SCORE`, which are the PROMIS global mental and physical scores, respectively. "
   ]
  },
  {
   "cell_type": "code",
   "execution_count": 55,
   "id": "011aa974",
   "metadata": {},
   "outputs": [],
   "source": [
    "pain.new <- pain[!is.na(pain$GH_MENTAL_SCORE) & !is.na(pain$GH_PHYSICAL_SCORE),]"
   ]
  },
  {
   "cell_type": "markdown",
   "id": "6898a85e",
   "metadata": {},
   "source": [
    "4. Create a vector of the total number of patients who reported pain in each of the pain regions. Then, find the minimum, median, mean, maximum, standard deviation, and variance of this vector."
   ]
  },
  {
   "cell_type": "code",
   "execution_count": 56,
   "id": "9bbd067c",
   "metadata": {},
   "outputs": [
    {
     "data": {
      "text/html": [
       "<table class=\"dataframe\">\n",
       "<caption>A data.frame: 1 × 7</caption>\n",
       "<thead>\n",
       "\t<tr><th scope=col>Variable</th><th scope=col>Min</th><th scope=col>Median</th><th scope=col>Mean</th><th scope=col>Max</th><th scope=col>SD</th><th scope=col>Var</th></tr>\n",
       "\t<tr><th scope=col>&lt;chr&gt;</th><th scope=col>&lt;dbl&gt;</th><th scope=col>&lt;dbl&gt;</th><th scope=col>&lt;dbl&gt;</th><th scope=col>&lt;dbl&gt;</th><th scope=col>&lt;dbl&gt;</th><th scope=col>&lt;dbl&gt;</th></tr>\n",
       "</thead>\n",
       "<tbody>\n",
       "\t<tr><td>Sum of Columns</td><td>699</td><td>2950</td><td>3113.541</td><td>11737</td><td>2062.778</td><td>4255051</td></tr>\n",
       "</tbody>\n",
       "</table>\n"
      ],
      "text/latex": [
       "A data.frame: 1 × 7\n",
       "\\begin{tabular}{lllllll}\n",
       " Variable & Min & Median & Mean & Max & SD & Var\\\\\n",
       " <chr> & <dbl> & <dbl> & <dbl> & <dbl> & <dbl> & <dbl>\\\\\n",
       "\\hline\n",
       "\t Sum of Columns & 699 & 2950 & 3113.541 & 11737 & 2062.778 & 4255051\\\\\n",
       "\\end{tabular}\n"
      ],
      "text/markdown": [
       "\n",
       "A data.frame: 1 × 7\n",
       "\n",
       "| Variable &lt;chr&gt; | Min &lt;dbl&gt; | Median &lt;dbl&gt; | Mean &lt;dbl&gt; | Max &lt;dbl&gt; | SD &lt;dbl&gt; | Var &lt;dbl&gt; |\n",
       "|---|---|---|---|---|---|---|\n",
       "| Sum of Columns | 699 | 2950 | 3113.541 | 11737 | 2062.778 | 4255051 |\n",
       "\n"
      ],
      "text/plain": [
       "  Variable       Min Median Mean     Max   SD       Var    \n",
       "1 Sum of Columns 699 2950   3113.541 11737 2062.778 4255051"
      ]
     },
     "metadata": {},
     "output_type": "display_data"
    }
   ],
   "source": [
    "colsums <- colSums(pain[,c(2:75)], na.rm = TRUE)\n",
    "\n",
    "colsum_summary <- data.frame(Variable = c(\"Sum of Columns\"),\n",
    "                             Min =  min(colsums),\n",
    "                             Median = median(colsums),\n",
    "                             Mean  = mean(colsums),\n",
    "                             Max = max(colsums),\n",
    "                             SD = sd(colsums),\n",
    "                             Var = var(colsums))\n",
    "colsum_summary"
   ]
  },
  {
   "cell_type": "markdown",
   "id": "118f86fc",
   "metadata": {},
   "source": [
    "5. Calculate the median and interquartile range of the distribution of the total number of painful **leg** regions selected for each patient. Then, write a few sentences explaining anything interesting you observe about this distribution in the context of this dataset. "
   ]
  },
  {
   "cell_type": "code",
   "execution_count": 57,
   "id": "d5234466",
   "metadata": {},
   "outputs": [
    {
     "data": {
      "text/html": [
       "2"
      ],
      "text/latex": [
       "2"
      ],
      "text/markdown": [
       "2"
      ],
      "text/plain": [
       "[1] 2"
      ]
     },
     "metadata": {},
     "output_type": "display_data"
    },
    {
     "data": {
      "text/html": [
       "4"
      ],
      "text/latex": [
       "4"
      ],
      "text/markdown": [
       "4"
      ],
      "text/plain": [
       "[1] 4"
      ]
     },
     "metadata": {},
     "output_type": "display_data"
    }
   ],
   "source": [
    "leg_cols <- which(colnames(pain) %in% c(\"X126\", \"X127\", \"X228\", \"X229\", \n",
    "                            \"X129\", \"X130\", \"X231\", \"X232\", \n",
    "                            \"X131\", \"X132\", \"X233\", \"X234\",\n",
    "                            \"X133\", \"X134\", \"X235\", \"X236\"))\n",
    "rowsum.thigh <- rowSums(pain[,leg_cols], na.rm = TRUE)\n",
    "median(rowsum.thigh)\n",
    "IQR(rowsum.thigh)"
   ]
  },
  {
   "cell_type": "markdown",
   "id": "46506f34",
   "metadata": {},
   "source": [
    "6. Look at the distribution of average pain intensity between patients with only one pain region selected vs. those with more than one region selected. What do you notice? "
   ]
  },
  {
   "cell_type": "code",
   "execution_count": 58,
   "id": "f5c28986",
   "metadata": {},
   "outputs": [
    {
     "data": {
      "text/plain": [
       "   Min. 1st Qu.  Median    Mean 3rd Qu.    Max. \n",
       "   0.00    4.00    6.00    5.92    8.00   10.00 "
      ]
     },
     "metadata": {},
     "output_type": "display_data"
    },
    {
     "data": {
      "image/png": "[encoded data removed]",
      "text/plain": [
       "Plot with title “Histogram of one_region$PAIN_INTENSITY_AVERAGE”"
      ]
     },
     "metadata": {
      "image/png": {
       "height": 420,
       "width": 420
      }
     },
     "output_type": "display_data"
    },
    {
     "data": {
      "text/plain": [
       "   Min. 1st Qu.  Median    Mean 3rd Qu.    Max. \n",
       "  0.000   5.000   7.000   6.515   8.000  10.000 "
      ]
     },
     "metadata": {},
     "output_type": "display_data"
    },
    {
     "data": {
      "image/png": "[encoded data removed]",
      "text/plain": [
       "Plot with title “Histogram of multiple_regions$PAIN_INTENSITY_AVERAGE”"
      ]
     },
     "metadata": {
      "image/png": {
       "height": 420,
       "width": 420
      }
     },
     "output_type": "display_data"
    }
   ],
   "source": [
    "one_region <- subset(pain, NUM_REGIONS == 1)\n",
    "multiple_regions <- subset(pain, NUM_REGIONS > 1)\n",
    "hist(one_region$PAIN_INTENSITY_AVERAGE)\n",
    "summary(one_region$PAIN_INTENSITY_AVERAGE)\n",
    "hist(multiple_regions$PAIN_INTENSITY_AVERAGE)\n",
    "summary(multiple_regions$PAIN_INTENSITY_AVERAGE)"
   ]
  },
  {
   "cell_type": "markdown",
   "id": "5762de01",
   "metadata": {},
   "source": [
    "7. Create a histogram to plot the distribution of the `PAIN_INTENSITY_AVERAGE.FOLLOW_UP` column. Then, create a table summarizing how many patients had missing values in this column. Finally, compare the distributions of the other columns between those with and without missing follow up. What do you notice? "
   ]
  },
  {
   "cell_type": "code",
   "execution_count": 59,
   "id": "61c027ef",
   "metadata": {},
   "outputs": [
    {
     "data": {
      "text/plain": [
       "\n",
       "    Missing Not Missing \n",
       "      14520        7138 "
      ]
     },
     "metadata": {},
     "output_type": "display_data"
    },
    {
     "data": {
      "image/png": "[encoded data removed]",
      "text/plain": [
       "Plot with title “Histogram of pain$PAIN_INTENSITY_AVERAGE.FOLLOW_UP”"
      ]
     },
     "metadata": {
      "image/png": {
       "height": 420,
       "width": 420
      }
     },
     "output_type": "display_data"
    }
   ],
   "source": [
    "hist(pain$PAIN_INTENSITY_AVERAGE.FOLLOW_UP)\n",
    "\n",
    "pain$missing_follow_up <- is.na(pain$PAIN_INTENSITY_AVERAGE.FOLLOW_UP)\n",
    "pain$missing_follow_up[pain$missing_follow_up == \"FALSE\"] <- \"Not Missing\"\n",
    "pain$missing_follow_up[pain$missing_follow_up == \"TRUE\"] <- \"Missing\"\n",
    "table(pain$missing_follow_up)"
   ]
  }
 ],
 "metadata": {
  "kernelspec": {
   "display_name": "R",
   "language": "R",
   "name": "ir"
  },
  "language_info": {
   "codemirror_mode": "r",
   "file_extension": ".r",
   "mimetype": "text/x-r-source",
   "name": "R",
   "pygments_lexer": "r",
   "version": "4.3.1"
  }
 },
 "nbformat": 4,
 "nbformat_minor": 5
}