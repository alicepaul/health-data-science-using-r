{
 "cells": [
  {
   "cell_type": "markdown",
   "id": "decec34a",
   "metadata": {},
   "source": [
    "# 5. Data Transformations and Summaries\n",
    "\n",
    "In this chapter, we will introduce the `dyplr` package, which is part of the `tidyverse` group of packages, to expand our tools in exploring and transforming our data. We will learn how to do some basic manipulations of data (e.g. adding or removing columns, filtering data, arranging by one or multiple columns) as well as how to summarize data (e.g. grouping by values, calculating summary statistics). We will also practice combining these operations using the pipe operator `%>%`. We will use the same sample of the National Health and Nutrition Examination Survey ([NHANES](https://www.cdc.gov/nchs/nhanes/index.htm)) as in [Chapter 4](https://alicepaul.github.io/r-for-health-data-science/book/4_exploratory_analysis.html)."
   ]
  },
  {
   "cell_type": "code",
   "execution_count": 1,
   "id": "498f0ef8",
   "metadata": {},
   "outputs": [],
   "source": [
    "library(RforHDSdata)\n",
    "suppressPackageStartupMessages(library(tidyverse))\n",
    "data(NHANESsample)"
   ]
  },
  {
   "cell_type": "markdown",
   "id": "249c783d",
   "metadata": {},
   "source": [
    "## Tibbles and Data Frames\n",
    "\n",
    "Take a look at the class of `NHANESsample`. As we might expect, the data is stored as a data frame.  "
   ]
  },
  {
   "cell_type": "code",
   "execution_count": 2,
   "id": "3767e4cd",
   "metadata": {},
   "outputs": [
    {
     "data": {
      "text/html": [
       "'data.frame'"
      ],
      "text/latex": [
       "'data.frame'"
      ],
      "text/markdown": [
       "'data.frame'"
      ],
      "text/plain": [
       "[1] \"data.frame\""
      ]
     },
     "metadata": {},
     "output_type": "display_data"
    }
   ],
   "source": [
    "class(NHANESsample)"
   ]
  },
  {
   "cell_type": "markdown",
   "id": "d31edaf4",
   "metadata": {},
   "source": [
    "However, the tidyverse also works with another data structure called a **tibble**. A **tibble** has all the properties of data frames that we have learned so far, but they are a more modern version of a data frame. To convert our data to this data structure we use the `as_tibble()` function. In practice, there are only very slight difference between the two data structures, and you generally do not need to convert data frames to tibbles. Below we convert our data from a data frame to a tibble and print the head of the data before converting it back to a data frame and repeating. You can see the two structures have a slightly different print statement but are otherwise very similar."
   ]
  },
  {
   "cell_type": "code",
   "execution_count": 3,
   "id": "502fb434",
   "metadata": {},
   "outputs": [
    {
     "name": "stdout",
     "output_type": "stream",
     "text": [
      "\u001b[90m# A tibble: 6 × 21\u001b[39m\n",
      "     ID   AGE SEX    RACE             EDUCATION INCOME SMOKE  YEAR  LEAD BMI_CAT\n",
      "  \u001b[3m\u001b[90m<dbl>\u001b[39m\u001b[23m \u001b[3m\u001b[90m<dbl>\u001b[39m\u001b[23m \u001b[3m\u001b[90m<fct>\u001b[39m\u001b[23m  \u001b[3m\u001b[90m<fct>\u001b[39m\u001b[23m            \u001b[3m\u001b[90m<fct>\u001b[39m\u001b[23m      \u001b[3m\u001b[90m<dbl>\u001b[39m\u001b[23m \u001b[3m\u001b[90m<fct>\u001b[39m\u001b[23m \u001b[3m\u001b[90m<dbl>\u001b[39m\u001b[23m \u001b[3m\u001b[90m<dbl>\u001b[39m\u001b[23m \u001b[3m\u001b[90m<fct>\u001b[39m\u001b[23m  \n",
      "\u001b[90m1\u001b[39m     2    77 Male   Non-Hispanic Wh… MoreThan…   5    Neve…  \u001b[4m1\u001b[24m999   5   BMI<=25\n",
      "\u001b[90m2\u001b[39m     5    49 Male   Non-Hispanic Wh… MoreThan…   5    Quit…  \u001b[4m1\u001b[24m999   1.6 25<BMI…\n",
      "\u001b[90m3\u001b[39m    12    37 Male   Non-Hispanic Wh… MoreThan…   4.93 Neve…  \u001b[4m1\u001b[24m999   2.4 BMI>=30\n",
      "\u001b[90m4\u001b[39m    13    70 Male   Mexican American LessThan…   1.07 Quit…  \u001b[4m1\u001b[24m999   1.6 25<BMI…\n",
      "\u001b[90m5\u001b[39m    14    81 Male   Non-Hispanic Wh… LessThan…   2.67 Stil…  \u001b[4m1\u001b[24m999   5.5 25<BMI…\n",
      "\u001b[90m6\u001b[39m    15    38 Female Non-Hispanic Wh… MoreThan…   4.52 Stil…  \u001b[4m1\u001b[24m999   1.5 25<BMI…\n",
      "\u001b[90m# ℹ 11 more variables: LEAD_QUANTILE <fct>, HYP <dbl>, ALC <chr>, DBP1 <dbl>,\u001b[39m\n",
      "\u001b[90m#   DBP2 <dbl>, DBP3 <dbl>, DBP4 <dbl>, SBP1 <dbl>, SBP2 <dbl>, SBP3 <dbl>,\u001b[39m\n",
      "\u001b[90m#   SBP4 <dbl>\u001b[39m\n"
     ]
    }
   ],
   "source": [
    "nhanes_df <- as_tibble(NHANESsample)\n",
    "print(head(nhanes_df))"
   ]
  },
  {
   "cell_type": "code",
   "execution_count": 4,
   "id": "f36bb902",
   "metadata": {},
   "outputs": [
    {
     "name": "stdout",
     "output_type": "stream",
     "text": [
      "  ID AGE    SEX               RACE  EDUCATION INCOME      SMOKE YEAR LEAD\n",
      "1  2  77   Male Non-Hispanic White MoreThanHS   5.00 NeverSmoke 1999  5.0\n",
      "2  5  49   Male Non-Hispanic White MoreThanHS   5.00  QuitSmoke 1999  1.6\n",
      "3 12  37   Male Non-Hispanic White MoreThanHS   4.93 NeverSmoke 1999  2.4\n",
      "4 13  70   Male   Mexican American LessThanHS   1.07  QuitSmoke 1999  1.6\n",
      "5 14  81   Male Non-Hispanic White LessThanHS   2.67 StillSmoke 1999  5.5\n",
      "6 15  38 Female Non-Hispanic White MoreThanHS   4.52 StillSmoke 1999  1.5\n",
      "    BMI_CAT LEAD_QUANTILE HYP ALC DBP1 DBP2 DBP3 DBP4 SBP1 SBP2 SBP3 SBP4\n",
      "1   BMI<=25            Q4   0 Yes   58   56   56   NA  106   98   98   NA\n",
      "2 25<BMI<30            Q3   1 Yes   82   84   82   NA  122  122  122   NA\n",
      "3   BMI>=30            Q4   1 Yes  108   98  100   NA  182  172  176   NA\n",
      "4 25<BMI<30            Q3   1 Yes   78   62   70   NA  140  130  130   NA\n",
      "5 25<BMI<30            Q4   1 Yes   56   NA   58   64  142   NA  134  138\n",
      "6 25<BMI<30            Q3   0 Yes   68   68   70   NA  106  112  106   NA\n"
     ]
    }
   ],
   "source": [
    "nhanes_df <- as.data.frame(nhanes_df)\n",
    "print(head(nhanes_df))"
   ]
  },
  {
   "cell_type": "markdown",
   "id": "bf28572c",
   "metadata": {},
   "source": [
    "We mention tibbles here since some functions in the `tidyverse` package convert data frames to tibbles in their output. In particular, when we summarize over groups below we can expect a tibble to be returned. It is useful to be aware that our data may change data structure with such functions and to know that we can always convert back if needed. "
   ]
  },
  {
   "cell_type": "markdown",
   "id": "e5f1274e",
   "metadata": {},
   "source": [
    "## Subsetting Data using `select`, `filter`, and `slice`\n",
    "\n",
    "In earlier chapters, we have seen how to select and filter data using row and column indices as well as using the `subset()` function. The `dplyr` package has its own functions that are useful to subset the data. The `select()` function allows us to select a subset of columns: this function takes in the data frame (or tibble) and the names or indices of the columns we want to select. For example, if we only wanted to select the variables for race and blood lead level, we could specify these two columns. To display the result of this selection, we use the pipe operator `%>%`. Recall that this takes the result on the left hand side and passes it as the first argument to the function on the right hand side. The output below shows that there are only two columns in the filtered data.  "
   ]
  },
  {
   "cell_type": "code",
   "execution_count": 5,
   "id": "497567c5",
   "metadata": {},
   "outputs": [
    {
     "data": {
      "text/html": [
       "<table class=\"dataframe\">\n",
       "<caption>A data.frame: 6 × 2</caption>\n",
       "<thead>\n",
       "\t<tr><th></th><th scope=col>RACE</th><th scope=col>LEAD</th></tr>\n",
       "\t<tr><th></th><th scope=col>&lt;fct&gt;</th><th scope=col>&lt;dbl&gt;</th></tr>\n",
       "</thead>\n",
       "<tbody>\n",
       "\t<tr><th scope=row>1</th><td>Non-Hispanic White</td><td>5.0</td></tr>\n",
       "\t<tr><th scope=row>2</th><td>Non-Hispanic White</td><td>1.6</td></tr>\n",
       "\t<tr><th scope=row>3</th><td>Non-Hispanic White</td><td>2.4</td></tr>\n",
       "\t<tr><th scope=row>4</th><td>Mexican American  </td><td>1.6</td></tr>\n",
       "\t<tr><th scope=row>5</th><td>Non-Hispanic White</td><td>5.5</td></tr>\n",
       "\t<tr><th scope=row>6</th><td>Non-Hispanic White</td><td>1.5</td></tr>\n",
       "</tbody>\n",
       "</table>\n"
      ],
      "text/latex": [
       "A data.frame: 6 × 2\n",
       "\\begin{tabular}{r|ll}\n",
       "  & RACE & LEAD\\\\\n",
       "  & <fct> & <dbl>\\\\\n",
       "\\hline\n",
       "\t1 & Non-Hispanic White & 5.0\\\\\n",
       "\t2 & Non-Hispanic White & 1.6\\\\\n",
       "\t3 & Non-Hispanic White & 2.4\\\\\n",
       "\t4 & Mexican American   & 1.6\\\\\n",
       "\t5 & Non-Hispanic White & 5.5\\\\\n",
       "\t6 & Non-Hispanic White & 1.5\\\\\n",
       "\\end{tabular}\n"
      ],
      "text/markdown": [
       "\n",
       "A data.frame: 6 × 2\n",
       "\n",
       "| <!--/--> | RACE &lt;fct&gt; | LEAD &lt;dbl&gt; |\n",
       "|---|---|---|\n",
       "| 1 | Non-Hispanic White | 5.0 |\n",
       "| 2 | Non-Hispanic White | 1.6 |\n",
       "| 3 | Non-Hispanic White | 2.4 |\n",
       "| 4 | Mexican American   | 1.6 |\n",
       "| 5 | Non-Hispanic White | 5.5 |\n",
       "| 6 | Non-Hispanic White | 1.5 |\n",
       "\n"
      ],
      "text/plain": [
       "  RACE               LEAD\n",
       "1 Non-Hispanic White 5.0 \n",
       "2 Non-Hispanic White 1.6 \n",
       "3 Non-Hispanic White 2.4 \n",
       "4 Mexican American   1.6 \n",
       "5 Non-Hispanic White 5.5 \n",
       "6 Non-Hispanic White 1.5 "
      ]
     },
     "metadata": {},
     "output_type": "display_data"
    }
   ],
   "source": [
    "select(nhanes_df, c(RACE, LEAD)) %>% head()"
   ]
  },
  {
   "cell_type": "markdown",
   "id": "b2b48975",
   "metadata": {},
   "source": [
    "The `select()` function can also be used to *remove* columns by adding a negative sign in front of the vector of column names in its arguments. For example, below we keep all columns except `ID` and `LEAD_QUANTILE`. Note that in this case we have saved the selected data back to our data frame `nhanes_df`. Additionally, this time we used a pipe operator to pipe the data to the select function itself."
   ]
  },
  {
   "cell_type": "code",
   "execution_count": 6,
   "id": "65a8a764",
   "metadata": {},
   "outputs": [
    {
     "data": {
      "text/html": [
       "<style>\n",
       ".list-inline {list-style: none; margin:0; padding: 0}\n",
       ".list-inline>li {display: inline-block}\n",
       ".list-inline>li:not(:last-child)::after {content: \"\\00b7\"; padding: 0 .5ex}\n",
       "</style>\n",
       "<ol class=list-inline><li>'AGE'</li><li>'SEX'</li><li>'RACE'</li><li>'EDUCATION'</li><li>'INCOME'</li><li>'SMOKE'</li><li>'YEAR'</li><li>'LEAD'</li><li>'BMI_CAT'</li><li>'HYP'</li><li>'ALC'</li><li>'DBP1'</li><li>'DBP2'</li><li>'DBP3'</li><li>'DBP4'</li><li>'SBP1'</li><li>'SBP2'</li><li>'SBP3'</li><li>'SBP4'</li></ol>\n"
      ],
      "text/latex": [
       "\\begin{enumerate*}\n",
       "\\item 'AGE'\n",
       "\\item 'SEX'\n",
       "\\item 'RACE'\n",
       "\\item 'EDUCATION'\n",
       "\\item 'INCOME'\n",
       "\\item 'SMOKE'\n",
       "\\item 'YEAR'\n",
       "\\item 'LEAD'\n",
       "\\item 'BMI\\_CAT'\n",
       "\\item 'HYP'\n",
       "\\item 'ALC'\n",
       "\\item 'DBP1'\n",
       "\\item 'DBP2'\n",
       "\\item 'DBP3'\n",
       "\\item 'DBP4'\n",
       "\\item 'SBP1'\n",
       "\\item 'SBP2'\n",
       "\\item 'SBP3'\n",
       "\\item 'SBP4'\n",
       "\\end{enumerate*}\n"
      ],
      "text/markdown": [
       "1. 'AGE'\n",
       "2. 'SEX'\n",
       "3. 'RACE'\n",
       "4. 'EDUCATION'\n",
       "5. 'INCOME'\n",
       "6. 'SMOKE'\n",
       "7. 'YEAR'\n",
       "8. 'LEAD'\n",
       "9. 'BMI_CAT'\n",
       "10. 'HYP'\n",
       "11. 'ALC'\n",
       "12. 'DBP1'\n",
       "13. 'DBP2'\n",
       "14. 'DBP3'\n",
       "15. 'DBP4'\n",
       "16. 'SBP1'\n",
       "17. 'SBP2'\n",
       "18. 'SBP3'\n",
       "19. 'SBP4'\n",
       "\n",
       "\n"
      ],
      "text/plain": [
       " [1] \"AGE\"       \"SEX\"       \"RACE\"      \"EDUCATION\" \"INCOME\"    \"SMOKE\"    \n",
       " [7] \"YEAR\"      \"LEAD\"      \"BMI_CAT\"   \"HYP\"       \"ALC\"       \"DBP1\"     \n",
       "[13] \"DBP2\"      \"DBP3\"      \"DBP4\"      \"SBP1\"      \"SBP2\"      \"SBP3\"     \n",
       "[19] \"SBP4\"     "
      ]
     },
     "metadata": {},
     "output_type": "display_data"
    }
   ],
   "source": [
    "nhanes_df <- nhanes_df %>% select(-c(ID, LEAD_QUANTILE))\n",
    "names(nhanes_df)"
   ]
  },
  {
   "cell_type": "markdown",
   "id": "a2bf5135",
   "metadata": {},
   "source": [
    "While `select()` allows us to choose a subset of columns, the `filter()` function allows us to choose a subset of rows.  The `filter()` function takes a data frame as the first argument and a vector of booleans as the second argument. This vector of booleans can be generated using conditional statements as we used in [Chapter 4](https://alicepaul.github.io/r-for-health-data-science/book/4_exploratory_analysis.html). Below, we choose to filter the data to only observations after 2008."
   ]
  },
  {
   "cell_type": "code",
   "execution_count": 7,
   "id": "8142ac81",
   "metadata": {},
   "outputs": [],
   "source": [
    "nhanes_df_recent <- nhanes_df %>% filter(YEAR >= 2008)"
   ]
  },
  {
   "cell_type": "markdown",
   "id": "141e5e66",
   "metadata": {},
   "source": [
    "We can combine conditions by using multiple `filter` calls, by creating a more complicated conditional statement using the `&` (and), `|` (or), and `%in%` (in) operators, or by separating the conditions with commas within filter. Below, we demonstrate these three ways to filter the data to males between 2008 and 2012. Note that the `between()` function allows us to capture the logic `YEAR >= 2008 & YEAR <= 2012`. "
   ]
  },
  {
   "cell_type": "code",
   "execution_count": 8,
   "id": "5138416b",
   "metadata": {},
   "outputs": [],
   "source": [
    "# Example 1: multiple filter calls\n",
    "nhanes_df_males1 <- nhanes_df %>%\n",
    "  filter(YEAR <= 2012) %>%\n",
    "  filter(YEAR >= 2008) %>%\n",
    "  filter(SEX == \"Male\")\n",
    "\n",
    "# Example 2: combine with & operator\n",
    "nhanes_df_males2 <- nhanes_df %>%\n",
    "  filter((YEAR <= 2012) & (YEAR >= 2008) & (SEX == \"Male\"))\n",
    "\n",
    "# Example 3: combine into one filter call with commas\n",
    "nhanes_df_males3 <- nhanes_df %>%\n",
    "  filter(between(YEAR, 2008, 2012), SEX == \"Male\")"
   ]
  },
  {
   "cell_type": "markdown",
   "id": "11a72144",
   "metadata": {},
   "source": [
    "The use of parentheses in the code above is especially important in order to capture our desired logic. In all these examples, we broke our code up into multiple lines, which makes it easier to read. A good rule of thumb is to not go past 80 characters in a line, and R Studio conveniently has a vertical gray line at this limit. To create a new line, you can hit enter either after an operator (e.g. `%>%`, `+`, `|`) or within a set of unfinished brackets or parentheses. Either of these breaks lets R know that your code is not finished yet. "
   ]
  },
  {
   "cell_type": "markdown",
   "id": "7df9af60",
   "metadata": {},
   "source": [
    "Lastly, we can subset the data using the `slice()` function to select a slice of rows by their index. The function takes in the data set and a vector of indices. Below, we find the first and last rows of the data. "
   ]
  },
  {
   "cell_type": "code",
   "execution_count": 9,
   "id": "60f742ec",
   "metadata": {},
   "outputs": [
    {
     "data": {
      "text/html": [
       "<table class=\"dataframe\">\n",
       "<caption>A data.frame: 2 × 19</caption>\n",
       "<thead>\n",
       "\t<tr><th scope=col>AGE</th><th scope=col>SEX</th><th scope=col>RACE</th><th scope=col>EDUCATION</th><th scope=col>INCOME</th><th scope=col>SMOKE</th><th scope=col>YEAR</th><th scope=col>LEAD</th><th scope=col>BMI_CAT</th><th scope=col>HYP</th><th scope=col>ALC</th><th scope=col>DBP1</th><th scope=col>DBP2</th><th scope=col>DBP3</th><th scope=col>DBP4</th><th scope=col>SBP1</th><th scope=col>SBP2</th><th scope=col>SBP3</th><th scope=col>SBP4</th></tr>\n",
       "\t<tr><th scope=col>&lt;dbl&gt;</th><th scope=col>&lt;fct&gt;</th><th scope=col>&lt;fct&gt;</th><th scope=col>&lt;fct&gt;</th><th scope=col>&lt;dbl&gt;</th><th scope=col>&lt;fct&gt;</th><th scope=col>&lt;dbl&gt;</th><th scope=col>&lt;dbl&gt;</th><th scope=col>&lt;fct&gt;</th><th scope=col>&lt;dbl&gt;</th><th scope=col>&lt;chr&gt;</th><th scope=col>&lt;dbl&gt;</th><th scope=col>&lt;dbl&gt;</th><th scope=col>&lt;dbl&gt;</th><th scope=col>&lt;dbl&gt;</th><th scope=col>&lt;dbl&gt;</th><th scope=col>&lt;dbl&gt;</th><th scope=col>&lt;dbl&gt;</th><th scope=col>&lt;dbl&gt;</th></tr>\n",
       "</thead>\n",
       "<tbody>\n",
       "\t<tr><td>77</td><td>Male</td><td>Non-Hispanic White</td><td>MoreThanHS</td><td>5.00</td><td>NeverSmoke</td><td>1999</td><td>5.0</td><td>BMI&lt;=25</td><td>0</td><td>Yes</td><td>58</td><td>56</td><td>56</td><td>NA</td><td>106</td><td> 98</td><td> 98</td><td>NA</td></tr>\n",
       "\t<tr><td>38</td><td>Male</td><td>Non-Hispanic White</td><td>MoreThanHS</td><td>1.56</td><td>StillSmoke</td><td>2017</td><td>0.9</td><td>BMI&gt;=30</td><td>1</td><td>Yes</td><td>98</td><td>92</td><td>98</td><td>NA</td><td>150</td><td>146</td><td>148</td><td>NA</td></tr>\n",
       "</tbody>\n",
       "</table>\n"
      ],
      "text/latex": [
       "A data.frame: 2 × 19\n",
       "\\begin{tabular}{lllllllllllllllllll}\n",
       " AGE & SEX & RACE & EDUCATION & INCOME & SMOKE & YEAR & LEAD & BMI\\_CAT & HYP & ALC & DBP1 & DBP2 & DBP3 & DBP4 & SBP1 & SBP2 & SBP3 & SBP4\\\\\n",
       " <dbl> & <fct> & <fct> & <fct> & <dbl> & <fct> & <dbl> & <dbl> & <fct> & <dbl> & <chr> & <dbl> & <dbl> & <dbl> & <dbl> & <dbl> & <dbl> & <dbl> & <dbl>\\\\\n",
       "\\hline\n",
       "\t 77 & Male & Non-Hispanic White & MoreThanHS & 5.00 & NeverSmoke & 1999 & 5.0 & BMI<=25 & 0 & Yes & 58 & 56 & 56 & NA & 106 &  98 &  98 & NA\\\\\n",
       "\t 38 & Male & Non-Hispanic White & MoreThanHS & 1.56 & StillSmoke & 2017 & 0.9 & BMI>=30 & 1 & Yes & 98 & 92 & 98 & NA & 150 & 146 & 148 & NA\\\\\n",
       "\\end{tabular}\n"
      ],
      "text/markdown": [
       "\n",
       "A data.frame: 2 × 19\n",
       "\n",
       "| AGE &lt;dbl&gt; | SEX &lt;fct&gt; | RACE &lt;fct&gt; | EDUCATION &lt;fct&gt; | INCOME &lt;dbl&gt; | SMOKE &lt;fct&gt; | YEAR &lt;dbl&gt; | LEAD &lt;dbl&gt; | BMI_CAT &lt;fct&gt; | HYP &lt;dbl&gt; | ALC &lt;chr&gt; | DBP1 &lt;dbl&gt; | DBP2 &lt;dbl&gt; | DBP3 &lt;dbl&gt; | DBP4 &lt;dbl&gt; | SBP1 &lt;dbl&gt; | SBP2 &lt;dbl&gt; | SBP3 &lt;dbl&gt; | SBP4 &lt;dbl&gt; |\n",
       "|---|---|---|---|---|---|---|---|---|---|---|---|---|---|---|---|---|---|---|\n",
       "| 77 | Male | Non-Hispanic White | MoreThanHS | 5.00 | NeverSmoke | 1999 | 5.0 | BMI&lt;=25 | 0 | Yes | 58 | 56 | 56 | NA | 106 |  98 |  98 | NA |\n",
       "| 38 | Male | Non-Hispanic White | MoreThanHS | 1.56 | StillSmoke | 2017 | 0.9 | BMI&gt;=30 | 1 | Yes | 98 | 92 | 98 | NA | 150 | 146 | 148 | NA |\n",
       "\n"
      ],
      "text/plain": [
       "  AGE SEX  RACE               EDUCATION  INCOME SMOKE      YEAR LEAD BMI_CAT\n",
       "1 77  Male Non-Hispanic White MoreThanHS 5.00   NeverSmoke 1999 5.0  BMI<=25\n",
       "2 38  Male Non-Hispanic White MoreThanHS 1.56   StillSmoke 2017 0.9  BMI>=30\n",
       "  HYP ALC DBP1 DBP2 DBP3 DBP4 SBP1 SBP2 SBP3 SBP4\n",
       "1 0   Yes 58   56   56   NA   106   98   98  NA  \n",
       "2 1   Yes 98   92   98   NA   150  146  148  NA  "
      ]
     },
     "metadata": {},
     "output_type": "display_data"
    }
   ],
   "source": [
    "slice(nhanes_df, c(1, nrow(nhanes_df)))"
   ]
  },
  {
   "cell_type": "markdown",
   "id": "288be66b",
   "metadata": {},
   "source": [
    "A few other useful slice functions are `slice_sample()`, `slice_max()`, and `slice_min()`. The first takes in an argument `n` which specifies the number of *random* rows to sample from the data. For example, we could randomly sample 100 rows from our data. The latter two allow us to specify a column through the argument `order_by` and return the `n` rows with either the highest or lowest values in that column. Below we find the three male observations from 2007 with the highest and lowest blood lead levels and select a subset of columns to display."
   ]
  },
  {
   "cell_type": "code",
   "execution_count": 10,
   "id": "5005b634",
   "metadata": {},
   "outputs": [
    {
     "data": {
      "text/html": [
       "<table class=\"dataframe\">\n",
       "<caption>A data.frame: 3 × 6</caption>\n",
       "<thead>\n",
       "\t<tr><th scope=col>RACE</th><th scope=col>EDUCATION</th><th scope=col>SMOKE</th><th scope=col>LEAD</th><th scope=col>SBP1</th><th scope=col>DBP1</th></tr>\n",
       "\t<tr><th scope=col>&lt;fct&gt;</th><th scope=col>&lt;fct&gt;</th><th scope=col>&lt;fct&gt;</th><th scope=col>&lt;dbl&gt;</th><th scope=col>&lt;dbl&gt;</th><th scope=col>&lt;dbl&gt;</th></tr>\n",
       "</thead>\n",
       "<tbody>\n",
       "\t<tr><td>Non-Hispanic Black</td><td>LessThanHS</td><td>NeverSmoke</td><td>33.1</td><td>106</td><td>66</td></tr>\n",
       "\t<tr><td>Other Hispanic    </td><td>LessThanHS</td><td>StillSmoke</td><td>26.8</td><td>106</td><td>72</td></tr>\n",
       "\t<tr><td>Other Hispanic    </td><td>LessThanHS</td><td>StillSmoke</td><td>25.7</td><td>112</td><td>60</td></tr>\n",
       "</tbody>\n",
       "</table>\n"
      ],
      "text/latex": [
       "A data.frame: 3 × 6\n",
       "\\begin{tabular}{llllll}\n",
       " RACE & EDUCATION & SMOKE & LEAD & SBP1 & DBP1\\\\\n",
       " <fct> & <fct> & <fct> & <dbl> & <dbl> & <dbl>\\\\\n",
       "\\hline\n",
       "\t Non-Hispanic Black & LessThanHS & NeverSmoke & 33.1 & 106 & 66\\\\\n",
       "\t Other Hispanic     & LessThanHS & StillSmoke & 26.8 & 106 & 72\\\\\n",
       "\t Other Hispanic     & LessThanHS & StillSmoke & 25.7 & 112 & 60\\\\\n",
       "\\end{tabular}\n"
      ],
      "text/markdown": [
       "\n",
       "A data.frame: 3 × 6\n",
       "\n",
       "| RACE &lt;fct&gt; | EDUCATION &lt;fct&gt; | SMOKE &lt;fct&gt; | LEAD &lt;dbl&gt; | SBP1 &lt;dbl&gt; | DBP1 &lt;dbl&gt; |\n",
       "|---|---|---|---|---|---|\n",
       "| Non-Hispanic Black | LessThanHS | NeverSmoke | 33.1 | 106 | 66 |\n",
       "| Other Hispanic     | LessThanHS | StillSmoke | 26.8 | 106 | 72 |\n",
       "| Other Hispanic     | LessThanHS | StillSmoke | 25.7 | 112 | 60 |\n",
       "\n"
      ],
      "text/plain": [
       "  RACE               EDUCATION  SMOKE      LEAD SBP1 DBP1\n",
       "1 Non-Hispanic Black LessThanHS NeverSmoke 33.1 106  66  \n",
       "2 Other Hispanic     LessThanHS StillSmoke 26.8 106  72  \n",
       "3 Other Hispanic     LessThanHS StillSmoke 25.7 112  60  "
      ]
     },
     "metadata": {},
     "output_type": "display_data"
    },
    {
     "data": {
      "text/html": [
       "<table class=\"dataframe\">\n",
       "<caption>A data.frame: 3 × 6</caption>\n",
       "<thead>\n",
       "\t<tr><th scope=col>RACE</th><th scope=col>EDUCATION</th><th scope=col>SMOKE</th><th scope=col>LEAD</th><th scope=col>SBP1</th><th scope=col>DBP1</th></tr>\n",
       "\t<tr><th scope=col>&lt;fct&gt;</th><th scope=col>&lt;fct&gt;</th><th scope=col>&lt;fct&gt;</th><th scope=col>&lt;dbl&gt;</th><th scope=col>&lt;dbl&gt;</th><th scope=col>&lt;dbl&gt;</th></tr>\n",
       "</thead>\n",
       "<tbody>\n",
       "\t<tr><td>Non-Hispanic White</td><td>LessThanHS</td><td>NeverSmoke</td><td>0.1767767</td><td>114</td><td>80</td></tr>\n",
       "\t<tr><td>Other Hispanic    </td><td>LessThanHS</td><td>QuitSmoke </td><td>0.2800000</td><td>122</td><td>62</td></tr>\n",
       "\t<tr><td>Mexican American  </td><td>MoreThanHS</td><td>QuitSmoke </td><td>0.3200000</td><td>112</td><td>66</td></tr>\n",
       "</tbody>\n",
       "</table>\n"
      ],
      "text/latex": [
       "A data.frame: 3 × 6\n",
       "\\begin{tabular}{llllll}\n",
       " RACE & EDUCATION & SMOKE & LEAD & SBP1 & DBP1\\\\\n",
       " <fct> & <fct> & <fct> & <dbl> & <dbl> & <dbl>\\\\\n",
       "\\hline\n",
       "\t Non-Hispanic White & LessThanHS & NeverSmoke & 0.1767767 & 114 & 80\\\\\n",
       "\t Other Hispanic     & LessThanHS & QuitSmoke  & 0.2800000 & 122 & 62\\\\\n",
       "\t Mexican American   & MoreThanHS & QuitSmoke  & 0.3200000 & 112 & 66\\\\\n",
       "\\end{tabular}\n"
      ],
      "text/markdown": [
       "\n",
       "A data.frame: 3 × 6\n",
       "\n",
       "| RACE &lt;fct&gt; | EDUCATION &lt;fct&gt; | SMOKE &lt;fct&gt; | LEAD &lt;dbl&gt; | SBP1 &lt;dbl&gt; | DBP1 &lt;dbl&gt; |\n",
       "|---|---|---|---|---|---|\n",
       "| Non-Hispanic White | LessThanHS | NeverSmoke | 0.1767767 | 114 | 80 |\n",
       "| Other Hispanic     | LessThanHS | QuitSmoke  | 0.2800000 | 122 | 62 |\n",
       "| Mexican American   | MoreThanHS | QuitSmoke  | 0.3200000 | 112 | 66 |\n",
       "\n"
      ],
      "text/plain": [
       "  RACE               EDUCATION  SMOKE      LEAD      SBP1 DBP1\n",
       "1 Non-Hispanic White LessThanHS NeverSmoke 0.1767767 114  80  \n",
       "2 Other Hispanic     LessThanHS QuitSmoke  0.2800000 122  62  \n",
       "3 Mexican American   MoreThanHS QuitSmoke  0.3200000 112  66  "
      ]
     },
     "metadata": {},
     "output_type": "display_data"
    }
   ],
   "source": [
    "# three male observations with highest blood lead level in 2007\n",
    "nhanes_df %>%\n",
    "  filter(YEAR == 2007, SEX == \"Male\") %>%\n",
    "  select(c(RACE, EDUCATION, SMOKE, LEAD, SBP1, DBP1)) %>%\n",
    "  slice_max(order_by = LEAD, n=3)\n",
    "\n",
    "# three male observations with lowest blood lead level in 2007\n",
    "nhanes_df %>%\n",
    "  filter(YEAR == 2007, SEX == \"Male\") %>%\n",
    "  select(c(RACE, EDUCATION, SMOKE, LEAD, SBP1, DBP1)) %>%\n",
    "  slice_min(order_by = LEAD, n=3)"
   ]
  },
  {
   "cell_type": "markdown",
   "id": "f9093796",
   "metadata": {},
   "source": [
    "### Practice Question\n",
    "\n",
    "Filter the data to only those with an education level of more than HS who report alcohol use, select the diastolic blood pressure variables, and display the 4th and 10th rows. "
   ]
  },
  {
   "cell_type": "code",
   "execution_count": 11,
   "id": "12ec7741",
   "metadata": {},
   "outputs": [],
   "source": [
    "# Solution:"
   ]
  },
  {
   "cell_type": "markdown",
   "id": "133507a8",
   "metadata": {},
   "source": [
    "## Updating Rows and Columns using `rename`, `mutate`, and `arrange`\n",
    "\n",
    "The next few functions we will look at will allow us to update the rows and columns in our data. For example, the `rename()` function allows us to change the names of columns. Below, we change the name of `INCOME` to `PIR` since this variable is the poverty income ratio and also update the name of `SMOKE` to be `SMOKE_STATUS`. When specifying these names, the new name is on the left of the `=` and the old name is on the right."
   ]
  },
  {
   "cell_type": "code",
   "execution_count": 12,
   "id": "6bcf43ea",
   "metadata": {},
   "outputs": [
    {
     "data": {
      "text/html": [
       "<style>\n",
       ".list-inline {list-style: none; margin:0; padding: 0}\n",
       ".list-inline>li {display: inline-block}\n",
       ".list-inline>li:not(:last-child)::after {content: \"\\00b7\"; padding: 0 .5ex}\n",
       "</style>\n",
       "<ol class=list-inline><li>'AGE'</li><li>'SEX'</li><li>'RACE'</li><li>'EDUCATION'</li><li>'PIR'</li><li>'SMOKE_STATUS'</li><li>'YEAR'</li><li>'LEAD'</li><li>'BMI_CAT'</li><li>'HYP'</li><li>'ALC'</li><li>'DBP1'</li><li>'DBP2'</li><li>'DBP3'</li><li>'DBP4'</li><li>'SBP1'</li><li>'SBP2'</li><li>'SBP3'</li><li>'SBP4'</li></ol>\n"
      ],
      "text/latex": [
       "\\begin{enumerate*}\n",
       "\\item 'AGE'\n",
       "\\item 'SEX'\n",
       "\\item 'RACE'\n",
       "\\item 'EDUCATION'\n",
       "\\item 'PIR'\n",
       "\\item 'SMOKE\\_STATUS'\n",
       "\\item 'YEAR'\n",
       "\\item 'LEAD'\n",
       "\\item 'BMI\\_CAT'\n",
       "\\item 'HYP'\n",
       "\\item 'ALC'\n",
       "\\item 'DBP1'\n",
       "\\item 'DBP2'\n",
       "\\item 'DBP3'\n",
       "\\item 'DBP4'\n",
       "\\item 'SBP1'\n",
       "\\item 'SBP2'\n",
       "\\item 'SBP3'\n",
       "\\item 'SBP4'\n",
       "\\end{enumerate*}\n"
      ],
      "text/markdown": [
       "1. 'AGE'\n",
       "2. 'SEX'\n",
       "3. 'RACE'\n",
       "4. 'EDUCATION'\n",
       "5. 'PIR'\n",
       "6. 'SMOKE_STATUS'\n",
       "7. 'YEAR'\n",
       "8. 'LEAD'\n",
       "9. 'BMI_CAT'\n",
       "10. 'HYP'\n",
       "11. 'ALC'\n",
       "12. 'DBP1'\n",
       "13. 'DBP2'\n",
       "14. 'DBP3'\n",
       "15. 'DBP4'\n",
       "16. 'SBP1'\n",
       "17. 'SBP2'\n",
       "18. 'SBP3'\n",
       "19. 'SBP4'\n",
       "\n",
       "\n"
      ],
      "text/plain": [
       " [1] \"AGE\"          \"SEX\"          \"RACE\"         \"EDUCATION\"    \"PIR\"         \n",
       " [6] \"SMOKE_STATUS\" \"YEAR\"         \"LEAD\"         \"BMI_CAT\"      \"HYP\"         \n",
       "[11] \"ALC\"          \"DBP1\"         \"DBP2\"         \"DBP3\"         \"DBP4\"        \n",
       "[16] \"SBP1\"         \"SBP2\"         \"SBP3\"         \"SBP4\"        "
      ]
     },
     "metadata": {},
     "output_type": "display_data"
    }
   ],
   "source": [
    "nhanes_df <- nhanes_df %>% rename(PIR = INCOME, SMOKE_STATUS = SMOKE)\n",
    "names(nhanes_df)"
   ]
  },
  {
   "cell_type": "markdown",
   "id": "6bcf04da",
   "metadata": {},
   "source": [
    "In the last chapter, we created a new variable called `EVER_SMOKE` based on the smoking status variable using the `ifelse()` function. Recall that this function allows us to specify a condition and then two alternative values based on whether we meet or do not meet this condition. We see that there are about 15,000 subjects in our data who never smoked. "
   ]
  },
  {
   "cell_type": "code",
   "execution_count": 13,
   "id": "a5638519",
   "metadata": {},
   "outputs": [
    {
     "data": {
      "text/plain": [
       ".\n",
       "   No   Yes \n",
       "15087 16178 "
      ]
     },
     "metadata": {},
     "output_type": "display_data"
    }
   ],
   "source": [
    "ifelse(nhanes_df$SMOKE_STATUS == \"NeverSmoke\", \"No\", \"Yes\") %>% table()"
   ]
  },
  {
   "cell_type": "markdown",
   "id": "47578153",
   "metadata": {},
   "source": [
    "Another useful function from the tidyverse is the `case_when()` function, which is an extension of the `ifelse()` function but allows to specify more than two cases. We demonstrate this function below to show how we could relabel the levels of the `SMOKE_STATUS` column. For each condition, we use the right side of the `~` to specify the value associated with a TRUE for that condition. "
   ]
  },
  {
   "cell_type": "code",
   "execution_count": 14,
   "id": "bbbd6147",
   "metadata": {},
   "outputs": [
    {
     "data": {
      "text/plain": [
       ".\n",
       "Current Smoker   Never Smoked   Quit Smoking \n",
       "          7317          15087           8861 "
      ]
     },
     "metadata": {},
     "output_type": "display_data"
    }
   ],
   "source": [
    "case_when(nhanes_df$SMOKE_STATUS == \"NeverSmoke\" ~ \"Never Smoked\",\n",
    "          nhanes_df$SMOKE_STATUS == \"QuitSmoke\" ~ \"Quit Smoking\",\n",
    "          nhanes_df$SMOKE_STATUS == \"StillSmoke\" ~ \"Current Smoker\") %>% table()"
   ]
  },
  {
   "cell_type": "markdown",
   "id": "1f3f0ca8",
   "metadata": {},
   "source": [
    "Above, we did not store the columns we created. To do so, we could use the `$` operator or the  `cbind()` function. The tidyverse also includes an alternative function to add columns called `mutate()`. This function takes in a data frame and a set of columns with associated names to add to the data or update. In the example below, we create the column `EVER_SMOKE` and update the column `SMOKE_STATUS`. Within the `mutate()` function, we do not have to use the `$` operator to reference the column `SMOKE_STATUS`. Instead, we can specify just the column name and it will interpret it as that column."
   ]
  },
  {
   "cell_type": "code",
   "execution_count": 15,
   "id": "1398d739",
   "metadata": {},
   "outputs": [],
   "source": [
    "nhanes_df <- nhanes_df %>% \n",
    "  mutate(EVER_SMOKE = ifelse(SMOKE_STATUS == \"NeverSmoke\", \"No\", \"Yes\"), \n",
    "         SMOKE_STATUS = case_when(SMOKE_STATUS == \"NeverSmoke\" ~ \"Never Smoked\",\n",
    "                                  SMOKE_STATUS == \"QuitSmoke\" ~ \"Quit Smoking\",\n",
    "                                  SMOKE_STATUS == \"StillSmoke\" ~ \"Current Smoker\")) "
   ]
  },
  {
   "cell_type": "markdown",
   "id": "84cf2a3b",
   "metadata": {},
   "source": [
    "The last function we will demonstrate in this section is the `arrange()` function, which takes in a data frame and a vector of columns used to sort the data (data is sorted by the first column with ties being sorted by the second column, etc.). By default, the `arrange()` function sorts the data in increasing order, but we can use the `desc()` function to instead sort in descending order. For example, the code below filters the data to male smokers before sorting by decreasing systolic and diastolic blood pressure in descending order. "
   ]
  },
  {
   "cell_type": "code",
   "execution_count": 16,
   "id": "2dd90ad2",
   "metadata": {},
   "outputs": [
    {
     "data": {
      "text/html": [
       "<table class=\"dataframe\">\n",
       "<caption>A data.frame: 10 × 6</caption>\n",
       "<thead>\n",
       "\t<tr><th></th><th scope=col>YEAR</th><th scope=col>SEX</th><th scope=col>SMOKE_STATUS</th><th scope=col>SBP1</th><th scope=col>DBP1</th><th scope=col>LEAD</th></tr>\n",
       "\t<tr><th></th><th scope=col>&lt;dbl&gt;</th><th scope=col>&lt;fct&gt;</th><th scope=col>&lt;chr&gt;</th><th scope=col>&lt;dbl&gt;</th><th scope=col>&lt;dbl&gt;</th><th scope=col>&lt;dbl&gt;</th></tr>\n",
       "</thead>\n",
       "<tbody>\n",
       "\t<tr><th scope=row>1</th><td>2011</td><td>Male</td><td>Current Smoker</td><td>230</td><td>120</td><td>5.84</td></tr>\n",
       "\t<tr><th scope=row>2</th><td>2015</td><td>Male</td><td>Current Smoker</td><td>230</td><td> 98</td><td>1.56</td></tr>\n",
       "\t<tr><th scope=row>3</th><td>2009</td><td>Male</td><td>Current Smoker</td><td>220</td><td> 80</td><td>4.84</td></tr>\n",
       "\t<tr><th scope=row>4</th><td>2001</td><td>Male</td><td>Current Smoker</td><td>218</td><td>118</td><td>3.70</td></tr>\n",
       "\t<tr><th scope=row>5</th><td>2017</td><td>Male</td><td>Current Smoker</td><td>212</td><td>122</td><td>2.20</td></tr>\n",
       "\t<tr><th scope=row>6</th><td>2003</td><td>Male</td><td>Current Smoker</td><td>212</td><td> 54</td><td>4.00</td></tr>\n",
       "\t<tr><th scope=row>7</th><td>2011</td><td>Male</td><td>Current Smoker</td><td>210</td><td> 92</td><td>5.37</td></tr>\n",
       "\t<tr><th scope=row>8</th><td>2007</td><td>Male</td><td>Current Smoker</td><td>210</td><td> 80</td><td>2.18</td></tr>\n",
       "\t<tr><th scope=row>9</th><td>2015</td><td>Male</td><td>Current Smoker</td><td>206</td><td>108</td><td>1.44</td></tr>\n",
       "\t<tr><th scope=row>10</th><td>2003</td><td>Male</td><td>Current Smoker</td><td>206</td><td> 68</td><td>1.80</td></tr>\n",
       "</tbody>\n",
       "</table>\n"
      ],
      "text/latex": [
       "A data.frame: 10 × 6\n",
       "\\begin{tabular}{r|llllll}\n",
       "  & YEAR & SEX & SMOKE\\_STATUS & SBP1 & DBP1 & LEAD\\\\\n",
       "  & <dbl> & <fct> & <chr> & <dbl> & <dbl> & <dbl>\\\\\n",
       "\\hline\n",
       "\t1 & 2011 & Male & Current Smoker & 230 & 120 & 5.84\\\\\n",
       "\t2 & 2015 & Male & Current Smoker & 230 &  98 & 1.56\\\\\n",
       "\t3 & 2009 & Male & Current Smoker & 220 &  80 & 4.84\\\\\n",
       "\t4 & 2001 & Male & Current Smoker & 218 & 118 & 3.70\\\\\n",
       "\t5 & 2017 & Male & Current Smoker & 212 & 122 & 2.20\\\\\n",
       "\t6 & 2003 & Male & Current Smoker & 212 &  54 & 4.00\\\\\n",
       "\t7 & 2011 & Male & Current Smoker & 210 &  92 & 5.37\\\\\n",
       "\t8 & 2007 & Male & Current Smoker & 210 &  80 & 2.18\\\\\n",
       "\t9 & 2015 & Male & Current Smoker & 206 & 108 & 1.44\\\\\n",
       "\t10 & 2003 & Male & Current Smoker & 206 &  68 & 1.80\\\\\n",
       "\\end{tabular}\n"
      ],
      "text/markdown": [
       "\n",
       "A data.frame: 10 × 6\n",
       "\n",
       "| <!--/--> | YEAR &lt;dbl&gt; | SEX &lt;fct&gt; | SMOKE_STATUS &lt;chr&gt; | SBP1 &lt;dbl&gt; | DBP1 &lt;dbl&gt; | LEAD &lt;dbl&gt; |\n",
       "|---|---|---|---|---|---|---|\n",
       "| 1 | 2011 | Male | Current Smoker | 230 | 120 | 5.84 |\n",
       "| 2 | 2015 | Male | Current Smoker | 230 |  98 | 1.56 |\n",
       "| 3 | 2009 | Male | Current Smoker | 220 |  80 | 4.84 |\n",
       "| 4 | 2001 | Male | Current Smoker | 218 | 118 | 3.70 |\n",
       "| 5 | 2017 | Male | Current Smoker | 212 | 122 | 2.20 |\n",
       "| 6 | 2003 | Male | Current Smoker | 212 |  54 | 4.00 |\n",
       "| 7 | 2011 | Male | Current Smoker | 210 |  92 | 5.37 |\n",
       "| 8 | 2007 | Male | Current Smoker | 210 |  80 | 2.18 |\n",
       "| 9 | 2015 | Male | Current Smoker | 206 | 108 | 1.44 |\n",
       "| 10 | 2003 | Male | Current Smoker | 206 |  68 | 1.80 |\n",
       "\n"
      ],
      "text/plain": [
       "   YEAR SEX  SMOKE_STATUS   SBP1 DBP1 LEAD\n",
       "1  2011 Male Current Smoker 230  120  5.84\n",
       "2  2015 Male Current Smoker 230   98  1.56\n",
       "3  2009 Male Current Smoker 220   80  4.84\n",
       "4  2001 Male Current Smoker 218  118  3.70\n",
       "5  2017 Male Current Smoker 212  122  2.20\n",
       "6  2003 Male Current Smoker 212   54  4.00\n",
       "7  2011 Male Current Smoker 210   92  5.37\n",
       "8  2007 Male Current Smoker 210   80  2.18\n",
       "9  2015 Male Current Smoker 206  108  1.44\n",
       "10 2003 Male Current Smoker 206   68  1.80"
      ]
     },
     "metadata": {},
     "output_type": "display_data"
    }
   ],
   "source": [
    "nhanes_df %>% \n",
    "  select(c(YEAR, SEX, SMOKE_STATUS, SBP1, DBP1, LEAD)) %>%\n",
    "  filter(SEX == \"Male\", SMOKE_STATUS == \"Current Smoker\") %>%\n",
    "  arrange(desc(SBP1), desc(DBP1)) %>%\n",
    "  head(10)"
   ]
  },
  {
   "cell_type": "markdown",
   "id": "e505c491",
   "metadata": {},
   "source": [
    "### Practice Question\n",
    "\n",
    "Create a new column called `DBP_CHANGE` that is equal to the difference between a patient's first and last diastolic blood pressure readings. Then, sort the dataframe by this new column in increasing order."
   ]
  },
  {
   "cell_type": "code",
   "execution_count": 17,
   "id": "0f1b6aa4",
   "metadata": {},
   "outputs": [],
   "source": [
    "# Solution:"
   ]
  },
  {
   "cell_type": "markdown",
   "id": "e3a8ac7d",
   "metadata": {},
   "source": [
    "## Summarizing using `summarize` and `group_by`"
   ]
  },
  {
   "cell_type": "markdown",
   "id": "86b5c27d",
   "metadata": {},
   "source": [
    "If we wanted to understand how many observations there are for each given race category, we could use the `table()` function as we described in earlier chapters. Another similar function is the `count()` function. This function takes in a data frame and one or more columns and counts the number of rows for each combination of unique values in these columns. If no columns are specified, it counts the total number of rows in the data frame. Below, we find the total number of rows (31,265) and the number of observations by race and year. We can see that the number in each group fluctuates quite a bit!"
   ]
  },
  {
   "cell_type": "code",
   "execution_count": 18,
   "id": "114f3722",
   "metadata": {},
   "outputs": [
    {
     "data": {
      "text/html": [
       "<table class=\"dataframe\">\n",
       "<caption>A data.frame: 1 × 1</caption>\n",
       "<thead>\n",
       "\t<tr><th scope=col>n</th></tr>\n",
       "\t<tr><th scope=col>&lt;int&gt;</th></tr>\n",
       "</thead>\n",
       "<tbody>\n",
       "\t<tr><td>31265</td></tr>\n",
       "</tbody>\n",
       "</table>\n"
      ],
      "text/latex": [
       "A data.frame: 1 × 1\n",
       "\\begin{tabular}{l}\n",
       " n\\\\\n",
       " <int>\\\\\n",
       "\\hline\n",
       "\t 31265\\\\\n",
       "\\end{tabular}\n"
      ],
      "text/markdown": [
       "\n",
       "A data.frame: 1 × 1\n",
       "\n",
       "| n &lt;int&gt; |\n",
       "|---|\n",
       "| 31265 |\n",
       "\n"
      ],
      "text/plain": [
       "  n    \n",
       "1 31265"
      ]
     },
     "metadata": {},
     "output_type": "display_data"
    },
    {
     "data": {
      "text/html": [
       "<table class=\"dataframe\">\n",
       "<caption>A data.frame: 50 × 3</caption>\n",
       "<thead>\n",
       "\t<tr><th scope=col>RACE</th><th scope=col>YEAR</th><th scope=col>n</th></tr>\n",
       "\t<tr><th scope=col>&lt;fct&gt;</th><th scope=col>&lt;dbl&gt;</th><th scope=col>&lt;int&gt;</th></tr>\n",
       "</thead>\n",
       "<tbody>\n",
       "\t<tr><td>Mexican American  </td><td>1999</td><td> 713</td></tr>\n",
       "\t<tr><td>Mexican American  </td><td>2001</td><td> 674</td></tr>\n",
       "\t<tr><td>Mexican American  </td><td>2003</td><td> 627</td></tr>\n",
       "\t<tr><td>Mexican American  </td><td>2005</td><td> 634</td></tr>\n",
       "\t<tr><td>Mexican American  </td><td>2007</td><td> 639</td></tr>\n",
       "\t<tr><td>Mexican American  </td><td>2009</td><td> 672</td></tr>\n",
       "\t<tr><td>Mexican American  </td><td>2011</td><td> 322</td></tr>\n",
       "\t<tr><td>Mexican American  </td><td>2013</td><td> 234</td></tr>\n",
       "\t<tr><td>Mexican American  </td><td>2015</td><td> 287</td></tr>\n",
       "\t<tr><td>Mexican American  </td><td>2017</td><td> 475</td></tr>\n",
       "\t<tr><td>Other Hispanic    </td><td>1999</td><td> 181</td></tr>\n",
       "\t<tr><td>Other Hispanic    </td><td>2001</td><td> 129</td></tr>\n",
       "\t<tr><td>Other Hispanic    </td><td>2003</td><td>  80</td></tr>\n",
       "\t<tr><td>Other Hispanic    </td><td>2005</td><td>  96</td></tr>\n",
       "\t<tr><td>Other Hispanic    </td><td>2007</td><td> 395</td></tr>\n",
       "\t<tr><td>Other Hispanic    </td><td>2009</td><td> 367</td></tr>\n",
       "\t<tr><td>Other Hispanic    </td><td>2011</td><td> 337</td></tr>\n",
       "\t<tr><td>Other Hispanic    </td><td>2013</td><td> 167</td></tr>\n",
       "\t<tr><td>Other Hispanic    </td><td>2015</td><td> 214</td></tr>\n",
       "\t<tr><td>Other Hispanic    </td><td>2017</td><td> 313</td></tr>\n",
       "\t<tr><td>Non-Hispanic White</td><td>1999</td><td>1401</td></tr>\n",
       "\t<tr><td>Non-Hispanic White</td><td>2001</td><td>1882</td></tr>\n",
       "\t<tr><td>Non-Hispanic White</td><td>2003</td><td>1785</td></tr>\n",
       "\t<tr><td>Non-Hispanic White</td><td>2005</td><td>1818</td></tr>\n",
       "\t<tr><td>Non-Hispanic White</td><td>2007</td><td>1940</td></tr>\n",
       "\t<tr><td>Non-Hispanic White</td><td>2009</td><td>2169</td></tr>\n",
       "\t<tr><td>Non-Hispanic White</td><td>2011</td><td>1463</td></tr>\n",
       "\t<tr><td>Non-Hispanic White</td><td>2013</td><td> 917</td></tr>\n",
       "\t<tr><td>Non-Hispanic White</td><td>2015</td><td> 685</td></tr>\n",
       "\t<tr><td>Non-Hispanic White</td><td>2017</td><td>1413</td></tr>\n",
       "\t<tr><td>Non-Hispanic Black</td><td>1999</td><td> 463</td></tr>\n",
       "\t<tr><td>Non-Hispanic Black</td><td>2001</td><td> 542</td></tr>\n",
       "\t<tr><td>Non-Hispanic Black</td><td>2003</td><td> 576</td></tr>\n",
       "\t<tr><td>Non-Hispanic Black</td><td>2005</td><td> 679</td></tr>\n",
       "\t<tr><td>Non-Hispanic Black</td><td>2007</td><td> 728</td></tr>\n",
       "\t<tr><td>Non-Hispanic Black</td><td>2009</td><td> 661</td></tr>\n",
       "\t<tr><td>Non-Hispanic Black</td><td>2011</td><td> 876</td></tr>\n",
       "\t<tr><td>Non-Hispanic Black</td><td>2013</td><td> 357</td></tr>\n",
       "\t<tr><td>Non-Hispanic Black</td><td>2015</td><td> 351</td></tr>\n",
       "\t<tr><td>Non-Hispanic Black</td><td>2017</td><td> 808</td></tr>\n",
       "\t<tr><td>Other Race        </td><td>1999</td><td>  76</td></tr>\n",
       "\t<tr><td>Other Race        </td><td>2001</td><td>  88</td></tr>\n",
       "\t<tr><td>Other Race        </td><td>2003</td><td> 109</td></tr>\n",
       "\t<tr><td>Other Race        </td><td>2005</td><td> 122</td></tr>\n",
       "\t<tr><td>Other Race        </td><td>2007</td><td> 123</td></tr>\n",
       "\t<tr><td>Other Race        </td><td>2009</td><td> 175</td></tr>\n",
       "\t<tr><td>Other Race        </td><td>2011</td><td> 475</td></tr>\n",
       "\t<tr><td>Other Race        </td><td>2013</td><td> 223</td></tr>\n",
       "\t<tr><td>Other Race        </td><td>2015</td><td> 209</td></tr>\n",
       "\t<tr><td>Other Race        </td><td>2017</td><td> 595</td></tr>\n",
       "</tbody>\n",
       "</table>\n"
      ],
      "text/latex": [
       "A data.frame: 50 × 3\n",
       "\\begin{tabular}{lll}\n",
       " RACE & YEAR & n\\\\\n",
       " <fct> & <dbl> & <int>\\\\\n",
       "\\hline\n",
       "\t Mexican American   & 1999 &  713\\\\\n",
       "\t Mexican American   & 2001 &  674\\\\\n",
       "\t Mexican American   & 2003 &  627\\\\\n",
       "\t Mexican American   & 2005 &  634\\\\\n",
       "\t Mexican American   & 2007 &  639\\\\\n",
       "\t Mexican American   & 2009 &  672\\\\\n",
       "\t Mexican American   & 2011 &  322\\\\\n",
       "\t Mexican American   & 2013 &  234\\\\\n",
       "\t Mexican American   & 2015 &  287\\\\\n",
       "\t Mexican American   & 2017 &  475\\\\\n",
       "\t Other Hispanic     & 1999 &  181\\\\\n",
       "\t Other Hispanic     & 2001 &  129\\\\\n",
       "\t Other Hispanic     & 2003 &   80\\\\\n",
       "\t Other Hispanic     & 2005 &   96\\\\\n",
       "\t Other Hispanic     & 2007 &  395\\\\\n",
       "\t Other Hispanic     & 2009 &  367\\\\\n",
       "\t Other Hispanic     & 2011 &  337\\\\\n",
       "\t Other Hispanic     & 2013 &  167\\\\\n",
       "\t Other Hispanic     & 2015 &  214\\\\\n",
       "\t Other Hispanic     & 2017 &  313\\\\\n",
       "\t Non-Hispanic White & 1999 & 1401\\\\\n",
       "\t Non-Hispanic White & 2001 & 1882\\\\\n",
       "\t Non-Hispanic White & 2003 & 1785\\\\\n",
       "\t Non-Hispanic White & 2005 & 1818\\\\\n",
       "\t Non-Hispanic White & 2007 & 1940\\\\\n",
       "\t Non-Hispanic White & 2009 & 2169\\\\\n",
       "\t Non-Hispanic White & 2011 & 1463\\\\\n",
       "\t Non-Hispanic White & 2013 &  917\\\\\n",
       "\t Non-Hispanic White & 2015 &  685\\\\\n",
       "\t Non-Hispanic White & 2017 & 1413\\\\\n",
       "\t Non-Hispanic Black & 1999 &  463\\\\\n",
       "\t Non-Hispanic Black & 2001 &  542\\\\\n",
       "\t Non-Hispanic Black & 2003 &  576\\\\\n",
       "\t Non-Hispanic Black & 2005 &  679\\\\\n",
       "\t Non-Hispanic Black & 2007 &  728\\\\\n",
       "\t Non-Hispanic Black & 2009 &  661\\\\\n",
       "\t Non-Hispanic Black & 2011 &  876\\\\\n",
       "\t Non-Hispanic Black & 2013 &  357\\\\\n",
       "\t Non-Hispanic Black & 2015 &  351\\\\\n",
       "\t Non-Hispanic Black & 2017 &  808\\\\\n",
       "\t Other Race         & 1999 &   76\\\\\n",
       "\t Other Race         & 2001 &   88\\\\\n",
       "\t Other Race         & 2003 &  109\\\\\n",
       "\t Other Race         & 2005 &  122\\\\\n",
       "\t Other Race         & 2007 &  123\\\\\n",
       "\t Other Race         & 2009 &  175\\\\\n",
       "\t Other Race         & 2011 &  475\\\\\n",
       "\t Other Race         & 2013 &  223\\\\\n",
       "\t Other Race         & 2015 &  209\\\\\n",
       "\t Other Race         & 2017 &  595\\\\\n",
       "\\end{tabular}\n"
      ],
      "text/markdown": [
       "\n",
       "A data.frame: 50 × 3\n",
       "\n",
       "| RACE &lt;fct&gt; | YEAR &lt;dbl&gt; | n &lt;int&gt; |\n",
       "|---|---|---|\n",
       "| Mexican American   | 1999 |  713 |\n",
       "| Mexican American   | 2001 |  674 |\n",
       "| Mexican American   | 2003 |  627 |\n",
       "| Mexican American   | 2005 |  634 |\n",
       "| Mexican American   | 2007 |  639 |\n",
       "| Mexican American   | 2009 |  672 |\n",
       "| Mexican American   | 2011 |  322 |\n",
       "| Mexican American   | 2013 |  234 |\n",
       "| Mexican American   | 2015 |  287 |\n",
       "| Mexican American   | 2017 |  475 |\n",
       "| Other Hispanic     | 1999 |  181 |\n",
       "| Other Hispanic     | 2001 |  129 |\n",
       "| Other Hispanic     | 2003 |   80 |\n",
       "| Other Hispanic     | 2005 |   96 |\n",
       "| Other Hispanic     | 2007 |  395 |\n",
       "| Other Hispanic     | 2009 |  367 |\n",
       "| Other Hispanic     | 2011 |  337 |\n",
       "| Other Hispanic     | 2013 |  167 |\n",
       "| Other Hispanic     | 2015 |  214 |\n",
       "| Other Hispanic     | 2017 |  313 |\n",
       "| Non-Hispanic White | 1999 | 1401 |\n",
       "| Non-Hispanic White | 2001 | 1882 |\n",
       "| Non-Hispanic White | 2003 | 1785 |\n",
       "| Non-Hispanic White | 2005 | 1818 |\n",
       "| Non-Hispanic White | 2007 | 1940 |\n",
       "| Non-Hispanic White | 2009 | 2169 |\n",
       "| Non-Hispanic White | 2011 | 1463 |\n",
       "| Non-Hispanic White | 2013 |  917 |\n",
       "| Non-Hispanic White | 2015 |  685 |\n",
       "| Non-Hispanic White | 2017 | 1413 |\n",
       "| Non-Hispanic Black | 1999 |  463 |\n",
       "| Non-Hispanic Black | 2001 |  542 |\n",
       "| Non-Hispanic Black | 2003 |  576 |\n",
       "| Non-Hispanic Black | 2005 |  679 |\n",
       "| Non-Hispanic Black | 2007 |  728 |\n",
       "| Non-Hispanic Black | 2009 |  661 |\n",
       "| Non-Hispanic Black | 2011 |  876 |\n",
       "| Non-Hispanic Black | 2013 |  357 |\n",
       "| Non-Hispanic Black | 2015 |  351 |\n",
       "| Non-Hispanic Black | 2017 |  808 |\n",
       "| Other Race         | 1999 |   76 |\n",
       "| Other Race         | 2001 |   88 |\n",
       "| Other Race         | 2003 |  109 |\n",
       "| Other Race         | 2005 |  122 |\n",
       "| Other Race         | 2007 |  123 |\n",
       "| Other Race         | 2009 |  175 |\n",
       "| Other Race         | 2011 |  475 |\n",
       "| Other Race         | 2013 |  223 |\n",
       "| Other Race         | 2015 |  209 |\n",
       "| Other Race         | 2017 |  595 |\n",
       "\n"
      ],
      "text/plain": [
       "   RACE               YEAR n   \n",
       "1  Mexican American   1999  713\n",
       "2  Mexican American   2001  674\n",
       "3  Mexican American   2003  627\n",
       "4  Mexican American   2005  634\n",
       "5  Mexican American   2007  639\n",
       "6  Mexican American   2009  672\n",
       "7  Mexican American   2011  322\n",
       "8  Mexican American   2013  234\n",
       "9  Mexican American   2015  287\n",
       "10 Mexican American   2017  475\n",
       "11 Other Hispanic     1999  181\n",
       "12 Other Hispanic     2001  129\n",
       "13 Other Hispanic     2003   80\n",
       "14 Other Hispanic     2005   96\n",
       "15 Other Hispanic     2007  395\n",
       "16 Other Hispanic     2009  367\n",
       "17 Other Hispanic     2011  337\n",
       "18 Other Hispanic     2013  167\n",
       "19 Other Hispanic     2015  214\n",
       "20 Other Hispanic     2017  313\n",
       "21 Non-Hispanic White 1999 1401\n",
       "22 Non-Hispanic White 2001 1882\n",
       "23 Non-Hispanic White 2003 1785\n",
       "24 Non-Hispanic White 2005 1818\n",
       "25 Non-Hispanic White 2007 1940\n",
       "26 Non-Hispanic White 2009 2169\n",
       "27 Non-Hispanic White 2011 1463\n",
       "28 Non-Hispanic White 2013  917\n",
       "29 Non-Hispanic White 2015  685\n",
       "30 Non-Hispanic White 2017 1413\n",
       "31 Non-Hispanic Black 1999  463\n",
       "32 Non-Hispanic Black 2001  542\n",
       "33 Non-Hispanic Black 2003  576\n",
       "34 Non-Hispanic Black 2005  679\n",
       "35 Non-Hispanic Black 2007  728\n",
       "36 Non-Hispanic Black 2009  661\n",
       "37 Non-Hispanic Black 2011  876\n",
       "38 Non-Hispanic Black 2013  357\n",
       "39 Non-Hispanic Black 2015  351\n",
       "40 Non-Hispanic Black 2017  808\n",
       "41 Other Race         1999   76\n",
       "42 Other Race         2001   88\n",
       "43 Other Race         2003  109\n",
       "44 Other Race         2005  122\n",
       "45 Other Race         2007  123\n",
       "46 Other Race         2009  175\n",
       "47 Other Race         2011  475\n",
       "48 Other Race         2013  223\n",
       "49 Other Race         2015  209\n",
       "50 Other Race         2017  595"
      ]
     },
     "metadata": {},
     "output_type": "display_data"
    }
   ],
   "source": [
    "count(nhanes_df)\n",
    "count(nhanes_df, RACE, YEAR)"
   ]
  },
  {
   "cell_type": "markdown",
   "id": "1f2b0e9d",
   "metadata": {},
   "source": [
    "Finding the counts like we did above is a form of a summary statistic for our data. The `summarize()` function in the tidyverse is used to compute summary statistics of the data and allows us to compute multiple statistics: this function takes in a data frame and one or more summary functions based on the given column names. In the example below, we find the total number of observations as well as the mean and median systolic blood pressure for Non-Hispanic Blacks. Note that the `n()` function is the function within `summarize()` that finds the number of observations. In the `mean()` and `median()` functions we set `na.rm=TRUE` to remove NAs before computing these values (otherwise we could get NA as our output)."
   ]
  },
  {
   "cell_type": "code",
   "execution_count": 19,
   "id": "ea3f5111",
   "metadata": {},
   "outputs": [
    {
     "data": {
      "text/html": [
       "<table class=\"dataframe\">\n",
       "<caption>A data.frame: 1 × 3</caption>\n",
       "<thead>\n",
       "\t<tr><th scope=col>TOT</th><th scope=col>MEAN_SBP</th><th scope=col>MEAN_DBP</th></tr>\n",
       "\t<tr><th scope=col>&lt;int&gt;</th><th scope=col>&lt;dbl&gt;</th><th scope=col>&lt;dbl&gt;</th></tr>\n",
       "</thead>\n",
       "<tbody>\n",
       "\t<tr><td>6041</td><td>128.7584</td><td>72.59694</td></tr>\n",
       "</tbody>\n",
       "</table>\n"
      ],
      "text/latex": [
       "A data.frame: 1 × 3\n",
       "\\begin{tabular}{lll}\n",
       " TOT & MEAN\\_SBP & MEAN\\_DBP\\\\\n",
       " <int> & <dbl> & <dbl>\\\\\n",
       "\\hline\n",
       "\t 6041 & 128.7584 & 72.59694\\\\\n",
       "\\end{tabular}\n"
      ],
      "text/markdown": [
       "\n",
       "A data.frame: 1 × 3\n",
       "\n",
       "| TOT &lt;int&gt; | MEAN_SBP &lt;dbl&gt; | MEAN_DBP &lt;dbl&gt; |\n",
       "|---|---|---|\n",
       "| 6041 | 128.7584 | 72.59694 |\n",
       "\n"
      ],
      "text/plain": [
       "  TOT  MEAN_SBP MEAN_DBP\n",
       "1 6041 128.7584 72.59694"
      ]
     },
     "metadata": {},
     "output_type": "display_data"
    }
   ],
   "source": [
    "nhanes_df %>%\n",
    "  filter(RACE == \"Non-Hispanic Black\") %>%\n",
    "  summarize(TOT = n(), MEAN_SBP = mean(SBP1, na.rm=TRUE), MEAN_DBP = mean(DBP1, na.rm=TRUE))"
   ]
  },
  {
   "cell_type": "markdown",
   "id": "8b427b50",
   "metadata": {},
   "source": [
    "If we wanted to repeat this for the other race groups, we would have to change the arguments to the `filter()` function each time. To avoid having to repeat our code and/or do this multiple times, we can use the `group_by()` function, which takes a data frame and one or more columns with which to group the data by. Below, we group using the `RACE` variable. When we look at printed output it looks almost the same as it did before except we can see that its class is now a grouped data frame, which is printed at the top. In fact, a grouped data frame (or grouped tibble) acts like a set of data frames: one for each group. If we use the `slice()` function with index 1, it will return the first row for each group."
   ]
  },
  {
   "cell_type": "code",
   "execution_count": 20,
   "id": "2fba95eb",
   "metadata": {},
   "outputs": [
    {
     "data": {
      "text/html": [
       "<table class=\"dataframe\">\n",
       "<caption>A grouped_df: 5 × 20</caption>\n",
       "<thead>\n",
       "\t<tr><th scope=col>AGE</th><th scope=col>SEX</th><th scope=col>RACE</th><th scope=col>EDUCATION</th><th scope=col>PIR</th><th scope=col>SMOKE_STATUS</th><th scope=col>YEAR</th><th scope=col>LEAD</th><th scope=col>BMI_CAT</th><th scope=col>HYP</th><th scope=col>ALC</th><th scope=col>DBP1</th><th scope=col>DBP2</th><th scope=col>DBP3</th><th scope=col>DBP4</th><th scope=col>SBP1</th><th scope=col>SBP2</th><th scope=col>SBP3</th><th scope=col>SBP4</th><th scope=col>EVER_SMOKE</th></tr>\n",
       "\t<tr><th scope=col>&lt;dbl&gt;</th><th scope=col>&lt;fct&gt;</th><th scope=col>&lt;fct&gt;</th><th scope=col>&lt;fct&gt;</th><th scope=col>&lt;dbl&gt;</th><th scope=col>&lt;chr&gt;</th><th scope=col>&lt;dbl&gt;</th><th scope=col>&lt;dbl&gt;</th><th scope=col>&lt;fct&gt;</th><th scope=col>&lt;dbl&gt;</th><th scope=col>&lt;chr&gt;</th><th scope=col>&lt;dbl&gt;</th><th scope=col>&lt;dbl&gt;</th><th scope=col>&lt;dbl&gt;</th><th scope=col>&lt;dbl&gt;</th><th scope=col>&lt;dbl&gt;</th><th scope=col>&lt;dbl&gt;</th><th scope=col>&lt;dbl&gt;</th><th scope=col>&lt;dbl&gt;</th><th scope=col>&lt;chr&gt;</th></tr>\n",
       "</thead>\n",
       "<tbody>\n",
       "\t<tr><td>70</td><td><span style=white-space:pre-wrap>Male  </span></td><td><span style=white-space:pre-wrap>Mexican American  </span></td><td>LessThanHS</td><td>1.07</td><td><span style=white-space:pre-wrap>Quit Smoking  </span></td><td>1999</td><td>1.6</td><td>25&lt;BMI&lt;30</td><td>1</td><td>Yes</td><td>78</td><td>62</td><td>70</td><td>NA</td><td>140</td><td>130</td><td>130</td><td>NA</td><td>Yes</td></tr>\n",
       "\t<tr><td>61</td><td>Female</td><td><span style=white-space:pre-wrap>Other Hispanic    </span></td><td>MoreThanHS</td><td>3.33</td><td>Current Smoker</td><td>1999</td><td>2.2</td><td><span style=white-space:pre-wrap>BMI&lt;=25  </span></td><td>0</td><td>Yes</td><td>70</td><td>60</td><td>74</td><td>NA</td><td>106</td><td>110</td><td>116</td><td>NA</td><td>Yes</td></tr>\n",
       "\t<tr><td>77</td><td><span style=white-space:pre-wrap>Male  </span></td><td>Non-Hispanic White</td><td>MoreThanHS</td><td>5.00</td><td><span style=white-space:pre-wrap>Never Smoked  </span></td><td>1999</td><td>5.0</td><td><span style=white-space:pre-wrap>BMI&lt;=25  </span></td><td>0</td><td>Yes</td><td>58</td><td>56</td><td>56</td><td>NA</td><td>106</td><td> 98</td><td> 98</td><td>NA</td><td>No </td></tr>\n",
       "\t<tr><td>38</td><td>Female</td><td>Non-Hispanic Black</td><td><span style=white-space:pre-wrap>HS        </span></td><td>0.92</td><td>Current Smoker</td><td>1999</td><td>1.8</td><td>25&lt;BMI&lt;30</td><td>0</td><td>Yes</td><td>76</td><td>80</td><td>74</td><td>NA</td><td>116</td><td>116</td><td>114</td><td>NA</td><td>Yes</td></tr>\n",
       "\t<tr><td>63</td><td>Female</td><td><span style=white-space:pre-wrap>Other Race        </span></td><td>MoreThanHS</td><td>5.00</td><td><span style=white-space:pre-wrap>Never Smoked  </span></td><td>1999</td><td>1.2</td><td><span style=white-space:pre-wrap>BMI&lt;=25  </span></td><td>1</td><td>Yes</td><td>66</td><td>78</td><td>82</td><td>NA</td><td>120</td><td>118</td><td>118</td><td>NA</td><td>No </td></tr>\n",
       "</tbody>\n",
       "</table>\n"
      ],
      "text/latex": [
       "A grouped\\_df: 5 × 20\n",
       "\\begin{tabular}{llllllllllllllllllll}\n",
       " AGE & SEX & RACE & EDUCATION & PIR & SMOKE\\_STATUS & YEAR & LEAD & BMI\\_CAT & HYP & ALC & DBP1 & DBP2 & DBP3 & DBP4 & SBP1 & SBP2 & SBP3 & SBP4 & EVER\\_SMOKE\\\\\n",
       " <dbl> & <fct> & <fct> & <fct> & <dbl> & <chr> & <dbl> & <dbl> & <fct> & <dbl> & <chr> & <dbl> & <dbl> & <dbl> & <dbl> & <dbl> & <dbl> & <dbl> & <dbl> & <chr>\\\\\n",
       "\\hline\n",
       "\t 70 & Male   & Mexican American   & LessThanHS & 1.07 & Quit Smoking   & 1999 & 1.6 & 25<BMI<30 & 1 & Yes & 78 & 62 & 70 & NA & 140 & 130 & 130 & NA & Yes\\\\\n",
       "\t 61 & Female & Other Hispanic     & MoreThanHS & 3.33 & Current Smoker & 1999 & 2.2 & BMI<=25   & 0 & Yes & 70 & 60 & 74 & NA & 106 & 110 & 116 & NA & Yes\\\\\n",
       "\t 77 & Male   & Non-Hispanic White & MoreThanHS & 5.00 & Never Smoked   & 1999 & 5.0 & BMI<=25   & 0 & Yes & 58 & 56 & 56 & NA & 106 &  98 &  98 & NA & No \\\\\n",
       "\t 38 & Female & Non-Hispanic Black & HS         & 0.92 & Current Smoker & 1999 & 1.8 & 25<BMI<30 & 0 & Yes & 76 & 80 & 74 & NA & 116 & 116 & 114 & NA & Yes\\\\\n",
       "\t 63 & Female & Other Race         & MoreThanHS & 5.00 & Never Smoked   & 1999 & 1.2 & BMI<=25   & 1 & Yes & 66 & 78 & 82 & NA & 120 & 118 & 118 & NA & No \\\\\n",
       "\\end{tabular}\n"
      ],
      "text/markdown": [
       "\n",
       "A grouped_df: 5 × 20\n",
       "\n",
       "| AGE &lt;dbl&gt; | SEX &lt;fct&gt; | RACE &lt;fct&gt; | EDUCATION &lt;fct&gt; | PIR &lt;dbl&gt; | SMOKE_STATUS &lt;chr&gt; | YEAR &lt;dbl&gt; | LEAD &lt;dbl&gt; | BMI_CAT &lt;fct&gt; | HYP &lt;dbl&gt; | ALC &lt;chr&gt; | DBP1 &lt;dbl&gt; | DBP2 &lt;dbl&gt; | DBP3 &lt;dbl&gt; | DBP4 &lt;dbl&gt; | SBP1 &lt;dbl&gt; | SBP2 &lt;dbl&gt; | SBP3 &lt;dbl&gt; | SBP4 &lt;dbl&gt; | EVER_SMOKE &lt;chr&gt; |\n",
       "|---|---|---|---|---|---|---|---|---|---|---|---|---|---|---|---|---|---|---|---|\n",
       "| 70 | Male   | Mexican American   | LessThanHS | 1.07 | Quit Smoking   | 1999 | 1.6 | 25&lt;BMI&lt;30 | 1 | Yes | 78 | 62 | 70 | NA | 140 | 130 | 130 | NA | Yes |\n",
       "| 61 | Female | Other Hispanic     | MoreThanHS | 3.33 | Current Smoker | 1999 | 2.2 | BMI&lt;=25   | 0 | Yes | 70 | 60 | 74 | NA | 106 | 110 | 116 | NA | Yes |\n",
       "| 77 | Male   | Non-Hispanic White | MoreThanHS | 5.00 | Never Smoked   | 1999 | 5.0 | BMI&lt;=25   | 0 | Yes | 58 | 56 | 56 | NA | 106 |  98 |  98 | NA | No  |\n",
       "| 38 | Female | Non-Hispanic Black | HS         | 0.92 | Current Smoker | 1999 | 1.8 | 25&lt;BMI&lt;30 | 0 | Yes | 76 | 80 | 74 | NA | 116 | 116 | 114 | NA | Yes |\n",
       "| 63 | Female | Other Race         | MoreThanHS | 5.00 | Never Smoked   | 1999 | 1.2 | BMI&lt;=25   | 1 | Yes | 66 | 78 | 82 | NA | 120 | 118 | 118 | NA | No  |\n",
       "\n"
      ],
      "text/plain": [
       "  AGE SEX    RACE               EDUCATION  PIR  SMOKE_STATUS   YEAR LEAD\n",
       "1 70  Male   Mexican American   LessThanHS 1.07 Quit Smoking   1999 1.6 \n",
       "2 61  Female Other Hispanic     MoreThanHS 3.33 Current Smoker 1999 2.2 \n",
       "3 77  Male   Non-Hispanic White MoreThanHS 5.00 Never Smoked   1999 5.0 \n",
       "4 38  Female Non-Hispanic Black HS         0.92 Current Smoker 1999 1.8 \n",
       "5 63  Female Other Race         MoreThanHS 5.00 Never Smoked   1999 1.2 \n",
       "  BMI_CAT   HYP ALC DBP1 DBP2 DBP3 DBP4 SBP1 SBP2 SBP3 SBP4 EVER_SMOKE\n",
       "1 25<BMI<30 1   Yes 78   62   70   NA   140  130  130  NA   Yes       \n",
       "2 BMI<=25   0   Yes 70   60   74   NA   106  110  116  NA   Yes       \n",
       "3 BMI<=25   0   Yes 58   56   56   NA   106   98   98  NA   No        \n",
       "4 25<BMI<30 0   Yes 76   80   74   NA   116  116  114  NA   Yes       \n",
       "5 BMI<=25   1   Yes 66   78   82   NA   120  118  118  NA   No        "
      ]
     },
     "metadata": {},
     "output_type": "display_data"
    }
   ],
   "source": [
    "nhanes_df %>% \n",
    "  group_by(RACE) %>%\n",
    "  slice(1)"
   ]
  },
  {
   "cell_type": "markdown",
   "id": "e0f3652b",
   "metadata": {},
   "source": [
    "Grouping data is very helpful in combination with the `summarize()` function. Like with the `slice()` function, `summarize()` will calculate the summary values for each group. We can now find the total number of observations as well as the mean systolic and diastolic blood pressure values for each racial group. Note that the returned summarized data is in a tibble. "
   ]
  },
  {
   "cell_type": "code",
   "execution_count": 21,
   "id": "043cdedf",
   "metadata": {},
   "outputs": [
    {
     "data": {
      "text/html": [
       "<table class=\"dataframe\">\n",
       "<caption>A tibble: 5 × 4</caption>\n",
       "<thead>\n",
       "\t<tr><th scope=col>RACE</th><th scope=col>TOT</th><th scope=col>MEAN_SBP</th><th scope=col>MEAN_DBP</th></tr>\n",
       "\t<tr><th scope=col>&lt;fct&gt;</th><th scope=col>&lt;int&gt;</th><th scope=col>&lt;dbl&gt;</th><th scope=col>&lt;dbl&gt;</th></tr>\n",
       "</thead>\n",
       "<tbody>\n",
       "\t<tr><td>Mexican American  </td><td> 5277</td><td>124.1754</td><td>70.40122</td></tr>\n",
       "\t<tr><td>Other Hispanic    </td><td> 2279</td><td>123.2342</td><td>70.11270</td></tr>\n",
       "\t<tr><td>Non-Hispanic White</td><td>15473</td><td>124.6984</td><td>70.35830</td></tr>\n",
       "\t<tr><td>Non-Hispanic Black</td><td> 6041</td><td>128.7584</td><td>72.59694</td></tr>\n",
       "\t<tr><td>Other Race        </td><td> 2195</td><td>122.0406</td><td>72.60445</td></tr>\n",
       "</tbody>\n",
       "</table>\n"
      ],
      "text/latex": [
       "A tibble: 5 × 4\n",
       "\\begin{tabular}{llll}\n",
       " RACE & TOT & MEAN\\_SBP & MEAN\\_DBP\\\\\n",
       " <fct> & <int> & <dbl> & <dbl>\\\\\n",
       "\\hline\n",
       "\t Mexican American   &  5277 & 124.1754 & 70.40122\\\\\n",
       "\t Other Hispanic     &  2279 & 123.2342 & 70.11270\\\\\n",
       "\t Non-Hispanic White & 15473 & 124.6984 & 70.35830\\\\\n",
       "\t Non-Hispanic Black &  6041 & 128.7584 & 72.59694\\\\\n",
       "\t Other Race         &  2195 & 122.0406 & 72.60445\\\\\n",
       "\\end{tabular}\n"
      ],
      "text/markdown": [
       "\n",
       "A tibble: 5 × 4\n",
       "\n",
       "| RACE &lt;fct&gt; | TOT &lt;int&gt; | MEAN_SBP &lt;dbl&gt; | MEAN_DBP &lt;dbl&gt; |\n",
       "|---|---|---|---|\n",
       "| Mexican American   |  5277 | 124.1754 | 70.40122 |\n",
       "| Other Hispanic     |  2279 | 123.2342 | 70.11270 |\n",
       "| Non-Hispanic White | 15473 | 124.6984 | 70.35830 |\n",
       "| Non-Hispanic Black |  6041 | 128.7584 | 72.59694 |\n",
       "| Other Race         |  2195 | 122.0406 | 72.60445 |\n",
       "\n"
      ],
      "text/plain": [
       "  RACE               TOT   MEAN_SBP MEAN_DBP\n",
       "1 Mexican American    5277 124.1754 70.40122\n",
       "2 Other Hispanic      2279 123.2342 70.11270\n",
       "3 Non-Hispanic White 15473 124.6984 70.35830\n",
       "4 Non-Hispanic Black  6041 128.7584 72.59694\n",
       "5 Other Race          2195 122.0406 72.60445"
      ]
     },
     "metadata": {},
     "output_type": "display_data"
    }
   ],
   "source": [
    "nhanes_df %>% \n",
    "  group_by(RACE) %>%\n",
    "  summarize(TOT = n(), MEAN_SBP = mean(SBP1, na.rm=TRUE), MEAN_DBP = mean(DBP1, na.rm=TRUE))"
   ]
  },
  {
   "cell_type": "markdown",
   "id": "4527c7a1",
   "metadata": {},
   "source": [
    "After summarizing, the data is no longer grouped by race. If we ever want to remove the group structure from our data, we can use the `ungroup()` function, which restores the data to a single data frame. After ungrouping by race below, we can see that we get a single observation returned by the `slice()` function."
   ]
  },
  {
   "cell_type": "code",
   "execution_count": 22,
   "id": "8fb068be",
   "metadata": {},
   "outputs": [
    {
     "data": {
      "text/html": [
       "<table class=\"dataframe\">\n",
       "<caption>A tibble: 1 × 4</caption>\n",
       "<thead>\n",
       "\t<tr><th scope=col>SEX</th><th scope=col>RACE</th><th scope=col>SBP1</th><th scope=col>DBP1</th></tr>\n",
       "\t<tr><th scope=col>&lt;fct&gt;</th><th scope=col>&lt;fct&gt;</th><th scope=col>&lt;dbl&gt;</th><th scope=col>&lt;dbl&gt;</th></tr>\n",
       "</thead>\n",
       "<tbody>\n",
       "\t<tr><td>Female</td><td>Non-Hispanic White</td><td>270</td><td>124</td></tr>\n",
       "</tbody>\n",
       "</table>\n"
      ],
      "text/latex": [
       "A tibble: 1 × 4\n",
       "\\begin{tabular}{llll}\n",
       " SEX & RACE & SBP1 & DBP1\\\\\n",
       " <fct> & <fct> & <dbl> & <dbl>\\\\\n",
       "\\hline\n",
       "\t Female & Non-Hispanic White & 270 & 124\\\\\n",
       "\\end{tabular}\n"
      ],
      "text/markdown": [
       "\n",
       "A tibble: 1 × 4\n",
       "\n",
       "| SEX &lt;fct&gt; | RACE &lt;fct&gt; | SBP1 &lt;dbl&gt; | DBP1 &lt;dbl&gt; |\n",
       "|---|---|---|---|\n",
       "| Female | Non-Hispanic White | 270 | 124 |\n",
       "\n"
      ],
      "text/plain": [
       "  SEX    RACE               SBP1 DBP1\n",
       "1 Female Non-Hispanic White 270  124 "
      ]
     },
     "metadata": {},
     "output_type": "display_data"
    }
   ],
   "source": [
    "nhanes_df %>% \n",
    "  select(SEX, RACE, SBP1, DBP1) %>%\n",
    "  group_by(RACE) %>%\n",
    "  ungroup() %>%\n",
    "  arrange(desc(SBP1)) %>%\n",
    "  slice(1)"
   ]
  },
  {
   "cell_type": "markdown",
   "id": "99e9b18d",
   "metadata": {},
   "source": [
    "### Practice Question\n",
    "\n",
    "Create a data frame summarizing the percent of patients with hypertension by age and smoking status. "
   ]
  },
  {
   "cell_type": "code",
   "execution_count": 23,
   "id": "b23870f3",
   "metadata": {},
   "outputs": [],
   "source": [
    "# Solution:"
   ]
  },
  {
   "cell_type": "markdown",
   "id": "e9d3cb13",
   "metadata": {},
   "source": [
    "## Recap Video\n",
    "\n",
    "<div class=\"video-container\">\n",
    "    <iframe width=\"700\" height=\"500\" src=\"https://www.youtube.com/embed/-N7wWwXjQaQ\" title=\"YouTube video player\" frameborder=\"0\" allow=\"accelerometer; autoplay; clipboard-write; encrypted-media; gyroscope; picture-in-picture; web-share\" allowfullscreen></iframe>\n",
    "</div>\n"
   ]
  },
  {
   "cell_type": "markdown",
   "id": "29c91608",
   "metadata": {},
   "source": [
    "## Exercises\n",
    "\n",
    "The following exercises use the **covidcases** dataset from the `RforHDSdata` package."
   ]
  },
  {
   "cell_type": "code",
   "execution_count": 24,
   "id": "ee9c453d",
   "metadata": {},
   "outputs": [
    {
     "data": {
      "text/html": [
       "<style>\n",
       ".list-inline {list-style: none; margin:0; padding: 0}\n",
       ".list-inline>li {display: inline-block}\n",
       ".list-inline>li:not(:last-child)::after {content: \"\\00b7\"; padding: 0 .5ex}\n",
       "</style>\n",
       "<ol class=list-inline><li>'state'</li><li>'county'</li><li>'week'</li><li>'weekly_cases'</li><li>'weekly_deaths'</li></ol>\n"
      ],
      "text/latex": [
       "\\begin{enumerate*}\n",
       "\\item 'state'\n",
       "\\item 'county'\n",
       "\\item 'week'\n",
       "\\item 'weekly\\_cases'\n",
       "\\item 'weekly\\_deaths'\n",
       "\\end{enumerate*}\n"
      ],
      "text/markdown": [
       "1. 'state'\n",
       "2. 'county'\n",
       "3. 'week'\n",
       "4. 'weekly_cases'\n",
       "5. 'weekly_deaths'\n",
       "\n",
       "\n"
      ],
      "text/plain": [
       "[1] \"state\"         \"county\"        \"week\"          \"weekly_cases\" \n",
       "[5] \"weekly_deaths\""
      ]
     },
     "metadata": {},
     "output_type": "display_data"
    }
   ],
   "source": [
    "data(covidcases)\n",
    "names(covidcases)"
   ]
  },
  {
   "cell_type": "markdown",
   "id": "50ca85a6",
   "metadata": {},
   "source": [
    "1. Suppose we are interested in the distribution of weekly cases by state. First, create a new column in `covidcases` called `region` specifying whether each state is in the Northeast, Midwest, South, or West. Then, create a data frame summarizing the average and standard deviation of the weekly cases for the Northeast. "
   ]
  },
  {
   "cell_type": "code",
   "execution_count": 25,
   "id": "43e51359",
   "metadata": {},
   "outputs": [
    {
     "data": {
      "text/html": [
       "<table class=\"dataframe\">\n",
       "<caption>A tibble: 1 × 2</caption>\n",
       "<thead>\n",
       "\t<tr><th scope=col>avg</th><th scope=col>sd</th></tr>\n",
       "\t<tr><th scope=col>&lt;dbl&gt;</th><th scope=col>&lt;dbl&gt;</th></tr>\n",
       "</thead>\n",
       "<tbody>\n",
       "\t<tr><td>218.8027</td><td>1281.62</td></tr>\n",
       "</tbody>\n",
       "</table>\n"
      ],
      "text/latex": [
       "A tibble: 1 × 2\n",
       "\\begin{tabular}{ll}\n",
       " avg & sd\\\\\n",
       " <dbl> & <dbl>\\\\\n",
       "\\hline\n",
       "\t 218.8027 & 1281.62\\\\\n",
       "\\end{tabular}\n"
      ],
      "text/markdown": [
       "\n",
       "A tibble: 1 × 2\n",
       "\n",
       "| avg &lt;dbl&gt; | sd &lt;dbl&gt; |\n",
       "|---|---|\n",
       "| 218.8027 | 1281.62 |\n",
       "\n"
      ],
      "text/plain": [
       "  avg      sd     \n",
       "1 218.8027 1281.62"
      ]
     },
     "metadata": {},
     "output_type": "display_data"
    }
   ],
   "source": [
    "##link to wikipedia or do state.region\n",
    "\n",
    "covidcases <- covidcases %>%\n",
    "          mutate(region = case_when(state %in% c(\"Connecticut\", \n",
    "                                                 \"Maine\", \n",
    "                                                 \"Massachusetts\", \n",
    "                                                 \"New Hampshire\", \n",
    "                                                 \"Rhode Island\", \n",
    "                                                 \"Vermont\", \n",
    "                                                 \"New Jersey\", \n",
    "                                                 \"New York\", \n",
    "                                                 \"Pennsylvania\") ~ \"Northeast\",\n",
    "                                   state %in% c(\"Illinois\",\n",
    "                                               \"Indiana\",\n",
    "                                               \"Michigan\",\n",
    "                                               \"Ohio\", \n",
    "                                               \"Wisconsin\",\n",
    "                                               \"Iowa\",\n",
    "                                               \"Kansas\",\n",
    "                                               \"Minnesota\",\n",
    "                                               \"Missouri\",\n",
    "                                               \"Nebraska\",\n",
    "                                               \"North Dakota\",\n",
    "                                               \"South Dakota\") ~ \"Midwest\",\n",
    "                                   state %in% c(\"Delaware\",\n",
    "                                               \"Florida\",\n",
    "                                               \"Georgia\",\n",
    "                                               \"Maryland\",\n",
    "                                               \"North Carolina\",\n",
    "                                               \"South Carolina\", \n",
    "                                               \"Virginia\", \n",
    "                                               \"District of Columbia\",\n",
    "                                               \"West Virginia\",\n",
    "                                               \"Alabama\",\n",
    "                                               \"Kentucky\",\n",
    "                                               \"Mississippi\",\n",
    "                                               \"Tennessee\",\n",
    "                                               \"Arkansas\",\n",
    "                                               \"Louisiana\",\n",
    "                                               \"Oklahoma\",\n",
    "                                               \"Texas\") ~ \"South\",\n",
    "                                   state %in% c(\"Arizona\",\n",
    "                                                \"Colorado\",\n",
    "                                                \"Idaho\", \n",
    "                                                \"Montana\",\n",
    "                                                \"Nevada\", \n",
    "                                                \"New Mexico\", \n",
    "                                                \"Utah\", \n",
    "                                                \"Wyoming\", \n",
    "                                                \"Alaska\", \n",
    "                                                \"California\", \n",
    "                                                \"Hawaii\", \n",
    "                                                \"Oregon\", \n",
    "                                                \"Washington\") ~ \"West\"))\n",
    "\n",
    "covidcases %>% ungroup() %>%\n",
    "filter(region == \"Northeast\") %>% \n",
    "summarize(avg = mean(weekly_cases, na.rm=TRUE), sd = sd(weekly_cases, na.rm=TRUE))"
   ]
  },
  {
   "cell_type": "markdown",
   "id": "95e4cc44",
   "metadata": {},
   "source": [
    "2. Now, create a data frame with the average and standard deviation summarized for each region rather than for just one selected region as in Question 1. Sort this data frame from highest to lowest average weekly cases. What other information would you need in order to more accurately compare these regions in terms of their average cases?"
   ]
  },
  {
   "cell_type": "code",
   "execution_count": 26,
   "id": "682396bf",
   "metadata": {},
   "outputs": [
    {
     "data": {
      "text/html": [
       "<table class=\"dataframe\">\n",
       "<caption>A tibble: 4 × 3</caption>\n",
       "<thead>\n",
       "\t<tr><th scope=col>region</th><th scope=col>avg</th><th scope=col>sd</th></tr>\n",
       "\t<tr><th scope=col>&lt;chr&gt;</th><th scope=col>&lt;dbl&gt;</th><th scope=col>&lt;dbl&gt;</th></tr>\n",
       "</thead>\n",
       "<tbody>\n",
       "\t<tr><td>Northeast</td><td>218.80271</td><td>1281.6196</td></tr>\n",
       "\t<tr><td>West     </td><td>120.11181</td><td> 685.1325</td></tr>\n",
       "\t<tr><td>South    </td><td> 75.23662</td><td> 362.2401</td></tr>\n",
       "\t<tr><td>Midwest  </td><td> 39.28500</td><td> 203.5628</td></tr>\n",
       "</tbody>\n",
       "</table>\n"
      ],
      "text/latex": [
       "A tibble: 4 × 3\n",
       "\\begin{tabular}{lll}\n",
       " region & avg & sd\\\\\n",
       " <chr> & <dbl> & <dbl>\\\\\n",
       "\\hline\n",
       "\t Northeast & 218.80271 & 1281.6196\\\\\n",
       "\t West      & 120.11181 &  685.1325\\\\\n",
       "\t South     &  75.23662 &  362.2401\\\\\n",
       "\t Midwest   &  39.28500 &  203.5628\\\\\n",
       "\\end{tabular}\n"
      ],
      "text/markdown": [
       "\n",
       "A tibble: 4 × 3\n",
       "\n",
       "| region &lt;chr&gt; | avg &lt;dbl&gt; | sd &lt;dbl&gt; |\n",
       "|---|---|---|\n",
       "| Northeast | 218.80271 | 1281.6196 |\n",
       "| West      | 120.11181 |  685.1325 |\n",
       "| South     |  75.23662 |  362.2401 |\n",
       "| Midwest   |  39.28500 |  203.5628 |\n",
       "\n"
      ],
      "text/plain": [
       "  region    avg       sd       \n",
       "1 Northeast 218.80271 1281.6196\n",
       "2 West      120.11181  685.1325\n",
       "3 South      75.23662  362.2401\n",
       "4 Midwest    39.28500  203.5628"
      ]
     },
     "metadata": {},
     "output_type": "display_data"
    }
   ],
   "source": [
    "covidcases %>% \n",
    "group_by(region) %>% \n",
    "summarize(avg = mean(weekly_cases, na.rm=TRUE), \n",
    "          sd = sd(weekly_cases, na.rm=TRUE)) %>%\n",
    "arrange(desc(avg)) "
   ]
  },
  {
   "cell_type": "markdown",
   "id": "c7973d3f",
   "metadata": {},
   "source": [
    "3. Find the ten counties in the Midwest with the lowest weekly deaths in week 15 of this data."
   ]
  },
  {
   "cell_type": "code",
   "execution_count": 27,
   "id": "02fd4e9f",
   "metadata": {},
   "outputs": [
    {
     "data": {
      "text/html": [
       "<table class=\"dataframe\">\n",
       "<caption>A tibble: 523 × 6</caption>\n",
       "<thead>\n",
       "\t<tr><th scope=col>state</th><th scope=col>county</th><th scope=col>week</th><th scope=col>weekly_cases</th><th scope=col>weekly_deaths</th><th scope=col>region</th></tr>\n",
       "\t<tr><th scope=col>&lt;chr&gt;</th><th scope=col>&lt;chr&gt;</th><th scope=col>&lt;dbl&gt;</th><th scope=col>&lt;int&gt;</th><th scope=col>&lt;int&gt;</th><th scope=col>&lt;chr&gt;</th></tr>\n",
       "</thead>\n",
       "<tbody>\n",
       "\t<tr><td>Wisconsin</td><td>Ozaukee   </td><td>15</td><td> 3</td><td>-2</td><td>Midwest</td></tr>\n",
       "\t<tr><td>Illinois </td><td>Montgomery</td><td>15</td><td> 5</td><td>-1</td><td>Midwest</td></tr>\n",
       "\t<tr><td>Ohio     </td><td>Clinton   </td><td>15</td><td> 7</td><td>-1</td><td>Midwest</td></tr>\n",
       "\t<tr><td>Illinois </td><td>Adams     </td><td>15</td><td>18</td><td> 0</td><td>Midwest</td></tr>\n",
       "\t<tr><td>Illinois </td><td>Bond      </td><td>15</td><td> 1</td><td> 0</td><td>Midwest</td></tr>\n",
       "\t<tr><td>Illinois </td><td>Bureau    </td><td>15</td><td> 2</td><td> 0</td><td>Midwest</td></tr>\n",
       "\t<tr><td>Illinois </td><td>Calhoun   </td><td>15</td><td> 1</td><td> 0</td><td>Midwest</td></tr>\n",
       "\t<tr><td>Illinois </td><td>Clark     </td><td>15</td><td> 4</td><td> 0</td><td>Midwest</td></tr>\n",
       "\t<tr><td>Illinois </td><td>Clay      </td><td>15</td><td> 1</td><td> 0</td><td>Midwest</td></tr>\n",
       "\t<tr><td>Illinois </td><td>Clinton   </td><td>15</td><td>25</td><td> 0</td><td>Midwest</td></tr>\n",
       "\t<tr><td>Illinois </td><td>Coles     </td><td>15</td><td> 6</td><td> 0</td><td>Midwest</td></tr>\n",
       "\t<tr><td>Illinois </td><td>Crawford  </td><td>15</td><td> 4</td><td> 0</td><td>Midwest</td></tr>\n",
       "\t<tr><td>Illinois </td><td>Cumberland</td><td>15</td><td> 1</td><td> 0</td><td>Midwest</td></tr>\n",
       "\t<tr><td>Illinois </td><td>De Witt   </td><td>15</td><td> 2</td><td> 0</td><td>Midwest</td></tr>\n",
       "\t<tr><td>Illinois </td><td>Douglas   </td><td>15</td><td> 1</td><td> 0</td><td>Midwest</td></tr>\n",
       "\t<tr><td>Illinois </td><td>Franklin  </td><td>15</td><td> 2</td><td> 0</td><td>Midwest</td></tr>\n",
       "\t<tr><td>Illinois </td><td>Fulton    </td><td>15</td><td>-1</td><td> 0</td><td>Midwest</td></tr>\n",
       "\t<tr><td>Illinois </td><td>Gallatin  </td><td>15</td><td> 1</td><td> 0</td><td>Midwest</td></tr>\n",
       "\t<tr><td>Illinois </td><td>Greene    </td><td>15</td><td>-1</td><td> 0</td><td>Midwest</td></tr>\n",
       "\t<tr><td>Illinois </td><td>Grundy    </td><td>15</td><td>12</td><td> 0</td><td>Midwest</td></tr>\n",
       "\t<tr><td>Illinois </td><td>Hancock   </td><td>15</td><td> 1</td><td> 0</td><td>Midwest</td></tr>\n",
       "\t<tr><td>Illinois </td><td>Henry     </td><td>15</td><td> 7</td><td> 0</td><td>Midwest</td></tr>\n",
       "\t<tr><td>Illinois </td><td>Iroquois  </td><td>15</td><td> 2</td><td> 0</td><td>Midwest</td></tr>\n",
       "\t<tr><td>Illinois </td><td>Jefferson </td><td>15</td><td> 5</td><td> 0</td><td>Midwest</td></tr>\n",
       "\t<tr><td>Illinois </td><td>Jersey    </td><td>15</td><td> 1</td><td> 0</td><td>Midwest</td></tr>\n",
       "\t<tr><td>Illinois </td><td>Jo Daviess</td><td>15</td><td> 3</td><td> 0</td><td>Midwest</td></tr>\n",
       "\t<tr><td>Illinois </td><td>Johnson   </td><td>15</td><td> 1</td><td> 0</td><td>Midwest</td></tr>\n",
       "\t<tr><td>Illinois </td><td>Knox      </td><td>15</td><td> 1</td><td> 0</td><td>Midwest</td></tr>\n",
       "\t<tr><td>Illinois </td><td>Lawrence  </td><td>15</td><td> 2</td><td> 0</td><td>Midwest</td></tr>\n",
       "\t<tr><td>Illinois </td><td>Lee       </td><td>15</td><td> 7</td><td> 0</td><td>Midwest</td></tr>\n",
       "\t<tr><td>⋮</td><td>⋮</td><td>⋮</td><td>⋮</td><td>⋮</td><td>⋮</td></tr>\n",
       "\t<tr><td>Wisconsin</td><td>Dunn       </td><td>15</td><td> 3</td><td>0</td><td>Midwest</td></tr>\n",
       "\t<tr><td>Wisconsin</td><td>Eau Claire </td><td>15</td><td>21</td><td>0</td><td>Midwest</td></tr>\n",
       "\t<tr><td>Wisconsin</td><td>Florence   </td><td>15</td><td> 2</td><td>0</td><td>Midwest</td></tr>\n",
       "\t<tr><td>Wisconsin</td><td>Green      </td><td>15</td><td> 9</td><td>0</td><td>Midwest</td></tr>\n",
       "\t<tr><td>Wisconsin</td><td>Green Lake </td><td>15</td><td> 1</td><td>0</td><td>Midwest</td></tr>\n",
       "\t<tr><td>Wisconsin</td><td>Iowa       </td><td>15</td><td> 1</td><td>0</td><td>Midwest</td></tr>\n",
       "\t<tr><td>Wisconsin</td><td>Jefferson  </td><td>15</td><td> 8</td><td>0</td><td>Midwest</td></tr>\n",
       "\t<tr><td>Wisconsin</td><td>La Crosse  </td><td>15</td><td> 3</td><td>0</td><td>Midwest</td></tr>\n",
       "\t<tr><td>Wisconsin</td><td>Lafayette  </td><td>15</td><td> 2</td><td>0</td><td>Midwest</td></tr>\n",
       "\t<tr><td>Wisconsin</td><td>Manitowoc  </td><td>15</td><td> 4</td><td>0</td><td>Midwest</td></tr>\n",
       "\t<tr><td>Wisconsin</td><td>Marinette  </td><td>15</td><td> 1</td><td>0</td><td>Midwest</td></tr>\n",
       "\t<tr><td>Wisconsin</td><td>Marquette  </td><td>15</td><td> 2</td><td>0</td><td>Midwest</td></tr>\n",
       "\t<tr><td>Wisconsin</td><td>Menominee  </td><td>15</td><td> 1</td><td>0</td><td>Midwest</td></tr>\n",
       "\t<tr><td>Wisconsin</td><td>Monroe     </td><td>15</td><td> 3</td><td>0</td><td>Midwest</td></tr>\n",
       "\t<tr><td>Wisconsin</td><td>Oconto     </td><td>15</td><td> 2</td><td>0</td><td>Midwest</td></tr>\n",
       "\t<tr><td>Wisconsin</td><td>Oneida     </td><td>15</td><td> 1</td><td>0</td><td>Midwest</td></tr>\n",
       "\t<tr><td>Wisconsin</td><td>Pierce     </td><td>15</td><td> 7</td><td>0</td><td>Midwest</td></tr>\n",
       "\t<tr><td>Wisconsin</td><td>Polk       </td><td>15</td><td> 2</td><td>0</td><td>Midwest</td></tr>\n",
       "\t<tr><td>Wisconsin</td><td>Portage    </td><td>15</td><td> 4</td><td>0</td><td>Midwest</td></tr>\n",
       "\t<tr><td>Wisconsin</td><td>Price      </td><td>15</td><td> 1</td><td>0</td><td>Midwest</td></tr>\n",
       "\t<tr><td>Wisconsin</td><td>Richland   </td><td>15</td><td> 3</td><td>0</td><td>Midwest</td></tr>\n",
       "\t<tr><td>Wisconsin</td><td>Rusk       </td><td>15</td><td> 3</td><td>0</td><td>Midwest</td></tr>\n",
       "\t<tr><td>Wisconsin</td><td>Sawyer     </td><td>15</td><td> 1</td><td>0</td><td>Midwest</td></tr>\n",
       "\t<tr><td>Wisconsin</td><td>Shawano    </td><td>15</td><td> 2</td><td>0</td><td>Midwest</td></tr>\n",
       "\t<tr><td>Wisconsin</td><td>St. Croix  </td><td>15</td><td> 3</td><td>0</td><td>Midwest</td></tr>\n",
       "\t<tr><td>Wisconsin</td><td>Trempealeau</td><td>15</td><td> 1</td><td>0</td><td>Midwest</td></tr>\n",
       "\t<tr><td>Wisconsin</td><td>Vilas      </td><td>15</td><td> 4</td><td>0</td><td>Midwest</td></tr>\n",
       "\t<tr><td>Wisconsin</td><td>Washburn   </td><td>15</td><td> 1</td><td>0</td><td>Midwest</td></tr>\n",
       "\t<tr><td>Wisconsin</td><td>Waushara   </td><td>15</td><td> 1</td><td>0</td><td>Midwest</td></tr>\n",
       "\t<tr><td>Wisconsin</td><td>Wood       </td><td>15</td><td> 2</td><td>0</td><td>Midwest</td></tr>\n",
       "</tbody>\n",
       "</table>\n"
      ],
      "text/latex": [
       "A tibble: 523 × 6\n",
       "\\begin{tabular}{llllll}\n",
       " state & county & week & weekly\\_cases & weekly\\_deaths & region\\\\\n",
       " <chr> & <chr> & <dbl> & <int> & <int> & <chr>\\\\\n",
       "\\hline\n",
       "\t Wisconsin & Ozaukee    & 15 &  3 & -2 & Midwest\\\\\n",
       "\t Illinois  & Montgomery & 15 &  5 & -1 & Midwest\\\\\n",
       "\t Ohio      & Clinton    & 15 &  7 & -1 & Midwest\\\\\n",
       "\t Illinois  & Adams      & 15 & 18 &  0 & Midwest\\\\\n",
       "\t Illinois  & Bond       & 15 &  1 &  0 & Midwest\\\\\n",
       "\t Illinois  & Bureau     & 15 &  2 &  0 & Midwest\\\\\n",
       "\t Illinois  & Calhoun    & 15 &  1 &  0 & Midwest\\\\\n",
       "\t Illinois  & Clark      & 15 &  4 &  0 & Midwest\\\\\n",
       "\t Illinois  & Clay       & 15 &  1 &  0 & Midwest\\\\\n",
       "\t Illinois  & Clinton    & 15 & 25 &  0 & Midwest\\\\\n",
       "\t Illinois  & Coles      & 15 &  6 &  0 & Midwest\\\\\n",
       "\t Illinois  & Crawford   & 15 &  4 &  0 & Midwest\\\\\n",
       "\t Illinois  & Cumberland & 15 &  1 &  0 & Midwest\\\\\n",
       "\t Illinois  & De Witt    & 15 &  2 &  0 & Midwest\\\\\n",
       "\t Illinois  & Douglas    & 15 &  1 &  0 & Midwest\\\\\n",
       "\t Illinois  & Franklin   & 15 &  2 &  0 & Midwest\\\\\n",
       "\t Illinois  & Fulton     & 15 & -1 &  0 & Midwest\\\\\n",
       "\t Illinois  & Gallatin   & 15 &  1 &  0 & Midwest\\\\\n",
       "\t Illinois  & Greene     & 15 & -1 &  0 & Midwest\\\\\n",
       "\t Illinois  & Grundy     & 15 & 12 &  0 & Midwest\\\\\n",
       "\t Illinois  & Hancock    & 15 &  1 &  0 & Midwest\\\\\n",
       "\t Illinois  & Henry      & 15 &  7 &  0 & Midwest\\\\\n",
       "\t Illinois  & Iroquois   & 15 &  2 &  0 & Midwest\\\\\n",
       "\t Illinois  & Jefferson  & 15 &  5 &  0 & Midwest\\\\\n",
       "\t Illinois  & Jersey     & 15 &  1 &  0 & Midwest\\\\\n",
       "\t Illinois  & Jo Daviess & 15 &  3 &  0 & Midwest\\\\\n",
       "\t Illinois  & Johnson    & 15 &  1 &  0 & Midwest\\\\\n",
       "\t Illinois  & Knox       & 15 &  1 &  0 & Midwest\\\\\n",
       "\t Illinois  & Lawrence   & 15 &  2 &  0 & Midwest\\\\\n",
       "\t Illinois  & Lee        & 15 &  7 &  0 & Midwest\\\\\n",
       "\t ⋮ & ⋮ & ⋮ & ⋮ & ⋮ & ⋮\\\\\n",
       "\t Wisconsin & Dunn        & 15 &  3 & 0 & Midwest\\\\\n",
       "\t Wisconsin & Eau Claire  & 15 & 21 & 0 & Midwest\\\\\n",
       "\t Wisconsin & Florence    & 15 &  2 & 0 & Midwest\\\\\n",
       "\t Wisconsin & Green       & 15 &  9 & 0 & Midwest\\\\\n",
       "\t Wisconsin & Green Lake  & 15 &  1 & 0 & Midwest\\\\\n",
       "\t Wisconsin & Iowa        & 15 &  1 & 0 & Midwest\\\\\n",
       "\t Wisconsin & Jefferson   & 15 &  8 & 0 & Midwest\\\\\n",
       "\t Wisconsin & La Crosse   & 15 &  3 & 0 & Midwest\\\\\n",
       "\t Wisconsin & Lafayette   & 15 &  2 & 0 & Midwest\\\\\n",
       "\t Wisconsin & Manitowoc   & 15 &  4 & 0 & Midwest\\\\\n",
       "\t Wisconsin & Marinette   & 15 &  1 & 0 & Midwest\\\\\n",
       "\t Wisconsin & Marquette   & 15 &  2 & 0 & Midwest\\\\\n",
       "\t Wisconsin & Menominee   & 15 &  1 & 0 & Midwest\\\\\n",
       "\t Wisconsin & Monroe      & 15 &  3 & 0 & Midwest\\\\\n",
       "\t Wisconsin & Oconto      & 15 &  2 & 0 & Midwest\\\\\n",
       "\t Wisconsin & Oneida      & 15 &  1 & 0 & Midwest\\\\\n",
       "\t Wisconsin & Pierce      & 15 &  7 & 0 & Midwest\\\\\n",
       "\t Wisconsin & Polk        & 15 &  2 & 0 & Midwest\\\\\n",
       "\t Wisconsin & Portage     & 15 &  4 & 0 & Midwest\\\\\n",
       "\t Wisconsin & Price       & 15 &  1 & 0 & Midwest\\\\\n",
       "\t Wisconsin & Richland    & 15 &  3 & 0 & Midwest\\\\\n",
       "\t Wisconsin & Rusk        & 15 &  3 & 0 & Midwest\\\\\n",
       "\t Wisconsin & Sawyer      & 15 &  1 & 0 & Midwest\\\\\n",
       "\t Wisconsin & Shawano     & 15 &  2 & 0 & Midwest\\\\\n",
       "\t Wisconsin & St. Croix   & 15 &  3 & 0 & Midwest\\\\\n",
       "\t Wisconsin & Trempealeau & 15 &  1 & 0 & Midwest\\\\\n",
       "\t Wisconsin & Vilas       & 15 &  4 & 0 & Midwest\\\\\n",
       "\t Wisconsin & Washburn    & 15 &  1 & 0 & Midwest\\\\\n",
       "\t Wisconsin & Waushara    & 15 &  1 & 0 & Midwest\\\\\n",
       "\t Wisconsin & Wood        & 15 &  2 & 0 & Midwest\\\\\n",
       "\\end{tabular}\n"
      ],
      "text/markdown": [
       "\n",
       "A tibble: 523 × 6\n",
       "\n",
       "| state &lt;chr&gt; | county &lt;chr&gt; | week &lt;dbl&gt; | weekly_cases &lt;int&gt; | weekly_deaths &lt;int&gt; | region &lt;chr&gt; |\n",
       "|---|---|---|---|---|---|\n",
       "| Wisconsin | Ozaukee    | 15 |  3 | -2 | Midwest |\n",
       "| Illinois  | Montgomery | 15 |  5 | -1 | Midwest |\n",
       "| Ohio      | Clinton    | 15 |  7 | -1 | Midwest |\n",
       "| Illinois  | Adams      | 15 | 18 |  0 | Midwest |\n",
       "| Illinois  | Bond       | 15 |  1 |  0 | Midwest |\n",
       "| Illinois  | Bureau     | 15 |  2 |  0 | Midwest |\n",
       "| Illinois  | Calhoun    | 15 |  1 |  0 | Midwest |\n",
       "| Illinois  | Clark      | 15 |  4 |  0 | Midwest |\n",
       "| Illinois  | Clay       | 15 |  1 |  0 | Midwest |\n",
       "| Illinois  | Clinton    | 15 | 25 |  0 | Midwest |\n",
       "| Illinois  | Coles      | 15 |  6 |  0 | Midwest |\n",
       "| Illinois  | Crawford   | 15 |  4 |  0 | Midwest |\n",
       "| Illinois  | Cumberland | 15 |  1 |  0 | Midwest |\n",
       "| Illinois  | De Witt    | 15 |  2 |  0 | Midwest |\n",
       "| Illinois  | Douglas    | 15 |  1 |  0 | Midwest |\n",
       "| Illinois  | Franklin   | 15 |  2 |  0 | Midwest |\n",
       "| Illinois  | Fulton     | 15 | -1 |  0 | Midwest |\n",
       "| Illinois  | Gallatin   | 15 |  1 |  0 | Midwest |\n",
       "| Illinois  | Greene     | 15 | -1 |  0 | Midwest |\n",
       "| Illinois  | Grundy     | 15 | 12 |  0 | Midwest |\n",
       "| Illinois  | Hancock    | 15 |  1 |  0 | Midwest |\n",
       "| Illinois  | Henry      | 15 |  7 |  0 | Midwest |\n",
       "| Illinois  | Iroquois   | 15 |  2 |  0 | Midwest |\n",
       "| Illinois  | Jefferson  | 15 |  5 |  0 | Midwest |\n",
       "| Illinois  | Jersey     | 15 |  1 |  0 | Midwest |\n",
       "| Illinois  | Jo Daviess | 15 |  3 |  0 | Midwest |\n",
       "| Illinois  | Johnson    | 15 |  1 |  0 | Midwest |\n",
       "| Illinois  | Knox       | 15 |  1 |  0 | Midwest |\n",
       "| Illinois  | Lawrence   | 15 |  2 |  0 | Midwest |\n",
       "| Illinois  | Lee        | 15 |  7 |  0 | Midwest |\n",
       "| ⋮ | ⋮ | ⋮ | ⋮ | ⋮ | ⋮ |\n",
       "| Wisconsin | Dunn        | 15 |  3 | 0 | Midwest |\n",
       "| Wisconsin | Eau Claire  | 15 | 21 | 0 | Midwest |\n",
       "| Wisconsin | Florence    | 15 |  2 | 0 | Midwest |\n",
       "| Wisconsin | Green       | 15 |  9 | 0 | Midwest |\n",
       "| Wisconsin | Green Lake  | 15 |  1 | 0 | Midwest |\n",
       "| Wisconsin | Iowa        | 15 |  1 | 0 | Midwest |\n",
       "| Wisconsin | Jefferson   | 15 |  8 | 0 | Midwest |\n",
       "| Wisconsin | La Crosse   | 15 |  3 | 0 | Midwest |\n",
       "| Wisconsin | Lafayette   | 15 |  2 | 0 | Midwest |\n",
       "| Wisconsin | Manitowoc   | 15 |  4 | 0 | Midwest |\n",
       "| Wisconsin | Marinette   | 15 |  1 | 0 | Midwest |\n",
       "| Wisconsin | Marquette   | 15 |  2 | 0 | Midwest |\n",
       "| Wisconsin | Menominee   | 15 |  1 | 0 | Midwest |\n",
       "| Wisconsin | Monroe      | 15 |  3 | 0 | Midwest |\n",
       "| Wisconsin | Oconto      | 15 |  2 | 0 | Midwest |\n",
       "| Wisconsin | Oneida      | 15 |  1 | 0 | Midwest |\n",
       "| Wisconsin | Pierce      | 15 |  7 | 0 | Midwest |\n",
       "| Wisconsin | Polk        | 15 |  2 | 0 | Midwest |\n",
       "| Wisconsin | Portage     | 15 |  4 | 0 | Midwest |\n",
       "| Wisconsin | Price       | 15 |  1 | 0 | Midwest |\n",
       "| Wisconsin | Richland    | 15 |  3 | 0 | Midwest |\n",
       "| Wisconsin | Rusk        | 15 |  3 | 0 | Midwest |\n",
       "| Wisconsin | Sawyer      | 15 |  1 | 0 | Midwest |\n",
       "| Wisconsin | Shawano     | 15 |  2 | 0 | Midwest |\n",
       "| Wisconsin | St. Croix   | 15 |  3 | 0 | Midwest |\n",
       "| Wisconsin | Trempealeau | 15 |  1 | 0 | Midwest |\n",
       "| Wisconsin | Vilas       | 15 |  4 | 0 | Midwest |\n",
       "| Wisconsin | Washburn    | 15 |  1 | 0 | Midwest |\n",
       "| Wisconsin | Waushara    | 15 |  1 | 0 | Midwest |\n",
       "| Wisconsin | Wood        | 15 |  2 | 0 | Midwest |\n",
       "\n"
      ],
      "text/plain": [
       "    state     county      week weekly_cases weekly_deaths region \n",
       "1   Wisconsin Ozaukee     15    3           -2            Midwest\n",
       "2   Illinois  Montgomery  15    5           -1            Midwest\n",
       "3   Ohio      Clinton     15    7           -1            Midwest\n",
       "4   Illinois  Adams       15   18            0            Midwest\n",
       "5   Illinois  Bond        15    1            0            Midwest\n",
       "6   Illinois  Bureau      15    2            0            Midwest\n",
       "7   Illinois  Calhoun     15    1            0            Midwest\n",
       "8   Illinois  Clark       15    4            0            Midwest\n",
       "9   Illinois  Clay        15    1            0            Midwest\n",
       "10  Illinois  Clinton     15   25            0            Midwest\n",
       "11  Illinois  Coles       15    6            0            Midwest\n",
       "12  Illinois  Crawford    15    4            0            Midwest\n",
       "13  Illinois  Cumberland  15    1            0            Midwest\n",
       "14  Illinois  De Witt     15    2            0            Midwest\n",
       "15  Illinois  Douglas     15    1            0            Midwest\n",
       "16  Illinois  Franklin    15    2            0            Midwest\n",
       "17  Illinois  Fulton      15   -1            0            Midwest\n",
       "18  Illinois  Gallatin    15    1            0            Midwest\n",
       "19  Illinois  Greene      15   -1            0            Midwest\n",
       "20  Illinois  Grundy      15   12            0            Midwest\n",
       "21  Illinois  Hancock     15    1            0            Midwest\n",
       "22  Illinois  Henry       15    7            0            Midwest\n",
       "23  Illinois  Iroquois    15    2            0            Midwest\n",
       "24  Illinois  Jefferson   15    5            0            Midwest\n",
       "25  Illinois  Jersey      15    1            0            Midwest\n",
       "26  Illinois  Jo Daviess  15    3            0            Midwest\n",
       "27  Illinois  Johnson     15    1            0            Midwest\n",
       "28  Illinois  Knox        15    1            0            Midwest\n",
       "29  Illinois  Lawrence    15    2            0            Midwest\n",
       "30  Illinois  Lee         15    7            0            Midwest\n",
       "⋮   ⋮         ⋮           ⋮    ⋮            ⋮             ⋮      \n",
       "494 Wisconsin Dunn        15    3           0             Midwest\n",
       "495 Wisconsin Eau Claire  15   21           0             Midwest\n",
       "496 Wisconsin Florence    15    2           0             Midwest\n",
       "497 Wisconsin Green       15    9           0             Midwest\n",
       "498 Wisconsin Green Lake  15    1           0             Midwest\n",
       "499 Wisconsin Iowa        15    1           0             Midwest\n",
       "500 Wisconsin Jefferson   15    8           0             Midwest\n",
       "501 Wisconsin La Crosse   15    3           0             Midwest\n",
       "502 Wisconsin Lafayette   15    2           0             Midwest\n",
       "503 Wisconsin Manitowoc   15    4           0             Midwest\n",
       "504 Wisconsin Marinette   15    1           0             Midwest\n",
       "505 Wisconsin Marquette   15    2           0             Midwest\n",
       "506 Wisconsin Menominee   15    1           0             Midwest\n",
       "507 Wisconsin Monroe      15    3           0             Midwest\n",
       "508 Wisconsin Oconto      15    2           0             Midwest\n",
       "509 Wisconsin Oneida      15    1           0             Midwest\n",
       "510 Wisconsin Pierce      15    7           0             Midwest\n",
       "511 Wisconsin Polk        15    2           0             Midwest\n",
       "512 Wisconsin Portage     15    4           0             Midwest\n",
       "513 Wisconsin Price       15    1           0             Midwest\n",
       "514 Wisconsin Richland    15    3           0             Midwest\n",
       "515 Wisconsin Rusk        15    3           0             Midwest\n",
       "516 Wisconsin Sawyer      15    1           0             Midwest\n",
       "517 Wisconsin Shawano     15    2           0             Midwest\n",
       "518 Wisconsin St. Croix   15    3           0             Midwest\n",
       "519 Wisconsin Trempealeau 15    1           0             Midwest\n",
       "520 Wisconsin Vilas       15    4           0             Midwest\n",
       "521 Wisconsin Washburn    15    1           0             Midwest\n",
       "522 Wisconsin Waushara    15    1           0             Midwest\n",
       "523 Wisconsin Wood        15    2           0             Midwest"
      ]
     },
     "metadata": {},
     "output_type": "display_data"
    }
   ],
   "source": [
    "covidcases %>% ungroup() %>%\n",
    "  filter(region == \"Midwest\" & week == 15) %>%\n",
    "  slice_min(order_by = weekly_deaths, n=10)"
   ]
  },
  {
   "cell_type": "markdown",
   "id": "2921fffa",
   "metadata": {},
   "source": [
    "4. Create new variables specifying the monthly cases and deaths for each county, and then display the counties with the 5 highest monthly cases."
   ]
  },
  {
   "cell_type": "code",
   "execution_count": 28,
   "id": "151894f9",
   "metadata": {},
   "outputs": [
    {
     "name": "stderr",
     "output_type": "stream",
     "text": [
      "\u001b[1m\u001b[22m`summarise()` has grouped output by 'region', 'state', 'county'. You can\n",
      "override using the `.groups` argument.\n"
     ]
    },
    {
     "data": {
      "text/html": [
       "<table class=\"dataframe\">\n",
       "<caption>A tibble: 5 × 6</caption>\n",
       "<thead>\n",
       "\t<tr><th scope=col>region</th><th scope=col>state</th><th scope=col>county</th><th scope=col>month</th><th scope=col>monthly_cases</th><th scope=col>monthly_deaths</th></tr>\n",
       "\t<tr><th scope=col>&lt;chr&gt;</th><th scope=col>&lt;chr&gt;</th><th scope=col>&lt;chr&gt;</th><th scope=col>&lt;chr&gt;</th><th scope=col>&lt;int&gt;</th><th scope=col>&lt;int&gt;</th></tr>\n",
       "</thead>\n",
       "<tbody>\n",
       "\t<tr><td>Northeast</td><td>New York    </td><td>New York City</td><td>April </td><td>105894</td><td>12291</td></tr>\n",
       "\t<tr><td>West     </td><td>California  </td><td>Los Angeles  </td><td>August</td><td> 58563</td><td>  905</td></tr>\n",
       "\t<tr><td>West     </td><td>California  </td><td>Los Angeles  </td><td>July  </td><td> 57447</td><td>  773</td></tr>\n",
       "\t<tr><td>Northeast</td><td>Rhode Island</td><td>Providence   </td><td>August</td><td> 57303</td><td> 3218</td></tr>\n",
       "\t<tr><td>South    </td><td>Florida     </td><td>Miami-Dade   </td><td>August</td><td> 56044</td><td>  609</td></tr>\n",
       "</tbody>\n",
       "</table>\n"
      ],
      "text/latex": [
       "A tibble: 5 × 6\n",
       "\\begin{tabular}{llllll}\n",
       " region & state & county & month & monthly\\_cases & monthly\\_deaths\\\\\n",
       " <chr> & <chr> & <chr> & <chr> & <int> & <int>\\\\\n",
       "\\hline\n",
       "\t Northeast & New York     & New York City & April  & 105894 & 12291\\\\\n",
       "\t West      & California   & Los Angeles   & August &  58563 &   905\\\\\n",
       "\t West      & California   & Los Angeles   & July   &  57447 &   773\\\\\n",
       "\t Northeast & Rhode Island & Providence    & August &  57303 &  3218\\\\\n",
       "\t South     & Florida      & Miami-Dade    & August &  56044 &   609\\\\\n",
       "\\end{tabular}\n"
      ],
      "text/markdown": [
       "\n",
       "A tibble: 5 × 6\n",
       "\n",
       "| region &lt;chr&gt; | state &lt;chr&gt; | county &lt;chr&gt; | month &lt;chr&gt; | monthly_cases &lt;int&gt; | monthly_deaths &lt;int&gt; |\n",
       "|---|---|---|---|---|---|\n",
       "| Northeast | New York     | New York City | April  | 105894 | 12291 |\n",
       "| West      | California   | Los Angeles   | August |  58563 |   905 |\n",
       "| West      | California   | Los Angeles   | July   |  57447 |   773 |\n",
       "| Northeast | Rhode Island | Providence    | August |  57303 |  3218 |\n",
       "| South     | Florida      | Miami-Dade    | August |  56044 |   609 |\n",
       "\n"
      ],
      "text/plain": [
       "  region    state        county        month  monthly_cases monthly_deaths\n",
       "1 Northeast New York     New York City April  105894        12291         \n",
       "2 West      California   Los Angeles   August  58563          905         \n",
       "3 West      California   Los Angeles   July    57447          773         \n",
       "4 Northeast Rhode Island Providence    August  57303         3218         \n",
       "5 South     Florida      Miami-Dade    August  56044          609         "
      ]
     },
     "metadata": {},
     "output_type": "display_data"
    }
   ],
   "source": [
    "covidcases %>%\n",
    "  mutate(month = case_when(between(week, 9, 12) ~ \"March\",\n",
    "                           between(week, 13, 16) ~ \"April\",\n",
    "                           between(week, 17, 20) ~ \"May\",\n",
    "                           between(week, 21, 24) ~ \"June\",\n",
    "                           between(week, 25, 28) ~ \"July\",\n",
    "                           between(week, 29, 32) ~ \"August\",\n",
    "                           between(week, 33, 36) ~ \"September\")) %>%\n",
    "  group_by(region, state, county, month) %>%\n",
    "  summarize(monthly_cases = sum(weekly_cases),\n",
    "            monthly_deaths = sum(weekly_deaths)) %>%\n",
    "  ungroup() %>% \n",
    "  slice_max(order_by = monthly_cases, n = 5)"
   ]
  }
 ],
 "metadata": {
  "kernelspec": {
   "display_name": "R",
   "language": "R",
   "name": "ir"
  },
  "language_info": {
   "codemirror_mode": "r",
   "file_extension": ".r",
   "mimetype": "text/x-r-source",
   "name": "R",
   "pygments_lexer": "r",
   "version": "4.3.1"
  }
 },
 "nbformat": 4,
 "nbformat_minor": 5
}