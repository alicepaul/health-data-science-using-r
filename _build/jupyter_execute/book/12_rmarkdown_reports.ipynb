{
 "cells": [
  {
   "cell_type": "markdown",
   "id": "decec34a",
   "metadata": {},
   "source": [
    "# 12. Writing Reports with R Markdown\n",
    "\n",
    "This chapter will introduce you to R Markdown, which is a document format that combines markdown text with R code. Writing in R markdown can help you write reproducible code and create polished reports to present your analyses.\n",
    "\n",
    "## Starting an R Markdown file\n",
    "\n",
    "To create an R Markdown file, you will need to have RStudio installed as an application. You'll also need to install the `rmarkdown` package in addition to the `knitr` package. We also recommend the `bookdown` package, which allows us to create section, figure, and table references, as well as the `kableExtra` package for formmating your tables."
   ]
  },
  {
   "cell_type": "raw",
   "id": "f1e01ace",
   "metadata": {},
   "source": [
    "install.packages(\"rmarkdown\", \"knitr\", \"bookdown\", \"kableExtra\", \"gt\")"
   ]
  },
  {
   "cell_type": "markdown",
   "id": "23e87768",
   "metadata": {},
   "source": [
    "Now that you have these packages downloaded, opening a new R Markdown file is very similar to opening a new R file, which was covered in Chapter 1. Just like opening a new R file, you'll want to go to File -> New File, but instead of selecting 'R Script', you'll now select 'R Markdown...'. This should bring up a window that looks like the following:\n",
    "\n",
    "<img src=\"images/12-new-r-markdown-window.png\" alt= “” width=\"400pt\" align=\"center\">"
   ]
  },
  {
   "cell_type": "markdown",
   "id": "fa84ff66",
   "metadata": {},
   "source": [
    "First, enter a title of your choosing for your report and type your name in the Author field - note that you can always change these later - and then click on OK. This will open an R Markdown file that has the extension .Rmd. Make sure to save this file with a suitable name in your desired location on your computer by selecting File -> Save, and then you're ready to start writing your report!"
   ]
  },
  {
   "cell_type": "markdown",
   "id": "b836db3e",
   "metadata": {},
   "source": [
    "Your file should now look like this:\n",
    "\n",
    "<img src=\"images/12-r-markdown-file.png\" alt= “” width=\"1000pt\" align=\"center\">"
   ]
  },
  {
   "cell_type": "markdown",
   "id": "eb8878f4",
   "metadata": {},
   "source": [
    "You will write all of the text and code that you would like to include in your report in this .Rmd file, and then you can produce a nicely formatted report from this file by 'knitting' the file. You can either knit to HTML, PDF, or WORD by clicking on the knit icon (below) from the toolbar at the top of the page and then selecting your desired output file type.\n",
    "\n",
    "<img src=\"images/12-knit-icon.png\" alt= “” width=\"80pt\" align=\"center\">\n",
    "\n"
   ]
  },
  {
   "cell_type": "markdown",
   "id": "d5a15aac",
   "metadata": {},
   "source": [
    "### Adding Code Chunks\n",
    "\n",
    "Each of the darker gray rectangles is called a code chunk - all of the code used to generate your report will go in these chunks, and all of your writing will go between them. Each code chunk starts with ` ```{r} ` and ends with ` ``` `. To create a chunk, you can either \n",
    "\n",
    "* click on this green \"add chunk\" symbol <img src=\"images/12-add-chunk.png\" alt= “” width=\"30pt\" align=\"left\"> in the toolbar at the top of the page\n",
    "* type ` ```{r} ` and ` ``` `\n",
    "* use the keyboard shortcut **Ctrl + Alt + I** (**Cmd + Option + I** on Macs)\n",
    "\n",
    "To run the code in a chunk, you can either use the keyboard shortcut **Ctrl + Enter** (**Cmd + Return** on Mac), or you can use one of the following buttons at the top right of the chunks:\n",
    "* <img src=\"images/12-run-all-chunks-above.png\" alt= “” width=\"20pt\" align=\"left\"> runs all chunks above the current chunk\n",
    "* <i class=\"fa-play fa\" style=\"font-size: 15px;color: green;\"></i> runs the current chunk"
   ]
  },
  {
   "cell_type": "markdown",
   "id": "09437316",
   "metadata": {},
   "source": [
    "### Customizing Chunks\n",
    "\n",
    "You can specify whether you want to include the code and/or its various output in your final report by adding the following commands, separated by commas, to the right of the `{r}` at the top of the code chunk:\n",
    "\n",
    "* `include = FALSE` makes it so that neither code nor its output will appear in your report\n",
    "* `echo = FALSE` makes it so that the output of the code but not the code itself will appear in your report\n",
    "* `message = FALSE`, `warning = FALSE`, and `error = FALSE` makes it so that messages, warnings, and errors (respectively) that are generated from the code in the chunk won't appear in your report \n",
    "\n",
    "To customize a single code chunk, you can either type one of the above commands next to the `{r}` at the top of the code chunk by yourself or you can click on the 'Modify Chunk Options' symbol <i class=\"fa-gear fa\" style=\"font-size: 22px; color: gray;\"></i> at the top right of the code chunk.\n",
    "\n",
    "To apply the same customizations to all chunks in the document at once, you can add them to the first chunk at the very top of your R Markdown that starts with ` ```{r setup, include=FALSE} ` using the `knitr::opts_chunk$set` function. These are called the global settings. For example, using the following code for your first code chunk will make it so that none of the errors, warnings, or messages from any of the code chunks will appear in your final report. It is also good practice to load all the packages you are using for your report within this first code chunk using the `library()` function. For example, below we load the `tidyverse` and `RforHDSdata` packages. "
   ]
  },
  {
   "cell_type": "raw",
   "id": "01f1903a",
   "metadata": {},
   "source": [
    "```{r setup, include = FALSE}\n",
    "knitr::opts_chunk$set(echo = TRUE, warning = FALSE, error = FALSE, echo = FALSE)\n",
    "library(tidyverse)\n",
    "library(RforHDSdata)\n",
    "```"
   ]
  },
  {
   "cell_type": "markdown",
   "id": "3a0992bf",
   "metadata": {},
   "source": [
    "If you want to display the code for your report in a code appendix, you can easily do this by creating an empty code chunk at the end of your .Rmd file with these chunk options `ref.label=knitr::all_labels()`, `echo = TRUE`, and `eval = FALSE`. "
   ]
  },
  {
   "cell_type": "raw",
   "id": "18257cdc",
   "metadata": {},
   "source": [
    "```{r ref.label = knitr::all_labels(), echo = TRUE, eval = FALSE} \n",
    "\n",
    "```"
   ]
  },
  {
   "cell_type": "markdown",
   "id": "885dac8a",
   "metadata": {},
   "source": [
    "You can also have inline R code by using single backticks around your code `` `r max(c(1,2,3)) ` ``. The code must start with `r` to be run when knit. This allows you to reference variables in your text. For example, we could display the variance of a column in our data without having to copy the value over. "
   ]
  },
  {
   "cell_type": "raw",
   "id": "2363bf64",
   "metadata": {},
   "source": [
    "`r round(var(cars$speed),2)`"
   ]
  },
  {
   "cell_type": "markdown",
   "id": "f078f9cf",
   "metadata": {},
   "source": [
    "## Formatting Text in Markdown\n",
    "\n",
    "To add text to your report, you can simply type directly into the R Markdown file, between the code chunks. This code is formatted using markdown, which allows us to specify how to format and display the text when it is knit. For example, adding a single asterisk `*` on either side of some text will italicize it, while adding a double asterisk `**` on either side of text will make it bold. To indicate code you can use backticks `` ` ``. "
   ]
  },
  {
   "cell_type": "raw",
   "id": "ca2105e5",
   "metadata": {},
   "source": [
    "regular text \n",
    "*italicized text*\n",
    "**bolded text**\n",
    "`code text`"
   ]
  },
  {
   "cell_type": "markdown",
   "id": "389f579b",
   "metadata": {},
   "source": [
    "regular text\n",
    "\n",
    "*italicized text*\n",
    "\n",
    "**bolded text**\n",
    "\n",
    "`code text`"
   ]
  },
  {
   "cell_type": "markdown",
   "id": "27f86dd5",
   "metadata": {},
   "source": [
    "To create headers and sections, you can add the `#` symbol in front of your text. Adding more of these symbols makes the headers smaller, which is useful for making subheaders."
   ]
  },
  {
   "cell_type": "raw",
   "id": "271d3c70",
   "metadata": {},
   "source": [
    "# Header \n",
    "## Smaller Header \n",
    "### Even Smaller Header "
   ]
  },
  {
   "cell_type": "markdown",
   "id": "47c0a9f3",
   "metadata": {},
   "source": [
    "# <center>Header</center>\n",
    "## <center>Smaller Header</center>\n",
    "### <center>Even Smaller Header</center>"
   ]
  },
  {
   "cell_type": "markdown",
   "id": "cccdef0d",
   "metadata": {},
   "source": [
    "You can also add links `[text](www.example.com)` and images `![alt text](image.png)`"
   ]
  },
  {
   "cell_type": "raw",
   "id": "0f219933",
   "metadata": {},
   "source": [
    "[my link](https://github.com/alicepaul/r-for-health-data-science)"
   ]
  },
  {
   "cell_type": "markdown",
   "id": "e254dc9a",
   "metadata": {},
   "source": [
    "[my link](https://github.com/alicepaul/r-for-health-data-science)"
   ]
  },
  {
   "cell_type": "raw",
   "id": "caf13ead",
   "metadata": {},
   "source": [
    "![my image](../images/logo.png)"
   ]
  },
  {
   "cell_type": "markdown",
   "id": "0dc37b7b",
   "metadata": {},
   "source": [
    "![my image](../images/logo.png)"
   ]
  },
  {
   "cell_type": "markdown",
   "id": "4e22e5b3",
   "metadata": {},
   "source": [
    "[The Markdown Guide](https://www.markdownguide.org/) has a great [cheat sheet](https://www.markdownguide.org/cheat-sheet/) as well as more resources for formatting markdown text. "
   ]
  },
  {
   "cell_type": "markdown",
   "id": "8ed26304",
   "metadata": {},
   "source": [
    "## Formatting Figures and Tables\n",
    "\n",
    "Often, you'll want to include figures generated by your code in your report, and you can customize these figures by changing the chunk options for the chunks that produce them. To change the size of the figure, you can add in the chunk option `out.width=\"50%\"` with your desired percentage of the full size. To add a nice caption to the figure in your report, you can add `fig.cap = 'Your Desired Caption.`. To name the figure, you can add a name next to the `r` in the chunk options, without a comma, like `{r figname}`. Alternatively,  you can name figures by entering text into the 'Chunk Name' field using the 'Modify Chunk Options' button at the top right of a chunk.\n",
    "\n",
    "By default, the figures generated by your code chunks are allowed to 'float' in R Markdown - this means that the figures might move away from where they were coded or referenced in the final report. If you don't want this to happen, you can customize the chunk that contains the code to produce the figure by adding `fig.pos = \"H\"` to that chunk's options. If you want to prevent floating for all figures, add `fig.pos = \"H\", out.extra = ''` to the first code chunk in the file (the one that starts with the `knitr::opts_chunk$set` function)."
   ]
  },
  {
   "cell_type": "raw",
   "id": "7f9139eb",
   "metadata": {},
   "source": [
    "```{r myfigure, fig.cap=\"Figure of Average Radius vs. Diagnosis\", out.width=\"75%\", \n",
    "    fig.pos=\"H\"}\n",
    "data(breastcancer)\n",
    "ggplot(breastcancer) + \n",
    "  geom_boxplot(aes(x = diagnosis, y = radius_mean), fill = 'lightblue') +\n",
    "  theme_bw() + \n",
    "  labs(y = \"Average Radius\") + \n",
    "  scale_x_discrete(\"Diagnosis\", labels = c(\"Benign\", \"Malignant\"))\n",
    "```"
   ]
  },
  {
   "cell_type": "markdown",
   "id": "79f27e86",
   "metadata": {},
   "source": [
    "<img src=\"images/12-example-figure.png\" alt= “” width=\"600pt\" align=\"center\">"
   ]
  },
  {
   "cell_type": "markdown",
   "id": "a03dc376",
   "metadata": {},
   "source": [
    "If you want to make data frames, matrices, or tables from your raw R output more polished and aesthetically pleasing, the `gt` and `kableExtra` packages have options. Be sure to load the package you are using to the code chunk at the top of your R Markdown file that contains all of your libraries. \n",
    "\n",
    "To demonstrate the abilities of these package, let's suppose that we wanted to display the head of the first few columns of the `breastcancer` dataset from the `RforHDSdata` package. The following code produces the following output in the knitted pdf report - you can see that it essentially just copies the raw output from R, which is rather messy."
   ]
  },
  {
   "cell_type": "raw",
   "id": "880ef415",
   "metadata": {},
   "source": [
    "```{r}\n",
    "breastcancer %>% select(id, diagnosis, radius_mean, texture_mean, perimeter_mean) %>% head()\n",
    "```"
   ]
  },
  {
   "cell_type": "markdown",
   "id": "d28d82a2",
   "metadata": {},
   "source": [
    "<img src=\"images/12-unformatted-table.png\" alt= “” width=\"500pt\" align=\"center\">"
   ]
  },
  {
   "cell_type": "markdown",
   "id": "7d89f9e8",
   "metadata": {},
   "source": [
    "We use the `kable()` and `kable_styling()` functions from the `kableExtra` package to produce a more nicely formatted table. The `kable()` function generates a table from a data frame. The `kable()` function allows you to specify some display options for your table. For example, you can add a caption to your table using the `caption` argument and you can change the names of the columns in the table using the `col.names` argument. The `kable_styling()` has additional options available. Similar to the `fig.pos = H` command described for figures in the previous section, adding \"HOLD_position\" to the `kable_styling()` function will prevent the table from floating on the report; adding `\"scale_down\"` scales the table so that it fits in the margins of the paper. The updated code and output are below. See the documentation for the [kable](https://www.rdocumentation.org/packages/knitr/versions/1.43/topics/kable) and [kable_styling](https://www.rdocumentation.org/packages/kableExtra/versions/1.3.4/topics/kable_styling) functions for more options available. "
   ]
  },
  {
   "cell_type": "raw",
   "id": "daf43b99",
   "metadata": {},
   "source": [
    "```{r}\n",
    "breastcancer %>% \n",
    "  select(id, diagnosis, radius_mean, texture_mean, perimeter_mean) %>% \n",
    "  head() %>% \n",
    "  kable(caption = \"Head of the Breast Cancer Dataset\", \n",
    "      col.names = c(\"ID\", \"Diagnosis\", \"Mean Radius\", \"Mean Texture\", \"Mean Perimeter\")) %>%   \n",
    "  kable_styling(latex_options = c(\"scale_down\", \"HOLD_position\"))\n",
    "```"
   ]
  },
  {
   "cell_type": "markdown",
   "id": "00f1ed8f",
   "metadata": {},
   "source": [
    "<img src=\"images/12-formatted-table.png\" alt= “” width=\"500pt\" align=\"center\">"
   ]
  },
  {
   "cell_type": "markdown",
   "id": "97809599",
   "metadata": {},
   "source": [
    "Above, we can see that kable produces a much nicer table in the knitted pdf that is more suitable for a data analysis report. In Chapter 4, we also introduced the `gt` package. This package is an alternative package to `kableExtra` that allows you to format each part of the table including formatting for the columns, adding footers or subtitles, or grouping your table. See the [package introduction](https://gt.rstudio.com/articles/intro-creating-gt-tables.html) for more details about this package. An example `gt` table is given below."
   ]
  },
  {
   "cell_type": "markdown",
   "id": "8af57869",
   "metadata": {},
   "source": [
    "<img src=\"images/12-gt-example.png\" alt= “” width=\"350pt\" align=\"center\">"
   ]
  },
  {
   "cell_type": "markdown",
   "id": "e3cd86cb",
   "metadata": {},
   "source": [
    "## Using Bookdown for References\n",
    "\n",
    "R Markdown automatically adds figure and table numbers to the figures and tables in your report. The `bookdown` package allows us to add references. To use this package, make sure you have installed the `bookdown` package and then add the following text to the top of your .Rmd file, next to \"output\"."
   ]
  },
  {
   "cell_type": "raw",
   "id": "0a1922e9",
   "metadata": {},
   "source": [
    "output:\n",
    "  bookdown::pdf_document2:\n",
    "    toc: false"
   ]
  },
  {
   "cell_type": "markdown",
   "id": "26a13b43",
   "metadata": {},
   "source": [
    "The above code specifies that you would like to knit your file to a pdf document. If you would like to knit your file to an html or word document instead, you could type `bookdown::html_document2` or `bookdown::word_document2` instead. The `toc: false` indicates that you do not want to include a table of contents in the report. If you do want one, you can simply type `toc:true` instead. Once you've done this, you can reference figures and tables using their names: `\\@ref(fig:figname))` or `\\@ref(tab:tablename)`. The knitted pdf will substitude in the appropriate figure or table number. "
   ]
  },
  {
   "cell_type": "markdown",
   "id": "c5a204e0",
   "metadata": {},
   "source": [
    "Additionally, we can reference sections by adding in labels to the section header. For example, we added the tag `#awesome` for the section below and can now reference it using `\\@ref{awesome}`."
   ]
  },
  {
   "cell_type": "raw",
   "id": "75d11af6",
   "metadata": {},
   "source": [
    "## Awesome Stuff {#awesome}"
   ]
  },
  {
   "cell_type": "markdown",
   "id": "e8509932",
   "metadata": {},
   "source": [
    "## Adding in Equations \n",
    "\n",
    "Another useful option in markdown is the option to add in mathematical equations. If you want to insert math equations, you can do so by writing LaTeX expressions. To write a math equation inline, you put a single dollar sign `$` on either side of your equation, and to write a math equation on its own line, you put a double dollar sign `$$` on either side of the equation, like so: \n",
    "\n",
    "Here's an equation that is inline with the text: `$5x^2 + 9x^3$` produces $5x^2 + 9x^3$.\n",
    "On the other hand, here's an equation that is on its own line: `$$5x^2 + 9x^3$$` produces $$5x^2 + 9x^3$$\n",
    "\n",
    "Here are some other LaTeX notation you should know in order to write common equations:\n",
    "* To create a fraction, type `\\frac{numerator}{denominator}`. For example, `\\frac{2}{3}` produces $\\frac{2}{3}$.\n",
    "* To create a subscript, type `_`. For example, `x_{2}` produces $x_2$. \n",
    "* To create a superscript, type `^`. For example, `x^{2}` produces $x^2$.\n",
    "\n",
    "If you want to learn more about how to write in LaTeX, [Art of Problem Solving](https://artofproblemsolving.com/wiki/index.php/LaTeX:Symbols) provides a great reference for LaTeX symbols and [Overleaf](https://www.overleaf.com/learn/latex/Free_online_introduction_to_LaTeX_(part_1) provides a helpful introduction to LaTeX in general."
   ]
  },
  {
   "cell_type": "markdown",
   "id": "564964ce",
   "metadata": {},
   "source": [
    "TO DO: Fix up icons <i class=\"fa-gear fa\" style=\"font-size: 22px;color:#666;\"></i>\n",
    "\n",
    "TO DO: Add in example R Markdown file to link to and to recreate"
   ]
  }
 ],
 "metadata": {
  "kernelspec": {
   "display_name": "R",
   "language": "R",
   "name": "ir"
  },
  "language_info": {
   "codemirror_mode": "r",
   "file_extension": ".r",
   "mimetype": "text/x-r-source",
   "name": "R",
   "pygments_lexer": "r",
   "version": "4.3.1"
  }
 },
 "nbformat": 4,
 "nbformat_minor": 5
}