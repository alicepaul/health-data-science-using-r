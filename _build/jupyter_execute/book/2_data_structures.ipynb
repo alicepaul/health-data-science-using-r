{
 "cells": [
  {
   "cell_type": "markdown",
   "metadata": {
    "nbgrader": {
     "grade": false,
     "grade_id": "d1b406",
     "locked": true,
     "schema_version": 3,
     "solution": false,
     "task": false
    }
   },
   "source": [
    "# 2. Data Structures in R\n",
    "\n",
    "In this chapter, we will demonstrate the key **data structures** in R. Data structures are how information is stored in R, and the data structures that we use inform R how to interpret our code. Any **object** is a named instance of a data structure. For example, the object `ex_num` below is a vector of numeric type. "
   ]
  },
  {
   "cell_type": "code",
   "execution_count": 1,
   "metadata": {},
   "outputs": [],
   "source": [
    "ex_num <- 4"
   ]
  },
  {
   "cell_type": "markdown",
   "metadata": {},
   "source": [
    "The main data structures in R are **vectors**, **factors**, **matrices**, **arrays**, **lists**, and **data frames**. These structures are distinguished by their dimensions and by the type of data they store. For example, we might have a 1-dimensional vector that contains all numeric values, or we could have a 2-dimensional data frame with rows and columns where we might have one numeric column and one character column. In the image below, there are two vectors with different types (character and numeric) on top and then a matrix and data frame below. In this chapter, we will cover each data structure except for arrays. Arrays are an extension of matrices that allow for data that is more than 2-dimensional and are not needed for the applications covered in this book.\n",
    "\n",
    "<img src=\"images/2-data-structures.png\" alt= “” width=\"500pt\" align=\"center\">"
   ]
  },
  {
   "cell_type": "markdown",
   "metadata": {},
   "source": [
    "## Data Types\n",
    "\n",
    "Each individual value in R has a type: **logical**, **integer**, **double**, or **character**. We can think of these as the building blocks of all data structures. Below, we can use the `typeof()` function to find the type of our vector from above, which shows that the value of `ex_num` is a **double**. A double is a numeric value with a stored decimal."
   ]
  },
  {
   "cell_type": "code",
   "execution_count": 2,
   "metadata": {},
   "outputs": [
    {
     "data": {
      "text/html": [
       "'double'"
      ],
      "text/latex": [
       "'double'"
      ],
      "text/markdown": [
       "'double'"
      ],
      "text/plain": [
       "[1] \"double\""
      ]
     },
     "metadata": {},
     "output_type": "display_data"
    }
   ],
   "source": [
    "typeof(ex_num)"
   ]
  },
  {
   "cell_type": "markdown",
   "metadata": {},
   "source": [
    "On the other hand, an **integer** is a whole number that does not contain a decimal. We now create an integer object `ex_int`. To indicate to R that we want to restrict our values to integer values, we use an `L` after the number. "
   ]
  },
  {
   "cell_type": "code",
   "execution_count": 3,
   "metadata": {},
   "outputs": [
    {
     "data": {
      "text/html": [
       "'integer'"
      ],
      "text/latex": [
       "'integer'"
      ],
      "text/markdown": [
       "'integer'"
      ],
      "text/plain": [
       "[1] \"integer\""
      ]
     },
     "metadata": {},
     "output_type": "display_data"
    }
   ],
   "source": [
    "ex_int <- 4L\n",
    "typeof(ex_int)"
   ]
  },
  {
   "cell_type": "markdown",
   "metadata": {},
   "source": [
    "Both `ex_num` and `ex_int` are numeric objects, but we can also work with two other types of objects: **characters** (e.g. \"php\", \"stats\") and **booleans** (e.g. TRUE, FALSE), also known as **logicals**. "
   ]
  },
  {
   "cell_type": "code",
   "execution_count": 4,
   "metadata": {},
   "outputs": [
    {
     "data": {
      "text/html": [
       "'logical'"
      ],
      "text/latex": [
       "'logical'"
      ],
      "text/markdown": [
       "'logical'"
      ],
      "text/plain": [
       "[1] \"logical\""
      ]
     },
     "metadata": {},
     "output_type": "display_data"
    },
    {
     "data": {
      "text/html": [
       "'character'"
      ],
      "text/latex": [
       "'character'"
      ],
      "text/markdown": [
       "'character'"
      ],
      "text/plain": [
       "[1] \"character\""
      ]
     },
     "metadata": {},
     "output_type": "display_data"
    }
   ],
   "source": [
    "ex_bool <- TRUE\n",
    "ex_char <- \"Alice\"\n",
    "\n",
    "typeof(ex_bool)\n",
    "typeof(ex_char)"
   ]
  },
  {
   "cell_type": "markdown",
   "metadata": {},
   "source": [
    "One important characteristic of logical objects is that R will also interpret them as 0/1. This means they can be added as in the example below: each `TRUE` has a value of 1 and each `FALSE` has a value of 0."
   ]
  },
  {
   "cell_type": "code",
   "execution_count": 5,
   "metadata": {},
   "outputs": [
    {
     "data": {
      "text/html": [
       "2"
      ],
      "text/latex": [
       "2"
      ],
      "text/markdown": [
       "2"
      ],
      "text/plain": [
       "[1] 2"
      ]
     },
     "metadata": {},
     "output_type": "display_data"
    }
   ],
   "source": [
    "TRUE+FALSE+TRUE"
   ]
  },
  {
   "cell_type": "markdown",
   "metadata": {},
   "source": [
    "To create all of the above objects, we used the assignment operator `<-`, which we discussed in [Chapter 1](https://alicepaul.github.io/health-data-science-in-r/book/1_intro_to_r.html). You may see code elsewhere that uses an `=` instead. While `=` can also be used for assignment, it is more standard practice to use `<-`. "
   ]
  },
  {
   "cell_type": "markdown",
   "metadata": {},
   "source": [
    "## Vectors\n",
    "\n",
    "In the examples above, we created objects with a single value. R actually uses a vector of length 1 to store this information. **Vectors** are 1-dimensional data structures that can store multiple data values of the same type (e.g. character, boolean, or numeric). \n",
    "\n",
    "\n",
    "<img src=\"images/2-vectors.png\" alt= “” width=\"500pt\" align=\"center\">\n",
    "\n",
    "We can confirm this by using the `is.vector()` function, which returns whether or not the inputted argument is a vector."
   ]
  },
  {
   "cell_type": "code",
   "execution_count": 6,
   "metadata": {},
   "outputs": [
    {
     "data": {
      "text/html": [
       "TRUE"
      ],
      "text/latex": [
       "TRUE"
      ],
      "text/markdown": [
       "TRUE"
      ],
      "text/plain": [
       "[1] TRUE"
      ]
     },
     "metadata": {},
     "output_type": "display_data"
    }
   ],
   "source": [
    "is.vector(ex_bool)"
   ]
  },
  {
   "cell_type": "markdown",
   "metadata": {},
   "source": [
    "One way to create a vector with multiple values is to use the combine function `c()`. Below we create two vectors: one with the days of the week and one with the amount of rain on each day. The first vector has all character values, and the second one has all numeric values."
   ]
  },
  {
   "cell_type": "code",
   "execution_count": 7,
   "metadata": {},
   "outputs": [],
   "source": [
    "days <- c(\"Monday\", \"Tuesday\", \"Wednesday\", \"Thursday\", \"Friday\")\n",
    "rain <- c(5, 0.1, 0, 0, 0.4)"
   ]
  },
  {
   "cell_type": "markdown",
   "metadata": {},
   "source": [
    "Remember, vectors cannot store objects of different types. Because of this, in the code below, R automatically converts the numeric value to be a character in order to store these values in a vector together."
   ]
  },
  {
   "cell_type": "code",
   "execution_count": 8,
   "metadata": {},
   "outputs": [
    {
     "data": {
      "text/html": [
       "<style>\n",
       ".list-inline {list-style: none; margin:0; padding: 0}\n",
       ".list-inline>li {display: inline-block}\n",
       ".list-inline>li:not(:last-child)::after {content: \"\\00b7\"; padding: 0 .5ex}\n",
       "</style>\n",
       "<ol class=list-inline><li>'Monday'</li><li>'5'</li></ol>\n"
      ],
      "text/latex": [
       "\\begin{enumerate*}\n",
       "\\item 'Monday'\n",
       "\\item '5'\n",
       "\\end{enumerate*}\n"
      ],
      "text/markdown": [
       "1. 'Monday'\n",
       "2. '5'\n",
       "\n",
       "\n"
      ],
      "text/plain": [
       "[1] \"Monday\" \"5\"     "
      ]
     },
     "metadata": {},
     "output_type": "display_data"
    }
   ],
   "source": [
    "c(\"Monday\", 5)"
   ]
  },
  {
   "cell_type": "markdown",
   "metadata": {},
   "source": [
    "The `class()` function returns the data structure of an object. If we check the classes of these two objects using the `class()` function, we will see that R tells us that the first is a character vector and the second is a numeric vector. This matches the data type in this case. "
   ]
  },
  {
   "cell_type": "code",
   "execution_count": 9,
   "metadata": {},
   "outputs": [
    {
     "data": {
      "text/html": [
       "'character'"
      ],
      "text/latex": [
       "'character'"
      ],
      "text/markdown": [
       "'character'"
      ],
      "text/plain": [
       "[1] \"character\""
      ]
     },
     "metadata": {},
     "output_type": "display_data"
    },
    {
     "data": {
      "text/html": [
       "'numeric'"
      ],
      "text/latex": [
       "'numeric'"
      ],
      "text/markdown": [
       "'numeric'"
      ],
      "text/plain": [
       "[1] \"numeric\""
      ]
     },
     "metadata": {},
     "output_type": "display_data"
    }
   ],
   "source": [
    "class(days)\n",
    "class(rain)"
   ]
  },
  {
   "cell_type": "markdown",
   "metadata": {},
   "source": [
    "What happens when we create an empty vector? What is the class?"
   ]
  },
  {
   "cell_type": "code",
   "execution_count": 10,
   "metadata": {},
   "outputs": [
    {
     "data": {
      "text/html": [
       "'NULL'"
      ],
      "text/latex": [
       "'NULL'"
      ],
      "text/markdown": [
       "'NULL'"
      ],
      "text/plain": [
       "[1] \"NULL\""
      ]
     },
     "metadata": {},
     "output_type": "display_data"
    }
   ],
   "source": [
    "ex_empty <- c()\n",
    "class(ex_empty)"
   ]
  },
  {
   "cell_type": "markdown",
   "metadata": {},
   "source": [
    "In this case, there is no specified type yet. If we wanted to specify the type, we could make an empty vector using the `vector()` function."
   ]
  },
  {
   "cell_type": "code",
   "execution_count": 11,
   "metadata": {},
   "outputs": [
    {
     "data": {
      "text/html": [
       "'numeric'"
      ],
      "text/latex": [
       "'numeric'"
      ],
      "text/markdown": [
       "'numeric'"
      ],
      "text/plain": [
       "[1] \"numeric\""
      ]
     },
     "metadata": {},
     "output_type": "display_data"
    }
   ],
   "source": [
    "ex_empty <- vector(mode = \"numeric\")\n",
    "class(ex_empty)"
   ]
  },
  {
   "cell_type": "markdown",
   "metadata": {},
   "source": [
    "Another way to create a vector is with the `rep()` or `seq()` functions. The first function `rep(x, times)` takes in a vector `x` and a number of times `times` and outputs `x` repeated that many times. Let's try this with a single value below. The second function `seq(from, to, step)` takes in a numeric starting value `from`, end value `to`, and step size `step` and returns a sequence from `from` in increments of `step` until a maximum value of `to` is reached. "
   ]
  },
  {
   "cell_type": "code",
   "execution_count": 12,
   "metadata": {},
   "outputs": [
    {
     "data": {
      "text/html": [
       "<style>\n",
       ".list-inline {list-style: none; margin:0; padding: 0}\n",
       ".list-inline>li {display: inline-block}\n",
       ".list-inline>li:not(:last-child)::after {content: \"\\00b7\"; padding: 0 .5ex}\n",
       "</style>\n",
       "<ol class=list-inline><li>0</li><li>0</li><li>0</li><li>0</li><li>0</li></ol>\n"
      ],
      "text/latex": [
       "\\begin{enumerate*}\n",
       "\\item 0\n",
       "\\item 0\n",
       "\\item 0\n",
       "\\item 0\n",
       "\\item 0\n",
       "\\end{enumerate*}\n"
      ],
      "text/markdown": [
       "1. 0\n",
       "2. 0\n",
       "3. 0\n",
       "4. 0\n",
       "5. 0\n",
       "\n",
       "\n"
      ],
      "text/plain": [
       "[1] 0 0 0 0 0"
      ]
     },
     "metadata": {},
     "output_type": "display_data"
    },
    {
     "data": {
      "text/html": [
       "<style>\n",
       ".list-inline {list-style: none; margin:0; padding: 0}\n",
       ".list-inline>li {display: inline-block}\n",
       ".list-inline>li:not(:last-child)::after {content: \"\\00b7\"; padding: 0 .5ex}\n",
       "</style>\n",
       "<ol class=list-inline><li>'Monday'</li><li>'Monday'</li><li>'Monday'</li><li>'Monday'</li></ol>\n"
      ],
      "text/latex": [
       "\\begin{enumerate*}\n",
       "\\item 'Monday'\n",
       "\\item 'Monday'\n",
       "\\item 'Monday'\n",
       "\\item 'Monday'\n",
       "\\end{enumerate*}\n"
      ],
      "text/markdown": [
       "1. 'Monday'\n",
       "2. 'Monday'\n",
       "3. 'Monday'\n",
       "4. 'Monday'\n",
       "\n",
       "\n"
      ],
      "text/plain": [
       "[1] \"Monday\" \"Monday\" \"Monday\" \"Monday\""
      ]
     },
     "metadata": {},
     "output_type": "display_data"
    },
    {
     "data": {
      "text/html": [
       "<style>\n",
       ".list-inline {list-style: none; margin:0; padding: 0}\n",
       ".list-inline>li {display: inline-block}\n",
       ".list-inline>li:not(:last-child)::after {content: \"\\00b7\"; padding: 0 .5ex}\n",
       "</style>\n",
       "<ol class=list-inline><li>1</li><li>2</li><li>3</li><li>4</li><li>5</li></ol>\n"
      ],
      "text/latex": [
       "\\begin{enumerate*}\n",
       "\\item 1\n",
       "\\item 2\n",
       "\\item 3\n",
       "\\item 4\n",
       "\\item 5\n",
       "\\end{enumerate*}\n"
      ],
      "text/markdown": [
       "1. 1\n",
       "2. 2\n",
       "3. 3\n",
       "4. 4\n",
       "5. 5\n",
       "\n",
       "\n"
      ],
      "text/plain": [
       "[1] 1 2 3 4 5"
      ]
     },
     "metadata": {},
     "output_type": "display_data"
    },
    {
     "data": {
      "text/html": [
       "<style>\n",
       ".list-inline {list-style: none; margin:0; padding: 0}\n",
       ".list-inline>li {display: inline-block}\n",
       ".list-inline>li:not(:last-child)::after {content: \"\\00b7\"; padding: 0 .5ex}\n",
       "</style>\n",
       "<ol class=list-inline><li>0</li><li>-2</li><li>-4</li><li>-6</li><li>-8</li><li>-10</li></ol>\n"
      ],
      "text/latex": [
       "\\begin{enumerate*}\n",
       "\\item 0\n",
       "\\item -2\n",
       "\\item -4\n",
       "\\item -6\n",
       "\\item -8\n",
       "\\item -10\n",
       "\\end{enumerate*}\n"
      ],
      "text/markdown": [
       "1. 0\n",
       "2. -2\n",
       "3. -4\n",
       "4. -6\n",
       "5. -8\n",
       "6. -10\n",
       "\n",
       "\n"
      ],
      "text/plain": [
       "[1]   0  -2  -4  -6  -8 -10"
      ]
     },
     "metadata": {},
     "output_type": "display_data"
    }
   ],
   "source": [
    "rep(0, 5)\n",
    "rep(\"Monday\", 4)\n",
    "seq(1, 5, 1)\n",
    "seq(0, -10, -2)"
   ]
  },
  {
   "cell_type": "markdown",
   "metadata": {},
   "source": [
    "### Indexing a Vector\n",
    "\n",
    "Once we have a vector, we may want to access certain values stored in that vector. To do so, we index the vector using the position of each value: the first value in the vector has index 1, the second value has index 2, etc. When we say a vector is 1-dimensional, we mean that we can define the position of each value by a single index. To index the vector, we then use square brackets `[]` after the vector name and provide the position. Below, we use these indices to find the value at index 1 and the value at index 4."
   ]
  },
  {
   "cell_type": "code",
   "execution_count": 13,
   "metadata": {},
   "outputs": [
    {
     "data": {
      "text/html": [
       "'Monday'"
      ],
      "text/latex": [
       "'Monday'"
      ],
      "text/markdown": [
       "'Monday'"
      ],
      "text/plain": [
       "[1] \"Monday\""
      ]
     },
     "metadata": {},
     "output_type": "display_data"
    },
    {
     "data": {
      "text/html": [
       "'Thursday'"
      ],
      "text/latex": [
       "'Thursday'"
      ],
      "text/markdown": [
       "'Thursday'"
      ],
      "text/plain": [
       "[1] \"Thursday\""
      ]
     },
     "metadata": {},
     "output_type": "display_data"
    }
   ],
   "source": [
    "days[1]\n",
    "days[4]"
   ]
  },
  {
   "cell_type": "markdown",
   "metadata": {},
   "source": [
    "We can either access a single value or a subset of values using a vector of indices. Let's see what happens when we use a vector of indices `c(1,4)` and then try using `-c(1,4)` and see what happens then. In the first case, we get the values at index 1 *and* at index 4. In the second case, we get all values *except* at those indices. The `-` indicates that we want to remove rather than select these indices."
   ]
  },
  {
   "cell_type": "code",
   "execution_count": 14,
   "metadata": {},
   "outputs": [
    {
     "data": {
      "text/html": [
       "<style>\n",
       ".list-inline {list-style: none; margin:0; padding: 0}\n",
       ".list-inline>li {display: inline-block}\n",
       ".list-inline>li:not(:last-child)::after {content: \"\\00b7\"; padding: 0 .5ex}\n",
       "</style>\n",
       "<ol class=list-inline><li>'Monday'</li><li>'Thursday'</li></ol>\n"
      ],
      "text/latex": [
       "\\begin{enumerate*}\n",
       "\\item 'Monday'\n",
       "\\item 'Thursday'\n",
       "\\end{enumerate*}\n"
      ],
      "text/markdown": [
       "1. 'Monday'\n",
       "2. 'Thursday'\n",
       "\n",
       "\n"
      ],
      "text/plain": [
       "[1] \"Monday\"   \"Thursday\""
      ]
     },
     "metadata": {},
     "output_type": "display_data"
    },
    {
     "data": {
      "text/html": [
       "<style>\n",
       ".list-inline {list-style: none; margin:0; padding: 0}\n",
       ".list-inline>li {display: inline-block}\n",
       ".list-inline>li:not(:last-child)::after {content: \"\\00b7\"; padding: 0 .5ex}\n",
       "</style>\n",
       "<ol class=list-inline><li>'Tuesday'</li><li>'Wednesday'</li><li>'Friday'</li></ol>\n"
      ],
      "text/latex": [
       "\\begin{enumerate*}\n",
       "\\item 'Tuesday'\n",
       "\\item 'Wednesday'\n",
       "\\item 'Friday'\n",
       "\\end{enumerate*}\n"
      ],
      "text/markdown": [
       "1. 'Tuesday'\n",
       "2. 'Wednesday'\n",
       "3. 'Friday'\n",
       "\n",
       "\n"
      ],
      "text/plain": [
       "[1] \"Tuesday\"   \"Wednesday\" \"Friday\"   "
      ]
     },
     "metadata": {},
     "output_type": "display_data"
    }
   ],
   "source": [
    "days[c(1,4)]\n",
    "days[-c(1,4)]"
   ]
  },
  {
   "cell_type": "markdown",
   "metadata": {},
   "source": [
    "However, always indexing by the index value can sometimes be difficult or inefficient. One extra feature of vectors is that we can associate a name with each value. Below, we update the names of the vector `rain` to be the days of the week and then find Friday's rain count by indexing with the name."
   ]
  },
  {
   "cell_type": "code",
   "execution_count": 15,
   "metadata": {},
   "outputs": [
    {
     "name": "stdout",
     "output_type": "stream",
     "text": [
      "   Monday   Tuesday Wednesday  Thursday    Friday \n",
      "      5.0       0.1       0.0       0.0       0.4 \n"
     ]
    },
    {
     "data": {
      "text/html": [
       "<strong>Friday:</strong> 0.4"
      ],
      "text/latex": [
       "\\textbf{Friday:} 0.4"
      ],
      "text/markdown": [
       "**Friday:** 0.4"
      ],
      "text/plain": [
       "Friday \n",
       "   0.4 "
      ]
     },
     "metadata": {},
     "output_type": "display_data"
    }
   ],
   "source": [
    "names(rain) <- days\n",
    "print(rain)\n",
    "rain[\"Friday\"]"
   ]
  },
  {
   "cell_type": "markdown",
   "metadata": {},
   "source": [
    "The last way to index a vector is to use TRUE and FALSE values. If we have a vector of booleans that is the same length as our original vector, then this will return all the values that correspond to a TRUE value. For example, indexing the `days` vector by the logical vector `ind_bools` below will return its first and fourth values. We will see more about using logic to access certain values later on. "
   ]
  },
  {
   "cell_type": "code",
   "execution_count": 16,
   "metadata": {},
   "outputs": [
    {
     "data": {
      "text/html": [
       "<style>\n",
       ".list-inline {list-style: none; margin:0; padding: 0}\n",
       ".list-inline>li {display: inline-block}\n",
       ".list-inline>li:not(:last-child)::after {content: \"\\00b7\"; padding: 0 .5ex}\n",
       "</style>\n",
       "<ol class=list-inline><li>'Monday'</li><li>'Thursday'</li></ol>\n"
      ],
      "text/latex": [
       "\\begin{enumerate*}\n",
       "\\item 'Monday'\n",
       "\\item 'Thursday'\n",
       "\\end{enumerate*}\n"
      ],
      "text/markdown": [
       "1. 'Monday'\n",
       "2. 'Thursday'\n",
       "\n",
       "\n"
      ],
      "text/plain": [
       "[1] \"Monday\"   \"Thursday\""
      ]
     },
     "metadata": {},
     "output_type": "display_data"
    }
   ],
   "source": [
    "ind_bools <- c(TRUE, FALSE, FALSE, TRUE, FALSE)\n",
    "days[ind_bools]"
   ]
  },
  {
   "cell_type": "markdown",
   "metadata": {},
   "source": [
    "### Editing a Vector and Calculations\n",
    "\n",
    "The mathematical operators we saw in the last chapter (`+`, `-`, `*`, `/`, `^`, `%%`) can all be applied to numeric vectors and will be applied element-wise. That is, in the code below, the two vectors are added together by index. This holds true for some of the built-in math functions as well:\n",
    "\n",
    "* `exp()` - exponential\n",
    "* `log()` - log\n",
    "* `sqrt()` - square root\n",
    "* `abs()` - absolute value \n",
    "* `round()` - round to nearest integer value\n",
    "* `ceiling()` - round up to the nearest integer value \n",
    "* `floor()` - round down to the nearest integer value"
   ]
  },
  {
   "cell_type": "code",
   "execution_count": 17,
   "metadata": {},
   "outputs": [
    {
     "data": {
      "text/html": [
       "<style>\n",
       ".list-inline {list-style: none; margin:0; padding: 0}\n",
       ".list-inline>li {display: inline-block}\n",
       ".list-inline>li:not(:last-child)::after {content: \"\\00b7\"; padding: 0 .5ex}\n",
       "</style>\n",
       "<ol class=list-inline><li>2</li><li>3</li><li>4</li></ol>\n"
      ],
      "text/latex": [
       "\\begin{enumerate*}\n",
       "\\item 2\n",
       "\\item 3\n",
       "\\item 4\n",
       "\\end{enumerate*}\n"
      ],
      "text/markdown": [
       "1. 2\n",
       "2. 3\n",
       "3. 4\n",
       "\n",
       "\n"
      ],
      "text/plain": [
       "[1] 2 3 4"
      ]
     },
     "metadata": {},
     "output_type": "display_data"
    },
    {
     "data": {
      "text/html": [
       "<style>\n",
       ".list-inline {list-style: none; margin:0; padding: 0}\n",
       ".list-inline>li {display: inline-block}\n",
       ".list-inline>li:not(:last-child)::after {content: \"\\00b7\"; padding: 0 .5ex}\n",
       "</style>\n",
       "<ol class=list-inline><li>2</li><li>3</li><li>4</li></ol>\n"
      ],
      "text/latex": [
       "\\begin{enumerate*}\n",
       "\\item 2\n",
       "\\item 3\n",
       "\\item 4\n",
       "\\end{enumerate*}\n"
      ],
      "text/markdown": [
       "1. 2\n",
       "2. 3\n",
       "3. 4\n",
       "\n",
       "\n"
      ],
      "text/plain": [
       "[1] 2 3 4"
      ]
     },
     "metadata": {},
     "output_type": "display_data"
    },
    {
     "data": {
      "text/html": [
       "<style>\n",
       ".list-inline {list-style: none; margin:0; padding: 0}\n",
       ".list-inline>li {display: inline-block}\n",
       ".list-inline>li:not(:last-child)::after {content: \"\\00b7\"; padding: 0 .5ex}\n",
       "</style>\n",
       "<ol class=list-inline><li>1</li><li>2</li><li>4</li></ol>\n"
      ],
      "text/latex": [
       "\\begin{enumerate*}\n",
       "\\item 1\n",
       "\\item 2\n",
       "\\item 4\n",
       "\\end{enumerate*}\n"
      ],
      "text/markdown": [
       "1. 1\n",
       "2. 2\n",
       "3. 4\n",
       "\n",
       "\n"
      ],
      "text/plain": [
       "[1] 1 2 4"
      ]
     },
     "metadata": {},
     "output_type": "display_data"
    }
   ],
   "source": [
    "c(1,2,3) + c(1,1,1)\n",
    "c(1,2,3) + 1 # equivalent to the code above\n",
    "sqrt(c(1,4,16))"
   ]
  },
  {
   "cell_type": "markdown",
   "metadata": {},
   "source": [
    "After we create a vector, we may need to update its values. For example, we may want to change a specific value. We can do so using indexing. Below, we update the rain value for Friday using the assignment operator. "
   ]
  },
  {
   "cell_type": "code",
   "execution_count": 18,
   "metadata": {},
   "outputs": [
    {
     "data": {
      "text/html": [
       "<style>\n",
       ".dl-inline {width: auto; margin:0; padding: 0}\n",
       ".dl-inline>dt, .dl-inline>dd {float: none; width: auto; display: inline-block}\n",
       ".dl-inline>dt::after {content: \":\\0020\"; padding-right: .5ex}\n",
       ".dl-inline>dt:not(:first-of-type) {padding-left: .5ex}\n",
       "</style><dl class=dl-inline><dt>Monday</dt><dd>5</dd><dt>Tuesday</dt><dd>0.1</dd><dt>Wednesday</dt><dd>0</dd><dt>Thursday</dt><dd>0</dd><dt>Friday</dt><dd>0.5</dd></dl>\n"
      ],
      "text/latex": [
       "\\begin{description*}\n",
       "\\item[Monday] 5\n",
       "\\item[Tuesday] 0.1\n",
       "\\item[Wednesday] 0\n",
       "\\item[Thursday] 0\n",
       "\\item[Friday] 0.5\n",
       "\\end{description*}\n"
      ],
      "text/markdown": [
       "Monday\n",
       ":   5Tuesday\n",
       ":   0.1Wednesday\n",
       ":   0Thursday\n",
       ":   0Friday\n",
       ":   0.5\n",
       "\n"
      ],
      "text/plain": [
       "   Monday   Tuesday Wednesday  Thursday    Friday \n",
       "      5.0       0.1       0.0       0.0       0.5 "
      ]
     },
     "metadata": {},
     "output_type": "display_data"
    }
   ],
   "source": [
    "rain[\"Friday\"] <- 0.5\n",
    "rain"
   ]
  },
  {
   "cell_type": "markdown",
   "metadata": {},
   "source": [
    "Further, we may need to add extra entries. We can do so using the `c()` function again but this time passing in the vector we want to add to as our first argument. This will create a single vector with all previous and new values. Below, we add two days to both vectors and then check the length of the updated vector `rain`. The `length()` function returns the length of a vector."
   ]
  },
  {
   "cell_type": "code",
   "execution_count": 19,
   "metadata": {},
   "outputs": [
    {
     "data": {
      "text/html": [
       "5"
      ],
      "text/latex": [
       "5"
      ],
      "text/markdown": [
       "5"
      ],
      "text/plain": [
       "[1] 5"
      ]
     },
     "metadata": {},
     "output_type": "display_data"
    },
    {
     "data": {
      "text/html": [
       "7"
      ],
      "text/latex": [
       "7"
      ],
      "text/markdown": [
       "7"
      ],
      "text/plain": [
       "[1] 7"
      ]
     },
     "metadata": {},
     "output_type": "display_data"
    }
   ],
   "source": [
    "length(rain)\n",
    "days <- c(days,\"Saturday\",\"Sunday\") # add the weekend with no rain\n",
    "rain <- c(rain,0,0)\n",
    "length(rain)"
   ]
  },
  {
   "cell_type": "markdown",
   "metadata": {},
   "source": [
    "We can also call some useful functions on vectors. For example, the `sum()`, `max()`, and `min()` functions will return the sum, maximum value, and minimum value of a vector, respectively. "
   ]
  },
  {
   "cell_type": "markdown",
   "metadata": {},
   "source": [
    "### Practice Question\n",
    "\n",
    "Create a vector of the odd numbers from 1 to 11 using the `seq()` function. Then, find the third value in the vector using indexing, which should have value 5."
   ]
  },
  {
   "cell_type": "code",
   "execution_count": 20,
   "metadata": {},
   "outputs": [],
   "source": [
    "# Insert your solution here:"
   ]
  },
  {
   "cell_type": "markdown",
   "metadata": {},
   "source": [
    "### Common Vector Functions\n",
    "\n",
    "Below we list some of the most common vector functions that are available in base R. All of these functions assume that the vector is numeric. If we pass the function a logical vector, R will convert the vector to 0/1 first, and if we pass the function a character vector, R will give us an error message. \n",
    "\n",
    "* `sum()` -  summation\n",
    "* `median()` - median value\n",
    "* `mean()` - mean\n",
    "* `sd()` - standard deviation \n",
    "* `var()` - variance\n",
    "* `max()` - maximum value\n",
    "* `which.max()` - index of the first element with the maximum value\n",
    "* `min()` - minimum value\n",
    "* `which.min()` - index of the first element with the minimum value\n",
    "\n",
    "Try these out using the vector `rain`. Note that R is case sensitive - `Mean()` is considered different from `mean()`, so if we type `Mean(rain)` R will tell us that it cannot find this function. "
   ]
  },
  {
   "cell_type": "code",
   "execution_count": 21,
   "metadata": {},
   "outputs": [
    {
     "data": {
      "text/html": [
       "0.8"
      ],
      "text/latex": [
       "0.8"
      ],
      "text/markdown": [
       "0.8"
      ],
      "text/plain": [
       "[1] 0.8"
      ]
     },
     "metadata": {},
     "output_type": "display_data"
    },
    {
     "data": {
      "text/html": [
       "0"
      ],
      "text/latex": [
       "0"
      ],
      "text/markdown": [
       "0"
      ],
      "text/plain": [
       "[1] 0"
      ]
     },
     "metadata": {},
     "output_type": "display_data"
    },
    {
     "data": {
      "text/html": [
       "<strong>Wednesday:</strong> 3"
      ],
      "text/latex": [
       "\\textbf{Wednesday:} 3"
      ],
      "text/markdown": [
       "**Wednesday:** 3"
      ],
      "text/plain": [
       "Wednesday \n",
       "        3 "
      ]
     },
     "metadata": {},
     "output_type": "display_data"
    }
   ],
   "source": [
    "mean(rain)  \n",
    "min(rain) \n",
    "which.min(rain) "
   ]
  },
  {
   "cell_type": "markdown",
   "metadata": {},
   "source": [
    "We may also be interested in the order of the values. The `sort()` function sorts the values of a vector, whereas the `order()` function returns the permutation of the elements to be in sorted order. The last line of code below sorts the days of the week from smallest to largest rain value. "
   ]
  },
  {
   "cell_type": "code",
   "execution_count": 22,
   "metadata": {},
   "outputs": [
    {
     "data": {
      "text/html": [
       "<style>\n",
       ".dl-inline {width: auto; margin:0; padding: 0}\n",
       ".dl-inline>dt, .dl-inline>dd {float: none; width: auto; display: inline-block}\n",
       ".dl-inline>dt::after {content: \":\\0020\"; padding-right: .5ex}\n",
       ".dl-inline>dt:not(:first-of-type) {padding-left: .5ex}\n",
       "</style><dl class=dl-inline><dt>Monday</dt><dd>5</dd><dt>Tuesday</dt><dd>0.1</dd><dt>Wednesday</dt><dd>0</dd><dt>Thursday</dt><dd>0</dd><dt>Friday</dt><dd>0.5</dd><dt>6</dt><dd>0</dd><dt>7</dt><dd>0</dd></dl>\n"
      ],
      "text/latex": [
       "\\begin{description*}\n",
       "\\item[Monday] 5\n",
       "\\item[Tuesday] 0.1\n",
       "\\item[Wednesday] 0\n",
       "\\item[Thursday] 0\n",
       "\\item[Friday] 0.5\n",
       "\\item[6] 0\n",
       "\\item[7] 0\n",
       "\\end{description*}\n"
      ],
      "text/markdown": [
       "Monday\n",
       ":   5Tuesday\n",
       ":   0.1Wednesday\n",
       ":   0Thursday\n",
       ":   0Friday\n",
       ":   0.56\n",
       ":   07\n",
       ":   0\n",
       "\n"
      ],
      "text/plain": [
       "   Monday   Tuesday Wednesday  Thursday    Friday                     \n",
       "      5.0       0.1       0.0       0.0       0.5       0.0       0.0 "
      ]
     },
     "metadata": {},
     "output_type": "display_data"
    },
    {
     "data": {
      "text/html": [
       "<style>\n",
       ".list-inline {list-style: none; margin:0; padding: 0}\n",
       ".list-inline>li {display: inline-block}\n",
       ".list-inline>li:not(:last-child)::after {content: \"\\00b7\"; padding: 0 .5ex}\n",
       "</style>\n",
       "<ol class=list-inline><li>3</li><li>4</li><li>6</li><li>7</li><li>2</li><li>5</li><li>1</li></ol>\n"
      ],
      "text/latex": [
       "\\begin{enumerate*}\n",
       "\\item 3\n",
       "\\item 4\n",
       "\\item 6\n",
       "\\item 7\n",
       "\\item 2\n",
       "\\item 5\n",
       "\\item 1\n",
       "\\end{enumerate*}\n"
      ],
      "text/markdown": [
       "1. 3\n",
       "2. 4\n",
       "3. 6\n",
       "4. 7\n",
       "5. 2\n",
       "6. 5\n",
       "7. 1\n",
       "\n",
       "\n"
      ],
      "text/plain": [
       "[1] 3 4 6 7 2 5 1"
      ]
     },
     "metadata": {},
     "output_type": "display_data"
    },
    {
     "data": {
      "text/html": [
       "<style>\n",
       ".list-inline {list-style: none; margin:0; padding: 0}\n",
       ".list-inline>li {display: inline-block}\n",
       ".list-inline>li:not(:last-child)::after {content: \"\\00b7\"; padding: 0 .5ex}\n",
       "</style>\n",
       "<ol class=list-inline><li>'Wednesday'</li><li>'Thursday'</li><li>'Saturday'</li><li>'Sunday'</li><li>'Tuesday'</li><li>'Friday'</li><li>'Monday'</li></ol>\n"
      ],
      "text/latex": [
       "\\begin{enumerate*}\n",
       "\\item 'Wednesday'\n",
       "\\item 'Thursday'\n",
       "\\item 'Saturday'\n",
       "\\item 'Sunday'\n",
       "\\item 'Tuesday'\n",
       "\\item 'Friday'\n",
       "\\item 'Monday'\n",
       "\\end{enumerate*}\n"
      ],
      "text/markdown": [
       "1. 'Wednesday'\n",
       "2. 'Thursday'\n",
       "3. 'Saturday'\n",
       "4. 'Sunday'\n",
       "5. 'Tuesday'\n",
       "6. 'Friday'\n",
       "7. 'Monday'\n",
       "\n",
       "\n"
      ],
      "text/plain": [
       "[1] \"Wednesday\" \"Thursday\"  \"Saturday\"  \"Sunday\"    \"Tuesday\"   \"Friday\"   \n",
       "[7] \"Monday\"   "
      ]
     },
     "metadata": {},
     "output_type": "display_data"
    }
   ],
   "source": [
    "rain\n",
    "order(rain)\n",
    "days[order(rain)]"
   ]
  },
  {
   "cell_type": "markdown",
   "metadata": {},
   "source": [
    "Both of these functions have an extra possible argument `decreasing`, which has a default value of FALSE. We can specify this to be TRUE to find the days of the week sorted from largest to smallest rainfall."
   ]
  },
  {
   "cell_type": "code",
   "execution_count": 23,
   "metadata": {},
   "outputs": [
    {
     "data": {
      "text/html": [
       "<style>\n",
       ".list-inline {list-style: none; margin:0; padding: 0}\n",
       ".list-inline>li {display: inline-block}\n",
       ".list-inline>li:not(:last-child)::after {content: \"\\00b7\"; padding: 0 .5ex}\n",
       "</style>\n",
       "<ol class=list-inline><li>'Monday'</li><li>'Friday'</li><li>'Tuesday'</li><li>'Wednesday'</li><li>'Thursday'</li><li>'Saturday'</li><li>'Sunday'</li></ol>\n"
      ],
      "text/latex": [
       "\\begin{enumerate*}\n",
       "\\item 'Monday'\n",
       "\\item 'Friday'\n",
       "\\item 'Tuesday'\n",
       "\\item 'Wednesday'\n",
       "\\item 'Thursday'\n",
       "\\item 'Saturday'\n",
       "\\item 'Sunday'\n",
       "\\end{enumerate*}\n"
      ],
      "text/markdown": [
       "1. 'Monday'\n",
       "2. 'Friday'\n",
       "3. 'Tuesday'\n",
       "4. 'Wednesday'\n",
       "5. 'Thursday'\n",
       "6. 'Saturday'\n",
       "7. 'Sunday'\n",
       "\n",
       "\n"
      ],
      "text/plain": [
       "[1] \"Monday\"    \"Friday\"    \"Tuesday\"   \"Wednesday\" \"Thursday\"  \"Saturday\" \n",
       "[7] \"Sunday\"   "
      ]
     },
     "metadata": {},
     "output_type": "display_data"
    }
   ],
   "source": [
    "days[order(rain, decreasing=TRUE)]"
   ]
  },
  {
   "cell_type": "markdown",
   "metadata": {},
   "source": [
    "## Factors\n",
    "\n",
    "A **factor** is a special kind of vector that behaves exactly like a regular vector except that it represents values from a category. In particular, a factor keeps track of all possible values of that category, which are called the **levels** of the factor. Factors will be especially helpful when we start getting into data analysis and have categorical columns. The `as.factor()` function will convert a vector to a factor. "
   ]
  },
  {
   "cell_type": "code",
   "execution_count": 24,
   "metadata": {},
   "outputs": [
    {
     "data": {
      "text/html": [
       "'factor'"
      ],
      "text/latex": [
       "'factor'"
      ],
      "text/markdown": [
       "'factor'"
      ],
      "text/plain": [
       "[1] \"factor\""
      ]
     },
     "metadata": {},
     "output_type": "display_data"
    },
    {
     "data": {
      "text/html": [
       "<style>\n",
       ".list-inline {list-style: none; margin:0; padding: 0}\n",
       ".list-inline>li {display: inline-block}\n",
       ".list-inline>li:not(:last-child)::after {content: \"\\00b7\"; padding: 0 .5ex}\n",
       "</style>\n",
       "<ol class=list-inline><li>'Monday'</li><li>'Thursday'</li><li>'Tuesday'</li><li>'Wednesday'</li></ol>\n"
      ],
      "text/latex": [
       "\\begin{enumerate*}\n",
       "\\item 'Monday'\n",
       "\\item 'Thursday'\n",
       "\\item 'Tuesday'\n",
       "\\item 'Wednesday'\n",
       "\\end{enumerate*}\n"
      ],
      "text/markdown": [
       "1. 'Monday'\n",
       "2. 'Thursday'\n",
       "3. 'Tuesday'\n",
       "4. 'Wednesday'\n",
       "\n",
       "\n"
      ],
      "text/plain": [
       "[1] \"Monday\"    \"Thursday\"  \"Tuesday\"   \"Wednesday\""
      ]
     },
     "metadata": {},
     "output_type": "display_data"
    }
   ],
   "source": [
    "days <- c(\"Monday\", \"Tuesday\", \"Wednesday\", \"Monday\", \"Thursday\", \"Wednesday\")\n",
    "days_fct <- as.factor(days)\n",
    "\n",
    "class(days_fct)\n",
    "levels(days_fct)"
   ]
  },
  {
   "cell_type": "markdown",
   "metadata": {},
   "source": [
    "Above, we did not specify the possible levels for our column. Instead, R found all values in the vector `days` and set these equal to the levels of the factor. Because of this, if we try to change one of the levels to 'Friday', we will get an error. Uncomment the line below to see the error message."
   ]
  },
  {
   "cell_type": "code",
   "execution_count": 25,
   "metadata": {},
   "outputs": [],
   "source": [
    "#days_fct[2] <- \"Friday\"   "
   ]
  },
  {
   "cell_type": "markdown",
   "metadata": {},
   "source": [
    "We can avoid this error by specifying the levels using the `factor()` function instead of the `as.factor()` function. "
   ]
  },
  {
   "cell_type": "code",
   "execution_count": 26,
   "metadata": {},
   "outputs": [
    {
     "data": {
      "text/html": [
       "'factor'"
      ],
      "text/latex": [
       "'factor'"
      ],
      "text/markdown": [
       "'factor'"
      ],
      "text/plain": [
       "[1] \"factor\""
      ]
     },
     "metadata": {},
     "output_type": "display_data"
    },
    {
     "data": {
      "text/html": [
       "<style>\n",
       ".list-inline {list-style: none; margin:0; padding: 0}\n",
       ".list-inline>li {display: inline-block}\n",
       ".list-inline>li:not(:last-child)::after {content: \"\\00b7\"; padding: 0 .5ex}\n",
       "</style>\n",
       "<ol class=list-inline><li>'Monday'</li><li>'Tuesday'</li><li>'Wednesday'</li><li>'Thursday'</li><li>'Friday'</li><li>'Saturday'</li><li>'Sunday'</li></ol>\n"
      ],
      "text/latex": [
       "\\begin{enumerate*}\n",
       "\\item 'Monday'\n",
       "\\item 'Tuesday'\n",
       "\\item 'Wednesday'\n",
       "\\item 'Thursday'\n",
       "\\item 'Friday'\n",
       "\\item 'Saturday'\n",
       "\\item 'Sunday'\n",
       "\\end{enumerate*}\n"
      ],
      "text/markdown": [
       "1. 'Monday'\n",
       "2. 'Tuesday'\n",
       "3. 'Wednesday'\n",
       "4. 'Thursday'\n",
       "5. 'Friday'\n",
       "6. 'Saturday'\n",
       "7. 'Sunday'\n",
       "\n",
       "\n"
      ],
      "text/plain": [
       "[1] \"Monday\"    \"Tuesday\"   \"Wednesday\" \"Thursday\"  \"Friday\"    \"Saturday\" \n",
       "[7] \"Sunday\"   "
      ]
     },
     "metadata": {},
     "output_type": "display_data"
    }
   ],
   "source": [
    "days <- c(\"Monday\", \"Tuesday\", \"Wednesday\", \"Monday\", \"Thursday\", \"Wednesday\")\n",
    "days_fct <- factor(days, \n",
    "               levels = c(\"Monday\", \"Tuesday\", \"Wednesday\", \"Thursday\", \n",
    "                          \"Friday\", \"Saturday\", \"Sunday\"))\n",
    "\n",
    "class(days_fct)\n",
    "levels(days_fct)\n",
    "days_fct[2] <- \"Friday\""
   ]
  },
  {
   "cell_type": "markdown",
   "metadata": {},
   "source": [
    "Factors can also be used for numeric vectors. For example, we might have a vector that is 0/1 that represents whether or not a day is a weekend. This can also only take on certain values (0 or 1). "
   ]
  },
  {
   "cell_type": "code",
   "execution_count": 27,
   "metadata": {},
   "outputs": [
    {
     "data": {
      "text/html": [
       "<style>\n",
       ".list-inline {list-style: none; margin:0; padding: 0}\n",
       ".list-inline>li {display: inline-block}\n",
       ".list-inline>li:not(:last-child)::after {content: \"\\00b7\"; padding: 0 .5ex}\n",
       "</style>\n",
       "<ol class=list-inline><li>'0'</li><li>'1'</li></ol>\n"
      ],
      "text/latex": [
       "\\begin{enumerate*}\n",
       "\\item '0'\n",
       "\\item '1'\n",
       "\\end{enumerate*}\n"
      ],
      "text/markdown": [
       "1. '0'\n",
       "2. '1'\n",
       "\n",
       "\n"
      ],
      "text/plain": [
       "[1] \"0\" \"1\""
      ]
     },
     "metadata": {},
     "output_type": "display_data"
    }
   ],
   "source": [
    "weekend <- as.factor(c(1, 0, 0, 0, 1, 1))\n",
    "levels(weekend)"
   ]
  },
  {
   "cell_type": "markdown",
   "metadata": {},
   "source": [
    "## Matrices\n",
    "\n",
    "Matrices are similar to vectors in that they store data of the same type, but matrices are two-dimensional (as opposed to one-dimensional vectors), and consist of both rows and columns. \n",
    "\n",
    "<img src=\"images/2-matrix.png\" alt= “” width=\"300pt\" align=\"center\">"
   ]
  },
  {
   "cell_type": "markdown",
   "metadata": {},
   "source": [
    " Below, we create a matrix reporting the daily rainfall over multiple weeks. We can create a matrix using the `matrix(data, nrow, ncol, byrow)` function. This creates a `nrow` by `ncol` matrix from the vector `data` values filling in by row if `byrow` is TRUE and by column otherwise. Run the code below. Then, change the last argument to `byrow=FALSE` and see what happens to the values."
   ]
  },
  {
   "cell_type": "code",
   "execution_count": 28,
   "metadata": {},
   "outputs": [
    {
     "data": {
      "text/html": [
       "<table class=\"dataframe\">\n",
       "<caption>A matrix: 2 × 7 of type dbl</caption>\n",
       "<tbody>\n",
       "\t<tr><td>5</td><td>6.0</td><td>0.1</td><td>3.0</td><td>0.0</td><td>1</td><td>0</td></tr>\n",
       "\t<tr><td>1</td><td>0.4</td><td>0.2</td><td>0.5</td><td>0.3</td><td>0</td><td>0</td></tr>\n",
       "</tbody>\n",
       "</table>\n"
      ],
      "text/latex": [
       "A matrix: 2 × 7 of type dbl\n",
       "\\begin{tabular}{lllllll}\n",
       "\t 5 & 6.0 & 0.1 & 3.0 & 0.0 & 1 & 0\\\\\n",
       "\t 1 & 0.4 & 0.2 & 0.5 & 0.3 & 0 & 0\\\\\n",
       "\\end{tabular}\n"
      ],
      "text/markdown": [
       "\n",
       "A matrix: 2 × 7 of type dbl\n",
       "\n",
       "| 5 | 6.0 | 0.1 | 3.0 | 0.0 | 1 | 0 |\n",
       "| 1 | 0.4 | 0.2 | 0.5 | 0.3 | 0 | 0 |\n",
       "\n"
      ],
      "text/plain": [
       "     [,1] [,2] [,3] [,4] [,5] [,6] [,7]\n",
       "[1,] 5    6.0  0.1  3.0  0.0  1    0   \n",
       "[2,] 1    0.4  0.2  0.5  0.3  0    0   "
      ]
     },
     "metadata": {},
     "output_type": "display_data"
    }
   ],
   "source": [
    "rainfall <- matrix(c(5,6,0.1,3,0,1,0,1,0.4,0.2,0.5,0.3,0,0), ncol=7, nrow=2, byrow=TRUE)\n",
    "rainfall"
   ]
  },
  {
   "cell_type": "markdown",
   "metadata": {},
   "source": [
    "We can find the dimensions of a matrix using the `nrow()`, `ncol()`, or `dim()` functions, which return the number of rows, the number of columns, and both the number of rows and columns, respectively."
   ]
  },
  {
   "cell_type": "code",
   "execution_count": 29,
   "metadata": {},
   "outputs": [
    {
     "data": {
      "text/html": [
       "2"
      ],
      "text/latex": [
       "2"
      ],
      "text/markdown": [
       "2"
      ],
      "text/plain": [
       "[1] 2"
      ]
     },
     "metadata": {},
     "output_type": "display_data"
    },
    {
     "data": {
      "text/html": [
       "7"
      ],
      "text/latex": [
       "7"
      ],
      "text/markdown": [
       "7"
      ],
      "text/plain": [
       "[1] 7"
      ]
     },
     "metadata": {},
     "output_type": "display_data"
    },
    {
     "data": {
      "text/html": [
       "<style>\n",
       ".list-inline {list-style: none; margin:0; padding: 0}\n",
       ".list-inline>li {display: inline-block}\n",
       ".list-inline>li:not(:last-child)::after {content: \"\\00b7\"; padding: 0 .5ex}\n",
       "</style>\n",
       "<ol class=list-inline><li>2</li><li>7</li></ol>\n"
      ],
      "text/latex": [
       "\\begin{enumerate*}\n",
       "\\item 2\n",
       "\\item 7\n",
       "\\end{enumerate*}\n"
      ],
      "text/markdown": [
       "1. 2\n",
       "2. 7\n",
       "\n",
       "\n"
      ],
      "text/plain": [
       "[1] 2 7"
      ]
     },
     "metadata": {},
     "output_type": "display_data"
    }
   ],
   "source": [
    "nrow(rainfall)\n",
    "ncol(rainfall)\n",
    "dim(rainfall)"
   ]
  },
  {
   "cell_type": "markdown",
   "metadata": {},
   "source": [
    "### Indexing a Matrix\n",
    "\n",
    "Since matrices are two-dimensional, a single value is indexed by both its row number and its column number. This means that to access a subset of values in a matrix, we need to provide row and column indices. Below, we access a single value in the 1st row and the 4th column. The first value is always the row index and the second value is always the column index."
   ]
  },
  {
   "cell_type": "code",
   "execution_count": 30,
   "metadata": {},
   "outputs": [
    {
     "data": {
      "text/html": [
       "3"
      ],
      "text/latex": [
       "3"
      ],
      "text/markdown": [
       "3"
      ],
      "text/plain": [
       "[1] 3"
      ]
     },
     "metadata": {},
     "output_type": "display_data"
    }
   ],
   "source": [
    "rainfall[1,4]"
   ]
  },
  {
   "cell_type": "markdown",
   "metadata": {},
   "source": [
    "As before, we can also provide multiple indices to get multiple values. Below, we choose multiple columns but we can also choose multiple rows (or multiple rows and multiple columns!)."
   ]
  },
  {
   "cell_type": "code",
   "execution_count": 31,
   "metadata": {},
   "outputs": [
    {
     "data": {
      "text/html": [
       "<style>\n",
       ".list-inline {list-style: none; margin:0; padding: 0}\n",
       ".list-inline>li {display: inline-block}\n",
       ".list-inline>li:not(:last-child)::after {content: \"\\00b7\"; padding: 0 .5ex}\n",
       "</style>\n",
       "<ol class=list-inline><li>3</li><li>0</li><li>0</li></ol>\n"
      ],
      "text/latex": [
       "\\begin{enumerate*}\n",
       "\\item 3\n",
       "\\item 0\n",
       "\\item 0\n",
       "\\end{enumerate*}\n"
      ],
      "text/markdown": [
       "1. 3\n",
       "2. 0\n",
       "3. 0\n",
       "\n",
       "\n"
      ],
      "text/plain": [
       "[1] 3 0 0"
      ]
     },
     "metadata": {},
     "output_type": "display_data"
    }
   ],
   "source": [
    "rainfall[1,c(4,5,7)]"
   ]
  },
  {
   "cell_type": "markdown",
   "metadata": {},
   "source": [
    "As with vectors, we can also use booleans to index a matrix by providing boolean values for the rows and/or columns. Note that below we give a vector for the row indices and no values for the columns. Since we did not specify any column indices, this will select all of them."
   ]
  },
  {
   "cell_type": "code",
   "execution_count": 32,
   "metadata": {},
   "outputs": [
    {
     "data": {
      "text/html": [
       "<style>\n",
       ".list-inline {list-style: none; margin:0; padding: 0}\n",
       ".list-inline>li {display: inline-block}\n",
       ".list-inline>li:not(:last-child)::after {content: \"\\00b7\"; padding: 0 .5ex}\n",
       "</style>\n",
       "<ol class=list-inline><li>1</li><li>0.4</li><li>0.2</li><li>0.5</li><li>0.3</li><li>0</li><li>0</li></ol>\n"
      ],
      "text/latex": [
       "\\begin{enumerate*}\n",
       "\\item 1\n",
       "\\item 0.4\n",
       "\\item 0.2\n",
       "\\item 0.5\n",
       "\\item 0.3\n",
       "\\item 0\n",
       "\\item 0\n",
       "\\end{enumerate*}\n"
      ],
      "text/markdown": [
       "1. 1\n",
       "2. 0.4\n",
       "3. 0.2\n",
       "4. 0.5\n",
       "5. 0.3\n",
       "6. 0\n",
       "7. 0\n",
       "\n",
       "\n"
      ],
      "text/plain": [
       "[1] 1.0 0.4 0.2 0.5 0.3 0.0 0.0"
      ]
     },
     "metadata": {},
     "output_type": "display_data"
    }
   ],
   "source": [
    "rainfall[c(FALSE, TRUE), ]"
   ]
  },
  {
   "cell_type": "markdown",
   "metadata": {},
   "source": [
    "Let's do the opposite and select some columns and all rows."
   ]
  },
  {
   "cell_type": "code",
   "execution_count": 33,
   "metadata": {},
   "outputs": [
    {
     "data": {
      "text/html": [
       "<table class=\"dataframe\">\n",
       "<caption>A matrix: 2 × 2 of type dbl</caption>\n",
       "<tbody>\n",
       "\t<tr><td>5</td><td>6.0</td></tr>\n",
       "\t<tr><td>1</td><td>0.4</td></tr>\n",
       "</tbody>\n",
       "</table>\n"
      ],
      "text/latex": [
       "A matrix: 2 × 2 of type dbl\n",
       "\\begin{tabular}{ll}\n",
       "\t 5 & 6.0\\\\\n",
       "\t 1 & 0.4\\\\\n",
       "\\end{tabular}\n"
      ],
      "text/markdown": [
       "\n",
       "A matrix: 2 × 2 of type dbl\n",
       "\n",
       "| 5 | 6.0 |\n",
       "| 1 | 0.4 |\n",
       "\n"
      ],
      "text/plain": [
       "     [,1] [,2]\n",
       "[1,] 5    6.0 \n",
       "[2,] 1    0.4 "
      ]
     },
     "metadata": {},
     "output_type": "display_data"
    }
   ],
   "source": [
    "rainfall[ ,c(TRUE, TRUE, FALSE, FALSE, FALSE, FALSE, FALSE)]"
   ]
  },
  {
   "cell_type": "markdown",
   "metadata": {},
   "source": [
    "As with vectors, we can specify row names and column names to access entries instead of using indices. The `colnames()` and `rownames()` functions allow us to specify the column and row names, respectively."
   ]
  },
  {
   "cell_type": "code",
   "execution_count": 34,
   "metadata": {},
   "outputs": [
    {
     "data": {
      "text/html": [
       "<style>\n",
       ".dl-inline {width: auto; margin:0; padding: 0}\n",
       ".dl-inline>dt, .dl-inline>dd {float: none; width: auto; display: inline-block}\n",
       ".dl-inline>dt::after {content: \":\\0020\"; padding-right: .5ex}\n",
       ".dl-inline>dt:not(:first-of-type) {padding-left: .5ex}\n",
       "</style><dl class=dl-inline><dt>Friday</dt><dd>0</dd><dt>Saturday</dt><dd>1</dd></dl>\n"
      ],
      "text/latex": [
       "\\begin{description*}\n",
       "\\item[Friday] 0\n",
       "\\item[Saturday] 1\n",
       "\\end{description*}\n"
      ],
      "text/markdown": [
       "Friday\n",
       ":   0Saturday\n",
       ":   1\n",
       "\n"
      ],
      "text/plain": [
       "  Friday Saturday \n",
       "       0        1 "
      ]
     },
     "metadata": {},
     "output_type": "display_data"
    }
   ],
   "source": [
    "colnames(rainfall) <- c(\"Monday\", \"Tuesday\", \"Wednesday\", \"Thursday\", \n",
    "                        \"Friday\", \"Saturday\", \"Sunday\")\n",
    "rownames(rainfall) <- c(\"Week1\", \"Week2\")\n",
    "rainfall[\"Week1\",c(\"Friday\",\"Saturday\")]"
   ]
  },
  {
   "cell_type": "markdown",
   "metadata": {},
   "source": [
    "### Editing a Matrix\n",
    "\n",
    "If we want to change the values in a matrix, we need to first index those values and then assign them the new value(s). Below, we change a single entry to be 3 and then update several values to all be 0. Note that we do not provide multiple 0's on the right-hand side, as R will infer that all values should be set to 0."
   ]
  },
  {
   "cell_type": "code",
   "execution_count": 35,
   "metadata": {},
   "outputs": [],
   "source": [
    "rainfall[\"Week1\", \"Friday\"] <- 3"
   ]
  },
  {
   "cell_type": "code",
   "execution_count": 36,
   "metadata": {},
   "outputs": [
    {
     "name": "stdout",
     "output_type": "stream",
     "text": [
      "      Monday Tuesday Wednesday Thursday Friday Saturday Sunday\n",
      "Week1      0     0.0       0.1      3.0    3.0        1      0\n",
      "Week2      1     0.4       0.2      0.5    0.3        0      0\n"
     ]
    }
   ],
   "source": [
    "rainfall[\"Week1\", c(\"Monday\", \"Tuesday\")] <- 0\n",
    "print(rainfall)"
   ]
  },
  {
   "cell_type": "markdown",
   "metadata": {},
   "source": [
    "Further, we can append values to our matrix by adding rows or columns through the `rbind()` and `cbind()` functions. The first function appends a row (or multiple rows) to a matrix and the second appends a column (or multiple columns). Note that below I provide a row and column name when passing in the additional data. If I hadn't specified these names, then those rows and columns would not be named. "
   ]
  },
  {
   "cell_type": "code",
   "execution_count": 37,
   "metadata": {},
   "outputs": [
    {
     "name": "stdout",
     "output_type": "stream",
     "text": [
      "      Monday Tuesday Wednesday Thursday Friday Saturday Sunday Total\n",
      "Week1    0.0     0.0       0.1      3.0    3.0      1.0      0   7.1\n",
      "Week2    1.0     0.4       0.2      0.5    0.3      0.0      0   2.4\n",
      "Week3    0.4     0.0       0.0      0.0    1.2      2.2      0   3.8\n"
     ]
    }
   ],
   "source": [
    "rainfall <- rbind(rainfall, \"Week3\" = c(0.4, 0.0, 0.0, 0.0, 1.2, 2.2, 0.0))\n",
    "rainfall <- cbind(rainfall, \"Total\" = c(7.1, 2.4, 3.8))\n",
    "print(rainfall)"
   ]
  },
  {
   "cell_type": "markdown",
   "metadata": {},
   "source": [
    "Here is an example where we bind two matrices by column. Note that whenever we bind two matrices together, we have to be sure that their dimensions are compatible and that they are of the same type."
   ]
  },
  {
   "cell_type": "code",
   "execution_count": 38,
   "metadata": {},
   "outputs": [
    {
     "data": {
      "text/html": [
       "<table class=\"dataframe\">\n",
       "<caption>A matrix: 2 × 4 of type dbl</caption>\n",
       "<tbody>\n",
       "\t<tr><td>1</td><td>3</td><td>5</td><td>7</td></tr>\n",
       "\t<tr><td>2</td><td>4</td><td>6</td><td>8</td></tr>\n",
       "</tbody>\n",
       "</table>\n"
      ],
      "text/latex": [
       "A matrix: 2 × 4 of type dbl\n",
       "\\begin{tabular}{llll}\n",
       "\t 1 & 3 & 5 & 7\\\\\n",
       "\t 2 & 4 & 6 & 8\\\\\n",
       "\\end{tabular}\n"
      ],
      "text/markdown": [
       "\n",
       "A matrix: 2 × 4 of type dbl\n",
       "\n",
       "| 1 | 3 | 5 | 7 |\n",
       "| 2 | 4 | 6 | 8 |\n",
       "\n"
      ],
      "text/plain": [
       "     [,1] [,2] [,3] [,4]\n",
       "[1,] 1    3    5    7   \n",
       "[2,] 2    4    6    8   "
      ]
     },
     "metadata": {},
     "output_type": "display_data"
    }
   ],
   "source": [
    "A <- matrix(c(1,2,3,4), nrow=2)\n",
    "B <- matrix(c(5,6,7,8), nrow=2)\n",
    "C <- cbind(A, B)\n",
    "C"
   ]
  },
  {
   "cell_type": "markdown",
   "metadata": {},
   "source": [
    "As with vectors, most mathematical operators (`+`, `-`, `*`, `/` etc.) are applied element-wise in R."
   ]
  },
  {
   "cell_type": "code",
   "execution_count": 39,
   "metadata": {},
   "outputs": [
    {
     "data": {
      "text/html": [
       "<table class=\"dataframe\">\n",
       "<caption>A matrix: 2 × 2 of type dbl</caption>\n",
       "<tbody>\n",
       "\t<tr><td>6</td><td>10</td></tr>\n",
       "\t<tr><td>8</td><td>12</td></tr>\n",
       "</tbody>\n",
       "</table>\n"
      ],
      "text/latex": [
       "A matrix: 2 × 2 of type dbl\n",
       "\\begin{tabular}{ll}\n",
       "\t 6 & 10\\\\\n",
       "\t 8 & 12\\\\\n",
       "\\end{tabular}\n"
      ],
      "text/markdown": [
       "\n",
       "A matrix: 2 × 2 of type dbl\n",
       "\n",
       "| 6 | 10 |\n",
       "| 8 | 12 |\n",
       "\n"
      ],
      "text/plain": [
       "     [,1] [,2]\n",
       "[1,] 6    10  \n",
       "[2,] 8    12  "
      ]
     },
     "metadata": {},
     "output_type": "display_data"
    }
   ],
   "source": [
    "A+B"
   ]
  },
  {
   "cell_type": "code",
   "execution_count": 40,
   "metadata": {},
   "outputs": [
    {
     "data": {
      "text/html": [
       "<table class=\"dataframe\">\n",
       "<caption>A matrix: 2 × 4 of type dbl</caption>\n",
       "<tbody>\n",
       "\t<tr><td>2.718282</td><td>20.08554</td><td>148.4132</td><td>1096.633</td></tr>\n",
       "\t<tr><td>7.389056</td><td>54.59815</td><td>403.4288</td><td>2980.958</td></tr>\n",
       "</tbody>\n",
       "</table>\n"
      ],
      "text/latex": [
       "A matrix: 2 × 4 of type dbl\n",
       "\\begin{tabular}{llll}\n",
       "\t 2.718282 & 20.08554 & 148.4132 & 1096.633\\\\\n",
       "\t 7.389056 & 54.59815 & 403.4288 & 2980.958\\\\\n",
       "\\end{tabular}\n"
      ],
      "text/markdown": [
       "\n",
       "A matrix: 2 × 4 of type dbl\n",
       "\n",
       "| 2.718282 | 20.08554 | 148.4132 | 1096.633 |\n",
       "| 7.389056 | 54.59815 | 403.4288 | 2980.958 |\n",
       "\n"
      ],
      "text/plain": [
       "     [,1]     [,2]     [,3]     [,4]    \n",
       "[1,] 2.718282 20.08554 148.4132 1096.633\n",
       "[2,] 7.389056 54.59815 403.4288 2980.958"
      ]
     },
     "metadata": {},
     "output_type": "display_data"
    }
   ],
   "source": [
    "exp(C)"
   ]
  },
  {
   "cell_type": "markdown",
   "metadata": {},
   "source": [
    "### Practice Question\n",
    "Create a 3x4 matrix of all 1's using the `rep()` and `matrix()` functions. Then select the first and third columns using indexing which will return a 3x2 matrix of all ones."
   ]
  },
  {
   "cell_type": "code",
   "execution_count": 41,
   "metadata": {},
   "outputs": [],
   "source": [
    "# Insert your solution here:"
   ]
  },
  {
   "cell_type": "markdown",
   "metadata": {},
   "source": [
    "## Data Frames\n",
    "Matrices can store data like the rainfall data, where everything is of the same type. However, if we want to capture more complex data records, we also want to allow for different measurement types: this is where data frames come in. A data frame is like a matrix in that data frames are two-dimensional, but unlike matrices, data frames allow for each column to be a different type. In this case, each row corresponds to a single data entry (or observation) and each column corresponds to a different variable. \n",
    "\n",
    "\n",
    "<img src=\"images/2-dataframe.png\" alt= “” width=\"250pt\" align=\"center\">\n",
    "    \n",
    "For example, suppose that, for every day in a study, we want to record the temperature, rainfall, and day of the week. Temperature and rainfall can be numeric values, but day of the week will be character type. We create a data frame using the `data.frame()` function. Note that I am providing column names for each vector (column).\n",
    "\n",
    "The `head()` function prints the first six rows of a data frame (to avoid printing very large datasets). In our case, all the data is shown because we only created four rows. The column names are displayed as well as their type. By contrast, the `tail()` function prints the last six rows of a data frame.\n",
    "   "
   ]
  },
  {
   "cell_type": "code",
   "execution_count": 42,
   "metadata": {},
   "outputs": [
    {
     "data": {
      "text/html": [
       "<table class=\"dataframe\">\n",
       "<caption>A data.frame: 4 × 3</caption>\n",
       "<thead>\n",
       "\t<tr><th></th><th scope=col>day_of_week</th><th scope=col>temp</th><th scope=col>rain</th></tr>\n",
       "\t<tr><th></th><th scope=col>&lt;chr&gt;</th><th scope=col>&lt;dbl&gt;</th><th scope=col>&lt;dbl&gt;</th></tr>\n",
       "</thead>\n",
       "<tbody>\n",
       "\t<tr><th scope=row>1</th><td>Monday   </td><td>70</td><td>5.0</td></tr>\n",
       "\t<tr><th scope=row>2</th><td>Tuesday  </td><td>62</td><td>0.1</td></tr>\n",
       "\t<tr><th scope=row>3</th><td>Wednesday</td><td>75</td><td>0.0</td></tr>\n",
       "\t<tr><th scope=row>4</th><td>Monday   </td><td>50</td><td>0.5</td></tr>\n",
       "</tbody>\n",
       "</table>\n"
      ],
      "text/latex": [
       "A data.frame: 4 × 3\n",
       "\\begin{tabular}{r|lll}\n",
       "  & day\\_of\\_week & temp & rain\\\\\n",
       "  & <chr> & <dbl> & <dbl>\\\\\n",
       "\\hline\n",
       "\t1 & Monday    & 70 & 5.0\\\\\n",
       "\t2 & Tuesday   & 62 & 0.1\\\\\n",
       "\t3 & Wednesday & 75 & 0.0\\\\\n",
       "\t4 & Monday    & 50 & 0.5\\\\\n",
       "\\end{tabular}\n"
      ],
      "text/markdown": [
       "\n",
       "A data.frame: 4 × 3\n",
       "\n",
       "| <!--/--> | day_of_week &lt;chr&gt; | temp &lt;dbl&gt; | rain &lt;dbl&gt; |\n",
       "|---|---|---|---|\n",
       "| 1 | Monday    | 70 | 5.0 |\n",
       "| 2 | Tuesday   | 62 | 0.1 |\n",
       "| 3 | Wednesday | 75 | 0.0 |\n",
       "| 4 | Monday    | 50 | 0.5 |\n",
       "\n"
      ],
      "text/plain": [
       "  day_of_week temp rain\n",
       "1 Monday      70   5.0 \n",
       "2 Tuesday     62   0.1 \n",
       "3 Wednesday   75   0.0 \n",
       "4 Monday      50   0.5 "
      ]
     },
     "metadata": {},
     "output_type": "display_data"
    }
   ],
   "source": [
    "weather_data <- data.frame(day_of_week = c(\"Monday\",\"Tuesday\",\"Wednesday\",\"Monday\"), \n",
    "                           temp = c(70,62,75,50), rain = c(5,0.1,0.0,0.5))\n",
    "head(weather_data)"
   ]
  },
  {
   "cell_type": "markdown",
   "metadata": {},
   "source": [
    "The `dim()`, `nrow()`, and `ncol()` functions return the dimensions, number of rows, and number of columns of a data frame, respectively. "
   ]
  },
  {
   "cell_type": "code",
   "execution_count": 43,
   "metadata": {},
   "outputs": [
    {
     "data": {
      "text/html": [
       "<style>\n",
       ".list-inline {list-style: none; margin:0; padding: 0}\n",
       ".list-inline>li {display: inline-block}\n",
       ".list-inline>li:not(:last-child)::after {content: \"\\00b7\"; padding: 0 .5ex}\n",
       "</style>\n",
       "<ol class=list-inline><li>4</li><li>3</li></ol>\n"
      ],
      "text/latex": [
       "\\begin{enumerate*}\n",
       "\\item 4\n",
       "\\item 3\n",
       "\\end{enumerate*}\n"
      ],
      "text/markdown": [
       "1. 4\n",
       "2. 3\n",
       "\n",
       "\n"
      ],
      "text/plain": [
       "[1] 4 3"
      ]
     },
     "metadata": {},
     "output_type": "display_data"
    },
    {
     "data": {
      "text/html": [
       "4"
      ],
      "text/latex": [
       "4"
      ],
      "text/markdown": [
       "4"
      ],
      "text/plain": [
       "[1] 4"
      ]
     },
     "metadata": {},
     "output_type": "display_data"
    },
    {
     "data": {
      "text/html": [
       "3"
      ],
      "text/latex": [
       "3"
      ],
      "text/markdown": [
       "3"
      ],
      "text/plain": [
       "[1] 3"
      ]
     },
     "metadata": {},
     "output_type": "display_data"
    }
   ],
   "source": [
    "dim(weather_data)\n",
    "nrow(weather_data)\n",
    "ncol(weather_data)"
   ]
  },
  {
   "cell_type": "markdown",
   "metadata": {},
   "source": [
    "The column names can be found (or assigned) using the `colnames()` or `names()` function. These were specified when I created the data. On the other hand, the row names are currently the indices. "
   ]
  },
  {
   "cell_type": "code",
   "execution_count": 44,
   "metadata": {},
   "outputs": [
    {
     "data": {
      "text/html": [
       "<style>\n",
       ".list-inline {list-style: none; margin:0; padding: 0}\n",
       ".list-inline>li {display: inline-block}\n",
       ".list-inline>li:not(:last-child)::after {content: \"\\00b7\"; padding: 0 .5ex}\n",
       "</style>\n",
       "<ol class=list-inline><li>'day_of_week'</li><li>'temp'</li><li>'rain'</li></ol>\n"
      ],
      "text/latex": [
       "\\begin{enumerate*}\n",
       "\\item 'day\\_of\\_week'\n",
       "\\item 'temp'\n",
       "\\item 'rain'\n",
       "\\end{enumerate*}\n"
      ],
      "text/markdown": [
       "1. 'day_of_week'\n",
       "2. 'temp'\n",
       "3. 'rain'\n",
       "\n",
       "\n"
      ],
      "text/plain": [
       "[1] \"day_of_week\" \"temp\"        \"rain\"       "
      ]
     },
     "metadata": {},
     "output_type": "display_data"
    },
    {
     "data": {
      "text/html": [
       "<style>\n",
       ".list-inline {list-style: none; margin:0; padding: 0}\n",
       ".list-inline>li {display: inline-block}\n",
       ".list-inline>li:not(:last-child)::after {content: \"\\00b7\"; padding: 0 .5ex}\n",
       "</style>\n",
       "<ol class=list-inline><li>'1'</li><li>'2'</li><li>'3'</li><li>'4'</li></ol>\n"
      ],
      "text/latex": [
       "\\begin{enumerate*}\n",
       "\\item '1'\n",
       "\\item '2'\n",
       "\\item '3'\n",
       "\\item '4'\n",
       "\\end{enumerate*}\n"
      ],
      "text/markdown": [
       "1. '1'\n",
       "2. '2'\n",
       "3. '3'\n",
       "4. '4'\n",
       "\n",
       "\n"
      ],
      "text/plain": [
       "[1] \"1\" \"2\" \"3\" \"4\""
      ]
     },
     "metadata": {},
     "output_type": "display_data"
    },
    {
     "data": {
      "text/html": [
       "<style>\n",
       ".list-inline {list-style: none; margin:0; padding: 0}\n",
       ".list-inline>li {display: inline-block}\n",
       ".list-inline>li:not(:last-child)::after {content: \"\\00b7\"; padding: 0 .5ex}\n",
       "</style>\n",
       "<ol class=list-inline><li>'day_of_week'</li><li>'temp'</li><li>'rain'</li></ol>\n"
      ],
      "text/latex": [
       "\\begin{enumerate*}\n",
       "\\item 'day\\_of\\_week'\n",
       "\\item 'temp'\n",
       "\\item 'rain'\n",
       "\\end{enumerate*}\n"
      ],
      "text/markdown": [
       "1. 'day_of_week'\n",
       "2. 'temp'\n",
       "3. 'rain'\n",
       "\n",
       "\n"
      ],
      "text/plain": [
       "[1] \"day_of_week\" \"temp\"        \"rain\"       "
      ]
     },
     "metadata": {},
     "output_type": "display_data"
    }
   ],
   "source": [
    "colnames(weather_data)\n",
    "rownames(weather_data)\n",
    "names(weather_data)"
   ]
  },
  {
   "cell_type": "markdown",
   "metadata": {},
   "source": [
    "We update the row names to be more informative as with a matrix using the `rownames()` function."
   ]
  },
  {
   "cell_type": "code",
   "execution_count": 45,
   "metadata": {},
   "outputs": [
    {
     "data": {
      "text/html": [
       "<table class=\"dataframe\">\n",
       "<caption>A data.frame: 4 × 3</caption>\n",
       "<thead>\n",
       "\t<tr><th></th><th scope=col>day_of_week</th><th scope=col>temp</th><th scope=col>rain</th></tr>\n",
       "\t<tr><th></th><th scope=col>&lt;chr&gt;</th><th scope=col>&lt;dbl&gt;</th><th scope=col>&lt;dbl&gt;</th></tr>\n",
       "</thead>\n",
       "<tbody>\n",
       "\t<tr><th scope=row>6/1</th><td>Monday   </td><td>70</td><td>5.0</td></tr>\n",
       "\t<tr><th scope=row>6/2</th><td>Tuesday  </td><td>62</td><td>0.1</td></tr>\n",
       "\t<tr><th scope=row>6/3</th><td>Wednesday</td><td>75</td><td>0.0</td></tr>\n",
       "\t<tr><th scope=row>6/8</th><td>Monday   </td><td>50</td><td>0.5</td></tr>\n",
       "</tbody>\n",
       "</table>\n"
      ],
      "text/latex": [
       "A data.frame: 4 × 3\n",
       "\\begin{tabular}{r|lll}\n",
       "  & day\\_of\\_week & temp & rain\\\\\n",
       "  & <chr> & <dbl> & <dbl>\\\\\n",
       "\\hline\n",
       "\t6/1 & Monday    & 70 & 5.0\\\\\n",
       "\t6/2 & Tuesday   & 62 & 0.1\\\\\n",
       "\t6/3 & Wednesday & 75 & 0.0\\\\\n",
       "\t6/8 & Monday    & 50 & 0.5\\\\\n",
       "\\end{tabular}\n"
      ],
      "text/markdown": [
       "\n",
       "A data.frame: 4 × 3\n",
       "\n",
       "| <!--/--> | day_of_week &lt;chr&gt; | temp &lt;dbl&gt; | rain &lt;dbl&gt; |\n",
       "|---|---|---|---|\n",
       "| 6/1 | Monday    | 70 | 5.0 |\n",
       "| 6/2 | Tuesday   | 62 | 0.1 |\n",
       "| 6/3 | Wednesday | 75 | 0.0 |\n",
       "| 6/8 | Monday    | 50 | 0.5 |\n",
       "\n"
      ],
      "text/plain": [
       "    day_of_week temp rain\n",
       "6/1 Monday      70   5.0 \n",
       "6/2 Tuesday     62   0.1 \n",
       "6/3 Wednesday   75   0.0 \n",
       "6/8 Monday      50   0.5 "
      ]
     },
     "metadata": {},
     "output_type": "display_data"
    }
   ],
   "source": [
    "rownames(weather_data) <- c(\"6/1\", \"6/2\", \"6/3\", \"6/8\")\n",
    "head(weather_data)"
   ]
  },
  {
   "cell_type": "markdown",
   "metadata": {},
   "source": [
    "### Indexing a Data Frame\n",
    "\n",
    "We can select elements of the data frame using its indices in the same way as we did with matrices. Below, we access a single value and then a subset of our data frame. The subset returned is itself a data frame. Note that the second line below returns a data frame. "
   ]
  },
  {
   "cell_type": "code",
   "execution_count": 46,
   "metadata": {},
   "outputs": [
    {
     "data": {
      "text/html": [
       "70"
      ],
      "text/latex": [
       "70"
      ],
      "text/markdown": [
       "70"
      ],
      "text/plain": [
       "[1] 70"
      ]
     },
     "metadata": {},
     "output_type": "display_data"
    },
    {
     "data": {
      "text/html": [
       "<table class=\"dataframe\">\n",
       "<caption>A data.frame: 1 × 2</caption>\n",
       "<thead>\n",
       "\t<tr><th></th><th scope=col>day_of_week</th><th scope=col>temp</th></tr>\n",
       "\t<tr><th></th><th scope=col>&lt;chr&gt;</th><th scope=col>&lt;dbl&gt;</th></tr>\n",
       "</thead>\n",
       "<tbody>\n",
       "\t<tr><th scope=row>6/1</th><td>Monday</td><td>70</td></tr>\n",
       "</tbody>\n",
       "</table>\n"
      ],
      "text/latex": [
       "A data.frame: 1 × 2\n",
       "\\begin{tabular}{r|ll}\n",
       "  & day\\_of\\_week & temp\\\\\n",
       "  & <chr> & <dbl>\\\\\n",
       "\\hline\n",
       "\t6/1 & Monday & 70\\\\\n",
       "\\end{tabular}\n"
      ],
      "text/markdown": [
       "\n",
       "A data.frame: 1 × 2\n",
       "\n",
       "| <!--/--> | day_of_week &lt;chr&gt; | temp &lt;dbl&gt; |\n",
       "|---|---|---|\n",
       "| 6/1 | Monday | 70 |\n",
       "\n"
      ],
      "text/plain": [
       "    day_of_week temp\n",
       "6/1 Monday      70  "
      ]
     },
     "metadata": {},
     "output_type": "display_data"
    }
   ],
   "source": [
    "weather_data[1,2]\n",
    "weather_data[1,c(\"day_of_week\",\"temp\")]"
   ]
  },
  {
   "cell_type": "markdown",
   "metadata": {},
   "source": [
    "Another useful way to access the columns of a data frame is by using the $ accessor and the column name. "
   ]
  },
  {
   "cell_type": "code",
   "execution_count": 47,
   "metadata": {},
   "outputs": [
    {
     "data": {
      "text/html": [
       "<style>\n",
       ".list-inline {list-style: none; margin:0; padding: 0}\n",
       ".list-inline>li {display: inline-block}\n",
       ".list-inline>li:not(:last-child)::after {content: \"\\00b7\"; padding: 0 .5ex}\n",
       "</style>\n",
       "<ol class=list-inline><li>'Monday'</li><li>'Tuesday'</li><li>'Wednesday'</li><li>'Monday'</li></ol>\n"
      ],
      "text/latex": [
       "\\begin{enumerate*}\n",
       "\\item 'Monday'\n",
       "\\item 'Tuesday'\n",
       "\\item 'Wednesday'\n",
       "\\item 'Monday'\n",
       "\\end{enumerate*}\n"
      ],
      "text/markdown": [
       "1. 'Monday'\n",
       "2. 'Tuesday'\n",
       "3. 'Wednesday'\n",
       "4. 'Monday'\n",
       "\n",
       "\n"
      ],
      "text/plain": [
       "[1] \"Monday\"    \"Tuesday\"   \"Wednesday\" \"Monday\"   "
      ]
     },
     "metadata": {},
     "output_type": "display_data"
    },
    {
     "data": {
      "text/html": [
       "<style>\n",
       ".list-inline {list-style: none; margin:0; padding: 0}\n",
       ".list-inline>li {display: inline-block}\n",
       ".list-inline>li:not(:last-child)::after {content: \"\\00b7\"; padding: 0 .5ex}\n",
       "</style>\n",
       "<ol class=list-inline><li>70</li><li>62</li><li>75</li><li>50</li></ol>\n"
      ],
      "text/latex": [
       "\\begin{enumerate*}\n",
       "\\item 70\n",
       "\\item 62\n",
       "\\item 75\n",
       "\\item 50\n",
       "\\end{enumerate*}\n"
      ],
      "text/markdown": [
       "1. 70\n",
       "2. 62\n",
       "3. 75\n",
       "4. 50\n",
       "\n",
       "\n"
      ],
      "text/plain": [
       "[1] 70 62 75 50"
      ]
     },
     "metadata": {},
     "output_type": "display_data"
    }
   ],
   "source": [
    "weather_data$day_of_week\n",
    "weather_data$temp"
   ]
  },
  {
   "cell_type": "markdown",
   "metadata": {},
   "source": [
    "The column `day_of_week` is a categorical column, but it can only take on a limited number of values. For this kind of column, it is often useful to convert that column to a factor as we did before. "
   ]
  },
  {
   "cell_type": "code",
   "execution_count": 48,
   "metadata": {},
   "outputs": [
    {
     "data": {
      "text/html": [
       "<style>\n",
       ".list-inline {list-style: none; margin:0; padding: 0}\n",
       ".list-inline>li {display: inline-block}\n",
       ".list-inline>li:not(:last-child)::after {content: \"\\00b7\"; padding: 0 .5ex}\n",
       "</style>\n",
       "<ol class=list-inline><li>'Monday'</li><li>'Tuesday'</li><li>'Wednesday'</li></ol>\n"
      ],
      "text/latex": [
       "\\begin{enumerate*}\n",
       "\\item 'Monday'\n",
       "\\item 'Tuesday'\n",
       "\\item 'Wednesday'\n",
       "\\end{enumerate*}\n"
      ],
      "text/markdown": [
       "1. 'Monday'\n",
       "2. 'Tuesday'\n",
       "3. 'Wednesday'\n",
       "\n",
       "\n"
      ],
      "text/plain": [
       "[1] \"Monday\"    \"Tuesday\"   \"Wednesday\""
      ]
     },
     "metadata": {},
     "output_type": "display_data"
    }
   ],
   "source": [
    "weather_data$day_of_week <- factor(weather_data$day_of_week)\n",
    "levels(weather_data$day_of_week)"
   ]
  },
  {
   "cell_type": "markdown",
   "metadata": {},
   "source": [
    "### Editing a Data Frame\n",
    "\n",
    "As with matrices, we can change values in a data frame by indexing those entries. "
   ]
  },
  {
   "cell_type": "code",
   "execution_count": 49,
   "metadata": {},
   "outputs": [
    {
     "data": {
      "text/html": [
       "<table class=\"dataframe\">\n",
       "<caption>A data.frame: 4 × 3</caption>\n",
       "<thead>\n",
       "\t<tr><th></th><th scope=col>day_of_week</th><th scope=col>temp</th><th scope=col>rain</th></tr>\n",
       "\t<tr><th></th><th scope=col>&lt;fct&gt;</th><th scope=col>&lt;dbl&gt;</th><th scope=col>&lt;dbl&gt;</th></tr>\n",
       "</thead>\n",
       "<tbody>\n",
       "\t<tr><th scope=row>6/1</th><td>Monday   </td><td>70</td><td>2.2</td></tr>\n",
       "\t<tr><th scope=row>6/2</th><td>Tuesday  </td><td>62</td><td>0.1</td></tr>\n",
       "\t<tr><th scope=row>6/3</th><td>Wednesday</td><td>75</td><td>0.0</td></tr>\n",
       "\t<tr><th scope=row>6/8</th><td>Monday   </td><td>50</td><td>0.5</td></tr>\n",
       "</tbody>\n",
       "</table>\n"
      ],
      "text/latex": [
       "A data.frame: 4 × 3\n",
       "\\begin{tabular}{r|lll}\n",
       "  & day\\_of\\_week & temp & rain\\\\\n",
       "  & <fct> & <dbl> & <dbl>\\\\\n",
       "\\hline\n",
       "\t6/1 & Monday    & 70 & 2.2\\\\\n",
       "\t6/2 & Tuesday   & 62 & 0.1\\\\\n",
       "\t6/3 & Wednesday & 75 & 0.0\\\\\n",
       "\t6/8 & Monday    & 50 & 0.5\\\\\n",
       "\\end{tabular}\n"
      ],
      "text/markdown": [
       "\n",
       "A data.frame: 4 × 3\n",
       "\n",
       "| <!--/--> | day_of_week &lt;fct&gt; | temp &lt;dbl&gt; | rain &lt;dbl&gt; |\n",
       "|---|---|---|---|\n",
       "| 6/1 | Monday    | 70 | 2.2 |\n",
       "| 6/2 | Tuesday   | 62 | 0.1 |\n",
       "| 6/3 | Wednesday | 75 | 0.0 |\n",
       "| 6/8 | Monday    | 50 | 0.5 |\n",
       "\n"
      ],
      "text/plain": [
       "    day_of_week temp rain\n",
       "6/1 Monday      70   2.2 \n",
       "6/2 Tuesday     62   0.1 \n",
       "6/3 Wednesday   75   0.0 \n",
       "6/8 Monday      50   0.5 "
      ]
     },
     "metadata": {},
     "output_type": "display_data"
    }
   ],
   "source": [
    "weather_data[1, \"rain\"] <- 2.2\n",
    "weather_data"
   ]
  },
  {
   "cell_type": "markdown",
   "metadata": {},
   "source": [
    "The `rbind()` functions and `cbind()` functions also work for data frames in the same way as for matrices. However, another way to add a column is to directly use the $ accessor. Below, we add a categorical column called `aq_warning`, indicating whether there was an air quality warning that day."
   ]
  },
  {
   "cell_type": "code",
   "execution_count": 50,
   "metadata": {},
   "outputs": [
    {
     "data": {
      "text/html": [
       "<table class=\"dataframe\">\n",
       "<caption>A data.frame: 4 × 4</caption>\n",
       "<thead>\n",
       "\t<tr><th></th><th scope=col>day_of_week</th><th scope=col>temp</th><th scope=col>rain</th><th scope=col>aq_warning</th></tr>\n",
       "\t<tr><th></th><th scope=col>&lt;fct&gt;</th><th scope=col>&lt;dbl&gt;</th><th scope=col>&lt;dbl&gt;</th><th scope=col>&lt;fct&gt;</th></tr>\n",
       "</thead>\n",
       "<tbody>\n",
       "\t<tr><th scope=row>6/1</th><td>Monday   </td><td>70</td><td>2.2</td><td>1</td></tr>\n",
       "\t<tr><th scope=row>6/2</th><td>Tuesday  </td><td>62</td><td>0.1</td><td>0</td></tr>\n",
       "\t<tr><th scope=row>6/3</th><td>Wednesday</td><td>75</td><td>0.0</td><td>0</td></tr>\n",
       "\t<tr><th scope=row>6/8</th><td>Monday   </td><td>50</td><td>0.5</td><td>0</td></tr>\n",
       "</tbody>\n",
       "</table>\n"
      ],
      "text/latex": [
       "A data.frame: 4 × 4\n",
       "\\begin{tabular}{r|llll}\n",
       "  & day\\_of\\_week & temp & rain & aq\\_warning\\\\\n",
       "  & <fct> & <dbl> & <dbl> & <fct>\\\\\n",
       "\\hline\n",
       "\t6/1 & Monday    & 70 & 2.2 & 1\\\\\n",
       "\t6/2 & Tuesday   & 62 & 0.1 & 0\\\\\n",
       "\t6/3 & Wednesday & 75 & 0.0 & 0\\\\\n",
       "\t6/8 & Monday    & 50 & 0.5 & 0\\\\\n",
       "\\end{tabular}\n"
      ],
      "text/markdown": [
       "\n",
       "A data.frame: 4 × 4\n",
       "\n",
       "| <!--/--> | day_of_week &lt;fct&gt; | temp &lt;dbl&gt; | rain &lt;dbl&gt; | aq_warning &lt;fct&gt; |\n",
       "|---|---|---|---|---|\n",
       "| 6/1 | Monday    | 70 | 2.2 | 1 |\n",
       "| 6/2 | Tuesday   | 62 | 0.1 | 0 |\n",
       "| 6/3 | Wednesday | 75 | 0.0 | 0 |\n",
       "| 6/8 | Monday    | 50 | 0.5 | 0 |\n",
       "\n"
      ],
      "text/plain": [
       "    day_of_week temp rain aq_warning\n",
       "6/1 Monday      70   2.2  1         \n",
       "6/2 Tuesday     62   0.1  0         \n",
       "6/3 Wednesday   75   0.0  0         \n",
       "6/8 Monday      50   0.5  0         "
      ]
     },
     "metadata": {},
     "output_type": "display_data"
    }
   ],
   "source": [
    "weather_data$aq_warning <- as.factor(c(1, 0, 0, 0))\n",
    "weather_data"
   ]
  },
  {
   "cell_type": "markdown",
   "metadata": {},
   "source": [
    "### Practice Question\n",
    "Add a column to `weather_data` called `air_quality_index` using the `rep()` function so that all values are `NA` (the missing value in R). Then, index the second value of this column and set the value to be 57. The result should look like this:\n",
    "\n",
    "<img src=\"images/2-practicequestionanswer.png\" alt= “” width=\"300pt\" align=\"center\">\n"
   ]
  },
  {
   "cell_type": "code",
   "execution_count": 51,
   "metadata": {},
   "outputs": [],
   "source": [
    "# Insert your solution here:"
   ]
  },
  {
   "cell_type": "markdown",
   "metadata": {},
   "source": [
    "## Lists\n",
    "\n",
    "A data frame is actually a special kind of another data structure called a **list**, which is a collection of objects under the same name. These objects can be vectors, matrices, data frames, or even other lists! There does not have to be any relation in size, type, or other attribute between different members of the list. Below, we create an example list using the `list()` function, which takes in a series of objects. What are the types of each element of the list? We can access each element using the index, but here we need to use double brackets. "
   ]
  },
  {
   "cell_type": "code",
   "execution_count": 52,
   "metadata": {},
   "outputs": [
    {
     "name": "stdout",
     "output_type": "stream",
     "text": [
      "[[1]]\n",
      "[1] \"John\"\n",
      "\n",
      "[[2]]\n",
      "[1] \"ibuprofen\" \"metformin\"\n",
      "\n",
      "[[3]]\n",
      "[1] 136 142 159\n",
      "\n"
     ]
    },
    {
     "data": {
      "text/html": [
       "<style>\n",
       ".list-inline {list-style: none; margin:0; padding: 0}\n",
       ".list-inline>li {display: inline-block}\n",
       ".list-inline>li:not(:last-child)::after {content: \"\\00b7\"; padding: 0 .5ex}\n",
       "</style>\n",
       "<ol class=list-inline><li>'ibuprofen'</li><li>'metformin'</li></ol>\n"
      ],
      "text/latex": [
       "\\begin{enumerate*}\n",
       "\\item 'ibuprofen'\n",
       "\\item 'metformin'\n",
       "\\end{enumerate*}\n"
      ],
      "text/markdown": [
       "1. 'ibuprofen'\n",
       "2. 'metformin'\n",
       "\n",
       "\n"
      ],
      "text/plain": [
       "[1] \"ibuprofen\" \"metformin\""
      ]
     },
     "metadata": {},
     "output_type": "display_data"
    }
   ],
   "source": [
    "ex_list <- list(\"John\", c(\"ibuprofen\", \"metformin\"), c(136, 142, 159))\n",
    "print(ex_list)\n",
    "ex_list[[2]]"
   ]
  },
  {
   "cell_type": "markdown",
   "metadata": {},
   "source": [
    "More often, however, it is useful to name the elements of the list for easier access. Let's create this list again but this time give names to each object."
   ]
  },
  {
   "cell_type": "code",
   "execution_count": 53,
   "metadata": {},
   "outputs": [
    {
     "name": "stdout",
     "output_type": "stream",
     "text": [
      "$name\n",
      "[1] \"John\"\n",
      "\n",
      "$medications\n",
      "[1] \"ibuprofen\" \"metformin\"\n",
      "\n",
      "$past_weights\n",
      "[1] 136 142 159\n",
      "\n"
     ]
    },
    {
     "data": {
      "text/html": [
       "<style>\n",
       ".list-inline {list-style: none; margin:0; padding: 0}\n",
       ".list-inline>li {display: inline-block}\n",
       ".list-inline>li:not(:last-child)::after {content: \"\\00b7\"; padding: 0 .5ex}\n",
       "</style>\n",
       "<ol class=list-inline><li>'ibuprofen'</li><li>'metformin'</li></ol>\n"
      ],
      "text/latex": [
       "\\begin{enumerate*}\n",
       "\\item 'ibuprofen'\n",
       "\\item 'metformin'\n",
       "\\end{enumerate*}\n"
      ],
      "text/markdown": [
       "1. 'ibuprofen'\n",
       "2. 'metformin'\n",
       "\n",
       "\n"
      ],
      "text/plain": [
       "[1] \"ibuprofen\" \"metformin\""
      ]
     },
     "metadata": {},
     "output_type": "display_data"
    }
   ],
   "source": [
    "ex_list <- list(name=\"John\", medications = c(\"ibuprofen\", \"metformin\"), \n",
    "                past_weights = c(136, 142, 159))\n",
    "print(ex_list)\n",
    "ex_list$medications"
   ]
  },
  {
   "cell_type": "markdown",
   "metadata": {},
   "source": [
    "To edit a list, we can use indexing to access different objects in the list and then assign them to new values. Additionally, we can add objects to the list using the $ accessor."
   ]
  },
  {
   "cell_type": "code",
   "execution_count": 54,
   "metadata": {},
   "outputs": [
    {
     "data": {
      "text/html": [
       "<dl>\n",
       "\t<dt>$name</dt>\n",
       "\t\t<dd>'John'</dd>\n",
       "\t<dt>$medications</dt>\n",
       "\t\t<dd><style>\n",
       ".list-inline {list-style: none; margin:0; padding: 0}\n",
       ".list-inline>li {display: inline-block}\n",
       ".list-inline>li:not(:last-child)::after {content: \"\\00b7\"; padding: 0 .5ex}\n",
       "</style>\n",
       "<ol class=list-inline><li>'ibuprofen'</li><li>'metformin'</li></ol>\n",
       "</dd>\n",
       "\t<dt>$past_weights</dt>\n",
       "\t\t<dd><style>\n",
       ".list-inline {list-style: none; margin:0; padding: 0}\n",
       ".list-inline>li {display: inline-block}\n",
       ".list-inline>li:not(:last-child)::after {content: \"\\00b7\"; padding: 0 .5ex}\n",
       "</style>\n",
       "<ol class=list-inline><li>136</li><li>142</li><li>159</li></ol>\n",
       "</dd>\n",
       "\t<dt>$supplements</dt>\n",
       "\t\t<dd><style>\n",
       ".list-inline {list-style: none; margin:0; padding: 0}\n",
       ".list-inline>li {display: inline-block}\n",
       ".list-inline>li:not(:last-child)::after {content: \"\\00b7\"; padding: 0 .5ex}\n",
       "</style>\n",
       "<ol class=list-inline><li>'vitamin D'</li><li>'collagen'</li></ol>\n",
       "</dd>\n",
       "</dl>\n"
      ],
      "text/latex": [
       "\\begin{description}\n",
       "\\item[\\$name] 'John'\n",
       "\\item[\\$medications] \\begin{enumerate*}\n",
       "\\item 'ibuprofen'\n",
       "\\item 'metformin'\n",
       "\\end{enumerate*}\n",
       "\n",
       "\\item[\\$past\\_weights] \\begin{enumerate*}\n",
       "\\item 136\n",
       "\\item 142\n",
       "\\item 159\n",
       "\\end{enumerate*}\n",
       "\n",
       "\\item[\\$supplements] \\begin{enumerate*}\n",
       "\\item 'vitamin D'\n",
       "\\item 'collagen'\n",
       "\\end{enumerate*}\n",
       "\n",
       "\\end{description}\n"
      ],
      "text/markdown": [
       "$name\n",
       ":   'John'\n",
       "$medications\n",
       ":   1. 'ibuprofen'\n",
       "2. 'metformin'\n",
       "\n",
       "\n",
       "\n",
       "$past_weights\n",
       ":   1. 136\n",
       "2. 142\n",
       "3. 159\n",
       "\n",
       "\n",
       "\n",
       "$supplements\n",
       ":   1. 'vitamin D'\n",
       "2. 'collagen'\n",
       "\n",
       "\n",
       "\n",
       "\n",
       "\n"
      ],
      "text/plain": [
       "$name\n",
       "[1] \"John\"\n",
       "\n",
       "$medications\n",
       "[1] \"ibuprofen\" \"metformin\"\n",
       "\n",
       "$past_weights\n",
       "[1] 136 142 159\n",
       "\n",
       "$supplements\n",
       "[1] \"vitamin D\" \"collagen\" \n"
      ]
     },
     "metadata": {},
     "output_type": "display_data"
    }
   ],
   "source": [
    "ex_list$supplements <- c(\"vitamin D\", \"biotin\")\n",
    "ex_list$supplements[2] <- \"collagen\"\n",
    "ex_list"
   ]
  },
  {
   "cell_type": "markdown",
   "metadata": {},
   "source": [
    "## Recap Video\n",
    "\n",
    "\n",
    "<div class=\"video-container\">\n",
    "    <iframe width=\"700\" height=\"500\" src=\"https://www.youtube.com/embed/YKCQ6uhg0fM\" title=\"YouTube video player\" frameborder=\"0\" allow=\"accelerometer; autoplay; clipboard-write; encrypted-media; gyroscope; picture-in-picture; web-share\" allowfullscreen></iframe>\n",
    "</div>\n",
    "\n"
   ]
  },
  {
   "cell_type": "markdown",
   "metadata": {},
   "source": [
    "## Exercises"
   ]
  },
  {
   "cell_type": "markdown",
   "metadata": {},
   "source": [
    "1. Recreate the following data frame in R, where `temperature` and `co2` represent the average temperature in Fahrenheit and the average $\\text{CO}_2$ concentrations in $\\text{mg}/\\text{m}^3$ for the month of January 2008, and name it `city_air_quality`. \n",
    "\n",
    "<img src=\"images/2-exercise1df.png\" alt= “” width=\"250pt\" align=\"center\">\n"
   ]
  },
  {
   "cell_type": "code",
   "execution_count": 55,
   "metadata": {},
   "outputs": [
    {
     "data": {
      "text/html": [
       "<table class=\"dataframe\">\n",
       "<caption>A data.frame: 7 × 4</caption>\n",
       "<thead>\n",
       "\t<tr><th scope=col>city</th><th scope=col>country</th><th scope=col>temperature</th><th scope=col>co2</th></tr>\n",
       "\t<tr><th scope=col>&lt;chr&gt;</th><th scope=col>&lt;chr&gt;</th><th scope=col>&lt;dbl&gt;</th><th scope=col>&lt;dbl&gt;</th></tr>\n",
       "</thead>\n",
       "<tbody>\n",
       "\t<tr><td>Beijing      </td><td>China         </td><td>35</td><td>2.6</td></tr>\n",
       "\t<tr><td>Shanghai     </td><td>China         </td><td>88</td><td>2.2</td></tr>\n",
       "\t<tr><td>Paris        </td><td>France        </td><td>42</td><td>1.6</td></tr>\n",
       "\t<tr><td>Rome         </td><td>Italy         </td><td>84</td><td>1.2</td></tr>\n",
       "\t<tr><td>London       </td><td>United Kingdom</td><td>81</td><td>0.9</td></tr>\n",
       "\t<tr><td>San Francisco</td><td>United States </td><td>55</td><td>0.7</td></tr>\n",
       "\t<tr><td>Toronto      </td><td>Canada        </td><td>30</td><td>1.7</td></tr>\n",
       "</tbody>\n",
       "</table>\n"
      ],
      "text/latex": [
       "A data.frame: 7 × 4\n",
       "\\begin{tabular}{llll}\n",
       " city & country & temperature & co2\\\\\n",
       " <chr> & <chr> & <dbl> & <dbl>\\\\\n",
       "\\hline\n",
       "\t Beijing       & China          & 35 & 2.6\\\\\n",
       "\t Shanghai      & China          & 88 & 2.2\\\\\n",
       "\t Paris         & France         & 42 & 1.6\\\\\n",
       "\t Rome          & Italy          & 84 & 1.2\\\\\n",
       "\t London        & United Kingdom & 81 & 0.9\\\\\n",
       "\t San Francisco & United States  & 55 & 0.7\\\\\n",
       "\t Toronto       & Canada         & 30 & 1.7\\\\\n",
       "\\end{tabular}\n"
      ],
      "text/markdown": [
       "\n",
       "A data.frame: 7 × 4\n",
       "\n",
       "| city &lt;chr&gt; | country &lt;chr&gt; | temperature &lt;dbl&gt; | co2 &lt;dbl&gt; |\n",
       "|---|---|---|---|\n",
       "| Beijing       | China          | 35 | 2.6 |\n",
       "| Shanghai      | China          | 88 | 2.2 |\n",
       "| Paris         | France         | 42 | 1.6 |\n",
       "| Rome          | Italy          | 84 | 1.2 |\n",
       "| London        | United Kingdom | 81 | 0.9 |\n",
       "| San Francisco | United States  | 55 | 0.7 |\n",
       "| Toronto       | Canada         | 30 | 1.7 |\n",
       "\n"
      ],
      "text/plain": [
       "  city          country        temperature co2\n",
       "1 Beijing       China          35          2.6\n",
       "2 Shanghai      China          88          2.2\n",
       "3 Paris         France         42          1.6\n",
       "4 Rome          Italy          84          1.2\n",
       "5 London        United Kingdom 81          0.9\n",
       "6 San Francisco United States  55          0.7\n",
       "7 Toronto       Canada         30          1.7"
      ]
     },
     "metadata": {},
     "output_type": "display_data"
    }
   ],
   "source": [
    "city_air_quality <- data.frame(city = c(\"Beijing\", \"Shanghai\", \"Paris\", \"Rome\", \n",
    "          \"London\", \"San Francisco\", \"Toronto\"), \n",
    "                               country = c(\"China\", \"China\", \"France\", \"Italy\", \n",
    "          \"United Kingdom\", \"United States\", \"Canada\"), \n",
    "                               temperature = c(35, 88, 42, 84, 81, 55, 30), \n",
    "                               co2 = c(2.6, 2.2, 1.6, 1.2, 0.9, 0.7, 1.7))\n",
    "city_air_quality "
   ]
  },
  {
   "cell_type": "markdown",
   "metadata": {},
   "source": [
    "2. Create a character vector named `precipitation` with entries `Yes` or `No` indicating whether or not there was more precipitation than average in January 2008 in these cities (you can make this information up yourself). Then, append this vector to the `city_air_quality` data frame as a new column."
   ]
  },
  {
   "cell_type": "code",
   "execution_count": 56,
   "metadata": {},
   "outputs": [],
   "source": [
    "precipitation <- c('Yes', 'No', 'No', 'Yes', 'Yes', 'Yes', 'No')\n",
    "city_air_quality$precipitation <- precipitation"
   ]
  },
  {
   "cell_type": "markdown",
   "metadata": {},
   "source": [
    "3. Convert the categorical column `precipitation` to a factor. Then, add the following row to the data frame `city_air_quality` using the `rbind()` function:\n",
    "\n",
    "<img src=\"images/2-exercise4newrow.png\" alt= “” width=\"250pt\" align=\"center\">\n"
   ]
  },
  {
   "cell_type": "code",
   "execution_count": 57,
   "metadata": {},
   "outputs": [
    {
     "data": {
      "text/html": [
       "<table class=\"dataframe\">\n",
       "<caption>A data.frame: 8 × 5</caption>\n",
       "<thead>\n",
       "\t<tr><th scope=col>city</th><th scope=col>country</th><th scope=col>temperature</th><th scope=col>co2</th><th scope=col>precipitation</th></tr>\n",
       "\t<tr><th scope=col>&lt;chr&gt;</th><th scope=col>&lt;chr&gt;</th><th scope=col>&lt;dbl&gt;</th><th scope=col>&lt;dbl&gt;</th><th scope=col>&lt;fct&gt;</th></tr>\n",
       "</thead>\n",
       "<tbody>\n",
       "\t<tr><td>Beijing      </td><td>China         </td><td>35</td><td>2.6</td><td>Yes</td></tr>\n",
       "\t<tr><td>Shanghai     </td><td>China         </td><td>88</td><td>2.2</td><td>No </td></tr>\n",
       "\t<tr><td>Paris        </td><td>France        </td><td>42</td><td>1.6</td><td>No </td></tr>\n",
       "\t<tr><td>Rome         </td><td>Italy         </td><td>84</td><td>1.2</td><td>Yes</td></tr>\n",
       "\t<tr><td>London       </td><td>United Kingdom</td><td>81</td><td>0.9</td><td>Yes</td></tr>\n",
       "\t<tr><td>San Francisco</td><td>United States </td><td>55</td><td>0.7</td><td>Yes</td></tr>\n",
       "\t<tr><td>Toronto      </td><td>Canada        </td><td>30</td><td>1.7</td><td>No </td></tr>\n",
       "\t<tr><td>Reykjavik    </td><td>Iceland       </td><td>56</td><td>1.3</td><td>No </td></tr>\n",
       "</tbody>\n",
       "</table>\n"
      ],
      "text/latex": [
       "A data.frame: 8 × 5\n",
       "\\begin{tabular}{lllll}\n",
       " city & country & temperature & co2 & precipitation\\\\\n",
       " <chr> & <chr> & <dbl> & <dbl> & <fct>\\\\\n",
       "\\hline\n",
       "\t Beijing       & China          & 35 & 2.6 & Yes\\\\\n",
       "\t Shanghai      & China          & 88 & 2.2 & No \\\\\n",
       "\t Paris         & France         & 42 & 1.6 & No \\\\\n",
       "\t Rome          & Italy          & 84 & 1.2 & Yes\\\\\n",
       "\t London        & United Kingdom & 81 & 0.9 & Yes\\\\\n",
       "\t San Francisco & United States  & 55 & 0.7 & Yes\\\\\n",
       "\t Toronto       & Canada         & 30 & 1.7 & No \\\\\n",
       "\t Reykjavik     & Iceland        & 56 & 1.3 & No \\\\\n",
       "\\end{tabular}\n"
      ],
      "text/markdown": [
       "\n",
       "A data.frame: 8 × 5\n",
       "\n",
       "| city &lt;chr&gt; | country &lt;chr&gt; | temperature &lt;dbl&gt; | co2 &lt;dbl&gt; | precipitation &lt;fct&gt; |\n",
       "|---|---|---|---|---|\n",
       "| Beijing       | China          | 35 | 2.6 | Yes |\n",
       "| Shanghai      | China          | 88 | 2.2 | No  |\n",
       "| Paris         | France         | 42 | 1.6 | No  |\n",
       "| Rome          | Italy          | 84 | 1.2 | Yes |\n",
       "| London        | United Kingdom | 81 | 0.9 | Yes |\n",
       "| San Francisco | United States  | 55 | 0.7 | Yes |\n",
       "| Toronto       | Canada         | 30 | 1.7 | No  |\n",
       "| Reykjavik     | Iceland        | 56 | 1.3 | No  |\n",
       "\n"
      ],
      "text/plain": [
       "  city          country        temperature co2 precipitation\n",
       "1 Beijing       China          35          2.6 Yes          \n",
       "2 Shanghai      China          88          2.2 No           \n",
       "3 Paris         France         42          1.6 No           \n",
       "4 Rome          Italy          84          1.2 Yes          \n",
       "5 London        United Kingdom 81          0.9 Yes          \n",
       "6 San Francisco United States  55          0.7 Yes          \n",
       "7 Toronto       Canada         30          1.7 No           \n",
       "8 Reykjavik     Iceland        56          1.3 No           "
      ]
     },
     "metadata": {},
     "output_type": "display_data"
    }
   ],
   "source": [
    "city_air_quality$precipitation <- as.factor(city_air_quality$precipitation)\n",
    "new_row <- data.frame(city = \"Reykjavik\", \n",
    "                      country = \"Iceland\", \n",
    "                      temperature = 56, \n",
    "                      co2 = 1.3,\n",
    "                      precipitation = \"No\")\n",
    "city_air_quality <- rbind(city_air_quality, new_row)\n",
    "city_air_quality"
   ]
  },
  {
   "cell_type": "markdown",
   "metadata": {},
   "source": [
    "4. Use single square brackets to access the precipitation and $\\text{CO}_2$ concentration entries for San Francisco and Paris in your data frame. Then, create a list `city_list` which contains two lists, one for San Francisco and one for Paris, where each inner list contains the city name, precipitation, and  $\\text{CO}_2$ concentration information for that city."
   ]
  },
  {
   "cell_type": "code",
   "execution_count": 58,
   "metadata": {},
   "outputs": [
    {
     "data": {
      "text/html": [
       "<table class=\"dataframe\">\n",
       "<caption>A data.frame: 2 × 2</caption>\n",
       "<thead>\n",
       "\t<tr><th></th><th scope=col>co2</th><th scope=col>precipitation</th></tr>\n",
       "\t<tr><th></th><th scope=col>&lt;dbl&gt;</th><th scope=col>&lt;fct&gt;</th></tr>\n",
       "</thead>\n",
       "<tbody>\n",
       "\t<tr><th scope=row>3</th><td>1.6</td><td>No </td></tr>\n",
       "\t<tr><th scope=row>6</th><td>0.7</td><td>Yes</td></tr>\n",
       "</tbody>\n",
       "</table>\n"
      ],
      "text/latex": [
       "A data.frame: 2 × 2\n",
       "\\begin{tabular}{r|ll}\n",
       "  & co2 & precipitation\\\\\n",
       "  & <dbl> & <fct>\\\\\n",
       "\\hline\n",
       "\t3 & 1.6 & No \\\\\n",
       "\t6 & 0.7 & Yes\\\\\n",
       "\\end{tabular}\n"
      ],
      "text/markdown": [
       "\n",
       "A data.frame: 2 × 2\n",
       "\n",
       "| <!--/--> | co2 &lt;dbl&gt; | precipitation &lt;fct&gt; |\n",
       "|---|---|---|\n",
       "| 3 | 1.6 | No  |\n",
       "| 6 | 0.7 | Yes |\n",
       "\n"
      ],
      "text/plain": [
       "  co2 precipitation\n",
       "3 1.6 No           \n",
       "6 0.7 Yes          "
      ]
     },
     "metadata": {},
     "output_type": "display_data"
    },
    {
     "data": {
      "text/html": [
       "<ol>\n",
       "\t<li><dl>\n",
       "\t<dt>$city</dt>\n",
       "\t\t<dd>'San Francisco'</dd>\n",
       "\t<dt>$precipitation</dt>\n",
       "\t\t<dd>'Yes'</dd>\n",
       "\t<dt>$co2</dt>\n",
       "\t\t<dd>0.7</dd>\n",
       "</dl>\n",
       "</li>\n",
       "\t<li><dl>\n",
       "\t<dt>$city</dt>\n",
       "\t\t<dd>'Paris'</dd>\n",
       "\t<dt>$precipitation</dt>\n",
       "\t\t<dd>'No'</dd>\n",
       "\t<dt>$co2</dt>\n",
       "\t\t<dd>1.6</dd>\n",
       "</dl>\n",
       "</li>\n",
       "</ol>\n"
      ],
      "text/latex": [
       "\\begin{enumerate}\n",
       "\\item \\begin{description}\n",
       "\\item[\\$city] 'San Francisco'\n",
       "\\item[\\$precipitation] 'Yes'\n",
       "\\item[\\$co2] 0.7\n",
       "\\end{description}\n",
       "\n",
       "\\item \\begin{description}\n",
       "\\item[\\$city] 'Paris'\n",
       "\\item[\\$precipitation] 'No'\n",
       "\\item[\\$co2] 1.6\n",
       "\\end{description}\n",
       "\n",
       "\\end{enumerate}\n"
      ],
      "text/markdown": [
       "1. $city\n",
       ":   'San Francisco'\n",
       "$precipitation\n",
       ":   'Yes'\n",
       "$co2\n",
       ":   0.7\n",
       "\n",
       "\n",
       "\n",
       "2. $city\n",
       ":   'Paris'\n",
       "$precipitation\n",
       ":   'No'\n",
       "$co2\n",
       ":   1.6\n",
       "\n",
       "\n",
       "\n",
       "\n",
       "\n"
      ],
      "text/plain": [
       "[[1]]\n",
       "[[1]]$city\n",
       "[1] \"San Francisco\"\n",
       "\n",
       "[[1]]$precipitation\n",
       "[1] \"Yes\"\n",
       "\n",
       "[[1]]$co2\n",
       "[1] 0.7\n",
       "\n",
       "\n",
       "[[2]]\n",
       "[[2]]$city\n",
       "[1] \"Paris\"\n",
       "\n",
       "[[2]]$precipitation\n",
       "[1] \"No\"\n",
       "\n",
       "[[2]]$co2\n",
       "[1] 1.6\n",
       "\n"
      ]
     },
     "metadata": {},
     "output_type": "display_data"
    }
   ],
   "source": [
    "city_air_quality[c(3,6), c(4, 5)]\n",
    "city_list <- list()\n",
    "city_list[[1]] = list(city = \"San Francisco\", precipitation = \"Yes\", \n",
    "                co2 = 0.7)\n",
    "city_list[[2]] = list(city = \"Paris\", precipitation = \"No\", \n",
    "                co2 = 1.6)\n",
    "city_list"
   ]
  }
 ],
 "metadata": {
  "kernelspec": {
   "display_name": "R",
   "language": "R",
   "name": "ir"
  },
  "language_info": {
   "codemirror_mode": "r",
   "file_extension": ".r",
   "mimetype": "text/x-r-source",
   "name": "R",
   "pygments_lexer": "r",
   "version": "4.3.1"
  }
 },
 "nbformat": 4,
 "nbformat_minor": 4
}