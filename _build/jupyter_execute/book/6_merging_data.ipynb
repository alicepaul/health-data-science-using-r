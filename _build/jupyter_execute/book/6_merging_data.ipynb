{
 "cells": [
  {
   "cell_type": "markdown",
   "id": "03718942",
   "metadata": {},
   "source": [
    "# 6. Merging and Reshaping Data"
   ]
  },
  {
   "cell_type": "markdown",
   "id": "0703eee2",
   "metadata": {},
   "source": [
    "In this chapter, we continue with some of the ways to manipulate data using the tidyverse packages. In particular, we will look at reshaping and merging data frames in order to get the data in the format we want. When reshaping data, we can convert our data between wide form (more columns, fewer rows) and long form (fewer columns, more rows). For example, we can use these data pivots to put our data into what is called *tidy form*. Additionally, we will look at combining information from multiple data frames into a single data frame. The key idea when merging data is to think about what the common information is between the data frames and which values we want to keep. \n",
    "\n",
    "For this chapter, we will use three data sets. The first data set is `covidcases`, which contains the weekly case and death counts by county in the United States for 2020, the second data set is `mobility`, which contains daily mobility estimates by state in 2020, and lastly we have `lockdowndates`, which contains the start and end dates for statewide stay at home orders. Take a look at the first few rows of each data frame below and read the documentation for the column descriptions."
   ]
  },
  {
   "cell_type": "code",
   "execution_count": 1,
   "id": "2f2f6187",
   "metadata": {},
   "outputs": [],
   "source": [
    "suppressPackageStartupMessages(library(tidyverse))\n",
    "library(RforHDSdata)\n",
    "library(lubridate)\n",
    "data(covidcases)\n",
    "data(lockdowndates)\n",
    "data(mobility)"
   ]
  },
  {
   "cell_type": "code",
   "execution_count": 2,
   "id": "70d4aeca",
   "metadata": {},
   "outputs": [
    {
     "data": {
      "text/html": [
       "<table class=\"dataframe\">\n",
       "<caption>A grouped_df: 6 × 5</caption>\n",
       "<thead>\n",
       "\t<tr><th scope=col>state</th><th scope=col>county</th><th scope=col>week</th><th scope=col>weekly_cases</th><th scope=col>weekly_deaths</th></tr>\n",
       "\t<tr><th scope=col>&lt;chr&gt;</th><th scope=col>&lt;chr&gt;</th><th scope=col>&lt;dbl&gt;</th><th scope=col>&lt;int&gt;</th><th scope=col>&lt;int&gt;</th></tr>\n",
       "</thead>\n",
       "<tbody>\n",
       "\t<tr><td>Alabama</td><td>Autauga</td><td>12</td><td> 3</td><td>0</td></tr>\n",
       "\t<tr><td>Alabama</td><td>Autauga</td><td>13</td><td> 3</td><td>0</td></tr>\n",
       "\t<tr><td>Alabama</td><td>Autauga</td><td>14</td><td> 2</td><td>1</td></tr>\n",
       "\t<tr><td>Alabama</td><td>Autauga</td><td>15</td><td>11</td><td>1</td></tr>\n",
       "\t<tr><td>Alabama</td><td>Autauga</td><td>16</td><td> 5</td><td>1</td></tr>\n",
       "\t<tr><td>Alabama</td><td>Autauga</td><td>17</td><td> 8</td><td>2</td></tr>\n",
       "</tbody>\n",
       "</table>\n"
      ],
      "text/latex": [
       "A grouped\\_df: 6 × 5\n",
       "\\begin{tabular}{lllll}\n",
       " state & county & week & weekly\\_cases & weekly\\_deaths\\\\\n",
       " <chr> & <chr> & <dbl> & <int> & <int>\\\\\n",
       "\\hline\n",
       "\t Alabama & Autauga & 12 &  3 & 0\\\\\n",
       "\t Alabama & Autauga & 13 &  3 & 0\\\\\n",
       "\t Alabama & Autauga & 14 &  2 & 1\\\\\n",
       "\t Alabama & Autauga & 15 & 11 & 1\\\\\n",
       "\t Alabama & Autauga & 16 &  5 & 1\\\\\n",
       "\t Alabama & Autauga & 17 &  8 & 2\\\\\n",
       "\\end{tabular}\n"
      ],
      "text/markdown": [
       "\n",
       "A grouped_df: 6 × 5\n",
       "\n",
       "| state &lt;chr&gt; | county &lt;chr&gt; | week &lt;dbl&gt; | weekly_cases &lt;int&gt; | weekly_deaths &lt;int&gt; |\n",
       "|---|---|---|---|---|\n",
       "| Alabama | Autauga | 12 |  3 | 0 |\n",
       "| Alabama | Autauga | 13 |  3 | 0 |\n",
       "| Alabama | Autauga | 14 |  2 | 1 |\n",
       "| Alabama | Autauga | 15 | 11 | 1 |\n",
       "| Alabama | Autauga | 16 |  5 | 1 |\n",
       "| Alabama | Autauga | 17 |  8 | 2 |\n",
       "\n"
      ],
      "text/plain": [
       "  state   county  week weekly_cases weekly_deaths\n",
       "1 Alabama Autauga 12    3           0            \n",
       "2 Alabama Autauga 13    3           0            \n",
       "3 Alabama Autauga 14    2           1            \n",
       "4 Alabama Autauga 15   11           1            \n",
       "5 Alabama Autauga 16    5           1            \n",
       "6 Alabama Autauga 17    8           2            "
      ]
     },
     "metadata": {},
     "output_type": "display_data"
    }
   ],
   "source": [
    "head(covidcases)"
   ]
  },
  {
   "cell_type": "code",
   "execution_count": 3,
   "id": "e7b5e897",
   "metadata": {},
   "outputs": [
    {
     "data": {
      "text/html": [
       "<table class=\"dataframe\">\n",
       "<caption>A grouped_df: 6 × 5</caption>\n",
       "<thead>\n",
       "\t<tr><th scope=col>state</th><th scope=col>date</th><th scope=col>samples</th><th scope=col>m50</th><th scope=col>m50_index</th></tr>\n",
       "\t<tr><th scope=col>&lt;chr&gt;</th><th scope=col>&lt;chr&gt;</th><th scope=col>&lt;int&gt;</th><th scope=col>&lt;dbl&gt;</th><th scope=col>&lt;dbl&gt;</th></tr>\n",
       "</thead>\n",
       "<tbody>\n",
       "\t<tr><td>Alabama</td><td>2020-03-01</td><td>267652</td><td>10.87194</td><td> 76.92647</td></tr>\n",
       "\t<tr><td>Alabama</td><td>2020-03-02</td><td>287264</td><td>14.34513</td><td> 98.57353</td></tr>\n",
       "\t<tr><td>Alabama</td><td>2020-03-03</td><td>292018</td><td>14.24460</td><td> 98.25000</td></tr>\n",
       "\t<tr><td>Alabama</td><td>2020-03-04</td><td>298704</td><td>13.08301</td><td> 89.69118</td></tr>\n",
       "\t<tr><td>Alabama</td><td>2020-03-05</td><td>288218</td><td>14.81503</td><td>102.38235</td></tr>\n",
       "\t<tr><td>Alabama</td><td>2020-03-06</td><td>282982</td><td>17.94399</td><td>126.22059</td></tr>\n",
       "</tbody>\n",
       "</table>\n"
      ],
      "text/latex": [
       "A grouped\\_df: 6 × 5\n",
       "\\begin{tabular}{lllll}\n",
       " state & date & samples & m50 & m50\\_index\\\\\n",
       " <chr> & <chr> & <int> & <dbl> & <dbl>\\\\\n",
       "\\hline\n",
       "\t Alabama & 2020-03-01 & 267652 & 10.87194 &  76.92647\\\\\n",
       "\t Alabama & 2020-03-02 & 287264 & 14.34513 &  98.57353\\\\\n",
       "\t Alabama & 2020-03-03 & 292018 & 14.24460 &  98.25000\\\\\n",
       "\t Alabama & 2020-03-04 & 298704 & 13.08301 &  89.69118\\\\\n",
       "\t Alabama & 2020-03-05 & 288218 & 14.81503 & 102.38235\\\\\n",
       "\t Alabama & 2020-03-06 & 282982 & 17.94399 & 126.22059\\\\\n",
       "\\end{tabular}\n"
      ],
      "text/markdown": [
       "\n",
       "A grouped_df: 6 × 5\n",
       "\n",
       "| state &lt;chr&gt; | date &lt;chr&gt; | samples &lt;int&gt; | m50 &lt;dbl&gt; | m50_index &lt;dbl&gt; |\n",
       "|---|---|---|---|---|\n",
       "| Alabama | 2020-03-01 | 267652 | 10.87194 |  76.92647 |\n",
       "| Alabama | 2020-03-02 | 287264 | 14.34513 |  98.57353 |\n",
       "| Alabama | 2020-03-03 | 292018 | 14.24460 |  98.25000 |\n",
       "| Alabama | 2020-03-04 | 298704 | 13.08301 |  89.69118 |\n",
       "| Alabama | 2020-03-05 | 288218 | 14.81503 | 102.38235 |\n",
       "| Alabama | 2020-03-06 | 282982 | 17.94399 | 126.22059 |\n",
       "\n"
      ],
      "text/plain": [
       "  state   date       samples m50      m50_index\n",
       "1 Alabama 2020-03-01 267652  10.87194  76.92647\n",
       "2 Alabama 2020-03-02 287264  14.34513  98.57353\n",
       "3 Alabama 2020-03-03 292018  14.24460  98.25000\n",
       "4 Alabama 2020-03-04 298704  13.08301  89.69118\n",
       "5 Alabama 2020-03-05 288218  14.81503 102.38235\n",
       "6 Alabama 2020-03-06 282982  17.94399 126.22059"
      ]
     },
     "metadata": {},
     "output_type": "display_data"
    }
   ],
   "source": [
    "head(mobility)"
   ]
  },
  {
   "cell_type": "code",
   "execution_count": 4,
   "id": "750a8217",
   "metadata": {},
   "outputs": [
    {
     "data": {
      "text/html": [
       "<table class=\"dataframe\">\n",
       "<caption>A tibble: 6 × 3</caption>\n",
       "<thead>\n",
       "\t<tr><th scope=col>State</th><th scope=col>Lockdown_Start</th><th scope=col>Lockdown_End</th></tr>\n",
       "\t<tr><th scope=col>&lt;chr&gt;</th><th scope=col>&lt;chr&gt;</th><th scope=col>&lt;chr&gt;</th></tr>\n",
       "</thead>\n",
       "<tbody>\n",
       "\t<tr><td>Alabama   </td><td>2020-04-04</td><td>2020-04-30</td></tr>\n",
       "\t<tr><td>Alaska    </td><td>2020-03-28</td><td>2020-04-24</td></tr>\n",
       "\t<tr><td>Arizona   </td><td>2020-03-31</td><td>2020-05-15</td></tr>\n",
       "\t<tr><td>Arkansas  </td><td>None      </td><td>None      </td></tr>\n",
       "\t<tr><td>California</td><td>2020-03-19</td><td>2020-08-28</td></tr>\n",
       "\t<tr><td>Colorado  </td><td>2020-03-26</td><td>2020-04-26</td></tr>\n",
       "</tbody>\n",
       "</table>\n"
      ],
      "text/latex": [
       "A tibble: 6 × 3\n",
       "\\begin{tabular}{lll}\n",
       " State & Lockdown\\_Start & Lockdown\\_End\\\\\n",
       " <chr> & <chr> & <chr>\\\\\n",
       "\\hline\n",
       "\t Alabama    & 2020-04-04 & 2020-04-30\\\\\n",
       "\t Alaska     & 2020-03-28 & 2020-04-24\\\\\n",
       "\t Arizona    & 2020-03-31 & 2020-05-15\\\\\n",
       "\t Arkansas   & None       & None      \\\\\n",
       "\t California & 2020-03-19 & 2020-08-28\\\\\n",
       "\t Colorado   & 2020-03-26 & 2020-04-26\\\\\n",
       "\\end{tabular}\n"
      ],
      "text/markdown": [
       "\n",
       "A tibble: 6 × 3\n",
       "\n",
       "| State &lt;chr&gt; | Lockdown_Start &lt;chr&gt; | Lockdown_End &lt;chr&gt; |\n",
       "|---|---|---|\n",
       "| Alabama    | 2020-04-04 | 2020-04-30 |\n",
       "| Alaska     | 2020-03-28 | 2020-04-24 |\n",
       "| Arizona    | 2020-03-31 | 2020-05-15 |\n",
       "| Arkansas   | None       | None       |\n",
       "| California | 2020-03-19 | 2020-08-28 |\n",
       "| Colorado   | 2020-03-26 | 2020-04-26 |\n",
       "\n"
      ],
      "text/plain": [
       "  State      Lockdown_Start Lockdown_End\n",
       "1 Alabama    2020-04-04     2020-04-30  \n",
       "2 Alaska     2020-03-28     2020-04-24  \n",
       "3 Arizona    2020-03-31     2020-05-15  \n",
       "4 Arkansas   None           None        \n",
       "5 California 2020-03-19     2020-08-28  \n",
       "6 Colorado   2020-03-26     2020-04-26  "
      ]
     },
     "metadata": {},
     "output_type": "display_data"
    }
   ],
   "source": [
    "head(lockdowndates)"
   ]
  },
  {
   "cell_type": "markdown",
   "id": "6e1de264",
   "metadata": {},
   "source": [
    "The mobility and lockdown data frames contain a date column. Right now the class of the date column in the lockdown and mobility data is a character value, which we can see in the printed output above. We can use the `as.Date()` function to tell R to treat these as dates. We need to specify the date format as an argument to this function so R knows how to parse this text to a date. Our format is given as `%Y-%M-%D`, where the `%Y` stands for the full four-digit year, `%M` is a two-digit month (e.g. January is coded \"01\" vs \"1\"), and `%D` stands for the two-digit day (e.g. the third day is coded \"03\" vs \"3\"). "
   ]
  },
  {
   "cell_type": "code",
   "execution_count": 5,
   "id": "d3b9336c",
   "metadata": {},
   "outputs": [],
   "source": [
    "mobility$date <- as.Date(mobility$date, formula=\"%Y-%M-%D\")\n",
    "lockdowndates$Lockdown_Start <- as.Date(lockdowndates$Lockdown_Start, formula=\"%Y-%M-%D\")\n",
    "lockdowndates$Lockdown_End <- as.Date(lockdowndates$Lockdown_End, formula=\"%Y-%M-%D\")"
   ]
  },
  {
   "cell_type": "markdown",
   "id": "62121799",
   "metadata": {},
   "source": [
    "By coding these columns as dates, we can access information such as the day, month, year, or week. These functions are all available in the `lubridate` package, which is a package in the tidyverse that allows us to manipulate dates. "
   ]
  },
  {
   "cell_type": "code",
   "execution_count": 6,
   "id": "0267137e",
   "metadata": {},
   "outputs": [
    {
     "data": {
      "text/html": [
       "3"
      ],
      "text/latex": [
       "3"
      ],
      "text/markdown": [
       "3"
      ],
      "text/plain": [
       "[1] 3"
      ]
     },
     "metadata": {},
     "output_type": "display_data"
    },
    {
     "data": {
      "text/html": [
       "9"
      ],
      "text/latex": [
       "9"
      ],
      "text/markdown": [
       "9"
      ],
      "text/plain": [
       "[1] 9"
      ]
     },
     "metadata": {},
     "output_type": "display_data"
    }
   ],
   "source": [
    "month(mobility$date[1])\n",
    "week(mobility$date[1])"
   ]
  },
  {
   "cell_type": "markdown",
   "id": "0f2ab402",
   "metadata": {},
   "source": [
    "Last, we add a date column to `covidcases`. In this case, we need to use the week number to find the date. Luckily, we can add days, months, weeks, or years to dates in the `lubridate` package. January 1, 2020 was a Wednesday and is counted as the first week. Therefore, to find the corresponding Sunday for each week, we add the recorded week number minus one to December 29, 2019. We show a simple example adding one week below before doing this conversion for the entire column."
   ]
  },
  {
   "cell_type": "code",
   "execution_count": 7,
   "id": "318139be",
   "metadata": {},
   "outputs": [
    {
     "data": {
      "text/html": [
       "<time datetime=\"2020-01-05\">2020-01-05</time>"
      ],
      "text/latex": [
       "2020-01-05"
      ],
      "text/markdown": [
       "2020-01-05"
      ],
      "text/plain": [
       "[1] \"2020-01-05\""
      ]
     },
     "metadata": {},
     "output_type": "display_data"
    }
   ],
   "source": [
    "as.Date(\"2019-12-29\")+weeks(1)"
   ]
  },
  {
   "cell_type": "code",
   "execution_count": 8,
   "id": "d09592bf",
   "metadata": {},
   "outputs": [
    {
     "data": {
      "text/html": [
       "<table class=\"dataframe\">\n",
       "<caption>A grouped_df: 6 × 6</caption>\n",
       "<thead>\n",
       "\t<tr><th scope=col>state</th><th scope=col>county</th><th scope=col>week</th><th scope=col>weekly_cases</th><th scope=col>weekly_deaths</th><th scope=col>date</th></tr>\n",
       "\t<tr><th scope=col>&lt;chr&gt;</th><th scope=col>&lt;chr&gt;</th><th scope=col>&lt;dbl&gt;</th><th scope=col>&lt;int&gt;</th><th scope=col>&lt;int&gt;</th><th scope=col>&lt;date&gt;</th></tr>\n",
       "</thead>\n",
       "<tbody>\n",
       "\t<tr><td>Alabama</td><td>Autauga</td><td>12</td><td> 3</td><td>0</td><td>2020-03-15</td></tr>\n",
       "\t<tr><td>Alabama</td><td>Autauga</td><td>13</td><td> 3</td><td>0</td><td>2020-03-22</td></tr>\n",
       "\t<tr><td>Alabama</td><td>Autauga</td><td>14</td><td> 2</td><td>1</td><td>2020-03-29</td></tr>\n",
       "\t<tr><td>Alabama</td><td>Autauga</td><td>15</td><td>11</td><td>1</td><td>2020-04-05</td></tr>\n",
       "\t<tr><td>Alabama</td><td>Autauga</td><td>16</td><td> 5</td><td>1</td><td>2020-04-12</td></tr>\n",
       "\t<tr><td>Alabama</td><td>Autauga</td><td>17</td><td> 8</td><td>2</td><td>2020-04-19</td></tr>\n",
       "</tbody>\n",
       "</table>\n"
      ],
      "text/latex": [
       "A grouped\\_df: 6 × 6\n",
       "\\begin{tabular}{llllll}\n",
       " state & county & week & weekly\\_cases & weekly\\_deaths & date\\\\\n",
       " <chr> & <chr> & <dbl> & <int> & <int> & <date>\\\\\n",
       "\\hline\n",
       "\t Alabama & Autauga & 12 &  3 & 0 & 2020-03-15\\\\\n",
       "\t Alabama & Autauga & 13 &  3 & 0 & 2020-03-22\\\\\n",
       "\t Alabama & Autauga & 14 &  2 & 1 & 2020-03-29\\\\\n",
       "\t Alabama & Autauga & 15 & 11 & 1 & 2020-04-05\\\\\n",
       "\t Alabama & Autauga & 16 &  5 & 1 & 2020-04-12\\\\\n",
       "\t Alabama & Autauga & 17 &  8 & 2 & 2020-04-19\\\\\n",
       "\\end{tabular}\n"
      ],
      "text/markdown": [
       "\n",
       "A grouped_df: 6 × 6\n",
       "\n",
       "| state &lt;chr&gt; | county &lt;chr&gt; | week &lt;dbl&gt; | weekly_cases &lt;int&gt; | weekly_deaths &lt;int&gt; | date &lt;date&gt; |\n",
       "|---|---|---|---|---|---|\n",
       "| Alabama | Autauga | 12 |  3 | 0 | 2020-03-15 |\n",
       "| Alabama | Autauga | 13 |  3 | 0 | 2020-03-22 |\n",
       "| Alabama | Autauga | 14 |  2 | 1 | 2020-03-29 |\n",
       "| Alabama | Autauga | 15 | 11 | 1 | 2020-04-05 |\n",
       "| Alabama | Autauga | 16 |  5 | 1 | 2020-04-12 |\n",
       "| Alabama | Autauga | 17 |  8 | 2 | 2020-04-19 |\n",
       "\n"
      ],
      "text/plain": [
       "  state   county  week weekly_cases weekly_deaths date      \n",
       "1 Alabama Autauga 12    3           0             2020-03-15\n",
       "2 Alabama Autauga 13    3           0             2020-03-22\n",
       "3 Alabama Autauga 14    2           1             2020-03-29\n",
       "4 Alabama Autauga 15   11           1             2020-04-05\n",
       "5 Alabama Autauga 16    5           1             2020-04-12\n",
       "6 Alabama Autauga 17    8           2             2020-04-19"
      ]
     },
     "metadata": {},
     "output_type": "display_data"
    }
   ],
   "source": [
    "covidcases$date <- as.Date(\"2019-12-29\")+weeks(covidcases$week-1)\n",
    "head(covidcases)"
   ]
  },
  {
   "cell_type": "markdown",
   "id": "743ad3cc",
   "metadata": {},
   "source": [
    "## Tidy Data \n",
    "\n",
    "The tidyverse is designed around interacting with **tidy data** with the premise that a tidy format we can streamline our analysis. Data is considered **tidy** if\n",
    "\n",
    "1.  Each variable is associated with a single column.\n",
    "2.  Each observation is associated with a single row.\n",
    "3.  Each value has its own cell.\n",
    "\n",
    "Take a look at the sample data below which stores information about the maternal mortality rate for five countries over time (source: https://ourworldindata.org/maternal-mortality). This data is *not* tidy because the variable for maternity mortality rate is associated with multiple columns. Every row should correspond to one class observation."
   ]
  },
  {
   "cell_type": "code",
   "execution_count": 9,
   "id": "f9ebc52b",
   "metadata": {},
   "outputs": [
    {
     "data": {
      "text/html": [
       "<table class=\"dataframe\">\n",
       "<caption>A data.frame: 4 × 4</caption>\n",
       "<thead>\n",
       "\t<tr><th></th><th scope=col>country</th><th scope=col>y2002</th><th scope=col>y2007</th><th scope=col>y2012</th></tr>\n",
       "\t<tr><th></th><th scope=col>&lt;chr&gt;</th><th scope=col>&lt;dbl&gt;</th><th scope=col>&lt;dbl&gt;</th><th scope=col>&lt;dbl&gt;</th></tr>\n",
       "</thead>\n",
       "<tbody>\n",
       "\t<tr><th scope=row>1</th><td>Turkey       </td><td>64.00</td><td>21.90</td><td>15.2</td></tr>\n",
       "\t<tr><th scope=row>2</th><td>United States</td><td> 9.90</td><td>12.70</td><td>16.0</td></tr>\n",
       "\t<tr><th scope=row>3</th><td>Sweden       </td><td> 4.17</td><td> 1.86</td><td> 5.4</td></tr>\n",
       "\t<tr><th scope=row>4</th><td>Japan        </td><td> 7.80</td><td> 3.60</td><td> 4.8</td></tr>\n",
       "</tbody>\n",
       "</table>\n"
      ],
      "text/latex": [
       "A data.frame: 4 × 4\n",
       "\\begin{tabular}{r|llll}\n",
       "  & country & y2002 & y2007 & y2012\\\\\n",
       "  & <chr> & <dbl> & <dbl> & <dbl>\\\\\n",
       "\\hline\n",
       "\t1 & Turkey        & 64.00 & 21.90 & 15.2\\\\\n",
       "\t2 & United States &  9.90 & 12.70 & 16.0\\\\\n",
       "\t3 & Sweden        &  4.17 &  1.86 &  5.4\\\\\n",
       "\t4 & Japan         &  7.80 &  3.60 &  4.8\\\\\n",
       "\\end{tabular}\n"
      ],
      "text/markdown": [
       "\n",
       "A data.frame: 4 × 4\n",
       "\n",
       "| <!--/--> | country &lt;chr&gt; | y2002 &lt;dbl&gt; | y2007 &lt;dbl&gt; | y2012 &lt;dbl&gt; |\n",
       "|---|---|---|---|---|\n",
       "| 1 | Turkey        | 64.00 | 21.90 | 15.2 |\n",
       "| 2 | United States |  9.90 | 12.70 | 16.0 |\n",
       "| 3 | Sweden        |  4.17 |  1.86 |  5.4 |\n",
       "| 4 | Japan         |  7.80 |  3.60 |  4.8 |\n",
       "\n"
      ],
      "text/plain": [
       "  country       y2002 y2007 y2012\n",
       "1 Turkey        64.00 21.90 15.2 \n",
       "2 United States  9.90 12.70 16.0 \n",
       "3 Sweden         4.17  1.86  5.4 \n",
       "4 Japan          7.80  3.60  4.8 "
      ]
     },
     "metadata": {},
     "output_type": "display_data"
    }
   ],
   "source": [
    "mat_mort1 <- data.frame(country = c(\"Turkey\", \"United States\", \"Sweden\", \"Japan\"),\n",
    "                       y2002 = c(64, 9.9, 4.17, 7.8),\n",
    "                       y2007 = c(21.9, 12.7, 1.86, 3.6),\n",
    "                       y2012 = c(15.2, 16, 5.4, 4.8))\n",
    "head(mat_mort1)"
   ]
  },
  {
   "cell_type": "markdown",
   "id": "c56b247c",
   "metadata": {},
   "source": [
    "Instead, we could make this data tidy by having columns for country, year, and maternity mortality rate. Now every observation is associated with an individual row. "
   ]
  },
  {
   "cell_type": "code",
   "execution_count": 10,
   "id": "a34e826c",
   "metadata": {},
   "outputs": [
    {
     "data": {
      "text/html": [
       "<table class=\"dataframe\">\n",
       "<caption>A data.frame: 6 × 3</caption>\n",
       "<thead>\n",
       "\t<tr><th></th><th scope=col>country</th><th scope=col>year</th><th scope=col>mat_mort_rate</th></tr>\n",
       "\t<tr><th></th><th scope=col>&lt;chr&gt;</th><th scope=col>&lt;dbl&gt;</th><th scope=col>&lt;dbl&gt;</th></tr>\n",
       "</thead>\n",
       "<tbody>\n",
       "\t<tr><th scope=row>1</th><td>Turkey       </td><td>2002</td><td>64.00</td></tr>\n",
       "\t<tr><th scope=row>2</th><td>United States</td><td>2002</td><td> 9.90</td></tr>\n",
       "\t<tr><th scope=row>3</th><td>Sweden       </td><td>2002</td><td> 4.17</td></tr>\n",
       "\t<tr><th scope=row>4</th><td>Japan        </td><td>2002</td><td> 7.80</td></tr>\n",
       "\t<tr><th scope=row>5</th><td>Turkey       </td><td>2007</td><td>21.90</td></tr>\n",
       "\t<tr><th scope=row>6</th><td>United States</td><td>2007</td><td>12.70</td></tr>\n",
       "</tbody>\n",
       "</table>\n"
      ],
      "text/latex": [
       "A data.frame: 6 × 3\n",
       "\\begin{tabular}{r|lll}\n",
       "  & country & year & mat\\_mort\\_rate\\\\\n",
       "  & <chr> & <dbl> & <dbl>\\\\\n",
       "\\hline\n",
       "\t1 & Turkey        & 2002 & 64.00\\\\\n",
       "\t2 & United States & 2002 &  9.90\\\\\n",
       "\t3 & Sweden        & 2002 &  4.17\\\\\n",
       "\t4 & Japan         & 2002 &  7.80\\\\\n",
       "\t5 & Turkey        & 2007 & 21.90\\\\\n",
       "\t6 & United States & 2007 & 12.70\\\\\n",
       "\\end{tabular}\n"
      ],
      "text/markdown": [
       "\n",
       "A data.frame: 6 × 3\n",
       "\n",
       "| <!--/--> | country &lt;chr&gt; | year &lt;dbl&gt; | mat_mort_rate &lt;dbl&gt; |\n",
       "|---|---|---|---|\n",
       "| 1 | Turkey        | 2002 | 64.00 |\n",
       "| 2 | United States | 2002 |  9.90 |\n",
       "| 3 | Sweden        | 2002 |  4.17 |\n",
       "| 4 | Japan         | 2002 |  7.80 |\n",
       "| 5 | Turkey        | 2007 | 21.90 |\n",
       "| 6 | United States | 2007 | 12.70 |\n",
       "\n"
      ],
      "text/plain": [
       "  country       year mat_mort_rate\n",
       "1 Turkey        2002 64.00        \n",
       "2 United States 2002  9.90        \n",
       "3 Sweden        2002  4.17        \n",
       "4 Japan         2002  7.80        \n",
       "5 Turkey        2007 21.90        \n",
       "6 United States 2007 12.70        "
      ]
     },
     "metadata": {},
     "output_type": "display_data"
    }
   ],
   "source": [
    "mat_mort2 <- data.frame(country = rep(c(\"Turkey\", \"United States\", \"Sweden\", \"Japan\"), 3),\n",
    "                       year = c(rep(2002, 4), rep(2007, 4), rep(2012, 4)),\n",
    "                       mat_mort_rate = c(64.0, 9.9, 4.17, 7.8, 21.9, 12.7, 1.86, 3.6, 15.2, 16, 5.4, 4.8))\n",
    "head(mat_mort2)"
   ]
  },
  {
   "cell_type": "markdown",
   "id": "512bec4b",
   "metadata": {},
   "source": [
    "## Reshaping Data\n",
    "\n",
    "The mobility and covid case data are in tidy form - each observation corresponds to a single row and every column is a single variable. We might consider whether the lockdown dates should be reformatted to be tidy. Another way to represent this data would be to have each observation be the start or end of a stay at home order. \n",
    "\n",
    "To reshape our data, we use the `pivot_longer()` function to change the data from what is called **wide form** to **long form**. This kind of pivot involves taking a subset of columns that we will *gather* into a single column while increasing the number of rows in the data set. Before pivoting, we have to think about which columns we are transforming. The image below shows a picture of some data on whether students have completed a physical, hearing, and eye exam. The data is presented in wide form on the left and long form on the right. To transform to long data, we have identified a subset of columns `cols` that we want to transform. The long form contains a new column `names_to` that contains the exam type and `values_to` that has whether or not each exam was completed. \n",
    "\n",
    "<img src=\"images/6-pivot-long.png\" alt= “” width=\"500pt\" align=\"center\">\n",
    "\n",
    "In our case, we want to take the lockdown start and end columns and create two columns: one column will be whether this is the start or end of a lockdown and the other will be the date. These are called the key and value columns, respectively. The key column will get its values from the names of the columns we are transforming (or the keys) whereas the value column will get its values from the entries in those columns (or the values). \n",
    "\n",
    "The `pivot_longer()` function takes in a data table, the columns `cols` that we are pivoting to longer form, the column name `names_to` that will store the data from the previous column names, and the column name `values_to` for the column that will store the information from the columns gathered. In our case, the first column we will name `Lockdown_Event` since it will contain whether each date is the start or end of a lockdown and the second column we will name `Date`. Take a look at the result below."
   ]
  },
  {
   "cell_type": "code",
   "execution_count": 11,
   "id": "56dc4943",
   "metadata": {},
   "outputs": [
    {
     "data": {
      "text/html": [
       "<table class=\"dataframe\">\n",
       "<caption>A tibble: 6 × 3</caption>\n",
       "<thead>\n",
       "\t<tr><th scope=col>State</th><th scope=col>Lockdown_Event</th><th scope=col>Date</th></tr>\n",
       "\t<tr><th scope=col>&lt;chr&gt;</th><th scope=col>&lt;chr&gt;</th><th scope=col>&lt;date&gt;</th></tr>\n",
       "</thead>\n",
       "<tbody>\n",
       "\t<tr><td>Alabama</td><td>Start</td><td>2020-04-04</td></tr>\n",
       "\t<tr><td>Alabama</td><td>End  </td><td>2020-04-30</td></tr>\n",
       "\t<tr><td>Alaska </td><td>Start</td><td>2020-03-28</td></tr>\n",
       "\t<tr><td>Alaska </td><td>End  </td><td>2020-04-24</td></tr>\n",
       "\t<tr><td>Arizona</td><td>Start</td><td>2020-03-31</td></tr>\n",
       "\t<tr><td>Arizona</td><td>End  </td><td>2020-05-15</td></tr>\n",
       "</tbody>\n",
       "</table>\n"
      ],
      "text/latex": [
       "A tibble: 6 × 3\n",
       "\\begin{tabular}{lll}\n",
       " State & Lockdown\\_Event & Date\\\\\n",
       " <chr> & <chr> & <date>\\\\\n",
       "\\hline\n",
       "\t Alabama & Start & 2020-04-04\\\\\n",
       "\t Alabama & End   & 2020-04-30\\\\\n",
       "\t Alaska  & Start & 2020-03-28\\\\\n",
       "\t Alaska  & End   & 2020-04-24\\\\\n",
       "\t Arizona & Start & 2020-03-31\\\\\n",
       "\t Arizona & End   & 2020-05-15\\\\\n",
       "\\end{tabular}\n"
      ],
      "text/markdown": [
       "\n",
       "A tibble: 6 × 3\n",
       "\n",
       "| State &lt;chr&gt; | Lockdown_Event &lt;chr&gt; | Date &lt;date&gt; |\n",
       "|---|---|---|\n",
       "| Alabama | Start | 2020-04-04 |\n",
       "| Alabama | End   | 2020-04-30 |\n",
       "| Alaska  | Start | 2020-03-28 |\n",
       "| Alaska  | End   | 2020-04-24 |\n",
       "| Arizona | Start | 2020-03-31 |\n",
       "| Arizona | End   | 2020-05-15 |\n",
       "\n"
      ],
      "text/plain": [
       "  State   Lockdown_Event Date      \n",
       "1 Alabama Start          2020-04-04\n",
       "2 Alabama End            2020-04-30\n",
       "3 Alaska  Start          2020-03-28\n",
       "4 Alaska  End            2020-04-24\n",
       "5 Arizona Start          2020-03-31\n",
       "6 Arizona End            2020-05-15"
      ]
     },
     "metadata": {},
     "output_type": "display_data"
    }
   ],
   "source": [
    "lockdown_long <- lockdowndates %>%\n",
    "  pivot_longer(cols=c(\"Lockdown_Start\", \"Lockdown_End\"), names_to=\"Lockdown_Event\", values_to=\"Date\") %>%\n",
    "  mutate(Date = as.Date(Date, formula =\"%Y-%M-%D\"), \n",
    "         Lockdown_Event = ifelse(Lockdown_Event==\"Lockdown_Start\", \"Start\", \"End\")) %>%\n",
    "  na.omit()\n",
    "head(lockdown_long)"
   ]
  },
  {
   "cell_type": "markdown",
   "id": "3936051b",
   "metadata": {},
   "source": [
    "We can also transform our data in the opposite direction. The function `pivot_wider()` converts data in long form to wide form. This function again takes in the the data frame but now we specify the arguments `names_from` and `values_from`. The former is the column to get the new column names from and the latter is where the row values will be taken from. To pivot our lockdown data back to wider form, we specify that `names_from` is the lockdown event and `values_from` is the date itself. Now we are back to the same form as before!"
   ]
  },
  {
   "cell_type": "code",
   "execution_count": 12,
   "id": "1c66cbfe",
   "metadata": {},
   "outputs": [
    {
     "data": {
      "text/html": [
       "<table class=\"dataframe\">\n",
       "<caption>A tibble: 6 × 3</caption>\n",
       "<thead>\n",
       "\t<tr><th scope=col>State</th><th scope=col>Start</th><th scope=col>End</th></tr>\n",
       "\t<tr><th scope=col>&lt;chr&gt;</th><th scope=col>&lt;date&gt;</th><th scope=col>&lt;date&gt;</th></tr>\n",
       "</thead>\n",
       "<tbody>\n",
       "\t<tr><td>Alabama    </td><td>2020-04-04</td><td>2020-04-30</td></tr>\n",
       "\t<tr><td>Alaska     </td><td>2020-03-28</td><td>2020-04-24</td></tr>\n",
       "\t<tr><td>Arizona    </td><td>2020-03-31</td><td>2020-05-15</td></tr>\n",
       "\t<tr><td>California </td><td>2020-03-19</td><td>2020-08-28</td></tr>\n",
       "\t<tr><td>Colorado   </td><td>2020-03-26</td><td>2020-04-26</td></tr>\n",
       "\t<tr><td>Connecticut</td><td>2020-03-23</td><td>2020-05-20</td></tr>\n",
       "</tbody>\n",
       "</table>\n"
      ],
      "text/latex": [
       "A tibble: 6 × 3\n",
       "\\begin{tabular}{lll}\n",
       " State & Start & End\\\\\n",
       " <chr> & <date> & <date>\\\\\n",
       "\\hline\n",
       "\t Alabama     & 2020-04-04 & 2020-04-30\\\\\n",
       "\t Alaska      & 2020-03-28 & 2020-04-24\\\\\n",
       "\t Arizona     & 2020-03-31 & 2020-05-15\\\\\n",
       "\t California  & 2020-03-19 & 2020-08-28\\\\\n",
       "\t Colorado    & 2020-03-26 & 2020-04-26\\\\\n",
       "\t Connecticut & 2020-03-23 & 2020-05-20\\\\\n",
       "\\end{tabular}\n"
      ],
      "text/markdown": [
       "\n",
       "A tibble: 6 × 3\n",
       "\n",
       "| State &lt;chr&gt; | Start &lt;date&gt; | End &lt;date&gt; |\n",
       "|---|---|---|\n",
       "| Alabama     | 2020-04-04 | 2020-04-30 |\n",
       "| Alaska      | 2020-03-28 | 2020-04-24 |\n",
       "| Arizona     | 2020-03-31 | 2020-05-15 |\n",
       "| California  | 2020-03-19 | 2020-08-28 |\n",
       "| Colorado    | 2020-03-26 | 2020-04-26 |\n",
       "| Connecticut | 2020-03-23 | 2020-05-20 |\n",
       "\n"
      ],
      "text/plain": [
       "  State       Start      End       \n",
       "1 Alabama     2020-04-04 2020-04-30\n",
       "2 Alaska      2020-03-28 2020-04-24\n",
       "3 Arizona     2020-03-31 2020-05-15\n",
       "4 California  2020-03-19 2020-08-28\n",
       "5 Colorado    2020-03-26 2020-04-26\n",
       "6 Connecticut 2020-03-23 2020-05-20"
      ]
     },
     "metadata": {},
     "output_type": "display_data"
    }
   ],
   "source": [
    "lockdown_wide <- pivot_wider(lockdown_long, names_from=Lockdown_Event, values_from=Date)\n",
    "head(lockdown_wide)"
   ]
  },
  {
   "cell_type": "markdown",
   "id": "798ba521",
   "metadata": {},
   "source": [
    "Let's show another example. Suppose that I wanted to create a data frame where the columns corresponded to the number of cases for each state in New England and the rows corresponded to the months. First, I need to filter my data to New England and then summarize my data to find the number of cases per month. I use the `month()` function to be able to group by month and state. Additionally, you can see that I add an `ungroup()` at the end since the summarized output will still be grouped by state (as shown in the warning message). "
   ]
  },
  {
   "cell_type": "code",
   "execution_count": 13,
   "id": "75260d16",
   "metadata": {},
   "outputs": [
    {
     "name": "stderr",
     "output_type": "stream",
     "text": [
      "\u001b[1m\u001b[22m`summarise()` has grouped output by 'state'. You can override using the\n",
      "`.groups` argument.\n"
     ]
    },
    {
     "data": {
      "text/html": [
       "<table class=\"dataframe\">\n",
       "<caption>A tibble: 6 × 3</caption>\n",
       "<thead>\n",
       "\t<tr><th scope=col>state</th><th scope=col>month</th><th scope=col>total_cases</th></tr>\n",
       "\t<tr><th scope=col>&lt;chr&gt;</th><th scope=col>&lt;dbl&gt;</th><th scope=col>&lt;int&gt;</th></tr>\n",
       "</thead>\n",
       "<tbody>\n",
       "\t<tr><td>Connecticut</td><td>3</td><td> 6872</td></tr>\n",
       "\t<tr><td>Connecticut</td><td>4</td><td>18575</td></tr>\n",
       "\t<tr><td>Connecticut</td><td>5</td><td>11936</td></tr>\n",
       "\t<tr><td>Connecticut</td><td>6</td><td> 2619</td></tr>\n",
       "\t<tr><td>Connecticut</td><td>7</td><td> 2290</td></tr>\n",
       "\t<tr><td>Connecticut</td><td>8</td><td> 3710</td></tr>\n",
       "</tbody>\n",
       "</table>\n"
      ],
      "text/latex": [
       "A tibble: 6 × 3\n",
       "\\begin{tabular}{lll}\n",
       " state & month & total\\_cases\\\\\n",
       " <chr> & <dbl> & <int>\\\\\n",
       "\\hline\n",
       "\t Connecticut & 3 &  6872\\\\\n",
       "\t Connecticut & 4 & 18575\\\\\n",
       "\t Connecticut & 5 & 11936\\\\\n",
       "\t Connecticut & 6 &  2619\\\\\n",
       "\t Connecticut & 7 &  2290\\\\\n",
       "\t Connecticut & 8 &  3710\\\\\n",
       "\\end{tabular}\n"
      ],
      "text/markdown": [
       "\n",
       "A tibble: 6 × 3\n",
       "\n",
       "| state &lt;chr&gt; | month &lt;dbl&gt; | total_cases &lt;int&gt; |\n",
       "|---|---|---|\n",
       "| Connecticut | 3 |  6872 |\n",
       "| Connecticut | 4 | 18575 |\n",
       "| Connecticut | 5 | 11936 |\n",
       "| Connecticut | 6 |  2619 |\n",
       "| Connecticut | 7 |  2290 |\n",
       "| Connecticut | 8 |  3710 |\n",
       "\n"
      ],
      "text/plain": [
       "  state       month total_cases\n",
       "1 Connecticut 3      6872      \n",
       "2 Connecticut 4     18575      \n",
       "3 Connecticut 5     11936      \n",
       "4 Connecticut 6      2619      \n",
       "5 Connecticut 7      2290      \n",
       "6 Connecticut 8      3710      "
      ]
     },
     "metadata": {},
     "output_type": "display_data"
    }
   ],
   "source": [
    "ne_cases <- covidcases %>% \n",
    "  filter(state %in% c(\"Maine\", \"Vermont\", \"New Hampshire\", \"Connecticut\", \"Rhode Island\",\n",
    "                                  \"Massachusetts\")) %>%\n",
    "  mutate(month = month(date)) %>%\n",
    "  group_by(state, month) %>%\n",
    "  summarize(total_cases = sum(weekly_cases)) %>%\n",
    "  ungroup()\n",
    "head(ne_cases)"
   ]
  },
  {
   "cell_type": "markdown",
   "id": "bb4e38ba",
   "metadata": {},
   "source": [
    "Now, I need to focus on converting this data to wide format. I want a column for each state. This tells me that my `names_from` argument will be `state`. Next, I want each row to have the case values for each state. This tells me that my `values_from` argument will be `total_cases`. The format of this data may not be tidy but it allows me to quickly compare cases across states."
   ]
  },
  {
   "cell_type": "code",
   "execution_count": 14,
   "id": "854d1083",
   "metadata": {},
   "outputs": [
    {
     "data": {
      "text/html": [
       "<table class=\"dataframe\">\n",
       "<caption>A tibble: 7 × 7</caption>\n",
       "<thead>\n",
       "\t<tr><th scope=col>month</th><th scope=col>Connecticut</th><th scope=col>Maine</th><th scope=col>Massachusetts</th><th scope=col>New Hampshire</th><th scope=col>Rhode Island</th><th scope=col>Vermont</th></tr>\n",
       "\t<tr><th scope=col>&lt;dbl&gt;</th><th scope=col>&lt;int&gt;</th><th scope=col>&lt;int&gt;</th><th scope=col>&lt;int&gt;</th><th scope=col>&lt;int&gt;</th><th scope=col>&lt;int&gt;</th><th scope=col>&lt;int&gt;</th></tr>\n",
       "</thead>\n",
       "<tbody>\n",
       "\t<tr><td>3</td><td> 6872</td><td> 434</td><td> 13118</td><td> 651</td><td>  827</td><td> 508</td></tr>\n",
       "\t<tr><td>4</td><td>18575</td><td> 725</td><td> 47499</td><td>1649</td><td> 6843</td><td> 531</td></tr>\n",
       "\t<tr><td>5</td><td>11936</td><td>1575</td><td> 28798</td><td>2179</td><td>14653</td><td>1201</td></tr>\n",
       "\t<tr><td>6</td><td> 2619</td><td>1185</td><td>  5545</td><td> 751</td><td> 1426</td><td> 815</td></tr>\n",
       "\t<tr><td>7</td><td> 2290</td><td>1046</td><td>  7621</td><td> 827</td><td>65562</td><td> 731</td></tr>\n",
       "\t<tr><td>8</td><td> 3710</td><td> 949</td><td>127243</td><td> 604</td><td>75338</td><td> 602</td></tr>\n",
       "\t<tr><td>2</td><td>   NA</td><td>  NA</td><td>     2</td><td>   1</td><td>   NA</td><td>  NA</td></tr>\n",
       "</tbody>\n",
       "</table>\n"
      ],
      "text/latex": [
       "A tibble: 7 × 7\n",
       "\\begin{tabular}{lllllll}\n",
       " month & Connecticut & Maine & Massachusetts & New Hampshire & Rhode Island & Vermont\\\\\n",
       " <dbl> & <int> & <int> & <int> & <int> & <int> & <int>\\\\\n",
       "\\hline\n",
       "\t 3 &  6872 &  434 &  13118 &  651 &   827 &  508\\\\\n",
       "\t 4 & 18575 &  725 &  47499 & 1649 &  6843 &  531\\\\\n",
       "\t 5 & 11936 & 1575 &  28798 & 2179 & 14653 & 1201\\\\\n",
       "\t 6 &  2619 & 1185 &   5545 &  751 &  1426 &  815\\\\\n",
       "\t 7 &  2290 & 1046 &   7621 &  827 & 65562 &  731\\\\\n",
       "\t 8 &  3710 &  949 & 127243 &  604 & 75338 &  602\\\\\n",
       "\t 2 &    NA &   NA &      2 &    1 &    NA &   NA\\\\\n",
       "\\end{tabular}\n"
      ],
      "text/markdown": [
       "\n",
       "A tibble: 7 × 7\n",
       "\n",
       "| month &lt;dbl&gt; | Connecticut &lt;int&gt; | Maine &lt;int&gt; | Massachusetts &lt;int&gt; | New Hampshire &lt;int&gt; | Rhode Island &lt;int&gt; | Vermont &lt;int&gt; |\n",
       "|---|---|---|---|---|---|---|\n",
       "| 3 |  6872 |  434 |  13118 |  651 |   827 |  508 |\n",
       "| 4 | 18575 |  725 |  47499 | 1649 |  6843 |  531 |\n",
       "| 5 | 11936 | 1575 |  28798 | 2179 | 14653 | 1201 |\n",
       "| 6 |  2619 | 1185 |   5545 |  751 |  1426 |  815 |\n",
       "| 7 |  2290 | 1046 |   7621 |  827 | 65562 |  731 |\n",
       "| 8 |  3710 |  949 | 127243 |  604 | 75338 |  602 |\n",
       "| 2 |    NA |   NA |      2 |    1 |    NA |   NA |\n",
       "\n"
      ],
      "text/plain": [
       "  month Connecticut Maine Massachusetts New Hampshire Rhode Island Vermont\n",
       "1 3      6872        434   13118         651            827         508   \n",
       "2 4     18575        725   47499        1649           6843         531   \n",
       "3 5     11936       1575   28798        2179          14653        1201   \n",
       "4 6      2619       1185    5545         751           1426         815   \n",
       "5 7      2290       1046    7621         827          65562         731   \n",
       "6 8      3710        949  127243         604          75338         602   \n",
       "7 2        NA         NA       2           1             NA          NA   "
      ]
     },
     "metadata": {},
     "output_type": "display_data"
    }
   ],
   "source": [
    "pivot_wider(ne_cases, names_from=state, values_from=total_cases)"
   ]
  },
  {
   "cell_type": "markdown",
   "id": "745457f8",
   "metadata": {},
   "source": [
    "### Practice Question \n",
    "\n",
    "Something involving pivots"
   ]
  },
  {
   "cell_type": "code",
   "execution_count": 15,
   "id": "f90edd4d",
   "metadata": {},
   "outputs": [],
   "source": [
    "# Solution:"
   ]
  },
  {
   "cell_type": "markdown",
   "id": "eb324f15",
   "metadata": {},
   "source": [
    "The pivots above were relatively simple in that there was one set of values we were pivoting on (e.g. the lockdown date, covid cases). For more complex pivots, the [`tidyr` package](https://tidyr.tidyverse.org/articles/pivot.html) provides examples that follow other common formats. We demonstrate some of these formats in the video below. \n",
    "\n",
    "### Pivot Video\n",
    "\n",
    "\n",
    "<div class=\"video-container\">\n",
    "    <iframe width=\"700\" height=\"500\" src=\"https://www.youtube.com/embed/X4JnidcfUJw\" title=\"YouTube video player\" frameborder=\"0\" allow=\"accelerometer; autoplay; clipboard-write; encrypted-media; gyroscope; picture-in-picture; web-share\" allowfullscreen></iframe>\n",
    "</div>"
   ]
  },
  {
   "cell_type": "markdown",
   "id": "49f61194",
   "metadata": {},
   "source": [
    "## Merging Data with Joins\n",
    "\n",
    "Above, we saw how to manipulate our current data into a new format. Now, we will see how we can combine our multiple data sources. Merging two data frames is called joining and the function we will use depends on how we want to match between the data frames. The image below shows an overview of the different joins and the video talks through each join type.\n",
    "\n",
    "**Types of Joins**:\n",
    "* `left_join(table1,table2,by)`: Joins each row of table1 with all matches in table2 \n",
    "*  `right_join(table1,table2,by)`: Joins each row of table2 with all matches in table1 (the opposite of a left join) \n",
    "* `inner_join(table1,table2,by)`: Looks for all matches between rows in table1 and table2. Rows that do not find a match are dropped.  \n",
    "* `full_join(table1,table2,by)`: Keeps all rows from both tables and joins those that match. Rows that do not find a match will have NA values filled in.   \n",
    "* `semi_join(table1,table2,by)`: Keeps all rows in table1 that have a match in table2 but does not join to any information from table2.  \n",
    "* `anti_join(table1,table2,by)`: Keeps all rows in table1 that *do not* have a match in table 2 but does not join to any information from table2. The opposite of a semi join.  \n",
    "\n",
    "### Types of Joins Video\n",
    "\n",
    "<div class=\"video-container\">\n",
    "    <iframe width=\"700\" height=\"500\" src=\"https://www.youtube.com/embed/slazeLLQBoY\" title=\"YouTube video player\" frameborder=\"0\" allow=\"accelerometer; autoplay; clipboard-write; encrypted-media; gyroscope; picture-in-picture; web-share\" allowfullscreen></iframe>\n",
    "</div>"
   ]
  },
  {
   "cell_type": "markdown",
   "id": "6e6483e8",
   "metadata": {},
   "source": [
    "We will first demonstate a left join using the `left_join()` function. This function takes in two data tables (table1 and table 2) and the columns to match rows by. In a left join, for every row of table1, we look for all matching rows in table2 and add any columns not used to do the matching. Thus, every row in table1 corresponds to at least one entry in the resulting table but possibly more if there are multiple matches. We will use a left join to add the lockdown information to our case data. In this case, the first table will be `covidcases` and we will match by `state`. Since the state column is slightly different between the two data frames we specify that `state` is equivalent to `State` in the `by` argument."
   ]
  },
  {
   "cell_type": "code",
   "execution_count": 16,
   "id": "99844170",
   "metadata": {},
   "outputs": [
    {
     "data": {
      "text/html": [
       "<table class=\"dataframe\">\n",
       "<caption>A grouped_df: 6 × 8</caption>\n",
       "<thead>\n",
       "\t<tr><th scope=col>state</th><th scope=col>county</th><th scope=col>week</th><th scope=col>weekly_cases</th><th scope=col>weekly_deaths</th><th scope=col>date</th><th scope=col>Lockdown_Start</th><th scope=col>Lockdown_End</th></tr>\n",
       "\t<tr><th scope=col>&lt;chr&gt;</th><th scope=col>&lt;chr&gt;</th><th scope=col>&lt;dbl&gt;</th><th scope=col>&lt;int&gt;</th><th scope=col>&lt;int&gt;</th><th scope=col>&lt;date&gt;</th><th scope=col>&lt;date&gt;</th><th scope=col>&lt;date&gt;</th></tr>\n",
       "</thead>\n",
       "<tbody>\n",
       "\t<tr><td>Alabama</td><td>Autauga</td><td>12</td><td> 3</td><td>0</td><td>2020-03-15</td><td>2020-04-04</td><td>2020-04-30</td></tr>\n",
       "\t<tr><td>Alabama</td><td>Autauga</td><td>13</td><td> 3</td><td>0</td><td>2020-03-22</td><td>2020-04-04</td><td>2020-04-30</td></tr>\n",
       "\t<tr><td>Alabama</td><td>Autauga</td><td>14</td><td> 2</td><td>1</td><td>2020-03-29</td><td>2020-04-04</td><td>2020-04-30</td></tr>\n",
       "\t<tr><td>Alabama</td><td>Autauga</td><td>15</td><td>11</td><td>1</td><td>2020-04-05</td><td>2020-04-04</td><td>2020-04-30</td></tr>\n",
       "\t<tr><td>Alabama</td><td>Autauga</td><td>16</td><td> 5</td><td>1</td><td>2020-04-12</td><td>2020-04-04</td><td>2020-04-30</td></tr>\n",
       "\t<tr><td>Alabama</td><td>Autauga</td><td>17</td><td> 8</td><td>2</td><td>2020-04-19</td><td>2020-04-04</td><td>2020-04-30</td></tr>\n",
       "</tbody>\n",
       "</table>\n"
      ],
      "text/latex": [
       "A grouped\\_df: 6 × 8\n",
       "\\begin{tabular}{llllllll}\n",
       " state & county & week & weekly\\_cases & weekly\\_deaths & date & Lockdown\\_Start & Lockdown\\_End\\\\\n",
       " <chr> & <chr> & <dbl> & <int> & <int> & <date> & <date> & <date>\\\\\n",
       "\\hline\n",
       "\t Alabama & Autauga & 12 &  3 & 0 & 2020-03-15 & 2020-04-04 & 2020-04-30\\\\\n",
       "\t Alabama & Autauga & 13 &  3 & 0 & 2020-03-22 & 2020-04-04 & 2020-04-30\\\\\n",
       "\t Alabama & Autauga & 14 &  2 & 1 & 2020-03-29 & 2020-04-04 & 2020-04-30\\\\\n",
       "\t Alabama & Autauga & 15 & 11 & 1 & 2020-04-05 & 2020-04-04 & 2020-04-30\\\\\n",
       "\t Alabama & Autauga & 16 &  5 & 1 & 2020-04-12 & 2020-04-04 & 2020-04-30\\\\\n",
       "\t Alabama & Autauga & 17 &  8 & 2 & 2020-04-19 & 2020-04-04 & 2020-04-30\\\\\n",
       "\\end{tabular}\n"
      ],
      "text/markdown": [
       "\n",
       "A grouped_df: 6 × 8\n",
       "\n",
       "| state &lt;chr&gt; | county &lt;chr&gt; | week &lt;dbl&gt; | weekly_cases &lt;int&gt; | weekly_deaths &lt;int&gt; | date &lt;date&gt; | Lockdown_Start &lt;date&gt; | Lockdown_End &lt;date&gt; |\n",
       "|---|---|---|---|---|---|---|---|\n",
       "| Alabama | Autauga | 12 |  3 | 0 | 2020-03-15 | 2020-04-04 | 2020-04-30 |\n",
       "| Alabama | Autauga | 13 |  3 | 0 | 2020-03-22 | 2020-04-04 | 2020-04-30 |\n",
       "| Alabama | Autauga | 14 |  2 | 1 | 2020-03-29 | 2020-04-04 | 2020-04-30 |\n",
       "| Alabama | Autauga | 15 | 11 | 1 | 2020-04-05 | 2020-04-04 | 2020-04-30 |\n",
       "| Alabama | Autauga | 16 |  5 | 1 | 2020-04-12 | 2020-04-04 | 2020-04-30 |\n",
       "| Alabama | Autauga | 17 |  8 | 2 | 2020-04-19 | 2020-04-04 | 2020-04-30 |\n",
       "\n"
      ],
      "text/plain": [
       "  state   county  week weekly_cases weekly_deaths date       Lockdown_Start\n",
       "1 Alabama Autauga 12    3           0             2020-03-15 2020-04-04    \n",
       "2 Alabama Autauga 13    3           0             2020-03-22 2020-04-04    \n",
       "3 Alabama Autauga 14    2           1             2020-03-29 2020-04-04    \n",
       "4 Alabama Autauga 15   11           1             2020-04-05 2020-04-04    \n",
       "5 Alabama Autauga 16    5           1             2020-04-12 2020-04-04    \n",
       "6 Alabama Autauga 17    8           2             2020-04-19 2020-04-04    \n",
       "  Lockdown_End\n",
       "1 2020-04-30  \n",
       "2 2020-04-30  \n",
       "3 2020-04-30  \n",
       "4 2020-04-30  \n",
       "5 2020-04-30  \n",
       "6 2020-04-30  "
      ]
     },
     "metadata": {},
     "output_type": "display_data"
    }
   ],
   "source": [
    "covidcases_full <- left_join(covidcases, lockdowndates, by=c(\"state\"=\"State\"))\n",
    "head(covidcases_full)"
   ]
  },
  {
   "cell_type": "markdown",
   "id": "848f8790",
   "metadata": {},
   "source": [
    "These two new columns will allow us to determine whether a given day was during a lockdown. We use the `between` function to create a new column `lockdown` before dropping the two date columns. We can check that this column worked as expected by choosing a single county to look at. "
   ]
  },
  {
   "cell_type": "code",
   "execution_count": 17,
   "id": "dbf8d999",
   "metadata": {},
   "outputs": [
    {
     "data": {
      "text/html": [
       "<table class=\"dataframe\">\n",
       "<caption>A grouped_df: 10 × 7</caption>\n",
       "<thead>\n",
       "\t<tr><th scope=col>state</th><th scope=col>county</th><th scope=col>week</th><th scope=col>weekly_cases</th><th scope=col>weekly_deaths</th><th scope=col>date</th><th scope=col>lockdown</th></tr>\n",
       "\t<tr><th scope=col>&lt;chr&gt;</th><th scope=col>&lt;chr&gt;</th><th scope=col>&lt;dbl&gt;</th><th scope=col>&lt;int&gt;</th><th scope=col>&lt;int&gt;</th><th scope=col>&lt;date&gt;</th><th scope=col>&lt;lgl&gt;</th></tr>\n",
       "</thead>\n",
       "<tbody>\n",
       "\t<tr><td>Alabama</td><td>Jefferson</td><td>11</td><td> 19</td><td> 0</td><td>2020-03-08</td><td>FALSE</td></tr>\n",
       "\t<tr><td>Alabama</td><td>Jefferson</td><td>12</td><td> 66</td><td> 0</td><td>2020-03-15</td><td>FALSE</td></tr>\n",
       "\t<tr><td>Alabama</td><td>Jefferson</td><td>13</td><td>153</td><td> 0</td><td>2020-03-22</td><td>FALSE</td></tr>\n",
       "\t<tr><td>Alabama</td><td>Jefferson</td><td>14</td><td>156</td><td> 8</td><td>2020-03-29</td><td>FALSE</td></tr>\n",
       "\t<tr><td>Alabama</td><td>Jefferson</td><td>15</td><td>128</td><td> 2</td><td>2020-04-05</td><td> TRUE</td></tr>\n",
       "\t<tr><td>Alabama</td><td>Jefferson</td><td>16</td><td> 72</td><td> 9</td><td>2020-04-12</td><td> TRUE</td></tr>\n",
       "\t<tr><td>Alabama</td><td>Jefferson</td><td>17</td><td>117</td><td>10</td><td>2020-04-19</td><td> TRUE</td></tr>\n",
       "\t<tr><td>Alabama</td><td>Jefferson</td><td>18</td><td>139</td><td> 5</td><td>2020-04-26</td><td> TRUE</td></tr>\n",
       "\t<tr><td>Alabama</td><td>Jefferson</td><td>19</td><td>105</td><td> 9</td><td>2020-05-03</td><td>FALSE</td></tr>\n",
       "\t<tr><td>Alabama</td><td>Jefferson</td><td>20</td><td>168</td><td>14</td><td>2020-05-10</td><td>FALSE</td></tr>\n",
       "</tbody>\n",
       "</table>\n"
      ],
      "text/latex": [
       "A grouped\\_df: 10 × 7\n",
       "\\begin{tabular}{lllllll}\n",
       " state & county & week & weekly\\_cases & weekly\\_deaths & date & lockdown\\\\\n",
       " <chr> & <chr> & <dbl> & <int> & <int> & <date> & <lgl>\\\\\n",
       "\\hline\n",
       "\t Alabama & Jefferson & 11 &  19 &  0 & 2020-03-08 & FALSE\\\\\n",
       "\t Alabama & Jefferson & 12 &  66 &  0 & 2020-03-15 & FALSE\\\\\n",
       "\t Alabama & Jefferson & 13 & 153 &  0 & 2020-03-22 & FALSE\\\\\n",
       "\t Alabama & Jefferson & 14 & 156 &  8 & 2020-03-29 & FALSE\\\\\n",
       "\t Alabama & Jefferson & 15 & 128 &  2 & 2020-04-05 &  TRUE\\\\\n",
       "\t Alabama & Jefferson & 16 &  72 &  9 & 2020-04-12 &  TRUE\\\\\n",
       "\t Alabama & Jefferson & 17 & 117 & 10 & 2020-04-19 &  TRUE\\\\\n",
       "\t Alabama & Jefferson & 18 & 139 &  5 & 2020-04-26 &  TRUE\\\\\n",
       "\t Alabama & Jefferson & 19 & 105 &  9 & 2020-05-03 & FALSE\\\\\n",
       "\t Alabama & Jefferson & 20 & 168 & 14 & 2020-05-10 & FALSE\\\\\n",
       "\\end{tabular}\n"
      ],
      "text/markdown": [
       "\n",
       "A grouped_df: 10 × 7\n",
       "\n",
       "| state &lt;chr&gt; | county &lt;chr&gt; | week &lt;dbl&gt; | weekly_cases &lt;int&gt; | weekly_deaths &lt;int&gt; | date &lt;date&gt; | lockdown &lt;lgl&gt; |\n",
       "|---|---|---|---|---|---|---|\n",
       "| Alabama | Jefferson | 11 |  19 |  0 | 2020-03-08 | FALSE |\n",
       "| Alabama | Jefferson | 12 |  66 |  0 | 2020-03-15 | FALSE |\n",
       "| Alabama | Jefferson | 13 | 153 |  0 | 2020-03-22 | FALSE |\n",
       "| Alabama | Jefferson | 14 | 156 |  8 | 2020-03-29 | FALSE |\n",
       "| Alabama | Jefferson | 15 | 128 |  2 | 2020-04-05 |  TRUE |\n",
       "| Alabama | Jefferson | 16 |  72 |  9 | 2020-04-12 |  TRUE |\n",
       "| Alabama | Jefferson | 17 | 117 | 10 | 2020-04-19 |  TRUE |\n",
       "| Alabama | Jefferson | 18 | 139 |  5 | 2020-04-26 |  TRUE |\n",
       "| Alabama | Jefferson | 19 | 105 |  9 | 2020-05-03 | FALSE |\n",
       "| Alabama | Jefferson | 20 | 168 | 14 | 2020-05-10 | FALSE |\n",
       "\n"
      ],
      "text/plain": [
       "   state   county    week weekly_cases weekly_deaths date       lockdown\n",
       "1  Alabama Jefferson 11    19           0            2020-03-08 FALSE   \n",
       "2  Alabama Jefferson 12    66           0            2020-03-15 FALSE   \n",
       "3  Alabama Jefferson 13   153           0            2020-03-22 FALSE   \n",
       "4  Alabama Jefferson 14   156           8            2020-03-29 FALSE   \n",
       "5  Alabama Jefferson 15   128           2            2020-04-05  TRUE   \n",
       "6  Alabama Jefferson 16    72           9            2020-04-12  TRUE   \n",
       "7  Alabama Jefferson 17   117          10            2020-04-19  TRUE   \n",
       "8  Alabama Jefferson 18   139           5            2020-04-26  TRUE   \n",
       "9  Alabama Jefferson 19   105           9            2020-05-03 FALSE   \n",
       "10 Alabama Jefferson 20   168          14            2020-05-10 FALSE   "
      ]
     },
     "metadata": {},
     "output_type": "display_data"
    }
   ],
   "source": [
    "covidcases_full <- covidcases_full %>%\n",
    "  mutate(lockdown = between(date, Lockdown_Start, Lockdown_End)) %>%\n",
    "  select(-c(Lockdown_Start, Lockdown_End)) \n",
    "covidcases_full %>%\n",
    "  filter(state == \"Alabama\", county == \"Jefferson\", date <= as.Date(\"2020-05-10\"))"
   ]
  },
  {
   "cell_type": "markdown",
   "id": "6d4bd657",
   "metadata": {},
   "source": [
    "We now want to add in the mobility data. In the last case, we wanted to keep any observation in `covidcases` regardless if it was in the `lockdowndates` data frame. Therefore, we used a left join. In this case, we will only want to keep observations that have mobility date for that state on each date. This indicates that we want to use an *inner join*. The function `inner_join()` takes in two data tables (table1 and table2) and the columns to match rows by. The function only keeps rows in table1 that match to a row in table2. Again, those columns in table2 not used to match with table1 are added to the resulting outcome. In this case, we match by state and date."
   ]
  },
  {
   "cell_type": "code",
   "execution_count": 18,
   "id": "e043999d",
   "metadata": {},
   "outputs": [
    {
     "data": {
      "text/html": [
       "<table class=\"dataframe\">\n",
       "<caption>A grouped_df: 6 × 8</caption>\n",
       "<thead>\n",
       "\t<tr><th scope=col>state</th><th scope=col>county</th><th scope=col>week</th><th scope=col>weekly_cases</th><th scope=col>weekly_deaths</th><th scope=col>date</th><th scope=col>lockdown</th><th scope=col>m50</th></tr>\n",
       "\t<tr><th scope=col>&lt;chr&gt;</th><th scope=col>&lt;chr&gt;</th><th scope=col>&lt;dbl&gt;</th><th scope=col>&lt;int&gt;</th><th scope=col>&lt;int&gt;</th><th scope=col>&lt;date&gt;</th><th scope=col>&lt;lgl&gt;</th><th scope=col>&lt;dbl&gt;</th></tr>\n",
       "</thead>\n",
       "<tbody>\n",
       "\t<tr><td>Alabama</td><td>Autauga</td><td>12</td><td> 3</td><td>0</td><td>2020-03-15</td><td>FALSE</td><td>8.7726029</td></tr>\n",
       "\t<tr><td>Alabama</td><td>Autauga</td><td>13</td><td> 3</td><td>0</td><td>2020-03-22</td><td>FALSE</td><td>4.7300882</td></tr>\n",
       "\t<tr><td>Alabama</td><td>Autauga</td><td>14</td><td> 2</td><td>1</td><td>2020-03-29</td><td>FALSE</td><td>4.4322206</td></tr>\n",
       "\t<tr><td>Alabama</td><td>Autauga</td><td>15</td><td>11</td><td>1</td><td>2020-04-05</td><td> TRUE</td><td>2.2699853</td></tr>\n",
       "\t<tr><td>Alabama</td><td>Autauga</td><td>16</td><td> 5</td><td>1</td><td>2020-04-12</td><td> TRUE</td><td>0.7587794</td></tr>\n",
       "\t<tr><td>Alabama</td><td>Autauga</td><td>17</td><td> 8</td><td>2</td><td>2020-04-19</td><td> TRUE</td><td>1.5075441</td></tr>\n",
       "</tbody>\n",
       "</table>\n"
      ],
      "text/latex": [
       "A grouped\\_df: 6 × 8\n",
       "\\begin{tabular}{llllllll}\n",
       " state & county & week & weekly\\_cases & weekly\\_deaths & date & lockdown & m50\\\\\n",
       " <chr> & <chr> & <dbl> & <int> & <int> & <date> & <lgl> & <dbl>\\\\\n",
       "\\hline\n",
       "\t Alabama & Autauga & 12 &  3 & 0 & 2020-03-15 & FALSE & 8.7726029\\\\\n",
       "\t Alabama & Autauga & 13 &  3 & 0 & 2020-03-22 & FALSE & 4.7300882\\\\\n",
       "\t Alabama & Autauga & 14 &  2 & 1 & 2020-03-29 & FALSE & 4.4322206\\\\\n",
       "\t Alabama & Autauga & 15 & 11 & 1 & 2020-04-05 &  TRUE & 2.2699853\\\\\n",
       "\t Alabama & Autauga & 16 &  5 & 1 & 2020-04-12 &  TRUE & 0.7587794\\\\\n",
       "\t Alabama & Autauga & 17 &  8 & 2 & 2020-04-19 &  TRUE & 1.5075441\\\\\n",
       "\\end{tabular}\n"
      ],
      "text/markdown": [
       "\n",
       "A grouped_df: 6 × 8\n",
       "\n",
       "| state &lt;chr&gt; | county &lt;chr&gt; | week &lt;dbl&gt; | weekly_cases &lt;int&gt; | weekly_deaths &lt;int&gt; | date &lt;date&gt; | lockdown &lt;lgl&gt; | m50 &lt;dbl&gt; |\n",
       "|---|---|---|---|---|---|---|---|\n",
       "| Alabama | Autauga | 12 |  3 | 0 | 2020-03-15 | FALSE | 8.7726029 |\n",
       "| Alabama | Autauga | 13 |  3 | 0 | 2020-03-22 | FALSE | 4.7300882 |\n",
       "| Alabama | Autauga | 14 |  2 | 1 | 2020-03-29 | FALSE | 4.4322206 |\n",
       "| Alabama | Autauga | 15 | 11 | 1 | 2020-04-05 |  TRUE | 2.2699853 |\n",
       "| Alabama | Autauga | 16 |  5 | 1 | 2020-04-12 |  TRUE | 0.7587794 |\n",
       "| Alabama | Autauga | 17 |  8 | 2 | 2020-04-19 |  TRUE | 1.5075441 |\n",
       "\n"
      ],
      "text/plain": [
       "  state   county  week weekly_cases weekly_deaths date       lockdown m50      \n",
       "1 Alabama Autauga 12    3           0             2020-03-15 FALSE    8.7726029\n",
       "2 Alabama Autauga 13    3           0             2020-03-22 FALSE    4.7300882\n",
       "3 Alabama Autauga 14    2           1             2020-03-29 FALSE    4.4322206\n",
       "4 Alabama Autauga 15   11           1             2020-04-05  TRUE    2.2699853\n",
       "5 Alabama Autauga 16    5           1             2020-04-12  TRUE    0.7587794\n",
       "6 Alabama Autauga 17    8           2             2020-04-19  TRUE    1.5075441"
      ]
     },
     "metadata": {},
     "output_type": "display_data"
    }
   ],
   "source": [
    "covidcases_full <- inner_join(covidcases_full, mobility, by = c(\"state\", \"date\")) %>%\n",
    "  select(-c(samples, m50_index))\n",
    "head(covidcases_full)"
   ]
  },
  {
   "cell_type": "markdown",
   "id": "fe44865a",
   "metadata": {},
   "source": [
    "### Practice Question\n",
    "\n",
    "Something about joins"
   ]
  },
  {
   "cell_type": "code",
   "execution_count": 19,
   "id": "2e2d6a3c",
   "metadata": {},
   "outputs": [],
   "source": [
    "# Solution:"
   ]
  },
  {
   "cell_type": "markdown",
   "id": "76ae25fb",
   "metadata": {},
   "source": [
    "## Exercises"
   ]
  },
  {
   "cell_type": "markdown",
   "id": "93d4e2b3",
   "metadata": {},
   "source": [
    "1. Why does this code fail?"
   ]
  }
 ],
 "metadata": {
  "kernelspec": {
   "display_name": "R",
   "language": "R",
   "name": "ir"
  },
  "language_info": {
   "codemirror_mode": "r",
   "file_extension": ".r",
   "mimetype": "text/x-r-source",
   "name": "R",
   "pygments_lexer": "r",
   "version": "4.3.1"
  }
 },
 "nbformat": 4,
 "nbformat_minor": 5
}