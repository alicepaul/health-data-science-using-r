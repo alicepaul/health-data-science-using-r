{
 "cells": [
  {
   "cell_type": "markdown",
   "id": "decec34a",
   "metadata": {},
   "source": [
    "# 13. Expanding your R Skills\n",
    "\n",
    "Throughout this book we have covered some popular packages and specific functions from these packages. However, it is impossible to cover all the packages, functions, and options that R has. Additionally, as you start to apply these tools in new settings you may encounter some unexpected errors. Practicing reading package documentation and responding to error messages will help you be able to expand your R skills beyond the topics covered. \n",
    "\n",
    "We will demonstrate these skills using the `stringr` package, which is part of the tidyverse. This package has several functions for dealing with text data. "
   ]
  },
  {
   "cell_type": "code",
   "execution_count": 1,
   "id": "150992bd",
   "metadata": {},
   "outputs": [
    {
     "name": "stderr",
     "output_type": "stream",
     "text": [
      "── \u001b[1mAttaching core tidyverse packages\u001b[22m ──────────────────────── tidyverse 2.0.0 ──\n",
      "\u001b[32m✔\u001b[39m \u001b[34mdplyr    \u001b[39m 1.1.2     \u001b[32m✔\u001b[39m \u001b[34mreadr    \u001b[39m 2.1.4\n",
      "\u001b[32m✔\u001b[39m \u001b[34mforcats  \u001b[39m 1.0.0     \u001b[32m✔\u001b[39m \u001b[34mstringr  \u001b[39m 1.5.0\n",
      "\u001b[32m✔\u001b[39m \u001b[34mggplot2  \u001b[39m 3.4.2     \u001b[32m✔\u001b[39m \u001b[34mtibble   \u001b[39m 3.2.1\n",
      "\u001b[32m✔\u001b[39m \u001b[34mlubridate\u001b[39m 1.9.2     \u001b[32m✔\u001b[39m \u001b[34mtidyr    \u001b[39m 1.3.0\n",
      "\u001b[32m✔\u001b[39m \u001b[34mpurrr    \u001b[39m 1.0.1     \n"
     ]
    },
    {
     "name": "stderr",
     "output_type": "stream",
     "text": [
      "── \u001b[1mConflicts\u001b[22m ────────────────────────────────────────── tidyverse_conflicts() ──\n",
      "\u001b[31m✖\u001b[39m \u001b[34mdplyr\u001b[39m::\u001b[32mfilter()\u001b[39m masks \u001b[34mstats\u001b[39m::filter()\n",
      "\u001b[31m✖\u001b[39m \u001b[34mdplyr\u001b[39m::\u001b[32mlag()\u001b[39m    masks \u001b[34mstats\u001b[39m::lag()\n",
      "\u001b[36mℹ\u001b[39m Use the conflicted package (\u001b[3m\u001b[34m<http://conflicted.r-lib.org/>\u001b[39m\u001b[23m) to force all conflicts to become errors\n"
     ]
    }
   ],
   "source": [
    "library(tidyverse)"
   ]
  },
  {
   "cell_type": "markdown",
   "id": "2d236c99",
   "metadata": {},
   "source": [
    "## Reading Documentation for New Packages\n",
    "\n",
    "Every published package has a CRAN website. This website contains a reference manual which contains the documentation for the functions and data available in the package. Most often there are also useful vignettes that give examples using the package. The site also tells you the requirements for using the package, the authors, and when it was last updated. Take a look at the CRAN site for [stringr](https://cran.r-project.org/web/packages/stringr/index.html) and read the vignette [Introduction to String R](https://cran.r-project.org/web/packages/stringr/vignettes/stringr.html). \n",
    "\n",
    "We will use this package to clean up text related to a PubMed search query for a systematic review. An example search query is given below and is taken from [Adatia et al. (2021). Out-of-hospital cardiac arrest: a systematic review of current risk scores to predict survival. American heart journal, 234, 31-41](https://www.sciencedirect.com/science/article/abs/pii/S0002870320304130). Our first goal will be to extract the actual search query from the text along with all the terms used in the query. We can assume that the search query will either be fully contained in parantheses or will be a sequence of paranthetical phrases connected with AND or OR. However, there could be other paranthetical text such as \"(CENTRAL)\" below. We will ignore extra paranthetical text that are more than one word long for our example. "
   ]
  },
  {
   "cell_type": "code",
   "execution_count": 2,
   "id": "1d189236",
   "metadata": {},
   "outputs": [],
   "source": [
    "sample_str <- \" A systematic search will be performed in PubMed, Embase, and the Cochrane Library (CENTRAL), \n",
    "using the following search query:   ('out-of-hospital cardiac arrest' OR 'OHCA') AND ('MIRACLE 2' OR 'OHCA' OR \n",
    "'CAHP' OR 'C-GRAPH' OR 'SOFA' OR 'APACHE' OR 'SAPS’ OR ’SWAP’ OR ’TTM’).\""
   ]
  },
  {
   "cell_type": "markdown",
   "id": "12d87a4e",
   "metadata": {},
   "source": [
    "The first thing we want to do with the text remove any trailing, leading, or multiple spaces. In our example, the string starts with a trailing space and there are multiple spaces right before the search query. Searching for \"whitespace\" in the stringr reference manual we find the `str_trim()` and `str_squish()` functions. Read the documentation for these two functions. You should find that `str_squish()` is the function we are looking for and it takes two arguments. "
   ]
  },
  {
   "cell_type": "code",
   "execution_count": 3,
   "id": "ff220124",
   "metadata": {},
   "outputs": [
    {
     "data": {
      "text/html": [
       "'A systematic search will be performed in PubMed, Embase, and the Cochrane Library (CENTRAL), using the following search query: (\\'out-of-hospital cardiac arrest\\' OR \\'OHCA\\') AND (\\'MIRACLE 2\\' OR \\'OHCA\\' OR \\'CAHP\\' OR \\'C-GRAPH\\' OR \\'SOFA\\' OR \\'APACHE\\' OR \\'SAPS’ OR ’SWAP’ OR ’TTM’).'"
      ],
      "text/latex": [
       "'A systematic search will be performed in PubMed, Embase, and the Cochrane Library (CENTRAL), using the following search query: (\\textbackslash{}'out-of-hospital cardiac arrest\\textbackslash{}' OR \\textbackslash{}'OHCA\\textbackslash{}') AND (\\textbackslash{}'MIRACLE 2\\textbackslash{}' OR \\textbackslash{}'OHCA\\textbackslash{}' OR \\textbackslash{}'CAHP\\textbackslash{}' OR \\textbackslash{}'C-GRAPH\\textbackslash{}' OR \\textbackslash{}'SOFA\\textbackslash{}' OR \\textbackslash{}'APACHE\\textbackslash{}' OR \\textbackslash{}'SAPS’ OR ’SWAP’ OR ’TTM’).'"
      ],
      "text/markdown": [
       "'A systematic search will be performed in PubMed, Embase, and the Cochrane Library (CENTRAL), using the following search query: (\\'out-of-hospital cardiac arrest\\' OR \\'OHCA\\') AND (\\'MIRACLE 2\\' OR \\'OHCA\\' OR \\'CAHP\\' OR \\'C-GRAPH\\' OR \\'SOFA\\' OR \\'APACHE\\' OR \\'SAPS’ OR ’SWAP’ OR ’TTM’).'"
      ],
      "text/plain": [
       "[1] \"A systematic search will be performed in PubMed, Embase, and the Cochrane Library (CENTRAL), using the following search query: ('out-of-hospital cardiac arrest' OR 'OHCA') AND ('MIRACLE 2' OR 'OHCA' OR 'CAHP' OR 'C-GRAPH' OR 'SOFA' OR 'APACHE' OR 'SAPS’ OR ’SWAP’ OR ’TTM’).\""
      ]
     },
     "metadata": {},
     "output_type": "display_data"
    }
   ],
   "source": [
    "sample_str <- str_squish(sample_str)\n",
    "sample_str"
   ]
  },
  {
   "cell_type": "markdown",
   "id": "cb1b2f64",
   "metadata": {},
   "source": [
    "## Trying Simple Examples\n",
    "\n",
    "Above is a good example of starting with a simple case. Rather than applying my function to my full data yet, I want to make sure I understand how it works on a simple example on which I can anticipate what the outcome should look like. My next task will be to split the text into words stored as a character vector. Read the documentation to determine why I used the `str_split_1()` function below. I double check that the returned result is indeed a vector and print the result."
   ]
  },
  {
   "cell_type": "code",
   "execution_count": 4,
   "id": "7ff8ebf1",
   "metadata": {},
   "outputs": [
    {
     "data": {
      "text/html": [
       "'character'"
      ],
      "text/latex": [
       "'character'"
      ],
      "text/markdown": [
       "'character'"
      ],
      "text/plain": [
       "[1] \"character\""
      ]
     },
     "metadata": {},
     "output_type": "display_data"
    },
    {
     "data": {
      "text/html": [
       "<style>\n",
       ".list-inline {list-style: none; margin:0; padding: 0}\n",
       ".list-inline>li {display: inline-block}\n",
       ".list-inline>li:not(:last-child)::after {content: \"\\00b7\"; padding: 0 .5ex}\n",
       "</style>\n",
       "<ol class=list-inline><li>'A'</li><li>'systematic'</li><li>'search'</li><li>'will'</li><li>'be'</li><li>'performed'</li><li>'in'</li><li>'PubMed,'</li><li>'Embase,'</li><li>'and'</li><li>'the'</li><li>'Cochrane'</li><li>'Library'</li><li>'(CENTRAL),'</li><li>'using'</li><li>'the'</li><li>'following'</li><li>'search'</li><li>'query:'</li><li>'(\\'out-of-hospital'</li><li>'cardiac'</li><li>'arrest\\''</li><li>'OR'</li><li>'\\'OHCA\\')'</li><li>'AND'</li><li>'(\\'MIRACLE'</li><li>'2\\''</li><li>'OR'</li><li>'\\'OHCA\\''</li><li>'OR'</li><li>'\\'CAHP\\''</li><li>'OR'</li><li>'\\'C-GRAPH\\''</li><li>'OR'</li><li>'\\'SOFA\\''</li><li>'OR'</li><li>'\\'APACHE\\''</li><li>'OR'</li><li>'\\'SAPS’'</li><li>'OR'</li><li>'’SWAP’'</li><li>'OR'</li><li>'’TTM’).'</li></ol>\n"
      ],
      "text/latex": [
       "\\begin{enumerate*}\n",
       "\\item 'A'\n",
       "\\item 'systematic'\n",
       "\\item 'search'\n",
       "\\item 'will'\n",
       "\\item 'be'\n",
       "\\item 'performed'\n",
       "\\item 'in'\n",
       "\\item 'PubMed,'\n",
       "\\item 'Embase,'\n",
       "\\item 'and'\n",
       "\\item 'the'\n",
       "\\item 'Cochrane'\n",
       "\\item 'Library'\n",
       "\\item '(CENTRAL),'\n",
       "\\item 'using'\n",
       "\\item 'the'\n",
       "\\item 'following'\n",
       "\\item 'search'\n",
       "\\item 'query:'\n",
       "\\item '(\\textbackslash{}'out-of-hospital'\n",
       "\\item 'cardiac'\n",
       "\\item 'arrest\\textbackslash{}''\n",
       "\\item 'OR'\n",
       "\\item '\\textbackslash{}'OHCA\\textbackslash{}')'\n",
       "\\item 'AND'\n",
       "\\item '(\\textbackslash{}'MIRACLE'\n",
       "\\item '2\\textbackslash{}''\n",
       "\\item 'OR'\n",
       "\\item '\\textbackslash{}'OHCA\\textbackslash{}''\n",
       "\\item 'OR'\n",
       "\\item '\\textbackslash{}'CAHP\\textbackslash{}''\n",
       "\\item 'OR'\n",
       "\\item '\\textbackslash{}'C-GRAPH\\textbackslash{}''\n",
       "\\item 'OR'\n",
       "\\item '\\textbackslash{}'SOFA\\textbackslash{}''\n",
       "\\item 'OR'\n",
       "\\item '\\textbackslash{}'APACHE\\textbackslash{}''\n",
       "\\item 'OR'\n",
       "\\item '\\textbackslash{}'SAPS’'\n",
       "\\item 'OR'\n",
       "\\item '’SWAP’'\n",
       "\\item 'OR'\n",
       "\\item '’TTM’).'\n",
       "\\end{enumerate*}\n"
      ],
      "text/markdown": [
       "1. 'A'\n",
       "2. 'systematic'\n",
       "3. 'search'\n",
       "4. 'will'\n",
       "5. 'be'\n",
       "6. 'performed'\n",
       "7. 'in'\n",
       "8. 'PubMed,'\n",
       "9. 'Embase,'\n",
       "10. 'and'\n",
       "11. 'the'\n",
       "12. 'Cochrane'\n",
       "13. 'Library'\n",
       "14. '(CENTRAL),'\n",
       "15. 'using'\n",
       "16. 'the'\n",
       "17. 'following'\n",
       "18. 'search'\n",
       "19. 'query:'\n",
       "20. '(\\'out-of-hospital'\n",
       "21. 'cardiac'\n",
       "22. 'arrest\\''\n",
       "23. 'OR'\n",
       "24. '\\'OHCA\\')'\n",
       "25. 'AND'\n",
       "26. '(\\'MIRACLE'\n",
       "27. '2\\''\n",
       "28. 'OR'\n",
       "29. '\\'OHCA\\''\n",
       "30. 'OR'\n",
       "31. '\\'CAHP\\''\n",
       "32. 'OR'\n",
       "33. '\\'C-GRAPH\\''\n",
       "34. 'OR'\n",
       "35. '\\'SOFA\\''\n",
       "36. 'OR'\n",
       "37. '\\'APACHE\\''\n",
       "38. 'OR'\n",
       "39. '\\'SAPS’'\n",
       "40. 'OR'\n",
       "41. '’SWAP’'\n",
       "42. 'OR'\n",
       "43. '’TTM’).'\n",
       "\n",
       "\n"
      ],
      "text/plain": [
       " [1] \"A\"                 \"systematic\"        \"search\"           \n",
       " [4] \"will\"              \"be\"                \"performed\"        \n",
       " [7] \"in\"                \"PubMed,\"           \"Embase,\"          \n",
       "[10] \"and\"               \"the\"               \"Cochrane\"         \n",
       "[13] \"Library\"           \"(CENTRAL),\"        \"using\"            \n",
       "[16] \"the\"               \"following\"         \"search\"           \n",
       "[19] \"query:\"            \"('out-of-hospital\" \"cardiac\"          \n",
       "[22] \"arrest'\"           \"OR\"                \"'OHCA')\"          \n",
       "[25] \"AND\"               \"('MIRACLE\"         \"2'\"               \n",
       "[28] \"OR\"                \"'OHCA'\"            \"OR\"               \n",
       "[31] \"'CAHP'\"            \"OR\"                \"'C-GRAPH'\"        \n",
       "[34] \"OR\"                \"'SOFA'\"            \"OR\"               \n",
       "[37] \"'APACHE'\"          \"OR\"                \"'SAPS’\"           \n",
       "[40] \"OR\"                \"’SWAP’\"            \"OR\"               \n",
       "[43] \"’TTM’).\"          "
      ]
     },
     "metadata": {},
     "output_type": "display_data"
    }
   ],
   "source": [
    "sample_str_words <- str_split_1(sample_str, \" \")\n",
    "class(sample_str_words)\n",
    "sample_str_words"
   ]
  },
  {
   "cell_type": "markdown",
   "id": "67d304f8",
   "metadata": {},
   "source": [
    "We now want to identify words in this vector that have a starting and/or end parantheses. The function `grepl()` takes in a character vector `x` and a pattern to search for. It returns a logical vector for whether or not each element of x has a match for that pattern."
   ]
  },
  {
   "cell_type": "code",
   "execution_count": 5,
   "id": "71e62645",
   "metadata": {},
   "outputs": [
    {
     "name": "stderr",
     "output_type": "stream",
     "text": [
      "Warning message in grepl(sample_str_words, \")\"):\n",
      "“argument 'pattern' has length > 1 and only the first element will be used”\n"
     ]
    },
    {
     "data": {
      "text/html": [
       "FALSE"
      ],
      "text/latex": [
       "FALSE"
      ],
      "text/markdown": [
       "FALSE"
      ],
      "text/plain": [
       "[1] FALSE"
      ]
     },
     "metadata": {},
     "output_type": "display_data"
    }
   ],
   "source": [
    "grepl(sample_str_words, \")\")"
   ]
  },
  {
   "cell_type": "markdown",
   "id": "77162277",
   "metadata": {},
   "source": [
    "Huh, that didn't match what I expected! I expected to have multiple TRUE/FALSE values outputted - one for each word. Let's read the documentation again. "
   ]
  },
  {
   "cell_type": "markdown",
   "id": "977b2454",
   "metadata": {},
   "source": [
    "## Deciphering Error Messages and Warnings\n",
    "\n",
    "The warning message will give us a good clue for what went wrong. It says that the inputted pattern has length > 1. However, the pattern I gave it is a single character. In fact, I specified the arguments in the wrong order. Let's try again. This time I specify `x` and `pattern`. "
   ]
  },
  {
   "cell_type": "code",
   "execution_count": 6,
   "id": "aeeee8af",
   "metadata": {},
   "outputs": [
    {
     "data": {
      "text/html": [
       "<style>\n",
       ".list-inline {list-style: none; margin:0; padding: 0}\n",
       ".list-inline>li {display: inline-block}\n",
       ".list-inline>li:not(:last-child)::after {content: \"\\00b7\"; padding: 0 .5ex}\n",
       "</style>\n",
       "<ol class=list-inline><li>FALSE</li><li>FALSE</li><li>FALSE</li><li>FALSE</li><li>FALSE</li><li>FALSE</li><li>FALSE</li><li>FALSE</li><li>FALSE</li><li>FALSE</li><li>FALSE</li><li>FALSE</li><li>FALSE</li><li>TRUE</li><li>FALSE</li><li>FALSE</li><li>FALSE</li><li>FALSE</li><li>FALSE</li><li>FALSE</li><li>FALSE</li><li>FALSE</li><li>FALSE</li><li>TRUE</li><li>FALSE</li><li>FALSE</li><li>FALSE</li><li>FALSE</li><li>FALSE</li><li>FALSE</li><li>FALSE</li><li>FALSE</li><li>FALSE</li><li>FALSE</li><li>FALSE</li><li>FALSE</li><li>FALSE</li><li>FALSE</li><li>FALSE</li><li>FALSE</li><li>FALSE</li><li>FALSE</li><li>TRUE</li></ol>\n"
      ],
      "text/latex": [
       "\\begin{enumerate*}\n",
       "\\item FALSE\n",
       "\\item FALSE\n",
       "\\item FALSE\n",
       "\\item FALSE\n",
       "\\item FALSE\n",
       "\\item FALSE\n",
       "\\item FALSE\n",
       "\\item FALSE\n",
       "\\item FALSE\n",
       "\\item FALSE\n",
       "\\item FALSE\n",
       "\\item FALSE\n",
       "\\item FALSE\n",
       "\\item TRUE\n",
       "\\item FALSE\n",
       "\\item FALSE\n",
       "\\item FALSE\n",
       "\\item FALSE\n",
       "\\item FALSE\n",
       "\\item FALSE\n",
       "\\item FALSE\n",
       "\\item FALSE\n",
       "\\item FALSE\n",
       "\\item TRUE\n",
       "\\item FALSE\n",
       "\\item FALSE\n",
       "\\item FALSE\n",
       "\\item FALSE\n",
       "\\item FALSE\n",
       "\\item FALSE\n",
       "\\item FALSE\n",
       "\\item FALSE\n",
       "\\item FALSE\n",
       "\\item FALSE\n",
       "\\item FALSE\n",
       "\\item FALSE\n",
       "\\item FALSE\n",
       "\\item FALSE\n",
       "\\item FALSE\n",
       "\\item FALSE\n",
       "\\item FALSE\n",
       "\\item FALSE\n",
       "\\item TRUE\n",
       "\\end{enumerate*}\n"
      ],
      "text/markdown": [
       "1. FALSE\n",
       "2. FALSE\n",
       "3. FALSE\n",
       "4. FALSE\n",
       "5. FALSE\n",
       "6. FALSE\n",
       "7. FALSE\n",
       "8. FALSE\n",
       "9. FALSE\n",
       "10. FALSE\n",
       "11. FALSE\n",
       "12. FALSE\n",
       "13. FALSE\n",
       "14. TRUE\n",
       "15. FALSE\n",
       "16. FALSE\n",
       "17. FALSE\n",
       "18. FALSE\n",
       "19. FALSE\n",
       "20. FALSE\n",
       "21. FALSE\n",
       "22. FALSE\n",
       "23. FALSE\n",
       "24. TRUE\n",
       "25. FALSE\n",
       "26. FALSE\n",
       "27. FALSE\n",
       "28. FALSE\n",
       "29. FALSE\n",
       "30. FALSE\n",
       "31. FALSE\n",
       "32. FALSE\n",
       "33. FALSE\n",
       "34. FALSE\n",
       "35. FALSE\n",
       "36. FALSE\n",
       "37. FALSE\n",
       "38. FALSE\n",
       "39. FALSE\n",
       "40. FALSE\n",
       "41. FALSE\n",
       "42. FALSE\n",
       "43. TRUE\n",
       "\n",
       "\n"
      ],
      "text/plain": [
       " [1] FALSE FALSE FALSE FALSE FALSE FALSE FALSE FALSE FALSE FALSE FALSE FALSE\n",
       "[13] FALSE  TRUE FALSE FALSE FALSE FALSE FALSE FALSE FALSE FALSE FALSE  TRUE\n",
       "[25] FALSE FALSE FALSE FALSE FALSE FALSE FALSE FALSE FALSE FALSE FALSE FALSE\n",
       "[37] FALSE FALSE FALSE FALSE FALSE FALSE  TRUE"
      ]
     },
     "metadata": {},
     "output_type": "display_data"
    }
   ],
   "source": [
    "grepl(x=sample_str_words, pattern=\")\")"
   ]
  },
  {
   "cell_type": "markdown",
   "id": "a4429991",
   "metadata": {},
   "source": [
    "That worked! However, it won't work if we change that to a starting parantheses. Try it out for yourself. The error message says that it is looking for an end parantheses. In this case, the documentation does not help us. Let's try googling \"stringr find start parantheses\". The first search result for me is a [stack overflow question](https://stackoverflow.com/questions/56174805/how-to-search-for-strings-with-parentheses-in-r) that helps us out: \"The \\\\s will tell R to read the parentheses literally when searching for the pattern\". We need to add the double slashes to the start since these are a special character in regular expressions.."
   ]
  },
  {
   "cell_type": "code",
   "execution_count": 7,
   "id": "ad8fa6f6",
   "metadata": {},
   "outputs": [
    {
     "data": {
      "text/html": [
       "<style>\n",
       ".list-inline {list-style: none; margin:0; padding: 0}\n",
       ".list-inline>li {display: inline-block}\n",
       ".list-inline>li:not(:last-child)::after {content: \"\\00b7\"; padding: 0 .5ex}\n",
       "</style>\n",
       "<ol class=list-inline><li>FALSE</li><li>FALSE</li><li>FALSE</li><li>FALSE</li><li>FALSE</li><li>FALSE</li><li>FALSE</li><li>FALSE</li><li>FALSE</li><li>FALSE</li><li>FALSE</li><li>FALSE</li><li>FALSE</li><li>TRUE</li><li>FALSE</li><li>FALSE</li><li>FALSE</li><li>FALSE</li><li>FALSE</li><li>TRUE</li><li>FALSE</li><li>FALSE</li><li>FALSE</li><li>FALSE</li><li>FALSE</li><li>TRUE</li><li>FALSE</li><li>FALSE</li><li>FALSE</li><li>FALSE</li><li>FALSE</li><li>FALSE</li><li>FALSE</li><li>FALSE</li><li>FALSE</li><li>FALSE</li><li>FALSE</li><li>FALSE</li><li>FALSE</li><li>FALSE</li><li>FALSE</li><li>FALSE</li><li>FALSE</li></ol>\n"
      ],
      "text/latex": [
       "\\begin{enumerate*}\n",
       "\\item FALSE\n",
       "\\item FALSE\n",
       "\\item FALSE\n",
       "\\item FALSE\n",
       "\\item FALSE\n",
       "\\item FALSE\n",
       "\\item FALSE\n",
       "\\item FALSE\n",
       "\\item FALSE\n",
       "\\item FALSE\n",
       "\\item FALSE\n",
       "\\item FALSE\n",
       "\\item FALSE\n",
       "\\item TRUE\n",
       "\\item FALSE\n",
       "\\item FALSE\n",
       "\\item FALSE\n",
       "\\item FALSE\n",
       "\\item FALSE\n",
       "\\item TRUE\n",
       "\\item FALSE\n",
       "\\item FALSE\n",
       "\\item FALSE\n",
       "\\item FALSE\n",
       "\\item FALSE\n",
       "\\item TRUE\n",
       "\\item FALSE\n",
       "\\item FALSE\n",
       "\\item FALSE\n",
       "\\item FALSE\n",
       "\\item FALSE\n",
       "\\item FALSE\n",
       "\\item FALSE\n",
       "\\item FALSE\n",
       "\\item FALSE\n",
       "\\item FALSE\n",
       "\\item FALSE\n",
       "\\item FALSE\n",
       "\\item FALSE\n",
       "\\item FALSE\n",
       "\\item FALSE\n",
       "\\item FALSE\n",
       "\\item FALSE\n",
       "\\end{enumerate*}\n"
      ],
      "text/markdown": [
       "1. FALSE\n",
       "2. FALSE\n",
       "3. FALSE\n",
       "4. FALSE\n",
       "5. FALSE\n",
       "6. FALSE\n",
       "7. FALSE\n",
       "8. FALSE\n",
       "9. FALSE\n",
       "10. FALSE\n",
       "11. FALSE\n",
       "12. FALSE\n",
       "13. FALSE\n",
       "14. TRUE\n",
       "15. FALSE\n",
       "16. FALSE\n",
       "17. FALSE\n",
       "18. FALSE\n",
       "19. FALSE\n",
       "20. TRUE\n",
       "21. FALSE\n",
       "22. FALSE\n",
       "23. FALSE\n",
       "24. FALSE\n",
       "25. FALSE\n",
       "26. TRUE\n",
       "27. FALSE\n",
       "28. FALSE\n",
       "29. FALSE\n",
       "30. FALSE\n",
       "31. FALSE\n",
       "32. FALSE\n",
       "33. FALSE\n",
       "34. FALSE\n",
       "35. FALSE\n",
       "36. FALSE\n",
       "37. FALSE\n",
       "38. FALSE\n",
       "39. FALSE\n",
       "40. FALSE\n",
       "41. FALSE\n",
       "42. FALSE\n",
       "43. FALSE\n",
       "\n",
       "\n"
      ],
      "text/plain": [
       " [1] FALSE FALSE FALSE FALSE FALSE FALSE FALSE FALSE FALSE FALSE FALSE FALSE\n",
       "[13] FALSE  TRUE FALSE FALSE FALSE FALSE FALSE  TRUE FALSE FALSE FALSE FALSE\n",
       "[25] FALSE  TRUE FALSE FALSE FALSE FALSE FALSE FALSE FALSE FALSE FALSE FALSE\n",
       "[37] FALSE FALSE FALSE FALSE FALSE FALSE FALSE"
      ]
     },
     "metadata": {},
     "output_type": "display_data"
    }
   ],
   "source": [
    "grepl(x=sample_str_words, pattern=\"\\\\(\")"
   ]
  },
  {
   "cell_type": "markdown",
   "id": "9989b3e6",
   "metadata": {},
   "source": [
    "When a function doesn't return what we expected it is a good idea to first test the arguments we gave it match what we expect and then to re-read the documentation. For example, we could check that `sample_str_words` is indeed a character vector. The code below finds words with starting or end parantheses and then finds any AND/ORs. Practice reading through the code to understand what it is doing. The comments are there to help explain the steps but you may also want to print the output to figure out what it is doing."
   ]
  },
  {
   "cell_type": "code",
   "execution_count": 8,
   "id": "df75430d",
   "metadata": {},
   "outputs": [
    {
     "data": {
      "text/html": [
       "'(\\'out-of-hospital cardiac arrest\\' OR \\'OHCA\\') AND (\\'MIRACLE 2\\' OR \\'OHCA\\' OR \\'CAHP\\' OR \\'C-GRAPH\\' OR \\'SOFA\\' OR \\'APACHE\\' OR \\'SAPS’ OR ’SWAP’ OR ’TTM’).'"
      ],
      "text/latex": [
       "'(\\textbackslash{}'out-of-hospital cardiac arrest\\textbackslash{}' OR \\textbackslash{}'OHCA\\textbackslash{}') AND (\\textbackslash{}'MIRACLE 2\\textbackslash{}' OR \\textbackslash{}'OHCA\\textbackslash{}' OR \\textbackslash{}'CAHP\\textbackslash{}' OR \\textbackslash{}'C-GRAPH\\textbackslash{}' OR \\textbackslash{}'SOFA\\textbackslash{}' OR \\textbackslash{}'APACHE\\textbackslash{}' OR \\textbackslash{}'SAPS’ OR ’SWAP’ OR ’TTM’).'"
      ],
      "text/markdown": [
       "'(\\'out-of-hospital cardiac arrest\\' OR \\'OHCA\\') AND (\\'MIRACLE 2\\' OR \\'OHCA\\' OR \\'CAHP\\' OR \\'C-GRAPH\\' OR \\'SOFA\\' OR \\'APACHE\\' OR \\'SAPS’ OR ’SWAP’ OR ’TTM’).'"
      ],
      "text/plain": [
       "[1] \"('out-of-hospital cardiac arrest' OR 'OHCA') AND ('MIRACLE 2' OR 'OHCA' OR 'CAHP' OR 'C-GRAPH' OR 'SOFA' OR 'APACHE' OR 'SAPS’ OR ’SWAP’ OR ’TTM’).\""
      ]
     },
     "metadata": {},
     "output_type": "display_data"
    },
    {
     "data": {
      "text/html": [
       "<ol>\n",
       "\t<li><style>\n",
       ".list-inline {list-style: none; margin:0; padding: 0}\n",
       ".list-inline>li {display: inline-block}\n",
       ".list-inline>li:not(:last-child)::after {content: \"\\00b7\"; padding: 0 .5ex}\n",
       "</style>\n",
       "<ol class=list-inline><li>'(\\'out-of-hospital cardiac arrest\\''</li><li>'\\'OHCA\\')'</li><li>'(\\'MIRACLE 2\\''</li><li>'\\'OHCA\\''</li><li>'\\'CAHP\\''</li><li>'\\'C-GRAPH\\''</li><li>'\\'SOFA\\''</li><li>'\\'APACHE\\''</li><li>'\\'SAPS’'</li><li>'’SWAP’'</li><li>'’TTM’).'</li></ol>\n",
       "</li>\n",
       "</ol>\n"
      ],
      "text/latex": [
       "\\begin{enumerate}\n",
       "\\item \\begin{enumerate*}\n",
       "\\item '(\\textbackslash{}'out-of-hospital cardiac arrest\\textbackslash{}''\n",
       "\\item '\\textbackslash{}'OHCA\\textbackslash{}')'\n",
       "\\item '(\\textbackslash{}'MIRACLE 2\\textbackslash{}''\n",
       "\\item '\\textbackslash{}'OHCA\\textbackslash{}''\n",
       "\\item '\\textbackslash{}'CAHP\\textbackslash{}''\n",
       "\\item '\\textbackslash{}'C-GRAPH\\textbackslash{}''\n",
       "\\item '\\textbackslash{}'SOFA\\textbackslash{}''\n",
       "\\item '\\textbackslash{}'APACHE\\textbackslash{}''\n",
       "\\item '\\textbackslash{}'SAPS’'\n",
       "\\item '’SWAP’'\n",
       "\\item '’TTM’).'\n",
       "\\end{enumerate*}\n",
       "\n",
       "\\end{enumerate}\n"
      ],
      "text/markdown": [
       "1. 1. '(\\'out-of-hospital cardiac arrest\\''\n",
       "2. '\\'OHCA\\')'\n",
       "3. '(\\'MIRACLE 2\\''\n",
       "4. '\\'OHCA\\''\n",
       "5. '\\'CAHP\\''\n",
       "6. '\\'C-GRAPH\\''\n",
       "7. '\\'SOFA\\''\n",
       "8. '\\'APACHE\\''\n",
       "9. '\\'SAPS’'\n",
       "10. '’SWAP’'\n",
       "11. '’TTM’).'\n",
       "\n",
       "\n",
       "\n",
       "\n",
       "\n"
      ],
      "text/plain": [
       "[[1]]\n",
       " [1] \"('out-of-hospital cardiac arrest'\" \"'OHCA')\"                          \n",
       " [3] \"('MIRACLE 2'\"                      \"'OHCA'\"                           \n",
       " [5] \"'CAHP'\"                            \"'C-GRAPH'\"                        \n",
       " [7] \"'SOFA'\"                            \"'APACHE'\"                         \n",
       " [9] \"'SAPS’\"                            \"’SWAP’\"                           \n",
       "[11] \"’TTM’).\"                          \n"
      ]
     },
     "metadata": {},
     "output_type": "display_data"
    }
   ],
   "source": [
    "sample_str <- \" A systematic search will be performed in PubMed, Embase, and the Cochrane Library (CENTRAL), \n",
    "using the following search query:   ('out-of-hospital cardiac arrest' OR 'OHCA') AND ('MIRACLE 2' OR 'OHCA' OR \n",
    "'CAHP' OR 'C-GRAPH' OR 'SOFA' OR 'APACHE' OR 'SAPS’ OR ’SWAP’ OR ’TTM’).\"\n",
    "\n",
    "# remove extra whitespace and split by spaces\n",
    "sample_str <- str_squish(sample_str)\n",
    "sample_str_words <- str_split_1(sample_str, \" \")\n",
    "\n",
    "# find indices with parentheses or AND/OR\n",
    "end_ps <- grepl(x=sample_str_words, pattern=\"\\\\)\")\n",
    "start_ps <- grepl(x=sample_str_words, pattern=\"\\\\(\")\n",
    "and_ors <- (sample_str_words %in% c(\"AND\", \"OR\"))\n",
    "\n",
    "# connect parantheses that are combined with AND or OR\n",
    "end_ps <- ifelse(lead(and_ors) & lead(start_ps, 2), FALSE, end_ps)\n",
    "start_ps <- ifelse(lag(and_ors) & lag(end_ps, 2), FALSE, start_ps)\n",
    "\n",
    "# find paranthetical phrases\n",
    "count <- case_when((start_ps & !end_ps) ~ 1, # starting phrase\n",
    "                  (!start_ps & end_ps) ~ -1, # end phrase\n",
    "                   TRUE ~ 0) # no change\n",
    "\n",
    "# find search query\n",
    "search_query <- paste(sample_str_words[cumsum(count) > 0], collapse=\" \")\n",
    "search_query\n",
    "\n",
    "# get terms used\n",
    "str_split(search_query, \" AND | OR \")"
   ]
  },
  {
   "cell_type": "markdown",
   "id": "86dc4ef7",
   "metadata": {},
   "source": [
    "The code above is actually incorrect even though the end result gave us close to the result we wanted. We can see this when we try out another example. Substitute in the string below to the above code and see what breaks."
   ]
  },
  {
   "cell_type": "code",
   "execution_count": 9,
   "id": "977438c5",
   "metadata": {},
   "outputs": [],
   "source": [
    "sample_str <- \"Searches will be conducted in MEDLINE via PubMed, Web of Science, \n",
    "Scopus and Embase. The following search strategy will\n",
    "be used:(child OR infant OR preschool child OR preschool children OR preschooler OR pre-school child \n",
    "OR pre-school children OR pre school child OR pre school children OR pre-schooler OR pre schooler \n",
    "OR children OR teenager OR adolescent OR adolescents)AND (attention deficit disorder with hyperactivity \n",
    "OR ADHD OR attention deficit disorder OR ADD OR hyperkinetic disorder OR minimal brain disorder) Submitted \""
   ]
  },
  {
   "cell_type": "markdown",
   "id": "87e484e6",
   "metadata": {},
   "source": [
    "The video below will go through how to debug the code above. "
   ]
  },
  {
   "cell_type": "markdown",
   "id": "4f4aa3d0",
   "metadata": {},
   "source": [
    "TODO: error messages in code"
   ]
  },
  {
   "cell_type": "markdown",
   "id": "a92fcb1f",
   "metadata": {},
   "source": [
    "## General Programming Tips\n",
    "\n",
    "As you write more complex code and functions, it is inevitable that you will run into errors or unexpected behavior. Below are some simple principles that are applicable to debugging in any setting. When it comes to testing code, a good mantra is test early and test often. So avoid writing too much code before running and checking that the results match what you expect. \n",
    "\n",
    "  1.  Check that all paranthesis (), brackets [], and curly braces {} match.  \n",
    "  2.  Check that object names are correct.   \n",
    "  3.  Check if you use the same name for different objects or that you use different names for the same object. You can do this by using the `ls()` function to find all current objects. \n",
    "  4.  Check that the input arguments to a function match what is expected.  \n",
    "  5.  Try simple examples first. You can use the documentation or vignette examples for ideas. \n",
    "  6.  Localize your error by checking the values of objects at different points.  \n",
    "  7.  Modify your code one piece at a time before checking it to avoid introducing new errors.  \n",
    "  8.  Google error messages you don't understand. R's messages can sometimes hint at what the error might stem from but are not always direct."
   ]
  },
  {
   "cell_type": "code",
   "execution_count": null,
   "id": "c1865983",
   "metadata": {},
   "outputs": [],
   "source": []
  }
 ],
 "metadata": {
  "kernelspec": {
   "display_name": "R",
   "language": "R",
   "name": "ir"
  },
  "language_info": {
   "codemirror_mode": "r",
   "file_extension": ".r",
   "mimetype": "text/x-r-source",
   "name": "R",
   "pygments_lexer": "r",
   "version": "4.3.1"
  }
 },
 "nbformat": 4,
 "nbformat_minor": 5
}