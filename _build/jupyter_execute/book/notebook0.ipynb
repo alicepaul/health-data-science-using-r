{
 "cells": [
  {
   "cell_type": "markdown",
   "metadata": {
    "nbgrader": {
     "grade": false,
     "grade_id": "d1b406",
     "locked": true,
     "schema_version": 3,
     "solution": false,
     "task": false
    }
   },
   "source": [
    "# Intro to R\n",
    "\n",
    "In this week, we will be going over some of the basics of R and getting using the key data structures in R. If you would like to dig deeper or read more about these concepts, I recommend reading Chapters 1-2.5 in Introduction to Data Science (IDS). \n",
    "\n",
    "**Main Concepts**: objects, types, vectors, matrices, lists, data frames  \n",
    "**Additional Concepts**: naming variables, indexing, editing objects  \n",
    "**Resources**: IDS Chapters 1-2.5  \n",
    "\n",
    "## Why R?\n",
    "\n",
    "What are some of the benefits to using R? \n",
    "- R is open source.  \n",
    "- R has most of the latest statistical methods available.\n",
    "- R is flexible. \n",
    "\n",
    "Since R is built for statisticians, it is built with data in mind. That comes in handy when we want to streamline how we process and analyze data. It also means that many statisticians working on new methods are publishing user-created packages in R so we have access to most methods of interest. R is also an interpreted language, which means that we do not have to compile our code into machine language first. What this means for you is that this allows for simpler syntax and more flexibility when writing our code, which also makes it a great first language to learn.  \n",
    "\n",
    "Python is another interpreted language often used for data analysis. Both languages feature simple and flexible syntax. While python is more broadly developed for usage outside data science and statistical analysis, R has more available statistical packages, the implementation in these packages can sometimes be simpler, especially with respect to machine learning models, and R has some fantastic data visualization capabilities. I have programmed frequently in both and find switching between them to be relatively straightforward, but I do prefer R for data applications. For those who are interested, I believe anyone completing this course would be able to pick up python as well. \n",
    "\n",
    "The content of this course will focus on using JupyterHub for weekly assignments, but as we get to the end of the class you will want to switch to RStudio. I will provide information for making that switch when we get there. \n",
    "\n",
    "\n",
    "### Now we are ready to get started using R!\n",
    "\n",
    "As you go through this notebook, be sure to run each code block to see the output. You can do so by holding SHIFT-ENTER or by using the play button at the top of the notebook."
   ]
  },
  {
   "cell_type": "markdown",
   "metadata": {
    "nbgrader": {
     "grade": false,
     "grade_id": "d45a2c",
     "locked": true,
     "schema_version": 3,
     "solution": false,
     "task": false
    }
   },
   "source": [
    "## Main Types and Classes in R\n",
    "\n",
    "We can get started in R doing some basic calculations using all the operators we are familiar with:\n",
    "\n",
    "Addition: +  \n",
    "Subtraction: -  \n",
    "Multiplication: *  \n",
    "Division: /  \n",
    "Exponentiation: ^  \n",
    "Modulo: %%  \n",
    "\n",
    "Run the code below and check that the results match what you expect. "
   ]
  },
  {
   "cell_type": "code",
   "execution_count": 1,
   "metadata": {},
   "outputs": [
    {
     "data": {
      "text/html": [
       "8"
      ],
      "text/latex": [
       "8"
      ],
      "text/markdown": [
       "8"
      ],
      "text/plain": [
       "[1] 8"
      ]
     },
     "metadata": {},
     "output_type": "display_data"
    },
    {
     "data": {
      "text/html": [
       "2"
      ],
      "text/latex": [
       "2"
      ],
      "text/markdown": [
       "2"
      ],
      "text/plain": [
       "[1] 2"
      ]
     },
     "metadata": {},
     "output_type": "display_data"
    },
    {
     "data": {
      "text/html": [
       "8"
      ],
      "text/latex": [
       "8"
      ],
      "text/markdown": [
       "8"
      ],
      "text/plain": [
       "[1] 8"
      ]
     },
     "metadata": {},
     "output_type": "display_data"
    },
    {
     "data": {
      "text/html": [
       "1"
      ],
      "text/latex": [
       "1"
      ],
      "text/markdown": [
       "1"
      ],
      "text/plain": [
       "[1] 1"
      ]
     },
     "metadata": {},
     "output_type": "display_data"
    }
   ],
   "source": [
    "3.5+4.5\n",
    "7/3.5\n",
    "2^3\n",
    "15%%2"
   ]
  },
  {
   "cell_type": "markdown",
   "metadata": {},
   "source": [
    "Once I ran the lines above though, I can no longer access the result. Variables store an object so that I can later use the result. Below, I store the value 4 as a variable named `ex_var`. To do so, we use the **assignment** operator `<-`. This indicates take the object on the righthand side and assign it to the variable on the lefthand side. Then, later I can access `ex_var` by name. Note that `print` statements are helpful for giving output. "
   ]
  },
  {
   "cell_type": "code",
   "execution_count": 2,
   "metadata": {},
   "outputs": [
    {
     "name": "stdout",
     "output_type": "stream",
     "text": [
      "[1] 5\n"
     ]
    }
   ],
   "source": [
    "ex_var <- 4\n",
    "ex_var <- ex_var + 1\n",
    "print(ex_var)"
   ]
  },
  {
   "cell_type": "markdown",
   "metadata": {},
   "source": [
    "You may also use the equals sign `=` for assignment. In a few (very very rare) cases, the `<-` operator is preferred and so that is what I will use, but you can use what you find more natural. "
   ]
  },
  {
   "cell_type": "code",
   "execution_count": 3,
   "metadata": {},
   "outputs": [
    {
     "name": "stdout",
     "output_type": "stream",
     "text": [
      "[1] 5\n"
     ]
    }
   ],
   "source": [
    "ex_var = 4\n",
    "ex_var = ex_var + 1\n",
    "print(ex_var)"
   ]
  },
  {
   "cell_type": "markdown",
   "metadata": {},
   "source": [
    "The variable `ex_var` is a numeric variable, but we can also work with two other kinds of data: characters (e.g. \"php\", \"stats\") and booleans (TRUE, FALSE), also known as logicals. We can check the type by using the `class()` function, as shown below. \n",
    "\n",
    "Knowing the type changes the interpretation of the variables. To test this, update the code below to try running TRUE+FALSE or \"Alice\"+\"Bob\". What happens? The computer tries to look for what to do with boolean+boolean or character+character rather than numeric+numeric. Note that it does not have a way to interpret addition for two character variables."
   ]
  },
  {
   "cell_type": "code",
   "execution_count": 4,
   "metadata": {},
   "outputs": [
    {
     "data": {
      "text/html": [
       "'numeric'"
      ],
      "text/latex": [
       "'numeric'"
      ],
      "text/markdown": [
       "'numeric'"
      ],
      "text/plain": [
       "[1] \"numeric\""
      ]
     },
     "metadata": {},
     "output_type": "display_data"
    },
    {
     "data": {
      "text/html": [
       "'logical'"
      ],
      "text/latex": [
       "'logical'"
      ],
      "text/markdown": [
       "'logical'"
      ],
      "text/plain": [
       "[1] \"logical\""
      ]
     },
     "metadata": {},
     "output_type": "display_data"
    },
    {
     "data": {
      "text/html": [
       "'character'"
      ],
      "text/latex": [
       "'character'"
      ],
      "text/markdown": [
       "'character'"
      ],
      "text/plain": [
       "[1] \"character\""
      ]
     },
     "metadata": {},
     "output_type": "display_data"
    }
   ],
   "source": [
    "ex_bool <- TRUE\n",
    "ex_char <- \"Alice\"\n",
    "\n",
    "class(ex_var)\n",
    "class(ex_bool)\n",
    "class(ex_char)"
   ]
  },
  {
   "cell_type": "markdown",
   "metadata": {},
   "source": [
    "## Basic Types\n",
    "\n",
    "Beyond the singular valued variables above, the other basic **data types** in R are **vectors**, **factors**, **matrices**, **lists**, and **data frames**. When we refer to an **object**, we mean an instance of a data type. For example, `ex_var` refers to an object of the numeric type. These main structures inform how we will store information in R and inform R how to interpret our commands. Later on in the course, we will see that these base types form the building blocks for programming in R and help build the more complicated data structures. \n",
    "\n",
    "# Vectors\n",
    "\n",
    "Vectors can store multiple data values of the same type (e.g. character, boolean, or numeric). One way to create a vector is to use the combine function `c()`. In fact, vectors can store just a single value or multiple values. However, vectors cannot store objects of different types so we could *not* run `c(\"Monday\",5)`. Below we create two vectors: one with the days of the week and one with the amount of rain on each day."
   ]
  },
  {
   "cell_type": "code",
   "execution_count": 5,
   "metadata": {},
   "outputs": [],
   "source": [
    "days <- c(\"Monday\", \"Tuesday\", \"Wednesday\", \"Thursday\", \"Friday\")\n",
    "rain <- c(5, 0.1, 0, 0, 0.4)"
   ]
  },
  {
   "cell_type": "markdown",
   "metadata": {},
   "source": [
    "If we check the classes of these two variables, we will see that it tells us the type of the data (character and numeric). In fact, even those variables `ex_var`, `ex_bool`, and `ex_char` are all vectors! Just with a single value."
   ]
  },
  {
   "cell_type": "code",
   "execution_count": 6,
   "metadata": {},
   "outputs": [
    {
     "data": {
      "text/html": [
       "'character'"
      ],
      "text/latex": [
       "'character'"
      ],
      "text/markdown": [
       "'character'"
      ],
      "text/plain": [
       "[1] \"character\""
      ]
     },
     "metadata": {},
     "output_type": "display_data"
    },
    {
     "data": {
      "text/html": [
       "'numeric'"
      ],
      "text/latex": [
       "'numeric'"
      ],
      "text/markdown": [
       "'numeric'"
      ],
      "text/plain": [
       "[1] \"numeric\""
      ]
     },
     "metadata": {},
     "output_type": "display_data"
    }
   ],
   "source": [
    "class(days)\n",
    "class(rain)"
   ]
  },
  {
   "cell_type": "markdown",
   "metadata": {},
   "source": [
    "What happens when we create an empty vector? What is the class?"
   ]
  },
  {
   "cell_type": "code",
   "execution_count": 7,
   "metadata": {},
   "outputs": [
    {
     "data": {
      "text/html": [
       "'NULL'"
      ],
      "text/latex": [
       "'NULL'"
      ],
      "text/markdown": [
       "'NULL'"
      ],
      "text/plain": [
       "[1] \"NULL\""
      ]
     },
     "metadata": {},
     "output_type": "display_data"
    }
   ],
   "source": [
    "ex_empty <- c()\n",
    "class(ex_empty)"
   ]
  },
  {
   "cell_type": "markdown",
   "metadata": {},
   "source": [
    "If we wanted to specify the type we could make an empty vector using the `vector()` function."
   ]
  },
  {
   "cell_type": "code",
   "execution_count": 8,
   "metadata": {},
   "outputs": [
    {
     "data": {
      "text/html": [
       "'numeric'"
      ],
      "text/latex": [
       "'numeric'"
      ],
      "text/markdown": [
       "'numeric'"
      ],
      "text/plain": [
       "[1] \"numeric\""
      ]
     },
     "metadata": {},
     "output_type": "display_data"
    }
   ],
   "source": [
    "ex_empty <- vector(mode = \"numeric\")\n",
    "class(ex_empty)"
   ]
  },
  {
   "cell_type": "markdown",
   "metadata": {},
   "source": [
    "Another way to create a non-empty vector is with the `rep()` or `seq()` functions. The first function `rep(x, times)` takes in a vector `x` and a number of times `times` and outputs `x` repeated that many times. Let's try this with a single value below. The second function `seq(from, to, step)` takes in a starting value, end value, and step size (all numeric values) and returns a sequence from `from` in increments of `step` until a maximum value of `to` is reached. "
   ]
  },
  {
   "cell_type": "code",
   "execution_count": 9,
   "metadata": {},
   "outputs": [
    {
     "data": {
      "text/html": [
       "<style>\n",
       ".list-inline {list-style: none; margin:0; padding: 0}\n",
       ".list-inline>li {display: inline-block}\n",
       ".list-inline>li:not(:last-child)::after {content: \"\\00b7\"; padding: 0 .5ex}\n",
       "</style>\n",
       "<ol class=list-inline><li>0</li><li>0</li><li>0</li><li>0</li><li>0</li></ol>\n"
      ],
      "text/latex": [
       "\\begin{enumerate*}\n",
       "\\item 0\n",
       "\\item 0\n",
       "\\item 0\n",
       "\\item 0\n",
       "\\item 0\n",
       "\\end{enumerate*}\n"
      ],
      "text/markdown": [
       "1. 0\n",
       "2. 0\n",
       "3. 0\n",
       "4. 0\n",
       "5. 0\n",
       "\n",
       "\n"
      ],
      "text/plain": [
       "[1] 0 0 0 0 0"
      ]
     },
     "metadata": {},
     "output_type": "display_data"
    },
    {
     "data": {
      "text/html": [
       "<style>\n",
       ".list-inline {list-style: none; margin:0; padding: 0}\n",
       ".list-inline>li {display: inline-block}\n",
       ".list-inline>li:not(:last-child)::after {content: \"\\00b7\"; padding: 0 .5ex}\n",
       "</style>\n",
       "<ol class=list-inline><li>'Monday'</li><li>'Monday'</li><li>'Monday'</li><li>'Monday'</li></ol>\n"
      ],
      "text/latex": [
       "\\begin{enumerate*}\n",
       "\\item 'Monday'\n",
       "\\item 'Monday'\n",
       "\\item 'Monday'\n",
       "\\item 'Monday'\n",
       "\\end{enumerate*}\n"
      ],
      "text/markdown": [
       "1. 'Monday'\n",
       "2. 'Monday'\n",
       "3. 'Monday'\n",
       "4. 'Monday'\n",
       "\n",
       "\n"
      ],
      "text/plain": [
       "[1] \"Monday\" \"Monday\" \"Monday\" \"Monday\""
      ]
     },
     "metadata": {},
     "output_type": "display_data"
    },
    {
     "data": {
      "text/html": [
       "<style>\n",
       ".list-inline {list-style: none; margin:0; padding: 0}\n",
       ".list-inline>li {display: inline-block}\n",
       ".list-inline>li:not(:last-child)::after {content: \"\\00b7\"; padding: 0 .5ex}\n",
       "</style>\n",
       "<ol class=list-inline><li>1</li><li>2</li><li>3</li><li>4</li><li>5</li></ol>\n"
      ],
      "text/latex": [
       "\\begin{enumerate*}\n",
       "\\item 1\n",
       "\\item 2\n",
       "\\item 3\n",
       "\\item 4\n",
       "\\item 5\n",
       "\\end{enumerate*}\n"
      ],
      "text/markdown": [
       "1. 1\n",
       "2. 2\n",
       "3. 3\n",
       "4. 4\n",
       "5. 5\n",
       "\n",
       "\n"
      ],
      "text/plain": [
       "[1] 1 2 3 4 5"
      ]
     },
     "metadata": {},
     "output_type": "display_data"
    },
    {
     "data": {
      "text/html": [
       "<style>\n",
       ".list-inline {list-style: none; margin:0; padding: 0}\n",
       ".list-inline>li {display: inline-block}\n",
       ".list-inline>li:not(:last-child)::after {content: \"\\00b7\"; padding: 0 .5ex}\n",
       "</style>\n",
       "<ol class=list-inline><li>0</li><li>2</li><li>4</li><li>6</li><li>8</li><li>10</li></ol>\n"
      ],
      "text/latex": [
       "\\begin{enumerate*}\n",
       "\\item 0\n",
       "\\item 2\n",
       "\\item 4\n",
       "\\item 6\n",
       "\\item 8\n",
       "\\item 10\n",
       "\\end{enumerate*}\n"
      ],
      "text/markdown": [
       "1. 0\n",
       "2. 2\n",
       "3. 4\n",
       "4. 6\n",
       "5. 8\n",
       "6. 10\n",
       "\n",
       "\n"
      ],
      "text/plain": [
       "[1]  0  2  4  6  8 10"
      ]
     },
     "metadata": {},
     "output_type": "display_data"
    }
   ],
   "source": [
    "rep(0, 5)\n",
    "rep(\"Monday\", 4)\n",
    "seq(1, 5, 1)\n",
    "seq(0, 10, 2)"
   ]
  },
  {
   "cell_type": "markdown",
   "metadata": {},
   "source": [
    "### Indexing a Vector\n",
    "\n",
    "Now that we have a vector, we can access a subset of the values by using the indices, where the first value has index 1, the second value has index 2, etc. Below, we use these indices to return a single value. The first line returns the value at index 1 and the second line returns the value at index 4."
   ]
  },
  {
   "cell_type": "code",
   "execution_count": 10,
   "metadata": {},
   "outputs": [
    {
     "data": {
      "text/html": [
       "'Monday'"
      ],
      "text/latex": [
       "'Monday'"
      ],
      "text/markdown": [
       "'Monday'"
      ],
      "text/plain": [
       "[1] \"Monday\""
      ]
     },
     "metadata": {},
     "output_type": "display_data"
    },
    {
     "data": {
      "text/html": [
       "'Thursday'"
      ],
      "text/latex": [
       "'Thursday'"
      ],
      "text/markdown": [
       "'Thursday'"
      ],
      "text/plain": [
       "[1] \"Thursday\""
      ]
     },
     "metadata": {},
     "output_type": "display_data"
    }
   ],
   "source": [
    "days[1]\n",
    "days[4]"
   ]
  },
  {
   "cell_type": "markdown",
   "metadata": {},
   "source": [
    "We can either access a single value or a subset of values using a vector of indices. See what happens when you use a vector of indices `c(1,4)` and then try what happens when you use `-c(1,4)`. In the first case, we get the values at index 1 and at index 4. In the second case, we get all values *except* at those indices."
   ]
  },
  {
   "cell_type": "code",
   "execution_count": 11,
   "metadata": {},
   "outputs": [
    {
     "data": {
      "text/html": [
       "<style>\n",
       ".list-inline {list-style: none; margin:0; padding: 0}\n",
       ".list-inline>li {display: inline-block}\n",
       ".list-inline>li:not(:last-child)::after {content: \"\\00b7\"; padding: 0 .5ex}\n",
       "</style>\n",
       "<ol class=list-inline><li>'Monday'</li><li>'Thursday'</li></ol>\n"
      ],
      "text/latex": [
       "\\begin{enumerate*}\n",
       "\\item 'Monday'\n",
       "\\item 'Thursday'\n",
       "\\end{enumerate*}\n"
      ],
      "text/markdown": [
       "1. 'Monday'\n",
       "2. 'Thursday'\n",
       "\n",
       "\n"
      ],
      "text/plain": [
       "[1] \"Monday\"   \"Thursday\""
      ]
     },
     "metadata": {},
     "output_type": "display_data"
    },
    {
     "data": {
      "text/html": [
       "<style>\n",
       ".list-inline {list-style: none; margin:0; padding: 0}\n",
       ".list-inline>li {display: inline-block}\n",
       ".list-inline>li:not(:last-child)::after {content: \"\\00b7\"; padding: 0 .5ex}\n",
       "</style>\n",
       "<ol class=list-inline><li>'Tuesday'</li><li>'Wednesday'</li><li>'Friday'</li></ol>\n"
      ],
      "text/latex": [
       "\\begin{enumerate*}\n",
       "\\item 'Tuesday'\n",
       "\\item 'Wednesday'\n",
       "\\item 'Friday'\n",
       "\\end{enumerate*}\n"
      ],
      "text/markdown": [
       "1. 'Tuesday'\n",
       "2. 'Wednesday'\n",
       "3. 'Friday'\n",
       "\n",
       "\n"
      ],
      "text/plain": [
       "[1] \"Tuesday\"   \"Wednesday\" \"Friday\"   "
      ]
     },
     "metadata": {},
     "output_type": "display_data"
    }
   ],
   "source": [
    "days[c(1,4)]\n",
    "days[-c(1,4)]"
   ]
  },
  {
   "cell_type": "markdown",
   "metadata": {},
   "source": [
    "However, always indexing by the index value can sometimes be difficult. One extra feature of vectors is that we can associate a name with each value. Below, we update the names of the vector `rain` to be the days of the week and then find Friday's rain count by indexing with the name."
   ]
  },
  {
   "cell_type": "code",
   "execution_count": 12,
   "metadata": {},
   "outputs": [
    {
     "name": "stdout",
     "output_type": "stream",
     "text": [
      "   Monday   Tuesday Wednesday  Thursday    Friday \n",
      "      5.0       0.1       0.0       0.0       0.4 \n"
     ]
    },
    {
     "data": {
      "text/html": [
       "<strong>Friday:</strong> 0.4"
      ],
      "text/latex": [
       "\\textbf{Friday:} 0.4"
      ],
      "text/markdown": [
       "**Friday:** 0.4"
      ],
      "text/plain": [
       "Friday \n",
       "   0.4 "
      ]
     },
     "metadata": {},
     "output_type": "display_data"
    }
   ],
   "source": [
    "names(rain) <- days\n",
    "print(rain)\n",
    "rain[\"Friday\"]"
   ]
  },
  {
   "cell_type": "markdown",
   "metadata": {},
   "source": [
    "We can also index a vector using TRUE and FALSE values. If we have a vector of booleans that is the same length as our original vector, then this will return all the values that correspond to a TRUE value. Below, this will return the first and fourth values."
   ]
  },
  {
   "cell_type": "code",
   "execution_count": 13,
   "metadata": {},
   "outputs": [
    {
     "data": {
      "text/html": [
       "<style>\n",
       ".list-inline {list-style: none; margin:0; padding: 0}\n",
       ".list-inline>li {display: inline-block}\n",
       ".list-inline>li:not(:last-child)::after {content: \"\\00b7\"; padding: 0 .5ex}\n",
       "</style>\n",
       "<ol class=list-inline><li>'Monday'</li><li>'Thursday'</li></ol>\n"
      ],
      "text/latex": [
       "\\begin{enumerate*}\n",
       "\\item 'Monday'\n",
       "\\item 'Thursday'\n",
       "\\end{enumerate*}\n"
      ],
      "text/markdown": [
       "1. 'Monday'\n",
       "2. 'Thursday'\n",
       "\n",
       "\n"
      ],
      "text/plain": [
       "[1] \"Monday\"   \"Thursday\""
      ]
     },
     "metadata": {},
     "output_type": "display_data"
    }
   ],
   "source": [
    "ind_bools <- c(TRUE, FALSE, FALSE, TRUE, FALSE)\n",
    "days[ind_bools]"
   ]
  },
  {
   "cell_type": "markdown",
   "metadata": {},
   "source": [
    "This is useful because we can use logic to access certain values. We will see more about this later on. "
   ]
  },
  {
   "cell_type": "markdown",
   "metadata": {},
   "source": [
    "### Editing a Vector and Calculations\n",
    "\n",
    "After we create a vector, we may need to update it or change it. For example, we may want to change a value. We can do so using indexing. Below, we update the rain value for Friday. "
   ]
  },
  {
   "cell_type": "code",
   "execution_count": 14,
   "metadata": {},
   "outputs": [
    {
     "name": "stdout",
     "output_type": "stream",
     "text": [
      "   Monday   Tuesday Wednesday  Thursday    Friday \n",
      "      5.0       0.1       0.0       0.0       0.5 \n"
     ]
    }
   ],
   "source": [
    "rain[\"Friday\"] <- 0.5\n",
    "print(rain)"
   ]
  },
  {
   "cell_type": "markdown",
   "metadata": {},
   "source": [
    "Further, we may need to add extra entries. We can do using the `c()` function again but this time passing in a vector as our first argument. This will create a single vector with all values. Below, we add two days to both vectors and then check the length of the updated vector `rain`. The `length()` function returns the length of a vector."
   ]
  },
  {
   "cell_type": "code",
   "execution_count": 15,
   "metadata": {},
   "outputs": [
    {
     "data": {
      "text/html": [
       "5"
      ],
      "text/latex": [
       "5"
      ],
      "text/markdown": [
       "5"
      ],
      "text/plain": [
       "[1] 5"
      ]
     },
     "metadata": {},
     "output_type": "display_data"
    },
    {
     "data": {
      "text/html": [
       "7"
      ],
      "text/latex": [
       "7"
      ],
      "text/markdown": [
       "7"
      ],
      "text/plain": [
       "[1] 7"
      ]
     },
     "metadata": {},
     "output_type": "display_data"
    }
   ],
   "source": [
    "length(rain)\n",
    "days <- c(days,\"Saturday\", \"Sunday\") # add the weekend with no rain\n",
    "rain <- c(rain,0, 0)\n",
    "length(rain)"
   ]
  },
  {
   "cell_type": "markdown",
   "metadata": {},
   "source": [
    "We can also call some useful functions on vectors. For example, the `sum()`, `max()`, and `min()` functions will return the sum, maximum value, and minimum value of a vector, respectively. "
   ]
  },
  {
   "cell_type": "code",
   "execution_count": 16,
   "metadata": {},
   "outputs": [
    {
     "data": {
      "text/html": [
       "5.6"
      ],
      "text/latex": [
       "5.6"
      ],
      "text/markdown": [
       "5.6"
      ],
      "text/plain": [
       "[1] 5.6"
      ]
     },
     "metadata": {},
     "output_type": "display_data"
    },
    {
     "data": {
      "text/html": [
       "5"
      ],
      "text/latex": [
       "5"
      ],
      "text/markdown": [
       "5"
      ],
      "text/plain": [
       "[1] 5"
      ]
     },
     "metadata": {},
     "output_type": "display_data"
    },
    {
     "data": {
      "text/html": [
       "0"
      ],
      "text/latex": [
       "0"
      ],
      "text/markdown": [
       "0"
      ],
      "text/plain": [
       "[1] 0"
      ]
     },
     "metadata": {},
     "output_type": "display_data"
    }
   ],
   "source": [
    "sum(rain)\n",
    "max(rain)\n",
    "min(rain)"
   ]
  },
  {
   "cell_type": "markdown",
   "metadata": {},
   "source": [
    "### Question 1\n",
    "Create a vector of the odd numbers from 1 to 11 using the `seq()` function. Then, find the third value in the vector using indexing."
   ]
  },
  {
   "cell_type": "code",
   "execution_count": 17,
   "metadata": {},
   "outputs": [],
   "source": [
    "# Solution:"
   ]
  },
  {
   "cell_type": "markdown",
   "metadata": {},
   "source": [
    "# Factors\n",
    "\n",
    "A special kind of vector is a **factor** vector. A **factor** vector behaves exactly like a regular vector but it assumes the vector represents values from a category. In particular, it keeps track of all possible values called the **levels**. Factors are helpful when we start getting into data analysis and have categorical variables. The `as.factor()` function will convert a vector to a factor. "
   ]
  },
  {
   "cell_type": "code",
   "execution_count": 18,
   "metadata": {},
   "outputs": [
    {
     "data": {
      "text/html": [
       "'factor'"
      ],
      "text/latex": [
       "'factor'"
      ],
      "text/markdown": [
       "'factor'"
      ],
      "text/plain": [
       "[1] \"factor\""
      ]
     },
     "metadata": {},
     "output_type": "display_data"
    },
    {
     "data": {
      "text/html": [
       "<style>\n",
       ".list-inline {list-style: none; margin:0; padding: 0}\n",
       ".list-inline>li {display: inline-block}\n",
       ".list-inline>li:not(:last-child)::after {content: \"\\00b7\"; padding: 0 .5ex}\n",
       "</style>\n",
       "<ol class=list-inline><li>'Monday'</li><li>'Thursday'</li><li>'Tuesday'</li><li>'Wednesday'</li></ol>\n"
      ],
      "text/latex": [
       "\\begin{enumerate*}\n",
       "\\item 'Monday'\n",
       "\\item 'Thursday'\n",
       "\\item 'Tuesday'\n",
       "\\item 'Wednesday'\n",
       "\\end{enumerate*}\n"
      ],
      "text/markdown": [
       "1. 'Monday'\n",
       "2. 'Thursday'\n",
       "3. 'Tuesday'\n",
       "4. 'Wednesday'\n",
       "\n",
       "\n"
      ],
      "text/plain": [
       "[1] \"Monday\"    \"Thursday\"  \"Tuesday\"   \"Wednesday\""
      ]
     },
     "metadata": {},
     "output_type": "display_data"
    }
   ],
   "source": [
    "days <- c(\"Monday\", \"Tuesday\", \"Wednesday\", \"Monday\", \"Thursday\", \"Wednesday\")\n",
    "days <- as.factor(days)\n",
    "\n",
    "class(days)\n",
    "levels(days)"
   ]
  },
  {
   "cell_type": "markdown",
   "metadata": {},
   "source": [
    "Above we did not specify the possible levels for our variable. Instead, R found all values in the vector `days`. Therefore, if we try to change one to Friday it will give us an error. Uncomment the line below to see the error it gives."
   ]
  },
  {
   "cell_type": "code",
   "execution_count": 19,
   "metadata": {},
   "outputs": [],
   "source": [
    "#days[2] <- \"Friday\"   "
   ]
  },
  {
   "cell_type": "markdown",
   "metadata": {},
   "source": [
    "We can avoid this error by specifying the levels by using the `factor` function instead of `as.factor`. "
   ]
  },
  {
   "cell_type": "code",
   "execution_count": 20,
   "metadata": {},
   "outputs": [
    {
     "data": {
      "text/html": [
       "'factor'"
      ],
      "text/latex": [
       "'factor'"
      ],
      "text/markdown": [
       "'factor'"
      ],
      "text/plain": [
       "[1] \"factor\""
      ]
     },
     "metadata": {},
     "output_type": "display_data"
    },
    {
     "data": {
      "text/html": [
       "<style>\n",
       ".list-inline {list-style: none; margin:0; padding: 0}\n",
       ".list-inline>li {display: inline-block}\n",
       ".list-inline>li:not(:last-child)::after {content: \"\\00b7\"; padding: 0 .5ex}\n",
       "</style>\n",
       "<ol class=list-inline><li>'Monday'</li><li>'Tuesday'</li><li>'Wednesday'</li><li>'Thursday'</li><li>'Friday'</li><li>'Saturday'</li><li>'Sunday'</li></ol>\n"
      ],
      "text/latex": [
       "\\begin{enumerate*}\n",
       "\\item 'Monday'\n",
       "\\item 'Tuesday'\n",
       "\\item 'Wednesday'\n",
       "\\item 'Thursday'\n",
       "\\item 'Friday'\n",
       "\\item 'Saturday'\n",
       "\\item 'Sunday'\n",
       "\\end{enumerate*}\n"
      ],
      "text/markdown": [
       "1. 'Monday'\n",
       "2. 'Tuesday'\n",
       "3. 'Wednesday'\n",
       "4. 'Thursday'\n",
       "5. 'Friday'\n",
       "6. 'Saturday'\n",
       "7. 'Sunday'\n",
       "\n",
       "\n"
      ],
      "text/plain": [
       "[1] \"Monday\"    \"Tuesday\"   \"Wednesday\" \"Thursday\"  \"Friday\"    \"Saturday\" \n",
       "[7] \"Sunday\"   "
      ]
     },
     "metadata": {},
     "output_type": "display_data"
    }
   ],
   "source": [
    "days <- c(\"Monday\", \"Tuesday\", \"Wednesday\", \"Monday\", \"Thursday\", \"Wednesday\")\n",
    "days <- factor(days, levels = c(\"Monday\", \"Tuesday\", \"Wednesday\", \"Thursday\", \"Friday\", \"Saturday\", \"Sunday\"))\n",
    "\n",
    "class(days)\n",
    "levels(days)\n",
    "days[2] <- \"Friday\""
   ]
  },
  {
   "cell_type": "markdown",
   "metadata": {},
   "source": [
    "# Matrices\n",
    "\n",
    "Matrices are similar to vectors in that they store data of the same type, but matrices are two-dimensional and consist of rows and columns. Below, we create a matrix reporting the daily rainfall over multiple weeks. We can create a matrix using the `matrix(data, nrow, ncol, byrow)` function. This creates a `nrow` by `ncol` matrix from the vector `data` values filling in by row if `byrow` is TRUE and by column otherwise. Run the code below. Then, change the last argument to `byrow=FALSE` and see what happens to the values."
   ]
  },
  {
   "cell_type": "code",
   "execution_count": 21,
   "metadata": {},
   "outputs": [
    {
     "name": "stdout",
     "output_type": "stream",
     "text": [
      "     [,1] [,2] [,3] [,4] [,5] [,6] [,7]\n",
      "[1,]    5  6.0  0.1  3.0  0.0    1    0\n",
      "[2,]    1  0.4  0.2  0.5  0.3    0    0\n"
     ]
    }
   ],
   "source": [
    "rainfall <- matrix(c(5,6,0.1,3,0,1,0,1,0.4,0.2,0.5,0.3,0,0), ncol=7, nrow=2, byrow=TRUE)\n",
    "print(rainfall)"
   ]
  },
  {
   "cell_type": "markdown",
   "metadata": {},
   "source": [
    "## Indexing a Matrix\n",
    "Note that matrices are two-dimensional. That means that to access a subset of values, we will need to provide row and column indices. Below, we access a single value in the 1st row and the 4th column."
   ]
  },
  {
   "cell_type": "code",
   "execution_count": 22,
   "metadata": {},
   "outputs": [
    {
     "data": {
      "text/html": [
       "3"
      ],
      "text/latex": [
       "3"
      ],
      "text/markdown": [
       "3"
      ],
      "text/plain": [
       "[1] 3"
      ]
     },
     "metadata": {},
     "output_type": "display_data"
    }
   ],
   "source": [
    "rainfall[1,4]"
   ]
  },
  {
   "cell_type": "markdown",
   "metadata": {},
   "source": [
    "As before, we can also provide multiple incides to get multiple values. Below, we choose multiple columns but we can also choose multiple rows (or multiple rows and multiple columns!)."
   ]
  },
  {
   "cell_type": "code",
   "execution_count": 23,
   "metadata": {},
   "outputs": [
    {
     "data": {
      "text/html": [
       "<style>\n",
       ".list-inline {list-style: none; margin:0; padding: 0}\n",
       ".list-inline>li {display: inline-block}\n",
       ".list-inline>li:not(:last-child)::after {content: \"\\00b7\"; padding: 0 .5ex}\n",
       "</style>\n",
       "<ol class=list-inline><li>3</li><li>0</li><li>0</li></ol>\n"
      ],
      "text/latex": [
       "\\begin{enumerate*}\n",
       "\\item 3\n",
       "\\item 0\n",
       "\\item 0\n",
       "\\end{enumerate*}\n"
      ],
      "text/markdown": [
       "1. 3\n",
       "2. 0\n",
       "3. 0\n",
       "\n",
       "\n"
      ],
      "text/plain": [
       "[1] 3 0 0"
      ]
     },
     "metadata": {},
     "output_type": "display_data"
    }
   ],
   "source": [
    "rainfall[1,c(4,5,7)]"
   ]
  },
  {
   "cell_type": "markdown",
   "metadata": {},
   "source": [
    "As with vectors, we can also use booleans to index a matrix by providing boolean values for the row and/or columns. Note that below we give a vector for the row indices and no values for the columns. Since we did not specify any column indices, this will select all of them."
   ]
  },
  {
   "cell_type": "code",
   "execution_count": 24,
   "metadata": {},
   "outputs": [
    {
     "data": {
      "text/html": [
       "<style>\n",
       ".list-inline {list-style: none; margin:0; padding: 0}\n",
       ".list-inline>li {display: inline-block}\n",
       ".list-inline>li:not(:last-child)::after {content: \"\\00b7\"; padding: 0 .5ex}\n",
       "</style>\n",
       "<ol class=list-inline><li>1</li><li>0.4</li><li>0.2</li><li>0.5</li><li>0.3</li><li>0</li><li>0</li></ol>\n"
      ],
      "text/latex": [
       "\\begin{enumerate*}\n",
       "\\item 1\n",
       "\\item 0.4\n",
       "\\item 0.2\n",
       "\\item 0.5\n",
       "\\item 0.3\n",
       "\\item 0\n",
       "\\item 0\n",
       "\\end{enumerate*}\n"
      ],
      "text/markdown": [
       "1. 1\n",
       "2. 0.4\n",
       "3. 0.2\n",
       "4. 0.5\n",
       "5. 0.3\n",
       "6. 0\n",
       "7. 0\n",
       "\n",
       "\n"
      ],
      "text/plain": [
       "[1] 1.0 0.4 0.2 0.5 0.3 0.0 0.0"
      ]
     },
     "metadata": {},
     "output_type": "display_data"
    }
   ],
   "source": [
    "rainfall[c(FALSE, TRUE), ]"
   ]
  },
  {
   "cell_type": "markdown",
   "metadata": {},
   "source": [
    "Let's do the opposite and select some columns and all rows."
   ]
  },
  {
   "cell_type": "code",
   "execution_count": 25,
   "metadata": {},
   "outputs": [
    {
     "data": {
      "text/html": [
       "<table class=\"dataframe\">\n",
       "<caption>A matrix: 2 × 2 of type dbl</caption>\n",
       "<tbody>\n",
       "\t<tr><td>5</td><td>6.0</td></tr>\n",
       "\t<tr><td>1</td><td>0.4</td></tr>\n",
       "</tbody>\n",
       "</table>\n"
      ],
      "text/latex": [
       "A matrix: 2 × 2 of type dbl\n",
       "\\begin{tabular}{ll}\n",
       "\t 5 & 6.0\\\\\n",
       "\t 1 & 0.4\\\\\n",
       "\\end{tabular}\n"
      ],
      "text/markdown": [
       "\n",
       "A matrix: 2 × 2 of type dbl\n",
       "\n",
       "| 5 | 6.0 |\n",
       "| 1 | 0.4 |\n",
       "\n"
      ],
      "text/plain": [
       "     [,1] [,2]\n",
       "[1,] 5    6.0 \n",
       "[2,] 1    0.4 "
      ]
     },
     "metadata": {},
     "output_type": "display_data"
    }
   ],
   "source": [
    "rainfall[ ,c(TRUE, TRUE, FALSE, FALSE, FALSE, FALSE, FALSE)]"
   ]
  },
  {
   "cell_type": "markdown",
   "metadata": {},
   "source": [
    "As with vectors, we can specify row names and column names to access an entry instead of using indices."
   ]
  },
  {
   "cell_type": "code",
   "execution_count": 26,
   "metadata": {},
   "outputs": [
    {
     "data": {
      "text/html": [
       "<style>\n",
       ".dl-inline {width: auto; margin:0; padding: 0}\n",
       ".dl-inline>dt, .dl-inline>dd {float: none; width: auto; display: inline-block}\n",
       ".dl-inline>dt::after {content: \":\\0020\"; padding-right: .5ex}\n",
       ".dl-inline>dt:not(:first-of-type) {padding-left: .5ex}\n",
       "</style><dl class=dl-inline><dt>Friday</dt><dd>0</dd><dt>Saturday</dt><dd>1</dd></dl>\n"
      ],
      "text/latex": [
       "\\begin{description*}\n",
       "\\item[Friday] 0\n",
       "\\item[Saturday] 1\n",
       "\\end{description*}\n"
      ],
      "text/markdown": [
       "Friday\n",
       ":   0Saturday\n",
       ":   1\n",
       "\n"
      ],
      "text/plain": [
       "  Friday Saturday \n",
       "       0        1 "
      ]
     },
     "metadata": {},
     "output_type": "display_data"
    }
   ],
   "source": [
    "colnames(rainfall) <- c(\"Monday\", \"Tuesday\", \"Wednesday\", \"Thursday\", \n",
    "                        \"Friday\", \"Saturday\", \"Sunday\")\n",
    "rownames(rainfall) <- c(\"Week1\", \"Week2\")\n",
    "rainfall[\"Week1\",c(\"Friday\",\"Saturday\")]"
   ]
  },
  {
   "cell_type": "markdown",
   "metadata": {},
   "source": [
    "## Editing a Matrix\n",
    "\n",
    "If we want to change the values in a matrix, we need to index those values and give the new value(s). Below, we change a single entry to be 3 and then update several values to all be 0. Note that we do not to provide multiple 0's on the right-hand side. R will infer that all values be set to 0."
   ]
  },
  {
   "cell_type": "code",
   "execution_count": 27,
   "metadata": {},
   "outputs": [],
   "source": [
    "rainfall[\"Week1\", \"Friday\"] <- 3"
   ]
  },
  {
   "cell_type": "code",
   "execution_count": 28,
   "metadata": {},
   "outputs": [
    {
     "name": "stdout",
     "output_type": "stream",
     "text": [
      "      Monday Tuesday Wednesday Thursday Friday Saturday Sunday\n",
      "Week1      0     0.0       0.1      3.0    3.0        1      0\n",
      "Week2      1     0.4       0.2      0.5    0.3        0      0\n"
     ]
    }
   ],
   "source": [
    "rainfall[\"Week1\", c(\"Monday\", \"Tuesday\")] <- 0\n",
    "print(rainfall)"
   ]
  },
  {
   "cell_type": "markdown",
   "metadata": {},
   "source": [
    "Further, we can append values to our matrix by adding rows or columns through the **rbind** and **cbind** functions. The first function appends a row (or multiple rows) to a matrix and the second appends a column (or multiple columns). Note that below I provide a row and column name when passing in the additional data (if I didn't then those rows and columns would not be named). "
   ]
  },
  {
   "cell_type": "code",
   "execution_count": 29,
   "metadata": {},
   "outputs": [
    {
     "name": "stdout",
     "output_type": "stream",
     "text": [
      "      Monday Tuesday Wednesday Thursday Friday Saturday Sunday Total\n",
      "Week1    0.0     0.0       0.1      3.0    3.0      1.0      0   7.1\n",
      "Week2    1.0     0.4       0.2      0.5    0.3      0.0      0   2.4\n",
      "Week3    0.4     0.0       0.0      0.0    1.2      2.2      0   3.8\n"
     ]
    }
   ],
   "source": [
    "rainfall <- rbind(rainfall, \"Week3\" = c(0.4, 0.0, 0.0, 0.0, 1.2, 2.2, 0.0))\n",
    "rainfall <- cbind(rainfall, \"Total\" = c(7.1, 2.4, 3.8))\n",
    "print(rainfall)"
   ]
  },
  {
   "cell_type": "markdown",
   "metadata": {},
   "source": [
    "Here is an example where we bind two matrices by column. "
   ]
  },
  {
   "cell_type": "code",
   "execution_count": 30,
   "metadata": {},
   "outputs": [
    {
     "data": {
      "text/html": [
       "<table class=\"dataframe\">\n",
       "<caption>A matrix: 2 × 4 of type dbl</caption>\n",
       "<tbody>\n",
       "\t<tr><td>1</td><td>3</td><td>5</td><td>7</td></tr>\n",
       "\t<tr><td>2</td><td>4</td><td>6</td><td>8</td></tr>\n",
       "</tbody>\n",
       "</table>\n"
      ],
      "text/latex": [
       "A matrix: 2 × 4 of type dbl\n",
       "\\begin{tabular}{llll}\n",
       "\t 1 & 3 & 5 & 7\\\\\n",
       "\t 2 & 4 & 6 & 8\\\\\n",
       "\\end{tabular}\n"
      ],
      "text/markdown": [
       "\n",
       "A matrix: 2 × 4 of type dbl\n",
       "\n",
       "| 1 | 3 | 5 | 7 |\n",
       "| 2 | 4 | 6 | 8 |\n",
       "\n"
      ],
      "text/plain": [
       "     [,1] [,2] [,3] [,4]\n",
       "[1,] 1    3    5    7   \n",
       "[2,] 2    4    6    8   "
      ]
     },
     "metadata": {},
     "output_type": "display_data"
    }
   ],
   "source": [
    "cbind(matrix(c(1,2,3,4), nrow=2), matrix(c(5,6,7,8), nrow=2))"
   ]
  },
  {
   "cell_type": "markdown",
   "metadata": {},
   "source": [
    "### Question 2\n",
    "Create a 3x4 matrix using the `rep()` and `matrix()` functions. Then, sum the first two rows of the matrix using indexing and the `sum()` function."
   ]
  },
  {
   "cell_type": "code",
   "execution_count": 31,
   "metadata": {},
   "outputs": [],
   "source": [
    "# Solution:"
   ]
  },
  {
   "cell_type": "markdown",
   "metadata": {},
   "source": [
    "# Data Frames\n",
    "Matrices can store data such as the rainfall data when everything is of the same type. However, if we want to capture more complex data records we also want to allow for different measurement types. That is where data frames come in. A data frame is like a matrix in that it is two-dimensional except we allow for each column to be a different type. In this case, each row corresponds to a single data entry (or record) and each column is for a different variable. \n",
    "    \n",
    "For example, suppose that for every day we want to record the temperature, rainfall, and day of the week. Temperature and rainfall can be numeric values, but day of the week will be character. We create a data frame using the `data.frame()` function. Note that I am providing column names for each vector (column).\n",
    "\n",
    "The `head()` function prints the first portion of a data frame (to avoid printing very large datasets). In our case, it will show all the data. The column names are displayed as well as their type. \n",
    "   "
   ]
  },
  {
   "cell_type": "code",
   "execution_count": 32,
   "metadata": {},
   "outputs": [
    {
     "data": {
      "text/html": [
       "<table class=\"dataframe\">\n",
       "<caption>A data.frame: 4 × 3</caption>\n",
       "<thead>\n",
       "\t<tr><th></th><th scope=col>day_of_week</th><th scope=col>temp</th><th scope=col>rain</th></tr>\n",
       "\t<tr><th></th><th scope=col>&lt;chr&gt;</th><th scope=col>&lt;dbl&gt;</th><th scope=col>&lt;dbl&gt;</th></tr>\n",
       "</thead>\n",
       "<tbody>\n",
       "\t<tr><th scope=row>1</th><td>Monday   </td><td>70</td><td>5.0</td></tr>\n",
       "\t<tr><th scope=row>2</th><td>Tuesday  </td><td>62</td><td>0.1</td></tr>\n",
       "\t<tr><th scope=row>3</th><td>Wednesday</td><td>75</td><td>0.0</td></tr>\n",
       "\t<tr><th scope=row>4</th><td>Monday   </td><td>50</td><td>0.5</td></tr>\n",
       "</tbody>\n",
       "</table>\n"
      ],
      "text/latex": [
       "A data.frame: 4 × 3\n",
       "\\begin{tabular}{r|lll}\n",
       "  & day\\_of\\_week & temp & rain\\\\\n",
       "  & <chr> & <dbl> & <dbl>\\\\\n",
       "\\hline\n",
       "\t1 & Monday    & 70 & 5.0\\\\\n",
       "\t2 & Tuesday   & 62 & 0.1\\\\\n",
       "\t3 & Wednesday & 75 & 0.0\\\\\n",
       "\t4 & Monday    & 50 & 0.5\\\\\n",
       "\\end{tabular}\n"
      ],
      "text/markdown": [
       "\n",
       "A data.frame: 4 × 3\n",
       "\n",
       "| <!--/--> | day_of_week &lt;chr&gt; | temp &lt;dbl&gt; | rain &lt;dbl&gt; |\n",
       "|---|---|---|---|\n",
       "| 1 | Monday    | 70 | 5.0 |\n",
       "| 2 | Tuesday   | 62 | 0.1 |\n",
       "| 3 | Wednesday | 75 | 0.0 |\n",
       "| 4 | Monday    | 50 | 0.5 |\n",
       "\n"
      ],
      "text/plain": [
       "  day_of_week temp rain\n",
       "1 Monday      70   5.0 \n",
       "2 Tuesday     62   0.1 \n",
       "3 Wednesday   75   0.0 \n",
       "4 Monday      50   0.5 "
      ]
     },
     "metadata": {},
     "output_type": "display_data"
    }
   ],
   "source": [
    "weather_data <- data.frame(day_of_week = c(\"Monday\",\"Tuesday\",\"Wednesday\",\"Monday\"), \n",
    "                           temp = c(70,62,75,50), rain = c(5,0.1,0.0,0.5))\n",
    "head(weather_data)"
   ]
  },
  {
   "cell_type": "markdown",
   "metadata": {},
   "source": [
    "One useful thing is to find the dimensions of the data frame or to see the number of rows and columns. The `dim()`, `nrow()`, and `ncol` functions return the dimensions, number of rows, and number of columns of a data frame, respectively. These functions also work for matrices."
   ]
  },
  {
   "cell_type": "code",
   "execution_count": 33,
   "metadata": {},
   "outputs": [
    {
     "data": {
      "text/html": [
       "<style>\n",
       ".list-inline {list-style: none; margin:0; padding: 0}\n",
       ".list-inline>li {display: inline-block}\n",
       ".list-inline>li:not(:last-child)::after {content: \"\\00b7\"; padding: 0 .5ex}\n",
       "</style>\n",
       "<ol class=list-inline><li>4</li><li>3</li></ol>\n"
      ],
      "text/latex": [
       "\\begin{enumerate*}\n",
       "\\item 4\n",
       "\\item 3\n",
       "\\end{enumerate*}\n"
      ],
      "text/markdown": [
       "1. 4\n",
       "2. 3\n",
       "\n",
       "\n"
      ],
      "text/plain": [
       "[1] 4 3"
      ]
     },
     "metadata": {},
     "output_type": "display_data"
    },
    {
     "data": {
      "text/html": [
       "4"
      ],
      "text/latex": [
       "4"
      ],
      "text/markdown": [
       "4"
      ],
      "text/plain": [
       "[1] 4"
      ]
     },
     "metadata": {},
     "output_type": "display_data"
    },
    {
     "data": {
      "text/html": [
       "3"
      ],
      "text/latex": [
       "3"
      ],
      "text/markdown": [
       "3"
      ],
      "text/plain": [
       "[1] 3"
      ]
     },
     "metadata": {},
     "output_type": "display_data"
    }
   ],
   "source": [
    "dim(weather_data)\n",
    "nrow(weather_data)\n",
    "ncol(weather_data)"
   ]
  },
  {
   "cell_type": "markdown",
   "metadata": {},
   "source": [
    "## Indexing a Data Frame\n",
    "\n",
    "We can select elements of the data frame using the indices in the same way as matrices. Below, we access a single value and then a subset of our data frame. The subset returned is itself a data frame."
   ]
  },
  {
   "cell_type": "code",
   "execution_count": 34,
   "metadata": {},
   "outputs": [
    {
     "data": {
      "text/html": [
       "70"
      ],
      "text/latex": [
       "70"
      ],
      "text/markdown": [
       "70"
      ],
      "text/plain": [
       "[1] 70"
      ]
     },
     "metadata": {},
     "output_type": "display_data"
    },
    {
     "data": {
      "text/html": [
       "<table class=\"dataframe\">\n",
       "<caption>A data.frame: 1 × 2</caption>\n",
       "<thead>\n",
       "\t<tr><th></th><th scope=col>day_of_week</th><th scope=col>temp</th></tr>\n",
       "\t<tr><th></th><th scope=col>&lt;chr&gt;</th><th scope=col>&lt;dbl&gt;</th></tr>\n",
       "</thead>\n",
       "<tbody>\n",
       "\t<tr><th scope=row>1</th><td>Monday</td><td>70</td></tr>\n",
       "</tbody>\n",
       "</table>\n"
      ],
      "text/latex": [
       "A data.frame: 1 × 2\n",
       "\\begin{tabular}{r|ll}\n",
       "  & day\\_of\\_week & temp\\\\\n",
       "  & <chr> & <dbl>\\\\\n",
       "\\hline\n",
       "\t1 & Monday & 70\\\\\n",
       "\\end{tabular}\n"
      ],
      "text/markdown": [
       "\n",
       "A data.frame: 1 × 2\n",
       "\n",
       "| <!--/--> | day_of_week &lt;chr&gt; | temp &lt;dbl&gt; |\n",
       "|---|---|---|\n",
       "| 1 | Monday | 70 |\n",
       "\n"
      ],
      "text/plain": [
       "  day_of_week temp\n",
       "1 Monday      70  "
      ]
     },
     "metadata": {},
     "output_type": "display_data"
    }
   ],
   "source": [
    "weather_data[1,2]\n",
    "weather_data[1,c(\"day_of_week\",\"temp\")]"
   ]
  },
  {
   "cell_type": "markdown",
   "metadata": {},
   "source": [
    "Another useful way to access the columns of a data frame is by using the $ accessor and the column name. "
   ]
  },
  {
   "cell_type": "code",
   "execution_count": 35,
   "metadata": {},
   "outputs": [
    {
     "data": {
      "text/html": [
       "<style>\n",
       ".list-inline {list-style: none; margin:0; padding: 0}\n",
       ".list-inline>li {display: inline-block}\n",
       ".list-inline>li:not(:last-child)::after {content: \"\\00b7\"; padding: 0 .5ex}\n",
       "</style>\n",
       "<ol class=list-inline><li>'Monday'</li><li>'Tuesday'</li><li>'Wednesday'</li><li>'Monday'</li></ol>\n"
      ],
      "text/latex": [
       "\\begin{enumerate*}\n",
       "\\item 'Monday'\n",
       "\\item 'Tuesday'\n",
       "\\item 'Wednesday'\n",
       "\\item 'Monday'\n",
       "\\end{enumerate*}\n"
      ],
      "text/markdown": [
       "1. 'Monday'\n",
       "2. 'Tuesday'\n",
       "3. 'Wednesday'\n",
       "4. 'Monday'\n",
       "\n",
       "\n"
      ],
      "text/plain": [
       "[1] \"Monday\"    \"Tuesday\"   \"Wednesday\" \"Monday\"   "
      ]
     },
     "metadata": {},
     "output_type": "display_data"
    },
    {
     "data": {
      "text/html": [
       "<style>\n",
       ".list-inline {list-style: none; margin:0; padding: 0}\n",
       ".list-inline>li {display: inline-block}\n",
       ".list-inline>li:not(:last-child)::after {content: \"\\00b7\"; padding: 0 .5ex}\n",
       "</style>\n",
       "<ol class=list-inline><li>70</li><li>62</li><li>75</li><li>50</li></ol>\n"
      ],
      "text/latex": [
       "\\begin{enumerate*}\n",
       "\\item 70\n",
       "\\item 62\n",
       "\\item 75\n",
       "\\item 50\n",
       "\\end{enumerate*}\n"
      ],
      "text/markdown": [
       "1. 70\n",
       "2. 62\n",
       "3. 75\n",
       "4. 50\n",
       "\n",
       "\n"
      ],
      "text/plain": [
       "[1] 70 62 75 50"
      ]
     },
     "metadata": {},
     "output_type": "display_data"
    }
   ],
   "source": [
    "weather_data$day_of_week\n",
    "weather_data$temp"
   ]
  },
  {
   "cell_type": "markdown",
   "metadata": {},
   "source": [
    "The column `day_of_week` is a categorical variable in that it can only take on a limited number of values. For this kind of variable, it is often useful to convert that column to a **factor** as we did below. It is especially useful to convert a column to a factor if you have a numerical value corresponding to a category (e.g. 0/1 encodings)."
   ]
  },
  {
   "cell_type": "code",
   "execution_count": 36,
   "metadata": {},
   "outputs": [
    {
     "data": {
      "text/html": [
       "<style>\n",
       ".list-inline {list-style: none; margin:0; padding: 0}\n",
       ".list-inline>li {display: inline-block}\n",
       ".list-inline>li:not(:last-child)::after {content: \"\\00b7\"; padding: 0 .5ex}\n",
       "</style>\n",
       "<ol class=list-inline><li>'Monday'</li><li>'Tuesday'</li><li>'Wednesday'</li></ol>\n"
      ],
      "text/latex": [
       "\\begin{enumerate*}\n",
       "\\item 'Monday'\n",
       "\\item 'Tuesday'\n",
       "\\item 'Wednesday'\n",
       "\\end{enumerate*}\n"
      ],
      "text/markdown": [
       "1. 'Monday'\n",
       "2. 'Tuesday'\n",
       "3. 'Wednesday'\n",
       "\n",
       "\n"
      ],
      "text/plain": [
       "[1] \"Monday\"    \"Tuesday\"   \"Wednesday\""
      ]
     },
     "metadata": {},
     "output_type": "display_data"
    }
   ],
   "source": [
    "weather_data$day_of_week <- factor(weather_data$day_of_week)\n",
    "levels(weather_data$day_of_week)"
   ]
  },
  {
   "cell_type": "markdown",
   "metadata": {},
   "source": [
    "Now, let's suppose that I want to get the temperature of the days when it rained. I can do so using the code below. The first line tests whether each entry in the vector of rain values is greater than zero. This is called a logic test. What type of output is this? \n",
    "\n",
    "The next line uses that result to index the temperature vector (remember TRUE indicates select to select that entry and FALSE indicates not to). "
   ]
  },
  {
   "cell_type": "code",
   "execution_count": 37,
   "metadata": {},
   "outputs": [
    {
     "data": {
      "text/html": [
       "<style>\n",
       ".list-inline {list-style: none; margin:0; padding: 0}\n",
       ".list-inline>li {display: inline-block}\n",
       ".list-inline>li:not(:last-child)::after {content: \"\\00b7\"; padding: 0 .5ex}\n",
       "</style>\n",
       "<ol class=list-inline><li>TRUE</li><li>TRUE</li><li>FALSE</li><li>TRUE</li></ol>\n"
      ],
      "text/latex": [
       "\\begin{enumerate*}\n",
       "\\item TRUE\n",
       "\\item TRUE\n",
       "\\item FALSE\n",
       "\\item TRUE\n",
       "\\end{enumerate*}\n"
      ],
      "text/markdown": [
       "1. TRUE\n",
       "2. TRUE\n",
       "3. FALSE\n",
       "4. TRUE\n",
       "\n",
       "\n"
      ],
      "text/plain": [
       "[1]  TRUE  TRUE FALSE  TRUE"
      ]
     },
     "metadata": {},
     "output_type": "display_data"
    },
    {
     "data": {
      "text/html": [
       "<style>\n",
       ".list-inline {list-style: none; margin:0; padding: 0}\n",
       ".list-inline>li {display: inline-block}\n",
       ".list-inline>li:not(:last-child)::after {content: \"\\00b7\"; padding: 0 .5ex}\n",
       "</style>\n",
       "<ol class=list-inline><li>70</li><li>62</li><li>50</li></ol>\n"
      ],
      "text/latex": [
       "\\begin{enumerate*}\n",
       "\\item 70\n",
       "\\item 62\n",
       "\\item 50\n",
       "\\end{enumerate*}\n"
      ],
      "text/markdown": [
       "1. 70\n",
       "2. 62\n",
       "3. 50\n",
       "\n",
       "\n"
      ],
      "text/plain": [
       "[1] 70 62 50"
      ]
     },
     "metadata": {},
     "output_type": "display_data"
    }
   ],
   "source": [
    "weather_data$rain > 0\n",
    "weather_data$temp[weather_data$rain > 0]"
   ]
  },
  {
   "cell_type": "markdown",
   "metadata": {},
   "source": [
    "## Editing a Data Frame\n",
    "\n",
    "As with matrices, we can change values in a data frame by indexing those entries. "
   ]
  },
  {
   "cell_type": "code",
   "execution_count": 38,
   "metadata": {},
   "outputs": [
    {
     "data": {
      "text/html": [
       "<table class=\"dataframe\">\n",
       "<caption>A data.frame: 4 × 3</caption>\n",
       "<thead>\n",
       "\t<tr><th scope=col>day_of_week</th><th scope=col>temp</th><th scope=col>rain</th></tr>\n",
       "\t<tr><th scope=col>&lt;fct&gt;</th><th scope=col>&lt;dbl&gt;</th><th scope=col>&lt;dbl&gt;</th></tr>\n",
       "</thead>\n",
       "<tbody>\n",
       "\t<tr><td>Monday   </td><td>70</td><td>2.2</td></tr>\n",
       "\t<tr><td>Tuesday  </td><td>62</td><td>0.1</td></tr>\n",
       "\t<tr><td>Wednesday</td><td>75</td><td>0.0</td></tr>\n",
       "\t<tr><td>Monday   </td><td>50</td><td>0.5</td></tr>\n",
       "</tbody>\n",
       "</table>\n"
      ],
      "text/latex": [
       "A data.frame: 4 × 3\n",
       "\\begin{tabular}{lll}\n",
       " day\\_of\\_week & temp & rain\\\\\n",
       " <fct> & <dbl> & <dbl>\\\\\n",
       "\\hline\n",
       "\t Monday    & 70 & 2.2\\\\\n",
       "\t Tuesday   & 62 & 0.1\\\\\n",
       "\t Wednesday & 75 & 0.0\\\\\n",
       "\t Monday    & 50 & 0.5\\\\\n",
       "\\end{tabular}\n"
      ],
      "text/markdown": [
       "\n",
       "A data.frame: 4 × 3\n",
       "\n",
       "| day_of_week &lt;fct&gt; | temp &lt;dbl&gt; | rain &lt;dbl&gt; |\n",
       "|---|---|---|\n",
       "| Monday    | 70 | 2.2 |\n",
       "| Tuesday   | 62 | 0.1 |\n",
       "| Wednesday | 75 | 0.0 |\n",
       "| Monday    | 50 | 0.5 |\n",
       "\n"
      ],
      "text/plain": [
       "  day_of_week temp rain\n",
       "1 Monday      70   2.2 \n",
       "2 Tuesday     62   0.1 \n",
       "3 Wednesday   75   0.0 \n",
       "4 Monday      50   0.5 "
      ]
     },
     "metadata": {},
     "output_type": "display_data"
    }
   ],
   "source": [
    "weather_data[1, \"rain\"] <- 2.2\n",
    "weather_data"
   ]
  },
  {
   "cell_type": "markdown",
   "metadata": {},
   "source": [
    "The **rbind** functions and **cbind** functions also work for data frames in the same way as for matrices. However, another way to add a column is to directly use the $ accessor. Below, we add a categorical column called heavy_traffic."
   ]
  },
  {
   "cell_type": "code",
   "execution_count": 39,
   "metadata": {},
   "outputs": [
    {
     "data": {
      "text/html": [
       "<table class=\"dataframe\">\n",
       "<caption>A data.frame: 4 × 4</caption>\n",
       "<thead>\n",
       "\t<tr><th scope=col>day_of_week</th><th scope=col>temp</th><th scope=col>rain</th><th scope=col>heavy_traffic</th></tr>\n",
       "\t<tr><th scope=col>&lt;fct&gt;</th><th scope=col>&lt;dbl&gt;</th><th scope=col>&lt;dbl&gt;</th><th scope=col>&lt;fct&gt;</th></tr>\n",
       "</thead>\n",
       "<tbody>\n",
       "\t<tr><td>Monday   </td><td>70</td><td>2.2</td><td>1</td></tr>\n",
       "\t<tr><td>Tuesday  </td><td>62</td><td>0.1</td><td>0</td></tr>\n",
       "\t<tr><td>Wednesday</td><td>75</td><td>0.0</td><td>0</td></tr>\n",
       "\t<tr><td>Monday   </td><td>50</td><td>0.5</td><td>0</td></tr>\n",
       "</tbody>\n",
       "</table>\n"
      ],
      "text/latex": [
       "A data.frame: 4 × 4\n",
       "\\begin{tabular}{llll}\n",
       " day\\_of\\_week & temp & rain & heavy\\_traffic\\\\\n",
       " <fct> & <dbl> & <dbl> & <fct>\\\\\n",
       "\\hline\n",
       "\t Monday    & 70 & 2.2 & 1\\\\\n",
       "\t Tuesday   & 62 & 0.1 & 0\\\\\n",
       "\t Wednesday & 75 & 0.0 & 0\\\\\n",
       "\t Monday    & 50 & 0.5 & 0\\\\\n",
       "\\end{tabular}\n"
      ],
      "text/markdown": [
       "\n",
       "A data.frame: 4 × 4\n",
       "\n",
       "| day_of_week &lt;fct&gt; | temp &lt;dbl&gt; | rain &lt;dbl&gt; | heavy_traffic &lt;fct&gt; |\n",
       "|---|---|---|---|\n",
       "| Monday    | 70 | 2.2 | 1 |\n",
       "| Tuesday   | 62 | 0.1 | 0 |\n",
       "| Wednesday | 75 | 0.0 | 0 |\n",
       "| Monday    | 50 | 0.5 | 0 |\n",
       "\n"
      ],
      "text/plain": [
       "  day_of_week temp rain heavy_traffic\n",
       "1 Monday      70   2.2  1            \n",
       "2 Tuesday     62   0.1  0            \n",
       "3 Wednesday   75   0.0  0            \n",
       "4 Monday      50   0.5  0            "
      ]
     },
     "metadata": {},
     "output_type": "display_data"
    }
   ],
   "source": [
    "weather_data$heavy_traffic <- as.factor(c(1, 0, 0, 0))\n",
    "weather_data"
   ]
  },
  {
   "cell_type": "markdown",
   "metadata": {},
   "source": [
    "### Question 3\n",
    "Add a column to `weather_data` called `late_to_work` using the `rep()` function so that all values are `NA` (the missing value in R). Then, index the second value of this column and set it to be 1."
   ]
  },
  {
   "cell_type": "code",
   "execution_count": 40,
   "metadata": {},
   "outputs": [],
   "source": [
    "# Solution:"
   ]
  },
  {
   "cell_type": "markdown",
   "metadata": {},
   "source": [
    "# Lists\n",
    "\n",
    "A data frame is a special kind of another data type called a list. A list is a collection of objects under the same name. These objects can be vectors, matrices, data frames, or even other lists! With a list there does not have to be any relation in size, type, or other attribute between different members of the list. Below, we create an example list using the `list` function which takes in a series of objects. What are the types of each element of the list? We can access each element using the index, but here we need to use double brackets. "
   ]
  },
  {
   "cell_type": "code",
   "execution_count": 41,
   "metadata": {},
   "outputs": [
    {
     "name": "stdout",
     "output_type": "stream",
     "text": [
      "[[1]]\n",
      "[1] \"Alice\"\n",
      "\n",
      "[[2]]\n",
      "[1] \"mint_chip\" \"caramel\"  \n",
      "\n",
      "[[3]]\n",
      "[1] 3.1 2.5 4.0\n",
      "\n"
     ]
    },
    {
     "data": {
      "text/html": [
       "<style>\n",
       ".list-inline {list-style: none; margin:0; padding: 0}\n",
       ".list-inline>li {display: inline-block}\n",
       ".list-inline>li:not(:last-child)::after {content: \"\\00b7\"; padding: 0 .5ex}\n",
       "</style>\n",
       "<ol class=list-inline><li>'mint_chip'</li><li>'caramel'</li></ol>\n"
      ],
      "text/latex": [
       "\\begin{enumerate*}\n",
       "\\item 'mint\\_chip'\n",
       "\\item 'caramel'\n",
       "\\end{enumerate*}\n"
      ],
      "text/markdown": [
       "1. 'mint_chip'\n",
       "2. 'caramel'\n",
       "\n",
       "\n"
      ],
      "text/plain": [
       "[1] \"mint_chip\" \"caramel\"  "
      ]
     },
     "metadata": {},
     "output_type": "display_data"
    }
   ],
   "source": [
    "ex_list <- list(\"Alice\", c(\"mint_chip\", \"caramel\"), c(3.1, 2.5, 4.0))\n",
    "print(ex_list)\n",
    "ex_list[[2]]"
   ]
  },
  {
   "cell_type": "markdown",
   "metadata": {},
   "source": [
    "More often, however, it is useful to name the elements of the list for easier access. Let's create this list again but this time give names to each object."
   ]
  },
  {
   "cell_type": "code",
   "execution_count": 42,
   "metadata": {},
   "outputs": [
    {
     "name": "stdout",
     "output_type": "stream",
     "text": [
      "$name\n",
      "[1] \"Alice\"\n",
      "\n",
      "$ice_cream_flavors\n",
      "[1] \"mint_chip\" \"caramel\"  \n",
      "\n",
      "$run_lengths\n",
      "[1] 3.1 2.5 4.0\n",
      "\n"
     ]
    },
    {
     "data": {
      "text/html": [
       "<style>\n",
       ".list-inline {list-style: none; margin:0; padding: 0}\n",
       ".list-inline>li {display: inline-block}\n",
       ".list-inline>li:not(:last-child)::after {content: \"\\00b7\"; padding: 0 .5ex}\n",
       "</style>\n",
       "<ol class=list-inline><li>'mint_chip'</li><li>'caramel'</li></ol>\n"
      ],
      "text/latex": [
       "\\begin{enumerate*}\n",
       "\\item 'mint\\_chip'\n",
       "\\item 'caramel'\n",
       "\\end{enumerate*}\n"
      ],
      "text/markdown": [
       "1. 'mint_chip'\n",
       "2. 'caramel'\n",
       "\n",
       "\n"
      ],
      "text/plain": [
       "[1] \"mint_chip\" \"caramel\"  "
      ]
     },
     "metadata": {},
     "output_type": "display_data"
    }
   ],
   "source": [
    "ex_list <- list(name=\"Alice\", ice_cream_flavors = c(\"mint_chip\", \"caramel\"), \n",
    "                run_lengths = c(3.1, 2.5, 4.0))\n",
    "print(ex_list)\n",
    "ex_list$ice_cream_flavors"
   ]
  },
  {
   "cell_type": "markdown",
   "metadata": {},
   "source": [
    "To edit a list, we can index and access different objects in the list. Additionally, we can add objects to the list using the $ accessor."
   ]
  },
  {
   "cell_type": "code",
   "execution_count": 43,
   "metadata": {},
   "outputs": [
    {
     "data": {
      "text/html": [
       "<dl>\n",
       "\t<dt>$name</dt>\n",
       "\t\t<dd>'Alice'</dd>\n",
       "\t<dt>$ice_cream_flavors</dt>\n",
       "\t\t<dd><style>\n",
       ".list-inline {list-style: none; margin:0; padding: 0}\n",
       ".list-inline>li {display: inline-block}\n",
       ".list-inline>li:not(:last-child)::after {content: \"\\00b7\"; padding: 0 .5ex}\n",
       "</style>\n",
       "<ol class=list-inline><li>'mint_chip'</li><li>'caramel'</li></ol>\n",
       "</dd>\n",
       "\t<dt>$run_lengths</dt>\n",
       "\t\t<dd><style>\n",
       ".list-inline {list-style: none; margin:0; padding: 0}\n",
       ".list-inline>li {display: inline-block}\n",
       ".list-inline>li:not(:last-child)::after {content: \"\\00b7\"; padding: 0 .5ex}\n",
       "</style>\n",
       "<ol class=list-inline><li>3.1</li><li>2.5</li><li>4</li></ol>\n",
       "</dd>\n",
       "\t<dt>$toppings</dt>\n",
       "\t\t<dd><style>\n",
       ".list-inline {list-style: none; margin:0; padding: 0}\n",
       ".list-inline>li {display: inline-block}\n",
       ".list-inline>li:not(:last-child)::after {content: \"\\00b7\"; padding: 0 .5ex}\n",
       "</style>\n",
       "<ol class=list-inline><li>'Cherry'</li><li>'Sprinkles'</li></ol>\n",
       "</dd>\n",
       "</dl>\n"
      ],
      "text/latex": [
       "\\begin{description}\n",
       "\\item[\\$name] 'Alice'\n",
       "\\item[\\$ice\\_cream\\_flavors] \\begin{enumerate*}\n",
       "\\item 'mint\\_chip'\n",
       "\\item 'caramel'\n",
       "\\end{enumerate*}\n",
       "\n",
       "\\item[\\$run\\_lengths] \\begin{enumerate*}\n",
       "\\item 3.1\n",
       "\\item 2.5\n",
       "\\item 4\n",
       "\\end{enumerate*}\n",
       "\n",
       "\\item[\\$toppings] \\begin{enumerate*}\n",
       "\\item 'Cherry'\n",
       "\\item 'Sprinkles'\n",
       "\\end{enumerate*}\n",
       "\n",
       "\\end{description}\n"
      ],
      "text/markdown": [
       "$name\n",
       ":   'Alice'\n",
       "$ice_cream_flavors\n",
       ":   1. 'mint_chip'\n",
       "2. 'caramel'\n",
       "\n",
       "\n",
       "\n",
       "$run_lengths\n",
       ":   1. 3.1\n",
       "2. 2.5\n",
       "3. 4\n",
       "\n",
       "\n",
       "\n",
       "$toppings\n",
       ":   1. 'Cherry'\n",
       "2. 'Sprinkles'\n",
       "\n",
       "\n",
       "\n",
       "\n",
       "\n"
      ],
      "text/plain": [
       "$name\n",
       "[1] \"Alice\"\n",
       "\n",
       "$ice_cream_flavors\n",
       "[1] \"mint_chip\" \"caramel\"  \n",
       "\n",
       "$run_lengths\n",
       "[1] 3.1 2.5 4.0\n",
       "\n",
       "$toppings\n",
       "[1] \"Cherry\"    \"Sprinkles\"\n"
      ]
     },
     "metadata": {},
     "output_type": "display_data"
    }
   ],
   "source": [
    "ex_list$toppings = c(\"Cherry\", \"Sprinkles\")\n",
    "ex_list"
   ]
  },
  {
   "cell_type": "code",
   "execution_count": 44,
   "metadata": {},
   "outputs": [
    {
     "data": {
      "text/html": [
       "<dl>\n",
       "\t<dt>$name</dt>\n",
       "\t\t<dd>'Alice'</dd>\n",
       "\t<dt>$ice_cream_flavors</dt>\n",
       "\t\t<dd><style>\n",
       ".list-inline {list-style: none; margin:0; padding: 0}\n",
       ".list-inline>li {display: inline-block}\n",
       ".list-inline>li:not(:last-child)::after {content: \"\\00b7\"; padding: 0 .5ex}\n",
       "</style>\n",
       "<ol class=list-inline><li>'mint_chip'</li><li>'caramel'</li></ol>\n",
       "</dd>\n",
       "\t<dt>$run_lengths</dt>\n",
       "\t\t<dd><style>\n",
       ".list-inline {list-style: none; margin:0; padding: 0}\n",
       ".list-inline>li {display: inline-block}\n",
       ".list-inline>li:not(:last-child)::after {content: \"\\00b7\"; padding: 0 .5ex}\n",
       "</style>\n",
       "<ol class=list-inline><li>3.1</li><li>2.5</li><li>4</li></ol>\n",
       "</dd>\n",
       "\t<dt>$toppings</dt>\n",
       "\t\t<dd><style>\n",
       ".list-inline {list-style: none; margin:0; padding: 0}\n",
       ".list-inline>li {display: inline-block}\n",
       ".list-inline>li:not(:last-child)::after {content: \"\\00b7\"; padding: 0 .5ex}\n",
       "</style>\n",
       "<ol class=list-inline><li>'Cherry'</li><li>'Hot Fudge'</li></ol>\n",
       "</dd>\n",
       "</dl>\n"
      ],
      "text/latex": [
       "\\begin{description}\n",
       "\\item[\\$name] 'Alice'\n",
       "\\item[\\$ice\\_cream\\_flavors] \\begin{enumerate*}\n",
       "\\item 'mint\\_chip'\n",
       "\\item 'caramel'\n",
       "\\end{enumerate*}\n",
       "\n",
       "\\item[\\$run\\_lengths] \\begin{enumerate*}\n",
       "\\item 3.1\n",
       "\\item 2.5\n",
       "\\item 4\n",
       "\\end{enumerate*}\n",
       "\n",
       "\\item[\\$toppings] \\begin{enumerate*}\n",
       "\\item 'Cherry'\n",
       "\\item 'Hot Fudge'\n",
       "\\end{enumerate*}\n",
       "\n",
       "\\end{description}\n"
      ],
      "text/markdown": [
       "$name\n",
       ":   'Alice'\n",
       "$ice_cream_flavors\n",
       ":   1. 'mint_chip'\n",
       "2. 'caramel'\n",
       "\n",
       "\n",
       "\n",
       "$run_lengths\n",
       ":   1. 3.1\n",
       "2. 2.5\n",
       "3. 4\n",
       "\n",
       "\n",
       "\n",
       "$toppings\n",
       ":   1. 'Cherry'\n",
       "2. 'Hot Fudge'\n",
       "\n",
       "\n",
       "\n",
       "\n",
       "\n"
      ],
      "text/plain": [
       "$name\n",
       "[1] \"Alice\"\n",
       "\n",
       "$ice_cream_flavors\n",
       "[1] \"mint_chip\" \"caramel\"  \n",
       "\n",
       "$run_lengths\n",
       "[1] 3.1 2.5 4.0\n",
       "\n",
       "$toppings\n",
       "[1] \"Cherry\"    \"Hot Fudge\"\n"
      ]
     },
     "metadata": {},
     "output_type": "display_data"
    }
   ],
   "source": [
    "ex_list$toppings[2] = \"Hot Fudge\"\n",
    "ex_list"
   ]
  },
  {
   "cell_type": "markdown",
   "metadata": {},
   "source": [
    "## Video: Example Matrices and Data Frames\n",
    "\n",
    "\n",
    "%%HTML\n",
    "<iframe width=\"560\" height=\"315\"\n",
    " src=\"https://www.youtube.com/embed/fZQERMjaoUY\"\n",
    "</iframe>\n"
   ]
  },
  {
   "cell_type": "markdown",
   "metadata": {},
   "source": [
    "# A Note on Naming Conventions and Comments\n",
    "\n",
    "As we start coding, we want to make sure our code is easy to read and clear to both ourselves and others. Two easy ways to improve our code is to use good variable names and to comment our code. A few tips for effective names:\n",
    "-  Stick to a single format. One popular format is to use lower case letters with underscores between words (e.g. my_var, names, prec_days)\n",
    "-  Make your names useful. Try to avoid using names that are too long (e.g. which_day_of_the_week) or do not contain enough information (e.g., x1, x2, x3). \n",
    "-  Replace magic numbers or unexplained values with a variable. An example is if you are using a class size of 32 to calculate some measurements make a variable class_size rather than repeatedly using the number. \n",
    "\n",
    "Above, I had a lot of text surrounding each code chunk, but often you will want to write larger blocks of code and have it speak for itself. Or, you might be writing an R script which does not contain chunks of text. A good rule of thumb is to include enough comments so that if you came back to this code a month later you would be able to follow your logic. We will work on these coding practices throughout the course. \n"
   ]
  }
 ],
 "metadata": {
  "kernelspec": {
   "display_name": "R",
   "language": "R",
   "name": "ir"
  },
  "language_info": {
   "codemirror_mode": "r",
   "file_extension": ".r",
   "mimetype": "text/x-r-source",
   "name": "R",
   "pygments_lexer": "r",
   "version": "4.1.3"
  }
 },
 "nbformat": 4,
 "nbformat_minor": 4
}