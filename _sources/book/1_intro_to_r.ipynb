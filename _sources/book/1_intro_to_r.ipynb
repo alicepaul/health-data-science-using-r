{
 "cells": [
  {
   "cell_type": "markdown",
   "metadata": {
    "nbgrader": {
     "grade": false,
     "grade_id": "d1b406",
     "locked": true,
     "schema_version": 3,
     "solution": false,
     "task": false
    }
   },
   "source": [
    "# Intro to R, RStudio, and Jupyter Notebooks\n",
    "\n",
    "This chapter will introduce you to R as a programming language and how we can use this language in different ways: directly through the [R console](https://cran.rstudio.com/), using [RStudio](https://posit.co/download/rstudio-desktop/), and using [Jupyter Notebooks](https://jupyter.org/). \n",
    "\n",
    "\n",
    "## Why R?\n",
    "\n",
    "What are some of the benefits to using R? \n",
    "* R is built for statisticians and data analysis.  \n",
    "* R is open source.  \n",
    "* R has most of the latest statistical methods available.  \n",
    "* R is flexible. \n",
    "\n",
    "Since R is built for statisticians, it is built with data in mind. That comes in handy when we want to streamline how we process and analyze data. It also means that many statisticians working on new methods are publishing user-created packages in R so we have access to most methods of interest. R is also an interpreted language, which means that we do not have to compile our code into machine language first. What this means for you is that this allows for simpler syntax and more flexibility when writing our code, which also makes it a great first language to learn.  \n",
    "\n",
    "Python is another interpreted language often used for data analysis. Both languages feature simple and flexible syntax. While python is more broadly developed for usage outside data science and statistical analysis, R is a great programming language for those in health data science. I use both langauges and find switching between them to be straightforward, but I do prefer R for anything related to data or statistical analyis. \n",
    "\n",
    "### Installation of R and RStudio\n",
    "\n",
    "To run R on your computer, you will need to [download and install R](https://cran.rstudio.com/). This will allow you to open the R application or run R code interactively. However, to get the most of out programming with R, you will want to install RStudio, which is an integrated development environment (IDE) for R and python. RStudio offers a nice environment for writing, editing, running, and debugging R code. We will talk through more of the benefits of using RStudio below. ( TODO: add section links and refs)\n",
    "\n",
    "Each chapter in this book can be downloaded as an R markdown file. You can open this file in RStudio to run the presented code as you read. Alternatively, at the top of you can open each of these chapters as a Jupyter notebook through Binder. This will open an interactive, online session for you to run the R code. We recommend this option for the best viewing and learning experience. If you would like to run the Jupyter notebooks on your own machine, you will need to install [Jupyter](https://www.anaconda.com/download) and the associated [R kernel](https://github.com/IRkernel/IRkernel).\n",
    "(TODO: add link to github folder with Rmd files, see about adding Rmd download button)"
   ]
  },
  {
   "cell_type": "markdown",
   "metadata": {},
   "source": [
    "## The R Console\n",
    "\n",
    "The R console provides our first intro to code in R. The image below shows what the console will look like when you open it. You should see a blinking cursor. This where we can write our first line of code!\n",
    "\n",
    "TODO: IMAGE"
   ]
  },
  {
   "cell_type": "markdown",
   "metadata": {},
   "source": [
    "To start, type \"2+3\" and press ENTER. You should see that 5 is printed below that code and your cursor is moved to the next line. "
   ]
  },
  {
   "cell_type": "markdown",
   "metadata": {
    "nbgrader": {
     "grade": false,
     "grade_id": "d45a2c",
     "locked": true,
     "schema_version": 3,
     "solution": false,
     "task": false
    }
   },
   "source": [
    "### Basic Computations and Objects\n",
    "\n",
    "The example above did a simple addition. Try out some other basic calculations using the operators below:\n",
    "\n",
    "* Addition: 5+6  \n",
    "* Subtraction: 7-2  \n",
    "* Multiplication: 2*3  \n",
    "* Division: 6/3  \n",
    "* Exponentiation: 4^2  \n",
    "* Modulo: 100 %% 4  \n",
    "\n",
    "For example, use the modulo operator to find what 100 mod 4 is. It should return 0 since 100 is divisible by 4."
   ]
  },
  {
   "cell_type": "markdown",
   "metadata": {},
   "source": [
    "If we want to save our computation, we need to create an object to store that value. An **object** is simply a named data structure (another common name for an object is a variable). In the code below, we create an object `x` which stores the value 5 using the assignment operator `<-`. The assignment operator assigns whatever is on the right hand side of the operator to the name of the left hand side. We can now reference `x` by calling its name. Additionally, we can update its value by adding 1. In the second line of code, the computer first finds the value of the right hand side by finding the current value of `x` before adding 1 and assigning it back to `x`."
   ]
  },
  {
   "cell_type": "code",
   "execution_count": 20,
   "metadata": {},
   "outputs": [
    {
     "data": {
      "text/html": [
       "6"
      ],
      "text/latex": [
       "6"
      ],
      "text/markdown": [
       "6"
      ],
      "text/plain": [
       "[1] 6"
      ]
     },
     "metadata": {},
     "output_type": "display_data"
    }
   ],
   "source": [
    "x <- 2+3\n",
    "x <- x+1\n",
    "x"
   ]
  },
  {
   "cell_type": "markdown",
   "metadata": {},
   "source": [
    "We can create multiple objects by using different names. The code below creates a new variable `y` that is one more than the value of `x`. We can see that the value of `x` is still 5 after running this code."
   ]
  },
  {
   "cell_type": "code",
   "execution_count": 1,
   "metadata": {},
   "outputs": [
    {
     "data": {
      "text/html": [
       "5"
      ],
      "text/latex": [
       "5"
      ],
      "text/markdown": [
       "5"
      ],
      "text/plain": [
       "[1] 5"
      ]
     },
     "metadata": {},
     "output_type": "display_data"
    }
   ],
   "source": [
    "x <- 2+3\n",
    "y <- x\n",
    "y <- y + 1\n",
    "x"
   ]
  },
  {
   "cell_type": "markdown",
   "metadata": {},
   "source": [
    "### Naming Conventions\n",
    "\n",
    "As we start creating objects, we want to make sure we use good object names. A few tips for effective names:\n",
    "\n",
    "*  Stick to a single format. We will use snake_case, which uses underscores between words (e.g. `my_var`, `class_year`).\n",
    "*  Make your names useful. Try to avoid using names that are too long (e.g. `which_day_of_the_week`) or do not contain enough information (e.g., `x1`, `x2`, `x3`). \n",
    "*  Replace unexplained values with an object. For example, if you need to do some calculations using 100 as the number of participants create an object `n_part` with value 100 rather than repeatedly using the number. This makes the code easy to update and avoids possible errors. \n",
    "\n",
    "TODO: use object instead of variable everywhere!"
   ]
  },
  {
   "cell_type": "markdown",
   "metadata": {},
   "source": [
    "### Recap Video\n",
    "\n",
    "TODO: add video"
   ]
  },
  {
   "cell_type": "markdown",
   "metadata": {},
   "source": [
    "## RStudio and R Markdown \n",
    "\n",
    "If we made a mistake in the code above, we would have to retype everything from the beginning. However, when we write code we often want to be able to run it multiple times and develop it in stages. R scripts and R markdown files allow us to save all of our R code in a file that we can update and re-run. This allows us to create reproducible and shareable analysis. We will move to RStudio as our development environment to demonstrate creating an R script. When you open RStudio, you will see multiple windows. Start by opening a new R file by going to File -> New File -> R Script. You should now see several windows. \n",
    "\n",
    "TODO: image\n",
    "\n",
    "In the code editor window, add the following code to your .R file and save the file. Note that here we used snake case to name our objects! "
   ]
  },
  {
   "cell_type": "code",
   "execution_count": 2,
   "metadata": {},
   "outputs": [],
   "source": [
    "# Calculate student to faculty ratio, 2023 enrollment\n",
    "num_students <- 132\n",
    "num_faculty <- 23\n",
    "student_fac_ratio <- num_students/num_faculty"
   ]
  },
  {
   "cell_type": "markdown",
   "metadata": {},
   "source": [
    "The first line starts with `#` and does not contain any code. This is a comment line which allows us to add context, intent, or extra information to help the reader understand our code. A good rule of thumb is that we want to write enough comments so that we could open our code in six months and be able to understand what we were doing. As we develop longer chunks of code, this will become more important. "
   ]
  },
  {
   "cell_type": "markdown",
   "metadata": {},
   "source": [
    "### Video Tour of RStudio and R Markdown\n",
    "\n",
    "In order to run the code in the script, we need to tell RStudio we are ready to run it. The video below shows how to run a script and gives a tour of the other windows you see in RStudio. It will also introduce you to R Markdown files, which integrates text and code together. Each chapter in this book can be downloaded as a corresponding R Markdown file. \n",
    "\n",
    "TODO: video\n",
    "TODO: add link to downloads"
   ]
  },
  {
   "cell_type": "markdown",
   "metadata": {},
   "source": [
    "### Calling Functions\n",
    "\n",
    "When we use R, we have access to all the functions available in base R. A function takes in one or more inputs and returns a single output object. Let's use a simple function `exp()`. The exponential function takes in one (or more) numeric values and exponentiates them. "
   ]
  },
  {
   "cell_type": "code",
   "execution_count": 1,
   "metadata": {},
   "outputs": [
    {
     "data": {
      "text/html": [
       "20.0855369231877"
      ],
      "text/latex": [
       "20.0855369231877"
      ],
      "text/markdown": [
       "20.0855369231877"
      ],
      "text/plain": [
       "[1] 20.08554"
      ]
     },
     "metadata": {},
     "output_type": "display_data"
    }
   ],
   "source": [
    "exp(3)"
   ]
  },
  {
   "cell_type": "markdown",
   "metadata": {},
   "source": [
    "Some other simple functions are shown below that all convert a numeric input to an integer value. "
   ]
  },
  {
   "cell_type": "code",
   "execution_count": 2,
   "metadata": {},
   "outputs": [
    {
     "data": {
      "text/html": [
       "3"
      ],
      "text/latex": [
       "3"
      ],
      "text/markdown": [
       "3"
      ],
      "text/plain": [
       "[1] 3"
      ]
     },
     "metadata": {},
     "output_type": "display_data"
    }
   ],
   "source": [
    "ceiling(3.7)"
   ]
  },
  {
   "cell_type": "code",
   "execution_count": 3,
   "metadata": {},
   "outputs": [
    {
     "data": {
      "text/html": [
       "3"
      ],
      "text/latex": [
       "3"
      ],
      "text/markdown": [
       "3"
      ],
      "text/plain": [
       "[1] 3"
      ]
     },
     "metadata": {},
     "output_type": "display_data"
    }
   ],
   "source": [
    "floor(3.7)"
   ]
  },
  {
   "cell_type": "code",
   "execution_count": 4,
   "metadata": {},
   "outputs": [
    {
     "data": {
      "text/html": [
       "4"
      ],
      "text/latex": [
       "4"
      ],
      "text/markdown": [
       "4"
      ],
      "text/plain": [
       "[1] 4"
      ]
     },
     "metadata": {},
     "output_type": "display_data"
    }
   ],
   "source": [
    "round(3.7)"
   ]
  },
  {
   "cell_type": "markdown",
   "metadata": {},
   "source": [
    "If we want to learn about a function, we can use the help operator `?`. This will bring up the documentation for that particular function. The documentation will often tell you the usage of the function, the **arguments** (the object inputs), the **value** (information about the returned object), and will give some examples. For example, if we want to understand the difference between `floor` and `ceiling` we can call `?floor` and `?ceiling`. This should bring up the following documentation in which we can read that floor rounds down to the nearest intetger and ceiling rounds up to the nearest integer.\n",
    "\n",
    "TODO: IMAGE since this doesn't convert to pdf nicely"
   ]
  },
  {
   "cell_type": "markdown",
   "metadata": {},
   "source": [
    "### Working Directories and Paths\n",
    "\n",
    "Let's try another example function: `read.csv`. This function reads in a comma-delimited file and returns the information as a data frame (try `?read.csv` to read more about this function). We will learn more about data frames in the next chapter. The first agrument to this function is a file as either a filename or a path to the file. Download the file `fake_names.csv` from this book's github repository. By default, R will look for the file in your current working directory. To find the working directory, you can run `getwd()`. \n",
    "\n",
    "TODO: add link to csv\n",
    "TODO: add link to chapter 2"
   ]
  },
  {
   "cell_type": "code",
   "execution_count": 12,
   "metadata": {},
   "outputs": [
    {
     "data": {
      "text/html": [
       "'/Users/Alice/Dropbox/r-for-health-data-science/book'"
      ],
      "text/latex": [
       "'/Users/Alice/Dropbox/r-for-health-data-science/book'"
      ],
      "text/markdown": [
       "'/Users/Alice/Dropbox/r-for-health-data-science/book'"
      ],
      "text/plain": [
       "[1] \"/Users/Alice/Dropbox/r-for-health-data-science/book\""
      ]
     },
     "metadata": {},
     "output_type": "display_data"
    }
   ],
   "source": [
    "getwd()"
   ]
  },
  {
   "cell_type": "markdown",
   "metadata": {},
   "source": [
    "You can either move the csv file to this directory and load it in or specify the path to the csv file. Another option is to update your working directory by using the `setwd` function (e.g. `setwd('/Users/Alice/Project'`). If you receive an error that a file cannot be found, you most likely have the wrong path to the file or the wrong file name. "
   ]
  },
  {
   "cell_type": "code",
   "execution_count": 22,
   "metadata": {},
   "outputs": [
    {
     "data": {
      "text/html": [
       "<table class=\"dataframe\">\n",
       "<caption>A data.frame: 6 × 5</caption>\n",
       "<thead>\n",
       "\t<tr><th scope=col>Name</th><th scope=col>Age</th><th scope=col>DOB</th><th scope=col>City</th><th scope=col>State</th></tr>\n",
       "\t<tr><th scope=col>&lt;chr&gt;</th><th scope=col>&lt;int&gt;</th><th scope=col>&lt;chr&gt;</th><th scope=col>&lt;chr&gt;</th><th scope=col>&lt;chr&gt;</th></tr>\n",
       "</thead>\n",
       "<tbody>\n",
       "\t<tr><td>Ken Irwin          </td><td>37</td><td>6/28/85</td><td>Providence     </td><td>RI</td></tr>\n",
       "\t<tr><td>Delores Whittington</td><td>56</td><td>4/28/67</td><td>Smithfield     </td><td>RI</td></tr>\n",
       "\t<tr><td>Daniel Hughes      </td><td>41</td><td>5/22/82</td><td>Providence     </td><td>RI</td></tr>\n",
       "\t<tr><td>Carlos Fain        </td><td>83</td><td>2/2/40 </td><td>Warren         </td><td>RI</td></tr>\n",
       "\t<tr><td>James Alford       </td><td>67</td><td>2/23/56</td><td>East Providence</td><td>RI</td></tr>\n",
       "\t<tr><td>Ruth Alvarez       </td><td>34</td><td>9/22/88</td><td>Providence     </td><td>RI</td></tr>\n",
       "</tbody>\n",
       "</table>\n"
      ],
      "text/latex": [
       "A data.frame: 6 × 5\n",
       "\\begin{tabular}{lllll}\n",
       " Name & Age & DOB & City & State\\\\\n",
       " <chr> & <int> & <chr> & <chr> & <chr>\\\\\n",
       "\\hline\n",
       "\t Ken Irwin           & 37 & 6/28/85 & Providence      & RI\\\\\n",
       "\t Delores Whittington & 56 & 4/28/67 & Smithfield      & RI\\\\\n",
       "\t Daniel Hughes       & 41 & 5/22/82 & Providence      & RI\\\\\n",
       "\t Carlos Fain         & 83 & 2/2/40  & Warren          & RI\\\\\n",
       "\t James Alford        & 67 & 2/23/56 & East Providence & RI\\\\\n",
       "\t Ruth Alvarez        & 34 & 9/22/88 & Providence      & RI\\\\\n",
       "\\end{tabular}\n"
      ],
      "text/markdown": [
       "\n",
       "A data.frame: 6 × 5\n",
       "\n",
       "| Name &lt;chr&gt; | Age &lt;int&gt; | DOB &lt;chr&gt; | City &lt;chr&gt; | State &lt;chr&gt; |\n",
       "|---|---|---|---|---|\n",
       "| Ken Irwin           | 37 | 6/28/85 | Providence      | RI |\n",
       "| Delores Whittington | 56 | 4/28/67 | Smithfield      | RI |\n",
       "| Daniel Hughes       | 41 | 5/22/82 | Providence      | RI |\n",
       "| Carlos Fain         | 83 | 2/2/40  | Warren          | RI |\n",
       "| James Alford        | 67 | 2/23/56 | East Providence | RI |\n",
       "| Ruth Alvarez        | 34 | 9/22/88 | Providence      | RI |\n",
       "\n"
      ],
      "text/plain": [
       "  Name                Age DOB     City            State\n",
       "1 Ken Irwin           37  6/28/85 Providence      RI   \n",
       "2 Delores Whittington 56  4/28/67 Smithfield      RI   \n",
       "3 Daniel Hughes       41  5/22/82 Providence      RI   \n",
       "4 Carlos Fain         83  2/2/40  Warren          RI   \n",
       "5 James Alford        67  2/23/56 East Providence RI   \n",
       "6 Ruth Alvarez        34  9/22/88 Providence      RI   "
      ]
     },
     "metadata": {},
     "output_type": "display_data"
    }
   ],
   "source": [
    "df <- read.csv(\"data/fake_names.csv\") # you will need to update this with the path to your file\n",
    "df"
   ]
  },
  {
   "cell_type": "markdown",
   "metadata": {},
   "source": [
    "We can see that `df` contains the information from the csv file and R has printed the first few observations of the data. "
   ]
  },
  {
   "cell_type": "markdown",
   "metadata": {},
   "source": [
    "### Installing and Loading Packages\n",
    "\n",
    "When working with data frames, we will often use the `tidyverse` package (https://www.tidyverse.org/). This is actually a collection of R packages for data science applications. An R package is a collection of functions (with documentation) and sometimes sample data. These packages allow us to expand on the functionality of R beyond the base functions. You can check whether you have the `tidyverse` package by going to the package pane in RStudio or running the command below, which will display all your installed packages. "
   ]
  },
  {
   "cell_type": "code",
   "execution_count": 14,
   "metadata": {},
   "outputs": [
    {
     "data": {
      "text/html": [
       "<table class=\"dataframe\">\n",
       "<caption>A matrix: 301 × 16 of type chr</caption>\n",
       "<thead>\n",
       "\t<tr><th></th><th scope=col>Package</th><th scope=col>LibPath</th><th scope=col>Version</th><th scope=col>Priority</th><th scope=col>Depends</th><th scope=col>Imports</th><th scope=col>LinkingTo</th><th scope=col>Suggests</th><th scope=col>Enhances</th><th scope=col>License</th><th scope=col>License_is_FOSS</th><th scope=col>License_restricts_use</th><th scope=col>OS_type</th><th scope=col>MD5sum</th><th scope=col>NeedsCompilation</th><th scope=col>Built</th></tr>\n",
       "</thead>\n",
       "<tbody>\n",
       "\t<tr><th scope=row>arules</th><td><span style=white-space:pre-wrap>arules       </span></td><td>/usr/local/lib/R/4.2/site-library</td><td><span style=white-space:pre-wrap>1.7-5  </span></td><td>NA</td><td><span style=white-space:pre-wrap>R (&gt;= 4.0.0), Matrix (&gt;= 1.4-0)                    </span></td><td><span style=white-space:pre-wrap>stats, methods, generics, graphics, utils                                                                                                               </span></td><td>NA</td><td><span style=white-space:pre-wrap>pmml, XML, proxy, arulesViz, arulesCBA, testthat                                                                                                                                                                                                                                                                                                                                                                                                                                                                                                                                                                                                                                                                                                                          </span></td><td><span style=white-space:pre-wrap>NA   </span></td><td><span style=white-space:pre-wrap>GPL-3                      </span></td><td>NA</td><td>NA</td><td>NA</td><td>NA</td><td>yes</td><td>4.2.0</td></tr>\n",
       "\t<tr><th scope=row>askpass</th><td><span style=white-space:pre-wrap>askpass      </span></td><td>/usr/local/lib/R/4.2/site-library</td><td><span style=white-space:pre-wrap>1.1    </span></td><td>NA</td><td><span style=white-space:pre-wrap>NA                                                 </span></td><td><span style=white-space:pre-wrap>sys (&gt;= 2.1)                                                                                                                                            </span></td><td>NA</td><td><span style=white-space:pre-wrap>testthat                                                                                                                                                                                                                                                                                                                                                                                                                                                                                                                                                                                                                                                                                                                                                                  </span></td><td><span style=white-space:pre-wrap>NA   </span></td><td><span style=white-space:pre-wrap>MIT + file LICENSE         </span></td><td>NA</td><td>NA</td><td>NA</td><td>NA</td><td>yes</td><td>4.2.0</td></tr>\n",
       "\t<tr><th scope=row>assertthat</th><td>assertthat   </td><td>/usr/local/lib/R/4.2/site-library</td><td>0.2.1  </td><td>NA</td><td>NA                                                 </td><td>tools                                                                                                                                                   </td><td>NA</td><td>testthat, covr                                                                                                                                                                                                                                                                                                                                                                                                                                                                                                                                                                                                                                                                                                                                                            </td><td>NA   </td><td>GPL-3                      </td><td>NA</td><td>NA</td><td>NA</td><td>NA</td><td>no </td><td>4.2.0</td></tr>\n",
       "\t<tr><th scope=row>backports</th><td><span style=white-space:pre-wrap>backports    </span></td><td>/usr/local/lib/R/4.2/site-library</td><td><span style=white-space:pre-wrap>1.4.1  </span></td><td>NA</td><td><span style=white-space:pre-wrap>R (&gt;= 3.0.0)                                       </span></td><td><span style=white-space:pre-wrap>NA                                                                                                                                                      </span></td><td>NA</td><td><span style=white-space:pre-wrap>NA                                                                                                                                                                                                                                                                                                                                                                                                                                                                                                                                                                                                                                                                                                                                                                        </span></td><td><span style=white-space:pre-wrap>NA   </span></td><td><span style=white-space:pre-wrap>GPL-2 | GPL-3              </span></td><td>NA</td><td>NA</td><td>NA</td><td>NA</td><td>yes</td><td>4.2.0</td></tr>\n",
       "\t<tr><th scope=row>base64enc</th><td><span style=white-space:pre-wrap>base64enc    </span></td><td>/usr/local/lib/R/4.2/site-library</td><td><span style=white-space:pre-wrap>0.1-3  </span></td><td>NA</td><td><span style=white-space:pre-wrap>R (&gt;= 2.9.0)                                       </span></td><td><span style=white-space:pre-wrap>NA                                                                                                                                                      </span></td><td>NA</td><td><span style=white-space:pre-wrap>NA                                                                                                                                                                                                                                                                                                                                                                                                                                                                                                                                                                                                                                                                                                                                                                        </span></td><td><span style=white-space:pre-wrap>png  </span></td><td><span style=white-space:pre-wrap>GPL-2 | GPL-3              </span></td><td>NA</td><td>NA</td><td>NA</td><td>NA</td><td>yes</td><td>4.2.0</td></tr>\n",
       "\t<tr><th scope=row>bayestestR</th><td><span style=white-space:pre-wrap>bayestestR   </span></td><td>/usr/local/lib/R/4.2/site-library</td><td>0.13.0 </td><td>NA</td><td><span style=white-space:pre-wrap>R (&gt;= 3.6)                                         </span></td><td><span style=white-space:pre-wrap>insight (&gt;= 0.18.2), datawizard (&gt;= 0.5.1), graphics, methods,\n",
       "stats, utils                                                                            </span></td><td>NA</td><td><span style=white-space:pre-wrap>BayesFactor, bayesQR, bayesplot, BH, blavaan, bridgesampling,\n",
       "brms, effectsize, emmeans, gamm4, ggdist, ggplot2, glmmTMB,\n",
       "httr, KernSmooth, knitr, lavaan, lme4, logspline, MASS, mclust,\n",
       "mediation, modelbased, parameters, patchwork, performance,\n",
       "quadprog, posterior, RcppEigen, rmarkdown, rstan, rstanarm,\n",
       "see, testthat, tweedie                                                                                                                                                                                                                                                                                                                                                                                                                              </span></td><td><span style=white-space:pre-wrap>NA   </span></td><td><span style=white-space:pre-wrap>GPL-3                      </span></td><td>NA</td><td>NA</td><td>NA</td><td>NA</td><td>no </td><td>4.2.0</td></tr>\n",
       "\t<tr><th scope=row>bestglm</th><td><span style=white-space:pre-wrap>bestglm      </span></td><td>/usr/local/lib/R/4.2/site-library</td><td>0.37.3 </td><td>NA</td><td><span style=white-space:pre-wrap>R (&gt;= 3.1.0), leaps                                </span></td><td><span style=white-space:pre-wrap>lattice, glmnet, grpreg, pls                                                                                                                            </span></td><td>NA</td><td><span style=white-space:pre-wrap>MASS                                                                                                                                                                                                                                                                                                                                                                                                                                                                                                                                                                                                                                                                                                                                                                      </span></td><td>caret</td><td><span style=white-space:pre-wrap>GPL (&gt;= 2)                 </span></td><td>NA</td><td>NA</td><td>NA</td><td>NA</td><td>yes</td><td>4.2.0</td></tr>\n",
       "\t<tr><th scope=row>BiocManager</th><td>BiocManager  </td><td>/usr/local/lib/R/4.2/site-library</td><td>1.30.18</td><td>NA</td><td>NA                                                 </td><td>utils                                                                                                                                                   </td><td>NA</td><td>BiocVersion, remotes, rmarkdown, testthat, withr, curl, knitr                                                                                                                                                                                                                                                                                                                                                                                                                                                                                                                                                                                                                                                                                                             </td><td>NA   </td><td>Artistic-2.0               </td><td>NA</td><td>NA</td><td>NA</td><td>NA</td><td>no </td><td>4.2.0</td></tr>\n",
       "\t<tr><th scope=row>bit</th><td><span style=white-space:pre-wrap>bit          </span></td><td>/usr/local/lib/R/4.2/site-library</td><td><span style=white-space:pre-wrap>4.0.4  </span></td><td>NA</td><td><span style=white-space:pre-wrap>R (&gt;= 2.9.2)                                       </span></td><td><span style=white-space:pre-wrap>NA                                                                                                                                                      </span></td><td>NA</td><td><span style=white-space:pre-wrap>testthat (&gt;= 0.11.0), roxygen2, knitr, rmarkdown,\n",
       "microbenchmark, bit64 (&gt;= 4.0.0), ff (&gt;= 4.0.0)                                                                                                                                                                                                                                                                                                                                                                                                                                                                                                                                                                                                                                                                        </span></td><td><span style=white-space:pre-wrap>NA   </span></td><td><span style=white-space:pre-wrap>GPL-2 | GPL-3              </span></td><td>NA</td><td>NA</td><td>NA</td><td>NA</td><td>yes</td><td>4.2.0</td></tr>\n",
       "\t<tr><th scope=row>bit64</th><td><span style=white-space:pre-wrap>bit64        </span></td><td>/usr/local/lib/R/4.2/site-library</td><td><span style=white-space:pre-wrap>4.0.5  </span></td><td>NA</td><td>R (&gt;= 3.0.1), bit (&gt;= 4.0.0), utils, methods, stats</td><td><span style=white-space:pre-wrap>NA                                                                                                                                                      </span></td><td>NA</td><td><span style=white-space:pre-wrap>NA                                                                                                                                                                                                                                                                                                                                                                                                                                                                                                                                                                                                                                                                                                                                                                        </span></td><td><span style=white-space:pre-wrap>NA   </span></td><td><span style=white-space:pre-wrap>GPL-2 | GPL-3              </span></td><td>NA</td><td>NA</td><td>NA</td><td>NA</td><td>yes</td><td>4.2.0</td></tr>\n",
       "\t<tr><th scope=row>bitops</th><td><span style=white-space:pre-wrap>bitops       </span></td><td>/usr/local/lib/R/4.2/site-library</td><td><span style=white-space:pre-wrap>1.0-7  </span></td><td>NA</td><td><span style=white-space:pre-wrap>NA                                                 </span></td><td><span style=white-space:pre-wrap>NA                                                                                                                                                      </span></td><td>NA</td><td><span style=white-space:pre-wrap>NA                                                                                                                                                                                                                                                                                                                                                                                                                                                                                                                                                                                                                                                                                                                                                                        </span></td><td><span style=white-space:pre-wrap>NA   </span></td><td><span style=white-space:pre-wrap>GPL (&gt;= 2)                 </span></td><td>NA</td><td>NA</td><td>NA</td><td>NA</td><td>yes</td><td>4.2.0</td></tr>\n",
       "\t<tr><th scope=row>blob</th><td><span style=white-space:pre-wrap>blob         </span></td><td>/usr/local/lib/R/4.2/site-library</td><td><span style=white-space:pre-wrap>1.2.3  </span></td><td>NA</td><td><span style=white-space:pre-wrap>NA                                                 </span></td><td><span style=white-space:pre-wrap>methods, rlang, vctrs (&gt;= 0.2.1)                                                                                                                        </span></td><td>NA</td><td><span style=white-space:pre-wrap>covr, crayon, pillar (&gt;= 1.2.1), testthat                                                                                                                                                                                                                                                                                                                                                                                                                                                                                                                                                                                                                                                                                                                                 </span></td><td><span style=white-space:pre-wrap>NA   </span></td><td><span style=white-space:pre-wrap>MIT + file LICENSE         </span></td><td>NA</td><td>NA</td><td>NA</td><td>NA</td><td>no </td><td>4.2.0</td></tr>\n",
       "\t<tr><th scope=row>bookdown</th><td><span style=white-space:pre-wrap>bookdown     </span></td><td>/usr/local/lib/R/4.2/site-library</td><td><span style=white-space:pre-wrap>0.28   </span></td><td>NA</td><td><span style=white-space:pre-wrap>NA                                                 </span></td><td><span style=white-space:pre-wrap>htmltools (&gt;= 0.3.6), knitr (&gt;= 1.38), rmarkdown (&gt;= 2.14),\n",
       "jquerylib, xfun (&gt;= 0.29), tinytex (&gt;= 0.12), yaml (&gt;= 2.1.19)                             </span></td><td>NA</td><td><span style=white-space:pre-wrap>bslib (&gt;= 0.2.4), downlit (&gt;= 0.4.0), htmlwidgets, jsonlite,\n",
       "rstudioapi, miniUI, rsconnect (&gt;= 0.4.3), servr (&gt;= 0.13),\n",
       "shiny, tibble, testit (&gt;= 0.9), tufte, xml2, webshot, testthat\n",
       "(&gt;= 3.1.0), withr (&gt;= 2.3.0)                                                                                                                                                                                                                                                                                                                                                                                                                                                                                                                                                    </span></td><td><span style=white-space:pre-wrap>NA   </span></td><td><span style=white-space:pre-wrap>GPL-3                      </span></td><td>NA</td><td>NA</td><td>NA</td><td>NA</td><td>no </td><td>4.2.0</td></tr>\n",
       "\t<tr><th scope=row>brew</th><td><span style=white-space:pre-wrap>brew         </span></td><td>/usr/local/lib/R/4.2/site-library</td><td><span style=white-space:pre-wrap>1.0-8  </span></td><td>NA</td><td><span style=white-space:pre-wrap>NA                                                 </span></td><td><span style=white-space:pre-wrap>NA                                                                                                                                                      </span></td><td>NA</td><td><span style=white-space:pre-wrap>testthat (&gt;= 3.0.0)                                                                                                                                                                                                                                                                                                                                                                                                                                                                                                                                                                                                                                                                                                                                                       </span></td><td><span style=white-space:pre-wrap>NA   </span></td><td><span style=white-space:pre-wrap>GPL-2                      </span></td><td>NA</td><td>NA</td><td>NA</td><td>NA</td><td>no </td><td>4.2.0</td></tr>\n",
       "\t<tr><th scope=row>brio</th><td><span style=white-space:pre-wrap>brio         </span></td><td>/usr/local/lib/R/4.2/site-library</td><td><span style=white-space:pre-wrap>1.1.3  </span></td><td>NA</td><td><span style=white-space:pre-wrap>NA                                                 </span></td><td><span style=white-space:pre-wrap>NA                                                                                                                                                      </span></td><td>NA</td><td><span style=white-space:pre-wrap>covr, testthat (&gt;= 2.1.0)                                                                                                                                                                                                                                                                                                                                                                                                                                                                                                                                                                                                                                                                                                                                                 </span></td><td><span style=white-space:pre-wrap>NA   </span></td><td><span style=white-space:pre-wrap>MIT + file LICENSE         </span></td><td>NA</td><td>NA</td><td>NA</td><td>NA</td><td>yes</td><td>4.2.0</td></tr>\n",
       "\t<tr><th scope=row>broom</th><td><span style=white-space:pre-wrap>broom        </span></td><td>/usr/local/lib/R/4.2/site-library</td><td><span style=white-space:pre-wrap>0.8.0  </span></td><td>NA</td><td><span style=white-space:pre-wrap>R (&gt;= 3.1)                                         </span></td><td><span style=white-space:pre-wrap>backports, dplyr (&gt;= 1.0.0), ellipsis, generics (&gt;= 0.0.2),\n",
       "glue, methods, purrr, rlang, stringr, tibble (&gt;= 3.0.0), tidyr\n",
       "(&gt;= 1.0.0), ggplot2        </span></td><td>NA</td><td>AER, akima, AUC, bbmle, betareg, biglm, binGroup, boot,\n",
       "btergm (&gt;= 1.10.6), car, caret, cluster, cmprsk, coda, covr,\n",
       "drc, e1071, emmeans, epiR, ergm (&gt;= 3.10.4), fixest (&gt;= 0.9.0),\n",
       "gam (&gt;= 1.15), gee, geepack, glmnet, glmnetUtils, gmm, Hmisc,\n",
       "irlba, joineRML, Kendall, knitr, ks, Lahman, lavaan, leaps,\n",
       "lfe, lm.beta, lme4, lmodel2, lmtest (&gt;= 0.9.38), lsmeans, maps,\n",
       "maptools, margins, MASS, Matrix, mclust, mediation, metafor,\n",
       "mfx, mgcv, mlogit, modeldata, modeltests, muhaz, multcomp,\n",
       "network, nnet, orcutt (&gt;= 2.2), ordinal, plm, poLCA, psych,\n",
       "quantreg, rgeos, rmarkdown, robust, robustbase, rsample,\n",
       "sandwich, sp, spdep (&gt;= 1.1), spatialreg, speedglm, spelling,\n",
       "survey, survival, systemfit, testthat (&gt;= 2.1.0), tseries,\n",
       "vars, zoo</td><td><span style=white-space:pre-wrap>NA   </span></td><td><span style=white-space:pre-wrap>MIT + file LICENSE         </span></td><td>NA</td><td>NA</td><td>NA</td><td>NA</td><td>no </td><td>4.2.0</td></tr>\n",
       "\t<tr><th scope=row>broom.helpers</th><td>broom.helpers</td><td>/usr/local/lib/R/4.2/site-library</td><td><span style=white-space:pre-wrap>1.8.0  </span></td><td>NA</td><td><span style=white-space:pre-wrap>R (&gt;= 3.4)                                         </span></td><td><span style=white-space:pre-wrap>broom, cli, dplyr, labelled, lifecycle, purrr, rlang (&gt;=\n",
       "1.0.1), stats, stringr, tibble, tidyr                                                         </span></td><td>NA</td><td><span style=white-space:pre-wrap>biglm, biglmm, brms (&gt;= 2.13.0), broom.mixed, cmprsk, covr,\n",
       "datasets, emmeans, fixest (&gt;= 0.10.0), forcats, gam, gee,\n",
       "geepack, ggplot2, glmmTMB, glue, gt, gtsummary, knitr, lavaan,\n",
       "lfe, lme4 (&gt;= 1.1.28), MASS, mgcv, mice, nnet, ordinal,\n",
       "parameters, parsnip, plm, rmarkdown, rstanarm, spelling,\n",
       "survey, survival, testthat, tidycmprsk, VGAM                                                                                                                                                                                                                                                                                                                                                                                                                   </span></td><td><span style=white-space:pre-wrap>NA   </span></td><td><span style=white-space:pre-wrap>GPL-3                      </span></td><td>NA</td><td>NA</td><td>NA</td><td>NA</td><td>no </td><td>4.2.0</td></tr>\n",
       "\t<tr><th scope=row>bslib</th><td><span style=white-space:pre-wrap>bslib        </span></td><td>/usr/local/lib/R/4.2/site-library</td><td><span style=white-space:pre-wrap>0.3.1  </span></td><td>NA</td><td><span style=white-space:pre-wrap>R (&gt;= 2.10)                                        </span></td><td><span style=white-space:pre-wrap>grDevices, htmltools (&gt;= 0.5.2), jsonlite, sass (&gt;= 0.4.0),\n",
       "jquerylib (&gt;= 0.1.3), rlang                                                                </span></td><td>NA</td><td><span style=white-space:pre-wrap>shiny (&gt;= 1.6.0), rmarkdown (&gt;= 2.7), thematic, knitr,\n",
       "testthat, withr, rappdirs, curl, magrittr                                                                                                                                                                                                                                                                                                                                                                                                                                                                                                                                                                                                                                                                         </span></td><td><span style=white-space:pre-wrap>NA   </span></td><td><span style=white-space:pre-wrap>MIT + file LICENSE         </span></td><td>NA</td><td>NA</td><td>NA</td><td>NA</td><td>no </td><td>4.2.0</td></tr>\n",
       "\t<tr><th scope=row>cachem</th><td>cachem       </td><td>/usr/local/lib/R/4.2/site-library</td><td>1.0.6  </td><td>NA</td><td>NA                                                 </td><td>rlang, fastmap                                                                                                                                          </td><td>NA</td><td>testthat                                                                                                                                                                                                                                                                                                                                                                                                                                                                                                                                                                                                                                                                                                                                                                  </td><td>NA   </td><td>MIT + file LICENSE         </td><td>NA</td><td>NA</td><td>NA</td><td>NA</td><td>yes</td><td>4.2.0</td></tr>\n",
       "\t<tr><th scope=row>callr</th><td><span style=white-space:pre-wrap>callr        </span></td><td>/usr/local/lib/R/4.2/site-library</td><td><span style=white-space:pre-wrap>3.7.0  </span></td><td>NA</td><td><span style=white-space:pre-wrap>NA                                                 </span></td><td><span style=white-space:pre-wrap>processx (&gt;= 3.5.0), R6, utils                                                                                                                          </span></td><td>NA</td><td><span style=white-space:pre-wrap>cli, covr, ps, rprojroot, spelling, testthat, withr (&gt;=\n",
       "2.3.0)                                                                                                                                                                                                                                                                                                                                                                                                                                                                                                                                                                                                                                                                                                           </span></td><td><span style=white-space:pre-wrap>NA   </span></td><td><span style=white-space:pre-wrap>MIT + file LICENSE         </span></td><td>NA</td><td>NA</td><td>NA</td><td>NA</td><td>no </td><td>4.2.0</td></tr>\n",
       "\t<tr><th scope=row>caret</th><td><span style=white-space:pre-wrap>caret        </span></td><td>/usr/local/lib/R/4.2/site-library</td><td>6.0-92 </td><td>NA</td><td><span style=white-space:pre-wrap>ggplot2, lattice (&gt;= 0.20), R (&gt;= 3.2.0)           </span></td><td>e1071, foreach, grDevices, methods, ModelMetrics (&gt;= 1.2.2.2),\n",
       "nlme, plyr, pROC, recipes (&gt;= 0.1.10), reshape2, stats, stats4,\n",
       "utils, withr (&gt;= 2.0.0)</td><td>NA</td><td><span style=white-space:pre-wrap>BradleyTerry2, covr, Cubist, dplyr, earth (&gt;= 2.2-3),\n",
       "ellipse, fastICA, gam (&gt;= 1.15), ipred, kernlab, klaR, knitr,\n",
       "MASS, Matrix, mda, mgcv, mlbench, MLmetrics, nnet, pamr, party\n",
       "(&gt;= 0.9-99992), pls, proxy, randomForest, RANN, rmarkdown,\n",
       "rpart, spls, subselect, superpc, testthat (&gt;= 0.9.1), themis\n",
       "(&gt;= 0.1.3)                                                                                                                                                                                                                                                                                                                                                                                                                                                </span></td><td><span style=white-space:pre-wrap>NA   </span></td><td><span style=white-space:pre-wrap>GPL (&gt;= 2)                 </span></td><td>NA</td><td>NA</td><td>NA</td><td>NA</td><td>yes</td><td>4.2.0</td></tr>\n",
       "\t<tr><th scope=row>cellranger</th><td><span style=white-space:pre-wrap>cellranger   </span></td><td>/usr/local/lib/R/4.2/site-library</td><td><span style=white-space:pre-wrap>1.1.0  </span></td><td>NA</td><td><span style=white-space:pre-wrap>R (&gt;= 3.0.0)                                       </span></td><td><span style=white-space:pre-wrap>rematch, tibble                                                                                                                                         </span></td><td>NA</td><td><span style=white-space:pre-wrap>covr, testthat (&gt;= 1.0.0), knitr, rmarkdown                                                                                                                                                                                                                                                                                                                                                                                                                                                                                                                                                                                                                                                                                                                               </span></td><td><span style=white-space:pre-wrap>NA   </span></td><td><span style=white-space:pre-wrap>MIT + file LICENSE         </span></td><td>NA</td><td>NA</td><td>NA</td><td>NA</td><td>no </td><td>4.2.0</td></tr>\n",
       "\t<tr><th scope=row>classInt</th><td><span style=white-space:pre-wrap>classInt     </span></td><td>/usr/local/lib/R/4.2/site-library</td><td><span style=white-space:pre-wrap>0.4-8  </span></td><td>NA</td><td><span style=white-space:pre-wrap>R (&gt;= 2.2)                                         </span></td><td><span style=white-space:pre-wrap>grDevices, stats, graphics, e1071, class, KernSmooth                                                                                                    </span></td><td>NA</td><td><span style=white-space:pre-wrap>spData (&gt;= 0.2.6.2), units, knitr, rmarkdown                                                                                                                                                                                                                                                                                                                                                                                                                                                                                                                                                                                                                                                                                                                              </span></td><td><span style=white-space:pre-wrap>NA   </span></td><td><span style=white-space:pre-wrap>GPL (&gt;= 2)                 </span></td><td>NA</td><td>NA</td><td>NA</td><td>NA</td><td>yes</td><td>4.2.0</td></tr>\n",
       "\t<tr><th scope=row>cli</th><td><span style=white-space:pre-wrap>cli          </span></td><td>/usr/local/lib/R/4.2/site-library</td><td><span style=white-space:pre-wrap>3.4.1  </span></td><td>NA</td><td><span style=white-space:pre-wrap>R (&gt;= 3.4)                                         </span></td><td><span style=white-space:pre-wrap>utils                                                                                                                                                   </span></td><td>NA</td><td><span style=white-space:pre-wrap>callr, covr, digest, glue (&gt;= 1.6.0), grDevices, htmltools,\n",
       "htmlwidgets, knitr, methods, mockery, processx, ps (&gt;=\n",
       "1.3.4.9000), rlang (&gt;= 1.0.2.9003), rmarkdown, rprojroot,\n",
       "rstudioapi, testthat, tibble, whoami, withr                                                                                                                                                                                                                                                                                                                                                                                                                                                                                                                                               </span></td><td><span style=white-space:pre-wrap>NA   </span></td><td><span style=white-space:pre-wrap>MIT + file LICENSE         </span></td><td>NA</td><td>NA</td><td>NA</td><td>NA</td><td>yes</td><td>4.2.0</td></tr>\n",
       "\t<tr><th scope=row>clipr</th><td><span style=white-space:pre-wrap>clipr        </span></td><td>/usr/local/lib/R/4.2/site-library</td><td><span style=white-space:pre-wrap>0.8.0  </span></td><td>NA</td><td><span style=white-space:pre-wrap>NA                                                 </span></td><td><span style=white-space:pre-wrap>utils                                                                                                                                                   </span></td><td>NA</td><td><span style=white-space:pre-wrap>covr, knitr, rmarkdown, rstudioapi (&gt;= 0.5), testthat (&gt;=\n",
       "2.0.0)                                                                                                                                                                                                                                                                                                                                                                                                                                                                                                                                                                                                                                                                                                         </span></td><td><span style=white-space:pre-wrap>NA   </span></td><td><span style=white-space:pre-wrap>GPL-3                      </span></td><td>NA</td><td>NA</td><td>NA</td><td>NA</td><td>no </td><td>4.2.0</td></tr>\n",
       "\t<tr><th scope=row>clisymbols</th><td>clisymbols   </td><td>/usr/local/lib/R/4.2/site-library</td><td>1.2.0  </td><td>NA</td><td>NA                                                 </td><td>NA                                                                                                                                                      </td><td>NA</td><td>testthat                                                                                                                                                                                                                                                                                                                                                                                                                                                                                                                                                                                                                                                                                                                                                                  </td><td>NA   </td><td>MIT + file LICENSE         </td><td>NA</td><td>NA</td><td>NA</td><td>NA</td><td>no </td><td>4.2.0</td></tr>\n",
       "\t<tr><th scope=row>colorspace</th><td><span style=white-space:pre-wrap>colorspace   </span></td><td>/usr/local/lib/R/4.2/site-library</td><td><span style=white-space:pre-wrap>2.0-3  </span></td><td>NA</td><td><span style=white-space:pre-wrap>R (&gt;= 3.0.0), methods                              </span></td><td><span style=white-space:pre-wrap>graphics, grDevices, stats                                                                                                                              </span></td><td>NA</td><td><span style=white-space:pre-wrap>datasets, utils, KernSmooth, MASS, kernlab, mvtnorm, vcd,\n",
       "tcltk, shiny, shinyjs, ggplot2, dplyr, scales, grid, png, jpeg,\n",
       "knitr, rmarkdown, RColorBrewer, rcartocolor, scico, viridis,\n",
       "wesanderson                                                                                                                                                                                                                                                                                                                                                                                                                                                                                                                                                                     </span></td><td><span style=white-space:pre-wrap>NA   </span></td><td>BSD_3_clause + file LICENSE</td><td>NA</td><td>NA</td><td>NA</td><td>NA</td><td>yes</td><td>4.2.0</td></tr>\n",
       "\t<tr><th scope=row>commonmark</th><td>commonmark   </td><td>/usr/local/lib/R/4.2/site-library</td><td>1.8.0  </td><td>NA</td><td>NA                                                 </td><td>NA                                                                                                                                                      </td><td>NA</td><td>curl, testthat, xml2                                                                                                                                                                                                                                                                                                                                                                                                                                                                                                                                                                                                                                                                                                                                                      </td><td>NA   </td><td>BSD_2_clause + file LICENSE</td><td>NA</td><td>NA</td><td>NA</td><td>NA</td><td>yes</td><td>4.2.0</td></tr>\n",
       "\t<tr><th scope=row>corrplot</th><td>corrplot     </td><td>/usr/local/lib/R/4.2/site-library</td><td>0.92   </td><td>NA</td><td>NA                                                 </td><td>NA                                                                                                                                                      </td><td>NA</td><td>seriation, knitr, RColorBrewer, rmarkdown, magrittr,\n",
       "prettydoc, testthat                                                                                                                                                                                                                                                                                                                                                                                                                                                                                                                                                                                                                                                                                                 </td><td>NA   </td><td>MIT + file LICENSE         </td><td>NA</td><td>NA</td><td>NA</td><td>NA</td><td>no </td><td>4.2.0</td></tr>\n",
       "\t<tr><th scope=row>covr</th><td><span style=white-space:pre-wrap>covr         </span></td><td>/usr/local/lib/R/4.2/site-library</td><td><span style=white-space:pre-wrap>3.5.1  </span></td><td>NA</td><td><span style=white-space:pre-wrap>R (&gt;= 3.1.0), methods                              </span></td><td><span style=white-space:pre-wrap>digest, stats, utils, jsonlite, rex, httr, crayon, withr (&gt;=\n",
       "1.0.2), yaml                                                                              </span></td><td>NA</td><td><span style=white-space:pre-wrap>R6, curl, knitr, rmarkdown, htmltools, DT (&gt;= 0.2), testthat,\n",
       "rlang, rstudioapi (&gt;= 0.2), xml2 (&gt;= 1.0.0), parallel, memoise,\n",
       "mockery                                                                                                                                                                                                                                                                                                                                                                                                                                                                                                                                                                                                                                   </span></td><td><span style=white-space:pre-wrap>NA   </span></td><td><span style=white-space:pre-wrap>GPL-3                      </span></td><td>NA</td><td>NA</td><td>NA</td><td>NA</td><td>yes</td><td>4.2.0</td></tr>\n",
       "\t<tr><th scope=row>⋮</th><td>⋮</td><td>⋮</td><td>⋮</td><td>⋮</td><td>⋮</td><td>⋮</td><td>⋮</td><td>⋮</td><td>⋮</td><td>⋮</td><td>⋮</td><td>⋮</td><td>⋮</td><td>⋮</td><td>⋮</td><td>⋮</td></tr>\n",
       "\t<tr><th scope=row>zoo</th><td><span style=white-space:pre-wrap>zoo       </span></td><td><span style=white-space:pre-wrap>/usr/local/lib/R/4.2/site-library      </span></td><td><span style=white-space:pre-wrap>1.8-10  </span></td><td><span style=white-space:pre-wrap>NA         </span></td><td><span style=white-space:pre-wrap>R (&gt;= 3.1.0), stats                            </span></td><td>utils, graphics, grDevices, lattice (&gt;= 0.20-27)</td><td>NA</td><td>AER, coda, chron, fts, ggplot2 (&gt;= 3.0.0), mondate, scales,\n",
       "stinepack, strucchange, timeDate, timeSeries, tis, tseries, xts</td><td><span style=white-space:pre-wrap>NA                                                                 </span></td><td><span style=white-space:pre-wrap>GPL-2 | GPL-3            </span></td><td>NA</td><td>NA</td><td>NA</td><td>NA</td><td>yes</td><td>4.2.0</td></tr>\n",
       "\t<tr><th scope=row>base</th><td>base      </td><td>/usr/local/Cellar/r/4.2.0/lib/R/library</td><td>4.2.0   </td><td>base       </td><td>NA                                             </td><td>NA                                              </td><td>NA</td><td>methods                                                                                                                     </td><td>NA                                                                 </td><td>Part of R 4.2.0          </td><td>NA</td><td>NA</td><td>NA</td><td>NA</td><td>NA </td><td>4.2.0</td></tr>\n",
       "\t<tr><th scope=row>boot</th><td><span style=white-space:pre-wrap>boot      </span></td><td>/usr/local/Cellar/r/4.2.0/lib/R/library</td><td>1.3-28.1</td><td>recommended</td><td><span style=white-space:pre-wrap>R (&gt;= 3.0.0), graphics, stats                  </span></td><td><span style=white-space:pre-wrap>NA                                              </span></td><td>NA</td><td><span style=white-space:pre-wrap>MASS, survival                                                                                                              </span></td><td><span style=white-space:pre-wrap>NA                                                                 </span></td><td><span style=white-space:pre-wrap>Unlimited                </span></td><td>NA</td><td>NA</td><td>NA</td><td>NA</td><td>no </td><td>4.2.0</td></tr>\n",
       "\t<tr><th scope=row>class</th><td><span style=white-space:pre-wrap>class     </span></td><td>/usr/local/Cellar/r/4.2.0/lib/R/library</td><td><span style=white-space:pre-wrap>7.3-20  </span></td><td>recommended</td><td><span style=white-space:pre-wrap>R (&gt;= 3.0.0), stats, utils                     </span></td><td><span style=white-space:pre-wrap>MASS                                            </span></td><td>NA</td><td><span style=white-space:pre-wrap>NA                                                                                                                          </span></td><td><span style=white-space:pre-wrap>NA                                                                 </span></td><td><span style=white-space:pre-wrap>GPL-2 | GPL-3            </span></td><td>NA</td><td>NA</td><td>NA</td><td>NA</td><td>yes</td><td>4.2.0</td></tr>\n",
       "\t<tr><th scope=row>cluster</th><td><span style=white-space:pre-wrap>cluster   </span></td><td>/usr/local/Cellar/r/4.2.0/lib/R/library</td><td><span style=white-space:pre-wrap>2.1.4   </span></td><td>recommended</td><td><span style=white-space:pre-wrap>R (&gt;= 3.5.0)                                   </span></td><td><span style=white-space:pre-wrap>graphics, grDevices, stats, utils               </span></td><td>NA</td><td><span style=white-space:pre-wrap>MASS, Matrix                                                                                                                </span></td><td><span style=white-space:pre-wrap>NA                                                                 </span></td><td><span style=white-space:pre-wrap>GPL (&gt;= 2)               </span></td><td>NA</td><td>NA</td><td>NA</td><td>NA</td><td>yes</td><td>4.2.0</td></tr>\n",
       "\t<tr><th scope=row>codetools</th><td>codetools </td><td>/usr/local/Cellar/r/4.2.0/lib/R/library</td><td><span style=white-space:pre-wrap>0.2-18  </span></td><td>recommended</td><td><span style=white-space:pre-wrap>R (&gt;= 2.1)                                     </span></td><td><span style=white-space:pre-wrap>NA                                              </span></td><td>NA</td><td><span style=white-space:pre-wrap>NA                                                                                                                          </span></td><td><span style=white-space:pre-wrap>NA                                                                 </span></td><td><span style=white-space:pre-wrap>GPL                      </span></td><td>NA</td><td>NA</td><td>NA</td><td>NA</td><td>no </td><td>4.2.0</td></tr>\n",
       "\t<tr><th scope=row>compiler</th><td>compiler  </td><td>/usr/local/Cellar/r/4.2.0/lib/R/library</td><td>4.2.0   </td><td>base       </td><td>NA                                             </td><td>NA                                              </td><td>NA</td><td>NA                                                                                                                          </td><td>NA                                                                 </td><td>Part of R 4.2.0          </td><td>NA</td><td>NA</td><td>NA</td><td>NA</td><td>NA </td><td>4.2.0</td></tr>\n",
       "\t<tr><th scope=row>datasets</th><td>datasets  </td><td>/usr/local/Cellar/r/4.2.0/lib/R/library</td><td>4.2.0   </td><td>base       </td><td>NA                                             </td><td>NA                                              </td><td>NA</td><td>NA                                                                                                                          </td><td>NA                                                                 </td><td>Part of R 4.2.0          </td><td>NA</td><td>NA</td><td>NA</td><td>NA</td><td>NA </td><td>4.2.0</td></tr>\n",
       "\t<tr><th scope=row>foreign</th><td><span style=white-space:pre-wrap>foreign   </span></td><td>/usr/local/Cellar/r/4.2.0/lib/R/library</td><td><span style=white-space:pre-wrap>0.8-82  </span></td><td>recommended</td><td><span style=white-space:pre-wrap>R (&gt;= 4.0.0)                                   </span></td><td><span style=white-space:pre-wrap>methods, utils, stats                           </span></td><td>NA</td><td><span style=white-space:pre-wrap>NA                                                                                                                          </span></td><td><span style=white-space:pre-wrap>NA                                                                 </span></td><td><span style=white-space:pre-wrap>GPL (&gt;= 2)               </span></td><td>NA</td><td>NA</td><td>NA</td><td>NA</td><td>yes</td><td>4.2.0</td></tr>\n",
       "\t<tr><th scope=row>graphics</th><td>graphics  </td><td>/usr/local/Cellar/r/4.2.0/lib/R/library</td><td>4.2.0   </td><td>base       </td><td>NA                                             </td><td>grDevices                                       </td><td>NA</td><td>NA                                                                                                                          </td><td>NA                                                                 </td><td>Part of R 4.2.0          </td><td>NA</td><td>NA</td><td>NA</td><td>NA</td><td>yes</td><td>4.2.0</td></tr>\n",
       "\t<tr><th scope=row>grDevices</th><td>grDevices </td><td>/usr/local/Cellar/r/4.2.0/lib/R/library</td><td>4.2.0   </td><td>base       </td><td>NA                                             </td><td>NA                                              </td><td>NA</td><td>KernSmooth                                                                                                                  </td><td>NA                                                                 </td><td>Part of R 4.2.0          </td><td>NA</td><td>NA</td><td>NA</td><td>NA</td><td>yes</td><td>4.2.0</td></tr>\n",
       "\t<tr><th scope=row>grid</th><td>grid      </td><td>/usr/local/Cellar/r/4.2.0/lib/R/library</td><td>4.2.0   </td><td>base       </td><td>NA                                             </td><td>grDevices, utils                                </td><td>NA</td><td>NA                                                                                                                          </td><td>NA                                                                 </td><td>Part of R 4.2.0          </td><td>NA</td><td>NA</td><td>NA</td><td>NA</td><td>yes</td><td>4.2.0</td></tr>\n",
       "\t<tr><th scope=row>KernSmooth</th><td>KernSmooth</td><td>/usr/local/Cellar/r/4.2.0/lib/R/library</td><td>2.23-20 </td><td>recommended</td><td><span style=white-space:pre-wrap>R (&gt;= 2.5.0), stats                            </span></td><td><span style=white-space:pre-wrap>NA                                              </span></td><td>NA</td><td><span style=white-space:pre-wrap>MASS, carData                                                                                                               </span></td><td><span style=white-space:pre-wrap>NA                                                                 </span></td><td><span style=white-space:pre-wrap>Unlimited                </span></td><td>NA</td><td>NA</td><td>NA</td><td>NA</td><td>yes</td><td>4.2.0</td></tr>\n",
       "\t<tr><th scope=row>lattice</th><td><span style=white-space:pre-wrap>lattice   </span></td><td>/usr/local/Cellar/r/4.2.0/lib/R/library</td><td>0.20-45 </td><td>recommended</td><td><span style=white-space:pre-wrap>R (&gt;= 3.0.0)                                   </span></td><td><span style=white-space:pre-wrap>grid, grDevices, graphics, stats, utils         </span></td><td>NA</td><td><span style=white-space:pre-wrap>KernSmooth, MASS, latticeExtra                                                                                              </span></td><td><span style=white-space:pre-wrap>chron                                                              </span></td><td><span style=white-space:pre-wrap>GPL (&gt;= 2)               </span></td><td>NA</td><td>NA</td><td>NA</td><td>NA</td><td>yes</td><td>4.2.0</td></tr>\n",
       "\t<tr><th scope=row>MASS</th><td><span style=white-space:pre-wrap>MASS      </span></td><td>/usr/local/Cellar/r/4.2.0/lib/R/library</td><td><span style=white-space:pre-wrap>7.3-56  </span></td><td>recommended</td><td>R (&gt;= 3.3.0), grDevices, graphics, stats, utils</td><td><span style=white-space:pre-wrap>methods                                         </span></td><td>NA</td><td><span style=white-space:pre-wrap>lattice, nlme, nnet, survival                                                                                               </span></td><td><span style=white-space:pre-wrap>NA                                                                 </span></td><td><span style=white-space:pre-wrap>GPL-2 | GPL-3            </span></td><td>NA</td><td>NA</td><td>NA</td><td>NA</td><td>yes</td><td>4.2.0</td></tr>\n",
       "\t<tr><th scope=row>Matrix</th><td><span style=white-space:pre-wrap>Matrix    </span></td><td>/usr/local/Cellar/r/4.2.0/lib/R/library</td><td><span style=white-space:pre-wrap>1.4-1   </span></td><td>recommended</td><td><span style=white-space:pre-wrap>R (&gt;= 3.5.0)                                   </span></td><td><span style=white-space:pre-wrap>methods, graphics, grid, stats, utils, lattice  </span></td><td>NA</td><td><span style=white-space:pre-wrap>expm, MASS                                                                                                                  </span></td><td>MatrixModels, graph, SparseM, sfsmisc, igraph, maptools, sp,\n",
       "spdep</td><td>GPL (&gt;= 2) | file LICENCE</td><td>NA</td><td>NA</td><td>NA</td><td>NA</td><td>yes</td><td>4.2.0</td></tr>\n",
       "\t<tr><th scope=row>methods</th><td>methods   </td><td>/usr/local/Cellar/r/4.2.0/lib/R/library</td><td>4.2.0   </td><td>base       </td><td>NA                                             </td><td>utils, stats                                    </td><td>NA</td><td>codetools                                                                                                                   </td><td>NA                                                                 </td><td>Part of R 4.2.0          </td><td>NA</td><td>NA</td><td>NA</td><td>NA</td><td>yes</td><td>4.2.0</td></tr>\n",
       "\t<tr><th scope=row>mgcv</th><td><span style=white-space:pre-wrap>mgcv      </span></td><td>/usr/local/Cellar/r/4.2.0/lib/R/library</td><td><span style=white-space:pre-wrap>1.8-40  </span></td><td>recommended</td><td><span style=white-space:pre-wrap>R (&gt;= 3.6.0), nlme (&gt;= 3.1-64)                 </span></td><td>methods, stats, graphics, Matrix, splines, utils</td><td>NA</td><td><span style=white-space:pre-wrap>parallel, survival, MASS                                                                                                    </span></td><td><span style=white-space:pre-wrap>NA                                                                 </span></td><td><span style=white-space:pre-wrap>GPL (&gt;= 2)               </span></td><td>NA</td><td>NA</td><td>NA</td><td>NA</td><td>yes</td><td>4.2.0</td></tr>\n",
       "\t<tr><th scope=row>nlme</th><td><span style=white-space:pre-wrap>nlme      </span></td><td>/usr/local/Cellar/r/4.2.0/lib/R/library</td><td>3.1-157 </td><td>recommended</td><td><span style=white-space:pre-wrap>R (&gt;= 3.5.0)                                   </span></td><td><span style=white-space:pre-wrap>graphics, stats, utils, lattice                 </span></td><td>NA</td><td><span style=white-space:pre-wrap>Hmisc, MASS, SASmixed                                                                                                       </span></td><td><span style=white-space:pre-wrap>NA                                                                 </span></td><td><span style=white-space:pre-wrap>GPL (&gt;= 2)               </span></td><td>NA</td><td>NA</td><td>NA</td><td>NA</td><td>yes</td><td>4.2.0</td></tr>\n",
       "\t<tr><th scope=row>nnet</th><td><span style=white-space:pre-wrap>nnet      </span></td><td>/usr/local/Cellar/r/4.2.0/lib/R/library</td><td><span style=white-space:pre-wrap>7.3-17  </span></td><td>recommended</td><td><span style=white-space:pre-wrap>R (&gt;= 3.0.0), stats, utils                     </span></td><td><span style=white-space:pre-wrap>NA                                              </span></td><td>NA</td><td><span style=white-space:pre-wrap>MASS                                                                                                                        </span></td><td><span style=white-space:pre-wrap>NA                                                                 </span></td><td><span style=white-space:pre-wrap>GPL-2 | GPL-3            </span></td><td>NA</td><td>NA</td><td>NA</td><td>NA</td><td>yes</td><td>4.2.0</td></tr>\n",
       "\t<tr><th scope=row>parallel</th><td>parallel  </td><td>/usr/local/Cellar/r/4.2.0/lib/R/library</td><td>4.2.0   </td><td>base       </td><td>NA                                             </td><td>tools, compiler                                 </td><td>NA</td><td>methods                                                                                                                     </td><td>snow, nws, Rmpi                                                    </td><td>Part of R 4.2.0          </td><td>NA</td><td>NA</td><td>NA</td><td>NA</td><td>yes</td><td>4.2.0</td></tr>\n",
       "\t<tr><th scope=row>rpart</th><td><span style=white-space:pre-wrap>rpart     </span></td><td>/usr/local/Cellar/r/4.2.0/lib/R/library</td><td><span style=white-space:pre-wrap>4.1.16  </span></td><td>recommended</td><td><span style=white-space:pre-wrap>R (&gt;= 2.15.0), graphics, stats, grDevices      </span></td><td><span style=white-space:pre-wrap>NA                                              </span></td><td>NA</td><td><span style=white-space:pre-wrap>survival                                                                                                                    </span></td><td><span style=white-space:pre-wrap>NA                                                                 </span></td><td><span style=white-space:pre-wrap>GPL-2 | GPL-3            </span></td><td>NA</td><td>NA</td><td>NA</td><td>NA</td><td>yes</td><td>4.2.0</td></tr>\n",
       "\t<tr><th scope=row>spatial</th><td><span style=white-space:pre-wrap>spatial   </span></td><td>/usr/local/Cellar/r/4.2.0/lib/R/library</td><td><span style=white-space:pre-wrap>7.3-15  </span></td><td>recommended</td><td><span style=white-space:pre-wrap>R (&gt;= 3.0.0), graphics, stats, utils           </span></td><td><span style=white-space:pre-wrap>NA                                              </span></td><td>NA</td><td><span style=white-space:pre-wrap>MASS                                                                                                                        </span></td><td><span style=white-space:pre-wrap>NA                                                                 </span></td><td><span style=white-space:pre-wrap>GPL-2 | GPL-3            </span></td><td>NA</td><td>NA</td><td>NA</td><td>NA</td><td>yes</td><td>4.2.0</td></tr>\n",
       "\t<tr><th scope=row>splines</th><td>splines   </td><td>/usr/local/Cellar/r/4.2.0/lib/R/library</td><td>4.2.0   </td><td>base       </td><td>NA                                             </td><td>graphics, stats                                 </td><td>NA</td><td>Matrix, methods                                                                                                             </td><td>NA                                                                 </td><td>Part of R 4.2.0          </td><td>NA</td><td>NA</td><td>NA</td><td>NA</td><td>yes</td><td>4.2.0</td></tr>\n",
       "\t<tr><th scope=row>stats</th><td>stats     </td><td>/usr/local/Cellar/r/4.2.0/lib/R/library</td><td>4.2.0   </td><td>base       </td><td>NA                                             </td><td>utils, grDevices, graphics                      </td><td>NA</td><td>MASS, Matrix, SuppDists, methods, stats4                                                                                    </td><td>NA                                                                 </td><td>Part of R 4.2.0          </td><td>NA</td><td>NA</td><td>NA</td><td>NA</td><td>yes</td><td>4.2.0</td></tr>\n",
       "\t<tr><th scope=row>stats4</th><td>stats4    </td><td>/usr/local/Cellar/r/4.2.0/lib/R/library</td><td>4.2.0   </td><td>base       </td><td>NA                                             </td><td>graphics, methods, stats                        </td><td>NA</td><td>NA                                                                                                                          </td><td>NA                                                                 </td><td>Part of R 4.2.0          </td><td>NA</td><td>NA</td><td>NA</td><td>NA</td><td>NA </td><td>4.2.0</td></tr>\n",
       "\t<tr><th scope=row>survival</th><td><span style=white-space:pre-wrap>survival  </span></td><td>/usr/local/Cellar/r/4.2.0/lib/R/library</td><td><span style=white-space:pre-wrap>3.3-1   </span></td><td>recommended</td><td><span style=white-space:pre-wrap>R (&gt;= 3.5.0)                                   </span></td><td>graphics, Matrix, methods, splines, stats, utils</td><td>NA</td><td><span style=white-space:pre-wrap>NA                                                                                                                          </span></td><td><span style=white-space:pre-wrap>NA                                                                 </span></td><td><span style=white-space:pre-wrap>LGPL (&gt;= 2)              </span></td><td>NA</td><td>NA</td><td>NA</td><td>NA</td><td>yes</td><td>4.2.0</td></tr>\n",
       "\t<tr><th scope=row>tcltk</th><td>tcltk     </td><td>/usr/local/Cellar/r/4.2.0/lib/R/library</td><td>4.2.0   </td><td>base       </td><td>NA                                             </td><td>utils                                           </td><td>NA</td><td>NA                                                                                                                          </td><td>NA                                                                 </td><td>Part of R 4.2.0          </td><td>NA</td><td>NA</td><td>NA</td><td>NA</td><td>yes</td><td>4.2.0</td></tr>\n",
       "\t<tr><th scope=row>tools</th><td>tools     </td><td>/usr/local/Cellar/r/4.2.0/lib/R/library</td><td>4.2.0   </td><td>base       </td><td>NA                                             </td><td>NA                                              </td><td>NA</td><td>codetools, methods, xml2, curl, commonmark, knitr, xfun, mathjaxr                                                           </td><td>NA                                                                 </td><td>Part of R 4.2.0          </td><td>NA</td><td>NA</td><td>NA</td><td>NA</td><td>yes</td><td>4.2.0</td></tr>\n",
       "\t<tr><th scope=row>utils</th><td>utils     </td><td>/usr/local/Cellar/r/4.2.0/lib/R/library</td><td>4.2.0   </td><td>base       </td><td>NA                                             </td><td>NA                                              </td><td>NA</td><td>methods, xml2, commonmark, knitr                                                                                            </td><td>NA                                                                 </td><td>Part of R 4.2.0          </td><td>NA</td><td>NA</td><td>NA</td><td>NA</td><td>yes</td><td>4.2.0</td></tr>\n",
       "</tbody>\n",
       "</table>\n"
      ],
      "text/latex": [
       "A matrix: 301 × 16 of type chr\n",
       "\\begin{tabular}{r|llllllllllllllll}\n",
       "  & Package & LibPath & Version & Priority & Depends & Imports & LinkingTo & Suggests & Enhances & License & License\\_is\\_FOSS & License\\_restricts\\_use & OS\\_type & MD5sum & NeedsCompilation & Built\\\\\n",
       "\\hline\n",
       "\tarules & arules        & /usr/local/lib/R/4.2/site-library & 1.7-5   & NA & R (>= 4.0.0), Matrix (>= 1.4-0)                     & stats, methods, generics, graphics, utils                                                                                                                & NA & pmml, XML, proxy, arulesViz, arulesCBA, testthat                                                                                                                                                                                                                                                                                                                                                                                                                                                                                                                                                                                                                                                                                                                           & NA    & GPL-3                       & NA & NA & NA & NA & yes & 4.2.0\\\\\n",
       "\taskpass & askpass       & /usr/local/lib/R/4.2/site-library & 1.1     & NA & NA                                                  & sys (>= 2.1)                                                                                                                                             & NA & testthat                                                                                                                                                                                                                                                                                                                                                                                                                                                                                                                                                                                                                                                                                                                                                                   & NA    & MIT + file LICENSE          & NA & NA & NA & NA & yes & 4.2.0\\\\\n",
       "\tassertthat & assertthat    & /usr/local/lib/R/4.2/site-library & 0.2.1   & NA & NA                                                  & tools                                                                                                                                                    & NA & testthat, covr                                                                                                                                                                                                                                                                                                                                                                                                                                                                                                                                                                                                                                                                                                                                                             & NA    & GPL-3                       & NA & NA & NA & NA & no  & 4.2.0\\\\\n",
       "\tbackports & backports     & /usr/local/lib/R/4.2/site-library & 1.4.1   & NA & R (>= 3.0.0)                                        & NA                                                                                                                                                       & NA & NA                                                                                                                                                                                                                                                                                                                                                                                                                                                                                                                                                                                                                                                                                                                                                                         & NA    & GPL-2 \\textbar{} GPL-3               & NA & NA & NA & NA & yes & 4.2.0\\\\\n",
       "\tbase64enc & base64enc     & /usr/local/lib/R/4.2/site-library & 0.1-3   & NA & R (>= 2.9.0)                                        & NA                                                                                                                                                       & NA & NA                                                                                                                                                                                                                                                                                                                                                                                                                                                                                                                                                                                                                                                                                                                                                                         & png   & GPL-2 \\textbar{} GPL-3               & NA & NA & NA & NA & yes & 4.2.0\\\\\n",
       "\tbayestestR & bayestestR    & /usr/local/lib/R/4.2/site-library & 0.13.0  & NA & R (>= 3.6)                                          & insight (>= 0.18.2), datawizard (>= 0.5.1), graphics, methods,\n",
       "stats, utils                                                                             & NA & BayesFactor, bayesQR, bayesplot, BH, blavaan, bridgesampling,\n",
       "brms, effectsize, emmeans, gamm4, ggdist, ggplot2, glmmTMB,\n",
       "httr, KernSmooth, knitr, lavaan, lme4, logspline, MASS, mclust,\n",
       "mediation, modelbased, parameters, patchwork, performance,\n",
       "quadprog, posterior, RcppEigen, rmarkdown, rstan, rstanarm,\n",
       "see, testthat, tweedie                                                                                                                                                                                                                                                                                                                                                                                                                               & NA    & GPL-3                       & NA & NA & NA & NA & no  & 4.2.0\\\\\n",
       "\tbestglm & bestglm       & /usr/local/lib/R/4.2/site-library & 0.37.3  & NA & R (>= 3.1.0), leaps                                 & lattice, glmnet, grpreg, pls                                                                                                                             & NA & MASS                                                                                                                                                                                                                                                                                                                                                                                                                                                                                                                                                                                                                                                                                                                                                                       & caret & GPL (>= 2)                  & NA & NA & NA & NA & yes & 4.2.0\\\\\n",
       "\tBiocManager & BiocManager   & /usr/local/lib/R/4.2/site-library & 1.30.18 & NA & NA                                                  & utils                                                                                                                                                    & NA & BiocVersion, remotes, rmarkdown, testthat, withr, curl, knitr                                                                                                                                                                                                                                                                                                                                                                                                                                                                                                                                                                                                                                                                                                              & NA    & Artistic-2.0                & NA & NA & NA & NA & no  & 4.2.0\\\\\n",
       "\tbit & bit           & /usr/local/lib/R/4.2/site-library & 4.0.4   & NA & R (>= 2.9.2)                                        & NA                                                                                                                                                       & NA & testthat (>= 0.11.0), roxygen2, knitr, rmarkdown,\n",
       "microbenchmark, bit64 (>= 4.0.0), ff (>= 4.0.0)                                                                                                                                                                                                                                                                                                                                                                                                                                                                                                                                                                                                                                                                         & NA    & GPL-2 \\textbar{} GPL-3               & NA & NA & NA & NA & yes & 4.2.0\\\\\n",
       "\tbit64 & bit64         & /usr/local/lib/R/4.2/site-library & 4.0.5   & NA & R (>= 3.0.1), bit (>= 4.0.0), utils, methods, stats & NA                                                                                                                                                       & NA & NA                                                                                                                                                                                                                                                                                                                                                                                                                                                                                                                                                                                                                                                                                                                                                                         & NA    & GPL-2 \\textbar{} GPL-3               & NA & NA & NA & NA & yes & 4.2.0\\\\\n",
       "\tbitops & bitops        & /usr/local/lib/R/4.2/site-library & 1.0-7   & NA & NA                                                  & NA                                                                                                                                                       & NA & NA                                                                                                                                                                                                                                                                                                                                                                                                                                                                                                                                                                                                                                                                                                                                                                         & NA    & GPL (>= 2)                  & NA & NA & NA & NA & yes & 4.2.0\\\\\n",
       "\tblob & blob          & /usr/local/lib/R/4.2/site-library & 1.2.3   & NA & NA                                                  & methods, rlang, vctrs (>= 0.2.1)                                                                                                                         & NA & covr, crayon, pillar (>= 1.2.1), testthat                                                                                                                                                                                                                                                                                                                                                                                                                                                                                                                                                                                                                                                                                                                                  & NA    & MIT + file LICENSE          & NA & NA & NA & NA & no  & 4.2.0\\\\\n",
       "\tbookdown & bookdown      & /usr/local/lib/R/4.2/site-library & 0.28    & NA & NA                                                  & htmltools (>= 0.3.6), knitr (>= 1.38), rmarkdown (>= 2.14),\n",
       "jquerylib, xfun (>= 0.29), tinytex (>= 0.12), yaml (>= 2.1.19)                              & NA & bslib (>= 0.2.4), downlit (>= 0.4.0), htmlwidgets, jsonlite,\n",
       "rstudioapi, miniUI, rsconnect (>= 0.4.3), servr (>= 0.13),\n",
       "shiny, tibble, testit (>= 0.9), tufte, xml2, webshot, testthat\n",
       "(>= 3.1.0), withr (>= 2.3.0)                                                                                                                                                                                                                                                                                                                                                                                                                                                                                                                                                     & NA    & GPL-3                       & NA & NA & NA & NA & no  & 4.2.0\\\\\n",
       "\tbrew & brew          & /usr/local/lib/R/4.2/site-library & 1.0-8   & NA & NA                                                  & NA                                                                                                                                                       & NA & testthat (>= 3.0.0)                                                                                                                                                                                                                                                                                                                                                                                                                                                                                                                                                                                                                                                                                                                                                        & NA    & GPL-2                       & NA & NA & NA & NA & no  & 4.2.0\\\\\n",
       "\tbrio & brio          & /usr/local/lib/R/4.2/site-library & 1.1.3   & NA & NA                                                  & NA                                                                                                                                                       & NA & covr, testthat (>= 2.1.0)                                                                                                                                                                                                                                                                                                                                                                                                                                                                                                                                                                                                                                                                                                                                                  & NA    & MIT + file LICENSE          & NA & NA & NA & NA & yes & 4.2.0\\\\\n",
       "\tbroom & broom         & /usr/local/lib/R/4.2/site-library & 0.8.0   & NA & R (>= 3.1)                                          & backports, dplyr (>= 1.0.0), ellipsis, generics (>= 0.0.2),\n",
       "glue, methods, purrr, rlang, stringr, tibble (>= 3.0.0), tidyr\n",
       "(>= 1.0.0), ggplot2         & NA & AER, akima, AUC, bbmle, betareg, biglm, binGroup, boot,\n",
       "btergm (>= 1.10.6), car, caret, cluster, cmprsk, coda, covr,\n",
       "drc, e1071, emmeans, epiR, ergm (>= 3.10.4), fixest (>= 0.9.0),\n",
       "gam (>= 1.15), gee, geepack, glmnet, glmnetUtils, gmm, Hmisc,\n",
       "irlba, joineRML, Kendall, knitr, ks, Lahman, lavaan, leaps,\n",
       "lfe, lm.beta, lme4, lmodel2, lmtest (>= 0.9.38), lsmeans, maps,\n",
       "maptools, margins, MASS, Matrix, mclust, mediation, metafor,\n",
       "mfx, mgcv, mlogit, modeldata, modeltests, muhaz, multcomp,\n",
       "network, nnet, orcutt (>= 2.2), ordinal, plm, poLCA, psych,\n",
       "quantreg, rgeos, rmarkdown, robust, robustbase, rsample,\n",
       "sandwich, sp, spdep (>= 1.1), spatialreg, speedglm, spelling,\n",
       "survey, survival, systemfit, testthat (>= 2.1.0), tseries,\n",
       "vars, zoo & NA    & MIT + file LICENSE          & NA & NA & NA & NA & no  & 4.2.0\\\\\n",
       "\tbroom.helpers & broom.helpers & /usr/local/lib/R/4.2/site-library & 1.8.0   & NA & R (>= 3.4)                                          & broom, cli, dplyr, labelled, lifecycle, purrr, rlang (>=\n",
       "1.0.1), stats, stringr, tibble, tidyr                                                          & NA & biglm, biglmm, brms (>= 2.13.0), broom.mixed, cmprsk, covr,\n",
       "datasets, emmeans, fixest (>= 0.10.0), forcats, gam, gee,\n",
       "geepack, ggplot2, glmmTMB, glue, gt, gtsummary, knitr, lavaan,\n",
       "lfe, lme4 (>= 1.1.28), MASS, mgcv, mice, nnet, ordinal,\n",
       "parameters, parsnip, plm, rmarkdown, rstanarm, spelling,\n",
       "survey, survival, testthat, tidycmprsk, VGAM                                                                                                                                                                                                                                                                                                                                                                                                                    & NA    & GPL-3                       & NA & NA & NA & NA & no  & 4.2.0\\\\\n",
       "\tbslib & bslib         & /usr/local/lib/R/4.2/site-library & 0.3.1   & NA & R (>= 2.10)                                         & grDevices, htmltools (>= 0.5.2), jsonlite, sass (>= 0.4.0),\n",
       "jquerylib (>= 0.1.3), rlang                                                                 & NA & shiny (>= 1.6.0), rmarkdown (>= 2.7), thematic, knitr,\n",
       "testthat, withr, rappdirs, curl, magrittr                                                                                                                                                                                                                                                                                                                                                                                                                                                                                                                                                                                                                                                                          & NA    & MIT + file LICENSE          & NA & NA & NA & NA & no  & 4.2.0\\\\\n",
       "\tcachem & cachem        & /usr/local/lib/R/4.2/site-library & 1.0.6   & NA & NA                                                  & rlang, fastmap                                                                                                                                           & NA & testthat                                                                                                                                                                                                                                                                                                                                                                                                                                                                                                                                                                                                                                                                                                                                                                   & NA    & MIT + file LICENSE          & NA & NA & NA & NA & yes & 4.2.0\\\\\n",
       "\tcallr & callr         & /usr/local/lib/R/4.2/site-library & 3.7.0   & NA & NA                                                  & processx (>= 3.5.0), R6, utils                                                                                                                           & NA & cli, covr, ps, rprojroot, spelling, testthat, withr (>=\n",
       "2.3.0)                                                                                                                                                                                                                                                                                                                                                                                                                                                                                                                                                                                                                                                                                                            & NA    & MIT + file LICENSE          & NA & NA & NA & NA & no  & 4.2.0\\\\\n",
       "\tcaret & caret         & /usr/local/lib/R/4.2/site-library & 6.0-92  & NA & ggplot2, lattice (>= 0.20), R (>= 3.2.0)            & e1071, foreach, grDevices, methods, ModelMetrics (>= 1.2.2.2),\n",
       "nlme, plyr, pROC, recipes (>= 0.1.10), reshape2, stats, stats4,\n",
       "utils, withr (>= 2.0.0) & NA & BradleyTerry2, covr, Cubist, dplyr, earth (>= 2.2-3),\n",
       "ellipse, fastICA, gam (>= 1.15), ipred, kernlab, klaR, knitr,\n",
       "MASS, Matrix, mda, mgcv, mlbench, MLmetrics, nnet, pamr, party\n",
       "(>= 0.9-99992), pls, proxy, randomForest, RANN, rmarkdown,\n",
       "rpart, spls, subselect, superpc, testthat (>= 0.9.1), themis\n",
       "(>= 0.1.3)                                                                                                                                                                                                                                                                                                                                                                                                                                                 & NA    & GPL (>= 2)                  & NA & NA & NA & NA & yes & 4.2.0\\\\\n",
       "\tcellranger & cellranger    & /usr/local/lib/R/4.2/site-library & 1.1.0   & NA & R (>= 3.0.0)                                        & rematch, tibble                                                                                                                                          & NA & covr, testthat (>= 1.0.0), knitr, rmarkdown                                                                                                                                                                                                                                                                                                                                                                                                                                                                                                                                                                                                                                                                                                                                & NA    & MIT + file LICENSE          & NA & NA & NA & NA & no  & 4.2.0\\\\\n",
       "\tclassInt & classInt      & /usr/local/lib/R/4.2/site-library & 0.4-8   & NA & R (>= 2.2)                                          & grDevices, stats, graphics, e1071, class, KernSmooth                                                                                                     & NA & spData (>= 0.2.6.2), units, knitr, rmarkdown                                                                                                                                                                                                                                                                                                                                                                                                                                                                                                                                                                                                                                                                                                                               & NA    & GPL (>= 2)                  & NA & NA & NA & NA & yes & 4.2.0\\\\\n",
       "\tcli & cli           & /usr/local/lib/R/4.2/site-library & 3.4.1   & NA & R (>= 3.4)                                          & utils                                                                                                                                                    & NA & callr, covr, digest, glue (>= 1.6.0), grDevices, htmltools,\n",
       "htmlwidgets, knitr, methods, mockery, processx, ps (>=\n",
       "1.3.4.9000), rlang (>= 1.0.2.9003), rmarkdown, rprojroot,\n",
       "rstudioapi, testthat, tibble, whoami, withr                                                                                                                                                                                                                                                                                                                                                                                                                                                                                                                                                & NA    & MIT + file LICENSE          & NA & NA & NA & NA & yes & 4.2.0\\\\\n",
       "\tclipr & clipr         & /usr/local/lib/R/4.2/site-library & 0.8.0   & NA & NA                                                  & utils                                                                                                                                                    & NA & covr, knitr, rmarkdown, rstudioapi (>= 0.5), testthat (>=\n",
       "2.0.0)                                                                                                                                                                                                                                                                                                                                                                                                                                                                                                                                                                                                                                                                                                          & NA    & GPL-3                       & NA & NA & NA & NA & no  & 4.2.0\\\\\n",
       "\tclisymbols & clisymbols    & /usr/local/lib/R/4.2/site-library & 1.2.0   & NA & NA                                                  & NA                                                                                                                                                       & NA & testthat                                                                                                                                                                                                                                                                                                                                                                                                                                                                                                                                                                                                                                                                                                                                                                   & NA    & MIT + file LICENSE          & NA & NA & NA & NA & no  & 4.2.0\\\\\n",
       "\tcolorspace & colorspace    & /usr/local/lib/R/4.2/site-library & 2.0-3   & NA & R (>= 3.0.0), methods                               & graphics, grDevices, stats                                                                                                                               & NA & datasets, utils, KernSmooth, MASS, kernlab, mvtnorm, vcd,\n",
       "tcltk, shiny, shinyjs, ggplot2, dplyr, scales, grid, png, jpeg,\n",
       "knitr, rmarkdown, RColorBrewer, rcartocolor, scico, viridis,\n",
       "wesanderson                                                                                                                                                                                                                                                                                                                                                                                                                                                                                                                                                                      & NA    & BSD\\_3\\_clause + file LICENSE & NA & NA & NA & NA & yes & 4.2.0\\\\\n",
       "\tcommonmark & commonmark    & /usr/local/lib/R/4.2/site-library & 1.8.0   & NA & NA                                                  & NA                                                                                                                                                       & NA & curl, testthat, xml2                                                                                                                                                                                                                                                                                                                                                                                                                                                                                                                                                                                                                                                                                                                                                       & NA    & BSD\\_2\\_clause + file LICENSE & NA & NA & NA & NA & yes & 4.2.0\\\\\n",
       "\tcorrplot & corrplot      & /usr/local/lib/R/4.2/site-library & 0.92    & NA & NA                                                  & NA                                                                                                                                                       & NA & seriation, knitr, RColorBrewer, rmarkdown, magrittr,\n",
       "prettydoc, testthat                                                                                                                                                                                                                                                                                                                                                                                                                                                                                                                                                                                                                                                                                                  & NA    & MIT + file LICENSE          & NA & NA & NA & NA & no  & 4.2.0\\\\\n",
       "\tcovr & covr          & /usr/local/lib/R/4.2/site-library & 3.5.1   & NA & R (>= 3.1.0), methods                               & digest, stats, utils, jsonlite, rex, httr, crayon, withr (>=\n",
       "1.0.2), yaml                                                                               & NA & R6, curl, knitr, rmarkdown, htmltools, DT (>= 0.2), testthat,\n",
       "rlang, rstudioapi (>= 0.2), xml2 (>= 1.0.0), parallel, memoise,\n",
       "mockery                                                                                                                                                                                                                                                                                                                                                                                                                                                                                                                                                                                                                                    & NA    & GPL-3                       & NA & NA & NA & NA & yes & 4.2.0\\\\\n",
       "\t⋮ & ⋮ & ⋮ & ⋮ & ⋮ & ⋮ & ⋮ & ⋮ & ⋮ & ⋮ & ⋮ & ⋮ & ⋮ & ⋮ & ⋮ & ⋮ & ⋮\\\\\n",
       "\tzoo & zoo        & /usr/local/lib/R/4.2/site-library       & 1.8-10   & NA          & R (>= 3.1.0), stats                             & utils, graphics, grDevices, lattice (>= 0.20-27) & NA & AER, coda, chron, fts, ggplot2 (>= 3.0.0), mondate, scales,\n",
       "stinepack, strucchange, timeDate, timeSeries, tis, tseries, xts & NA                                                                  & GPL-2 \\textbar{} GPL-3             & NA & NA & NA & NA & yes & 4.2.0\\\\\n",
       "\tbase & base       & /usr/local/Cellar/r/4.2.0/lib/R/library & 4.2.0    & base        & NA                                              & NA                                               & NA & methods                                                                                                                      & NA                                                                  & Part of R 4.2.0           & NA & NA & NA & NA & NA  & 4.2.0\\\\\n",
       "\tboot & boot       & /usr/local/Cellar/r/4.2.0/lib/R/library & 1.3-28.1 & recommended & R (>= 3.0.0), graphics, stats                   & NA                                               & NA & MASS, survival                                                                                                               & NA                                                                  & Unlimited                 & NA & NA & NA & NA & no  & 4.2.0\\\\\n",
       "\tclass & class      & /usr/local/Cellar/r/4.2.0/lib/R/library & 7.3-20   & recommended & R (>= 3.0.0), stats, utils                      & MASS                                             & NA & NA                                                                                                                           & NA                                                                  & GPL-2 \\textbar{} GPL-3             & NA & NA & NA & NA & yes & 4.2.0\\\\\n",
       "\tcluster & cluster    & /usr/local/Cellar/r/4.2.0/lib/R/library & 2.1.4    & recommended & R (>= 3.5.0)                                    & graphics, grDevices, stats, utils                & NA & MASS, Matrix                                                                                                                 & NA                                                                  & GPL (>= 2)                & NA & NA & NA & NA & yes & 4.2.0\\\\\n",
       "\tcodetools & codetools  & /usr/local/Cellar/r/4.2.0/lib/R/library & 0.2-18   & recommended & R (>= 2.1)                                      & NA                                               & NA & NA                                                                                                                           & NA                                                                  & GPL                       & NA & NA & NA & NA & no  & 4.2.0\\\\\n",
       "\tcompiler & compiler   & /usr/local/Cellar/r/4.2.0/lib/R/library & 4.2.0    & base        & NA                                              & NA                                               & NA & NA                                                                                                                           & NA                                                                  & Part of R 4.2.0           & NA & NA & NA & NA & NA  & 4.2.0\\\\\n",
       "\tdatasets & datasets   & /usr/local/Cellar/r/4.2.0/lib/R/library & 4.2.0    & base        & NA                                              & NA                                               & NA & NA                                                                                                                           & NA                                                                  & Part of R 4.2.0           & NA & NA & NA & NA & NA  & 4.2.0\\\\\n",
       "\tforeign & foreign    & /usr/local/Cellar/r/4.2.0/lib/R/library & 0.8-82   & recommended & R (>= 4.0.0)                                    & methods, utils, stats                            & NA & NA                                                                                                                           & NA                                                                  & GPL (>= 2)                & NA & NA & NA & NA & yes & 4.2.0\\\\\n",
       "\tgraphics & graphics   & /usr/local/Cellar/r/4.2.0/lib/R/library & 4.2.0    & base        & NA                                              & grDevices                                        & NA & NA                                                                                                                           & NA                                                                  & Part of R 4.2.0           & NA & NA & NA & NA & yes & 4.2.0\\\\\n",
       "\tgrDevices & grDevices  & /usr/local/Cellar/r/4.2.0/lib/R/library & 4.2.0    & base        & NA                                              & NA                                               & NA & KernSmooth                                                                                                                   & NA                                                                  & Part of R 4.2.0           & NA & NA & NA & NA & yes & 4.2.0\\\\\n",
       "\tgrid & grid       & /usr/local/Cellar/r/4.2.0/lib/R/library & 4.2.0    & base        & NA                                              & grDevices, utils                                 & NA & NA                                                                                                                           & NA                                                                  & Part of R 4.2.0           & NA & NA & NA & NA & yes & 4.2.0\\\\\n",
       "\tKernSmooth & KernSmooth & /usr/local/Cellar/r/4.2.0/lib/R/library & 2.23-20  & recommended & R (>= 2.5.0), stats                             & NA                                               & NA & MASS, carData                                                                                                                & NA                                                                  & Unlimited                 & NA & NA & NA & NA & yes & 4.2.0\\\\\n",
       "\tlattice & lattice    & /usr/local/Cellar/r/4.2.0/lib/R/library & 0.20-45  & recommended & R (>= 3.0.0)                                    & grid, grDevices, graphics, stats, utils          & NA & KernSmooth, MASS, latticeExtra                                                                                               & chron                                                               & GPL (>= 2)                & NA & NA & NA & NA & yes & 4.2.0\\\\\n",
       "\tMASS & MASS       & /usr/local/Cellar/r/4.2.0/lib/R/library & 7.3-56   & recommended & R (>= 3.3.0), grDevices, graphics, stats, utils & methods                                          & NA & lattice, nlme, nnet, survival                                                                                                & NA                                                                  & GPL-2 \\textbar{} GPL-3             & NA & NA & NA & NA & yes & 4.2.0\\\\\n",
       "\tMatrix & Matrix     & /usr/local/Cellar/r/4.2.0/lib/R/library & 1.4-1    & recommended & R (>= 3.5.0)                                    & methods, graphics, grid, stats, utils, lattice   & NA & expm, MASS                                                                                                                   & MatrixModels, graph, SparseM, sfsmisc, igraph, maptools, sp,\n",
       "spdep & GPL (>= 2) \\textbar{} file LICENCE & NA & NA & NA & NA & yes & 4.2.0\\\\\n",
       "\tmethods & methods    & /usr/local/Cellar/r/4.2.0/lib/R/library & 4.2.0    & base        & NA                                              & utils, stats                                     & NA & codetools                                                                                                                    & NA                                                                  & Part of R 4.2.0           & NA & NA & NA & NA & yes & 4.2.0\\\\\n",
       "\tmgcv & mgcv       & /usr/local/Cellar/r/4.2.0/lib/R/library & 1.8-40   & recommended & R (>= 3.6.0), nlme (>= 3.1-64)                  & methods, stats, graphics, Matrix, splines, utils & NA & parallel, survival, MASS                                                                                                     & NA                                                                  & GPL (>= 2)                & NA & NA & NA & NA & yes & 4.2.0\\\\\n",
       "\tnlme & nlme       & /usr/local/Cellar/r/4.2.0/lib/R/library & 3.1-157  & recommended & R (>= 3.5.0)                                    & graphics, stats, utils, lattice                  & NA & Hmisc, MASS, SASmixed                                                                                                        & NA                                                                  & GPL (>= 2)                & NA & NA & NA & NA & yes & 4.2.0\\\\\n",
       "\tnnet & nnet       & /usr/local/Cellar/r/4.2.0/lib/R/library & 7.3-17   & recommended & R (>= 3.0.0), stats, utils                      & NA                                               & NA & MASS                                                                                                                         & NA                                                                  & GPL-2 \\textbar{} GPL-3             & NA & NA & NA & NA & yes & 4.2.0\\\\\n",
       "\tparallel & parallel   & /usr/local/Cellar/r/4.2.0/lib/R/library & 4.2.0    & base        & NA                                              & tools, compiler                                  & NA & methods                                                                                                                      & snow, nws, Rmpi                                                     & Part of R 4.2.0           & NA & NA & NA & NA & yes & 4.2.0\\\\\n",
       "\trpart & rpart      & /usr/local/Cellar/r/4.2.0/lib/R/library & 4.1.16   & recommended & R (>= 2.15.0), graphics, stats, grDevices       & NA                                               & NA & survival                                                                                                                     & NA                                                                  & GPL-2 \\textbar{} GPL-3             & NA & NA & NA & NA & yes & 4.2.0\\\\\n",
       "\tspatial & spatial    & /usr/local/Cellar/r/4.2.0/lib/R/library & 7.3-15   & recommended & R (>= 3.0.0), graphics, stats, utils            & NA                                               & NA & MASS                                                                                                                         & NA                                                                  & GPL-2 \\textbar{} GPL-3             & NA & NA & NA & NA & yes & 4.2.0\\\\\n",
       "\tsplines & splines    & /usr/local/Cellar/r/4.2.0/lib/R/library & 4.2.0    & base        & NA                                              & graphics, stats                                  & NA & Matrix, methods                                                                                                              & NA                                                                  & Part of R 4.2.0           & NA & NA & NA & NA & yes & 4.2.0\\\\\n",
       "\tstats & stats      & /usr/local/Cellar/r/4.2.0/lib/R/library & 4.2.0    & base        & NA                                              & utils, grDevices, graphics                       & NA & MASS, Matrix, SuppDists, methods, stats4                                                                                     & NA                                                                  & Part of R 4.2.0           & NA & NA & NA & NA & yes & 4.2.0\\\\\n",
       "\tstats4 & stats4     & /usr/local/Cellar/r/4.2.0/lib/R/library & 4.2.0    & base        & NA                                              & graphics, methods, stats                         & NA & NA                                                                                                                           & NA                                                                  & Part of R 4.2.0           & NA & NA & NA & NA & NA  & 4.2.0\\\\\n",
       "\tsurvival & survival   & /usr/local/Cellar/r/4.2.0/lib/R/library & 3.3-1    & recommended & R (>= 3.5.0)                                    & graphics, Matrix, methods, splines, stats, utils & NA & NA                                                                                                                           & NA                                                                  & LGPL (>= 2)               & NA & NA & NA & NA & yes & 4.2.0\\\\\n",
       "\ttcltk & tcltk      & /usr/local/Cellar/r/4.2.0/lib/R/library & 4.2.0    & base        & NA                                              & utils                                            & NA & NA                                                                                                                           & NA                                                                  & Part of R 4.2.0           & NA & NA & NA & NA & yes & 4.2.0\\\\\n",
       "\ttools & tools      & /usr/local/Cellar/r/4.2.0/lib/R/library & 4.2.0    & base        & NA                                              & NA                                               & NA & codetools, methods, xml2, curl, commonmark, knitr, xfun, mathjaxr                                                            & NA                                                                  & Part of R 4.2.0           & NA & NA & NA & NA & yes & 4.2.0\\\\\n",
       "\tutils & utils      & /usr/local/Cellar/r/4.2.0/lib/R/library & 4.2.0    & base        & NA                                              & NA                                               & NA & methods, xml2, commonmark, knitr                                                                                             & NA                                                                  & Part of R 4.2.0           & NA & NA & NA & NA & yes & 4.2.0\\\\\n",
       "\\end{tabular}\n"
      ],
      "text/markdown": [
       "\n",
       "A matrix: 301 × 16 of type chr\n",
       "\n",
       "| <!--/--> | Package | LibPath | Version | Priority | Depends | Imports | LinkingTo | Suggests | Enhances | License | License_is_FOSS | License_restricts_use | OS_type | MD5sum | NeedsCompilation | Built |\n",
       "|---|---|---|---|---|---|---|---|---|---|---|---|---|---|---|---|---|\n",
       "| arules | arules        | /usr/local/lib/R/4.2/site-library | 1.7-5   | NA | R (&gt;= 4.0.0), Matrix (&gt;= 1.4-0)                     | stats, methods, generics, graphics, utils                                                                                                                | NA | pmml, XML, proxy, arulesViz, arulesCBA, testthat                                                                                                                                                                                                                                                                                                                                                                                                                                                                                                                                                                                                                                                                                                                           | NA    | GPL-3                       | NA | NA | NA | NA | yes | 4.2.0 |\n",
       "| askpass | askpass       | /usr/local/lib/R/4.2/site-library | 1.1     | NA | NA                                                  | sys (&gt;= 2.1)                                                                                                                                             | NA | testthat                                                                                                                                                                                                                                                                                                                                                                                                                                                                                                                                                                                                                                                                                                                                                                   | NA    | MIT + file LICENSE          | NA | NA | NA | NA | yes | 4.2.0 |\n",
       "| assertthat | assertthat    | /usr/local/lib/R/4.2/site-library | 0.2.1   | NA | NA                                                  | tools                                                                                                                                                    | NA | testthat, covr                                                                                                                                                                                                                                                                                                                                                                                                                                                                                                                                                                                                                                                                                                                                                             | NA    | GPL-3                       | NA | NA | NA | NA | no  | 4.2.0 |\n",
       "| backports | backports     | /usr/local/lib/R/4.2/site-library | 1.4.1   | NA | R (&gt;= 3.0.0)                                        | NA                                                                                                                                                       | NA | NA                                                                                                                                                                                                                                                                                                                                                                                                                                                                                                                                                                                                                                                                                                                                                                         | NA    | GPL-2 | GPL-3               | NA | NA | NA | NA | yes | 4.2.0 |\n",
       "| base64enc | base64enc     | /usr/local/lib/R/4.2/site-library | 0.1-3   | NA | R (&gt;= 2.9.0)                                        | NA                                                                                                                                                       | NA | NA                                                                                                                                                                                                                                                                                                                                                                                                                                                                                                                                                                                                                                                                                                                                                                         | png   | GPL-2 | GPL-3               | NA | NA | NA | NA | yes | 4.2.0 |\n",
       "| bayestestR | bayestestR    | /usr/local/lib/R/4.2/site-library | 0.13.0  | NA | R (&gt;= 3.6)                                          | insight (&gt;= 0.18.2), datawizard (&gt;= 0.5.1), graphics, methods,\n",
       "stats, utils                                                                             | NA | BayesFactor, bayesQR, bayesplot, BH, blavaan, bridgesampling,\n",
       "brms, effectsize, emmeans, gamm4, ggdist, ggplot2, glmmTMB,\n",
       "httr, KernSmooth, knitr, lavaan, lme4, logspline, MASS, mclust,\n",
       "mediation, modelbased, parameters, patchwork, performance,\n",
       "quadprog, posterior, RcppEigen, rmarkdown, rstan, rstanarm,\n",
       "see, testthat, tweedie                                                                                                                                                                                                                                                                                                                                                                                                                               | NA    | GPL-3                       | NA | NA | NA | NA | no  | 4.2.0 |\n",
       "| bestglm | bestglm       | /usr/local/lib/R/4.2/site-library | 0.37.3  | NA | R (&gt;= 3.1.0), leaps                                 | lattice, glmnet, grpreg, pls                                                                                                                             | NA | MASS                                                                                                                                                                                                                                                                                                                                                                                                                                                                                                                                                                                                                                                                                                                                                                       | caret | GPL (&gt;= 2)                  | NA | NA | NA | NA | yes | 4.2.0 |\n",
       "| BiocManager | BiocManager   | /usr/local/lib/R/4.2/site-library | 1.30.18 | NA | NA                                                  | utils                                                                                                                                                    | NA | BiocVersion, remotes, rmarkdown, testthat, withr, curl, knitr                                                                                                                                                                                                                                                                                                                                                                                                                                                                                                                                                                                                                                                                                                              | NA    | Artistic-2.0                | NA | NA | NA | NA | no  | 4.2.0 |\n",
       "| bit | bit           | /usr/local/lib/R/4.2/site-library | 4.0.4   | NA | R (&gt;= 2.9.2)                                        | NA                                                                                                                                                       | NA | testthat (&gt;= 0.11.0), roxygen2, knitr, rmarkdown,\n",
       "microbenchmark, bit64 (&gt;= 4.0.0), ff (&gt;= 4.0.0)                                                                                                                                                                                                                                                                                                                                                                                                                                                                                                                                                                                                                                                                         | NA    | GPL-2 | GPL-3               | NA | NA | NA | NA | yes | 4.2.0 |\n",
       "| bit64 | bit64         | /usr/local/lib/R/4.2/site-library | 4.0.5   | NA | R (&gt;= 3.0.1), bit (&gt;= 4.0.0), utils, methods, stats | NA                                                                                                                                                       | NA | NA                                                                                                                                                                                                                                                                                                                                                                                                                                                                                                                                                                                                                                                                                                                                                                         | NA    | GPL-2 | GPL-3               | NA | NA | NA | NA | yes | 4.2.0 |\n",
       "| bitops | bitops        | /usr/local/lib/R/4.2/site-library | 1.0-7   | NA | NA                                                  | NA                                                                                                                                                       | NA | NA                                                                                                                                                                                                                                                                                                                                                                                                                                                                                                                                                                                                                                                                                                                                                                         | NA    | GPL (&gt;= 2)                  | NA | NA | NA | NA | yes | 4.2.0 |\n",
       "| blob | blob          | /usr/local/lib/R/4.2/site-library | 1.2.3   | NA | NA                                                  | methods, rlang, vctrs (&gt;= 0.2.1)                                                                                                                         | NA | covr, crayon, pillar (&gt;= 1.2.1), testthat                                                                                                                                                                                                                                                                                                                                                                                                                                                                                                                                                                                                                                                                                                                                  | NA    | MIT + file LICENSE          | NA | NA | NA | NA | no  | 4.2.0 |\n",
       "| bookdown | bookdown      | /usr/local/lib/R/4.2/site-library | 0.28    | NA | NA                                                  | htmltools (&gt;= 0.3.6), knitr (&gt;= 1.38), rmarkdown (&gt;= 2.14),\n",
       "jquerylib, xfun (&gt;= 0.29), tinytex (&gt;= 0.12), yaml (&gt;= 2.1.19)                              | NA | bslib (&gt;= 0.2.4), downlit (&gt;= 0.4.0), htmlwidgets, jsonlite,\n",
       "rstudioapi, miniUI, rsconnect (&gt;= 0.4.3), servr (&gt;= 0.13),\n",
       "shiny, tibble, testit (&gt;= 0.9), tufte, xml2, webshot, testthat\n",
       "(&gt;= 3.1.0), withr (&gt;= 2.3.0)                                                                                                                                                                                                                                                                                                                                                                                                                                                                                                                                                     | NA    | GPL-3                       | NA | NA | NA | NA | no  | 4.2.0 |\n",
       "| brew | brew          | /usr/local/lib/R/4.2/site-library | 1.0-8   | NA | NA                                                  | NA                                                                                                                                                       | NA | testthat (&gt;= 3.0.0)                                                                                                                                                                                                                                                                                                                                                                                                                                                                                                                                                                                                                                                                                                                                                        | NA    | GPL-2                       | NA | NA | NA | NA | no  | 4.2.0 |\n",
       "| brio | brio          | /usr/local/lib/R/4.2/site-library | 1.1.3   | NA | NA                                                  | NA                                                                                                                                                       | NA | covr, testthat (&gt;= 2.1.0)                                                                                                                                                                                                                                                                                                                                                                                                                                                                                                                                                                                                                                                                                                                                                  | NA    | MIT + file LICENSE          | NA | NA | NA | NA | yes | 4.2.0 |\n",
       "| broom | broom         | /usr/local/lib/R/4.2/site-library | 0.8.0   | NA | R (&gt;= 3.1)                                          | backports, dplyr (&gt;= 1.0.0), ellipsis, generics (&gt;= 0.0.2),\n",
       "glue, methods, purrr, rlang, stringr, tibble (&gt;= 3.0.0), tidyr\n",
       "(&gt;= 1.0.0), ggplot2         | NA | AER, akima, AUC, bbmle, betareg, biglm, binGroup, boot,\n",
       "btergm (&gt;= 1.10.6), car, caret, cluster, cmprsk, coda, covr,\n",
       "drc, e1071, emmeans, epiR, ergm (&gt;= 3.10.4), fixest (&gt;= 0.9.0),\n",
       "gam (&gt;= 1.15), gee, geepack, glmnet, glmnetUtils, gmm, Hmisc,\n",
       "irlba, joineRML, Kendall, knitr, ks, Lahman, lavaan, leaps,\n",
       "lfe, lm.beta, lme4, lmodel2, lmtest (&gt;= 0.9.38), lsmeans, maps,\n",
       "maptools, margins, MASS, Matrix, mclust, mediation, metafor,\n",
       "mfx, mgcv, mlogit, modeldata, modeltests, muhaz, multcomp,\n",
       "network, nnet, orcutt (&gt;= 2.2), ordinal, plm, poLCA, psych,\n",
       "quantreg, rgeos, rmarkdown, robust, robustbase, rsample,\n",
       "sandwich, sp, spdep (&gt;= 1.1), spatialreg, speedglm, spelling,\n",
       "survey, survival, systemfit, testthat (&gt;= 2.1.0), tseries,\n",
       "vars, zoo | NA    | MIT + file LICENSE          | NA | NA | NA | NA | no  | 4.2.0 |\n",
       "| broom.helpers | broom.helpers | /usr/local/lib/R/4.2/site-library | 1.8.0   | NA | R (&gt;= 3.4)                                          | broom, cli, dplyr, labelled, lifecycle, purrr, rlang (&gt;=\n",
       "1.0.1), stats, stringr, tibble, tidyr                                                          | NA | biglm, biglmm, brms (&gt;= 2.13.0), broom.mixed, cmprsk, covr,\n",
       "datasets, emmeans, fixest (&gt;= 0.10.0), forcats, gam, gee,\n",
       "geepack, ggplot2, glmmTMB, glue, gt, gtsummary, knitr, lavaan,\n",
       "lfe, lme4 (&gt;= 1.1.28), MASS, mgcv, mice, nnet, ordinal,\n",
       "parameters, parsnip, plm, rmarkdown, rstanarm, spelling,\n",
       "survey, survival, testthat, tidycmprsk, VGAM                                                                                                                                                                                                                                                                                                                                                                                                                    | NA    | GPL-3                       | NA | NA | NA | NA | no  | 4.2.0 |\n",
       "| bslib | bslib         | /usr/local/lib/R/4.2/site-library | 0.3.1   | NA | R (&gt;= 2.10)                                         | grDevices, htmltools (&gt;= 0.5.2), jsonlite, sass (&gt;= 0.4.0),\n",
       "jquerylib (&gt;= 0.1.3), rlang                                                                 | NA | shiny (&gt;= 1.6.0), rmarkdown (&gt;= 2.7), thematic, knitr,\n",
       "testthat, withr, rappdirs, curl, magrittr                                                                                                                                                                                                                                                                                                                                                                                                                                                                                                                                                                                                                                                                          | NA    | MIT + file LICENSE          | NA | NA | NA | NA | no  | 4.2.0 |\n",
       "| cachem | cachem        | /usr/local/lib/R/4.2/site-library | 1.0.6   | NA | NA                                                  | rlang, fastmap                                                                                                                                           | NA | testthat                                                                                                                                                                                                                                                                                                                                                                                                                                                                                                                                                                                                                                                                                                                                                                   | NA    | MIT + file LICENSE          | NA | NA | NA | NA | yes | 4.2.0 |\n",
       "| callr | callr         | /usr/local/lib/R/4.2/site-library | 3.7.0   | NA | NA                                                  | processx (&gt;= 3.5.0), R6, utils                                                                                                                           | NA | cli, covr, ps, rprojroot, spelling, testthat, withr (&gt;=\n",
       "2.3.0)                                                                                                                                                                                                                                                                                                                                                                                                                                                                                                                                                                                                                                                                                                            | NA    | MIT + file LICENSE          | NA | NA | NA | NA | no  | 4.2.0 |\n",
       "| caret | caret         | /usr/local/lib/R/4.2/site-library | 6.0-92  | NA | ggplot2, lattice (&gt;= 0.20), R (&gt;= 3.2.0)            | e1071, foreach, grDevices, methods, ModelMetrics (&gt;= 1.2.2.2),\n",
       "nlme, plyr, pROC, recipes (&gt;= 0.1.10), reshape2, stats, stats4,\n",
       "utils, withr (&gt;= 2.0.0) | NA | BradleyTerry2, covr, Cubist, dplyr, earth (&gt;= 2.2-3),\n",
       "ellipse, fastICA, gam (&gt;= 1.15), ipred, kernlab, klaR, knitr,\n",
       "MASS, Matrix, mda, mgcv, mlbench, MLmetrics, nnet, pamr, party\n",
       "(&gt;= 0.9-99992), pls, proxy, randomForest, RANN, rmarkdown,\n",
       "rpart, spls, subselect, superpc, testthat (&gt;= 0.9.1), themis\n",
       "(&gt;= 0.1.3)                                                                                                                                                                                                                                                                                                                                                                                                                                                 | NA    | GPL (&gt;= 2)                  | NA | NA | NA | NA | yes | 4.2.0 |\n",
       "| cellranger | cellranger    | /usr/local/lib/R/4.2/site-library | 1.1.0   | NA | R (&gt;= 3.0.0)                                        | rematch, tibble                                                                                                                                          | NA | covr, testthat (&gt;= 1.0.0), knitr, rmarkdown                                                                                                                                                                                                                                                                                                                                                                                                                                                                                                                                                                                                                                                                                                                                | NA    | MIT + file LICENSE          | NA | NA | NA | NA | no  | 4.2.0 |\n",
       "| classInt | classInt      | /usr/local/lib/R/4.2/site-library | 0.4-8   | NA | R (&gt;= 2.2)                                          | grDevices, stats, graphics, e1071, class, KernSmooth                                                                                                     | NA | spData (&gt;= 0.2.6.2), units, knitr, rmarkdown                                                                                                                                                                                                                                                                                                                                                                                                                                                                                                                                                                                                                                                                                                                               | NA    | GPL (&gt;= 2)                  | NA | NA | NA | NA | yes | 4.2.0 |\n",
       "| cli | cli           | /usr/local/lib/R/4.2/site-library | 3.4.1   | NA | R (&gt;= 3.4)                                          | utils                                                                                                                                                    | NA | callr, covr, digest, glue (&gt;= 1.6.0), grDevices, htmltools,\n",
       "htmlwidgets, knitr, methods, mockery, processx, ps (&gt;=\n",
       "1.3.4.9000), rlang (&gt;= 1.0.2.9003), rmarkdown, rprojroot,\n",
       "rstudioapi, testthat, tibble, whoami, withr                                                                                                                                                                                                                                                                                                                                                                                                                                                                                                                                                | NA    | MIT + file LICENSE          | NA | NA | NA | NA | yes | 4.2.0 |\n",
       "| clipr | clipr         | /usr/local/lib/R/4.2/site-library | 0.8.0   | NA | NA                                                  | utils                                                                                                                                                    | NA | covr, knitr, rmarkdown, rstudioapi (&gt;= 0.5), testthat (&gt;=\n",
       "2.0.0)                                                                                                                                                                                                                                                                                                                                                                                                                                                                                                                                                                                                                                                                                                          | NA    | GPL-3                       | NA | NA | NA | NA | no  | 4.2.0 |\n",
       "| clisymbols | clisymbols    | /usr/local/lib/R/4.2/site-library | 1.2.0   | NA | NA                                                  | NA                                                                                                                                                       | NA | testthat                                                                                                                                                                                                                                                                                                                                                                                                                                                                                                                                                                                                                                                                                                                                                                   | NA    | MIT + file LICENSE          | NA | NA | NA | NA | no  | 4.2.0 |\n",
       "| colorspace | colorspace    | /usr/local/lib/R/4.2/site-library | 2.0-3   | NA | R (&gt;= 3.0.0), methods                               | graphics, grDevices, stats                                                                                                                               | NA | datasets, utils, KernSmooth, MASS, kernlab, mvtnorm, vcd,\n",
       "tcltk, shiny, shinyjs, ggplot2, dplyr, scales, grid, png, jpeg,\n",
       "knitr, rmarkdown, RColorBrewer, rcartocolor, scico, viridis,\n",
       "wesanderson                                                                                                                                                                                                                                                                                                                                                                                                                                                                                                                                                                      | NA    | BSD_3_clause + file LICENSE | NA | NA | NA | NA | yes | 4.2.0 |\n",
       "| commonmark | commonmark    | /usr/local/lib/R/4.2/site-library | 1.8.0   | NA | NA                                                  | NA                                                                                                                                                       | NA | curl, testthat, xml2                                                                                                                                                                                                                                                                                                                                                                                                                                                                                                                                                                                                                                                                                                                                                       | NA    | BSD_2_clause + file LICENSE | NA | NA | NA | NA | yes | 4.2.0 |\n",
       "| corrplot | corrplot      | /usr/local/lib/R/4.2/site-library | 0.92    | NA | NA                                                  | NA                                                                                                                                                       | NA | seriation, knitr, RColorBrewer, rmarkdown, magrittr,\n",
       "prettydoc, testthat                                                                                                                                                                                                                                                                                                                                                                                                                                                                                                                                                                                                                                                                                                  | NA    | MIT + file LICENSE          | NA | NA | NA | NA | no  | 4.2.0 |\n",
       "| covr | covr          | /usr/local/lib/R/4.2/site-library | 3.5.1   | NA | R (&gt;= 3.1.0), methods                               | digest, stats, utils, jsonlite, rex, httr, crayon, withr (&gt;=\n",
       "1.0.2), yaml                                                                               | NA | R6, curl, knitr, rmarkdown, htmltools, DT (&gt;= 0.2), testthat,\n",
       "rlang, rstudioapi (&gt;= 0.2), xml2 (&gt;= 1.0.0), parallel, memoise,\n",
       "mockery                                                                                                                                                                                                                                                                                                                                                                                                                                                                                                                                                                                                                                    | NA    | GPL-3                       | NA | NA | NA | NA | yes | 4.2.0 |\n",
       "| ⋮ | ⋮ | ⋮ | ⋮ | ⋮ | ⋮ | ⋮ | ⋮ | ⋮ | ⋮ | ⋮ | ⋮ | ⋮ | ⋮ | ⋮ | ⋮ | ⋮ |\n",
       "| zoo | zoo        | /usr/local/lib/R/4.2/site-library       | 1.8-10   | NA          | R (&gt;= 3.1.0), stats                             | utils, graphics, grDevices, lattice (&gt;= 0.20-27) | NA | AER, coda, chron, fts, ggplot2 (&gt;= 3.0.0), mondate, scales,\n",
       "stinepack, strucchange, timeDate, timeSeries, tis, tseries, xts | NA                                                                  | GPL-2 | GPL-3             | NA | NA | NA | NA | yes | 4.2.0 |\n",
       "| base | base       | /usr/local/Cellar/r/4.2.0/lib/R/library | 4.2.0    | base        | NA                                              | NA                                               | NA | methods                                                                                                                      | NA                                                                  | Part of R 4.2.0           | NA | NA | NA | NA | NA  | 4.2.0 |\n",
       "| boot | boot       | /usr/local/Cellar/r/4.2.0/lib/R/library | 1.3-28.1 | recommended | R (&gt;= 3.0.0), graphics, stats                   | NA                                               | NA | MASS, survival                                                                                                               | NA                                                                  | Unlimited                 | NA | NA | NA | NA | no  | 4.2.0 |\n",
       "| class | class      | /usr/local/Cellar/r/4.2.0/lib/R/library | 7.3-20   | recommended | R (&gt;= 3.0.0), stats, utils                      | MASS                                             | NA | NA                                                                                                                           | NA                                                                  | GPL-2 | GPL-3             | NA | NA | NA | NA | yes | 4.2.0 |\n",
       "| cluster | cluster    | /usr/local/Cellar/r/4.2.0/lib/R/library | 2.1.4    | recommended | R (&gt;= 3.5.0)                                    | graphics, grDevices, stats, utils                | NA | MASS, Matrix                                                                                                                 | NA                                                                  | GPL (&gt;= 2)                | NA | NA | NA | NA | yes | 4.2.0 |\n",
       "| codetools | codetools  | /usr/local/Cellar/r/4.2.0/lib/R/library | 0.2-18   | recommended | R (&gt;= 2.1)                                      | NA                                               | NA | NA                                                                                                                           | NA                                                                  | GPL                       | NA | NA | NA | NA | no  | 4.2.0 |\n",
       "| compiler | compiler   | /usr/local/Cellar/r/4.2.0/lib/R/library | 4.2.0    | base        | NA                                              | NA                                               | NA | NA                                                                                                                           | NA                                                                  | Part of R 4.2.0           | NA | NA | NA | NA | NA  | 4.2.0 |\n",
       "| datasets | datasets   | /usr/local/Cellar/r/4.2.0/lib/R/library | 4.2.0    | base        | NA                                              | NA                                               | NA | NA                                                                                                                           | NA                                                                  | Part of R 4.2.0           | NA | NA | NA | NA | NA  | 4.2.0 |\n",
       "| foreign | foreign    | /usr/local/Cellar/r/4.2.0/lib/R/library | 0.8-82   | recommended | R (&gt;= 4.0.0)                                    | methods, utils, stats                            | NA | NA                                                                                                                           | NA                                                                  | GPL (&gt;= 2)                | NA | NA | NA | NA | yes | 4.2.0 |\n",
       "| graphics | graphics   | /usr/local/Cellar/r/4.2.0/lib/R/library | 4.2.0    | base        | NA                                              | grDevices                                        | NA | NA                                                                                                                           | NA                                                                  | Part of R 4.2.0           | NA | NA | NA | NA | yes | 4.2.0 |\n",
       "| grDevices | grDevices  | /usr/local/Cellar/r/4.2.0/lib/R/library | 4.2.0    | base        | NA                                              | NA                                               | NA | KernSmooth                                                                                                                   | NA                                                                  | Part of R 4.2.0           | NA | NA | NA | NA | yes | 4.2.0 |\n",
       "| grid | grid       | /usr/local/Cellar/r/4.2.0/lib/R/library | 4.2.0    | base        | NA                                              | grDevices, utils                                 | NA | NA                                                                                                                           | NA                                                                  | Part of R 4.2.0           | NA | NA | NA | NA | yes | 4.2.0 |\n",
       "| KernSmooth | KernSmooth | /usr/local/Cellar/r/4.2.0/lib/R/library | 2.23-20  | recommended | R (&gt;= 2.5.0), stats                             | NA                                               | NA | MASS, carData                                                                                                                | NA                                                                  | Unlimited                 | NA | NA | NA | NA | yes | 4.2.0 |\n",
       "| lattice | lattice    | /usr/local/Cellar/r/4.2.0/lib/R/library | 0.20-45  | recommended | R (&gt;= 3.0.0)                                    | grid, grDevices, graphics, stats, utils          | NA | KernSmooth, MASS, latticeExtra                                                                                               | chron                                                               | GPL (&gt;= 2)                | NA | NA | NA | NA | yes | 4.2.0 |\n",
       "| MASS | MASS       | /usr/local/Cellar/r/4.2.0/lib/R/library | 7.3-56   | recommended | R (&gt;= 3.3.0), grDevices, graphics, stats, utils | methods                                          | NA | lattice, nlme, nnet, survival                                                                                                | NA                                                                  | GPL-2 | GPL-3             | NA | NA | NA | NA | yes | 4.2.0 |\n",
       "| Matrix | Matrix     | /usr/local/Cellar/r/4.2.0/lib/R/library | 1.4-1    | recommended | R (&gt;= 3.5.0)                                    | methods, graphics, grid, stats, utils, lattice   | NA | expm, MASS                                                                                                                   | MatrixModels, graph, SparseM, sfsmisc, igraph, maptools, sp,\n",
       "spdep | GPL (&gt;= 2) | file LICENCE | NA | NA | NA | NA | yes | 4.2.0 |\n",
       "| methods | methods    | /usr/local/Cellar/r/4.2.0/lib/R/library | 4.2.0    | base        | NA                                              | utils, stats                                     | NA | codetools                                                                                                                    | NA                                                                  | Part of R 4.2.0           | NA | NA | NA | NA | yes | 4.2.0 |\n",
       "| mgcv | mgcv       | /usr/local/Cellar/r/4.2.0/lib/R/library | 1.8-40   | recommended | R (&gt;= 3.6.0), nlme (&gt;= 3.1-64)                  | methods, stats, graphics, Matrix, splines, utils | NA | parallel, survival, MASS                                                                                                     | NA                                                                  | GPL (&gt;= 2)                | NA | NA | NA | NA | yes | 4.2.0 |\n",
       "| nlme | nlme       | /usr/local/Cellar/r/4.2.0/lib/R/library | 3.1-157  | recommended | R (&gt;= 3.5.0)                                    | graphics, stats, utils, lattice                  | NA | Hmisc, MASS, SASmixed                                                                                                        | NA                                                                  | GPL (&gt;= 2)                | NA | NA | NA | NA | yes | 4.2.0 |\n",
       "| nnet | nnet       | /usr/local/Cellar/r/4.2.0/lib/R/library | 7.3-17   | recommended | R (&gt;= 3.0.0), stats, utils                      | NA                                               | NA | MASS                                                                                                                         | NA                                                                  | GPL-2 | GPL-3             | NA | NA | NA | NA | yes | 4.2.0 |\n",
       "| parallel | parallel   | /usr/local/Cellar/r/4.2.0/lib/R/library | 4.2.0    | base        | NA                                              | tools, compiler                                  | NA | methods                                                                                                                      | snow, nws, Rmpi                                                     | Part of R 4.2.0           | NA | NA | NA | NA | yes | 4.2.0 |\n",
       "| rpart | rpart      | /usr/local/Cellar/r/4.2.0/lib/R/library | 4.1.16   | recommended | R (&gt;= 2.15.0), graphics, stats, grDevices       | NA                                               | NA | survival                                                                                                                     | NA                                                                  | GPL-2 | GPL-3             | NA | NA | NA | NA | yes | 4.2.0 |\n",
       "| spatial | spatial    | /usr/local/Cellar/r/4.2.0/lib/R/library | 7.3-15   | recommended | R (&gt;= 3.0.0), graphics, stats, utils            | NA                                               | NA | MASS                                                                                                                         | NA                                                                  | GPL-2 | GPL-3             | NA | NA | NA | NA | yes | 4.2.0 |\n",
       "| splines | splines    | /usr/local/Cellar/r/4.2.0/lib/R/library | 4.2.0    | base        | NA                                              | graphics, stats                                  | NA | Matrix, methods                                                                                                              | NA                                                                  | Part of R 4.2.0           | NA | NA | NA | NA | yes | 4.2.0 |\n",
       "| stats | stats      | /usr/local/Cellar/r/4.2.0/lib/R/library | 4.2.0    | base        | NA                                              | utils, grDevices, graphics                       | NA | MASS, Matrix, SuppDists, methods, stats4                                                                                     | NA                                                                  | Part of R 4.2.0           | NA | NA | NA | NA | yes | 4.2.0 |\n",
       "| stats4 | stats4     | /usr/local/Cellar/r/4.2.0/lib/R/library | 4.2.0    | base        | NA                                              | graphics, methods, stats                         | NA | NA                                                                                                                           | NA                                                                  | Part of R 4.2.0           | NA | NA | NA | NA | NA  | 4.2.0 |\n",
       "| survival | survival   | /usr/local/Cellar/r/4.2.0/lib/R/library | 3.3-1    | recommended | R (&gt;= 3.5.0)                                    | graphics, Matrix, methods, splines, stats, utils | NA | NA                                                                                                                           | NA                                                                  | LGPL (&gt;= 2)               | NA | NA | NA | NA | yes | 4.2.0 |\n",
       "| tcltk | tcltk      | /usr/local/Cellar/r/4.2.0/lib/R/library | 4.2.0    | base        | NA                                              | utils                                            | NA | NA                                                                                                                           | NA                                                                  | Part of R 4.2.0           | NA | NA | NA | NA | yes | 4.2.0 |\n",
       "| tools | tools      | /usr/local/Cellar/r/4.2.0/lib/R/library | 4.2.0    | base        | NA                                              | NA                                               | NA | codetools, methods, xml2, curl, commonmark, knitr, xfun, mathjaxr                                                            | NA                                                                  | Part of R 4.2.0           | NA | NA | NA | NA | yes | 4.2.0 |\n",
       "| utils | utils      | /usr/local/Cellar/r/4.2.0/lib/R/library | 4.2.0    | base        | NA                                              | NA                                               | NA | methods, xml2, commonmark, knitr                                                                                             | NA                                                                  | Part of R 4.2.0           | NA | NA | NA | NA | yes | 4.2.0 |\n",
       "\n"
      ],
      "text/plain": [
       "              Package       LibPath                                 Version \n",
       "arules        arules        /usr/local/lib/R/4.2/site-library       1.7-5   \n",
       "askpass       askpass       /usr/local/lib/R/4.2/site-library       1.1     \n",
       "assertthat    assertthat    /usr/local/lib/R/4.2/site-library       0.2.1   \n",
       "backports     backports     /usr/local/lib/R/4.2/site-library       1.4.1   \n",
       "base64enc     base64enc     /usr/local/lib/R/4.2/site-library       0.1-3   \n",
       "bayestestR    bayestestR    /usr/local/lib/R/4.2/site-library       0.13.0  \n",
       "bestglm       bestglm       /usr/local/lib/R/4.2/site-library       0.37.3  \n",
       "BiocManager   BiocManager   /usr/local/lib/R/4.2/site-library       1.30.18 \n",
       "bit           bit           /usr/local/lib/R/4.2/site-library       4.0.4   \n",
       "bit64         bit64         /usr/local/lib/R/4.2/site-library       4.0.5   \n",
       "bitops        bitops        /usr/local/lib/R/4.2/site-library       1.0-7   \n",
       "blob          blob          /usr/local/lib/R/4.2/site-library       1.2.3   \n",
       "bookdown      bookdown      /usr/local/lib/R/4.2/site-library       0.28    \n",
       "brew          brew          /usr/local/lib/R/4.2/site-library       1.0-8   \n",
       "brio          brio          /usr/local/lib/R/4.2/site-library       1.1.3   \n",
       "broom         broom         /usr/local/lib/R/4.2/site-library       0.8.0   \n",
       "broom.helpers broom.helpers /usr/local/lib/R/4.2/site-library       1.8.0   \n",
       "bslib         bslib         /usr/local/lib/R/4.2/site-library       0.3.1   \n",
       "cachem        cachem        /usr/local/lib/R/4.2/site-library       1.0.6   \n",
       "callr         callr         /usr/local/lib/R/4.2/site-library       3.7.0   \n",
       "caret         caret         /usr/local/lib/R/4.2/site-library       6.0-92  \n",
       "cellranger    cellranger    /usr/local/lib/R/4.2/site-library       1.1.0   \n",
       "classInt      classInt      /usr/local/lib/R/4.2/site-library       0.4-8   \n",
       "cli           cli           /usr/local/lib/R/4.2/site-library       3.4.1   \n",
       "clipr         clipr         /usr/local/lib/R/4.2/site-library       0.8.0   \n",
       "clisymbols    clisymbols    /usr/local/lib/R/4.2/site-library       1.2.0   \n",
       "colorspace    colorspace    /usr/local/lib/R/4.2/site-library       2.0-3   \n",
       "commonmark    commonmark    /usr/local/lib/R/4.2/site-library       1.8.0   \n",
       "corrplot      corrplot      /usr/local/lib/R/4.2/site-library       0.92    \n",
       "covr          covr          /usr/local/lib/R/4.2/site-library       3.5.1   \n",
       "⋮             ⋮             ⋮                                       ⋮       \n",
       "zoo           zoo           /usr/local/lib/R/4.2/site-library       1.8-10  \n",
       "base          base          /usr/local/Cellar/r/4.2.0/lib/R/library 4.2.0   \n",
       "boot          boot          /usr/local/Cellar/r/4.2.0/lib/R/library 1.3-28.1\n",
       "class         class         /usr/local/Cellar/r/4.2.0/lib/R/library 7.3-20  \n",
       "cluster       cluster       /usr/local/Cellar/r/4.2.0/lib/R/library 2.1.4   \n",
       "codetools     codetools     /usr/local/Cellar/r/4.2.0/lib/R/library 0.2-18  \n",
       "compiler      compiler      /usr/local/Cellar/r/4.2.0/lib/R/library 4.2.0   \n",
       "datasets      datasets      /usr/local/Cellar/r/4.2.0/lib/R/library 4.2.0   \n",
       "foreign       foreign       /usr/local/Cellar/r/4.2.0/lib/R/library 0.8-82  \n",
       "graphics      graphics      /usr/local/Cellar/r/4.2.0/lib/R/library 4.2.0   \n",
       "grDevices     grDevices     /usr/local/Cellar/r/4.2.0/lib/R/library 4.2.0   \n",
       "grid          grid          /usr/local/Cellar/r/4.2.0/lib/R/library 4.2.0   \n",
       "KernSmooth    KernSmooth    /usr/local/Cellar/r/4.2.0/lib/R/library 2.23-20 \n",
       "lattice       lattice       /usr/local/Cellar/r/4.2.0/lib/R/library 0.20-45 \n",
       "MASS          MASS          /usr/local/Cellar/r/4.2.0/lib/R/library 7.3-56  \n",
       "Matrix        Matrix        /usr/local/Cellar/r/4.2.0/lib/R/library 1.4-1   \n",
       "methods       methods       /usr/local/Cellar/r/4.2.0/lib/R/library 4.2.0   \n",
       "mgcv          mgcv          /usr/local/Cellar/r/4.2.0/lib/R/library 1.8-40  \n",
       "nlme          nlme          /usr/local/Cellar/r/4.2.0/lib/R/library 3.1-157 \n",
       "nnet          nnet          /usr/local/Cellar/r/4.2.0/lib/R/library 7.3-17  \n",
       "parallel      parallel      /usr/local/Cellar/r/4.2.0/lib/R/library 4.2.0   \n",
       "rpart         rpart         /usr/local/Cellar/r/4.2.0/lib/R/library 4.1.16  \n",
       "spatial       spatial       /usr/local/Cellar/r/4.2.0/lib/R/library 7.3-15  \n",
       "splines       splines       /usr/local/Cellar/r/4.2.0/lib/R/library 4.2.0   \n",
       "stats         stats         /usr/local/Cellar/r/4.2.0/lib/R/library 4.2.0   \n",
       "stats4        stats4        /usr/local/Cellar/r/4.2.0/lib/R/library 4.2.0   \n",
       "survival      survival      /usr/local/Cellar/r/4.2.0/lib/R/library 3.3-1   \n",
       "tcltk         tcltk         /usr/local/Cellar/r/4.2.0/lib/R/library 4.2.0   \n",
       "tools         tools         /usr/local/Cellar/r/4.2.0/lib/R/library 4.2.0   \n",
       "utils         utils         /usr/local/Cellar/r/4.2.0/lib/R/library 4.2.0   \n",
       "              Priority    Depends                                            \n",
       "arules        NA          R (>= 4.0.0), Matrix (>= 1.4-0)                    \n",
       "askpass       NA          NA                                                 \n",
       "assertthat    NA          NA                                                 \n",
       "backports     NA          R (>= 3.0.0)                                       \n",
       "base64enc     NA          R (>= 2.9.0)                                       \n",
       "bayestestR    NA          R (>= 3.6)                                         \n",
       "bestglm       NA          R (>= 3.1.0), leaps                                \n",
       "BiocManager   NA          NA                                                 \n",
       "bit           NA          R (>= 2.9.2)                                       \n",
       "bit64         NA          R (>= 3.0.1), bit (>= 4.0.0), utils, methods, stats\n",
       "bitops        NA          NA                                                 \n",
       "blob          NA          NA                                                 \n",
       "bookdown      NA          NA                                                 \n",
       "brew          NA          NA                                                 \n",
       "brio          NA          NA                                                 \n",
       "broom         NA          R (>= 3.1)                                         \n",
       "broom.helpers NA          R (>= 3.4)                                         \n",
       "bslib         NA          R (>= 2.10)                                        \n",
       "cachem        NA          NA                                                 \n",
       "callr         NA          NA                                                 \n",
       "caret         NA          ggplot2, lattice (>= 0.20), R (>= 3.2.0)           \n",
       "cellranger    NA          R (>= 3.0.0)                                       \n",
       "classInt      NA          R (>= 2.2)                                         \n",
       "cli           NA          R (>= 3.4)                                         \n",
       "clipr         NA          NA                                                 \n",
       "clisymbols    NA          NA                                                 \n",
       "colorspace    NA          R (>= 3.0.0), methods                              \n",
       "commonmark    NA          NA                                                 \n",
       "corrplot      NA          NA                                                 \n",
       "covr          NA          R (>= 3.1.0), methods                              \n",
       "⋮             ⋮           ⋮                                                  \n",
       "zoo           NA          R (>= 3.1.0), stats                                \n",
       "base          base        NA                                                 \n",
       "boot          recommended R (>= 3.0.0), graphics, stats                      \n",
       "class         recommended R (>= 3.0.0), stats, utils                         \n",
       "cluster       recommended R (>= 3.5.0)                                       \n",
       "codetools     recommended R (>= 2.1)                                         \n",
       "compiler      base        NA                                                 \n",
       "datasets      base        NA                                                 \n",
       "foreign       recommended R (>= 4.0.0)                                       \n",
       "graphics      base        NA                                                 \n",
       "grDevices     base        NA                                                 \n",
       "grid          base        NA                                                 \n",
       "KernSmooth    recommended R (>= 2.5.0), stats                                \n",
       "lattice       recommended R (>= 3.0.0)                                       \n",
       "MASS          recommended R (>= 3.3.0), grDevices, graphics, stats, utils    \n",
       "Matrix        recommended R (>= 3.5.0)                                       \n",
       "methods       base        NA                                                 \n",
       "mgcv          recommended R (>= 3.6.0), nlme (>= 3.1-64)                     \n",
       "nlme          recommended R (>= 3.5.0)                                       \n",
       "nnet          recommended R (>= 3.0.0), stats, utils                         \n",
       "parallel      base        NA                                                 \n",
       "rpart         recommended R (>= 2.15.0), graphics, stats, grDevices          \n",
       "spatial       recommended R (>= 3.0.0), graphics, stats, utils               \n",
       "splines       base        NA                                                 \n",
       "stats         base        NA                                                 \n",
       "stats4        base        NA                                                 \n",
       "survival      recommended R (>= 3.5.0)                                       \n",
       "tcltk         base        NA                                                 \n",
       "tools         base        NA                                                 \n",
       "utils         base        NA                                                 \n",
       "              Imports                                                                                                                                                 \n",
       "arules        stats, methods, generics, graphics, utils                                                                                                               \n",
       "askpass       sys (>= 2.1)                                                                                                                                            \n",
       "assertthat    tools                                                                                                                                                   \n",
       "backports     NA                                                                                                                                                      \n",
       "base64enc     NA                                                                                                                                                      \n",
       "bayestestR    insight (>= 0.18.2), datawizard (>= 0.5.1), graphics, methods,\\nstats, utils                                                                            \n",
       "bestglm       lattice, glmnet, grpreg, pls                                                                                                                            \n",
       "BiocManager   utils                                                                                                                                                   \n",
       "bit           NA                                                                                                                                                      \n",
       "bit64         NA                                                                                                                                                      \n",
       "bitops        NA                                                                                                                                                      \n",
       "blob          methods, rlang, vctrs (>= 0.2.1)                                                                                                                        \n",
       "bookdown      htmltools (>= 0.3.6), knitr (>= 1.38), rmarkdown (>= 2.14),\\njquerylib, xfun (>= 0.29), tinytex (>= 0.12), yaml (>= 2.1.19)                             \n",
       "brew          NA                                                                                                                                                      \n",
       "brio          NA                                                                                                                                                      \n",
       "broom         backports, dplyr (>= 1.0.0), ellipsis, generics (>= 0.0.2),\\nglue, methods, purrr, rlang, stringr, tibble (>= 3.0.0), tidyr\\n(>= 1.0.0), ggplot2        \n",
       "broom.helpers broom, cli, dplyr, labelled, lifecycle, purrr, rlang (>=\\n1.0.1), stats, stringr, tibble, tidyr                                                         \n",
       "bslib         grDevices, htmltools (>= 0.5.2), jsonlite, sass (>= 0.4.0),\\njquerylib (>= 0.1.3), rlang                                                                \n",
       "cachem        rlang, fastmap                                                                                                                                          \n",
       "callr         processx (>= 3.5.0), R6, utils                                                                                                                          \n",
       "caret         e1071, foreach, grDevices, methods, ModelMetrics (>= 1.2.2.2),\\nnlme, plyr, pROC, recipes (>= 0.1.10), reshape2, stats, stats4,\\nutils, withr (>= 2.0.0)\n",
       "cellranger    rematch, tibble                                                                                                                                         \n",
       "classInt      grDevices, stats, graphics, e1071, class, KernSmooth                                                                                                    \n",
       "cli           utils                                                                                                                                                   \n",
       "clipr         utils                                                                                                                                                   \n",
       "clisymbols    NA                                                                                                                                                      \n",
       "colorspace    graphics, grDevices, stats                                                                                                                              \n",
       "commonmark    NA                                                                                                                                                      \n",
       "corrplot      NA                                                                                                                                                      \n",
       "covr          digest, stats, utils, jsonlite, rex, httr, crayon, withr (>=\\n1.0.2), yaml                                                                              \n",
       "⋮             ⋮                                                                                                                                                       \n",
       "zoo           utils, graphics, grDevices, lattice (>= 0.20-27)                                                                                                        \n",
       "base          NA                                                                                                                                                      \n",
       "boot          NA                                                                                                                                                      \n",
       "class         MASS                                                                                                                                                    \n",
       "cluster       graphics, grDevices, stats, utils                                                                                                                       \n",
       "codetools     NA                                                                                                                                                      \n",
       "compiler      NA                                                                                                                                                      \n",
       "datasets      NA                                                                                                                                                      \n",
       "foreign       methods, utils, stats                                                                                                                                   \n",
       "graphics      grDevices                                                                                                                                               \n",
       "grDevices     NA                                                                                                                                                      \n",
       "grid          grDevices, utils                                                                                                                                        \n",
       "KernSmooth    NA                                                                                                                                                      \n",
       "lattice       grid, grDevices, graphics, stats, utils                                                                                                                 \n",
       "MASS          methods                                                                                                                                                 \n",
       "Matrix        methods, graphics, grid, stats, utils, lattice                                                                                                          \n",
       "methods       utils, stats                                                                                                                                            \n",
       "mgcv          methods, stats, graphics, Matrix, splines, utils                                                                                                        \n",
       "nlme          graphics, stats, utils, lattice                                                                                                                         \n",
       "nnet          NA                                                                                                                                                      \n",
       "parallel      tools, compiler                                                                                                                                         \n",
       "rpart         NA                                                                                                                                                      \n",
       "spatial       NA                                                                                                                                                      \n",
       "splines       graphics, stats                                                                                                                                         \n",
       "stats         utils, grDevices, graphics                                                                                                                              \n",
       "stats4        graphics, methods, stats                                                                                                                                \n",
       "survival      graphics, Matrix, methods, splines, stats, utils                                                                                                        \n",
       "tcltk         utils                                                                                                                                                   \n",
       "tools         NA                                                                                                                                                      \n",
       "utils         NA                                                                                                                                                      \n",
       "              LinkingTo\n",
       "arules        NA       \n",
       "askpass       NA       \n",
       "assertthat    NA       \n",
       "backports     NA       \n",
       "base64enc     NA       \n",
       "bayestestR    NA       \n",
       "bestglm       NA       \n",
       "BiocManager   NA       \n",
       "bit           NA       \n",
       "bit64         NA       \n",
       "bitops        NA       \n",
       "blob          NA       \n",
       "bookdown      NA       \n",
       "brew          NA       \n",
       "brio          NA       \n",
       "broom         NA       \n",
       "broom.helpers NA       \n",
       "bslib         NA       \n",
       "cachem        NA       \n",
       "callr         NA       \n",
       "caret         NA       \n",
       "cellranger    NA       \n",
       "classInt      NA       \n",
       "cli           NA       \n",
       "clipr         NA       \n",
       "clisymbols    NA       \n",
       "colorspace    NA       \n",
       "commonmark    NA       \n",
       "corrplot      NA       \n",
       "covr          NA       \n",
       "⋮             ⋮        \n",
       "zoo           NA       \n",
       "base          NA       \n",
       "boot          NA       \n",
       "class         NA       \n",
       "cluster       NA       \n",
       "codetools     NA       \n",
       "compiler      NA       \n",
       "datasets      NA       \n",
       "foreign       NA       \n",
       "graphics      NA       \n",
       "grDevices     NA       \n",
       "grid          NA       \n",
       "KernSmooth    NA       \n",
       "lattice       NA       \n",
       "MASS          NA       \n",
       "Matrix        NA       \n",
       "methods       NA       \n",
       "mgcv          NA       \n",
       "nlme          NA       \n",
       "nnet          NA       \n",
       "parallel      NA       \n",
       "rpart         NA       \n",
       "spatial       NA       \n",
       "splines       NA       \n",
       "stats         NA       \n",
       "stats4        NA       \n",
       "survival      NA       \n",
       "tcltk         NA       \n",
       "tools         NA       \n",
       "utils         NA       \n",
       "              Suggests                                                                                                                                                                                                                                                                                                                                                                                                                                                                                                                                                                                                                                                                                                                                                                  \n",
       "arules        pmml, XML, proxy, arulesViz, arulesCBA, testthat                                                                                                                                                                                                                                                                                                                                                                                                                                                                                                                                                                                                                                                                                                                          \n",
       "askpass       testthat                                                                                                                                                                                                                                                                                                                                                                                                                                                                                                                                                                                                                                                                                                                                                                  \n",
       "assertthat    testthat, covr                                                                                                                                                                                                                                                                                                                                                                                                                                                                                                                                                                                                                                                                                                                                                            \n",
       "backports     NA                                                                                                                                                                                                                                                                                                                                                                                                                                                                                                                                                                                                                                                                                                                                                                        \n",
       "base64enc     NA                                                                                                                                                                                                                                                                                                                                                                                                                                                                                                                                                                                                                                                                                                                                                                        \n",
       "bayestestR    BayesFactor, bayesQR, bayesplot, BH, blavaan, bridgesampling,\\nbrms, effectsize, emmeans, gamm4, ggdist, ggplot2, glmmTMB,\\nhttr, KernSmooth, knitr, lavaan, lme4, logspline, MASS, mclust,\\nmediation, modelbased, parameters, patchwork, performance,\\nquadprog, posterior, RcppEigen, rmarkdown, rstan, rstanarm,\\nsee, testthat, tweedie                                                                                                                                                                                                                                                                                                                                                                                                                              \n",
       "bestglm       MASS                                                                                                                                                                                                                                                                                                                                                                                                                                                                                                                                                                                                                                                                                                                                                                      \n",
       "BiocManager   BiocVersion, remotes, rmarkdown, testthat, withr, curl, knitr                                                                                                                                                                                                                                                                                                                                                                                                                                                                                                                                                                                                                                                                                                             \n",
       "bit           testthat (>= 0.11.0), roxygen2, knitr, rmarkdown,\\nmicrobenchmark, bit64 (>= 4.0.0), ff (>= 4.0.0)                                                                                                                                                                                                                                                                                                                                                                                                                                                                                                                                                                                                                                                                        \n",
       "bit64         NA                                                                                                                                                                                                                                                                                                                                                                                                                                                                                                                                                                                                                                                                                                                                                                        \n",
       "bitops        NA                                                                                                                                                                                                                                                                                                                                                                                                                                                                                                                                                                                                                                                                                                                                                                        \n",
       "blob          covr, crayon, pillar (>= 1.2.1), testthat                                                                                                                                                                                                                                                                                                                                                                                                                                                                                                                                                                                                                                                                                                                                 \n",
       "bookdown      bslib (>= 0.2.4), downlit (>= 0.4.0), htmlwidgets, jsonlite,\\nrstudioapi, miniUI, rsconnect (>= 0.4.3), servr (>= 0.13),\\nshiny, tibble, testit (>= 0.9), tufte, xml2, webshot, testthat\\n(>= 3.1.0), withr (>= 2.3.0)                                                                                                                                                                                                                                                                                                                                                                                                                                                                                                                                                    \n",
       "brew          testthat (>= 3.0.0)                                                                                                                                                                                                                                                                                                                                                                                                                                                                                                                                                                                                                                                                                                                                                       \n",
       "brio          covr, testthat (>= 2.1.0)                                                                                                                                                                                                                                                                                                                                                                                                                                                                                                                                                                                                                                                                                                                                                 \n",
       "broom         AER, akima, AUC, bbmle, betareg, biglm, binGroup, boot,\\nbtergm (>= 1.10.6), car, caret, cluster, cmprsk, coda, covr,\\ndrc, e1071, emmeans, epiR, ergm (>= 3.10.4), fixest (>= 0.9.0),\\ngam (>= 1.15), gee, geepack, glmnet, glmnetUtils, gmm, Hmisc,\\nirlba, joineRML, Kendall, knitr, ks, Lahman, lavaan, leaps,\\nlfe, lm.beta, lme4, lmodel2, lmtest (>= 0.9.38), lsmeans, maps,\\nmaptools, margins, MASS, Matrix, mclust, mediation, metafor,\\nmfx, mgcv, mlogit, modeldata, modeltests, muhaz, multcomp,\\nnetwork, nnet, orcutt (>= 2.2), ordinal, plm, poLCA, psych,\\nquantreg, rgeos, rmarkdown, robust, robustbase, rsample,\\nsandwich, sp, spdep (>= 1.1), spatialreg, speedglm, spelling,\\nsurvey, survival, systemfit, testthat (>= 2.1.0), tseries,\\nvars, zoo\n",
       "broom.helpers biglm, biglmm, brms (>= 2.13.0), broom.mixed, cmprsk, covr,\\ndatasets, emmeans, fixest (>= 0.10.0), forcats, gam, gee,\\ngeepack, ggplot2, glmmTMB, glue, gt, gtsummary, knitr, lavaan,\\nlfe, lme4 (>= 1.1.28), MASS, mgcv, mice, nnet, ordinal,\\nparameters, parsnip, plm, rmarkdown, rstanarm, spelling,\\nsurvey, survival, testthat, tidycmprsk, VGAM                                                                                                                                                                                                                                                                                                                                                                                                                   \n",
       "bslib         shiny (>= 1.6.0), rmarkdown (>= 2.7), thematic, knitr,\\ntestthat, withr, rappdirs, curl, magrittr                                                                                                                                                                                                                                                                                                                                                                                                                                                                                                                                                                                                                                                                         \n",
       "cachem        testthat                                                                                                                                                                                                                                                                                                                                                                                                                                                                                                                                                                                                                                                                                                                                                                  \n",
       "callr         cli, covr, ps, rprojroot, spelling, testthat, withr (>=\\n2.3.0)                                                                                                                                                                                                                                                                                                                                                                                                                                                                                                                                                                                                                                                                                                           \n",
       "caret         BradleyTerry2, covr, Cubist, dplyr, earth (>= 2.2-3),\\nellipse, fastICA, gam (>= 1.15), ipred, kernlab, klaR, knitr,\\nMASS, Matrix, mda, mgcv, mlbench, MLmetrics, nnet, pamr, party\\n(>= 0.9-99992), pls, proxy, randomForest, RANN, rmarkdown,\\nrpart, spls, subselect, superpc, testthat (>= 0.9.1), themis\\n(>= 0.1.3)                                                                                                                                                                                                                                                                                                                                                                                                                                                \n",
       "cellranger    covr, testthat (>= 1.0.0), knitr, rmarkdown                                                                                                                                                                                                                                                                                                                                                                                                                                                                                                                                                                                                                                                                                                                               \n",
       "classInt      spData (>= 0.2.6.2), units, knitr, rmarkdown                                                                                                                                                                                                                                                                                                                                                                                                                                                                                                                                                                                                                                                                                                                              \n",
       "cli           callr, covr, digest, glue (>= 1.6.0), grDevices, htmltools,\\nhtmlwidgets, knitr, methods, mockery, processx, ps (>=\\n1.3.4.9000), rlang (>= 1.0.2.9003), rmarkdown, rprojroot,\\nrstudioapi, testthat, tibble, whoami, withr                                                                                                                                                                                                                                                                                                                                                                                                                                                                                                                                               \n",
       "clipr         covr, knitr, rmarkdown, rstudioapi (>= 0.5), testthat (>=\\n2.0.0)                                                                                                                                                                                                                                                                                                                                                                                                                                                                                                                                                                                                                                                                                                         \n",
       "clisymbols    testthat                                                                                                                                                                                                                                                                                                                                                                                                                                                                                                                                                                                                                                                                                                                                                                  \n",
       "colorspace    datasets, utils, KernSmooth, MASS, kernlab, mvtnorm, vcd,\\ntcltk, shiny, shinyjs, ggplot2, dplyr, scales, grid, png, jpeg,\\nknitr, rmarkdown, RColorBrewer, rcartocolor, scico, viridis,\\nwesanderson                                                                                                                                                                                                                                                                                                                                                                                                                                                                                                                                                                     \n",
       "commonmark    curl, testthat, xml2                                                                                                                                                                                                                                                                                                                                                                                                                                                                                                                                                                                                                                                                                                                                                      \n",
       "corrplot      seriation, knitr, RColorBrewer, rmarkdown, magrittr,\\nprettydoc, testthat                                                                                                                                                                                                                                                                                                                                                                                                                                                                                                                                                                                                                                                                                                 \n",
       "covr          R6, curl, knitr, rmarkdown, htmltools, DT (>= 0.2), testthat,\\nrlang, rstudioapi (>= 0.2), xml2 (>= 1.0.0), parallel, memoise,\\nmockery                                                                                                                                                                                                                                                                                                                                                                                                                                                                                                                                                                                                                                   \n",
       "⋮             ⋮                                                                                                                                                                                                                                                                                                                                                                                                                                                                                                                                                                                                                                                                                                                                                                         \n",
       "zoo           AER, coda, chron, fts, ggplot2 (>= 3.0.0), mondate, scales,\\nstinepack, strucchange, timeDate, timeSeries, tis, tseries, xts                                                                                                                                                                                                                                                                                                                                                                                                                                                                                                                                                                                                                                              \n",
       "base          methods                                                                                                                                                                                                                                                                                                                                                                                                                                                                                                                                                                                                                                                                                                                                                                   \n",
       "boot          MASS, survival                                                                                                                                                                                                                                                                                                                                                                                                                                                                                                                                                                                                                                                                                                                                                            \n",
       "class         NA                                                                                                                                                                                                                                                                                                                                                                                                                                                                                                                                                                                                                                                                                                                                                                        \n",
       "cluster       MASS, Matrix                                                                                                                                                                                                                                                                                                                                                                                                                                                                                                                                                                                                                                                                                                                                                              \n",
       "codetools     NA                                                                                                                                                                                                                                                                                                                                                                                                                                                                                                                                                                                                                                                                                                                                                                        \n",
       "compiler      NA                                                                                                                                                                                                                                                                                                                                                                                                                                                                                                                                                                                                                                                                                                                                                                        \n",
       "datasets      NA                                                                                                                                                                                                                                                                                                                                                                                                                                                                                                                                                                                                                                                                                                                                                                        \n",
       "foreign       NA                                                                                                                                                                                                                                                                                                                                                                                                                                                                                                                                                                                                                                                                                                                                                                        \n",
       "graphics      NA                                                                                                                                                                                                                                                                                                                                                                                                                                                                                                                                                                                                                                                                                                                                                                        \n",
       "grDevices     KernSmooth                                                                                                                                                                                                                                                                                                                                                                                                                                                                                                                                                                                                                                                                                                                                                                \n",
       "grid          NA                                                                                                                                                                                                                                                                                                                                                                                                                                                                                                                                                                                                                                                                                                                                                                        \n",
       "KernSmooth    MASS, carData                                                                                                                                                                                                                                                                                                                                                                                                                                                                                                                                                                                                                                                                                                                                                             \n",
       "lattice       KernSmooth, MASS, latticeExtra                                                                                                                                                                                                                                                                                                                                                                                                                                                                                                                                                                                                                                                                                                                                            \n",
       "MASS          lattice, nlme, nnet, survival                                                                                                                                                                                                                                                                                                                                                                                                                                                                                                                                                                                                                                                                                                                                             \n",
       "Matrix        expm, MASS                                                                                                                                                                                                                                                                                                                                                                                                                                                                                                                                                                                                                                                                                                                                                                \n",
       "methods       codetools                                                                                                                                                                                                                                                                                                                                                                                                                                                                                                                                                                                                                                                                                                                                                                 \n",
       "mgcv          parallel, survival, MASS                                                                                                                                                                                                                                                                                                                                                                                                                                                                                                                                                                                                                                                                                                                                                  \n",
       "nlme          Hmisc, MASS, SASmixed                                                                                                                                                                                                                                                                                                                                                                                                                                                                                                                                                                                                                                                                                                                                                     \n",
       "nnet          MASS                                                                                                                                                                                                                                                                                                                                                                                                                                                                                                                                                                                                                                                                                                                                                                      \n",
       "parallel      methods                                                                                                                                                                                                                                                                                                                                                                                                                                                                                                                                                                                                                                                                                                                                                                   \n",
       "rpart         survival                                                                                                                                                                                                                                                                                                                                                                                                                                                                                                                                                                                                                                                                                                                                                                  \n",
       "spatial       MASS                                                                                                                                                                                                                                                                                                                                                                                                                                                                                                                                                                                                                                                                                                                                                                      \n",
       "splines       Matrix, methods                                                                                                                                                                                                                                                                                                                                                                                                                                                                                                                                                                                                                                                                                                                                                           \n",
       "stats         MASS, Matrix, SuppDists, methods, stats4                                                                                                                                                                                                                                                                                                                                                                                                                                                                                                                                                                                                                                                                                                                                  \n",
       "stats4        NA                                                                                                                                                                                                                                                                                                                                                                                                                                                                                                                                                                                                                                                                                                                                                                        \n",
       "survival      NA                                                                                                                                                                                                                                                                                                                                                                                                                                                                                                                                                                                                                                                                                                                                                                        \n",
       "tcltk         NA                                                                                                                                                                                                                                                                                                                                                                                                                                                                                                                                                                                                                                                                                                                                                                        \n",
       "tools         codetools, methods, xml2, curl, commonmark, knitr, xfun, mathjaxr                                                                                                                                                                                                                                                                                                                                                                                                                                                                                                                                                                                                                                                                                                         \n",
       "utils         methods, xml2, commonmark, knitr                                                                                                                                                                                                                                                                                                                                                                                                                                                                                                                                                                                                                                                                                                                                          \n",
       "              Enhances                                                           \n",
       "arules        NA                                                                 \n",
       "askpass       NA                                                                 \n",
       "assertthat    NA                                                                 \n",
       "backports     NA                                                                 \n",
       "base64enc     png                                                                \n",
       "bayestestR    NA                                                                 \n",
       "bestglm       caret                                                              \n",
       "BiocManager   NA                                                                 \n",
       "bit           NA                                                                 \n",
       "bit64         NA                                                                 \n",
       "bitops        NA                                                                 \n",
       "blob          NA                                                                 \n",
       "bookdown      NA                                                                 \n",
       "brew          NA                                                                 \n",
       "brio          NA                                                                 \n",
       "broom         NA                                                                 \n",
       "broom.helpers NA                                                                 \n",
       "bslib         NA                                                                 \n",
       "cachem        NA                                                                 \n",
       "callr         NA                                                                 \n",
       "caret         NA                                                                 \n",
       "cellranger    NA                                                                 \n",
       "classInt      NA                                                                 \n",
       "cli           NA                                                                 \n",
       "clipr         NA                                                                 \n",
       "clisymbols    NA                                                                 \n",
       "colorspace    NA                                                                 \n",
       "commonmark    NA                                                                 \n",
       "corrplot      NA                                                                 \n",
       "covr          NA                                                                 \n",
       "⋮             ⋮                                                                  \n",
       "zoo           NA                                                                 \n",
       "base          NA                                                                 \n",
       "boot          NA                                                                 \n",
       "class         NA                                                                 \n",
       "cluster       NA                                                                 \n",
       "codetools     NA                                                                 \n",
       "compiler      NA                                                                 \n",
       "datasets      NA                                                                 \n",
       "foreign       NA                                                                 \n",
       "graphics      NA                                                                 \n",
       "grDevices     NA                                                                 \n",
       "grid          NA                                                                 \n",
       "KernSmooth    NA                                                                 \n",
       "lattice       chron                                                              \n",
       "MASS          NA                                                                 \n",
       "Matrix        MatrixModels, graph, SparseM, sfsmisc, igraph, maptools, sp,\\nspdep\n",
       "methods       NA                                                                 \n",
       "mgcv          NA                                                                 \n",
       "nlme          NA                                                                 \n",
       "nnet          NA                                                                 \n",
       "parallel      snow, nws, Rmpi                                                    \n",
       "rpart         NA                                                                 \n",
       "spatial       NA                                                                 \n",
       "splines       NA                                                                 \n",
       "stats         NA                                                                 \n",
       "stats4        NA                                                                 \n",
       "survival      NA                                                                 \n",
       "tcltk         NA                                                                 \n",
       "tools         NA                                                                 \n",
       "utils         NA                                                                 \n",
       "              License                     License_is_FOSS License_restricts_use\n",
       "arules        GPL-3                       NA              NA                   \n",
       "askpass       MIT + file LICENSE          NA              NA                   \n",
       "assertthat    GPL-3                       NA              NA                   \n",
       "backports     GPL-2 | GPL-3               NA              NA                   \n",
       "base64enc     GPL-2 | GPL-3               NA              NA                   \n",
       "bayestestR    GPL-3                       NA              NA                   \n",
       "bestglm       GPL (>= 2)                  NA              NA                   \n",
       "BiocManager   Artistic-2.0                NA              NA                   \n",
       "bit           GPL-2 | GPL-3               NA              NA                   \n",
       "bit64         GPL-2 | GPL-3               NA              NA                   \n",
       "bitops        GPL (>= 2)                  NA              NA                   \n",
       "blob          MIT + file LICENSE          NA              NA                   \n",
       "bookdown      GPL-3                       NA              NA                   \n",
       "brew          GPL-2                       NA              NA                   \n",
       "brio          MIT + file LICENSE          NA              NA                   \n",
       "broom         MIT + file LICENSE          NA              NA                   \n",
       "broom.helpers GPL-3                       NA              NA                   \n",
       "bslib         MIT + file LICENSE          NA              NA                   \n",
       "cachem        MIT + file LICENSE          NA              NA                   \n",
       "callr         MIT + file LICENSE          NA              NA                   \n",
       "caret         GPL (>= 2)                  NA              NA                   \n",
       "cellranger    MIT + file LICENSE          NA              NA                   \n",
       "classInt      GPL (>= 2)                  NA              NA                   \n",
       "cli           MIT + file LICENSE          NA              NA                   \n",
       "clipr         GPL-3                       NA              NA                   \n",
       "clisymbols    MIT + file LICENSE          NA              NA                   \n",
       "colorspace    BSD_3_clause + file LICENSE NA              NA                   \n",
       "commonmark    BSD_2_clause + file LICENSE NA              NA                   \n",
       "corrplot      MIT + file LICENSE          NA              NA                   \n",
       "covr          GPL-3                       NA              NA                   \n",
       "⋮             ⋮                           ⋮               ⋮                    \n",
       "zoo           GPL-2 | GPL-3               NA              NA                   \n",
       "base          Part of R 4.2.0             NA              NA                   \n",
       "boot          Unlimited                   NA              NA                   \n",
       "class         GPL-2 | GPL-3               NA              NA                   \n",
       "cluster       GPL (>= 2)                  NA              NA                   \n",
       "codetools     GPL                         NA              NA                   \n",
       "compiler      Part of R 4.2.0             NA              NA                   \n",
       "datasets      Part of R 4.2.0             NA              NA                   \n",
       "foreign       GPL (>= 2)                  NA              NA                   \n",
       "graphics      Part of R 4.2.0             NA              NA                   \n",
       "grDevices     Part of R 4.2.0             NA              NA                   \n",
       "grid          Part of R 4.2.0             NA              NA                   \n",
       "KernSmooth    Unlimited                   NA              NA                   \n",
       "lattice       GPL (>= 2)                  NA              NA                   \n",
       "MASS          GPL-2 | GPL-3               NA              NA                   \n",
       "Matrix        GPL (>= 2) | file LICENCE   NA              NA                   \n",
       "methods       Part of R 4.2.0             NA              NA                   \n",
       "mgcv          GPL (>= 2)                  NA              NA                   \n",
       "nlme          GPL (>= 2)                  NA              NA                   \n",
       "nnet          GPL-2 | GPL-3               NA              NA                   \n",
       "parallel      Part of R 4.2.0             NA              NA                   \n",
       "rpart         GPL-2 | GPL-3               NA              NA                   \n",
       "spatial       GPL-2 | GPL-3               NA              NA                   \n",
       "splines       Part of R 4.2.0             NA              NA                   \n",
       "stats         Part of R 4.2.0             NA              NA                   \n",
       "stats4        Part of R 4.2.0             NA              NA                   \n",
       "survival      LGPL (>= 2)                 NA              NA                   \n",
       "tcltk         Part of R 4.2.0             NA              NA                   \n",
       "tools         Part of R 4.2.0             NA              NA                   \n",
       "utils         Part of R 4.2.0             NA              NA                   \n",
       "              OS_type MD5sum NeedsCompilation Built\n",
       "arules        NA      NA     yes              4.2.0\n",
       "askpass       NA      NA     yes              4.2.0\n",
       "assertthat    NA      NA     no               4.2.0\n",
       "backports     NA      NA     yes              4.2.0\n",
       "base64enc     NA      NA     yes              4.2.0\n",
       "bayestestR    NA      NA     no               4.2.0\n",
       "bestglm       NA      NA     yes              4.2.0\n",
       "BiocManager   NA      NA     no               4.2.0\n",
       "bit           NA      NA     yes              4.2.0\n",
       "bit64         NA      NA     yes              4.2.0\n",
       "bitops        NA      NA     yes              4.2.0\n",
       "blob          NA      NA     no               4.2.0\n",
       "bookdown      NA      NA     no               4.2.0\n",
       "brew          NA      NA     no               4.2.0\n",
       "brio          NA      NA     yes              4.2.0\n",
       "broom         NA      NA     no               4.2.0\n",
       "broom.helpers NA      NA     no               4.2.0\n",
       "bslib         NA      NA     no               4.2.0\n",
       "cachem        NA      NA     yes              4.2.0\n",
       "callr         NA      NA     no               4.2.0\n",
       "caret         NA      NA     yes              4.2.0\n",
       "cellranger    NA      NA     no               4.2.0\n",
       "classInt      NA      NA     yes              4.2.0\n",
       "cli           NA      NA     yes              4.2.0\n",
       "clipr         NA      NA     no               4.2.0\n",
       "clisymbols    NA      NA     no               4.2.0\n",
       "colorspace    NA      NA     yes              4.2.0\n",
       "commonmark    NA      NA     yes              4.2.0\n",
       "corrplot      NA      NA     no               4.2.0\n",
       "covr          NA      NA     yes              4.2.0\n",
       "⋮             ⋮       ⋮      ⋮                ⋮    \n",
       "zoo           NA      NA     yes              4.2.0\n",
       "base          NA      NA     NA               4.2.0\n",
       "boot          NA      NA     no               4.2.0\n",
       "class         NA      NA     yes              4.2.0\n",
       "cluster       NA      NA     yes              4.2.0\n",
       "codetools     NA      NA     no               4.2.0\n",
       "compiler      NA      NA     NA               4.2.0\n",
       "datasets      NA      NA     NA               4.2.0\n",
       "foreign       NA      NA     yes              4.2.0\n",
       "graphics      NA      NA     yes              4.2.0\n",
       "grDevices     NA      NA     yes              4.2.0\n",
       "grid          NA      NA     yes              4.2.0\n",
       "KernSmooth    NA      NA     yes              4.2.0\n",
       "lattice       NA      NA     yes              4.2.0\n",
       "MASS          NA      NA     yes              4.2.0\n",
       "Matrix        NA      NA     yes              4.2.0\n",
       "methods       NA      NA     yes              4.2.0\n",
       "mgcv          NA      NA     yes              4.2.0\n",
       "nlme          NA      NA     yes              4.2.0\n",
       "nnet          NA      NA     yes              4.2.0\n",
       "parallel      NA      NA     yes              4.2.0\n",
       "rpart         NA      NA     yes              4.2.0\n",
       "spatial       NA      NA     yes              4.2.0\n",
       "splines       NA      NA     yes              4.2.0\n",
       "stats         NA      NA     yes              4.2.0\n",
       "stats4        NA      NA     NA               4.2.0\n",
       "survival      NA      NA     yes              4.2.0\n",
       "tcltk         NA      NA     yes              4.2.0\n",
       "tools         NA      NA     yes              4.2.0\n",
       "utils         NA      NA     yes              4.2.0"
      ]
     },
     "metadata": {},
     "output_type": "display_data"
    }
   ],
   "source": [
    "installed.packages()"
   ]
  },
  {
   "cell_type": "markdown",
   "metadata": {},
   "source": [
    "If you don't already have a package installed, you can install it using the `install.packages` command. Note that you have to have single or double quotes around the package name. You only have to install a package one time.\n",
    "\n",
    "`install.packages('tidyverse')`"
   ]
  },
  {
   "cell_type": "markdown",
   "metadata": {},
   "source": [
    "The function `read_csv` is another function to read in comma-delimited files that is part of the `readr` package in the tidyverse. However, if we tried to use this function to load in our data, we would get an error that the function cannot be found. That is because we haven't loaded in our package. To do so, we use the `library` function. "
   ]
  },
  {
   "cell_type": "code",
   "execution_count": 24,
   "metadata": {},
   "outputs": [
    {
     "ename": "ERROR",
     "evalue": "Error in library(tidyverse): there is no package called ‘tidyverse’\n",
     "output_type": "error",
     "traceback": [
      "Error in library(tidyverse): there is no package called ‘tidyverse’\nTraceback:\n",
      "1. library(tidyverse)"
     ]
    }
   ],
   "source": [
    "library(tidyverse)"
   ]
  },
  {
   "cell_type": "code",
   "execution_count": 19,
   "metadata": {},
   "outputs": [
    {
     "ename": "ERROR",
     "evalue": "Error in read_csv(\"fake_names.csv\"): could not find function \"read_csv\"\n",
     "output_type": "error",
     "traceback": [
      "Error in read_csv(\"fake_names.csv\"): could not find function \"read_csv\"\nTraceback:\n"
     ]
    }
   ],
   "source": [
    "df <- read_csv(\"fake_names.csv\")\n",
    "df"
   ]
  },
  {
   "cell_type": "markdown",
   "metadata": {},
   "source": [
    "Alternatively, we could have told R where to locate the function by adding `readr::` before the function. This tells it to find `read_csv` function in the readr package. This can be helpful even if we have loaded in the package since sometimes multiple packages have functions with the same name. "
   ]
  },
  {
   "cell_type": "code",
   "execution_count": null,
   "metadata": {},
   "outputs": [],
   "source": [
    "df <- readr::read_csv(\"\")\n",
    "df"
   ]
  },
  {
   "cell_type": "markdown",
   "metadata": {},
   "source": [
    "### RStudio Global Options\n",
    "\n",
    "You have now had a basic tour of RStudio. Before we transition to introduce Jupyter Notebooks, take a look at your Global Options (under Tools). We highly recommend that you update your RStudio options to not save your workspace on exiting or load it on starting. This will ensure you create fully reproducible code and avoid possible errors or confusion. \n",
    "\n",
    "TODO: IMAGE"
   ]
  },
  {
   "cell_type": "markdown",
   "metadata": {},
   "source": [
    "## Jupyter Notebooks\n",
    "\n",
    "Jupyter notebooks are an alternative way to to edit and share code. Each chapter of this book was created using a Jupyter notebook and the notebook is the best way to interact with the content. Similar to R Markdown, a Jupyter notebook allows us to intersperse code and text. However, this is done using individual cells that are either markdown (text) or code. These can each run without having to compile the full notebook. Jupyter notebooks can also be created using julia, python, or R (hence the name ju-pyt-er)."
   ]
  },
  {
   "cell_type": "markdown",
   "metadata": {},
   "source": [
    "### Video Tour of Jupyter Notebooks and Binder\n",
    "\n",
    "At the top of this chapter is a button to open this Notebook using Binder. Binder creates an online computational environment to host your notebooks that already has all the R packages you'll need for this book installed. This is the easiest way to interact with the content in this book. Click that link to open this chapter and then view the video below to see how to use this feature when reading this book. \n",
    "\n",
    "TODO: button image"
   ]
  },
  {
   "cell_type": "markdown",
   "metadata": {},
   "source": [
    "## Tips and Reminders\n",
    "\n",
    "We end this chapter with some final tips and reminders. \n",
    "\n",
    "* **Keyboard Shortcuts**: Both RStudio and Jupyter notebooks have useful keyboard shortcuts that will make your programming experience more streamlined. It is worth getting familiar with some of the most common keyboard shortcuts. \n",
    "\n",
    "* **Asking for help**: Within R, you can use the `?` operator or `help()` function to pull up documentation on a given function. This is also available [online](https://rdocumentation.org/).\n",
    "\n",
    "* **Finding all objects**: You can use the Environment panel or `ls()` function to find all current objects. If you have an error that an object you are calling does not exist, look to find where you defined it. \n",
    "\n",
    "* **Checking packages**: If you get an error that a function does not exist, check to make sure you have loaded that package using the `library` function. The list of all packages needed for this book is available here. \n",
    "\n",
    "\n",
    "TODO: create cheatsheets for shortcuts.\n",
    "\n",
    "TODO: creat and link to package list"
   ]
  }
 ],
 "metadata": {
  "kernelspec": {
   "display_name": "R",
   "language": "R",
   "name": "ir"
  },
  "language_info": {
   "codemirror_mode": "r",
   "file_extension": ".r",
   "mimetype": "text/x-r-source",
   "name": "R",
   "pygments_lexer": "r",
   "version": "4.2.0"
  }
 },
 "nbformat": 4,
 "nbformat_minor": 4
}
