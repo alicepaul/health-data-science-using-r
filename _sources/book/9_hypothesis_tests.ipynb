{
 "cells": [
  {
   "cell_type": "markdown",
   "id": "decec34a",
   "metadata": {},
   "source": [
    "# 9. Hypothesis Testing"
   ]
  },
  {
   "cell_type": "markdown",
   "id": "e215aae8",
   "metadata": {},
   "source": [
    "## Univariate Distributions and One Sample Tests\n",
    "\n",
    "fit distribution (fitdistplus?)\n",
    "\n",
    "calculate confidence interval for the mean\n",
    "\n",
    "t.test to compare to value\n",
    "\n",
    "wilcox test as a non-parametric alternative"
   ]
  },
  {
   "cell_type": "markdown",
   "id": "034b6a34",
   "metadata": {},
   "source": [
    "## Two Sample Tests\n",
    "\n",
    "create table one with p-values\n",
    "\n",
    "how are p-values calculated\n",
    "\n",
    "### Correlation and Covariance\n",
    "\n",
    "correlation and covariance\n",
    "\n",
    "correlation p value\n",
    "\n",
    "### Two Sample Tests for Means\n",
    "\n",
    "fisher test (all sample size) and chi squared test (large sample size)\n",
    "\n",
    "two sample t-test, one way anova\n",
    "\n",
    "wilcox rank test \n",
    "\n",
    "### Two Sample Tests for Variance\n",
    "\n",
    "levene test (> 2 grps) or F-test (2 grps)"
   ]
  },
  {
   "cell_type": "code",
   "execution_count": null,
   "id": "c99a61e5",
   "metadata": {},
   "outputs": [],
   "source": []
  }
 ],
 "metadata": {
  "kernelspec": {
   "display_name": "R",
   "language": "R",
   "name": "ir"
  },
  "language_info": {
   "codemirror_mode": "r",
   "file_extension": ".r",
   "mimetype": "text/x-r-source",
   "name": "R",
   "pygments_lexer": "r",
   "version": "4.3.1"
  }
 },
 "nbformat": 4,
 "nbformat_minor": 5
}
