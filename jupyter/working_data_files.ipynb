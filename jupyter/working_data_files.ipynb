{
  "cells": [
    {
      "cell_type": "markdown",
      "metadata": {},
      "source": [
        "# \n",
        "\n",
        "# Working with Data Files in R\n",
        "\n",
        "In this chapter, we work with data in R. To start, we need to load our\n",
        "data into R; this requires identifying the type of data file we have\n",
        "(e.g., .csv, .xlsx, .dta, .txt) and finding the appropriate function to\n",
        "load in the data. This creates a data frame object containing the\n",
        "information from the file. After demonstrating how to load in such data,\n",
        "this chapter shows you how to find information about data columns,\n",
        "including finding missing values, summarizing columns, and subsetting\n",
        "the data. Additionally, we look at how to create new columns through\n",
        "some simple transformations.\n",
        "\n",
        "In this chapter and all future chapters, we load in the required\n",
        "libraries at the start of the chapter; for example, in this particular\n",
        "chapter, we need a single package **HDSinRdata** that contains the\n",
        "sample datasets used in this book."
      ],
      "id": "2030eaaf-6a3e-4fc9-a7a8-0a6a48a25803"
    },
    {
      "cell_type": "code",
      "execution_count": null,
      "metadata": {},
      "outputs": [],
      "source": [
        "library(HDSinRdata)"
      ],
      "id": "574ef0bd-165d-46ba-8695-e9b0d3d657b1"
    },
    {
      "cell_type": "markdown",
      "metadata": {},
      "source": [
        "## Importing and Exporting Data  \n",
        "\n",
        "The data we use in this chapter contains information about patients who\n",
        "visited one of the University of Pittsburgh’s seven pain management\n",
        "clinics. This includes patient-reported pain assessments using the\n",
        "Collaborative Health Outcomes Information Registry (CHOIR) at baseline\n",
        "and at a 3-month follow-up \\[@alter2021hierarchical\\]. You can use the\n",
        "help operator `?pain` to learn more about the source of this data and to\n",
        "read its column descriptions. Since this data is available in our R\n",
        "package, we can use the `data()` function to load this data into our\n",
        "environment. Note that this data has 21,659 rows and 92 columns."
      ],
      "id": "8a11836f-5ba9-4416-b270-18b5fca08d2d"
    },
    {
      "cell_type": "code",
      "execution_count": null,
      "metadata": {},
      "outputs": [
        {
          "output_type": "stream",
          "name": "stdout",
          "text": [
            "[1] 21659    92"
          ]
        }
      ],
      "source": [
        "data(pain)\n",
        "dim(pain)"
      ],
      "id": "f7e7dffa-d833-49d5-b776-e3fd40b02ae1"
    },
    {
      "cell_type": "markdown",
      "metadata": {},
      "source": [
        "In general, the data you will be using is not available in R packages\n",
        "and will instead exist in one or more data files on your personal\n",
        "computer. In order to load in this data to R, you need to use the\n",
        "function that corresponds to the file type you have. For example, you\n",
        "can load a .csv file using the `read.csv()` function in base R or using\n",
        "the `read_csv()` function from the **readr** package, both of which were\n",
        "shown in **?@sec-intro-to-r**. As an example, we load the\n",
        "`fake_names.csv` dataset using both of these functions. Looking at the\n",
        "print output, we can see that there is a slight difference in the data\n",
        "structure and data types storing the data between these two functions.\n",
        "The function `read.csv()` loads the data as a data frame, whereas the\n",
        "function `read_csv()` loads the data as a `spec_tbl_df`, a special type\n",
        "of data frame called a **tibble** that is used by the **tidyverse**\n",
        "packages. We cover this data structure in more detail in\n",
        "**?@sec-transformations-summaries**. For now, note that you can use\n",
        "either function to read in a .csv file."
      ],
      "id": "ec71b489-c7d1-46a4-85d1-405068c95211"
    },
    {
      "cell_type": "code",
      "execution_count": null,
      "metadata": {},
      "outputs": [
        {
          "output_type": "stream",
          "name": "stdout",
          "text": [
            "                 Name Age     DOB            City State\n",
            "1           Ken Irwin  37 6/28/85      Providence    RI\n",
            "2 Delores Whittington  56 4/28/67      Smithfield    RI\n",
            "3       Daniel Hughes  41 5/22/82      Providence    RI\n",
            "4         Carlos Fain  83  2/2/40          Warren    RI\n",
            "5        James Alford  67 2/23/56 East Providence    RI\n",
            "6        Ruth Alvarez  34 9/22/88      Providence    RI"
          ]
        }
      ],
      "source": [
        "read.csv(\"data/fake_names.csv\")"
      ],
      "id": "1158ceaf-5161-4313-bd28-b272c47cfbbb"
    },
    {
      "cell_type": "code",
      "execution_count": null,
      "metadata": {},
      "outputs": [
        {
          "output_type": "stream",
          "name": "stdout",
          "text": [
            "# A tibble: 6 × 5\n",
            "  Name                  Age DOB     City            State\n",
            "  <chr>               <dbl> <chr>   <chr>           <chr>\n",
            "1 Ken Irwin              37 6/28/85 Providence      RI   \n",
            "2 Delores Whittington    56 4/28/67 Smithfield      RI   \n",
            "3 Daniel Hughes          41 5/22/82 Providence      RI   \n",
            "4 Carlos Fain            83 2/2/40  Warren          RI   \n",
            "5 James Alford           67 2/23/56 East Providence RI   \n",
            "6 Ruth Alvarez           34 9/22/88 Providence      RI   "
          ]
        }
      ],
      "source": [
        "readr::read_csv(\"data/fake_names.csv\", show_col_types=FALSE)"
      ],
      "id": "9066a80a-1962-4c6b-8d29-0e18d7ea887f"
    },
    {
      "cell_type": "markdown",
      "metadata": {},
      "source": [
        "In addition to loading data into R, you may also want to save data from\n",
        "R into a data file you can access later or share with others. To write a\n",
        "data frame from R to a .csv file, you can use the `write.csv()`\n",
        "function. This function has three key arguments: the first argument is\n",
        "the data frame in R that you want to write to a file, the second\n",
        "argument is the file name or the full file path where you want to write\n",
        "the data, and the third argument is whether or not you want to include\n",
        "the row names as an extra column. In this case, we do not include row\n",
        "names. If you do not specify a file path, R saves the file in our\n",
        "current working directory."
      ],
      "id": "994dc814-4287-4631-bc74-dd9572b71f9a"
    },
    {
      "cell_type": "code",
      "execution_count": null,
      "metadata": {},
      "outputs": [],
      "source": [
        "df <- data.frame(x = c( 1, 0, 1), y = c(\"A\", \"B\", \"C\"))\n",
        "write.csv(df, \"data/test.csv\", row.names=FALSE)"
      ],
      "id": "90091e43-5340-491e-a03f-09f3ecff3b94"
    },
    {
      "cell_type": "markdown",
      "metadata": {},
      "source": [
        "If your data is not in a .csv file, you may need to use another package\n",
        "to read in the file. The two most common packages are the **readxl**\n",
        "package \\[@R-readxl\\], which makes it easy to read in Excel files, and\n",
        "the **haven** package \\[@R-haven\\], which can import SAS, SPSS, and\n",
        "Stata files. For each function, you need to specify the file path to the\n",
        "data file.\n",
        "\n",
        "-   **Tab-Delimited Files**: You can read in a tab-separated .txt file\n",
        "    using the `read.delim()` function in base R.\n",
        "\n",
        "-   **Excel Files**: You can read in a .xls or .xlsx file using\n",
        "    `readxl::read_excel()`, which allows you to specify a sheet and/or\n",
        "    cell range within a file (e.g.,\n",
        "    `read_excel('test.xlsx', sheet=\"Sheet1\")`).\n",
        "\n",
        "-   **SAS**: `haven::read_sas()` reads in .sas7bdat or .sas7bcat files,\n",
        "    `haven::read_xpt()` reads in SAS transport files.\n",
        "\n",
        "-   **Stata**: `haven::read_dta()` reads in .dta files.\n",
        "\n",
        "-   **SPSS**: `haven::read_spss()` reads in .spss files.\n",
        "\n",
        "## Summarizing and Creating Data Columns\n",
        "\n",
        "We now look at the data we have loaded into the data frame called\n",
        "`pain`. We use the `head()` function to print the first six rows.\n",
        "However, note that we have so many columns that not all of the columns\n",
        "are displayed! For those that are displayed, we can see the data type\n",
        "for each column under the column name. For example, we can see that the\n",
        "column `PATIENT_NUM` is a numeric column of type `dbl`. Because patients\n",
        "identification numbers are technically nominal in nature, we might\n",
        "consider whether we should make convert this column to a factor or a\n",
        "character representation later on. We can use the `names()` function to\n",
        "print all the column names. Note that columns `X101` to `X238`\n",
        "correspond to numbers on a body pain map (see the data documentation for\n",
        "the image of this map). Each of these columns has a 1 if the patient\n",
        "indicated that they have pain in that corresponding body part and a 0\n",
        "otherwise."
      ],
      "id": "7fc63f5b-0f9e-4607-afc3-5dce7d9ffe86"
    },
    {
      "cell_type": "code",
      "execution_count": null,
      "metadata": {},
      "outputs": [
        {
          "output_type": "stream",
          "name": "stdout",
          "text": [
            "# A tibble: 6 × 92\n",
            "  PATIENT_NUM  X101  X102  X103  X104  X105  X106  X107  X108  X109  X110  X111\n",
            "        <dbl> <dbl> <dbl> <dbl> <dbl> <dbl> <dbl> <dbl> <dbl> <dbl> <dbl> <dbl>\n",
            "1       13118     0     0     0     0     0     0     0     0     0     0     0\n",
            "2       21384     0     0     0     0     0     0     0     0     0     0     0\n",
            "3        6240     0     0     0     0     0     0     0     0     0     0     0\n",
            "4        1827     0     0     0     0     0     0     0     0     0     0     0\n",
            "5       11309     0     0     0     0     0     0     0     0     0     0     0\n",
            "6       11093     0     0     0     0     0     0     0     0     0     1     0\n",
            "# ℹ 80 more variables: X112 <dbl>, X113 <dbl>, X114 <dbl>, X115 <dbl>,\n",
            "#   X116 <dbl>, X117 <dbl>, X118 <dbl>, X119 <dbl>, X120 <dbl>, X121 <dbl>,\n",
            "#   X122 <dbl>, X123 <dbl>, X124 <dbl>, X125 <dbl>, X126 <dbl>, X127 <dbl>,\n",
            "#   X128 <dbl>, X129 <dbl>, X130 <dbl>, X131 <dbl>, X132 <dbl>, X133 <dbl>,\n",
            "#   X134 <dbl>, X135 <dbl>, X136 <dbl>, X201 <dbl>, X202 <dbl>, X203 <dbl>,\n",
            "#   X204 <dbl>, X205 <dbl>, X206 <dbl>, X207 <dbl>, X208 <dbl>, X209 <dbl>,\n",
            "#   X210 <dbl>, X211 <dbl>, X212 <dbl>, X213 <dbl>, X214 <dbl>, X215 <dbl>, …"
          ]
        },
        {
          "output_type": "stream",
          "name": "stdout",
          "text": [
            " [1] \"PATIENT_NUM\"                      \"X101\"                            \n",
            " [3] \"X102\"                             \"X103\"                            \n",
            " [5] \"X104\"                             \"X105\"                            \n",
            " [7] \"X106\"                             \"X107\"                            \n",
            " [9] \"X108\"                             \"X109\"                            \n",
            "[11] \"X110\"                             \"X111\"                            \n",
            "[13] \"X112\"                             \"X113\"                            \n",
            "[15] \"X114\"                             \"X115\"                            \n",
            "[17] \"X116\"                             \"X117\"                            \n",
            "[19] \"X118\"                             \"X119\"                            \n",
            "[21] \"X120\"                             \"X121\"                            \n",
            "[23] \"X122\"                             \"X123\"                            \n",
            "[25] \"X124\"                             \"X125\"                            \n",
            "[27] \"X126\"                             \"X127\"                            \n",
            "[29] \"X128\"                             \"X129\"                            \n",
            "[31] \"X130\"                             \"X131\"                            \n",
            "[33] \"X132\"                             \"X133\"                            \n",
            "[35] \"X134\"                             \"X135\"                            \n",
            "[37] \"X136\"                             \"X201\"                            \n",
            "[39] \"X202\"                             \"X203\"                            \n",
            "[41] \"X204\"                             \"X205\"                            \n",
            "[43] \"X206\"                             \"X207\"                            \n",
            "[45] \"X208\"                             \"X209\"                            \n",
            "[47] \"X210\"                             \"X211\"                            \n",
            "[49] \"X212\"                             \"X213\"                            \n",
            "[51] \"X214\"                             \"X215\"                            \n",
            "[53] \"X216\"                             \"X217\"                            \n",
            "[55] \"X218\"                             \"X219\"                            \n",
            "[57] \"X220\"                             \"X221\"                            \n",
            "[59] \"X222\"                             \"X223\"                            \n",
            "[61] \"X224\"                             \"X225\"                            \n",
            "[63] \"X226\"                             \"X227\"                            \n",
            "[65] \"X228\"                             \"X229\"                            \n",
            "[67] \"X230\"                             \"X231\"                            \n",
            "[69] \"X232\"                             \"X233\"                            \n",
            "[71] \"X234\"                             \"X235\"                            \n",
            "[73] \"X236\"                             \"X237\"                            \n",
            "[75] \"X238\"                             \"PAIN_INTENSITY_AVERAGE\"          \n",
            "[77] \"PROMIS_PHYSICAL_FUNCTION\"         \"PROMIS_PAIN_BEHAVIOR\"            \n",
            "[79] \"PROMIS_DEPRESSION\"                \"PROMIS_ANXIETY\"                  \n",
            "[81] \"PROMIS_SLEEP_DISTURB_V1_0\"        \"PROMIS_PAIN_INTERFERENCE\"        \n",
            "[83] \"GH_MENTAL_SCORE\"                  \"GH_PHYSICAL_SCORE\"               \n",
            "[85] \"AGE_AT_CONTACT\"                   \"BMI\"                             \n",
            "[87] \"CCI_TOTAL_SCORE\"                  \"PAIN_INTENSITY_AVERAGE.FOLLOW_UP\"\n",
            "[89] \"PAT_SEX\"                          \"PAT_RACE\"                        \n",
            "[91] \"CCI_BIN\"                          \"MEDICAID_BIN\"                    "
          ]
        }
      ],
      "source": [
        "head(pain)"
      ],
      "id": "3da98103-c460-49ac-baf8-1b8b85527ec2"
    },
    {
      "cell_type": "markdown",
      "metadata": {},
      "source": [
        "Recall that the `$` operator can be used to access a single column.\n",
        "Alternatively, we can use double brackets `[[]]` to select a column. We\n",
        "demonstrate both ways to print the first five values in the column with\n",
        "the patient’s average pain intensity."
      ],
      "id": "6170a12a-a3dd-430f-895c-05a83610efb6"
    },
    {
      "cell_type": "code",
      "execution_count": null,
      "metadata": {},
      "outputs": [
        {
          "output_type": "stream",
          "name": "stdout",
          "text": [
            "[1] 7 5 4 7 8"
          ]
        },
        {
          "output_type": "stream",
          "name": "stdout",
          "text": [
            "[1] 7 5 4 7 8"
          ]
        }
      ],
      "source": [
        "pain$PAIN_INTENSITY_AVERAGE[1:5]"
      ],
      "id": "7bcb999d-df06-4ae4-a27f-7b927f8fbcd3"
    },
    {
      "cell_type": "markdown",
      "metadata": {},
      "source": [
        "### Column Summaries \n",
        "\n",
        "To explore the range and distribution of a column’s values, we can use\n",
        "some of the base R functions. For example, the `summary()` function is a\n",
        "useful way to summarize a numeric column’s values. We can see that the\n",
        "pain intensity values range from 0 to 10 with a median value of 7 and\n",
        "that there is a NA value."
      ],
      "id": "dc1169bc-535d-475b-9eda-03323c39164b"
    },
    {
      "cell_type": "code",
      "execution_count": null,
      "metadata": {},
      "outputs": [
        {
          "output_type": "stream",
          "name": "stdout",
          "text": [
            "   Min. 1st Qu.  Median    Mean 3rd Qu.    Max.    NA's \n",
            "  0.000   5.000   7.000   6.485   8.000  10.000       1 "
          ]
        }
      ],
      "source": [
        "summary(pain$PAIN_INTENSITY_AVERAGE)"
      ],
      "id": "ceaef193-42c7-4a9b-a861-8960b676e158"
    },
    {
      "cell_type": "markdown",
      "metadata": {},
      "source": [
        "We have already seen the `max()`, `min()`, `mean()`, and `median()`\n",
        "functions that could have computed some of these values for us\n",
        "separately. Since we do have an NA value, we add the `na.rm=TRUE`\n",
        "argument to these functions. Without this argument, the returned value\n",
        "for all of the functions is NA."
      ],
      "id": "baadef7c-6887-4bc6-9fb8-9f44d1a6f0f0"
    },
    {
      "cell_type": "code",
      "execution_count": null,
      "metadata": {},
      "outputs": [
        {
          "output_type": "stream",
          "name": "stdout",
          "text": [
            "[1] 0"
          ]
        },
        {
          "output_type": "stream",
          "name": "stdout",
          "text": [
            "[1] 10"
          ]
        },
        {
          "output_type": "stream",
          "name": "stdout",
          "text": [
            "[1] 6.485271"
          ]
        },
        {
          "output_type": "stream",
          "name": "stdout",
          "text": [
            "[1] 7"
          ]
        }
      ],
      "source": [
        "min(pain$PAIN_INTENSITY_AVERAGE, na.rm=TRUE)"
      ],
      "id": "a885d6a7-f91c-4071-a8ae-e3b32e580660"
    },
    {
      "cell_type": "markdown",
      "metadata": {},
      "source": [
        "Additionally, the following functions are helpful for summarizing\n",
        "quantitative columns.\n",
        "\n",
        "-   `range()` - returns the minimum and maximum values for a numeric\n",
        "    vector x.\n",
        "-   `quantile()` - returns the sample quantiles for a numeric vector.\n",
        "-   `IQR()` - returns the interquartile range for a numeric vector.\n",
        "\n",
        "By default, the `quantile()` function returns the sample quantiles."
      ],
      "id": "215c9dc7-7f2a-48b6-af81-46ffc47113af"
    },
    {
      "cell_type": "code",
      "execution_count": null,
      "metadata": {},
      "outputs": [
        {
          "output_type": "stream",
          "name": "stdout",
          "text": [
            "  0%  25%  50%  75% 100% \n",
            "   0    5    7    8   10 "
          ]
        }
      ],
      "source": [
        "quantile(pain$PAIN_INTENSITY_AVERAGE, na.rm = TRUE)"
      ],
      "id": "84583e93-f585-4cfe-bcf3-d4460bb81b7f"
    },
    {
      "cell_type": "markdown",
      "metadata": {},
      "source": [
        "However, we can pass in a list of probabilities to use instead. For\n",
        "example, in the following code we find the 0.1 and 0.9 quantiles. Again,\n",
        "we add the `na.rm=TRUE` argument."
      ],
      "id": "780f893c-924a-4501-90eb-0f244763b07b"
    },
    {
      "cell_type": "code",
      "execution_count": null,
      "metadata": {},
      "outputs": [
        {
          "output_type": "stream",
          "name": "stdout",
          "text": [
            "10% 90% \n",
            "  4   9 "
          ]
        }
      ],
      "source": [
        "quantile(pain$PAIN_INTENSITY_AVERAGE, probs = c(0.1, 0.9), na.rm=TRUE)"
      ],
      "id": "275ded94-3142-47f2-b495-ed96b23c7f07"
    },
    {
      "cell_type": "markdown",
      "metadata": {},
      "source": [
        "We can also plot a histogram of the sample distribution using the\n",
        "`hist()` function. We look more in depth at how to change aspects of\n",
        "this histogram in **?@sec-exploratory**."
      ],
      "id": "a9ee4a44-4465-4191-a83b-2e9836e5f200"
    },
    {
      "cell_type": "code",
      "execution_count": null,
      "metadata": {},
      "outputs": [
        {
          "output_type": "display_data",
          "metadata": {},
          "data": {
            "image/png": "[encoded data removed]"
          }
        }
      ],
      "source": [
        "hist(pain$PAIN_INTENSITY_AVERAGE)"
      ],
      "id": "f9025d12-9cda-468e-b54a-ce5d0feb0e32"
    },
    {
      "cell_type": "markdown",
      "metadata": {},
      "source": [
        "### Practice Question\n",
        "\n",
        "Summarize the `PROMIS_SLEEP_DISTURB_V1_0` column both numerically and\n",
        "visually. Your results should look like the results in\n",
        "<a href=\"#fig-sleep-disturb-hist\" class=\"quarto-xref\">Figure 1</a>.\n",
        "\n",
        "<figure id=\"fig-sleep-disturb-hist\">\n",
        "<img\n",
        "src=\"attachment:images/working_data_files/sleep-disturb-hist.png\" />\n",
        "<figcaption>Figure 1: Summarizing a Column.</figcaption>\n",
        "</figure>"
      ],
      "attachments": {
        "images/working_data_files/sleep-disturb-hist.png": {
          "image/png": "[encoded data removed]"
        }
      },
      "id": "464e0f5d-5835-49dd-a1bb-0c05c5f62a39"
    },
    {
      "cell_type": "code",
      "execution_count": null,
      "metadata": {},
      "outputs": [],
      "source": [
        "# Insert your solution here:"
      ],
      "id": "4facc68b-8de6-41a1-bf3b-f3f290f94fb7"
    },
    {
      "cell_type": "markdown",
      "metadata": {},
      "source": [
        "We can also use the `summary()` function for categorical variables. In\n",
        "this case, R finds the counts for each level."
      ],
      "id": "4d393cf3-3e73-4dd5-8131-1af5d1304ba7"
    },
    {
      "cell_type": "code",
      "execution_count": null,
      "metadata": {},
      "outputs": [
        {
          "output_type": "stream",
          "name": "stdout",
          "text": [
            "   Length     Class      Mode \n",
            "    21659 character character "
          ]
        }
      ],
      "source": [
        "summary(pain$PAT_SEX)"
      ],
      "id": "f5bbbf43-7cd0-4a9c-928a-129f446e0a1d"
    },
    {
      "cell_type": "markdown",
      "metadata": {},
      "source": [
        "For categorical columns, it is also useful to use the `table()`\n",
        "function, which returns the counts for each possible value, instead of\n",
        "the `summary()` function. By default, `table()` ignores NA values.\n",
        "However, we can set `useNA=\"always\"` if we also want to display the\n",
        "number of NA values in the table output. Additionally, we can use the\n",
        "`prop.table()` function to convert the counts to proportions. Using\n",
        "these functions, we can see that the column `PAT_SEX` column, which\n",
        "corresponds to the reported patient sex, has a single missing value, and\n",
        "we can also see that around 60% of patients are female."
      ],
      "id": "80cb2da8-8a1a-403e-a900-1f8c95c1a13f"
    },
    {
      "cell_type": "code",
      "execution_count": null,
      "metadata": {},
      "outputs": [
        {
          "output_type": "stream",
          "name": "stdout",
          "text": [
            "\n",
            "female   male   <NA> \n",
            " 13102   8556      1 "
          ]
        }
      ],
      "source": [
        "table(pain$PAT_SEX, useNA=\"always\")"
      ],
      "id": "44607fab-7904-4ce7-b0a6-7b679c428801"
    },
    {
      "cell_type": "code",
      "execution_count": null,
      "metadata": {},
      "outputs": [
        {
          "output_type": "stream",
          "name": "stdout",
          "text": [
            "\n",
            "   female      male \n",
            "0.6049497 0.3950503 "
          ]
        }
      ],
      "source": [
        "prop.table(table(pain$PAT_SEX))"
      ],
      "id": "f7f22f65-7d4e-4ce4-9f38-4ec9dfc4eba9"
    },
    {
      "cell_type": "markdown",
      "metadata": {},
      "source": [
        "Note that this column is not actually a factor column yet, which we can\n",
        "check using the `is.factor()` function. We can convert it to one using\n",
        "`as.factor()`."
      ],
      "id": "3635f605-27b5-49ae-97c2-0461dd057f63"
    },
    {
      "cell_type": "code",
      "execution_count": null,
      "metadata": {},
      "outputs": [
        {
          "output_type": "stream",
          "name": "stdout",
          "text": [
            "[1] FALSE"
          ]
        }
      ],
      "source": [
        "is.factor(pain$PAT_SEX)"
      ],
      "id": "1dbdcf07-bf4c-4f65-a266-c720e2c3580d"
    },
    {
      "cell_type": "code",
      "execution_count": null,
      "metadata": {},
      "outputs": [
        {
          "output_type": "stream",
          "name": "stdout",
          "text": [
            "[1] TRUE"
          ]
        }
      ],
      "source": [
        "pain$PAT_SEX <- as.factor(pain$PAT_SEX)\n",
        "is.factor(pain$PAT_SEX)"
      ],
      "id": "f9be1310-d431-4f2e-98f5-2b88eeac3301"
    },
    {
      "cell_type": "markdown",
      "metadata": {},
      "source": [
        "### Other Summary Functions\n",
        "\n",
        "Sometimes we want to summarize information across multiple columns or\n",
        "rows. We can use the `rowSums()` and `colSums()` functions to sum over\n",
        "the rows or columns of a matrix or data frame. We first subset the data\n",
        "to the body pain map regions. In the first line of code, I select the\n",
        "column names pertaining to these columns. This allows me to select those\n",
        "columns in the second line of code and store this subset of the data as\n",
        "a new data frame called `pain_body_map`."
      ],
      "id": "2b1d88a0-dda9-4412-bb17-52e28bb4f32d"
    },
    {
      "cell_type": "code",
      "execution_count": null,
      "metadata": {},
      "outputs": [
        {
          "output_type": "stream",
          "name": "stdout",
          "text": [
            "# A tibble: 6 × 74\n",
            "   X101  X102  X103  X104  X105  X106  X107  X108  X109  X110  X111  X112  X113\n",
            "  <dbl> <dbl> <dbl> <dbl> <dbl> <dbl> <dbl> <dbl> <dbl> <dbl> <dbl> <dbl> <dbl>\n",
            "1     0     0     0     0     0     0     0     0     0     0     0     0     0\n",
            "2     0     0     0     0     0     0     0     0     0     0     0     0     0\n",
            "3     0     0     0     0     0     0     0     0     0     0     0     0     0\n",
            "4     0     0     0     0     0     0     0     0     0     0     0     0     0\n",
            "5     0     0     0     0     0     0     0     0     0     0     0     0     0\n",
            "6     0     0     0     0     0     0     0     0     0     1     0     1     0\n",
            "# ℹ 61 more variables: X114 <dbl>, X115 <dbl>, X116 <dbl>, X117 <dbl>,\n",
            "#   X118 <dbl>, X119 <dbl>, X120 <dbl>, X121 <dbl>, X122 <dbl>, X123 <dbl>,\n",
            "#   X124 <dbl>, X125 <dbl>, X126 <dbl>, X127 <dbl>, X128 <dbl>, X129 <dbl>,\n",
            "#   X130 <dbl>, X131 <dbl>, X132 <dbl>, X133 <dbl>, X134 <dbl>, X135 <dbl>,\n",
            "#   X136 <dbl>, X201 <dbl>, X202 <dbl>, X203 <dbl>, X204 <dbl>, X205 <dbl>,\n",
            "#   X206 <dbl>, X207 <dbl>, X208 <dbl>, X209 <dbl>, X210 <dbl>, X211 <dbl>,\n",
            "#   X212 <dbl>, X213 <dbl>, X214 <dbl>, X215 <dbl>, X216 <dbl>, X217 <dbl>, …"
          ]
        }
      ],
      "source": [
        "body_map_cols <- names(pain)[2:75]\n",
        "pain_body_map <- pain[, body_map_cols]\n",
        "head(pain_body_map)"
      ],
      "id": "9f52a313-07a7-4558-b566-8d6d1bc41c61"
    },
    {
      "cell_type": "markdown",
      "metadata": {},
      "source": [
        "I now compute the row sums and column sums on this subset of data. The\n",
        "row sum for each patient is the total number of body parts in which they\n",
        "experience pain, whereas the column sum for each pain region is the\n",
        "total number of patients who experience pain in that area. The following\n",
        "histogram shows that most people select a low number of total regions."
      ],
      "id": "9f9eeb27-5d01-43bd-9467-10409ee0c420"
    },
    {
      "cell_type": "code",
      "execution_count": null,
      "metadata": {},
      "outputs": [
        {
          "output_type": "display_data",
          "metadata": {},
          "data": {
            "image/png": "[encoded data removed]"
          }
        }
      ],
      "source": [
        "hist(rowSums(pain_body_map))"
      ],
      "id": "43ca84e7-0169-4914-9d6e-bfdde3b9c265"
    },
    {
      "cell_type": "markdown",
      "metadata": {},
      "source": [
        "We can also see that some body parts are more often selected than\n",
        "others. We create a vector called `perc_patients` by finding the number\n",
        "of patients who selected each region divided by the total number of\n",
        "patients. The histogram shows that some body regions are selected by\n",
        "over 50% of patients!"
      ],
      "id": "661838eb-db43-42e2-a685-8489f8306ae0"
    },
    {
      "cell_type": "code",
      "execution_count": null,
      "metadata": {},
      "outputs": [
        {
          "output_type": "display_data",
          "metadata": {},
          "data": {
            "image/png": "[encoded data removed]"
          }
        }
      ],
      "source": [
        "perc_patients <- colSums(pain_body_map, na.rm=TRUE) /\n",
        "  nrow(pain_body_map)\n",
        "hist(perc_patients)"
      ],
      "id": "700f715a-02bc-4bd7-a0b2-3e7bf2859b49"
    },
    {
      "cell_type": "markdown",
      "metadata": {},
      "source": [
        "We use the `which.max()` function to see that the 55th region `X219` is\n",
        "selected the most number of times. This corresponds to lower back pain."
      ],
      "id": "5196392f-8287-4a0a-a400-9976535ac6fd"
    },
    {
      "cell_type": "code",
      "execution_count": null,
      "metadata": {},
      "outputs": [
        {
          "output_type": "stream",
          "name": "stdout",
          "text": [
            "X219 \n",
            "  55 "
          ]
        }
      ],
      "source": [
        "which.max(perc_patients)"
      ],
      "id": "c92d268c-f169-4be9-9a35-fb7e6727fe19"
    },
    {
      "cell_type": "markdown",
      "metadata": {},
      "source": [
        "Another pair of useful functions are `pmin()` and `pmax()`. These\n",
        "functions take at least two vectors and find the pairwise minimum or\n",
        "maximum across those vectors, as shown in the subsequent code."
      ],
      "id": "a2dc2944-85f4-4079-9870-8d1b8e16a0cf"
    },
    {
      "cell_type": "code",
      "execution_count": null,
      "metadata": {},
      "outputs": [
        {
          "output_type": "stream",
          "name": "stdout",
          "text": [
            "[1]  5 18 12"
          ]
        }
      ],
      "source": [
        "v1 = c(5, 9, 12)\n",
        "v2 = c(2, 18, 4)\n",
        "pmax(v1, v2)  "
      ],
      "id": "49ffed42-f8a3-42a5-a9e0-65336659932e"
    },
    {
      "cell_type": "markdown",
      "metadata": {},
      "source": [
        "Looking back at the `pain` data, if we want to create a new column\n",
        "`lower_back_pain` that corresponds to whether someone selects *either*\n",
        "X218 or X219 we can use the `pmax()` function to find the maximum value\n",
        "between columns `X218` and `X219`. We can see that almost 60% of\n",
        "patients select at least one of these regions."
      ],
      "id": "f8072628-81c8-4c27-9695-28b4bf9a92d2"
    },
    {
      "cell_type": "code",
      "execution_count": null,
      "metadata": {},
      "outputs": [
        {
          "output_type": "stream",
          "name": "stdout",
          "text": [
            "lower_back\n",
            "        0         1 \n",
            "0.4053929 0.5946071 "
          ]
        }
      ],
      "source": [
        "lower_back <- pmax(pain_body_map$X218, pain_body_map$X219)\n",
        "prop.table(table(lower_back))"
      ],
      "id": "1097e0ed-cdeb-485f-a91c-340b1003ce9e"
    },
    {
      "cell_type": "markdown",
      "metadata": {},
      "source": [
        "We might want to store the total number of pain regions and our\n",
        "indicator of whether or not a patient has lower back pain as new\n",
        "columns. We create new columns in the pain data using the `$` operator\n",
        "in the previous code chunk. To be consistent with the column naming in\n",
        "the data, we use all uppercase for our column names. The `dim()`\n",
        "function shows that our data has grown by two columns, as expected."
      ],
      "id": "8faeebb5-00e1-4fc7-964a-ee4c913afcc7"
    },
    {
      "cell_type": "code",
      "execution_count": null,
      "metadata": {},
      "outputs": [
        {
          "output_type": "stream",
          "name": "stdout",
          "text": [
            "[1] 21659    94"
          ]
        }
      ],
      "source": [
        "pain$NUM_REGIONS <- rowSums(pain_body_map)\n",
        "pain$LOWER_BACK <- lower_back\n",
        "dim(pain)"
      ],
      "id": "2d459998-6011-442d-89e8-7994c493a47f"
    },
    {
      "cell_type": "markdown",
      "metadata": {},
      "source": [
        "Another useful function that allows us to perform computations over the\n",
        "rows or columns of a matrix or data frame is the `apply(X, MARGIN, FUN)`\n",
        "function, which takes in three arguments. The first argument is a data\n",
        "frame or matrix `X`, the second argument `MARGIN` indicates whether to\n",
        "compute over the rows (`1`) or columns (`2`), and the last argument is\n",
        "the function `FUN` to apply across that margin. The subsequent code\n",
        "finds the maximum value for each row in the data frame `pain_body_map`.\n",
        "Taking the minimum value of the row maximum values shows that every\n",
        "patient selected at least one body map region."
      ],
      "id": "1d432d8d-d390-4f7d-a477-d30cefc3392e"
    },
    {
      "cell_type": "code",
      "execution_count": null,
      "metadata": {},
      "outputs": [
        {
          "output_type": "stream",
          "name": "stdout",
          "text": [
            "[1] 1"
          ]
        }
      ],
      "source": [
        "any_selected <- apply(pain_body_map, 1, max)\n",
        "min(any_selected, na.rm=TRUE)"
      ],
      "id": "d13f3314-3a27-4081-aee1-ec11707423eb"
    },
    {
      "cell_type": "markdown",
      "metadata": {},
      "source": [
        "In a second example, we find the sum of the body pain regions over the\n",
        "columns, which is equivalent to the previous example using `colSums()`.\n",
        "In this case, we added the `na.rm=TRUE` argument. The `apply()` function\n",
        "passes any additional arguments to the function `FUN`."
      ],
      "id": "ec07e40c-4392-4015-920a-cb1e90c8bc93"
    },
    {
      "cell_type": "code",
      "execution_count": null,
      "metadata": {},
      "outputs": [
        {
          "output_type": "stream",
          "name": "stdout",
          "text": [
            "   Min. 1st Qu.  Median    Mean 3rd Qu.    Max. \n",
            "0.03227 0.06966 0.13620 0.14375 0.18125 0.54190 "
          ]
        }
      ],
      "source": [
        "perc_patients <- apply(pain_body_map, 2, sum, na.rm=TRUE) /\n",
        "  nrow(pain_body_map)\n",
        "summary(perc_patients)"
      ],
      "id": "ca941c75-a4d1-405a-b2e8-9cfeb15ac548"
    },
    {
      "cell_type": "markdown",
      "metadata": {},
      "source": [
        "### Practice Question\n",
        "\n",
        "Find the sum of each of the PROMIS measures across all patients using\n",
        "`apply()` and then using `colSums()`. Verify that these two methods\n",
        "return the same result, which is given in\n",
        "<a href=\"#fig-promis-col-sums\" class=\"quarto-xref\">Figure 2</a>.\n",
        "\n",
        "<figure id=\"fig-promis-col-sums\">\n",
        "<img src=\"attachment:images/working_data_files/promis-col-sums.png\" />\n",
        "<figcaption>Figure 2: Summing Across Columns.</figcaption>\n",
        "</figure>"
      ],
      "attachments": {
        "images/working_data_files/promis-col-sums.png": {
          "image/png": "[encoded data removed]"
        }
      },
      "id": "4e59c2f5-1436-43ad-9411-b0decac1103b"
    },
    {
      "cell_type": "code",
      "execution_count": null,
      "metadata": {},
      "outputs": [],
      "source": [
        "# Insert your solution here:"
      ],
      "id": "3aeee35c-adb7-4a1a-bd3d-0345a0d890c3"
    },
    {
      "cell_type": "markdown",
      "metadata": {},
      "source": [
        "### Missing, Infinite, and NaN Values    \n",
        "\n",
        "As we have seen, this data contains some missing values, which are\n",
        "represented as `NA` in R. R treats these values as if they were unknown,\n",
        "which is why we have to add the `na.rm=TRUE` argument to functions like\n",
        "`sum()` and `max()`. In the following example, we can see that R figures\n",
        "out that 1 plus an unknown number is also unknown!"
      ],
      "id": "a31c7142-1ded-4441-a72f-b19dbcc1bb26"
    },
    {
      "cell_type": "code",
      "execution_count": null,
      "metadata": {},
      "outputs": [
        {
          "output_type": "stream",
          "name": "stdout",
          "text": [
            "[1] NA"
          ]
        }
      ],
      "source": [
        "NA+1"
      ],
      "id": "8cc15d30-e87a-44bf-a89f-11558d593953"
    },
    {
      "cell_type": "markdown",
      "metadata": {},
      "source": [
        "We can determine whether a value is missing using the function\n",
        "`is.na()`. This function returns `TRUE` if the value is NA, and `FALSE`\n",
        "otherwise. We can then sum up these values for a single column since\n",
        "each `TRUE` value corresponds to a value of 1, and each `FALSE`\n",
        "corresponds to a value of 0. We observe that there is a single NA value\n",
        "for the column `PATIENT_NUM`, which is the patient ID number."
      ],
      "id": "24bb4f5d-88ca-4a46-bf4b-1005f6530216"
    },
    {
      "cell_type": "code",
      "execution_count": null,
      "metadata": {},
      "outputs": [
        {
          "output_type": "stream",
          "name": "stdout",
          "text": [
            "[1] 1"
          ]
        }
      ],
      "source": [
        "sum(is.na(pain$PATIENT_NUM))"
      ],
      "id": "0b1ad424-40f6-417a-a0c9-75ee7116f00e"
    },
    {
      "cell_type": "markdown",
      "metadata": {},
      "source": [
        "If we want to calculate the sum of NA values for each column instead of\n",
        "just a single column, we can use the `apply()` function. Since we want\n",
        "to apply this computation over the columns, the second argument has\n",
        "value 2. Recall that the last argument is the function we want to call\n",
        "for each column. In this case, we want to apply the combination of the\n",
        "`sum()` and `is.na()` function. To do so, we have to specify this\n",
        "function ourselves. This is called an **anonymous function** , since it\n",
        "doesn’t have a name."
      ],
      "id": "12089130-014d-4692-b16a-b0fbe7adbf75"
    },
    {
      "cell_type": "code",
      "execution_count": null,
      "metadata": {},
      "outputs": [
        {
          "output_type": "stream",
          "name": "stdout",
          "text": [
            "[1] 1"
          ]
        }
      ],
      "source": [
        "num_missing_col <- apply(pain, 2, function(x) sum(is.na(x)))\n",
        "min(num_missing_col)"
      ],
      "id": "9826904a-b457-41e8-b710-326555d50309"
    },
    {
      "cell_type": "markdown",
      "metadata": {},
      "source": [
        "Interestingly, we can see that there is at least one missing value in\n",
        "each column. It might be the case that there is a row with all NA\n",
        "values. Let’s apply the same function by row. Taking the maximum, we can\n",
        "see that row 11749 has all NA values."
      ],
      "id": "a60c769f-0ab3-418a-a046-b7dd9eee3834"
    },
    {
      "cell_type": "code",
      "execution_count": null,
      "metadata": {},
      "outputs": [
        {
          "output_type": "stream",
          "name": "stdout",
          "text": [
            "[1] 94"
          ]
        },
        {
          "output_type": "stream",
          "name": "stdout",
          "text": [
            "[1] 11749"
          ]
        }
      ],
      "source": [
        "num_missing_row <- apply(pain, 1, function(x) sum(is.na(x)))\n",
        "max(num_missing_row)"
      ],
      "id": "bf5df836-1748-42a3-8ec3-177dad171035"
    },
    {
      "cell_type": "markdown",
      "metadata": {},
      "source": [
        "We remove that row and then find the percentage of missing values by\n",
        "column. We can see that the column with the highest percentage of\n",
        "missing values is the pain intensity at follow-up. In fact, only 33% of\n",
        "patients have a recorded follow-up visit."
      ],
      "id": "774b5eaf-a99c-419b-b7b3-2225f9b1d510"
    },
    {
      "cell_type": "code",
      "execution_count": null,
      "metadata": {},
      "outputs": [
        {
          "output_type": "stream",
          "name": "stdout",
          "text": [
            "                     PATIENT_NUM                             X101 \n",
            "                     0.000000000                      0.000000000 \n",
            "                            X102                             X103 \n",
            "                     0.000000000                      0.000000000 \n",
            "                            X104                             X105 \n",
            "                     0.000000000                      0.000000000 \n",
            "                            X106                             X107 \n",
            "                     0.000000000                      0.000000000 \n",
            "                            X108                             X109 \n",
            "                     0.000000000                      0.000000000 \n",
            "                            X110                             X111 \n",
            "                     0.000000000                      0.000000000 \n",
            "                            X112                             X113 \n",
            "                     0.000000000                      0.000000000 \n",
            "                            X114                             X115 \n",
            "                     0.000000000                      0.000000000 \n",
            "                            X116                             X117 \n",
            "                     0.000000000                      0.000000000 \n",
            "                            X118                             X119 \n",
            "                     0.000000000                      0.000000000 \n",
            "                            X120                             X121 \n",
            "                     0.000000000                      0.000000000 \n",
            "                            X122                             X123 \n",
            "                     0.000000000                      0.000000000 \n",
            "                            X124                             X125 \n",
            "                     0.000000000                      0.000000000 \n",
            "                            X126                             X127 \n",
            "                     0.000000000                      0.000000000 \n",
            "                            X128                             X129 \n",
            "                     0.000000000                      0.000000000 \n",
            "                            X130                             X131 \n",
            "                     0.000000000                      0.000000000 \n",
            "                            X132                             X133 \n",
            "                     0.000000000                      0.000000000 \n",
            "                            X134                             X135 \n",
            "                     0.000000000                      0.000000000 \n",
            "                            X136                             X201 \n",
            "                     0.000000000                      0.000000000 \n",
            "                            X202                             X203 \n",
            "                     0.000000000                      0.000000000 \n",
            "                            X204                             X205 \n",
            "                     0.000000000                      0.000000000 \n",
            "                            X206                             X207 \n",
            "                     0.000000000                      0.000000000 \n",
            "                            X208                             X209 \n",
            "                     0.000000000                      0.000000000 \n",
            "                            X210                             X211 \n",
            "                     0.000000000                      0.000000000 \n",
            "                            X212                             X213 \n",
            "                     0.000000000                      0.000000000 \n",
            "                            X214                             X215 \n",
            "                     0.000000000                      0.000000000 \n",
            "                            X216                             X217 \n",
            "                     0.000000000                      0.000000000 \n",
            "                            X218                             X219 \n",
            "                     0.000000000                      0.000000000 \n",
            "                            X220                             X221 \n",
            "                     0.000000000                      0.000000000 \n",
            "                            X222                             X223 \n",
            "                     0.000000000                      0.000000000 \n",
            "                            X224                             X225 \n",
            "                     0.000000000                      0.000000000 \n",
            "                            X226                             X227 \n",
            "                     0.000000000                      0.000000000 \n",
            "                            X228                             X229 \n",
            "                     0.000000000                      0.000000000 \n",
            "                            X230                             X231 \n",
            "                     0.000000000                      0.000000000 \n",
            "                            X232                             X233 \n",
            "                     0.000000000                      0.000000000 \n",
            "                            X234                             X235 \n",
            "                     0.000000000                      0.000000000 \n",
            "                            X236                             X237 \n",
            "                     0.000000000                      0.000000000 \n",
            "                            X238           PAIN_INTENSITY_AVERAGE \n",
            "                     0.000000000                      0.000000000 \n",
            "        PROMIS_PHYSICAL_FUNCTION             PROMIS_PAIN_BEHAVIOR \n",
            "                     0.000000000                      0.294117647 \n",
            "               PROMIS_DEPRESSION                   PROMIS_ANXIETY \n",
            "                     0.004016991                      0.004016991 \n",
            "       PROMIS_SLEEP_DISTURB_V1_0         PROMIS_PAIN_INTERFERENCE \n",
            "                     0.004016991                      0.006972020 \n",
            "                 GH_MENTAL_SCORE                GH_PHYSICAL_SCORE \n",
            "                     0.136023640                      0.136023640 \n",
            "                  AGE_AT_CONTACT                              BMI \n",
            "                     0.000000000                      0.260042479 \n",
            "                 CCI_TOTAL_SCORE PAIN_INTENSITY_AVERAGE.FOLLOW_UP \n",
            "                     0.000000000                      0.670422015 \n",
            "                         PAT_SEX                         PAT_RACE \n",
            "                     0.000000000                      0.006510296 \n",
            "                         CCI_BIN                     MEDICAID_BIN \n",
            "                     0.000000000                      0.013851695 \n",
            "                     NUM_REGIONS                       LOWER_BACK \n",
            "                     0.000000000                      0.000000000 "
          ]
        }
      ],
      "source": [
        "pain <- pain[-11749, ]\n",
        "num_missing_col <- apply(pain, 2, \n",
        "                         function(x) sum(is.na(x))/nrow(pain))\n",
        "num_missing_col"
      ],
      "id": "79c518dc-4fb7-4775-b640-06f038f02958"
    },
    {
      "cell_type": "markdown",
      "metadata": {},
      "source": [
        "We create two new columns: first, we create a column for the change in\n",
        "pain at follow-up, and second, we create a column for the percent change\n",
        "in pain at follow-up."
      ],
      "id": "51f4ffc8-e10d-4492-a7f9-16f2edd3547a"
    },
    {
      "cell_type": "code",
      "execution_count": null,
      "metadata": {},
      "outputs": [
        {
          "output_type": "display_data",
          "metadata": {},
          "data": {
            "image/png": "[encoded data removed]"
          }
        }
      ],
      "source": [
        "pain$PAIN_CHANGE <- pain$PAIN_INTENSITY_AVERAGE.FOLLOW_UP - \n",
        "  pain$PAIN_INTENSITY_AVERAGE\n",
        "hist(pain$PAIN_CHANGE)"
      ],
      "id": "df88b261-8643-4d4c-9782-a5b4f007fe27"
    },
    {
      "cell_type": "code",
      "execution_count": null,
      "metadata": {},
      "outputs": [
        {
          "output_type": "stream",
          "name": "stdout",
          "text": [
            "   Min. 1st Qu.  Median    Mean 3rd Qu.    Max.    NA's \n",
            " -1.000  -0.200   0.000     Inf   0.143     Inf   14520 "
          ]
        }
      ],
      "source": [
        "pain$PERC_PAIN_CHANGE <- pain$PAIN_CHANGE / \n",
        "  pain$PAIN_INTENSITY_AVERAGE\n",
        "summary(pain$PERC_PAIN_CHANGE)"
      ],
      "id": "d9715b1c-6afd-4301-b084-e3228e018aa8"
    },
    {
      "cell_type": "markdown",
      "metadata": {},
      "source": [
        "In the summary of the percent change, we can see that the maximum value\n",
        "is `Inf`. This is R’s representation of infinity. This occurred because\n",
        "some patients have an initial pain score of 0, which creates infinite\n",
        "values when we divide through by this value to find the percent change.\n",
        "We can test whether something is infinite using the `is.infinite()` or\n",
        "`is.finite()` functions. This shows that there were three patients with\n",
        "infinite values. The value `-Inf` is used to represent negative\n",
        "infinity."
      ],
      "id": "1f7180c5-d33c-46b2-980e-269255ba4e00"
    },
    {
      "cell_type": "code",
      "execution_count": null,
      "metadata": {},
      "outputs": [
        {
          "output_type": "stream",
          "name": "stdout",
          "text": [
            "[1] 3"
          ]
        }
      ],
      "source": [
        "sum(is.infinite(pain$PERC_PAIN_CHANGE))"
      ],
      "id": "6822e183-9ba3-49a1-adac-155a4a369d38"
    },
    {
      "cell_type": "markdown",
      "metadata": {},
      "source": [
        "Another special value in R is `NaN`, which stands for “Not a Number”.\n",
        "For example, `0/0` results in a NaN value. We can test for `NaN` values\n",
        "using the `is.nan()` function."
      ],
      "id": "2685b6d7-6a82-4b8e-8dc5-6ce1a208b7c7"
    },
    {
      "cell_type": "code",
      "execution_count": null,
      "metadata": {},
      "outputs": [
        {
          "output_type": "stream",
          "name": "stdout",
          "text": [
            "[1] NaN"
          ]
        }
      ],
      "source": [
        "0/0"
      ],
      "id": "ee87513e-4c86-4bd4-977c-04be5ba08b9a"
    },
    {
      "cell_type": "markdown",
      "metadata": {},
      "source": [
        "Looking back at the missing values, there are two useful functions for\n",
        "selecting the complete cases in a data frame. The `na.omit()` function\n",
        "returns the data frame with incomplete cases removed, whereas\n",
        "`complete.cases()` returns TRUE/FALSE values for each row indicating\n",
        "whether each row is complete, which we can then use to select the rows\n",
        "with TRUE values. In the following code, we see that both approaches\n",
        "select the same number of rows."
      ],
      "id": "d73cfb8a-26e4-41e1-8488-9a06f56c981b"
    },
    {
      "cell_type": "code",
      "execution_count": null,
      "metadata": {},
      "outputs": [
        {
          "output_type": "stream",
          "name": "stdout",
          "text": [
            "[1] 2413   96"
          ]
        },
        {
          "output_type": "stream",
          "name": "stdout",
          "text": [
            "[1] 2413   96"
          ]
        }
      ],
      "source": [
        "pain_sub1 <- na.omit(pain)\n",
        "pain_sub2 <- pain[complete.cases(pain), ]\n",
        "dim(pain_sub1)"
      ],
      "id": "48170c4f-af8a-411c-86c3-44652d3b410c"
    },
    {
      "cell_type": "markdown",
      "metadata": {},
      "source": [
        "### Dates in R \n",
        "\n",
        "The columns in the `pain` data contain character and numeric values. One\n",
        "special type of character column that is not present is a column that\n",
        "corresponds to a date or date-time. By default, `read.csv()` reads these\n",
        "columns in as character columns, whereas the `read_csv()` function from\n",
        "the **readr** package in the **tidyverse** family recognizes common date\n",
        "formats. If we have a character column, we can convert to a date object\n",
        "using `as.Date()` for date columns and `as.POSIXct()` for date-time\n",
        "columns. For columns with only a time but no date, you can add a date or\n",
        "use the **hms** package \\[@R-hms\\], which is not demonstrated here.\n",
        "These functions automatically try to detect the format of the inputted\n",
        "string, but it is often helpful to provide the `format` and time zone\n",
        "`tz`. To input our format we use the following key.\n",
        "\n",
        "| Symbol | Description                    |\n",
        "|--------|--------------------------------|\n",
        "| %Y     | Four-digit year.               |\n",
        "| %y     | Two-digit year.                |\n",
        "| %m     | Numeric month.                 |\n",
        "| %b%    | Abbreviated name of month.     |\n",
        "| %B     | Full name of month.            |\n",
        "| %d     | Numeric day of the month.      |\n",
        "| %H     | Military time hour (24 hours). |\n",
        "| %I     | Imperial time hour (12 hours). |\n",
        "| %M     | Minute.                        |\n",
        "| %S     | Seconds.                       |\n",
        "| %p     | AM/PM                          |"
      ],
      "id": "8fd4c6c6-2bc0-44c2-b914-59fd8b9b5d03"
    },
    {
      "cell_type": "code",
      "execution_count": null,
      "metadata": {},
      "outputs": [
        {
          "output_type": "stream",
          "name": "stdout",
          "text": [
            "           x                   y                   z\n",
            "1 2020-01-15 2020-01-15 15:14:00 2024-06-24 04:10:00\n",
            "2 2021-11-16 2021-11-16 05:00:00 2024-06-24 11:35:11\n",
            "3 2019-08-01 2019-08-01 15:00:00 2024-06-24 18:00:45"
          ]
        }
      ],
      "source": [
        "date_example <- data.frame(x = c(\"2020-01-15\", \"2021-11-16\", \n",
        "                                 \"2019-08-01\"),\n",
        "                           y = c(\"2020-01-15 3:14 PM\", \n",
        "                                 \"2021-11-16 5:00 AM\",\n",
        "                                 \"2019-08-01 3:00 PM\"),\n",
        "                           z = c(\"04:10:00\", \"11:35:11\", \"18:00:45\"))\n",
        "\n",
        "# Convert date and date times using formats\n",
        "date_example$x <- as.Date(date_example$x, format = \"%Y-%m-%d\", \n",
        "                          tz = \"EST\")\n",
        "date_example$y <- as.POSIXct(date_example$y, \n",
        "                             format = \"%Y-%m-%d %I:%M %p\")\n",
        "\n",
        "# Add date to z and convert\n",
        "date_example$z <- paste(\"2024-06-24\", date_example$z)\n",
        "date_example$z <- as.POSIXct(date_example$z, \n",
        "                             format = \"%Y-%m-%d %H:%M:%S\")\n",
        "date_example"
      ],
      "id": "537c17f5-a62a-4065-a175-34d4373f42f2"
    },
    {
      "cell_type": "markdown",
      "metadata": {},
      "source": [
        "By recognizing these columns as dates, we can find the time between two\n",
        "dates using the `difftime()` function. This function takes in two times\n",
        "`time1` and `time2` and finds the difference `time1 - time2` in the\n",
        "given `units`."
      ],
      "id": "e2cd87f0-0d22-49cc-b6bf-c4c679acbe18"
    },
    {
      "cell_type": "code",
      "execution_count": null,
      "metadata": {},
      "outputs": [
        {
          "output_type": "stream",
          "name": "stdout",
          "text": [
            "Time difference of 671 days"
          ]
        }
      ],
      "source": [
        "difftime(date_example$x[2], date_example$x[1], units = \"days\")"
      ],
      "id": "4dfed391-e180-4d44-83a6-4035425221ca"
    },
    {
      "cell_type": "markdown",
      "metadata": {},
      "source": [
        "Additionally, we can use the `seq()` function to add or subtract time by\n",
        "specifying a unit for `by`."
      ],
      "id": "0203ef8b-4feb-4bb7-9931-9b4c4a569e65"
    },
    {
      "cell_type": "code",
      "execution_count": null,
      "metadata": {},
      "outputs": [
        {
          "output_type": "stream",
          "name": "stdout",
          "text": [
            "[1] \"2020-01-15\" \"2020-02-15\" \"2020-03-15\""
          ]
        }
      ],
      "source": [
        "seq(date_example$x[1], by = \"month\", length = 3)"
      ],
      "id": "0fb040ac-b4cd-45f6-8333-122e19d84362"
    },
    {
      "cell_type": "markdown",
      "metadata": {},
      "source": [
        "For those interested in doing more manipulations with dates, the\n",
        "**lubridate** package \\[@R-lubridate\\] in the **tidyverse** expands upon\n",
        "the base functionality of R for working with dates. This package uses\n",
        "its own date-time class and includes functions to easily extract\n",
        "information from and manipulate dates.\n",
        "\n",
        "## Using Logic to Subset, Summarize, and Transform \n",
        "\n",
        "We have already seen how to use TRUE/FALSE values to select rows in a\n",
        "data frame. The following logic operators in R allow us to expand on\n",
        "this capability to write more complex logic.\n",
        "\n",
        "-   `<` less than\n",
        "-   `<=` less than or equal to\n",
        "-   `>` greater than\n",
        "-   `>=` greater than or equal to\n",
        "-   `==` equal to\n",
        "-   `!=` not equal to\n",
        "-   `a %in% b` a’s value is in a vector of values b\n",
        "\n",
        "The first six operators are a direct comparison between two values."
      ],
      "id": "c2d81a92-7143-40eb-b135-a334305a9dfc"
    },
    {
      "cell_type": "code",
      "execution_count": null,
      "metadata": {},
      "outputs": [
        {
          "output_type": "stream",
          "name": "stdout",
          "text": [
            "[1] FALSE"
          ]
        },
        {
          "output_type": "stream",
          "name": "stdout",
          "text": [
            "[1] TRUE"
          ]
        },
        {
          "output_type": "stream",
          "name": "stdout",
          "text": [
            "[1] TRUE"
          ]
        },
        {
          "output_type": "stream",
          "name": "stdout",
          "text": [
            "[1] TRUE"
          ]
        },
        {
          "output_type": "stream",
          "name": "stdout",
          "text": [
            "[1] FALSE"
          ]
        },
        {
          "output_type": "stream",
          "name": "stdout",
          "text": [
            "[1] TRUE"
          ]
        }
      ],
      "source": [
        "2 < 2"
      ],
      "id": "9636d19c-2e9b-44f5-b40c-1528a04df975"
    },
    {
      "cell_type": "markdown",
      "metadata": {},
      "source": [
        "The operators assume there is a natural ordering or comparison between\n",
        "values. For example, for strings the ordering is alphabetical and for\n",
        "logical operators we use their numeric interpretation (TRUE = 1, FALSE =\n",
        "0)."
      ],
      "id": "0d4b0dbd-a727-46fa-a7d6-3dc01d9ec08a"
    },
    {
      "cell_type": "code",
      "execution_count": null,
      "metadata": {},
      "outputs": [
        {
          "output_type": "stream",
          "name": "stdout",
          "text": [
            "[1] TRUE"
          ]
        },
        {
          "output_type": "stream",
          "name": "stdout",
          "text": [
            "[1] FALSE"
          ]
        }
      ],
      "source": [
        "\"A\" < \"B\""
      ],
      "id": "a6c02853-d865-4c40-bec3-f9de66d39068"
    },
    {
      "cell_type": "markdown",
      "metadata": {},
      "source": [
        "The `%in%` operator is slightly different. This operator checks whether\n",
        "a value is in a set of possible values. For example, we can check\n",
        "whether values are in the set `c(4,1,2)`."
      ],
      "id": "e4f4e3f4-3912-4cd6-a8be-ad4cd5a28364"
    },
    {
      "cell_type": "code",
      "execution_count": null,
      "metadata": {},
      "outputs": [
        {
          "output_type": "stream",
          "name": "stdout",
          "text": [
            "[1] TRUE"
          ]
        },
        {
          "output_type": "stream",
          "name": "stdout",
          "text": [
            "[1] FALSE  TRUE FALSE"
          ]
        }
      ],
      "source": [
        "1 %in% c(4, 1, 2)"
      ],
      "id": "fd05b393-fca2-4596-90b6-9c7dcbb13de0"
    },
    {
      "cell_type": "markdown",
      "metadata": {},
      "source": [
        "Additionally, we can use the following operators, which allow us to\n",
        "negate or combine logical operators.\n",
        "\n",
        "-   `!x` - the **NOT** operator `!` reverses TRUE/FALSE values\n",
        "-   `x | y` - the **OR** operator `|` checks whether *either* x or y is\n",
        "    equal to TRUE\n",
        "-   `x & y` - the **AND** operator `&` checks whether *both* x and y are\n",
        "    equal to TRUE\n",
        "-   `xor(x,y)` - the **xor** function checks whether exactly one of x or\n",
        "    y is equal to TRUE (called exclusive or)\n",
        "-   `any(x)` - the **any** function checks whether any value in x is\n",
        "    TRUE (equivalent to using an OR operator `|` between all values)\n",
        "-   `all(x)` - the **all** function checks whether all values in x are\n",
        "    TRUE (equivalent to using an AND operator `&` between all values)\n",
        "\n",
        "Some simple examples for each are given in the following code chunk."
      ],
      "id": "8de525ea-0274-4580-81e3-c4ad639f65ee"
    },
    {
      "cell_type": "code",
      "execution_count": null,
      "metadata": {},
      "outputs": [
        {
          "output_type": "stream",
          "name": "stdout",
          "text": [
            "[1] FALSE"
          ]
        },
        {
          "output_type": "stream",
          "name": "stdout",
          "text": [
            "[1] TRUE"
          ]
        },
        {
          "output_type": "stream",
          "name": "stdout",
          "text": [
            "[1] FALSE"
          ]
        },
        {
          "output_type": "stream",
          "name": "stdout",
          "text": [
            "[1] TRUE"
          ]
        },
        {
          "output_type": "stream",
          "name": "stdout",
          "text": [
            "[1] TRUE"
          ]
        },
        {
          "output_type": "stream",
          "name": "stdout",
          "text": [
            "[1] FALSE"
          ]
        }
      ],
      "source": [
        "!(2 < 3)"
      ],
      "id": "ea1e2238-b73b-4ca0-b585-13fdef91acef"
    },
    {
      "cell_type": "markdown",
      "metadata": {},
      "source": [
        "Let’s demonstrate these operators on the pain data. We first update the\n",
        "Medicaid column by making the character values more informative. The\n",
        "logic on the left-hand side selects those who do or do not have Medicaid\n",
        "and then assigns those values to the new ones."
      ],
      "id": "c71734bb-84e1-4a9a-8073-b4ba4a0a2a17"
    },
    {
      "cell_type": "code",
      "execution_count": null,
      "metadata": {},
      "outputs": [
        {
          "output_type": "stream",
          "name": "stdout",
          "text": [
            "\n",
            "   Medicaid No Medicaid \n",
            "       4601       16757 "
          ]
        }
      ],
      "source": [
        "pain$MEDICAID_BIN[pain$MEDICAID_BIN == \"no\"] <- \"No Medicaid\"\n",
        "pain$MEDICAID_BIN[pain$MEDICAID_BIN == \"yes\"] <- \"Medicaid\"\n",
        "table(pain$MEDICAID_BIN)"
      ],
      "id": "156845c3-9e10-4fca-ab94-81c2c3b6eed4"
    },
    {
      "cell_type": "markdown",
      "metadata": {},
      "source": [
        "Additionally, we could subset the data to only those who have a\n",
        "follow-up. The not operator `!` reverses the TRUE/FALSE values returned\n",
        "from the `is.na()` function. Therefore, the new value is TRUE if the\n",
        "follow-up value is *not* NA."
      ],
      "id": "695d87de-f3da-4cec-b6f4-1d55ae8d6eac"
    },
    {
      "cell_type": "code",
      "execution_count": null,
      "metadata": {},
      "outputs": [],
      "source": [
        "pain_follow_up <- pain[!is.na(pain$PAIN_INTENSITY_AVERAGE.FOLLOW_UP), ]"
      ],
      "id": "53902073-fdb3-4ac4-a042-29e1202e394b"
    },
    {
      "cell_type": "markdown",
      "metadata": {},
      "source": [
        "Earlier, we created a column indicating whether or not a patient has\n",
        "lower back pain. We now use the `any()` function to check whether a\n",
        "patient has general back pain. If at least one of these values is equal\n",
        "to 1, then the function returns TRUE. If we had used the `all()`\n",
        "function instead, this would check whether all values are equal to 1,\n",
        "indicating that a patient has pain in their whole back."
      ],
      "id": "c150ad0b-dd1f-4dab-8cef-7ed2d1d90327"
    },
    {
      "cell_type": "code",
      "execution_count": null,
      "metadata": {},
      "outputs": [],
      "source": [
        "pain$BACK <- any(pain$X208==1, pain$X209==1, pain$X212==1, \n",
        "                 pain$X213==1, pain$X218==1, pain$X219==1)"
      ],
      "id": "59052ed7-7945-4f03-82cf-5ef533fd2b45"
    },
    {
      "cell_type": "markdown",
      "metadata": {},
      "source": [
        "### Practice Question\n",
        "\n",
        "Subset the `pain` data to those who have a follow-up and have an initial\n",
        "average pain intensity of 5 or above. Name this subset of the data\n",
        "`pain_subset`. Print the head of this data. The first six patient IDs in\n",
        "this new dataset should be 13118, 21384, 1827, 11309, 11093, and 14667."
      ],
      "id": "0ee29cd0-a643-4415-be25-d381a6d04eda"
    },
    {
      "cell_type": "code",
      "execution_count": null,
      "metadata": {},
      "outputs": [],
      "source": [
        "# Insert your solution here:"
      ],
      "id": "893776bc-a647-4c49-9aff-7798251a5197"
    },
    {
      "cell_type": "markdown",
      "metadata": {},
      "source": [
        "Lastly, we look at the column for patient race `PAT_RACE`. The `table()`\n",
        "function shows that most patients are `WHITE` or `BLACK`. Given how few\n",
        "observations are in the other categories, we may want to combine some of\n",
        "these levels into one."
      ],
      "id": "15536e64-8bbc-41cf-8277-8cbec8b4e209"
    },
    {
      "cell_type": "code",
      "execution_count": null,
      "metadata": {},
      "outputs": [
        {
          "output_type": "stream",
          "name": "stdout",
          "text": [
            "\n",
            "         ALASKA NATIVE        AMERICAN INDIAN                  BLACK \n",
            "                     2                     58                   3229 \n",
            "               CHINESE               DECLINED               FILIPINO \n",
            "                    21                    121                      6 \n",
            "         GUAM/CHAMORRO               HAWAIIAN         INDIAN (ASIAN) \n",
            "                     1                      1                     49 \n",
            "              JAPANESE                 KOREAN          NOT SPECIFIED \n",
            "                     9                     10                      4 \n",
            "                 OTHER            OTHER ASIAN OTHER PACIFIC ISLANDER \n",
            "                     1                     47                     12 \n",
            "            VIETNAMESE                  WHITE \n",
            "                     6                  17940 "
          ]
        }
      ],
      "source": [
        "table(pain$PAT_RACE)"
      ],
      "id": "f5ae6996-ea06-4f99-ad04-4c50c4dc1a7b"
    },
    {
      "cell_type": "markdown",
      "metadata": {},
      "source": [
        "Another way we could have found all possible values for this column is\n",
        "to use the `unique()` function. This function takes in a data frame or\n",
        "vector `x` and returns `x` with all duplicate rows or values removed."
      ],
      "id": "849c5982-97ee-4f8e-b8f8-bdc52a0b5e3f"
    },
    {
      "cell_type": "code",
      "execution_count": null,
      "metadata": {},
      "outputs": [
        {
          "output_type": "stream",
          "name": "stdout",
          "text": [
            " [1] \"WHITE\"                  \"BLACK\"                  \"DECLINED\"              \n",
            " [4] \"AMERICAN INDIAN\"        \"INDIAN (ASIAN)\"         \"ALASKA NATIVE\"         \n",
            " [7] NA                       \"FILIPINO\"               \"JAPANESE\"              \n",
            "[10] \"VIETNAMESE\"             \"KOREAN\"                 \"CHINESE\"               \n",
            "[13] \"OTHER ASIAN\"            \"NOT SPECIFIED\"          \"HAWAIIAN\"              \n",
            "[16] \"OTHER PACIFIC ISLANDER\" \"OTHER\"                  \"GUAM/CHAMORRO\"         "
          ]
        }
      ],
      "source": [
        "unique(pain$PAT_RACE)"
      ],
      "id": "8dd15d83-271a-4dd1-b252-2d99638f70b7"
    },
    {
      "cell_type": "markdown",
      "metadata": {},
      "source": [
        "To combine some of these levels, we can use the `%in%` operator. We\n",
        "first create an Asian, Asian American, or Pacific Islander race category\n",
        "and then create an American Indian or Alaska Native category."
      ],
      "id": "eecd1bb7-af6c-43d7-a39e-f8c2c26ae04a"
    },
    {
      "cell_type": "code",
      "execution_count": null,
      "metadata": {},
      "outputs": [
        {
          "output_type": "stream",
          "name": "stdout",
          "text": [
            "\n",
            "         AAPI         AI/AN         BLACK      DECLINED NOT SPECIFIED \n",
            "          162            60          3229           121             4 \n",
            "        OTHER         WHITE \n",
            "            1         17940 "
          ]
        }
      ],
      "source": [
        "aapi_values <- c(\"CHINESE\", \"HAWAIIAN\", \"INDIAN (ASIAN)\", \"FILIPINO\", \n",
        "                 \"VIETNAMESE\", \"JAPANESE\", \"KOREAN\", \"GUAM/CHAMORRO\", \n",
        "                 \"OTHER ASIAN\", \"OTHER PACIFIC ISLANDER\")\n",
        "pain$PAT_RACE[pain$PAT_RACE %in% aapi_values] <- \"AAPI\"\n",
        "pain$PAT_RACE[pain$PAT_RACE %in% \n",
        "                c(\"ALASKA NATIVE\", \"AMERICAN INDIAN\")] <- \"AI/AN\"\n",
        "table(pain$PAT_RACE)"
      ],
      "id": "b838d460-699c-4e63-9fa2-d76b975f08de"
    },
    {
      "cell_type": "markdown",
      "metadata": {},
      "source": [
        "### Other Selection Functions \n",
        "\n",
        "In the previous code, we selected rows using TRUE/FALSE Boolean values.\n",
        "Instead, we could have also used the `which()` function. This function\n",
        "takes TRUE/FALSE values and returns the index values for all the TRUE\n",
        "values. We use this to treat those with race given as `DECLINED` as not\n",
        "specified."
      ],
      "id": "31b2d69e-99ec-42c0-b6cd-4e1bdb59ae7f"
    },
    {
      "cell_type": "code",
      "execution_count": null,
      "metadata": {},
      "outputs": [],
      "source": [
        "pain$PAT_RACE[which(pain$PAT_RACE == \"DECLINED\")] <- \"NOT SPECIFIED\""
      ],
      "id": "58ffba04-7c3a-4f34-a307-c62c1dc67223"
    },
    {
      "cell_type": "markdown",
      "metadata": {},
      "source": [
        "Another selection function is the `subset()` function. This function\n",
        "takes in two arguments. The first is the vector, matrix, or data frame\n",
        "to select from, and the second is a vector of TRUE/FALSE values to use\n",
        "for row selection. We use this to find the observation with race marked\n",
        "as `OTHER`. We then update this race to also be marked as not specified."
      ],
      "id": "fa57b47a-391e-428e-ae01-e2e4928a5b51"
    },
    {
      "cell_type": "code",
      "execution_count": null,
      "metadata": {},
      "outputs": [
        {
          "output_type": "stream",
          "name": "stdout",
          "text": [
            "# A tibble: 1 × 97\n",
            "  PATIENT_NUM  X101  X102  X103  X104  X105  X106  X107  X108  X109  X110  X111\n",
            "        <dbl> <dbl> <dbl> <dbl> <dbl> <dbl> <dbl> <dbl> <dbl> <dbl> <dbl> <dbl>\n",
            "1        3588     1     1     1     0     1     1     1     0     0     0     0\n",
            "# ℹ 85 more variables: X112 <dbl>, X113 <dbl>, X114 <dbl>, X115 <dbl>,\n",
            "#   X116 <dbl>, X117 <dbl>, X118 <dbl>, X119 <dbl>, X120 <dbl>, X121 <dbl>,\n",
            "#   X122 <dbl>, X123 <dbl>, X124 <dbl>, X125 <dbl>, X126 <dbl>, X127 <dbl>,\n",
            "#   X128 <dbl>, X129 <dbl>, X130 <dbl>, X131 <dbl>, X132 <dbl>, X133 <dbl>,\n",
            "#   X134 <dbl>, X135 <dbl>, X136 <dbl>, X201 <dbl>, X202 <dbl>, X203 <dbl>,\n",
            "#   X204 <dbl>, X205 <dbl>, X206 <dbl>, X207 <dbl>, X208 <dbl>, X209 <dbl>,\n",
            "#   X210 <dbl>, X211 <dbl>, X212 <dbl>, X213 <dbl>, X214 <dbl>, X215 <dbl>, …"
          ]
        }
      ],
      "source": [
        "subset(pain, pain$PAT_RACE == \"OTHER\")"
      ],
      "id": "9fc80776-77fb-413b-b700-84bc69cf8659"
    },
    {
      "cell_type": "code",
      "execution_count": null,
      "metadata": {},
      "outputs": [
        {
          "output_type": "stream",
          "name": "stdout",
          "text": [
            "\n",
            "         AAPI         AI/AN         BLACK NOT SPECIFIED         WHITE \n",
            "          162            60          3229           126         17940 "
          ]
        }
      ],
      "source": [
        "pain$PAT_RACE[pain$PATIENT_NUM==3588] <- \"NOT SPECIFIED\"\n",
        "table(pain$PAT_RACE)"
      ],
      "id": "5a2b1406-31c0-45ad-a3ed-640e94c65de1"
    },
    {
      "cell_type": "markdown",
      "metadata": {},
      "source": [
        "## Exercises\n",
        "\n",
        "For these exercises, we use the `pain` data from the **HDSinRdata**\n",
        "package.\n",
        "\n",
        "1.  Print summary statistics for the `PROMIS_PHYSICAL_FUNCTION` and\n",
        "    `PROMIS_ANXIETY` columns in this dataset. Read the data\n",
        "    documentation for these two columns, which both have range 0 to 100,\n",
        "    and then comment on the distributions of these columns.\n",
        "\n",
        "2.  Create frequency tables for the values of `PAT_SEX` and `PAT_RACE`\n",
        "    and summarize what these tables tell you about the distributions of\n",
        "    these demographic characteristics.\n",
        "\n",
        "3.  Create a new data frame called `pain.new` that doesn’t contain\n",
        "    patients with NA values for both `GH_MENTAL_SCORE` and\n",
        "    `GH_PHYSICAL_SCORE`, which are the PROMIS global mental and physical\n",
        "    scores, respectively.\n",
        "\n",
        "4.  Create a vector of the proportion of patients who reported pain in\n",
        "    each of the pain regions. Then, find the minimum, median, mean,\n",
        "    maximum, standard deviation, and variance of this vector.\n",
        "\n",
        "5.  Calculate the median and interquartile range of the distribution of\n",
        "    the total number of painful **leg** regions selected for each\n",
        "    patient. Then, write a few sentences explaining anything interesting\n",
        "    you observe about this distribution in the context of this dataset.\n",
        "\n",
        "6.  Look at the distribution of average pain intensity between patients\n",
        "    with only one pain region selected vs. those with more than one\n",
        "    region selected. What do you notice?\n",
        "\n",
        "7.  Create a histogram to plot the distribution of the\n",
        "    `PAIN_INTENSITY_AVERAGE.FOLLOW_UP` column. Then, create a table\n",
        "    summarizing how many patients had missing values in this column.\n",
        "    Finally, choose two columns to compare the distribution between\n",
        "    those with and without missing follow-up. What do you notice?"
      ],
      "id": "2f799bf1-d42c-4da1-9ca5-ca02a23b59fc"
    }
  ],
  "nbformat": 4,
  "nbformat_minor": 5,
  "metadata": {
    "kernelspec": {
      "display_name": "Python 3",
      "language": "python",
      "name": "python3"
    }
  }
}