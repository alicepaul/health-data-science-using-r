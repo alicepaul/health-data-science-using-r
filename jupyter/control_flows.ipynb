{
  "cells": [
    {
      "cell_type": "markdown",
      "metadata": {},
      "source": [
        "# \n",
        "\n",
        "# Logic and Loops\n",
        "\n",
        "Now that we have seen a lot of the functionality of R, we can start to\n",
        "build up more structured code using programming structures. To start, we\n",
        "introduce *control flows*. Control flows are code blocks that determine\n",
        "a sequence of code to be run. The two types of control flows we\n",
        "introduce are if-else blocks and loops."
      ],
      "id": "8c5cb114-1349-4574-975c-ebab62e6f9d0"
    },
    {
      "cell_type": "code",
      "execution_count": null,
      "metadata": {},
      "outputs": [],
      "source": [
        "library(HDSinRdata)\n",
        "library(tidyverse)"
      ],
      "id": "eef6c1a8-3d5e-4fb9-863f-a20da86707bb"
    },
    {
      "cell_type": "markdown",
      "metadata": {},
      "source": [
        "## Logic and Conditional Expressions \n",
        "\n",
        "You may recall that we introduced logical operators in\n",
        "**?@sec-data-files**. We used these operators through conditional\n",
        "expressions such as when we indexed a data frame or the `ifelse()` or\n",
        "`casewhen()` functions. For example, in the following code we have\n",
        "vectors of systolic and diastolic blood pressure measurements, and we\n",
        "write a logical operator to check if at least one of the systolic\n",
        "measurements is above 140 or if at least one of the diastolic\n",
        "measurements is above 90."
      ],
      "id": "3a1f0173-613e-42a7-ab1f-99fae8b6ba37"
    },
    {
      "cell_type": "code",
      "execution_count": null,
      "metadata": {},
      "outputs": [
        {
          "output_type": "stream",
          "name": "stdout",
          "text": [
            "[1] TRUE"
          ]
        }
      ],
      "source": [
        "sbp_measurements <- c(131, 110, 125, 145, NA, 130)\n",
        "dbp_measurements <- c(70, NA, 80)\n",
        "any(sbp_measurements > 140, na.rm = TRUE) | \n",
        "  any(dbp_measurements > 90, na.rm = TRUE)"
      ],
      "id": "6e4c9628-752a-456f-9147-fd886ac2c7e4"
    },
    {
      "cell_type": "markdown",
      "metadata": {},
      "source": [
        "Let’s look at another example. Suppose these blood pressure measurements\n",
        "were taken consecutively but may have missing values. We want to create\n",
        "a single value to summarize the blood pressure for the patient. If we\n",
        "only have one blood pressure reading, then we use that value. However,\n",
        "if there is more than one blood pressure reading, then we drop the first\n",
        "observation and average the rest. We assume that not all values are NA.\n",
        "The following code uses an `ifelse()` function to do this by first\n",
        "checking if there is a single reading. If so, it takes the sum removing\n",
        "NA values to find that value. If not, we find all non-NA values and\n",
        "remove the first one before averaging."
      ],
      "id": "7395ed82-0f6b-4569-aee2-0bfbda196b5b"
    },
    {
      "cell_type": "code",
      "execution_count": null,
      "metadata": {},
      "outputs": [
        {
          "output_type": "stream",
          "name": "stdout",
          "text": [
            "[1] 127.5"
          ]
        }
      ],
      "source": [
        "sbp_measurements <- c(131, 110, 125, 145, NA, 130)\n",
        "ifelse(sum(!is.na(sbp_measurements)) == 1, \n",
        "       sum(sbp_measurements, na.rm = TRUE),\n",
        "       mean(sbp_measurements[!is.na(sbp_measurements)][-1]))"
      ],
      "id": "3d03fc01-5057-40d6-bcc7-9c9d584aa1ca"
    },
    {
      "cell_type": "markdown",
      "metadata": {},
      "source": [
        "We could also accomplish the same thing using a *control flow* called an\n",
        "*if-else statement*. An if-else statement follows the following\n",
        "structure. First, we have a conditional statement. If the conditional\n",
        "statement is true, then the code in the if statement, the code within\n",
        "the first set of curly braces, is run. If not, then the code in the else\n",
        "statement is run. In this way, the control flow controls how our code is\n",
        "executed.\n",
        "\n",
        "    if (conditional statement){\n",
        "    block of code if the statement is TRUE\n",
        "    } else{\n",
        "    block of code if the statement is FALSE\n",
        "    }\n",
        "\n",
        "The next code chunk shows an example where the conditional statement is\n",
        "the same as previously. Note that since either the code in the if or\n",
        "else statement is run, the object `avg_val` is always defined."
      ],
      "id": "d071fd48-d906-41f6-9691-ed7e1d726ba9"
    },
    {
      "cell_type": "code",
      "execution_count": null,
      "metadata": {},
      "outputs": [
        {
          "output_type": "stream",
          "name": "stdout",
          "text": [
            "[1] 127.5"
          ]
        }
      ],
      "source": [
        "sbp_measurements <- c(131, 110, 125, 145, NA, 130)\n",
        "if(sum(!is.na(sbp_measurements)) == 1){\n",
        "  avg_val <- sum(sbp_measurements, na.rm = TRUE)\n",
        "} else{\n",
        "  avg_val <- mean(sbp_measurements[!is.na(sbp_measurements)][-1])\n",
        "}\n",
        "avg_val"
      ],
      "id": "dae17409-d856-4b01-8b05-58f55191ba03"
    },
    {
      "cell_type": "markdown",
      "metadata": {},
      "source": [
        "One of the things to notice is that an `if` statement can only take in a\n",
        "*single* Boolean. It cannot take in a vector of Boolean values like the\n",
        "`ifelse()` and `case_when()` functions can. In that way, the `ifelse()`\n",
        "function is useful because it can be applied to multiple instances, but\n",
        "it isn’t as flexible if you want to run multiple lines of code depending\n",
        "on the logical statement since it doesn’t allow you to include a code\n",
        "block.\n",
        "\n",
        "Let’s do another example of both an if-else statement and the `ifelse()`\n",
        "function to demonstrate this. In the following code, we use an if-else\n",
        "statement to determine if someone has hypertension. Note that here we\n",
        "have two lines of code that are run in each part: one line is printing\n",
        "the result and the other is storing a 0/1 value. Try changing the values\n",
        "of `sbp` and `dbp`."
      ],
      "id": "6fe8ba52-5a71-4fe1-bd2b-9b5a0d1efbbe"
    },
    {
      "cell_type": "code",
      "execution_count": null,
      "metadata": {},
      "outputs": [
        {
          "output_type": "stream",
          "name": "stdout",
          "text": [
            "[1] \"No Hypertension\""
          ]
        },
        {
          "output_type": "stream",
          "name": "stdout",
          "text": [
            "[1] 0"
          ]
        }
      ],
      "source": [
        "sbp <- 130\n",
        "dbp <- 80\n",
        "if(sbp > 140 | dbp > 90){\n",
        "  print(\"Hypertension\")\n",
        "  hyp <- 1\n",
        "} else{\n",
        "  print(\"No Hypertension\")\n",
        "  hyp <- 0\n",
        "}"
      ],
      "id": "4c67e544-0cc5-40f2-8b4b-2bdac4414772"
    },
    {
      "cell_type": "markdown",
      "metadata": {},
      "source": [
        "Now let’s replicate this with the `ifelse()` function which allows us to\n",
        "take in paired vectors of blood pressure measurements and return a\n",
        "vector of 0/1 values for each observation. The difference here is that\n",
        "we cannot include a print statement since we are only allowed one return\n",
        "value."
      ],
      "id": "1603b25c-64c2-49eb-bf06-ebb4bf4f9287"
    },
    {
      "cell_type": "code",
      "execution_count": null,
      "metadata": {},
      "outputs": [
        {
          "output_type": "stream",
          "name": "stdout",
          "text": [
            "[1] 0 0 0 1 0"
          ]
        }
      ],
      "source": [
        "sbp_measurements <- c(131, 110, 125, 145, 130)\n",
        "dbp_measurements <- c(90, 75, 80, 90, 80)\n",
        "hyp <- ifelse(sbp_measurements > 140 | dbp_measurements > 90, 1, 0)\n",
        "hyp"
      ],
      "id": "d4396b1d-34b9-4ce5-8bba-e45d3d9d0a4c"
    },
    {
      "cell_type": "markdown",
      "metadata": {},
      "source": [
        "Note that in the previous code we ignored NA values. In this case,\n",
        "changing `sbp` or `dbp` to NA causes an error in the if-else statement.\n",
        "This is because it does not understand which code block to run. The\n",
        "`ifelse()` can handle NA values and returns NA for observations with no\n",
        "TRUE/FALSE value. To accomplish this with the if-else statement, we can\n",
        "add in multiple conditions. In particular, we can add in more statements\n",
        "as follows. In this case, the first time we reach a true conditional\n",
        "statement, we run the code in that block. If no statements are true,\n",
        "then we run the last block of code. So we always run exactly one block\n",
        "of code.\n",
        "\n",
        "    if (conditional statement A){\n",
        "    block of code if the statement A is TRUE\n",
        "    } else if (conditional statement B){\n",
        "    block of code if the statement B is TRUE and statement A is FALSE\n",
        "    } else if (conditional statement C){\n",
        "    block of code if the statement C is TRUE and statement A and B are FALSE\n",
        "    } else{\n",
        "    block of code if statements A, B, and C are all FALSE\n",
        "    }\n",
        "\n",
        "Let’s use this with our hypertension example. In this case, we want to\n",
        "return NA if the answer is not known. Change the values so that you\n",
        "reach each code block. The order of the conditions matters because if\n",
        "the first statement is false, then we know at least one value is not NA.\n",
        "This also means that we would only check the fourth condition if the\n",
        "first three are false, which means that neither of the values can be NA."
      ],
      "id": "922cbb92-45cd-43e5-bbb1-265574739345"
    },
    {
      "cell_type": "code",
      "execution_count": null,
      "metadata": {},
      "outputs": [
        {
          "output_type": "stream",
          "name": "stdout",
          "text": [
            "[1] \"No Hypertension\""
          ]
        }
      ],
      "source": [
        "sbp <- 130\n",
        "dbp <- 80\n",
        "if(is.na(sbp) & is.na(dbp)){\n",
        "  # Both are NA\n",
        "  hyp <- NA\n",
        "} else if ((is.na(sbp) & dbp <= 90) | (is.na(dbp) & sbp <= 140)){\n",
        "  # One is NA and the other is below the threshold\n",
        "  hyp <- \"Inconclusive\"\n",
        "} else if ((is.na(sbp) & dbp > 90) | (is.na(dbp) & sbp > 140)){\n",
        "  # One is NA and the other is above the threshold\n",
        "  hyp <- \"Hypertension\"\n",
        "} else if (dbp > 90 | sbp > 140){\n",
        "  # Neither are NA and at least one is above the threshold\n",
        "  hyp <- \"Hypertension\"\n",
        "} else{\n",
        "  # Neither are NA and neither is above the threshold\n",
        "  hyp <- \"No Hypertension\"\n",
        "}\n",
        "hyp"
      ],
      "id": "cf20ccb4-94d8-4017-84ca-784359d7127d"
    },
    {
      "cell_type": "markdown",
      "metadata": {},
      "source": [
        "We can rearrange these conditions to have one less condition. In the\n",
        "following code chunk, we first check if both are NA. Then we check that\n",
        "at least one value is above the threshold. This statement uses the fact\n",
        "that both can’t be NA since the first condition must be false. Next, in\n",
        "the third statement, if at least one value is NA, then that must mean\n",
        "the other is below the threshold, so the result is inconclusive."
      ],
      "id": "875c1306-55f2-4241-bef0-9ed0b0c1f5f4"
    },
    {
      "cell_type": "code",
      "execution_count": null,
      "metadata": {},
      "outputs": [
        {
          "output_type": "stream",
          "name": "stdout",
          "text": [
            "[1] \"No Hypertension\""
          ]
        }
      ],
      "source": [
        "sbp <- 130\n",
        "dbp <- 80\n",
        "if(is.na(sbp) & is.na(dbp)){\n",
        "  # Both are NA\n",
        "  hyp <- NA\n",
        "} else if (sum(dbp > 90, sbp > 140, na.rm=TRUE) >= 1){\n",
        "  # At least one is above the threshold - sum removes NA values\n",
        "  hyp <- \"Hypertension\"\n",
        "} else if (is.na(sbp) | is.na(dbp)){\n",
        "  # Inconclusive\n",
        "  hyp <- \"Inconclusive\"\n",
        "} else{\n",
        "  # Neither is NA and neither is above the threshold\n",
        "  hyp <- \"No Hypertension\"\n",
        "}\n",
        "hyp"
      ],
      "id": "702486ad-d8d6-486f-b2b4-8e09d3060eed"
    },
    {
      "cell_type": "markdown",
      "metadata": {},
      "source": [
        "This can still seem like a lot of conditions to replicate what we did in\n",
        "a single line with an `ifelse()` function. In general, we prefer a\n",
        "simpler format. Consider the following code. In this case, we have two\n",
        "vectors `x` and `y` that we want to plot. First, we check whether these\n",
        "vectors are numeric. If not, we convert them to factors. Rather than\n",
        "returning a value as we do with an `ifelse()` function, we are changing\n",
        "our data depending on the type of `x` and `y`. Note that these\n",
        "statements do not contain an else statement. That is because we don’t\n",
        "want to run any code when the condition is false. For these\n",
        "single-expression `if` statements, we technically don’t need the curly\n",
        "braces for R to understand what code to run, but we consider it good\n",
        "practice to always wrap your code in curly braces when writing control\n",
        "flows."
      ],
      "id": "ac7ab05a-0847-4383-a086-59735f126122"
    },
    {
      "cell_type": "code",
      "execution_count": null,
      "metadata": {},
      "outputs": [
        {
          "output_type": "display_data",
          "metadata": {},
          "data": {
            "image/png": "[encoded data removed]"
          }
        }
      ],
      "source": [
        "# example x and y vectors\n",
        "y <- factor(rbinom(100, 1, 0.3))\n",
        "x <- rnorm(100, ifelse(y == 0, 0, 0.75)) \n",
        "# change x to factor(rbinom(100, 1, 0.3)) to observe\n",
        "\n",
        "# convert x and y to factors if not numeric!\n",
        "if (!is.numeric(x)){ x <- as.factor(x) }\n",
        "if (!is.numeric(y)){ y <- as.factor(y) }\n",
        "\n",
        "# find type of plot\n",
        "if(is.factor(x) & is.factor(y)){\n",
        "  # barplot \n",
        "  p <- ggplot() + geom_bar(aes(x = x, fill = y), position = \"dodge\")\n",
        "} else if (!is.factor(y) | !(is.factor(x))){\n",
        "  # boxplot when one numeric, one factor\n",
        "  p <- ggplot() + geom_boxplot(aes(x = x, y = y))\n",
        "} else{\n",
        "  # scatter plot when both numeric\n",
        "  p <- ggplot() + geom_point(aes(x = x, y = y))\n",
        "}\n",
        "p"
      ],
      "id": "faae6c86-0614-4c4e-8d6c-efafb8ab23b9"
    },
    {
      "cell_type": "markdown",
      "metadata": {},
      "source": [
        "### Practice Question\n",
        "\n",
        "Use both an if-else statement and a `case_when()` function to find y as\n",
        "given by the following function.\n",
        "$$y = \\begin{cases} 1 & x > 0 \\\\ 0 & x =0 \\\\ 0.1 & x < 0  \\end{cases} $$"
      ],
      "id": "5245e37f-24ac-4552-9796-76209193849b"
    },
    {
      "cell_type": "code",
      "execution_count": null,
      "metadata": {},
      "outputs": [],
      "source": [
        "# Insert your solution here:\n",
        "x <- 2 # change x to different values to check your solution!"
      ],
      "id": "c53d0aa2-96ff-4b03-bd0e-2c4610d4355a"
    },
    {
      "cell_type": "markdown",
      "metadata": {},
      "source": [
        "## Loops \n",
        "\n",
        "Another common control flow we use is loops. Loops capture code chunks\n",
        "we want to run multiple times. For this example, we use the\n",
        "`NHANESSample` data from the **HDSinRdata** package."
      ],
      "id": "9be3dff2-d3b4-4ad3-94e3-d57e0e00f81b"
    },
    {
      "cell_type": "code",
      "execution_count": null,
      "metadata": {},
      "outputs": [],
      "source": [
        "nhanes <- NHANESsample %>% \n",
        "  select(c(RACE, SEX, SBP1, DBP1, HYP, LEAD)) %>%\n",
        "  na.omit()"
      ],
      "id": "ad875069-393b-477e-8896-f0847b40e4b9"
    },
    {
      "cell_type": "markdown",
      "metadata": {},
      "source": [
        "In the following code, we are fitting a simple linear regression model\n",
        "for systolic blood pressure with the single covariate of blood lead\n",
        "level for each race group and storing the associated coefficients and\n",
        "p-values. This code is repetitive, since we repeat the same steps for\n",
        "each group and the only element that is changing is the race group. This\n",
        "makes our code cluttered but also means we are prone to introducing\n",
        "errors. In fact, you can see that we have the wrong coefficient and\n",
        "p-value for the fourth model."
      ],
      "id": "6eeb85a8-56b6-4ec3-8a47-b4566eea79b6"
    },
    {
      "cell_type": "code",
      "execution_count": null,
      "metadata": {},
      "outputs": [
        {
          "output_type": "stream",
          "name": "stdout",
          "text": [
            "               group     coefs         pvals\n",
            "1   Mexican American 0.7829969  3.974547e-11\n",
            "2 Non-Hispanic White 2.4995008 7.806423e-138\n",
            "3 Non-Hispanic Black 2.0053638  1.828387e-51\n",
            "4     Other Hispanic 2.0053638  1.828387e-51\n",
            "5         Other Race 1.9269690  1.064056e-11"
          ]
        }
      ],
      "source": [
        "dat1 <- nhanes[nhanes$RACE == \"Mexican American\", ]\n",
        "mod1 <- summary(lm(SBP1 ~ LEAD, data = dat1))\n",
        "coef1 <- mod1$coefficients[2, 1]\n",
        "pval1 <- mod1$coefficients[2, 4]\n",
        "\n",
        "dat2 <- nhanes[nhanes$RACE == \"Non-Hispanic White\", ]\n",
        "mod2 <- summary(lm(SBP1 ~ LEAD, data = dat2))\n",
        "coef2 <- mod2$coefficients[2, 1]\n",
        "pval2 <- mod2$coefficients[2, 4]\n",
        "\n",
        "dat3 <- nhanes[nhanes$RACE == \"Non-Hispanic Black\", ]\n",
        "mod3 <- summary(lm(SBP1 ~ LEAD, data = dat3))\n",
        "coef3 <- mod3$coefficients[2, 1]\n",
        "pval3 <- mod3$coefficients[2, 4]\n",
        "\n",
        "dat4 <- nhanes[nhanes$RACE == \"Other Hispanic\", ]\n",
        "mod4 <- summary(lm(SBP1 ~ LEAD, data = dat4))\n",
        "coef4 <- mod3$coefficients[2, 1]\n",
        "pval4 <- mod3$coefficients[2, 4]\n",
        "\n",
        "dat5 <- nhanes[nhanes$RACE == \"Other Race\", ]\n",
        "mod5 <- summary(lm(SBP1 ~ LEAD, data = dat5))\n",
        "coef5 <- mod5$coefficients[2, 1]\n",
        "pval5 <- mod5$coefficients[2, 4]\n",
        "\n",
        "data.frame(\n",
        "  group = c(\"Mexican American\", \"Non-Hispanic White\", \n",
        "            \"Non-Hispanic Black\", \"Other Hispanic\", \"Other Race\"),\n",
        "  coefs = c(coef1, coef2, coef3, coef4, coef5),\n",
        "  pvals = c(pval1, pval2, pval3, pval4, pval5))"
      ],
      "id": "683dd703-baa1-4ee3-895d-1c8488f2980c"
    },
    {
      "cell_type": "markdown",
      "metadata": {},
      "source": [
        "We can rewrite this code slightly. In this case, we create an object `i`\n",
        "which represents the index of the group. This change means that the only\n",
        "thing that changes for each group is that we update the value of i. This\n",
        "is much less prone to errors, but still long."
      ],
      "id": "3e9c4202-30d5-4196-ae92-d69cf13bc4b0"
    },
    {
      "cell_type": "code",
      "execution_count": null,
      "metadata": {},
      "outputs": [
        {
          "output_type": "stream",
          "name": "stdout",
          "text": [
            "               group coefs pvals      coef          pval\n",
            "1   Mexican American     0     0 0.7829969  3.974547e-11\n",
            "2 Non-Hispanic White     0     0 2.4995008 7.806423e-138\n",
            "3 Non-Hispanic Black     0     0 2.0053638  1.828387e-51\n",
            "4     Other Hispanic     0     0 1.2420963  8.457748e-09\n",
            "5         Other Race     0     0 1.9269690  1.064056e-11"
          ]
        }
      ],
      "source": [
        "# Initialize results data frame\n",
        "race_values <- c(\"Mexican American\", \"Non-Hispanic White\", \n",
        "            \"Non-Hispanic Black\", \"Other Hispanic\", \"Other Race\")\n",
        "df <- data.frame(\n",
        "  group = race_values,\n",
        "  coefs = 0,\n",
        "  pvals = 0)\n",
        "\n",
        "i <- 1\n",
        "dat <- nhanes[nhanes$RACE == df$group[i], ]\n",
        "mod <- summary(lm(SBP1 ~ LEAD, data = dat))\n",
        "df$coef[i] <- mod$coefficients[2, 1]\n",
        "df$pval[i] <- mod$coefficients[2, 4]\n",
        "\n",
        "i <- 2\n",
        "dat <- nhanes[nhanes$RACE == df$group[i], ]\n",
        "mod <- summary(lm(SBP1 ~ LEAD, data = dat))\n",
        "df$coef[i] <- mod$coefficients[2, 1]\n",
        "df$pval[i] <- mod$coefficients[2, 4]\n",
        "\n",
        "i <- 3\n",
        "dat <- nhanes[nhanes$RACE == df$group[i], ]\n",
        "mod <- summary(lm(SBP1 ~ LEAD, data = dat))\n",
        "df$coef[i] <- mod$coefficients[2, 1]\n",
        "df$pval[i] <- mod$coefficients[2, 4]\n",
        "\n",
        "i <- 4\n",
        "dat <- nhanes[nhanes$RACE == df$group[i], ]\n",
        "mod <- summary(lm(SBP1 ~ LEAD, data = dat))\n",
        "df$coef[i] <- mod$coefficients[2, 1]\n",
        "df$pval[i] <- mod$coefficients[2, 4]\n",
        "\n",
        "i <- 5\n",
        "dat <- nhanes[nhanes$RACE == df$group[i], ]\n",
        "mod <- summary(lm(SBP1 ~ LEAD, data = dat))\n",
        "df$coef[i] <- mod$coefficients[2, 1]\n",
        "df$pval[i] <- mod$coefficients[2, 4]\n",
        "\n",
        "df"
      ],
      "id": "b3390c65-9233-43f5-b981-e8d451d1423f"
    },
    {
      "cell_type": "markdown",
      "metadata": {},
      "source": [
        "We now write this code as a *for loop*. A for loop contains two pieces.\n",
        "First, we have an *iterator*. An iterator traverses an object that has a\n",
        "natural order. Most of the time we traverse over vectors, but we could\n",
        "also have a list object. The second piece is a code block. This code is\n",
        "run for each value of the iterator.\n",
        "\n",
        "    for (iterator_name in object){\n",
        "    code to run for each value of the iterator\n",
        "    }\n",
        "\n",
        "Two simple for loops are given in the next code chunk. In the first\n",
        "loop, our iterator goes through the vector `1:5`, whereas in the second\n",
        "one our iterator iterates through the vector of names. In the first\n",
        "loop, we traverse the numbers 1 to 5 and for each number we run the code\n",
        "that squares the number. In each iteration, we name the current number\n",
        "we are on to be `i`. That means that the first time through the loop `i`\n",
        "is equal to 1, the second time `i` has value 2, etc. In the second loop,\n",
        "our iterator is also a vector, but this time it is `names`. In this\n",
        "case, in each iteration the object `name` represents the current name we\n",
        "are on as we traverse the vector of `names`. In particular, the first\n",
        "time through the loop `name` is equal to “Alice”, the second time `name`\n",
        "has value “Bob”, and so forth."
      ],
      "id": "b5c08149-dd3a-47b3-be42-ddb886c3c5b2"
    },
    {
      "cell_type": "code",
      "execution_count": null,
      "metadata": {},
      "outputs": [
        {
          "output_type": "stream",
          "name": "stdout",
          "text": [
            "[1] 1\n",
            "[1] 1.414214\n",
            "[1] 1.732051\n",
            "[1] 2\n",
            "[1] 2.236068"
          ]
        }
      ],
      "source": [
        "for (i in 1:5){\n",
        "  print(sqrt(i))\n",
        "}"
      ],
      "id": "24a4d9e9-e359-46d7-8fc0-c3fd70031f62"
    },
    {
      "cell_type": "code",
      "execution_count": null,
      "metadata": {},
      "outputs": [
        {
          "output_type": "stream",
          "name": "stdout",
          "text": [
            "[1] \"Hello, Alice\"\n",
            "[1] \"Hello, Bob\"\n",
            "[1] \"Hello, Carol\""
          ]
        }
      ],
      "source": [
        "names <- c(\"Alice\", \"Bob\", \"Carol\")\n",
        "for (name in names){\n",
        "  print(paste(\"Hello,\", name))\n",
        "}"
      ],
      "id": "a3e94dda-a47e-437e-b36e-fb2dac195afd"
    },
    {
      "cell_type": "markdown",
      "metadata": {},
      "source": [
        "Let’s apply this to our example. First, we use a numeric iterator `i`\n",
        "that takes on values 1 to 5. This directly replicates our previous code\n",
        "in which the value of `i` changed for each race group. Our result\n",
        "matches our previous result."
      ],
      "id": "de570afe-0e5c-46b3-b4cb-4d1bfc70ff18"
    },
    {
      "cell_type": "code",
      "execution_count": null,
      "metadata": {},
      "outputs": [
        {
          "output_type": "stream",
          "name": "stdout",
          "text": [
            "               group coefs pvals      coef          pval\n",
            "1   Mexican American     0     0 0.7829969  3.974547e-11\n",
            "2 Non-Hispanic White     0     0 2.4995008 7.806423e-138\n",
            "3 Non-Hispanic Black     0     0 2.0053638  1.828387e-51\n",
            "4     Other Hispanic     0     0 1.2420963  8.457748e-09\n",
            "5         Other Race     0     0 1.9269690  1.064056e-11"
          ]
        }
      ],
      "source": [
        "df <- data.frame(group = race_values, coefs = 0, pvals = 0)\n",
        "\n",
        "for (i in 1:5){\n",
        "  dat <- nhanes[nhanes$RACE == df$group[i], ]\n",
        "  mod <- summary(lm(SBP1 ~ LEAD, data = dat))\n",
        "  df$coef[i] <- mod$coefficients[2, 1]\n",
        "  df$pval[i] <- mod$coefficients[2, 4]\n",
        "}\n",
        "df"
      ],
      "id": "392d3305-19b7-40cc-b310-674d985c49d0"
    },
    {
      "cell_type": "markdown",
      "metadata": {},
      "source": [
        "Let’s show a different way we could write the same loop. This time we\n",
        "set our iterator to be the race group name. In this case, we update how\n",
        "we are storing the coefficients and p-values because we are not\n",
        "iterating over an index."
      ],
      "id": "f66a1af8-4534-4011-b5ba-3d1a6c85486d"
    },
    {
      "cell_type": "code",
      "execution_count": null,
      "metadata": {},
      "outputs": [
        {
          "output_type": "stream",
          "name": "stdout",
          "text": [
            "               group     coefs         pvals\n",
            "1   Mexican American 0.7829969  3.974547e-11\n",
            "2 Non-Hispanic White 2.4995008 7.806423e-138\n",
            "3 Non-Hispanic Black 2.0053638  1.828387e-51\n",
            "4     Other Hispanic 1.2420963  8.457748e-09\n",
            "5         Other Race 1.9269690  1.064056e-11"
          ]
        }
      ],
      "source": [
        "coefs <- c()\n",
        "pvals <- c()\n",
        "\n",
        "for (group in race_values){\n",
        "  dat <- nhanes[nhanes$RACE == group, ]\n",
        "  mod <- summary(lm(SBP1 ~ LEAD, data = dat))\n",
        "  coefs <- c(coefs, mod$coefficients[2, 1])\n",
        "  pvals <- c(pvals, mod$coefficients[2, 4])\n",
        "}\n",
        "\n",
        "data.frame(group = race_values, coefs = coefs, pvals = pvals)"
      ],
      "id": "dc1e502c-e790-4897-8bfe-2b16b2b9b529"
    },
    {
      "cell_type": "markdown",
      "metadata": {},
      "source": [
        "Another type of loop is a *while loop*. A while loop does not have an\n",
        "iterator. Instead, a while loop checks a condition. If the condition is\n",
        "true, the loop runs the code in the code block. If the condition is\n",
        "false, it stops and breaks out of the loop. That is, the code is run\n",
        "until the condition is no longer met.\n",
        "\n",
        "    while (condition){\n",
        "    code to run each iteration\n",
        "    }\n",
        "\n",
        "The following code gives an example of a simple while loop. In this\n",
        "case, the loop keeps dividing `x` by 2 until it is below a certain value\n",
        "of 3. In this case, `x` starts above 3, so the condition starts off\n",
        "being true, and we would divide `x` by 2 to get 50. Since 50 is still\n",
        "greater than 3, the code block is run again, etc. Once `x` reaches a\n",
        "value of 1.5625, the condition no longer holds and the code stops. Note\n",
        "that if the condition was `x > -1`, it would hold indefinitely, creating\n",
        "what is called an infinite loop."
      ],
      "id": "b17c359e-cce3-460d-adf8-cf1e9d26770a"
    },
    {
      "cell_type": "code",
      "execution_count": null,
      "metadata": {},
      "outputs": [
        {
          "output_type": "stream",
          "name": "stdout",
          "text": [
            "[1] 1.5625"
          ]
        }
      ],
      "source": [
        "x <- 100\n",
        "while(x > 3){\n",
        "  x <- x/2\n",
        "}\n",
        "x"
      ],
      "id": "97c3697c-f44b-4e15-a992-fdfeec57df2d"
    },
    {
      "cell_type": "markdown",
      "metadata": {},
      "source": [
        "Let’s do another example with a bigger code block. The following code\n",
        "creates a Poisson process of arrivals where in each iteration we\n",
        "generate the next arrival time by drawing from an exponential\n",
        "distribution. Once we reach the end of the time interval (i.e., the\n",
        "current time is greater than 10) we stop. If we re-run this chunk of\n",
        "code, we might get a different length vector."
      ],
      "id": "1ade2619-6f69-4f79-88dd-54b9b7973aeb"
    },
    {
      "cell_type": "code",
      "execution_count": null,
      "metadata": {},
      "outputs": [],
      "source": [
        "arrivals <- c()\n",
        "time <- 0\n",
        "next_arrival <- rexp(1, rate = 3)\n",
        "\n",
        "# Find the time of all arrivals in the time period [0,10]\n",
        "while(time+next_arrival <= 10){\n",
        "  # Update list of arrivals and current time\n",
        "  arrivals <- c(arrivals, next_arrival)\n",
        "  time <- time + next_arrival\n",
        "  \n",
        "  # Generate the next arrival\n",
        "  next_arrival <- rexp(1, rate = 3)\n",
        "}"
      ],
      "id": "a5f5e59d-6004-43b3-807e-3e5350c79e22"
    },
    {
      "cell_type": "markdown",
      "metadata": {},
      "source": [
        "Given that we have two types of loops, how do you know which to use? You\n",
        "should use a for loop when you know how many times you go through the\n",
        "loop and/or if there is a clear object to iterate through. On the other\n",
        "hand, while loops are useful if you don’t know how many times you go\n",
        "through the loop and you want to iterate through the loop *until*\n",
        "something happens. Within a for loop, you can also break out early using\n",
        "the `break` operator. This stops the loop similar to a while loop but is\n",
        "sometimes less succinct. The following code loops through the blood\n",
        "pressure measurements we defined earlier to find if any of the\n",
        "observations meet the criteria for hypertension."
      ],
      "id": "2fdaf0c7-9268-4349-a191-e8144fd83eb8"
    },
    {
      "cell_type": "code",
      "execution_count": null,
      "metadata": {},
      "outputs": [],
      "source": [
        "# Start with assumption that the result is FALSE\n",
        "res <- FALSE\n",
        "for (i in 1:length(sbp_measurements)){\n",
        "  \n",
        "  # If above threshold, update the result and stop the loop\n",
        "  if (sbp_measurements[i] > 140 | dbp_measurements[i] < 90){\n",
        "    res <- TRUE\n",
        "    break \n",
        "  }\n",
        "}"
      ],
      "id": "8a423df6-27fa-4c99-af93-b3f79d4936f9"
    },
    {
      "cell_type": "markdown",
      "metadata": {},
      "source": [
        "### Practice Question\n",
        "\n",
        "Use a loop to find the smallest integer number `x` such that\n",
        "$2.3^x \\geq 100$. The answer should be 6."
      ],
      "id": "698f96f7-b581-41bf-8e80-1215bcfb6d19"
    },
    {
      "cell_type": "code",
      "execution_count": null,
      "metadata": {},
      "outputs": [],
      "source": [
        "# Insert your solution here:"
      ],
      "id": "3ec86c63-d42f-4e65-be76-48eb6caf1c0b"
    },
    {
      "cell_type": "markdown",
      "metadata": {},
      "source": [
        "## Avoiding Control Flows with Functions\n",
        "\n",
        "We just introduced logic and loops, and now I’m going to tell you to\n",
        "avoid them when you can. Control flows are very useful programming\n",
        "structures, but sometimes the same thing can be done without them. For\n",
        "example, we can find whether there is at least one observation that has\n",
        "hypertension using a single line of code."
      ],
      "id": "57d5a347-cc3d-40c2-b3b0-9099c20da1a9"
    },
    {
      "cell_type": "code",
      "execution_count": null,
      "metadata": {},
      "outputs": [
        {
          "output_type": "stream",
          "name": "stdout",
          "text": [
            "[1] TRUE"
          ]
        }
      ],
      "source": [
        "any(sbp_measurements > 140 | dbp_measurements > 90)"
      ],
      "id": "ce70129c-f44a-4ec6-a4b9-c16a3ac6d7bd"
    },
    {
      "cell_type": "markdown",
      "metadata": {},
      "source": [
        "Another example we saw previously was using an `ifelse()` or\n",
        "`case_when()` function instead of an if-else statement. These two\n",
        "functions are *vectorized functions*. That means that the function is\n",
        "evaluated on a vector of values rather than having to loop through each\n",
        "value separately. Vectorized functions return a vector or results of the\n",
        "same size as your input. That means that if you needed to do a\n",
        "computation on every element of a vector, you could either loop through\n",
        "all the elements and call that function *or* you can take advantage of\n",
        "the vectorized structure and call the function on the whole vector. This\n",
        "is generally cleaner and more efficient. The `any()` function is not a\n",
        "vectorized function since it returns a single TRUE/FALSE value, but it\n",
        "also helps to make our code cleaner.\n",
        "\n",
        "Another tool that can help with brevity in this manner is the family of\n",
        "*apply functions*. These are loop-hiding functions. In\n",
        "**?@sec-data-files**, we saw the `apply(X, MARGIN, FUN)` function. This\n",
        "function called the function `FUN` on either the rows (`MARGIN = 1`) or\n",
        "columns (`MARGIN = 2`) of `X`, which is data frame or matrix `X`. In the\n",
        "next code chunk, we generate a random matrix `X` and compute the column\n",
        "means using a loop and using the `apply()` function. We can see that the\n",
        "version with the `apply()` function is simpler."
      ],
      "id": "e6993802-9888-4b7d-9cb0-e0915c3593a0"
    },
    {
      "cell_type": "code",
      "execution_count": null,
      "metadata": {},
      "outputs": [
        {
          "output_type": "stream",
          "name": "stdout",
          "text": [
            "[1]  0.1114189  0.2882033  0.2810837 -0.1143150  0.3303079"
          ]
        },
        {
          "output_type": "stream",
          "name": "stdout",
          "text": [
            "[1]  0.1114189  0.2882033  0.2810837 -0.1143150  0.3303079"
          ]
        }
      ],
      "source": [
        "X <- matrix(rnorm(100), nrow = 20, ncol = 5)\n",
        "\n",
        "# Apply mean function  \n",
        "apply(X, 2, mean)"
      ],
      "id": "b7bd97e3-2751-4c97-ab91-700e66d6c69d"
    },
    {
      "cell_type": "markdown",
      "metadata": {},
      "source": [
        "Another loop-hiding function is `lapply(X, FUN)`. This function applies\n",
        "the function `X` to each element of `X`. In this case, `X` functions\n",
        "like an iterator, and `FUN` is a function representing what we want to\n",
        "do in each iteration. The result is returned as a list of the function\n",
        "output for each value of `X`. We use this function in the regression\n",
        "context we saw earlier. Here, `X` is our vector of groups, and we have\n",
        "written a custom function to be able to call that code on each group. We\n",
        "learn how to write our own functions in **?@sec-functions**."
      ],
      "id": "e053fdf2-d04d-4660-ae59-a5a1a16e4c24"
    },
    {
      "cell_type": "code",
      "execution_count": null,
      "metadata": {},
      "outputs": [
        {
          "output_type": "stream",
          "name": "stdout",
          "text": [
            "[[1]]\n",
            "    Estimate     Pr(>|t|) \n",
            "7.829969e-01 3.974547e-11 \n",
            "\n",
            "[[2]]\n",
            "     Estimate      Pr(>|t|) \n",
            " 2.499501e+00 7.806423e-138 \n",
            "\n",
            "[[3]]\n",
            "    Estimate     Pr(>|t|) \n",
            "2.005364e+00 1.828387e-51 \n",
            "\n",
            "[[4]]\n",
            "    Estimate     Pr(>|t|) \n",
            "1.242096e+00 8.457748e-09 \n",
            "\n",
            "[[5]]\n",
            "    Estimate     Pr(>|t|) \n",
            "1.926969e+00 1.064056e-11 "
          ]
        }
      ],
      "source": [
        "find_lm_results <- function(group){\n",
        "  # Runs simple linear regression and returns coefficient and p-value\n",
        "  dat <- nhanes[nhanes$RACE == group, ]\n",
        "  mod <- summary(lm(SBP1 ~ LEAD, data = dat))\n",
        "  return(mod$coefficients[2, c(1, 4)])\n",
        "}\n",
        "\n",
        "lapply(race_values, find_lm_results)"
      ],
      "id": "0dd276a0-c749-4396-9824-887b0cc2826f"
    },
    {
      "cell_type": "markdown",
      "metadata": {},
      "source": [
        "Another useful function is `sapply(X, FUN)`. This function operates\n",
        "similarly to `lapply()`. However, it then tries to simplify the output\n",
        "to be either a vector or matrix. You can remember the difference by\n",
        "remembering the l in `lapply()` stands for list, and the s in `sapply()`\n",
        "stands for simplify."
      ],
      "id": "d16c789b-373d-4ada-b236-e49098938044"
    },
    {
      "cell_type": "code",
      "execution_count": null,
      "metadata": {},
      "outputs": [
        {
          "output_type": "stream",
          "name": "stdout",
          "text": [
            "         Mexican American Non-Hispanic White Non-Hispanic Black Other Hispanic\n",
            "Estimate     7.829969e-01       2.499501e+00       2.005364e+00   1.242096e+00\n",
            "Pr(>|t|)     3.974547e-11      7.806423e-138       1.828387e-51   8.457748e-09\n",
            "           Other Race\n",
            "Estimate 1.926969e+00\n",
            "Pr(>|t|) 1.064056e-11"
          ]
        }
      ],
      "source": [
        "sapply(race_values, find_lm_results)"
      ],
      "id": "6eaa9675-5577-4ce8-b89d-a99544fdde1d"
    },
    {
      "cell_type": "markdown",
      "metadata": {},
      "source": [
        "The last loop-hiding function we introduce is `replicate(n, expr)`. This\n",
        "runs the code expression `expr` `n` times and returns the results. By\n",
        "default, this simplifies the output similar to `sapply()`. If you set\n",
        "`simplify=FALSE`, it returns a list. The following code generates a\n",
        "random matrix and computes the column means six times."
      ],
      "id": "f6e805ee-2aa2-4171-b056-2c035efdc136"
    },
    {
      "cell_type": "code",
      "execution_count": null,
      "metadata": {},
      "outputs": [
        {
          "output_type": "stream",
          "name": "stdout",
          "text": [
            "           [,1]        [,2]        [,3]        [,4]        [,5]        [,6]\n",
            "[1,] 0.23285152 -0.62156039  0.08488457 -0.23597406 -0.24253987  0.01598725\n",
            "[2,] 0.08919939  0.13134662  0.17618298 -0.05883019  0.09980756 -0.05026932\n",
            "[3,] 0.11479618 -0.12838127 -0.37322510 -0.08734086 -0.22167111  0.39219703\n",
            "[4,] 0.00436545  0.01580611  0.42609335 -0.09769825 -0.39641573  0.21292576\n",
            "[5,] 0.11231479 -0.58074520  0.28500572  0.06573287  0.02595966 -0.27644404"
          ]
        }
      ],
      "source": [
        "replicate(6, colMeans(matrix(rnorm(100), ncol = 5)))"
      ],
      "id": "1f385b65-94d2-4c58-b338-26de0bafd958"
    },
    {
      "cell_type": "raw",
      "metadata": {
        "raw_mimetype": "text/html"
      },
      "source": [
        "<!--\n",
        "::: {.content-visible when-format=\"html\"}\n",
        "## Recap Video\n",
        "\n",
        "\n",
        "\n",
        "\n",
        "https://www.youtube.com/embed/EU0UJN68OWQ\n",
        "\n",
        "\n",
        "\n",
        "\n",
        "\n",
        "\n",
        ":::\n",
        "-->"
      ],
      "id": "e528d2b5-966b-4dfe-aa12-c446f8374d76"
    },
    {
      "cell_type": "markdown",
      "metadata": {},
      "source": [
        "## Exercises\n",
        "\n",
        "For these exercises, we use the `pain` data from the **HDSinRdata**\n",
        "package. You can use the help operator `?pain` to learn more about the\n",
        "source of these data and to read its column descriptions.\n",
        "\n",
        "1.  Create a new column `PAT_RACE_SIMP` that represents a patient’s race\n",
        "    using three categories: White, Black, or Other. First, do this using\n",
        "    the `case_when()` function. Then, use a loop and if-else statement\n",
        "    to accomplish the same thing.\n",
        "\n",
        "2.  For each category of your new column `PAT_RACE_SIMP`, subset the\n",
        "    data to that group and find the five body regions with the highest\n",
        "    proportion of patients with pain. Your solution should use two\n",
        "    nested loops. Then, rewrite your code without using a loop.\n",
        "\n",
        "3.  The following code sorts a numeric vector `x` but is missing\n",
        "    comments to explain the steps. Read through the code and add your\n",
        "    own comments to explain how this works.\n",
        "\n",
        "    ``` r\n",
        "    x <- c(1,3,0,3,2,6,4)\n",
        "\n",
        "    n <- length(x)\n",
        "    for (i in 1:(n-1)){\n",
        "\n",
        "      next_ind <- i\n",
        "      for (j in (i+1):n){\n",
        "        if (x[j] < x[next_ind]){\n",
        "          next_ind <- j\n",
        "        }\n",
        "      }\n",
        "\n",
        "      temp <- x[i]\n",
        "      x[i] <- x[next_ind]\n",
        "      x[next_ind] <- temp\n",
        "    }\n",
        "\n",
        "    x \n",
        "    ```\n",
        "\n",
        "        [1] 0 1 2 3 3 4 6\n",
        "\n",
        "4.  Write code using a loop that generates a series of Bernoulli random\n",
        "    variables with probability of success of 0.5 until at least $r <- 6$\n",
        "    successes occur. What distribution does this correspond to?"
      ],
      "id": "9e2a2e93-8389-4b21-9164-ecb8c1958d4a"
    }
  ],
  "nbformat": 4,
  "nbformat_minor": 5,
  "metadata": {
    "kernelspec": {
      "display_name": "Python 3",
      "language": "python",
      "name": "python3"
    }
  }
}