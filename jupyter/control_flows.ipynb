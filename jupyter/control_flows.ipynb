{
  "cells": [
    {
      "cell_type": "markdown",
      "metadata": {},
      "source": [
        "# \n",
        "\n",
        "# Logic and Loops\n",
        "\n",
        "Now that we have seen a lot of the functionality of R, we can start to\n",
        "build up more structured code using programming structures. To start, we\n",
        "introduce *control flows*. Control flows are code blocks that determine\n",
        "a sequence of code to be run. The two types of control flows we\n",
        "introduce are if-else blocks and loops."
      ],
      "id": "303f0f07-9973-4699-a7f0-bc13c59fcfc1"
    },
    {
      "cell_type": "code",
      "execution_count": null,
      "metadata": {},
      "outputs": [],
      "source": [
        "library(HDSinRdata)\n",
        "library(tidyverse)"
      ],
      "id": "9cec8f1d-1802-4d0c-94ed-7b6278027d03"
    },
    {
      "cell_type": "markdown",
      "metadata": {},
      "source": [
        "## Logic and Conditional Expressions \n",
        "\n",
        "You may recall that we introduced logical operators in\n",
        "**?@sec-data-files**. We used these operators through conditional\n",
        "expressions such as when we indexed a data frame or the `ifelse()` or\n",
        "`casewhen()` functions. For example, in the following code we have\n",
        "vectors of systolic and diastolic blood pressure measurements, and we\n",
        "write a logical operator to check if at least one of the systolic\n",
        "measurements is above 140 or if at least one of the diastolic\n",
        "measurements is above 90."
      ],
      "id": "ef8d3844-3c35-4424-b31f-7babc8569358"
    },
    {
      "cell_type": "code",
      "execution_count": null,
      "metadata": {},
      "outputs": [
        {
          "output_type": "stream",
          "name": "stdout",
          "text": [
            "[1] TRUE"
          ]
        }
      ],
      "source": [
        "sbp_measurements <- c(131, 110, 125, 145, NA, 130)\n",
        "dbp_measurements <- c(70, NA, 80)\n",
        "any(sbp_measurements > 140, na.rm = TRUE) | \n",
        "  any(dbp_measurements > 90, na.rm = TRUE)"
      ],
      "id": "cf8448a6-efd9-4c0f-b0f1-1c94224ed17c"
    },
    {
      "cell_type": "markdown",
      "metadata": {},
      "source": [
        "Let’s look at another example. Suppose these blood pressure measurements\n",
        "were taken consecutively but may have missing values. We want to create\n",
        "a single value to summarize the blood pressure for the patient. If we\n",
        "only have one blood pressure reading, then we use that value. However,\n",
        "if there is more than one blood pressure reading, then we drop the first\n",
        "observation and average the rest. We assume that not all values are NA.\n",
        "The following code uses an `ifelse()` function to do this by first\n",
        "checking if there is a single reading. If so, it takes the sum removing\n",
        "NA values to find that value. If not, we find all non-NA values and\n",
        "remove the first one before averaging."
      ],
      "id": "f8232286-4b29-4801-93a8-dd75b974ed8b"
    },
    {
      "cell_type": "code",
      "execution_count": null,
      "metadata": {},
      "outputs": [
        {
          "output_type": "stream",
          "name": "stdout",
          "text": [
            "[1] 127.5"
          ]
        }
      ],
      "source": [
        "sbp_measurements <- c(131, 110, 125, 145, NA, 130)\n",
        "ifelse(sum(!is.na(sbp_measurements)) == 1, \n",
        "       sum(sbp_measurements, na.rm = TRUE),\n",
        "       mean(sbp_measurements[!is.na(sbp_measurements)][-1]))"
      ],
      "id": "8b8f3654-1170-4233-880f-8461696e29d2"
    },
    {
      "cell_type": "markdown",
      "metadata": {},
      "source": [
        "We could also accomplish the same thing using a *control flow* called an\n",
        "*if-else statement*. An if-else statement follows the following\n",
        "structure. First, we have a conditional statement. If the conditional\n",
        "statement is true, then the code in the if statement, the code within\n",
        "the first set of curly braces, is run. If not, then the code in the else\n",
        "statement is run. In this way, the control flow controls how our code is\n",
        "executed.\n",
        "\n",
        "    if (conditional statement){\n",
        "    block of code if the statement is TRUE\n",
        "    } else{\n",
        "    block of code if the statement is FALSE\n",
        "    }\n",
        "\n",
        "The next code chunk shows an example where the conditional statement is\n",
        "the same as previously. Note that since either the code in the if or\n",
        "else statement is run, the object `avg_val` is always defined."
      ],
      "id": "e101e5ff-ed10-43b3-a184-1470e3dac098"
    },
    {
      "cell_type": "code",
      "execution_count": null,
      "metadata": {},
      "outputs": [
        {
          "output_type": "stream",
          "name": "stdout",
          "text": [
            "[1] 127.5"
          ]
        }
      ],
      "source": [
        "sbp_measurements <- c(131, 110, 125, 145, NA, 130)\n",
        "if(sum(!is.na(sbp_measurements)) == 1){\n",
        "  avg_val <- sum(sbp_measurements, na.rm = TRUE)\n",
        "} else{\n",
        "  avg_val <- mean(sbp_measurements[!is.na(sbp_measurements)][-1])\n",
        "}\n",
        "avg_val"
      ],
      "id": "c225af68-bacf-438e-b879-9b3e87605be9"
    },
    {
      "cell_type": "markdown",
      "metadata": {},
      "source": [
        "One of the things to notice is that an `if` statement can only take in a\n",
        "*single* Boolean. It cannot take in a vector of Boolean values like the\n",
        "`ifelse()` and `case_when()` functions can. In that way, the `ifelse()`\n",
        "function is useful because it can be applied to multiple instances, but\n",
        "it isn’t as flexible if you want to run multiple lines of code depending\n",
        "on the logical statement since it doesn’t allow you to include a code\n",
        "block.\n",
        "\n",
        "Let’s do another example of both an if-else statement and the `ifelse()`\n",
        "function to demonstrate this. In the following code, we use an if-else\n",
        "statement to determine if someone has hypertension. Note that here we\n",
        "have two lines of code that are run in each part: one line is printing\n",
        "the result and the other is storing a 0/1 value. Try changing the values\n",
        "of `sbp` and `dbp`."
      ],
      "id": "88e078fd-ee17-44f9-ae00-7388e207f535"
    },
    {
      "cell_type": "code",
      "execution_count": null,
      "metadata": {},
      "outputs": [
        {
          "output_type": "stream",
          "name": "stdout",
          "text": [
            "[1] \"No Hypertension\""
          ]
        },
        {
          "output_type": "stream",
          "name": "stdout",
          "text": [
            "[1] 0"
          ]
        }
      ],
      "source": [
        "sbp <- 130\n",
        "dbp <- 80\n",
        "if(sbp > 140 | dbp > 90){\n",
        "  print(\"Hypertension\")\n",
        "  hyp <- 1\n",
        "} else{\n",
        "  print(\"No Hypertension\")\n",
        "  hyp <- 0\n",
        "}"
      ],
      "id": "00c14419-36c8-4699-9a2f-aa0ada37febd"
    },
    {
      "cell_type": "markdown",
      "metadata": {},
      "source": [
        "Now let’s replicate this with the `ifelse()` function which allows us to\n",
        "take in paired vectors of blood pressure measurements and return a\n",
        "vector of 0/1 values for each observation. The difference here is that\n",
        "we cannot include a print statement since we are only allowed one return\n",
        "value."
      ],
      "id": "81981eb5-5696-4f11-9d91-c286d16269d4"
    },
    {
      "cell_type": "code",
      "execution_count": null,
      "metadata": {},
      "outputs": [
        {
          "output_type": "stream",
          "name": "stdout",
          "text": [
            "[1] 0 0 0 1 0"
          ]
        }
      ],
      "source": [
        "sbp_measurements <- c(131, 110, 125, 145, 130)\n",
        "dbp_measurements <- c(90, 75, 80, 90, 80)\n",
        "hyp <- ifelse(sbp_measurements > 140 | dbp_measurements > 90, 1, 0)\n",
        "hyp"
      ],
      "id": "8f5c0a66-d863-4cdc-bf28-748346c15eb6"
    },
    {
      "cell_type": "markdown",
      "metadata": {},
      "source": [
        "Note that in the previous code we ignored NA values. In this case,\n",
        "changing `sbp` or `dbp` to NA causes an error in the if-else statement.\n",
        "This is because it does not understand which code block to run. The\n",
        "`ifelse()` can handle NA values and returns NA for observations with no\n",
        "TRUE/FALSE value. To accomplish this with the if-else statement, we can\n",
        "add in multiple conditions. In particular, we can add in more statements\n",
        "as follows. In this case, the first time we reach a true conditional\n",
        "statement, we run the code in that block. If no statements are true,\n",
        "then we run the last block of code. So we always run exactly one block\n",
        "of code.\n",
        "\n",
        "    if (conditional statement A){\n",
        "    block of code if the statement A is TRUE\n",
        "    } else if (conditional statement B){\n",
        "    block of code if the statement B is TRUE and statement A is FALSE\n",
        "    } else if (conditional statement C){\n",
        "    block of code if the statement C is TRUE and statement A and B are FALSE\n",
        "    } else{\n",
        "    block of code if statements A, B, and C are all FALSE\n",
        "    }\n",
        "\n",
        "Let’s use this with our hypertension example. In this case, we want to\n",
        "return NA if the answer is not known. Change the values so that you\n",
        "reach each code block. The order of the conditions matters because if\n",
        "the first statement is false, then we know at least one value is not NA.\n",
        "This also means that we would only check the fourth condition if the\n",
        "first three are false, which means that neither of the values can be NA."
      ],
      "id": "9c540f90-00bd-4611-85ea-b0e50aa6e1ce"
    },
    {
      "cell_type": "code",
      "execution_count": null,
      "metadata": {},
      "outputs": [
        {
          "output_type": "stream",
          "name": "stdout",
          "text": [
            "[1] \"No Hypertension\""
          ]
        }
      ],
      "source": [
        "sbp <- 130\n",
        "dbp <- 80\n",
        "if(is.na(sbp) & is.na(dbp)){\n",
        "  # Both are NA\n",
        "  hyp <- NA\n",
        "} else if ((is.na(sbp) & dbp <= 90) | (is.na(dbp) & sbp <= 140)){\n",
        "  # One is NA and the other is below the threshold\n",
        "  hyp <- \"Inconclusive\"\n",
        "} else if ((is.na(sbp) & dbp > 90) | (is.na(dbp) & sbp > 140)){\n",
        "  # One is NA and the other is above the threshold\n",
        "  hyp <- \"Hypertension\"\n",
        "} else if (dbp > 90 | sbp > 140){\n",
        "  # Neither are NA and at least one is above the threshold\n",
        "  hyp <- \"Hypertension\"\n",
        "} else{\n",
        "  # Neither are NA and neither is above the threshold\n",
        "  hyp <- \"No Hypertension\"\n",
        "}\n",
        "hyp"
      ],
      "id": "a2ca00d2-4f0b-4b7b-a867-855588c87335"
    },
    {
      "cell_type": "markdown",
      "metadata": {},
      "source": [
        "We can rearrange these conditions to have one less condition. In the\n",
        "following code chunk, we first check if both are NA. Then we check that\n",
        "at least one value is above the threshold. This statement uses the fact\n",
        "that both can’t be NA since the first condition must be false. Next, in\n",
        "the third statement, if at least one value is NA, then that must mean\n",
        "the other is below the threshold, so the result is inconclusive."
      ],
      "id": "5a6502de-fe13-40ab-a86e-6b4fa79694dd"
    },
    {
      "cell_type": "code",
      "execution_count": null,
      "metadata": {},
      "outputs": [
        {
          "output_type": "stream",
          "name": "stdout",
          "text": [
            "[1] \"No Hypertension\""
          ]
        }
      ],
      "source": [
        "sbp <- 130\n",
        "dbp <- 80\n",
        "if(is.na(sbp) & is.na(dbp)){\n",
        "  # Both are NA\n",
        "  hyp <- NA\n",
        "} else if (sum(dbp > 90, sbp > 140, na.rm=TRUE) >= 1){\n",
        "  # At least one is above the threshold - sum removes NA values\n",
        "  hyp <- \"Hypertension\"\n",
        "} else if (is.na(sbp) | is.na(dbp)){\n",
        "  # Inconclusive\n",
        "  hyp <- \"Inconclusive\"\n",
        "} else{\n",
        "  # Neither is NA and neither is above the threshold\n",
        "  hyp <- \"No Hypertension\"\n",
        "}\n",
        "hyp"
      ],
      "id": "96264471-3ee0-4417-9c71-f89790732634"
    },
    {
      "cell_type": "markdown",
      "metadata": {},
      "source": [
        "This can still seem like a lot of conditions to replicate what we did in\n",
        "a single line with an `ifelse()` function. In general, we prefer a\n",
        "simpler format. Consider the following code. In this case, we have two\n",
        "vectors `x` and `y` that we want to plot. First, we check whether these\n",
        "vectors are numeric. If not, we convert them to factors. Rather than\n",
        "returning a value as we do with an `ifelse()` function, we are changing\n",
        "our data depending on the type of `x` and `y`. Note that these\n",
        "statements do not contain an else statement. That is because we don’t\n",
        "want to run any code when the condition is false. For these\n",
        "single-expression `if` statements, we technically don’t need the curly\n",
        "braces for R to understand what code to run, but we consider it good\n",
        "practice to always wrap your code in curly braces when writing control\n",
        "flows."
      ],
      "id": "d19dda35-ac5b-4711-ad21-6578aeb374f7"
    },
    {
      "cell_type": "code",
      "execution_count": null,
      "metadata": {},
      "outputs": [
        {
          "output_type": "display_data",
          "metadata": {},
          "data": {
            "image/png": "[encoded data removed]"
          }
        }
      ],
      "source": [
        "# example x and y vectors\n",
        "y <- factor(rbinom(100, 1, 0.3))\n",
        "x <- rnorm(100, ifelse(y == 0, 0, 0.75)) \n",
        "# change x to factor(rbinom(100, 1, 0.3)) to observe\n",
        "\n",
        "# convert x and y to factors if not numeric!\n",
        "if (!is.numeric(x)){ x <- as.factor(x) }\n",
        "if (!is.numeric(y)){ y <- as.factor(y) }\n",
        "\n",
        "# find type of plot\n",
        "if(is.factor(x) & is.factor(y)){\n",
        "  # barplot \n",
        "  p <- ggplot() + geom_bar(aes(x = x, fill = y), position = \"dodge\")\n",
        "} else if (!is.factor(y) | !(is.factor(x))){\n",
        "  # boxplot when one numeric, one factor\n",
        "  p <- ggplot() + geom_boxplot(aes(x = x, y = y))\n",
        "} else{\n",
        "  # scatter plot when both numeric\n",
        "  p <- ggplot() + geom_point(aes(x = x, y = y))\n",
        "}\n",
        "p"
      ],
      "id": "d702ba37-3bda-487c-8edb-0007c2e16771"
    },
    {
      "cell_type": "markdown",
      "metadata": {},
      "source": [
        "### Practice Question\n",
        "\n",
        "Use both an if-else statement and a `case_when()` function to find y as\n",
        "given by the following function.\n",
        "$$y = \\begin{cases} 1 & x > 0 \\\\ 0 & x =0 \\\\ 0.1 & x < 0  \\end{cases} $$"
      ],
      "id": "46ae9eb4-b243-474e-a8a7-ae307600aef5"
    },
    {
      "cell_type": "code",
      "execution_count": null,
      "metadata": {},
      "outputs": [],
      "source": [
        "# Insert your solution here:\n",
        "x <- 2 # change x to different values to check your solution!"
      ],
      "id": "d6d1ed0c-6d45-45fb-93f8-d84bc4e6cf9e"
    },
    {
      "cell_type": "markdown",
      "metadata": {},
      "source": [
        "## Loops \n",
        "\n",
        "Another common control flow we use is loops. Loops capture code chunks\n",
        "we want to run multiple times. For this example, we use the\n",
        "`NHANESSample` data from the **HDSinRdata** package."
      ],
      "id": "158fd4a1-5181-4339-bc6d-8d75d64277ce"
    },
    {
      "cell_type": "code",
      "execution_count": null,
      "metadata": {},
      "outputs": [],
      "source": [
        "nhanes <- NHANESsample %>% \n",
        "  select(c(RACE, SEX, SBP1, DBP1, HYP, LEAD)) %>%\n",
        "  na.omit()"
      ],
      "id": "f7f109ba-6ad5-40b4-a841-3e7ac50138bd"
    },
    {
      "cell_type": "markdown",
      "metadata": {},
      "source": [
        "In the following code, we are fitting a simple linear regression model\n",
        "for systolic blood pressure with the single covariate of blood lead\n",
        "level for each race group and storing the associated coefficients and\n",
        "p-values. This code is repetitive, since we repeat the same steps for\n",
        "each group and the only element that is changing is the race group. This\n",
        "makes our code cluttered but also means we are prone to introducing\n",
        "errors. In fact, you can see that we have the wrong coefficient and\n",
        "p-value for the fourth model."
      ],
      "id": "dd0a758a-ac9e-47c1-a72c-48c07306a0e0"
    },
    {
      "cell_type": "code",
      "execution_count": null,
      "metadata": {},
      "outputs": [
        {
          "output_type": "stream",
          "name": "stdout",
          "text": [
            "               group     coefs         pvals\n",
            "1   Mexican American 0.7829969  3.974547e-11\n",
            "2 Non-Hispanic White 2.4995008 7.806423e-138\n",
            "3 Non-Hispanic Black 2.0053638  1.828387e-51\n",
            "4     Other Hispanic 2.0053638  1.828387e-51\n",
            "5         Other Race 1.9269690  1.064056e-11"
          ]
        }
      ],
      "source": [
        "dat1 <- nhanes[nhanes$RACE == \"Mexican American\", ]\n",
        "mod1 <- summary(lm(SBP1 ~ LEAD, data = dat1))\n",
        "coef1 <- mod1$coefficients[2, 1]\n",
        "pval1 <- mod1$coefficients[2, 4]\n",
        "\n",
        "dat2 <- nhanes[nhanes$RACE == \"Non-Hispanic White\", ]\n",
        "mod2 <- summary(lm(SBP1 ~ LEAD, data = dat2))\n",
        "coef2 <- mod2$coefficients[2, 1]\n",
        "pval2 <- mod2$coefficients[2, 4]\n",
        "\n",
        "dat3 <- nhanes[nhanes$RACE == \"Non-Hispanic Black\", ]\n",
        "mod3 <- summary(lm(SBP1 ~ LEAD, data = dat3))\n",
        "coef3 <- mod3$coefficients[2, 1]\n",
        "pval3 <- mod3$coefficients[2, 4]\n",
        "\n",
        "dat4 <- nhanes[nhanes$RACE == \"Other Hispanic\", ]\n",
        "mod4 <- summary(lm(SBP1 ~ LEAD, data = dat4))\n",
        "coef4 <- mod3$coefficients[2, 1]\n",
        "pval4 <- mod3$coefficients[2, 4]\n",
        "\n",
        "dat5 <- nhanes[nhanes$RACE == \"Other Race\", ]\n",
        "mod5 <- summary(lm(SBP1 ~ LEAD, data = dat5))\n",
        "coef5 <- mod5$coefficients[2, 1]\n",
        "pval5 <- mod5$coefficients[2, 4]\n",
        "\n",
        "data.frame(\n",
        "  group = c(\"Mexican American\", \"Non-Hispanic White\", \n",
        "            \"Non-Hispanic Black\", \"Other Hispanic\", \"Other Race\"),\n",
        "  coefs = c(coef1, coef2, coef3, coef4, coef5),\n",
        "  pvals = c(pval1, pval2, pval3, pval4, pval5))"
      ],
      "id": "c056450f-7c71-4a9f-97f4-b5c8a2a715c9"
    },
    {
      "cell_type": "markdown",
      "metadata": {},
      "source": [
        "We can rewrite this code slightly. In this case, we create an object `i`\n",
        "which represents the index of the group. This change means that the only\n",
        "thing that changes for each group is that we update the value of i. This\n",
        "is much less prone to errors, but still long."
      ],
      "id": "6344a467-70e4-4b4c-b38e-19be12916206"
    },
    {
      "cell_type": "code",
      "execution_count": null,
      "metadata": {},
      "outputs": [
        {
          "output_type": "stream",
          "name": "stdout",
          "text": [
            "               group coefs pvals      coef          pval\n",
            "1   Mexican American     0     0 0.7829969  3.974547e-11\n",
            "2 Non-Hispanic White     0     0 2.4995008 7.806423e-138\n",
            "3 Non-Hispanic Black     0     0 2.0053638  1.828387e-51\n",
            "4     Other Hispanic     0     0 1.2420963  8.457748e-09\n",
            "5         Other Race     0     0 1.9269690  1.064056e-11"
          ]
        }
      ],
      "source": [
        "# Initialize results data frame\n",
        "race_values <- c(\"Mexican American\", \"Non-Hispanic White\", \n",
        "            \"Non-Hispanic Black\", \"Other Hispanic\", \"Other Race\")\n",
        "df <- data.frame(\n",
        "  group = race_values,\n",
        "  coefs = 0,\n",
        "  pvals = 0)\n",
        "\n",
        "i <- 1\n",
        "dat <- nhanes[nhanes$RACE == df$group[i], ]\n",
        "mod <- summary(lm(SBP1 ~ LEAD, data = dat))\n",
        "df$coef[i] <- mod$coefficients[2, 1]\n",
        "df$pval[i] <- mod$coefficients[2, 4]\n",
        "\n",
        "i <- 2\n",
        "dat <- nhanes[nhanes$RACE == df$group[i], ]\n",
        "mod <- summary(lm(SBP1 ~ LEAD, data = dat))\n",
        "df$coef[i] <- mod$coefficients[2, 1]\n",
        "df$pval[i] <- mod$coefficients[2, 4]\n",
        "\n",
        "i <- 3\n",
        "dat <- nhanes[nhanes$RACE == df$group[i], ]\n",
        "mod <- summary(lm(SBP1 ~ LEAD, data = dat))\n",
        "df$coef[i] <- mod$coefficients[2, 1]\n",
        "df$pval[i] <- mod$coefficients[2, 4]\n",
        "\n",
        "i <- 4\n",
        "dat <- nhanes[nhanes$RACE == df$group[i], ]\n",
        "mod <- summary(lm(SBP1 ~ LEAD, data = dat))\n",
        "df$coef[i] <- mod$coefficients[2, 1]\n",
        "df$pval[i] <- mod$coefficients[2, 4]\n",
        "\n",
        "i <- 5\n",
        "dat <- nhanes[nhanes$RACE == df$group[i], ]\n",
        "mod <- summary(lm(SBP1 ~ LEAD, data = dat))\n",
        "df$coef[i] <- mod$coefficients[2, 1]\n",
        "df$pval[i] <- mod$coefficients[2, 4]\n",
        "\n",
        "df"
      ],
      "id": "ebd3c19c-e336-4fdc-b2bc-22400addd96e"
    },
    {
      "cell_type": "markdown",
      "metadata": {},
      "source": [
        "We now write this code as a *for loop*. A for loop contains two pieces.\n",
        "First, we have an *iterator*. An iterator traverses an object that has a\n",
        "natural order. Most of the time we traverse over vectors, but we could\n",
        "also have a list object. The second piece is a code block. This code is\n",
        "run for each value of the iterator.\n",
        "\n",
        "    for (iterator_name in object){\n",
        "    code to run for each value of the iterator\n",
        "    }\n",
        "\n",
        "Two simple for loops are given in the next code chunk. In the first\n",
        "loop, our iterator goes through the vector `1:5`, whereas in the second\n",
        "one our iterator iterates through the vector of names. In the first\n",
        "loop, we traverse the numbers 1 to 5 and for each number we run the code\n",
        "that squares the number. In each iteration, we name the current number\n",
        "we are on to be `i`. That means that the first time through the loop `i`\n",
        "is equal to 1, the second time `i` has value 2, etc. In the second loop,\n",
        "our iterator is also a vector, but this time it is `names`. In this\n",
        "case, in each iteration the object `name` represents the current name we\n",
        "are on as we traverse the vector of `names`. In particular, the first\n",
        "time through the loop `name` is equal to “Alice”, the second time `name`\n",
        "has value “Bob”, and so forth."
      ],
      "id": "896fd10a-6d72-4164-947e-6be1a25b727c"
    },
    {
      "cell_type": "code",
      "execution_count": null,
      "metadata": {},
      "outputs": [
        {
          "output_type": "stream",
          "name": "stdout",
          "text": [
            "[1] 1\n",
            "[1] 1.414214\n",
            "[1] 1.732051\n",
            "[1] 2\n",
            "[1] 2.236068"
          ]
        }
      ],
      "source": [
        "for (i in 1:5){\n",
        "  print(sqrt(i))\n",
        "}"
      ],
      "id": "e7cadc1c-a915-438b-80c7-b5c95fdbba29"
    },
    {
      "cell_type": "code",
      "execution_count": null,
      "metadata": {},
      "outputs": [
        {
          "output_type": "stream",
          "name": "stdout",
          "text": [
            "[1] \"Hello, Alice\"\n",
            "[1] \"Hello, Bob\"\n",
            "[1] \"Hello, Carol\""
          ]
        }
      ],
      "source": [
        "names <- c(\"Alice\", \"Bob\", \"Carol\")\n",
        "for (name in names){\n",
        "  print(paste(\"Hello,\", name))\n",
        "}"
      ],
      "id": "2fd681a2-614b-473c-9b46-1e4b44eea53d"
    },
    {
      "cell_type": "markdown",
      "metadata": {},
      "source": [
        "Let’s apply this to our example. First, we use a numeric iterator `i`\n",
        "that takes on values 1 to 5. This directly replicates our previous code\n",
        "in which the value of `i` changed for each race group. Our result\n",
        "matches our previous result."
      ],
      "id": "0fc72d22-c050-4397-8542-423320f1baa7"
    },
    {
      "cell_type": "code",
      "execution_count": null,
      "metadata": {},
      "outputs": [
        {
          "output_type": "stream",
          "name": "stdout",
          "text": [
            "               group coefs pvals      coef          pval\n",
            "1   Mexican American     0     0 0.7829969  3.974547e-11\n",
            "2 Non-Hispanic White     0     0 2.4995008 7.806423e-138\n",
            "3 Non-Hispanic Black     0     0 2.0053638  1.828387e-51\n",
            "4     Other Hispanic     0     0 1.2420963  8.457748e-09\n",
            "5         Other Race     0     0 1.9269690  1.064056e-11"
          ]
        }
      ],
      "source": [
        "df <- data.frame(group = race_values, coefs = 0, pvals = 0)\n",
        "\n",
        "for (i in 1:5){\n",
        "  dat <- nhanes[nhanes$RACE == df$group[i], ]\n",
        "  mod <- summary(lm(SBP1 ~ LEAD, data = dat))\n",
        "  df$coef[i] <- mod$coefficients[2, 1]\n",
        "  df$pval[i] <- mod$coefficients[2, 4]\n",
        "}\n",
        "df"
      ],
      "id": "41f321ba-0f9f-4a14-ab57-12cb2b298275"
    },
    {
      "cell_type": "markdown",
      "metadata": {},
      "source": [
        "Let’s show a different way we could write the same loop. This time we\n",
        "set our iterator to be the race group name. In this case, we update how\n",
        "we are storing the coefficients and p-values because we are not\n",
        "iterating over an index."
      ],
      "id": "9725e01e-0790-4af8-85bf-a1c23fddaa47"
    },
    {
      "cell_type": "code",
      "execution_count": null,
      "metadata": {},
      "outputs": [
        {
          "output_type": "stream",
          "name": "stdout",
          "text": [
            "               group     coefs         pvals\n",
            "1   Mexican American 0.7829969  3.974547e-11\n",
            "2 Non-Hispanic White 2.4995008 7.806423e-138\n",
            "3 Non-Hispanic Black 2.0053638  1.828387e-51\n",
            "4     Other Hispanic 1.2420963  8.457748e-09\n",
            "5         Other Race 1.9269690  1.064056e-11"
          ]
        }
      ],
      "source": [
        "coefs <- c()\n",
        "pvals <- c()\n",
        "\n",
        "for (group in race_values){\n",
        "  dat <- nhanes[nhanes$RACE == group, ]\n",
        "  mod <- summary(lm(SBP1 ~ LEAD, data = dat))\n",
        "  coefs <- c(coefs, mod$coefficients[2, 1])\n",
        "  pvals <- c(pvals, mod$coefficients[2, 4])\n",
        "}\n",
        "\n",
        "data.frame(group = race_values, coefs = coefs, pvals = pvals)"
      ],
      "id": "d59668ef-b243-4f8d-9f94-eeda2cff0297"
    },
    {
      "cell_type": "markdown",
      "metadata": {},
      "source": [
        "Another type of loop is a *while loop*. A while loop does not have an\n",
        "iterator. Instead, a while loop checks a condition. If the condition is\n",
        "true, the loop runs the code in the code block. If the condition is\n",
        "false, it stops and breaks out of the loop. That is, the code is run\n",
        "until the condition is no longer met.\n",
        "\n",
        "    while (condition){\n",
        "    code to run each iteration\n",
        "    }\n",
        "\n",
        "The following code gives an example of a simple while loop. In this\n",
        "case, the loop keeps dividing `x` by 2 until it is below a certain value\n",
        "of 3. In this case, `x` starts above 3, so the condition starts off\n",
        "being true, and we would divide `x` by 2 to get 50. Since 50 is still\n",
        "greater than 3, the code block is run again, etc. Once `x` reaches a\n",
        "value of 1.5625, the condition no longer holds and the code stops. Note\n",
        "that if the condition was `x > -1`, it would hold indefinitely, creating\n",
        "what is called an infinite loop."
      ],
      "id": "f2aaa341-ebfd-4cea-83d9-18f0d4c6aeac"
    },
    {
      "cell_type": "code",
      "execution_count": null,
      "metadata": {},
      "outputs": [
        {
          "output_type": "stream",
          "name": "stdout",
          "text": [
            "[1] 1.5625"
          ]
        }
      ],
      "source": [
        "x <- 100\n",
        "while(x > 3){\n",
        "  x <- x/2\n",
        "}\n",
        "x"
      ],
      "id": "803f9e42-76f8-41a6-bcd1-76f522b1e1cc"
    },
    {
      "cell_type": "markdown",
      "metadata": {},
      "source": [
        "Let’s do another example with a bigger code block. The following code\n",
        "creates a Poisson process of arrivals where in each iteration we\n",
        "generate the next arrival time by drawing from an exponential\n",
        "distribution. Once we reach the end of the time interval (i.e., the\n",
        "current time is greater than 10) we stop. If we re-run this chunk of\n",
        "code, we might get a different length vector."
      ],
      "id": "66a6b4fc-f524-435c-963e-5f65a8a346d3"
    },
    {
      "cell_type": "code",
      "execution_count": null,
      "metadata": {},
      "outputs": [],
      "source": [
        "arrivals <- c()\n",
        "time <- 0\n",
        "next_arrival <- rexp(1, rate = 3)\n",
        "\n",
        "# Find the time of all arrivals in the time period [0,10]\n",
        "while(time+next_arrival <= 10){\n",
        "  # Update list of arrivals and current time\n",
        "  arrivals <- c(arrivals, next_arrival)\n",
        "  time <- time + next_arrival\n",
        "  \n",
        "  # Generate the next arrival\n",
        "  next_arrival <- rexp(1, rate = 3)\n",
        "}"
      ],
      "id": "33c96003-6395-4a89-9bb8-19f784cb461e"
    },
    {
      "cell_type": "markdown",
      "metadata": {},
      "source": [
        "Given that we have two types of loops, how do you know which to use? You\n",
        "should use a for loop when you know how many times you go through the\n",
        "loop and/or if there is a clear object to iterate through. On the other\n",
        "hand, while loops are useful if you don’t know how many times you go\n",
        "through the loop and you want to iterate through the loop *until*\n",
        "something happens. Within a for loop, you can also break out early using\n",
        "the `break` operator. This stops the loop similar to a while loop but is\n",
        "sometimes less succinct. The following code loops through the blood\n",
        "pressure measurements we defined earlier to find if any of the\n",
        "observations meet the criteria for hypertension."
      ],
      "id": "675301b2-823c-4237-9f8c-9cfeb93407d6"
    },
    {
      "cell_type": "code",
      "execution_count": null,
      "metadata": {},
      "outputs": [],
      "source": [
        "# Start with assumption that the result is FALSE\n",
        "res <- FALSE\n",
        "for (i in 1:length(sbp_measurements)){\n",
        "  \n",
        "  # If above threshold, update the result and stop the loop\n",
        "  if (sbp_measurements[i] > 140 | dbp_measurements[i] < 90){\n",
        "    res <- TRUE\n",
        "    break \n",
        "  }\n",
        "}"
      ],
      "id": "68ebf251-01b3-4093-b9f8-131b4b7ef8d2"
    },
    {
      "cell_type": "markdown",
      "metadata": {},
      "source": [
        "### Practice Question\n",
        "\n",
        "Use a loop to find the smallest integer number `x` such that\n",
        "$2.3^x \\geq 100$. The answer should be 6."
      ],
      "id": "8f186143-296a-4a6d-8f0a-67b1b634bd39"
    },
    {
      "cell_type": "code",
      "execution_count": null,
      "metadata": {},
      "outputs": [],
      "source": [
        "# Insert your solution here:"
      ],
      "id": "b8c241da-bef1-41e0-9f11-0f5aade6793b"
    },
    {
      "cell_type": "markdown",
      "metadata": {},
      "source": [
        "## Avoiding Control Flows with Functions\n",
        "\n",
        "We just introduced logic and loops, and now I’m going to tell you to\n",
        "avoid them when you can. Control flows are very useful programming\n",
        "structures, but sometimes the same thing can be done without them. For\n",
        "example, we can find whether there is at least one observation that has\n",
        "hypertension using a single line of code."
      ],
      "id": "6c4b2c72-b235-4a17-978b-a9478d0a2f2d"
    },
    {
      "cell_type": "code",
      "execution_count": null,
      "metadata": {},
      "outputs": [
        {
          "output_type": "stream",
          "name": "stdout",
          "text": [
            "[1] TRUE"
          ]
        }
      ],
      "source": [
        "any(sbp_measurements > 140 | dbp_measurements > 90)"
      ],
      "id": "4b1152d5-f640-4b28-829a-885ba835a433"
    },
    {
      "cell_type": "markdown",
      "metadata": {},
      "source": [
        "Another example we saw previously was using an `ifelse()` or\n",
        "`case_when()` function instead of an if-else statement. These two\n",
        "functions are *vectorized functions*. That means that the function is\n",
        "evaluated on a vector of values rather than having to loop through each\n",
        "value separately. Vectorized functions return a vector or results of the\n",
        "same size as your input. That means that if you needed to do a\n",
        "computation on every element of a vector, you could either loop through\n",
        "all the elements and call that function *or* you can take advantage of\n",
        "the vectorized structure and call the function on the whole vector. This\n",
        "is generally cleaner and more efficient. The `any()` function is not a\n",
        "vectorized function since it returns a single TRUE/FALSE value, but it\n",
        "also helps to make our code cleaner.\n",
        "\n",
        "Another tool that can help with brevity in this manner is the family of\n",
        "*apply functions*. These are loop-hiding functions. In\n",
        "**?@sec-data-files**, we saw the `apply(X, MARGIN, FUN)` function. This\n",
        "function called the function `FUN` on either the rows (`MARGIN = 1`) or\n",
        "columns (`MARGIN = 2`) of `X`, which is data frame or matrix `X`. In the\n",
        "next code chunk, we generate a random matrix `X` and compute the column\n",
        "means using a loop and using the `apply()` function. We can see that the\n",
        "version with the `apply()` function is simpler."
      ],
      "id": "b1968e03-90ce-4ab3-8e60-af4b30f7714b"
    },
    {
      "cell_type": "code",
      "execution_count": null,
      "metadata": {},
      "outputs": [
        {
          "output_type": "stream",
          "name": "stdout",
          "text": [
            "[1] -0.20587186 -0.06002504 -0.15340546  0.34483073 -0.06263424"
          ]
        },
        {
          "output_type": "stream",
          "name": "stdout",
          "text": [
            "[1] -0.20587186 -0.06002504 -0.15340546  0.34483073 -0.06263424"
          ]
        }
      ],
      "source": [
        "X <- matrix(rnorm(100), nrow = 20, ncol = 5)\n",
        "\n",
        "# Apply mean function  \n",
        "apply(X, 2, mean)"
      ],
      "id": "df4eb712-fdf6-4929-8b3b-45c680220838"
    },
    {
      "cell_type": "markdown",
      "metadata": {},
      "source": [
        "Another loop-hiding function is `lapply(X, FUN)`. This function applies\n",
        "the function `X` to each element of `X`. In this case, `X` functions\n",
        "like an iterator, and `FUN` is a function representing what we want to\n",
        "do in each iteration. The result is returned as a list of the function\n",
        "output for each value of `X`. We use this function in the regression\n",
        "context we saw earlier. Here, `X` is our vector of groups, and we have\n",
        "written a custom function to be able to call that code on each group. We\n",
        "learn how to write our own functions in **?@sec-functions**."
      ],
      "id": "a8e8632d-612a-4b37-b805-f6d453bb68fd"
    },
    {
      "cell_type": "code",
      "execution_count": null,
      "metadata": {},
      "outputs": [
        {
          "output_type": "stream",
          "name": "stdout",
          "text": [
            "[[1]]\n",
            "    Estimate     Pr(>|t|) \n",
            "7.829969e-01 3.974547e-11 \n",
            "\n",
            "[[2]]\n",
            "     Estimate      Pr(>|t|) \n",
            " 2.499501e+00 7.806423e-138 \n",
            "\n",
            "[[3]]\n",
            "    Estimate     Pr(>|t|) \n",
            "2.005364e+00 1.828387e-51 \n",
            "\n",
            "[[4]]\n",
            "    Estimate     Pr(>|t|) \n",
            "1.242096e+00 8.457748e-09 \n",
            "\n",
            "[[5]]\n",
            "    Estimate     Pr(>|t|) \n",
            "1.926969e+00 1.064056e-11 "
          ]
        }
      ],
      "source": [
        "find_lm_results <- function(group){\n",
        "  # Runs simple linear regression and returns coefficient and p-value\n",
        "  dat <- nhanes[nhanes$RACE == group, ]\n",
        "  mod <- summary(lm(SBP1 ~ LEAD, data = dat))\n",
        "  return(mod$coefficients[2, c(1, 4)])\n",
        "}\n",
        "\n",
        "lapply(race_values, find_lm_results)"
      ],
      "id": "9f3a5097-1f35-456b-b04a-6b1eea4c7028"
    },
    {
      "cell_type": "markdown",
      "metadata": {},
      "source": [
        "Another useful function is `sapply(X, FUN)`. This function operates\n",
        "similarly to `lapply()`. However, it then tries to simplify the output\n",
        "to be either a vector or matrix. You can remember the difference by\n",
        "remembering the l in `lapply()` stands for list, and the s in `sapply()`\n",
        "stands for simplify."
      ],
      "id": "c1997e06-edcc-47da-9231-41e0e7488d07"
    },
    {
      "cell_type": "code",
      "execution_count": null,
      "metadata": {},
      "outputs": [
        {
          "output_type": "stream",
          "name": "stdout",
          "text": [
            "         Mexican American Non-Hispanic White Non-Hispanic Black Other Hispanic\n",
            "Estimate     7.829969e-01       2.499501e+00       2.005364e+00   1.242096e+00\n",
            "Pr(>|t|)     3.974547e-11      7.806423e-138       1.828387e-51   8.457748e-09\n",
            "           Other Race\n",
            "Estimate 1.926969e+00\n",
            "Pr(>|t|) 1.064056e-11"
          ]
        }
      ],
      "source": [
        "sapply(race_values, find_lm_results)"
      ],
      "id": "7a82c0d9-bbca-4e5a-bbe5-f1c15141e403"
    },
    {
      "cell_type": "markdown",
      "metadata": {},
      "source": [
        "The last loop-hiding function we introduce is `replicate(n, expr)`. This\n",
        "runs the code expression `expr` `n` times and returns the results. By\n",
        "default, this simplifies the output similar to `sapply()`. If you set\n",
        "`simplify=FALSE`, it returns a list. The following code generates a\n",
        "random matrix and computes the column means six times."
      ],
      "id": "a9dac2bd-8eeb-4eb7-9599-003c5d2ef8a7"
    },
    {
      "cell_type": "code",
      "execution_count": null,
      "metadata": {},
      "outputs": [
        {
          "output_type": "stream",
          "name": "stdout",
          "text": [
            "             [,1]        [,2]       [,3]        [,4]       [,5]       [,6]\n",
            "[1,] -0.119744136  0.13250079 -0.0954617 -0.25877338  0.1447676 -0.1263477\n",
            "[2,]  0.133626637  0.13147558  0.1158729 -0.15584302 -0.1432991 -0.1048025\n",
            "[3,] -0.218304523  0.04518284 -0.2065415 -0.05444335 -0.4517323 -0.1021183\n",
            "[4,] -0.003119643 -0.09671052  0.2463520 -0.03739284 -0.2551931  0.1332924\n",
            "[5,] -0.102115675  0.08522043  0.1165833 -0.07775774  0.0149484 -0.2733024"
          ]
        }
      ],
      "source": [
        "replicate(6, colMeans(matrix(rnorm(100), ncol = 5)))"
      ],
      "id": "d788628f-6e34-4542-9d12-be5dc680f116"
    },
    {
      "cell_type": "raw",
      "metadata": {
        "raw_mimetype": "text/html"
      },
      "source": [
        "<!--\n",
        "::: {.content-visible when-format=\"html\"}\n",
        "## Recap Video\n",
        "\n",
        "\n",
        "\n",
        "\n",
        "https://www.youtube.com/embed/EU0UJN68OWQ\n",
        "\n",
        "\n",
        "\n",
        "\n",
        "\n",
        "\n",
        ":::\n",
        "-->"
      ],
      "id": "8a0072cb-7392-4811-95bb-c1cb4324f24c"
    },
    {
      "cell_type": "markdown",
      "metadata": {},
      "source": [
        "## Exercises\n",
        "\n",
        "For these exercises, we use the `pain` data from the **HDSinRdata**\n",
        "package. You can use the help operator `?pain` to learn more about the\n",
        "source of these data and to read its column descriptions.\n",
        "\n",
        "1.  Create a new column `PAT_RACE_SIMP` that represents a patient’s race\n",
        "    using three categories: White, Black, or Other. First, do this using\n",
        "    the `case_when()` function. Then, use a loop and if-else statement\n",
        "    to accomplish the same thing.\n",
        "\n",
        "2.  For each category of your new column `PAT_RACE_SIMP`, subset the\n",
        "    data to that group and find the five body regions with the highest\n",
        "    proportion of patients with pain. Your solution should use two\n",
        "    nested loops. Then, rewrite your code without using a loop.\n",
        "\n",
        "3.  The following code sorts a numeric vector `x` but is missing\n",
        "    comments to explain the steps. Read through the code and add your\n",
        "    own comments to explain how this works.\n",
        "\n",
        "    ``` r\n",
        "    x <- c(1,3,0,3,2,6,4)\n",
        "\n",
        "    n <- length(x)\n",
        "    for (i in 1:(n-1)){\n",
        "\n",
        "      next_ind <- i\n",
        "      for (j in (i+1):n){\n",
        "        if (x[j] < x[next_ind]){\n",
        "          next_ind <- j\n",
        "        }\n",
        "      }\n",
        "\n",
        "      temp <- x[i]\n",
        "      x[i] <- x[next_ind]\n",
        "      x[next_ind] <- temp\n",
        "    }\n",
        "\n",
        "    x \n",
        "    ```\n",
        "\n",
        "        [1] 0 1 2 3 3 4 6\n",
        "\n",
        "4.  Write code using a loop that generates a series of Bernoulli random\n",
        "    variables with probability of success of 0.5 until at least $r <- 6$\n",
        "    successes occur. What distribution does this correspond to?"
      ],
      "id": "15b6179c-2504-498d-94e0-2dac83d36596"
    }
  ],
  "nbformat": 4,
  "nbformat_minor": 5,
  "metadata": {
    "kernelspec": {
      "display_name": "Python 3",
      "language": "python",
      "name": "python3"
    }
  }
}