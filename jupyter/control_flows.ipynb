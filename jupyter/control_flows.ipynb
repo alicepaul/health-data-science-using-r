{
  "cells": [
    {
      "cell_type": "markdown",
      "metadata": {},
      "source": [
        "# \n",
        "\n",
        "# Logic and Loops\n",
        "\n",
        "Now that we have seen a lot of the functionality of R, we will start to\n",
        "build up more structured code using programming structures. To start, we\n",
        "will introduce what are called *control flows*. Control flows are code\n",
        "blocks that determine a sequence of code to be run. The two types of\n",
        "control flows we will introduce are if-else blocks and loops."
      ],
      "id": "7bc33714-b924-4598-bc20-b1fd0eda57c9"
    },
    {
      "cell_type": "code",
      "execution_count": null,
      "metadata": {},
      "outputs": [],
      "source": [
        "library(HDSinRdata)\n",
        "library(tidyverse)"
      ],
      "id": "8ad90180-be94-43b5-be48-fd76bf3fe40d"
    },
    {
      "cell_type": "markdown",
      "metadata": {},
      "source": [
        "## Logic and Conditional Expressions\n",
        "\n",
        "You may recall that we introduced logical operators in\n",
        "**?@sec-data-files**. We used these operators through conditional\n",
        "expressions such as when we indexed a data frame or the `ifelse()` or\n",
        "`casewhen()` functions. For example, below we have vectors of systolic\n",
        "and diastolic blood pressure measurements and we write a logical\n",
        "operator to check if at least one of the systolic measurements is above\n",
        "140 or if at least one of the diastolic measurements is above 90."
      ],
      "id": "e29c1b3d-fa97-411e-9501-e07be8d99cc8"
    },
    {
      "cell_type": "code",
      "execution_count": null,
      "metadata": {},
      "outputs": [
        {
          "output_type": "stream",
          "name": "stdout",
          "text": [
            "[1] TRUE"
          ]
        }
      ],
      "source": [
        "sbp_measurements <- c(131, 110, 125, 145, NA, 130)\n",
        "dbp_measurements <- c(70, NA, 80)\n",
        "any(sbp_measurements > 140, na.rm=TRUE) | \n",
        "  any(dbp_measurements > 90, na.rm=TRUE)"
      ],
      "id": "806eec48-afcb-4f55-a935-a4e798ea4f4f"
    },
    {
      "cell_type": "markdown",
      "metadata": {},
      "source": [
        "Let’s do another example. Suppose that these blood pressure measurements\n",
        "were taken consecutively but may have missing values. We want to create\n",
        "a single value to summarize the blood pressure for the patient. If we\n",
        "only have one blood pressure reading, then we will use that value.\n",
        "However, if there is more than one blood pressure reading, then we drop\n",
        "the first observation and average the rest. We will assume that not all\n",
        "values are NA. The code below uses an `ifelse()` function to do this by\n",
        "first checking if there is a single reading. If so, it takes the sum\n",
        "removing NA values to find that value. If not, we find all non-NA values\n",
        "and remove the first one before averaging."
      ],
      "id": "e64941c9-427f-4a6c-ac79-6a72d2fe8893"
    },
    {
      "cell_type": "code",
      "execution_count": null,
      "metadata": {},
      "outputs": [
        {
          "output_type": "stream",
          "name": "stdout",
          "text": [
            "[1] 127.5"
          ]
        }
      ],
      "source": [
        "sbp_measurements <- c(131, 110, 125, 145, NA, 130)\n",
        "ifelse(sum(!is.na(sbp_measurements)) == 1, \n",
        "       sum(sbp_measurements, na.rm=TRUE),\n",
        "       mean(sbp_measurements[!is.na(sbp_measurements)][-1]))"
      ],
      "id": "94e0a72a-bc0d-4977-b06f-4fdd575c5dbe"
    },
    {
      "cell_type": "markdown",
      "metadata": {},
      "source": [
        "We could also accomplish the same thing using a *control flow* called an\n",
        "*if-else statement*. An if-else statement follows the structure below.\n",
        "First, we have a conditional statement. If the conditional statement is\n",
        "true, then the code in the if statement, the code within the first set\n",
        "of parentheses, is run. If not, then the code in the else statement is\n",
        "run. In this way, the control flow controls how our code is executed.\n",
        "\n",
        "    if (conditional statement){\n",
        "    block of code if the statement is TRUE\n",
        "    } else{\n",
        "    block of code if the statement is FALSE\n",
        "    }\n",
        "\n",
        "Below, is an example where the conditional statement is the same as\n",
        "above. Note that since either the code in the if or else statement is\n",
        "run, the object `avg_val` is always defined."
      ],
      "id": "e152c776-d63e-4ec6-92e2-13cf5b941702"
    },
    {
      "cell_type": "code",
      "execution_count": null,
      "metadata": {},
      "outputs": [
        {
          "output_type": "stream",
          "name": "stdout",
          "text": [
            "[1] 127.5"
          ]
        }
      ],
      "source": [
        "sbp_measurements <- c(131, 110, 125, 145, NA, 130)\n",
        "if(sum(!is.na(sbp_measurements))==1){\n",
        "  avg_val <- sum(sbp_measurements, na.rm=TRUE)\n",
        "} else{\n",
        "  avg_val <- mean(sbp_measurements[!is.na(sbp_measurements)][-1])\n",
        "}\n",
        "avg_val"
      ],
      "id": "c4a9e977-517d-4609-b506-66136916ab12"
    },
    {
      "cell_type": "markdown",
      "metadata": {},
      "source": [
        "One of the things to notice is that an `if` statement can only take in a\n",
        "*single* Boolean. It cannot take in a vector of Boolean values like the\n",
        "`ifelse()` and `case_when()` functions can. In that way, the `ifelse()`\n",
        "function is useful because it can be applied to multiple instances, but\n",
        "it isn’t as flexible if you want to run multiple lines of code depending\n",
        "on the logical statement since it doesn’t allow you to include a code\n",
        "block.\n",
        "\n",
        "Let’s do another example of both an if-else statement and the `ifelse()`\n",
        "function to demonstrate this. Below, we use an if-else statement to\n",
        "determine if someone has hypertension. Note that here we have two lines\n",
        "of code that are run in each part - one line printing the result and the\n",
        "other is storing a 0/1 value. Try changing the values of `sbp` and\n",
        "`dbp`."
      ],
      "id": "fb2b06db-b21c-4f87-91f2-1d1704bae1d9"
    },
    {
      "cell_type": "code",
      "execution_count": null,
      "metadata": {},
      "outputs": [
        {
          "output_type": "stream",
          "name": "stdout",
          "text": [
            "[1] \"No Hypertension\""
          ]
        },
        {
          "output_type": "stream",
          "name": "stdout",
          "text": [
            "[1] 0"
          ]
        }
      ],
      "source": [
        "sbp <- 130\n",
        "dbp <- 80\n",
        "if(sbp > 140 | dbp > 90){\n",
        "  print(\"Hypertension\")\n",
        "  hyp <- 1\n",
        "} else{\n",
        "  print(\"No Hypertension\")\n",
        "  hyp <- 0\n",
        "}"
      ],
      "id": "ca2a1e6d-3c43-4486-9945-96f258ba0864"
    },
    {
      "cell_type": "markdown",
      "metadata": {},
      "source": [
        "Now let’s replicate this with the `ifelse()` function which will allow\n",
        "us to take in paired vectors of blood pressure measurements and return a\n",
        "vector of 0/1 values for each observation. The difference here is that\n",
        "we cannot include a print statement since we are only allowed one return\n",
        "value."
      ],
      "id": "407f57a0-4caf-4f4a-bd25-642acb7a7790"
    },
    {
      "cell_type": "code",
      "execution_count": null,
      "metadata": {},
      "outputs": [
        {
          "output_type": "stream",
          "name": "stdout",
          "text": [
            "[1] 0 0 0 1 0"
          ]
        }
      ],
      "source": [
        "sbp_measurements <- c(131, 110, 125, 145, 130)\n",
        "dbp_measurements <- c(90, 75, 80, 90, 80)\n",
        "hyp <- ifelse(sbp_measurements > 140 | dbp_measurements > 90, 1, 0)\n",
        "hyp"
      ],
      "id": "17605d42-139d-4d0e-ac1b-d842a7fdf489"
    },
    {
      "cell_type": "markdown",
      "metadata": {},
      "source": [
        "Note that above we ignored NA values. In this case, changing `sbp` or\n",
        "`dbp` to NA will cause an error in the if-else statement. This is\n",
        "because it will not understand which code block to run. The `ifelse()`\n",
        "can handle NA values and will return NA for observations with no\n",
        "TRUE/FALSE value. To accomplish this with the if-else statement, we can\n",
        "add in multiple conditions. In particular, we can add in more statements\n",
        "as below. In this case, the first time we reach a true conditional\n",
        "statement, we run the code in that block. If no statements are true,\n",
        "then we run the last block of code. So we always run exactly one block\n",
        "of code.\n",
        "\n",
        "    if (conditional statement A){\n",
        "    block of code if the statement A is TRUE\n",
        "    } else if (conditional statement B){\n",
        "    block of code if the statement B is TRUE and statement A is FALSE\n",
        "    } else if (conditional statement C){\n",
        "    block of code if the statement C is TRUE and statement A and B are FALSE\n",
        "    } else{\n",
        "    block of code if statements A, B, and C are all FALSE\n",
        "    }\n",
        "\n",
        "Let’s use this with our hypertension example. In this case, we want to\n",
        "return NA if the answer is not known. Change the values so that you\n",
        "reach each code block. The order of the conditions matters because if\n",
        "the first statement is false, then we know at least one value is not NA.\n",
        "This also means that we would only check the fourth condition if the\n",
        "first three are false, which means that neither of the values can be NA."
      ],
      "id": "3cb77a02-475b-4b25-97e3-b86e4c756e6d"
    },
    {
      "cell_type": "code",
      "execution_count": null,
      "metadata": {},
      "outputs": [
        {
          "output_type": "stream",
          "name": "stdout",
          "text": [
            "[1] \"No Hypertension\""
          ]
        }
      ],
      "source": [
        "sbp <- 130\n",
        "dbp <- 80\n",
        "if(is.na(sbp) & is.na(dbp)){\n",
        "  # Both are NA\n",
        "  hyp <- NA\n",
        "} else if ((is.na(sbp) & dbp <= 90) | (is.na(dbp) & sbp <= 140)){\n",
        "  # One is NA and the other is below the threshold\n",
        "  hyp <- \"Inconclusive\"\n",
        "} else if ((is.na(sbp) & dbp > 90) | (is.na(dbp) & sbp > 140)){\n",
        "  # One is NA and the other is above the threshold\n",
        "  hyp <- \"Hypertension\"\n",
        "} else if (dbp > 90 | sbp > 140){\n",
        "  # Neither are NA and at least one is above the threshold\n",
        "  hyp <- \"Hypertension\"\n",
        "} else{\n",
        "  # Neither are NA and neither is above the threshold\n",
        "  hyp <- \"No Hypertension\"\n",
        "}\n",
        "hyp"
      ],
      "id": "3d4f0c04-a374-4033-ba9e-806560468478"
    },
    {
      "cell_type": "markdown",
      "metadata": {},
      "source": [
        "We can actually rearrange these conditions to have one less condition.\n",
        "In the order below, we first check if both are NA. Then we check that at\n",
        "least one value is above the threshold. This statement uses the fact\n",
        "that both can’t be NA since the first condition must be false. Next, in\n",
        "the third statement, if at least one value is NA then that must mean the\n",
        "other is below the threshold so the result is inconclusive."
      ],
      "id": "52dba22b-ba33-49b7-8e6f-fc08af93eb65"
    },
    {
      "cell_type": "code",
      "execution_count": null,
      "metadata": {},
      "outputs": [
        {
          "output_type": "stream",
          "name": "stdout",
          "text": [
            "[1] \"No Hypertension\""
          ]
        }
      ],
      "source": [
        "sbp <- 130\n",
        "dbp <- 80\n",
        "if(is.na(sbp) & is.na(dbp)){\n",
        "  # Both are NA\n",
        "  hyp <- NA\n",
        "} else if (sum(dbp > 90, sbp > 140, na.rm=TRUE) >= 1){\n",
        "  # At least one is above the threshold - sum will remove NA values\n",
        "  hyp <- \"Hypertension\"\n",
        "} else if (is.na(sbp) | is.na(dbp)){\n",
        "  # Inconclusive\n",
        "  hyp <- \"Inconclusive\"\n",
        "} else{\n",
        "  # Neither are NA and neither is above the threshold\n",
        "  hyp <- \"No Hypertension\"\n",
        "}\n",
        "hyp"
      ],
      "id": "eb46a0d6-ab0a-4f16-93dd-480b426c1552"
    },
    {
      "cell_type": "markdown",
      "metadata": {},
      "source": [
        "This can still seem like a lot of conditions to replicate what we did in\n",
        "a single line with an `ifelse()` function. In general, we prefer a\n",
        "simpler format. Consider the code below. In this case, we have two\n",
        "vectors `x` and `y` that we want to plot. First, we check whether these\n",
        "vectors are numeric. If not, we convert them to factors. Rather than\n",
        "returning a value as we do with an `ifelse()` function, we are changing\n",
        "our data depending on the type of `x` and `y`. Note that these\n",
        "statements do not contain an else statement. That is because we don’t\n",
        "want to run any code when the condition is false. In the video at the\n",
        "end of the chapter, we will show another example of when we could not\n",
        "replicate the logic of an if-else statement with a function."
      ],
      "id": "e2ef16e6-e0b7-4c77-930d-f6ae4e4bffb4"
    },
    {
      "cell_type": "code",
      "execution_count": null,
      "metadata": {},
      "outputs": [
        {
          "output_type": "display_data",
          "metadata": {},
          "data": {
            "image/png": "[encoded data removed]"
          }
        }
      ],
      "source": [
        "# example x and y vectors\n",
        "y <- factor(rbinom(100, 1, 0.3))\n",
        "x <- rnorm(100, ifelse(y==0, 0, 0.75)) \n",
        "# change x to factor(rbinom(100, 1, 0.3)) to observe\n",
        "\n",
        "# convert x and y to factors if not numeric!\n",
        "if (!is.numeric(x)){ x <- as.factor(x) }\n",
        "if (!is.numeric(y)){ y <- as.factor(y) }\n",
        "\n",
        "# find type of plot\n",
        "if(is.factor(x) & is.factor(y)){\n",
        "  # bar plot \n",
        "  p <- ggplot()+geom_bar(aes(x=x, fill=y), position=\"dodge\")\n",
        "} else if (!is.factor(y) | !(is.factor(x))){\n",
        "  # box plot when one numeric, one factor\n",
        "  p <- ggplot()+geom_boxplot(aes(x=x,y=y))\n",
        "} else{\n",
        "  # scatter plot when both numeric\n",
        "  p <- ggplot()+geom_point(aes(x=x,y=y))\n",
        "}\n",
        "p"
      ],
      "id": "ee2e8344-ed14-43b4-b664-adb8cf1d5093"
    },
    {
      "cell_type": "markdown",
      "metadata": {},
      "source": [
        "### Practice Question\n",
        "\n",
        "Use both an if-else statement and a `case_when()` function to find y as\n",
        "given by the function below.\n",
        "$$y = \\begin{cases} 1 & x > 0 \\\\ 0 & x =0 \\\\ 0.1 & x < 0  \\end{cases} $$"
      ],
      "id": "620cf803-8bc0-4869-991b-c46eac9744e6"
    },
    {
      "cell_type": "code",
      "execution_count": null,
      "metadata": {},
      "outputs": [],
      "source": [
        "# Insert your solution here:\n",
        "x <- 2 # change x to different values to check your solution!"
      ],
      "id": "d5ca0fb7-b439-450c-8fec-976da60ab7ae"
    },
    {
      "cell_type": "markdown",
      "metadata": {},
      "source": [
        "## Loops\n",
        "\n",
        "Another common control flow we will use are loops. Loops capture code\n",
        "chunks we want to run multiple times. For this example, we will use the\n",
        "`NHANESSample` data from the **HDSinRdata** package."
      ],
      "id": "4d6c990c-e724-4893-a6b3-c8ff9b3dbffc"
    },
    {
      "cell_type": "code",
      "execution_count": null,
      "metadata": {},
      "outputs": [],
      "source": [
        "nhanes <- NHANESsample %>% \n",
        "  select(c(RACE, SEX, SBP1, DBP1, HYP, LEAD)) %>%\n",
        "  na.omit()"
      ],
      "id": "83ba2a40-d3c9-4fb7-8cf6-a8045e50fc53"
    },
    {
      "cell_type": "markdown",
      "metadata": {},
      "source": [
        "In the code below, we are fitting a simple linear regression model for\n",
        "systolic blood pressure with the single covariate of blood lead level\n",
        "for each race group and storing the associated coefficients and\n",
        "p-values. This code is repetitive since we repeat the same steps for\n",
        "each group and the only element that is changing is the race group. This\n",
        "makes our code cluttered but also means we are prone to introducing\n",
        "errors. In fact, you can see that we have the wrong coefficient and\n",
        "p-value for the fourth model."
      ],
      "id": "edbe6f75-38be-4e74-9058-36b237e4dda1"
    },
    {
      "cell_type": "code",
      "execution_count": null,
      "metadata": {},
      "outputs": [
        {
          "output_type": "stream",
          "name": "stdout",
          "text": [
            "               group     coefs         pvals\n",
            "1   Mexican American 0.7829969  3.974547e-11\n",
            "2 Non-Hispanic White 2.4995008 7.806423e-138\n",
            "3 Non-Hispanic Black 2.0053638  1.828387e-51\n",
            "4     Other Hispanic 2.0053638  1.828387e-51\n",
            "5         Other Race 1.9269690  1.064056e-11"
          ]
        }
      ],
      "source": [
        "dat1 <- nhanes[nhanes$RACE == \"Mexican American\", ]\n",
        "mod1 <- summary(lm(SBP1 ~ LEAD, data = dat1))\n",
        "coef1 <- mod1$coefficients[2,1]\n",
        "pval1 <- mod1$coefficients[2,4]\n",
        "\n",
        "dat2 <- nhanes[nhanes$RACE == \"Non-Hispanic White\", ]\n",
        "mod2 <- summary(lm(SBP1 ~ LEAD, data = dat2))\n",
        "coef2 <- mod2$coefficients[2,1]\n",
        "pval2 <- mod2$coefficients[2,4]\n",
        "\n",
        "dat3 <- nhanes[nhanes$RACE == \"Non-Hispanic Black\", ]\n",
        "mod3 <- summary(lm(SBP1 ~ LEAD, data = dat3))\n",
        "coef3 <- mod3$coefficients[2,1]\n",
        "pval3 <- mod3$coefficients[2,4]\n",
        "\n",
        "dat4 <- nhanes[nhanes$RACE == \"Other Hispanic\", ]\n",
        "mod4 <- summary(lm(SBP1 ~ LEAD, data = dat4))\n",
        "coef4 <- mod3$coefficients[2,1]\n",
        "pval4 <- mod3$coefficients[2,4]\n",
        "\n",
        "dat5 <- nhanes[nhanes$RACE == \"Other Race\", ]\n",
        "mod5 <- summary(lm(SBP1 ~ LEAD, data = dat5))\n",
        "coef5 <- mod5$coefficients[2,1]\n",
        "pval5 <- mod5$coefficients[2,4]\n",
        "\n",
        "data.frame(\n",
        "  group = c(\"Mexican American\", \"Non-Hispanic White\", \n",
        "            \"Non-Hispanic Black\", \"Other Hispanic\", \"Other Race\"),\n",
        "  coefs = c(coef1, coef2, coef3, coef4, coef5),\n",
        "  pvals = c(pval1, pval2, pval3, pval4, pval5))"
      ],
      "id": "c976fa31-7cce-4526-9b82-e545efcf0fc8"
    },
    {
      "cell_type": "markdown",
      "metadata": {},
      "source": [
        "We can rewrite this code slightly. In this case, we create an object `i`\n",
        "which will represent the index of the group. This change means that the\n",
        "only thing that changes for each group is that we update the value of i.\n",
        "This is much less prone to errors, but still long."
      ],
      "id": "0b2e0a76-de73-4b8d-9304-7412ebf8eec7"
    },
    {
      "cell_type": "code",
      "execution_count": null,
      "metadata": {},
      "outputs": [
        {
          "output_type": "stream",
          "name": "stdout",
          "text": [
            "               group coefs pvals      coef          pval\n",
            "1   Mexican American     0     0 0.7829969  3.974547e-11\n",
            "2 Non-Hispanic White     0     0 2.4995008 7.806423e-138\n",
            "3 Non-Hispanic Black     0     0 2.0053638  1.828387e-51\n",
            "4     Other Hispanic     0     0 1.2420963  8.457748e-09\n",
            "5         Other Race     0     0 1.9269690  1.064056e-11"
          ]
        }
      ],
      "source": [
        "# Initialize results data frame\n",
        "race_values <- c(\"Mexican American\", \"Non-Hispanic White\", \n",
        "            \"Non-Hispanic Black\", \"Other Hispanic\", \"Other Race\")\n",
        "df <- data.frame(\n",
        "  group = race_values,\n",
        "  coefs = 0,\n",
        "  pvals = 0)\n",
        "\n",
        "i <- 1\n",
        "dat <- nhanes[nhanes$RACE == df$group[i], ]\n",
        "mod <- summary(lm(SBP1 ~ LEAD, data = dat))\n",
        "df$coef[i] <- mod$coefficients[2,1]\n",
        "df$pval[i] <- mod$coefficients[2,4]\n",
        "\n",
        "i <- 2\n",
        "dat <- nhanes[nhanes$RACE == df$group[i], ]\n",
        "mod <- summary(lm(SBP1 ~ LEAD, data = dat))\n",
        "df$coef[i] <- mod$coefficients[2,1]\n",
        "df$pval[i] <- mod$coefficients[2,4]\n",
        "\n",
        "i <- 3\n",
        "dat <- nhanes[nhanes$RACE == df$group[i], ]\n",
        "mod <- summary(lm(SBP1 ~ LEAD, data = dat))\n",
        "df$coef[i] <- mod$coefficients[2,1]\n",
        "df$pval[i] <- mod$coefficients[2,4]\n",
        "\n",
        "i <- 4\n",
        "dat <- nhanes[nhanes$RACE == df$group[i], ]\n",
        "mod <- summary(lm(SBP1 ~ LEAD, data = dat))\n",
        "df$coef[i] <- mod$coefficients[2,1]\n",
        "df$pval[i] <- mod$coefficients[2,4]\n",
        "\n",
        "i <- 5\n",
        "dat <- nhanes[nhanes$RACE == df$group[i], ]\n",
        "mod <- summary(lm(SBP1 ~ LEAD, data = dat))\n",
        "df$coef[i] <- mod$coefficients[2,1]\n",
        "df$pval[i] <- mod$coefficients[2,4]\n",
        "\n",
        "df"
      ],
      "id": "330f693d-2c73-493a-904b-85b58e8039f3"
    },
    {
      "cell_type": "markdown",
      "metadata": {},
      "source": [
        "We will write this code as a *for loop*. A for loop contains two pieces.\n",
        "First, we have an *iterator*. An iterator traverses an object that has a\n",
        "natural order. Most of the time we traverse over vectors but we could\n",
        "also have a list object. The second piece is a code block. This code is\n",
        "run for each value of the iterator.\n",
        "\n",
        "    for (iterator_name in object){\n",
        "    code to run for each value of the iterator\n",
        "    }\n",
        "\n",
        "Two simple for loops are given below. In the first loop, our iterator\n",
        "goes through the vector `1:5` whereas in the second one our iterator\n",
        "iterates through the vector of names. In the first loop, we will\n",
        "traverse the numbers 1 to 5 and for each number we will run the code\n",
        "that squares the number. In each iteration, we name the current number\n",
        "we are on to be `i`. That means that the first time through the loop `i`\n",
        "is equal to 1, the second time `i` has value 2, etc. In the second loop,\n",
        "our iterator is also a vector but this time it is `names`. In this case,\n",
        "in each iteration the object `name` represents the current name we are\n",
        "on as we traverse the vector of `names`. In particular, the first time\n",
        "through the loop `name` is equal to “Alice”, the second time `name` has\n",
        "value “Bob”, and so forth."
      ],
      "id": "98bdf080-e0b7-4db8-8b72-0e9ae3fb6a25"
    },
    {
      "cell_type": "code",
      "execution_count": null,
      "metadata": {},
      "outputs": [
        {
          "output_type": "stream",
          "name": "stdout",
          "text": [
            "[1] 1\n",
            "[1] 1.414214\n",
            "[1] 1.732051\n",
            "[1] 2\n",
            "[1] 2.236068"
          ]
        }
      ],
      "source": [
        "for (i in 1:5){\n",
        "  print(sqrt(i))\n",
        "}"
      ],
      "id": "da08a6f2-7913-4888-885f-e831adc2f98b"
    },
    {
      "cell_type": "code",
      "execution_count": null,
      "metadata": {},
      "outputs": [
        {
          "output_type": "stream",
          "name": "stdout",
          "text": [
            "[1] \"Hello, Alice\"\n",
            "[1] \"Hello, Bob\"\n",
            "[1] \"Hello, Carol\""
          ]
        }
      ],
      "source": [
        "names <- c(\"Alice\", \"Bob\", \"Carol\")\n",
        "for (name in names){\n",
        "  print(paste(\"Hello,\", name))\n",
        "}"
      ],
      "id": "b6aae30d-e8fd-483f-9bb4-15974f71cbb8"
    },
    {
      "cell_type": "markdown",
      "metadata": {},
      "source": [
        "Let’s apply this to our example. First, we use a numeric iterator `i`\n",
        "that will take on values 1 to 5. This will directly replicate our code\n",
        "above in which the value of `i` changed for each race group. Our result\n",
        "matches that above."
      ],
      "id": "4ec110c1-f6c6-4453-8126-d94962f23033"
    },
    {
      "cell_type": "code",
      "execution_count": null,
      "metadata": {},
      "outputs": [
        {
          "output_type": "stream",
          "name": "stdout",
          "text": [
            "               group coefs pvals      coef          pval\n",
            "1   Mexican American     0     0 0.7829969  3.974547e-11\n",
            "2 Non-Hispanic White     0     0 2.4995008 7.806423e-138\n",
            "3 Non-Hispanic Black     0     0 2.0053638  1.828387e-51\n",
            "4     Other Hispanic     0     0 1.2420963  8.457748e-09\n",
            "5         Other Race     0     0 1.9269690  1.064056e-11"
          ]
        }
      ],
      "source": [
        "df <- data.frame(group = race_values, coefs = 0, pvals = 0)\n",
        "\n",
        "for (i in 1:5){\n",
        "  dat <- nhanes[nhanes$RACE == df$group[i], ]\n",
        "  mod <- summary(lm(SBP1 ~ LEAD, data = dat))\n",
        "  df$coef[i] <- mod$coefficients[2,1]\n",
        "  df$pval[i] <- mod$coefficients[2,4]\n",
        "}\n",
        "df"
      ],
      "id": "928a2a2b-5cd1-43da-ace7-d0308de3e9a2"
    },
    {
      "cell_type": "markdown",
      "metadata": {},
      "source": [
        "Let’s show a different way we could write the same loop. This time we\n",
        "will make our iterator be the race group name. In this case, we update\n",
        "how we are storing the coefficients and p-values because we are not\n",
        "iterating over an index."
      ],
      "id": "f2cc9d86-7a78-4b6f-9293-71a9e5358b1c"
    },
    {
      "cell_type": "code",
      "execution_count": null,
      "metadata": {},
      "outputs": [
        {
          "output_type": "stream",
          "name": "stdout",
          "text": [
            "               group     coefs         pvals\n",
            "1   Mexican American 0.7829969  3.974547e-11\n",
            "2 Non-Hispanic White 2.4995008 7.806423e-138\n",
            "3 Non-Hispanic Black 2.0053638  1.828387e-51\n",
            "4     Other Hispanic 1.2420963  8.457748e-09\n",
            "5         Other Race 1.9269690  1.064056e-11"
          ]
        }
      ],
      "source": [
        "coefs <- c()\n",
        "pvals <- c()\n",
        "\n",
        "for (group in race_values){\n",
        "  dat <- nhanes[nhanes$RACE == group, ]\n",
        "  mod <- summary(lm(SBP1 ~ LEAD, data = dat))\n",
        "  coefs <- c(coefs, mod$coefficients[2,1])\n",
        "  pvals <- c(pvals, mod$coefficients[2,4])\n",
        "}\n",
        "\n",
        "data.frame(group = race_values, coefs = coefs, pvals = pvals)"
      ],
      "id": "ad42f2a4-0210-46d5-ba1d-64f560352765"
    },
    {
      "cell_type": "markdown",
      "metadata": {},
      "source": [
        "Another type of loop is a *while loop*. A while loop does not have an\n",
        "iterator. Instead, a while loop checks a condition. If the condition is\n",
        "true, the loop runs the code in the code block. If the condition is\n",
        "false, it stops and breaks out of the loop. That is, the code is run\n",
        "until the condition is no longer met.\n",
        "\n",
        "    while (condition){\n",
        "    code to run each iteration\n",
        "    }\n",
        "\n",
        "The code below gives an example of a simple while loop. In this case,\n",
        "the loop keeps dividing `x` by 2 until it is below a certain value of 3.\n",
        "In this case, `x` starts above 3 so the condition starts off being true\n",
        "and we would divide `x` by 2 to get 50. Since 50 is still greater than\n",
        "3, the code block is run again, etc. Once `x` reaches a value of 1.5625\n",
        "the condition no longer holds and the code stops. Note that if the\n",
        "condition was `x > -1` it would hold indefinitely, creating what is\n",
        "called an infinite loop."
      ],
      "id": "15a87fbf-f995-49b7-8259-6454748986d5"
    },
    {
      "cell_type": "code",
      "execution_count": null,
      "metadata": {},
      "outputs": [
        {
          "output_type": "stream",
          "name": "stdout",
          "text": [
            "[1] 1.5625"
          ]
        }
      ],
      "source": [
        "x <- 100\n",
        "while(x > 3){\n",
        "  x <- x/2\n",
        "}\n",
        "x"
      ],
      "id": "5e25d7a2-1561-4f3e-92d5-e7635b09160e"
    },
    {
      "cell_type": "markdown",
      "metadata": {},
      "source": [
        "Let’s do another example with a bigger code block. The code below\n",
        "creates a Poisson process of arrivals where in each iteration we\n",
        "generate the next arrival time by drawing from an exponential\n",
        "distribution. Once we reach the end of the time interval (i.e. the\n",
        "current time is greater than 10) we stop. If we re-run this chunk of\n",
        "code, we might get a different length vector."
      ],
      "id": "9b453d3d-d9f7-42b7-82b9-811af8204ba5"
    },
    {
      "cell_type": "code",
      "execution_count": null,
      "metadata": {},
      "outputs": [],
      "source": [
        "arrivals <- c()\n",
        "time <- 0\n",
        "next_arrival <- rexp(1, rate = 3)\n",
        "\n",
        "# Find the time of all arrivals in the time period [0,10]\n",
        "while(time+next_arrival <= 10){\n",
        "  # Update list of arrivals and current time\n",
        "  arrivals <- c(arrivals, next_arrival)\n",
        "  time <- time + next_arrival\n",
        "  \n",
        "  # Generate the next arrival\n",
        "  next_arrival <- rexp(1, rate = 3)\n",
        "}"
      ],
      "id": "927fe12a-85e8-4c17-8a1a-510c08829e91"
    },
    {
      "cell_type": "markdown",
      "metadata": {},
      "source": [
        "Given we have two types of loops, how do you know which to use? You\n",
        "should use a for loop when you know how many times you will go through\n",
        "the loop and/or if there is a clear object to iterate through. On the\n",
        "other hand, while loops are useful if you don’t know how many times you\n",
        "will go through the loop and you want to iterate through the loop\n",
        "*until* something happens. Within a for loop, you can also break out\n",
        "early using the `break` operator. This stops the loop similar to a while\n",
        "loop but is sometimes less succinct. The code below loops through the\n",
        "blood pressure measurements we defined earlier to find if any of the\n",
        "observations meet the criteria for hypertension."
      ],
      "id": "5be6bfa3-e7ea-4312-8e64-ba18decd641e"
    },
    {
      "cell_type": "code",
      "execution_count": null,
      "metadata": {},
      "outputs": [],
      "source": [
        "# Start with assumption that the result is FALSE\n",
        "res <- FALSE\n",
        "for (i in 1:length(sbp_measurements)){\n",
        "  \n",
        "  # If above threshold, update the result and stop the loop\n",
        "  if (sbp_measurements[i] > 140 | dbp_measurements[i] < 90){\n",
        "    res <- TRUE\n",
        "    break \n",
        "  }\n",
        "}"
      ],
      "id": "6577c9b4-806f-4e99-ac1e-3140fa0fc6b4"
    },
    {
      "cell_type": "markdown",
      "metadata": {},
      "source": [
        "### Practice Question\n",
        "\n",
        "Use a loop to find the smallest integer number `x` such that\n",
        "$2.3^x \\geq 100$. The answer should be 6."
      ],
      "id": "74940c05-8bf0-41f4-a0a3-1c2b6708a5b7"
    },
    {
      "cell_type": "code",
      "execution_count": null,
      "metadata": {},
      "outputs": [],
      "source": [
        "# Insert your solution here:"
      ],
      "id": "785ae623-2e7a-4228-8652-3a1d69315f85"
    },
    {
      "cell_type": "markdown",
      "metadata": {},
      "source": [
        "## Avoiding Control Flows with Functions\n",
        "\n",
        "We just introduced logic and loops and now I’m going to tell you to\n",
        "avoid them when you can. What?! Yes, control flows are very useful\n",
        "programming structures, but sometimes the same thing can be done without\n",
        "them. For example, we can find whether there is at least one observation\n",
        "that has hypertension using a single line of code."
      ],
      "id": "44653d00-9f7f-4a1a-b40a-58acf5515a49"
    },
    {
      "cell_type": "code",
      "execution_count": null,
      "metadata": {},
      "outputs": [
        {
          "output_type": "stream",
          "name": "stdout",
          "text": [
            "[1] TRUE"
          ]
        }
      ],
      "source": [
        "any(sbp_measurements > 140 | dbp_measurements > 90)"
      ],
      "id": "8d58c2d8-349b-4e22-a79d-0fc672666c59"
    },
    {
      "cell_type": "markdown",
      "metadata": {},
      "source": [
        "Another example we saw above was using an `ifelse()` or `case_when()`\n",
        "function instead of an if-else statement. These two functions are\n",
        "*vectorized functions*. That means that the function is evaluated on a\n",
        "vector of values rather than having to loop through each value\n",
        "separately. Vectorized functions return a vector or results of the same\n",
        "size as your input. That means that if you needed to do a computation on\n",
        "every element of a vector you could either loop through all the elements\n",
        "and call that function *or* you can take advantage of the vectorized\n",
        "structure and call the function on the whole vector. This is generally\n",
        "cleaner and more efficient. The `any()` function up not a vectorized\n",
        "function since it returns a single TRUE/FALSE value but it also helps to\n",
        "make our code cleaner.\n",
        "\n",
        "Another tool that can help with brevity in this manner is the family of\n",
        "*apply functions*. These are loop-hiding functions. In\n",
        "**?@sec-data-files**, we saw the `apply(X, MARGIN, FUN)` function. This\n",
        "function called the function `FUN` on either the rows (`MARGIN = 1`) or\n",
        "columns (`MARGIN = 2`) of `X`, which is data frame or matrix `X`. Below,\n",
        "we generate a random matrix `X` and compute the column means using a\n",
        "loop and using the `apply()` function. We can see that the version with\n",
        "the `apply()` function is simpler."
      ],
      "id": "12dad4fd-876c-4931-8a00-0be7505b6109"
    },
    {
      "cell_type": "code",
      "execution_count": null,
      "metadata": {},
      "outputs": [
        {
          "output_type": "stream",
          "name": "stdout",
          "text": [
            "[1]  0.06448102  0.28227190  0.06780760 -0.03905682  0.15065828"
          ]
        },
        {
          "output_type": "stream",
          "name": "stdout",
          "text": [
            "[1]  0.06448102  0.28227190  0.06780760 -0.03905682  0.15065828"
          ]
        }
      ],
      "source": [
        "X <- matrix(rnorm(100), nrow = 20, ncol = 5)\n",
        "\n",
        "# Apply mean function  \n",
        "apply(X, 2, mean)"
      ],
      "id": "50437c9b-cb54-4044-a700-44b7929343b8"
    },
    {
      "cell_type": "markdown",
      "metadata": {},
      "source": [
        "Another loop-hiding function is `lapply(X, FUN)`. This function applies\n",
        "the function `X` to each element of `X`. In this case, `X` functions\n",
        "like an iterator and `FUN` will be a function representing what we want\n",
        "to do in each iteration. The result is returned as a list of the\n",
        "function output for each value of `X`. We will use this function in the\n",
        "regression context we saw earlier. Here, `X` is our vector of groups and\n",
        "we have written a custom function to be able to call that code on each\n",
        "group. We will learn how to write our own functions in\n",
        "**?@sec-functions**."
      ],
      "id": "b1df991a-287e-43c5-a83a-0b3a26980087"
    },
    {
      "cell_type": "code",
      "execution_count": null,
      "metadata": {},
      "outputs": [
        {
          "output_type": "stream",
          "name": "stdout",
          "text": [
            "[[1]]\n",
            "    Estimate     Pr(>|t|) \n",
            "7.829969e-01 3.974547e-11 \n",
            "\n",
            "[[2]]\n",
            "     Estimate      Pr(>|t|) \n",
            " 2.499501e+00 7.806423e-138 \n",
            "\n",
            "[[3]]\n",
            "    Estimate     Pr(>|t|) \n",
            "2.005364e+00 1.828387e-51 \n",
            "\n",
            "[[4]]\n",
            "    Estimate     Pr(>|t|) \n",
            "1.242096e+00 8.457748e-09 \n",
            "\n",
            "[[5]]\n",
            "    Estimate     Pr(>|t|) \n",
            "1.926969e+00 1.064056e-11 "
          ]
        }
      ],
      "source": [
        "find_lm_results <- function(group){\n",
        "  # Runs simple linear regression and returns coefficient and p-value\n",
        "  dat <- nhanes[nhanes$RACE == group, ]\n",
        "  mod <- summary(lm(SBP1 ~ LEAD, data = dat))\n",
        "  return(mod$coefficients[2,c(1,4)])\n",
        "}\n",
        "\n",
        "lapply(race_values, find_lm_results)"
      ],
      "id": "bbd8065a-8363-411c-a7b1-1b5533209d8b"
    },
    {
      "cell_type": "markdown",
      "metadata": {},
      "source": [
        "Another useful function is `sapply(X, FUN)`. This function works the\n",
        "same as `lapply()`. However, it then tries to simplify the output to be\n",
        "either a vector or matrix. You can remember the difference by\n",
        "remembering the l in `lapply()` stands for list and the s in `sapply()`\n",
        "stands for simplify."
      ],
      "id": "d15041de-2faa-42c0-9524-729262eec5c3"
    },
    {
      "cell_type": "code",
      "execution_count": null,
      "metadata": {},
      "outputs": [
        {
          "output_type": "stream",
          "name": "stdout",
          "text": [
            "         Mexican American Non-Hispanic White Non-Hispanic Black Other Hispanic\n",
            "Estimate     7.829969e-01       2.499501e+00       2.005364e+00   1.242096e+00\n",
            "Pr(>|t|)     3.974547e-11      7.806423e-138       1.828387e-51   8.457748e-09\n",
            "           Other Race\n",
            "Estimate 1.926969e+00\n",
            "Pr(>|t|) 1.064056e-11"
          ]
        }
      ],
      "source": [
        "sapply(race_values, find_lm_results)"
      ],
      "id": "902b7494-3413-405b-9adf-b4de0f59d407"
    },
    {
      "cell_type": "markdown",
      "metadata": {},
      "source": [
        "The last loop-hiding function we will see is `replicate(n, expr)`. This\n",
        "runs the code expression `expr` `n` times and returns the results. By\n",
        "default, this simplifies the output similar to `sapply()`. If you set\n",
        "`simplify=FALSE`, it will return a list. The code below a random matrix\n",
        "and computes the column means six times."
      ],
      "id": "8e83dfed-78fe-4120-acc3-f725ebbdc853"
    },
    {
      "cell_type": "code",
      "execution_count": null,
      "metadata": {},
      "outputs": [
        {
          "output_type": "stream",
          "name": "stdout",
          "text": [
            "            [,1]       [,2]        [,3]       [,4]        [,5]        [,6]\n",
            "[1,]  0.04736098 -0.2701007  0.18603142  0.4988688 -0.17429585  0.56306235\n",
            "[2,] -0.26227917  0.2108563  0.10692711 -0.2997696  0.09861541  0.09118708\n",
            "[3,]  0.78137639  0.2469167  0.14771552 -0.2808508 -0.25472965 -0.06623862\n",
            "[4,]  0.78990435 -0.7508045 -0.02087453  0.1320180 -0.30940997  0.30601036\n",
            "[5,] -0.16509581 -0.2736234 -0.03827229 -0.2040140 -0.19686323  0.16599314"
          ]
        }
      ],
      "source": [
        "replicate(6, colMeans(matrix(rnorm(100), ncol=5)))"
      ],
      "id": "86298f81-9050-459d-b908-52fa9e3ef6c2"
    },
    {
      "cell_type": "raw",
      "metadata": {
        "raw_mimetype": "text/html"
      },
      "source": [
        "<!--\n",
        "::: {.content-visible when-format=\"html\"}\n",
        "## Recap Video\n",
        "\n",
        "\n",
        "\n",
        "\n",
        "https://www.youtube.com/embed/EU0UJN68OWQ\n",
        "\n",
        "\n",
        "\n",
        "\n",
        "\n",
        "\n",
        ":::\n",
        "-->"
      ],
      "id": "2df3defc-fa4f-40ef-8105-b806a1e9de88"
    },
    {
      "cell_type": "markdown",
      "metadata": {},
      "source": [
        "## Exercises\n",
        "\n",
        "For these exercises, we will use the `pain` data from the **HDSinRdata**\n",
        "package. You can use the help operator `?pain` to learn more about the\n",
        "source of these data and to read its column descriptions.\n",
        "\n",
        "1.  Create a new column `PAT_RACE_SIMP` that represents a patient’s race\n",
        "    using three categories: White, Black, or Other. First, do this using\n",
        "    the `case_when()` function. Then, use a loop and if-else statement\n",
        "    to accomplish the same thing.\n",
        "\n",
        "2.  For each category of your new column `PAT_RACE_SIMP`, subset the\n",
        "    data to that group and find the five body regions with the highest\n",
        "    proportion of patients with pain. Your solution should use two\n",
        "    nested loops. Then, rewrite your code without using a loop.\n",
        "\n",
        "3.  The code below sorts a numeric vector `x` but is missing comments to\n",
        "    explain the steps. Read through the code and add your own comments\n",
        "    to explain how this works.\n",
        "\n",
        "    ``` r\n",
        "    x <- c(1,3,0,3,2,6,4)\n",
        "\n",
        "    n <- length(x)\n",
        "    for (i in 1:(n-1)){\n",
        "\n",
        "      next_ind <- i\n",
        "      for (j in (i+1):n){\n",
        "        if (x[j] < x[next_ind]){\n",
        "          next_ind <- j\n",
        "        }\n",
        "      }\n",
        "\n",
        "      temp <- x[i]\n",
        "      x[i] <- x[next_ind]\n",
        "      x[next_ind] <- temp\n",
        "    }\n",
        "\n",
        "    x \n",
        "    ```\n",
        "\n",
        "        [1] 0 1 2 3 3 4 6\n",
        "\n",
        "4.  Write code using a loop that generates a series of Bernoulli random\n",
        "    variables with probability of success of 0.5 until at least $r <- 6$\n",
        "    successes occur. What distribution does this correspond to?"
      ],
      "id": "d7ea6c1f-8f9a-4cdc-b469-12beea0c6185"
    }
  ],
  "nbformat": 4,
  "nbformat_minor": 5,
  "metadata": {
    "kernelspec": {
      "display_name": "Python 3",
      "language": "python",
      "name": "python3"
    }
  }
}