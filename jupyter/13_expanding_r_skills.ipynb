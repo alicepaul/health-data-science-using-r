{
  "cells": [
    {
      "cell_type": "markdown",
      "metadata": {},
      "source": [
        "# Expanding your R Skills {#sec-expanding-skills}\n",
        "\n",
        "Throughout this book, we have covered some popular packages as well as many of the specific functions from these packages. However, it would be impossible to cover all of the packages, functions, and options that R has. As you start to apply the tools from this book to your own work or in new settings, you may need to install and use new packages or encounter some unexpected errors. Practicing reading package documentation and responding to error messages will help you be able to expand your R skills beyond the topics covered here.\n",
        "\n",
        "We will demonstrate these skills using the **stringr** package [@R-stringr], which is a package that is part of the tidyverse and has several functions for dealing with text data."
      ]
    },
    {
      "cell_type": "code",
      "metadata": {},
      "source": [
        "library(tidyverse)\n",
        "library(HDSinRdata)"
      ],
      "execution_count": null,
      "outputs": []
    },
    {
      "cell_type": "markdown",
      "metadata": {},
      "source": [
        "## Reading Documentation for New Packages\n",
        "\n",
        "Every published package has a CRAN website. This website contains a reference manual that contains the documentation for the functions and data available in the package. Most often, the website also includes useful vignettes that give examples of how to use the functions in the package. The site also tells you what the requirements for using the package are, who the authors of the package are, and when the package was last updated. For example, take a look at the CRAN site for [stringr](https://cran.r-project.org/web/packages/stringr/index.html) and read the vignette [\"Introduction to String R\"](https://cran.r-project.org/web/packages/stringr/vignettes/stringr.html).\n",
        "\n",
        "We will use this **stringr** package to clean up text related to a PubMed search query for a systematic review. An example search query is given below and is taken from @GUE202131. Our first goal will be to extract the actual search query from the text along with all the terms used in the query. We can assume that the search query will either be fully contained in parentheses or will be a sequence of parenthetical phrases connected with AND or OR. Our goal is to extract the search query as well as all the individual search terms used in the query, but we have to get there in a series of steps."
      ]
    },
    {
      "cell_type": "code",
      "metadata": {},
      "source": [
        "sample_str <- \" A systematic search will be performed in PubMed, Embase, and the \n",
        "Cochrane Library, using the following search query:   ('out-of-hospital cardiac \n",
        "arrest' OR 'OHCA') AND ('MIRACLE 2' OR 'OHCA' OR 'CAHP' OR 'C-GRAPH' OR 'SOFA' \n",
        "OR 'APACHE' OR 'SAPS’ OR ’SWAP’ OR ’TTM’).\""
      ],
      "execution_count": null,
      "outputs": []
    },
    {
      "cell_type": "markdown",
      "metadata": {},
      "source": [
        "The first thing we want to do with the text is clean up the whitespace by removing any trailing, leading, or repeated spaces. In our example, the string starts with a trailing space and there are also multiple spaces right before the search query. Searching for \"whitespace\" in the stringr reference manual, we find the `str_trim()` and `str_squish()` functions. Read the documentation for these two functions. You should find that `str_squish()` is the function we are looking for and that it takes a single argument."
      ]
    },
    {
      "cell_type": "code",
      "metadata": {},
      "source": [
        "sample_str <- str_squish(sample_str)\n",
        "sample_str"
      ],
      "execution_count": null,
      "outputs": []
    },
    {
      "cell_type": "markdown",
      "metadata": {},
      "source": [
        "## Trying Simple Examples\n",
        "\n",
        "The premise above is a good example of starting with a simple case. Rather than applying your function to your full data set right away, you want to first make sure that you understand how it works on a simple example on which you can anticipate what the outcome should look like. My next task will be to split the text into words and store this as a character vector. Read the documentation to determine why I used the `str_split_1()` function below. I then double check that the returned result is indeed a vector and print the result."
      ]
    },
    {
      "cell_type": "code",
      "metadata": {},
      "source": [
        "sample_str_words <- str_split_1(sample_str, \" \")\n",
        "class(sample_str_words)\n",
        "sample_str_words"
      ],
      "execution_count": null,
      "outputs": []
    },
    {
      "cell_type": "markdown",
      "metadata": {},
      "source": [
        "We now want to identify words in this vector that have starting and/or end parentheses. The function `grepl()` takes in a character vector `x` and a pattern to search for. It returns a logical vector for whether or not each element of `x` has a match for that pattern."
      ]
    },
    {
      "cell_type": "code",
      "metadata": {},
      "source": [
        "grepl(sample_str_words, \")\")"
      ],
      "execution_count": null,
      "outputs": []
    },
    {
      "cell_type": "markdown",
      "metadata": {},
      "source": [
        "Huh, that didn't match what I expected! I expected to have multiple TRUE/FALSE values outputted - one for each word. Let's read the documentation again.\n",
        "\n",
        "## Deciphering Error Messages and Warnings\n",
        "\n",
        "The warning message above will give us a good clue for what went wrong. It says that the inputted pattern has length \\> 1. However, the pattern I gave it is a single character. In fact, I specified the arguments in the wrong order. Let's try again. This time I specify `x` and `pattern`."
      ]
    },
    {
      "cell_type": "code",
      "metadata": {},
      "source": [
        "grepl(x=sample_str_words, pattern=\")\")"
      ],
      "execution_count": null,
      "outputs": []
    },
    {
      "cell_type": "markdown",
      "metadata": {},
      "source": [
        "That worked! However, it won't work if we change that to a starting parentheses. Try it out for yourself to see this. The error message says that it is looking for an end parentheses. In this case, the documentation does not help us. Let's try googling \"stringr find start parentheses\". The first search result for me is a [stack overflow question](https://stackoverflow.com/questions/56174805/how-to-search-for-strings-with-parentheses-in-r) that helps us out. We read that we need to use backslashes to tell R to read the parentheses literally rather than as a special character used in a regular expression."
      ]
    },
    {
      "cell_type": "code",
      "metadata": {},
      "source": [
        "grepl(x=sample_str_words, pattern=\"\\\\(\")"
      ],
      "execution_count": null,
      "outputs": []
    },
    {
      "cell_type": "markdown",
      "metadata": {},
      "source": [
        "When a function doesn't return what we expect it to, it is a good idea to first test whether the arguments we gave it match what we expect, then to re-read the documentation, and then to look for other resources for help. For example, we could check that `sample_str_words` is indeed a character vector, then re-read the `stringr` documentation, and then google our problem.\n",
        "\n",
        "### Debugging Code\n",
        "\n",
        "The code below is supposed to extract the search query from the text as well as find the individual search terms used in the query. However, the code is incorrect. You can try out to two test strings given to see why the code output is wrong. Practice reading through the code to understand what it is trying to do. The comments are there to help explain the steps, but you may also want to print the output to figure out what it is doing."
      ]
    },
    {
      "cell_type": "code",
      "metadata": {},
      "source": [
        "sample_strA <- \" A systematic search will be performed in PubMed, Embase, and \n",
        "the Cochrane Library, using the following search query:   ('out-of-hospital \n",
        "cardiac arrest' OR 'OHCA') AND ('MIRACLE 2' OR 'OHCA' OR 'CAHP' OR 'C-GRAPH' \n",
        "OR 'SOFA' OR 'APACHE' OR 'SAPS’ OR ’SWAP’ OR ’TTM’).\"\n",
        "\n",
        "sample_strB <- \"Searches will be conducted in MEDLINE via PubMed, Web of \n",
        "Science, Scopus and Embase. The following search strategy will be used:(child \n",
        "OR infant OR preschool child OR preschool children OR preschooler OR pre-school \n",
        "child OR pre-school children OR pre school child OR pre school children OR \n",
        "pre-schooler OR pre schooler OR children OR adolescent OR adolescents)AND\n",
        "(attention deficit disorder with hyperactivity OR ADHD OR attention deficit\n",
        "disorder OR ADD OR hyperkinetic disorder OR minimal brain disorder) Submitted \""
      ],
      "execution_count": null,
      "outputs": []
    },
    {
      "cell_type": "code",
      "metadata": {},
      "source": [
        "sample_str <- sample_strB\n",
        "\n",
        "# separate parentheses, remove extra whitespace, and split into words\n",
        "sample_str <- str_replace(sample_str, \"\\\\)\", \" \\\\) \")\n",
        "sample_str <- str_replace(sample_str, \"\\\\(\", \" \\\\( \")\n",
        "sample_str <- str_squish(sample_str)\n",
        "sample_str_words <- str_split_1(sample_str, \" \")\n",
        "\n",
        "# find indices with parentheses \n",
        "end_ps <- grepl(x=sample_str_words, pattern=\"\\\\)\")\n",
        "start_ps <- grepl(x=sample_str_words, pattern=\"\\\\(\")\n",
        "\n",
        "# find words between first and last parentheses \n",
        "search_query <- sample_str_words[ which(end_ps)[1]:which(start_ps)[1]]\n",
        "search_query <- paste(search_query, collapse=\" \")\n",
        "search_query\n",
        "\n",
        "# find search terms\n",
        "search_terms <- str_replace_all(search_query, \"\\\\)\", \"\")\n",
        "search_terms <- str_replace_all(search_query, \"\\\\(\", \"\")\n",
        "sample_terms <- str_squish(search_query)\n",
        "search_terms <- str_split_1(search_terms, \" AND | OR \")\n",
        "search_terms"
      ],
      "execution_count": null,
      "outputs": []
    },
    {
      "cell_type": "markdown",
      "metadata": {},
      "source": [
        "::: {.content-visible when-format=\"html\"}\n",
        "## Video Solution\n",
        "\n",
        "We will show how we can test and fix the code above by using some simple debugging principles.\n",
        "\n",
        "{{< video https://www.youtube.com/embed/2yfjXyAbbK8 width=\"700\" height=\"500\" >}}\n",
        ":::\n",
        "\n",
        "## General Programming Tips\n",
        "\n",
        "As you write more complex code and functions, it is inevitable that you will run into errors or unexpected behavior. Below are some simple principles that are applicable to debugging in any setting. When it comes to testing code, a good mantra is *test early and test often*. So, try to avoid writing too much code before running and checking that the results match what you expect.\n",
        "\n",
        "1.  Check that all parentheses (), brackets \\[\\], and curly braces {} match.\n",
        "\n",
        "2.  Check that object names are correct.\n",
        "\n",
        "3.  Check whether you use the same name for different objects or whether you use different names for the same object. You can do this by using the `ls()` function to find all current objects.\n",
        "\n",
        "4.  Check that the input arguments to a function match what is expected.\n",
        "\n",
        "5.  Try simple examples first. You can use the documentation or vignette examples for ideas.\n",
        "\n",
        "6.  Localize your error by checking the values of objects at different points.\n",
        "\n",
        "7.  Modify your code one piece at a time before checking it to avoid introducing new errors.\n",
        "\n",
        "8.  Google error messages you don't understand. R's messages can sometimes hint at what the error might stem from, but they are not always direct.\n",
        "\n",
        "## Exercises\n",
        "\n",
        "1.  Suppose we want to replace the words \"Thank you\" in the following string with the word \"Thanks\". Why does the below code fail? How can we correct it?"
      ]
    },
    {
      "cell_type": "code",
      "metadata": {
        "md-indent": "    "
      },
      "source": [
        "string <- \"Congratulations on finishing the book! Thank you for reading it.\"\n",
        "str_sub(string, c(35, 42)) <- \"Thanks\"\n",
        "string"
      ],
      "execution_count": null,
      "outputs": []
    },
    {
      "cell_type": "markdown",
      "metadata": {},
      "source": [
        "2.  The code below uses the `NHANESsample` data from the **HDSinRdata** package. The goal of the code is to plot the worst diastolic blood pressure reading against the worst systolic blood pressure reading for each patient, colored by hypertension status. However, the code currently generates an error message. What is wrong with the code below? There are four errors for you to identify and fix."
      ]
    },
    {
      "cell_type": "code",
      "metadata": {
        "md-indent": "    "
      },
      "source": [
        "data(NHANESsample)\n",
        "\n",
        "nhanes_df <- NHANESsample %>% mutate(worst_DBP = max(DBP1, DBP2, DBP3, DBP4),\n",
        "                                 worst_SBP = max(SBP1, SBP2, SBP3, SBP4))\n",
        "\n",
        "ggplot() %>% geom_point(data = nhanes_df, aes(x = worst_SBP, y = worst_DBP), \n",
        "                    color = HYP)"
      ],
      "execution_count": null,
      "outputs": []
    },
    {
      "cell_type": "markdown",
      "metadata": {},
      "source": [
        "3.  The code below uses the `breastcancer` data from the **HDSinRdata** package. The goal is to create a logistic regression model for whether or not the diagnosis is benign or malignant and then to create a calibration plot for the model, following the code from [Chapter -@sec-logistic-regression]. What is wrong with the code below? Debug it. Hint: there are three separate errors."
      ]
    },
    {
      "cell_type": "code",
      "metadata": {
        "md-indent": "    "
      },
      "source": [
        "data(breastcancer)\n",
        "\n",
        "model <- glm(diagnosis ~ smoothness_worst + symmetry_mean + texture_se + \n",
        "           radius_mean, data = breastcancer, family = binomial)\n",
        "\n",
        "pred_probs <- predict(model)\n",
        "\n",
        "num_cuts <- 10\n",
        "calib_data <-  data.frame(prob = pred_probs,\n",
        "                      bin = cut(pred_probs, breaks = num_cuts),\n",
        "                      class = mod_start$y)\n",
        "\n",
        "calib_data <- calib_data %>% \n",
        "         group_by(bin) %>% \n",
        "         summarize(observed = sum(class)/n(), \n",
        "                   expected = sum(prob)/n(), \n",
        "                   se = sqrt(observed*(1-observed)/n()))\n",
        "calib_data\n",
        "\n",
        "ggplot(calib_data) + \n",
        "  geom_abline(intercept = 0, slope = 1, color=\"red\") + \n",
        "  geom_errorbar(aes(x = expected, ymin=observed-1.96*se, \n",
        "                ymax=observed+1.96*se), \n",
        "            colour=\"black\", width=.01)+\n",
        "  geom_point(aes(x = expected, y = observed)) +\n",
        "  labs(x=\"Expected Proportion\", y=\"Observed Proportion\") +\n",
        "  theme_minimal()"
      ],
      "execution_count": null,
      "outputs": []
    }
  ],
  "metadata": {
    "kernelspec": {
      "name": "ir",
      "language": "R",
      "display_name": "R"
    }
  },
  "nbformat": 4,
  "nbformat_minor": 4
}