{
  "cells": [
    {
      "cell_type": "markdown",
      "metadata": {},
      "source": [
        "# \n",
        "\n",
        "# Functions\n",
        "\n",
        "Functions are an important part of creating reproducible research and\n",
        "clean code. So far we have been using many useful functions from base R\n",
        "and available packages by learning how to specify the inputs and use the\n",
        "output. We now shift to writing our own functions. To start, we need to\n",
        "understand the arguments and return values of functions as well as the\n",
        "scope of objects used or created within functions. We also talk about\n",
        "how to document, test, and debug your functions so that we can ensure\n",
        "they are correct and easy to use. We use the **testthat** package to\n",
        "create simple tests for our functions."
      ],
      "id": "ff2f8d89-a908-40f0-905a-c8f9c0b802fe"
    },
    {
      "cell_type": "code",
      "execution_count": null,
      "metadata": {},
      "outputs": [],
      "source": [
        "library(testthat)\n",
        "library(tidyverse)"
      ],
      "id": "35983cc1-dc5a-4c9b-b468-c849822bc385"
    },
    {
      "cell_type": "markdown",
      "metadata": {},
      "source": [
        "One type of function we have already written is an *anonymous function*.\n",
        "These are functions that are not saved or given a name. These functions\n",
        "typically exist if we want to input a function argument to another\n",
        "function but we don’t want to save that function for future use. For\n",
        "example, in the following code, we use the `apply()` function on a data\n",
        "frame to find the proportion of observations that are NA for each\n",
        "column. Note that since the function is so short, it is easy enough to\n",
        "define within the `apply()` function call by just including the code for\n",
        "what is returned. For functions with more than one line, you would not\n",
        "want to use an anonymous function and would need to define the function."
      ],
      "id": "18fe8d92-706f-447d-8680-44340c84ad1d"
    },
    {
      "cell_type": "code",
      "execution_count": null,
      "metadata": {},
      "outputs": [
        {
          "output_type": "stream",
          "name": "stdout",
          "text": [
            "  x1   x2   x3 \n",
            "0.25 0.00 0.50 "
          ]
        }
      ],
      "source": [
        "df <- data.frame(x1 = c(NA, 1, 1, 0),\n",
        "                 x2 = c(0, 1, 0, 0),\n",
        "                 x3 = c(0, 0, NA, NA))\n",
        "apply(df, 2, function(x) sum(is.na(x)) / length(x)) "
      ],
      "id": "487201ac-6922-46b0-a599-cd315d4b6c01"
    },
    {
      "cell_type": "markdown",
      "metadata": {},
      "source": [
        "## Components of a Function\n",
        "\n",
        "To start storing functions, we need to give them a name and define their\n",
        "input (arguments) and output (return values). To do so, we assign a\n",
        "function name to a function object as shown in the following code. This\n",
        "example function has two arguments `arg1` and `arg2` and returns\n",
        "`output`.\n",
        "\n",
        "    function_name <- function(arg1, arg2){\n",
        "      code to compute output from arguments\n",
        "      return(output)\n",
        "    }\n",
        "\n",
        "Take a look at the following simple function. The name of this function\n",
        "is `say_hello`, and there is no input (arguments) or output (return\n",
        "values) associated with this function. Instead, it just prints out a\n",
        "hello statement."
      ],
      "id": "391848fd-63b1-4ea6-8c04-6be466072eb2"
    },
    {
      "cell_type": "code",
      "execution_count": null,
      "metadata": {},
      "outputs": [],
      "source": [
        "say_hello <- function(){\n",
        "  print(\"Hello!\")\n",
        "}"
      ],
      "id": "142299b2-0951-44a3-a183-15dbb908bb30"
    },
    {
      "cell_type": "markdown",
      "metadata": {},
      "source": [
        "Running the previous code creates an object called `say_hello` of the\n",
        "class `function`. We can run this function by calling it using empty\n",
        "parentheses (since there are no input arguments)."
      ],
      "id": "710f067c-8ccb-4d18-887c-ca309f5eae75"
    },
    {
      "cell_type": "code",
      "execution_count": null,
      "metadata": {},
      "outputs": [
        {
          "output_type": "stream",
          "name": "stdout",
          "text": [
            "[1] \"function\""
          ]
        }
      ],
      "source": [
        "class(say_hello)"
      ],
      "id": "9a91f9a5-539d-4a04-b297-200a035a2422"
    },
    {
      "cell_type": "code",
      "execution_count": null,
      "metadata": {},
      "outputs": [
        {
          "output_type": "stream",
          "name": "stdout",
          "text": [
            "[1] \"Hello!\""
          ]
        }
      ],
      "source": [
        "say_hello()"
      ],
      "id": "fbb876f3-1dff-4796-973f-7320a2fb1b19"
    },
    {
      "cell_type": "markdown",
      "metadata": {},
      "source": [
        "We can add to this function by instead adding our first argument called\n",
        "`name` which is a string and then printing “Hello, \\[name\\]!”. In the\n",
        "next code chunk, we use the `paste0()` function which concatenates the\n",
        "string arguments into a single string."
      ],
      "id": "7336cc98-ced8-4e03-bc6e-eb5783e78c3e"
    },
    {
      "cell_type": "code",
      "execution_count": null,
      "metadata": {},
      "outputs": [
        {
          "output_type": "stream",
          "name": "stdout",
          "text": [
            "[1] \"Hello, Weici!\""
          ]
        }
      ],
      "source": [
        "say_hello <- function(name){\n",
        "  print(paste0(\"Hello, \", name, \"!\"))\n",
        "}\n",
        "say_hello(\"Weici\")"
      ],
      "id": "11ff0cb5-2210-4708-83fa-251ea3ada408"
    },
    {
      "cell_type": "markdown",
      "metadata": {},
      "source": [
        "### Arguments \n",
        "\n",
        "Arguments are inputs passed to functions so that they can complete the\n",
        "desired computation. We can also have default values for these\n",
        "arguments. In this case, those arguments do not have to be specified\n",
        "when calling the function. For example, `rnorm(10)` uses the default\n",
        "value for the mean to understand which distribution we want to use. In\n",
        "the following function, we find the Euclidean distance from a given\n",
        "(x,y,z) coordinate and the origin (0,0,0) with a default value of zero\n",
        "for all values."
      ],
      "id": "92dfeff1-7cf7-4949-b84f-2e801d741632"
    },
    {
      "cell_type": "code",
      "execution_count": null,
      "metadata": {},
      "outputs": [],
      "source": [
        "dist_to_origin <- function(x = 0,y = 0,z = 0){\n",
        "  return(((x - 0)^2 + (y - 0)^2 + (z - 0)^2)^(0.5))\n",
        "}"
      ],
      "id": "c95c96b1-1575-46ef-b071-4740006300ed"
    },
    {
      "cell_type": "markdown",
      "metadata": {},
      "source": [
        "If we call this function with no arguments, it uses all the default\n",
        "values."
      ],
      "id": "4ae09746-4fc3-4281-907a-a63f9954f035"
    },
    {
      "cell_type": "code",
      "execution_count": null,
      "metadata": {},
      "outputs": [
        {
          "output_type": "stream",
          "name": "stdout",
          "text": [
            "[1] 0"
          ]
        }
      ],
      "source": [
        "dist_to_origin()"
      ],
      "id": "17ddb0b6-9fc1-45f1-b7c8-8f9c04c3c463"
    },
    {
      "cell_type": "markdown",
      "metadata": {},
      "source": [
        "However, if we call the function with one argument, the function assumes\n",
        "this first argument is `x`. Similarly, it assumes the second value is\n",
        "`y` and the third value is `z`. If we want to give the arguments without\n",
        "worrying about the order, we can specify them using their names (see the\n",
        "last line in the following code chunk)."
      ],
      "id": "1f3d0e0b-1d06-4996-952c-26b3a80bf312"
    },
    {
      "cell_type": "code",
      "execution_count": null,
      "metadata": {},
      "outputs": [
        {
          "output_type": "stream",
          "name": "stdout",
          "text": [
            "[1] 1"
          ]
        },
        {
          "output_type": "stream",
          "name": "stdout",
          "text": [
            "[1] 2.236068"
          ]
        },
        {
          "output_type": "stream",
          "name": "stdout",
          "text": [
            "[1] 3.741657"
          ]
        },
        {
          "output_type": "stream",
          "name": "stdout",
          "text": [
            "[1] 3.605551"
          ]
        }
      ],
      "source": [
        "dist_to_origin(1)"
      ],
      "id": "df0469af-69c9-44f1-8aab-82b2523213a1"
    },
    {
      "cell_type": "markdown",
      "metadata": {},
      "source": [
        "Besides passing in numeric values, strings, data frames, lists, or\n",
        "vectors, we can also pass other types of objects in as arguments to a\n",
        "function. For example, we can take another function in as an argument.\n",
        "In the next example, we create two functions. The first function\n",
        "calculates the Euclidean distance between two points. The second one\n",
        "computes the distance from a given point to the origin. Note that this\n",
        "updated function to find the distance to the origin is more flexible and\n",
        "written in a cleaner manner. First, it allows us to input a point of any\n",
        "length. Second, it allows us to specify the distance function used. This\n",
        "also demonstrates calling a function within another function.\n",
        "\n",
        "Try out calling `euclidean_dist()` and `dist_to_origin()` on different\n",
        "values."
      ],
      "id": "6018d5a1-4ba2-4058-a906-d0e6fbea64c6"
    },
    {
      "cell_type": "code",
      "execution_count": null,
      "metadata": {},
      "outputs": [
        {
          "output_type": "stream",
          "name": "stdout",
          "text": [
            "[1] 1.414214"
          ]
        }
      ],
      "source": [
        "euclidean_dist <- function(pt1, pt2){\n",
        "  # Finds the Euclidean distance from pt1 to pt2\n",
        "  return(sqrt(sum((pt1- pt2)^2)))\n",
        "}\n",
        "\n",
        "dist_to_origin <- function(pt1, dist_func = euclidean_dist){\n",
        "  # Finds the distance from pt1 to the origin\n",
        "  origin <- rep(0, length(pt1))\n",
        "  return(dist_func(pt1, origin))\n",
        "}\n",
        "\n",
        "dist_to_origin(c(1,1))"
      ],
      "id": "7f034c58-28f1-4e1e-8a5b-90917f37feea"
    },
    {
      "cell_type": "markdown",
      "metadata": {},
      "source": [
        "### Practice Question\n",
        "\n",
        "Write a function that calculates the Manhattan distance between two\n",
        "points `pt1` and `pt2`, where the Manhattan distance is the sum of\n",
        "absolute differences between points across all the dimensions. To check\n",
        "your solution, you should check that the distance between points\n",
        "`pt1 <- c(1,-1,1.5)` and `pt2 <- c(0.5, 2.5, -1)` is 6.5."
      ],
      "id": "de6b24a6-dfca-467a-b7c4-111c13620fb3"
    },
    {
      "cell_type": "code",
      "execution_count": null,
      "metadata": {},
      "outputs": [],
      "source": [
        "# Insert your solution here:"
      ],
      "id": "6b117a7f-5a8a-4156-bbb5-81176ebed56b"
    },
    {
      "cell_type": "markdown",
      "metadata": {},
      "source": [
        "Another type of argument to a function can be a formula. If you have\n",
        "used linear regression in R, you have seen this in practice. In the\n",
        "following code, we fit a simple linear model where we specify a model\n",
        "formula `y~x` as the first argument. We are also using default arguments\n",
        "for `rnorm()` on the first two lines."
      ],
      "id": "e15f278e-e1c2-4668-9b88-221164672ffd"
    },
    {
      "cell_type": "code",
      "execution_count": null,
      "metadata": {},
      "outputs": [
        {
          "output_type": "stream",
          "name": "stdout",
          "text": [
            "\n",
            "Call:\n",
            "lm(formula = y ~ x)\n",
            "\n",
            "Coefficients:\n",
            "(Intercept)            x  \n",
            "    -0.1511       1.0371  "
          ]
        }
      ],
      "source": [
        "x <- rnorm(mean = 3, n = 100)\n",
        "y <- x + rnorm(sd = 0.2, n = 100)\n",
        "\n",
        "lm(y ~ x)"
      ],
      "id": "80d5ca3c-c2db-4940-91de-c0a33903950b"
    },
    {
      "cell_type": "markdown",
      "metadata": {},
      "source": [
        "### Return Values \n",
        "\n",
        "If we read the documentation for `lm()` by calling `?lm`, we can see\n",
        "that there are a lot of arguments that have default values. The other\n",
        "thing to note about the `lm` documentation is that there are multiple\n",
        "values returned. In fact, the type of object returned is a list\n",
        "containing all the different things we want to know about the results\n",
        "such as the coefficients."
      ],
      "id": "742de24b-0c06-4c57-b7af-9975a61080d4"
    },
    {
      "cell_type": "code",
      "execution_count": null,
      "metadata": {},
      "outputs": [
        {
          "output_type": "stream",
          "name": "stdout",
          "text": [
            "(Intercept)           x \n",
            " -0.1510947   1.0370961 "
          ]
        }
      ],
      "source": [
        "simp_model <- lm(y ~ x)\n",
        "simp_model$coefficients"
      ],
      "id": "7d73677c-8237-4445-976e-bdb1d088d665"
    },
    {
      "cell_type": "markdown",
      "metadata": {},
      "source": [
        "Since R only allows you to return one object, packaging the return\n",
        "values into a list is a useful way to return multiple outputs from a\n",
        "function. In the following example, we create a function `coin_flips()`\n",
        "that takes in a probability `prob` and a number of iterations `n` (with\n",
        "default value 10) and simulates `n` coin flips where the coin has a\n",
        "probability of `prob` of landing on heads. The function returns the\n",
        "percentage of trials that were heads and the results of the coin flips.\n",
        "We can access each of these returned values by using the names\n",
        "`percent_heads` and `results`."
      ],
      "id": "908ac629-9d07-4588-8e0a-f7b4fc16e268"
    },
    {
      "cell_type": "code",
      "execution_count": null,
      "metadata": {},
      "outputs": [
        {
          "output_type": "stream",
          "name": "stdout",
          "text": [
            "[1] 0.4"
          ]
        },
        {
          "output_type": "stream",
          "name": "stdout",
          "text": [
            " [1] 0 1 1 0 0 0 0 0 1 1"
          ]
        }
      ],
      "source": [
        "coin_flips <- function(prob, n = 10){\n",
        "  # Flips a coin with probability prob of heads for n trials\n",
        "  \n",
        "  results <- rbinom(n = n, size = 1, prob = prob)\n",
        "  return(list(percent_heads = sum(results)/n, results = results))\n",
        "}\n",
        "trial <- coin_flips(0.6)\n",
        "trial$percent_heads"
      ],
      "id": "462cbeff-e77e-4ed5-a91a-42717096b584"
    },
    {
      "cell_type": "markdown",
      "metadata": {},
      "source": [
        "One important thing to know about R and return values: if you don’t\n",
        "specify a return statement but assign the output of our function to an\n",
        "object, it will assign the value to the last computed object by default.\n",
        "In the following code, the value returned is 3. Avoid unexpected\n",
        "behavior by always using the `return()` function."
      ],
      "id": "0d105a8d-3c5e-43ea-97bd-6a532a327133"
    },
    {
      "cell_type": "code",
      "execution_count": null,
      "metadata": {},
      "outputs": [
        {
          "output_type": "stream",
          "name": "stdout",
          "text": [
            "[1] 3"
          ]
        }
      ],
      "source": [
        "ex_return <- function(){\n",
        "  x <- 2\n",
        "  y <- 3\n",
        "}\n",
        "result <- ex_return()\n",
        "result"
      ],
      "id": "d2d49b59-06e0-42d1-a7b4-443167c559b2"
    },
    {
      "cell_type": "markdown",
      "metadata": {},
      "source": [
        "### Scope of Objects \n",
        "\n",
        "When working within functions and calling functions, we want to remember\n",
        "the scope of our objects. *Global objects* are objects defined outside\n",
        "of functions. These values can also be accessed outside or inside\n",
        "functions. For example, the object `y` is defined outside of a function\n",
        "and so is a global object, meaning we can use its value inside the\n",
        "function."
      ],
      "id": "1efad076-6b3a-427e-9904-b2a8edacd1d3"
    },
    {
      "cell_type": "code",
      "execution_count": null,
      "metadata": {},
      "outputs": [
        {
          "output_type": "stream",
          "name": "stdout",
          "text": [
            "[1] \"Hey, Cassandra\""
          ]
        }
      ],
      "source": [
        "y <- \"Cassandra\"\n",
        "\n",
        "ex_scope <- function(){\n",
        "  return(paste(\"Hey,\", y))\n",
        "}\n",
        "\n",
        "ex_scope()"
      ],
      "id": "157908aa-4956-419f-a8d5-0d84cf09dec2"
    },
    {
      "cell_type": "markdown",
      "metadata": {},
      "source": [
        "If we change the value of a global object within a function however, it\n",
        "does not update the value outside of the function. In the subsequent\n",
        "code chunk, we add 1 to `y` inside the function, but it does not change\n",
        "the value of `y` after the function is done. Every time we run a\n",
        "function, R creates a new sub-environment inside, which can access the\n",
        "values of global objects but also creates its own *local objects*. In\n",
        "this case, the function creates its own object `y`, which is a local\n",
        "object that is a copy of the original object.\n",
        "\n",
        "As another example, the function also creates a local object called `z`\n",
        "which ceases to exist after we run the function. If we try to print `z`\n",
        "on the last line, we would get an error that `z` is not found. All\n",
        "objects created inside functions only exist in that sub-environment and\n",
        "are erased when we are no longer in the function. Therefore, we want to\n",
        "make sure we return any values we want to store."
      ],
      "id": "6bc7fbc2-a446-4df2-b4c1-c851f7f36fe3"
    },
    {
      "cell_type": "code",
      "execution_count": null,
      "metadata": {},
      "outputs": [
        {
          "output_type": "stream",
          "name": "stdout",
          "text": [
            "[1] 18"
          ]
        },
        {
          "output_type": "stream",
          "name": "stdout",
          "text": [
            "[1] 5"
          ]
        }
      ],
      "source": [
        "y <- 5\n",
        "\n",
        "ex_local <- function(x){\n",
        "  y <- y + 1\n",
        "  z <- x * y\n",
        "  return(y + z)\n",
        "}\n",
        "\n",
        "ex_local(2)"
      ],
      "id": "2ce89b42-a675-47a7-852a-ad9a34c0525a"
    },
    {
      "cell_type": "markdown",
      "metadata": {},
      "source": [
        "To update global objects within a function, you can use the `<<-`\n",
        "operator (global assignment operator). This looks for an object in the\n",
        "global environment and updates its value (or creates an object with this\n",
        "value if none is found). For example, the following function updates the\n",
        "value of the global objects `y`. As a general practice, we should be\n",
        "careful using global objects within a function, and it often is safer to\n",
        "use input arguments and return values instead."
      ],
      "id": "7274af15-69d9-4968-adda-b8c0ee3b57d0"
    },
    {
      "cell_type": "code",
      "execution_count": null,
      "metadata": {},
      "outputs": [
        {
          "output_type": "stream",
          "name": "stdout",
          "text": [
            "[1] 8"
          ]
        },
        {
          "output_type": "stream",
          "name": "stdout",
          "text": [
            "[1] 6"
          ]
        }
      ],
      "source": [
        "y <- 5\n",
        "\n",
        "ex_update_global <- function(x){\n",
        "  y <<- y + 1\n",
        "  return(y + x)\n",
        "}\n",
        "\n",
        "ex_update_global(2)"
      ],
      "id": "84cbe086-529e-4c04-8333-0574a0ea8ec1"
    },
    {
      "cell_type": "markdown",
      "metadata": {},
      "source": [
        "### Functions within Functions and Returning Functions  \n",
        "\n",
        "Sometimes we see functions written inside other functions. Writing\n",
        "functions within functions can be useful to separate out some part of\n",
        "the code or to give that function access to the local environment\n",
        "objects. In the following example, the inner function has access to the\n",
        "value of `x` even though we have not passed it as an argument. The\n",
        "downside of this structure is that the function `add_x()` does not exist\n",
        "outside the function, so we cannot call it in other code."
      ],
      "id": "e213b4f9-f683-4f49-9caa-269b1d56c0a2"
    },
    {
      "cell_type": "code",
      "execution_count": null,
      "metadata": {},
      "outputs": [
        {
          "output_type": "stream",
          "name": "stdout",
          "text": [
            " [1]  4  5  6  7  8  9 10 11 12 13"
          ]
        }
      ],
      "source": [
        "add_x_seq <- function(x){\n",
        "  # Adds x to 1:10 and returns\n",
        "  add_x <- function(y){\n",
        "      return(y + x)\n",
        "  }\n",
        "    \n",
        "  return(add_x(1:10))\n",
        "}\n",
        "\n",
        "add_x_seq(3)"
      ],
      "id": "08b0b394-0dab-468f-b520-672c914f017e"
    },
    {
      "cell_type": "markdown",
      "metadata": {},
      "source": [
        "If we want to use the created function, we can return it. In the updated\n",
        "example, we return an anonymous function. By doing so, we create a\n",
        "unique function for each `x` value."
      ],
      "id": "cd268cec-a1ed-46b9-ae8b-676e90e955e6"
    },
    {
      "cell_type": "code",
      "execution_count": null,
      "metadata": {},
      "outputs": [
        {
          "output_type": "stream",
          "name": "stdout",
          "text": [
            " [1]  3  4  5  6  7  8  9 10 11 12"
          ]
        },
        {
          "output_type": "stream",
          "name": "stdout",
          "text": [
            " [1] 11 12 13 14 15 16 17 18 19 20"
          ]
        }
      ],
      "source": [
        "add_x <- function(x){\n",
        "  # Returns a function to add x to any value\n",
        "  return(function(y) y + x)\n",
        "}\n",
        "\n",
        "add2 <- add_x(2)\n",
        "add2(1:10)"
      ],
      "id": "e9fd598e-261e-4528-a9ca-3bbb3b8e7a3c"
    },
    {
      "cell_type": "markdown",
      "metadata": {},
      "source": [
        "## Documenting Functions \n",
        "\n",
        "The functions we wrote had minimal comments or documentation. When\n",
        "creating functions, we should document them including any information\n",
        "about the format of the input and output. We do so using comments that\n",
        "precede the function and start with `#'`. This style of function\n",
        "documentation is called *roxygen*. The following code chunk shows an\n",
        "example for our Euclidean distance function. You can see we provided\n",
        "information about the two arguments and the return value. The roxygen\n",
        "style is the style used for published R packages."
      ],
      "id": "251ae04b-f11f-4310-bd71-0f7b25a68fd2"
    },
    {
      "cell_type": "code",
      "execution_count": null,
      "metadata": {},
      "outputs": [],
      "source": [
        "#' Euclidean distance\n",
        "#' \n",
        "#' @description Calculates the Euclidean distance between two points\n",
        "#'\n",
        "#' @param pt1 numeric vector \n",
        "#' @param pt2 numeric vector \n",
        "#' @return the Euclidean distance from pt1 to pt2\n",
        "euclidean_dist <- function(pt1, pt2){\n",
        "  return((sum((pt1 - pt2)^2))^0.5)\n",
        "}"
      ],
      "id": "a7134cd4-f5a6-4a58-8253-8276fddd6155"
    },
    {
      "cell_type": "markdown",
      "metadata": {},
      "source": [
        "Each comment should start with a pound sign and backtick. The first\n",
        "block of lines is the introduction, and the first line of the comment\n",
        "block is reserved for the title. This is the first information we want\n",
        "the user to know about the function and should be a single line. For all\n",
        "other information besides the title, we use certain tags.\n",
        "\n",
        "-   `@description` This tag should be placed first and is a place where\n",
        "    you can briefly put more information about the function beyond the\n",
        "    title. You can also add more details with the `@details` tag.\n",
        "\n",
        "-   `@param` This tag comes before each input argument’s description.\n",
        "    For each argument, we want to include the name and type, but we\n",
        "    might also include information on how that argument is used.\n",
        "\n",
        "-   `@return` This tag documents the returned object and specifies the\n",
        "    type. If we are returning a list, then we might include information\n",
        "    about each object in the list.\n",
        "\n",
        "### Practice Question\n",
        "\n",
        "Write the documentation for the following coin flip function."
      ],
      "id": "f84f750a-7eba-43d1-8d8a-eaa6b9a842ca"
    },
    {
      "cell_type": "code",
      "execution_count": null,
      "metadata": {},
      "outputs": [],
      "source": [
        "#' Insert your solution here:\n",
        "coin_flips <- function(prob, n = 10){\n",
        "  results <- rbinom(n = n, size = 1, prob = prob)\n",
        "  return(list(percent_heads = sum(results)/n, results = results))\n",
        "}"
      ],
      "id": "6d662d76-71d7-4b72-b647-879aa13f4021"
    },
    {
      "cell_type": "markdown",
      "metadata": {},
      "source": [
        "## Debugging and Testing \n",
        "\n",
        "As we write more complex code and functions, we want to learn how to\n",
        "test our code. When it comes to testing code, a good mantra is “test\n",
        "early and test often”. So avoid writing too much code before running and\n",
        "checking that the results match what you expect. Here are some simple\n",
        "principles that are applicable to debugging in any setting.\n",
        "\n",
        "-   Start simple and build up in steps.\n",
        "-   Check your syntax by checking that all parentheses (), brackets\n",
        "    \\[\\], and curly braces {} match where you expect.\n",
        "-   Check that object names are correct and you don’t have any\n",
        "    accidental typos or that you are accidentally using the same name\n",
        "    for different objects.\n",
        "-   Restart your R session and re-run all code.\n",
        "-   Check if you use the same object name for different objects.\n",
        "-   Localize your error by printing out the values of objects at each\n",
        "    stage or use break points in R.\n",
        "-   Modify your code one piece at a time and check all test values again\n",
        "    to avoid introducing new errors.\n",
        "\n",
        "For example, suppose we want to write a function that finds any pairs of\n",
        "numeric columns with a Pearson correlation with absolute value above a\n",
        "certain threshold. We want our code to be structured so that it makes\n",
        "sense, is flexible to our needs, and avoids unnecessary work. To start\n",
        "building up this function, we need to first think about the inputs and\n",
        "outputs we want. This is called a *top-down approach*. Sketching out the\n",
        "overall steps your code needs to complete before writing any of them can\n",
        "help to improve your structure and avoid having to rewrite large pieces.\n",
        "\n",
        "In this case, our input to this function is a data frame which could\n",
        "contain a mixture of numeric and categorical columns and a threshold\n",
        "correlation value with a default value of 0.6. We want to return a data\n",
        "frame with the pairs and their correlation. This gives us a template for\n",
        "our documentation."
      ],
      "id": "7362fa32-3cc3-40a8-9dfe-32319aaf0713"
    },
    {
      "cell_type": "code",
      "execution_count": null,
      "metadata": {},
      "outputs": [],
      "source": [
        "#' Find pairs of columns with strong correlation\n",
        "#' \n",
        "#' @description Finds all pairs of numeric columns with strong Pearson \n",
        "#' correlation and returns the pairs in a data frame\n",
        "#' \n",
        "#' @param df data frame\n",
        "#' @param threshold positive numeric threshold value to define a \n",
        "#' strong correlation as one with absolute value above the threshold\n",
        "#' @return data frame with one row for each pair of columns\n",
        "#' with high correlation containing the names of the columns \n",
        "#' and the corresponding correlation\n",
        "high_cor <- function(df, threshold = 0.6){\n",
        "  return()\n",
        "}"
      ],
      "id": "67c2ef04-c086-4fa2-8081-e51466053f4d"
    },
    {
      "cell_type": "markdown",
      "metadata": {},
      "source": [
        "Next, to start simple, we want to create some artificial data we can use\n",
        "to test our function. We use the `mvnrorm()` function from the **MASS**\n",
        "package \\[@R-MASS\\] to control the correlation between our columns and\n",
        "add in a categorical column that should be ignored by our function."
      ],
      "id": "7c787564-8c67-4e8e-8247-95a8a6b7e09e"
    },
    {
      "cell_type": "code",
      "execution_count": null,
      "metadata": {},
      "outputs": [
        {
          "output_type": "stream",
          "name": "stdout",
          "text": [
            "NULL"
          ]
        }
      ],
      "source": [
        "set.seed(4)\n",
        "cor_mat <- matrix(c(1, 0.9, 0.4, 0,\n",
        "                    0.9, 1, 0.3, 0,\n",
        "                    0.4, 0.3, 1.0, 0,\n",
        "                    0, 0, 0, 1.0), nrow = 4)\n",
        "m <- round(MASS::mvrnorm(100, c(0,0,0,0), Sigma = cor_mat), 3)\n",
        "test_df <- as.data.frame(m)\n",
        "test_df$V5 <- sample(c(\"A\", \"B\", \"C\"), 100, replace = TRUE)\n",
        "high_cor(test_df)"
      ],
      "id": "00d41163-eb5e-49ae-9543-f531fc4dc09c"
    },
    {
      "cell_type": "markdown",
      "metadata": {},
      "source": [
        "We can use the `cor()` function to find the Pearson correlation."
      ],
      "id": "f13b2ed9-b851-46a4-8801-c285cd56c186"
    },
    {
      "cell_type": "code",
      "execution_count": null,
      "metadata": {},
      "outputs": [
        {
          "output_type": "stream",
          "name": "stdout",
          "text": [
            "            V1          V2         V3          V4\n",
            "V1  1.00000000  0.90063191  0.3240977 -0.07971811\n",
            "V2  0.90063191  1.00000000  0.2912118 -0.07023691\n",
            "V3  0.32409773  0.29121175  1.0000000 -0.23064831\n",
            "V4 -0.07971811 -0.07023691 -0.2306483  1.00000000"
          ]
        }
      ],
      "source": [
        "cor(test_df[,-5])"
      ],
      "id": "64ac99f0-381e-43a4-af69-05d2c61edb37"
    },
    {
      "cell_type": "markdown",
      "metadata": {},
      "source": [
        "Great, now let’s roughly sketch out the steps we need to complete.\n",
        "\n",
        "1.  Subset the data to only numeric columns.\n",
        "2.  Find the correlation of all pairs of columns.\n",
        "3.  Check if a pair has a strong correlation.\n",
        "4.  If so, add it to our results.\n",
        "\n",
        "Let’s start with step 1. Before putting code into our function, we are\n",
        "going to test our steps on our example data. To do so, we use the\n",
        "`select_if()` function from the **dplyr** package."
      ],
      "id": "cc50a7ea-0b06-4242-9a2b-903e3c1497f2"
    },
    {
      "cell_type": "code",
      "execution_count": null,
      "metadata": {},
      "outputs": [
        {
          "output_type": "stream",
          "name": "stdout",
          "text": [
            "      V1     V2     V3     V4\n",
            "1 -0.656  0.417  1.188  0.685\n",
            "2  0.117 -0.336 -1.611 -0.115\n",
            "3  1.229  0.617  0.241 -0.356\n",
            "4  0.478  0.121  1.176 -0.106\n",
            "5  1.546  1.914  0.366  0.045\n",
            "6  0.416  0.110  1.630 -1.726"
          ]
        }
      ],
      "source": [
        "df_numeric <- select_if(test_df, is.numeric)\n",
        "head(df_numeric)"
      ],
      "id": "dfb26057-f538-4dba-b8c9-deb17b30b98a"
    },
    {
      "cell_type": "markdown",
      "metadata": {},
      "source": [
        "This worked. Next we need to find the strong correlations. Now, we can\n",
        "use the correlation function to find the correlations. We then want to\n",
        "iterate through all pairs to check if the absolute value of the\n",
        "correlation is above our threshold. We use a loop for this. In our first\n",
        "attempt, we create a nested for loop where `i` is the index of one\n",
        "column and `j` is the index of the second column in the pair. We can see\n",
        "we must have some mistakes because we are getting pairs where `i` and\n",
        "`j` are equal to each other, and we are also getting zeros. Note how we\n",
        "are using print statements. This helps us to identify that we need to\n",
        "add parentheses for the first for loop, and we need to update `j` to\n",
        "start at `i+1`."
      ],
      "id": "17d789ee-e543-4fdd-a6d1-ff87d731c2e0"
    },
    {
      "cell_type": "code",
      "execution_count": null,
      "metadata": {},
      "outputs": [
        {
          "output_type": "stream",
          "name": "stdout",
          "text": [
            "[1] \"0 0\"\n",
            "[1] \"0 1\"\n",
            "[1] \"0 2\"\n",
            "[1] \"0 3\"\n",
            "[1] \"0 4\"\n",
            "[1] \"1 1\"\n",
            "[1] \"1 2\"\n",
            "[1] \"1 3\"\n",
            "[1] \"1 4\"\n",
            "[1] \"2 2\"\n",
            "[1] \"2 3\"\n",
            "[1] \"2 4\"\n",
            "[1] \"3 3\"\n",
            "[1] \"3 4\""
          ]
        }
      ],
      "source": [
        "cor_mat <- cor(df_numeric)\n",
        "for (i in 1:nrow(cor_mat) - 1){\n",
        "  for (j in (i:nrow(cor_mat))){\n",
        "    print(paste(i, j))\n",
        "  }\n",
        "}"
      ],
      "id": "b2141db5-0f89-460b-83e4-789c3603d34a"
    },
    {
      "cell_type": "markdown",
      "metadata": {},
      "source": [
        "Let’s try again. This time we create a variable `n` which is the number\n",
        "of columns."
      ],
      "id": "1f1311e6-bc2a-4c3b-a759-142230acd234"
    },
    {
      "cell_type": "code",
      "execution_count": null,
      "metadata": {},
      "outputs": [
        {
          "output_type": "stream",
          "name": "stdout",
          "text": [
            "[1] \"1 2\"\n",
            "[1] \"1 3\"\n",
            "[1] \"1 4\"\n",
            "[1] \"2 3\"\n",
            "[1] \"2 4\"\n",
            "[1] \"3 4\""
          ]
        }
      ],
      "source": [
        "cor_mat <- cor(df_numeric)\n",
        "n <- nrow(cor_mat)\n",
        "for (i in 1:(n-1)){\n",
        "  for (j in ((i+1):n)){\n",
        "    print(paste(i, j))\n",
        "  }\n",
        "}"
      ],
      "id": "86962f14-f6a5-4bf8-840d-37a8b6874712"
    },
    {
      "cell_type": "markdown",
      "metadata": {},
      "source": [
        "Next, we need to add an if statement to check whether there is a\n",
        "correlation above the given threshold. In this case, to check if our\n",
        "code is working correctly, we use a print statement for only those that\n",
        "meet the condition."
      ],
      "id": "273c15e3-6dcb-486b-a2a8-bb1cd89ff31c"
    },
    {
      "cell_type": "code",
      "execution_count": null,
      "metadata": {},
      "outputs": [
        {
          "output_type": "stream",
          "name": "stdout",
          "text": [
            "[1] \"1 2\""
          ]
        }
      ],
      "source": [
        "n <- nrow(cor_mat)\n",
        "for (i in 1:(n-1)){\n",
        "  for (j in ((i+1):n)){\n",
        "    if(abs(cor_mat[i,j]) > 0.6){\n",
        "      print(paste(i, j))\n",
        "    }\n",
        "  }\n",
        "}"
      ],
      "id": "9d4e27c9-82f7-46da-9e92-684cfc03bb61"
    },
    {
      "cell_type": "markdown",
      "metadata": {},
      "source": [
        "We have sketched out our code more thoroughly, so we have a good idea of\n",
        "how we want to compute our result. We now move to writing our function.\n",
        "Importantly, we need to make sure that we use our input arguments now\n",
        "rather than our test values. In the subsequent version, we also add in a\n",
        "results data frame that we use to keep track of our results, and we add\n",
        "an additional argument for how to deal with NA values in calculating the\n",
        "correlations. The output matches what we expect for our test data frame."
      ],
      "id": "67b2126e-db5f-4e2e-bf18-74a7c2018a13"
    },
    {
      "cell_type": "code",
      "execution_count": null,
      "metadata": {},
      "outputs": [
        {
          "output_type": "stream",
          "name": "stdout",
          "text": [
            "  name1 name2       cor\n",
            "1    V1    V2 0.9006319"
          ]
        }
      ],
      "source": [
        "#' Find pairs of columns with strong correlation\n",
        "#' \n",
        "#' @description Finds all pairs of numeric columns with strong Pearson \n",
        "#' correlation and returns the pairs in a data frame\n",
        "#' \n",
        "#' @param df data frame\n",
        "#' @param threshold positive numeric threshold value to define a \n",
        "#' strong correlation as one with absolute value above the threshold\n",
        "#' @param use an optional character string giving a method for \n",
        "#' computing correlations in the presence of missing values. \n",
        "#' This must be (an abbreviation of) one of the strings \"everything\", \n",
        "#' \"all.obs\", \"complete.obs\", \"na.or.complete\", or \n",
        "#' \"pairwise.complete.obs\".\n",
        "#' @return data frame with one row for each pair of columns\n",
        "#' with high correlation containing the names of the columns \n",
        "#' and the corresponding correlation\n",
        "high_cor <- function(df, threshold = 0.6, use = \"everything\"){\n",
        "  \n",
        "  # create result data frame\n",
        "  res <- data.frame(name1 = vector(\"character\"),\n",
        "                    name2 = vector(\"character\"),\n",
        "                    cor = vector(\"numeric\"))\n",
        "  \n",
        "  # subset to numeric columns\n",
        "  df_numeric <- select_if(df, is.numeric)\n",
        "  \n",
        "  # find correlations and variable names\n",
        "  cor_mat <- cor(df_numeric, use = use)\n",
        "\n",
        "  # go through pairs to find those with high correlations\n",
        "  n <- nrow(cor_mat)\n",
        "  for (i in 1:(n-1)){\n",
        "    for (j in ((i+1):n)){\n",
        "      if(abs(cor_mat[i,j]) > threshold){\n",
        "        res <- add_row(res, \n",
        "                       name1 = colnames(cor_mat)[i],\n",
        "                       name2 = colnames(cor_mat)[j],\n",
        "                       cor = cor_mat[i,j])\n",
        "      }\n",
        "    }\n",
        "  }\n",
        "  return(res)\n",
        "}\n",
        "high_cor(test_df)"
      ],
      "id": "03b1ad95-6ed7-460f-a008-500caecee433"
    },
    {
      "cell_type": "markdown",
      "metadata": {},
      "source": [
        "We can prevent unexpected behavior of our functions by using `stop()`\n",
        "functions to limit a function to be run on certain types of arguments.\n",
        "This is helpful if other people will use your function or if you might\n",
        "forget any assumptions you built into the function. The `stop()`\n",
        "function stops the execution of the current expression and returns a\n",
        "message. In the following example, we check to make sure that the point\n",
        "given is a numeric vector. Further, we check to see whether the vector\n",
        "has length 0 and return 0 if it does."
      ],
      "id": "26e62825-aea7-4283-8568-b98840f81c32"
    },
    {
      "cell_type": "code",
      "execution_count": null,
      "metadata": {},
      "outputs": [],
      "source": [
        "#' Distance to the origin\n",
        "#' \n",
        "#' @description Calculates the distance from a single numeric vector \n",
        "#' to the origin\n",
        "#'\n",
        "#' @param pt1 numeric vector \n",
        "#' @param dist_fun function to compute the distance with, default is\n",
        "#' Euclidean distance\n",
        "#' @return the distance from pt1 to origin in the same dimension\n",
        "dist_to_origin <- function(pt1, dist_func = euclidean_dist){\n",
        "  \n",
        "  # check format of input\n",
        "  if(!(is.vector(pt1) & is.numeric(pt1))){\n",
        "    stop(\"pt1 must be a numeric vector\")\n",
        "  }\n",
        "  if(length(pt1) == 0){\n",
        "    return(0)\n",
        "  }\n",
        "  \n",
        "  # calculate the distance\n",
        "  origin <- rep(0, length(pt1))\n",
        "  return(dist_func(pt1, origin))\n",
        "}"
      ],
      "id": "d78049e5-56a5-45a1-a443-25c320e45c64"
    },
    {
      "cell_type": "markdown",
      "metadata": {},
      "source": [
        "### Unit Tests \n",
        "\n",
        "We know our function `high_cor()` works on a single example. To\n",
        "thoroughly test our functions, we want to run them on several different\n",
        "input values. These types of tests are called *unit tests*. We try to\n",
        "vary these test values to cover a wide range of possibilities. For\n",
        "example, for a numeric argument, test positive and negative input\n",
        "values. For a vector input, test an empty vector, a vector of length 1,\n",
        "and a vector with multiple values. If you discover an error, we need to\n",
        "go back to debugging mode to resolve it.\n",
        "\n",
        "To test our function, we use the **testthat** package \\[@R-testthat\\].\n",
        "This includes several functions that can check our expectations. For\n",
        "example, there is the `expect_equal(object, expected)` function which\n",
        "checks whether `object` matches `expected` up to a given numeric\n",
        "tolerance. If we want to only check the values of our objects but not\n",
        "the attributes, we can set the argument `ignore_attr = FALSE`. Other\n",
        "functions from this package are `expect_error(object)` which can be used\n",
        "to test that an error message was returned and `expect_true(object)`\n",
        "which can be used to test whether a condition is met."
      ],
      "id": "c5ecfe3c-d902-40ed-8c40-1529249c4b83"
    },
    {
      "cell_type": "code",
      "execution_count": null,
      "metadata": {},
      "outputs": [],
      "source": [
        "testthat::expect_equal(paste0(\"A\",\"B\"), \"AB\")\n",
        "testthat::expect_true(mean(c(1,2,3)) > 1)"
      ],
      "id": "e9409482-2b19-4673-acec-b7d5db221045"
    },
    {
      "cell_type": "markdown",
      "metadata": {},
      "source": [
        "In the following code chunk, we demonstrate some tests for the\n",
        "`dist_to_origin()` function. Our tests here focus on the format of the\n",
        "vector. We should test each function separately, so we would write a\n",
        "separate batch of tests for the Euclidean distance function."
      ],
      "id": "ccedd3ad-2581-48d2-8ccd-8872759d05ca"
    },
    {
      "cell_type": "code",
      "execution_count": null,
      "metadata": {},
      "outputs": [],
      "source": [
        "# check error message for character vector\n",
        "expect_error(dist_to_origin(c(\"A\")), \n",
        "                       \"pt1 must be a numeric vector\")\n",
        "\n",
        "# check error message for not a vector\n",
        "expect_error(dist_to_origin(matrix(0)), \n",
        "                       \"pt1 must be a numeric vector\")\n",
        "\n",
        "# check for empty numeric vector\n",
        "testthat::expect_equal(dist_to_origin(vector(\"numeric\")), 0)\n",
        "\n",
        "# check length 1 vector\n",
        "testthat::expect_equal(dist_to_origin(c(2)), 2)\n",
        "                       \n",
        "# check length 3 vector\n",
        "testthat::expect_equal(dist_to_origin(c(2,8.5,3)), 9.233093,\n",
        "                       tolerance = 0.0001)"
      ],
      "id": "b9fdda54-c4a5-441c-8a3e-73dcf0037554"
    },
    {
      "cell_type": "markdown",
      "metadata": {},
      "source": [
        "### Practice Question\n",
        "\n",
        "Following are a series of tests for the function `high_cor()` with\n",
        "different data frame sizes and types of columns. Unfortunately, not all\n",
        "of the tests are working. Use your debugging skills to fix the function\n",
        "to pass the tests and write at least one additional test."
      ],
      "id": "0aafcf08-278b-4a37-abb5-18f767797c04"
    },
    {
      "cell_type": "code",
      "execution_count": null,
      "metadata": {},
      "outputs": [],
      "source": [
        "# mixed data frame - should return a data frame with three columns\n",
        "expect_equal(high_cor(test_df), \n",
        "             data.frame(name1 = \"V1\", name2 = \"V2\",\n",
        "                        cor = 0.9011631), tolerance = 0.001)\n",
        "\n",
        "# change threshold - lower, should have three pairs\n",
        "expect_equal(high_cor(test_df, 0.2)$cor, \n",
        "             c(0.9011631, 0.31765407, 0.30748633), \n",
        "             tolerance = 0.001)\n",
        "\n",
        "# change threshold - higher, should be empty\n",
        "expect_equal(high_cor(test_df, 0.95)$cor, vector(\"numeric\"), \n",
        "             tolerance = 0.001)\n",
        "\n",
        "# single numeric column - should return an empty data frame\n",
        "expect_equal(high_cor(test_df[,4:5])$cor, vector(\"numeric\"))\n",
        "\n",
        "# single row - should return an empty data frame\n",
        "expect_equal(high_cor(test_df[1,])$cor, numeric())"
      ],
      "id": "f5b79928-948a-44a5-afd7-7a28f746226d"
    },
    {
      "cell_type": "markdown",
      "metadata": {},
      "source": [
        "## Exercises\n",
        "\n",
        "For each question, be sure to document your function(s) using roxygen\n",
        "style documentation.\n",
        "\n",
        "1.  Standardizing a variable means subtracting the mean and then\n",
        "    dividing through by the standard deviation. Create a function called\n",
        "    `standardize_me()` that takes a numeric vector as an argument, and\n",
        "    returns the standardized version of the vector. Write at least three\n",
        "    unit tests to check that the result is correct.\n",
        "\n",
        "2.  Suppose we have two binary vectors `x` and `y` each of length $n$.\n",
        "    Let $m_{1}$ be the number of indices where `x` or `y` has a 1 and\n",
        "    $m_2$ be the number of indices where both `x` and `y` equal 1. For\n",
        "    example, if `x <- (1,1,0)` and `y <- c(0,1,0)` then $m_1 = 2$ and\n",
        "    $m_2 =1$. The Jaccard distance is defined as $1-m_2/m_1$ and\n",
        "    measures the dissimilarity between two binary vectors. Write a\n",
        "    function `jaccard_dist()` that takes in two binary vectors and\n",
        "    returns the Jaccard distance between the two.\n",
        "\n",
        "3.  For this question we use a subset of the `pain` data from the\n",
        "    **HDSinRdata** package. Recall, that this data contains binary\n",
        "    variables representing where people experienced pain. Write a\n",
        "    function that takes in a data frame with all binary columns and\n",
        "    returns a matrix with the Jaccard distance between all observations.\n",
        "    That is, if `D` is the returned matrix, then `D[i,j]` is the Jaccard\n",
        "    distance between observation `i` and observation `j`. Apply your\n",
        "    function to the pain data and plot the distribution of these\n",
        "    distances.\n",
        "\n",
        "    ``` r\n",
        "    library(HDSinRdata)\n",
        "    ```\n",
        "\n",
        "        Warning: package 'HDSinRdata' was built under R version 4.4.1\n",
        "\n",
        "    ``` r\n",
        "    pain_sub <- pain[1:500,]\n",
        "    ```\n",
        "\n",
        "4.  The function in the following code chunk is supposed to take in a\n",
        "    positive integer and calculate how many positive integer divisors it\n",
        "    has (other than 1 and itself). However, the function is not getting\n",
        "    the right results. Debug the function. Then, think about ways you\n",
        "    could improve this function by changing the structure,\n",
        "    documentation, and adding argument checks.\n",
        "\n",
        "    ``` r\n",
        "    total <- 0\n",
        "    divisors <- function(x){\n",
        "      for(i in 1:x){\n",
        "        if (i %% x){\n",
        "          total <- total + 1\n",
        "          i <- i + 1\n",
        "        }\n",
        "      }\n",
        "      return(total)\n",
        "      }\n",
        "\n",
        "    divisors(2)\n",
        "    ```\n",
        "\n",
        "        [1] 1\n",
        "\n",
        "    ``` r\n",
        "    divisors(6)\n",
        "    ```\n",
        "\n",
        "        [1] 5\n",
        "\n",
        "5.  In this problem, you create our own summary table. To start, create\n",
        "    a function that takes in a data frame and returns a summary table\n",
        "    that reports the mean and standard deviation for all continuous\n",
        "    variables and the count and percentage for all categorical\n",
        "    variables. An example is given in\n",
        "    <a href=\"#fig-summary-table\" class=\"quarto-xref\">Figure 1</a>. Call\n",
        "    your function on the NHANES dataset with the columns selected in the\n",
        "    subsequent code to match what is shown in the figure. \n",
        "\n",
        "    ``` r\n",
        "    nhanes_df <- NHANESsample %>%\n",
        "      select(c(AGE, SEX, LEAD, HYP, SMOKE))\n",
        "    ```\n",
        "\n",
        "<figure id=\"fig-summary-table\">\n",
        "<img src=\"attachment:images/functions/summary_table.png\" />\n",
        "<figcaption>Figure 1: Example Summary Table.</figcaption>\n",
        "</figure>"
      ],
      "attachments": {
        "images/functions/summary_table.png": {
          "image/png": "[encoded data removed]"
        }
      },
      "id": "4a3fa129-9d80-4916-b4b0-54a96f7c725b"
    }
  ],
  "nbformat": 4,
  "nbformat_minor": 5,
  "metadata": {
    "kernelspec": {
      "display_name": "Python 3",
      "language": "python",
      "name": "python3"
    }
  }
}