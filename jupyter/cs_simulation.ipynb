{
  "cells": [
    {
      "cell_type": "markdown",
      "metadata": {},
      "source": [
        "# Case Study: Designing a Simulation Study {#sec-cs-simulation} \n",
        "\n",
        "Simulation studies\\index{simulation study} are an ideal setting for utilizing functions. When conducting a simulation study, we often need to generate data, run statistical methods, and collect results and we replicate this for a large number of simulations. Functions will ensure that we can write cleaner and reproducible code\\index{reproducible code}. In this case study\\index{Case study!simulation study}, we will write the code for a simulation study that is based on the analysis by @hastie2020best, which compared different methods for sparse regression. For our purposes, we will focus on the comparison between lasso\\index{lasso regression} and ridge regression\\index{ridge regression}, introduced in [Chapter -@sec-model-selection]. \n",
        "\n",
        "Our goal is to understand the predictive power of the two models for different data settings. We will generate our training and test data using the following data generating mechanism which relies on the number of observations $n$, the number of predictors $p$, the sparsity $s \\leq p$, predictor correlation level $\\rho$, and $\\nu$ signal-to-noise ratio. \n",
        "\n",
        "1.  We define a vector of coefficients $\\beta \\in \\mathbb{R}^p$ which has its first $s$ components equal to 1 and the rest equal to 0. Note that our model will not have an intercept.\n",
        "\n",
        "2.  We draw the rows of the predictor matrix $X \\in \\mathbb{R}^{n \\times p}$ from a multivariate normal distribution $N_p(0, \\Sigma)$, where $\\Sigma \\in \\mathbb{R}^{p \\times p}$ has entry $(i,j)$ equal to $\\rho^{|i-j|}.\n",
        "\n",
        "3.  We draw the outcome $y \\in \\mathbb{R}^n$ from a normal distribution $N(X \\beta, \\sigma^2 I)$, where $\\sigma^2 = \\frac{\\beta \\Sigma \\beta}{\\nu}$. This ensures that the data has signal-to-noise ratio, defined as $\\text{Var}(x^T \\beta)/\\text{Var}(\\sigma^2)$, equal to $\\nu$. \n",
        "\n",
        "After generating our data, we will use 5-fold cross-validation to fit a lasso or ridge regression model on the training data to get estimated coefficients $\\hat{\\beta}$. Last, we will predict on the withheld test set. The evaluation metrics we are interested in are the time to fit the model (in seconds), the relative test error \n",
        "$$\\text{RTE} = \\frac{(\\hat{\\beta}-\\beta)^T \\Sigma (\\hat{\\beta}-\\beta)+\\sigma^2}{\\sigma^2}, $$ and the proportion of variance explained \n",
        "$$\\text{PVE} = 1 - \\frac{(\\hat{\\beta}-\\beta)^T \\Sigma (\\hat{\\beta}-\\beta)+\\sigma^2}{\\beta^T \\Sigma \\beta + \\sigma^2}.$$ \n",
        "In @hastie2020best, they vary all five parameters $n$, $p$, $s$, $\\rho$, and $\\nu$ to observe how the data generation impacts these metrics.  \n",
        "\n",
        "## Outlining Our Approach\n",
        "\n",
        "Before coding our method, let's recap the steps we will need to perform for a single simulation and practice top-down programming\\index{top-down programming}. In a single simulation, we need to generate our training and test data, fit our models, and store the results in a way that we can use later. There are two potential sketches of how we can program this code shown in @fig-sketch. Take a look at the differences. In the first, we are storing the data we generate and have a separate function for each method. In the second, we have a function that calculates our end metrics for an inputted model and we have a function that runs through the different methods. A benefit of the first approach is that it will be more flexible; if we think of another method we want to compare we would be easily able to add it without having to re-run any other code. A benefit of the second approach is that we are ensuring that the results stored for each method are the same. Of course, you could also do a hybrid between the two and use a metrics function in the first approach. \n",
        "\n",
        "![Example Approaches to Sketching out Functions.](images/cs-simulation/sketches.png){#fig-sketch fig-align=\"center\" width=\"50%\"}\n",
        "\n",
        "Let's take a closer look at the second approach. For our metrics function, we have missed some inputs we will need. In particular, in order to calculate our end metrics, we will need to know the true coefficients $\\beta$, the covariance matrix $\\Sigma$, and the level of noise $\\sigma$. Therefore, rather than returning a data frame, we will return a list that will contain $X$, $y$, and these values. For the first approach, this would require saving this information in a text file. Comparing between our two options, we will implement the second approach that does not store data. Another thing we can notice in our current sketch is that we likely want to store the results as a csv file, so rather than returning a list, we should return a vector that will correspond to a row in this file.  Our final sketch is in @fig-final-approach.\n",
        "\n",
        "![Updated Function Sketch.](images/cs-simulation/final_approach.png){#fig-final-approach fig-align=\"center\" width=\"40%\"}\n",
        "\n",
        "## Coding Our Simulation Study\n",
        "\n",
        "We first load in the packages we will use. We will use the **MASS** package\\index{R packages!MASS} for the `mvrnorm()` function\\index{R functions!mvnorm()@\\texttt{mvnorm()}}, which generates data from a multivariate normal distribution, we will use the **glmnet**\\index{R packages!glmnet} package to implement our lasso and ridge models, and we will use the **tidyverse**\\index{R packages!tidyverse} and **patchwork**\\index{R packages!patchwork} packages for summarizing and plotting the results. "
      ]
    },
    {
      "cell_type": "code",
      "metadata": {
        "results": "hide",
        "message": false
      },
      "source": [
        "#| warning: false\n",
        "\n",
        "library(MASS) \n",
        "library(tidyverse) \n",
        "library(patchwork) \n",
        "library(glmnet)  "
      ],
      "execution_count": null,
      "outputs": []
    },
    {
      "cell_type": "markdown",
      "metadata": {},
      "source": [
        "We start by writing our function to generate our data. Our input here will be the parameters $n$, $p$, $s$, $\\rho$, and $\\nu$ and our output will be a list. "
      ]
    },
    {
      "cell_type": "code",
      "metadata": {},
      "source": [
        "#' Simulate data\n",
        "#'\n",
        "#' @param n Number of observations\n",
        "#' @param p Number of variables\n",
        "#' @param s Sparsity level (number of nonzero coefficients)\n",
        "#' @param snr Signal-to-noise ratio\n",
        "#' @param rho Predictor correlation level\n",
        "#' @return List containing simulated covariate matrix `X`, \n",
        "#' outcome vector `y`, true coefficient vector `beta`, \n",
        "#' covariate matrix `Sigma`, and variance of y `sigma`\n",
        "simulate_data <- function(n, p, s, snr, rho) {\n",
        "  \n",
        "  # Generate covariance matrix\n",
        "  cov_mat = matrix(0, nrow = p, ncol = p)\n",
        "  for (row in 1:p) {\n",
        "    for (col in 1:p) {\n",
        "      cov_mat[row, col] = rho^(abs(row-col))\n",
        "    }\n",
        "  }\n",
        "  \n",
        "  # Generate X \n",
        "  x <- mvrnorm(n=n, mu=rep(0,p), Sigma = cov_mat)\n",
        "\n",
        "  # Generate beta values \n",
        "  b <- rep(0, p)\n",
        "  b[1:s] <- 1\n",
        " \n",
        "  # find values\n",
        "  mu <- x %*% b\n",
        "  intercept <- -mean(mu)\n",
        "  \n",
        "  # Calculate variance\n",
        "  var <- as.numeric((t(b) %*% cov_mat %*% b)/snr)\n",
        "\n",
        "  # Generate y values\n",
        "  y <- mvrnorm(mu = mu, Sigma = var*diag(n))\n",
        "  \n",
        "  return(list(X = x, y = y, beta = b, Sigma = cov_mat, sigma = var))\n",
        "}"
      ],
      "execution_count": null,
      "outputs": []
    },
    {
      "cell_type": "markdown",
      "metadata": {},
      "source": [
        "Next, we will write a function for our model metrics. The only input we need from our model is the estimated coefficients. Otherwise, all of the information comes from the data we generate with the function we just wrote. We will utilize this list format to extract out the values needed for our formulas. "
      ]
    },
    {
      "cell_type": "code",
      "metadata": {},
      "source": [
        "#' Return model metrics\n",
        "#'\n",
        "#' @param coef_est Vector with estimated coefficients \n",
        "#' @param test_data Withheld test set (`simulate_data()` output)\n",
        "#' @return Vector with relative test error (RTE) and proportion \n",
        "#' of variance explained (PVE). \n",
        "get_metrics <- function(coef_est, test_data) {\n",
        "  \n",
        "  # Extract out values needed\n",
        "  coef_true <- test_data$beta\n",
        "  Sigma <- test_data$Sigma\n",
        "  var_y <- test_data$sigma\n",
        "\n",
        "  # Calculate relative test error\n",
        "  RTE <- (t(coef_est - coef_true) %*% Sigma %*% \n",
        "            (coef_est - coef_true) + var_y) / \n",
        "            var_y\n",
        "    \n",
        "  # Calculate PVE\n",
        "  # Proportion of variance explained\n",
        "  PVE <- 1 - (t(coef_est - coef_true) %*% Sigma %*%\n",
        "                (coef_est - coef_true) + var_y) / \n",
        "    (var_y + t(coef_true %*% Sigma %*% coef_true))\n",
        "\n",
        "  \n",
        "  return(c(RTE = RTE, PVE = PVE))\n",
        "}"
      ],
      "execution_count": null,
      "outputs": []
    },
    {
      "cell_type": "markdown",
      "metadata": {},
      "source": [
        "Next, we will write a function that takes in the given parameters, fits the two models, and outputs the evaluation metrics. In this case, we will let the parameters be a named vector that contains all the components needed for the data simulation. We will also include an optional argument to set the random seed. In the code below, we find the time it takes to fit each model using `Sys.time()`\\index{R functions!Sys.time()@\\texttt{Sys.time()}}. This function finds the current system time. Therefore, we can find the difference between them using the `difftime()`\\index{R functions!difftime()@\\texttt{difftime()}} function. We also make sure to format the lasso and ridge results in the same manner. "
      ]
    },
    {
      "cell_type": "code",
      "metadata": {},
      "source": [
        "#' Model selection simulation\n",
        "#'\n",
        "#' @param params named vector containing all parameters needed for \n",
        "#' data generation (rho, snr, n, p, s)\n",
        "#' @param seed (optional) random seed to set before setting folds, \n",
        "#' by default not used\n",
        "#' @return Vector with parameter values, results\n",
        "model_selection <- function(params, seed = NULL) {\n",
        "  \n",
        "  # Extract out parameters\n",
        "  n <- params['n']\n",
        "  p <- params['p']\n",
        "  s <- params['s']\n",
        "  snr <- params['snr']\n",
        "  rho <- params['rho']\n",
        "\n",
        "  # Generate training and test data\n",
        "  train <- simulate_data(n, p, s, snr, rho)\n",
        "  test <- simulate_data(n, p, s, snr, rho)\n",
        "  \n",
        "  # Set folds, if needed\n",
        "  if (!is.null(seed)){\n",
        "    set.seed(seed)\n",
        "  }\n",
        "  k <- 5\n",
        "  folds <- sample(1:k, nrow(train$X), replace=TRUE)\n",
        "  \n",
        "  # Lasso model\n",
        "  start_lasso <- Sys.time()\n",
        "  lasso_cv <- cv.glmnet(train$X, train$y, nfolds = k, foldid = folds, \n",
        "                           alpha = 1, family = \"gaussian\", \n",
        "                        intercept=FALSE) \n",
        "  lasso_mod <- glmnet(train$X, train$y, lambda = lasso_cv$lambda.min,\n",
        "                      alpha = 1, family = \"gaussian\", intercept=FALSE)\n",
        "  end_lasso <- Sys.time()\n",
        "  \n",
        "  # Get lasso results\n",
        "  lasso_time <- as.numeric(difftime(end_lasso, start_lasso, \n",
        "                                    units = \"secs\"))\n",
        "  lasso_results <- c(lasso_time, \n",
        "                     get_metrics(coef(lasso_mod)[-1], test))\n",
        "  names(lasso_results) <- c(\"lasso_sec\", \"lasso_RTE\", \"lasso_PVE\")\n",
        "  \n",
        "  # Ridge model \n",
        "  start_ridge <- Sys.time()\n",
        "  ridge_cv <- cv.glmnet(train$X, train$y, nfolds = k, foldid = folds, \n",
        "                        alpha = 0, family = \"gaussian\", \n",
        "                        intercept=FALSE)\n",
        "  ridge_mod <- glmnet(train$X, train$y, lambda = ridge_cv$lambda.min,\n",
        "                      alpha = 0, family = \"gaussian\", intercept=FALSE)\n",
        "  end_ridge <- Sys.time()\n",
        "  \n",
        "  # Get ridge results\n",
        "  ridge_time <- as.numeric(difftime(end_ridge, start_ridge, \n",
        "                                    units = \"secs\"))\n",
        "  ridge_results <- c(ridge_time, \n",
        "                     get_metrics(coef(ridge_mod)[-1], test))\n",
        "  names(ridge_results) <- c(\"ridge_sec\", \"ridge_RTE\", \"ridge_PVE\")\n",
        "  \n",
        "  # Full results\n",
        "  res <- c(n, p, s, snr, rho, lasso_results, ridge_results)\n",
        "  \n",
        "  return(res)\n",
        "}"
      ],
      "execution_count": null,
      "outputs": []
    },
    {
      "cell_type": "markdown",
      "metadata": {},
      "source": [
        "## Results\n",
        "\n",
        "Now it's time to run our simulation! We first need to find the combinations of parameters we want to use in our simulation design. In our case, we will set $n = 500$, $\\rho = 0.35$, and $s = 10$. We will vary $p \\in \\{50, 100\\}$ and the signal-to-noise ratio $\\nu \\in \\{0.1, 0.5, 1.5\\}$. We also want to run each possible combination of parameters ten times so that we can average across the results. We use the `expand.grid()`\\index{R functions!expand.grid()@\\texttt{expand.grid()}} function to create a matrix that contains a row for each simulation. "
      ]
    },
    {
      "cell_type": "code",
      "metadata": {},
      "source": [
        "# Set up parameter grid\n",
        "rho_grid <- c(0.35)\n",
        "snr_grid <- c(0.1, 0.5, 1.5)\n",
        "n_grid <- c(500)\n",
        "p_grid <- c(50, 100)\n",
        "s_grid = c(10)\n",
        "iter_grid <- 1:5\n",
        "param_grid <- expand.grid(rho = rho_grid, snr = snr_grid, n = n_grid,\n",
        "                          p = p_grid, s = s_grid, iter = iter_grid)\n",
        "\n",
        "# convert to numeric\n",
        "param_grid <- as.matrix(param_grid)\n",
        "head(param_grid)"
      ],
      "execution_count": null,
      "outputs": []
    },
    {
      "cell_type": "markdown",
      "metadata": {},
      "source": [
        "Recall that our main function took in a named vector that contained all needed parameters. This allows us to use an `apply()`\\index{R functions!apply()@\\texttt{apply()}} function to run our simulation. In order to summarize by method, we pivot the results to a longer form with a column for method."
      ]
    },
    {
      "cell_type": "code",
      "metadata": {},
      "source": [
        "# Run experiments\n",
        "results <- apply(param_grid, 1, model_selection) %>% t() \n",
        "\n",
        "# Convert to long data frame\n",
        "results <- as.data.frame(results) %>% \n",
        "  pivot_longer(cols = starts_with(c(\"lasso\", \"ridge\")),\n",
        "               names_to = c(\"method\", \".value\"), names_sep=\"_\")"
      ],
      "execution_count": null,
      "outputs": []
    },
    {
      "cell_type": "markdown",
      "metadata": {},
      "source": [
        "Finally, we summarize our results. For example, we can create a table with the average time for each method grouped by the data dimensions. We observe that ridge regression was slower on average than lasso. "
      ]
    },
    {
      "cell_type": "code",
      "metadata": {},
      "source": [
        "avg_time <- results %>%\n",
        "  group_by(method, n, p) %>%\n",
        "  summarize(avg_seconds = round(mean(sec),3)) %>%\n",
        "  ungroup()\n",
        "avg_time"
      ],
      "execution_count": null,
      "outputs": []
    },
    {
      "cell_type": "markdown",
      "metadata": {},
      "source": [
        "We can also create summary plots of our evaluation metrics similar to @hastie2020best. To do so, we create one last function that will create a plot of the relative test error and percentage of variance explained across different signal-to-noise ratios. This allows us to regenerate this plot for different parameter settings. \n"
      ]
    },
    {
      "cell_type": "code",
      "metadata": {},
      "source": [
        "#' Generate RTE and PVE plots for a given set of parameters\n",
        "#'\n",
        "#' @param results Data frame with simulation results  \n",
        "#' @param n_input Number of observations\n",
        "#' @param p_input Number of variables\n",
        "#' @param s_input Sparsity level\n",
        "#' @return ggplot object\n",
        "generate_plot <- function(results, n_input, p_input, s_input) {\n",
        " \n",
        "  setting <- results %>%\n",
        "    filter(n == n_input, p == p_input, s == s_input) %>%\n",
        "    group_by(method, snr) %>%\n",
        "    summarize(mean_RTE = mean(RTE, na.rm = TRUE), \n",
        "              sd_RTE = sd(RTE, na.rm = TRUE),\n",
        "              mean_PVE = mean(PVE, na.rm = TRUE), \n",
        "              sd_PVE = sd(PVE, na.rm = TRUE))\n",
        "\n",
        "  rte_plot <- ggplot(setting) + \n",
        "    geom_point(aes(x = snr, y = mean_RTE, color = method)) + \n",
        "    geom_errorbar(aes(x = snr, ymin = mean_RTE - sd_RTE, \n",
        "                      ymax = mean_RTE + sd_RTE, color = method),\n",
        "                  alpha = 0.8, width = 0.2) + \n",
        "    geom_line(aes(x = snr, y = mean_RTE, color = method)) + \n",
        "    theme_bw() + \n",
        "    theme(legend.position = \"bottom\") + \n",
        "    labs(x = \"SNR\", y = \"RTE\", color = \"\")\n",
        "  \n",
        "  \n",
        "  pve_plot <- ggplot(setting) + \n",
        "    geom_point(aes(x = snr, y = mean_PVE, color = method)) + \n",
        "    geom_errorbar(aes(x = snr, ymin = mean_PVE - sd_PVE, \n",
        "                      ymax = mean_PVE + sd_PVE, color = method),\n",
        "                  alpha = 0.8, width = 0.2) + \n",
        "    geom_line(aes(x = snr, y = mean_PVE, color = method)) + \n",
        "    theme_bw() + \n",
        "    theme(legend.position = \"bottom\") + \n",
        "    labs(x = \"SNR\", y = \"PVE\", color = \"\")\n",
        "\n",
        "  full_plot <- rte_plot + pve_plot \n",
        "  \n",
        "  return(full_plot)\n",
        "}\n",
        "generate_plot(results, 500, 50, 10)"
      ],
      "execution_count": null,
      "outputs": []
    },
    {
      "cell_type": "code",
      "metadata": {},
      "source": [
        "generate_plot(results, 500, 100, 10)"
      ],
      "execution_count": null,
      "outputs": []
    }
  ],
  "metadata": {
    "kernelspec": {
      "name": "ir",
      "language": "R",
      "display_name": "R"
    }
  },
  "nbformat": 4,
  "nbformat_minor": 4
}