{
  "cells": [
    {
      "cell_type": "markdown",
      "metadata": {},
      "source": [
        "# \n",
        "\n",
        "# Expanding Your R Skills\n",
        "\n",
        "Throughout this book, we have covered some popular packages as well as\n",
        "many of the specific functions from these packages. However, it would be\n",
        "impossible to cover all of the packages, functions, and options that are\n",
        "available in R. In this chapter, we talk about how to use new packages,\n",
        "interpret error messages, debugging, and overall good programming\n",
        "practices to help you take your R programming to the next level.\n",
        "\n",
        "## Reading Documentation for New Packages \n",
        "\n",
        "As you start to apply the tools from this book to your own work or in\n",
        "new settings, you may need to install and use new packages or encounter\n",
        "some unexpected errors. Practicing reading package documentation and\n",
        "responding to error messages helps you expand your R skills beyond the\n",
        "topics covered here. We demonstrate these skills using the **stringr**\n",
        "package \\[@R-stringr\\], which is a package that is part of the\n",
        "**tidyverse** and has several functions for dealing with text data."
      ],
      "id": "476f5c22-7311-4f21-9547-7ec3c0051a43"
    },
    {
      "cell_type": "code",
      "execution_count": null,
      "metadata": {},
      "outputs": [],
      "source": [
        "library(tidyverse)\n",
        "library(HDSinRdata)"
      ],
      "id": "63861eed-4513-47b8-9b1b-5ea9dc147ee8"
    },
    {
      "cell_type": "markdown",
      "metadata": {},
      "source": [
        "Every published package has a CRAN website. This website contains a\n",
        "reference manual that contains the documentation for the functions and\n",
        "data available in the package. Most often, the website also includes\n",
        "useful vignettes that give examples of how to use the functions in the\n",
        "package. The site also tells you what the requirements for using the\n",
        "package are, who the authors of the package are, and when the package\n",
        "was last updated. For example, take a look at the CRAN site for\n",
        "[**stringr**](https://cran.r-project.org/web/packages/stringr/index.html)\n",
        "and read the vignette [“Introduction to String\n",
        "R”](https://cran.r-project.org/web/packages/stringr/vignettes/stringr.html).\n",
        "\n",
        "We use the **stringr** package to demonstrate cleaning up text related\n",
        "to a PubMed search query for a systematic review. An example search\n",
        "query is given in the following code chunk and is taken from @GUE202131.\n",
        "Our first goal is to extract the actual search query from the text along\n",
        "with all the terms used in the query. We can assume that the search\n",
        "query is either fully contained in parentheses or is a sequence of\n",
        "parenthetical phrases connected with AND or OR. Our goal is to extract\n",
        "the search query as well as all the individual search terms used in the\n",
        "query, but we have to get there in a series of steps."
      ],
      "id": "6b32e524-0369-4106-b28f-8cd836511d0d"
    },
    {
      "cell_type": "code",
      "execution_count": null,
      "metadata": {},
      "outputs": [],
      "source": [
        "sample_str <- \" A systematic search will be performed in PubMed, \n",
        "Embase, and the Cochrane Library, using the following search query:   \n",
        "('out-of-hospital cardiac arrest' OR 'OHCA') AND ('MIRACLE 2' OR \n",
        "'OHCA' OR 'CAHP' OR 'C-GRAPH' OR 'SOFA' OR 'APACHE' OR 'SAPS’ OR \n",
        "'SWAP' OR 'TTM').\""
      ],
      "id": "006c0a04-9707-479f-911e-4fb4b9d9e6e1"
    },
    {
      "cell_type": "markdown",
      "metadata": {},
      "source": [
        "The first thing we want to do with the text is clean up the white space\n",
        "by removing any trailing, leading, or repeated spaces. In our example,\n",
        "the string starts with a trailing space and there are also multiple\n",
        "spaces right before the search query. Searching for “white space” in the\n",
        "**stringr** reference manual, we find the `str_trim()` and\n",
        "`str_squish()` functions. Read the documentation for these two\n",
        "functions. You should find that `str_squish()` is the function we are\n",
        "looking for and that it takes a single argument."
      ],
      "id": "13d94982-3544-46a5-bd92-8537e2aae0ae"
    },
    {
      "cell_type": "code",
      "execution_count": null,
      "metadata": {},
      "outputs": [
        {
          "output_type": "stream",
          "name": "stdout",
          "text": [
            "[1] \"A systematic search will be performed in PubMed, Embase, and the Cochrane Library, using the following search query: ('out-of-hospital cardiac arrest' OR 'OHCA') AND ('MIRACLE 2' OR 'OHCA' OR 'CAHP' OR 'C-GRAPH' OR 'SOFA' OR 'APACHE' OR 'SAPS’ OR 'SWAP' OR 'TTM').\""
          ]
        }
      ],
      "source": [
        "sample_str <- str_squish(sample_str)\n",
        "sample_str"
      ],
      "id": "429f2f29-4ded-48e5-a674-0215f255503e"
    },
    {
      "cell_type": "markdown",
      "metadata": {},
      "source": [
        "## Trying Simple Examples\n",
        "\n",
        "The premise of testing a function on a single string is a good example\n",
        "of starting with a simple case. Rather than applying your function to\n",
        "your full dataset right away, you want to first make sure that you\n",
        "understand how it works on a simple example and on which you can\n",
        "anticipate what the outcome should look like. Our next task is to split\n",
        "the text into words and store this as a character vector. Read the\n",
        "documentation to determine why we use the `str_split_1()` function. We\n",
        "then double-check that the returned result is indeed a vector and print\n",
        "the result."
      ],
      "id": "1b1b885a-7d9b-4db1-b46f-36052bf8d855"
    },
    {
      "cell_type": "code",
      "execution_count": null,
      "metadata": {},
      "outputs": [
        {
          "output_type": "stream",
          "name": "stdout",
          "text": [
            "[1] \"character\""
          ]
        },
        {
          "output_type": "stream",
          "name": "stdout",
          "text": [
            " [1] \"A\"                 \"systematic\"        \"search\"           \n",
            " [4] \"will\"              \"be\"                \"performed\"        \n",
            " [7] \"in\"                \"PubMed,\"           \"Embase,\"          \n",
            "[10] \"and\"               \"the\"               \"Cochrane\"         \n",
            "[13] \"Library,\"          \"using\"             \"the\"              \n",
            "[16] \"following\"         \"search\"            \"query:\"           \n",
            "[19] \"('out-of-hospital\" \"cardiac\"           \"arrest'\"          \n",
            "[22] \"OR\"                \"'OHCA')\"           \"AND\"              \n",
            "[25] \"('MIRACLE\"         \"2'\"                \"OR\"               \n",
            "[28] \"'OHCA'\"            \"OR\"                \"'CAHP'\"           \n",
            "[31] \"OR\"                \"'C-GRAPH'\"         \"OR\"               \n",
            "[34] \"'SOFA'\"            \"OR\"                \"'APACHE'\"         \n",
            "[37] \"OR\"                \"'SAPS’\"            \"OR\"               \n",
            "[40] \"'SWAP'\"            \"OR\"                \"'TTM').\"          "
          ]
        }
      ],
      "source": [
        "sample_str_words <- str_split_1(sample_str, \" \")\n",
        "class(sample_str_words)"
      ],
      "id": "76582e75-19e9-4e11-9117-820e29477ced"
    },
    {
      "cell_type": "markdown",
      "metadata": {},
      "source": [
        "We now want to identify words in this vector that have starting and/or\n",
        "end parentheses. The function `grepl()` takes in a character vector `x`\n",
        "and a pattern to search for. It returns a logical vector for whether or\n",
        "not each element of `x` has a match for that pattern."
      ],
      "id": "fc4403b5-a1d0-41aa-8c64-b0920cf37fe6"
    },
    {
      "cell_type": "code",
      "execution_count": null,
      "metadata": {},
      "outputs": [
        {
          "output_type": "stream",
          "name": "stderr",
          "text": [
            "Warning in grepl(sample_str_words, \")\"): argument 'pattern' has length > 1 and\n",
            "only the first element will be used"
          ]
        },
        {
          "output_type": "stream",
          "name": "stdout",
          "text": [
            "[1] FALSE"
          ]
        }
      ],
      "source": [
        "grepl(sample_str_words, \")\")"
      ],
      "id": "2f1520f2-aa64-4507-9373-bf7f9110fe21"
    },
    {
      "cell_type": "markdown",
      "metadata": {},
      "source": [
        "That didn’t match what we expected. We expected to have multiple\n",
        "TRUE/FALSE values outputted, one for each word. Let’s read the\n",
        "documentation again.\n",
        "\n",
        "## Deciphering Error Messages and Warnings  \n",
        "\n",
        "The previous warning message gives us a good clue for what went wrong.\n",
        "It says that the inputted pattern has length \\>1. However, the pattern\n",
        "we gave it is a single character. In fact, we specified the arguments in\n",
        "the wrong order. Let’s try again. This time we specify `x` and\n",
        "`pattern`."
      ],
      "id": "aca348a4-38e0-429c-9bb7-22871a9f5b4f"
    },
    {
      "cell_type": "code",
      "execution_count": null,
      "metadata": {},
      "outputs": [
        {
          "output_type": "stream",
          "name": "stdout",
          "text": [
            " [1] FALSE FALSE FALSE FALSE FALSE FALSE FALSE FALSE FALSE FALSE FALSE FALSE\n",
            "[13] FALSE FALSE FALSE FALSE FALSE FALSE FALSE FALSE FALSE FALSE  TRUE FALSE\n",
            "[25] FALSE FALSE FALSE FALSE FALSE FALSE FALSE FALSE FALSE FALSE FALSE FALSE\n",
            "[37] FALSE FALSE FALSE FALSE FALSE  TRUE"
          ]
        }
      ],
      "source": [
        "grepl(x = sample_str_words, pattern = \")\")"
      ],
      "id": "729e9c79-6c0c-4c1e-86b2-ca343821e15b"
    },
    {
      "cell_type": "markdown",
      "metadata": {},
      "source": [
        "That fixed it. However, it won’t work if we change that to an opening\n",
        "parenthesis. Try it out for yourself to see this. The error message says\n",
        "that it is looking for an end parenthesis. In this case, the\n",
        "documentation does not help us. Let’s try searching “stringr find start\n",
        "parentheses” using an online search engine. Our search results indicate\n",
        "that we may need to use backslashes to tell R to read the parentheses\n",
        "literally rather than as a special character used in a regular\n",
        "expression (a technique often referred to as “escaping” a character).\n",
        "Investigating the reason for an error, including using online material,\n",
        "is an important skill for a programmer to have."
      ],
      "id": "1a2a6938-5592-4a47-9c26-72c3deaa7141"
    },
    {
      "cell_type": "code",
      "execution_count": null,
      "metadata": {},
      "outputs": [
        {
          "output_type": "stream",
          "name": "stdout",
          "text": [
            " [1] FALSE FALSE FALSE FALSE FALSE FALSE FALSE FALSE FALSE FALSE FALSE FALSE\n",
            "[13] FALSE FALSE FALSE FALSE FALSE FALSE  TRUE FALSE FALSE FALSE FALSE FALSE\n",
            "[25]  TRUE FALSE FALSE FALSE FALSE FALSE FALSE FALSE FALSE FALSE FALSE FALSE\n",
            "[37] FALSE FALSE FALSE FALSE FALSE FALSE"
          ]
        }
      ],
      "source": [
        "grepl(x = sample_str_words, pattern = \"\\\\(\")"
      ],
      "id": "c96d1bc7-064c-4a9a-9cf5-ba20885e608e"
    },
    {
      "cell_type": "markdown",
      "metadata": {},
      "source": [
        "When a function doesn’t return what we expect it to, it is a good idea\n",
        "to first test whether the arguments we gave it match what we expect,\n",
        "then re-read the documentation, and then look for other resources for\n",
        "help. For example, we could check that `sample_str_words` is indeed a\n",
        "character vector, then re-read the **stringr** documentation, and then\n",
        "search our problem.\n",
        "\n",
        "### Debugging Code \n",
        "\n",
        "The following code is supposed to extract the search query from the text\n",
        "as well as find the individual search terms used in the query. However,\n",
        "the code is incorrect. You can try out two test strings given to see why\n",
        "the code output is wrong. Practice reading through the code to\n",
        "understand what it is trying to do. The comments are there to help\n",
        "explain the steps, but you may also want to print the output to figure\n",
        "out what it is doing."
      ],
      "id": "878afbab-db7b-4077-bbbb-6e0041d8ee3e"
    },
    {
      "cell_type": "code",
      "execution_count": null,
      "metadata": {},
      "outputs": [],
      "source": [
        "sample_strA <- \" A systematic search will be performed in PubMed, \n",
        "Embase, and the Cochrane Library, using the following search query:   \n",
        "('out-of-hospital cardiac arrest' OR 'OHCA') AND ('MIRACLE 2' OR \n",
        "'OHCA' OR 'CAHP' OR 'C-GRAPH' OR 'SOFA' OR 'APACHE' OR 'SAPS' OR \n",
        "'SWAP' OR 'TTM').\"\n",
        "\n",
        "sample_strB <- \"Searches will be conducted in MEDLINE via PubMed, Web \n",
        "of Science, Scopus and Embase. The following search strategy will be \n",
        "used:(child OR infant OR preschool child OR preschool children OR \n",
        "preschooler OR pre-school child OR pre-school children OR pre school \n",
        "child OR pre school children OR pre-schooler OR pre schooler OR \n",
        "children OR adolescent OR adolescents)AND(attention deficit disorder \n",
        "with hyperactivity OR ADHD OR attention deficit disorder OR ADD OR \n",
        "hyperkinetic disorder OR minimal brain disorder) Submitted \""
      ],
      "id": "ce65cf74-a1e9-4c44-8c44-27f361c8bef2"
    },
    {
      "cell_type": "code",
      "execution_count": null,
      "metadata": {},
      "outputs": [
        {
          "output_type": "stream",
          "name": "stdout",
          "text": [
            "[1] \") adolescents OR adolescent OR children OR schooler pre OR pre-schooler OR children school pre OR child school pre OR children pre-school OR child pre-school OR preschooler OR children preschool OR child preschool OR infant OR child (\""
          ]
        },
        {
          "output_type": "stream",
          "name": "stdout",
          "text": [
            " [1] \") adolescents\"       \"adolescent\"          \"children\"           \n",
            " [4] \"schooler pre\"        \"pre-schooler\"        \"children school pre\"\n",
            " [7] \"child school pre\"    \"children pre-school\" \"child pre-school\"   \n",
            "[10] \"preschooler\"         \"children preschool\"  \"child preschool\"    \n",
            "[13] \"infant\"              \"child \"             "
          ]
        }
      ],
      "source": [
        "sample_str <- sample_strB\n",
        "\n",
        "# separate parentheses, remove extra white space, and split into words\n",
        "sample_str <- str_replace(sample_str, \"\\\\)\", \" \\\\) \")\n",
        "sample_str <- str_replace(sample_str, \"\\\\(\", \" \\\\( \")\n",
        "sample_str <- str_squish(sample_str)\n",
        "sample_str_words <- str_split_1(sample_str, \" \")\n",
        "\n",
        "# find indices with parentheses \n",
        "end_ps <- grepl(x = sample_str_words, pattern = \"\\\\)\")\n",
        "start_ps <- grepl(x = sample_str_words, pattern = \"\\\\(\")\n",
        "\n",
        "# find words between first and last parentheses \n",
        "search_query <- sample_str_words[which(end_ps)[1]:which(start_ps)[1]]\n",
        "search_query <- paste(search_query, collapse=\" \")\n",
        "search_query"
      ],
      "id": "2de4c11a-74fb-4879-a7a6-8417851d5cf2"
    },
    {
      "cell_type": "markdown",
      "metadata": {},
      "source": [
        "## General Programming Tips \n",
        "\n",
        "As you write more complex code and functions, we want to focus on\n",
        "practicing good programming principles. This helps when you need to\n",
        "share or update your code or when you inevitably run into errors or\n",
        "unexpected behavior. Following are some general programming tips and how\n",
        "they relate to communication and debugging.\n",
        "\n",
        "1.  **Consistent Naming.** Use consistent and informative names for your\n",
        "    objects and functions. For example, you can see that within this\n",
        "    text we have only used lowercase letters, underscores (`_`), and\n",
        "    occasionally numbers in our names. These names should also be\n",
        "    informative and unique. This makes it easier to check for typos or\n",
        "    duplicate names when debugging. When debugging, check that you\n",
        "    haven’t used the same name for different objects or different names\n",
        "    for the same object. You can do this by using the `ls()` function to\n",
        "    find all current objects or by checking your environment pane.\n",
        "\n",
        "    ``` r\n",
        "    # Recommended\n",
        "    ages <- c(65, 33, 27, 88)\n",
        "    age_mean <- mean(ages)\n",
        "\n",
        "    # Not recommended\n",
        "    x <- c(65, 33, 27, 88)\n",
        "    x1 <- mean(ages)\n",
        "    ```"
      ],
      "id": "96d978a5-2edc-44f7-94e6-63284f422ab8"
    },
    {
      "cell_type": "markdown",
      "metadata": {},
      "source": [
        "1.  **Make Your Code Readable.** Readable code requires several elements\n",
        "    of communication. As with writing an essay, we need to break our\n",
        "    code into digestible and structured pieces. First, code should be\n",
        "    broken into blocks, using white space to separate steps, and should\n",
        "    use correct levels of indentation (one extra level of indentation\n",
        "    for each new loop, if/else statement, or function). This means that\n",
        "    closing curly braces should be on their own line indicating the end\n",
        "    of the block. This makes it easy to check that all parentheses (),\n",
        "    brackets \\[\\], and curly braces {} match. Additionally, you should\n",
        "    use line breaks to avoid going over 80 characters on a single line\n",
        "    of code. RStudio has an option to re-format or re-indent your code\n",
        "    under the Code tab.\n",
        "\n",
        "    Besides the structure of your code, writing helpful comments and\n",
        "    function documentation is key for making your code readable. A good\n",
        "    rule of thumb is to write comments for yourself a year from now; you\n",
        "    might remember the project goal, but you won’t remember what `x`\n",
        "    represents. You likely do not need a comment for every line of code\n",
        "    but you might need comments to explain the overall goal of a code\n",
        "    block or to clarify lines that aren’t self-explanatory.\n",
        "\n",
        "    In the following code, we have not used indentation. This makes it\n",
        "    hard to see the structure of the code such as what lines of code are\n",
        "    in the loop or if statement. The function does not have any roxygen\n",
        "    documentation. However, we have added too many comments. The\n",
        "    comments here are repetitive with the code. Last, we named the\n",
        "    function `unique()`, which is already a function in R.\n",
        "\n",
        "    ``` r\n",
        "    # Not recommended\n",
        "    unique <- function(x){\n",
        "    y <- c() # results\n",
        "    if (length(x) == 0){ # check length 0\n",
        "    return(NULL)} # return NULL\n",
        "    for(i in length(x)){  # loop through x\n",
        "    if(!(x[i] %in% y)){  # check if x[i] in y\n",
        "    y <- c(y, x[i]) }} # add x[i] to y\n",
        "    return(y) # return y\n",
        "    }\n",
        "    ```\n",
        "\n",
        "    We rewrite the function addressing these comments. The end result is\n",
        "    much easier to read.\n",
        "\n",
        "    ``` r\n",
        "    #' Find unique elements of a vector \n",
        "    #'\n",
        "    #' @param x vector\n",
        "    #' @return new vector with duplicates removed\n",
        "    own_unique <- function(x){\n",
        "\n",
        "      # check for empty vector\n",
        "      if (length(x) == 0){ \n",
        "        return(NULL)\n",
        "      }\n",
        "\n",
        "      # otherwise y will be unique values\n",
        "      y <- c()\n",
        "\n",
        "      for(i in 1:length(x)){ \n",
        "        # if value of x is not in y, we add it\n",
        "        if(!(x[i] %in% y)){ \n",
        "          y <- c(y, x[i]) \n",
        "        }\n",
        "      }\n",
        "\n",
        "      return(y) \n",
        "    }\n",
        "    ```\n",
        "\n",
        "2.  **Don’t Repeat Yourself.** Repeating code increases the likelihood\n",
        "    of errors. Additionally, it makes it hard to update our code later\n",
        "    on. When we find ourselves repeating code, we should use a function.\n",
        "    If you find yourself repeating constants, you should define these\n",
        "    values as an object. The subsequent code uses a single line of code\n",
        "    to convert categorical variables to factors and stores a vector of\n",
        "    which columns are categorical.\n",
        "\n",
        "    ``` r\n",
        "    dry_df <- data.frame(age = ages,\n",
        "                        tb = c(1, 0, 0, 0),\n",
        "                        heart_rate = c(60, 82, 76, 72),\n",
        "                        gender = c(\"Female\", \"Male\", \"Nonbinary\", \n",
        "                                   \"Female\"))\n",
        "\n",
        "    # convert factor variables\n",
        "    cat_vars <- c(\"tb\", \"gender\")\n",
        "    dry_df[cat_vars] <- lapply(dry_df[cat_vars], factor)\n",
        "    ```\n",
        "\n",
        "3.  **Practice Reading Documentation.** Whenever you are using a new\n",
        "    function, you should read the documentation first. When debugging,\n",
        "    you should check that the input arguments to a function match what\n",
        "    is expected and check the examples. Reading these examples also\n",
        "    helps when writing your own documentation so you can better\n",
        "    understand how to communicate to your audience.\n",
        "\n",
        "4.  **Start Simple, Build Up.** If we write a large amount of code at\n",
        "    once and then it fails to work, it’s hard to understand what went\n",
        "    wrong. Instead, we should build up our code or functions in small\n",
        "    steps and check it after each step. When it comes to testing code, a\n",
        "    good mantra is *test early and test often*. So, try to avoid writing\n",
        "    too much code before running and checking that the results match\n",
        "    what you expect. If you do end up writing a big chunk of code, you\n",
        "    can localize your error by checking the values of objects at\n",
        "    different points.\n",
        "\n",
        "5.  **Get Comfortable Asking for Help.** In software engineering, it’s a\n",
        "    known tip to have a rubber ducky (or other adorable object) at your\n",
        "    desk to talk through your code. Having to verbalize and explain your\n",
        "    approach can be really helpful for debugging. R’s error messages can\n",
        "    sometimes hint at what the error might stem from, but they are not\n",
        "    always direct. Searching for error messages you don’t understand\n",
        "    might give you a better understanding of the problem.\n",
        "\n",
        "## Exercises\n",
        "\n",
        "These exercises focus on reading function documentation and debugging.\n",
        "\n",
        "1.  Suppose we want to replace the words “Thank you” in the following\n",
        "    string with the word “Thanks”. Why does the following code fail? How\n",
        "    can we correct it?\n",
        "\n",
        "    ``` r\n",
        "    string <- \"Congratulations on finishing the book! \n",
        "    Thank you for reading it.\"\n",
        "    str_sub(string, c(35, 42)) <- \"Thanks\"\n",
        "    string\n",
        "    ```\n",
        "\n",
        "        [1] \"Congratulations on finishing the bThanks\"        \n",
        "        [2] \"Congratulations on finishing the book! \\nTThanks\"\n",
        "\n",
        "2.  The subsequent code uses the `NHANESsample` data from the\n",
        "    **HDSinRdata** package. The goal of the code is to plot the worst\n",
        "    diastolic blood pressure reading against the worst systolic blood\n",
        "    pressure reading for each patient, colored by hypertension status.\n",
        "    However, the code currently generates an error message. What is\n",
        "    wrong with the code? There are four errors for you to identify and\n",
        "    fix.\n",
        "\n",
        "    ``` r\n",
        "    data(NHANESsample)\n",
        "\n",
        "    nhanes_df <- NHANESsample %>% \n",
        "      mutate(worst_DBP = max(DBP1, DBP2, DBP3, DBP4), \n",
        "         worst_SBP = max(SBP1, SBP2, SBP3, SBP4))\n",
        "\n",
        "    ggplot() %>% \n",
        "      geom_point(data = nhanes_df, \n",
        "                 aes(x = worst_SBP, y = worst_DBP), \n",
        "                 color = HYP)\n",
        "    ```\n",
        "\n",
        "3.  The following code uses the `breastcancer` data from the\n",
        "    **HDSinRdata** package. The goal is to create a logistic regression\n",
        "    model for whether or not the diagnosis is benign or malignant and\n",
        "    then to create a calibration plot for the model, following the code\n",
        "    from **?@sec-logistic-regression**. Debug and fix the code. Hint:\n",
        "    there are three separate errors.\n",
        "\n",
        "    ``` r\n",
        "    data(breastcancer)\n",
        "\n",
        "    model <- glm(diagnosis ~ smoothness_worst + symmetry_mean + \n",
        "               texture_se + radius_mean, \n",
        "             data = breastcancer, family = binomial)\n",
        "\n",
        "    pred_probs <- predict(model)\n",
        "\n",
        "    num_cuts <- 10\n",
        "    calib_data <-  data.frame(prob = pred_probs,\n",
        "                          bin = cut(pred_probs, breaks = num_cuts),\n",
        "                          class = mod_start$y)\n",
        "\n",
        "    calib_data <- calib_data %>% \n",
        "             group_by(bin) %>% \n",
        "             summarize(observed = sum(class)/n(), \n",
        "                       expected = sum(prob)/n(), \n",
        "                       se = sqrt(observed * (1 - observed) / n()))\n",
        "    calib_data\n",
        "\n",
        "    ggplot(calib_data) + \n",
        "      geom_abline(intercept = 0, slope = 1, color = \"red\") + \n",
        "      geom_errorbar(aes(x = expected, ymin = observed - 1.96 * se, \n",
        "                    ymax = observed + 1.96 * se), \n",
        "                color = \"black\", width = .01)+\n",
        "      geom_point(aes(x = expected, y = observed)) +\n",
        "      labs(x=\"Expected Proportion\", y=\"Observed Proportion\") +\n",
        "      theme_minimal()\n",
        "    ```"
      ],
      "id": "cd8d2f34-d5e2-47db-8c2e-b5d03ca0f560"
    }
  ],
  "nbformat": 4,
  "nbformat_minor": 5,
  "metadata": {
    "kernelspec": {
      "display_name": "Python 3",
      "language": "python",
      "name": "python3"
    }
  }
}