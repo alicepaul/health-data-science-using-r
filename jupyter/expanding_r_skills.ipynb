{
  "cells": [
    {
      "cell_type": "markdown",
      "metadata": {},
      "source": [
        "# Expanding your R Skills {#sec-expanding-skills}\n",
        "\n",
        "Throughout this book, we have covered some popular packages as well as many of the specific functions from these packages. However, it would be impossible to cover all of the packages, functions, and options that are available in R. In this chapter, we will talk about how to use new packages, interpret error messages, debugging, and overall good programming practices to help you take your R programming to the next level.\n",
        "\n",
        "## Reading Documentation for New Packages\n",
        "\n",
        "As you start to apply the tools from this book to your own work or in new settings, you may need to install and use new packages or encounter some unexpected errors. Practicing reading package documentation and responding to error messages will help you be able to expand your R skills beyond the topics covered here. We will demonstrate these skills using the **stringr** package [@R-stringr], which is a package that is part of the **tidyverse** and has several functions for dealing with text data."
      ]
    },
    {
      "cell_type": "code",
      "metadata": {
        "results": "hide",
        "message": false
      },
      "source": [
        "#| warning: false\n",
        "\n",
        "library(tidyverse)\n",
        "library(HDSinRdata)"
      ],
      "execution_count": null,
      "outputs": []
    },
    {
      "cell_type": "markdown",
      "metadata": {},
      "source": [
        "Every published package has a CRAN website. This website contains a reference manual that contains the documentation for the functions and data available in the package. Most often, the website also includes useful vignettes that give examples of how to use the functions in the package. The site also tells you what the requirements for using the package are, who the authors of the package are, and when the package was last updated. For example, take a look at the CRAN site for [**stringr**](https://cran.r-project.org/web/packages/stringr/index.html) and read the vignette [\"Introduction to String R\"](https://cran.r-project.org/web/packages/stringr/vignettes/stringr.html).\n",
        "\n",
        "We will use this **stringr** package to clean up text related to a PubMed search query for a systematic review. An example search query is given below and is taken from @GUE202131. Our first goal will be to extract the actual search query from the text along with all the terms used in the query. We can assume that the search query will either be fully contained in parentheses or will be a sequence of parenthetical phrases connected with AND or OR. Our goal is to extract the search query as well as all the individual search terms used in the query, but we have to get there in a series of steps."
      ]
    },
    {
      "cell_type": "code",
      "metadata": {},
      "source": [
        "sample_str <- \" A systematic search will be performed in PubMed, \n",
        "Embase, and the Cochrane Library, using the following search query:   \n",
        "('out-of-hospital cardiac arrest' OR 'OHCA') AND ('MIRACLE 2' OR \n",
        "'OHCA' OR 'CAHP' OR 'C-GRAPH' OR 'SOFA' OR 'APACHE' OR 'SAPS’ OR \n",
        "’SWAP’ OR ’TTM’).\""
      ],
      "execution_count": null,
      "outputs": []
    },
    {
      "cell_type": "markdown",
      "metadata": {},
      "source": [
        "The first thing we want to do with the text is clean up the white space by removing any trailing, leading, or repeated spaces. In our example, the string starts with a trailing space and there are also multiple spaces right before the search query. Searching for \"white space\" in the **stringr** reference manual, we find the `str_trim()` and `str_squish()` functions. Read the documentation for these two functions. You should find that `str_squish()` is the function we are looking for and that it takes a single argument."
      ]
    },
    {
      "cell_type": "code",
      "metadata": {},
      "source": [
        "sample_str <- str_squish(sample_str)\n",
        "sample_str"
      ],
      "execution_count": null,
      "outputs": []
    },
    {
      "cell_type": "markdown",
      "metadata": {},
      "source": [
        "## Trying Simple Examples\n",
        "\n",
        "The premise above is a good example of starting with a simple case. Rather than applying your function to your full dataset right away, you want to first make sure that you understand how it works on a simple example on which you can anticipate what the outcome should look like. My next task will be to split the text into words and store this as a character vector. Read the documentation to determine why I used the `str_split_1()` function below. I then double check that the returned result is indeed a vector and print the result."
      ]
    },
    {
      "cell_type": "code",
      "metadata": {},
      "source": [
        "sample_str_words <- str_split_1(sample_str, \" \")\n",
        "class(sample_str_words)\n",
        "sample_str_words"
      ],
      "execution_count": null,
      "outputs": []
    },
    {
      "cell_type": "markdown",
      "metadata": {},
      "source": [
        "We now want to identify words in this vector that have starting and/or end parentheses. The function `grepl()` takes in a character vector `x` and a pattern to search for. It returns a logical vector for whether or not each element of `x` has a match for that pattern."
      ]
    },
    {
      "cell_type": "code",
      "metadata": {},
      "source": [
        "grepl(sample_str_words, \")\")"
      ],
      "execution_count": null,
      "outputs": []
    },
    {
      "cell_type": "markdown",
      "metadata": {},
      "source": [
        "Huh, that didn't match what I expected! I expected to have multiple TRUE/FALSE values outputted - one for each word. Let's read the documentation again.\n",
        "\n",
        "## Deciphering Error Messages and Warnings\n",
        "\n",
        "The warning message above will give us a good clue for what went wrong. It says that the inputted pattern has length \\> 1. However, the pattern I gave it is a single character. In fact, I specified the arguments in the wrong order. Let's try again. This time I specify `x` and `pattern`."
      ]
    },
    {
      "cell_type": "code",
      "metadata": {},
      "source": [
        "grepl(x=sample_str_words, pattern=\")\")"
      ],
      "execution_count": null,
      "outputs": []
    },
    {
      "cell_type": "markdown",
      "metadata": {},
      "source": [
        "That worked! However, it won't work if we change that to a starting parentheses. Try it out for yourself to see this. The error message says that it is looking for an end parentheses. In this case, the documentation does not help us. Let's try searching \"stringr find start parentheses\" using an online search engine. The first search result for me is a [stack overflow question](https://stackoverflow.com/questions/56174805/how-to-search-for-strings-with-parentheses-in-r) that helps us out. We read that we need to use backslashes to tell R to read the parentheses literally rather than as a special character used in a regular expression."
      ]
    },
    {
      "cell_type": "code",
      "metadata": {},
      "source": [
        "grepl(x=sample_str_words, pattern=\"\\\\(\")"
      ],
      "execution_count": null,
      "outputs": []
    },
    {
      "cell_type": "markdown",
      "metadata": {},
      "source": [
        "When a function doesn't return what we expect it to, it is a good idea to first test whether the arguments we gave it match what we expect, then to re-read the documentation, and then to look for other resources for help. For example, we could check that `sample_str_words` is indeed a character vector, then re-read the **stringr** documentation, and then search our problem.\n",
        "\n",
        "### Debugging Code\n",
        "\n",
        "The code below is supposed to extract the search query from the text as well as find the individual search terms used in the query. However, the code is incorrect. You can try out to two test strings given to see why the code output is wrong. Practice reading through the code to understand what it is trying to do. The comments are there to help explain the steps, but you may also want to print the output to figure out what it is doing."
      ]
    },
    {
      "cell_type": "code",
      "metadata": {},
      "source": [
        "sample_strA <- \" A systematic search will be performed in PubMed, \n",
        "Embase, and the Cochrane Library, using the following search query:   \n",
        "('out-of-hospital cardiac arrest' OR 'OHCA') AND ('MIRACLE 2' OR \n",
        "'OHCA' OR 'CAHP' OR 'C-GRAPH' OR 'SOFA' OR 'APACHE' OR 'SAPS’ OR \n",
        "’SWAP’ OR ’TTM’).\"\n",
        "\n",
        "sample_strB <- \"Searches will be conducted in MEDLINE via PubMed, Web \n",
        "of Science, Scopus and Embase. The following search strategy will be \n",
        "used:(child OR infant OR preschool child OR preschool children OR \n",
        "preschooler OR pre-school child OR pre-school children OR pre school \n",
        "child OR pre school children OR pre-schooler OR pre schooler OR \n",
        "children OR adolescent OR adolescents)AND(attention deficit disorder \n",
        "with hyperactivity OR ADHD OR attention deficit disorder OR ADD OR \n",
        "hyperkinetic disorder OR minimal brain disorder) Submitted \""
      ],
      "execution_count": null,
      "outputs": []
    },
    {
      "cell_type": "code",
      "metadata": {},
      "source": [
        "sample_str <- sample_strB\n",
        "\n",
        "# separate parentheses, remove extra white space, and split into words\n",
        "sample_str <- str_replace(sample_str, \"\\\\)\", \" \\\\) \")\n",
        "sample_str <- str_replace(sample_str, \"\\\\(\", \" \\\\( \")\n",
        "sample_str <- str_squish(sample_str)\n",
        "sample_str_words <- str_split_1(sample_str, \" \")\n",
        "\n",
        "# find indices with parentheses \n",
        "end_ps <- grepl(x=sample_str_words, pattern=\"\\\\)\")\n",
        "start_ps <- grepl(x=sample_str_words, pattern=\"\\\\(\")\n",
        "\n",
        "# find words between first and last parentheses \n",
        "search_query <- sample_str_words[ which(end_ps)[1]:which(start_ps)[1]]\n",
        "search_query <- paste(search_query, collapse=\" \")\n",
        "search_query\n",
        "\n",
        "# find search terms\n",
        "search_terms <- str_replace_all(search_query, \"\\\\)\", \"\")\n",
        "search_terms <- str_replace_all(search_query, \"\\\\(\", \"\")\n",
        "sample_terms <- str_squish(search_query)\n",
        "search_terms <- str_split_1(search_terms, \" AND | OR \")\n",
        "search_terms"
      ],
      "execution_count": null,
      "outputs": []
    },
    {
      "cell_type": "markdown",
      "metadata": {},
      "source": [
        "\n",
        "## General Programming Tips\n",
        "\n",
        "As you write more complex code and functions, we want to focus on practicing good programming principles. This will help you when you need to share or update your code or when you inevitably run into errors or unexpected behavior. Below are some general programming tips and how they relate to communication and debugging.\n",
        "\n",
        "1.  **Consistent naming.** Use consistent and informative names for your objects and functions. For example, you can see that within this text we have only used lowercase letters, underscores (`_`), and occasionally numbers in our names. These names should also be informative and unique. This makes it easier to check for typos or duplicate names when debugging. When debugging, check whether you use the same name for different objects or whether you use different names for the same object. You can do this by using the `ls()` function to find all current objects or by checking your environment pane."
      ]
    },
    {
      "cell_type": "code",
      "metadata": {
        "md-indent": "    "
      },
      "source": [
        "# Recommended\n",
        "ages <- c(65, 33, 27, 88)\n",
        "age_mean <- mean(ages)\n",
        "\n",
        "# Not recommended\n",
        "x <- c(65, 33, 27, 88)\n",
        "x1 <- mean(ages)"
      ],
      "execution_count": null,
      "outputs": []
    },
    {
      "cell_type": "markdown",
      "metadata": {},
      "source": [
        "2.  **Make Your Code Readable.** Readable code requires several elements of communication. Similar to writing an essay, we need to break our code into digestible and structured pieces. First, code should be broken into blocks, using white space to separate steps, and should use correct levels of indentation (one extra level of indentation for each new loop, if/else statement, or function). This means that closing curly braces should be on their own line indicating the end of the block. This will make it easy to check that all parentheses (), brackets \\[\\], and curly braces {} match. Additionally, you should use line breaks to avoid going over 80 characters on a single line of code. RStudio has an option to reformat or re-indent your code under the Code tab.\n",
        "\n",
        "    Besides the structure of your code, writing helpful comments and function documentation are key for making your code readable. A good rule of thumb is to write comments for yourself a year from now - you might remember the project goal but you won't remember what `x` represents. You likely do not need a comment for every line of code but you might need one to explain the overall goal of a block of code or to explain any lines of code that do not stand for themselves.\n",
        "\n",
        "    In the code below, we have not used indentation. This makes it hard to see the structure of the code such as what lines of code are in the loop or if statement. The function does not have any roxygen documentation. However, we have added too many comments. The comments here are repetitive with the code. Last, we named the function `unique()`, which is already a function in R."
      ]
    },
    {
      "cell_type": "code",
      "metadata": {
        "md-indent": "    "
      },
      "source": [
        "# Not recommended\n",
        "unique <- function(x){\n",
        "y <- c() # results\n",
        "if (length(x) == 0){ # check length 0\n",
        "return(NULL)} # return NULL\n",
        "for(i in length(x)){  # loop through x\n",
        "if(!(x[i] %in% y)){  # check if x[i] in y\n",
        "y <- c(y, x[i]) }} # add x[i] to y\n",
        "return(y) # return y\n",
        "}"
      ],
      "execution_count": null,
      "outputs": []
    },
    {
      "cell_type": "markdown",
      "metadata": {},
      "source": [
        "    We rewrite the function below addressing these comments. The end result is much easier to read."
      ]
    },
    {
      "cell_type": "code",
      "metadata": {
        "md-indent": "    "
      },
      "source": [
        "#' Find unique elements of a vector \n",
        "#'\n",
        "#' @param x vector\n",
        "#' @return new vector with duplicates removed\n",
        "own_unique <- function(x){\n",
        "  \n",
        "  # check for empty vector\n",
        "  if (length(x) == 0){ \n",
        "    return(NULL)\n",
        "  }\n",
        "  \n",
        "  # otherwise y will be unique values\n",
        "  y <- c()\n",
        "  \n",
        "  for(i in 1:length(x)){ \n",
        "    # if value of x is not in y, we add it\n",
        "    if(!(x[i] %in% y)){ \n",
        "      y <- c(y, x[i]) \n",
        "    }\n",
        "  }\n",
        "\n",
        "  return(y) \n",
        "}"
      ],
      "execution_count": null,
      "outputs": []
    },
    {
      "cell_type": "markdown",
      "metadata": {},
      "source": [
        "3.  **Don't Repeat Yourself.** Whenever we are repeating code, we are more likely to introduce errors. Additionally, it makes it hard to update our code later on. When we find ourselves repeating code, we should use a function. If you find yourself repeating constants you should define these values as an object. The code below uses a single line of code to convert categorical variables to factors and stores a vector of which columns are categorical."
      ]
    },
    {
      "cell_type": "code",
      "metadata": {
        "md-indent": "    "
      },
      "source": [
        "dry_df <- data.frame(age = ages,\n",
        "                    tb = c(1, 0, 0, 0),\n",
        "                    heart_rate = c(60, 82, 76, 72),\n",
        "                    gender = c(\"Female\", \"Male\", \"Nonbinary\", \n",
        "                               \"Female\"))\n",
        "\n",
        "# convert factor variables\n",
        "cat_vars <- c(\"tb\", \"gender\")\n",
        "dry_df[cat_vars] <- lapply(dry_df[cat_vars], factor)"
      ],
      "execution_count": null,
      "outputs": []
    },
    {
      "cell_type": "markdown",
      "metadata": {},
      "source": [
        "4.  **Practice Reading Documentation.** Whenever we you are using a new function, you should read the documentation first. When debugging, you should check that the input arguments to a function match what is expected and check the examples. Reading these examples will also help when writing your own documentation so you can better understand how to communicate to your audience.\n",
        "\n",
        "5.  **Start Simple, Build Up.** If we write a large amount of code at once and then it fails to work, it's hard to understand what went wrong. Instead, we should build up our code or functions in small steps and check it after each step. When it comes to testing code, a good mantra is *test early and test often*. So, try to avoid writing too much code before running and checking that the results match what you expect. If you do end up writing a big chunk of code, you can use localize your error by checking the values of objects at different points.\n",
        "\n",
        "6.  **Get Comfortable Asking for Help.** In software engineering, it's a known tip to have a rubber ducky (or other adorable object) at your desk to talk through your code. Having to verbalize and explain your approach can be really helpful for debugging. R's error messages can sometimes hint at what the error might stem from, but they are not always direct. Searching for error messages you don't understand might give you a better understanding of the problem.\n",
        "\n",
        "## Exercises\n",
        "\n",
        "The exercises below focus on reading function documentation and debugging.\n",
        "\n",
        "1.  Suppose we want to replace the words \"Thank you\" in the following string with the word \"Thanks\". Why does the below code fail? How can we correct it?"
      ]
    },
    {
      "cell_type": "code",
      "metadata": {
        "md-indent": "    "
      },
      "source": [
        "string <- \"Congratulations on finishing the book! \n",
        "Thank you for reading it.\"\n",
        "str_sub(string, c(35, 42)) <- \"Thanks\"\n",
        "string"
      ],
      "execution_count": null,
      "outputs": []
    },
    {
      "cell_type": "markdown",
      "metadata": {},
      "source": [
        "2.  The code below uses the `NHANESsample` data from the **HDSinRdata** package. The goal of the code is to plot the worst diastolic blood pressure reading against the worst systolic blood pressure reading for each patient, colored by hypertension status. However, the code currently generates an error message. What is wrong with the code below? There are four errors for you to identify and fix."
      ]
    },
    {
      "cell_type": "code",
      "metadata": {
        "md-indent": "    "
      },
      "source": [
        "data(NHANESsample)\n",
        "\n",
        "nhanes_df <- NHANESsample %>% \n",
        "  mutate(worst_DBP = max(DBP1, DBP2, DBP3, DBP4), \n",
        "     worst_SBP = max(SBP1, SBP2, SBP3, SBP4))\n",
        "\n",
        "ggplot() %>% \n",
        "  geom_point(data = nhanes_df, aes(x = worst_SBP, \n",
        "                                   y = worst_DBP), \n",
        "             color = HYP)"
      ],
      "execution_count": null,
      "outputs": []
    },
    {
      "cell_type": "markdown",
      "metadata": {},
      "source": [
        "3.  The code below uses the `breastcancer` data from the **HDSinRdata** package. The goal is to create a logistic regression model for whether or not the diagnosis is benign or malignant and then to create a calibration plot for the model, following the code from [Chapter -@sec-logistic-regression]. What is wrong with the code below? Debug it. Hint: there are three separate errors."
      ]
    },
    {
      "cell_type": "code",
      "metadata": {
        "md-indent": "    "
      },
      "source": [
        "data(breastcancer)\n",
        "\n",
        "model <- glm(diagnosis ~ smoothness_worst + symmetry_mean + \n",
        "           texture_se + radius_mean, \n",
        "         data = breastcancer, family = binomial)\n",
        "\n",
        "pred_probs <- predict(model)\n",
        "\n",
        "num_cuts <- 10\n",
        "calib_data <-  data.frame(prob = pred_probs,\n",
        "                      bin = cut(pred_probs, breaks = num_cuts),\n",
        "                      class = mod_start$y)\n",
        "\n",
        "calib_data <- calib_data %>% \n",
        "         group_by(bin) %>% \n",
        "         summarize(observed = sum(class)/n(), \n",
        "                   expected = sum(prob)/n(), \n",
        "                   se = sqrt(observed*(1-observed)/n()))\n",
        "calib_data\n",
        "\n",
        "ggplot(calib_data) + \n",
        "  geom_abline(intercept = 0, slope = 1, color=\"red\") + \n",
        "  geom_errorbar(aes(x = expected, ymin=observed-1.96*se, \n",
        "                ymax=observed+1.96*se), \n",
        "            colour=\"black\", width=.01)+\n",
        "  geom_point(aes(x = expected, y = observed)) +\n",
        "  labs(x=\"Expected Proportion\", y=\"Observed Proportion\") +\n",
        "  theme_minimal()"
      ],
      "execution_count": null,
      "outputs": []
    },
    {
      "cell_type": "markdown",
      "metadata": {},
      "source": [
        "---\n",
        "jupyter: ir\n",
        "---"
      ]
    }
  ],
  "metadata": {
    "kernelspec": {
      "name": "ir",
      "language": "R",
      "display_name": "R",
      "path": "/Users/alice/Library/Jupyter/kernels/ir"
    }
  },
  "nbformat": 4,
  "nbformat_minor": 4
}