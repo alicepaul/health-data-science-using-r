{
  "cells": [
    {
      "cell_type": "markdown",
      "metadata": {},
      "source": [
        "# \n",
        "\n",
        "# Expanding your R Skills\n",
        "\n",
        "Throughout this book, we have covered some popular packages as well as\n",
        "many of the specific functions from these packages. However, it would be\n",
        "impossible to cover all of the packages, functions, and options that are\n",
        "available in R. In this chapter, we will talk about how to use new\n",
        "packages, interpret error messages, debugging, and overall good\n",
        "programming practices to help you take your R programming to the next\n",
        "level.\n",
        "\n",
        "## Reading Documentation for New Packages\n",
        "\n",
        "As you start to apply the tools from this book to your own work or in\n",
        "new settings, you may need to install and use new packages or encounter\n",
        "some unexpected errors. Practicing reading package documentation and\n",
        "responding to error messages will help you be able to expand your R\n",
        "skills beyond the topics covered here. We will demonstrate these skills\n",
        "using the **stringr** package \\[@R-stringr\\], which is a package that is\n",
        "part of the **tidyverse** and has several functions for dealing with\n",
        "text data."
      ],
      "id": "c80227aa-661a-4273-81d8-b8f7f5aebf50"
    },
    {
      "cell_type": "code",
      "execution_count": null,
      "metadata": {},
      "outputs": [],
      "source": [
        "library(tidyverse)\n",
        "library(HDSinRdata)"
      ],
      "id": "31f69bd2-38b6-4186-8f1a-7b6798f1c5fc"
    },
    {
      "cell_type": "markdown",
      "metadata": {},
      "source": [
        "Every published package has a CRAN website. This website contains a\n",
        "reference manual that contains the documentation for the functions and\n",
        "data available in the package. Most often, the website also includes\n",
        "useful vignettes that give examples of how to use the functions in the\n",
        "package. The site also tells you what the requirements for using the\n",
        "package are, who the authors of the package are, and when the package\n",
        "was last updated. For example, take a look at the CRAN site for\n",
        "[**stringr**](https://cran.r-project.org/web/packages/stringr/index.html)\n",
        "and read the vignette [“Introduction to String\n",
        "R”](https://cran.r-project.org/web/packages/stringr/vignettes/stringr.html).\n",
        "\n",
        "We will use this **stringr** package to clean up text related to a\n",
        "PubMed search query for a systematic review. An example search query is\n",
        "given below and is taken from @GUE202131. Our first goal will be to\n",
        "extract the actual search query from the text along with all the terms\n",
        "used in the query. We can assume that the search query will either be\n",
        "fully contained in parentheses or will be a sequence of parenthetical\n",
        "phrases connected with AND or OR. Our goal is to extract the search\n",
        "query as well as all the individual search terms used in the query, but\n",
        "we have to get there in a series of steps."
      ],
      "id": "4ca60542-6002-4052-a42a-2f94ab4b9733"
    },
    {
      "cell_type": "code",
      "execution_count": null,
      "metadata": {},
      "outputs": [],
      "source": [
        "sample_str <- \" A systematic search will be performed in PubMed, \n",
        "Embase, and the Cochrane Library, using the following search query:   \n",
        "('out-of-hospital cardiac arrest' OR 'OHCA') AND ('MIRACLE 2' OR \n",
        "'OHCA' OR 'CAHP' OR 'C-GRAPH' OR 'SOFA' OR 'APACHE' OR 'SAPS’ OR \n",
        "’SWAP’ OR ’TTM’).\""
      ],
      "id": "1ff41c49-49ff-4a21-adfe-67fbe09e1b7e"
    },
    {
      "cell_type": "markdown",
      "metadata": {},
      "source": [
        "The first thing we want to do with the text is clean up the white space\n",
        "by removing any trailing, leading, or repeated spaces. In our example,\n",
        "the string starts with a trailing space and there are also multiple\n",
        "spaces right before the search query. Searching for “white space” in the\n",
        "**stringr** reference manual, we find the `str_trim()` and\n",
        "`str_squish()` functions. Read the documentation for these two\n",
        "functions. You should find that `str_squish()` is the function we are\n",
        "looking for and that it takes a single argument."
      ],
      "id": "be83ea5f-fad0-4eb3-b535-0a2c77f4a5dc"
    },
    {
      "cell_type": "code",
      "execution_count": null,
      "metadata": {},
      "outputs": [
        {
          "output_type": "stream",
          "name": "stdout",
          "text": [
            "[1] \"A systematic search will be performed in PubMed, Embase, and the Cochrane Library, using the following search query: ('out-of-hospital cardiac arrest' OR 'OHCA') AND ('MIRACLE 2' OR 'OHCA' OR 'CAHP' OR 'C-GRAPH' OR 'SOFA' OR 'APACHE' OR 'SAPS’ OR ’SWAP’ OR ’TTM’).\""
          ]
        }
      ],
      "source": [
        "sample_str <- str_squish(sample_str)\n",
        "sample_str"
      ],
      "id": "5191bb43-182b-4683-9069-a25e737a3dec"
    },
    {
      "cell_type": "markdown",
      "metadata": {},
      "source": [
        "## Trying Simple Examples\n",
        "\n",
        "The premise above is a good example of starting with a simple case.\n",
        "Rather than applying your function to your full dataset right away, you\n",
        "want to first make sure that you understand how it works on a simple\n",
        "example on which you can anticipate what the outcome should look like.\n",
        "Our next task will be to split the text into words and store this as a\n",
        "character vector. Read the documentation to determine why we used the\n",
        "`str_split_1()` function below. We then double check that the returned\n",
        "result is indeed a vector and print the result."
      ],
      "id": "061378bb-d3f2-4908-8c99-7bcdd4b66b81"
    },
    {
      "cell_type": "code",
      "execution_count": null,
      "metadata": {},
      "outputs": [
        {
          "output_type": "stream",
          "name": "stdout",
          "text": [
            "[1] \"character\""
          ]
        },
        {
          "output_type": "stream",
          "name": "stdout",
          "text": [
            " [1] \"A\"                 \"systematic\"        \"search\"           \n",
            " [4] \"will\"              \"be\"                \"performed\"        \n",
            " [7] \"in\"                \"PubMed,\"           \"Embase,\"          \n",
            "[10] \"and\"               \"the\"               \"Cochrane\"         \n",
            "[13] \"Library,\"          \"using\"             \"the\"              \n",
            "[16] \"following\"         \"search\"            \"query:\"           \n",
            "[19] \"('out-of-hospital\" \"cardiac\"           \"arrest'\"          \n",
            "[22] \"OR\"                \"'OHCA')\"           \"AND\"              \n",
            "[25] \"('MIRACLE\"         \"2'\"                \"OR\"               \n",
            "[28] \"'OHCA'\"            \"OR\"                \"'CAHP'\"           \n",
            "[31] \"OR\"                \"'C-GRAPH'\"         \"OR\"               \n",
            "[34] \"'SOFA'\"            \"OR\"                \"'APACHE'\"         \n",
            "[37] \"OR\"                \"'SAPS’\"            \"OR\"               \n",
            "[40] \"’SWAP’\"            \"OR\"                \"’TTM’).\"          "
          ]
        }
      ],
      "source": [
        "sample_str_words <- str_split_1(sample_str, \" \")\n",
        "class(sample_str_words)"
      ],
      "id": "f9046939-8a21-4d24-aa80-24ab206dc0fe"
    },
    {
      "cell_type": "markdown",
      "metadata": {},
      "source": [
        "We now want to identify words in this vector that have starting and/or\n",
        "end parentheses. The function `grepl()` takes in a character vector `x`\n",
        "and a pattern to search for. It returns a logical vector for whether or\n",
        "not each element of `x` has a match for that pattern."
      ],
      "id": "db127490-6ad3-473e-9d78-f857bbbf96f1"
    },
    {
      "cell_type": "code",
      "execution_count": null,
      "metadata": {},
      "outputs": [
        {
          "output_type": "stream",
          "name": "stderr",
          "text": [
            "Warning in grepl(sample_str_words, \")\"): argument 'pattern' has length > 1 and\n",
            "only the first element will be used"
          ]
        },
        {
          "output_type": "stream",
          "name": "stdout",
          "text": [
            "[1] FALSE"
          ]
        }
      ],
      "source": [
        "grepl(sample_str_words, \")\")"
      ],
      "id": "41cbc597-f35e-4b2f-82b2-d8d55c243e3f"
    },
    {
      "cell_type": "markdown",
      "metadata": {},
      "source": [
        "That didn’t match what we expected. We expected to have multiple\n",
        "TRUE/FALSE values outputted - one for each word. Let’s read the\n",
        "documentation again.\n",
        "\n",
        "## Deciphering Error Messages and Warnings\n",
        "\n",
        "The warning message above will give us a good clue for what went wrong.\n",
        "It says that the inputted pattern has length \\> 1. However, the pattern\n",
        "we gave it is a single character. In fact, we specified the arguments in\n",
        "the wrong order. Let’s try again. This time we specify `x` and\n",
        "`pattern`."
      ],
      "id": "ef3469b8-0e08-4bdf-8595-cde210213d12"
    },
    {
      "cell_type": "code",
      "execution_count": null,
      "metadata": {},
      "outputs": [
        {
          "output_type": "stream",
          "name": "stdout",
          "text": [
            " [1] FALSE FALSE FALSE FALSE FALSE FALSE FALSE FALSE FALSE FALSE FALSE FALSE\n",
            "[13] FALSE FALSE FALSE FALSE FALSE FALSE FALSE FALSE FALSE FALSE  TRUE FALSE\n",
            "[25] FALSE FALSE FALSE FALSE FALSE FALSE FALSE FALSE FALSE FALSE FALSE FALSE\n",
            "[37] FALSE FALSE FALSE FALSE FALSE  TRUE"
          ]
        }
      ],
      "source": [
        "grepl(x=sample_str_words, pattern=\")\")"
      ],
      "id": "7f3b009e-3900-40a5-847d-485e750f3428"
    },
    {
      "cell_type": "markdown",
      "metadata": {},
      "source": [
        "That worked! However, it won’t work if we change that to a starting\n",
        "parentheses. Try it out for yourself to see this. The error message says\n",
        "that it is looking for an end parentheses. In this case, the\n",
        "documentation does not help us. Let’s try searching “stringr find start\n",
        "parentheses” using an online search engine. The first search result for\n",
        "me is a [stack overflow\n",
        "question](https://stackoverflow.com/questions/56174805/how-to-search-for-strings-with-parentheses-in-r)\n",
        "that helps us out. We read that we need to use backslashes to tell R to\n",
        "read the parentheses literally rather than as a special character used\n",
        "in a regular expression."
      ],
      "id": "41234c10-f8e4-47c4-a462-026f91790865"
    },
    {
      "cell_type": "code",
      "execution_count": null,
      "metadata": {},
      "outputs": [
        {
          "output_type": "stream",
          "name": "stdout",
          "text": [
            " [1] FALSE FALSE FALSE FALSE FALSE FALSE FALSE FALSE FALSE FALSE FALSE FALSE\n",
            "[13] FALSE FALSE FALSE FALSE FALSE FALSE  TRUE FALSE FALSE FALSE FALSE FALSE\n",
            "[25]  TRUE FALSE FALSE FALSE FALSE FALSE FALSE FALSE FALSE FALSE FALSE FALSE\n",
            "[37] FALSE FALSE FALSE FALSE FALSE FALSE"
          ]
        }
      ],
      "source": [
        "grepl(x=sample_str_words, pattern=\"\\\\(\")"
      ],
      "id": "36f2d9d3-0544-4c67-baec-390df1ea35e1"
    },
    {
      "cell_type": "markdown",
      "metadata": {},
      "source": [
        "When a function doesn’t return what we expect it to, it is a good idea\n",
        "to first test whether the arguments we gave it match what we expect,\n",
        "then re-read the documentation, and then look for other resources for\n",
        "help. For example, we could check that `sample_str_words` is indeed a\n",
        "character vector, then re-read the **stringr** documentation, and then\n",
        "search our problem.\n",
        "\n",
        "### Debugging Code\n",
        "\n",
        "The code below is supposed to extract the search query from the text as\n",
        "well as find the individual search terms used in the query. However, the\n",
        "code is incorrect. You can try out two test strings given to see why the\n",
        "code output is wrong. Practice reading through the code to understand\n",
        "what it is trying to do. The comments are there to help explain the\n",
        "steps, but you may also want to print the output to figure out what it\n",
        "is doing."
      ],
      "id": "cad41115-a729-46e3-9018-1fb5c98ab371"
    },
    {
      "cell_type": "code",
      "execution_count": null,
      "metadata": {},
      "outputs": [],
      "source": [
        "sample_strA <- \" A systematic search will be performed in PubMed, \n",
        "Embase, and the Cochrane Library, using the following search query:   \n",
        "('out-of-hospital cardiac arrest' OR 'OHCA') AND ('MIRACLE 2' OR \n",
        "'OHCA' OR 'CAHP' OR 'C-GRAPH' OR 'SOFA' OR 'APACHE' OR 'SAPS’ OR \n",
        "’SWAP’ OR ’TTM’).\"\n",
        "\n",
        "sample_strB <- \"Searches will be conducted in MEDLINE via PubMed, Web \n",
        "of Science, Scopus and Embase. The following search strategy will be \n",
        "used:(child OR infant OR preschool child OR preschool children OR \n",
        "preschooler OR pre-school child OR pre-school children OR pre school \n",
        "child OR pre school children OR pre-schooler OR pre schooler OR \n",
        "children OR adolescent OR adolescents)AND(attention deficit disorder \n",
        "with hyperactivity OR ADHD OR attention deficit disorder OR ADD OR \n",
        "hyperkinetic disorder OR minimal brain disorder) Submitted \""
      ],
      "id": "b552a2e9-ae28-40c4-be42-39563e0c7597"
    },
    {
      "cell_type": "code",
      "execution_count": null,
      "metadata": {},
      "outputs": [
        {
          "output_type": "stream",
          "name": "stdout",
          "text": [
            "[1] \") adolescents OR adolescent OR children OR schooler pre OR pre-schooler OR children school pre OR child school pre OR children pre-school OR child pre-school OR preschooler OR children preschool OR child preschool OR infant OR child (\""
          ]
        },
        {
          "output_type": "stream",
          "name": "stdout",
          "text": [
            " [1] \") adolescents\"       \"adolescent\"          \"children\"           \n",
            " [4] \"schooler pre\"        \"pre-schooler\"        \"children school pre\"\n",
            " [7] \"child school pre\"    \"children pre-school\" \"child pre-school\"   \n",
            "[10] \"preschooler\"         \"children preschool\"  \"child preschool\"    \n",
            "[13] \"infant\"              \"child \"             "
          ]
        }
      ],
      "source": [
        "sample_str <- sample_strB\n",
        "\n",
        "# separate parentheses, remove extra white space, and split into words\n",
        "sample_str <- str_replace(sample_str, \"\\\\)\", \" \\\\) \")\n",
        "sample_str <- str_replace(sample_str, \"\\\\(\", \" \\\\( \")\n",
        "sample_str <- str_squish(sample_str)\n",
        "sample_str_words <- str_split_1(sample_str, \" \")\n",
        "\n",
        "# find indices with parentheses \n",
        "end_ps <- grepl(x=sample_str_words, pattern=\"\\\\)\")\n",
        "start_ps <- grepl(x=sample_str_words, pattern=\"\\\\(\")\n",
        "\n",
        "# find words between first and last parentheses \n",
        "search_query <- sample_str_words[ which(end_ps)[1]:which(start_ps)[1]]\n",
        "search_query <- paste(search_query, collapse=\" \")\n",
        "search_query"
      ],
      "id": "ed903ab0-808f-48b9-b22e-6399c83edeb9"
    },
    {
      "cell_type": "markdown",
      "metadata": {},
      "source": [
        "## General Programming Tips\n",
        "\n",
        "As you write more complex code and functions, we want to focus on\n",
        "practicing good programming principles. This will help you when you need\n",
        "to share or update your code or when you inevitably run into errors or\n",
        "unexpected behavior. Below are some general programming tips and how\n",
        "they relate to communication and debugging.\n",
        "\n",
        "1.  **Consistent naming.** Use consistent and informative names for your\n",
        "    objects and functions. For example, you can see that within this\n",
        "    text we have only used lowercase letters, underscores (`_`), and\n",
        "    occasionally numbers in our names. These names should also be\n",
        "    informative and unique. This makes it easier to check for typos or\n",
        "    duplicate names when debugging. When debugging, check whether you\n",
        "    use the same name for different objects or whether you use different\n",
        "    names for the same object. You can do this by using the `ls()`\n",
        "    function to find all current objects or by checking your environment\n",
        "    pane.\n",
        "\n",
        "    ``` r\n",
        "    # Recommended\n",
        "    ages <- c(65, 33, 27, 88)\n",
        "    age_mean <- mean(ages)\n",
        "\n",
        "    # Not recommended\n",
        "    x <- c(65, 33, 27, 88)\n",
        "    x1 <- mean(ages)\n",
        "    ```\n",
        "\n",
        "2.  **Make Your Code Readable.** Readable code requires several elements\n",
        "    of communication. Similar to writing an essay, we need to break our\n",
        "    code into digestible and structured pieces. First, code should be\n",
        "    broken into blocks, using white space to separate steps, and should\n",
        "    use correct levels of indentation (one extra level of indentation\n",
        "    for each new loop, if/else statement, or function). This means that\n",
        "    closing curly braces should be on their own line indicating the end\n",
        "    of the block. This will make it easy to check that all parentheses\n",
        "    (), brackets \\[\\], and curly braces {} match. Additionally, you\n",
        "    should use line breaks to avoid going over 80 characters on a single\n",
        "    line of code. RStudio has an option to reformat or re-indent your\n",
        "    code under the Code tab.\n",
        "\n",
        "    Besides the structure of your code, writing helpful comments and\n",
        "    function documentation are key for making your code readable. A good\n",
        "    rule of thumb is to write comments for yourself a year from now -\n",
        "    you might remember the project goal but you won’t remember what `x`\n",
        "    represents. You likely do not need a comment for every line of code\n",
        "    but you might need one to explain the overall goal of a block of\n",
        "    code or to explain any lines of code that do not stand for\n",
        "    themselves.\n",
        "\n",
        "    In the code below, we have not used indentation. This makes it hard\n",
        "    to see the structure of the code such as what lines of code are in\n",
        "    the loop or if statement. The function does not have any roxygen\n",
        "    documentation. However, we have added too many comments. The\n",
        "    comments here are repetitive with the code. Last, we named the\n",
        "    function `unique()`, which is already a function in R.\n",
        "\n",
        "    ``` r\n",
        "    # Not recommended\n",
        "    unique <- function(x){\n",
        "    y <- c() # results\n",
        "    if (length(x) == 0){ # check length 0\n",
        "    return(NULL)} # return NULL\n",
        "    for(i in length(x)){  # loop through x\n",
        "    if(!(x[i] %in% y)){  # check if x[i] in y\n",
        "    y <- c(y, x[i]) }} # add x[i] to y\n",
        "    return(y) # return y\n",
        "    }\n",
        "    ```\n",
        "\n",
        "    We rewrite the function below addressing these comments. The end\n",
        "    result is much easier to read.\n",
        "\n",
        "    ``` r\n",
        "    #' Find unique elements of a vector \n",
        "    #'\n",
        "    #' @param x vector\n",
        "    #' @return new vector with duplicates removed\n",
        "    own_unique <- function(x){\n",
        "\n",
        "      # check for empty vector\n",
        "      if (length(x) == 0){ \n",
        "        return(NULL)\n",
        "      }\n",
        "\n",
        "      # otherwise y will be unique values\n",
        "      y <- c()\n",
        "\n",
        "      for(i in 1:length(x)){ \n",
        "        # if value of x is not in y, we add it\n",
        "        if(!(x[i] %in% y)){ \n",
        "          y <- c(y, x[i]) \n",
        "        }\n",
        "      }\n",
        "\n",
        "      return(y) \n",
        "    }\n",
        "    ```\n",
        "\n",
        "3.  **Don’t Repeat Yourself.** Whenever we are repeating code, we are\n",
        "    more likely to introduce errors. Additionally, it makes it hard to\n",
        "    update our code later on. When we find ourselves repeating code, we\n",
        "    should use a function. If you find yourself repeating constants you\n",
        "    should define these values as an object. The code below uses a\n",
        "    single line of code to convert categorical variables to factors and\n",
        "    stores a vector of which columns are categorical.\n",
        "\n",
        "    ``` r\n",
        "    dry_df <- data.frame(age = ages,\n",
        "                        tb = c(1, 0, 0, 0),\n",
        "                        heart_rate = c(60, 82, 76, 72),\n",
        "                        gender = c(\"Female\", \"Male\", \"Nonbinary\", \n",
        "                                   \"Female\"))\n",
        "\n",
        "    # convert factor variables\n",
        "    cat_vars <- c(\"tb\", \"gender\")\n",
        "    dry_df[cat_vars] <- lapply(dry_df[cat_vars], factor)\n",
        "    ```\n",
        "\n",
        "4.  **Practice Reading Documentation.** Whenever we are using a new\n",
        "    function, you should read the documentation first. When debugging,\n",
        "    you should check that the input arguments to a function match what\n",
        "    is expected and check the examples. Reading these examples will also\n",
        "    help when writing your own documentation so you can better\n",
        "    understand how to communicate to your audience.\n",
        "\n",
        "5.  **Start Simple, Build Up.** If we write a large amount of code at\n",
        "    once and then it fails to work, it’s hard to understand what went\n",
        "    wrong. Instead, we should build up our code or functions in small\n",
        "    steps and check it after each step. When it comes to testing code, a\n",
        "    good mantra is *test early and test often*. So, try to avoid writing\n",
        "    too much code before running and checking that the results match\n",
        "    what you expect. If you do end up writing a big chunk of code, you\n",
        "    can use localize your error by checking the values of objects at\n",
        "    different points.\n",
        "\n",
        "6.  **Get Comfortable Asking for Help.** In software engineering, it’s a\n",
        "    known tip to have a rubber ducky (or other adorable object) at your\n",
        "    desk to talk through your code. Having to verbalize and explain your\n",
        "    approach can be really helpful for debugging. R’s error messages can\n",
        "    sometimes hint at what the error might stem from, but they are not\n",
        "    always direct. Searching for error messages you don’t understand\n",
        "    might give you a better understanding of the problem.\n",
        "\n",
        "## Exercises\n",
        "\n",
        "The exercises below focus on reading function documentation and\n",
        "debugging.\n",
        "\n",
        "1.  Suppose we want to replace the words “Thank you” in the following\n",
        "    string with the word “Thanks”. Why does the below code fail? How can\n",
        "    we correct it?\n",
        "\n",
        "    ``` r\n",
        "    string <- \"Congratulations on finishing the book! \n",
        "    Thank you for reading it.\"\n",
        "    str_sub(string, c(35, 42)) <- \"Thanks\"\n",
        "    string\n",
        "    ```\n",
        "\n",
        "        [1] \"Congratulations on finishing the bThanks\"        \n",
        "        [2] \"Congratulations on finishing the book! \\nTThanks\"\n",
        "\n",
        "2.  The code below uses the `NHANESsample` data from the **HDSinRdata**\n",
        "    package. The goal of the code is to plot the worst diastolic blood\n",
        "    pressure reading against the worst systolic blood pressure reading\n",
        "    for each patient, colored by hypertension status. However, the code\n",
        "    currently generates an error message. What is wrong with the code\n",
        "    below? There are four errors for you to identify and fix.\n",
        "\n",
        "    ``` r\n",
        "    data(NHANESsample)\n",
        "\n",
        "    nhanes_df <- NHANESsample %>% \n",
        "      mutate(worst_DBP = max(DBP1, DBP2, DBP3, DBP4), \n",
        "         worst_SBP = max(SBP1, SBP2, SBP3, SBP4))\n",
        "\n",
        "    ggplot() %>% \n",
        "      geom_point(data = nhanes_df, aes(x = worst_SBP, \n",
        "                                       y = worst_DBP), \n",
        "                 color = HYP)\n",
        "    ```\n",
        "\n",
        "3.  The code below uses the `breastcancer` data from the **HDSinRdata**\n",
        "    package. The goal is to create a logistic regression model for\n",
        "    whether or not the diagnosis is benign or malignant and then to\n",
        "    create a calibration plot for the model, following the code from\n",
        "    **?@sec-logistic-regression**. What is wrong with the code below?\n",
        "    Debug it. Hint: there are three separate errors.\n",
        "\n",
        "    ``` r\n",
        "    data(breastcancer)\n",
        "\n",
        "    model <- glm(diagnosis ~ smoothness_worst + symmetry_mean + \n",
        "               texture_se + radius_mean, \n",
        "             data = breastcancer, family = binomial)\n",
        "\n",
        "    pred_probs <- predict(model)\n",
        "\n",
        "    num_cuts <- 10\n",
        "    calib_data <-  data.frame(prob = pred_probs,\n",
        "                          bin = cut(pred_probs, breaks = num_cuts),\n",
        "                          class = mod_start$y)\n",
        "\n",
        "    calib_data <- calib_data %>% \n",
        "             group_by(bin) %>% \n",
        "             summarize(observed = sum(class)/n(), \n",
        "                       expected = sum(prob)/n(), \n",
        "                       se = sqrt(observed*(1-observed)/n()))\n",
        "    calib_data\n",
        "\n",
        "    ggplot(calib_data) + \n",
        "      geom_abline(intercept = 0, slope = 1, color=\"red\") + \n",
        "      geom_errorbar(aes(x = expected, ymin=observed-1.96*se, \n",
        "                    ymax=observed+1.96*se), \n",
        "                colour=\"black\", width=.01)+\n",
        "      geom_point(aes(x = expected, y = observed)) +\n",
        "      labs(x=\"Expected Proportion\", y=\"Observed Proportion\") +\n",
        "      theme_minimal()\n",
        "    ```"
      ],
      "id": "9f3de564-8d45-4edd-ae12-bb9e2ad7f6eb"
    }
  ],
  "nbformat": 4,
  "nbformat_minor": 5,
  "metadata": {
    "kernelspec": {
      "display_name": "Python 3",
      "language": "python",
      "name": "python3"
    }
  }
}