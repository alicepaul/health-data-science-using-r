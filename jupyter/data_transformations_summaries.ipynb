{
  "cells": [
    {
      "cell_type": "markdown",
      "metadata": {},
      "source": [
        "# \n",
        "\n",
        "# Data Transformations and Summaries\n",
        "\n",
        "In this chapter, we introduce the **dplyr** package \\[@R-dplyr\\], which\n",
        "is part of the **tidyverse** group of packages, to expand our tools in\n",
        "exploring and transforming our data. We learn how to do some basic\n",
        "manipulations of data (e.g., adding or removing columns, filtering data,\n",
        "arranging by one or multiple columns) as well as how to summarize data\n",
        "(e.g., grouping by values, calculating summary statistics). We also\n",
        "practice combining these operations using the pipe operator `%>%` from\n",
        "the **tidyverse**. We use the same sample of the National Health and\n",
        "Nutrition Examination Survey \\[@nhanes\\] as in **?@sec-exploratory**."
      ],
      "id": "2e8140ee-8d40-41f8-bffe-8d0510b15e3b"
    },
    {
      "cell_type": "code",
      "execution_count": null,
      "metadata": {},
      "outputs": [],
      "source": [
        "library(HDSinRdata)\n",
        "library(tidyverse)\n",
        "\n",
        "data(NHANESsample)"
      ],
      "id": "43efbe9e-63fc-4871-a0ca-d5e09faf43f2"
    },
    {
      "cell_type": "markdown",
      "metadata": {},
      "source": [
        "## Tibbles and Data Frames\n",
        "\n",
        "Take a look at the class of `NHANESsample`. As we might expect, the data\n",
        "is stored as a data frame."
      ],
      "id": "a8d8f3f6-be7c-4e12-a985-4b47c1d3ce75"
    },
    {
      "cell_type": "code",
      "execution_count": null,
      "metadata": {},
      "outputs": [
        {
          "output_type": "stream",
          "name": "stdout",
          "text": [
            "[1] \"data.frame\""
          ]
        }
      ],
      "source": [
        "class(NHANESsample)"
      ],
      "id": "3e9b3f44-8da0-4f01-8448-9a34402d9f6f"
    },
    {
      "cell_type": "markdown",
      "metadata": {},
      "source": [
        "However, **tidyverse** packages also work with another data structure\n",
        "called a **tibble**. A **tibble** has all the properties of data frames\n",
        "that we have learned so far, but they are a more modern version of a\n",
        "data frame. To convert our data to this data structure, we use the\n",
        "`as_tibble()` function. In practice, there are only very slight\n",
        "differences between the two data structures, and you generally do not\n",
        "need to convert data frames to tibbles. In the following code chunks, we\n",
        "convert our data from a data frame to a tibble and print the head of the\n",
        "data before converting it back to a data frame and repeating. You can\n",
        "see the two structures have a slightly different print statement but are\n",
        "otherwise very similar."
      ],
      "id": "8c40641e-f4cd-4908-ad0e-11ae95d3c0b5"
    },
    {
      "cell_type": "code",
      "execution_count": null,
      "metadata": {},
      "outputs": [
        {
          "output_type": "stream",
          "name": "stdout",
          "text": [
            "# A tibble: 6 × 21\n",
            "     ID   AGE SEX    RACE             EDUCATION INCOME SMOKE  YEAR  LEAD BMI_CAT\n",
            "  <dbl> <dbl> <fct>  <fct>            <fct>      <dbl> <fct> <dbl> <dbl> <fct>  \n",
            "1     2    77 Male   Non-Hispanic Wh… MoreThan…   5    Neve…  1999   5   BMI<=25\n",
            "2     5    49 Male   Non-Hispanic Wh… MoreThan…   5    Quit…  1999   1.6 25<BMI…\n",
            "3    12    37 Male   Non-Hispanic Wh… MoreThan…   4.93 Neve…  1999   2.4 BMI>=30\n",
            "4    13    70 Male   Mexican American LessThan…   1.07 Quit…  1999   1.6 25<BMI…\n",
            "5    14    81 Male   Non-Hispanic Wh… LessThan…   2.67 Stil…  1999   5.5 25<BMI…\n",
            "6    15    38 Female Non-Hispanic Wh… MoreThan…   4.52 Stil…  1999   1.5 25<BMI…\n",
            "# ℹ 11 more variables: LEAD_QUANTILE <fct>, HYP <dbl>, ALC <chr>, DBP1 <dbl>,\n",
            "#   DBP2 <dbl>, DBP3 <dbl>, DBP4 <dbl>, SBP1 <dbl>, SBP2 <dbl>, SBP3 <dbl>,\n",
            "#   SBP4 <dbl>"
          ]
        }
      ],
      "source": [
        "nhanes_df <- as_tibble(NHANESsample)\n",
        "print(head(nhanes_df))"
      ],
      "id": "e8d6e8cc-8c9b-4f65-84b2-ca713fceb6e1"
    },
    {
      "cell_type": "code",
      "execution_count": null,
      "metadata": {},
      "outputs": [
        {
          "output_type": "stream",
          "name": "stdout",
          "text": [
            "  ID AGE    SEX               RACE  EDUCATION INCOME      SMOKE YEAR LEAD\n",
            "1  2  77   Male Non-Hispanic White MoreThanHS   5.00 NeverSmoke 1999  5.0\n",
            "2  5  49   Male Non-Hispanic White MoreThanHS   5.00  QuitSmoke 1999  1.6\n",
            "3 12  37   Male Non-Hispanic White MoreThanHS   4.93 NeverSmoke 1999  2.4\n",
            "4 13  70   Male   Mexican American LessThanHS   1.07  QuitSmoke 1999  1.6\n",
            "5 14  81   Male Non-Hispanic White LessThanHS   2.67 StillSmoke 1999  5.5\n",
            "6 15  38 Female Non-Hispanic White MoreThanHS   4.52 StillSmoke 1999  1.5\n",
            "    BMI_CAT LEAD_QUANTILE HYP ALC DBP1 DBP2 DBP3 DBP4 SBP1 SBP2 SBP3 SBP4\n",
            "1   BMI<=25            Q4   0 Yes   58   56   56   NA  106   98   98   NA\n",
            "2 25<BMI<30            Q3   1 Yes   82   84   82   NA  122  122  122   NA\n",
            "3   BMI>=30            Q4   1 Yes  108   98  100   NA  182  172  176   NA\n",
            "4 25<BMI<30            Q3   1 Yes   78   62   70   NA  140  130  130   NA\n",
            "5 25<BMI<30            Q4   1 Yes   56   NA   58   64  142   NA  134  138\n",
            "6 25<BMI<30            Q3   0 Yes   68   68   70   NA  106  112  106   NA"
          ]
        }
      ],
      "source": [
        "nhanes_df <- as.data.frame(nhanes_df)\n",
        "print(head(nhanes_df))"
      ],
      "id": "a26f1d05-dd45-4057-a1c4-df125cc5535f"
    },
    {
      "cell_type": "markdown",
      "metadata": {},
      "source": [
        "We mention tibbles here since some functions in the **tidyverse**\n",
        "convert data frames to tibbles in their output. In particular, when we\n",
        "later summarize over groups we can expect a tibble to be returned. It is\n",
        "useful to be aware that our data may change data structure with such\n",
        "functions and to know that we can always convert back if needed.\n",
        "\n",
        "## Subsetting Data   \n",
        "\n",
        "In earlier chapters, we have seen how to select and filter data using\n",
        "row and column indices as well as using the `subset()` function. The\n",
        "**dplyr** package has its own functions that are useful for subsetting\n",
        "data. The `select()` function allows us to select a subset of columns:\n",
        "this function takes in the data frame (or tibble) and the names or\n",
        "indices of the columns we want to select. For example, if we only wanted\n",
        "to select the variables for race and blood lead level, we could specify\n",
        "these two columns. To display the result of this selection, we use the\n",
        "pipe operator `%>%` from the **magittr** package of the **tidyverse**.\n",
        "Similar to the pipe operator `|>` in base R, the pipe operator `%>%`\n",
        "takes the result on the left-hand side and passes it as the first\n",
        "argument to the function on the right-hand side. The following output\n",
        "shows that there are only two columns in the filtered data."
      ],
      "id": "3247e3ee-148a-45ad-a2c4-dcb04862d309"
    },
    {
      "cell_type": "code",
      "execution_count": null,
      "metadata": {},
      "outputs": [
        {
          "output_type": "stream",
          "name": "stdout",
          "text": [
            "                RACE LEAD\n",
            "1 Non-Hispanic White  5.0\n",
            "2 Non-Hispanic White  1.6\n",
            "3 Non-Hispanic White  2.4\n",
            "4   Mexican American  1.6\n",
            "5 Non-Hispanic White  5.5\n",
            "6 Non-Hispanic White  1.5"
          ]
        }
      ],
      "source": [
        "select(nhanes_df, c(RACE, LEAD)) %>% head()"
      ],
      "id": "045fa6cb-8490-4e4b-9c62-86a3d963a1dc"
    },
    {
      "cell_type": "markdown",
      "metadata": {},
      "source": [
        "The `select()` function can also be used to *remove* columns by adding a\n",
        "negative sign in front of the vector of column names in its arguments.\n",
        "For example, we keep all columns except `ID` and `LEAD_QUANTILE`. Note\n",
        "that in this case we have saved the selected data back to our data frame\n",
        "`nhanes_df`. Additionally, this time we used a pipe operator to pipe the\n",
        "data to the select function itself."
      ],
      "id": "d92b3b41-b88c-4f20-bb89-6fbc27e4b501"
    },
    {
      "cell_type": "code",
      "execution_count": null,
      "metadata": {},
      "outputs": [
        {
          "output_type": "stream",
          "name": "stdout",
          "text": [
            " [1] \"AGE\"       \"SEX\"       \"RACE\"      \"EDUCATION\" \"INCOME\"    \"SMOKE\"    \n",
            " [7] \"YEAR\"      \"LEAD\"      \"BMI_CAT\"   \"HYP\"       \"ALC\"       \"DBP1\"     \n",
            "[13] \"DBP2\"      \"DBP3\"      \"DBP4\"      \"SBP1\"      \"SBP2\"      \"SBP3\"     \n",
            "[19] \"SBP4\"     "
          ]
        }
      ],
      "source": [
        "nhanes_df <- nhanes_df %>% select(-c(ID, LEAD_QUANTILE))\n",
        "names(nhanes_df)"
      ],
      "id": "ff1a14e0-9e86-4b11-87dd-c8cd359cafa0"
    },
    {
      "cell_type": "markdown",
      "metadata": {},
      "source": [
        "While `select()` allows us to choose a subset of columns, the `filter()`\n",
        "function allows us to choose a subset of rows. The `filter()` function\n",
        "takes a data frame as the first argument and a vector of Booleans as the\n",
        "second argument. This vector of Booleans can be generated using\n",
        "conditional statements as we used in **?@sec-exploratory**. We choose to\n",
        "filter the data to only observations after 2008."
      ],
      "id": "ba1df2bb-8d99-4ab6-b787-256ab61798c3"
    },
    {
      "cell_type": "code",
      "execution_count": null,
      "metadata": {},
      "outputs": [],
      "source": [
        "nhanes_df_recent <- nhanes_df %>% filter(YEAR >= 2008)"
      ],
      "id": "9f6ca929-498d-436b-8aa3-4d61098e79b7"
    },
    {
      "cell_type": "markdown",
      "metadata": {},
      "source": [
        "We can combine conditions by using multiple `filter()` calls, by\n",
        "creating a more complicated conditional statement using the `&` (and),\n",
        "`|` (or), and `%in%` (in) operators, or by separating the conditions\n",
        "with commas within filter. In the following code, we demonstrate these\n",
        "three ways to filter the data to males between 2008 and 2012. Note that\n",
        "the `between()` function allows us to capture the logic\n",
        "`YEAR >= 2008 & YEAR <= 2012`."
      ],
      "id": "705696e6-ed1b-4567-aa42-e9d93fa446bd"
    },
    {
      "cell_type": "code",
      "execution_count": null,
      "metadata": {},
      "outputs": [],
      "source": [
        "# Example 1: multiple filter calls\n",
        "nhanes_df_males1 <- nhanes_df %>%\n",
        "  filter(YEAR <= 2012) %>%\n",
        "  filter(YEAR >= 2008) %>%\n",
        "  filter(SEX == \"Male\")\n",
        "\n",
        "# Example 2: combine with & operator\n",
        "nhanes_df_males2 <- nhanes_df %>%\n",
        "  filter((YEAR <= 2012) & (YEAR >= 2008) & (SEX == \"Male\"))\n",
        "\n",
        "# Example 3: combine into one filter call with commas\n",
        "nhanes_df_males3 <- nhanes_df %>%\n",
        "  filter(between(YEAR, 2008, 2012), SEX == \"Male\")"
      ],
      "id": "eee7c714-0b95-475b-8a2d-a072ec6d9db5"
    },
    {
      "cell_type": "markdown",
      "metadata": {},
      "source": [
        "The use of parentheses in the previous code is especially important in\n",
        "order to capture our desired logic. In all these examples, we broke our\n",
        "code up into multiple lines, which makes it easier to read. A good rule\n",
        "of thumb is to not go past 80 characters in a line, and R Studio\n",
        "conveniently has a vertical gray line at this limit. To create a new\n",
        "line, you can hit enter either after an operator (e.g., `%>%`, `+`, `|`)\n",
        "or within a set of unfinished brackets or parentheses. Either of these\n",
        "breaks lets R know that your code is not finished yet.\n",
        "\n",
        "Lastly, we can subset the data using the `slice()` function to select a\n",
        "slice of rows by their index. The function takes in the dataset and a\n",
        "vector of indices. In the following example, we find the first and last\n",
        "rows of the data."
      ],
      "id": "fce780f1-2e52-4946-a0f2-208d6b618fcc"
    },
    {
      "cell_type": "code",
      "execution_count": null,
      "metadata": {},
      "outputs": [
        {
          "output_type": "stream",
          "name": "stdout",
          "text": [
            "  AGE  SEX               RACE  EDUCATION INCOME      SMOKE YEAR LEAD BMI_CAT\n",
            "1  77 Male Non-Hispanic White MoreThanHS   5.00 NeverSmoke 1999  5.0 BMI<=25\n",
            "2  38 Male Non-Hispanic White MoreThanHS   1.56 StillSmoke 2017  0.9 BMI>=30\n",
            "  HYP ALC DBP1 DBP2 DBP3 DBP4 SBP1 SBP2 SBP3 SBP4\n",
            "1   0 Yes   58   56   56   NA  106   98   98   NA\n",
            "2   1 Yes   98   92   98   NA  150  146  148   NA"
          ]
        }
      ],
      "source": [
        "slice(nhanes_df, c(1, nrow(nhanes_df)))"
      ],
      "id": "b4fbbb38-4fcc-4f27-b8fc-497f487e71bf"
    },
    {
      "cell_type": "markdown",
      "metadata": {},
      "source": [
        "A few other useful slice functions are `slice_sample()`, `slice_max()`,\n",
        "and `slice_min()`. The first takes in an argument `n` which specifies\n",
        "the number of *random* rows to sample from the data. For example, we\n",
        "could randomly sample 100 rows from our data. The latter two allow us to\n",
        "specify a column through the argument `order_by` and return the `n` rows\n",
        "with either the highest or lowest values in that column. For example, we\n",
        "can find the three male observations from 2007 with the highest and\n",
        "lowest blood lead levels and select a subset of columns to display."
      ],
      "id": "7458271c-0f9b-4207-aa00-5a930d9550f7"
    },
    {
      "cell_type": "code",
      "execution_count": null,
      "metadata": {},
      "outputs": [
        {
          "output_type": "stream",
          "name": "stdout",
          "text": [
            "                RACE  EDUCATION      SMOKE LEAD SBP1 DBP1\n",
            "1 Non-Hispanic Black LessThanHS NeverSmoke 33.1  106   66\n",
            "2     Other Hispanic LessThanHS StillSmoke 26.8  106   72\n",
            "3     Other Hispanic LessThanHS StillSmoke 25.7  112   60"
          ]
        },
        {
          "output_type": "stream",
          "name": "stdout",
          "text": [
            "                RACE  EDUCATION      SMOKE      LEAD SBP1 DBP1\n",
            "1 Non-Hispanic White LessThanHS NeverSmoke 0.1767767  114   80\n",
            "2     Other Hispanic LessThanHS  QuitSmoke 0.2800000  122   62\n",
            "3   Mexican American MoreThanHS  QuitSmoke 0.3200000  112   66"
          ]
        }
      ],
      "source": [
        "# three male observations with highest blood lead level in 2007\n",
        "nhanes_df %>%\n",
        "  filter(YEAR == 2007, SEX == \"Male\") %>%\n",
        "  select(c(RACE, EDUCATION, SMOKE, LEAD, SBP1, DBP1)) %>%\n",
        "  slice_max(order_by = LEAD, n = 3)"
      ],
      "id": "cb100682-5ebf-4b0d-be7c-af81598acb2a"
    },
    {
      "cell_type": "markdown",
      "metadata": {},
      "source": [
        "### Practice Question\n",
        "\n",
        "Filter the data to only those with an education level of more than HS\n",
        "who report alcohol use. Then, select only the diastolic blood pressure\n",
        "variables and display the fourth and tenth rows. Your result should\n",
        "match the result in\n",
        "<a href=\"#fig-filtering-and-selecting\" class=\"quarto-xref\">Figure 1</a>.\n",
        "\n",
        "<figure id=\"fig-filtering-and-selecting\">\n",
        "<img\n",
        "src=\"attachment:images/data_transformations_summaries/filtering-and-selecting.png\" />\n",
        "<figcaption>Figure 1: Filtering and Selecting Data.</figcaption>\n",
        "</figure>"
      ],
      "attachments": {
        "images/data_transformations_summaries/filtering-and-selecting.png": {
          "image/png": "[encoded data removed]"
        }
      },
      "id": "4e68c367-0fd9-4e74-af06-dfa1059aaed2"
    },
    {
      "cell_type": "code",
      "execution_count": null,
      "metadata": {},
      "outputs": [],
      "source": [
        "# Insert your solution here:"
      ],
      "id": "bddb85ea-8785-439a-982a-9999880a1d41"
    },
    {
      "cell_type": "markdown",
      "metadata": {},
      "source": [
        "## Updating Rows and Columns   \n",
        "\n",
        "The next few functions we look at allow us to update the rows and\n",
        "columns in our data. For example, the `rename()` function allows us to\n",
        "change the names of columns. In the following code, we change the name\n",
        "of `INCOME` to `PIR` since this variable is the poverty income ratio and\n",
        "also update the name of `SMOKE` to be `SMOKE_STATUS`. When specifying\n",
        "these names, the new name is on the left of the `=` and the old name is\n",
        "on the right."
      ],
      "id": "1cb33453-f2d9-4445-a26d-4b1ea89f8efa"
    },
    {
      "cell_type": "code",
      "execution_count": null,
      "metadata": {},
      "outputs": [
        {
          "output_type": "stream",
          "name": "stdout",
          "text": [
            " [1] \"AGE\"          \"SEX\"          \"RACE\"         \"EDUCATION\"    \"PIR\"         \n",
            " [6] \"SMOKE_STATUS\" \"YEAR\"         \"LEAD\"         \"BMI_CAT\"      \"HYP\"         \n",
            "[11] \"ALC\"          \"DBP1\"         \"DBP2\"         \"DBP3\"         \"DBP4\"        \n",
            "[16] \"SBP1\"         \"SBP2\"         \"SBP3\"         \"SBP4\"        "
          ]
        }
      ],
      "source": [
        "nhanes_df <- nhanes_df %>% rename(PIR = INCOME, SMOKE_STATUS = SMOKE)\n",
        "names(nhanes_df)"
      ],
      "id": "bf54e40c-61f7-4c7c-9906-8b0e359e9bed"
    },
    {
      "cell_type": "markdown",
      "metadata": {},
      "source": [
        "In the last chapter, we created a new variable called `EVER_SMOKE` based\n",
        "on the smoking status variable using the `ifelse()` function. Recall\n",
        "that this function allows us to specify a condition, and then two\n",
        "alternative values based on whether we meet or do not meet this\n",
        "condition. We see that there are about 15,000 subjects in our data who\n",
        "never smoked."
      ],
      "id": "99fd5849-ae05-4623-ae22-db6803cd9e94"
    },
    {
      "cell_type": "code",
      "execution_count": null,
      "metadata": {},
      "outputs": [
        {
          "output_type": "stream",
          "name": "stdout",
          "text": [
            ".\n",
            "   No   Yes \n",
            "15087 16178 "
          ]
        }
      ],
      "source": [
        "ifelse(nhanes_df$SMOKE_STATUS == \"NeverSmoke\", \"No\", \"Yes\") %>% \n",
        "  table()"
      ],
      "id": "4cc236df-c188-4b59-a653-53a403956d8d"
    },
    {
      "cell_type": "markdown",
      "metadata": {},
      "source": [
        "Another useful function from the **tidyverse** is the `case_when()`\n",
        "function, which is an extension of the `ifelse()` function but allows to\n",
        "specify more than two cases. We demonstrate this function to show how we\n",
        "could relabel the levels of the `SMOKE_STATUS` column. For each\n",
        "condition, we use the right side of the `~` to specify the value to be\n",
        "assigned when that condition is TRUE."
      ],
      "id": "8961f0bc-1a13-4fab-b360-060bada1fd66"
    },
    {
      "cell_type": "code",
      "execution_count": null,
      "metadata": {},
      "outputs": [
        {
          "output_type": "stream",
          "name": "stdout",
          "text": [
            ".\n",
            "Current Smoker   Never Smoked   Quit Smoking \n",
            "          7317          15087           8861 "
          ]
        }
      ],
      "source": [
        "case_when(nhanes_df$SMOKE_STATUS == \"NeverSmoke\" ~ \"Never Smoked\",\n",
        "          nhanes_df$SMOKE_STATUS == \"QuitSmoke\" ~ \"Quit Smoking\",\n",
        "          nhanes_df$SMOKE_STATUS == \n",
        "            \"StillSmoke\" ~ \"Current Smoker\") %>% \n",
        "  table()"
      ],
      "id": "bff76cd2-b0b4-4717-bb1c-a089fa60b0f0"
    },
    {
      "cell_type": "markdown",
      "metadata": {},
      "source": [
        "In the previous example, we did not store the columns we created. To do\n",
        "so, we could use the `$` operator or the `cbind()` function. The\n",
        "**tidyverse** also includes an alternative function to add columns\n",
        "called `mutate()`. This function takes in a data frame and a set of\n",
        "columns with associated names to add to the data or update. In the\n",
        "subsequent example, we create the column `EVER_SMOKE` and update the\n",
        "column `SMOKE_STATUS`. Within the `mutate()` function, we do not have to\n",
        "use the `$` operator to reference the column `SMOKE_STATUS`. Instead, we\n",
        "can specify just the column name, and the function interprets it as that\n",
        "column."
      ],
      "id": "dd808dd4-0955-47f5-8fef-9a586966454e"
    },
    {
      "cell_type": "code",
      "execution_count": null,
      "metadata": {},
      "outputs": [],
      "source": [
        "nhanes_df <- nhanes_df %>% \n",
        "  mutate(EVER_SMOKE = ifelse(SMOKE_STATUS == \"NeverSmoke\", \n",
        "                             \"No\", \"Yes\"), \n",
        "         SMOKE_STATUS = \n",
        "           case_when(SMOKE_STATUS == \"NeverSmoke\" ~ \"Never Smoked\",\n",
        "                     SMOKE_STATUS == \"QuitSmoke\" ~ \"Quit Smoking\",\n",
        "                     SMOKE_STATUS == \"StillSmoke\" ~ \"Current Smoker\")) "
      ],
      "id": "c111f133-7c4e-4514-a3e4-ad41d014d152"
    },
    {
      "cell_type": "markdown",
      "metadata": {},
      "source": [
        "The last function we demonstrate in this section is the `arrange()`\n",
        "function, which takes in a data frame and a vector of columns used to\n",
        "sort the data (data is sorted by the first column with ties sorted by\n",
        "the second column, etc.). By default, the `arrange()` function sorts the\n",
        "data in increasing order, but we can use the `desc()` function to\n",
        "instead sort in descending order. For example, the following code\n",
        "filters the data to male smokers before sorting by decreasing systolic\n",
        "and diastolic blood pressure in descending order. That is, the value of\n",
        "`DBP1` is used to sort rows that have the same systolic blood pressure\n",
        "values."
      ],
      "id": "bb7798e4-cdb5-4231-84f2-47d205f54a1a"
    },
    {
      "cell_type": "code",
      "execution_count": null,
      "metadata": {},
      "outputs": [
        {
          "output_type": "stream",
          "name": "stdout",
          "text": [
            "  YEAR  SEX   SMOKE_STATUS SBP1 DBP1 LEAD\n",
            "1 2011 Male Current Smoker  230  120 5.84\n",
            "2 2015 Male Current Smoker  230   98 1.56\n",
            "3 2009 Male Current Smoker  220   80 4.84\n",
            "4 2001 Male Current Smoker  218  118 3.70\n",
            "5 2017 Male Current Smoker  212  122 2.20\n",
            "6 2003 Male Current Smoker  212   54 4.00\n",
            "7 2011 Male Current Smoker  210   92 5.37\n",
            "8 2007 Male Current Smoker  210   80 2.18"
          ]
        }
      ],
      "source": [
        "nhanes_df %>% \n",
        "  select(c(YEAR, SEX, SMOKE_STATUS, SBP1, DBP1, LEAD)) %>%\n",
        "  filter(SEX == \"Male\", SMOKE_STATUS == \"Current Smoker\") %>%\n",
        "  arrange(desc(SBP1), desc(DBP1)) %>%\n",
        "  head(8)"
      ],
      "id": "5d10f84d-4e78-4072-9915-fce434d399d7"
    },
    {
      "cell_type": "markdown",
      "metadata": {},
      "source": [
        "If instead we had only sorted by `SBP1`, then the rows with the same\n",
        "value for systolic blood pressure would appear in their original order.\n",
        "You can see the difference in the following output."
      ],
      "id": "e7a3d725-233e-4a1a-bc77-33089f0fa2a0"
    },
    {
      "cell_type": "code",
      "execution_count": null,
      "metadata": {},
      "outputs": [
        {
          "output_type": "stream",
          "name": "stdout",
          "text": [
            "  YEAR  SEX   SMOKE_STATUS SBP1 DBP1 LEAD\n",
            "1 2011 Male Current Smoker  230  120 5.84\n",
            "2 2015 Male Current Smoker  230   98 1.56\n",
            "3 2009 Male Current Smoker  220   80 4.84\n",
            "4 2001 Male Current Smoker  218  118 3.70\n",
            "5 2003 Male Current Smoker  212   54 4.00\n",
            "6 2017 Male Current Smoker  212  122 2.20\n",
            "7 2007 Male Current Smoker  210   80 2.18\n",
            "8 2011 Male Current Smoker  210   92 5.37"
          ]
        }
      ],
      "source": [
        "nhanes_df %>% \n",
        "  select(c(YEAR, SEX, SMOKE_STATUS, SBP1, DBP1, LEAD)) %>%\n",
        "  filter(SEX == \"Male\", SMOKE_STATUS == \"Current Smoker\") %>%\n",
        "  arrange(desc(SBP1)) %>%\n",
        "  head(8)"
      ],
      "id": "19e4d8e4-8f31-4d33-80d9-2d6a6af25a49"
    },
    {
      "cell_type": "markdown",
      "metadata": {},
      "source": [
        "### Practice Question\n",
        "\n",
        "Create a new column called `DBP_CHANGE` that is equal to the difference\n",
        "between a patient’s first and fourth diastolic blood pressure readings.\n",
        "Then, sort the data frame by this new column in increasing order and\n",
        "print the first four rows. The first four `DBP_CHANGE` values in the\n",
        "head of the resulting data frame should be $-66$, $-64$, $-64$, and\n",
        "$-62$."
      ],
      "id": "649a3190-464e-46f0-8698-97af89801a9e"
    },
    {
      "cell_type": "code",
      "execution_count": null,
      "metadata": {},
      "outputs": [],
      "source": [
        "# Insert your solution here:                    "
      ],
      "id": "77496e25-516a-482d-a363-1251758a2a2f"
    },
    {
      "cell_type": "markdown",
      "metadata": {},
      "source": [
        "## Summarizing and Grouping  \n",
        "\n",
        "If we want to understand how many observations there are for each given\n",
        "race category, we could use the `table()` function as we described in\n",
        "earlier chapters. Another similar function is the `count()` function.\n",
        "This function takes in a data frame and one or more columns and counts\n",
        "the number of rows for each combination of unique values in these\n",
        "columns. If no columns are specified, it counts the total number of rows\n",
        "in the data frame. In the following code, we find the total number of\n",
        "rows (31,265) and the number of observations by race and year. We can\n",
        "see that the number in each group fluctuates quite a bit!"
      ],
      "id": "b327314f-80f8-414b-b392-07882c1a44a3"
    },
    {
      "cell_type": "code",
      "execution_count": null,
      "metadata": {},
      "outputs": [
        {
          "output_type": "stream",
          "name": "stdout",
          "text": [
            "      n\n",
            "1 31265"
          ]
        },
        {
          "output_type": "stream",
          "name": "stdout",
          "text": [
            "                 RACE YEAR    n\n",
            "1    Mexican American 1999  713\n",
            "2    Mexican American 2001  674\n",
            "3    Mexican American 2003  627\n",
            "4    Mexican American 2005  634\n",
            "5    Mexican American 2007  639\n",
            "6    Mexican American 2009  672\n",
            "7    Mexican American 2011  322\n",
            "8    Mexican American 2013  234\n",
            "9    Mexican American 2015  287\n",
            "10   Mexican American 2017  475\n",
            "11     Other Hispanic 1999  181\n",
            "12     Other Hispanic 2001  129\n",
            "13     Other Hispanic 2003   80\n",
            "14     Other Hispanic 2005   96\n",
            "15     Other Hispanic 2007  395\n",
            "16     Other Hispanic 2009  367\n",
            "17     Other Hispanic 2011  337\n",
            "18     Other Hispanic 2013  167\n",
            "19     Other Hispanic 2015  214\n",
            "20     Other Hispanic 2017  313\n",
            "21 Non-Hispanic White 1999 1401\n",
            "22 Non-Hispanic White 2001 1882\n",
            "23 Non-Hispanic White 2003 1785\n",
            "24 Non-Hispanic White 2005 1818\n",
            "25 Non-Hispanic White 2007 1940\n",
            "26 Non-Hispanic White 2009 2169\n",
            "27 Non-Hispanic White 2011 1463\n",
            "28 Non-Hispanic White 2013  917\n",
            "29 Non-Hispanic White 2015  685\n",
            "30 Non-Hispanic White 2017 1413\n",
            "31 Non-Hispanic Black 1999  463\n",
            "32 Non-Hispanic Black 2001  542\n",
            "33 Non-Hispanic Black 2003  576\n",
            "34 Non-Hispanic Black 2005  679\n",
            "35 Non-Hispanic Black 2007  728\n",
            "36 Non-Hispanic Black 2009  661\n",
            "37 Non-Hispanic Black 2011  876\n",
            "38 Non-Hispanic Black 2013  357\n",
            "39 Non-Hispanic Black 2015  351\n",
            "40 Non-Hispanic Black 2017  808\n",
            "41         Other Race 1999   76\n",
            "42         Other Race 2001   88\n",
            "43         Other Race 2003  109\n",
            "44         Other Race 2005  122\n",
            "45         Other Race 2007  123\n",
            "46         Other Race 2009  175\n",
            "47         Other Race 2011  475\n",
            "48         Other Race 2013  223\n",
            "49         Other Race 2015  209\n",
            "50         Other Race 2017  595"
          ]
        }
      ],
      "source": [
        "count(nhanes_df)"
      ],
      "id": "cd6b4360-d905-4749-b249-11c18c977324"
    },
    {
      "cell_type": "markdown",
      "metadata": {},
      "source": [
        "Finding the counts like we did previously is a form of a summary\n",
        "statistic for our data. The `summarize()` function in the **tidyverse**\n",
        "is used to compute summary statistics of the data and allows us to\n",
        "compute multiple statistics: this function takes in a data frame and one\n",
        "or more summary functions based on the given column names. In the\n",
        "subsequent example, we find the total number of observations as well as\n",
        "the mean and median systolic blood pressure for Non-Hispanic Blacks.\n",
        "Note that the `n()` function is the function within `summarize()` that\n",
        "finds the number of observations. In the `mean()` and `median()`\n",
        "functions we set `na.rm=TRUE` to remove NAs before computing these\n",
        "values (otherwise, we could get NA as our output)."
      ],
      "id": "80799806-fe2e-40b5-8c64-e79d570a3eee"
    },
    {
      "cell_type": "code",
      "execution_count": null,
      "metadata": {},
      "outputs": [
        {
          "output_type": "stream",
          "name": "stdout",
          "text": [
            "   TOT MEAN_SBP MEAN_DBP\n",
            "1 6041 128.7584 72.59694"
          ]
        }
      ],
      "source": [
        "nhanes_df %>%\n",
        "  filter(RACE == \"Non-Hispanic Black\") %>%\n",
        "  summarize(TOT = n(), MEAN_SBP = mean(SBP1, na.rm=TRUE), \n",
        "            MEAN_DBP = mean(DBP1, na.rm=TRUE))"
      ],
      "id": "b82cbb89-9961-4787-ac71-7b6d5fee7030"
    },
    {
      "cell_type": "markdown",
      "metadata": {},
      "source": [
        "If we wanted to repeat this for the other race groups, we would have to\n",
        "change the arguments to the `filter()` function each time. To avoid\n",
        "having to repeat our code and/or do this multiple times, we can use the\n",
        "`group_by()` function, which takes a data frame and one or more columns\n",
        "with which to group the data. In the following code, we group using the\n",
        "`RACE` variable. When we look at printed output, it looks almost the\n",
        "same as it did before except that we can see that its class is now a\n",
        "grouped data frame, which is printed at the top. In fact, a grouped data\n",
        "frame (or grouped tibble) acts like a set of data frames: one for each\n",
        "group. If we use the `slice()` function with index 1, it returns the\n",
        "first row for each group."
      ],
      "id": "52cfa576-fd3e-40af-a6a4-9dcec7c8e763"
    },
    {
      "cell_type": "code",
      "execution_count": null,
      "metadata": {},
      "outputs": [
        {
          "output_type": "stream",
          "name": "stdout",
          "text": [
            "# A tibble: 5 × 20\n",
            "# Groups:   RACE [5]\n",
            "    AGE SEX   RACE  EDUCATION   PIR SMOKE_STATUS  YEAR  LEAD BMI_CAT   HYP ALC  \n",
            "  <dbl> <fct> <fct> <fct>     <dbl> <chr>        <dbl> <dbl> <fct>   <dbl> <chr>\n",
            "1    70 Male  Mexi… LessThan…  1.07 Quit Smoking  1999   1.6 25<BMI…     1 Yes  \n",
            "2    61 Fema… Othe… MoreThan…  3.33 Current Smo…  1999   2.2 BMI<=25     0 Yes  \n",
            "3    77 Male  Non-… MoreThan…  5    Never Smoked  1999   5   BMI<=25     0 Yes  \n",
            "4    38 Fema… Non-… HS         0.92 Current Smo…  1999   1.8 25<BMI…     0 Yes  \n",
            "5    63 Fema… Othe… MoreThan…  5    Never Smoked  1999   1.2 BMI<=25     1 Yes  \n",
            "# ℹ 9 more variables: DBP1 <dbl>, DBP2 <dbl>, DBP3 <dbl>, DBP4 <dbl>,\n",
            "#   SBP1 <dbl>, SBP2 <dbl>, SBP3 <dbl>, SBP4 <dbl>, EVER_SMOKE <chr>"
          ]
        }
      ],
      "source": [
        "nhanes_df %>% \n",
        "  group_by(RACE) %>%\n",
        "  slice(1)"
      ],
      "id": "816ff2e9-3635-427f-a230-2b2203a0a022"
    },
    {
      "cell_type": "markdown",
      "metadata": {},
      "source": [
        "Grouping data is very helpful in combination with the `summarize()`\n",
        "function. Like with the `slice()` function, `summarize()` calculates the\n",
        "summary values for each group. We can now find the total number of\n",
        "observations as well as the mean systolic and diastolic blood pressure\n",
        "values for each racial group. Note that the returned summarized data is\n",
        "in a tibble."
      ],
      "id": "da6370ed-f1cf-4049-b54d-53062aed5c14"
    },
    {
      "cell_type": "code",
      "execution_count": null,
      "metadata": {},
      "outputs": [
        {
          "output_type": "stream",
          "name": "stdout",
          "text": [
            "# A tibble: 5 × 4\n",
            "  RACE                 TOT MEAN_SBP MEAN_DBP\n",
            "  <fct>              <int>    <dbl>    <dbl>\n",
            "1 Mexican American    5277     124.     70.4\n",
            "2 Other Hispanic      2279     123.     70.1\n",
            "3 Non-Hispanic White 15473     125.     70.4\n",
            "4 Non-Hispanic Black  6041     129.     72.6\n",
            "5 Other Race          2195     122.     72.6"
          ]
        }
      ],
      "source": [
        "nhanes_df %>% \n",
        "  group_by(RACE) %>%\n",
        "  summarize(TOT = n(), MEAN_SBP = mean(SBP1, na.rm=TRUE), \n",
        "            MEAN_DBP = mean(DBP1, na.rm=TRUE))"
      ],
      "id": "2da05845-d7e6-4b4f-b56b-4d28a2438d33"
    },
    {
      "cell_type": "markdown",
      "metadata": {},
      "source": [
        "After summarizing, the data is no longer grouped by race. If we ever\n",
        "want to remove the group structure from our data, we can use the\n",
        "`ungroup()` function, which restores the data to a single data frame.\n",
        "After ungrouping by race, we can see that we get a single observation\n",
        "returned by the `slice()` function."
      ],
      "id": "bb8978b2-5f90-4253-9324-48f8773a139b"
    },
    {
      "cell_type": "code",
      "execution_count": null,
      "metadata": {},
      "outputs": [
        {
          "output_type": "stream",
          "name": "stdout",
          "text": [
            "# A tibble: 1 × 4\n",
            "  SEX    RACE                SBP1  DBP1\n",
            "  <fct>  <fct>              <dbl> <dbl>\n",
            "1 Female Non-Hispanic White   270   124"
          ]
        }
      ],
      "source": [
        "nhanes_df %>% \n",
        "  select(SEX, RACE, SBP1, DBP1) %>%\n",
        "  group_by(RACE) %>%\n",
        "  ungroup() %>%\n",
        "  arrange(desc(SBP1)) %>%\n",
        "  slice(1)"
      ],
      "id": "15876bcb-fcff-4275-a715-671830f59f84"
    },
    {
      "cell_type": "markdown",
      "metadata": {},
      "source": [
        "### Practice Question\n",
        "\n",
        "Create a data frame summarizing the percent of patients with\n",
        "hypertension by smoking status. The result should look like\n",
        "<a href=\"#fig-grouping-and-summarizing\" class=\"quarto-xref\">Figure 2</a>.\n",
        "\n",
        "<figure id=\"fig-grouping-and-summarizing\">\n",
        "<img\n",
        "src=\"attachment:images/data_transformations_summaries/grouping-and-summarizing.png\" />\n",
        "<figcaption>Figure 2: Grouping and Summarizing Data.</figcaption>\n",
        "</figure>"
      ],
      "attachments": {
        "images/data_transformations_summaries/grouping-and-summarizing.png": {
          "image/png": "[encoded data removed]"
        }
      },
      "id": "65fd28a6-d46c-4498-8b40-d43baeadf33a"
    },
    {
      "cell_type": "code",
      "execution_count": null,
      "metadata": {},
      "outputs": [],
      "source": [
        "# Insert your solution here:"
      ],
      "id": "b2b6261b-23be-4e0d-9faa-78c34090b06e"
    },
    {
      "cell_type": "markdown",
      "metadata": {},
      "source": [
        "## Exercises\n",
        "\n",
        "The following exercises use the `covidcases` dataset from the\n",
        "**HDSinRdata** package. Before completing the exercises, be sure to read\n",
        "the documentation for this data (`?covidcases`)."
      ],
      "id": "ae0c9397-0e0d-46eb-a800-70a5617614fd"
    },
    {
      "cell_type": "code",
      "execution_count": null,
      "metadata": {},
      "outputs": [],
      "source": [
        "data(covidcases)"
      ],
      "id": "3ec45295-ca5d-484b-aa13-eb2afb28de0a"
    },
    {
      "cell_type": "markdown",
      "metadata": {},
      "source": [
        "1.  Suppose we are interested in the distribution of weekly cases by\n",
        "    state. First, create a new column in `covidcases` called `region`\n",
        "    specifying whether each state is in the Northeast, Midwest, South,\n",
        "    or West (you can either do this by hand using [this\n",
        "    list](https://en.wikipedia.org/wiki/List_of_regions_of_the_United_States)\n",
        "    of which states are in which region, or you can use `state.region`\n",
        "    from the **datasets** package in R). Then, create a data frame\n",
        "    summarizing the average and standard deviation of the weekly cases\n",
        "    for the Northeast.\n",
        "\n",
        "2.  Now, create a data frame with the average and standard deviation\n",
        "    summarized for each region rather than for just one selected region\n",
        "    as in Question 1. Sort this data frame from highest to lowest\n",
        "    average weekly cases. What other information would you need in order\n",
        "    to more accurately compare these regions in terms of their average\n",
        "    cases?\n",
        "\n",
        "3.  Find the ten counties in the Midwest with the lowest weekly deaths\n",
        "    in week 15 of this data ignoring ties (use `slice_min()` to find the\n",
        "    argument needed for this). What do you notice about the minimum\n",
        "    values? See the data documentation for why we observe these values.\n",
        "\n",
        "4.  Filter the data to include weeks 9 and 20 (around the start of the\n",
        "    pandemic), get the total cases per county during that time frame,\n",
        "    and then find the county in each state that had the highest number\n",
        "    of total cases."
      ],
      "id": "56795a29-d695-4010-86d3-30d362c915d7"
    }
  ],
  "nbformat": 4,
  "nbformat_minor": 5,
  "metadata": {
    "kernelspec": {
      "display_name": "Python 3",
      "language": "python",
      "name": "python3"
    }
  }
}