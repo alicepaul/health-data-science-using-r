{
  "cells": [
    {
      "cell_type": "markdown",
      "metadata": {},
      "source": [
        "# Case Study: Exploratory Data Analysis {#sec-cs-eda}\n",
        "\n",
        "In this chapter, we demonstrate a short exploratory analysis as a case study. This case study focuses on COVID-19 cases and deaths during 2020 using the `covidcases` and `mobility` datasets from the **HDSinRdata** package. A new package that is used in this case study is **usmap** package [@R-usmap], which allows us to easily create spatial plots of the United States. "
      ]
    },
    {
      "cell_type": "code",
      "metadata": {
        "results": "hide",
        "message": false
      },
      "source": [
        "#| warning: false\n",
        "\n",
        "library(HDSinRdata)\n",
        "library(tidyverse)\n",
        "library(patchwork)\n",
        "library(gt)\n",
        "library(gtsummary)\n",
        "library(usmap)"
      ],
      "execution_count": null,
      "outputs": []
    },
    {
      "cell_type": "markdown",
      "metadata": {},
      "source": [
        "## Preprocessing\n",
        "\n",
        "We start by cleaning and merging our data. The `covidcases` data contains weekly confirmed COVID-19 cases and deaths at the state and county level in 2020. As the data description notes, some of these values may be negative due to data discrepancies in the cumulative counts data. The `mobility` data contains daily mobility statistics by state. "
      ]
    },
    {
      "cell_type": "code",
      "metadata": {},
      "source": [
        "# Read in data\n",
        "data(covidcases)\n",
        "data(mobility)"
      ],
      "execution_count": null,
      "outputs": []
    },
    {
      "cell_type": "markdown",
      "metadata": {},
      "source": [
        "First, we look at the columns in our data. We convert the date columns in the mobility data to be recognized as a date using the `as.Date()` function. The `covidcases` data has the week number of 2020. We create a similar column for the mobility data."
      ]
    },
    {
      "cell_type": "code",
      "metadata": {},
      "source": [
        "# Convert to date format and find week\n",
        "mobility$date <- as.Date(mobility$date, formula = \"%Y-%M-%D\")\n",
        "mobility$week <- week(mobility$date)"
      ],
      "execution_count": null,
      "outputs": []
    },
    {
      "cell_type": "markdown",
      "metadata": {},
      "source": [
        "This allows us to summarize the mobility for a state across each week. "
      ]
    },
    {
      "cell_type": "code",
      "metadata": {},
      "source": [
        "# Find average mobility for week\n",
        "mobility_week <- mobility %>%\n",
        "  group_by(state, week) %>%\n",
        "  summarize(m50 = mean(m50, na.rm=TRUE), .groups = \"drop\") \n",
        "head(mobility_week)"
      ],
      "execution_count": null,
      "outputs": []
    },
    {
      "cell_type": "markdown",
      "metadata": {},
      "source": [
        "For both of our datasets, we want to check whether each state was observed across all dates and how the state's name is represented. For the mobility data, our data is at the state level so we can use the `table()` function."
      ]
    },
    {
      "cell_type": "code",
      "metadata": {},
      "source": [
        "# Find number of dates recorded for each state\n",
        "table(mobility_week$state)"
      ],
      "execution_count": null,
      "outputs": []
    },
    {
      "cell_type": "markdown",
      "metadata": {},
      "source": [
        "For the `covidcases` data, our data is at the county level. We need to summarize the data instead. In this case, some states were observed for fewer weeks than others. "
      ]
    },
    {
      "cell_type": "code",
      "metadata": {},
      "source": [
        "# Find state names and number of weeks recorded for each state\n",
        "unique(covidcases$state)\n",
        "num_wks <- covidcases %>%\n",
        "  group_by(state) %>%\n",
        "  summarize(num_weeks = n_distinct(week), .groups = \"drop\")\n",
        "summary(num_wks)"
      ],
      "execution_count": null,
      "outputs": []
    },
    {
      "cell_type": "markdown",
      "metadata": {},
      "source": [
        "Note that D.C. is written differently for each data source. We update this name in the mobility data."
      ]
    },
    {
      "cell_type": "code",
      "metadata": {},
      "source": [
        "mobility_week$state[mobility_week$state == \"Washington, D.C.\"] <- \n",
        "  \"District of Columbia\""
      ],
      "execution_count": null,
      "outputs": []
    },
    {
      "cell_type": "markdown",
      "metadata": {},
      "source": [
        "After checking the formatting of the `state` and `week` columns, we can now merge our data together. In this case, we want to add the mobility data to the case data and use a `left_join()`. "
      ]
    },
    {
      "cell_type": "code",
      "metadata": {},
      "source": [
        "# Join cases and mobility data\n",
        "covid <- left_join(covidcases, mobility_week, by = c(\"state\", \"week\"))"
      ],
      "execution_count": null,
      "outputs": []
    },
    {
      "cell_type": "markdown",
      "metadata": {},
      "source": [
        "Next, we want to get some simple information about the continuous variables in our data. We observe two key points. First, we can see the negative values the data description warned us about, and second, there is no missing data."
      ]
    },
    {
      "cell_type": "code",
      "metadata": {},
      "source": [
        "summary(covid[, c(\"weekly_cases\", \"weekly_deaths\", \"m50\")])"
      ],
      "execution_count": null,
      "outputs": []
    },
    {
      "cell_type": "markdown",
      "metadata": {},
      "source": [
        "These negative numbers are clear data discrepancies. When showing the distribution of cases in our exploratory analysis we may choose to either code these as 0 or NA. We decide to recode these negative values as NA."
      ]
    },
    {
      "cell_type": "code",
      "metadata": {},
      "source": [
        "# Set negative counts to NA\n",
        "covid$weekly_cases <- replace(covid$weekly_cases, \n",
        "                                   which(covid$weekly_cases < 0),\n",
        "                                   NA)\n",
        "\n",
        "covid$weekly_deaths <- replace(covid$weekly_deaths, \n",
        "                                   which(covid$weekly_deaths < 0),\n",
        "                                   NA)"
      ],
      "execution_count": null,
      "outputs": []
    },
    {
      "cell_type": "markdown",
      "metadata": {},
      "source": [
        "As the last step in our pre-processing, we add in the state abbreviation and region for each state using the `state.name` and `state.region` vectors available in R. We code D.C. to be in the same region as Maryland and Virginia."
      ]
    },
    {
      "cell_type": "code",
      "metadata": {},
      "source": [
        "# Add region and abbreviation and remove county\n",
        "region_key <- data.frame(state = c(state.name, \n",
        "                                   \"District of Columbia\"), \n",
        "                         state_abb = c(state.abb, \"DC\"),\n",
        "                         region = c(as.character(state.region), \n",
        "                                    \"South\"))\n",
        "\n",
        "covid <- covid %>%\n",
        "  left_join(region_key, by = c(\"state\")) \n",
        "\n",
        "head(covid)"
      ],
      "execution_count": null,
      "outputs": []
    },
    {
      "cell_type": "markdown",
      "metadata": {},
      "source": [
        "## Mobility and Cases Over Time\n",
        "\n",
        "Now that our data are merged and cleaned, we start exploring mobility and cases by region. The following summary table shows that these measures did differ by region overall."
      ]
    },
    {
      "cell_type": "code",
      "metadata": {},
      "source": [
        "covid %>%\n",
        "  select(c(\"region\", \"m50\", \"weekly_cases\", \"weekly_deaths\")) %>%\n",
        "  tbl_summary(by = \"region\", missing = \"no\") %>%\n",
        "  as_gt()"
      ],
      "execution_count": null,
      "outputs": []
    },
    {
      "cell_type": "markdown",
      "metadata": {},
      "source": [
        "We then plot mobility over time both for the whole country and by region. Across the country we see a similar pattern in how mobility fluctuated but that certain regions had overall higher mobility than others. "
      ]
    },
    {
      "cell_type": "code",
      "metadata": {},
      "source": [
        "# Average mobility in the US over time - overall \n",
        "pmob1 <- covid %>%\n",
        "  select(c(region, state, week, m50)) %>%\n",
        "  distinct() %>%\n",
        "  group_by(week) %>%\n",
        "  summarize(avg_m50 = mean(m50, na.rm=TRUE), .groups=\"drop\") %>%\n",
        "  ggplot() + \n",
        "  geom_line(aes(x = week, y = avg_m50)) +\n",
        "  labs(x = \"Week in 2020\", y = \"Average Mobility\", \n",
        "       title = \"Average Mobility in the US\") + \n",
        "  theme_bw()\n",
        "\n",
        "# Average mobility in the US over time - by region\n",
        "pmob2 <- covid %>%\n",
        "  select(c(region, state, week, m50)) %>%\n",
        "  distinct() %>%\n",
        "  group_by(region, week) %>%\n",
        "  summarize(avg_m50 = mean(m50, na.rm=TRUE), .groups=\"drop\") %>%\n",
        "  ggplot() + \n",
        "  geom_line(aes(x = week, y = avg_m50, color = region)) +\n",
        "  labs(x = \"Week in 2020\", y = \"Average Mobility\", \n",
        "       title = \"Average Mobility by Region in the US\",\n",
        "       color = \"Region\") + \n",
        "  theme_bw() +\n",
        "  theme(legend.position = \"bottom\") \n",
        "\n",
        "pmob1+pmob2"
      ],
      "execution_count": null,
      "outputs": []
    },
    {
      "cell_type": "markdown",
      "metadata": {},
      "source": [
        "We then look at cases and deaths by region. A limitation of these data are that we do not have population counts which would allow us to standardize these numbers. However, we do use a secondary y-axis using the `sec_axis()` function within `scale_y_continuous()` to allow us to plot deaths and cases together. In this case, the secondary axis is scaled by 1/10th of the primary axis. "
      ]
    },
    {
      "cell_type": "code",
      "metadata": {},
      "source": [
        "# Change in number cases over time, per region\n",
        "covid %>%\n",
        "  filter(!is.na(region)) %>% \n",
        "  group_by(region, week) %>%\n",
        "  summarize(weekly_cases = sum(weekly_cases, na.rm = TRUE),\n",
        "            weekly_deaths = sum(weekly_deaths, na.rm = TRUE),\n",
        "            .groups = \"drop\") %>%\n",
        "ggplot() +\n",
        "  geom_line(aes(x = week, y = weekly_cases, color = region, \n",
        "                linetype = \"Cases\")) + \n",
        "  geom_line(aes(x = week, y = weekly_deaths*10, color = region, \n",
        "                linetype = \"Deaths\")) +\n",
        "  scale_y_continuous(name = \"Average Weekly Cases\",\n",
        "                     sec.axis = sec_axis(~./10, \n",
        "                          name = \"Average Weekly Deaths\"))+\n",
        "  scale_linetype(name = \"Measure\") +\n",
        "  labs(x = \"Week in 2020\", color = \"Region\", \n",
        "       title = \"Weekly Cases Over Time by Region\") +\n",
        "  theme_bw()"
      ],
      "execution_count": null,
      "outputs": []
    },
    {
      "cell_type": "markdown",
      "metadata": {},
      "source": [
        "To look at how mobility and cases are related, we look at a scatter plot of mobility and cases in California."
      ]
    },
    {
      "cell_type": "code",
      "metadata": {},
      "source": [
        "covid_ca <- covid %>% filter(state == \"California\")\n",
        "ggplot(covid_ca)+\n",
        "  geom_point(aes(x = weekly_cases, y = m50), na.rm = TRUE) +\n",
        "  labs(x = \"Weekly Cases\", y = \"Average Mobility\")"
      ],
      "execution_count": null,
      "outputs": []
    },
    {
      "cell_type": "markdown",
      "metadata": {},
      "source": [
        "This motivates us to look at the correlation between these two columns by state. We plot this using the `plot_usmap()` function from the **usmap** package. Interestingly, we observe different relationships throughout the country, but none of the correlations are particularly strong."
      ]
    },
    {
      "cell_type": "code",
      "metadata": {},
      "source": [
        "# Calculate and plot correlation between cases and mobility, y state\n",
        "covid_cor <- covid %>%\n",
        "  group_by(state) %>%\n",
        "  summarize(correlation = cor(weekly_cases, m50,\n",
        "                              use = \"complete.obs\"))\n",
        "\n",
        "plot_usmap(regions = \"states\", data = covid_cor, \n",
        "           values = \"correlation\") +\n",
        "  scale_fill_gradient2(low = \"darkblue\", high = \"darkred\", \n",
        "                       mid=\"white\", name = \"Correlation\") + \n",
        "  labs(title = \"Correlation Between Cases and Mobility\") +\n",
        "  theme(legend.position = \"right\")"
      ],
      "execution_count": null,
      "outputs": []
    },
    {
      "cell_type": "markdown",
      "metadata": {},
      "source": [
        "Last, we look at how the total cases and deaths are related to each other. This shows that the Northeast suffered more deaths per case overall, which may be related to the lower mobility and negative correlation between mobility and cases observed earlier. "
      ]
    },
    {
      "cell_type": "code",
      "metadata": {},
      "source": [
        "# Relationship between cases and deaths summarized\n",
        "covid %>%\n",
        "  group_by(region, state_abb) %>%\n",
        "  summarize(total_cases = sum(weekly_cases, na.rm = TRUE),\n",
        "            total_deaths = sum(weekly_deaths, na.rm = TRUE),\n",
        "            .groups = \"drop\") %>%\n",
        "ggplot() + \n",
        "  geom_label(aes(x = total_cases, y = total_deaths, color = region,\n",
        "                 label = state_abb), size = 1.5) + \n",
        "  labs(x = \"Total Cases\", y = \"Total Deaths\", color = \"Region\") +\n",
        "  theme_bw()"
      ],
      "execution_count": null,
      "outputs": []
    },
    {
      "cell_type": "markdown",
      "metadata": {},
      "source": [
        "---\n",
        "jupyter: ir\n",
        "---"
      ]
    }
  ],
  "metadata": {
    "kernelspec": {
      "name": "ir",
      "language": "R",
      "display_name": "R",
      "path": "/Users/alice/Library/Jupyter/kernels/ir"
    }
  },
  "nbformat": 4,
  "nbformat_minor": 4
}