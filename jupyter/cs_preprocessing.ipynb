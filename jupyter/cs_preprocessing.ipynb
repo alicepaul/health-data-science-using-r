{
  "cells": [
    {
      "cell_type": "markdown",
      "metadata": {},
      "source": [
        "# \n",
        "\n",
        "# Case Study: Pre-Processing Data\n",
        "\n",
        "In this chapter, we put some of our R skills together in a case study.\n",
        "This case study focuses on data cleaning and pre-processing. We use the\n",
        "`tb_diagnosis_raw` data from the **HDSinRdata** package. This data\n",
        "contains information on 1,634 patients in rural South Africa who\n",
        "presented at a health clinic with tuberculosis-related symptoms and were\n",
        "tested for tuberculosis (TB) using Xpert MTB/RIF. Our goal is to clean\n",
        "this data to reflect the pre-processing described in @baik2020clinical.\n",
        "This paper uses this data to derive a simple risk score model for\n",
        "screening patients for treatment while awaiting Xpert results. We use\n",
        "the **tidyverse** packages as well as the summary tables from\n",
        "**gtsummary**."
      ],
      "id": "fcac7a63-5f65-479e-a938-93a4da9d2b39"
    },
    {
      "cell_type": "code",
      "execution_count": null,
      "metadata": {},
      "outputs": [],
      "source": [
        "library(HDSinRdata)\n",
        "library(tidyverse)\n",
        "library(gt)\n",
        "library(gtsummary)"
      ],
      "id": "9f058c7d-5622-4986-bd41-c267095d1459"
    },
    {
      "cell_type": "markdown",
      "metadata": {},
      "source": [
        "To begin, read in the data and review the description of the original\n",
        "columns. Some things to note in the data documentation are the ways\n",
        "unknown, missing, or refused values are coded as well as how some of the\n",
        "columns are related to each other."
      ],
      "id": "850c2e83-54e4-4c25-af72-b38cd46e314a"
    },
    {
      "cell_type": "code",
      "execution_count": null,
      "metadata": {},
      "outputs": [],
      "source": [
        "# Read in data\n",
        "data(\"tb_diagnosis_raw\")\n",
        "\n",
        "# Inspect variable descriptions\n",
        "# ?tb_diagnosis_raw"
      ],
      "id": "9f5051c6-8591-4216-b1a9-e044c58dddef"
    },
    {
      "cell_type": "markdown",
      "metadata": {},
      "source": [
        "To start, we select variables needed for our analysis. In particular, we\n",
        "drop columns related to the participation in the survey and about\n",
        "seeking care. Since some of these variables contain long or vague names,\n",
        "we also rename most of the variables."
      ],
      "id": "d115616b-c6f9-410c-a36d-82d4ba04e11d"
    },
    {
      "cell_type": "code",
      "execution_count": null,
      "metadata": {},
      "outputs": [],
      "source": [
        "# Select variables and rename\n",
        "tb_df <- tb_diagnosis_raw %>% \n",
        "  select(c(xpert_status_fac, age_group, sex, hiv_status_fac,\n",
        "           other_conditions_fac___1, other_conditions_fac___3,\n",
        "           other_conditions_fac___88, other_conditions_fac___99,\n",
        "           symp_fac___1, symp_fac___2, symp_fac___3, symp_fac___4, \n",
        "           symp_fac___99, length_symp_unit_fac, length_symp_days_fac,\n",
        "           length_symp_wk_fac, length_symp_mnt_fac, length_symp_yr_fac,\n",
        "           smk_fac, dx_tb_past_fac, educ_fac)) %>%\n",
        "    rename(tb = xpert_status_fac, hiv_pos = hiv_status_fac,\n",
        "           cough = symp_fac___1, fever = symp_fac___2, \n",
        "           weight_loss = symp_fac___3, night_sweats = symp_fac___4, \n",
        "           symptoms_missing = symp_fac___99,\n",
        "           ever_smoke = smk_fac, \n",
        "           past_tb = dx_tb_past_fac, education = educ_fac)"
      ],
      "id": "71980fde-e4d9-4f12-8ff5-4abd404d44b6"
    },
    {
      "cell_type": "markdown",
      "metadata": {},
      "source": [
        "We then use a summary table to understand the initial distributions of\n",
        "the variables observed. This also highlights where we have missing or\n",
        "unknown data."
      ],
      "id": "2be0f4a0-ea6e-41c5-a428-7fc133dd8f47"
    },
    {
      "cell_type": "code",
      "execution_count": null,
      "metadata": {},
      "outputs": [
        {
          "output_type": "display_data",
          "metadata": {},
          "data": {
            "text/html": [
              "\n",
              "</div>"
            ]
          }
        }
      ],
      "source": [
        "tbl_summary(tb_df) %>%\n",
        "  as_gt()"
      ],
      "id": "c513db85-f142-4923-a9c5-3a90657acf38"
    },
    {
      "cell_type": "markdown",
      "metadata": {},
      "source": [
        "One observation from the table is that the coding of variables is\n",
        "inconsistent, with some using 0/1 and others using 1/2. We want to\n",
        "standardize how these variables are represented. To start, we update our\n",
        "`tb` column. Additionally, we create a column `male` from the previous\n",
        "column `sex` to make the reference level clear. We can then drop the\n",
        "`sex` column."
      ],
      "id": "38d5c01e-c482-41c0-bfc9-c048b0dd3910"
    },
    {
      "cell_type": "code",
      "execution_count": null,
      "metadata": {},
      "outputs": [],
      "source": [
        "# Re-code binary variables to 0/1 instead of 1/2\n",
        "tb_df$tb <- case_when(tb_df$tb == 1 ~ 1, \n",
        "                      tb_df$tb == 2 ~ 0)\n",
        "\n",
        "tb_df$male <- case_when(tb_df$sex == 1 ~ 1, \n",
        "                        tb_df$sex == 2 ~ 0)\n",
        "tb_df <- tb_df %>% select(-c(sex))"
      ],
      "id": "63a1f1a0-166f-48b0-9adc-4d85e93e38e9"
    },
    {
      "cell_type": "markdown",
      "metadata": {},
      "source": [
        "Diabetes is another variable that should be coded this way. In the raw\n",
        "data, several columns correspond to this question about other medical\n",
        "conditions. Therefore, we need to use the columns\n",
        "`other_conditions_fac___88` and `other_conditions_fac___99` to check\n",
        "whether the participant did not answer the question when interpreting\n",
        "the 0/1 value for diabetes."
      ],
      "id": "665dc360-b3f5-41a3-969c-46a21ff8e4db"
    },
    {
      "cell_type": "code",
      "execution_count": null,
      "metadata": {},
      "outputs": [
        {
          "output_type": "stream",
          "name": "stdout",
          "text": [
            "\n",
            "   0    1 \n",
            "1541   52 "
          ]
        }
      ],
      "source": [
        "# Re-code diabetes to check if missing\n",
        "tb_df$diabetes <- case_when(tb_df$other_conditions_fac___3 == 1 ~ 1,\n",
        "                            tb_df$other_conditions_fac___1 == 1 ~ 0,\n",
        "                            tb_df$other_conditions_fac___88 == 1 ~ NA,\n",
        "                            tb_df$other_conditions_fac___99 == 1 ~ NA,\n",
        "                            TRUE ~ 0)\n",
        "tb_df <- tb_df %>% select(-c(other_conditions_fac___1,\n",
        "                             other_conditions_fac___3,\n",
        "                             other_conditions_fac___88,\n",
        "                             other_conditions_fac___99))\n",
        "table(tb_df$diabetes)"
      ],
      "id": "15f2bdac-fc78-42d7-80db-e44a684fb50b"
    },
    {
      "cell_type": "markdown",
      "metadata": {},
      "source": [
        "Next, we similarly code our variables about HIV status, smoking, and\n",
        "whether the patient has ever been diagnosed with tuberculosis before.\n",
        "For these variables, if the patient answered that they did not know if\n",
        "their HIV status or had tested positive for TB, we code these as 0 to be\n",
        "consistent with the paper."
      ],
      "id": "530ccbae-fae5-4dd3-8ae6-5bf258898128"
    },
    {
      "cell_type": "code",
      "execution_count": null,
      "metadata": {},
      "outputs": [],
      "source": [
        "# Re-code variables with missing or refused values\n",
        "tb_df$hiv_pos <- case_when((tb_df$hiv_pos == 1) ~ 1, \n",
        "                           tb_df$hiv_pos %in% c(2,77) ~ 0,\n",
        "                           tb_df$hiv_pos == 88 ~ NA)\n",
        "\n",
        "tb_df$ever_smoke <- case_when(tb_df$ever_smoke %in% c(1,2) ~ 1,\n",
        "                              tb_df$ever_smoke == 3 ~ 0,\n",
        "                              tb_df$ever_smoke == 99 ~ NA)\n",
        "\n",
        "tb_df$past_tb <- case_when(tb_df$past_tb == 1 ~ 1, \n",
        "                           tb_df$past_tb %in% c(2,77) ~ 0)"
      ],
      "id": "586a5dab-4b20-4ba8-94c9-a8d7b55f46b5"
    },
    {
      "cell_type": "markdown",
      "metadata": {},
      "source": [
        "The next variable we clean is `education`. First, we need to code NA\n",
        "values correctly. We can then observe the distribution of years of\n",
        "education."
      ],
      "id": "a1615748-4ec5-4f1b-be35-1be84914915b"
    },
    {
      "cell_type": "code",
      "execution_count": null,
      "metadata": {},
      "outputs": [
        {
          "output_type": "display_data",
          "metadata": {},
          "data": {
            "image/png": "[encoded data removed]"
          }
        }
      ],
      "source": [
        "# Code NA values and look at education distribution\n",
        "tb_df$education[tb_df$education == 99] <- NA\n",
        "hist(tb_df$education, xlab = \"Years of Education\", \n",
        "     main = \"Histogram of Education Years\")"
      ],
      "id": "9756a995-7e64-4070-8772-c94d51b2f083"
    },
    {
      "cell_type": "markdown",
      "metadata": {},
      "source": [
        "For our purposes, we want to represent education as whether a person has\n",
        "a high school education or less."
      ],
      "id": "c81bae6b-7dc0-4436-aa9b-1698ac645765"
    },
    {
      "cell_type": "code",
      "execution_count": null,
      "metadata": {},
      "outputs": [],
      "source": [
        "# Categorize education to HS and above\n",
        "tb_df$hs_less <- case_when(tb_df$education <= 12 ~ 1,\n",
        "                           tb_df$education > 12 ~ 0,\n",
        "                           TRUE ~ NA)\n",
        "tb_df <- tb_df %>% select(-c(education))"
      ],
      "id": "2d670278-3b4b-4cc3-bdca-a7a2b6289b88"
    },
    {
      "cell_type": "markdown",
      "metadata": {},
      "source": [
        "There are several variables in the data related to how long a person has\n",
        "experienced symptoms. In the following code, we can see that the unit of\n",
        "the symptoms, recorded in `length_symp_unit_fac`, determines which other\n",
        "column is entered. For example, if `length_symp_unit_fac == 1`, then the\n",
        "only column without an NA value is `length_symp_days_fc`."
      ],
      "id": "14fa76ce-7a96-4c21-af8a-c572675b51ad"
    },
    {
      "cell_type": "code",
      "execution_count": null,
      "metadata": {},
      "outputs": [
        {
          "output_type": "stream",
          "name": "stdout",
          "text": [
            "# A tibble: 6 × 5\n",
            "  length_symp_unit_fac missing_days missing_wks missing_mnt missing_yr\n",
            "                 <int>        <dbl>       <dbl>       <dbl>      <dbl>\n",
            "1                    1            0           1           1          1\n",
            "2                    2            1           0           1          1\n",
            "3                    3            1           1           0          1\n",
            "4                    4            1           1           1          0\n",
            "5                   77            1           1           1          1\n",
            "6                   NA            1           1           1          1"
          ]
        }
      ],
      "source": [
        "tb_df %>%\n",
        "  group_by(length_symp_unit_fac) %>%\n",
        "  summarize(missing_days = sum(is.na(length_symp_days_fac))/n(),\n",
        "            missing_wks = sum(is.na(length_symp_wk_fac))/n(),\n",
        "            missing_mnt = sum(is.na(length_symp_mnt_fac))/n(),\n",
        "            missing_yr = sum(is.na(length_symp_yr_fac))/n())"
      ],
      "id": "ef3d27fe-4b08-4ee9-837c-3bcf85d9dacb"
    },
    {
      "cell_type": "markdown",
      "metadata": {},
      "source": [
        "Additionally, these measurements are positive integer values."
      ],
      "id": "1b2e801b-4281-471f-803a-0387d31d244a"
    },
    {
      "cell_type": "code",
      "execution_count": null,
      "metadata": {},
      "outputs": [
        {
          "output_type": "stream",
          "name": "stdout",
          "text": [
            "[1] 1"
          ]
        },
        {
          "output_type": "stream",
          "name": "stdout",
          "text": [
            "[1] TRUE"
          ]
        }
      ],
      "source": [
        "min(tb_df$length_symp_days_fac, na.rm = TRUE)"
      ],
      "id": "35edd977-1796-46f1-9c9f-9d4d1798099e"
    },
    {
      "cell_type": "markdown",
      "metadata": {},
      "source": [
        "This allows us to create a new variable that represents whether or not\n",
        "someone has had symptoms for more than two weeks. In our `case_when()`\n",
        "function call, we first check whether the duration is missing before\n",
        "checking for the cases when symptoms would be less than two weeks."
      ],
      "id": "d5597a07-2717-473a-bef9-44cc44e4d35a"
    },
    {
      "cell_type": "code",
      "execution_count": null,
      "metadata": {},
      "outputs": [],
      "source": [
        "# Categorize number of weeks experiencing symptoms\n",
        "tb_df <- tb_df %>%\n",
        "  mutate(case_when((length_symp_unit_fac == 77 |\n",
        "                      is.na(length_symp_unit_fac)) ~ NA,\n",
        "                   (length_symp_unit_fac == 1 & \n",
        "                      length_symp_days_fac <= 14) ~ 0,\n",
        "                   (length_symp_unit_fac == 2 &\n",
        "                      length_symp_wk_fac <= 2) ~ 0,\n",
        "                   TRUE ~ 1))\n",
        "\n",
        "tb_df <- tb_df %>% \n",
        "  select(-c(length_symp_wk_fac, length_symp_days_fac, \n",
        "            length_symp_mnt_fac, length_symp_yr_fac, \n",
        "            length_symp_unit_fac))"
      ],
      "id": "5a8dd223-e8d4-4ddd-accf-85902388f995"
    },
    {
      "cell_type": "markdown",
      "metadata": {},
      "source": [
        "Last, we update our symptom variables to have a summary column\n",
        "`num_symptoms` that represents the total number of classic TB symptoms\n",
        "rather than keeping track of individual symptoms. We also exclude anyone\n",
        "who does not have any TB symptoms."
      ],
      "id": "ca414c43-402d-493e-b2ba-aa6e53cf3859"
    },
    {
      "cell_type": "code",
      "execution_count": null,
      "metadata": {},
      "outputs": [
        {
          "output_type": "stream",
          "name": "stdout",
          "text": [
            "\n",
            "  1   2   3   4 \n",
            "600 344 265 196 "
          ]
        }
      ],
      "source": [
        "# Count total number of symptoms\n",
        "tb_df$num_symptoms <- tb_df$fever + tb_df$weight_loss + tb_df$cough + \n",
        "  tb_df$night_sweats\n",
        "tb_df$num_symptoms[tb_df$symptoms_missing == 1] <- NA\n",
        "tb_df <- tb_df %>% select(-c(night_sweats, weight_loss, cough, fever,\n",
        "                             symptoms_missing))\n",
        "\n",
        "# Exclude observations with no TB symptoms \n",
        "tb_df <- tb_df %>%\n",
        "  filter(num_symptoms != 0)\n",
        "\n",
        "table(tb_df$num_symptoms)"
      ],
      "id": "0f610f8b-60a5-4774-a85b-2a9a2d2c4632"
    },
    {
      "cell_type": "markdown",
      "metadata": {},
      "source": [
        "Last, we convert all variables to factors."
      ],
      "id": "5d23532b-69d2-4966-9360-efe7edce27f3"
    },
    {
      "cell_type": "code",
      "execution_count": null,
      "metadata": {},
      "outputs": [],
      "source": [
        "# Convert all variables to factors \n",
        "tb_df[] <- lapply(tb_df, function(x){return(as.factor(x))})"
      ],
      "id": "489fb3aa-f4a9-4a3a-b235-8c106291d3f2"
    },
    {
      "cell_type": "markdown",
      "metadata": {},
      "source": [
        "Our final data is summarized in the following table. The `add_overall()`\n",
        "function includes the overall summary statistics in addition to our\n",
        "stratified summaries. Our summary table looks similar to the one in the\n",
        "paper. However, it looks like we have a few more observations included.\n",
        "Additionally, our education variable shows a lower percentage of\n",
        "observations with post-high school education and positive HIV status."
      ],
      "id": "b66f2908-86fa-43cb-bd5a-4fe00b1fb66b"
    },
    {
      "cell_type": "code",
      "execution_count": null,
      "metadata": {},
      "outputs": [
        {
          "output_type": "display_data",
          "metadata": {},
          "data": {
            "text/html": [
              "\n",
              "</div>"
            ]
          }
        }
      ],
      "source": [
        "tbl_summary(tb_df, by = \"tb\") %>%\n",
        "  add_overall() %>%\n",
        "  as_gt()"
      ],
      "id": "7feca492-d4bd-4eec-bf08-25e332b44b95"
    }
  ],
  "nbformat": 4,
  "nbformat_minor": 5,
  "metadata": {
    "kernelspec": {
      "display_name": "Python 3",
      "language": "python",
      "name": "python3"
    }
  }
}