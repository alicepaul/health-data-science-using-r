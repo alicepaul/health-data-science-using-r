{
  "cells": [
    {
      "cell_type": "markdown",
      "metadata": {},
      "source": [
        "# Case Study: Pre-Processing Data {#sec-cs-preprocessing}\n",
        "\n",
        "In this chapter, we put some of our R skills together in a case study. This case study focuses on data cleaning and pre-processing. We use the `tb_diagnosis_raw` data from the **HDSinRdata** package. This data contains information on 1,634 patients in rural South Africa who presented at a health clinic with tuberculosis-related symptoms and were tested for tuberculosis (TB) using Xpert MTB/RIF. Our goal is to clean this data to reflect the pre-processing described in @baik2020clinical. This paper uses this data to derive a simple risk score model for screening patients for treatment while awaiting Xpert results. We use the **tidyverse** packages as well as the summary tables from **gtsummary**."
      ]
    },
    {
      "cell_type": "code",
      "metadata": {
        "results": "hide",
        "message": false
      },
      "source": [
        "#| warning: false\n",
        "\n",
        "library(HDSinRdata)\n",
        "library(tidyverse)\n",
        "library(gt)\n",
        "library(gtsummary)"
      ],
      "execution_count": null,
      "outputs": []
    },
    {
      "cell_type": "markdown",
      "metadata": {},
      "source": [
        "To begin, read in the data and review the description of the original columns. Some things to note in the data documentation are the ways unknown, missing, or refused values are coded as well as how some of the columns are related to each other."
      ]
    },
    {
      "cell_type": "code",
      "metadata": {},
      "source": [
        "#| eval: false\n",
        "# Read in data\n",
        "data(\"tb_diagnosis_raw\")\n",
        "\n",
        "# Inspect variable descriptions\n",
        "# ?tb_diagnosis_raw"
      ],
      "execution_count": null,
      "outputs": []
    },
    {
      "cell_type": "markdown",
      "metadata": {},
      "source": [
        "To start, we select variables needed for our analysis. In particular, we drop columns related to the participation in the survey and about seeking care. Since some of these variables contain long or vague names, we also rename most of the variables."
      ]
    },
    {
      "cell_type": "code",
      "metadata": {},
      "source": [
        "# Select variables and rename\n",
        "tb_df <- tb_diagnosis_raw %>% \n",
        "  select(c(xpert_status_fac, age_group, sex, hiv_status_fac,\n",
        "           other_conditions_fac___1, other_conditions_fac___3,\n",
        "           other_conditions_fac___88, other_conditions_fac___99,\n",
        "           symp_fac___1, symp_fac___2, symp_fac___3, symp_fac___4, \n",
        "           symp_fac___99, length_symp_unit_fac, length_symp_days_fac,\n",
        "           length_symp_wk_fac, length_symp_mnt_fac, length_symp_yr_fac,\n",
        "           smk_fac, dx_tb_past_fac, educ_fac)) %>%\n",
        "    rename(tb = xpert_status_fac, hiv_pos = hiv_status_fac,\n",
        "           cough = symp_fac___1, fever = symp_fac___2, \n",
        "           weight_loss = symp_fac___3, night_sweats = symp_fac___4, \n",
        "           symptoms_missing = symp_fac___99,\n",
        "           ever_smoke = smk_fac, \n",
        "           past_tb = dx_tb_past_fac, education = educ_fac)"
      ],
      "execution_count": null,
      "outputs": []
    },
    {
      "cell_type": "markdown",
      "metadata": {},
      "source": [
        "We then use a summary table to understand the initial distributions of the variables observed. This also highlights where we have missing or unknown data. "
      ]
    },
    {
      "cell_type": "code",
      "metadata": {},
      "source": [
        "tbl_summary(tb_df) %>%\n",
        "  as_gt()"
      ],
      "execution_count": null,
      "outputs": []
    },
    {
      "cell_type": "markdown",
      "metadata": {},
      "source": [
        "One observation from the table is that the coding of variables is inconsistent, with some using 0/1 and others using 1/2. We want to standardize how these variables are represented. To start, we update our `tb` column. Additionally, we create a column `male` from the previous column `sex` to make the reference level clear. We can then drop the `sex` column."
      ]
    },
    {
      "cell_type": "code",
      "metadata": {},
      "source": [
        "# Re-code binary variables to 0/1 instead of 1/2\n",
        "tb_df$tb <- case_when(tb_df$tb == 1 ~ 1, \n",
        "                      tb_df$tb == 2 ~ 0)\n",
        "\n",
        "tb_df$male <- case_when(tb_df$sex == 1 ~ 1, \n",
        "                        tb_df$sex == 2 ~ 0)\n",
        "tb_df <- tb_df %>% select(-c(sex))"
      ],
      "execution_count": null,
      "outputs": []
    },
    {
      "cell_type": "markdown",
      "metadata": {},
      "source": [
        "Diabetes is another variable that should be coded this way. In the raw data, several columns correspond to this question about other medical conditions. Therefore, we need to use the columns `other_conditions_fac___88` and `other_conditions_fac___99` to check whether the participant did not answer the question when interpreting the 0/1 value for diabetes."
      ]
    },
    {
      "cell_type": "code",
      "metadata": {},
      "source": [
        "# Re-code diabetes to check if missing\n",
        "tb_df$diabetes <- case_when(tb_df$other_conditions_fac___3 == 1 ~ 1,\n",
        "                            tb_df$other_conditions_fac___1 == 1 ~ 0,\n",
        "                            tb_df$other_conditions_fac___88 == 1 ~ NA,\n",
        "                            tb_df$other_conditions_fac___99 == 1 ~ NA,\n",
        "                            TRUE ~ 0)\n",
        "tb_df <- tb_df %>% select(-c(other_conditions_fac___1,\n",
        "                             other_conditions_fac___3,\n",
        "                             other_conditions_fac___88,\n",
        "                             other_conditions_fac___99))\n",
        "table(tb_df$diabetes)"
      ],
      "execution_count": null,
      "outputs": []
    },
    {
      "cell_type": "markdown",
      "metadata": {},
      "source": [
        "Next, we similarly code our variables about HIV status, smoking, and whether the patient has ever been diagnosed with tuberculosis before. For these variables, if the patient answered that they did not know if their HIV status or had tested positive for TB, we code these as 0 to be consistent with the paper. "
      ]
    },
    {
      "cell_type": "code",
      "metadata": {},
      "source": [
        "# Re-code variables with missing or refused values\n",
        "tb_df$hiv_pos <- case_when((tb_df$hiv_pos == 1) ~ 1, \n",
        "                           tb_df$hiv_pos %in% c(2,77) ~ 0,\n",
        "                           tb_df$hiv_pos == 88 ~ NA)\n",
        "\n",
        "tb_df$ever_smoke <- case_when(tb_df$ever_smoke %in% c(1,2) ~ 1,\n",
        "                              tb_df$ever_smoke == 3 ~ 0,\n",
        "                              tb_df$ever_smoke == 99 ~ NA)\n",
        "\n",
        "tb_df$past_tb <- case_when(tb_df$past_tb == 1 ~ 1, \n",
        "                           tb_df$past_tb %in% c(2,77) ~ 0)"
      ],
      "execution_count": null,
      "outputs": []
    },
    {
      "cell_type": "markdown",
      "metadata": {},
      "source": [
        "The next variable we clean is `education`. First, we need to code NA values correctly. We can then observe the distribution of years of education."
      ]
    },
    {
      "cell_type": "code",
      "metadata": {},
      "source": [
        "# Code NA values and look at education distribution\n",
        "tb_df$education[tb_df$education == 99] <- NA\n",
        "hist(tb_df$education, xlab = \"Years of Education\", \n",
        "     main = \"Histogram of Education Years\")"
      ],
      "execution_count": null,
      "outputs": []
    },
    {
      "cell_type": "markdown",
      "metadata": {},
      "source": [
        "For our purposes, we want to represent education as whether a person has a high school education or less. "
      ]
    },
    {
      "cell_type": "code",
      "metadata": {},
      "source": [
        "# Categorize education to HS and above\n",
        "tb_df$hs_less <- case_when(tb_df$education <= 12 ~ 1,\n",
        "                           tb_df$education > 12 ~ 0,\n",
        "                           TRUE ~ NA)\n",
        "tb_df <- tb_df %>% select(-c(education))"
      ],
      "execution_count": null,
      "outputs": []
    },
    {
      "cell_type": "markdown",
      "metadata": {},
      "source": [
        "There are several variables in the data related to how long a person has experienced symptoms. In the following code, we can see that the unit of the symptoms, recorded in `length_symp_unit_fac`, determines which other column is entered. For example, if `length_symp_unit_fac == 1`, then the only column without an NA value is `length_symp_days_fc`. "
      ]
    },
    {
      "cell_type": "code",
      "metadata": {},
      "source": [
        "tb_df %>%\n",
        "  group_by(length_symp_unit_fac) %>%\n",
        "  summarize(missing_days = sum(is.na(length_symp_days_fac))/n(),\n",
        "            missing_wks = sum(is.na(length_symp_wk_fac))/n(),\n",
        "            missing_mnt = sum(is.na(length_symp_mnt_fac))/n(),\n",
        "            missing_yr = sum(is.na(length_symp_yr_fac))/n())"
      ],
      "execution_count": null,
      "outputs": []
    },
    {
      "cell_type": "markdown",
      "metadata": {},
      "source": [
        "Additionally, these measurements are positive integer values."
      ]
    },
    {
      "cell_type": "code",
      "metadata": {},
      "source": [
        "min(tb_df$length_symp_days_fac, na.rm = TRUE)\n",
        "is.integer(tb_df$length_symp_days_fac)"
      ],
      "execution_count": null,
      "outputs": []
    },
    {
      "cell_type": "markdown",
      "metadata": {},
      "source": [
        "This allows us to create a new variable that represents whether or not someone has had symptoms for more than two weeks. In our `case_when()` function call, we first check whether the duration is missing before checking for the cases when symptoms would be less than two weeks. "
      ]
    },
    {
      "cell_type": "code",
      "metadata": {},
      "source": [
        "# Categorize number of weeks experiencing symptoms\n",
        "tb_df <- tb_df %>%\n",
        "  mutate(case_when((length_symp_unit_fac == 77 |\n",
        "                      is.na(length_symp_unit_fac)) ~ NA,\n",
        "                   (length_symp_unit_fac == 1 & \n",
        "                      length_symp_days_fac <= 14) ~ 0,\n",
        "                   (length_symp_unit_fac == 2 &\n",
        "                      length_symp_wk_fac <= 2) ~ 0,\n",
        "                   TRUE ~ 1))\n",
        "\n",
        "tb_df <- tb_df %>% \n",
        "  select(-c(length_symp_wk_fac, length_symp_days_fac, \n",
        "            length_symp_mnt_fac, length_symp_yr_fac, \n",
        "            length_symp_unit_fac))"
      ],
      "execution_count": null,
      "outputs": []
    },
    {
      "cell_type": "markdown",
      "metadata": {},
      "source": [
        "Last, we update our symptom variables to have a summary column `num_symptoms` that represents the total number of classic TB symptoms rather than keeping track of individual symptoms. We also exclude anyone who does not have any TB symptoms. "
      ]
    },
    {
      "cell_type": "code",
      "metadata": {},
      "source": [
        "# Count total number of symptoms\n",
        "tb_df$num_symptoms <- tb_df$fever + tb_df$weight_loss + tb_df$cough + \n",
        "  tb_df$night_sweats\n",
        "tb_df$num_symptoms[tb_df$symptoms_missing == 1] <- NA\n",
        "tb_df <- tb_df %>% select(-c(night_sweats, weight_loss, cough, fever,\n",
        "                             symptoms_missing))\n",
        "\n",
        "# Exclude observations with no TB symptoms \n",
        "tb_df <- tb_df %>%\n",
        "  filter(num_symptoms != 0)\n",
        "\n",
        "table(tb_df$num_symptoms)"
      ],
      "execution_count": null,
      "outputs": []
    },
    {
      "cell_type": "markdown",
      "metadata": {},
      "source": [
        "Last, we convert all variables to factors."
      ]
    },
    {
      "cell_type": "code",
      "metadata": {},
      "source": [
        "# Convert all variables to factors \n",
        "tb_df[] <- lapply(tb_df, function(x){return(as.factor(x))})"
      ],
      "execution_count": null,
      "outputs": []
    },
    {
      "cell_type": "markdown",
      "metadata": {},
      "source": [
        "Our final data is summarized in the following table. The `add_overall()` function includes the overall summary statistics in addition to our stratified summaries. Our summary table looks similar to the one in the paper. However, it looks like we have a few more observations included. Additionally, our education variable shows a lower percentage of observations with post-high school education and positive HIV status. \n"
      ]
    },
    {
      "cell_type": "code",
      "metadata": {},
      "source": [
        "tbl_summary(tb_df, by = \"tb\") %>%\n",
        "  add_overall() %>%\n",
        "  as_gt()"
      ],
      "execution_count": null,
      "outputs": []
    },
    {
      "cell_type": "markdown",
      "metadata": {},
      "source": [
        "---\n",
        "jupyter: ir\n",
        "---"
      ]
    }
  ],
  "metadata": {
    "kernelspec": {
      "name": "ir",
      "language": "R",
      "display_name": "R",
      "path": "/Users/alice/Library/Jupyter/kernels/ir"
    }
  },
  "nbformat": 4,
  "nbformat_minor": 4
}