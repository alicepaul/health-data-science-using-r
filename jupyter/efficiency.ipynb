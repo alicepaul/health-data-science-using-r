{
  "cells": [
    {
      "cell_type": "markdown",
      "metadata": {},
      "source": [
        "# \n",
        "\n",
        "# Writing Efficient Code\n",
        "\n",
        "When we talk about efficient code, we are talking about computational\n",
        "efficiency or writing code that is fast to execute. For this topic, we\n",
        "need to peek under the hood to consider how R is implementing our code\n",
        "in order to understand what can slow down our code. We use the\n",
        "**microbenchmark** package \\[@R-microbenchmark\\] to time our code\n",
        "execution. For demonstration, we use a subset of the `pain` dataset from\n",
        "the **HDSinRdata** package."
      ],
      "id": "55359865-fa79-414a-ac5e-0effcdf404f6"
    },
    {
      "cell_type": "code",
      "execution_count": null,
      "metadata": {},
      "outputs": [],
      "source": [
        "library(microbenchmark)\n",
        "library(HDSinRdata)\n",
        "library(tidyverse)\n",
        "\n",
        "data(pain)\n",
        "pain <- pain %>% \n",
        "  select(-c(BMI, GH_MENTAL_SCORE, GH_PHYSICAL_SCORE, \n",
        "                  PROMIS_PAIN_BEHAVIOR)) %>%\n",
        "  na.omit()"
      ],
      "id": "edb72bed-8e8a-46c9-bdcb-5e92e62ef1a2"
    },
    {
      "cell_type": "markdown",
      "metadata": {},
      "source": [
        "The function `Sys.time()` returns the current system time. This allows\n",
        "us to find the net time required to execute a chunk of code. For\n",
        "example, the following code finds how long it takes to loop through the\n",
        "data to find the number of people who had an improvement in pain."
      ],
      "id": "fec07282-7212-485b-a192-9d3005520a38"
    },
    {
      "cell_type": "code",
      "execution_count": null,
      "metadata": {},
      "outputs": [
        {
          "output_type": "stream",
          "name": "stdout",
          "text": [
            "Time difference of 0.02186918 secs"
          ]
        }
      ],
      "source": [
        "start_time <- Sys.time()\n",
        "num <- 0\n",
        "for (i in 1:nrow(pain)){\n",
        "  if (pain$PAIN_INTENSITY_AVERAGE[i] <= \n",
        "      pain$PAIN_INTENSITY_AVERAGE.FOLLOW_UP[i]){\n",
        "    num <- num + 1\n",
        "  }\n",
        "}\n",
        "end_time <- Sys.time()\n",
        "end_time - start_time"
      ],
      "id": "d64d7916-94ce-434d-a650-95a896361df5"
    },
    {
      "cell_type": "markdown",
      "metadata": {},
      "source": [
        "Using `Sys.time()` is a simple approach to time our code. The function\n",
        "`microbenchmark()` from the **microbenchmark** package allows us to\n",
        "replicate an expression multiple times to get an average execution time.\n",
        "We can pass multiple expressions to this function and specify a unit of\n",
        "measurement and number of times to replicate each expression.\n",
        "\n",
        "    microbenchmark(first expression, second expression, units =\"ms\", \n",
        "      times = 10)\n",
        "\n",
        "For example, we time the same expression as previously using this\n",
        "package. This time we get some summary statistics in milliseconds. We\n",
        "used the default 100 times to replicate this expression."
      ],
      "id": "3a988386-9c24-419b-a486-7e4afde41110"
    },
    {
      "cell_type": "code",
      "execution_count": null,
      "metadata": {},
      "outputs": [
        {
          "output_type": "stream",
          "name": "stderr",
          "text": [
            "Warning in microbenchmark(pain_inc = {: less accurate nanosecond times to avoid\n",
            "potential integer overflows"
          ]
        },
        {
          "output_type": "stream",
          "name": "stdout",
          "text": [
            "Unit: milliseconds\n",
            "     expr      min       lq     mean   median       uq      max neval\n",
            " pain_inc 15.79373 16.00677 16.74689 16.14547 17.50835 19.69804   100"
          ]
        }
      ],
      "source": [
        "microbenchmark( pain_inc = {\n",
        "  num <- 0\n",
        "  for (i in 1:nrow(pain)){\n",
        "    if (pain$PAIN_INTENSITY_AVERAGE[i] <= \n",
        "        pain$PAIN_INTENSITY_AVERAGE.FOLLOW_UP[i]){\n",
        "      num <- num + 1\n",
        "    }\n",
        "  }\n",
        "}, unit = \"ms\")"
      ],
      "id": "d459b381-b00d-4d89-b3f8-d06c35892a27"
    },
    {
      "cell_type": "markdown",
      "metadata": {},
      "source": [
        "## Use Fast and Vectorized Functions \n",
        "\n",
        "R is known as a slower programming language. In part, R sacrifices\n",
        "computation time to make it more welcoming to new programmers. However,\n",
        "not all of R is actually written in R. Many functions that are in base R\n",
        "are actually written in C or Fortran. These functions are significantly\n",
        "faster than if we wrote them ourselves. When possible, we should use\n",
        "base R functions rather than writing our own. Let’s take a look at the\n",
        "difference in time when we write our own summation function compared to\n",
        "using the `sum()` function."
      ],
      "id": "404dc748-28f3-4654-9af5-75cdf198be0c"
    },
    {
      "cell_type": "code",
      "execution_count": null,
      "metadata": {},
      "outputs": [
        {
          "output_type": "stream",
          "name": "stdout",
          "text": [
            "Unit: milliseconds\n",
            "         expr      min       lq       mean   median       uq      max neval\n",
            " sum_function 2.181979 2.187883 2.28407310 2.220540 2.261683 5.231969   100\n",
            "  builtin_sum 0.000041 0.000041 0.00046904 0.000082 0.000164 0.006437   100"
          ]
        }
      ],
      "source": [
        "my_sum <- function(x){\n",
        "  out <- 0\n",
        "  for (i in 1:length(x)){\n",
        "    out <- out + x[i]\n",
        "  }\n",
        "  return(out)\n",
        "}\n",
        "\n",
        "x <- 1:100000\n",
        "microbenchmark(sum_function = my_sum(x),\n",
        "               builtin_sum = sum(x),\n",
        "               unit = \"ms\")"
      ],
      "id": "eb372a04-c8fc-4351-9d55-eb90470ff9d5"
    },
    {
      "cell_type": "markdown",
      "metadata": {},
      "source": [
        "This also simplifies our code to a single line. Looking back at our\n",
        "first example, we can also simplify our code. We did not need to loop\n",
        "through our data. Instead, we should use a vectorized approach that\n",
        "checks for pain improvement across all observations and then sum up the\n",
        "TRUE/FALSE values."
      ],
      "id": "cefb2a1e-3f8d-4506-a75b-d76c6f31cdf3"
    },
    {
      "cell_type": "code",
      "execution_count": null,
      "metadata": {},
      "outputs": [
        {
          "output_type": "stream",
          "name": "stdout",
          "text": [
            "Unit: milliseconds\n",
            "                                                                                            expr\n",
            " {     vector_pain = sum(pain$PAIN_INTENSITY_AVERAGE <= pain$PAIN_INTENSITY_AVERAGE.FOLLOW_UP) }\n",
            "      min       lq       mean   median       uq      max neval\n",
            " 0.014473 0.014596 0.01472966 0.014637 0.014678 0.021853   100"
          ]
        }
      ],
      "source": [
        "microbenchmark({\n",
        "  vector_pain = sum(pain$PAIN_INTENSITY_AVERAGE <= \n",
        "                      pain$PAIN_INTENSITY_AVERAGE.FOLLOW_UP)\n",
        "}, unit = \"ms\")"
      ],
      "id": "8991eb36-ff2b-4fed-8ab1-4454abf9cea0"
    },
    {
      "cell_type": "markdown",
      "metadata": {},
      "source": [
        "This is much faster. Loops are notoriously slow in R so you often hear\n",
        "the advice to avoid loops. Using apply functions like `apply()` and\n",
        "`sapply()` are loop-hiding functions. Using these functions instead of\n",
        "an explicit loop doesn’t improve the efficiency of our code except that\n",
        "by using these functions we often simplify our code as a byproduct of\n",
        "rewriting our code.\n",
        "\n",
        "The true functions that can improve efficiency over loops are\n",
        "*vectorized* functions, which can be evaluated on a vector of values.\n",
        "Vectorizing our code means that we are thinking about a vector approach\n",
        "rather than computing something for each element of the vector and\n",
        "looping through these values. A vectorized function returns output that\n",
        "is the same dimensions as the input and operates on these elements in an\n",
        "efficient manner.\n",
        "\n",
        "The following code chunk shows a simple example of comparing taking the\n",
        "square root of each individual element or calling the `sqrt()` function,\n",
        "which is a vectorized function. Vectorized functions still have to\n",
        "operate on each element, but that loop is often written in C or Fortran\n",
        "rather than R making it significantly faster, so this is a special case\n",
        "where we can utilize the speed of some functions."
      ],
      "id": "0cf1a7a4-dd2b-459d-bdeb-cf5ab6293a7b"
    },
    {
      "cell_type": "code",
      "execution_count": null,
      "metadata": {},
      "outputs": [
        {
          "output_type": "stream",
          "name": "stdout",
          "text": [
            "Unit: milliseconds\n",
            "      expr      min       lq      mean    median       uq      max neval\n",
            " loop_sqrt 4.341654 4.372301 4.4747425 4.3878610 4.469348 7.307635   100\n",
            "      sqrt 0.092332 0.128125 0.1336678 0.1342135 0.142598 0.191388   100"
          ]
        }
      ],
      "source": [
        "microbenchmark(loop_sqrt = {\n",
        "  for (i in 1:length(x)){\n",
        "    x[i] <- sqrt(x[i])\n",
        "  }\n",
        "  }, sqrt = sqrt(x), unit = \"ms\")"
      ],
      "id": "9cf7f8db-c975-47aa-8540-a3d810b90c7f"
    },
    {
      "cell_type": "markdown",
      "metadata": {},
      "source": [
        "### Practice Question\n",
        "\n",
        "First, read the documentation of the function `tapply()`. This is\n",
        "another function in the apply function library that was not covered in\n",
        "**?@sec-control-flows**. Rewrite the following code without using a loop\n",
        "using the `tapply()` function. Would you expect this approach to be\n",
        "faster? Why or why not?"
      ],
      "id": "0a1a5edc-58ed-40ad-8958-69a0fc367ab1"
    },
    {
      "cell_type": "code",
      "execution_count": null,
      "metadata": {},
      "outputs": [],
      "source": [
        "mean_pain <- c()\n",
        "pat_races <- unique(pain$PAT_RACE)\n",
        "\n",
        "for (r in pat_races){\n",
        "  mean_pain[r] <- mean(pain$PAIN_INTENSITY_AVERAGE[pain$PAT_RACE == r])\n",
        "}"
      ],
      "id": "67e84445-7c9e-44ca-b31e-320679811450"
    },
    {
      "cell_type": "markdown",
      "metadata": {},
      "source": [
        "## Avoid Copies and Duplicates \n",
        "\n",
        "Another aspect of our programs that can slow down our operations is any\n",
        "time we need to create a large object. Look at the following code.\n",
        "First, we create a matrix `m`. We then create a matrix `n` that is equal\n",
        "to `m`. Last, we update `n` by taking the logarithm of all elements plus\n",
        "one, differentiating it from `m`. R creates copies upon modification.\n",
        "This means that when we initialize `n` we have not actually created a\n",
        "second matrix in memory. Instead, we have two names for the same matrix.\n",
        "On the third line, we want to update `n`, so we need to actually create\n",
        "a second matrix that is different from `m`."
      ],
      "id": "fc57a601-f701-45d4-ae55-13912b14b2a7"
    },
    {
      "cell_type": "code",
      "execution_count": null,
      "metadata": {},
      "outputs": [],
      "source": [
        "m <- matrix(rpois(100000, 6), ncol=1000)\n",
        "n <- m\n",
        "n <- log(n + 1)"
      ],
      "id": "5830e5c3-3cbf-4876-8e8b-a348e3528253"
    },
    {
      "cell_type": "markdown",
      "metadata": {},
      "source": [
        "This is different from the subsequent code which updates `m` itself. In\n",
        "this case, R can modify the matrix in place by going through each\n",
        "element and updating its value rather than creating a new matrix. As the\n",
        "size of our data grows, creating copies can be expensive. Imagine, `m`\n",
        "being a large genetic dataset with RNA-sequencing data. First, this\n",
        "object may take up a lot of memory, so creating a copy may mean we could\n",
        "run out of memory. Second, copying over all this information is\n",
        "expensive."
      ],
      "id": "08217836-1806-47c1-a840-0711ea7ed47e"
    },
    {
      "cell_type": "code",
      "execution_count": null,
      "metadata": {},
      "outputs": [],
      "source": [
        "m <- log(m + 1)"
      ],
      "id": "3253a059-57a2-472f-8bb8-39af06419497"
    },
    {
      "cell_type": "markdown",
      "metadata": {},
      "source": [
        "Let’s consider another case. In the following code, we have two\n",
        "functions that both find the proportion of people within 1, 2, and\n",
        "\\$\\>\\$2 standard deviations from the mean for one of the PROMIS\n",
        "instrument variables. When we input `pain` as an argument to the first\n",
        "function, we do not create a copy of it since we haven’t modified the\n",
        "data frame. However, once we create a new column, this means that we\n",
        "have to copy the full data frame. The second function instead takes in a\n",
        "single column, requiring us to copy only this information. The\n",
        "difference in execution time shows an edge to the second method, but the\n",
        "difference is small. This indicates that actually computing this new\n",
        "column and finding the proportions takes more time than the duplication."
      ],
      "id": "46617210-a8fe-4906-a681-cedb57555228"
    },
    {
      "cell_type": "code",
      "execution_count": null,
      "metadata": {},
      "outputs": [
        {
          "output_type": "stream",
          "name": "stdout",
          "text": [
            "Unit: milliseconds\n",
            "                                        expr      min        lq      mean\n",
            "                          code_promis1(pain) 0.635787 0.6699400 0.8143834\n",
            " code_promis2(pain$PROMIS_PHYSICAL_FUNCTION) 0.614344 0.6446225 0.7107657\n",
            "    median        uq      max neval\n",
            " 0.6921005 0.7087670 6.779801   100\n",
            " 0.6652865 0.6791035 2.961102   100"
          ]
        }
      ],
      "source": [
        "code_promis1 <- function(df){\n",
        "  # create new column with categories\n",
        "  df$PAIN_PHYSICAL_FUNCTION_CUT <- case_when(\n",
        "    abs(df$PROMIS_PHYSICAL_FUNCTION-50) <= 10 ~ \"<= 1SD\",\n",
        "    abs(df$PROMIS_PHYSICAL_FUNCTION-50) <= 20 ~ \"<= 2 SD\",\n",
        "    TRUE ~ \"> 2SD\")\n",
        "  \n",
        "  # get proportions\n",
        "  res <- prop.table(table(df$PAIN_PHYSICAL_FUNCTION_CUT))\n",
        "  return(res)\n",
        "}\n",
        "\n",
        "code_promis2 <- function(v){\n",
        "  # create new column with categories\n",
        "  v <- case_when(\n",
        "    abs(v-50) <= 10 ~ \"<= 1SD\",\n",
        "    abs(v-50) <= 20 ~ \"<= 2 SD\",\n",
        "    TRUE ~ \"> 2SD\")\n",
        "  \n",
        "  # get proportions\n",
        "  res <- prop.table(table(v))\n",
        "  return(res)\n",
        "}\n",
        "\n",
        "microbenchmark(code_promis1(pain), \n",
        "               code_promis2(pain$PROMIS_PHYSICAL_FUNCTION), \n",
        "               unit = \"ms\")"
      ],
      "id": "dd847e6f-d49c-486a-833a-19513f2f42d1"
    },
    {
      "cell_type": "markdown",
      "metadata": {},
      "source": [
        "Another time when we create copies of objects is when we modify their\n",
        "size. Functions like `cbind()`, `rbind()`, and `c()` create a new object\n",
        "that needs to copy over information to create one vector, matrix, or\n",
        "data frame. If we know the size of the final vector, matrix, or data\n",
        "frame, we can pre-allocate that space and fill in values. This means\n",
        "that the computer won’t have to repeatedly find more space. For example,\n",
        "take a look at the two ways to simulate a random walk in one dimension\n",
        "in the following code chunk. In the first method, the length of the\n",
        "vector `v` changes on each iteration of the loop, whereas in the second\n",
        "`v` always has length `n`."
      ],
      "id": "3475f0d4-0674-4b1b-a291-1e95fc3632e2"
    },
    {
      "cell_type": "code",
      "execution_count": null,
      "metadata": {},
      "outputs": [
        {
          "output_type": "stream",
          "name": "stdout",
          "text": [
            "Unit: milliseconds\n",
            "       expr      min       lq     mean   median       uq      max neval\n",
            " rw1(10000) 5.053824 5.197078 5.538394 5.273051 5.435739 7.339082   100\n",
            " rw2(10000) 4.223164 4.260310 4.509770 4.321277 4.356455 9.544062   100"
          ]
        }
      ],
      "source": [
        "rw1 <- function(n){\n",
        "  v <- c(0)\n",
        "  for (i in 2:n){\n",
        "    v[i] <- v[i-1] + rbinom(1, 1, 0.5)\n",
        "  }\n",
        "  return(v)\n",
        "}\n",
        "\n",
        "rw2 <- function(n){\n",
        "  v <- rep(0, n)\n",
        "  for (i in 2:n){\n",
        "    v[i] <- v[i-1] + rbinom(1, 1, 0.5)\n",
        "  }\n",
        "}\n",
        "\n",
        "microbenchmark(rw1(10000), rw2(10000), unit=\"ms\")"
      ],
      "id": "2d95b553-fb83-4366-900b-503d2fe2b903"
    },
    {
      "cell_type": "markdown",
      "metadata": {},
      "source": [
        "This also works for data frames or matrices. In the following code\n",
        "chunk, we generate a random matrix in three ways. The first creates the\n",
        "matrix with a single line, the second initializes an empty matrix and\n",
        "then fills in each row, and the last dynamically updates the size of the\n",
        "matrix on each iteration."
      ],
      "id": "fd246444-475d-4acf-97d7-ff0541d2c17d"
    },
    {
      "cell_type": "code",
      "execution_count": null,
      "metadata": {},
      "outputs": [
        {
          "output_type": "stream",
          "name": "stdout",
          "text": [
            "Unit: milliseconds\n",
            "             expr      min        lq      mean    median        uq      max\n",
            " random_mat1(100) 0.229313 0.2360575 0.2525957 0.2388045 0.2413670 1.566733\n",
            " random_mat2(100) 0.489704 0.5010405 0.5242256 0.5044230 0.5087895 2.168777\n",
            " random_mat3(100) 1.039022 1.1178035 1.3246587 1.1593775 1.1757775 4.792203\n",
            " neval\n",
            "   100\n",
            "   100\n",
            "   100"
          ]
        }
      ],
      "source": [
        "random_mat1 <- function(n){\n",
        "  m <- matrix(sample(1:3, n^2, replace = TRUE), nrow = n)\n",
        "  return(m)\n",
        "}\n",
        "\n",
        "random_mat2 <- function(n){\n",
        "  m <- matrix(nrow = n, ncol = n)\n",
        "  for (i in 1:n){\n",
        "    m[i,] <- sample(1:3, n, replace = TRUE)\n",
        "  }\n",
        "}\n",
        "\n",
        "random_mat3 <- function(n){\n",
        "  m <- NULL\n",
        "  for (i in 1:n){\n",
        "    m <- rbind(m, sample(1:3, n, replace = TRUE))\n",
        "  }\n",
        "  return(m)\n",
        "}\n",
        "\n",
        "microbenchmark(random_mat1(100),\n",
        "               random_mat2(100),\n",
        "               random_mat3(100),\n",
        "               unit = \"ms\")"
      ],
      "id": "03149919-a600-4b1b-bc62-6f48fffacb19"
    },
    {
      "cell_type": "markdown",
      "metadata": {},
      "source": [
        "This demonstrates that if you need to update the values of a vector,\n",
        "matrix, or data frame, try to do as much reassignment at once. For\n",
        "example, changing the whole column at a time is better than changing the\n",
        "individual values. This avoids additional copies.\n",
        "\n",
        "### Practice Question\n",
        "\n",
        "The following code fits a linear model for each racial group and records\n",
        "the coefficient. Rewrite this code so that we pre-allocate the results\n",
        "vector and use the **microbenchmark** to compare the efficiency between\n",
        "the two approaches."
      ],
      "id": "538c92c3-58cb-4721-aa88-2b9fd77e195c"
    },
    {
      "cell_type": "code",
      "execution_count": null,
      "metadata": {},
      "outputs": [],
      "source": [
        "coefs <- c()\n",
        "pat_races <- unique(pain$PAT_RACE)\n",
        "for (r in pat_races){\n",
        "  df <- pain[pain$PAT_RACE == r, ]\n",
        "  if (nrow(df) > 3){\n",
        "    new_coef <- lm(PROMIS_DEPRESSION ~ PROMIS_ANXIETY,\n",
        "                 data = df)$coefficients[2]\n",
        "    coefs <- c(coefs, new_coef)\n",
        "  }\n",
        "}"
      ],
      "id": "9129e5c4-7212-46e3-b7be-622a33bde576"
    },
    {
      "cell_type": "markdown",
      "metadata": {},
      "source": [
        "## Parallel Programming \n",
        "\n",
        "Another approach to make our code more efficient is using parallel\n",
        "processing. When we run loops in R, only one iteration is run at a time.\n",
        "For example, the following code runs a random walk 100 times in serial.\n",
        "Parallel processing allows us to execute multiple calls to this function\n",
        "at the same time. This is done by running these processes on separate\n",
        "cores, or processors, on your machine. For example, if we had six cores\n",
        "available, we would be able to run 1/6 of the replications on each\n",
        "processor and reduce our overall computation time. The **parallel**\n",
        "package \\[@R-parallel\\] contains functions to implement parallel\n",
        "processing on different operating systems. Unfortunately, this\n",
        "functionality is often not supported within RStudio and is not covered\n",
        "in this book. We recommend using the `mclapply()` function from the\n",
        "**parallel** package to implement parallel processing using forking.\n",
        "This does not work on Windows but is much simpler to implement. For\n",
        "parallel processing on Windows, we recommend looking into the socket\n",
        "approach using the `parLapply()` function in the **parallel** package."
      ],
      "id": "6d1706a8-54bc-4aba-88c9-4e73d5ad4257"
    },
    {
      "cell_type": "code",
      "execution_count": null,
      "metadata": {},
      "outputs": [],
      "source": [
        "replicate(100, rw1(1000))"
      ],
      "id": "ef207c53-5ecf-4ca4-a63a-9547ca0ecacf"
    },
    {
      "cell_type": "markdown",
      "metadata": {},
      "source": [
        "## Exercises\n",
        "\n",
        "1.  The following code chunk includes four attempts to create a new\n",
        "    column `LOWER_BACK` to the pain data. Note that the second and third\n",
        "    attempts are vectorized, whereas the first and fourth are not. Time\n",
        "    each approach and order the approaches from fastest to slowest.\n",
        "\n",
        "    ``` r\n",
        "    # Attempt 1: loop\n",
        "    pain$LOWER_BACK <- vector(mode=\"logical\", length=nrow(pain))\n",
        "    for (i in 1:nrow(pain)) { # for every row\n",
        "      if ((pain$X218[i] == 1) | (pain$X219[i] == 1)) { \n",
        "        pain$LOWER_BACK[i] <- TRUE \n",
        "      } else {\n",
        "        pain$LOWER_BACK[i] <- FALSE\n",
        "      }\n",
        "    }\n",
        "\n",
        "    # Attempt 2: logic\n",
        "    pain$LOWER_BACK <- ((pain$X218[i] == 1) | \n",
        "                          (pain$X219[i] == 1))\n",
        "\n",
        "    # Attempt 3: which\n",
        "    pain$LOWER_BACK <- FALSE\n",
        "    true_ind <- which((pain$X218[i] == 1) | (pain$X219[i] == 1))\n",
        "    pain$LOWER_BACK[true_ind] <- TRUE\n",
        "\n",
        "    # Attempt 4: apply\n",
        "    back_pain <- function(x){\n",
        "      if((x['X218'] == 1) | (x['X219'] == 1)){\n",
        "        return(TRUE)\n",
        "        } \n",
        "      return(FALSE)\n",
        "    }\n",
        "    pain$BACK_PAIN <- apply(pain, 1, back_pain)\n",
        "    ```\n",
        "\n",
        "2.  Examine the following code and determine what is being computed.\n",
        "    Then, rewrite the code to make it more efficient. Use the\n",
        "    **microbenchmark** package to compare the execution time, and\n",
        "    explain why your approach is more efficient.\n",
        "\n",
        "    ``` r\n",
        "    n <- 100000\n",
        "    x1 <- rnorm(n, 10, 1)\n",
        "    x2 <- rbinom(n, 1, 0.2)\n",
        "    y <- numeric(0)\n",
        "\n",
        "    for (i in 1:n){\n",
        "      if (x2[i] == 1){\n",
        "        y[i] <- rnorm(1,2 *x1[i], 0.7)\n",
        "      } else{\n",
        "        y[i] <- rnorm(1, 1+3*x1[i], 0.2)\n",
        "      }\n",
        "    }\n",
        "    df <- data.frame(x1 = x1, x2 = x2, y = y)\n",
        "    ```\n",
        "\n",
        "3.  Suppose we want to find the five most frequently reported pain\n",
        "    regions by racial group. Code your solution (a) using at least one\n",
        "    loop and (b) pivoting the data on the body region columns and then\n",
        "    using **dplyr** functions to summarize. Compare the efficiency of\n",
        "    both approaches."
      ],
      "id": "4e123e94-7db5-4f0a-915e-43e5afac2ac0"
    }
  ],
  "nbformat": 4,
  "nbformat_minor": 5,
  "metadata": {
    "kernelspec": {
      "display_name": "Python 3",
      "language": "python",
      "name": "python3"
    }
  }
}