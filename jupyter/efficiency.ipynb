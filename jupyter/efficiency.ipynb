{
  "cells": [
    {
      "cell_type": "markdown",
      "metadata": {},
      "source": [
        "# Writing Efficient Code {#sec-efficiency}\n",
        "\n",
        "When we talk about efficient code, we are talking about computational efficiency or writing code that is fast to execute. For this topic, we need to peek under the hood to consider how R is implementing our code in order to understand what can slow down our code. We use the **microbenchmark** package [@R-microbenchmark] to time our code execution. For demonstration, we use a subset of the `pain` dataset from the **HDSinRdata** package. "
      ]
    },
    {
      "cell_type": "code",
      "metadata": {
        "results": "hide",
        "message": false
      },
      "source": [
        "#| warning: false\n",
        "\n",
        "library(microbenchmark)\n",
        "library(HDSinRdata)\n",
        "library(tidyverse)\n",
        "\n",
        "data(pain)\n",
        "pain <- pain %>% \n",
        "  select(-c(BMI, GH_MENTAL_SCORE, GH_PHYSICAL_SCORE, \n",
        "                  PROMIS_PAIN_BEHAVIOR)) %>%\n",
        "  na.omit()"
      ],
      "execution_count": null,
      "outputs": []
    },
    {
      "cell_type": "markdown",
      "metadata": {},
      "source": [
        "The function `Sys.time()` returns the current system time. This allows us to find the net time required to execute a chunk of code. For example, the following code finds how long it takes to loop through the data to find the number of people who had an improvement in pain. "
      ]
    },
    {
      "cell_type": "code",
      "metadata": {},
      "source": [
        "start_time <- Sys.time()\n",
        "num <- 0\n",
        "for (i in 1:nrow(pain)){\n",
        "  if (pain$PAIN_INTENSITY_AVERAGE[i] <= \n",
        "      pain$PAIN_INTENSITY_AVERAGE.FOLLOW_UP[i]){\n",
        "    num <- num + 1\n",
        "  }\n",
        "}\n",
        "end_time <- Sys.time()\n",
        "end_time - start_time"
      ],
      "execution_count": null,
      "outputs": []
    },
    {
      "cell_type": "markdown",
      "metadata": {},
      "source": [
        "Using `Sys.time()` is a simple approach to time our code. The function `microbenchmark()` from the **microbenchmark** package allows us to replicate an expression multiple times to get an average execution time. We can pass multiple expressions to this function and specify a unit of measurement and number of times to replicate each expression. \n",
        "\n",
        "```\n",
        "microbenchmark(first expression, second expression, units =\"ms\", \n",
        "  times = 10)\n",
        "```\n",
        "\n",
        "For example, we time the same expression as previously using this package. This time we get some summary statistics in milliseconds. We used the default 100 times to replicate this expression. "
      ]
    },
    {
      "cell_type": "code",
      "metadata": {},
      "source": [
        "microbenchmark( pain_inc = {\n",
        "  num <- 0\n",
        "  for (i in 1:nrow(pain)){\n",
        "    if (pain$PAIN_INTENSITY_AVERAGE[i] <= \n",
        "        pain$PAIN_INTENSITY_AVERAGE.FOLLOW_UP[i]){\n",
        "      num <- num + 1\n",
        "    }\n",
        "  }\n",
        "}, unit = \"ms\")"
      ],
      "execution_count": null,
      "outputs": []
    },
    {
      "cell_type": "markdown",
      "metadata": {},
      "source": [
        "## Use Fast and Vectorized Functions\n",
        "\n",
        "R is known as a slower programming language. In part, R sacrifices computation time to make it more welcoming to new programmers. However, not all of R is actually written in R. Many functions that are in base R are actually written in C or Fortran. These functions are significantly faster than if we wrote them ourselves. When possible, we should use base R functions rather than writing our own. Let's take a look at the difference in time when we write our own summation function compared to using the `sum()` function."
      ]
    },
    {
      "cell_type": "code",
      "metadata": {},
      "source": [
        "my_sum <- function(x){\n",
        "  out <- 0\n",
        "  for (i in 1:length(x)){\n",
        "    out <- out + x[i]\n",
        "  }\n",
        "  return(out)\n",
        "}\n",
        "\n",
        "x <- 1:100000\n",
        "microbenchmark(sum_function = my_sum(x),\n",
        "               builtin_sum = sum(x),\n",
        "               unit = \"ms\")"
      ],
      "execution_count": null,
      "outputs": []
    },
    {
      "cell_type": "markdown",
      "metadata": {},
      "source": [
        "This also simplifies our code to a single line. Looking back at our first example, we can also simplify our code. We did not need to loop through our data. Instead, we should use a vectorized approach that checks for pain improvement across all observations and then sum up the TRUE/FALSE values."
      ]
    },
    {
      "cell_type": "code",
      "metadata": {},
      "source": [
        "microbenchmark({\n",
        "  vector_pain = sum(pain$PAIN_INTENSITY_AVERAGE <= \n",
        "                      pain$PAIN_INTENSITY_AVERAGE.FOLLOW_UP)\n",
        "}, unit = \"ms\")"
      ],
      "execution_count": null,
      "outputs": []
    },
    {
      "cell_type": "markdown",
      "metadata": {},
      "source": [
        "This is much faster. Loops are notoriously slow in R so you often hear the advice to avoid loops. Using apply functions like `apply()` and `sapply()` are loop-hiding functions. Using these functions instead of an explicit loop doesn't improve the efficiency of our code except that by using these functions we often simplify our code as a byproduct of rewriting our code. \n",
        "\n",
        "The true functions that can improve efficiency over loops are *vectorized* functions, which can be evaluated on a vector of values. Vectorizing our code means that we are thinking about a vector approach rather than computing something for each element of the vector and looping through these values. A vectorized function returns output that is the same dimensions as the input and operates on these elements in an efficient manner. \n",
        "\n",
        "The following code chunk shows a simple example of comparing taking the square root of each individual element or calling the `sqrt()` function, which is a vectorized function. Vectorized functions still have to operate on each element, but that loop is often written in C or Fortran rather than R making it significantly faster so this is a special case where we can utilize the speed of some functions. "
      ]
    },
    {
      "cell_type": "code",
      "metadata": {},
      "source": [
        "microbenchmark(loop_sqrt = {\n",
        "  for (i in 1:length(x)){\n",
        "    x[i] <- sqrt(x[i])\n",
        "  }\n",
        "  }, sqrt = sqrt(x), unit = \"ms\")"
      ],
      "execution_count": null,
      "outputs": []
    },
    {
      "cell_type": "markdown",
      "metadata": {},
      "source": [
        "### Practice Question\n",
        "\n",
        "First, read the documentation of the function `tapply()`. This is another function in the apply function library that was not covered in [Chapter -@sec-control-flows]. Rewrite the following code without using a loop using the `tapply()` function. Would you expect this approach to be faster? Why or why not?"
      ]
    },
    {
      "cell_type": "code",
      "metadata": {},
      "source": [
        "mean_pain <- c()\n",
        "pat_races <- unique(pain$PAT_RACE)\n",
        "\n",
        "for (r in pat_races){\n",
        "  mean_pain[r] <- mean(pain$PAIN_INTENSITY_AVERAGE[pain$PAT_RACE == r])\n",
        "}"
      ],
      "execution_count": null,
      "outputs": []
    },
    {
      "cell_type": "markdown",
      "metadata": {},
      "source": [
        "## Avoid Copies and Duplicates\n",
        "\n",
        "Another aspect of our programs that can slow down our operations is any time we need to create a large object. Look at the following code. First, we create a matrix `m`. We then create a matrix `n` that is equal to `m`. Last, we update `n` by taking the logarithm of all elements plus one, differentiating it from `m`. R creates copies upon modification. That means, that when we initialize `n` we have not actually created a second matrix in memory. Instead, we have two names for the same matrix. On the third line, we want to update `n` so we need to actually create a second matrix that is different from `m`. "
      ]
    },
    {
      "cell_type": "code",
      "metadata": {},
      "source": [
        "m <- matrix(rpois(100000, 6), ncol=1000)\n",
        "n <- m\n",
        "n <- log(n + 1)"
      ],
      "execution_count": null,
      "outputs": []
    },
    {
      "cell_type": "markdown",
      "metadata": {},
      "source": [
        "This is different from the subsequent code which updates `m` itself. In this case, R can modify the matrix in place by going through each element and updating its value rather than creating a new matrix. As the size of our data grows, creating copies can be expensive. Imagine, `m` being a large genetic data set with RNA sequencing data. First, this object may take up a lot of memory so creating a copy may mean we could run out of memory. Second, copying over all this information is expensive. "
      ]
    },
    {
      "cell_type": "code",
      "metadata": {},
      "source": [
        "m <- log(m + 1)"
      ],
      "execution_count": null,
      "outputs": []
    },
    {
      "cell_type": "markdown",
      "metadata": {},
      "source": [
        "Let's consider another case. In the following code, we have two functions that both find the proportion of people within 1, 2, and $>2$ standard deviations from the mean for one of the PROMIS instrument variables. When we input `pain` as an argument to the first function, we do not create a copy of it since we haven't modified the data frame. However, once we create a new column, this means that we have to copy the full data frame. The second function instead takes in a single column, requiring us to copy only this information. The difference in execution time shows an edge to the second method, but the difference is small. This indicates that actually computing this new column and finding the proportions takes more time than the duplication."
      ]
    },
    {
      "cell_type": "code",
      "metadata": {},
      "source": [
        "code_promis1 <- function(df){\n",
        "  # create new column with categories\n",
        "  df$PAIN_PHYSICAL_FUNCTION_CUT <- case_when(\n",
        "    abs(df$PROMIS_PHYSICAL_FUNCTION-50) <= 10 ~ \"<= 1SD\",\n",
        "    abs(df$PROMIS_PHYSICAL_FUNCTION-50) <= 20 ~ \"<= 2 SD\",\n",
        "    TRUE ~ \"> 2SD\")\n",
        "  \n",
        "  # get proportions\n",
        "  res <- prop.table(table(df$PAIN_PHYSICAL_FUNCTION_CUT))\n",
        "  return(res)\n",
        "}\n",
        "\n",
        "code_promis2 <- function(v){\n",
        "  # create new column with categories\n",
        "  v <- case_when(\n",
        "    abs(v-50) <= 10 ~ \"<= 1SD\",\n",
        "    abs(v-50) <= 20 ~ \"<= 2 SD\",\n",
        "    TRUE ~ \"> 2SD\")\n",
        "  \n",
        "  # get proportions\n",
        "  res <- prop.table(table(v))\n",
        "  return(res)\n",
        "}\n",
        "\n",
        "microbenchmark(code_promis1(pain), \n",
        "               code_promis2(pain$PROMIS_PHYSICAL_FUNCTION), \n",
        "               unit = \"ms\")"
      ],
      "execution_count": null,
      "outputs": []
    },
    {
      "cell_type": "markdown",
      "metadata": {},
      "source": [
        "Another time when we create copies of objects is when we modify their size. Functions like `cbind()`, `rbind()`, and `c()` create a new object that needs to copy over information to create one vector, matrix, or data frame. If we know the size of the final vector, matrix, or data frame, we can pre-allocate that space and fill in values. This means that the computer won't have to repeatedly find more space. For example, take a look at the two ways to simulate a random walk in one dimension in the following code chunk. In the first method, the length of the vector `v` changes on each iteration of the loop whereas in the second `v` always has length `n`."
      ]
    },
    {
      "cell_type": "code",
      "metadata": {},
      "source": [
        "rw1 <- function(n){\n",
        "  v <- c(0)\n",
        "  for (i in 2:n){\n",
        "    v[i] <- v[i-1] + rbinom(1, 1, 0.5)\n",
        "  }\n",
        "  return(v)\n",
        "}\n",
        "\n",
        "rw2 <- function(n){\n",
        "  v <- rep(0, n)\n",
        "  for (i in 2:n){\n",
        "    v[i] <- v[i-1] + rbinom(1, 1, 0.5)\n",
        "  }\n",
        "}\n",
        "\n",
        "microbenchmark(rw1(10000), rw2(10000), unit=\"ms\")"
      ],
      "execution_count": null,
      "outputs": []
    },
    {
      "cell_type": "markdown",
      "metadata": {},
      "source": [
        "This also works for data frames or matrices. In the following code chunk, we generate a random matrix in three ways. The first creates the matrix with a single line, the second initializes an empty matrix and then fills in each row, and the last dynamically updates the size of the matrix on each iteration."
      ]
    },
    {
      "cell_type": "code",
      "metadata": {},
      "source": [
        "random_mat1 <- function(n){\n",
        "  m <- matrix(sample(1:3, n^2, replace = TRUE), nrow = n)\n",
        "  return(m)\n",
        "}\n",
        "\n",
        "random_mat2 <- function(n){\n",
        "  m <- matrix(nrow = n, ncol = n)\n",
        "  for (i in 1:n){\n",
        "    m[i,] <- sample(1:3, n, replace = TRUE)\n",
        "  }\n",
        "}\n",
        "\n",
        "random_mat3 <- function(n){\n",
        "  m <- NULL\n",
        "  for (i in 1:n){\n",
        "    m <- rbind(m, sample(1:3, n, replace = TRUE))\n",
        "  }\n",
        "  return(m)\n",
        "}\n",
        "\n",
        "microbenchmark(random_mat1(100),\n",
        "               random_mat2(100),\n",
        "               random_mat3(100),\n",
        "               unit = \"ms\")"
      ],
      "execution_count": null,
      "outputs": []
    },
    {
      "cell_type": "markdown",
      "metadata": {},
      "source": [
        "This demonstrates that if you need to update the values of a vector, matrix, or data frame, try to do as much reassignment at once. For example, changing the a whole column at a time is better than changing the individual values. This avoids additional copies.  \n",
        "\n",
        "### Practice Question\n",
        "\n",
        "The following code fits a linear model for each racial group and records the coefficient. Rewrite this code so that we pre-allocate the results vector and use the **microbenchmark** to compare the efficiency between the two approaches."
      ]
    },
    {
      "cell_type": "code",
      "metadata": {},
      "source": [
        "coefs <- c()\n",
        "pat_races <- unique(pain$PAT_RACE)\n",
        "for (r in pat_races){\n",
        "  df <- pain[pain$PAT_RACE == r, ]\n",
        "  if (nrow(df) > 3){\n",
        "    new_coef <- lm(PROMIS_DEPRESSION ~ PROMIS_ANXIETY,\n",
        "                 data = df)$coefficients[2]\n",
        "    coefs <- c(coefs, new_coef)\n",
        "  }\n",
        "}"
      ],
      "execution_count": null,
      "outputs": []
    },
    {
      "cell_type": "markdown",
      "metadata": {},
      "source": [
        "## Parallel Programming\n",
        "\n",
        "Another approach to make our code more efficient is using parallel processing. When we run loops in R, only one iteration is run at a time. For example, the following code runs a random walk 100 times in serial. Parallel processing allows us to execute multiple calls to this function at the same time. This is done by running these processes on separate cores, or processors, on your machine. For example, if we had six cores available we would be able to run 1/6 of the replications on each processor and reduce our overall computation time. The **parallel** package [@R-parallel] contains functions to implement parallel processing on different operating systems. Unfortunately, this functionality is often not supported within RStudio and is not covered in this book. We recommend using the `mclapply()` function from the **parallel** package to implement parallel processing using forking. This does not work on Windows but is much simpler to implement. For parallel processing on Windows, we recommend looking into the socket approach using the `parLapply()` function in the **parallel** package."
      ]
    },
    {
      "cell_type": "code",
      "metadata": {},
      "source": [
        "replicate(100, rw1(1000))"
      ],
      "execution_count": null,
      "outputs": []
    },
    {
      "cell_type": "markdown",
      "metadata": {},
      "source": [
        "## Exercises\n",
        "\n",
        "1.  The following code chunk includes four attempts to create a new column `LOWER_BACK` to the pain data. Note that the second and third attempt are vectorized whereas the first and fourth are not. Time each approach and order them from fastest to slowest. "
      ]
    },
    {
      "cell_type": "code",
      "metadata": {
        "md-indent": "    "
      },
      "source": [
        "# Attempt 1: loop\n",
        "pain$LOWER_BACK <- vector(mode=\"logical\", length=nrow(pain))\n",
        "for (i in 1:nrow(pain)) { # for every row\n",
        "  if ((pain$X218[i] == 1) | (pain$X219[i] == 1)) { \n",
        "    pain$LOWER_BACK[i] <- TRUE \n",
        "  } else {\n",
        "    pain$LOWER_BACK[i] <- FALSE\n",
        "  }\n",
        "}\n",
        "\n",
        "# Attempt 2: logic\n",
        "pain$LOWER_BACK <- ((pain$X218[i] == 1) | \n",
        "                      (pain$X219[i] == 1))\n",
        "\n",
        "# Attempt 3: which\n",
        "pain$LOWER_BACK <- FALSE\n",
        "true_ind <- which((pain$X218[i] == 1) | (pain$X219[i] == 1))\n",
        "pain$LOWER_BACK[true_ind] <- TRUE\n",
        "\n",
        "# Attempt 4: apply\n",
        "back_pain <- function(x){\n",
        "  if((x['X218'] == 1) | (x['X219'] == 1)){\n",
        "    return(TRUE)\n",
        "    } \n",
        "  return(FALSE)\n",
        "}\n",
        "pain$BACK_PAIN <- apply(pain, 1, back_pain)"
      ],
      "execution_count": null,
      "outputs": []
    },
    {
      "cell_type": "markdown",
      "metadata": {},
      "source": [
        "2.  Examine the following code and determine what is being computed. Then, rewrite the code to make it more efficient. Use the **microbenchmark** package to compare the execution time, and explain why your approach is more efficient. "
      ]
    },
    {
      "cell_type": "code",
      "metadata": {
        "md-indent": "    "
      },
      "source": [
        "n <- 100000\n",
        "x1 <- rnorm(n, 10, 1)\n",
        "x2 <- rbinom(n, 1, 0.2)\n",
        "y <- numeric(0)\n",
        "\n",
        "for (i in 1:n){\n",
        "  if (x2[i] == 1){\n",
        "    y[i] <- rnorm(1,2 *x1[i], 0.7)\n",
        "  } else{\n",
        "    y[i] <- rnorm(1, 1+3*x1[i], 0.2)\n",
        "  }\n",
        "}\n",
        "df <- data.frame(x1 = x1, x2 = x2, y = y)"
      ],
      "execution_count": null,
      "outputs": []
    },
    {
      "cell_type": "markdown",
      "metadata": {},
      "source": [
        "3.  Suppose we want to find the five most frequently reported pain regions by racial group. Code your solution (a) using at least one loop and (b) pivoting the data on the body region columns and then using **dplyr** functions to summarize. Compare the efficiency of both approaches. \n",
        "---\n",
        "jupyter: ir\n",
        "---"
      ]
    }
  ],
  "metadata": {
    "kernelspec": {
      "name": "ir",
      "language": "R",
      "display_name": "R",
      "path": "/Users/alice/Library/Jupyter/kernels/ir"
    }
  },
  "nbformat": 4,
  "nbformat_minor": 4
}