{
  "cells": [
    {
      "cell_type": "markdown",
      "metadata": {},
      "source": [
        "# \n",
        "\n",
        "# Writing Efficient Code\n",
        "\n",
        "When we talk about efficient code, we are talking about computational\n",
        "efficiency or writing code that is fast to execute. For this topic, we\n",
        "need to peek under the hood to consider how R is implementing our code\n",
        "in order to understand what can slow down our code. We use the\n",
        "**microbenchmark** package \\[@R-microbenchmark\\] to time our code\n",
        "execution. For demonstration, we use a subset of the `pain` dataset from\n",
        "the **HDSinRdata** package."
      ],
      "id": "cb2a1164-c7a3-4ade-bf61-4bf133ea8e95"
    },
    {
      "cell_type": "code",
      "execution_count": null,
      "metadata": {},
      "outputs": [],
      "source": [
        "library(microbenchmark)\n",
        "library(HDSinRdata)\n",
        "library(tidyverse)\n",
        "\n",
        "data(pain)\n",
        "pain <- pain %>% \n",
        "  select(-c(BMI, GH_MENTAL_SCORE, GH_PHYSICAL_SCORE, \n",
        "                  PROMIS_PAIN_BEHAVIOR)) %>%\n",
        "  na.omit()"
      ],
      "id": "b102cbb6-ae14-47e2-81b8-14af51d3d96c"
    },
    {
      "cell_type": "markdown",
      "metadata": {},
      "source": [
        "The function `Sys.time()` returns the current system time. This allows\n",
        "us to find the net time required to execute a chunk of code. For\n",
        "example, the following code finds how long it takes to loop through the\n",
        "data to find the number of people who had an improvement in pain."
      ],
      "id": "741dcba6-fd24-4a76-8a2d-a61fea0086e8"
    },
    {
      "cell_type": "code",
      "execution_count": null,
      "metadata": {},
      "outputs": [
        {
          "output_type": "stream",
          "name": "stdout",
          "text": [
            "Time difference of 0.0212729 secs"
          ]
        }
      ],
      "source": [
        "start_time <- Sys.time()\n",
        "num <- 0\n",
        "for (i in 1:nrow(pain)){\n",
        "  if (pain$PAIN_INTENSITY_AVERAGE[i] <= \n",
        "      pain$PAIN_INTENSITY_AVERAGE.FOLLOW_UP[i]){\n",
        "    num <- num + 1\n",
        "  }\n",
        "}\n",
        "end_time <- Sys.time()\n",
        "end_time - start_time"
      ],
      "id": "72ce3792-760d-4448-bec7-4761277f8b1d"
    },
    {
      "cell_type": "markdown",
      "metadata": {},
      "source": [
        "Using `Sys.time()` is a simple approach to time our code. The function\n",
        "`microbenchmark()` from the **microbenchmark** package allows us to\n",
        "replicate an expression multiple times to get an average execution time.\n",
        "We can pass multiple expressions to this function and specify a unit of\n",
        "measurement and number of times to replicate each expression.\n",
        "\n",
        "    microbenchmark(first expression, second expression, units =\"ms\", \n",
        "      times = 10)\n",
        "\n",
        "For example, we time the same expression as previously using this\n",
        "package. This time we get some summary statistics in milliseconds. We\n",
        "used the default 100 times to replicate this expression."
      ],
      "id": "65423db3-a1f5-4d49-841f-6f644c3edad1"
    },
    {
      "cell_type": "code",
      "execution_count": null,
      "metadata": {},
      "outputs": [
        {
          "output_type": "stream",
          "name": "stderr",
          "text": [
            "Warning in microbenchmark(pain_inc = {: less accurate nanosecond times to avoid\n",
            "potential integer overflows"
          ]
        },
        {
          "output_type": "stream",
          "name": "stdout",
          "text": [
            "Unit: milliseconds\n",
            "     expr      min       lq     mean   median       uq      max neval\n",
            " pain_inc 15.37115 15.64917 16.45005 15.96239 17.26395 20.58585   100"
          ]
        }
      ],
      "source": [
        "microbenchmark( pain_inc = {\n",
        "  num <- 0\n",
        "  for (i in 1:nrow(pain)){\n",
        "    if (pain$PAIN_INTENSITY_AVERAGE[i] <= \n",
        "        pain$PAIN_INTENSITY_AVERAGE.FOLLOW_UP[i]){\n",
        "      num <- num + 1\n",
        "    }\n",
        "  }\n",
        "}, unit = \"ms\")"
      ],
      "id": "fe453642-12d1-460a-86b7-1aafe7bdb5ca"
    },
    {
      "cell_type": "markdown",
      "metadata": {},
      "source": [
        "## Use Fast and Vectorized Functions \n",
        "\n",
        "R is known as a slower programming language. In part, R sacrifices\n",
        "computation time to make it more welcoming to new programmers. However,\n",
        "not all of R is actually written in R. Many functions that are in base R\n",
        "are actually written in C or Fortran. These functions are significantly\n",
        "faster than if we wrote them ourselves. When possible, we should use\n",
        "base R functions rather than writing our own. Let’s take a look at the\n",
        "difference in time when we write our own summation function compared to\n",
        "using the `sum()` function."
      ],
      "id": "b4d4f29a-613e-4192-be82-f90a4dfa23f9"
    },
    {
      "cell_type": "code",
      "execution_count": null,
      "metadata": {},
      "outputs": [
        {
          "output_type": "stream",
          "name": "stdout",
          "text": [
            "Unit: milliseconds\n",
            "         expr      min       lq       mean   median       uq      max neval\n",
            " sum_function 2.181938 2.183927 2.21296762 2.190917 2.196350 3.593814   100\n",
            "  builtin_sum 0.000041 0.000041 0.00015744 0.000041 0.000082 0.003321   100"
          ]
        }
      ],
      "source": [
        "my_sum <- function(x){\n",
        "  out <- 0\n",
        "  for (i in 1:length(x)){\n",
        "    out <- out + x[i]\n",
        "  }\n",
        "  return(out)\n",
        "}\n",
        "\n",
        "x <- 1:100000\n",
        "microbenchmark(sum_function = my_sum(x),\n",
        "               builtin_sum = sum(x),\n",
        "               unit = \"ms\")"
      ],
      "id": "6989da67-dc08-4296-a721-db839b9ad4a5"
    },
    {
      "cell_type": "markdown",
      "metadata": {},
      "source": [
        "This also simplifies our code to a single line. Looking back at our\n",
        "first example, we can also simplify our code. We did not need to loop\n",
        "through our data. Instead, we should use a vectorized approach that\n",
        "checks for pain improvement across all observations and then sum up the\n",
        "TRUE/FALSE values."
      ],
      "id": "4fb2e2f2-b09d-438e-a846-8a35aae39a33"
    },
    {
      "cell_type": "code",
      "execution_count": null,
      "metadata": {},
      "outputs": [
        {
          "output_type": "stream",
          "name": "stdout",
          "text": [
            "Unit: milliseconds\n",
            "                                                                                            expr\n",
            " {     vector_pain = sum(pain$PAIN_INTENSITY_AVERAGE <= pain$PAIN_INTENSITY_AVERAGE.FOLLOW_UP) }\n",
            "      min       lq       mean   median       uq      max neval\n",
            " 0.014391 0.014473 0.01476205 0.014555 0.014637 0.026158   100"
          ]
        }
      ],
      "source": [
        "microbenchmark({\n",
        "  vector_pain = sum(pain$PAIN_INTENSITY_AVERAGE <= \n",
        "                      pain$PAIN_INTENSITY_AVERAGE.FOLLOW_UP)\n",
        "}, unit = \"ms\")"
      ],
      "id": "c82fb812-d6cc-42d6-869e-a828ad520e0e"
    },
    {
      "cell_type": "markdown",
      "metadata": {},
      "source": [
        "This is much faster. Loops are notoriously slow in R so you often hear\n",
        "the advice to avoid loops. Using apply functions like `apply()` and\n",
        "`sapply()` are loop-hiding functions. Using these functions instead of\n",
        "an explicit loop doesn’t improve the efficiency of our code except that\n",
        "by using these functions we often simplify our code as a byproduct of\n",
        "rewriting our code.\n",
        "\n",
        "The true functions that can improve efficiency over loops are\n",
        "*vectorized* functions, which can be evaluated on a vector of values.\n",
        "Vectorizing our code means that we are thinking about a vector approach\n",
        "rather than computing something for each element of the vector and\n",
        "looping through these values. A vectorized function returns output that\n",
        "is the same dimensions as the input and operates on these elements in an\n",
        "efficient manner.\n",
        "\n",
        "The following code chunk shows a simple example of comparing taking the\n",
        "square root of each individual element or calling the `sqrt()` function,\n",
        "which is a vectorized function. Vectorized functions still have to\n",
        "operate on each element, but that loop is often written in C or Fortran\n",
        "rather than R making it significantly faster, so this is a special case\n",
        "where we can utilize the speed of some functions."
      ],
      "id": "beedbae8-fa48-4727-9baa-2ccef5afd7d0"
    },
    {
      "cell_type": "code",
      "execution_count": null,
      "metadata": {},
      "outputs": [
        {
          "output_type": "stream",
          "name": "stdout",
          "text": [
            "Unit: milliseconds\n",
            "      expr      min       lq      mean    median       uq      max neval\n",
            " loop_sqrt 4.341408 4.370128 4.5093916 4.4320180 4.559261 7.198944   100\n",
            "      sqrt 0.103033 0.146206 0.1626154 0.1574195 0.162852 0.925985   100"
          ]
        }
      ],
      "source": [
        "microbenchmark(loop_sqrt = {\n",
        "  for (i in 1:length(x)){\n",
        "    x[i] <- sqrt(x[i])\n",
        "  }\n",
        "  }, sqrt = sqrt(x), unit = \"ms\")"
      ],
      "id": "f805e15a-d892-4257-a7c1-d626c3aac940"
    },
    {
      "cell_type": "markdown",
      "metadata": {},
      "source": [
        "### Practice Question\n",
        "\n",
        "First, read the documentation of the function `tapply()`. This is\n",
        "another function in the apply function library that was not covered in\n",
        "**?@sec-control-flows**. Rewrite the following code without using a loop\n",
        "using the `tapply()` function. Would you expect this approach to be\n",
        "faster? Why or why not?"
      ],
      "id": "3b0b6b22-4f5e-4335-884b-1ec044c13f14"
    },
    {
      "cell_type": "code",
      "execution_count": null,
      "metadata": {},
      "outputs": [],
      "source": [
        "mean_pain <- c()\n",
        "pat_races <- unique(pain$PAT_RACE)\n",
        "\n",
        "for (r in pat_races){\n",
        "  mean_pain[r] <- mean(pain$PAIN_INTENSITY_AVERAGE[pain$PAT_RACE == r])\n",
        "}"
      ],
      "id": "65682f5a-e776-4944-a034-417bad12d5ae"
    },
    {
      "cell_type": "markdown",
      "metadata": {},
      "source": [
        "## Avoid Copies and Duplicates \n",
        "\n",
        "Another aspect of our programs that can slow down our operations is any\n",
        "time we need to create a large object. Look at the following code.\n",
        "First, we create a matrix `m`. We then create a matrix `n` that is equal\n",
        "to `m`. Last, we update `n` by taking the logarithm of all elements plus\n",
        "one, differentiating it from `m`. R creates copies upon modification.\n",
        "This means that when we initialize `n` we have not actually created a\n",
        "second matrix in memory. Instead, we have two names for the same matrix.\n",
        "On the third line, we want to update `n`, so we need to actually create\n",
        "a second matrix that is different from `m`."
      ],
      "id": "e4664490-a809-4ab3-9174-215986776cb0"
    },
    {
      "cell_type": "code",
      "execution_count": null,
      "metadata": {},
      "outputs": [],
      "source": [
        "m <- matrix(rpois(100000, 6), ncol=1000)\n",
        "n <- m\n",
        "n <- log(n + 1)"
      ],
      "id": "d1797ec8-98db-4319-8e60-ee5ddf4bbaa9"
    },
    {
      "cell_type": "markdown",
      "metadata": {},
      "source": [
        "This is different from the subsequent code which updates `m` itself. In\n",
        "this case, R can modify the matrix in place by going through each\n",
        "element and updating its value rather than creating a new matrix. As the\n",
        "size of our data grows, creating copies can be expensive. Imagine, `m`\n",
        "being a large genetic dataset with RNA-sequencing data. First, this\n",
        "object may take up a lot of memory, so creating a copy may mean we could\n",
        "run out of memory. Second, copying over all this information is\n",
        "expensive."
      ],
      "id": "8a2574bd-5f31-444a-838c-f1e914d68f80"
    },
    {
      "cell_type": "code",
      "execution_count": null,
      "metadata": {},
      "outputs": [],
      "source": [
        "m <- log(m + 1)"
      ],
      "id": "a561ebb8-cf90-4d3c-b7eb-14c6b6217ddd"
    },
    {
      "cell_type": "markdown",
      "metadata": {},
      "source": [
        "Let’s consider another case. In the following code, we have two\n",
        "functions that both find the proportion of people within 1, 2, and\n",
        "\\$\\>\\$2 standard deviations from the mean for one of the PROMIS\n",
        "instrument variables. When we input `pain` as an argument to the first\n",
        "function, we do not create a copy of it since we haven’t modified the\n",
        "data frame. However, once we create a new column, this means that we\n",
        "have to copy the full data frame. The second function instead takes in a\n",
        "single column, requiring us to copy only this information. The\n",
        "difference in execution time shows an edge to the second method, but the\n",
        "difference is small. This indicates that actually computing this new\n",
        "column and finding the proportions takes more time than the duplication."
      ],
      "id": "5b1087c7-e738-440c-b7fd-a39ea9965c12"
    },
    {
      "cell_type": "code",
      "execution_count": null,
      "metadata": {},
      "outputs": [
        {
          "output_type": "stream",
          "name": "stdout",
          "text": [
            "Unit: milliseconds\n",
            "                                        expr      min        lq      mean\n",
            "                          code_promis1(pain) 0.636730 0.6734045 0.7652429\n",
            " code_promis2(pain$PROMIS_PHYSICAL_FUNCTION) 0.608973 0.6426750 0.7191388\n",
            "    median        uq      max neval\n",
            " 0.6921210 0.7000340 3.442401   100\n",
            " 0.6644665 0.6735275 3.088161   100"
          ]
        }
      ],
      "source": [
        "code_promis1 <- function(df){\n",
        "  # create new column with categories\n",
        "  df$PAIN_PHYSICAL_FUNCTION_CUT <- case_when(\n",
        "    abs(df$PROMIS_PHYSICAL_FUNCTION-50) <= 10 ~ \"<= 1SD\",\n",
        "    abs(df$PROMIS_PHYSICAL_FUNCTION-50) <= 20 ~ \"<= 2 SD\",\n",
        "    TRUE ~ \"> 2SD\")\n",
        "  \n",
        "  # get proportions\n",
        "  res <- prop.table(table(df$PAIN_PHYSICAL_FUNCTION_CUT))\n",
        "  return(res)\n",
        "}\n",
        "\n",
        "code_promis2 <- function(v){\n",
        "  # create new column with categories\n",
        "  v <- case_when(\n",
        "    abs(v-50) <= 10 ~ \"<= 1SD\",\n",
        "    abs(v-50) <= 20 ~ \"<= 2 SD\",\n",
        "    TRUE ~ \"> 2SD\")\n",
        "  \n",
        "  # get proportions\n",
        "  res <- prop.table(table(v))\n",
        "  return(res)\n",
        "}\n",
        "\n",
        "microbenchmark(code_promis1(pain), \n",
        "               code_promis2(pain$PROMIS_PHYSICAL_FUNCTION), \n",
        "               unit = \"ms\")"
      ],
      "id": "1b4a579d-c664-4462-9c3f-436950657ea7"
    },
    {
      "cell_type": "markdown",
      "metadata": {},
      "source": [
        "Another time when we create copies of objects is when we modify their\n",
        "size. Functions like `cbind()`, `rbind()`, and `c()` create a new object\n",
        "that needs to copy over information to create one vector, matrix, or\n",
        "data frame. If we know the size of the final vector, matrix, or data\n",
        "frame, we can pre-allocate that space and fill in values. This means\n",
        "that the computer won’t have to repeatedly find more space. For example,\n",
        "take a look at the two ways to simulate a random walk in one dimension\n",
        "in the following code chunk. In the first method, the length of the\n",
        "vector `v` changes on each iteration of the loop, whereas in the second\n",
        "`v` always has length `n`."
      ],
      "id": "cd16de4b-9190-4c49-9eab-f770e8eecfb4"
    },
    {
      "cell_type": "code",
      "execution_count": null,
      "metadata": {},
      "outputs": [
        {
          "output_type": "stream",
          "name": "stdout",
          "text": [
            "Unit: milliseconds\n",
            "       expr      min       lq     mean   median       uq      max neval\n",
            " rw1(10000) 5.028855 5.190539 5.559377 5.261223 5.377396 9.799451   100\n",
            " rw2(10000) 4.217793 4.300101 4.473662 4.336447 4.381096 6.415475   100"
          ]
        }
      ],
      "source": [
        "rw1 <- function(n){\n",
        "  v <- c(0)\n",
        "  for (i in 2:n){\n",
        "    v[i] <- v[i-1] + rbinom(1, 1, 0.5)\n",
        "  }\n",
        "  return(v)\n",
        "}\n",
        "\n",
        "rw2 <- function(n){\n",
        "  v <- rep(0, n)\n",
        "  for (i in 2:n){\n",
        "    v[i] <- v[i-1] + rbinom(1, 1, 0.5)\n",
        "  }\n",
        "}\n",
        "\n",
        "microbenchmark(rw1(10000), rw2(10000), unit=\"ms\")"
      ],
      "id": "07edf870-38d3-4b6f-92eb-f68cfeca1d00"
    },
    {
      "cell_type": "markdown",
      "metadata": {},
      "source": [
        "This also works for data frames or matrices. In the following code\n",
        "chunk, we generate a random matrix in three ways. The first creates the\n",
        "matrix with a single line, the second initializes an empty matrix and\n",
        "then fills in each row, and the last dynamically updates the size of the\n",
        "matrix on each iteration."
      ],
      "id": "ec00cbe5-4b9f-46b2-9432-ba03f249b61c"
    },
    {
      "cell_type": "code",
      "execution_count": null,
      "metadata": {},
      "outputs": [
        {
          "output_type": "stream",
          "name": "stdout",
          "text": [
            "Unit: milliseconds\n",
            "             expr      min        lq      mean    median        uq      max\n",
            " random_mat1(100) 0.228370 0.2360165 0.2508044 0.2389275 0.2423305 1.304169\n",
            " random_mat2(100) 0.494624 0.5031725 0.5293235 0.5068215 0.5175635 2.264307\n",
            " random_mat3(100) 1.057431 1.1121865 1.3584206 1.1669420 1.1943095 5.564848\n",
            " neval\n",
            "   100\n",
            "   100\n",
            "   100"
          ]
        }
      ],
      "source": [
        "random_mat1 <- function(n){\n",
        "  m <- matrix(sample(1:3, n^2, replace = TRUE), nrow = n)\n",
        "  return(m)\n",
        "}\n",
        "\n",
        "random_mat2 <- function(n){\n",
        "  m <- matrix(nrow = n, ncol = n)\n",
        "  for (i in 1:n){\n",
        "    m[i,] <- sample(1:3, n, replace = TRUE)\n",
        "  }\n",
        "}\n",
        "\n",
        "random_mat3 <- function(n){\n",
        "  m <- NULL\n",
        "  for (i in 1:n){\n",
        "    m <- rbind(m, sample(1:3, n, replace = TRUE))\n",
        "  }\n",
        "  return(m)\n",
        "}\n",
        "\n",
        "microbenchmark(random_mat1(100),\n",
        "               random_mat2(100),\n",
        "               random_mat3(100),\n",
        "               unit = \"ms\")"
      ],
      "id": "197bff21-d83e-489f-95a8-212cfd9472b7"
    },
    {
      "cell_type": "markdown",
      "metadata": {},
      "source": [
        "This demonstrates that if you need to update the values of a vector,\n",
        "matrix, or data frame, try to do as much reassignment at once. For\n",
        "example, changing the whole column at a time is better than changing the\n",
        "individual values. This avoids additional copies.\n",
        "\n",
        "### Practice Question\n",
        "\n",
        "The following code fits a linear model for each racial group and records\n",
        "the coefficient. Rewrite this code so that we pre-allocate the results\n",
        "vector and use the **microbenchmark** to compare the efficiency between\n",
        "the two approaches."
      ],
      "id": "d20d0199-f674-42b8-9339-2e66a776db76"
    },
    {
      "cell_type": "code",
      "execution_count": null,
      "metadata": {},
      "outputs": [],
      "source": [
        "coefs <- c()\n",
        "pat_races <- unique(pain$PAT_RACE)\n",
        "for (r in pat_races){\n",
        "  df <- pain[pain$PAT_RACE == r, ]\n",
        "  if (nrow(df) > 3){\n",
        "    new_coef <- lm(PROMIS_DEPRESSION ~ PROMIS_ANXIETY,\n",
        "                 data = df)$coefficients[2]\n",
        "    coefs <- c(coefs, new_coef)\n",
        "  }\n",
        "}"
      ],
      "id": "2d526adc-9863-451d-9f21-42e5007da9ae"
    },
    {
      "cell_type": "markdown",
      "metadata": {},
      "source": [
        "## Parallel Programming \n",
        "\n",
        "Another approach to make our code more efficient is using parallel\n",
        "processing. When we run loops in R, only one iteration is run at a time.\n",
        "For example, the following code runs a random walk 100 times in serial.\n",
        "Parallel processing allows us to execute multiple calls to this function\n",
        "at the same time. This is done by running these processes on separate\n",
        "cores, or processors, on your machine. For example, if we had six cores\n",
        "available, we would be able to run 1/6 of the replications on each\n",
        "processor and reduce our overall computation time. The **parallel**\n",
        "package \\[@R-parallel\\] contains functions to implement parallel\n",
        "processing on different operating systems. Unfortunately, this\n",
        "functionality is often not supported within RStudio and is not covered\n",
        "in this book. We recommend using the `mclapply()` function from the\n",
        "**parallel** package to implement parallel processing using forking.\n",
        "This does not work on Windows but is much simpler to implement. For\n",
        "parallel processing on Windows, we recommend looking into the socket\n",
        "approach using the `parLapply()` function in the **parallel** package."
      ],
      "id": "d6371bf4-36d5-4a41-b9e4-048cbc193ef4"
    },
    {
      "cell_type": "code",
      "execution_count": null,
      "metadata": {},
      "outputs": [],
      "source": [
        "replicate(100, rw1(1000))"
      ],
      "id": "94e87706-7414-4d90-85ba-39a50c9f0ca6"
    },
    {
      "cell_type": "markdown",
      "metadata": {},
      "source": [
        "## Exercises\n",
        "\n",
        "1.  The following code chunk includes four attempts to create a new\n",
        "    column `LOWER_BACK` to the pain data. Note that the second and third\n",
        "    attempts are vectorized, whereas the first and fourth are not. Time\n",
        "    each approach and order the approaches from fastest to slowest.\n",
        "\n",
        "    ``` r\n",
        "    # Attempt 1: loop\n",
        "    pain$LOWER_BACK <- vector(mode=\"logical\", length=nrow(pain))\n",
        "    for (i in 1:nrow(pain)) { # for every row\n",
        "      if ((pain$X218[i] == 1) | (pain$X219[i] == 1)) { \n",
        "        pain$LOWER_BACK[i] <- TRUE \n",
        "      } else {\n",
        "        pain$LOWER_BACK[i] <- FALSE\n",
        "      }\n",
        "    }\n",
        "\n",
        "    # Attempt 2: logic\n",
        "    pain$LOWER_BACK <- ((pain$X218[i] == 1) | \n",
        "                          (pain$X219[i] == 1))\n",
        "\n",
        "    # Attempt 3: which\n",
        "    pain$LOWER_BACK <- FALSE\n",
        "    true_ind <- which((pain$X218[i] == 1) | (pain$X219[i] == 1))\n",
        "    pain$LOWER_BACK[true_ind] <- TRUE\n",
        "\n",
        "    # Attempt 4: apply\n",
        "    back_pain <- function(x){\n",
        "      if((x['X218'] == 1) | (x['X219'] == 1)){\n",
        "        return(TRUE)\n",
        "        } \n",
        "      return(FALSE)\n",
        "    }\n",
        "    pain$BACK_PAIN <- apply(pain, 1, back_pain)\n",
        "    ```\n",
        "\n",
        "2.  Examine the following code and determine what is being computed.\n",
        "    Then, rewrite the code to make it more efficient. Use the\n",
        "    **microbenchmark** package to compare the execution time, and\n",
        "    explain why your approach is more efficient.\n",
        "\n",
        "    ``` r\n",
        "    n <- 100000\n",
        "    x1 <- rnorm(n, 10, 1)\n",
        "    x2 <- rbinom(n, 1, 0.2)\n",
        "    y <- numeric(0)\n",
        "\n",
        "    for (i in 1:n){\n",
        "      if (x2[i] == 1){\n",
        "        y[i] <- rnorm(1,2 *x1[i], 0.7)\n",
        "      } else{\n",
        "        y[i] <- rnorm(1, 1+3*x1[i], 0.2)\n",
        "      }\n",
        "    }\n",
        "    df <- data.frame(x1 = x1, x2 = x2, y = y)\n",
        "    ```\n",
        "\n",
        "3.  Suppose we want to find the five most frequently reported pain\n",
        "    regions by racial group. Code your solution (a) using at least one\n",
        "    loop and (b) pivoting the data on the body region columns and then\n",
        "    using **dplyr** functions to summarize. Compare the efficiency of\n",
        "    both approaches."
      ],
      "id": "30c445e2-2d5e-4882-a4dc-672f44ddd0c0"
    }
  ],
  "nbformat": 4,
  "nbformat_minor": 5,
  "metadata": {
    "kernelspec": {
      "display_name": "Python 3",
      "language": "python",
      "name": "python3"
    }
  }
}