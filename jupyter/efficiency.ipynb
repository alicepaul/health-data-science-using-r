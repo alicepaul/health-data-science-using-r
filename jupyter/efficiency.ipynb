{
  "cells": [
    {
      "cell_type": "markdown",
      "metadata": {},
      "source": [
        "# \n",
        "\n",
        "# Writing Efficient Code\n",
        "\n",
        "When we talk about efficient code, we are talking about computational\n",
        "efficiency or writing code that is fast to execute. For this topic, we\n",
        "will need to peek under the hood to consider how R is implementing our\n",
        "code in order to understand what can slow down our code. We will use the\n",
        "**microbenchmark** package \\[@R-microbenchmark\\] to time our code\n",
        "execution. For demonstration, we will use a subset of the `pain` dataset\n",
        "from the **HDSinRdata** package."
      ],
      "id": "9115c7f4-3ac4-481f-93f7-bc2170e000bb"
    },
    {
      "cell_type": "code",
      "execution_count": null,
      "metadata": {},
      "outputs": [],
      "source": [
        "library(microbenchmark)\n",
        "library(HDSinRdata)\n",
        "library(tidyverse)\n",
        "\n",
        "data(pain)\n",
        "pain <- pain %>% select(-c(BMI, GH_MENTAL_SCORE, GH_PHYSICAL_SCORE, \n",
        "                  PROMIS_PAIN_BEHAVIOR)) %>%\n",
        "  na.omit()"
      ],
      "id": "3e7f5d14-b39e-42b0-abc5-6ef5e5e00a79"
    },
    {
      "cell_type": "markdown",
      "metadata": {},
      "source": [
        "The function `Sys.time()` returns the current system time. This allows\n",
        "us to find the net time required to execute a chunk of code. For\n",
        "example, the code below finds how long it takes to loop through the data\n",
        "to find the number of people who had an improvement in pain."
      ],
      "id": "32381b36-3cc2-4ea9-ae7d-9785af814138"
    },
    {
      "cell_type": "code",
      "execution_count": null,
      "metadata": {},
      "outputs": [
        {
          "output_type": "stream",
          "name": "stdout",
          "text": [
            "Time difference of 0.02170396 secs"
          ]
        }
      ],
      "source": [
        "start_time <- Sys.time()\n",
        "num <- 0\n",
        "for (i in 1:nrow(pain)){\n",
        "  if (pain$PAIN_INTENSITY_AVERAGE[i] <= \n",
        "      pain$PAIN_INTENSITY_AVERAGE.FOLLOW_UP[i]){\n",
        "    num <- num + 1\n",
        "  }\n",
        "}\n",
        "end_time <- Sys.time()\n",
        "end_time - start_time"
      ],
      "id": "21f3663a-ad54-4535-a2da-a61280cec65f"
    },
    {
      "cell_type": "markdown",
      "metadata": {},
      "source": [
        "Using `Sys.time()` is a simple approach to time our code. The function\n",
        "`microbenchmark()` from the **microbenchmark** package allows us to\n",
        "replicate an expression multiple times to get an average execution time.\n",
        "We can pass multiple expressions to this function and specify a unit of\n",
        "measurement and number of times to replicate each expression.\n",
        "\n",
        "    microbenchmark(first expression, second expression, units =\"ms\", \n",
        "      times = 10)\n",
        "\n",
        "For example, we time the same expression as above using this package.\n",
        "This time we get some summary statistics in milliseconds. We used the\n",
        "default 100 times to replicate this expression."
      ],
      "id": "43178dbb-39c9-43d4-970b-afd4a6df060a"
    },
    {
      "cell_type": "code",
      "execution_count": null,
      "metadata": {},
      "outputs": [
        {
          "output_type": "stream",
          "name": "stderr",
          "text": [
            "Warning in microbenchmark(pain_inc = {: less accurate nanosecond times to avoid\n",
            "potential integer overflows"
          ]
        },
        {
          "output_type": "stream",
          "name": "stdout",
          "text": [
            "Unit: milliseconds\n",
            "     expr      min       lq     mean   median       uq      max neval\n",
            " pain_inc 15.55105 15.72182 16.50829 15.98518 17.27324 20.72825   100"
          ]
        }
      ],
      "source": [
        "microbenchmark( pain_inc = {\n",
        "  num <- 0\n",
        "  for (i in 1:nrow(pain)){\n",
        "    if (pain$PAIN_INTENSITY_AVERAGE[i] <= \n",
        "        pain$PAIN_INTENSITY_AVERAGE.FOLLOW_UP[i]){\n",
        "      num <- num + 1\n",
        "    }\n",
        "  }\n",
        "}, unit = \"ms\")"
      ],
      "id": "c25c4371-3a13-40a0-acb5-78e30e2a8205"
    },
    {
      "cell_type": "markdown",
      "metadata": {},
      "source": [
        "## Use Fast and Vectorized Functions\n",
        "\n",
        "R is known as a slower programming language. In part, R sacrifices\n",
        "computation time to make it more welcoming to new programmers. However,\n",
        "not all of R is actually written in R. Many functions that are in base R\n",
        "are actually written in C or Fortran. These functions are significantly\n",
        "faster than if we wrote them ourselves. When possible, we should use\n",
        "base R functions rather than writing our own. Let’s take a look at the\n",
        "difference in time when we write our own summation function compared to\n",
        "using the `sum()` function."
      ],
      "id": "392aa5c8-fdee-4baa-b20e-379578db8178"
    },
    {
      "cell_type": "code",
      "execution_count": null,
      "metadata": {},
      "outputs": [
        {
          "output_type": "stream",
          "name": "stdout",
          "text": [
            "Unit: milliseconds\n",
            "         expr      min       lq       mean   median       uq      max neval\n",
            " sum_function 2.181979 2.184562 2.20200217 2.186387 2.190650 3.573068   100\n",
            "  builtin_sum 0.000041 0.000041 0.00007544 0.000041 0.000082 0.001558   100"
          ]
        }
      ],
      "source": [
        "my_sum <- function(x){\n",
        "  out <- 0\n",
        "  for (i in 1:length(x)){\n",
        "    out <- out + x[i]\n",
        "  }\n",
        "  return(out)\n",
        "}\n",
        "\n",
        "x <- 1:100000\n",
        "microbenchmark(sum_function = my_sum(x),\n",
        "               builtin_sum = sum(x),\n",
        "               unit = \"ms\")"
      ],
      "id": "2b52343c-4727-4b89-9a75-2cb9bd21affb"
    },
    {
      "cell_type": "markdown",
      "metadata": {},
      "source": [
        "This also simplifies our code to a single line. Looking back at our\n",
        "first example, we can also simplify our code. We did not need to loop\n",
        "through our data. Instead, we should use a vectorized approach that\n",
        "checks for pain improvement across all observations and then sum up the\n",
        "TRUE/FALSE values."
      ],
      "id": "e4c221d7-fa2f-4ccc-894f-165ae0e48629"
    },
    {
      "cell_type": "code",
      "execution_count": null,
      "metadata": {},
      "outputs": [
        {
          "output_type": "stream",
          "name": "stdout",
          "text": [
            "Unit: milliseconds\n",
            "                                                                                            expr\n",
            " {     vector_pain = sum(pain$PAIN_INTENSITY_AVERAGE <= pain$PAIN_INTENSITY_AVERAGE.FOLLOW_UP) }\n",
            "      min       lq       mean   median        uq      max neval\n",
            " 0.014965 0.016359 0.01697031 0.016728 0.0169125 0.027265   100"
          ]
        }
      ],
      "source": [
        "microbenchmark({\n",
        "  vector_pain = sum(pain$PAIN_INTENSITY_AVERAGE <= \n",
        "                      pain$PAIN_INTENSITY_AVERAGE.FOLLOW_UP)\n",
        "}, unit = \"ms\")"
      ],
      "id": "b0c158a3-c8e8-4a3c-a319-a47ecfb1ef94"
    },
    {
      "cell_type": "markdown",
      "metadata": {},
      "source": [
        "This is much faster. Loops are notoriously slow in R so you will often\n",
        "hear the advice to avoid loops. Using apply functions like `apply()` and\n",
        "`sapply()` are loop-hiding functions. Using these functions instead of\n",
        "an explicit loop doesn’t improve the efficiency of our code except that\n",
        "by using these functions we often simplify our code as a byproduct of\n",
        "rewriting our code.\n",
        "\n",
        "The true functions that can improve efficiency over loops are\n",
        "*vectorized* functions, which can be evaluated on a vector of values.\n",
        "Vectorizing our code means that we are thinking about a vector approach\n",
        "rather than computing something for each element of the vector and\n",
        "looping through these values. A vectorized function will return output\n",
        "that is the same dimensions as the input and operates on these elements\n",
        "in an efficient manner.\n",
        "\n",
        "A simple example is below where we either take the square root of each\n",
        "individual element or we call the `sqrt()` function, which is a\n",
        "vectorized function. Vectorized functions still have to operate on each\n",
        "element, but that loop is often written in C or Fortran rather than R\n",
        "making it significantly faster so this is a special case where we can\n",
        "utilize the speed of some functions."
      ],
      "id": "151a8ce2-ae74-4677-bf22-fd358917718e"
    },
    {
      "cell_type": "code",
      "execution_count": null,
      "metadata": {},
      "outputs": [
        {
          "output_type": "stream",
          "name": "stdout",
          "text": [
            "Unit: milliseconds\n",
            "      expr      min        lq      mean   median       uq      max neval\n",
            " loop_sqrt 4.337431 4.3677095 4.4570760 4.385381 4.445138 7.066432   100\n",
            "      sqrt 0.123615 0.1355255 0.1453413 0.142803 0.152807 0.177694   100"
          ]
        }
      ],
      "source": [
        "microbenchmark(loop_sqrt = {\n",
        "  for (i in 1:length(x)){\n",
        "    x[i] <- sqrt(x[i])\n",
        "  }\n",
        "  }, sqrt = sqrt(x), unit = \"ms\")"
      ],
      "id": "6fd982fa-6f0d-48fc-a470-c3eada78e224"
    },
    {
      "cell_type": "markdown",
      "metadata": {},
      "source": [
        "### Practice Question\n",
        "\n",
        "First, read the documentation of the function `tapply()`. This is\n",
        "another function in the apply function library that was not covered in\n",
        "**?@sec-control-flows**. Rewrite the code below without using a loop\n",
        "using the `tapply()` function. Would you expect this approach to be\n",
        "faster? Why or why not?"
      ],
      "id": "c7542844-6fac-4d00-9b52-70e1e7f0c0a8"
    },
    {
      "cell_type": "code",
      "execution_count": null,
      "metadata": {},
      "outputs": [],
      "source": [
        "mean_pain <- c()\n",
        "pat_races <- unique(pain$PAT_RACE)\n",
        "\n",
        "for (r in pat_races){\n",
        "  mean_pain[r] <- mean(pain$PAIN_INTENSITY_AVERAGE[pain$PAT_RACE == r])\n",
        "}"
      ],
      "id": "d28462b3-55b8-4f7a-ae28-77c8fd46eec5"
    },
    {
      "cell_type": "markdown",
      "metadata": {},
      "source": [
        "## Avoid Copies and Duplicates\n",
        "\n",
        "Another aspect of our programs that can slow down our operations is any\n",
        "time we need to create a large object. Look at the code below. First, we\n",
        "create a matrix `m`. We then create a matrix `n` that is equal to `m`.\n",
        "Last, we update `n` by taking the logarithm of all elements plus one,\n",
        "differentiating it from `m`. R creates copies upon modification. That\n",
        "means, that when we initialize `n` we have not actually created a second\n",
        "matrix in memory. Instead, we have two names for the same matrix. On the\n",
        "third line, we want to update `n` so we need to actually create a second\n",
        "matrix that will be different from `m`."
      ],
      "id": "4bc2aa5a-5de3-444d-917f-9c1a6c1a8002"
    },
    {
      "cell_type": "code",
      "execution_count": null,
      "metadata": {},
      "outputs": [],
      "source": [
        "m <- matrix(rpois(100000, 6), ncol=1000)\n",
        "n <- m\n",
        "n <- log(n+1)"
      ],
      "id": "f6ae808a-dbf9-4d2d-87e2-093f8266a819"
    },
    {
      "cell_type": "markdown",
      "metadata": {},
      "source": [
        "This is different from the code below which updates `m` itself. In this\n",
        "case, R can modify the matrix in place by going through each element and\n",
        "updating its value rather than creating a new matrix. As the size of our\n",
        "data grows, creating copies can be expensive. Imagine, `m` being a large\n",
        "genetic data set with RNA sequencing data. First, this object may take\n",
        "up a lot of memory so creating a copy may mean we could run out of\n",
        "memory. Second, copying over all this information will be expensive."
      ],
      "id": "70528251-4e45-4cd4-8407-793a927cdaad"
    },
    {
      "cell_type": "code",
      "execution_count": null,
      "metadata": {},
      "outputs": [],
      "source": [
        "m <- log(m+1)"
      ],
      "id": "070481b1-c3e7-4891-a2e8-d891e3ef4256"
    },
    {
      "cell_type": "markdown",
      "metadata": {},
      "source": [
        "Let’s consider another case. Below, we have two functions that both find\n",
        "the proportion of people within 1, 2, and $>2$ standard deviations from\n",
        "the mean for one of the PROMIS instrument variables. When we input\n",
        "`pain` as an argument to the first function, we do not create a copy of\n",
        "it since we haven’t modified the data frame. However, once we create a\n",
        "new column, this means that we have to copy the full data frame. The\n",
        "second function instead takes in a single column, requiring us to copy\n",
        "only this information. The difference in execution time shows an edge to\n",
        "the second method, but the difference is small. This indicates that\n",
        "actually computing this new column and finding the proportions takes\n",
        "more time than the duplication."
      ],
      "id": "cf10b029-f095-4cf3-8b14-377825745e39"
    },
    {
      "cell_type": "code",
      "execution_count": null,
      "metadata": {},
      "outputs": [
        {
          "output_type": "stream",
          "name": "stdout",
          "text": [
            "Unit: milliseconds\n",
            "                                        expr      min        lq      mean\n",
            "                          code_promis1(pain) 0.648087 0.6876315 0.8020043\n",
            " code_promis2(pain$PROMIS_PHYSICAL_FUNCTION) 0.627915 0.6651020 0.7131938\n",
            "    median        uq      max neval\n",
            " 0.6950525 0.7055485 3.435103   100\n",
            " 0.6696530 0.6788370 3.683194   100"
          ]
        }
      ],
      "source": [
        "code_promis1 <- function(df){\n",
        "  # create new column with categories\n",
        "  df$PAIN_PHYSICAL_FUNCTION_CUT <- case_when(\n",
        "    abs(df$PROMIS_PHYSICAL_FUNCTION-50) <= 10 ~ \"<= 1SD\",\n",
        "    abs(df$PROMIS_PHYSICAL_FUNCTION-50) <= 20 ~ \"<= 2 SD\",\n",
        "    TRUE ~ \"> 2SD\")\n",
        "  \n",
        "  # get proportions\n",
        "  res <- prop.table(table(df$PAIN_PHYSICAL_FUNCTION_CUT))\n",
        "  return(res)\n",
        "}\n",
        "\n",
        "code_promis2 <- function(v){\n",
        "  # create new column with categories\n",
        "  v <- case_when(\n",
        "    abs(v-50) <= 10 ~ \"<= 1SD\",\n",
        "    abs(v-50) <= 20 ~ \"<= 2 SD\",\n",
        "    TRUE ~ \"> 2SD\")\n",
        "  \n",
        "  # get proportions\n",
        "  res <- prop.table(table(v))\n",
        "  return(res)\n",
        "}\n",
        "\n",
        "microbenchmark(code_promis1(pain), \n",
        "               code_promis2(pain$PROMIS_PHYSICAL_FUNCTION), \n",
        "               unit = \"ms\")"
      ],
      "id": "e64b9c6f-e75f-4f99-b9fa-4257ff18ab9d"
    },
    {
      "cell_type": "markdown",
      "metadata": {},
      "source": [
        "Another time when we create copies of objects is when we modify their\n",
        "size. Functions like `cbind()`, `rbind()`, and `c()` create a new object\n",
        "that needs to copy over information to create one vector, matrix, or\n",
        "data frame. If we know the size of the final vector, matrix, or data\n",
        "frame, we can pre-allocate that space and fill in values. This means\n",
        "that the computer won’t have to repeatedly find more space. For example,\n",
        "take a look at the two ways to simulate a random walk in one dimension\n",
        "below. In the first method, the length of the vector `v` changes on each\n",
        "iteration of the loop whereas in the second `v` always has length `n`."
      ],
      "id": "788e0ef7-d523-4aad-b7fe-cac653d5d0cc"
    },
    {
      "cell_type": "code",
      "execution_count": null,
      "metadata": {},
      "outputs": [
        {
          "output_type": "stream",
          "name": "stdout",
          "text": [
            "Unit: milliseconds\n",
            "       expr      min       lq     mean   median       uq      max neval\n",
            " rw1(10000) 5.081745 5.196361 5.491916 5.246995 5.342239 7.225389   100\n",
            " rw2(10000) 4.231036 4.308834 4.533844 4.326956 4.368201 9.036359   100"
          ]
        }
      ],
      "source": [
        "rw1 <- function(n){\n",
        "  v <- c(0)\n",
        "  for (i in 2:n){\n",
        "    v[i] <- v[i-1] + rbinom(1, 1, 0.5)\n",
        "  }\n",
        "  return(v)\n",
        "}\n",
        "\n",
        "rw2 <- function(n){\n",
        "  v <- rep(0, n)\n",
        "  for (i in 2:n){\n",
        "    v[i] <- v[i-1] + rbinom(1, 1, 0.5)\n",
        "  }\n",
        "}\n",
        "\n",
        "microbenchmark(rw1(10000), rw2(10000), unit=\"ms\")"
      ],
      "id": "bb3c78db-5695-4a2d-a38b-bb75d7b91f79"
    },
    {
      "cell_type": "markdown",
      "metadata": {},
      "source": [
        "This also works for data frames or matrices. Below, we generate a random\n",
        "matrix in three ways. The first creates the matrix with a single line,\n",
        "the second initializes an empty matrix and then fills in each row, and\n",
        "the last dynamically updates the size of the matrix on each iteration."
      ],
      "id": "296a844a-956a-4738-83dc-305eb0e171b3"
    },
    {
      "cell_type": "code",
      "execution_count": null,
      "metadata": {},
      "outputs": [
        {
          "output_type": "stream",
          "name": "stdout",
          "text": [
            "Unit: milliseconds\n",
            "             expr      min       lq      mean    median        uq      max\n",
            " random_mat1(100) 0.228780 0.238005 0.2643881 0.2419205 0.2474350 2.102931\n",
            " random_mat2(100) 0.486096 0.501553 0.6397849 0.5148985 0.5378995 6.383536\n",
            " random_mat3(100) 1.052593 1.159747 1.3329137 1.1804310 1.2499260 5.880015\n",
            " neval\n",
            "   100\n",
            "   100\n",
            "   100"
          ]
        }
      ],
      "source": [
        "random_mat1 <- function(n){\n",
        "  m <- matrix(sample(1:3, n^2, replace = TRUE), nrow = n)\n",
        "  return(m)\n",
        "}\n",
        "\n",
        "random_mat2 <- function(n){\n",
        "  m <- matrix(nrow = n, ncol = n)\n",
        "  for (i in 1:n){\n",
        "    m[i,] <- sample(1:3, n, replace = TRUE)\n",
        "  }\n",
        "}\n",
        "\n",
        "random_mat3 <- function(n){\n",
        "  m <- NULL\n",
        "  for (i in 1:n){\n",
        "    m <- rbind(m, sample(1:3, n, replace = TRUE))\n",
        "  }\n",
        "  return(m)\n",
        "}\n",
        "\n",
        "microbenchmark(random_mat1(100),\n",
        "               random_mat2(100),\n",
        "               random_mat3(100),\n",
        "               unit = \"ms\")"
      ],
      "id": "383aae1a-9ee5-4921-b2a1-41302c089c70"
    },
    {
      "cell_type": "markdown",
      "metadata": {},
      "source": [
        "This demonstrates that if you need to update the values of a vector,\n",
        "matrix, or data frame, try to do as much reassignment at once. For\n",
        "example, changing the a whole column at a time is better than changing\n",
        "the individual values. This avoids additional copies.\n",
        "\n",
        "### Practice Question\n",
        "\n",
        "The code below fits a linear model for each racial group and records the\n",
        "coefficient. Rewrite this code so that we pre-allocate the results\n",
        "vector and use the **microbenchmark** to compare the efficiency between\n",
        "the two approaches."
      ],
      "id": "5a6f5433-6509-49ee-9308-521f04370d64"
    },
    {
      "cell_type": "code",
      "execution_count": null,
      "metadata": {},
      "outputs": [],
      "source": [
        "coefs <- c()\n",
        "pat_races <- unique(pain$PAT_RACE)\n",
        "for (r in pat_races){\n",
        "  df <- pain[pain$PAT_RACE == r, ]\n",
        "  if (nrow(df) > 3){\n",
        "    new_coef <- lm(PROMIS_DEPRESSION ~ PROMIS_ANXIETY,\n",
        "                 data = df)$coefficients[2]\n",
        "    coefs <- c(coefs, new_coef)\n",
        "  }\n",
        "}"
      ],
      "id": "63c93d4b-5a98-4390-a2cb-a6bff7456057"
    },
    {
      "cell_type": "markdown",
      "metadata": {},
      "source": [
        "## Parallel Programming\n",
        "\n",
        "Another approach to make our code more efficient is using parallel\n",
        "processing. When we run loops in R, only one iteration is run at a time.\n",
        "For example, the code below runs a random walk 100 times in serial.\n",
        "Parallel processing allows us to execute multiple calls to this function\n",
        "at the same time. This is done by running these processes on separate\n",
        "cores, or processors, on your machine. For example, if we had six cores\n",
        "available we would be able to run 1/6 of the replications on each\n",
        "processor and reduce our overall computation time. The **parallel**\n",
        "package \\[@R-parallel\\] contains functions to implement parallel\n",
        "processing on different operating systems. Unfortunately, this\n",
        "functionality is often not supported within RStudio and is not covered\n",
        "in this book. We recommend using the `mclapply()` function from the\n",
        "**parallel** package to implement parallel processing using forking.\n",
        "This does not work on Windows but is much simpler to implement. For\n",
        "parallel processing on Windows, we recommend looking into the socket\n",
        "approach using the `parLapply()` function in the **parallel** package."
      ],
      "id": "6abd1b2b-5a76-4cfa-97e0-62e158efce13"
    },
    {
      "cell_type": "code",
      "execution_count": null,
      "metadata": {},
      "outputs": [],
      "source": [
        "replicate(100, rw1(1000))"
      ],
      "id": "f1adb0d1-5206-4390-8d75-04956b349236"
    },
    {
      "cell_type": "raw",
      "metadata": {
        "raw_mimetype": "text/html"
      },
      "source": [
        "<!--\n",
        "::: {.content-visible when-format=\"html\"}\n",
        "## Recap Video\n",
        "\n",
        "\n",
        "Random walk in 2-D\n",
        "\n",
        "\n",
        "\n",
        "::: {.cell}\n",
        "\n",
        "```{.r .cell-code}\n",
        "random_walk <- function(nsteps = 10000){\n",
        "  x <- vector(mode=\"numeric\", length=nsteps)\n",
        "  x[1] <- 0\n",
        "  y <- x\n",
        "  \n",
        "  for (i in 2:nsteps){\n",
        "    move_x <- sample(c(TRUE, FALSE),1)\n",
        "    if(move_x){\n",
        "      x[i] <- x[i-1] + sample(c(1,-1),1)\n",
        "      y[i] <- y[i-1]\n",
        "    } else{\n",
        "      x[i] <- x[i-1]\n",
        "      y[i] <- y[i-1] + sample(c(1,-1),1)\n",
        "    }\n",
        "  }\n",
        "  return(list(x=x,y=y))\n",
        "}\n",
        "microbenchmark(random_walk())\n",
        "```\n",
        "\n",
        "::: {.cell-output .cell-output-stdout}\n",
        "\n",
        "```\n",
        "Unit: milliseconds\n",
        "          expr      min       lq     mean  median       uq      max neval\n",
        " random_walk() 46.28773 47.79101 49.26937 48.5524 48.84754 83.47506   100\n",
        "```\n",
        "\n",
        "\n",
        ":::\n",
        ":::\n",
        "\n",
        "\n",
        ":::\n",
        "-->"
      ],
      "id": "f47c8e79-8449-49b8-94cc-dce40ebaa5af"
    },
    {
      "cell_type": "markdown",
      "metadata": {},
      "source": [
        "## Exercises\n",
        "\n",
        "1.  Below are four attempts below to create a new column `LOWER_BACK` to\n",
        "    the pain data. Note that the second and third attempt are vectorized\n",
        "    whereas the first and fourth are not. Time each approach and order\n",
        "    them from fastest to slowest.\n",
        "\n",
        "    ``` r\n",
        "    # Attempt 1: loop\n",
        "    pain$LOWER_BACK <- vector(mode=\"logical\", length=nrow(pain))\n",
        "    for (i in 1:nrow(pain)) { # for every row\n",
        "      if ((pain$X218[i] == 1) | (pain$X219[i] == 1)) { \n",
        "        pain$LOWER_BACK[i] <- TRUE \n",
        "      } else {\n",
        "        pain$LOWER_BACK[i] <- FALSE\n",
        "      }\n",
        "    }\n",
        "\n",
        "    # Attempt 2: logic\n",
        "    pain$LOWER_BACK <- ((pain$X218[i] == 1) | \n",
        "                          (pain$X219[i] == 1))\n",
        "\n",
        "    # Attempt 3: which\n",
        "    pain$LOWER_BACK <- FALSE\n",
        "    true_ind <- which((pain$X218[i] == 1) | (pain$X219[i] == 1))\n",
        "    pain$LOWER_BACK[true_ind] <- TRUE\n",
        "\n",
        "    # Attempt 4: apply\n",
        "    back_pain <- function(x){\n",
        "      if((x['X218'] == 1) | (x['X219'] == 1)){\n",
        "        return(TRUE)\n",
        "        } \n",
        "      return(FALSE)\n",
        "    }\n",
        "    pain$BACK_PAIN <- apply(pain, 1, back_pain)\n",
        "    ```\n",
        "\n",
        "2.  Look at the code below and determine what is being computed. Then,\n",
        "    rewrite the code to make it more efficient. Use the\n",
        "    **microbenchmark** package to compare the execution time, and\n",
        "    explain why your approach is more efficient.\n",
        "\n",
        "    ``` r\n",
        "    n <- 100000\n",
        "    x1 <- rnorm(n,10,1)\n",
        "    x2 <- rbinom(n,1,0.2)\n",
        "    y <- numeric(0)\n",
        "    for (i in 1:n){\n",
        "      if (x2[i] == 1){\n",
        "        y[i] <- rnorm(1,2*x1[i],0.7)\n",
        "      } else{\n",
        "        y[i] <- rnorm(1,1+3*x1[i],0.2)\n",
        "      }\n",
        "    }\n",
        "    df <- data.frame(x1 = x1, x2 = x2, y = y)\n",
        "    ```\n",
        "\n",
        "3.  Suppose we want to find the five most frequently reported pain\n",
        "    regions by racial group. Code your solution (a) using at least one\n",
        "    loop and (b) pivoting the data on the body region columns and then\n",
        "    using **dplyr** functions to summarize. Compare the efficiency of\n",
        "    both approaches."
      ],
      "id": "37b12cea-e40c-418c-8860-ee8701cc83d8"
    }
  ],
  "nbformat": 4,
  "nbformat_minor": 5,
  "metadata": {
    "kernelspec": {
      "display_name": "Python 3",
      "language": "python",
      "name": "python3"
    }
  }
}