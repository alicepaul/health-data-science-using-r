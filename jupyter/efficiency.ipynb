{
  "cells": [
    {
      "cell_type": "markdown",
      "metadata": {},
      "source": [
        "# \n",
        "\n",
        "# Writing Efficient Code\n",
        "\n",
        "When we talk about efficient code, we are talking about computational\n",
        "efficiency or writing code that is fast to execute. For this topic, we\n",
        "need to peek under the hood to consider how R is implementing our code\n",
        "in order to understand what can slow down our code. We use the\n",
        "**microbenchmark** package \\[@R-microbenchmark\\] to time our code\n",
        "execution. For demonstration, we use a subset of the `pain` dataset from\n",
        "the **HDSinRdata** package."
      ],
      "id": "20f3b0ca-2520-4d0a-a3f9-4f1f2506b673"
    },
    {
      "cell_type": "code",
      "execution_count": null,
      "metadata": {},
      "outputs": [],
      "source": [
        "library(microbenchmark)\n",
        "library(HDSinRdata)\n",
        "library(tidyverse)\n",
        "\n",
        "data(pain)\n",
        "pain <- pain %>% \n",
        "  select(-c(BMI, GH_MENTAL_SCORE, GH_PHYSICAL_SCORE, \n",
        "                  PROMIS_PAIN_BEHAVIOR)) %>%\n",
        "  na.omit()"
      ],
      "id": "5374f0af-636e-4e77-af1e-628de81b2817"
    },
    {
      "cell_type": "markdown",
      "metadata": {},
      "source": [
        "The function `Sys.time()` returns the current system time. This allows\n",
        "us to find the net time required to execute a chunk of code. For\n",
        "example, the following code finds how long it takes to loop through the\n",
        "data to find the number of people who had an improvement in pain."
      ],
      "id": "d616440d-a444-49bc-a775-b82666e7d4aa"
    },
    {
      "cell_type": "code",
      "execution_count": null,
      "metadata": {},
      "outputs": [
        {
          "output_type": "stream",
          "name": "stdout",
          "text": [
            "Time difference of 0.02139306 secs"
          ]
        }
      ],
      "source": [
        "start_time <- Sys.time()\n",
        "num <- 0\n",
        "for (i in 1:nrow(pain)){\n",
        "  if (pain$PAIN_INTENSITY_AVERAGE[i] <= \n",
        "      pain$PAIN_INTENSITY_AVERAGE.FOLLOW_UP[i]){\n",
        "    num <- num + 1\n",
        "  }\n",
        "}\n",
        "end_time <- Sys.time()\n",
        "end_time - start_time"
      ],
      "id": "25bfee09-7e12-4963-b8cd-05b52521b2d0"
    },
    {
      "cell_type": "markdown",
      "metadata": {},
      "source": [
        "Using `Sys.time()` is a simple approach to time our code. The function\n",
        "`microbenchmark()` from the **microbenchmark** package allows us to\n",
        "replicate an expression multiple times to get an average execution time.\n",
        "We can pass multiple expressions to this function and specify a unit of\n",
        "measurement and number of times to replicate each expression.\n",
        "\n",
        "    microbenchmark(first expression, second expression, units =\"ms\", \n",
        "      times = 10)\n",
        "\n",
        "For example, we time the same expression as previously using this\n",
        "package. This time we get some summary statistics in milliseconds. We\n",
        "used the default 100 times to replicate this expression."
      ],
      "id": "43186f40-9d59-4682-95e1-5aea208215fb"
    },
    {
      "cell_type": "code",
      "execution_count": null,
      "metadata": {},
      "outputs": [
        {
          "output_type": "stream",
          "name": "stderr",
          "text": [
            "Warning in microbenchmark(pain_inc = {: less accurate nanosecond times to avoid\n",
            "potential integer overflows"
          ]
        },
        {
          "output_type": "stream",
          "name": "stdout",
          "text": [
            "Unit: milliseconds\n",
            "     expr      min      lq     mean   median       uq      max neval\n",
            " pain_inc 15.44363 15.6381 16.46234 15.92485 17.21393 21.97141   100"
          ]
        }
      ],
      "source": [
        "microbenchmark( pain_inc = {\n",
        "  num <- 0\n",
        "  for (i in 1:nrow(pain)){\n",
        "    if (pain$PAIN_INTENSITY_AVERAGE[i] <= \n",
        "        pain$PAIN_INTENSITY_AVERAGE.FOLLOW_UP[i]){\n",
        "      num <- num + 1\n",
        "    }\n",
        "  }\n",
        "}, unit = \"ms\")"
      ],
      "id": "69d47c4d-ab6d-4c24-931b-e23c9ddcc35c"
    },
    {
      "cell_type": "markdown",
      "metadata": {},
      "source": [
        "## Use Fast and Vectorized Functions\n",
        "\n",
        "R is known as a slower programming language. In part, R sacrifices\n",
        "computation time to make it more welcoming to new programmers. However,\n",
        "not all of R is actually written in R. Many functions that are in base R\n",
        "are actually written in C or Fortran. These functions are significantly\n",
        "faster than if we wrote them ourselves. When possible, we should use\n",
        "base R functions rather than writing our own. Let’s take a look at the\n",
        "difference in time when we write our own summation function compared to\n",
        "using the `sum()` function."
      ],
      "id": "050bfcde-6cf6-4d0f-be15-9d7dd2c7b12c"
    },
    {
      "cell_type": "code",
      "execution_count": null,
      "metadata": {},
      "outputs": [
        {
          "output_type": "stream",
          "name": "stdout",
          "text": [
            "Unit: milliseconds\n",
            "         expr      min       lq       mean    median       uq      max neval\n",
            " sum_function 2.181938 2.182758 2.20385988 2.1860995 2.192229 3.589673   100\n",
            "  builtin_sum 0.000041 0.000041 0.00008897 0.0000615 0.000082 0.001968   100"
          ]
        }
      ],
      "source": [
        "my_sum <- function(x){\n",
        "  out <- 0\n",
        "  for (i in 1:length(x)){\n",
        "    out <- out + x[i]\n",
        "  }\n",
        "  return(out)\n",
        "}\n",
        "\n",
        "x <- 1:100000\n",
        "microbenchmark(sum_function = my_sum(x),\n",
        "               builtin_sum = sum(x),\n",
        "               unit = \"ms\")"
      ],
      "id": "9c4104df-73b5-436d-b3eb-154d9cfac32a"
    },
    {
      "cell_type": "markdown",
      "metadata": {},
      "source": [
        "This also simplifies our code to a single line. Looking back at our\n",
        "first example, we can also simplify our code. We did not need to loop\n",
        "through our data. Instead, we should use a vectorized approach that\n",
        "checks for pain improvement across all observations and then sum up the\n",
        "TRUE/FALSE values."
      ],
      "id": "b9c2eb11-f2f5-48e3-b0a1-85b52aba93df"
    },
    {
      "cell_type": "code",
      "execution_count": null,
      "metadata": {},
      "outputs": [
        {
          "output_type": "stream",
          "name": "stdout",
          "text": [
            "Unit: milliseconds\n",
            "                                                                                            expr\n",
            " {     vector_pain = sum(pain$PAIN_INTENSITY_AVERAGE <= pain$PAIN_INTENSITY_AVERAGE.FOLLOW_UP) }\n",
            "      min       lq       mean    median        uq     max neval\n",
            " 0.014432 0.014842 0.01680918 0.0165435 0.0174455 0.02952   100"
          ]
        }
      ],
      "source": [
        "microbenchmark({\n",
        "  vector_pain = sum(pain$PAIN_INTENSITY_AVERAGE <= \n",
        "                      pain$PAIN_INTENSITY_AVERAGE.FOLLOW_UP)\n",
        "}, unit = \"ms\")"
      ],
      "id": "d5990d7b-5ef5-404f-be46-fc401217df64"
    },
    {
      "cell_type": "markdown",
      "metadata": {},
      "source": [
        "This is much faster. Loops are notoriously slow in R so you often hear\n",
        "the advice to avoid loops. Using apply functions like `apply()` and\n",
        "`sapply()` are loop-hiding functions. Using these functions instead of\n",
        "an explicit loop doesn’t improve the efficiency of our code except that\n",
        "by using these functions we often simplify our code as a byproduct of\n",
        "rewriting our code.\n",
        "\n",
        "The true functions that can improve efficiency over loops are\n",
        "*vectorized* functions, which can be evaluated on a vector of values.\n",
        "Vectorizing our code means that we are thinking about a vector approach\n",
        "rather than computing something for each element of the vector and\n",
        "looping through these values. A vectorized function returns output that\n",
        "is the same dimensions as the input and operates on these elements in an\n",
        "efficient manner.\n",
        "\n",
        "The following code chunk shows a simple example of comparing taking the\n",
        "square root of each individual element or calling the `sqrt()` function,\n",
        "which is a vectorized function. Vectorized functions still have to\n",
        "operate on each element, but that loop is often written in C or Fortran\n",
        "rather than R making it significantly faster so this is a special case\n",
        "where we can utilize the speed of some functions."
      ],
      "id": "365ee6fb-bf9d-43ac-92f4-b847a1853e93"
    },
    {
      "cell_type": "code",
      "execution_count": null,
      "metadata": {},
      "outputs": [
        {
          "output_type": "stream",
          "name": "stdout",
          "text": [
            "Unit: milliseconds\n",
            "      expr      min       lq      mean   median        uq      max neval\n",
            " loop_sqrt 4.327304 4.356721 4.4452471 4.371625 4.4270980 7.343305   100\n",
            "      sqrt 0.099302 0.137104 0.1507607 0.149445 0.1597565 0.225418   100"
          ]
        }
      ],
      "source": [
        "microbenchmark(loop_sqrt = {\n",
        "  for (i in 1:length(x)){\n",
        "    x[i] <- sqrt(x[i])\n",
        "  }\n",
        "  }, sqrt = sqrt(x), unit = \"ms\")"
      ],
      "id": "956f08a5-63ac-4644-bc40-ccae8dac9f4e"
    },
    {
      "cell_type": "markdown",
      "metadata": {},
      "source": [
        "### Practice Question\n",
        "\n",
        "First, read the documentation of the function `tapply()`. This is\n",
        "another function in the apply function library that was not covered in\n",
        "**?@sec-control-flows**. Rewrite the following code without using a loop\n",
        "using the `tapply()` function. Would you expect this approach to be\n",
        "faster? Why or why not?"
      ],
      "id": "675e89b4-ba0b-44c4-b768-84629bfe8f4c"
    },
    {
      "cell_type": "code",
      "execution_count": null,
      "metadata": {},
      "outputs": [],
      "source": [
        "mean_pain <- c()\n",
        "pat_races <- unique(pain$PAT_RACE)\n",
        "\n",
        "for (r in pat_races){\n",
        "  mean_pain[r] <- mean(pain$PAIN_INTENSITY_AVERAGE[pain$PAT_RACE == r])\n",
        "}"
      ],
      "id": "d65ab8b1-727d-450b-a196-2e1592830c90"
    },
    {
      "cell_type": "markdown",
      "metadata": {},
      "source": [
        "## Avoid Copies and Duplicates\n",
        "\n",
        "Another aspect of our programs that can slow down our operations is any\n",
        "time we need to create a large object. Look at the following code.\n",
        "First, we create a matrix `m`. We then create a matrix `n` that is equal\n",
        "to `m`. Last, we update `n` by taking the logarithm of all elements plus\n",
        "one, differentiating it from `m`. R creates copies upon modification.\n",
        "That means, that when we initialize `n` we have not actually created a\n",
        "second matrix in memory. Instead, we have two names for the same matrix.\n",
        "On the third line, we want to update `n` so we need to actually create a\n",
        "second matrix that is different from `m`."
      ],
      "id": "6bcee3a0-a0e4-49a8-a241-6b4ed2cafd79"
    },
    {
      "cell_type": "code",
      "execution_count": null,
      "metadata": {},
      "outputs": [],
      "source": [
        "m <- matrix(rpois(100000, 6), ncol=1000)\n",
        "n <- m\n",
        "n <- log(n + 1)"
      ],
      "id": "26cd2e61-aedd-412d-b4d7-fcd4c6363d75"
    },
    {
      "cell_type": "markdown",
      "metadata": {},
      "source": [
        "This is different from the subsequent code which updates `m` itself. In\n",
        "this case, R can modify the matrix in place by going through each\n",
        "element and updating its value rather than creating a new matrix. As the\n",
        "size of our data grows, creating copies can be expensive. Imagine, `m`\n",
        "being a large genetic data set with RNA sequencing data. First, this\n",
        "object may take up a lot of memory so creating a copy may mean we could\n",
        "run out of memory. Second, copying over all this information is\n",
        "expensive."
      ],
      "id": "b98d3da3-d83b-431d-9344-244f1692212a"
    },
    {
      "cell_type": "code",
      "execution_count": null,
      "metadata": {},
      "outputs": [],
      "source": [
        "m <- log(m + 1)"
      ],
      "id": "7fa3601d-01f9-4f66-b3c1-eecad3df800e"
    },
    {
      "cell_type": "markdown",
      "metadata": {},
      "source": [
        "Let’s consider another case. In the following code, we have two\n",
        "functions that both find the proportion of people within 1, 2, and $>2$\n",
        "standard deviations from the mean for one of the PROMIS instrument\n",
        "variables. When we input `pain` as an argument to the first function, we\n",
        "do not create a copy of it since we haven’t modified the data frame.\n",
        "However, once we create a new column, this means that we have to copy\n",
        "the full data frame. The second function instead takes in a single\n",
        "column, requiring us to copy only this information. The difference in\n",
        "execution time shows an edge to the second method, but the difference is\n",
        "small. This indicates that actually computing this new column and\n",
        "finding the proportions takes more time than the duplication."
      ],
      "id": "03fef04d-3a45-48f7-89e8-14167e4d4d3a"
    },
    {
      "cell_type": "code",
      "execution_count": null,
      "metadata": {},
      "outputs": [
        {
          "output_type": "stream",
          "name": "stdout",
          "text": [
            "Unit: milliseconds\n",
            "                                        expr      min        lq      mean\n",
            "                          code_promis1(pain) 0.633778 0.6727895 0.7748459\n",
            " code_promis2(pain$PROMIS_PHYSICAL_FUNCTION) 0.605037 0.6491940 0.7533885\n",
            "    median        uq      max neval\n",
            " 0.7003005 0.7238550 3.543917   100\n",
            " 0.6730355 0.6934535 3.879297   100"
          ]
        }
      ],
      "source": [
        "code_promis1 <- function(df){\n",
        "  # create new column with categories\n",
        "  df$PAIN_PHYSICAL_FUNCTION_CUT <- case_when(\n",
        "    abs(df$PROMIS_PHYSICAL_FUNCTION-50) <= 10 ~ \"<= 1SD\",\n",
        "    abs(df$PROMIS_PHYSICAL_FUNCTION-50) <= 20 ~ \"<= 2 SD\",\n",
        "    TRUE ~ \"> 2SD\")\n",
        "  \n",
        "  # get proportions\n",
        "  res <- prop.table(table(df$PAIN_PHYSICAL_FUNCTION_CUT))\n",
        "  return(res)\n",
        "}\n",
        "\n",
        "code_promis2 <- function(v){\n",
        "  # create new column with categories\n",
        "  v <- case_when(\n",
        "    abs(v-50) <= 10 ~ \"<= 1SD\",\n",
        "    abs(v-50) <= 20 ~ \"<= 2 SD\",\n",
        "    TRUE ~ \"> 2SD\")\n",
        "  \n",
        "  # get proportions\n",
        "  res <- prop.table(table(v))\n",
        "  return(res)\n",
        "}\n",
        "\n",
        "microbenchmark(code_promis1(pain), \n",
        "               code_promis2(pain$PROMIS_PHYSICAL_FUNCTION), \n",
        "               unit = \"ms\")"
      ],
      "id": "fe24b7dd-2909-42ef-9083-7966546c32e3"
    },
    {
      "cell_type": "markdown",
      "metadata": {},
      "source": [
        "Another time when we create copies of objects is when we modify their\n",
        "size. Functions like `cbind()`, `rbind()`, and `c()` create a new object\n",
        "that needs to copy over information to create one vector, matrix, or\n",
        "data frame. If we know the size of the final vector, matrix, or data\n",
        "frame, we can pre-allocate that space and fill in values. This means\n",
        "that the computer won’t have to repeatedly find more space. For example,\n",
        "take a look at the two ways to simulate a random walk in one dimension\n",
        "in the following code chunk. In the first method, the length of the\n",
        "vector `v` changes on each iteration of the loop whereas in the second\n",
        "`v` always has length `n`."
      ],
      "id": "4c15327b-d200-4411-af8c-16aff35bf858"
    },
    {
      "cell_type": "code",
      "execution_count": null,
      "metadata": {},
      "outputs": [
        {
          "output_type": "stream",
          "name": "stdout",
          "text": [
            "Unit: milliseconds\n",
            "       expr      min       lq    mean   median       uq      max neval\n",
            " rw1(10000) 5.048617 5.170613 5.53587 5.250706 5.407552 9.964763   100\n",
            " rw2(10000) 4.223861 4.269535 4.46971 4.306435 4.368714 6.133600   100"
          ]
        }
      ],
      "source": [
        "rw1 <- function(n){\n",
        "  v <- c(0)\n",
        "  for (i in 2:n){\n",
        "    v[i] <- v[i-1] + rbinom(1, 1, 0.5)\n",
        "  }\n",
        "  return(v)\n",
        "}\n",
        "\n",
        "rw2 <- function(n){\n",
        "  v <- rep(0, n)\n",
        "  for (i in 2:n){\n",
        "    v[i] <- v[i-1] + rbinom(1, 1, 0.5)\n",
        "  }\n",
        "}\n",
        "\n",
        "microbenchmark(rw1(10000), rw2(10000), unit=\"ms\")"
      ],
      "id": "c5e221f5-8f7d-4236-a9cf-7f4c5306bde4"
    },
    {
      "cell_type": "markdown",
      "metadata": {},
      "source": [
        "This also works for data frames or matrices. In the following code\n",
        "chunk, we generate a random matrix in three ways. The first creates the\n",
        "matrix with a single line, the second initializes an empty matrix and\n",
        "then fills in each row, and the last dynamically updates the size of the\n",
        "matrix on each iteration."
      ],
      "id": "b1020be2-9e15-4dd5-9543-6031988a54d3"
    },
    {
      "cell_type": "code",
      "execution_count": null,
      "metadata": {},
      "outputs": [
        {
          "output_type": "stream",
          "name": "stdout",
          "text": [
            "Unit: milliseconds\n",
            "             expr      min        lq      mean    median       uq      max\n",
            " random_mat1(100) 0.230543 0.2364470 0.2498938 0.2392145 0.241121 1.282357\n",
            " random_mat2(100) 0.481873 0.5007125 0.5239948 0.5046075 0.509835 2.236755\n",
            " random_mat3(100) 1.044106 1.1417270 1.3324980 1.1619195 1.180738 4.766004\n",
            " neval\n",
            "   100\n",
            "   100\n",
            "   100"
          ]
        }
      ],
      "source": [
        "random_mat1 <- function(n){\n",
        "  m <- matrix(sample(1:3, n^2, replace = TRUE), nrow = n)\n",
        "  return(m)\n",
        "}\n",
        "\n",
        "random_mat2 <- function(n){\n",
        "  m <- matrix(nrow = n, ncol = n)\n",
        "  for (i in 1:n){\n",
        "    m[i,] <- sample(1:3, n, replace = TRUE)\n",
        "  }\n",
        "}\n",
        "\n",
        "random_mat3 <- function(n){\n",
        "  m <- NULL\n",
        "  for (i in 1:n){\n",
        "    m <- rbind(m, sample(1:3, n, replace = TRUE))\n",
        "  }\n",
        "  return(m)\n",
        "}\n",
        "\n",
        "microbenchmark(random_mat1(100),\n",
        "               random_mat2(100),\n",
        "               random_mat3(100),\n",
        "               unit = \"ms\")"
      ],
      "id": "2070bcb3-a60d-414a-b547-ec89ca55ceb7"
    },
    {
      "cell_type": "markdown",
      "metadata": {},
      "source": [
        "This demonstrates that if you need to update the values of a vector,\n",
        "matrix, or data frame, try to do as much reassignment at once. For\n",
        "example, changing the a whole column at a time is better than changing\n",
        "the individual values. This avoids additional copies.\n",
        "\n",
        "### Practice Question\n",
        "\n",
        "The following code fits a linear model for each racial group and records\n",
        "the coefficient. Rewrite this code so that we pre-allocate the results\n",
        "vector and use the **microbenchmark** to compare the efficiency between\n",
        "the two approaches."
      ],
      "id": "35ae0e6f-08e3-4546-8393-f185b240bd77"
    },
    {
      "cell_type": "code",
      "execution_count": null,
      "metadata": {},
      "outputs": [],
      "source": [
        "coefs <- c()\n",
        "pat_races <- unique(pain$PAT_RACE)\n",
        "for (r in pat_races){\n",
        "  df <- pain[pain$PAT_RACE == r, ]\n",
        "  if (nrow(df) > 3){\n",
        "    new_coef <- lm(PROMIS_DEPRESSION ~ PROMIS_ANXIETY,\n",
        "                 data = df)$coefficients[2]\n",
        "    coefs <- c(coefs, new_coef)\n",
        "  }\n",
        "}"
      ],
      "id": "8360e8c8-9174-4ce3-9a78-1e71f8ed0a28"
    },
    {
      "cell_type": "markdown",
      "metadata": {},
      "source": [
        "## Parallel Programming\n",
        "\n",
        "Another approach to make our code more efficient is using parallel\n",
        "processing. When we run loops in R, only one iteration is run at a time.\n",
        "For example, the following code runs a random walk 100 times in serial.\n",
        "Parallel processing allows us to execute multiple calls to this function\n",
        "at the same time. This is done by running these processes on separate\n",
        "cores, or processors, on your machine. For example, if we had six cores\n",
        "available we would be able to run 1/6 of the replications on each\n",
        "processor and reduce our overall computation time. The **parallel**\n",
        "package \\[@R-parallel\\] contains functions to implement parallel\n",
        "processing on different operating systems. Unfortunately, this\n",
        "functionality is often not supported within RStudio and is not covered\n",
        "in this book. We recommend using the `mclapply()` function from the\n",
        "**parallel** package to implement parallel processing using forking.\n",
        "This does not work on Windows but is much simpler to implement. For\n",
        "parallel processing on Windows, we recommend looking into the socket\n",
        "approach using the `parLapply()` function in the **parallel** package."
      ],
      "id": "4f866707-2662-477b-8978-d9f869a90eb2"
    },
    {
      "cell_type": "code",
      "execution_count": null,
      "metadata": {},
      "outputs": [],
      "source": [
        "replicate(100, rw1(1000))"
      ],
      "id": "25de1de5-83e2-44f0-a478-3a330771e109"
    },
    {
      "cell_type": "markdown",
      "metadata": {},
      "source": [
        "## Exercises\n",
        "\n",
        "1.  The following code chunk includes four attempts to create a new\n",
        "    column `LOWER_BACK` to the pain data. Note that the second and third\n",
        "    attempt are vectorized whereas the first and fourth are not. Time\n",
        "    each approach and order them from fastest to slowest.\n",
        "\n",
        "    ``` r\n",
        "    # Attempt 1: loop\n",
        "    pain$LOWER_BACK <- vector(mode=\"logical\", length=nrow(pain))\n",
        "    for (i in 1:nrow(pain)) { # for every row\n",
        "      if ((pain$X218[i] == 1) | (pain$X219[i] == 1)) { \n",
        "        pain$LOWER_BACK[i] <- TRUE \n",
        "      } else {\n",
        "        pain$LOWER_BACK[i] <- FALSE\n",
        "      }\n",
        "    }\n",
        "\n",
        "    # Attempt 2: logic\n",
        "    pain$LOWER_BACK <- ((pain$X218[i] == 1) | \n",
        "                          (pain$X219[i] == 1))\n",
        "\n",
        "    # Attempt 3: which\n",
        "    pain$LOWER_BACK <- FALSE\n",
        "    true_ind <- which((pain$X218[i] == 1) | (pain$X219[i] == 1))\n",
        "    pain$LOWER_BACK[true_ind] <- TRUE\n",
        "\n",
        "    # Attempt 4: apply\n",
        "    back_pain <- function(x){\n",
        "      if((x['X218'] == 1) | (x['X219'] == 1)){\n",
        "        return(TRUE)\n",
        "        } \n",
        "      return(FALSE)\n",
        "    }\n",
        "    pain$BACK_PAIN <- apply(pain, 1, back_pain)\n",
        "    ```\n",
        "\n",
        "2.  Examine the following code and determine what is being computed.\n",
        "    Then, rewrite the code to make it more efficient. Use the\n",
        "    **microbenchmark** package to compare the execution time, and\n",
        "    explain why your approach is more efficient.\n",
        "\n",
        "    ``` r\n",
        "    n <- 100000\n",
        "    x1 <- rnorm(n, 10, 1)\n",
        "    x2 <- rbinom(n, 1, 0.2)\n",
        "    y <- numeric(0)\n",
        "\n",
        "    for (i in 1:n){\n",
        "      if (x2[i] == 1){\n",
        "        y[i] <- rnorm(1,2 *x1[i], 0.7)\n",
        "      } else{\n",
        "        y[i] <- rnorm(1, 1+3*x1[i], 0.2)\n",
        "      }\n",
        "    }\n",
        "    df <- data.frame(x1 = x1, x2 = x2, y = y)\n",
        "    ```\n",
        "\n",
        "3.  Suppose we want to find the five most frequently reported pain\n",
        "    regions by racial group. Code your solution (a) using at least one\n",
        "    loop and (b) pivoting the data on the body region columns and then\n",
        "    using **dplyr** functions to summarize. Compare the efficiency of\n",
        "    both approaches."
      ],
      "id": "10d0f777-0429-410e-af56-edbaae648f94"
    }
  ],
  "nbformat": 4,
  "nbformat_minor": 5,
  "metadata": {
    "kernelspec": {
      "display_name": "Python 3",
      "language": "python",
      "name": "python3"
    }
  }
}