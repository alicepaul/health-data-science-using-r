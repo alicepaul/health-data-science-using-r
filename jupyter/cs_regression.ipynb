{
  "cells": [
    {
      "cell_type": "markdown",
      "metadata": {},
      "source": [
        "# Case Study: Regression {#sec-cs-regression}\n",
        "\n",
        "For this chapter, we will use the `tb_diagnosis` dataset seen in [Chapter -@sec-cs-preprocessing] from the **HDSinRdata** package. This data contains information on 1,762 patients in rural South Africa and urban Uganda who presented at a health clinic with tuberculosis-related symptoms and who were tested for tuberculosis (TB) using Xpert MTB/RIF [@baik2020clinical]. Our goal will be to conduct a similar regression analysis to @baik2020clinical and use this data to derive a risk model for screening patients for treatment while awaiting Xpert results. Unlike @baik2020clinical, we will not restrict ourselves to simple integer risk score models. "
      ]
    },
    {
      "cell_type": "code",
      "metadata": {
        "results": "hide",
        "message": false
      },
      "source": [
        "#| warning: false\n",
        "\n",
        "library(tidyverse)\n",
        "library(HDSinRdata)\n",
        "library(gt)\n",
        "library(gtsummary)\n",
        "library(glmnet)\n",
        "library(pROC)"
      ],
      "execution_count": null,
      "outputs": []
    },
    {
      "cell_type": "markdown",
      "metadata": {},
      "source": [
        "Similar to @baik2020clinical, we use the data from rural South Africa to derive our risk model and will use the data from urban Uganda as a withheld validation set. Further, we divide the data from South Africa into a training and test set using a 70/30 split. "
      ]
    },
    {
      "cell_type": "code",
      "metadata": {},
      "source": [
        "# data from package\n",
        "data(tb_diagnosis)\n",
        "\n",
        "# training data\n",
        "tb_southafrica <- tb_diagnosis %>%\n",
        "  filter(country == \"South Africa\") %>%\n",
        "  select(-country) %>%\n",
        "  na.omit()\n",
        "\n",
        "# validation data\n",
        "tb_uganda <- tb_diagnosis %>%\n",
        "  filter(country == \"Uganda\") %>%\n",
        "  select(-country) %>%\n",
        "  na.omit()\n",
        "\n",
        "# train/test split\n",
        "train_index <- sample(1:nrow(tb_southafrica), \n",
        "                      0.70*nrow(tb_southafrica), replace = FALSE)\n",
        "\n",
        "tb_train <- tb_southafrica[train_index,]\n",
        "tb_test <- tb_southafrica[-train_index,]"
      ],
      "execution_count": null,
      "outputs": []
    },
    {
      "cell_type": "markdown",
      "metadata": {},
      "source": [
        "The table below shows our data stratified by TB diagnosis. We observe that our data is well balanced between the two groups and that we see key differences in the distributions of our observed clinical and demographic variables. For example, those whose blood results confirmed TB generally had more observed symptoms and were more likely to have had symptoms for over two weeks. "
      ]
    },
    {
      "cell_type": "code",
      "metadata": {},
      "source": [
        "tbl_summary(tb_southafrica, by = c(tb),\n",
        "            label = list(age_group ~ \"Age\",\n",
        "                          hiv_pos ~ \"HIV Positive\",\n",
        "                          diabetes ~ \"Diabetes\",\n",
        "                          ever_smoke ~ \"Ever Smoked\",\n",
        "                          past_tb ~ \"Past TB Diagnosis\",\n",
        "                          male ~ \"Male\",\n",
        "                          hs_less ~ \"< HS Education\",\n",
        "                          two_weeks_symp ~ \"Symptoms for Two Weeks\",\n",
        "                          num_symptoms ~ \"Number of TB Symptoms\")) %>%\n",
        "  modify_spanning_header(c(\"stat_1\", \"stat_2\") ~ \n",
        "                           \"**TB Diagnosis**\") %>%\n",
        "  as_gt()"
      ],
      "execution_count": null,
      "outputs": []
    },
    {
      "cell_type": "markdown",
      "metadata": {},
      "source": [
        "## Model Selection\n",
        "\n",
        "Our goal is to predict TB diagnosis. We will compare two risk models: a logistic regression model and a lasso logistic regression model. For both of these models, we will fit our model on the training data. For the lasso model, we use 5-fold cross-validation to choose the penalty parameter. We show a table with the estimated exponentiated coefficients below. "
      ]
    },
    {
      "cell_type": "code",
      "metadata": {},
      "source": [
        "# fit logistic model \n",
        "mod_logistic <- glm(tb ~ ., data = tb_train, family = binomial)\n",
        "\n",
        "# fit lasso model with CV\n",
        "X_train <- model.matrix(tb~., data = tb_train)[,-1]\n",
        "y_train <- tb_train[,1]\n",
        "mod_lasso_cv <- cv.glmnet(X_train, y_train, alpha = 1, \n",
        "                       family = \"binomial\", nfolds = 5)\n",
        "\n",
        "# refit for given lambda\n",
        "mod_lasso <- glmnet(X_train, y_train, alpha = 1, family = \"binomial\",\n",
        "                    lambda = mod_lasso_cv$lambda.min)\n",
        "\n",
        "# create data frame\n",
        "coef_df <- data.frame(Logistic = signif(exp(coef(mod_logistic)),3),\n",
        "                      Lasso = \n",
        "                        signif(exp(as.numeric(coef(mod_lasso))), 3))\n",
        "coef_df"
      ],
      "execution_count": null,
      "outputs": []
    },
    {
      "cell_type": "markdown",
      "metadata": {},
      "source": [
        "We then evaluate our models on the withheld test set using an ROC curve. The ROC curve shows similar discrimination for both models. Therefore, we choose the lasso model for its potential sparsity.   "
      ]
    },
    {
      "cell_type": "code",
      "metadata": {},
      "source": [
        "par(mfrow = c(1,2))\n",
        "\n",
        "# logistic regression model ROC\n",
        "pred_test_logistic <- predict(mod_logistic, tb_test, \n",
        "                              type = \"response\")\n",
        "roc_test_logistic <- roc(predictor = pred_test_logistic,\n",
        "                     response = tb_test$tb,\n",
        "                     levels = c(0,1), direction = \"<\")\n",
        "\n",
        "plot(roc_test_logistic, print.auc = TRUE)\n",
        "\n",
        "\n",
        "# lasso model ROC\n",
        "X_test <- model.matrix(tb~., data = tb_test)[,-1]\n",
        "pred_test_lasso <- as.numeric(predict(mod_lasso, newx = X_test, \n",
        "                                 type = \"response\"))\n",
        "roc_test_lasso <- roc(predictor = pred_test_lasso,\n",
        "                     response = tb_test$tb,\n",
        "                     levels = c(0,1), direction = \"<\")\n",
        "\n",
        "plot(roc_test_lasso, print.auc = TRUE)"
      ],
      "execution_count": null,
      "outputs": []
    },
    {
      "cell_type": "markdown",
      "metadata": {},
      "source": [
        "We refit the lasso model on the full data from South Africa and present the updated model below."
      ]
    },
    {
      "cell_type": "code",
      "metadata": {},
      "source": [
        "# fit lasso model with CV\n",
        "X_train_full <- model.matrix(tb~., data = tb_southafrica)[,-1]\n",
        "y_train_full <- tb_southafrica[,1]\n",
        "mod_cv_full <- cv.glmnet(X_train_full, y_train_full, alpha = 1, \n",
        "                       family = \"binomial\", nfolds = 5)\n",
        "\n",
        "# refit for given lambda\n",
        "mod_full <- glmnet(X_train_full, y_train_full, alpha = 1, \n",
        "                   family = \"binomial\", \n",
        "                   lambda = mod_cv_full$lambda.min)\n",
        "\n",
        "# create data frame\n",
        "coef_df <- data.frame(\n",
        "  Variable = c(\"Intercept\", colnames(X_train_full)),\n",
        "  Lasso = signif(exp(as.numeric(coef(mod_full))),3))\n",
        "coef_df"
      ],
      "execution_count": null,
      "outputs": []
    },
    {
      "cell_type": "markdown",
      "metadata": {},
      "source": [
        "## Evaluate Model on Validation Data\n",
        "\n",
        "We then evaluate the lasso model on the withheld validation data. This data comes from clinics in urban Uganda and contains only 387 observations. The table below shows that this population differs from our training population including having a lower proportion of patients diagnosed with TB. "
      ]
    },
    {
      "cell_type": "code",
      "metadata": {},
      "source": [
        "tbl_summary(tb_diagnosis, by = c(country),\n",
        "            label = list(tb ~ \"TB Diagnosis\",\n",
        "                         age_group ~ \"Age\",\n",
        "                         hiv_pos ~ \"HIV Positive\",\n",
        "                         diabetes ~ \"Diabetes\",\n",
        "                         ever_smoke ~ \"Ever Smoked\",\n",
        "                         past_tb ~ \"Past TB Diagnosis\",\n",
        "                         male ~ \"Male\",\n",
        "                         hs_less ~ \"< HS Education\",\n",
        "                         two_weeks_symp ~ \"Symptoms for Two Weeks\",\n",
        "                         num_symptoms ~ \"Number of TB Symptoms\")) %>%\n",
        "  modify_spanning_header(c(\"stat_1\", \"stat_2\") ~ \"**Country**\") %>%\n",
        "  as_gt()"
      ],
      "execution_count": null,
      "outputs": []
    },
    {
      "cell_type": "markdown",
      "metadata": {},
      "source": [
        "The ROC curve below shows that the AUC on the validation data is lower than on the training data but still shows decent discrimination. "
      ]
    },
    {
      "cell_type": "code",
      "metadata": {},
      "source": [
        "# lasso validation roc\n",
        "X_val <- model.matrix(tb~., data = tb_uganda)[,-1]\n",
        "pred_val <- as.numeric(predict(mod_full, newx = X_val, \n",
        "                                      type = \"response\"))\n",
        "roc_val_lasso <- roc(predictor = pred_val,\n",
        "                     response = tb_uganda$tb,\n",
        "                     levels = c(0,1), direction = \"<\")\n",
        "\n",
        "plot(roc_val_lasso, print.auc = TRUE)"
      ],
      "execution_count": null,
      "outputs": []
    },
    {
      "cell_type": "markdown",
      "metadata": {},
      "source": [
        "---\n",
        "jupyter: ir\n",
        "---"
      ]
    }
  ],
  "metadata": {
    "kernelspec": {
      "name": "ir",
      "language": "R",
      "display_name": "R",
      "path": "/Users/alice/Library/Jupyter/kernels/ir"
    }
  },
  "nbformat": 4,
  "nbformat_minor": 4
}