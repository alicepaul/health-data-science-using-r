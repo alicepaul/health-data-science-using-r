{
  "cells": [
    {
      "cell_type": "markdown",
      "metadata": {},
      "source": [
        "# References {.unnumbered}\n",
        "\n",
      ]
    },
    {
      "cell_type": "markdown",
      "metadata": {},
      "source": [
        "---\n",
        "jupyter: ir\n",
        "---"
      ]
    }
  ],
  "metadata": {
    "kernelspec": {
      "name": "ir",
      "language": "R",
      "display_name": "R",
      "path": "/Users/alice/Library/Jupyter/kernels/ir"
    }
  },
  "nbformat": 4,
  "nbformat_minor": 4
}