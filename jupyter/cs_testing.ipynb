{
  "cells": [
    {
      "cell_type": "markdown",
      "metadata": {},
      "source": [
        "# Case Study: Hypothesis Testing {#sec-cs-testing}\n",
        "\n",
        "For this chapter, we use the `NHANESsample` dataset seen in [Chapter -@sec-exploratory]. The sample contains lead, blood pressure, BMI, smoking status, alcohol use, and demographic variables from NHANES 1999-2018. Variable selection and feature engineering were conducted to replicate the preprocessing conducted by @huang2022association. We further replicate the regression analysis by @huang2022association in [Chapter -@sec-linear-regression]. Use the help operator `?NHANESsample` to read the variable descriptions. Note that we ignore survey weights for this analysis."
      ]
    },
    {
      "cell_type": "code",
      "metadata": {
        "results": "hide",
        "message": false
      },
      "source": [
        "#| warning: false\n",
        "\n",
        "library(HDSinRdata)\n",
        "library(tidyverse)\n",
        "library(gt)\n",
        "library(gtsummary)\n",
        "\n",
        "data(\"NHANESsample\")"
      ],
      "execution_count": null,
      "outputs": []
    },
    {
      "cell_type": "markdown",
      "metadata": {},
      "source": [
        "Our analysis focuses on using hypothesis testing to look at the association between hypertension and blood lead levels by sex. We first select some demographic and clinical variables that we believe may be relevant, including age, sex, race, body mass index, and smoking status. We do a complete case analysis and drop any observations with missing data. "
      ]
    },
    {
      "cell_type": "code",
      "metadata": {},
      "source": [
        "NHANESsample <- NHANESsample %>%\n",
        "  select(\"AGE\", \"SEX\", \"RACE\", \"SMOKE\", \"LEAD\", \"BMI_CAT\", \n",
        "         \"HYP\", \"ALC\") %>%\n",
        "  na.omit()"
      ],
      "execution_count": null,
      "outputs": []
    },
    {
      "cell_type": "markdown",
      "metadata": {},
      "source": [
        "We begin with a summary table stratified by hypertension status. As expected, we see statistically significant differences between the two groups across all included variables. We also observe higher blood lead levels and a higher proportion of male participants for those with hypertension."
      ]
    },
    {
      "cell_type": "code",
      "metadata": {},
      "source": [
        "tbl_summary(NHANESsample, by = c(\"HYP\"),\n",
        "            label = list(SMOKE ~ \"SMOKING STATUS\",\n",
        "                         BMI_CAT ~ \"BMI\",\n",
        "                         ALC ~ \"ALCOHOL USE\")) %>%\n",
        "  add_p() %>%\n",
        "  add_overall() %>%\n",
        "  modify_spanning_header(c(\"stat_1\", \"stat_2\") ~ \n",
        "                           \"**Hypertension Status**\") %>%\n",
        "  as_gt()"
      ],
      "execution_count": null,
      "outputs": []
    },
    {
      "cell_type": "markdown",
      "metadata": {},
      "source": [
        "We also plot the distribution of blood lead levels (on a log scale) by sex and hypertension status. We can visually see that male observations tend to have higher blood lead levels and that having hypertension is associated with higher blood lead levels. "
      ]
    },
    {
      "cell_type": "code",
      "metadata": {},
      "source": [
        "ggplot(NHANESsample) +\n",
        "  geom_boxplot(aes(x=LEAD,\n",
        "                   y = interaction(HYP,SEX),\n",
        "                   color = interaction(HYP,SEX))) +\n",
        "  scale_x_continuous(trans = \"log\", breaks = c(0.1, 1, 10, 50)) +\n",
        "  scale_y_discrete(labels = c(\"Male : 0\", \"Male : 1\",\n",
        "                              \"Female : 0\", \"Female : 1\")) +\n",
        "  guides(color = \"none\") +\n",
        "  labs(x=\"Blood Lead Level\",\n",
        "       y = \"Sex : Hypertension Status\")"
      ],
      "execution_count": null,
      "outputs": []
    },
    {
      "cell_type": "markdown",
      "metadata": {},
      "source": [
        "In [Chapter -@sec-probability-distributions], we explored that log blood lead levels could be approximated by a normal distribution. To test our hypothesis that there is a difference in mean log blood lead level between those with and without hypertension, we use a two-sample unpaired t-test. This shows a statistically significant difference between the two groups at the 0.05 level.  "
      ]
    },
    {
      "cell_type": "code",
      "metadata": {},
      "source": [
        "t.test(log(LEAD) ~ HYP, data = NHANESsample)"
      ],
      "execution_count": null,
      "outputs": []
    },
    {
      "cell_type": "markdown",
      "metadata": {},
      "source": [
        "Finally, we repeat this test for a stratified analysis and present the results in a concise table. For both groups, we find a statistically significant difference at the 0.05 level. "
      ]
    },
    {
      "cell_type": "code",
      "metadata": {},
      "source": [
        "# stratify the data\n",
        "nhanes_male <- NHANESsample[NHANESsample$SEX == \"Male\",]\n",
        "nhanes_female <- NHANESsample[NHANESsample$SEX == \"Female\",]\n",
        "\n",
        "# t-test for each\n",
        "test_male <- t.test(log(LEAD) ~ HYP, data = nhanes_male)\n",
        "test_female <- t.test(log(LEAD) ~ HYP, data = nhanes_female)\n",
        "\n",
        "# create data frame\n",
        "res_df <- data.frame(group = c(\"Male\", \"Female\"),\n",
        "                     statistic = signif(c(test_male$statistic,\n",
        "                                          test_female$statistic), 3),\n",
        "                     p.value = signif(c(test_male$p.value,\n",
        "                                          test_female$p.value), 3))\n",
        "res_df"
      ],
      "execution_count": null,
      "outputs": []
    },
    {
      "cell_type": "markdown",
      "metadata": {},
      "source": [
        "In [Chapter -@sec-linear-regression], we use linear regression to further explore the association between blood lead level and hypertension adjusting for other potential confounders. "
      ]
    },
    {
      "cell_type": "markdown",
      "metadata": {},
      "source": [
        "---\n",
        "jupyter: ir\n",
        "---"
      ]
    }
  ],
  "metadata": {
    "kernelspec": {
      "name": "ir",
      "language": "R",
      "display_name": "R",
      "path": "/Users/alice/Library/Jupyter/kernels/ir"
    }
  },
  "nbformat": 4,
  "nbformat_minor": 4
}