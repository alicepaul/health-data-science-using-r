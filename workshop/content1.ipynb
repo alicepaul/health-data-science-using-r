{
 "cells": [
  {
   "cell_type": "markdown",
   "id": "d99cccd2",
   "metadata": {},
   "source": [
    "# Day 1\n",
    "\n",
    "Today, we will introduce RStudio and jupyter notebooks, the basic data structures in R (lists, data frames, matrices, vectors) and how each is used, and then a start on exploratory analysis such as looking at the distribution of a single column or finding the percentage of missing values for all columns. To start, we need to check that the following libraries are installed and loaded. "
   ]
  },
  {
   "cell_type": "code",
   "execution_count": 1,
   "id": "2ff93d2f",
   "metadata": {},
   "outputs": [
    {
     "name": "stderr",
     "output_type": "stream",
     "text": [
      "── \u001b[1mAttaching core tidyverse packages\u001b[22m ──────────────────────── tidyverse 2.0.0 ──\n",
      "\u001b[32m✔\u001b[39m \u001b[34mdplyr    \u001b[39m 1.1.2     \u001b[32m✔\u001b[39m \u001b[34mreadr    \u001b[39m 2.1.4\n",
      "\u001b[32m✔\u001b[39m \u001b[34mforcats  \u001b[39m 1.0.0     \u001b[32m✔\u001b[39m \u001b[34mstringr  \u001b[39m 1.5.0\n",
      "\u001b[32m✔\u001b[39m \u001b[34mggplot2  \u001b[39m 3.4.2     \u001b[32m✔\u001b[39m \u001b[34mtibble   \u001b[39m 3.2.1\n",
      "\u001b[32m✔\u001b[39m \u001b[34mlubridate\u001b[39m 1.9.2     \u001b[32m✔\u001b[39m \u001b[34mtidyr    \u001b[39m 1.3.0\n",
      "\u001b[32m✔\u001b[39m \u001b[34mpurrr    \u001b[39m 1.0.1     \n",
      "── \u001b[1mConflicts\u001b[22m ────────────────────────────────────────── tidyverse_conflicts() ──\n",
      "\u001b[31m✖\u001b[39m \u001b[34mdplyr\u001b[39m::\u001b[32mfilter()\u001b[39m masks \u001b[34mstats\u001b[39m::filter()\n",
      "\u001b[31m✖\u001b[39m \u001b[34mdplyr\u001b[39m::\u001b[32mlag()\u001b[39m    masks \u001b[34mstats\u001b[39m::lag()\n",
      "\u001b[36mℹ\u001b[39m Use the conflicted package (\u001b[3m\u001b[34m<http://conflicted.r-lib.org/>\u001b[39m\u001b[23m) to force all conflicts to become errors\n"
     ]
    }
   ],
   "source": [
    "library(RforHDSdata)\n",
    "library(tidyverse)"
   ]
  },
  {
   "cell_type": "markdown",
   "id": "9445e57e",
   "metadata": {},
   "source": [
    "## Basic Computations\n",
    "\n",
    "Let's start with some basic calculations using the operators below:\n",
    "\n",
    "* Addition: `5+6`  \n",
    "* Subtraction: `7-2`  \n",
    "* Multiplication: `2*3`  \n",
    "* Division: `6/3`  \n",
    "* Exponentiation: `4^2`  \n",
    "* Modulo: `100 %% 4`\n",
    "\n",
    "For example, use the modulo operator to find what 100 mod 4 is. It should return 0 since 100 is divisible by 4."
   ]
  },
  {
   "cell_type": "code",
   "execution_count": 2,
   "id": "ad68006c",
   "metadata": {},
   "outputs": [
    {
     "data": {
      "text/html": [
       "0"
      ],
      "text/latex": [
       "0"
      ],
      "text/markdown": [
       "0"
      ],
      "text/plain": [
       "[1] 0"
      ]
     },
     "metadata": {},
     "output_type": "display_data"
    }
   ],
   "source": [
    "100 %% 4"
   ]
  },
  {
   "cell_type": "markdown",
   "id": "bad818b8",
   "metadata": {},
   "source": [
    "If we want to save the result of any computation, we need to create an object to store our value of interest. An **object** is simply a named data structure that allows us to reference that data structure. Objects are also commonly called **variables**. In the code below, we create an object `x` which stores the value `5` using the assignment operator `<-`. The assignment operator assigns whatever is on the right hand side of the operator to the name on the left hand side. We can now reference `x` by calling its name. Additionally, we can update its value by adding 1. In the second line of code, the computer first finds the value of the right hand side by finding the current value of `x` before adding 1 and assigning it back to `x`."
   ]
  },
  {
   "cell_type": "code",
   "execution_count": 3,
   "id": "8f4f22b2",
   "metadata": {},
   "outputs": [
    {
     "data": {
      "text/html": [
       "6"
      ],
      "text/latex": [
       "6"
      ],
      "text/markdown": [
       "6"
      ],
      "text/plain": [
       "[1] 6"
      ]
     },
     "metadata": {},
     "output_type": "display_data"
    }
   ],
   "source": [
    "x <- 2+3\n",
    "x <- x+1\n",
    "x"
   ]
  },
  {
   "cell_type": "markdown",
   "id": "ae983a3a",
   "metadata": {},
   "source": [
    "We can create and store multiple objects by using different names. The code below creates a new object `y` that is one more than the value of `x`. We can see that the value of `x` is still `5` after running this code."
   ]
  },
  {
   "cell_type": "code",
   "execution_count": 4,
   "id": "7bc8ab12",
   "metadata": {},
   "outputs": [
    {
     "data": {
      "text/html": [
       "5"
      ],
      "text/latex": [
       "5"
      ],
      "text/markdown": [
       "5"
      ],
      "text/plain": [
       "[1] 5"
      ]
     },
     "metadata": {},
     "output_type": "display_data"
    }
   ],
   "source": [
    "x <- 2+3\n",
    "y <- x\n",
    "y <- y + 1\n",
    "x"
   ]
  },
  {
   "cell_type": "markdown",
   "id": "60b08a85",
   "metadata": {},
   "source": [
    "## Data Structures\n",
    "\n",
    "Data structures are how information is stored in R, and the data structures that we use inform R how to interpret our code. Any **object** is a named instance of a data structure. For example, the object `ex_num` below is a vector of numeric type. "
   ]
  },
  {
   "cell_type": "code",
   "execution_count": 5,
   "id": "1bd93e5a",
   "metadata": {},
   "outputs": [],
   "source": [
    "ex_num <- 4"
   ]
  },
  {
   "cell_type": "markdown",
   "id": "6481bd22",
   "metadata": {},
   "source": [
    "The main data structures in R are **vectors**, **factors**, **matrices**, **arrays**, **lists**, and **data frames**. These structures are distinguished by their dimensions and by the type of data they store. For example, we might have a 1-dimensional vector that contains all numeric values, or we could have a 2-dimensional data frame with rows and columns where we might have one numeric column and one character column. "
   ]
  },
  {
   "cell_type": "markdown",
   "id": "abb77565",
   "metadata": {},
   "source": [
    "## Data Types\n",
    "\n",
    "Each individual value in R has a type: logical, integer, double, or character. We can think of these as the building blocks of all data structures. Below, we can use the `typeof` function to find the type of our vector from above, which shows that the value of `ex_num` is a **double**. A double is a numeric value with a stored decimal."
   ]
  },
  {
   "cell_type": "code",
   "execution_count": 6,
   "id": "4235b123",
   "metadata": {},
   "outputs": [
    {
     "data": {
      "text/html": [
       "'double'"
      ],
      "text/latex": [
       "'double'"
      ],
      "text/markdown": [
       "'double'"
      ],
      "text/plain": [
       "[1] \"double\""
      ]
     },
     "metadata": {},
     "output_type": "display_data"
    }
   ],
   "source": [
    "typeof(ex_num)"
   ]
  },
  {
   "cell_type": "markdown",
   "id": "f66b3a5a",
   "metadata": {},
   "source": [
    "We can also work with two other types of objects: characters (e.g. \"php\", \"stats\") and booleans (e.g. TRUE, FALSE), also known as logicals. "
   ]
  },
  {
   "cell_type": "code",
   "execution_count": 7,
   "id": "89d36849",
   "metadata": {},
   "outputs": [
    {
     "data": {
      "text/html": [
       "'logical'"
      ],
      "text/latex": [
       "'logical'"
      ],
      "text/markdown": [
       "'logical'"
      ],
      "text/plain": [
       "[1] \"logical\""
      ]
     },
     "metadata": {},
     "output_type": "display_data"
    },
    {
     "data": {
      "text/html": [
       "'character'"
      ],
      "text/latex": [
       "'character'"
      ],
      "text/markdown": [
       "'character'"
      ],
      "text/plain": [
       "[1] \"character\""
      ]
     },
     "metadata": {},
     "output_type": "display_data"
    }
   ],
   "source": [
    "ex_bool <- TRUE\n",
    "ex_char <- \"Alice\"\n",
    "\n",
    "typeof(ex_bool)\n",
    "typeof(ex_char)"
   ]
  },
  {
   "cell_type": "markdown",
   "id": "fe7d8c2a",
   "metadata": {},
   "source": [
    "One important characteristic of logical objects is that R will also interpret them as 0/1. This means they can be added as in the example below: each `TRUE` has a value of 1 and each `FALSE` has a value of 0."
   ]
  },
  {
   "cell_type": "code",
   "execution_count": 8,
   "id": "055b0de5",
   "metadata": {},
   "outputs": [
    {
     "data": {
      "text/html": [
       "2"
      ],
      "text/latex": [
       "2"
      ],
      "text/markdown": [
       "2"
      ],
      "text/plain": [
       "[1] 2"
      ]
     },
     "metadata": {},
     "output_type": "display_data"
    }
   ],
   "source": [
    "TRUE+FALSE+TRUE"
   ]
  },
  {
   "cell_type": "markdown",
   "id": "cc81f2b4",
   "metadata": {},
   "source": [
    "To create all of the above objects, we used the assignment operator `<-`. You may see code elsewhere that uses an `=` instead. While `=` can also be used for assignment, it is more standard practice to use `<-`. "
   ]
  },
  {
   "cell_type": "markdown",
   "id": "fd514c1b",
   "metadata": {},
   "source": [
    "## Vectors\n",
    "\n",
    "In the examples above, we created objects with a single value. R actually uses a vector of length 1 to store this information. **Vectors** are 1-dimensional data structures that can store multiple data values of the same type (e.g. character, boolean, or numeric).  We can confirm this by using the `is.vector()` function, which returns whether or not the inputted argument is a vector."
   ]
  },
  {
   "cell_type": "code",
   "execution_count": 9,
   "id": "052fea31",
   "metadata": {},
   "outputs": [
    {
     "data": {
      "text/html": [
       "TRUE"
      ],
      "text/latex": [
       "TRUE"
      ],
      "text/markdown": [
       "TRUE"
      ],
      "text/plain": [
       "[1] TRUE"
      ]
     },
     "metadata": {},
     "output_type": "display_data"
    }
   ],
   "source": [
    "is.vector(ex_bool)"
   ]
  },
  {
   "cell_type": "markdown",
   "id": "2d46fe43",
   "metadata": {},
   "source": [
    "One way to create a vector with multiple values is to use the combine function `c()`. Below we create two vectors: one with the days of the week and one with the amount of rain on each day. The first vector has all character values, and the second one has all numeric values."
   ]
  },
  {
   "cell_type": "code",
   "execution_count": 10,
   "id": "6cee140a",
   "metadata": {},
   "outputs": [],
   "source": [
    "days <- c(\"Monday\", \"Tuesday\", \"Wednesday\", \"Thursday\", \"Friday\")\n",
    "rain <- c(5, 0.1, 0, 0, 0.4)"
   ]
  },
  {
   "cell_type": "markdown",
   "id": "3ae9a814",
   "metadata": {},
   "source": [
    "Remember, vectors cannot store objects of different types. Because of this, in the code below, R automatically converts the numeric value to be a character in order to store these values in a vector together."
   ]
  },
  {
   "cell_type": "code",
   "execution_count": 11,
   "id": "1007b523",
   "metadata": {},
   "outputs": [
    {
     "data": {
      "text/html": [
       "<style>\n",
       ".list-inline {list-style: none; margin:0; padding: 0}\n",
       ".list-inline>li {display: inline-block}\n",
       ".list-inline>li:not(:last-child)::after {content: \"\\00b7\"; padding: 0 .5ex}\n",
       "</style>\n",
       "<ol class=list-inline><li>'Monday'</li><li>'5'</li></ol>\n"
      ],
      "text/latex": [
       "\\begin{enumerate*}\n",
       "\\item 'Monday'\n",
       "\\item '5'\n",
       "\\end{enumerate*}\n"
      ],
      "text/markdown": [
       "1. 'Monday'\n",
       "2. '5'\n",
       "\n",
       "\n"
      ],
      "text/plain": [
       "[1] \"Monday\" \"5\"     "
      ]
     },
     "metadata": {},
     "output_type": "display_data"
    }
   ],
   "source": [
    "c(\"Monday\", 5)"
   ]
  },
  {
   "cell_type": "markdown",
   "id": "917735d0",
   "metadata": {},
   "source": [
    "The `class()` function returns the data structure of an object. If we check the classes of these two objects using the `class()` function, we will see that R tells us that the first is a character vector and the second is a numeric vector. This matches the data type in this case. "
   ]
  },
  {
   "cell_type": "code",
   "execution_count": 12,
   "id": "43a8030c",
   "metadata": {},
   "outputs": [
    {
     "data": {
      "text/html": [
       "'character'"
      ],
      "text/latex": [
       "'character'"
      ],
      "text/markdown": [
       "'character'"
      ],
      "text/plain": [
       "[1] \"character\""
      ]
     },
     "metadata": {},
     "output_type": "display_data"
    },
    {
     "data": {
      "text/html": [
       "'numeric'"
      ],
      "text/latex": [
       "'numeric'"
      ],
      "text/markdown": [
       "'numeric'"
      ],
      "text/plain": [
       "[1] \"numeric\""
      ]
     },
     "metadata": {},
     "output_type": "display_data"
    }
   ],
   "source": [
    "class(days)\n",
    "class(rain)"
   ]
  },
  {
   "cell_type": "markdown",
   "id": "01f0cd06",
   "metadata": {},
   "source": [
    "### Indexing a Vector\n",
    "\n",
    "Once we have a vector, we may want to access certain values stored in that vector. To do so, we index the vector using the position of each value: the first value in the vector has index 1, the second value has index 2, etc. When we say a vector is 1-dimensional, we mean that we can define the position of each value by a single index. To index the vector, we then use square brackets `[]` after the vector name and provide the position. Below, we use these indices to find the value at index 1 and the value at index 4."
   ]
  },
  {
   "cell_type": "code",
   "execution_count": 13,
   "id": "b1b97037",
   "metadata": {},
   "outputs": [
    {
     "data": {
      "text/html": [
       "'Monday'"
      ],
      "text/latex": [
       "'Monday'"
      ],
      "text/markdown": [
       "'Monday'"
      ],
      "text/plain": [
       "[1] \"Monday\""
      ]
     },
     "metadata": {},
     "output_type": "display_data"
    },
    {
     "data": {
      "text/html": [
       "'Thursday'"
      ],
      "text/latex": [
       "'Thursday'"
      ],
      "text/markdown": [
       "'Thursday'"
      ],
      "text/plain": [
       "[1] \"Thursday\""
      ]
     },
     "metadata": {},
     "output_type": "display_data"
    }
   ],
   "source": [
    "days[1]\n",
    "days[4]"
   ]
  },
  {
   "cell_type": "markdown",
   "id": "88dda9d2",
   "metadata": {},
   "source": [
    "We can either access a single value or a subset of values using a vector of indices. Let's see what happens when we use a vector of indices `c(1,4)` and then try using `-c(1,4)` and see what happens then. In the first case, we get the values at index 1 *and* at index 4. In the second case, we get all values *except* at those indices. The `-` indicates that we want to remove rather than select these indices."
   ]
  },
  {
   "cell_type": "code",
   "execution_count": 14,
   "id": "74fd77f9",
   "metadata": {},
   "outputs": [
    {
     "data": {
      "text/html": [
       "<style>\n",
       ".list-inline {list-style: none; margin:0; padding: 0}\n",
       ".list-inline>li {display: inline-block}\n",
       ".list-inline>li:not(:last-child)::after {content: \"\\00b7\"; padding: 0 .5ex}\n",
       "</style>\n",
       "<ol class=list-inline><li>'Monday'</li><li>'Thursday'</li></ol>\n"
      ],
      "text/latex": [
       "\\begin{enumerate*}\n",
       "\\item 'Monday'\n",
       "\\item 'Thursday'\n",
       "\\end{enumerate*}\n"
      ],
      "text/markdown": [
       "1. 'Monday'\n",
       "2. 'Thursday'\n",
       "\n",
       "\n"
      ],
      "text/plain": [
       "[1] \"Monday\"   \"Thursday\""
      ]
     },
     "metadata": {},
     "output_type": "display_data"
    },
    {
     "data": {
      "text/html": [
       "<style>\n",
       ".list-inline {list-style: none; margin:0; padding: 0}\n",
       ".list-inline>li {display: inline-block}\n",
       ".list-inline>li:not(:last-child)::after {content: \"\\00b7\"; padding: 0 .5ex}\n",
       "</style>\n",
       "<ol class=list-inline><li>'Tuesday'</li><li>'Wednesday'</li><li>'Friday'</li></ol>\n"
      ],
      "text/latex": [
       "\\begin{enumerate*}\n",
       "\\item 'Tuesday'\n",
       "\\item 'Wednesday'\n",
       "\\item 'Friday'\n",
       "\\end{enumerate*}\n"
      ],
      "text/markdown": [
       "1. 'Tuesday'\n",
       "2. 'Wednesday'\n",
       "3. 'Friday'\n",
       "\n",
       "\n"
      ],
      "text/plain": [
       "[1] \"Tuesday\"   \"Wednesday\" \"Friday\"   "
      ]
     },
     "metadata": {},
     "output_type": "display_data"
    }
   ],
   "source": [
    "days[c(1,4)]\n",
    "days[-c(1,4)]"
   ]
  },
  {
   "cell_type": "markdown",
   "id": "58587beb",
   "metadata": {},
   "source": [
    "However, always indexing by the index value can sometimes be difficult or inefficient. One extra feature of vectors is that we can associate a name with each value. Below, we update the names of the vector `rain` to be the days of the week and then find Friday's rain count by indexing with the name."
   ]
  },
  {
   "cell_type": "code",
   "execution_count": 15,
   "id": "7bbd3bdb",
   "metadata": {},
   "outputs": [
    {
     "name": "stdout",
     "output_type": "stream",
     "text": [
      "   Monday   Tuesday Wednesday  Thursday    Friday \n",
      "      5.0       0.1       0.0       0.0       0.4 \n"
     ]
    },
    {
     "data": {
      "text/html": [
       "<strong>Friday:</strong> 0.4"
      ],
      "text/latex": [
       "\\textbf{Friday:} 0.4"
      ],
      "text/markdown": [
       "**Friday:** 0.4"
      ],
      "text/plain": [
       "Friday \n",
       "   0.4 "
      ]
     },
     "metadata": {},
     "output_type": "display_data"
    }
   ],
   "source": [
    "names(rain) <- days\n",
    "print(rain)\n",
    "rain[\"Friday\"]"
   ]
  },
  {
   "cell_type": "markdown",
   "id": "efa1ef1a",
   "metadata": {},
   "source": [
    "The last way to index a vector is to use TRUE and FALSE values. If we have a vector of booleans that is the same length as our original vector, then this will return all the values that correspond to a TRUE value. For example, indexing the `days` vector by the logical vector `ind_bools` below will return its first and fourth values. We will see more about using logic to access certain values later on. "
   ]
  },
  {
   "cell_type": "code",
   "execution_count": 16,
   "id": "85607450",
   "metadata": {},
   "outputs": [
    {
     "data": {
      "text/html": [
       "<style>\n",
       ".list-inline {list-style: none; margin:0; padding: 0}\n",
       ".list-inline>li {display: inline-block}\n",
       ".list-inline>li:not(:last-child)::after {content: \"\\00b7\"; padding: 0 .5ex}\n",
       "</style>\n",
       "<ol class=list-inline><li>'Monday'</li><li>'Thursday'</li></ol>\n"
      ],
      "text/latex": [
       "\\begin{enumerate*}\n",
       "\\item 'Monday'\n",
       "\\item 'Thursday'\n",
       "\\end{enumerate*}\n"
      ],
      "text/markdown": [
       "1. 'Monday'\n",
       "2. 'Thursday'\n",
       "\n",
       "\n"
      ],
      "text/plain": [
       "[1] \"Monday\"   \"Thursday\""
      ]
     },
     "metadata": {},
     "output_type": "display_data"
    }
   ],
   "source": [
    "ind_bools <- c(TRUE, FALSE, FALSE, TRUE, FALSE)\n",
    "days[ind_bools]"
   ]
  },
  {
   "cell_type": "markdown",
   "id": "a27f77a2",
   "metadata": {},
   "source": [
    "### Editing a Vector and Calculations\n",
    "\n",
    "The mathematical operators we saw in the last chapter (`+`, `-`, `*`, `/`, `^`, `%%`) can all be applied to numeric vectors and will be applied element-wise. That is, in the code below, the two vectors are added together by index. This holds true for some of the built-in math functions as well:\n",
    "\n",
    "* `exp()` - expoential\n",
    "* `log()` - log\n",
    "* `sqrt()` - square root\n",
    "* `abs()` - absolute value \n",
    "* `round()` - round to nearest integer value\n",
    "* `ceiling()` - round up to the nearest integer value \n",
    "* `floor()` - round down to the nearest integer value"
   ]
  },
  {
   "cell_type": "code",
   "execution_count": 17,
   "id": "4f3ef61e",
   "metadata": {},
   "outputs": [
    {
     "data": {
      "text/html": [
       "<style>\n",
       ".list-inline {list-style: none; margin:0; padding: 0}\n",
       ".list-inline>li {display: inline-block}\n",
       ".list-inline>li:not(:last-child)::after {content: \"\\00b7\"; padding: 0 .5ex}\n",
       "</style>\n",
       "<ol class=list-inline><li>2</li><li>3</li><li>4</li></ol>\n"
      ],
      "text/latex": [
       "\\begin{enumerate*}\n",
       "\\item 2\n",
       "\\item 3\n",
       "\\item 4\n",
       "\\end{enumerate*}\n"
      ],
      "text/markdown": [
       "1. 2\n",
       "2. 3\n",
       "3. 4\n",
       "\n",
       "\n"
      ],
      "text/plain": [
       "[1] 2 3 4"
      ]
     },
     "metadata": {},
     "output_type": "display_data"
    },
    {
     "data": {
      "text/html": [
       "<style>\n",
       ".list-inline {list-style: none; margin:0; padding: 0}\n",
       ".list-inline>li {display: inline-block}\n",
       ".list-inline>li:not(:last-child)::after {content: \"\\00b7\"; padding: 0 .5ex}\n",
       "</style>\n",
       "<ol class=list-inline><li>2</li><li>3</li><li>4</li></ol>\n"
      ],
      "text/latex": [
       "\\begin{enumerate*}\n",
       "\\item 2\n",
       "\\item 3\n",
       "\\item 4\n",
       "\\end{enumerate*}\n"
      ],
      "text/markdown": [
       "1. 2\n",
       "2. 3\n",
       "3. 4\n",
       "\n",
       "\n"
      ],
      "text/plain": [
       "[1] 2 3 4"
      ]
     },
     "metadata": {},
     "output_type": "display_data"
    },
    {
     "data": {
      "text/html": [
       "<style>\n",
       ".list-inline {list-style: none; margin:0; padding: 0}\n",
       ".list-inline>li {display: inline-block}\n",
       ".list-inline>li:not(:last-child)::after {content: \"\\00b7\"; padding: 0 .5ex}\n",
       "</style>\n",
       "<ol class=list-inline><li>1</li><li>2</li><li>4</li></ol>\n"
      ],
      "text/latex": [
       "\\begin{enumerate*}\n",
       "\\item 1\n",
       "\\item 2\n",
       "\\item 4\n",
       "\\end{enumerate*}\n"
      ],
      "text/markdown": [
       "1. 1\n",
       "2. 2\n",
       "3. 4\n",
       "\n",
       "\n"
      ],
      "text/plain": [
       "[1] 1 2 4"
      ]
     },
     "metadata": {},
     "output_type": "display_data"
    }
   ],
   "source": [
    "c(1,2,3) + c(1,1,1)\n",
    "c(1,2,3) + 1 # equivalent to the code above\n",
    "sqrt(c(1,4,16))"
   ]
  },
  {
   "cell_type": "markdown",
   "id": "47e85655",
   "metadata": {},
   "source": [
    "After we create a vector, we may need to update its values. For example, we may want to change a specific value. We can do so using indexing. Below, we update the rain value for Friday using the assignment operator. "
   ]
  },
  {
   "cell_type": "code",
   "execution_count": 18,
   "id": "99cd0044",
   "metadata": {},
   "outputs": [
    {
     "data": {
      "text/html": [
       "<style>\n",
       ".dl-inline {width: auto; margin:0; padding: 0}\n",
       ".dl-inline>dt, .dl-inline>dd {float: none; width: auto; display: inline-block}\n",
       ".dl-inline>dt::after {content: \":\\0020\"; padding-right: .5ex}\n",
       ".dl-inline>dt:not(:first-of-type) {padding-left: .5ex}\n",
       "</style><dl class=dl-inline><dt>Monday</dt><dd>5</dd><dt>Tuesday</dt><dd>0.1</dd><dt>Wednesday</dt><dd>0</dd><dt>Thursday</dt><dd>0</dd><dt>Friday</dt><dd>0.5</dd></dl>\n"
      ],
      "text/latex": [
       "\\begin{description*}\n",
       "\\item[Monday] 5\n",
       "\\item[Tuesday] 0.1\n",
       "\\item[Wednesday] 0\n",
       "\\item[Thursday] 0\n",
       "\\item[Friday] 0.5\n",
       "\\end{description*}\n"
      ],
      "text/markdown": [
       "Monday\n",
       ":   5Tuesday\n",
       ":   0.1Wednesday\n",
       ":   0Thursday\n",
       ":   0Friday\n",
       ":   0.5\n",
       "\n"
      ],
      "text/plain": [
       "   Monday   Tuesday Wednesday  Thursday    Friday \n",
       "      5.0       0.1       0.0       0.0       0.5 "
      ]
     },
     "metadata": {},
     "output_type": "display_data"
    }
   ],
   "source": [
    "rain[\"Friday\"] <- 0.5\n",
    "rain"
   ]
  },
  {
   "cell_type": "markdown",
   "id": "887e1740",
   "metadata": {},
   "source": [
    "Further, we may need to add extra entries. We can do so using the `c()` function again but this time passing in the vector we want to add to as our first argument. This will create a single vector with all previous and new values. Below, we add two days to both vectors and then check the length of the updated vector `rain`. The `length()` function returns the length of a vector."
   ]
  },
  {
   "cell_type": "code",
   "execution_count": 19,
   "id": "7ffbdb1b",
   "metadata": {},
   "outputs": [
    {
     "data": {
      "text/html": [
       "5"
      ],
      "text/latex": [
       "5"
      ],
      "text/markdown": [
       "5"
      ],
      "text/plain": [
       "[1] 5"
      ]
     },
     "metadata": {},
     "output_type": "display_data"
    },
    {
     "data": {
      "text/html": [
       "7"
      ],
      "text/latex": [
       "7"
      ],
      "text/markdown": [
       "7"
      ],
      "text/plain": [
       "[1] 7"
      ]
     },
     "metadata": {},
     "output_type": "display_data"
    }
   ],
   "source": [
    "length(rain)\n",
    "days <- c(days,\"Saturday\",\"Sunday\") # add the weekend with no rain\n",
    "rain <- c(rain,0,0)\n",
    "length(rain)"
   ]
  },
  {
   "cell_type": "markdown",
   "id": "aa45e4e8",
   "metadata": {},
   "source": [
    "We can also call some useful functions on vectors. For example, the `sum()`, `max()`, and `min()` functions will return the sum, maximum value, and minimum value of a vector, respectively. "
   ]
  },
  {
   "cell_type": "markdown",
   "id": "58aec808",
   "metadata": {},
   "source": [
    "### Factors\n",
    "\n",
    "A **factor** is a special kind of vector that behaves exactly like a regular vector except that it represents values from a category. In particular, a factor keeps track of all possible values of that category, which are called the **levels** of the factor. Factors will be especially helpful when we start getting into data analysis and have categorical columns. The `as.factor()` function will convert a vector to a factor. "
   ]
  },
  {
   "cell_type": "code",
   "execution_count": 20,
   "id": "254da9a6",
   "metadata": {},
   "outputs": [
    {
     "data": {
      "text/html": [
       "'factor'"
      ],
      "text/latex": [
       "'factor'"
      ],
      "text/markdown": [
       "'factor'"
      ],
      "text/plain": [
       "[1] \"factor\""
      ]
     },
     "metadata": {},
     "output_type": "display_data"
    },
    {
     "data": {
      "text/html": [
       "<style>\n",
       ".list-inline {list-style: none; margin:0; padding: 0}\n",
       ".list-inline>li {display: inline-block}\n",
       ".list-inline>li:not(:last-child)::after {content: \"\\00b7\"; padding: 0 .5ex}\n",
       "</style>\n",
       "<ol class=list-inline><li>'Monday'</li><li>'Thursday'</li><li>'Tuesday'</li><li>'Wednesday'</li></ol>\n"
      ],
      "text/latex": [
       "\\begin{enumerate*}\n",
       "\\item 'Monday'\n",
       "\\item 'Thursday'\n",
       "\\item 'Tuesday'\n",
       "\\item 'Wednesday'\n",
       "\\end{enumerate*}\n"
      ],
      "text/markdown": [
       "1. 'Monday'\n",
       "2. 'Thursday'\n",
       "3. 'Tuesday'\n",
       "4. 'Wednesday'\n",
       "\n",
       "\n"
      ],
      "text/plain": [
       "[1] \"Monday\"    \"Thursday\"  \"Tuesday\"   \"Wednesday\""
      ]
     },
     "metadata": {},
     "output_type": "display_data"
    }
   ],
   "source": [
    "days <- c(\"Monday\", \"Tuesday\", \"Wednesday\", \"Monday\", \"Thursday\", \"Wednesday\")\n",
    "days_fct <- as.factor(days)\n",
    "\n",
    "class(days_fct)\n",
    "levels(days_fct)"
   ]
  },
  {
   "cell_type": "markdown",
   "id": "09741311",
   "metadata": {},
   "source": [
    "## Data Frames\n",
    "\n",
    "A data frame is two-dimensional data structure. Data frames allow for each column to be a different type. In this case, each row corresponds to a single data entry (or observation) and each column corresponds to a different variable. \n",
    "    \n",
    "For example, suppose that, for every day in a study, we want to record the temperature, rainfall, and day of the week. Temperature and rainfall can be numeric values, but day of the week will be character type. We create a data frame using the `data.frame()` function. Note that I am providing column names for each vector (column).\n",
    "\n",
    "The `head()` function prints the first six rows of a data frame (to avoid printing very large datasets). In our case, all the data is shown because we only created four rows. The column names are displayed as well as their type. By contrast, the `tail()` function prints the last six rows of a data frame."
   ]
  },
  {
   "cell_type": "code",
   "execution_count": 21,
   "id": "becb4732",
   "metadata": {},
   "outputs": [
    {
     "data": {
      "text/html": [
       "<table class=\"dataframe\">\n",
       "<caption>A data.frame: 4 × 3</caption>\n",
       "<thead>\n",
       "\t<tr><th></th><th scope=col>day_of_week</th><th scope=col>temp</th><th scope=col>rain</th></tr>\n",
       "\t<tr><th></th><th scope=col>&lt;chr&gt;</th><th scope=col>&lt;dbl&gt;</th><th scope=col>&lt;dbl&gt;</th></tr>\n",
       "</thead>\n",
       "<tbody>\n",
       "\t<tr><th scope=row>1</th><td>Monday   </td><td>70</td><td>5.0</td></tr>\n",
       "\t<tr><th scope=row>2</th><td>Tuesday  </td><td>62</td><td>0.1</td></tr>\n",
       "\t<tr><th scope=row>3</th><td>Wednesday</td><td>75</td><td>0.0</td></tr>\n",
       "\t<tr><th scope=row>4</th><td>Monday   </td><td>50</td><td>0.5</td></tr>\n",
       "</tbody>\n",
       "</table>\n"
      ],
      "text/latex": [
       "A data.frame: 4 × 3\n",
       "\\begin{tabular}{r|lll}\n",
       "  & day\\_of\\_week & temp & rain\\\\\n",
       "  & <chr> & <dbl> & <dbl>\\\\\n",
       "\\hline\n",
       "\t1 & Monday    & 70 & 5.0\\\\\n",
       "\t2 & Tuesday   & 62 & 0.1\\\\\n",
       "\t3 & Wednesday & 75 & 0.0\\\\\n",
       "\t4 & Monday    & 50 & 0.5\\\\\n",
       "\\end{tabular}\n"
      ],
      "text/markdown": [
       "\n",
       "A data.frame: 4 × 3\n",
       "\n",
       "| <!--/--> | day_of_week &lt;chr&gt; | temp &lt;dbl&gt; | rain &lt;dbl&gt; |\n",
       "|---|---|---|---|\n",
       "| 1 | Monday    | 70 | 5.0 |\n",
       "| 2 | Tuesday   | 62 | 0.1 |\n",
       "| 3 | Wednesday | 75 | 0.0 |\n",
       "| 4 | Monday    | 50 | 0.5 |\n",
       "\n"
      ],
      "text/plain": [
       "  day_of_week temp rain\n",
       "1 Monday      70   5.0 \n",
       "2 Tuesday     62   0.1 \n",
       "3 Wednesday   75   0.0 \n",
       "4 Monday      50   0.5 "
      ]
     },
     "metadata": {},
     "output_type": "display_data"
    }
   ],
   "source": [
    "weather_data <- data.frame(day_of_week = c(\"Monday\",\"Tuesday\",\"Wednesday\",\"Monday\"), \n",
    "                           temp = c(70,62,75,50), rain = c(5,0.1,0.0,0.5))\n",
    "head(weather_data)"
   ]
  },
  {
   "cell_type": "markdown",
   "id": "1c418d08",
   "metadata": {},
   "source": [
    "The `dim()`, `nrow()`, and `ncol()` functions return the dimensions, number of rows, and number of columns of a data frame, respectively. "
   ]
  },
  {
   "cell_type": "code",
   "execution_count": 22,
   "id": "858babe4",
   "metadata": {},
   "outputs": [
    {
     "data": {
      "text/html": [
       "<style>\n",
       ".list-inline {list-style: none; margin:0; padding: 0}\n",
       ".list-inline>li {display: inline-block}\n",
       ".list-inline>li:not(:last-child)::after {content: \"\\00b7\"; padding: 0 .5ex}\n",
       "</style>\n",
       "<ol class=list-inline><li>4</li><li>3</li></ol>\n"
      ],
      "text/latex": [
       "\\begin{enumerate*}\n",
       "\\item 4\n",
       "\\item 3\n",
       "\\end{enumerate*}\n"
      ],
      "text/markdown": [
       "1. 4\n",
       "2. 3\n",
       "\n",
       "\n"
      ],
      "text/plain": [
       "[1] 4 3"
      ]
     },
     "metadata": {},
     "output_type": "display_data"
    },
    {
     "data": {
      "text/html": [
       "4"
      ],
      "text/latex": [
       "4"
      ],
      "text/markdown": [
       "4"
      ],
      "text/plain": [
       "[1] 4"
      ]
     },
     "metadata": {},
     "output_type": "display_data"
    },
    {
     "data": {
      "text/html": [
       "3"
      ],
      "text/latex": [
       "3"
      ],
      "text/markdown": [
       "3"
      ],
      "text/plain": [
       "[1] 3"
      ]
     },
     "metadata": {},
     "output_type": "display_data"
    }
   ],
   "source": [
    "dim(weather_data)\n",
    "nrow(weather_data)\n",
    "ncol(weather_data)"
   ]
  },
  {
   "cell_type": "markdown",
   "id": "cc72698e",
   "metadata": {},
   "source": [
    "The column names can be found (or assigned) using the `colnames()` or `names()` function. These were specified when I created the data. On the other hand, the row names are currently the indices. "
   ]
  },
  {
   "cell_type": "code",
   "execution_count": 23,
   "id": "3713dceb",
   "metadata": {},
   "outputs": [
    {
     "data": {
      "text/html": [
       "<table class=\"dataframe\">\n",
       "<caption>A data.frame: 4 × 3</caption>\n",
       "<thead>\n",
       "\t<tr><th></th><th scope=col>day_of_week</th><th scope=col>temp</th><th scope=col>rain</th></tr>\n",
       "\t<tr><th></th><th scope=col>&lt;chr&gt;</th><th scope=col>&lt;dbl&gt;</th><th scope=col>&lt;dbl&gt;</th></tr>\n",
       "</thead>\n",
       "<tbody>\n",
       "\t<tr><th scope=row>6/1</th><td>Monday   </td><td>70</td><td>5.0</td></tr>\n",
       "\t<tr><th scope=row>6/2</th><td>Tuesday  </td><td>62</td><td>0.1</td></tr>\n",
       "\t<tr><th scope=row>6/3</th><td>Wednesday</td><td>75</td><td>0.0</td></tr>\n",
       "\t<tr><th scope=row>6/8</th><td>Monday   </td><td>50</td><td>0.5</td></tr>\n",
       "</tbody>\n",
       "</table>\n"
      ],
      "text/latex": [
       "A data.frame: 4 × 3\n",
       "\\begin{tabular}{r|lll}\n",
       "  & day\\_of\\_week & temp & rain\\\\\n",
       "  & <chr> & <dbl> & <dbl>\\\\\n",
       "\\hline\n",
       "\t6/1 & Monday    & 70 & 5.0\\\\\n",
       "\t6/2 & Tuesday   & 62 & 0.1\\\\\n",
       "\t6/3 & Wednesday & 75 & 0.0\\\\\n",
       "\t6/8 & Monday    & 50 & 0.5\\\\\n",
       "\\end{tabular}\n"
      ],
      "text/markdown": [
       "\n",
       "A data.frame: 4 × 3\n",
       "\n",
       "| <!--/--> | day_of_week &lt;chr&gt; | temp &lt;dbl&gt; | rain &lt;dbl&gt; |\n",
       "|---|---|---|---|\n",
       "| 6/1 | Monday    | 70 | 5.0 |\n",
       "| 6/2 | Tuesday   | 62 | 0.1 |\n",
       "| 6/3 | Wednesday | 75 | 0.0 |\n",
       "| 6/8 | Monday    | 50 | 0.5 |\n",
       "\n"
      ],
      "text/plain": [
       "    day_of_week temp rain\n",
       "6/1 Monday      70   5.0 \n",
       "6/2 Tuesday     62   0.1 \n",
       "6/3 Wednesday   75   0.0 \n",
       "6/8 Monday      50   0.5 "
      ]
     },
     "metadata": {},
     "output_type": "display_data"
    }
   ],
   "source": [
    "rownames(weather_data) <- c(\"6/1\", \"6/2\", \"6/3\", \"6/8\")\n",
    "head(weather_data)"
   ]
  },
  {
   "cell_type": "markdown",
   "id": "ded98772",
   "metadata": {},
   "source": [
    "We update the row names to be more informative as with a matrix using the `rownames()` function."
   ]
  },
  {
   "cell_type": "code",
   "execution_count": 24,
   "id": "b2029c9f",
   "metadata": {},
   "outputs": [
    {
     "data": {
      "text/html": [
       "<table class=\"dataframe\">\n",
       "<caption>A data.frame: 4 × 3</caption>\n",
       "<thead>\n",
       "\t<tr><th></th><th scope=col>day_of_week</th><th scope=col>temp</th><th scope=col>rain</th></tr>\n",
       "\t<tr><th></th><th scope=col>&lt;chr&gt;</th><th scope=col>&lt;dbl&gt;</th><th scope=col>&lt;dbl&gt;</th></tr>\n",
       "</thead>\n",
       "<tbody>\n",
       "\t<tr><th scope=row>6/1</th><td>Monday   </td><td>70</td><td>5.0</td></tr>\n",
       "\t<tr><th scope=row>6/2</th><td>Tuesday  </td><td>62</td><td>0.1</td></tr>\n",
       "\t<tr><th scope=row>6/3</th><td>Wednesday</td><td>75</td><td>0.0</td></tr>\n",
       "\t<tr><th scope=row>6/8</th><td>Monday   </td><td>50</td><td>0.5</td></tr>\n",
       "</tbody>\n",
       "</table>\n"
      ],
      "text/latex": [
       "A data.frame: 4 × 3\n",
       "\\begin{tabular}{r|lll}\n",
       "  & day\\_of\\_week & temp & rain\\\\\n",
       "  & <chr> & <dbl> & <dbl>\\\\\n",
       "\\hline\n",
       "\t6/1 & Monday    & 70 & 5.0\\\\\n",
       "\t6/2 & Tuesday   & 62 & 0.1\\\\\n",
       "\t6/3 & Wednesday & 75 & 0.0\\\\\n",
       "\t6/8 & Monday    & 50 & 0.5\\\\\n",
       "\\end{tabular}\n"
      ],
      "text/markdown": [
       "\n",
       "A data.frame: 4 × 3\n",
       "\n",
       "| <!--/--> | day_of_week &lt;chr&gt; | temp &lt;dbl&gt; | rain &lt;dbl&gt; |\n",
       "|---|---|---|---|\n",
       "| 6/1 | Monday    | 70 | 5.0 |\n",
       "| 6/2 | Tuesday   | 62 | 0.1 |\n",
       "| 6/3 | Wednesday | 75 | 0.0 |\n",
       "| 6/8 | Monday    | 50 | 0.5 |\n",
       "\n"
      ],
      "text/plain": [
       "    day_of_week temp rain\n",
       "6/1 Monday      70   5.0 \n",
       "6/2 Tuesday     62   0.1 \n",
       "6/3 Wednesday   75   0.0 \n",
       "6/8 Monday      50   0.5 "
      ]
     },
     "metadata": {},
     "output_type": "display_data"
    }
   ],
   "source": [
    "rownames(weather_data) <- c(\"6/1\", \"6/2\", \"6/3\", \"6/8\")\n",
    "head(weather_data)"
   ]
  },
  {
   "cell_type": "markdown",
   "id": "5541317d",
   "metadata": {},
   "source": [
    "### Indexing a Data Frame\n",
    "\n",
    "We can select elements of the data frame using the indices for both the rows and columns we would like to select. Below, we access a single value and then a subset of our data frame. The subset returned is itself a data frame. Note that the second line below returns a data frame. "
   ]
  },
  {
   "cell_type": "code",
   "execution_count": 25,
   "id": "bce9bc3f",
   "metadata": {},
   "outputs": [
    {
     "data": {
      "text/html": [
       "70"
      ],
      "text/latex": [
       "70"
      ],
      "text/markdown": [
       "70"
      ],
      "text/plain": [
       "[1] 70"
      ]
     },
     "metadata": {},
     "output_type": "display_data"
    },
    {
     "data": {
      "text/html": [
       "<table class=\"dataframe\">\n",
       "<caption>A data.frame: 1 × 2</caption>\n",
       "<thead>\n",
       "\t<tr><th></th><th scope=col>day_of_week</th><th scope=col>temp</th></tr>\n",
       "\t<tr><th></th><th scope=col>&lt;chr&gt;</th><th scope=col>&lt;dbl&gt;</th></tr>\n",
       "</thead>\n",
       "<tbody>\n",
       "\t<tr><th scope=row>6/1</th><td>Monday</td><td>70</td></tr>\n",
       "</tbody>\n",
       "</table>\n"
      ],
      "text/latex": [
       "A data.frame: 1 × 2\n",
       "\\begin{tabular}{r|ll}\n",
       "  & day\\_of\\_week & temp\\\\\n",
       "  & <chr> & <dbl>\\\\\n",
       "\\hline\n",
       "\t6/1 & Monday & 70\\\\\n",
       "\\end{tabular}\n"
      ],
      "text/markdown": [
       "\n",
       "A data.frame: 1 × 2\n",
       "\n",
       "| <!--/--> | day_of_week &lt;chr&gt; | temp &lt;dbl&gt; |\n",
       "|---|---|---|\n",
       "| 6/1 | Monday | 70 |\n",
       "\n"
      ],
      "text/plain": [
       "    day_of_week temp\n",
       "6/1 Monday      70  "
      ]
     },
     "metadata": {},
     "output_type": "display_data"
    }
   ],
   "source": [
    "weather_data[1,2]\n",
    "weather_data[1,c(\"day_of_week\",\"temp\")]"
   ]
  },
  {
   "cell_type": "markdown",
   "id": "f6769ecf",
   "metadata": {},
   "source": [
    "Another useful way to access the columns of a data frame is by using the $ accessor and the column name. "
   ]
  },
  {
   "cell_type": "code",
   "execution_count": 26,
   "id": "28a53911",
   "metadata": {},
   "outputs": [
    {
     "data": {
      "text/html": [
       "<style>\n",
       ".list-inline {list-style: none; margin:0; padding: 0}\n",
       ".list-inline>li {display: inline-block}\n",
       ".list-inline>li:not(:last-child)::after {content: \"\\00b7\"; padding: 0 .5ex}\n",
       "</style>\n",
       "<ol class=list-inline><li>'Monday'</li><li>'Tuesday'</li><li>'Wednesday'</li><li>'Monday'</li></ol>\n"
      ],
      "text/latex": [
       "\\begin{enumerate*}\n",
       "\\item 'Monday'\n",
       "\\item 'Tuesday'\n",
       "\\item 'Wednesday'\n",
       "\\item 'Monday'\n",
       "\\end{enumerate*}\n"
      ],
      "text/markdown": [
       "1. 'Monday'\n",
       "2. 'Tuesday'\n",
       "3. 'Wednesday'\n",
       "4. 'Monday'\n",
       "\n",
       "\n"
      ],
      "text/plain": [
       "[1] \"Monday\"    \"Tuesday\"   \"Wednesday\" \"Monday\"   "
      ]
     },
     "metadata": {},
     "output_type": "display_data"
    },
    {
     "data": {
      "text/html": [
       "<style>\n",
       ".list-inline {list-style: none; margin:0; padding: 0}\n",
       ".list-inline>li {display: inline-block}\n",
       ".list-inline>li:not(:last-child)::after {content: \"\\00b7\"; padding: 0 .5ex}\n",
       "</style>\n",
       "<ol class=list-inline><li>70</li><li>62</li><li>75</li><li>50</li></ol>\n"
      ],
      "text/latex": [
       "\\begin{enumerate*}\n",
       "\\item 70\n",
       "\\item 62\n",
       "\\item 75\n",
       "\\item 50\n",
       "\\end{enumerate*}\n"
      ],
      "text/markdown": [
       "1. 70\n",
       "2. 62\n",
       "3. 75\n",
       "4. 50\n",
       "\n",
       "\n"
      ],
      "text/plain": [
       "[1] 70 62 75 50"
      ]
     },
     "metadata": {},
     "output_type": "display_data"
    }
   ],
   "source": [
    "weather_data$day_of_week\n",
    "weather_data$temp"
   ]
  },
  {
   "cell_type": "markdown",
   "id": "574cd67e",
   "metadata": {},
   "source": [
    "As with vectors, we can change values in a data frame by indexing those entries. "
   ]
  },
  {
   "cell_type": "code",
   "execution_count": 27,
   "id": "07ee78ed",
   "metadata": {},
   "outputs": [
    {
     "data": {
      "text/html": [
       "<table class=\"dataframe\">\n",
       "<caption>A data.frame: 4 × 3</caption>\n",
       "<thead>\n",
       "\t<tr><th></th><th scope=col>day_of_week</th><th scope=col>temp</th><th scope=col>rain</th></tr>\n",
       "\t<tr><th></th><th scope=col>&lt;chr&gt;</th><th scope=col>&lt;dbl&gt;</th><th scope=col>&lt;dbl&gt;</th></tr>\n",
       "</thead>\n",
       "<tbody>\n",
       "\t<tr><th scope=row>6/1</th><td>Monday   </td><td>70</td><td>2.2</td></tr>\n",
       "\t<tr><th scope=row>6/2</th><td>Tuesday  </td><td>62</td><td>0.1</td></tr>\n",
       "\t<tr><th scope=row>6/3</th><td>Wednesday</td><td>75</td><td>0.0</td></tr>\n",
       "\t<tr><th scope=row>6/8</th><td>Monday   </td><td>50</td><td>0.5</td></tr>\n",
       "</tbody>\n",
       "</table>\n"
      ],
      "text/latex": [
       "A data.frame: 4 × 3\n",
       "\\begin{tabular}{r|lll}\n",
       "  & day\\_of\\_week & temp & rain\\\\\n",
       "  & <chr> & <dbl> & <dbl>\\\\\n",
       "\\hline\n",
       "\t6/1 & Monday    & 70 & 2.2\\\\\n",
       "\t6/2 & Tuesday   & 62 & 0.1\\\\\n",
       "\t6/3 & Wednesday & 75 & 0.0\\\\\n",
       "\t6/8 & Monday    & 50 & 0.5\\\\\n",
       "\\end{tabular}\n"
      ],
      "text/markdown": [
       "\n",
       "A data.frame: 4 × 3\n",
       "\n",
       "| <!--/--> | day_of_week &lt;chr&gt; | temp &lt;dbl&gt; | rain &lt;dbl&gt; |\n",
       "|---|---|---|---|\n",
       "| 6/1 | Monday    | 70 | 2.2 |\n",
       "| 6/2 | Tuesday   | 62 | 0.1 |\n",
       "| 6/3 | Wednesday | 75 | 0.0 |\n",
       "| 6/8 | Monday    | 50 | 0.5 |\n",
       "\n"
      ],
      "text/plain": [
       "    day_of_week temp rain\n",
       "6/1 Monday      70   2.2 \n",
       "6/2 Tuesday     62   0.1 \n",
       "6/3 Wednesday   75   0.0 \n",
       "6/8 Monday      50   0.5 "
      ]
     },
     "metadata": {},
     "output_type": "display_data"
    }
   ],
   "source": [
    "weather_data[1, \"rain\"] <- 2.2\n",
    "weather_data"
   ]
  },
  {
   "cell_type": "markdown",
   "id": "ec24f0cb",
   "metadata": {},
   "source": [
    "## Lists\n",
    "\n",
    "A data frame is actually a special kind of another data structure called a **list**, which is a collection of objects under the same name. These objects can be vectors, matrices, data frames, or even other lists! There does not have to be any relation in size, type, or other attribute between different members of the list. Below, we create an example list using the `list()` function, which takes in a series of objects. What are the types of each element of the list? We can access each element using the index, but here we need to use double brackets. "
   ]
  },
  {
   "cell_type": "code",
   "execution_count": 28,
   "id": "6ce59dac",
   "metadata": {},
   "outputs": [
    {
     "name": "stdout",
     "output_type": "stream",
     "text": [
      "$name\n",
      "[1] \"John\"\n",
      "\n",
      "$medications\n",
      "[1] \"ibuprofen\" \"metformin\"\n",
      "\n",
      "$past_weights\n",
      "[1] 136 142 159\n",
      "\n"
     ]
    },
    {
     "data": {
      "text/html": [
       "<style>\n",
       ".list-inline {list-style: none; margin:0; padding: 0}\n",
       ".list-inline>li {display: inline-block}\n",
       ".list-inline>li:not(:last-child)::after {content: \"\\00b7\"; padding: 0 .5ex}\n",
       "</style>\n",
       "<ol class=list-inline><li>'ibuprofen'</li><li>'metformin'</li></ol>\n"
      ],
      "text/latex": [
       "\\begin{enumerate*}\n",
       "\\item 'ibuprofen'\n",
       "\\item 'metformin'\n",
       "\\end{enumerate*}\n"
      ],
      "text/markdown": [
       "1. 'ibuprofen'\n",
       "2. 'metformin'\n",
       "\n",
       "\n"
      ],
      "text/plain": [
       "[1] \"ibuprofen\" \"metformin\""
      ]
     },
     "metadata": {},
     "output_type": "display_data"
    }
   ],
   "source": [
    "ex_list <- list(name=\"John\", medications = c(\"ibuprofen\", \"metformin\"), \n",
    "                past_weights = c(136, 142, 159))\n",
    "print(ex_list)\n",
    "ex_list$medications"
   ]
  },
  {
   "cell_type": "markdown",
   "id": "71249e46",
   "metadata": {},
   "source": [
    "## Exploratory Analysis in R\n",
    "\n",
    "For our exploratory analysis, we will use some pain available in the `RforHDSdata` package. However, when we have data stored in a local file, we can load that data into R using the corresponding function. We demonstrate this with the `read.csv()` function to read in a comma-delimited file. This function returns the information as a data frame (try typing `?read.csv` in the console to read more about this function).By default, R will look for the file in your current working directory. To find the working directory, you can run `getwd()`. You can see below that my current working directory is where the book content is on my computer. "
   ]
  },
  {
   "cell_type": "code",
   "execution_count": 29,
   "id": "b9d4fc41",
   "metadata": {},
   "outputs": [
    {
     "data": {
      "text/html": [
       "'/Users/Alice/Dropbox/health-data-science-in-r/workshop'"
      ],
      "text/latex": [
       "'/Users/Alice/Dropbox/health-data-science-in-r/workshop'"
      ],
      "text/markdown": [
       "'/Users/Alice/Dropbox/health-data-science-in-r/workshop'"
      ],
      "text/plain": [
       "[1] \"/Users/Alice/Dropbox/health-data-science-in-r/workshop\""
      ]
     },
     "metadata": {},
     "output_type": "display_data"
    }
   ],
   "source": [
    "getwd()"
   ]
  },
  {
   "cell_type": "markdown",
   "id": "f25a8c4d",
   "metadata": {},
   "source": [
    "You can either move the .csv file to your current working directory and load it in, or you can specify the path to the .csv file. Another option is to update your working directory by using the `setwd()` function (e.g. `setwd('/Users/Alice/Dropbox/r-for-health-data-science/book/data')`). If you receive an error that a file cannot be found, you most likely have the wrong path to the file or the wrong file name. Below, I chose to specify the path to the downloaded .csv file, saved this file to an object called `df`, and then printed that `df` object."
   ]
  },
  {
   "cell_type": "code",
   "execution_count": 30,
   "id": "d0facd1e",
   "metadata": {},
   "outputs": [
    {
     "data": {
      "text/html": [
       "<table class=\"dataframe\">\n",
       "<caption>A data.frame: 6 × 5</caption>\n",
       "<thead>\n",
       "\t<tr><th scope=col>Name</th><th scope=col>Age</th><th scope=col>DOB</th><th scope=col>City</th><th scope=col>State</th></tr>\n",
       "\t<tr><th scope=col>&lt;chr&gt;</th><th scope=col>&lt;int&gt;</th><th scope=col>&lt;chr&gt;</th><th scope=col>&lt;chr&gt;</th><th scope=col>&lt;chr&gt;</th></tr>\n",
       "</thead>\n",
       "<tbody>\n",
       "\t<tr><td>Ken Irwin          </td><td>37</td><td>6/28/85</td><td>Providence     </td><td>RI</td></tr>\n",
       "\t<tr><td>Delores Whittington</td><td>56</td><td>4/28/67</td><td>Smithfield     </td><td>RI</td></tr>\n",
       "\t<tr><td>Daniel Hughes      </td><td>41</td><td>5/22/82</td><td>Providence     </td><td>RI</td></tr>\n",
       "\t<tr><td>Carlos Fain        </td><td>83</td><td>2/2/40 </td><td>Warren         </td><td>RI</td></tr>\n",
       "\t<tr><td>James Alford       </td><td>67</td><td>2/23/56</td><td>East Providence</td><td>RI</td></tr>\n",
       "\t<tr><td>Ruth Alvarez       </td><td>34</td><td>9/22/88</td><td>Providence     </td><td>RI</td></tr>\n",
       "</tbody>\n",
       "</table>\n"
      ],
      "text/latex": [
       "A data.frame: 6 × 5\n",
       "\\begin{tabular}{lllll}\n",
       " Name & Age & DOB & City & State\\\\\n",
       " <chr> & <int> & <chr> & <chr> & <chr>\\\\\n",
       "\\hline\n",
       "\t Ken Irwin           & 37 & 6/28/85 & Providence      & RI\\\\\n",
       "\t Delores Whittington & 56 & 4/28/67 & Smithfield      & RI\\\\\n",
       "\t Daniel Hughes       & 41 & 5/22/82 & Providence      & RI\\\\\n",
       "\t Carlos Fain         & 83 & 2/2/40  & Warren          & RI\\\\\n",
       "\t James Alford        & 67 & 2/23/56 & East Providence & RI\\\\\n",
       "\t Ruth Alvarez        & 34 & 9/22/88 & Providence      & RI\\\\\n",
       "\\end{tabular}\n"
      ],
      "text/markdown": [
       "\n",
       "A data.frame: 6 × 5\n",
       "\n",
       "| Name &lt;chr&gt; | Age &lt;int&gt; | DOB &lt;chr&gt; | City &lt;chr&gt; | State &lt;chr&gt; |\n",
       "|---|---|---|---|---|\n",
       "| Ken Irwin           | 37 | 6/28/85 | Providence      | RI |\n",
       "| Delores Whittington | 56 | 4/28/67 | Smithfield      | RI |\n",
       "| Daniel Hughes       | 41 | 5/22/82 | Providence      | RI |\n",
       "| Carlos Fain         | 83 | 2/2/40  | Warren          | RI |\n",
       "| James Alford        | 67 | 2/23/56 | East Providence | RI |\n",
       "| Ruth Alvarez        | 34 | 9/22/88 | Providence      | RI |\n",
       "\n"
      ],
      "text/plain": [
       "  Name                Age DOB     City            State\n",
       "1 Ken Irwin           37  6/28/85 Providence      RI   \n",
       "2 Delores Whittington 56  4/28/67 Smithfield      RI   \n",
       "3 Daniel Hughes       41  5/22/82 Providence      RI   \n",
       "4 Carlos Fain         83  2/2/40  Warren          RI   \n",
       "5 James Alford        67  2/23/56 East Providence RI   \n",
       "6 Ruth Alvarez        34  9/22/88 Providence      RI   "
      ]
     },
     "metadata": {},
     "output_type": "display_data"
    }
   ],
   "source": [
    "df <- read.csv(\"../book/data/fake_names.csv\") # you will need to update this with the path to your file\n",
    "df"
   ]
  },
  {
   "cell_type": "markdown",
   "id": "b2bbdb1f",
   "metadata": {},
   "source": [
    "We will use the `pain` data available in our package. We load this in using the `data()` function."
   ]
  },
  {
   "cell_type": "code",
   "execution_count": 31,
   "id": "3471e3e4",
   "metadata": {},
   "outputs": [],
   "source": [
    "data(pain)"
   ]
  },
  {
   "cell_type": "markdown",
   "id": "a22387eb",
   "metadata": {},
   "source": [
    "## Summarizing Data Columns"
   ]
  },
  {
   "cell_type": "markdown",
   "id": "1dcfbebf",
   "metadata": {},
   "source": [
    "We will now look at the data we have loaded into the data frame called `pain`. We use the `head()` function to print the first six rows. However, note that we have so many columns that all not of the columns are displayed! For those that are displayed, we can see the data type for each column under the column name. For example, we can see that the column `PATIENT_NUM` is a numeric column of type `dbl`. Because patients identification numbers are technically nominal in nature, we might consider whether we should make convert this variable to a factor or a character representation later on. We can use the `names()` function to print all the column names. Note that columns `X101` to `X238` correspond to numbers on a body pain map (see the data documentation for the image of this map). Each of these columns has a 1 if the patient indicated that they have pain in that corresponding body part and a 0 otherwise."
   ]
  },
  {
   "cell_type": "code",
   "execution_count": 32,
   "id": "494daca3",
   "metadata": {},
   "outputs": [
    {
     "data": {
      "text/html": [
       "<table class=\"dataframe\">\n",
       "<caption>A tibble: 6 × 92</caption>\n",
       "<thead>\n",
       "\t<tr><th scope=col>PATIENT_NUM</th><th scope=col>X101</th><th scope=col>X102</th><th scope=col>X103</th><th scope=col>X104</th><th scope=col>X105</th><th scope=col>X106</th><th scope=col>X107</th><th scope=col>X108</th><th scope=col>X109</th><th scope=col>⋯</th><th scope=col>GH_MENTAL_SCORE</th><th scope=col>GH_PHYSICAL_SCORE</th><th scope=col>AGE_AT_CONTACT</th><th scope=col>BMI</th><th scope=col>CCI_TOTAL_SCORE</th><th scope=col>PAIN_INTENSITY_AVERAGE.FOLLOW_UP</th><th scope=col>PAT_SEX</th><th scope=col>PAT_RACE</th><th scope=col>CCI_BIN</th><th scope=col>MEDICAID_BIN</th></tr>\n",
       "\t<tr><th scope=col>&lt;dbl&gt;</th><th scope=col>&lt;dbl&gt;</th><th scope=col>&lt;dbl&gt;</th><th scope=col>&lt;dbl&gt;</th><th scope=col>&lt;dbl&gt;</th><th scope=col>&lt;dbl&gt;</th><th scope=col>&lt;dbl&gt;</th><th scope=col>&lt;dbl&gt;</th><th scope=col>&lt;dbl&gt;</th><th scope=col>&lt;dbl&gt;</th><th scope=col>⋯</th><th scope=col>&lt;dbl&gt;</th><th scope=col>&lt;dbl&gt;</th><th scope=col>&lt;dbl&gt;</th><th scope=col>&lt;dbl&gt;</th><th scope=col>&lt;dbl&gt;</th><th scope=col>&lt;dbl&gt;</th><th scope=col>&lt;chr&gt;</th><th scope=col>&lt;chr&gt;</th><th scope=col>&lt;chr&gt;</th><th scope=col>&lt;chr&gt;</th></tr>\n",
       "</thead>\n",
       "<tbody>\n",
       "\t<tr><td>13118</td><td>0</td><td>0</td><td>0</td><td>0</td><td>0</td><td>0</td><td>0</td><td>0</td><td>0</td><td>⋯</td><td>43.5</td><td>29.6</td><td>78</td><td>33.67</td><td>0</td><td>2</td><td>male  </td><td>WHITE</td><td>No comorbidity</td><td>no</td></tr>\n",
       "\t<tr><td>21384</td><td>0</td><td>0</td><td>0</td><td>0</td><td>0</td><td>0</td><td>0</td><td>0</td><td>0</td><td>⋯</td><td>53.3</td><td>37.4</td><td>70</td><td>36.26</td><td>0</td><td>5</td><td>female</td><td>WHITE</td><td>No comorbidity</td><td>no</td></tr>\n",
       "\t<tr><td> 6240</td><td>0</td><td>0</td><td>0</td><td>0</td><td>0</td><td>0</td><td>0</td><td>0</td><td>0</td><td>⋯</td><td>48.3</td><td>37.4</td><td>75</td><td>27.25</td><td>0</td><td>6</td><td>male  </td><td>WHITE</td><td>No comorbidity</td><td>no</td></tr>\n",
       "\t<tr><td> 1827</td><td>0</td><td>0</td><td>0</td><td>0</td><td>0</td><td>0</td><td>0</td><td>0</td><td>0</td><td>⋯</td><td>  NA</td><td>  NA</td><td>61</td><td>   NA</td><td>0</td><td>7</td><td>male  </td><td>WHITE</td><td>No comorbidity</td><td>no</td></tr>\n",
       "\t<tr><td>11309</td><td>0</td><td>0</td><td>0</td><td>0</td><td>0</td><td>0</td><td>0</td><td>0</td><td>0</td><td>⋯</td><td>45.8</td><td>34.9</td><td>63</td><td>28.89</td><td>0</td><td>6</td><td>male  </td><td>WHITE</td><td>No comorbidity</td><td>no</td></tr>\n",
       "\t<tr><td>11093</td><td>0</td><td>0</td><td>0</td><td>0</td><td>0</td><td>0</td><td>0</td><td>0</td><td>0</td><td>⋯</td><td>31.3</td><td>26.7</td><td>54</td><td>27.32</td><td>0</td><td>0</td><td>male  </td><td>WHITE</td><td>No comorbidity</td><td>NA</td></tr>\n",
       "</tbody>\n",
       "</table>\n"
      ],
      "text/latex": [
       "A tibble: 6 × 92\n",
       "\\begin{tabular}{lllllllllllllllllllll}\n",
       " PATIENT\\_NUM & X101 & X102 & X103 & X104 & X105 & X106 & X107 & X108 & X109 & ⋯ & GH\\_MENTAL\\_SCORE & GH\\_PHYSICAL\\_SCORE & AGE\\_AT\\_CONTACT & BMI & CCI\\_TOTAL\\_SCORE & PAIN\\_INTENSITY\\_AVERAGE.FOLLOW\\_UP & PAT\\_SEX & PAT\\_RACE & CCI\\_BIN & MEDICAID\\_BIN\\\\\n",
       " <dbl> & <dbl> & <dbl> & <dbl> & <dbl> & <dbl> & <dbl> & <dbl> & <dbl> & <dbl> & ⋯ & <dbl> & <dbl> & <dbl> & <dbl> & <dbl> & <dbl> & <chr> & <chr> & <chr> & <chr>\\\\\n",
       "\\hline\n",
       "\t 13118 & 0 & 0 & 0 & 0 & 0 & 0 & 0 & 0 & 0 & ⋯ & 43.5 & 29.6 & 78 & 33.67 & 0 & 2 & male   & WHITE & No comorbidity & no\\\\\n",
       "\t 21384 & 0 & 0 & 0 & 0 & 0 & 0 & 0 & 0 & 0 & ⋯ & 53.3 & 37.4 & 70 & 36.26 & 0 & 5 & female & WHITE & No comorbidity & no\\\\\n",
       "\t  6240 & 0 & 0 & 0 & 0 & 0 & 0 & 0 & 0 & 0 & ⋯ & 48.3 & 37.4 & 75 & 27.25 & 0 & 6 & male   & WHITE & No comorbidity & no\\\\\n",
       "\t  1827 & 0 & 0 & 0 & 0 & 0 & 0 & 0 & 0 & 0 & ⋯ &   NA &   NA & 61 &    NA & 0 & 7 & male   & WHITE & No comorbidity & no\\\\\n",
       "\t 11309 & 0 & 0 & 0 & 0 & 0 & 0 & 0 & 0 & 0 & ⋯ & 45.8 & 34.9 & 63 & 28.89 & 0 & 6 & male   & WHITE & No comorbidity & no\\\\\n",
       "\t 11093 & 0 & 0 & 0 & 0 & 0 & 0 & 0 & 0 & 0 & ⋯ & 31.3 & 26.7 & 54 & 27.32 & 0 & 0 & male   & WHITE & No comorbidity & NA\\\\\n",
       "\\end{tabular}\n"
      ],
      "text/markdown": [
       "\n",
       "A tibble: 6 × 92\n",
       "\n",
       "| PATIENT_NUM &lt;dbl&gt; | X101 &lt;dbl&gt; | X102 &lt;dbl&gt; | X103 &lt;dbl&gt; | X104 &lt;dbl&gt; | X105 &lt;dbl&gt; | X106 &lt;dbl&gt; | X107 &lt;dbl&gt; | X108 &lt;dbl&gt; | X109 &lt;dbl&gt; | ⋯ ⋯ | GH_MENTAL_SCORE &lt;dbl&gt; | GH_PHYSICAL_SCORE &lt;dbl&gt; | AGE_AT_CONTACT &lt;dbl&gt; | BMI &lt;dbl&gt; | CCI_TOTAL_SCORE &lt;dbl&gt; | PAIN_INTENSITY_AVERAGE.FOLLOW_UP &lt;dbl&gt; | PAT_SEX &lt;chr&gt; | PAT_RACE &lt;chr&gt; | CCI_BIN &lt;chr&gt; | MEDICAID_BIN &lt;chr&gt; |\n",
       "|---|---|---|---|---|---|---|---|---|---|---|---|---|---|---|---|---|---|---|---|---|\n",
       "| 13118 | 0 | 0 | 0 | 0 | 0 | 0 | 0 | 0 | 0 | ⋯ | 43.5 | 29.6 | 78 | 33.67 | 0 | 2 | male   | WHITE | No comorbidity | no |\n",
       "| 21384 | 0 | 0 | 0 | 0 | 0 | 0 | 0 | 0 | 0 | ⋯ | 53.3 | 37.4 | 70 | 36.26 | 0 | 5 | female | WHITE | No comorbidity | no |\n",
       "|  6240 | 0 | 0 | 0 | 0 | 0 | 0 | 0 | 0 | 0 | ⋯ | 48.3 | 37.4 | 75 | 27.25 | 0 | 6 | male   | WHITE | No comorbidity | no |\n",
       "|  1827 | 0 | 0 | 0 | 0 | 0 | 0 | 0 | 0 | 0 | ⋯ |   NA |   NA | 61 |    NA | 0 | 7 | male   | WHITE | No comorbidity | no |\n",
       "| 11309 | 0 | 0 | 0 | 0 | 0 | 0 | 0 | 0 | 0 | ⋯ | 45.8 | 34.9 | 63 | 28.89 | 0 | 6 | male   | WHITE | No comorbidity | no |\n",
       "| 11093 | 0 | 0 | 0 | 0 | 0 | 0 | 0 | 0 | 0 | ⋯ | 31.3 | 26.7 | 54 | 27.32 | 0 | 0 | male   | WHITE | No comorbidity | NA |\n",
       "\n"
      ],
      "text/plain": [
       "  PATIENT_NUM X101 X102 X103 X104 X105 X106 X107 X108 X109 ⋯ GH_MENTAL_SCORE\n",
       "1 13118       0    0    0    0    0    0    0    0    0    ⋯ 43.5           \n",
       "2 21384       0    0    0    0    0    0    0    0    0    ⋯ 53.3           \n",
       "3  6240       0    0    0    0    0    0    0    0    0    ⋯ 48.3           \n",
       "4  1827       0    0    0    0    0    0    0    0    0    ⋯   NA           \n",
       "5 11309       0    0    0    0    0    0    0    0    0    ⋯ 45.8           \n",
       "6 11093       0    0    0    0    0    0    0    0    0    ⋯ 31.3           \n",
       "  GH_PHYSICAL_SCORE AGE_AT_CONTACT BMI   CCI_TOTAL_SCORE\n",
       "1 29.6              78             33.67 0              \n",
       "2 37.4              70             36.26 0              \n",
       "3 37.4              75             27.25 0              \n",
       "4   NA              61                NA 0              \n",
       "5 34.9              63             28.89 0              \n",
       "6 26.7              54             27.32 0              \n",
       "  PAIN_INTENSITY_AVERAGE.FOLLOW_UP PAT_SEX PAT_RACE CCI_BIN        MEDICAID_BIN\n",
       "1 2                                male    WHITE    No comorbidity no          \n",
       "2 5                                female  WHITE    No comorbidity no          \n",
       "3 6                                male    WHITE    No comorbidity no          \n",
       "4 7                                male    WHITE    No comorbidity no          \n",
       "5 6                                male    WHITE    No comorbidity no          \n",
       "6 0                                male    WHITE    No comorbidity NA          "
      ]
     },
     "metadata": {},
     "output_type": "display_data"
    },
    {
     "data": {
      "text/html": [
       "<style>\n",
       ".list-inline {list-style: none; margin:0; padding: 0}\n",
       ".list-inline>li {display: inline-block}\n",
       ".list-inline>li:not(:last-child)::after {content: \"\\00b7\"; padding: 0 .5ex}\n",
       "</style>\n",
       "<ol class=list-inline><li>'PATIENT_NUM'</li><li>'X101'</li><li>'X102'</li><li>'X103'</li><li>'X104'</li><li>'X105'</li><li>'X106'</li><li>'X107'</li><li>'X108'</li><li>'X109'</li><li>'X110'</li><li>'X111'</li><li>'X112'</li><li>'X113'</li><li>'X114'</li><li>'X115'</li><li>'X116'</li><li>'X117'</li><li>'X118'</li><li>'X119'</li><li>'X120'</li><li>'X121'</li><li>'X122'</li><li>'X123'</li><li>'X124'</li><li>'X125'</li><li>'X126'</li><li>'X127'</li><li>'X128'</li><li>'X129'</li><li>'X130'</li><li>'X131'</li><li>'X132'</li><li>'X133'</li><li>'X134'</li><li>'X135'</li><li>'X136'</li><li>'X201'</li><li>'X202'</li><li>'X203'</li><li>'X204'</li><li>'X205'</li><li>'X206'</li><li>'X207'</li><li>'X208'</li><li>'X209'</li><li>'X210'</li><li>'X211'</li><li>'X212'</li><li>'X213'</li><li>'X214'</li><li>'X215'</li><li>'X216'</li><li>'X217'</li><li>'X218'</li><li>'X219'</li><li>'X220'</li><li>'X221'</li><li>'X222'</li><li>'X223'</li><li>'X224'</li><li>'X225'</li><li>'X226'</li><li>'X227'</li><li>'X228'</li><li>'X229'</li><li>'X230'</li><li>'X231'</li><li>'X232'</li><li>'X233'</li><li>'X234'</li><li>'X235'</li><li>'X236'</li><li>'X237'</li><li>'X238'</li><li>'PAIN_INTENSITY_AVERAGE'</li><li>'PROMIS_PHYSICAL_FUNCTION'</li><li>'PROMIS_PAIN_BEHAVIOR'</li><li>'PROMIS_DEPRESSION'</li><li>'PROMIS_ANXIETY'</li><li>'PROMIS_SLEEP_DISTURB_V1_0'</li><li>'PROMIS_PAIN_INTERFERENCE'</li><li>'GH_MENTAL_SCORE'</li><li>'GH_PHYSICAL_SCORE'</li><li>'AGE_AT_CONTACT'</li><li>'BMI'</li><li>'CCI_TOTAL_SCORE'</li><li>'PAIN_INTENSITY_AVERAGE.FOLLOW_UP'</li><li>'PAT_SEX'</li><li>'PAT_RACE'</li><li>'CCI_BIN'</li><li>'MEDICAID_BIN'</li></ol>\n"
      ],
      "text/latex": [
       "\\begin{enumerate*}\n",
       "\\item 'PATIENT\\_NUM'\n",
       "\\item 'X101'\n",
       "\\item 'X102'\n",
       "\\item 'X103'\n",
       "\\item 'X104'\n",
       "\\item 'X105'\n",
       "\\item 'X106'\n",
       "\\item 'X107'\n",
       "\\item 'X108'\n",
       "\\item 'X109'\n",
       "\\item 'X110'\n",
       "\\item 'X111'\n",
       "\\item 'X112'\n",
       "\\item 'X113'\n",
       "\\item 'X114'\n",
       "\\item 'X115'\n",
       "\\item 'X116'\n",
       "\\item 'X117'\n",
       "\\item 'X118'\n",
       "\\item 'X119'\n",
       "\\item 'X120'\n",
       "\\item 'X121'\n",
       "\\item 'X122'\n",
       "\\item 'X123'\n",
       "\\item 'X124'\n",
       "\\item 'X125'\n",
       "\\item 'X126'\n",
       "\\item 'X127'\n",
       "\\item 'X128'\n",
       "\\item 'X129'\n",
       "\\item 'X130'\n",
       "\\item 'X131'\n",
       "\\item 'X132'\n",
       "\\item 'X133'\n",
       "\\item 'X134'\n",
       "\\item 'X135'\n",
       "\\item 'X136'\n",
       "\\item 'X201'\n",
       "\\item 'X202'\n",
       "\\item 'X203'\n",
       "\\item 'X204'\n",
       "\\item 'X205'\n",
       "\\item 'X206'\n",
       "\\item 'X207'\n",
       "\\item 'X208'\n",
       "\\item 'X209'\n",
       "\\item 'X210'\n",
       "\\item 'X211'\n",
       "\\item 'X212'\n",
       "\\item 'X213'\n",
       "\\item 'X214'\n",
       "\\item 'X215'\n",
       "\\item 'X216'\n",
       "\\item 'X217'\n",
       "\\item 'X218'\n",
       "\\item 'X219'\n",
       "\\item 'X220'\n",
       "\\item 'X221'\n",
       "\\item 'X222'\n",
       "\\item 'X223'\n",
       "\\item 'X224'\n",
       "\\item 'X225'\n",
       "\\item 'X226'\n",
       "\\item 'X227'\n",
       "\\item 'X228'\n",
       "\\item 'X229'\n",
       "\\item 'X230'\n",
       "\\item 'X231'\n",
       "\\item 'X232'\n",
       "\\item 'X233'\n",
       "\\item 'X234'\n",
       "\\item 'X235'\n",
       "\\item 'X236'\n",
       "\\item 'X237'\n",
       "\\item 'X238'\n",
       "\\item 'PAIN\\_INTENSITY\\_AVERAGE'\n",
       "\\item 'PROMIS\\_PHYSICAL\\_FUNCTION'\n",
       "\\item 'PROMIS\\_PAIN\\_BEHAVIOR'\n",
       "\\item 'PROMIS\\_DEPRESSION'\n",
       "\\item 'PROMIS\\_ANXIETY'\n",
       "\\item 'PROMIS\\_SLEEP\\_DISTURB\\_V1\\_0'\n",
       "\\item 'PROMIS\\_PAIN\\_INTERFERENCE'\n",
       "\\item 'GH\\_MENTAL\\_SCORE'\n",
       "\\item 'GH\\_PHYSICAL\\_SCORE'\n",
       "\\item 'AGE\\_AT\\_CONTACT'\n",
       "\\item 'BMI'\n",
       "\\item 'CCI\\_TOTAL\\_SCORE'\n",
       "\\item 'PAIN\\_INTENSITY\\_AVERAGE.FOLLOW\\_UP'\n",
       "\\item 'PAT\\_SEX'\n",
       "\\item 'PAT\\_RACE'\n",
       "\\item 'CCI\\_BIN'\n",
       "\\item 'MEDICAID\\_BIN'\n",
       "\\end{enumerate*}\n"
      ],
      "text/markdown": [
       "1. 'PATIENT_NUM'\n",
       "2. 'X101'\n",
       "3. 'X102'\n",
       "4. 'X103'\n",
       "5. 'X104'\n",
       "6. 'X105'\n",
       "7. 'X106'\n",
       "8. 'X107'\n",
       "9. 'X108'\n",
       "10. 'X109'\n",
       "11. 'X110'\n",
       "12. 'X111'\n",
       "13. 'X112'\n",
       "14. 'X113'\n",
       "15. 'X114'\n",
       "16. 'X115'\n",
       "17. 'X116'\n",
       "18. 'X117'\n",
       "19. 'X118'\n",
       "20. 'X119'\n",
       "21. 'X120'\n",
       "22. 'X121'\n",
       "23. 'X122'\n",
       "24. 'X123'\n",
       "25. 'X124'\n",
       "26. 'X125'\n",
       "27. 'X126'\n",
       "28. 'X127'\n",
       "29. 'X128'\n",
       "30. 'X129'\n",
       "31. 'X130'\n",
       "32. 'X131'\n",
       "33. 'X132'\n",
       "34. 'X133'\n",
       "35. 'X134'\n",
       "36. 'X135'\n",
       "37. 'X136'\n",
       "38. 'X201'\n",
       "39. 'X202'\n",
       "40. 'X203'\n",
       "41. 'X204'\n",
       "42. 'X205'\n",
       "43. 'X206'\n",
       "44. 'X207'\n",
       "45. 'X208'\n",
       "46. 'X209'\n",
       "47. 'X210'\n",
       "48. 'X211'\n",
       "49. 'X212'\n",
       "50. 'X213'\n",
       "51. 'X214'\n",
       "52. 'X215'\n",
       "53. 'X216'\n",
       "54. 'X217'\n",
       "55. 'X218'\n",
       "56. 'X219'\n",
       "57. 'X220'\n",
       "58. 'X221'\n",
       "59. 'X222'\n",
       "60. 'X223'\n",
       "61. 'X224'\n",
       "62. 'X225'\n",
       "63. 'X226'\n",
       "64. 'X227'\n",
       "65. 'X228'\n",
       "66. 'X229'\n",
       "67. 'X230'\n",
       "68. 'X231'\n",
       "69. 'X232'\n",
       "70. 'X233'\n",
       "71. 'X234'\n",
       "72. 'X235'\n",
       "73. 'X236'\n",
       "74. 'X237'\n",
       "75. 'X238'\n",
       "76. 'PAIN_INTENSITY_AVERAGE'\n",
       "77. 'PROMIS_PHYSICAL_FUNCTION'\n",
       "78. 'PROMIS_PAIN_BEHAVIOR'\n",
       "79. 'PROMIS_DEPRESSION'\n",
       "80. 'PROMIS_ANXIETY'\n",
       "81. 'PROMIS_SLEEP_DISTURB_V1_0'\n",
       "82. 'PROMIS_PAIN_INTERFERENCE'\n",
       "83. 'GH_MENTAL_SCORE'\n",
       "84. 'GH_PHYSICAL_SCORE'\n",
       "85. 'AGE_AT_CONTACT'\n",
       "86. 'BMI'\n",
       "87. 'CCI_TOTAL_SCORE'\n",
       "88. 'PAIN_INTENSITY_AVERAGE.FOLLOW_UP'\n",
       "89. 'PAT_SEX'\n",
       "90. 'PAT_RACE'\n",
       "91. 'CCI_BIN'\n",
       "92. 'MEDICAID_BIN'\n",
       "\n",
       "\n"
      ],
      "text/plain": [
       " [1] \"PATIENT_NUM\"                      \"X101\"                            \n",
       " [3] \"X102\"                             \"X103\"                            \n",
       " [5] \"X104\"                             \"X105\"                            \n",
       " [7] \"X106\"                             \"X107\"                            \n",
       " [9] \"X108\"                             \"X109\"                            \n",
       "[11] \"X110\"                             \"X111\"                            \n",
       "[13] \"X112\"                             \"X113\"                            \n",
       "[15] \"X114\"                             \"X115\"                            \n",
       "[17] \"X116\"                             \"X117\"                            \n",
       "[19] \"X118\"                             \"X119\"                            \n",
       "[21] \"X120\"                             \"X121\"                            \n",
       "[23] \"X122\"                             \"X123\"                            \n",
       "[25] \"X124\"                             \"X125\"                            \n",
       "[27] \"X126\"                             \"X127\"                            \n",
       "[29] \"X128\"                             \"X129\"                            \n",
       "[31] \"X130\"                             \"X131\"                            \n",
       "[33] \"X132\"                             \"X133\"                            \n",
       "[35] \"X134\"                             \"X135\"                            \n",
       "[37] \"X136\"                             \"X201\"                            \n",
       "[39] \"X202\"                             \"X203\"                            \n",
       "[41] \"X204\"                             \"X205\"                            \n",
       "[43] \"X206\"                             \"X207\"                            \n",
       "[45] \"X208\"                             \"X209\"                            \n",
       "[47] \"X210\"                             \"X211\"                            \n",
       "[49] \"X212\"                             \"X213\"                            \n",
       "[51] \"X214\"                             \"X215\"                            \n",
       "[53] \"X216\"                             \"X217\"                            \n",
       "[55] \"X218\"                             \"X219\"                            \n",
       "[57] \"X220\"                             \"X221\"                            \n",
       "[59] \"X222\"                             \"X223\"                            \n",
       "[61] \"X224\"                             \"X225\"                            \n",
       "[63] \"X226\"                             \"X227\"                            \n",
       "[65] \"X228\"                             \"X229\"                            \n",
       "[67] \"X230\"                             \"X231\"                            \n",
       "[69] \"X232\"                             \"X233\"                            \n",
       "[71] \"X234\"                             \"X235\"                            \n",
       "[73] \"X236\"                             \"X237\"                            \n",
       "[75] \"X238\"                             \"PAIN_INTENSITY_AVERAGE\"          \n",
       "[77] \"PROMIS_PHYSICAL_FUNCTION\"         \"PROMIS_PAIN_BEHAVIOR\"            \n",
       "[79] \"PROMIS_DEPRESSION\"                \"PROMIS_ANXIETY\"                  \n",
       "[81] \"PROMIS_SLEEP_DISTURB_V1_0\"        \"PROMIS_PAIN_INTERFERENCE\"        \n",
       "[83] \"GH_MENTAL_SCORE\"                  \"GH_PHYSICAL_SCORE\"               \n",
       "[85] \"AGE_AT_CONTACT\"                   \"BMI\"                             \n",
       "[87] \"CCI_TOTAL_SCORE\"                  \"PAIN_INTENSITY_AVERAGE.FOLLOW_UP\"\n",
       "[89] \"PAT_SEX\"                          \"PAT_RACE\"                        \n",
       "[91] \"CCI_BIN\"                          \"MEDICAID_BIN\"                    "
      ]
     },
     "metadata": {},
     "output_type": "display_data"
    }
   ],
   "source": [
    "head(pain)\n",
    "names(pain)"
   ]
  },
  {
   "cell_type": "markdown",
   "id": "cb614258",
   "metadata": {},
   "source": [
    "Recall that the `$` operator can be used to access a single column. Alternatively, we can use double brackets `[[]]` to select a column. Below, we demonstrate both ways to print the first five values in the column with the patient's average pain intensity."
   ]
  },
  {
   "cell_type": "code",
   "execution_count": 33,
   "id": "fdbc2bb8",
   "metadata": {},
   "outputs": [
    {
     "data": {
      "text/html": [
       "<style>\n",
       ".list-inline {list-style: none; margin:0; padding: 0}\n",
       ".list-inline>li {display: inline-block}\n",
       ".list-inline>li:not(:last-child)::after {content: \"\\00b7\"; padding: 0 .5ex}\n",
       "</style>\n",
       "<ol class=list-inline><li>7</li><li>5</li><li>4</li><li>7</li><li>8</li></ol>\n"
      ],
      "text/latex": [
       "\\begin{enumerate*}\n",
       "\\item 7\n",
       "\\item 5\n",
       "\\item 4\n",
       "\\item 7\n",
       "\\item 8\n",
       "\\end{enumerate*}\n"
      ],
      "text/markdown": [
       "1. 7\n",
       "2. 5\n",
       "3. 4\n",
       "4. 7\n",
       "5. 8\n",
       "\n",
       "\n"
      ],
      "text/plain": [
       "[1] 7 5 4 7 8"
      ]
     },
     "metadata": {},
     "output_type": "display_data"
    },
    {
     "data": {
      "text/html": [
       "<style>\n",
       ".list-inline {list-style: none; margin:0; padding: 0}\n",
       ".list-inline>li {display: inline-block}\n",
       ".list-inline>li:not(:last-child)::after {content: \"\\00b7\"; padding: 0 .5ex}\n",
       "</style>\n",
       "<ol class=list-inline><li>7</li><li>5</li><li>4</li><li>7</li><li>8</li></ol>\n"
      ],
      "text/latex": [
       "\\begin{enumerate*}\n",
       "\\item 7\n",
       "\\item 5\n",
       "\\item 4\n",
       "\\item 7\n",
       "\\item 8\n",
       "\\end{enumerate*}\n"
      ],
      "text/markdown": [
       "1. 7\n",
       "2. 5\n",
       "3. 4\n",
       "4. 7\n",
       "5. 8\n",
       "\n",
       "\n"
      ],
      "text/plain": [
       "[1] 7 5 4 7 8"
      ]
     },
     "metadata": {},
     "output_type": "display_data"
    }
   ],
   "source": [
    "pain$PAIN_INTENSITY_AVERAGE[1:5]\n",
    "pain[[\"PAIN_INTENSITY_AVERAGE\"]][1:5]"
   ]
  },
  {
   "cell_type": "markdown",
   "id": "9d769483",
   "metadata": {},
   "source": [
    "## Column Summaries\n",
    "\n",
    "To explore the range and distribution of a column's values, we can use some of the base R functions. For example, the `summary()` function is a useful way to summarize a numeric column's values. Below, we can see that the pain intensity values range from 0 to 10 with a median value of 7 and that there is 1 NA value."
   ]
  },
  {
   "cell_type": "code",
   "execution_count": 34,
   "id": "56848cf0",
   "metadata": {},
   "outputs": [
    {
     "data": {
      "text/plain": [
       "   Min. 1st Qu.  Median    Mean 3rd Qu.    Max.    NA's \n",
       "  0.000   5.000   7.000   6.485   8.000  10.000       1 "
      ]
     },
     "metadata": {},
     "output_type": "display_data"
    }
   ],
   "source": [
    "summary(pain$PAIN_INTENSITY_AVERAGE)"
   ]
  },
  {
   "cell_type": "markdown",
   "id": "fa4ac82d",
   "metadata": {},
   "source": [
    "We have already seen the `max()`, `min()`, `mean()`, and `median()` functions that could have computed some of these values for us separately. Since we do have an NA value, we add the `na.rm=TRUE` argument to these functions. Without this argument, the returned value for all of the functions will be NA. "
   ]
  },
  {
   "cell_type": "code",
   "execution_count": 35,
   "id": "9da43b09",
   "metadata": {},
   "outputs": [
    {
     "data": {
      "text/html": [
       "0"
      ],
      "text/latex": [
       "0"
      ],
      "text/markdown": [
       "0"
      ],
      "text/plain": [
       "[1] 0"
      ]
     },
     "metadata": {},
     "output_type": "display_data"
    },
    {
     "data": {
      "text/html": [
       "10"
      ],
      "text/latex": [
       "10"
      ],
      "text/markdown": [
       "10"
      ],
      "text/plain": [
       "[1] 10"
      ]
     },
     "metadata": {},
     "output_type": "display_data"
    },
    {
     "data": {
      "text/html": [
       "6.48527103148952"
      ],
      "text/latex": [
       "6.48527103148952"
      ],
      "text/markdown": [
       "6.48527103148952"
      ],
      "text/plain": [
       "[1] 6.485271"
      ]
     },
     "metadata": {},
     "output_type": "display_data"
    },
    {
     "data": {
      "text/html": [
       "7"
      ],
      "text/latex": [
       "7"
      ],
      "text/markdown": [
       "7"
      ],
      "text/plain": [
       "[1] 7"
      ]
     },
     "metadata": {},
     "output_type": "display_data"
    }
   ],
   "source": [
    "min(pain$PAIN_INTENSITY_AVERAGE, na.rm=TRUE)\n",
    "max(pain$PAIN_INTENSITY_AVERAGE, na.rm=TRUE)\n",
    "mean(pain$PAIN_INTENSITY_AVERAGE, na.rm=TRUE)\n",
    "median(pain$PAIN_INTENSITY_AVERAGE, na.rm=TRUE)"
   ]
  },
  {
   "cell_type": "markdown",
   "id": "10be27f5",
   "metadata": {},
   "source": [
    "Additionally, the functions below are helpful for summarizing quantitative variables.\n",
    "\n",
    "* `range()` - returns the minimum and maximum values for a numeric vector x\n",
    "* `quantile()` - returns the sample quantiles for a numeric vector\n",
    "* `IQR()` - returns the interquartile range for a numeric vector\n",
    "\n",
    "By default, the `quantile()` function returns the sample quartiles. "
   ]
  },
  {
   "cell_type": "code",
   "execution_count": 36,
   "id": "a7c881b4",
   "metadata": {},
   "outputs": [
    {
     "data": {
      "text/html": [
       "<style>\n",
       ".dl-inline {width: auto; margin:0; padding: 0}\n",
       ".dl-inline>dt, .dl-inline>dd {float: none; width: auto; display: inline-block}\n",
       ".dl-inline>dt::after {content: \":\\0020\"; padding-right: .5ex}\n",
       ".dl-inline>dt:not(:first-of-type) {padding-left: .5ex}\n",
       "</style><dl class=dl-inline><dt>0%</dt><dd>0</dd><dt>25%</dt><dd>5</dd><dt>50%</dt><dd>7</dd><dt>75%</dt><dd>8</dd><dt>100%</dt><dd>10</dd></dl>\n"
      ],
      "text/latex": [
       "\\begin{description*}\n",
       "\\item[0\\textbackslash{}\\%] 0\n",
       "\\item[25\\textbackslash{}\\%] 5\n",
       "\\item[50\\textbackslash{}\\%] 7\n",
       "\\item[75\\textbackslash{}\\%] 8\n",
       "\\item[100\\textbackslash{}\\%] 10\n",
       "\\end{description*}\n"
      ],
      "text/markdown": [
       "0%\n",
       ":   025%\n",
       ":   550%\n",
       ":   775%\n",
       ":   8100%\n",
       ":   10\n",
       "\n"
      ],
      "text/plain": [
       "  0%  25%  50%  75% 100% \n",
       "   0    5    7    8   10 "
      ]
     },
     "metadata": {},
     "output_type": "display_data"
    }
   ],
   "source": [
    "quantile(pain$PAIN_INTENSITY_AVERAGE, na.rm = TRUE)"
   ]
  },
  {
   "cell_type": "markdown",
   "id": "4b34dce2",
   "metadata": {},
   "source": [
    "However, we can pass in a list of probabilities to use instead. For example, below we find the 0.1 and 0.9 quantiles. Again, we add the `na.rm=TRUE` argument. "
   ]
  },
  {
   "cell_type": "code",
   "execution_count": 37,
   "id": "2c955db0",
   "metadata": {},
   "outputs": [
    {
     "data": {
      "text/html": [
       "<style>\n",
       ".dl-inline {width: auto; margin:0; padding: 0}\n",
       ".dl-inline>dt, .dl-inline>dd {float: none; width: auto; display: inline-block}\n",
       ".dl-inline>dt::after {content: \":\\0020\"; padding-right: .5ex}\n",
       ".dl-inline>dt:not(:first-of-type) {padding-left: .5ex}\n",
       "</style><dl class=dl-inline><dt>10%</dt><dd>4</dd><dt>90%</dt><dd>9</dd></dl>\n"
      ],
      "text/latex": [
       "\\begin{description*}\n",
       "\\item[10\\textbackslash{}\\%] 4\n",
       "\\item[90\\textbackslash{}\\%] 9\n",
       "\\end{description*}\n"
      ],
      "text/markdown": [
       "10%\n",
       ":   490%\n",
       ":   9\n",
       "\n"
      ],
      "text/plain": [
       "10% 90% \n",
       "  4   9 "
      ]
     },
     "metadata": {},
     "output_type": "display_data"
    }
   ],
   "source": [
    "quantile(pain$PAIN_INTENSITY_AVERAGE, probs = c(0.1, 0.9), na.rm=TRUE)"
   ]
  },
  {
   "cell_type": "markdown",
   "id": "e602c29b",
   "metadata": {},
   "source": [
    "We can also plot a histogram of the sample distribution using the `hist()` function. "
   ]
  },
  {
   "cell_type": "code",
   "execution_count": 38,
   "id": "c3d6576d",
   "metadata": {},
   "outputs": [
    {
     "data": {
      "image/png": "[encoded data removed]",
      "text/plain": [
       "Plot with title “Histogram of pain$PAIN_INTENSITY_AVERAGE”"
      ]
     },
     "metadata": {
      "image/png": {
       "height": 420,
       "width": 420
      }
     },
     "output_type": "display_data"
    }
   ],
   "source": [
    "hist(pain$PAIN_INTENSITY_AVERAGE)"
   ]
  },
  {
   "cell_type": "markdown",
   "id": "0166a23a",
   "metadata": {},
   "source": [
    "### Missing values\n",
    "\n",
    "As we saw above, this data contains some missing values, which are represented as `NA` in R. R treats these values as if they were unknown, which is why we have to add the `na.rm=TRUE` argument to functions like `sum()` and `max()`. In the example below, we can see that R figures out that 1 plus an unknown number is also unknown!"
   ]
  },
  {
   "cell_type": "code",
   "execution_count": 39,
   "id": "329d4e30",
   "metadata": {},
   "outputs": [
    {
     "data": {
      "text/html": [
       "&lt;NA&gt;"
      ],
      "text/latex": [
       "<NA>"
      ],
      "text/markdown": [
       "&lt;NA&gt;"
      ],
      "text/plain": [
       "[1] NA"
      ]
     },
     "metadata": {},
     "output_type": "display_data"
    }
   ],
   "source": [
    "NA+1"
   ]
  },
  {
   "cell_type": "markdown",
   "id": "c3064369",
   "metadata": {},
   "source": [
    "We can determine whether a value is missing using the function `is.na()`. This function returns `TRUE` if the value is NA and `FALSE` otherwise. We can then sum up these values for a single column, since each `TRUE` value corresponds to a value of 1 and each `FALSE` corresponds to a value of 0. Below we can see that there is a single NA value for the column `PATIENT_NUM`, which is the patient ID number."
   ]
  },
  {
   "cell_type": "code",
   "execution_count": 40,
   "id": "a7b1df1b",
   "metadata": {},
   "outputs": [
    {
     "data": {
      "text/html": [
       "1"
      ],
      "text/latex": [
       "1"
      ],
      "text/markdown": [
       "1"
      ],
      "text/plain": [
       "[1] 1"
      ]
     },
     "metadata": {},
     "output_type": "display_data"
    }
   ],
   "source": [
    "sum(is.na(pain$PATIENT_NUM))"
   ]
  },
  {
   "cell_type": "markdown",
   "id": "1e1dd06d",
   "metadata": {},
   "source": [
    "If we want to calculate the sum of NA values for each column instead of just a single column, we can use the `apply` function. Since we want to apply this computation over the columns, the second argument has value 2. Recall that the last argument is the function we want to call for each column. In this case, we want to apply the combination of the `sum()` and `is.na()` function. To do so, we have to specify this function ourselves. This is called an **anonymous function** since it doesn't have a name. "
   ]
  },
  {
   "cell_type": "code",
   "execution_count": 41,
   "id": "f78f8db9",
   "metadata": {},
   "outputs": [
    {
     "data": {
      "text/html": [
       "1"
      ],
      "text/latex": [
       "1"
      ],
      "text/markdown": [
       "1"
      ],
      "text/plain": [
       "[1] 1"
      ]
     },
     "metadata": {},
     "output_type": "display_data"
    }
   ],
   "source": [
    "num_missing_col <- apply(pain, 2, function(x) sum(is.na(x)))\n",
    "min(num_missing_col)"
   ]
  },
  {
   "cell_type": "markdown",
   "id": "ebc0dd94",
   "metadata": {},
   "source": [
    "Interestingly, we can see that there is at least one missing value in each column. It might be the case that there is a row with all NA values. Let's apply the same function by row. Taking the maximum, we can see that row 11749 has all NA values."
   ]
  },
  {
   "cell_type": "code",
   "execution_count": 42,
   "id": "0fb2b31e",
   "metadata": {},
   "outputs": [
    {
     "data": {
      "text/html": [
       "92"
      ],
      "text/latex": [
       "92"
      ],
      "text/markdown": [
       "92"
      ],
      "text/plain": [
       "[1] 92"
      ]
     },
     "metadata": {},
     "output_type": "display_data"
    },
    {
     "data": {
      "text/html": [
       "11749"
      ],
      "text/latex": [
       "11749"
      ],
      "text/markdown": [
       "11749"
      ],
      "text/plain": [
       "[1] 11749"
      ]
     },
     "metadata": {},
     "output_type": "display_data"
    }
   ],
   "source": [
    "num_missing_row <- apply(pain, 1, function(x) sum(is.na(x)))\n",
    "max(num_missing_row)\n",
    "which.max(num_missing_row)"
   ]
  },
  {
   "cell_type": "markdown",
   "id": "f250c1b3",
   "metadata": {},
   "source": [
    "We remove that row and then find the percentage of missing values by column. We can see that the column with the highest percentage of missing values is the pain intensity at follow-up. In fact, only 33% of patients have a recorded follow-up visit. "
   ]
  },
  {
   "cell_type": "code",
   "execution_count": 43,
   "id": "cd7690a1",
   "metadata": {},
   "outputs": [
    {
     "data": {
      "text/html": [
       "<style>\n",
       ".dl-inline {width: auto; margin:0; padding: 0}\n",
       ".dl-inline>dt, .dl-inline>dd {float: none; width: auto; display: inline-block}\n",
       ".dl-inline>dt::after {content: \":\\0020\"; padding-right: .5ex}\n",
       ".dl-inline>dt:not(:first-of-type) {padding-left: .5ex}\n",
       "</style><dl class=dl-inline><dt>PATIENT_NUM</dt><dd>0</dd><dt>X101</dt><dd>0</dd><dt>X102</dt><dd>0</dd><dt>X103</dt><dd>0</dd><dt>X104</dt><dd>0</dd><dt>X105</dt><dd>0</dd><dt>X106</dt><dd>0</dd><dt>X107</dt><dd>0</dd><dt>X108</dt><dd>0</dd><dt>X109</dt><dd>0</dd><dt>X110</dt><dd>0</dd><dt>X111</dt><dd>0</dd><dt>X112</dt><dd>0</dd><dt>X113</dt><dd>0</dd><dt>X114</dt><dd>0</dd><dt>X115</dt><dd>0</dd><dt>X116</dt><dd>0</dd><dt>X117</dt><dd>0</dd><dt>X118</dt><dd>0</dd><dt>X119</dt><dd>0</dd><dt>X120</dt><dd>0</dd><dt>X121</dt><dd>0</dd><dt>X122</dt><dd>0</dd><dt>X123</dt><dd>0</dd><dt>X124</dt><dd>0</dd><dt>X125</dt><dd>0</dd><dt>X126</dt><dd>0</dd><dt>X127</dt><dd>0</dd><dt>X128</dt><dd>0</dd><dt>X129</dt><dd>0</dd><dt>X130</dt><dd>0</dd><dt>X131</dt><dd>0</dd><dt>X132</dt><dd>0</dd><dt>X133</dt><dd>0</dd><dt>X134</dt><dd>0</dd><dt>X135</dt><dd>0</dd><dt>X136</dt><dd>0</dd><dt>X201</dt><dd>0</dd><dt>X202</dt><dd>0</dd><dt>X203</dt><dd>0</dd><dt>X204</dt><dd>0</dd><dt>X205</dt><dd>0</dd><dt>X206</dt><dd>0</dd><dt>X207</dt><dd>0</dd><dt>X208</dt><dd>0</dd><dt>X209</dt><dd>0</dd><dt>X210</dt><dd>0</dd><dt>X211</dt><dd>0</dd><dt>X212</dt><dd>0</dd><dt>X213</dt><dd>0</dd><dt>X214</dt><dd>0</dd><dt>X215</dt><dd>0</dd><dt>X216</dt><dd>0</dd><dt>X217</dt><dd>0</dd><dt>X218</dt><dd>0</dd><dt>X219</dt><dd>0</dd><dt>X220</dt><dd>0</dd><dt>X221</dt><dd>0</dd><dt>X222</dt><dd>0</dd><dt>X223</dt><dd>0</dd><dt>X224</dt><dd>0</dd><dt>X225</dt><dd>0</dd><dt>X226</dt><dd>0</dd><dt>X227</dt><dd>0</dd><dt>X228</dt><dd>0</dd><dt>X229</dt><dd>0</dd><dt>X230</dt><dd>0</dd><dt>X231</dt><dd>0</dd><dt>X232</dt><dd>0</dd><dt>X233</dt><dd>0</dd><dt>X234</dt><dd>0</dd><dt>X235</dt><dd>0</dd><dt>X236</dt><dd>0</dd><dt>X237</dt><dd>0</dd><dt>X238</dt><dd>0</dd><dt>PAIN_INTENSITY_AVERAGE</dt><dd>0</dd><dt>PROMIS_PHYSICAL_FUNCTION</dt><dd>0</dd><dt>PROMIS_PAIN_BEHAVIOR</dt><dd>0.294117647058824</dd><dt>PROMIS_DEPRESSION</dt><dd>0.0040169914119494</dd><dt>PROMIS_ANXIETY</dt><dd>0.0040169914119494</dd><dt>PROMIS_SLEEP_DISTURB_V1_0</dt><dd>0.0040169914119494</dd><dt>PROMIS_PAIN_INTERFERENCE</dt><dd>0.00697201957706159</dd><dt>GH_MENTAL_SCORE</dt><dd>0.136023640225321</dd><dt>GH_PHYSICAL_SCORE</dt><dd>0.136023640225321</dd><dt>AGE_AT_CONTACT</dt><dd>0</dd><dt>BMI</dt><dd>0.260042478529873</dd><dt>CCI_TOTAL_SCORE</dt><dd>0</dd><dt>PAIN_INTENSITY_AVERAGE.FOLLOW_UP</dt><dd>0.67042201495983</dd><dt>PAT_SEX</dt><dd>0</dd><dt>PAT_RACE</dt><dd>0.00651029642626281</dd><dt>CCI_BIN</dt><dd>0</dd><dt>MEDICAID_BIN</dt><dd>0.0138516945239634</dd></dl>\n"
      ],
      "text/latex": [
       "\\begin{description*}\n",
       "\\item[PATIENT\\textbackslash{}\\_NUM] 0\n",
       "\\item[X101] 0\n",
       "\\item[X102] 0\n",
       "\\item[X103] 0\n",
       "\\item[X104] 0\n",
       "\\item[X105] 0\n",
       "\\item[X106] 0\n",
       "\\item[X107] 0\n",
       "\\item[X108] 0\n",
       "\\item[X109] 0\n",
       "\\item[X110] 0\n",
       "\\item[X111] 0\n",
       "\\item[X112] 0\n",
       "\\item[X113] 0\n",
       "\\item[X114] 0\n",
       "\\item[X115] 0\n",
       "\\item[X116] 0\n",
       "\\item[X117] 0\n",
       "\\item[X118] 0\n",
       "\\item[X119] 0\n",
       "\\item[X120] 0\n",
       "\\item[X121] 0\n",
       "\\item[X122] 0\n",
       "\\item[X123] 0\n",
       "\\item[X124] 0\n",
       "\\item[X125] 0\n",
       "\\item[X126] 0\n",
       "\\item[X127] 0\n",
       "\\item[X128] 0\n",
       "\\item[X129] 0\n",
       "\\item[X130] 0\n",
       "\\item[X131] 0\n",
       "\\item[X132] 0\n",
       "\\item[X133] 0\n",
       "\\item[X134] 0\n",
       "\\item[X135] 0\n",
       "\\item[X136] 0\n",
       "\\item[X201] 0\n",
       "\\item[X202] 0\n",
       "\\item[X203] 0\n",
       "\\item[X204] 0\n",
       "\\item[X205] 0\n",
       "\\item[X206] 0\n",
       "\\item[X207] 0\n",
       "\\item[X208] 0\n",
       "\\item[X209] 0\n",
       "\\item[X210] 0\n",
       "\\item[X211] 0\n",
       "\\item[X212] 0\n",
       "\\item[X213] 0\n",
       "\\item[X214] 0\n",
       "\\item[X215] 0\n",
       "\\item[X216] 0\n",
       "\\item[X217] 0\n",
       "\\item[X218] 0\n",
       "\\item[X219] 0\n",
       "\\item[X220] 0\n",
       "\\item[X221] 0\n",
       "\\item[X222] 0\n",
       "\\item[X223] 0\n",
       "\\item[X224] 0\n",
       "\\item[X225] 0\n",
       "\\item[X226] 0\n",
       "\\item[X227] 0\n",
       "\\item[X228] 0\n",
       "\\item[X229] 0\n",
       "\\item[X230] 0\n",
       "\\item[X231] 0\n",
       "\\item[X232] 0\n",
       "\\item[X233] 0\n",
       "\\item[X234] 0\n",
       "\\item[X235] 0\n",
       "\\item[X236] 0\n",
       "\\item[X237] 0\n",
       "\\item[X238] 0\n",
       "\\item[PAIN\\textbackslash{}\\_INTENSITY\\textbackslash{}\\_AVERAGE] 0\n",
       "\\item[PROMIS\\textbackslash{}\\_PHYSICAL\\textbackslash{}\\_FUNCTION] 0\n",
       "\\item[PROMIS\\textbackslash{}\\_PAIN\\textbackslash{}\\_BEHAVIOR] 0.294117647058824\n",
       "\\item[PROMIS\\textbackslash{}\\_DEPRESSION] 0.0040169914119494\n",
       "\\item[PROMIS\\textbackslash{}\\_ANXIETY] 0.0040169914119494\n",
       "\\item[PROMIS\\textbackslash{}\\_SLEEP\\textbackslash{}\\_DISTURB\\textbackslash{}\\_V1\\textbackslash{}\\_0] 0.0040169914119494\n",
       "\\item[PROMIS\\textbackslash{}\\_PAIN\\textbackslash{}\\_INTERFERENCE] 0.00697201957706159\n",
       "\\item[GH\\textbackslash{}\\_MENTAL\\textbackslash{}\\_SCORE] 0.136023640225321\n",
       "\\item[GH\\textbackslash{}\\_PHYSICAL\\textbackslash{}\\_SCORE] 0.136023640225321\n",
       "\\item[AGE\\textbackslash{}\\_AT\\textbackslash{}\\_CONTACT] 0\n",
       "\\item[BMI] 0.260042478529873\n",
       "\\item[CCI\\textbackslash{}\\_TOTAL\\textbackslash{}\\_SCORE] 0\n",
       "\\item[PAIN\\textbackslash{}\\_INTENSITY\\textbackslash{}\\_AVERAGE.FOLLOW\\textbackslash{}\\_UP] 0.67042201495983\n",
       "\\item[PAT\\textbackslash{}\\_SEX] 0\n",
       "\\item[PAT\\textbackslash{}\\_RACE] 0.00651029642626281\n",
       "\\item[CCI\\textbackslash{}\\_BIN] 0\n",
       "\\item[MEDICAID\\textbackslash{}\\_BIN] 0.0138516945239634\n",
       "\\end{description*}\n"
      ],
      "text/markdown": [
       "PATIENT_NUM\n",
       ":   0X101\n",
       ":   0X102\n",
       ":   0X103\n",
       ":   0X104\n",
       ":   0X105\n",
       ":   0X106\n",
       ":   0X107\n",
       ":   0X108\n",
       ":   0X109\n",
       ":   0X110\n",
       ":   0X111\n",
       ":   0X112\n",
       ":   0X113\n",
       ":   0X114\n",
       ":   0X115\n",
       ":   0X116\n",
       ":   0X117\n",
       ":   0X118\n",
       ":   0X119\n",
       ":   0X120\n",
       ":   0X121\n",
       ":   0X122\n",
       ":   0X123\n",
       ":   0X124\n",
       ":   0X125\n",
       ":   0X126\n",
       ":   0X127\n",
       ":   0X128\n",
       ":   0X129\n",
       ":   0X130\n",
       ":   0X131\n",
       ":   0X132\n",
       ":   0X133\n",
       ":   0X134\n",
       ":   0X135\n",
       ":   0X136\n",
       ":   0X201\n",
       ":   0X202\n",
       ":   0X203\n",
       ":   0X204\n",
       ":   0X205\n",
       ":   0X206\n",
       ":   0X207\n",
       ":   0X208\n",
       ":   0X209\n",
       ":   0X210\n",
       ":   0X211\n",
       ":   0X212\n",
       ":   0X213\n",
       ":   0X214\n",
       ":   0X215\n",
       ":   0X216\n",
       ":   0X217\n",
       ":   0X218\n",
       ":   0X219\n",
       ":   0X220\n",
       ":   0X221\n",
       ":   0X222\n",
       ":   0X223\n",
       ":   0X224\n",
       ":   0X225\n",
       ":   0X226\n",
       ":   0X227\n",
       ":   0X228\n",
       ":   0X229\n",
       ":   0X230\n",
       ":   0X231\n",
       ":   0X232\n",
       ":   0X233\n",
       ":   0X234\n",
       ":   0X235\n",
       ":   0X236\n",
       ":   0X237\n",
       ":   0X238\n",
       ":   0PAIN_INTENSITY_AVERAGE\n",
       ":   0PROMIS_PHYSICAL_FUNCTION\n",
       ":   0PROMIS_PAIN_BEHAVIOR\n",
       ":   0.294117647058824PROMIS_DEPRESSION\n",
       ":   0.0040169914119494PROMIS_ANXIETY\n",
       ":   0.0040169914119494PROMIS_SLEEP_DISTURB_V1_0\n",
       ":   0.0040169914119494PROMIS_PAIN_INTERFERENCE\n",
       ":   0.00697201957706159GH_MENTAL_SCORE\n",
       ":   0.136023640225321GH_PHYSICAL_SCORE\n",
       ":   0.136023640225321AGE_AT_CONTACT\n",
       ":   0BMI\n",
       ":   0.260042478529873CCI_TOTAL_SCORE\n",
       ":   0PAIN_INTENSITY_AVERAGE.FOLLOW_UP\n",
       ":   0.67042201495983PAT_SEX\n",
       ":   0PAT_RACE\n",
       ":   0.00651029642626281CCI_BIN\n",
       ":   0MEDICAID_BIN\n",
       ":   0.0138516945239634\n",
       "\n"
      ],
      "text/plain": [
       "                     PATIENT_NUM                             X101 \n",
       "                     0.000000000                      0.000000000 \n",
       "                            X102                             X103 \n",
       "                     0.000000000                      0.000000000 \n",
       "                            X104                             X105 \n",
       "                     0.000000000                      0.000000000 \n",
       "                            X106                             X107 \n",
       "                     0.000000000                      0.000000000 \n",
       "                            X108                             X109 \n",
       "                     0.000000000                      0.000000000 \n",
       "                            X110                             X111 \n",
       "                     0.000000000                      0.000000000 \n",
       "                            X112                             X113 \n",
       "                     0.000000000                      0.000000000 \n",
       "                            X114                             X115 \n",
       "                     0.000000000                      0.000000000 \n",
       "                            X116                             X117 \n",
       "                     0.000000000                      0.000000000 \n",
       "                            X118                             X119 \n",
       "                     0.000000000                      0.000000000 \n",
       "                            X120                             X121 \n",
       "                     0.000000000                      0.000000000 \n",
       "                            X122                             X123 \n",
       "                     0.000000000                      0.000000000 \n",
       "                            X124                             X125 \n",
       "                     0.000000000                      0.000000000 \n",
       "                            X126                             X127 \n",
       "                     0.000000000                      0.000000000 \n",
       "                            X128                             X129 \n",
       "                     0.000000000                      0.000000000 \n",
       "                            X130                             X131 \n",
       "                     0.000000000                      0.000000000 \n",
       "                            X132                             X133 \n",
       "                     0.000000000                      0.000000000 \n",
       "                            X134                             X135 \n",
       "                     0.000000000                      0.000000000 \n",
       "                            X136                             X201 \n",
       "                     0.000000000                      0.000000000 \n",
       "                            X202                             X203 \n",
       "                     0.000000000                      0.000000000 \n",
       "                            X204                             X205 \n",
       "                     0.000000000                      0.000000000 \n",
       "                            X206                             X207 \n",
       "                     0.000000000                      0.000000000 \n",
       "                            X208                             X209 \n",
       "                     0.000000000                      0.000000000 \n",
       "                            X210                             X211 \n",
       "                     0.000000000                      0.000000000 \n",
       "                            X212                             X213 \n",
       "                     0.000000000                      0.000000000 \n",
       "                            X214                             X215 \n",
       "                     0.000000000                      0.000000000 \n",
       "                            X216                             X217 \n",
       "                     0.000000000                      0.000000000 \n",
       "                            X218                             X219 \n",
       "                     0.000000000                      0.000000000 \n",
       "                            X220                             X221 \n",
       "                     0.000000000                      0.000000000 \n",
       "                            X222                             X223 \n",
       "                     0.000000000                      0.000000000 \n",
       "                            X224                             X225 \n",
       "                     0.000000000                      0.000000000 \n",
       "                            X226                             X227 \n",
       "                     0.000000000                      0.000000000 \n",
       "                            X228                             X229 \n",
       "                     0.000000000                      0.000000000 \n",
       "                            X230                             X231 \n",
       "                     0.000000000                      0.000000000 \n",
       "                            X232                             X233 \n",
       "                     0.000000000                      0.000000000 \n",
       "                            X234                             X235 \n",
       "                     0.000000000                      0.000000000 \n",
       "                            X236                             X237 \n",
       "                     0.000000000                      0.000000000 \n",
       "                            X238           PAIN_INTENSITY_AVERAGE \n",
       "                     0.000000000                      0.000000000 \n",
       "        PROMIS_PHYSICAL_FUNCTION             PROMIS_PAIN_BEHAVIOR \n",
       "                     0.000000000                      0.294117647 \n",
       "               PROMIS_DEPRESSION                   PROMIS_ANXIETY \n",
       "                     0.004016991                      0.004016991 \n",
       "       PROMIS_SLEEP_DISTURB_V1_0         PROMIS_PAIN_INTERFERENCE \n",
       "                     0.004016991                      0.006972020 \n",
       "                 GH_MENTAL_SCORE                GH_PHYSICAL_SCORE \n",
       "                     0.136023640                      0.136023640 \n",
       "                  AGE_AT_CONTACT                              BMI \n",
       "                     0.000000000                      0.260042479 \n",
       "                 CCI_TOTAL_SCORE PAIN_INTENSITY_AVERAGE.FOLLOW_UP \n",
       "                     0.000000000                      0.670422015 \n",
       "                         PAT_SEX                         PAT_RACE \n",
       "                     0.000000000                      0.006510296 \n",
       "                         CCI_BIN                     MEDICAID_BIN \n",
       "                     0.000000000                      0.013851695 "
      ]
     },
     "metadata": {},
     "output_type": "display_data"
    }
   ],
   "source": [
    "pain <- pain[-11749,]\n",
    "num_missing_col <- apply(pain, 2, function(x) sum(is.na(x))/nrow(pain))\n",
    "num_missing_col"
   ]
  },
  {
   "cell_type": "code",
   "execution_count": 44,
   "id": "06465e75",
   "metadata": {},
   "outputs": [
    {
     "data": {
      "text/html": [
       "<style>\n",
       ".list-inline {list-style: none; margin:0; padding: 0}\n",
       ".list-inline>li {display: inline-block}\n",
       ".list-inline>li:not(:last-child)::after {content: \"\\00b7\"; padding: 0 .5ex}\n",
       "</style>\n",
       "<ol class=list-inline><li>2413</li><li>92</li></ol>\n"
      ],
      "text/latex": [
       "\\begin{enumerate*}\n",
       "\\item 2413\n",
       "\\item 92\n",
       "\\end{enumerate*}\n"
      ],
      "text/markdown": [
       "1. 2413\n",
       "2. 92\n",
       "\n",
       "\n"
      ],
      "text/plain": [
       "[1] 2413   92"
      ]
     },
     "metadata": {},
     "output_type": "display_data"
    },
    {
     "data": {
      "text/html": [
       "<style>\n",
       ".list-inline {list-style: none; margin:0; padding: 0}\n",
       ".list-inline>li {display: inline-block}\n",
       ".list-inline>li:not(:last-child)::after {content: \"\\00b7\"; padding: 0 .5ex}\n",
       "</style>\n",
       "<ol class=list-inline><li>2413</li><li>92</li></ol>\n"
      ],
      "text/latex": [
       "\\begin{enumerate*}\n",
       "\\item 2413\n",
       "\\item 92\n",
       "\\end{enumerate*}\n"
      ],
      "text/markdown": [
       "1. 2413\n",
       "2. 92\n",
       "\n",
       "\n"
      ],
      "text/plain": [
       "[1] 2413   92"
      ]
     },
     "metadata": {},
     "output_type": "display_data"
    }
   ],
   "source": [
    "pain_sub1 <- na.omit(pain)\n",
    "pain_sub2 <- pain[complete.cases(pain),]\n",
    "dim(pain_sub1)\n",
    "dim(pain_sub2)"
   ]
  },
  {
   "cell_type": "markdown",
   "id": "f074cda1",
   "metadata": {},
   "source": [
    "## Subsetting Data "
   ]
  },
  {
   "cell_type": "markdown",
   "id": "9118d97e",
   "metadata": {},
   "source": [
    "Above, we used TRUE/FALSE values to select rows in a data frame. The logic operators in R allow us to expand on this capability to write more complex logic. The operators are given below. \n",
    "\n",
    "* `<` less than\n",
    "* `<=` less than or equal to \n",
    "* `>` greater than\n",
    "*  `>=` greater than or equal to \n",
    "* `==` equal to\n",
    "* `!=` not equal to \n",
    "* `a %in% b` a's value is in a vector of values b\n",
    "\n",
    "The first six operators are a direct comparison between two values and are demonstrated below. "
   ]
  },
  {
   "cell_type": "code",
   "execution_count": 45,
   "id": "e06f918b",
   "metadata": {},
   "outputs": [
    {
     "data": {
      "text/html": [
       "FALSE"
      ],
      "text/latex": [
       "FALSE"
      ],
      "text/markdown": [
       "FALSE"
      ],
      "text/plain": [
       "[1] FALSE"
      ]
     },
     "metadata": {},
     "output_type": "display_data"
    },
    {
     "data": {
      "text/html": [
       "TRUE"
      ],
      "text/latex": [
       "TRUE"
      ],
      "text/markdown": [
       "TRUE"
      ],
      "text/plain": [
       "[1] TRUE"
      ]
     },
     "metadata": {},
     "output_type": "display_data"
    },
    {
     "data": {
      "text/html": [
       "TRUE"
      ],
      "text/latex": [
       "TRUE"
      ],
      "text/markdown": [
       "TRUE"
      ],
      "text/plain": [
       "[1] TRUE"
      ]
     },
     "metadata": {},
     "output_type": "display_data"
    },
    {
     "data": {
      "text/html": [
       "TRUE"
      ],
      "text/latex": [
       "TRUE"
      ],
      "text/markdown": [
       "TRUE"
      ],
      "text/plain": [
       "[1] TRUE"
      ]
     },
     "metadata": {},
     "output_type": "display_data"
    },
    {
     "data": {
      "text/html": [
       "FALSE"
      ],
      "text/latex": [
       "FALSE"
      ],
      "text/markdown": [
       "FALSE"
      ],
      "text/plain": [
       "[1] FALSE"
      ]
     },
     "metadata": {},
     "output_type": "display_data"
    },
    {
     "data": {
      "text/html": [
       "TRUE"
      ],
      "text/latex": [
       "TRUE"
      ],
      "text/markdown": [
       "TRUE"
      ],
      "text/plain": [
       "[1] TRUE"
      ]
     },
     "metadata": {},
     "output_type": "display_data"
    }
   ],
   "source": [
    "2 < 2\n",
    "2 <= 2\n",
    "3 > 2\n",
    "3 >= 2\n",
    "\"A\" == \"B\"\n",
    "\"A\" != \"B\""
   ]
  },
  {
   "cell_type": "markdown",
   "id": "74c60aab",
   "metadata": {},
   "source": [
    "The `%in%` operator is slightly different. This operator checks whether a value is in a set of possible values. Below, we can check whether values are in the set `c(4,1,2)`."
   ]
  },
  {
   "cell_type": "code",
   "execution_count": 46,
   "id": "c8c594ff",
   "metadata": {},
   "outputs": [
    {
     "data": {
      "text/html": [
       "TRUE"
      ],
      "text/latex": [
       "TRUE"
      ],
      "text/markdown": [
       "TRUE"
      ],
      "text/plain": [
       "[1] TRUE"
      ]
     },
     "metadata": {},
     "output_type": "display_data"
    },
    {
     "data": {
      "text/html": [
       "<style>\n",
       ".list-inline {list-style: none; margin:0; padding: 0}\n",
       ".list-inline>li {display: inline-block}\n",
       ".list-inline>li:not(:last-child)::after {content: \"\\00b7\"; padding: 0 .5ex}\n",
       "</style>\n",
       "<ol class=list-inline><li>FALSE</li><li>TRUE</li><li>FALSE</li></ol>\n"
      ],
      "text/latex": [
       "\\begin{enumerate*}\n",
       "\\item FALSE\n",
       "\\item TRUE\n",
       "\\item FALSE\n",
       "\\end{enumerate*}\n"
      ],
      "text/markdown": [
       "1. FALSE\n",
       "2. TRUE\n",
       "3. FALSE\n",
       "\n",
       "\n"
      ],
      "text/plain": [
       "[1] FALSE  TRUE FALSE"
      ]
     },
     "metadata": {},
     "output_type": "display_data"
    }
   ],
   "source": [
    "1 %in% c(4,1,2)\n",
    "c(0,1,5) %in% c(4,1,2)"
   ]
  },
  {
   "cell_type": "markdown",
   "id": "2f6b609e",
   "metadata": {},
   "source": [
    "Additionally, we can use the following operators, which allow us to negate or combine logical operators. \n",
    "\n",
    "* `!x` - the **NOT** operator `!` reverses TRUE/FALSE values \n",
    "* `x | y` - the **OR** operator `|` checks whether *either* x or y is equal to TRUE\n",
    "* `x & y` - the **AND** operator `&` checks whether *both* x and y are equal to TRUE\n",
    "* `xor(x,y)` - the **xor** function checks whether exactly one of x or y is equal to TRUE (called exclusive or)\n",
    "* `any(x)` - the **any** function checks whether any value in x is TRUE (equivalent to using an OR operator `|` between all values)\n",
    "* `all(x)` - the **all** function checks whether all values in x are TRUE (equivalent to using an AND operator `&` between all values)\n",
    "\n",
    "Some simple examples for each are given below. "
   ]
  },
  {
   "cell_type": "code",
   "execution_count": 47,
   "id": "4590a075",
   "metadata": {},
   "outputs": [
    {
     "data": {
      "text/html": [
       "FALSE"
      ],
      "text/latex": [
       "FALSE"
      ],
      "text/markdown": [
       "FALSE"
      ],
      "text/plain": [
       "[1] FALSE"
      ]
     },
     "metadata": {},
     "output_type": "display_data"
    },
    {
     "data": {
      "text/html": [
       "TRUE"
      ],
      "text/latex": [
       "TRUE"
      ],
      "text/markdown": [
       "TRUE"
      ],
      "text/plain": [
       "[1] TRUE"
      ]
     },
     "metadata": {},
     "output_type": "display_data"
    },
    {
     "data": {
      "text/html": [
       "FALSE"
      ],
      "text/latex": [
       "FALSE"
      ],
      "text/markdown": [
       "FALSE"
      ],
      "text/plain": [
       "[1] FALSE"
      ]
     },
     "metadata": {},
     "output_type": "display_data"
    },
    {
     "data": {
      "text/html": [
       "TRUE"
      ],
      "text/latex": [
       "TRUE"
      ],
      "text/markdown": [
       "TRUE"
      ],
      "text/plain": [
       "[1] TRUE"
      ]
     },
     "metadata": {},
     "output_type": "display_data"
    },
    {
     "data": {
      "text/html": [
       "TRUE"
      ],
      "text/latex": [
       "TRUE"
      ],
      "text/markdown": [
       "TRUE"
      ],
      "text/plain": [
       "[1] TRUE"
      ]
     },
     "metadata": {},
     "output_type": "display_data"
    },
    {
     "data": {
      "text/html": [
       "FALSE"
      ],
      "text/latex": [
       "FALSE"
      ],
      "text/markdown": [
       "FALSE"
      ],
      "text/plain": [
       "[1] FALSE"
      ]
     },
     "metadata": {},
     "output_type": "display_data"
    }
   ],
   "source": [
    "!(2 < 3)\n",
    "(\"Alice\" < \"Bob\") | (\"Alice\" < \"Aaron\")\n",
    "(\"Alice\" < \"Bob\") & (\"Alice\" < \"Aaron\")\n",
    "xor(TRUE, FALSE)\n",
    "any(c(FALSE, TRUE, TRUE))\n",
    "all(c(FALSE, TRUE, TRUE))"
   ]
  },
  {
   "cell_type": "markdown",
   "id": "6e561de0",
   "metadata": {},
   "source": [
    "Let's demonstrate these operators on the pain data. We first update the Medicaid column by making the character values more informative. The logic on the left hand side selects those that do or do not have Medicaid and then assigns those values to the new ones. "
   ]
  },
  {
   "cell_type": "code",
   "execution_count": 48,
   "id": "2773c2a8",
   "metadata": {},
   "outputs": [
    {
     "data": {
      "text/plain": [
       "\n",
       "   Medicaid No Medicaid \n",
       "       4601       16757 "
      ]
     },
     "metadata": {},
     "output_type": "display_data"
    }
   ],
   "source": [
    "pain$MEDICAID_BIN[pain$MEDICAID_BIN == \"no\"] <- \"No Medicaid\"\n",
    "pain$MEDICAID_BIN[pain$MEDICAID_BIN == \"yes\"] <- \"Medicaid\"\n",
    "table(pain$MEDICAID_BIN)"
   ]
  },
  {
   "cell_type": "markdown",
   "id": "f7d7c981",
   "metadata": {},
   "source": [
    "Additionally, we could subset the data to only those who have follow-up. The not operator `!` will reverse the TRUE/FALSE values returned from the `is.na()` function. Therefore, the new value will be TRUE if the follow-up value is *not* NA."
   ]
  },
  {
   "cell_type": "code",
   "execution_count": 49,
   "id": "fe0cc0be",
   "metadata": {},
   "outputs": [],
   "source": [
    "pain_follow_up <- pain[!is.na(pain$PAIN_INTENSITY_AVERAGE.FOLLOW_UP),]"
   ]
  },
  {
   "cell_type": "markdown",
   "id": "3526e265",
   "metadata": {},
   "source": [
    "Earlier, we created a column indicating whether or not a patient has lower back pain. We now use the `any()` function to check whether a patient has general back pain. If at least one of these values is equal to 1, then the function will return TRUE. If we had used the `all()` function instead, this would check whether all values are equal to 1, indicating that a patient has pain on their whole back. "
   ]
  },
  {
   "cell_type": "code",
   "execution_count": 50,
   "id": "5da0bee4",
   "metadata": {},
   "outputs": [],
   "source": [
    "pain$BACK <- any(pain$X208==1, pain$X209==1, pain$X212==1, pain$X213==1, \n",
    "                 pain$X218==1, pain$X219==1)"
   ]
  },
  {
   "cell_type": "markdown",
   "id": "1b779697",
   "metadata": {},
   "source": [
    "Lastly, we look at the column for patient race `PAT_RACE`. The `table()` function shows that most patients are `WHITE` or `BLACK`. Given how few observations are in the other categories, we may want to combine some of these levels into one. "
   ]
  },
  {
   "cell_type": "code",
   "execution_count": 51,
   "id": "5dc8cb76",
   "metadata": {},
   "outputs": [
    {
     "data": {
      "text/plain": [
       "\n",
       "         ALASKA NATIVE        AMERICAN INDIAN                  BLACK \n",
       "                     2                     58                   3229 \n",
       "               CHINESE               DECLINED               FILIPINO \n",
       "                    21                    121                      6 \n",
       "         GUAM/CHAMORRO               HAWAIIAN         INDIAN (ASIAN) \n",
       "                     1                      1                     49 \n",
       "              JAPANESE                 KOREAN          NOT SPECIFIED \n",
       "                     9                     10                      4 \n",
       "                 OTHER            OTHER ASIAN OTHER PACIFIC ISLANDER \n",
       "                     1                     47                     12 \n",
       "            VIETNAMESE                  WHITE \n",
       "                     6                  17940 "
      ]
     },
     "metadata": {},
     "output_type": "display_data"
    }
   ],
   "source": [
    "table(pain$PAT_RACE)"
   ]
  },
  {
   "cell_type": "markdown",
   "id": "5cd1663e",
   "metadata": {},
   "source": [
    "To combine some of these levels, we can use the `%in%` operator. We first create an Asian, Asian American, or Pacific Islander race category and then create an American Indian or Alaska Native category."
   ]
  },
  {
   "cell_type": "code",
   "execution_count": 52,
   "id": "eb3164df",
   "metadata": {},
   "outputs": [
    {
     "data": {
      "text/plain": [
       "\n",
       "         AAPI         AI/AN         BLACK      DECLINED NOT SPECIFIED \n",
       "          162            60          3229           121             4 \n",
       "        OTHER         WHITE \n",
       "            1         17940 "
      ]
     },
     "metadata": {},
     "output_type": "display_data"
    }
   ],
   "source": [
    "aapi_values <- c(\"CHINESE\", \"HAWAIIAN\", \"INDIAN (ASIAN)\", \"FILIPINO\", \"VIETNAMESE\", \n",
    "                 \"JAPANESE\", \"KOREAN\", \"GUAM/CHAMORRO\", \"OTHER ASIAN\", \n",
    "                 \"OTHER PACIFIC ISLANDER\")\n",
    "pain$PAT_RACE[pain$PAT_RACE %in% aapi_values] <- \"AAPI\"\n",
    "pain$PAT_RACE[pain$PAT_RACE %in% c(\"ALASKA NATIVE\", \"AMERICAN INDIAN\")] <- \"AI/AN\"\n",
    "table(pain$PAT_RACE)"
   ]
  },
  {
   "cell_type": "markdown",
   "id": "9e8d8769",
   "metadata": {},
   "source": [
    "### Other Selection Functions\n",
    "\n",
    "Above, we selected rows using TRUE/FALSE boolean values. Instead, we could have also used the `which()` function. This function takes TRUE/FALSE values and returns the index values for all the TRUE values. We use this to treat those with race given as `DECLINED` as not specified."
   ]
  },
  {
   "cell_type": "code",
   "execution_count": 53,
   "id": "ded344d5",
   "metadata": {},
   "outputs": [],
   "source": [
    "pain$PAT_RACE[which(pain$PAT_RACE == \"DECLINED\")] <- \"NOT SPECIFIED\""
   ]
  },
  {
   "cell_type": "markdown",
   "id": "0c527c67",
   "metadata": {},
   "source": [
    "Another selection function is the `subset()` function. This function takes in two arguments. The first is the vector, matrix, or data frame to select from and the second is a vector of TRUE/FALSE values to use for row selection. We use this to find the observation with race marked as `OTHER`. We then update this race to also be marked as not specified."
   ]
  },
  {
   "cell_type": "code",
   "execution_count": 54,
   "id": "1bbdcb99",
   "metadata": {},
   "outputs": [
    {
     "data": {
      "text/html": [
       "<table class=\"dataframe\">\n",
       "<caption>A tibble: 1 × 93</caption>\n",
       "<thead>\n",
       "\t<tr><th scope=col>PATIENT_NUM</th><th scope=col>X101</th><th scope=col>X102</th><th scope=col>X103</th><th scope=col>X104</th><th scope=col>X105</th><th scope=col>X106</th><th scope=col>X107</th><th scope=col>X108</th><th scope=col>X109</th><th scope=col>⋯</th><th scope=col>GH_PHYSICAL_SCORE</th><th scope=col>AGE_AT_CONTACT</th><th scope=col>BMI</th><th scope=col>CCI_TOTAL_SCORE</th><th scope=col>PAIN_INTENSITY_AVERAGE.FOLLOW_UP</th><th scope=col>PAT_SEX</th><th scope=col>PAT_RACE</th><th scope=col>CCI_BIN</th><th scope=col>MEDICAID_BIN</th><th scope=col>BACK</th></tr>\n",
       "\t<tr><th scope=col>&lt;dbl&gt;</th><th scope=col>&lt;dbl&gt;</th><th scope=col>&lt;dbl&gt;</th><th scope=col>&lt;dbl&gt;</th><th scope=col>&lt;dbl&gt;</th><th scope=col>&lt;dbl&gt;</th><th scope=col>&lt;dbl&gt;</th><th scope=col>&lt;dbl&gt;</th><th scope=col>&lt;dbl&gt;</th><th scope=col>&lt;dbl&gt;</th><th scope=col>⋯</th><th scope=col>&lt;dbl&gt;</th><th scope=col>&lt;dbl&gt;</th><th scope=col>&lt;dbl&gt;</th><th scope=col>&lt;dbl&gt;</th><th scope=col>&lt;dbl&gt;</th><th scope=col>&lt;chr&gt;</th><th scope=col>&lt;chr&gt;</th><th scope=col>&lt;chr&gt;</th><th scope=col>&lt;chr&gt;</th><th scope=col>&lt;lgl&gt;</th></tr>\n",
       "</thead>\n",
       "<tbody>\n",
       "\t<tr><td>3588</td><td>1</td><td>1</td><td>1</td><td>0</td><td>1</td><td>1</td><td>1</td><td>0</td><td>0</td><td>⋯</td><td>47.7</td><td>63</td><td>NA</td><td>0</td><td>NA</td><td>female</td><td>OTHER</td><td>No comorbidity</td><td>Medicaid</td><td>TRUE</td></tr>\n",
       "</tbody>\n",
       "</table>\n"
      ],
      "text/latex": [
       "A tibble: 1 × 93\n",
       "\\begin{tabular}{lllllllllllllllllllll}\n",
       " PATIENT\\_NUM & X101 & X102 & X103 & X104 & X105 & X106 & X107 & X108 & X109 & ⋯ & GH\\_PHYSICAL\\_SCORE & AGE\\_AT\\_CONTACT & BMI & CCI\\_TOTAL\\_SCORE & PAIN\\_INTENSITY\\_AVERAGE.FOLLOW\\_UP & PAT\\_SEX & PAT\\_RACE & CCI\\_BIN & MEDICAID\\_BIN & BACK\\\\\n",
       " <dbl> & <dbl> & <dbl> & <dbl> & <dbl> & <dbl> & <dbl> & <dbl> & <dbl> & <dbl> & ⋯ & <dbl> & <dbl> & <dbl> & <dbl> & <dbl> & <chr> & <chr> & <chr> & <chr> & <lgl>\\\\\n",
       "\\hline\n",
       "\t 3588 & 1 & 1 & 1 & 0 & 1 & 1 & 1 & 0 & 0 & ⋯ & 47.7 & 63 & NA & 0 & NA & female & OTHER & No comorbidity & Medicaid & TRUE\\\\\n",
       "\\end{tabular}\n"
      ],
      "text/markdown": [
       "\n",
       "A tibble: 1 × 93\n",
       "\n",
       "| PATIENT_NUM &lt;dbl&gt; | X101 &lt;dbl&gt; | X102 &lt;dbl&gt; | X103 &lt;dbl&gt; | X104 &lt;dbl&gt; | X105 &lt;dbl&gt; | X106 &lt;dbl&gt; | X107 &lt;dbl&gt; | X108 &lt;dbl&gt; | X109 &lt;dbl&gt; | ⋯ ⋯ | GH_PHYSICAL_SCORE &lt;dbl&gt; | AGE_AT_CONTACT &lt;dbl&gt; | BMI &lt;dbl&gt; | CCI_TOTAL_SCORE &lt;dbl&gt; | PAIN_INTENSITY_AVERAGE.FOLLOW_UP &lt;dbl&gt; | PAT_SEX &lt;chr&gt; | PAT_RACE &lt;chr&gt; | CCI_BIN &lt;chr&gt; | MEDICAID_BIN &lt;chr&gt; | BACK &lt;lgl&gt; |\n",
       "|---|---|---|---|---|---|---|---|---|---|---|---|---|---|---|---|---|---|---|---|---|\n",
       "| 3588 | 1 | 1 | 1 | 0 | 1 | 1 | 1 | 0 | 0 | ⋯ | 47.7 | 63 | NA | 0 | NA | female | OTHER | No comorbidity | Medicaid | TRUE |\n",
       "\n"
      ],
      "text/plain": [
       "  PATIENT_NUM X101 X102 X103 X104 X105 X106 X107 X108 X109 ⋯ GH_PHYSICAL_SCORE\n",
       "1 3588        1    1    1    0    1    1    1    0    0    ⋯ 47.7             \n",
       "  AGE_AT_CONTACT BMI CCI_TOTAL_SCORE PAIN_INTENSITY_AVERAGE.FOLLOW_UP PAT_SEX\n",
       "1 63             NA  0               NA                               female \n",
       "  PAT_RACE CCI_BIN        MEDICAID_BIN BACK\n",
       "1 OTHER    No comorbidity Medicaid     TRUE"
      ]
     },
     "metadata": {},
     "output_type": "display_data"
    }
   ],
   "source": [
    "subset(pain, pain$PAT_RACE == \"OTHER\")"
   ]
  }
 ],
 "metadata": {
  "kernelspec": {
   "display_name": "R",
   "language": "R",
   "name": "ir"
  },
  "language_info": {
   "codemirror_mode": "r",
   "file_extension": ".r",
   "mimetype": "text/x-r-source",
   "name": "R",
   "pygments_lexer": "r",
   "version": "4.3.1"
  }
 },
 "nbformat": 4,
 "nbformat_minor": 5
}
